{
 "cells": [
  {
   "cell_type": "markdown",
   "id": "495bcdb9",
   "metadata": {},
   "source": [
    "template\n",
    "- Django가 브라우저에 보낼 문서의 형태를 미리 만들어 놓은 것\n",
    "\n",
    "HTML(Hyper Text Markup Language)\n",
    "\n",
    "태그의 종류\n",
    "- 열고 닫는 형태 : 태그 사이에 다른 태그나 내용을 넣을 수 있음\n",
    "\t- 예) <div>내용</div>\n",
    "\n",
    "- 단독 형태 : 태그 사이에 내용을 넣을 수 없음\n",
    "\t- 예) <img src=\"이미지 주소\">\n",
    "\n",
    "자주 사용하게 되는 태그\n",
    "- div 태그 : 특별한 의미를 갖지 않음. 문서의 영역을 수평으로 나눌 때 사용 (division)\n",
    "- p 태그 : 문장(paragrahp)을 나타낼 때 사용\n",
    "- img 태그 : 이미지를 첨부할 때 사용\n",
    "- ol, ul, li 태그 : 리스트(ordered list = ol, unordered list = ul)와 리스트 아이템(list item = li)"
   ]
  },
  {
   "cell_type": "markdown",
   "id": "5e0badc7",
   "metadata": {},
   "source": []
  },
  {
   "cell_type": "code",
   "execution_count": null,
   "id": "e2dd6a85",
   "metadata": {},
   "outputs": [],
   "source": []
  },
  {
   "cell_type": "code",
   "execution_count": null,
   "id": "a2a4eafe",
   "metadata": {},
   "outputs": [],
   "source": []
  },
  {
   "cell_type": "code",
   "execution_count": null,
   "id": "601e8014",
   "metadata": {},
   "outputs": [],
   "source": []
  },
  {
   "cell_type": "code",
   "execution_count": null,
   "id": "70a7958e",
   "metadata": {},
   "outputs": [],
   "source": []
  },
  {
   "cell_type": "code",
   "execution_count": null,
   "id": "690121c9",
   "metadata": {},
   "outputs": [],
   "source": []
  },
  {
   "cell_type": "code",
   "execution_count": null,
   "id": "f557ab32",
   "metadata": {},
   "outputs": [],
   "source": []
  },
  {
   "cell_type": "code",
   "execution_count": null,
   "id": "ee6158c1",
   "metadata": {},
   "outputs": [],
   "source": []
  },
  {
   "cell_type": "code",
   "execution_count": null,
   "id": "b87d0344",
   "metadata": {},
   "outputs": [],
   "source": []
  },
  {
   "cell_type": "code",
   "execution_count": null,
   "id": "3c1d86b0",
   "metadata": {},
   "outputs": [],
   "source": []
  },
  {
   "cell_type": "code",
   "execution_count": null,
   "id": "793eee18",
   "metadata": {},
   "outputs": [],
   "source": []
  },
  {
   "cell_type": "code",
   "execution_count": null,
   "id": "646f8a90",
   "metadata": {},
   "outputs": [],
   "source": []
  },
  {
   "cell_type": "code",
   "execution_count": null,
   "id": "2c498b62",
   "metadata": {},
   "outputs": [],
   "source": []
  },
  {
   "cell_type": "code",
   "execution_count": null,
   "id": "e5ada702",
   "metadata": {},
   "outputs": [],
   "source": []
  },
  {
   "cell_type": "code",
   "execution_count": null,
   "id": "25e7bbfa",
   "metadata": {},
   "outputs": [],
   "source": []
  },
  {
   "cell_type": "code",
   "execution_count": null,
   "id": "91cacee9",
   "metadata": {},
   "outputs": [],
   "source": []
  }
 ],
 "metadata": {
  "kernelspec": {
   "display_name": "Python 3 (ipykernel)",
   "language": "python",
   "name": "python3"
  },
  "language_info": {
   "codemirror_mode": {
    "name": "ipython",
    "version": 3
   },
   "file_extension": ".py",
   "mimetype": "text/x-python",
   "name": "python",
   "nbconvert_exporter": "python",
   "pygments_lexer": "ipython3",
   "version": "3.11.5"
  }
 },
 "nbformat": 4,
 "nbformat_minor": 5
}
