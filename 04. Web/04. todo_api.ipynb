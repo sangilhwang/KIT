{
 "cells": [
  {
   "cell_type": "code",
   "execution_count": null,
   "id": "cca59a43",
   "metadata": {},
   "outputs": [],
   "source": [
    "# django-admin startproject mytodo .\n",
    "\n",
    "# python manage.py startapp todo"
   ]
  },
  {
   "cell_type": "code",
   "execution_count": null,
   "id": "6ea61815",
   "metadata": {},
   "outputs": [],
   "source": [
    "# mytodo/settings.py\n",
    "\n",
    "INSTALLED_APPS = [\n",
    "    \"django.contrib.admin\",\n",
    "    \"django.contrib.auth\",\n",
    "    \"django.contrib.contenttypes\",\n",
    "    \"django.contrib.sessions\",\n",
    "    \"django.contrib.messages\",\n",
    "    \"django.contrib.staticfiles\",\n",
    "    \"rest_framework\",\n",
    "    \"todo\",\n",
    "]\n",
    "\n",
    "TIME_ZONE = \"Asia/Seoul\""
   ]
  },
  {
   "cell_type": "code",
   "execution_count": null,
   "id": "a1337cc5",
   "metadata": {},
   "outputs": [],
   "source": [
    "# python manage.py makemigrations\n",
    "# python manage.py migrate"
   ]
  },
  {
   "cell_type": "markdown",
   "id": "1e5abb70",
   "metadata": {},
   "source": [
    "- todo 전체 조회 api 만들기\n",
    "    - 전체 조회용 시리얼라이저\n",
    "        - 제목, 완료 여부, 중요 여부만 포함한 간단한 시리얼라이저\n",
    "        \n",
    "    - 뷰\n",
    "        - complete 가 False인 todo를 조회\n",
    "        - get 방식으로 요청을 처리\n",
    "        \n",
    "    - urls\n",
    "        - 127.0.0.1:8000/todo/"
   ]
  },
  {
   "cell_type": "code",
   "execution_count": null,
   "id": "ca0d486b",
   "metadata": {},
   "outputs": [],
   "source": [
    "# todo/serializers.py\n",
    "\n",
    "from rest_framework import serializers\n",
    "from todo.models import Todo\n",
    "\n",
    "class TodoSimpleSerializer(serializers.ModelSerializer):\n",
    "    class Meta:\n",
    "        model = Todo\n",
    "        fields = (\"id\", \"title\", \"complete\", \"important\")"
   ]
  },
  {
   "cell_type": "markdown",
   "id": "2523a507",
   "metadata": {},
   "source": [
    "- 상세 조회 기능 개발\n",
    "    - 시리얼라이저\n",
    "        - Todo 모델 id, 제목, 설명, 작성일자, 완료여부, 중요여부 를 포함하는 시리얼라이저\n",
    "        \n",
    "    - 뷰\n",
    "        - id를 입력받으면 해당 id의 todo 데이터를 조회\n",
    "        \n",
    "    - URL\n",
    "        - 127.0.0.1:8000/todo/<int:tid>/"
   ]
  },
  {
   "cell_type": "code",
   "execution_count": null,
   "id": "f3771099",
   "metadata": {},
   "outputs": [],
   "source": []
  },
  {
   "cell_type": "markdown",
   "id": "508359a2",
   "metadata": {},
   "source": [
    "- todo 생성 api 개발\n",
    "    - 시리얼라이저\n",
    "        - todo 생성에 필요한 입력값은 title과 description, important\n",
    "        \n",
    "    - 뷰\n",
    "        - post 요청\n",
    "        \n",
    "    - URL\n",
    "        - (post) 127.0.0.1:8000/todo/"
   ]
  },
  {
   "cell_type": "markdown",
   "id": "66ea6aa6",
   "metadata": {},
   "source": [
    "- 수정 & 완료 기능\n",
    "    - 수정 기능\n",
    "        - 시리얼라이저\n",
    "            - 입력값은 title과 description, important\n",
    "            \n",
    "        - 뷰\n",
    "            - id를 입력받고 수정할 데이터를 조회하고 조회되지 않으면 404 에러\n",
    "            - 유효성 검사 후 유효하면 데이터 수정 / 유효하지 않으면 400 에러\n",
    "\n",
    "        - urls\n",
    "            - (put) 127.0.0.1:8000:/todo/id/\n",
    "        \n",
    "    - 완료 목록 조회 기능\n",
    "        - 시리얼라이저\n",
    "            - id, title, complete, important\n",
    "            \n",
    "        - 뷰\n",
    "            - complete == True인 데이터 조회\n",
    "        \n",
    "        - urls\n",
    "            - 127.0.0.1:8000/todo/done/\n",
    "            \n",
    "    - 완료 기능\n",
    "        - 시리얼라이저\n",
    "            - id, title, description, created, complete, important\n",
    "            \n",
    "        - 뷰\n",
    "            - id를 입력받아 해당 id가 일치하는 완료할 데이터를 조회하고 조회되지 않으면 404 에러\n",
    "            - 조회된 데이터의 complete 속성 값을 True로 변환 후 저장\n",
    "        \n",
    "        - urls\n",
    "            - (get) 127.0.0.1:8000/todo/done/<id>/\n",
    "        "
   ]
  },
  {
   "cell_type": "code",
   "execution_count": null,
   "id": "b480d4e5",
   "metadata": {},
   "outputs": [],
   "source": []
  },
  {
   "cell_type": "code",
   "execution_count": null,
   "id": "dba7f9fd",
   "metadata": {},
   "outputs": [],
   "source": []
  },
  {
   "cell_type": "code",
   "execution_count": null,
   "id": "b5f9dbd0",
   "metadata": {},
   "outputs": [],
   "source": []
  },
  {
   "cell_type": "code",
   "execution_count": null,
   "id": "88415d85",
   "metadata": {},
   "outputs": [],
   "source": []
  },
  {
   "cell_type": "code",
   "execution_count": null,
   "id": "1be2bb3e",
   "metadata": {},
   "outputs": [],
   "source": []
  },
  {
   "cell_type": "code",
   "execution_count": null,
   "id": "db35d9e1",
   "metadata": {},
   "outputs": [],
   "source": []
  },
  {
   "cell_type": "code",
   "execution_count": null,
   "id": "7f682f16",
   "metadata": {},
   "outputs": [],
   "source": []
  },
  {
   "cell_type": "code",
   "execution_count": null,
   "id": "1a27dbbf",
   "metadata": {},
   "outputs": [],
   "source": []
  },
  {
   "cell_type": "code",
   "execution_count": null,
   "id": "2e1abed0",
   "metadata": {},
   "outputs": [],
   "source": []
  },
  {
   "cell_type": "code",
   "execution_count": null,
   "id": "4a2ce52e",
   "metadata": {},
   "outputs": [],
   "source": []
  },
  {
   "cell_type": "code",
   "execution_count": null,
   "id": "5aaf9dd6",
   "metadata": {},
   "outputs": [],
   "source": []
  },
  {
   "cell_type": "code",
   "execution_count": null,
   "id": "56c463eb",
   "metadata": {},
   "outputs": [],
   "source": []
  },
  {
   "cell_type": "code",
   "execution_count": null,
   "id": "fd08319d",
   "metadata": {},
   "outputs": [],
   "source": []
  },
  {
   "cell_type": "code",
   "execution_count": null,
   "id": "07693fb5",
   "metadata": {},
   "outputs": [],
   "source": []
  },
  {
   "cell_type": "code",
   "execution_count": null,
   "id": "2aae77d1",
   "metadata": {},
   "outputs": [],
   "source": []
  },
  {
   "cell_type": "code",
   "execution_count": null,
   "id": "01b290fb",
   "metadata": {},
   "outputs": [],
   "source": []
  },
  {
   "cell_type": "code",
   "execution_count": null,
   "id": "26c6d4d5",
   "metadata": {},
   "outputs": [],
   "source": []
  },
  {
   "cell_type": "code",
   "execution_count": null,
   "id": "92e592a6",
   "metadata": {},
   "outputs": [],
   "source": []
  }
 ],
 "metadata": {
  "kernelspec": {
   "display_name": "Python 3 (ipykernel)",
   "language": "python",
   "name": "python3"
  },
  "language_info": {
   "codemirror_mode": {
    "name": "ipython",
    "version": 3
   },
   "file_extension": ".py",
   "mimetype": "text/x-python",
   "name": "python",
   "nbconvert_exporter": "python",
   "pygments_lexer": "ipython3",
   "version": "3.11.5"
  }
 },
 "nbformat": 4,
 "nbformat_minor": 5
}
