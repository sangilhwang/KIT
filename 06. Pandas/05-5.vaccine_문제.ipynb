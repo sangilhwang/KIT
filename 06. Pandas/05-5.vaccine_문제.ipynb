{
 "cells": [
  {
   "cell_type": "code",
   "execution_count": 1,
   "id": "d9a782e6",
   "metadata": {},
   "outputs": [],
   "source": [
    "import pandas as pd"
   ]
  },
  {
   "cell_type": "markdown",
   "id": "9a7c72a9",
   "metadata": {},
   "source": [
    "# 문제1. vaccine.csv 데이터를 데이터프레임으로 읽기"
   ]
  },
  {
   "cell_type": "code",
   "execution_count": 2,
   "id": "38d4594d",
   "metadata": {},
   "outputs": [],
   "source": [
    "df = pd.read_csv(\"./data/vaccine.csv\")"
   ]
  },
  {
   "cell_type": "code",
   "execution_count": 3,
   "id": "1accf325",
   "metadata": {},
   "outputs": [
    {
     "data": {
      "text/html": [
       "<div>\n",
       "<style scoped>\n",
       "    .dataframe tbody tr th:only-of-type {\n",
       "        vertical-align: middle;\n",
       "    }\n",
       "\n",
       "    .dataframe tbody tr th {\n",
       "        vertical-align: top;\n",
       "    }\n",
       "\n",
       "    .dataframe thead th {\n",
       "        text-align: right;\n",
       "    }\n",
       "</style>\n",
       "<table border=\"1\" class=\"dataframe\">\n",
       "  <thead>\n",
       "    <tr style=\"text-align: right;\">\n",
       "      <th></th>\n",
       "      <th>date</th>\n",
       "      <th>subject</th>\n",
       "      <th>day1num</th>\n",
       "      <th>day1sum</th>\n",
       "      <th>day1rate</th>\n",
       "      <th>day2num</th>\n",
       "      <th>day2sum</th>\n",
       "      <th>day2rate</th>\n",
       "    </tr>\n",
       "  </thead>\n",
       "  <tbody>\n",
       "    <tr>\n",
       "      <th>0</th>\n",
       "      <td>2021.10.16</td>\n",
       "      <td>9505868</td>\n",
       "      <td>10673</td>\n",
       "      <td>7562283</td>\n",
       "      <td>79.6</td>\n",
       "      <td>66910</td>\n",
       "      <td>6191341</td>\n",
       "      <td>65.1</td>\n",
       "    </tr>\n",
       "    <tr>\n",
       "      <th>1</th>\n",
       "      <td>2021.10.15</td>\n",
       "      <td>9505868</td>\n",
       "      <td>14556</td>\n",
       "      <td>7551829</td>\n",
       "      <td>79.4</td>\n",
       "      <td>133580</td>\n",
       "      <td>6124432</td>\n",
       "      <td>64.4</td>\n",
       "    </tr>\n",
       "    <tr>\n",
       "      <th>2</th>\n",
       "      <td>2021.10.14</td>\n",
       "      <td>9505868</td>\n",
       "      <td>9609</td>\n",
       "      <td>7536654</td>\n",
       "      <td>79.3</td>\n",
       "      <td>94569</td>\n",
       "      <td>5989111</td>\n",
       "      <td>63.0</td>\n",
       "    </tr>\n",
       "    <tr>\n",
       "      <th>3</th>\n",
       "      <td>2021.10.13</td>\n",
       "      <td>9505868</td>\n",
       "      <td>9804</td>\n",
       "      <td>7526430</td>\n",
       "      <td>79.2</td>\n",
       "      <td>77503</td>\n",
       "      <td>5893191</td>\n",
       "      <td>62.0</td>\n",
       "    </tr>\n",
       "    <tr>\n",
       "      <th>4</th>\n",
       "      <td>2021.10.12</td>\n",
       "      <td>9505868</td>\n",
       "      <td>17274</td>\n",
       "      <td>7516070</td>\n",
       "      <td>79.1</td>\n",
       "      <td>110204</td>\n",
       "      <td>5814018</td>\n",
       "      <td>61.2</td>\n",
       "    </tr>\n",
       "  </tbody>\n",
       "</table>\n",
       "</div>"
      ],
      "text/plain": [
       "         date  subject  day1num  day1sum  day1rate  day2num  day2sum  day2rate\n",
       "0  2021.10.16  9505868    10673  7562283      79.6    66910  6191341      65.1\n",
       "1  2021.10.15  9505868    14556  7551829      79.4   133580  6124432      64.4\n",
       "2  2021.10.14  9505868     9609  7536654      79.3    94569  5989111      63.0\n",
       "3  2021.10.13  9505868     9804  7526430      79.2    77503  5893191      62.0\n",
       "4  2021.10.12  9505868    17274  7516070      79.1   110204  5814018      61.2"
      ]
     },
     "execution_count": 3,
     "metadata": {},
     "output_type": "execute_result"
    }
   ],
   "source": [
    "df.head()"
   ]
  },
  {
   "cell_type": "markdown",
   "id": "fad5290a",
   "metadata": {},
   "source": [
    "# 문제2. 데이터프레임에서 필요 없는 열을 삭제하기\n",
    "\n",
    "- 삭제할 열 : day1sum, day1rate, day2sum, day2rate"
   ]
  },
  {
   "cell_type": "code",
   "execution_count": 4,
   "id": "14f24ff7",
   "metadata": {},
   "outputs": [],
   "source": [
    "df.drop([\"day1sum\", \"day1rate\", \"day2sum\", \"day2rate\"], axis = 1, inplace = True)"
   ]
  },
  {
   "cell_type": "code",
   "execution_count": 5,
   "id": "bec0041a",
   "metadata": {},
   "outputs": [
    {
     "data": {
      "text/html": [
       "<div>\n",
       "<style scoped>\n",
       "    .dataframe tbody tr th:only-of-type {\n",
       "        vertical-align: middle;\n",
       "    }\n",
       "\n",
       "    .dataframe tbody tr th {\n",
       "        vertical-align: top;\n",
       "    }\n",
       "\n",
       "    .dataframe thead th {\n",
       "        text-align: right;\n",
       "    }\n",
       "</style>\n",
       "<table border=\"1\" class=\"dataframe\">\n",
       "  <thead>\n",
       "    <tr style=\"text-align: right;\">\n",
       "      <th></th>\n",
       "      <th>date</th>\n",
       "      <th>subject</th>\n",
       "      <th>day1num</th>\n",
       "      <th>day2num</th>\n",
       "    </tr>\n",
       "  </thead>\n",
       "  <tbody>\n",
       "    <tr>\n",
       "      <th>0</th>\n",
       "      <td>2021.10.16</td>\n",
       "      <td>9505868</td>\n",
       "      <td>10673</td>\n",
       "      <td>66910</td>\n",
       "    </tr>\n",
       "    <tr>\n",
       "      <th>1</th>\n",
       "      <td>2021.10.15</td>\n",
       "      <td>9505868</td>\n",
       "      <td>14556</td>\n",
       "      <td>133580</td>\n",
       "    </tr>\n",
       "    <tr>\n",
       "      <th>2</th>\n",
       "      <td>2021.10.14</td>\n",
       "      <td>9505868</td>\n",
       "      <td>9609</td>\n",
       "      <td>94569</td>\n",
       "    </tr>\n",
       "    <tr>\n",
       "      <th>3</th>\n",
       "      <td>2021.10.13</td>\n",
       "      <td>9505868</td>\n",
       "      <td>9804</td>\n",
       "      <td>77503</td>\n",
       "    </tr>\n",
       "    <tr>\n",
       "      <th>4</th>\n",
       "      <td>2021.10.12</td>\n",
       "      <td>9505868</td>\n",
       "      <td>17274</td>\n",
       "      <td>110204</td>\n",
       "    </tr>\n",
       "  </tbody>\n",
       "</table>\n",
       "</div>"
      ],
      "text/plain": [
       "         date  subject  day1num  day2num\n",
       "0  2021.10.16  9505868    10673    66910\n",
       "1  2021.10.15  9505868    14556   133580\n",
       "2  2021.10.14  9505868     9609    94569\n",
       "3  2021.10.13  9505868     9804    77503\n",
       "4  2021.10.12  9505868    17274   110204"
      ]
     },
     "execution_count": 5,
     "metadata": {},
     "output_type": "execute_result"
    }
   ],
   "source": [
    "df.head()"
   ]
  },
  {
   "cell_type": "markdown",
   "id": "2ba55f5f",
   "metadata": {},
   "source": [
    "# 문제3. 데이터프레임의 기초통계량을 확인하기"
   ]
  },
  {
   "cell_type": "code",
   "execution_count": 6,
   "id": "1871eeb9",
   "metadata": {},
   "outputs": [
    {
     "data": {
      "text/html": [
       "<div>\n",
       "<style scoped>\n",
       "    .dataframe tbody tr th:only-of-type {\n",
       "        vertical-align: middle;\n",
       "    }\n",
       "\n",
       "    .dataframe tbody tr th {\n",
       "        vertical-align: top;\n",
       "    }\n",
       "\n",
       "    .dataframe thead th {\n",
       "        text-align: right;\n",
       "    }\n",
       "</style>\n",
       "<table border=\"1\" class=\"dataframe\">\n",
       "  <thead>\n",
       "    <tr style=\"text-align: right;\">\n",
       "      <th></th>\n",
       "      <th>subject</th>\n",
       "      <th>day1num</th>\n",
       "      <th>day2num</th>\n",
       "    </tr>\n",
       "  </thead>\n",
       "  <tbody>\n",
       "    <tr>\n",
       "      <th>count</th>\n",
       "      <td>1.790000e+02</td>\n",
       "      <td>179.000000</td>\n",
       "      <td>179.000000</td>\n",
       "    </tr>\n",
       "    <tr>\n",
       "      <th>mean</th>\n",
       "      <td>5.086644e+06</td>\n",
       "      <td>40078.150838</td>\n",
       "      <td>34096.636872</td>\n",
       "    </tr>\n",
       "    <tr>\n",
       "      <th>std</th>\n",
       "      <td>3.324235e+06</td>\n",
       "      <td>44231.469656</td>\n",
       "      <td>40745.688278</td>\n",
       "    </tr>\n",
       "    <tr>\n",
       "      <th>min</th>\n",
       "      <td>1.019322e+06</td>\n",
       "      <td>0.000000</td>\n",
       "      <td>0.000000</td>\n",
       "    </tr>\n",
       "    <tr>\n",
       "      <th>25%</th>\n",
       "      <td>2.279241e+06</td>\n",
       "      <td>4385.000000</td>\n",
       "      <td>4794.500000</td>\n",
       "    </tr>\n",
       "    <tr>\n",
       "      <th>50%</th>\n",
       "      <td>3.943320e+06</td>\n",
       "      <td>23323.000000</td>\n",
       "      <td>16581.000000</td>\n",
       "    </tr>\n",
       "    <tr>\n",
       "      <th>75%</th>\n",
       "      <td>9.505868e+06</td>\n",
       "      <td>71634.500000</td>\n",
       "      <td>50950.000000</td>\n",
       "    </tr>\n",
       "    <tr>\n",
       "      <th>max</th>\n",
       "      <td>9.795426e+06</td>\n",
       "      <td>169036.000000</td>\n",
       "      <td>200186.000000</td>\n",
       "    </tr>\n",
       "  </tbody>\n",
       "</table>\n",
       "</div>"
      ],
      "text/plain": [
       "            subject        day1num        day2num\n",
       "count  1.790000e+02     179.000000     179.000000\n",
       "mean   5.086644e+06   40078.150838   34096.636872\n",
       "std    3.324235e+06   44231.469656   40745.688278\n",
       "min    1.019322e+06       0.000000       0.000000\n",
       "25%    2.279241e+06    4385.000000    4794.500000\n",
       "50%    3.943320e+06   23323.000000   16581.000000\n",
       "75%    9.505868e+06   71634.500000   50950.000000\n",
       "max    9.795426e+06  169036.000000  200186.000000"
      ]
     },
     "execution_count": 6,
     "metadata": {},
     "output_type": "execute_result"
    }
   ],
   "source": [
    "df.describe()"
   ]
  },
  {
   "cell_type": "code",
   "execution_count": 7,
   "id": "b35fc355",
   "metadata": {},
   "outputs": [
    {
     "data": {
      "text/plain": [
       "date       object\n",
       "subject     int64\n",
       "day1num     int64\n",
       "day2num     int64\n",
       "dtype: object"
      ]
     },
     "execution_count": 7,
     "metadata": {},
     "output_type": "execute_result"
    }
   ],
   "source": [
    "df.dtypes"
   ]
  },
  {
   "cell_type": "markdown",
   "id": "5195d229",
   "metadata": {},
   "source": [
    "# 문제4. day1num과 day2num의 월별 평균을 출력하기"
   ]
  },
  {
   "cell_type": "code",
   "execution_count": 8,
   "id": "76c01471",
   "metadata": {},
   "outputs": [],
   "source": [
    "grouped_month = df.groupby(df[\"date\"].str[:7])"
   ]
  },
  {
   "cell_type": "code",
   "execution_count": 9,
   "id": "ea2c89b8",
   "metadata": {},
   "outputs": [
    {
     "data": {
      "text/html": [
       "<div>\n",
       "<style scoped>\n",
       "    .dataframe tbody tr th:only-of-type {\n",
       "        vertical-align: middle;\n",
       "    }\n",
       "\n",
       "    .dataframe tbody tr th {\n",
       "        vertical-align: top;\n",
       "    }\n",
       "\n",
       "    .dataframe thead th {\n",
       "        text-align: right;\n",
       "    }\n",
       "</style>\n",
       "<table border=\"1\" class=\"dataframe\">\n",
       "  <thead>\n",
       "    <tr style=\"text-align: right;\">\n",
       "      <th></th>\n",
       "      <th>day1num</th>\n",
       "      <th>day2num</th>\n",
       "    </tr>\n",
       "    <tr>\n",
       "      <th>date</th>\n",
       "      <th></th>\n",
       "      <th></th>\n",
       "    </tr>\n",
       "  </thead>\n",
       "  <tbody>\n",
       "    <tr>\n",
       "      <th>2021.04</th>\n",
       "      <td>22060.100000</td>\n",
       "      <td>2304.600000</td>\n",
       "    </tr>\n",
       "    <tr>\n",
       "      <th>2021.05</th>\n",
       "      <td>18225.548387</td>\n",
       "      <td>9734.000000</td>\n",
       "    </tr>\n",
       "    <tr>\n",
       "      <th>2021.06</th>\n",
       "      <td>55957.200000</td>\n",
       "      <td>20147.300000</td>\n",
       "    </tr>\n",
       "    <tr>\n",
       "      <th>2021.07</th>\n",
       "      <td>25807.870968</td>\n",
       "      <td>9934.903226</td>\n",
       "    </tr>\n",
       "    <tr>\n",
       "      <th>2021.08</th>\n",
       "      <td>57667.258065</td>\n",
       "      <td>55575.000000</td>\n",
       "    </tr>\n",
       "    <tr>\n",
       "      <th>2021.09</th>\n",
       "      <td>65715.000000</td>\n",
       "      <td>62162.000000</td>\n",
       "    </tr>\n",
       "    <tr>\n",
       "      <th>2021.10</th>\n",
       "      <td>9406.312500</td>\n",
       "      <td>79900.750000</td>\n",
       "    </tr>\n",
       "  </tbody>\n",
       "</table>\n",
       "</div>"
      ],
      "text/plain": [
       "              day1num       day2num\n",
       "date                               \n",
       "2021.04  22060.100000   2304.600000\n",
       "2021.05  18225.548387   9734.000000\n",
       "2021.06  55957.200000  20147.300000\n",
       "2021.07  25807.870968   9934.903226\n",
       "2021.08  57667.258065  55575.000000\n",
       "2021.09  65715.000000  62162.000000\n",
       "2021.10   9406.312500  79900.750000"
      ]
     },
     "execution_count": 9,
     "metadata": {},
     "output_type": "execute_result"
    }
   ],
   "source": [
    "grouped_month[[\"day1num\", \"day2num\"]].mean()"
   ]
  },
  {
   "cell_type": "code",
   "execution_count": 11,
   "id": "7a246fc8",
   "metadata": {},
   "outputs": [],
   "source": [
    "# datetime 활용\n",
    "df[\"date\"] = pd.to_datetime(df[\"date\"], format = \"%Y.%m.%d\")"
   ]
  },
  {
   "cell_type": "code",
   "execution_count": 12,
   "id": "0bd96d70",
   "metadata": {},
   "outputs": [
    {
     "data": {
      "text/plain": [
       "date       datetime64[ns]\n",
       "subject             int64\n",
       "day1num             int64\n",
       "day2num             int64\n",
       "dtype: object"
      ]
     },
     "execution_count": 12,
     "metadata": {},
     "output_type": "execute_result"
    }
   ],
   "source": [
    "df.dtypes"
   ]
  },
  {
   "cell_type": "code",
   "execution_count": 14,
   "id": "9cc4075b",
   "metadata": {},
   "outputs": [],
   "source": [
    "df[\"month\"] = df[\"date\"].map(lambda x: x.month)"
   ]
  },
  {
   "cell_type": "code",
   "execution_count": 15,
   "id": "43ad2a7d",
   "metadata": {},
   "outputs": [
    {
     "data": {
      "text/html": [
       "<div>\n",
       "<style scoped>\n",
       "    .dataframe tbody tr th:only-of-type {\n",
       "        vertical-align: middle;\n",
       "    }\n",
       "\n",
       "    .dataframe tbody tr th {\n",
       "        vertical-align: top;\n",
       "    }\n",
       "\n",
       "    .dataframe thead th {\n",
       "        text-align: right;\n",
       "    }\n",
       "</style>\n",
       "<table border=\"1\" class=\"dataframe\">\n",
       "  <thead>\n",
       "    <tr style=\"text-align: right;\">\n",
       "      <th></th>\n",
       "      <th>date</th>\n",
       "      <th>subject</th>\n",
       "      <th>day1num</th>\n",
       "      <th>day2num</th>\n",
       "      <th>month</th>\n",
       "    </tr>\n",
       "  </thead>\n",
       "  <tbody>\n",
       "    <tr>\n",
       "      <th>0</th>\n",
       "      <td>2021-10-16</td>\n",
       "      <td>9505868</td>\n",
       "      <td>10673</td>\n",
       "      <td>66910</td>\n",
       "      <td>10</td>\n",
       "    </tr>\n",
       "    <tr>\n",
       "      <th>1</th>\n",
       "      <td>2021-10-15</td>\n",
       "      <td>9505868</td>\n",
       "      <td>14556</td>\n",
       "      <td>133580</td>\n",
       "      <td>10</td>\n",
       "    </tr>\n",
       "    <tr>\n",
       "      <th>2</th>\n",
       "      <td>2021-10-14</td>\n",
       "      <td>9505868</td>\n",
       "      <td>9609</td>\n",
       "      <td>94569</td>\n",
       "      <td>10</td>\n",
       "    </tr>\n",
       "    <tr>\n",
       "      <th>3</th>\n",
       "      <td>2021-10-13</td>\n",
       "      <td>9505868</td>\n",
       "      <td>9804</td>\n",
       "      <td>77503</td>\n",
       "      <td>10</td>\n",
       "    </tr>\n",
       "    <tr>\n",
       "      <th>4</th>\n",
       "      <td>2021-10-12</td>\n",
       "      <td>9505868</td>\n",
       "      <td>17274</td>\n",
       "      <td>110204</td>\n",
       "      <td>10</td>\n",
       "    </tr>\n",
       "  </tbody>\n",
       "</table>\n",
       "</div>"
      ],
      "text/plain": [
       "        date  subject  day1num  day2num  month\n",
       "0 2021-10-16  9505868    10673    66910     10\n",
       "1 2021-10-15  9505868    14556   133580     10\n",
       "2 2021-10-14  9505868     9609    94569     10\n",
       "3 2021-10-13  9505868     9804    77503     10\n",
       "4 2021-10-12  9505868    17274   110204     10"
      ]
     },
     "execution_count": 15,
     "metadata": {},
     "output_type": "execute_result"
    }
   ],
   "source": [
    "df.head()"
   ]
  },
  {
   "cell_type": "code",
   "execution_count": null,
   "id": "80341c3a",
   "metadata": {},
   "outputs": [],
   "source": []
  },
  {
   "cell_type": "code",
   "execution_count": null,
   "id": "eff972ab",
   "metadata": {},
   "outputs": [],
   "source": []
  },
  {
   "cell_type": "code",
   "execution_count": null,
   "id": "cc72c035",
   "metadata": {},
   "outputs": [],
   "source": []
  },
  {
   "cell_type": "code",
   "execution_count": null,
   "id": "a8121659",
   "metadata": {},
   "outputs": [],
   "source": []
  },
  {
   "cell_type": "code",
   "execution_count": null,
   "id": "0bd12df7",
   "metadata": {},
   "outputs": [],
   "source": []
  },
  {
   "cell_type": "code",
   "execution_count": null,
   "id": "fec05f55",
   "metadata": {},
   "outputs": [],
   "source": []
  },
  {
   "cell_type": "code",
   "execution_count": null,
   "id": "eb6a7940",
   "metadata": {},
   "outputs": [],
   "source": []
  },
  {
   "cell_type": "code",
   "execution_count": null,
   "id": "e865324f",
   "metadata": {},
   "outputs": [],
   "source": []
  },
  {
   "cell_type": "code",
   "execution_count": null,
   "id": "2638cab5",
   "metadata": {},
   "outputs": [],
   "source": []
  },
  {
   "cell_type": "code",
   "execution_count": null,
   "id": "f231e4ab",
   "metadata": {},
   "outputs": [],
   "source": []
  }
 ],
 "metadata": {
  "kernelspec": {
   "display_name": "Python 3 (ipykernel)",
   "language": "python",
   "name": "python3"
  },
  "language_info": {
   "codemirror_mode": {
    "name": "ipython",
    "version": 3
   },
   "file_extension": ".py",
   "mimetype": "text/x-python",
   "name": "python",
   "nbconvert_exporter": "python",
   "pygments_lexer": "ipython3",
   "version": "3.11.5"
  }
 },
 "nbformat": 4,
 "nbformat_minor": 5
}
