{
 "cells": [
  {
   "cell_type": "code",
   "execution_count": 1,
   "id": "8e6370d8",
   "metadata": {},
   "outputs": [],
   "source": [
    "import pandas as pd"
   ]
  },
  {
   "cell_type": "markdown",
   "id": "2b220d32",
   "metadata": {},
   "source": [
    "# 문제1. user_id를 인덱스로 사용한 데이터프레임 읽기"
   ]
  },
  {
   "cell_type": "code",
   "execution_count": 139,
   "id": "58505bcc",
   "metadata": {},
   "outputs": [
    {
     "data": {
      "text/html": [
       "<div>\n",
       "<style scoped>\n",
       "    .dataframe tbody tr th:only-of-type {\n",
       "        vertical-align: middle;\n",
       "    }\n",
       "\n",
       "    .dataframe tbody tr th {\n",
       "        vertical-align: top;\n",
       "    }\n",
       "\n",
       "    .dataframe thead th {\n",
       "        text-align: right;\n",
       "    }\n",
       "</style>\n",
       "<table border=\"1\" class=\"dataframe\">\n",
       "  <thead>\n",
       "    <tr style=\"text-align: right;\">\n",
       "      <th></th>\n",
       "      <th>age</th>\n",
       "      <th>gender</th>\n",
       "      <th>occupation</th>\n",
       "      <th>zip_code</th>\n",
       "    </tr>\n",
       "    <tr>\n",
       "      <th>user_id</th>\n",
       "      <th></th>\n",
       "      <th></th>\n",
       "      <th></th>\n",
       "      <th></th>\n",
       "    </tr>\n",
       "  </thead>\n",
       "  <tbody>\n",
       "    <tr>\n",
       "      <th>1</th>\n",
       "      <td>24</td>\n",
       "      <td>M</td>\n",
       "      <td>technician</td>\n",
       "      <td>85711</td>\n",
       "    </tr>\n",
       "    <tr>\n",
       "      <th>2</th>\n",
       "      <td>53</td>\n",
       "      <td>F</td>\n",
       "      <td>other</td>\n",
       "      <td>94043</td>\n",
       "    </tr>\n",
       "    <tr>\n",
       "      <th>3</th>\n",
       "      <td>23</td>\n",
       "      <td>M</td>\n",
       "      <td>writer</td>\n",
       "      <td>32067</td>\n",
       "    </tr>\n",
       "    <tr>\n",
       "      <th>4</th>\n",
       "      <td>24</td>\n",
       "      <td>M</td>\n",
       "      <td>technician</td>\n",
       "      <td>43537</td>\n",
       "    </tr>\n",
       "    <tr>\n",
       "      <th>5</th>\n",
       "      <td>33</td>\n",
       "      <td>F</td>\n",
       "      <td>other</td>\n",
       "      <td>15213</td>\n",
       "    </tr>\n",
       "  </tbody>\n",
       "</table>\n",
       "</div>"
      ],
      "text/plain": [
       "         age gender  occupation zip_code\n",
       "user_id                                 \n",
       "1         24      M  technician    85711\n",
       "2         53      F       other    94043\n",
       "3         23      M      writer    32067\n",
       "4         24      M  technician    43537\n",
       "5         33      F       other    15213"
      ]
     },
     "execution_count": 139,
     "metadata": {},
     "output_type": "execute_result"
    }
   ],
   "source": [
    "df = pd.read_csv(\"./data/occupation.tsv\", sep = \"|\", index_col = \"user_id\")\n",
    "df.head()"
   ]
  },
  {
   "cell_type": "code",
   "execution_count": null,
   "id": "9e328922",
   "metadata": {},
   "outputs": [],
   "source": []
  },
  {
   "cell_type": "markdown",
   "id": "70e4e434",
   "metadata": {},
   "source": [
    "# 문제2. 각 occupation별 age의 평균 구하기"
   ]
  },
  {
   "cell_type": "code",
   "execution_count": 132,
   "id": "2a98297c",
   "metadata": {},
   "outputs": [],
   "source": [
    "occupation_group = df.groupby(\"occupation\")"
   ]
  },
  {
   "cell_type": "code",
   "execution_count": 98,
   "id": "a7f33882",
   "metadata": {},
   "outputs": [
    {
     "data": {
      "text/plain": [
       "occupation\n",
       "administrator    38.746835\n",
       "artist           31.392857\n",
       "doctor           43.571429\n",
       "educator         42.010526\n",
       "engineer         36.388060\n",
       "entertainment    29.222222\n",
       "executive        38.718750\n",
       "healthcare       41.562500\n",
       "homemaker        32.571429\n",
       "lawyer           36.750000\n",
       "librarian        40.000000\n",
       "marketing        37.615385\n",
       "none             26.555556\n",
       "other            34.523810\n",
       "programmer       33.121212\n",
       "retired          63.071429\n",
       "salesman         35.666667\n",
       "scientist        35.548387\n",
       "student          22.081633\n",
       "technician       33.148148\n",
       "writer           36.311111\n",
       "Name: age, dtype: float64"
      ]
     },
     "execution_count": 98,
     "metadata": {},
     "output_type": "execute_result"
    }
   ],
   "source": [
    "occupation_group[\"age\"].mean()"
   ]
  },
  {
   "cell_type": "markdown",
   "id": "d3c33cef",
   "metadata": {},
   "source": [
    "# 문제3. 각 occupation 별 남자의 비율 구하기\n",
    "- 단, 남자 비율의 내림차순으로 정렬하여 출력하기"
   ]
  },
  {
   "cell_type": "code",
   "execution_count": 140,
   "id": "5d5d21dd",
   "metadata": {},
   "outputs": [],
   "source": [
    "def gender_int(x):\n",
    "    if x == \"M\":\n",
    "        return 1\n",
    "    \n",
    "    return 0"
   ]
  },
  {
   "cell_type": "code",
   "execution_count": 141,
   "id": "aa114082",
   "metadata": {},
   "outputs": [],
   "source": [
    "df[\"gender\"] = df[\"gender\"].map(gender_int)"
   ]
  },
  {
   "cell_type": "code",
   "execution_count": 133,
   "id": "38d47874",
   "metadata": {},
   "outputs": [],
   "source": [
    "df[\"gender\"] = df[\"gender\"].map(lambda x: 1 if x == \"M\" else 0)"
   ]
  },
  {
   "cell_type": "code",
   "execution_count": null,
   "id": "4327857a",
   "metadata": {},
   "outputs": [],
   "source": []
  },
  {
   "cell_type": "code",
   "execution_count": 100,
   "id": "44091965",
   "metadata": {},
   "outputs": [
    {
     "data": {
      "text/plain": [
       "age            int64\n",
       "gender         int32\n",
       "occupation    object\n",
       "zip_code      object\n",
       "dtype: object"
      ]
     },
     "execution_count": 100,
     "metadata": {},
     "output_type": "execute_result"
    }
   ],
   "source": [
    "df[\"gender\"] = df[\"gender\"].str.replace(\"M\", 1)\n",
    "df[\"gender\"] = df[\"gender\"].str.replace(\"F\", 0)\n",
    "df.dtypes"
   ]
  },
  {
   "cell_type": "code",
   "execution_count": null,
   "id": "fda123fe",
   "metadata": {},
   "outputs": [],
   "source": []
  },
  {
   "cell_type": "code",
   "execution_count": 135,
   "id": "e8a61a19",
   "metadata": {},
   "outputs": [
    {
     "data": {
      "text/html": [
       "<div>\n",
       "<style scoped>\n",
       "    .dataframe tbody tr th:only-of-type {\n",
       "        vertical-align: middle;\n",
       "    }\n",
       "\n",
       "    .dataframe tbody tr th {\n",
       "        vertical-align: top;\n",
       "    }\n",
       "\n",
       "    .dataframe thead th {\n",
       "        text-align: right;\n",
       "    }\n",
       "</style>\n",
       "<table border=\"1\" class=\"dataframe\">\n",
       "  <thead>\n",
       "    <tr style=\"text-align: right;\">\n",
       "      <th></th>\n",
       "      <th>age</th>\n",
       "      <th>gender</th>\n",
       "      <th>occupation</th>\n",
       "      <th>zip_code</th>\n",
       "    </tr>\n",
       "    <tr>\n",
       "      <th>user_id</th>\n",
       "      <th></th>\n",
       "      <th></th>\n",
       "      <th></th>\n",
       "      <th></th>\n",
       "    </tr>\n",
       "  </thead>\n",
       "  <tbody>\n",
       "    <tr>\n",
       "      <th>1</th>\n",
       "      <td>24</td>\n",
       "      <td>1</td>\n",
       "      <td>technician</td>\n",
       "      <td>85711</td>\n",
       "    </tr>\n",
       "    <tr>\n",
       "      <th>2</th>\n",
       "      <td>53</td>\n",
       "      <td>0</td>\n",
       "      <td>other</td>\n",
       "      <td>94043</td>\n",
       "    </tr>\n",
       "    <tr>\n",
       "      <th>3</th>\n",
       "      <td>23</td>\n",
       "      <td>1</td>\n",
       "      <td>writer</td>\n",
       "      <td>32067</td>\n",
       "    </tr>\n",
       "    <tr>\n",
       "      <th>4</th>\n",
       "      <td>24</td>\n",
       "      <td>1</td>\n",
       "      <td>technician</td>\n",
       "      <td>43537</td>\n",
       "    </tr>\n",
       "    <tr>\n",
       "      <th>5</th>\n",
       "      <td>33</td>\n",
       "      <td>0</td>\n",
       "      <td>other</td>\n",
       "      <td>15213</td>\n",
       "    </tr>\n",
       "  </tbody>\n",
       "</table>\n",
       "</div>"
      ],
      "text/plain": [
       "         age  gender  occupation zip_code\n",
       "user_id                                  \n",
       "1         24       1  technician    85711\n",
       "2         53       0       other    94043\n",
       "3         23       1      writer    32067\n",
       "4         24       1  technician    43537\n",
       "5         33       0       other    15213"
      ]
     },
     "execution_count": 135,
     "metadata": {},
     "output_type": "execute_result"
    }
   ],
   "source": [
    "df.head()"
   ]
  },
  {
   "cell_type": "code",
   "execution_count": 142,
   "id": "9a59377f",
   "metadata": {},
   "outputs": [
    {
     "data": {
      "text/plain": [
       "occupation\n",
       "doctor           1.000000\n",
       "engineer         0.970149\n",
       "technician       0.962963\n",
       "retired          0.928571\n",
       "programmer       0.909091\n",
       "executive        0.906250\n",
       "scientist        0.903226\n",
       "entertainment    0.888889\n",
       "lawyer           0.833333\n",
       "salesman         0.750000\n",
       "educator         0.726316\n",
       "student          0.693878\n",
       "other            0.657143\n",
       "marketing        0.615385\n",
       "writer           0.577778\n",
       "none             0.555556\n",
       "administrator    0.544304\n",
       "artist           0.535714\n",
       "librarian        0.431373\n",
       "healthcare       0.312500\n",
       "homemaker        0.142857\n",
       "Name: gender, dtype: float64"
      ]
     },
     "execution_count": 142,
     "metadata": {},
     "output_type": "execute_result"
    }
   ],
   "source": [
    "occupation_group[\"gender\"].mean().sort_values(ascending = False)"
   ]
  },
  {
   "cell_type": "code",
   "execution_count": null,
   "id": "32975c29",
   "metadata": {},
   "outputs": [],
   "source": []
  },
  {
   "cell_type": "code",
   "execution_count": 106,
   "id": "e236686c",
   "metadata": {},
   "outputs": [],
   "source": [
    "gender_ratio = occupation_group[\"gender\"].sum()/occupation_group[\"gender\"].count()"
   ]
  },
  {
   "cell_type": "code",
   "execution_count": 107,
   "id": "018a6a82",
   "metadata": {},
   "outputs": [
    {
     "data": {
      "text/plain": [
       "occupation\n",
       "doctor           1.000000\n",
       "engineer         0.970149\n",
       "technician       0.962963\n",
       "retired          0.928571\n",
       "programmer       0.909091\n",
       "executive        0.906250\n",
       "scientist        0.903226\n",
       "entertainment    0.888889\n",
       "lawyer           0.833333\n",
       "salesman         0.750000\n",
       "educator         0.726316\n",
       "student          0.693878\n",
       "other            0.657143\n",
       "marketing        0.615385\n",
       "writer           0.577778\n",
       "none             0.555556\n",
       "administrator    0.544304\n",
       "artist           0.535714\n",
       "librarian        0.431373\n",
       "healthcare       0.312500\n",
       "homemaker        0.142857\n",
       "Name: gender, dtype: float64"
      ]
     },
     "execution_count": 107,
     "metadata": {},
     "output_type": "execute_result"
    }
   ],
   "source": [
    "gender_ratio.sort_values(ascending = False)"
   ]
  },
  {
   "cell_type": "code",
   "execution_count": null,
   "id": "09c66afa",
   "metadata": {},
   "outputs": [],
   "source": []
  },
  {
   "cell_type": "markdown",
   "id": "12341f88",
   "metadata": {},
   "source": [
    "# 문제4. occupation별 age의 최솟값, 최댓값 구하기"
   ]
  },
  {
   "cell_type": "code",
   "execution_count": 82,
   "id": "2a091132",
   "metadata": {},
   "outputs": [
    {
     "data": {
      "text/html": [
       "<div>\n",
       "<style scoped>\n",
       "    .dataframe tbody tr th:only-of-type {\n",
       "        vertical-align: middle;\n",
       "    }\n",
       "\n",
       "    .dataframe tbody tr th {\n",
       "        vertical-align: top;\n",
       "    }\n",
       "\n",
       "    .dataframe thead th {\n",
       "        text-align: right;\n",
       "    }\n",
       "</style>\n",
       "<table border=\"1\" class=\"dataframe\">\n",
       "  <thead>\n",
       "    <tr style=\"text-align: right;\">\n",
       "      <th></th>\n",
       "      <th>min</th>\n",
       "      <th>max</th>\n",
       "    </tr>\n",
       "    <tr>\n",
       "      <th>occupation</th>\n",
       "      <th></th>\n",
       "      <th></th>\n",
       "    </tr>\n",
       "  </thead>\n",
       "  <tbody>\n",
       "    <tr>\n",
       "      <th>administrator</th>\n",
       "      <td>21</td>\n",
       "      <td>70</td>\n",
       "    </tr>\n",
       "    <tr>\n",
       "      <th>artist</th>\n",
       "      <td>19</td>\n",
       "      <td>48</td>\n",
       "    </tr>\n",
       "    <tr>\n",
       "      <th>doctor</th>\n",
       "      <td>28</td>\n",
       "      <td>64</td>\n",
       "    </tr>\n",
       "    <tr>\n",
       "      <th>educator</th>\n",
       "      <td>23</td>\n",
       "      <td>63</td>\n",
       "    </tr>\n",
       "    <tr>\n",
       "      <th>engineer</th>\n",
       "      <td>22</td>\n",
       "      <td>70</td>\n",
       "    </tr>\n",
       "    <tr>\n",
       "      <th>entertainment</th>\n",
       "      <td>15</td>\n",
       "      <td>50</td>\n",
       "    </tr>\n",
       "    <tr>\n",
       "      <th>executive</th>\n",
       "      <td>22</td>\n",
       "      <td>69</td>\n",
       "    </tr>\n",
       "    <tr>\n",
       "      <th>healthcare</th>\n",
       "      <td>22</td>\n",
       "      <td>62</td>\n",
       "    </tr>\n",
       "    <tr>\n",
       "      <th>homemaker</th>\n",
       "      <td>20</td>\n",
       "      <td>50</td>\n",
       "    </tr>\n",
       "    <tr>\n",
       "      <th>lawyer</th>\n",
       "      <td>21</td>\n",
       "      <td>53</td>\n",
       "    </tr>\n",
       "    <tr>\n",
       "      <th>librarian</th>\n",
       "      <td>23</td>\n",
       "      <td>69</td>\n",
       "    </tr>\n",
       "    <tr>\n",
       "      <th>marketing</th>\n",
       "      <td>24</td>\n",
       "      <td>55</td>\n",
       "    </tr>\n",
       "    <tr>\n",
       "      <th>none</th>\n",
       "      <td>11</td>\n",
       "      <td>55</td>\n",
       "    </tr>\n",
       "    <tr>\n",
       "      <th>other</th>\n",
       "      <td>13</td>\n",
       "      <td>64</td>\n",
       "    </tr>\n",
       "    <tr>\n",
       "      <th>programmer</th>\n",
       "      <td>20</td>\n",
       "      <td>63</td>\n",
       "    </tr>\n",
       "    <tr>\n",
       "      <th>retired</th>\n",
       "      <td>51</td>\n",
       "      <td>73</td>\n",
       "    </tr>\n",
       "    <tr>\n",
       "      <th>salesman</th>\n",
       "      <td>18</td>\n",
       "      <td>66</td>\n",
       "    </tr>\n",
       "    <tr>\n",
       "      <th>scientist</th>\n",
       "      <td>23</td>\n",
       "      <td>55</td>\n",
       "    </tr>\n",
       "    <tr>\n",
       "      <th>student</th>\n",
       "      <td>7</td>\n",
       "      <td>42</td>\n",
       "    </tr>\n",
       "    <tr>\n",
       "      <th>technician</th>\n",
       "      <td>21</td>\n",
       "      <td>55</td>\n",
       "    </tr>\n",
       "    <tr>\n",
       "      <th>writer</th>\n",
       "      <td>18</td>\n",
       "      <td>60</td>\n",
       "    </tr>\n",
       "  </tbody>\n",
       "</table>\n",
       "</div>"
      ],
      "text/plain": [
       "               min  max\n",
       "occupation             \n",
       "administrator   21   70\n",
       "artist          19   48\n",
       "doctor          28   64\n",
       "educator        23   63\n",
       "engineer        22   70\n",
       "entertainment   15   50\n",
       "executive       22   69\n",
       "healthcare      22   62\n",
       "homemaker       20   50\n",
       "lawyer          21   53\n",
       "librarian       23   69\n",
       "marketing       24   55\n",
       "none            11   55\n",
       "other           13   64\n",
       "programmer      20   63\n",
       "retired         51   73\n",
       "salesman        18   66\n",
       "scientist       23   55\n",
       "student          7   42\n",
       "technician      21   55\n",
       "writer          18   60"
      ]
     },
     "execution_count": 82,
     "metadata": {},
     "output_type": "execute_result"
    }
   ],
   "source": [
    "occupation_age = occupation_group[\"age\"].agg([\"min\", \"max\"])\n",
    "occupation_age"
   ]
  },
  {
   "cell_type": "code",
   "execution_count": null,
   "id": "32427171",
   "metadata": {},
   "outputs": [],
   "source": []
  },
  {
   "cell_type": "markdown",
   "id": "38bab427",
   "metadata": {},
   "source": [
    "# 문제5. 각 occupation의 gender별 평균 age를 구하기"
   ]
  },
  {
   "cell_type": "code",
   "execution_count": 84,
   "id": "c7b507dc",
   "metadata": {},
   "outputs": [],
   "source": [
    "occupation_gender = df.groupby([\"occupation\", \"gender\"])"
   ]
  },
  {
   "cell_type": "code",
   "execution_count": 89,
   "id": "e1473b05",
   "metadata": {},
   "outputs": [],
   "source": [
    "gender_age = occupation_gender[\"age\"].mean()"
   ]
  },
  {
   "cell_type": "code",
   "execution_count": 92,
   "id": "aebeec66",
   "metadata": {},
   "outputs": [
    {
     "data": {
      "text/plain": [
       "occupation     gender\n",
       "administrator  0         40.638889\n",
       "               1         37.162791\n",
       "artist         0         30.307692\n",
       "               1         32.333333\n",
       "doctor         1         43.571429\n",
       "educator       0         39.115385\n",
       "               1         43.101449\n",
       "engineer       0         29.500000\n",
       "               1         36.600000\n",
       "entertainment  0         31.000000\n",
       "               1         29.000000\n",
       "executive      0         44.000000\n",
       "               1         38.172414\n",
       "healthcare     0         39.818182\n",
       "               1         45.400000\n",
       "homemaker      0         34.166667\n",
       "               1         23.000000\n",
       "lawyer         0         39.500000\n",
       "               1         36.200000\n",
       "librarian      0         40.000000\n",
       "               1         40.000000\n",
       "marketing      0         37.200000\n",
       "               1         37.875000\n",
       "none           0         36.500000\n",
       "               1         18.600000\n",
       "other          0         35.472222\n",
       "               1         34.028986\n",
       "programmer     0         32.166667\n",
       "               1         33.216667\n",
       "retired        0         70.000000\n",
       "               1         62.538462\n",
       "salesman       0         27.000000\n",
       "               1         38.555556\n",
       "scientist      0         28.333333\n",
       "               1         36.321429\n",
       "student        0         20.750000\n",
       "               1         22.669118\n",
       "technician     0         38.000000\n",
       "               1         32.961538\n",
       "writer         0         37.631579\n",
       "               1         35.346154\n",
       "Name: age, dtype: float64"
      ]
     },
     "execution_count": 92,
     "metadata": {},
     "output_type": "execute_result"
    }
   ],
   "source": [
    "gender_age"
   ]
  },
  {
   "cell_type": "code",
   "execution_count": 143,
   "id": "5ee408f6",
   "metadata": {},
   "outputs": [
    {
     "data": {
      "text/plain": [
       "occupation     gender\n",
       "administrator  0         40.638889\n",
       "               1         37.162791\n",
       "artist         0         30.307692\n",
       "               1         32.333333\n",
       "doctor         1         43.571429\n",
       "educator       0         39.115385\n",
       "               1         43.101449\n",
       "engineer       0         29.500000\n",
       "               1         36.600000\n",
       "entertainment  0         31.000000\n",
       "               1         29.000000\n",
       "executive      0         44.000000\n",
       "               1         38.172414\n",
       "healthcare     0         39.818182\n",
       "               1         45.400000\n",
       "homemaker      0         34.166667\n",
       "               1         23.000000\n",
       "lawyer         0         39.500000\n",
       "               1         36.200000\n",
       "librarian      0         40.000000\n",
       "               1         40.000000\n",
       "marketing      0         37.200000\n",
       "               1         37.875000\n",
       "none           0         36.500000\n",
       "               1         18.600000\n",
       "other          0         35.472222\n",
       "               1         34.028986\n",
       "programmer     0         32.166667\n",
       "               1         33.216667\n",
       "retired        0         70.000000\n",
       "               1         62.538462\n",
       "salesman       0         27.000000\n",
       "               1         38.555556\n",
       "scientist      0         28.333333\n",
       "               1         36.321429\n",
       "student        0         20.750000\n",
       "               1         22.669118\n",
       "technician     0         38.000000\n",
       "               1         32.961538\n",
       "writer         0         37.631579\n",
       "               1         35.346154\n",
       "Name: age, dtype: float64"
      ]
     },
     "execution_count": 143,
     "metadata": {},
     "output_type": "execute_result"
    }
   ],
   "source": [
    "df.groupby([\"occupation\", \"gender\"])[\"age\"].mean()"
   ]
  }
 ],
 "metadata": {
  "kernelspec": {
   "display_name": "Python 3 (ipykernel)",
   "language": "python",
   "name": "python3"
  },
  "language_info": {
   "codemirror_mode": {
    "name": "ipython",
    "version": 3
   },
   "file_extension": ".py",
   "mimetype": "text/x-python",
   "name": "python",
   "nbconvert_exporter": "python",
   "pygments_lexer": "ipython3",
   "version": "3.11.5"
  }
 },
 "nbformat": 4,
 "nbformat_minor": 5
}
