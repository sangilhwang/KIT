{
 "cells": [
  {
   "cell_type": "markdown",
   "id": "118bca62",
   "metadata": {},
   "source": [
    "# 판다스 자료구조\n",
    "\n",
    "- https://pandas.pydata.org/docs/reference/index.html#api 궁금한게 생기면 여기서 찾아보기...\n",
    "- 분석을 위해 수집하는 데이터는 형태나 속성이 매우 다양함\n",
    "    - 서로 다른 형식을 갖는 여러 종류의 데이터를 컴퓨터가 이해할 수 있도록 동일한 형식을 갖는 구조로 통합할 필요가 있음\n",
    "    \n",
    "- 판다스 데이터의 형식\n",
    "    - 시리즈(Series)\n",
    "        - 1차원 배열\n",
    "    \n",
    "    - 데이터 프레임 (DataFrame)\n",
    "        - 2차원 배열"
   ]
  },
  {
   "cell_type": "markdown",
   "id": "87a4a781",
   "metadata": {},
   "source": [
    "## 시리즈\n",
    "\n",
    "<img src = \"./image/series.jpg\">"
   ]
  },
  {
   "cell_type": "markdown",
   "id": "079d0c57",
   "metadata": {},
   "source": [
    "- 데이터가 순차적으로 나열된 1차원 배열\n",
    "- 각 인덱스(index)는 값(value)와 1:1 대응이 됨\n",
    "    - 이런 관점에서 키와 값이 짝을 이루는 딕셔너리와 비슷한 구조라고도 볼 수 있음\n",
    "    - 시리즈에서 인덱스는 데이터 값의 위치를 나타내는 이름표 역할을 수행\n",
    "    \n",
    "- series 생성\n",
    "    - pandas.Series()\n",
    "    - S 대문자 필수"
   ]
  },
  {
   "cell_type": "markdown",
   "id": "0dec114e",
   "metadata": {},
   "source": [
    "### 시리즈 생성"
   ]
  },
  {
   "cell_type": "code",
   "execution_count": 1,
   "id": "4eec0a84",
   "metadata": {},
   "outputs": [],
   "source": [
    "import pandas as pd\n",
    "import numpy as np\n",
    "import seaborn as sns"
   ]
  },
  {
   "cell_type": "code",
   "execution_count": 2,
   "id": "bdacf6ac",
   "metadata": {},
   "outputs": [],
   "source": [
    "# 딕셔너리 생성\n",
    "dict_data = {\"a\" : 1, \"b\" : 2, \"c\" : 3}"
   ]
  },
  {
   "cell_type": "code",
   "execution_count": 4,
   "id": "448d845e",
   "metadata": {},
   "outputs": [],
   "source": [
    "# 딕셔너리를 판다스 시리즈로 변환\n",
    "sr = pd.Series(dict_data)"
   ]
  },
  {
   "cell_type": "code",
   "execution_count": 5,
   "id": "8b028fca",
   "metadata": {},
   "outputs": [
    {
     "name": "stdout",
     "output_type": "stream",
     "text": [
      "<class 'pandas.core.series.Series'>\n",
      "a    1\n",
      "b    2\n",
      "c    3\n",
      "dtype: int64\n"
     ]
    }
   ],
   "source": [
    "print(type(sr))\n",
    "print(sr)"
   ]
  },
  {
   "cell_type": "code",
   "execution_count": 6,
   "id": "7a8b82ad",
   "metadata": {},
   "outputs": [
    {
     "data": {
      "text/plain": [
       "dtype('int64')"
      ]
     },
     "execution_count": 6,
     "metadata": {},
     "output_type": "execute_result"
    }
   ],
   "source": [
    "# 시리즈를 구성하는 데이터 값의 자료형 확인\n",
    "sr.dtypes"
   ]
  },
  {
   "cell_type": "code",
   "execution_count": 7,
   "id": "bb3c32ea",
   "metadata": {},
   "outputs": [
    {
     "data": {
      "text/plain": [
       "Index(['a', 'b', 'c'], dtype='object')"
      ]
     },
     "execution_count": 7,
     "metadata": {},
     "output_type": "execute_result"
    }
   ],
   "source": [
    "# 시리즈의 인덱스 배열\n",
    "sr.index"
   ]
  },
  {
   "cell_type": "code",
   "execution_count": 8,
   "id": "5edb9c59",
   "metadata": {},
   "outputs": [
    {
     "data": {
      "text/plain": [
       "array([1, 2, 3], dtype=int64)"
      ]
     },
     "execution_count": 8,
     "metadata": {},
     "output_type": "execute_result"
    }
   ],
   "source": [
    "# 시리즈의 값 배열\n",
    "sr.values"
   ]
  },
  {
   "cell_type": "markdown",
   "id": "e7f6b352",
   "metadata": {},
   "source": [
    "- 리스트를 시리즈로 변환하면 인덱스로 변환될 값이 없음\n",
    "    - 인덱스가 별도로 정의되지 않으면 정수형 위치 인덱스(0, 1, 2, ......)가 자동으로 지정"
   ]
  },
  {
   "cell_type": "code",
   "execution_count": 9,
   "id": "15458e44",
   "metadata": {},
   "outputs": [],
   "source": [
    "# 리스트를 시리즈로 변환\n",
    "list_data = [\"2024-02-21\", 3.14, \"ABC\", 100, True]"
   ]
  },
  {
   "cell_type": "code",
   "execution_count": 10,
   "id": "e08e2d3c",
   "metadata": {},
   "outputs": [],
   "source": [
    "sr = pd.Series(list_data)"
   ]
  },
  {
   "cell_type": "code",
   "execution_count": 11,
   "id": "f1fc2704",
   "metadata": {},
   "outputs": [
    {
     "name": "stdout",
     "output_type": "stream",
     "text": [
      "0    2024-02-21\n",
      "1          3.14\n",
      "2           ABC\n",
      "3           100\n",
      "4          True\n",
      "dtype: object\n"
     ]
    }
   ],
   "source": [
    "print(sr)"
   ]
  },
  {
   "cell_type": "code",
   "execution_count": 12,
   "id": "970183fa",
   "metadata": {},
   "outputs": [
    {
     "data": {
      "text/plain": [
       "RangeIndex(start=0, stop=5, step=1)"
      ]
     },
     "execution_count": 12,
     "metadata": {},
     "output_type": "execute_result"
    }
   ],
   "source": [
    "sr.index"
   ]
  },
  {
   "cell_type": "code",
   "execution_count": 13,
   "id": "e737d60e",
   "metadata": {},
   "outputs": [
    {
     "data": {
      "text/plain": [
       "array(['2024-02-21', 3.14, 'ABC', 100, True], dtype=object)"
      ]
     },
     "execution_count": 13,
     "metadata": {},
     "output_type": "execute_result"
    }
   ],
   "source": [
    "sr.values"
   ]
  },
  {
   "cell_type": "code",
   "execution_count": 14,
   "id": "8d802c4d",
   "metadata": {},
   "outputs": [],
   "source": [
    "# 튜플을 시리즈로 변환\n",
    "tup_data = (\"영인\", \"2010-05-10\", \"여\", True)"
   ]
  },
  {
   "cell_type": "code",
   "execution_count": 15,
   "id": "5920ec02",
   "metadata": {},
   "outputs": [],
   "source": [
    "# 인덱스를 지정하여 시리즈 변환\n",
    "sr = pd.Series(tup_data, index = [\"이름\", \"생년월일\", \"성별\", \"학생여부\"])"
   ]
  },
  {
   "cell_type": "code",
   "execution_count": 16,
   "id": "fd429226",
   "metadata": {},
   "outputs": [
    {
     "data": {
      "text/plain": [
       "이름              영인\n",
       "생년월일    2010-05-10\n",
       "성별               여\n",
       "학생여부          True\n",
       "dtype: object"
      ]
     },
     "execution_count": 16,
     "metadata": {},
     "output_type": "execute_result"
    }
   ],
   "source": [
    "sr"
   ]
  },
  {
   "cell_type": "markdown",
   "id": "c58a1587",
   "metadata": {},
   "source": [
    "### 원소 선텍\n",
    "\n",
    "- 인덱스를 이용하여 원소를 선택할 수 있음\n",
    "    - 하나의 원소를 선택\n",
    "    - 여러 원소를 한거번에 선택\n",
    "    - 인덱스의 범위를 지정하여 원소를 선택 \n",
    "        - 슬라이싱과 유사\n",
    "\n",
    "- 정수형 위치 인덱스는 대괄호 안에 위치를 나타내는 숫자를 입력\n",
    "- 인덱스 이름은 따옴표와 함게 입력    "
   ]
  },
  {
   "cell_type": "code",
   "execution_count": 19,
   "id": "cff8a9d0",
   "metadata": {},
   "outputs": [
    {
     "name": "stdout",
     "output_type": "stream",
     "text": [
      "영인\n",
      "영인\n"
     ]
    }
   ],
   "source": [
    "# 원소를 1개 선택\n",
    "print(sr[0])\n",
    "print(sr[\"이름\"])"
   ]
  },
  {
   "cell_type": "code",
   "execution_count": 30,
   "id": "2b4e43db",
   "metadata": {},
   "outputs": [
    {
     "name": "stdout",
     "output_type": "stream",
     "text": [
      "생년월일    2010-05-10\n",
      "성별               여\n",
      "dtype: object\n",
      "\n",
      "생년월일    2010-05-10\n",
      "성별               여\n",
      "dtype: object\n"
     ]
    }
   ],
   "source": [
    "# 여러 원소 선택(인덱스 리스트 활용)\n",
    "print(sr[[1,2]])\n",
    "print(\"\")\n",
    "print(sr[[\"생년월일\", \"성별\"]])"
   ]
  },
  {
   "cell_type": "code",
   "execution_count": 32,
   "id": "5fc0826f",
   "metadata": {},
   "outputs": [
    {
     "name": "stdout",
     "output_type": "stream",
     "text": [
      "생년월일    2010-05-10\n",
      "성별               여\n",
      "dtype: object\n",
      "\n",
      "생년월일    2010-05-10\n",
      "성별               여\n",
      "dtype: object\n"
     ]
    }
   ],
   "source": [
    "# 여러 원소 선택(인덱스 범위 지정)\n",
    "print(sr[1:3])\n",
    "print(\"\")\n",
    "print(sr[\"생년월일\":\"성별\"])\n",
    "# 정수형 위치 인덱스는 범위의 끝이 불포함\n",
    "# 인덱스 이름을 사용하면 범위의 끝이 포함"
   ]
  },
  {
   "cell_type": "markdown",
   "id": "5e614ef4",
   "metadata": {},
   "source": [
    "## 데이터프레임\n",
    "\n",
    "<img src = \"./image/dataframe.jpg\">\n",
    "\n",
    "index m 은 오타로 추정됨 index n이어야 함"
   ]
  },
  {
   "cell_type": "markdown",
   "id": "aa4fbfe3",
   "metadata": {},
   "source": [
    "- 행과 열로 이루어진 2차원 배열\n",
    "- 여러 개의 시리즈들이 모여서 데이터프레임을 구성\n",
    "    - 데이터프레임의 열은 각각 시리즈 객체\n",
    "    - 여러 개의 시리즈들이 같은 행 인덱스를 기준으로 결합된 2차원 행렬\n",
    "    \n",
    "- 행과 열을 나타내기 우해 두 가지 종류의 주소를 사용\n",
    "    - 행 인덱스\n",
    "        - 개별 관측 대상에 대한 다양한 속성 데이터들의 모음\n",
    "            - 레코드(record)\n",
    "            \n",
    "    - 열 이름\n",
    "        - 공통의 속성을 갖는 일련의 데이터\n",
    "        \n",
    "    - 예시) 주식 종목 데이터\n",
    "        - 행 : 각 주식 종목에 대한 관측 값\n",
    "        - 열 : 회사이름, 총 주식수, 액면가 등"
   ]
  },
  {
   "cell_type": "markdown",
   "id": "4b488263",
   "metadata": {},
   "source": [
    "### 데이터프레임 생성\n",
    "\n",
    "- 동일한 길이의 1차원 배열 여러 개가 필요\n",
    "    - pandas.DataFrame(2차원배열)"
   ]
  },
  {
   "cell_type": "code",
   "execution_count": 38,
   "id": "b9b6146e",
   "metadata": {},
   "outputs": [],
   "source": [
    "dict_data = {\"c0\" : [1, 2, 3], \n",
    "             \"c1\" : [4, 5, 6], \n",
    "             \"c2\" : [7, 8, 9],\n",
    "             \"c3\" : [10, 11, 12],\n",
    "             \"c4\" : [13, 14, 15]}"
   ]
  },
  {
   "cell_type": "code",
   "execution_count": 39,
   "id": "4a30bd1a",
   "metadata": {},
   "outputs": [],
   "source": [
    "# 딕셔너리를 데이터프레임으로 변환\n",
    "df = pd.DataFrame(dict_data)"
   ]
  },
  {
   "cell_type": "code",
   "execution_count": 40,
   "id": "a206c098",
   "metadata": {},
   "outputs": [
    {
     "name": "stdout",
     "output_type": "stream",
     "text": [
      "<class 'pandas.core.frame.DataFrame'>\n"
     ]
    },
    {
     "data": {
      "text/html": [
       "<div>\n",
       "<style scoped>\n",
       "    .dataframe tbody tr th:only-of-type {\n",
       "        vertical-align: middle;\n",
       "    }\n",
       "\n",
       "    .dataframe tbody tr th {\n",
       "        vertical-align: top;\n",
       "    }\n",
       "\n",
       "    .dataframe thead th {\n",
       "        text-align: right;\n",
       "    }\n",
       "</style>\n",
       "<table border=\"1\" class=\"dataframe\">\n",
       "  <thead>\n",
       "    <tr style=\"text-align: right;\">\n",
       "      <th></th>\n",
       "      <th>c0</th>\n",
       "      <th>c1</th>\n",
       "      <th>c2</th>\n",
       "      <th>c3</th>\n",
       "      <th>c4</th>\n",
       "    </tr>\n",
       "  </thead>\n",
       "  <tbody>\n",
       "    <tr>\n",
       "      <th>0</th>\n",
       "      <td>1</td>\n",
       "      <td>4</td>\n",
       "      <td>7</td>\n",
       "      <td>10</td>\n",
       "      <td>13</td>\n",
       "    </tr>\n",
       "    <tr>\n",
       "      <th>1</th>\n",
       "      <td>2</td>\n",
       "      <td>5</td>\n",
       "      <td>8</td>\n",
       "      <td>11</td>\n",
       "      <td>14</td>\n",
       "    </tr>\n",
       "    <tr>\n",
       "      <th>2</th>\n",
       "      <td>3</td>\n",
       "      <td>6</td>\n",
       "      <td>9</td>\n",
       "      <td>12</td>\n",
       "      <td>15</td>\n",
       "    </tr>\n",
       "  </tbody>\n",
       "</table>\n",
       "</div>"
      ],
      "text/plain": [
       "   c0  c1  c2  c3  c4\n",
       "0   1   4   7  10  13\n",
       "1   2   5   8  11  14\n",
       "2   3   6   9  12  15"
      ]
     },
     "execution_count": 40,
     "metadata": {},
     "output_type": "execute_result"
    }
   ],
   "source": [
    "print(type(df))\n",
    "df"
   ]
  },
  {
   "cell_type": "markdown",
   "id": "e534a87f",
   "metadata": {},
   "source": [
    "### 행 인덱스 / 열 이름 설정\n",
    "\n",
    "- pandas.DataFrame(2차원 배열, index = 행 인덱스 배열, columns = 열 이름 배열)"
   ]
  },
  {
   "cell_type": "code",
   "execution_count": 42,
   "id": "03a2097a",
   "metadata": {},
   "outputs": [],
   "source": [
    "df = pd.DataFrame([[15, \"남\", \"덕영중\"], [17, \"여\", \"수리중\"]],\n",
    "                 index = [\"준서\", \"예은\"],\n",
    "                 columns = [\"나이\", \"성별\", \"학교\"])"
   ]
  },
  {
   "cell_type": "code",
   "execution_count": 43,
   "id": "3e152813",
   "metadata": {},
   "outputs": [
    {
     "data": {
      "text/html": [
       "<div>\n",
       "<style scoped>\n",
       "    .dataframe tbody tr th:only-of-type {\n",
       "        vertical-align: middle;\n",
       "    }\n",
       "\n",
       "    .dataframe tbody tr th {\n",
       "        vertical-align: top;\n",
       "    }\n",
       "\n",
       "    .dataframe thead th {\n",
       "        text-align: right;\n",
       "    }\n",
       "</style>\n",
       "<table border=\"1\" class=\"dataframe\">\n",
       "  <thead>\n",
       "    <tr style=\"text-align: right;\">\n",
       "      <th></th>\n",
       "      <th>나이</th>\n",
       "      <th>성별</th>\n",
       "      <th>학교</th>\n",
       "    </tr>\n",
       "  </thead>\n",
       "  <tbody>\n",
       "    <tr>\n",
       "      <th>준서</th>\n",
       "      <td>15</td>\n",
       "      <td>남</td>\n",
       "      <td>덕영중</td>\n",
       "    </tr>\n",
       "    <tr>\n",
       "      <th>예은</th>\n",
       "      <td>17</td>\n",
       "      <td>여</td>\n",
       "      <td>수리중</td>\n",
       "    </tr>\n",
       "  </tbody>\n",
       "</table>\n",
       "</div>"
      ],
      "text/plain": [
       "    나이 성별   학교\n",
       "준서  15  남  덕영중\n",
       "예은  17  여  수리중"
      ]
     },
     "execution_count": 43,
     "metadata": {},
     "output_type": "execute_result"
    }
   ],
   "source": [
    "df"
   ]
  },
  {
   "cell_type": "code",
   "execution_count": 44,
   "id": "e9b37493",
   "metadata": {},
   "outputs": [
    {
     "data": {
      "text/plain": [
       "Index(['준서', '예은'], dtype='object')"
      ]
     },
     "execution_count": 44,
     "metadata": {},
     "output_type": "execute_result"
    }
   ],
   "source": [
    "# 행 인덱스\n",
    "df.index"
   ]
  },
  {
   "cell_type": "code",
   "execution_count": 45,
   "id": "7b74afe2",
   "metadata": {},
   "outputs": [
    {
     "data": {
      "text/plain": [
       "Index(['나이', '성별', '학교'], dtype='object')"
      ]
     },
     "execution_count": 45,
     "metadata": {},
     "output_type": "execute_result"
    }
   ],
   "source": [
    "# 열 이름\n",
    "df.columns"
   ]
  },
  {
   "cell_type": "markdown",
   "id": "fb9063bf",
   "metadata": {},
   "source": [
    "### 행 인덱스 / 열 이름 변경\n",
    "\n",
    "- df.index = 새 행 인덱스 배열\n",
    "- df.columns = 새 열 이름 배열"
   ]
  },
  {
   "cell_type": "code",
   "execution_count": 46,
   "id": "35d76845",
   "metadata": {},
   "outputs": [
    {
     "data": {
      "text/html": [
       "<div>\n",
       "<style scoped>\n",
       "    .dataframe tbody tr th:only-of-type {\n",
       "        vertical-align: middle;\n",
       "    }\n",
       "\n",
       "    .dataframe tbody tr th {\n",
       "        vertical-align: top;\n",
       "    }\n",
       "\n",
       "    .dataframe thead th {\n",
       "        text-align: right;\n",
       "    }\n",
       "</style>\n",
       "<table border=\"1\" class=\"dataframe\">\n",
       "  <thead>\n",
       "    <tr style=\"text-align: right;\">\n",
       "      <th></th>\n",
       "      <th>나이</th>\n",
       "      <th>성별</th>\n",
       "      <th>학교</th>\n",
       "    </tr>\n",
       "  </thead>\n",
       "  <tbody>\n",
       "    <tr>\n",
       "      <th>준서</th>\n",
       "      <td>15</td>\n",
       "      <td>남</td>\n",
       "      <td>덕영중</td>\n",
       "    </tr>\n",
       "    <tr>\n",
       "      <th>예은</th>\n",
       "      <td>17</td>\n",
       "      <td>여</td>\n",
       "      <td>수리중</td>\n",
       "    </tr>\n",
       "  </tbody>\n",
       "</table>\n",
       "</div>"
      ],
      "text/plain": [
       "    나이 성별   학교\n",
       "준서  15  남  덕영중\n",
       "예은  17  여  수리중"
      ]
     },
     "execution_count": 46,
     "metadata": {},
     "output_type": "execute_result"
    }
   ],
   "source": [
    "# 행 인덱스 변경\n",
    "df"
   ]
  },
  {
   "cell_type": "code",
   "execution_count": 48,
   "id": "b2320bf9",
   "metadata": {},
   "outputs": [],
   "source": [
    "df.index = [\"학생1\", \"학생2\"]"
   ]
  },
  {
   "cell_type": "code",
   "execution_count": 49,
   "id": "a5bf04d7",
   "metadata": {},
   "outputs": [
    {
     "data": {
      "text/html": [
       "<div>\n",
       "<style scoped>\n",
       "    .dataframe tbody tr th:only-of-type {\n",
       "        vertical-align: middle;\n",
       "    }\n",
       "\n",
       "    .dataframe tbody tr th {\n",
       "        vertical-align: top;\n",
       "    }\n",
       "\n",
       "    .dataframe thead th {\n",
       "        text-align: right;\n",
       "    }\n",
       "</style>\n",
       "<table border=\"1\" class=\"dataframe\">\n",
       "  <thead>\n",
       "    <tr style=\"text-align: right;\">\n",
       "      <th></th>\n",
       "      <th>나이</th>\n",
       "      <th>성별</th>\n",
       "      <th>학교</th>\n",
       "    </tr>\n",
       "  </thead>\n",
       "  <tbody>\n",
       "    <tr>\n",
       "      <th>학생1</th>\n",
       "      <td>15</td>\n",
       "      <td>남</td>\n",
       "      <td>덕영중</td>\n",
       "    </tr>\n",
       "    <tr>\n",
       "      <th>학생2</th>\n",
       "      <td>17</td>\n",
       "      <td>여</td>\n",
       "      <td>수리중</td>\n",
       "    </tr>\n",
       "  </tbody>\n",
       "</table>\n",
       "</div>"
      ],
      "text/plain": [
       "     나이 성별   학교\n",
       "학생1  15  남  덕영중\n",
       "학생2  17  여  수리중"
      ]
     },
     "execution_count": 49,
     "metadata": {},
     "output_type": "execute_result"
    }
   ],
   "source": [
    "df"
   ]
  },
  {
   "cell_type": "code",
   "execution_count": 50,
   "id": "afafa1a3",
   "metadata": {},
   "outputs": [],
   "source": [
    "# 열 이름 변경\n",
    "df.columns = [\"연령\", \"남녀\", \"소속\"]"
   ]
  },
  {
   "cell_type": "code",
   "execution_count": 51,
   "id": "35789a53",
   "metadata": {},
   "outputs": [
    {
     "data": {
      "text/html": [
       "<div>\n",
       "<style scoped>\n",
       "    .dataframe tbody tr th:only-of-type {\n",
       "        vertical-align: middle;\n",
       "    }\n",
       "\n",
       "    .dataframe tbody tr th {\n",
       "        vertical-align: top;\n",
       "    }\n",
       "\n",
       "    .dataframe thead th {\n",
       "        text-align: right;\n",
       "    }\n",
       "</style>\n",
       "<table border=\"1\" class=\"dataframe\">\n",
       "  <thead>\n",
       "    <tr style=\"text-align: right;\">\n",
       "      <th></th>\n",
       "      <th>연령</th>\n",
       "      <th>남녀</th>\n",
       "      <th>소속</th>\n",
       "    </tr>\n",
       "  </thead>\n",
       "  <tbody>\n",
       "    <tr>\n",
       "      <th>학생1</th>\n",
       "      <td>15</td>\n",
       "      <td>남</td>\n",
       "      <td>덕영중</td>\n",
       "    </tr>\n",
       "    <tr>\n",
       "      <th>학생2</th>\n",
       "      <td>17</td>\n",
       "      <td>여</td>\n",
       "      <td>수리중</td>\n",
       "    </tr>\n",
       "  </tbody>\n",
       "</table>\n",
       "</div>"
      ],
      "text/plain": [
       "     연령 남녀   소속\n",
       "학생1  15  남  덕영중\n",
       "학생2  17  여  수리중"
      ]
     },
     "execution_count": 51,
     "metadata": {},
     "output_type": "execute_result"
    }
   ],
   "source": [
    "df"
   ]
  },
  {
   "cell_type": "markdown",
   "id": "b108fb23",
   "metadata": {},
   "source": [
    "#### 행 인덱스 / 열 이름 변경 (rename 메소드 활용)\n",
    "\n",
    "- df.rename(index = {기존 인덱스 : 새 인덱스, ...})\n",
    "- df.rename(columns = {기존 이름 : 새 이름, ...})"
   ]
  },
  {
   "cell_type": "code",
   "execution_count": 52,
   "id": "64533433",
   "metadata": {},
   "outputs": [
    {
     "data": {
      "text/html": [
       "<div>\n",
       "<style scoped>\n",
       "    .dataframe tbody tr th:only-of-type {\n",
       "        vertical-align: middle;\n",
       "    }\n",
       "\n",
       "    .dataframe tbody tr th {\n",
       "        vertical-align: top;\n",
       "    }\n",
       "\n",
       "    .dataframe thead th {\n",
       "        text-align: right;\n",
       "    }\n",
       "</style>\n",
       "<table border=\"1\" class=\"dataframe\">\n",
       "  <thead>\n",
       "    <tr style=\"text-align: right;\">\n",
       "      <th></th>\n",
       "      <th>나이</th>\n",
       "      <th>성별</th>\n",
       "      <th>소속</th>\n",
       "    </tr>\n",
       "  </thead>\n",
       "  <tbody>\n",
       "    <tr>\n",
       "      <th>학생1</th>\n",
       "      <td>15</td>\n",
       "      <td>남</td>\n",
       "      <td>덕영중</td>\n",
       "    </tr>\n",
       "    <tr>\n",
       "      <th>학생2</th>\n",
       "      <td>17</td>\n",
       "      <td>여</td>\n",
       "      <td>수리중</td>\n",
       "    </tr>\n",
       "  </tbody>\n",
       "</table>\n",
       "</div>"
      ],
      "text/plain": [
       "     나이 성별   소속\n",
       "학생1  15  남  덕영중\n",
       "학생2  17  여  수리중"
      ]
     },
     "execution_count": 52,
     "metadata": {},
     "output_type": "execute_result"
    }
   ],
   "source": [
    "df.rename(columns = {\"연령\" : \"나이\", \"남녀\" : \"성별\"})"
   ]
  },
  {
   "cell_type": "code",
   "execution_count": 54,
   "id": "ba1d058b",
   "metadata": {},
   "outputs": [
    {
     "data": {
      "text/html": [
       "<div>\n",
       "<style scoped>\n",
       "    .dataframe tbody tr th:only-of-type {\n",
       "        vertical-align: middle;\n",
       "    }\n",
       "\n",
       "    .dataframe tbody tr th {\n",
       "        vertical-align: top;\n",
       "    }\n",
       "\n",
       "    .dataframe thead th {\n",
       "        text-align: right;\n",
       "    }\n",
       "</style>\n",
       "<table border=\"1\" class=\"dataframe\">\n",
       "  <thead>\n",
       "    <tr style=\"text-align: right;\">\n",
       "      <th></th>\n",
       "      <th>연령</th>\n",
       "      <th>남녀</th>\n",
       "      <th>소속</th>\n",
       "    </tr>\n",
       "  </thead>\n",
       "  <tbody>\n",
       "    <tr>\n",
       "      <th>학생1</th>\n",
       "      <td>15</td>\n",
       "      <td>남</td>\n",
       "      <td>덕영중</td>\n",
       "    </tr>\n",
       "    <tr>\n",
       "      <th>학생2</th>\n",
       "      <td>17</td>\n",
       "      <td>여</td>\n",
       "      <td>수리중</td>\n",
       "    </tr>\n",
       "  </tbody>\n",
       "</table>\n",
       "</div>"
      ],
      "text/plain": [
       "     연령 남녀   소속\n",
       "학생1  15  남  덕영중\n",
       "학생2  17  여  수리중"
      ]
     },
     "execution_count": 54,
     "metadata": {},
     "output_type": "execute_result"
    }
   ],
   "source": [
    "# rename은 비파괴적 메소드\n",
    "df"
   ]
  },
  {
   "cell_type": "code",
   "execution_count": 55,
   "id": "572d63e4",
   "metadata": {},
   "outputs": [],
   "source": [
    "# 원본 객체를 수정하려면 inplace = True 옵션을 사용\n",
    "df.rename(columns = {\"연령\" : \"나이\", \"남녀\" : \"성별\"},\n",
    "         inplace = True)"
   ]
  },
  {
   "cell_type": "code",
   "execution_count": 56,
   "id": "771b78b5",
   "metadata": {},
   "outputs": [
    {
     "data": {
      "text/html": [
       "<div>\n",
       "<style scoped>\n",
       "    .dataframe tbody tr th:only-of-type {\n",
       "        vertical-align: middle;\n",
       "    }\n",
       "\n",
       "    .dataframe tbody tr th {\n",
       "        vertical-align: top;\n",
       "    }\n",
       "\n",
       "    .dataframe thead th {\n",
       "        text-align: right;\n",
       "    }\n",
       "</style>\n",
       "<table border=\"1\" class=\"dataframe\">\n",
       "  <thead>\n",
       "    <tr style=\"text-align: right;\">\n",
       "      <th></th>\n",
       "      <th>나이</th>\n",
       "      <th>성별</th>\n",
       "      <th>소속</th>\n",
       "    </tr>\n",
       "  </thead>\n",
       "  <tbody>\n",
       "    <tr>\n",
       "      <th>학생1</th>\n",
       "      <td>15</td>\n",
       "      <td>남</td>\n",
       "      <td>덕영중</td>\n",
       "    </tr>\n",
       "    <tr>\n",
       "      <th>학생2</th>\n",
       "      <td>17</td>\n",
       "      <td>여</td>\n",
       "      <td>수리중</td>\n",
       "    </tr>\n",
       "  </tbody>\n",
       "</table>\n",
       "</div>"
      ],
      "text/plain": [
       "     나이 성별   소속\n",
       "학생1  15  남  덕영중\n",
       "학생2  17  여  수리중"
      ]
     },
     "execution_count": 56,
     "metadata": {},
     "output_type": "execute_result"
    }
   ],
   "source": [
    "df"
   ]
  },
  {
   "cell_type": "code",
   "execution_count": 57,
   "id": "d5e51a54",
   "metadata": {},
   "outputs": [],
   "source": [
    "df.rename(index = {\"학생1\" : \"준서\", \"학생2\" : \"예은\"}, inplace = True)"
   ]
  },
  {
   "cell_type": "code",
   "execution_count": 58,
   "id": "43086062",
   "metadata": {},
   "outputs": [
    {
     "data": {
      "text/html": [
       "<div>\n",
       "<style scoped>\n",
       "    .dataframe tbody tr th:only-of-type {\n",
       "        vertical-align: middle;\n",
       "    }\n",
       "\n",
       "    .dataframe tbody tr th {\n",
       "        vertical-align: top;\n",
       "    }\n",
       "\n",
       "    .dataframe thead th {\n",
       "        text-align: right;\n",
       "    }\n",
       "</style>\n",
       "<table border=\"1\" class=\"dataframe\">\n",
       "  <thead>\n",
       "    <tr style=\"text-align: right;\">\n",
       "      <th></th>\n",
       "      <th>나이</th>\n",
       "      <th>성별</th>\n",
       "      <th>소속</th>\n",
       "    </tr>\n",
       "  </thead>\n",
       "  <tbody>\n",
       "    <tr>\n",
       "      <th>준서</th>\n",
       "      <td>15</td>\n",
       "      <td>남</td>\n",
       "      <td>덕영중</td>\n",
       "    </tr>\n",
       "    <tr>\n",
       "      <th>예은</th>\n",
       "      <td>17</td>\n",
       "      <td>여</td>\n",
       "      <td>수리중</td>\n",
       "    </tr>\n",
       "  </tbody>\n",
       "</table>\n",
       "</div>"
      ],
      "text/plain": [
       "    나이 성별   소속\n",
       "준서  15  남  덕영중\n",
       "예은  17  여  수리중"
      ]
     },
     "execution_count": 58,
     "metadata": {},
     "output_type": "execute_result"
    }
   ],
   "source": [
    "df"
   ]
  },
  {
   "cell_type": "markdown",
   "id": "263e4907",
   "metadata": {},
   "source": [
    "### 행 / 열 삭제\n",
    "\n",
    "- drop() 메소드\n",
    "    - axis = 0\n",
    "        - 행 삭제\n",
    "        \n",
    "    - axis = 1\n",
    "        - 열 삭제\n",
    "        \n",
    "    - 동시에 여러 행 또는 열 삭제\n",
    "        - 리스트 형태로 입력\n",
    "        \n",
    "    - 기존 객체를 변경하지 않고 새로운 객체를 반환 (비파괴적)\n",
    "        - 원본 객체를 직접 변경하기 위해서는 inplace = True 옵션 사용\n",
    "        \n",
    "- df.drop(행 인덱스 또는 배열, axis = 0)\n",
    "- df.drop(열 이름 또는 배열, axis = 1)"
   ]
  },
  {
   "cell_type": "code",
   "execution_count": 60,
   "id": "9d29b549",
   "metadata": {},
   "outputs": [],
   "source": [
    "exam_data = {\"수학\" : [90, 80, 70], \"영어\" : [95, 85, 75], \"음악\" : [100, 80, 40], \"체육\" : [90, 95, 90]}\n",
    "\n",
    "df = pd.DataFrame(exam_data, index = [\"서준\", \"우현\", \"인아\"])"
   ]
  },
  {
   "cell_type": "code",
   "execution_count": 61,
   "id": "6cfe40f9",
   "metadata": {},
   "outputs": [
    {
     "data": {
      "text/html": [
       "<div>\n",
       "<style scoped>\n",
       "    .dataframe tbody tr th:only-of-type {\n",
       "        vertical-align: middle;\n",
       "    }\n",
       "\n",
       "    .dataframe tbody tr th {\n",
       "        vertical-align: top;\n",
       "    }\n",
       "\n",
       "    .dataframe thead th {\n",
       "        text-align: right;\n",
       "    }\n",
       "</style>\n",
       "<table border=\"1\" class=\"dataframe\">\n",
       "  <thead>\n",
       "    <tr style=\"text-align: right;\">\n",
       "      <th></th>\n",
       "      <th>수학</th>\n",
       "      <th>영어</th>\n",
       "      <th>음악</th>\n",
       "      <th>체육</th>\n",
       "    </tr>\n",
       "  </thead>\n",
       "  <tbody>\n",
       "    <tr>\n",
       "      <th>서준</th>\n",
       "      <td>90</td>\n",
       "      <td>95</td>\n",
       "      <td>100</td>\n",
       "      <td>90</td>\n",
       "    </tr>\n",
       "    <tr>\n",
       "      <th>우현</th>\n",
       "      <td>80</td>\n",
       "      <td>85</td>\n",
       "      <td>80</td>\n",
       "      <td>95</td>\n",
       "    </tr>\n",
       "    <tr>\n",
       "      <th>인아</th>\n",
       "      <td>70</td>\n",
       "      <td>75</td>\n",
       "      <td>40</td>\n",
       "      <td>90</td>\n",
       "    </tr>\n",
       "  </tbody>\n",
       "</table>\n",
       "</div>"
      ],
      "text/plain": [
       "    수학  영어   음악  체육\n",
       "서준  90  95  100  90\n",
       "우현  80  85   80  95\n",
       "인아  70  75   40  90"
      ]
     },
     "execution_count": 61,
     "metadata": {},
     "output_type": "execute_result"
    }
   ],
   "source": [
    "df"
   ]
  },
  {
   "cell_type": "code",
   "execution_count": 64,
   "id": "6d67b1a4",
   "metadata": {},
   "outputs": [],
   "source": [
    "df2 = df.copy()"
   ]
  },
  {
   "cell_type": "code",
   "execution_count": 65,
   "id": "fe876d82",
   "metadata": {},
   "outputs": [
    {
     "data": {
      "text/plain": [
       "(2339444284112, 2339445683472)"
      ]
     },
     "execution_count": 65,
     "metadata": {},
     "output_type": "execute_result"
    }
   ],
   "source": [
    "id(df2), id(df)"
   ]
  },
  {
   "cell_type": "markdown",
   "id": "2d89a9da",
   "metadata": {},
   "source": [
    "#### 행 삭제"
   ]
  },
  {
   "cell_type": "code",
   "execution_count": 68,
   "id": "fd81913b",
   "metadata": {},
   "outputs": [],
   "source": [
    "df2.drop(\"우현\", inplace = True) # axis = 0 이 초기값"
   ]
  },
  {
   "cell_type": "code",
   "execution_count": 69,
   "id": "c8fe7b91",
   "metadata": {},
   "outputs": [
    {
     "data": {
      "text/html": [
       "<div>\n",
       "<style scoped>\n",
       "    .dataframe tbody tr th:only-of-type {\n",
       "        vertical-align: middle;\n",
       "    }\n",
       "\n",
       "    .dataframe tbody tr th {\n",
       "        vertical-align: top;\n",
       "    }\n",
       "\n",
       "    .dataframe thead th {\n",
       "        text-align: right;\n",
       "    }\n",
       "</style>\n",
       "<table border=\"1\" class=\"dataframe\">\n",
       "  <thead>\n",
       "    <tr style=\"text-align: right;\">\n",
       "      <th></th>\n",
       "      <th>수학</th>\n",
       "      <th>영어</th>\n",
       "      <th>음악</th>\n",
       "      <th>체육</th>\n",
       "    </tr>\n",
       "  </thead>\n",
       "  <tbody>\n",
       "    <tr>\n",
       "      <th>서준</th>\n",
       "      <td>90</td>\n",
       "      <td>95</td>\n",
       "      <td>100</td>\n",
       "      <td>90</td>\n",
       "    </tr>\n",
       "    <tr>\n",
       "      <th>인아</th>\n",
       "      <td>70</td>\n",
       "      <td>75</td>\n",
       "      <td>40</td>\n",
       "      <td>90</td>\n",
       "    </tr>\n",
       "  </tbody>\n",
       "</table>\n",
       "</div>"
      ],
      "text/plain": [
       "    수학  영어   음악  체육\n",
       "서준  90  95  100  90\n",
       "인아  70  75   40  90"
      ]
     },
     "execution_count": 69,
     "metadata": {},
     "output_type": "execute_result"
    }
   ],
   "source": [
    "df2"
   ]
  },
  {
   "cell_type": "code",
   "execution_count": 70,
   "id": "aeabe5ba",
   "metadata": {},
   "outputs": [],
   "source": [
    "df3 = df[:]"
   ]
  },
  {
   "cell_type": "code",
   "execution_count": 71,
   "id": "5d0658f0",
   "metadata": {},
   "outputs": [
    {
     "data": {
      "text/plain": [
       "(2339364345296, 2339445683472)"
      ]
     },
     "execution_count": 71,
     "metadata": {},
     "output_type": "execute_result"
    }
   ],
   "source": [
    "id(df3), id(df)"
   ]
  },
  {
   "cell_type": "code",
   "execution_count": 72,
   "id": "c4efd1ed",
   "metadata": {},
   "outputs": [
    {
     "name": "stderr",
     "output_type": "stream",
     "text": [
      "C:\\Users\\ITSC\\AppData\\Local\\Temp\\ipykernel_10664\\958396069.py:1: SettingWithCopyWarning: \n",
      "A value is trying to be set on a copy of a slice from a DataFrame\n",
      "\n",
      "See the caveats in the documentation: https://pandas.pydata.org/pandas-docs/stable/user_guide/indexing.html#returning-a-view-versus-a-copy\n",
      "  df3.drop([\"우현\", \"인아\"], axis = 0, inplace = True)\n"
     ]
    }
   ],
   "source": [
    "df3.drop([\"우현\", \"인아\"], axis = 0, inplace = True)"
   ]
  },
  {
   "cell_type": "code",
   "execution_count": 73,
   "id": "2647086f",
   "metadata": {},
   "outputs": [
    {
     "data": {
      "text/html": [
       "<div>\n",
       "<style scoped>\n",
       "    .dataframe tbody tr th:only-of-type {\n",
       "        vertical-align: middle;\n",
       "    }\n",
       "\n",
       "    .dataframe tbody tr th {\n",
       "        vertical-align: top;\n",
       "    }\n",
       "\n",
       "    .dataframe thead th {\n",
       "        text-align: right;\n",
       "    }\n",
       "</style>\n",
       "<table border=\"1\" class=\"dataframe\">\n",
       "  <thead>\n",
       "    <tr style=\"text-align: right;\">\n",
       "      <th></th>\n",
       "      <th>수학</th>\n",
       "      <th>영어</th>\n",
       "      <th>음악</th>\n",
       "      <th>체육</th>\n",
       "    </tr>\n",
       "  </thead>\n",
       "  <tbody>\n",
       "    <tr>\n",
       "      <th>서준</th>\n",
       "      <td>90</td>\n",
       "      <td>95</td>\n",
       "      <td>100</td>\n",
       "      <td>90</td>\n",
       "    </tr>\n",
       "  </tbody>\n",
       "</table>\n",
       "</div>"
      ],
      "text/plain": [
       "    수학  영어   음악  체육\n",
       "서준  90  95  100  90"
      ]
     },
     "execution_count": 73,
     "metadata": {},
     "output_type": "execute_result"
    }
   ],
   "source": [
    "df3"
   ]
  },
  {
   "cell_type": "markdown",
   "id": "b636f3f9",
   "metadata": {},
   "source": [
    "#### 열 삭제"
   ]
  },
  {
   "cell_type": "code",
   "execution_count": 75,
   "id": "35fa5c09",
   "metadata": {},
   "outputs": [
    {
     "data": {
      "text/html": [
       "<div>\n",
       "<style scoped>\n",
       "    .dataframe tbody tr th:only-of-type {\n",
       "        vertical-align: middle;\n",
       "    }\n",
       "\n",
       "    .dataframe tbody tr th {\n",
       "        vertical-align: top;\n",
       "    }\n",
       "\n",
       "    .dataframe thead th {\n",
       "        text-align: right;\n",
       "    }\n",
       "</style>\n",
       "<table border=\"1\" class=\"dataframe\">\n",
       "  <thead>\n",
       "    <tr style=\"text-align: right;\">\n",
       "      <th></th>\n",
       "      <th>수학</th>\n",
       "      <th>영어</th>\n",
       "      <th>음악</th>\n",
       "      <th>체육</th>\n",
       "    </tr>\n",
       "  </thead>\n",
       "  <tbody>\n",
       "    <tr>\n",
       "      <th>서준</th>\n",
       "      <td>90</td>\n",
       "      <td>95</td>\n",
       "      <td>100</td>\n",
       "      <td>90</td>\n",
       "    </tr>\n",
       "    <tr>\n",
       "      <th>우현</th>\n",
       "      <td>80</td>\n",
       "      <td>85</td>\n",
       "      <td>80</td>\n",
       "      <td>95</td>\n",
       "    </tr>\n",
       "    <tr>\n",
       "      <th>인아</th>\n",
       "      <td>70</td>\n",
       "      <td>75</td>\n",
       "      <td>40</td>\n",
       "      <td>90</td>\n",
       "    </tr>\n",
       "  </tbody>\n",
       "</table>\n",
       "</div>"
      ],
      "text/plain": [
       "    수학  영어   음악  체육\n",
       "서준  90  95  100  90\n",
       "우현  80  85   80  95\n",
       "인아  70  75   40  90"
      ]
     },
     "execution_count": 75,
     "metadata": {},
     "output_type": "execute_result"
    }
   ],
   "source": [
    "df4 = df.copy()\n",
    "df4"
   ]
  },
  {
   "cell_type": "code",
   "execution_count": 76,
   "id": "e6b34930",
   "metadata": {},
   "outputs": [
    {
     "data": {
      "text/html": [
       "<div>\n",
       "<style scoped>\n",
       "    .dataframe tbody tr th:only-of-type {\n",
       "        vertical-align: middle;\n",
       "    }\n",
       "\n",
       "    .dataframe tbody tr th {\n",
       "        vertical-align: top;\n",
       "    }\n",
       "\n",
       "    .dataframe thead th {\n",
       "        text-align: right;\n",
       "    }\n",
       "</style>\n",
       "<table border=\"1\" class=\"dataframe\">\n",
       "  <thead>\n",
       "    <tr style=\"text-align: right;\">\n",
       "      <th></th>\n",
       "      <th>영어</th>\n",
       "      <th>음악</th>\n",
       "      <th>체육</th>\n",
       "    </tr>\n",
       "  </thead>\n",
       "  <tbody>\n",
       "    <tr>\n",
       "      <th>서준</th>\n",
       "      <td>95</td>\n",
       "      <td>100</td>\n",
       "      <td>90</td>\n",
       "    </tr>\n",
       "    <tr>\n",
       "      <th>우현</th>\n",
       "      <td>85</td>\n",
       "      <td>80</td>\n",
       "      <td>95</td>\n",
       "    </tr>\n",
       "    <tr>\n",
       "      <th>인아</th>\n",
       "      <td>75</td>\n",
       "      <td>40</td>\n",
       "      <td>90</td>\n",
       "    </tr>\n",
       "  </tbody>\n",
       "</table>\n",
       "</div>"
      ],
      "text/plain": [
       "    영어   음악  체육\n",
       "서준  95  100  90\n",
       "우현  85   80  95\n",
       "인아  75   40  90"
      ]
     },
     "execution_count": 76,
     "metadata": {},
     "output_type": "execute_result"
    }
   ],
   "source": [
    "df4 = df4.drop(\"수학\", axis = 1)\n",
    "df4"
   ]
  },
  {
   "cell_type": "code",
   "execution_count": 80,
   "id": "deef6f18",
   "metadata": {},
   "outputs": [],
   "source": [
    "df5 = df.copy()"
   ]
  },
  {
   "cell_type": "code",
   "execution_count": 81,
   "id": "7747aeb6",
   "metadata": {},
   "outputs": [
    {
     "data": {
      "text/html": [
       "<div>\n",
       "<style scoped>\n",
       "    .dataframe tbody tr th:only-of-type {\n",
       "        vertical-align: middle;\n",
       "    }\n",
       "\n",
       "    .dataframe tbody tr th {\n",
       "        vertical-align: top;\n",
       "    }\n",
       "\n",
       "    .dataframe thead th {\n",
       "        text-align: right;\n",
       "    }\n",
       "</style>\n",
       "<table border=\"1\" class=\"dataframe\">\n",
       "  <thead>\n",
       "    <tr style=\"text-align: right;\">\n",
       "      <th></th>\n",
       "      <th>수학</th>\n",
       "      <th>체육</th>\n",
       "    </tr>\n",
       "  </thead>\n",
       "  <tbody>\n",
       "    <tr>\n",
       "      <th>서준</th>\n",
       "      <td>90</td>\n",
       "      <td>90</td>\n",
       "    </tr>\n",
       "    <tr>\n",
       "      <th>우현</th>\n",
       "      <td>80</td>\n",
       "      <td>95</td>\n",
       "    </tr>\n",
       "    <tr>\n",
       "      <th>인아</th>\n",
       "      <td>70</td>\n",
       "      <td>90</td>\n",
       "    </tr>\n",
       "  </tbody>\n",
       "</table>\n",
       "</div>"
      ],
      "text/plain": [
       "    수학  체육\n",
       "서준  90  90\n",
       "우현  80  95\n",
       "인아  70  90"
      ]
     },
     "execution_count": 81,
     "metadata": {},
     "output_type": "execute_result"
    }
   ],
   "source": [
    "df5 = df5.drop([\"영어\", \"음악\"], axis = 1)\n",
    "df5"
   ]
  },
  {
   "cell_type": "markdown",
   "id": "5fe055ef",
   "metadata": {},
   "source": [
    "### 행 선택\n",
    "\n",
    "- loc\n",
    "    - 인덱스 이름을 사용하여 행 선택\n",
    "    \n",
    "- iloc\n",
    "    - 정수형 위치 인덱스를 사용하여 행 선택\n",
    "    \n",
    "| 구분 | loc | iloc |\n",
    "| :--: | :--: | :--: |\n",
    "| 탐색 대상 | 인덱스 이름 | 정수형 위치 인덱스 |\n",
    "| 범위 지정 | 가능(범위의 끝 포함) | 가능(범위의 끝 제외) |"
   ]
  },
  {
   "cell_type": "code",
   "execution_count": 82,
   "id": "d9ee451b",
   "metadata": {},
   "outputs": [
    {
     "data": {
      "text/html": [
       "<div>\n",
       "<style scoped>\n",
       "    .dataframe tbody tr th:only-of-type {\n",
       "        vertical-align: middle;\n",
       "    }\n",
       "\n",
       "    .dataframe tbody tr th {\n",
       "        vertical-align: top;\n",
       "    }\n",
       "\n",
       "    .dataframe thead th {\n",
       "        text-align: right;\n",
       "    }\n",
       "</style>\n",
       "<table border=\"1\" class=\"dataframe\">\n",
       "  <thead>\n",
       "    <tr style=\"text-align: right;\">\n",
       "      <th></th>\n",
       "      <th>수학</th>\n",
       "      <th>영어</th>\n",
       "      <th>음악</th>\n",
       "      <th>체육</th>\n",
       "    </tr>\n",
       "  </thead>\n",
       "  <tbody>\n",
       "    <tr>\n",
       "      <th>서준</th>\n",
       "      <td>90</td>\n",
       "      <td>95</td>\n",
       "      <td>100</td>\n",
       "      <td>90</td>\n",
       "    </tr>\n",
       "    <tr>\n",
       "      <th>우현</th>\n",
       "      <td>80</td>\n",
       "      <td>85</td>\n",
       "      <td>80</td>\n",
       "      <td>95</td>\n",
       "    </tr>\n",
       "    <tr>\n",
       "      <th>인아</th>\n",
       "      <td>70</td>\n",
       "      <td>75</td>\n",
       "      <td>40</td>\n",
       "      <td>90</td>\n",
       "    </tr>\n",
       "  </tbody>\n",
       "</table>\n",
       "</div>"
      ],
      "text/plain": [
       "    수학  영어   음악  체육\n",
       "서준  90  95  100  90\n",
       "우현  80  85   80  95\n",
       "인아  70  75   40  90"
      ]
     },
     "execution_count": 82,
     "metadata": {},
     "output_type": "execute_result"
    }
   ],
   "source": [
    "df"
   ]
  },
  {
   "cell_type": "markdown",
   "id": "ee4e716b",
   "metadata": {},
   "source": [
    "#### 하나의 행 선택"
   ]
  },
  {
   "cell_type": "code",
   "execution_count": 84,
   "id": "118c9abc",
   "metadata": {},
   "outputs": [
    {
     "name": "stdout",
     "output_type": "stream",
     "text": [
      "수학     90\n",
      "영어     95\n",
      "음악    100\n",
      "체육     90\n",
      "Name: 서준, dtype: int64\n"
     ]
    }
   ],
   "source": [
    "label1 = df.loc[\"서준\"]\n",
    "print(label1)"
   ]
  },
  {
   "cell_type": "code",
   "execution_count": 85,
   "id": "8e550afd",
   "metadata": {},
   "outputs": [
    {
     "name": "stdout",
     "output_type": "stream",
     "text": [
      "수학     90\n",
      "영어     95\n",
      "음악    100\n",
      "체육     90\n",
      "Name: 서준, dtype: int64\n"
     ]
    }
   ],
   "source": [
    "position1 = df.iloc[0]\n",
    "print(position1)"
   ]
  },
  {
   "cell_type": "markdown",
   "id": "dccae454",
   "metadata": {},
   "source": [
    "#### 2개 이상의 행 선택"
   ]
  },
  {
   "cell_type": "code",
   "execution_count": 90,
   "id": "e7dfb39a",
   "metadata": {},
   "outputs": [
    {
     "data": {
      "text/html": [
       "<div>\n",
       "<style scoped>\n",
       "    .dataframe tbody tr th:only-of-type {\n",
       "        vertical-align: middle;\n",
       "    }\n",
       "\n",
       "    .dataframe tbody tr th {\n",
       "        vertical-align: top;\n",
       "    }\n",
       "\n",
       "    .dataframe thead th {\n",
       "        text-align: right;\n",
       "    }\n",
       "</style>\n",
       "<table border=\"1\" class=\"dataframe\">\n",
       "  <thead>\n",
       "    <tr style=\"text-align: right;\">\n",
       "      <th></th>\n",
       "      <th>수학</th>\n",
       "      <th>영어</th>\n",
       "      <th>음악</th>\n",
       "      <th>체육</th>\n",
       "    </tr>\n",
       "  </thead>\n",
       "  <tbody>\n",
       "    <tr>\n",
       "      <th>서준</th>\n",
       "      <td>90</td>\n",
       "      <td>95</td>\n",
       "      <td>100</td>\n",
       "      <td>90</td>\n",
       "    </tr>\n",
       "    <tr>\n",
       "      <th>우현</th>\n",
       "      <td>80</td>\n",
       "      <td>85</td>\n",
       "      <td>80</td>\n",
       "      <td>95</td>\n",
       "    </tr>\n",
       "  </tbody>\n",
       "</table>\n",
       "</div>"
      ],
      "text/plain": [
       "    수학  영어   음악  체육\n",
       "서준  90  95  100  90\n",
       "우현  80  85   80  95"
      ]
     },
     "execution_count": 90,
     "metadata": {},
     "output_type": "execute_result"
    }
   ],
   "source": [
    "label2 = df.loc[[\"서준\", \"우현\"]]\n",
    "label2"
   ]
  },
  {
   "cell_type": "code",
   "execution_count": 91,
   "id": "fbc571d8",
   "metadata": {},
   "outputs": [
    {
     "data": {
      "text/html": [
       "<div>\n",
       "<style scoped>\n",
       "    .dataframe tbody tr th:only-of-type {\n",
       "        vertical-align: middle;\n",
       "    }\n",
       "\n",
       "    .dataframe tbody tr th {\n",
       "        vertical-align: top;\n",
       "    }\n",
       "\n",
       "    .dataframe thead th {\n",
       "        text-align: right;\n",
       "    }\n",
       "</style>\n",
       "<table border=\"1\" class=\"dataframe\">\n",
       "  <thead>\n",
       "    <tr style=\"text-align: right;\">\n",
       "      <th></th>\n",
       "      <th>수학</th>\n",
       "      <th>영어</th>\n",
       "      <th>음악</th>\n",
       "      <th>체육</th>\n",
       "    </tr>\n",
       "  </thead>\n",
       "  <tbody>\n",
       "    <tr>\n",
       "      <th>서준</th>\n",
       "      <td>90</td>\n",
       "      <td>95</td>\n",
       "      <td>100</td>\n",
       "      <td>90</td>\n",
       "    </tr>\n",
       "    <tr>\n",
       "      <th>우현</th>\n",
       "      <td>80</td>\n",
       "      <td>85</td>\n",
       "      <td>80</td>\n",
       "      <td>95</td>\n",
       "    </tr>\n",
       "  </tbody>\n",
       "</table>\n",
       "</div>"
      ],
      "text/plain": [
       "    수학  영어   음악  체육\n",
       "서준  90  95  100  90\n",
       "우현  80  85   80  95"
      ]
     },
     "execution_count": 91,
     "metadata": {},
     "output_type": "execute_result"
    }
   ],
   "source": [
    "position2 = df.iloc[[0, 1]]\n",
    "position2"
   ]
  },
  {
   "cell_type": "markdown",
   "id": "8c328bdf",
   "metadata": {},
   "source": [
    "#### 행 인덱스의 범위를 지정하여 행 선택"
   ]
  },
  {
   "cell_type": "code",
   "execution_count": 93,
   "id": "522bfd67",
   "metadata": {},
   "outputs": [
    {
     "data": {
      "text/html": [
       "<div>\n",
       "<style scoped>\n",
       "    .dataframe tbody tr th:only-of-type {\n",
       "        vertical-align: middle;\n",
       "    }\n",
       "\n",
       "    .dataframe tbody tr th {\n",
       "        vertical-align: top;\n",
       "    }\n",
       "\n",
       "    .dataframe thead th {\n",
       "        text-align: right;\n",
       "    }\n",
       "</style>\n",
       "<table border=\"1\" class=\"dataframe\">\n",
       "  <thead>\n",
       "    <tr style=\"text-align: right;\">\n",
       "      <th></th>\n",
       "      <th>수학</th>\n",
       "      <th>영어</th>\n",
       "      <th>음악</th>\n",
       "      <th>체육</th>\n",
       "    </tr>\n",
       "  </thead>\n",
       "  <tbody>\n",
       "    <tr>\n",
       "      <th>서준</th>\n",
       "      <td>90</td>\n",
       "      <td>95</td>\n",
       "      <td>100</td>\n",
       "      <td>90</td>\n",
       "    </tr>\n",
       "    <tr>\n",
       "      <th>우현</th>\n",
       "      <td>80</td>\n",
       "      <td>85</td>\n",
       "      <td>80</td>\n",
       "      <td>95</td>\n",
       "    </tr>\n",
       "  </tbody>\n",
       "</table>\n",
       "</div>"
      ],
      "text/plain": [
       "    수학  영어   음악  체육\n",
       "서준  90  95  100  90\n",
       "우현  80  85   80  95"
      ]
     },
     "execution_count": 93,
     "metadata": {},
     "output_type": "execute_result"
    }
   ],
   "source": [
    "label3 = df.loc[\"서준\":\"우현\"]\n",
    "label3"
   ]
  },
  {
   "cell_type": "code",
   "execution_count": 95,
   "id": "93adff77",
   "metadata": {},
   "outputs": [
    {
     "data": {
      "text/html": [
       "<div>\n",
       "<style scoped>\n",
       "    .dataframe tbody tr th:only-of-type {\n",
       "        vertical-align: middle;\n",
       "    }\n",
       "\n",
       "    .dataframe tbody tr th {\n",
       "        vertical-align: top;\n",
       "    }\n",
       "\n",
       "    .dataframe thead th {\n",
       "        text-align: right;\n",
       "    }\n",
       "</style>\n",
       "<table border=\"1\" class=\"dataframe\">\n",
       "  <thead>\n",
       "    <tr style=\"text-align: right;\">\n",
       "      <th></th>\n",
       "      <th>수학</th>\n",
       "      <th>영어</th>\n",
       "      <th>음악</th>\n",
       "      <th>체육</th>\n",
       "    </tr>\n",
       "  </thead>\n",
       "  <tbody>\n",
       "    <tr>\n",
       "      <th>서준</th>\n",
       "      <td>90</td>\n",
       "      <td>95</td>\n",
       "      <td>100</td>\n",
       "      <td>90</td>\n",
       "    </tr>\n",
       "  </tbody>\n",
       "</table>\n",
       "</div>"
      ],
      "text/plain": [
       "    수학  영어   음악  체육\n",
       "서준  90  95  100  90"
      ]
     },
     "execution_count": 95,
     "metadata": {},
     "output_type": "execute_result"
    }
   ],
   "source": [
    "position3 = df.iloc[0:1]\n",
    "position3"
   ]
  },
  {
   "cell_type": "markdown",
   "id": "c6c2378f",
   "metadata": {},
   "source": [
    "### 열 선택\n",
    "\n",
    "- 열 데이터를 1개만 선택하는 경우\n",
    "    - 대괄호 안에 열 이름을 따옴표와 함께 입력\n",
    "        - df[\"열이름\"]\n",
    "    - 도트(.) 다음에 열 입력을 입력\n",
    "        - 열 이름이 문자열일 경우에만 가능\n",
    "        - df.열이름\n",
    "\n",
    "- 여러 열을 선택하는 경우\n",
    "    - 대괄호 안에 열 이름 리스트 입력\n",
    "    - 리스트의 원소로 열 이름이 하나만 있는 경우에는 시리즈가 아니라 데이터 프레임이 됨\n",
    "        - df[[열1, 열2, 열3, ......]]"
   ]
  },
  {
   "cell_type": "code",
   "execution_count": 96,
   "id": "e05606ee",
   "metadata": {},
   "outputs": [],
   "source": [
    "exam_data = {\"이름\" : [\"서준\", \"우현\", \"인아\"],\n",
    "             \"수학\" : [90, 80, 70], \n",
    "             \"영어\" : [95, 85, 75], \n",
    "             \"음악\" : [100, 80, 40], \n",
    "             \"체육\" : [90, 95, 90]}\n",
    "\n",
    "df = pd.DataFrame(exam_data)"
   ]
  },
  {
   "cell_type": "code",
   "execution_count": 97,
   "id": "fe4dc6d3",
   "metadata": {},
   "outputs": [
    {
     "data": {
      "text/html": [
       "<div>\n",
       "<style scoped>\n",
       "    .dataframe tbody tr th:only-of-type {\n",
       "        vertical-align: middle;\n",
       "    }\n",
       "\n",
       "    .dataframe tbody tr th {\n",
       "        vertical-align: top;\n",
       "    }\n",
       "\n",
       "    .dataframe thead th {\n",
       "        text-align: right;\n",
       "    }\n",
       "</style>\n",
       "<table border=\"1\" class=\"dataframe\">\n",
       "  <thead>\n",
       "    <tr style=\"text-align: right;\">\n",
       "      <th></th>\n",
       "      <th>이름</th>\n",
       "      <th>수학</th>\n",
       "      <th>영어</th>\n",
       "      <th>음악</th>\n",
       "      <th>체육</th>\n",
       "    </tr>\n",
       "  </thead>\n",
       "  <tbody>\n",
       "    <tr>\n",
       "      <th>0</th>\n",
       "      <td>서준</td>\n",
       "      <td>90</td>\n",
       "      <td>95</td>\n",
       "      <td>100</td>\n",
       "      <td>90</td>\n",
       "    </tr>\n",
       "    <tr>\n",
       "      <th>1</th>\n",
       "      <td>우현</td>\n",
       "      <td>80</td>\n",
       "      <td>85</td>\n",
       "      <td>80</td>\n",
       "      <td>95</td>\n",
       "    </tr>\n",
       "    <tr>\n",
       "      <th>2</th>\n",
       "      <td>인아</td>\n",
       "      <td>70</td>\n",
       "      <td>75</td>\n",
       "      <td>40</td>\n",
       "      <td>90</td>\n",
       "    </tr>\n",
       "  </tbody>\n",
       "</table>\n",
       "</div>"
      ],
      "text/plain": [
       "   이름  수학  영어   음악  체육\n",
       "0  서준  90  95  100  90\n",
       "1  우현  80  85   80  95\n",
       "2  인아  70  75   40  90"
      ]
     },
     "execution_count": 97,
     "metadata": {},
     "output_type": "execute_result"
    }
   ],
   "source": [
    "df"
   ]
  },
  {
   "cell_type": "code",
   "execution_count": 98,
   "id": "4540802d",
   "metadata": {},
   "outputs": [],
   "source": [
    "# 수학 점수 데이터만 선택\n",
    "math1 = df[\"수학\"]"
   ]
  },
  {
   "cell_type": "code",
   "execution_count": 99,
   "id": "1e3a3126",
   "metadata": {},
   "outputs": [
    {
     "data": {
      "text/plain": [
       "0    90\n",
       "1    80\n",
       "2    70\n",
       "Name: 수학, dtype: int64"
      ]
     },
     "execution_count": 99,
     "metadata": {},
     "output_type": "execute_result"
    }
   ],
   "source": [
    "math1"
   ]
  },
  {
   "cell_type": "code",
   "execution_count": 101,
   "id": "dfe57780",
   "metadata": {},
   "outputs": [
    {
     "data": {
      "text/plain": [
       "pandas.core.series.Series"
      ]
     },
     "execution_count": 101,
     "metadata": {},
     "output_type": "execute_result"
    }
   ],
   "source": [
    "type(math1)"
   ]
  },
  {
   "cell_type": "code",
   "execution_count": 104,
   "id": "41de3bb5",
   "metadata": {},
   "outputs": [],
   "source": [
    "eng1 = df.영어"
   ]
  },
  {
   "cell_type": "code",
   "execution_count": 105,
   "id": "7ef6b757",
   "metadata": {},
   "outputs": [
    {
     "data": {
      "text/plain": [
       "0    95\n",
       "1    85\n",
       "2    75\n",
       "Name: 영어, dtype: int64"
      ]
     },
     "execution_count": 105,
     "metadata": {},
     "output_type": "execute_result"
    }
   ],
   "source": [
    "eng1"
   ]
  },
  {
   "cell_type": "code",
   "execution_count": 106,
   "id": "b427c5af",
   "metadata": {},
   "outputs": [
    {
     "data": {
      "text/plain": [
       "pandas.core.series.Series"
      ]
     },
     "execution_count": 106,
     "metadata": {},
     "output_type": "execute_result"
    }
   ],
   "source": [
    "type(eng1)"
   ]
  },
  {
   "cell_type": "code",
   "execution_count": 107,
   "id": "6810455a",
   "metadata": {},
   "outputs": [
    {
     "data": {
      "text/html": [
       "<div>\n",
       "<style scoped>\n",
       "    .dataframe tbody tr th:only-of-type {\n",
       "        vertical-align: middle;\n",
       "    }\n",
       "\n",
       "    .dataframe tbody tr th {\n",
       "        vertical-align: top;\n",
       "    }\n",
       "\n",
       "    .dataframe thead th {\n",
       "        text-align: right;\n",
       "    }\n",
       "</style>\n",
       "<table border=\"1\" class=\"dataframe\">\n",
       "  <thead>\n",
       "    <tr style=\"text-align: right;\">\n",
       "      <th></th>\n",
       "      <th>음악</th>\n",
       "      <th>체육</th>\n",
       "    </tr>\n",
       "  </thead>\n",
       "  <tbody>\n",
       "    <tr>\n",
       "      <th>0</th>\n",
       "      <td>100</td>\n",
       "      <td>90</td>\n",
       "    </tr>\n",
       "    <tr>\n",
       "      <th>1</th>\n",
       "      <td>80</td>\n",
       "      <td>95</td>\n",
       "    </tr>\n",
       "    <tr>\n",
       "      <th>2</th>\n",
       "      <td>40</td>\n",
       "      <td>90</td>\n",
       "    </tr>\n",
       "  </tbody>\n",
       "</table>\n",
       "</div>"
      ],
      "text/plain": [
       "    음악  체육\n",
       "0  100  90\n",
       "1   80  95\n",
       "2   40  90"
      ]
     },
     "execution_count": 107,
     "metadata": {},
     "output_type": "execute_result"
    }
   ],
   "source": [
    "# 2개 이상의 열 추출\n",
    "music_gym = df[[\"음악\", \"체육\"]]\n",
    "music_gym"
   ]
  },
  {
   "cell_type": "code",
   "execution_count": 109,
   "id": "7beb12ea",
   "metadata": {},
   "outputs": [
    {
     "data": {
      "text/plain": [
       "pandas.core.frame.DataFrame"
      ]
     },
     "execution_count": 109,
     "metadata": {},
     "output_type": "execute_result"
    }
   ],
   "source": [
    "type(music_gym)"
   ]
  },
  {
   "cell_type": "code",
   "execution_count": 111,
   "id": "e37436c8",
   "metadata": {},
   "outputs": [
    {
     "name": "stdout",
     "output_type": "stream",
     "text": [
      "<class 'pandas.core.frame.DataFrame'>\n"
     ]
    },
    {
     "data": {
      "text/html": [
       "<div>\n",
       "<style scoped>\n",
       "    .dataframe tbody tr th:only-of-type {\n",
       "        vertical-align: middle;\n",
       "    }\n",
       "\n",
       "    .dataframe tbody tr th {\n",
       "        vertical-align: top;\n",
       "    }\n",
       "\n",
       "    .dataframe thead th {\n",
       "        text-align: right;\n",
       "    }\n",
       "</style>\n",
       "<table border=\"1\" class=\"dataframe\">\n",
       "  <thead>\n",
       "    <tr style=\"text-align: right;\">\n",
       "      <th></th>\n",
       "      <th>수학</th>\n",
       "    </tr>\n",
       "  </thead>\n",
       "  <tbody>\n",
       "    <tr>\n",
       "      <th>0</th>\n",
       "      <td>90</td>\n",
       "    </tr>\n",
       "    <tr>\n",
       "      <th>1</th>\n",
       "      <td>80</td>\n",
       "    </tr>\n",
       "    <tr>\n",
       "      <th>2</th>\n",
       "      <td>70</td>\n",
       "    </tr>\n",
       "  </tbody>\n",
       "</table>\n",
       "</div>"
      ],
      "text/plain": [
       "   수학\n",
       "0  90\n",
       "1  80\n",
       "2  70"
      ]
     },
     "execution_count": 111,
     "metadata": {},
     "output_type": "execute_result"
    }
   ],
   "source": [
    "# 수학 점수 데이터만 데이터 프레임으로 추출\n",
    "math2 = df[[\"수학\"]]\n",
    "print(type(math2))\n",
    "math2"
   ]
  },
  {
   "cell_type": "markdown",
   "id": "8e59fe05",
   "metadata": {},
   "source": [
    "#### 범위 슬라이싱\n",
    "\n",
    "- df.iloc[시작 인덱스 : 종료 인덱스 : 증감값(default = 1)]"
   ]
  },
  {
   "cell_type": "code",
   "execution_count": 112,
   "id": "0c12a873",
   "metadata": {},
   "outputs": [
    {
     "data": {
      "text/html": [
       "<div>\n",
       "<style scoped>\n",
       "    .dataframe tbody tr th:only-of-type {\n",
       "        vertical-align: middle;\n",
       "    }\n",
       "\n",
       "    .dataframe tbody tr th {\n",
       "        vertical-align: top;\n",
       "    }\n",
       "\n",
       "    .dataframe thead th {\n",
       "        text-align: right;\n",
       "    }\n",
       "</style>\n",
       "<table border=\"1\" class=\"dataframe\">\n",
       "  <thead>\n",
       "    <tr style=\"text-align: right;\">\n",
       "      <th></th>\n",
       "      <th>이름</th>\n",
       "      <th>수학</th>\n",
       "      <th>영어</th>\n",
       "      <th>음악</th>\n",
       "      <th>체육</th>\n",
       "    </tr>\n",
       "  </thead>\n",
       "  <tbody>\n",
       "    <tr>\n",
       "      <th>0</th>\n",
       "      <td>서준</td>\n",
       "      <td>90</td>\n",
       "      <td>95</td>\n",
       "      <td>100</td>\n",
       "      <td>90</td>\n",
       "    </tr>\n",
       "    <tr>\n",
       "      <th>2</th>\n",
       "      <td>인아</td>\n",
       "      <td>70</td>\n",
       "      <td>75</td>\n",
       "      <td>40</td>\n",
       "      <td>90</td>\n",
       "    </tr>\n",
       "  </tbody>\n",
       "</table>\n",
       "</div>"
      ],
      "text/plain": [
       "   이름  수학  영어   음악  체육\n",
       "0  서준  90  95  100  90\n",
       "2  인아  70  75   40  90"
      ]
     },
     "execution_count": 112,
     "metadata": {},
     "output_type": "execute_result"
    }
   ],
   "source": [
    "df.iloc[::2]"
   ]
  },
  {
   "cell_type": "code",
   "execution_count": 113,
   "id": "7c7a0b8f",
   "metadata": {},
   "outputs": [
    {
     "data": {
      "text/html": [
       "<div>\n",
       "<style scoped>\n",
       "    .dataframe tbody tr th:only-of-type {\n",
       "        vertical-align: middle;\n",
       "    }\n",
       "\n",
       "    .dataframe tbody tr th {\n",
       "        vertical-align: top;\n",
       "    }\n",
       "\n",
       "    .dataframe thead th {\n",
       "        text-align: right;\n",
       "    }\n",
       "</style>\n",
       "<table border=\"1\" class=\"dataframe\">\n",
       "  <thead>\n",
       "    <tr style=\"text-align: right;\">\n",
       "      <th></th>\n",
       "      <th>이름</th>\n",
       "      <th>수학</th>\n",
       "      <th>영어</th>\n",
       "      <th>음악</th>\n",
       "      <th>체육</th>\n",
       "    </tr>\n",
       "  </thead>\n",
       "  <tbody>\n",
       "    <tr>\n",
       "      <th>0</th>\n",
       "      <td>서준</td>\n",
       "      <td>90</td>\n",
       "      <td>95</td>\n",
       "      <td>100</td>\n",
       "      <td>90</td>\n",
       "    </tr>\n",
       "    <tr>\n",
       "      <th>2</th>\n",
       "      <td>인아</td>\n",
       "      <td>70</td>\n",
       "      <td>75</td>\n",
       "      <td>40</td>\n",
       "      <td>90</td>\n",
       "    </tr>\n",
       "  </tbody>\n",
       "</table>\n",
       "</div>"
      ],
      "text/plain": [
       "   이름  수학  영어   음악  체육\n",
       "0  서준  90  95  100  90\n",
       "2  인아  70  75   40  90"
      ]
     },
     "execution_count": 113,
     "metadata": {},
     "output_type": "execute_result"
    }
   ],
   "source": [
    "# 되기는 하는데 어감이 이상하다...\n",
    "df.loc[::2]"
   ]
  },
  {
   "cell_type": "code",
   "execution_count": 114,
   "id": "6078e738",
   "metadata": {},
   "outputs": [
    {
     "data": {
      "text/html": [
       "<div>\n",
       "<style scoped>\n",
       "    .dataframe tbody tr th:only-of-type {\n",
       "        vertical-align: middle;\n",
       "    }\n",
       "\n",
       "    .dataframe tbody tr th {\n",
       "        vertical-align: top;\n",
       "    }\n",
       "\n",
       "    .dataframe thead th {\n",
       "        text-align: right;\n",
       "    }\n",
       "</style>\n",
       "<table border=\"1\" class=\"dataframe\">\n",
       "  <thead>\n",
       "    <tr style=\"text-align: right;\">\n",
       "      <th></th>\n",
       "      <th>이름</th>\n",
       "      <th>수학</th>\n",
       "      <th>영어</th>\n",
       "      <th>음악</th>\n",
       "      <th>체육</th>\n",
       "    </tr>\n",
       "  </thead>\n",
       "  <tbody>\n",
       "    <tr>\n",
       "      <th>0</th>\n",
       "      <td>서준</td>\n",
       "      <td>90</td>\n",
       "      <td>95</td>\n",
       "      <td>100</td>\n",
       "      <td>90</td>\n",
       "    </tr>\n",
       "    <tr>\n",
       "      <th>2</th>\n",
       "      <td>인아</td>\n",
       "      <td>70</td>\n",
       "      <td>75</td>\n",
       "      <td>40</td>\n",
       "      <td>90</td>\n",
       "    </tr>\n",
       "  </tbody>\n",
       "</table>\n",
       "</div>"
      ],
      "text/plain": [
       "   이름  수학  영어   음악  체육\n",
       "0  서준  90  95  100  90\n",
       "2  인아  70  75   40  90"
      ]
     },
     "execution_count": 114,
     "metadata": {},
     "output_type": "execute_result"
    }
   ],
   "source": [
    "df.iloc[0:3:2]"
   ]
  },
  {
   "cell_type": "code",
   "execution_count": 115,
   "id": "5a411dff",
   "metadata": {},
   "outputs": [
    {
     "data": {
      "text/html": [
       "<div>\n",
       "<style scoped>\n",
       "    .dataframe tbody tr th:only-of-type {\n",
       "        vertical-align: middle;\n",
       "    }\n",
       "\n",
       "    .dataframe tbody tr th {\n",
       "        vertical-align: top;\n",
       "    }\n",
       "\n",
       "    .dataframe thead th {\n",
       "        text-align: right;\n",
       "    }\n",
       "</style>\n",
       "<table border=\"1\" class=\"dataframe\">\n",
       "  <thead>\n",
       "    <tr style=\"text-align: right;\">\n",
       "      <th></th>\n",
       "      <th>이름</th>\n",
       "      <th>수학</th>\n",
       "      <th>영어</th>\n",
       "      <th>음악</th>\n",
       "      <th>체육</th>\n",
       "    </tr>\n",
       "  </thead>\n",
       "  <tbody>\n",
       "    <tr>\n",
       "      <th>2</th>\n",
       "      <td>인아</td>\n",
       "      <td>70</td>\n",
       "      <td>75</td>\n",
       "      <td>40</td>\n",
       "      <td>90</td>\n",
       "    </tr>\n",
       "    <tr>\n",
       "      <th>1</th>\n",
       "      <td>우현</td>\n",
       "      <td>80</td>\n",
       "      <td>85</td>\n",
       "      <td>80</td>\n",
       "      <td>95</td>\n",
       "    </tr>\n",
       "    <tr>\n",
       "      <th>0</th>\n",
       "      <td>서준</td>\n",
       "      <td>90</td>\n",
       "      <td>95</td>\n",
       "      <td>100</td>\n",
       "      <td>90</td>\n",
       "    </tr>\n",
       "  </tbody>\n",
       "</table>\n",
       "</div>"
      ],
      "text/plain": [
       "   이름  수학  영어   음악  체육\n",
       "2  인아  70  75   40  90\n",
       "1  우현  80  85   80  95\n",
       "0  서준  90  95  100  90"
      ]
     },
     "execution_count": 115,
     "metadata": {},
     "output_type": "execute_result"
    }
   ],
   "source": [
    "df.iloc[::-1]"
   ]
  },
  {
   "cell_type": "markdown",
   "id": "e940027b",
   "metadata": {},
   "source": [
    "### 원소 선택\n",
    "\n",
    "- 데이터프레임의 행 인덱스와 열 이름을 [행, 열] 형식의 2차원 좌표로 입력하여 원소를 지정"
   ]
  },
  {
   "cell_type": "code",
   "execution_count": 116,
   "id": "34f6bd23",
   "metadata": {},
   "outputs": [
    {
     "data": {
      "text/plain": [
       "2    75\n",
       "1    85\n",
       "0    95\n",
       "Name: 영어, dtype: int64"
      ]
     },
     "execution_count": 116,
     "metadata": {},
     "output_type": "execute_result"
    }
   ],
   "source": [
    "df.iloc[::-1 , 2]"
   ]
  },
  {
   "cell_type": "code",
   "execution_count": null,
   "id": "e0a52b8e",
   "metadata": {},
   "outputs": [],
   "source": []
  },
  {
   "cell_type": "code",
   "execution_count": null,
   "id": "c24a06c2",
   "metadata": {},
   "outputs": [],
   "source": []
  },
  {
   "cell_type": "code",
   "execution_count": null,
   "id": "631593bc",
   "metadata": {},
   "outputs": [],
   "source": []
  },
  {
   "cell_type": "code",
   "execution_count": null,
   "id": "b54d577b",
   "metadata": {},
   "outputs": [],
   "source": []
  },
  {
   "cell_type": "code",
   "execution_count": null,
   "id": "bec5c72c",
   "metadata": {},
   "outputs": [],
   "source": []
  },
  {
   "cell_type": "code",
   "execution_count": null,
   "id": "0abd5634",
   "metadata": {},
   "outputs": [],
   "source": []
  }
 ],
 "metadata": {
  "kernelspec": {
   "display_name": "Python 3 (ipykernel)",
   "language": "python",
   "name": "python3"
  },
  "language_info": {
   "codemirror_mode": {
    "name": "ipython",
    "version": 3
   },
   "file_extension": ".py",
   "mimetype": "text/x-python",
   "name": "python",
   "nbconvert_exporter": "python",
   "pygments_lexer": "ipython3",
   "version": "3.11.5"
  }
 },
 "nbformat": 4,
 "nbformat_minor": 5
}
