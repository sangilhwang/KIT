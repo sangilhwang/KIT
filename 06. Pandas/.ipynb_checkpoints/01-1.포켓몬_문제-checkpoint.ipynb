{
 "cells": [
  {
   "cell_type": "code",
   "execution_count": 1,
   "id": "941d6e18",
   "metadata": {},
   "outputs": [],
   "source": [
    "import pandas as pd"
   ]
  },
  {
   "cell_type": "code",
   "execution_count": 2,
   "id": "9e74732d",
   "metadata": {},
   "outputs": [],
   "source": [
    "raw_data = {\"이름\": ['이상해씨', '파이리','꼬부기','캐터피'],\n",
    "            \"진화형\": ['이상해풀','리자드','어니부기','단데기'],\n",
    "            \"타입\": ['풀', '불', '물', '벌레'],\n",
    "            \"체력\": [45, 39, 44, 45],\n",
    "            \"도감등록\": ['yes', 'no','yes','no']                        \n",
    "            }"
   ]
  },
  {
   "cell_type": "markdown",
   "id": "72ae6ee7",
   "metadata": {},
   "source": [
    "# 문제1. raw_data를 데이터프레임 형태로 poke 변수에 할당"
   ]
  },
  {
   "cell_type": "code",
   "execution_count": 3,
   "id": "58688302",
   "metadata": {},
   "outputs": [
    {
     "data": {
      "text/html": [
       "<div>\n",
       "<style scoped>\n",
       "    .dataframe tbody tr th:only-of-type {\n",
       "        vertical-align: middle;\n",
       "    }\n",
       "\n",
       "    .dataframe tbody tr th {\n",
       "        vertical-align: top;\n",
       "    }\n",
       "\n",
       "    .dataframe thead th {\n",
       "        text-align: right;\n",
       "    }\n",
       "</style>\n",
       "<table border=\"1\" class=\"dataframe\">\n",
       "  <thead>\n",
       "    <tr style=\"text-align: right;\">\n",
       "      <th></th>\n",
       "      <th>이름</th>\n",
       "      <th>진화형</th>\n",
       "      <th>타입</th>\n",
       "      <th>체력</th>\n",
       "      <th>도감등록</th>\n",
       "    </tr>\n",
       "  </thead>\n",
       "  <tbody>\n",
       "    <tr>\n",
       "      <th>0</th>\n",
       "      <td>이상해씨</td>\n",
       "      <td>이상해풀</td>\n",
       "      <td>풀</td>\n",
       "      <td>45</td>\n",
       "      <td>yes</td>\n",
       "    </tr>\n",
       "    <tr>\n",
       "      <th>1</th>\n",
       "      <td>파이리</td>\n",
       "      <td>리자드</td>\n",
       "      <td>불</td>\n",
       "      <td>39</td>\n",
       "      <td>no</td>\n",
       "    </tr>\n",
       "    <tr>\n",
       "      <th>2</th>\n",
       "      <td>꼬부기</td>\n",
       "      <td>어니부기</td>\n",
       "      <td>물</td>\n",
       "      <td>44</td>\n",
       "      <td>yes</td>\n",
       "    </tr>\n",
       "    <tr>\n",
       "      <th>3</th>\n",
       "      <td>캐터피</td>\n",
       "      <td>단데기</td>\n",
       "      <td>벌레</td>\n",
       "      <td>45</td>\n",
       "      <td>no</td>\n",
       "    </tr>\n",
       "  </tbody>\n",
       "</table>\n",
       "</div>"
      ],
      "text/plain": [
       "     이름   진화형  타입  체력 도감등록\n",
       "0  이상해씨  이상해풀   풀  45  yes\n",
       "1   파이리   리자드   불  39   no\n",
       "2   꼬부기  어니부기   물  44  yes\n",
       "3   캐터피   단데기  벌레  45   no"
      ]
     },
     "execution_count": 3,
     "metadata": {},
     "output_type": "execute_result"
    }
   ],
   "source": [
    "poke = pd.DataFrame(raw_data)\n",
    "poke"
   ]
  },
  {
   "cell_type": "markdown",
   "id": "0e099b6b",
   "metadata": {},
   "source": [
    "# 문제2. 데이터프레임의 컬럼을 이름, 타입, 체력, 진화형, 도감등록 순으로 수정"
   ]
  },
  {
   "cell_type": "code",
   "execution_count": null,
   "id": "df8f01bd",
   "metadata": {},
   "outputs": [],
   "source": [
    "poke.columns = [\"이름\", \"타입\"]"
   ]
  },
  {
   "cell_type": "markdown",
   "id": "22be7455",
   "metadata": {},
   "source": [
    "# 문제3. 서식지 컬럼에 아래의 정보를 추가\n",
    "\n",
    "- 이상해씨 : 공원\n",
    "- 파이리 : 도로\n",
    "- 꼬부기 : 호수\n",
    "- 캐터피 : 숲"
   ]
  },
  {
   "cell_type": "code",
   "execution_count": null,
   "id": "5bfa53f7",
   "metadata": {},
   "outputs": [],
   "source": []
  },
  {
   "cell_type": "markdown",
   "id": "f2ffe8f1",
   "metadata": {},
   "source": [
    "# 문제4. 각 컬럼의 데이터 자료형 확인"
   ]
  },
  {
   "cell_type": "code",
   "execution_count": null,
   "id": "5ddad0b5",
   "metadata": {},
   "outputs": [],
   "source": []
  }
 ],
 "metadata": {
  "kernelspec": {
   "display_name": "Python 3 (ipykernel)",
   "language": "python",
   "name": "python3"
  },
  "language_info": {
   "codemirror_mode": {
    "name": "ipython",
    "version": 3
   },
   "file_extension": ".py",
   "mimetype": "text/x-python",
   "name": "python",
   "nbconvert_exporter": "python",
   "pygments_lexer": "ipython3",
   "version": "3.11.5"
  }
 },
 "nbformat": 4,
 "nbformat_minor": 5
}
