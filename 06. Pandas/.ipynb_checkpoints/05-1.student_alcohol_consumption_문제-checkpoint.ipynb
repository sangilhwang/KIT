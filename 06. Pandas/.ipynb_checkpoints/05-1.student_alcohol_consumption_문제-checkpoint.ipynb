{
 "cells": [
  {
   "cell_type": "code",
   "execution_count": 2,
   "id": "ce5e30e4",
   "metadata": {},
   "outputs": [],
   "source": [
    "import pandas as pd"
   ]
  },
  {
   "cell_type": "markdown",
   "id": "89d1b31e",
   "metadata": {},
   "source": [
    "# 문제1. student-mat.csv 데이터 읽어오기"
   ]
  },
  {
   "cell_type": "code",
   "execution_count": 4,
   "id": "fab40b30",
   "metadata": {},
   "outputs": [],
   "source": [
    "df = pd.read_csv(\"./data/student-mat.csv\")"
   ]
  },
  {
   "cell_type": "markdown",
   "id": "5c04d51e",
   "metadata": {},
   "source": [
    "# 문제2. 데이터프레임의 school열부터 guardian열까지 추출"
   ]
  },
  {
   "cell_type": "code",
   "execution_count": 8,
   "id": "ff13af0e",
   "metadata": {},
   "outputs": [
    {
     "data": {
      "text/html": [
       "<div>\n",
       "<style scoped>\n",
       "    .dataframe tbody tr th:only-of-type {\n",
       "        vertical-align: middle;\n",
       "    }\n",
       "\n",
       "    .dataframe tbody tr th {\n",
       "        vertical-align: top;\n",
       "    }\n",
       "\n",
       "    .dataframe thead th {\n",
       "        text-align: right;\n",
       "    }\n",
       "</style>\n",
       "<table border=\"1\" class=\"dataframe\">\n",
       "  <thead>\n",
       "    <tr style=\"text-align: right;\">\n",
       "      <th></th>\n",
       "      <th>school</th>\n",
       "      <th>sex</th>\n",
       "      <th>age</th>\n",
       "      <th>address</th>\n",
       "      <th>famsize</th>\n",
       "      <th>Pstatus</th>\n",
       "      <th>Medu</th>\n",
       "      <th>Fedu</th>\n",
       "      <th>Mjob</th>\n",
       "      <th>Fjob</th>\n",
       "      <th>...</th>\n",
       "      <th>famrel</th>\n",
       "      <th>freetime</th>\n",
       "      <th>goout</th>\n",
       "      <th>Dalc</th>\n",
       "      <th>Walc</th>\n",
       "      <th>health</th>\n",
       "      <th>absences</th>\n",
       "      <th>G1</th>\n",
       "      <th>G2</th>\n",
       "      <th>G3</th>\n",
       "    </tr>\n",
       "  </thead>\n",
       "  <tbody>\n",
       "  </tbody>\n",
       "</table>\n",
       "<p>0 rows × 33 columns</p>\n",
       "</div>"
      ],
      "text/plain": [
       "Empty DataFrame\n",
       "Columns: [school, sex, age, address, famsize, Pstatus, Medu, Fedu, Mjob, Fjob, reason, guardian, traveltime, studytime, failures, schoolsup, famsup, paid, activities, nursery, higher, internet, romantic, famrel, freetime, goout, Dalc, Walc, health, absences, G1, G2, G3]\n",
       "Index: []\n",
       "\n",
       "[0 rows x 33 columns]"
      ]
     },
     "execution_count": 8,
     "metadata": {},
     "output_type": "execute_result"
    }
   ],
   "source": [
    "df.loc[:, \"school\":\"guardian\"]"
   ]
  },
  {
   "cell_type": "markdown",
   "id": "7b4cd063",
   "metadata": {},
   "source": [
    "# 문제3. 문자열 데이터를 입력 받고 capitalize() 메소드를 적용하는 capitalizer 함수 정의"
   ]
  },
  {
   "cell_type": "code",
   "execution_count": null,
   "id": "f2568f9b",
   "metadata": {},
   "outputs": [],
   "source": []
  },
  {
   "cell_type": "markdown",
   "id": "de498d0e",
   "metadata": {},
   "source": [
    "# 문제4. Mjob과 Fjob열에 capitalizer 함수 적용된 결과 출력"
   ]
  },
  {
   "cell_type": "code",
   "execution_count": null,
   "id": "cb5e35c7",
   "metadata": {},
   "outputs": [],
   "source": []
  },
  {
   "cell_type": "markdown",
   "id": "cdbb2496",
   "metadata": {},
   "source": [
    "# 문제5. age가 17을 초과하는지 여부를 True, False로 표현하는 legal_drinker 열 생성"
   ]
  },
  {
   "cell_type": "code",
   "execution_count": null,
   "id": "ec83235c",
   "metadata": {},
   "outputs": [],
   "source": []
  },
  {
   "cell_type": "markdown",
   "id": "d15fd130",
   "metadata": {},
   "source": [
    "# 문제6. int타입의 데이터에만 10을 곱하기"
   ]
  },
  {
   "cell_type": "code",
   "execution_count": null,
   "id": "842fc1f4",
   "metadata": {},
   "outputs": [],
   "source": []
  }
 ],
 "metadata": {
  "kernelspec": {
   "display_name": "Python 3 (ipykernel)",
   "language": "python",
   "name": "python3"
  },
  "language_info": {
   "codemirror_mode": {
    "name": "ipython",
    "version": 3
   },
   "file_extension": ".py",
   "mimetype": "text/x-python",
   "name": "python",
   "nbconvert_exporter": "python",
   "pygments_lexer": "ipython3",
   "version": "3.11.5"
  }
 },
 "nbformat": 4,
 "nbformat_minor": 5
}
