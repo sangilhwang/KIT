{
 "cells": [
  {
   "cell_type": "code",
   "execution_count": 1,
   "id": "d9a782e6",
   "metadata": {},
   "outputs": [],
   "source": [
    "import pandas as pd"
   ]
  },
  {
   "cell_type": "markdown",
   "id": "9a7c72a9",
   "metadata": {},
   "source": [
    "# 문제1. vaccine.csv 데이터를 데이터프레임으로 읽기"
   ]
  },
  {
   "cell_type": "code",
   "execution_count": 2,
   "id": "38d4594d",
   "metadata": {},
   "outputs": [],
   "source": [
    "df = pd.read_csv(\"./data/vaccine.csv\")"
   ]
  },
  {
   "cell_type": "code",
   "execution_count": 3,
   "id": "f6e76c40",
   "metadata": {},
   "outputs": [
    {
     "data": {
      "text/html": [
       "<div>\n",
       "<style scoped>\n",
       "    .dataframe tbody tr th:only-of-type {\n",
       "        vertical-align: middle;\n",
       "    }\n",
       "\n",
       "    .dataframe tbody tr th {\n",
       "        vertical-align: top;\n",
       "    }\n",
       "\n",
       "    .dataframe thead th {\n",
       "        text-align: right;\n",
       "    }\n",
       "</style>\n",
       "<table border=\"1\" class=\"dataframe\">\n",
       "  <thead>\n",
       "    <tr style=\"text-align: right;\">\n",
       "      <th></th>\n",
       "      <th>date</th>\n",
       "      <th>subject</th>\n",
       "      <th>day1num</th>\n",
       "      <th>day1sum</th>\n",
       "      <th>day1rate</th>\n",
       "      <th>day2num</th>\n",
       "      <th>day2sum</th>\n",
       "      <th>day2rate</th>\n",
       "    </tr>\n",
       "  </thead>\n",
       "  <tbody>\n",
       "    <tr>\n",
       "      <th>0</th>\n",
       "      <td>2021.10.16</td>\n",
       "      <td>9505868</td>\n",
       "      <td>10673</td>\n",
       "      <td>7562283</td>\n",
       "      <td>79.6</td>\n",
       "      <td>66910</td>\n",
       "      <td>6191341</td>\n",
       "      <td>65.1</td>\n",
       "    </tr>\n",
       "    <tr>\n",
       "      <th>1</th>\n",
       "      <td>2021.10.15</td>\n",
       "      <td>9505868</td>\n",
       "      <td>14556</td>\n",
       "      <td>7551829</td>\n",
       "      <td>79.4</td>\n",
       "      <td>133580</td>\n",
       "      <td>6124432</td>\n",
       "      <td>64.4</td>\n",
       "    </tr>\n",
       "    <tr>\n",
       "      <th>2</th>\n",
       "      <td>2021.10.14</td>\n",
       "      <td>9505868</td>\n",
       "      <td>9609</td>\n",
       "      <td>7536654</td>\n",
       "      <td>79.3</td>\n",
       "      <td>94569</td>\n",
       "      <td>5989111</td>\n",
       "      <td>63.0</td>\n",
       "    </tr>\n",
       "    <tr>\n",
       "      <th>3</th>\n",
       "      <td>2021.10.13</td>\n",
       "      <td>9505868</td>\n",
       "      <td>9804</td>\n",
       "      <td>7526430</td>\n",
       "      <td>79.2</td>\n",
       "      <td>77503</td>\n",
       "      <td>5893191</td>\n",
       "      <td>62.0</td>\n",
       "    </tr>\n",
       "    <tr>\n",
       "      <th>4</th>\n",
       "      <td>2021.10.12</td>\n",
       "      <td>9505868</td>\n",
       "      <td>17274</td>\n",
       "      <td>7516070</td>\n",
       "      <td>79.1</td>\n",
       "      <td>110204</td>\n",
       "      <td>5814018</td>\n",
       "      <td>61.2</td>\n",
       "    </tr>\n",
       "  </tbody>\n",
       "</table>\n",
       "</div>"
      ],
      "text/plain": [
       "         date  subject  day1num  day1sum  day1rate  day2num  day2sum  day2rate\n",
       "0  2021.10.16  9505868    10673  7562283      79.6    66910  6191341      65.1\n",
       "1  2021.10.15  9505868    14556  7551829      79.4   133580  6124432      64.4\n",
       "2  2021.10.14  9505868     9609  7536654      79.3    94569  5989111      63.0\n",
       "3  2021.10.13  9505868     9804  7526430      79.2    77503  5893191      62.0\n",
       "4  2021.10.12  9505868    17274  7516070      79.1   110204  5814018      61.2"
      ]
     },
     "execution_count": 3,
     "metadata": {},
     "output_type": "execute_result"
    }
   ],
   "source": [
    "df.head()"
   ]
  },
  {
   "cell_type": "markdown",
   "id": "fad5290a",
   "metadata": {},
   "source": [
    "# 문제2. 데이터프레임에서 필요 없는 열을 삭제하기\n",
    "\n",
    "- 삭제할 열 : day1sum, day1rate, day2sum, day2rate"
   ]
  },
  {
   "cell_type": "code",
   "execution_count": 5,
   "id": "14f24ff7",
   "metadata": {},
   "outputs": [],
   "source": [
    "df.drop([\"day1sum\", \"day1rate\", \"day2sum\", \"day2rate\"], axis = 1, inplace = True)"
   ]
  },
  {
   "cell_type": "code",
   "execution_count": null,
   "id": "daac57e4",
   "metadata": {},
   "outputs": [],
   "source": [
    "df.head"
   ]
  },
  {
   "cell_type": "markdown",
   "id": "2ba55f5f",
   "metadata": {},
   "source": [
    "# 문제3. 데이터프레임의 기초통계량을 확인하기"
   ]
  },
  {
   "cell_type": "code",
   "execution_count": null,
   "id": "1871eeb9",
   "metadata": {},
   "outputs": [],
   "source": []
  },
  {
   "cell_type": "markdown",
   "id": "5195d229",
   "metadata": {},
   "source": [
    "# 문제4. day1num과 day2num의 월별 평균을 출력하기"
   ]
  },
  {
   "cell_type": "code",
   "execution_count": null,
   "id": "f8c4b9ac",
   "metadata": {},
   "outputs": [],
   "source": []
  }
 ],
 "metadata": {
  "kernelspec": {
   "display_name": "Python 3 (ipykernel)",
   "language": "python",
   "name": "python3"
  },
  "language_info": {
   "codemirror_mode": {
    "name": "ipython",
    "version": 3
   },
   "file_extension": ".py",
   "mimetype": "text/x-python",
   "name": "python",
   "nbconvert_exporter": "python",
   "pygments_lexer": "ipython3",
   "version": "3.11.5"
  }
 },
 "nbformat": 4,
 "nbformat_minor": 5
}
