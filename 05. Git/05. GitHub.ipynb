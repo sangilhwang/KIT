{
 "cells": [
  {
   "cell_type": "markdown",
   "id": "a254c6a6",
   "metadata": {},
   "source": [
    "# 원격 저장소 호스팅 서비스 (=GitHub)\n",
    "\n",
    "- 원격 저장소 (remote repository)\n",
    "    - 컴퓨터 속에만 있는 저장소가 아닌 인터넷 세상 어딘가에 있는 다른 컴퓨터 속의 저장소\n",
    "    - 원격 저장소를 이용하면 백업과 협업에서 이점이 있음\n",
    "    \n",
    "- 백업\n",
    "    - 프로젝트가 로컨 저장소에만 있다면 컴퓨터가 고장나거나 실수로 로컬 저장소를 삭제할 경우 큰 문제가 발생\n",
    "    - 로컬 저장소의 프로젝트를 원격 저장소에 백업해뒀따면 이런 경우에도 전혀 문제가 되지 않음\n",
    "    \n",
    "- 협업\n",
    "    - 모든 개발자가 이해하는 공통 코드를 원격 저장소에 업로드하고, 이를 내려받아 새로운 커밋들을 추가한 뒤 다시 원격 저장소에 추가하는 방식으로 작업하면 더 효율적으로 협업할 수 있음\n",
    "- 용어\n",
    "    - Owner : 원격 저장소의 소유자\n",
    "    - Repository Name : 원격 저장소의 이름\n",
    "    - Description : 원격 저장소에 대한 설명 (생략 가능은 하나 비추천)\n",
    "    - Add a README file : 자동으로 README 파일을 생성 꼭 넣어주자\n",
    "    - Add .gitignore : 자동으로 .gitignore 생성 및 템플릿 설정 (잘 모르겠으면 Python 템플릿 선택)\n",
    "    - Choose a license : 프로젝트의 라이선스 선택 (웬만해선 선택할 일 없음)"
   ]
  },
  {
   "cell_type": "markdown",
   "id": "c3e779e0",
   "metadata": {},
   "source": [
    "# 원격 저장소와의 상호 자용\n",
    "\n",
    "- 클론(clone) : 원격 저장소를 복제\n",
    "- 푸쉬(push) : 원격 저장소에 밀어넣기\n",
    "- 패치(fetch) : 원격 저장소를 일단 가져만 오기\n",
    "- 풀(pull) : 원격 저장소를 가져와서 합치기"
   ]
  },
  {
   "cell_type": "markdown",
   "id": "fe0503b0",
   "metadata": {},
   "source": [
    "## 클론\n",
    "\n",
    "- 원격 저장소를 복제\n",
    "- GitHub 상에 존재하는 원격 저장소를 로컬로 복사하여 가져오는 방법\n",
    "- 직접 만든 원격 저장소 뿐 아니라 GitHub 상에 공개된 모든 원격 저장소를 컴퓨터로 클론하여 가져올 수 있음\n",
    "\n",
    "- test-repo를 클론하면 소스트리 브랜치가 main, origin/main, origin/HEAD 3개가 보임\n",
    "- main 브랜치는 master 브랜치와 같음. GitHub에서는 기본 브랜치를 main 브랜치라고 부름\n",
    "- origin 은 원격 저장소에 붙은 별명\n",
    "    - 원격 저장소에 붙은 이름일 뿐 언제든 수정 가능함"
   ]
  },
  {
   "cell_type": "markdown",
   "id": "c3ecd648",
   "metadata": {},
   "source": [
    "## 푸쉬 (Push)\n",
    "\n",
    "- 원격 저장소에 로컬 저장소의 변경사항을 밀어넣기\n",
    "- 클론을 한 직후에는 원격 저장소 test-repo와 로컬 저장소 test-rep의 상태는 동일\n",
    "- 로컬 저장소에서 개발을 진행하면 원격 저장소와 로컬 저장소의 상태가 달라짐\n",
    "    - 원격 저장소와 로컬 저장소를 같게 만드려면 로컬의 변경 사항을 원격 저장소에 푸쉬 해야함"
   ]
  },
  {
   "cell_type": "markdown",
   "id": "78778649",
   "metadata": {},
   "source": [
    "## 패치 (Fetch)\n",
    "\n",
    "- 원격 저장소의 변경 사항들을 가져만 오는 방법\n",
    "- 현재 원격 저장소 test-repo는 나만 사용하고 있지만, 여러 개발자가 협업하고 있는 상황이라면 다른 개발자가 언제든 test-repo에 새로운 변경사항을 추가할 수 있기 때문에 test-repo는 언제든지 변할 수 있음\n",
    "- 이 때 다른 개발자가 푸시한 내용을 로컬로 가져오고 싶을 때 패치를 사용\n",
    "    - 원격 저장소의 변경 사항을 로컬로 가져올 때 패치를 사용"
   ]
  },
  {
   "cell_type": "markdown",
   "id": "64cc9a2a",
   "metadata": {},
   "source": [
    "## 풀 (Pull)\n",
    "\n",
    "- 원격 저장소를 가져와서 합치기\n",
    "    - 패치와 병합을 동시에 하는 방법"
   ]
  },
  {
   "cell_type": "markdown",
   "id": "3c4183f2",
   "metadata": {},
   "source": [
    "## 풀 리퀘스트(Pull Request)\n",
    "\n",
    "- 한 원격 저장소에는 여러 개발자가 코드를 기여할 수 있음\n",
    "- 실무에서도 여러 개발자가 한 원격 저장소를 두고 개발하는 것이 일반적\n",
    "- 일반적으로 내가 소유하지 않은 원격 저장소에는 푸쉬할 수 없음\n",
    "    - 누구나 푸쉬할 수 있다면 여러 문제가 발생\n",
    "        - 원격 저장소 소유자가 원하지 않는 변경 사항들이 추가될 수 있음\n",
    "        \n",
    "- 풀 리퀘스트를 통하면 푸쉬 권한이 없는 원격 저장소에 코드를 밀어넣을 수 있음\n",
    "- 풀 리퀘스트\n",
    "    - 원격 저장소가 내 변경사항을 풀(pull)하도록 요청(request) 하는 방법\n",
    "        - \"내가 당신의 원격 저장소를 이렇게 변경하고 싶은데 이 변경을 당신의 저장소에 풀 해주세요\"\n",
    "        \n",
    "- 풀 리퀘스트의 단계\n",
    "    1. 기여하려는 저장소를 본인 계정으로 포크\n",
    "    2. 포크한 저장소를 클론\n",
    "    3. 브랜치를 생성 후 생성한 브랜치에서 작업\n",
    "    4. 작업한 브랜치 푸쉬\n",
    "    5. 풀 리퀘스트 보내기"
   ]
  },
  {
   "cell_type": "code",
   "execution_count": null,
   "id": "8b8ff96c",
   "metadata": {},
   "outputs": [],
   "source": []
  },
  {
   "cell_type": "code",
   "execution_count": null,
   "id": "e8cced82",
   "metadata": {},
   "outputs": [],
   "source": []
  },
  {
   "cell_type": "code",
   "execution_count": null,
   "id": "7f003882",
   "metadata": {},
   "outputs": [],
   "source": []
  },
  {
   "cell_type": "code",
   "execution_count": null,
   "id": "e2cc8101",
   "metadata": {},
   "outputs": [],
   "source": []
  },
  {
   "cell_type": "code",
   "execution_count": null,
   "id": "5bd93602",
   "metadata": {},
   "outputs": [],
   "source": []
  },
  {
   "cell_type": "code",
   "execution_count": null,
   "id": "18dee0dd",
   "metadata": {},
   "outputs": [],
   "source": []
  },
  {
   "cell_type": "code",
   "execution_count": null,
   "id": "76a104ec",
   "metadata": {},
   "outputs": [],
   "source": []
  },
  {
   "cell_type": "code",
   "execution_count": null,
   "id": "994b96d1",
   "metadata": {},
   "outputs": [],
   "source": []
  },
  {
   "cell_type": "code",
   "execution_count": null,
   "id": "4b7c85f7",
   "metadata": {},
   "outputs": [],
   "source": []
  },
  {
   "cell_type": "code",
   "execution_count": null,
   "id": "085f7e5e",
   "metadata": {},
   "outputs": [],
   "source": []
  },
  {
   "cell_type": "code",
   "execution_count": null,
   "id": "6b4464e6",
   "metadata": {},
   "outputs": [],
   "source": []
  },
  {
   "cell_type": "code",
   "execution_count": null,
   "id": "8c58da07",
   "metadata": {},
   "outputs": [],
   "source": []
  },
  {
   "cell_type": "code",
   "execution_count": null,
   "id": "ec9e0f34",
   "metadata": {},
   "outputs": [],
   "source": []
  },
  {
   "cell_type": "code",
   "execution_count": null,
   "id": "ac34a987",
   "metadata": {},
   "outputs": [],
   "source": []
  }
 ],
 "metadata": {
  "kernelspec": {
   "display_name": "Python 3 (ipykernel)",
   "language": "python",
   "name": "python3"
  },
  "language_info": {
   "codemirror_mode": {
    "name": "ipython",
    "version": 3
   },
   "file_extension": ".py",
   "mimetype": "text/x-python",
   "name": "python",
   "nbconvert_exporter": "python",
   "pygments_lexer": "ipython3",
   "version": "3.11.5"
  }
 },
 "nbformat": 4,
 "nbformat_minor": 5
}
