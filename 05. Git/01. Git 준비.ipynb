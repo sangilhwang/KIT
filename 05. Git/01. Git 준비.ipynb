{
 "cells": [
  {
   "cell_type": "markdown",
   "id": "49bd63c7",
   "metadata": {},
   "source": [
    "# Git 을 사용하는 이유\n",
    "\n",
    "1. 변경내역 확인\n",
    "    - 파일을 저장하게 되면, 이전에 저장된 내용에서 현재 내용으로 덮어쓰게 됨\n",
    "        - 즉, 저장된 파일은 항상 최신의 상태만 갖게 됨\n",
    "        - 이런 방식으로 현재 저장된 내용이 이전에 비해 무엇이 달라졌는지 알기 어려움 (변경 내역 추적의 어려움)\n",
    "        \n",
    "    - 매번 다른 이름으로 따로 파일을 저장하여 관리한다면 저장 공간의 낭비도 심하고 실수가 발생하기 쉬움\n",
    "    \n",
    "2. 롤백\n",
    "    - 파일을 덮어쓰거나 다른 이름으로 저장하는 방식으로는 과거의 특정 시점으로 파일을 되돌리기 어려움\n",
    "    - 수정한 코드에 문제가 생기거나 사용자 반응이 영 좋지 않은 등 여러 문제로 이전의 모습으로 돌려야 하는 경우가 있을 수 있음\n",
    "\n",
    "3. 협력\n",
    "    - 대부분의 소프트웨어는 여러 개발자가 협업하여 개발\n",
    "        - 예) 메뉴, 결제, 로그인 기능 등을 각자 개발하여 취합함\n",
    "    - 이 때 모두가 작업한 파일을 덮어쓰는 방식으로 저장하면 서로의 작업 내역을 합치기 매우 어려움"
   ]
  },
  {
   "cell_type": "markdown",
   "id": "6b2c837a",
   "metadata": {},
   "source": [
    "# 버전과 버전 관리\n",
    "\n",
    "- 버전이란\n",
    "    - 새로운 기능이 추가되거나 크고 작은 버그가 수정되는 등 기존과는 다른 유의미한 변화가 결과물로 나온 것\n",
    "    \n",
    "- 버전 관리\n",
    "    - 유의미한 변화를 쌓아 올리며 소프트웨어를 만들어 나가는 과정\n",
    "        - 누가, 어떻게 변경했는지 변경 내역을 기억하며\n",
    "        - 필요한 경우 특정 시점의 버전으로 되돌리며\n",
    "        - 여러 명이 협업하는 과정에서 코드를 쉽게 나누고 합치며\n",
    "        - 개발 하는 것"
   ]
  },
  {
   "cell_type": "markdown",
   "id": "c6d4908c",
   "metadata": {},
   "source": [
    "# Git, SourceTree, GitHub\n",
    "\n",
    "- Git\n",
    "    - 버전 관리를 도와주는 소프트웨어\n",
    "    - 버전 관리 시스템(Version Control System, VCS)\n",
    "    \n",
    "- SourceTree\n",
    "    - Git은 편리하지만 모든 긴 명령어와 옵션을 숙지하거나 시각적으로 와닿지 않는 명령줄 인터페이스를 이요하는 과정이 어려움\n",
    "    - 그래서 아틀라시안이라는 회사에서 깃을 직관적이고 편리하게 사용할 수 있또록 소스트리를 개발\n",
    "    \n",
    "- GitHub\n",
    "    - 원격 저장소 호스팅 서비스\n",
    "    - Git으로 버전 관리한 프로젝트를 GitHub에 업로드할 수 있고, 업로드한 프로젝트에 새 버전을 추가할 수도 있음    "
   ]
  },
  {
   "cell_type": "markdown",
   "id": "6643d7ae",
   "metadata": {},
   "source": [
    "# Git 설치\n",
    "\n",
    "- https:/git-scm.com (혹은 구글에 git 검색)\n",
    "- 전부 기본 옵션으로 설치\n",
    "- 작업 공간에 마우스 우클릭 / git bash here 선택\n",
    "- $git\n",
    "    - git 이 잘 설치되었는지 확인"
   ]
  },
  {
   "cell_type": "markdown",
   "id": "ad6995b5",
   "metadata": {},
   "source": [
    "# 깃 설정\n",
    "\n",
    "- 컴퓨터에 사용자 이름과 이메일을 등록\n",
    "- 앞으로 깃을 사용해 만드는 모든 버전에 설정한 이름과 이메일이 명시됨\n",
    "    - git config --global user.name \"나의 이름\"\n",
    "    - git config --global user.email \"이메일\"\n",
    "    \n",
    "- git 설정 사용자 이름과 이메일 확인\n",
    "    - git config user.name\n",
    "    - git config user.email"
   ]
  },
  {
   "cell_type": "markdown",
   "id": "23dda201",
   "metadata": {},
   "source": [
    "# SourceTree 설치\n",
    "\n",
    "- https://www.sourcetreeapp.com/\n",
    "- 비트버킷 건너뛰기\n",
    "- mercurial 체크 해제\n",
    "- ssh 키 아니오\n",
    "- 설치"
   ]
  },
  {
   "cell_type": "markdown",
   "id": "b85e86d0",
   "metadata": {},
   "source": [
    "## 소스트리 테스트\n",
    "\n",
    "- Local create\n",
    "- 경로 : C:\\hello\n",
    "- 해당 경로에 .git 숨김 폴더가 생성됐다면 성공\n",
    "    - 해당 공간이 '버전이 관리되는 공간' 이라는 의미"
   ]
  },
  {
   "cell_type": "code",
   "execution_count": null,
   "id": "fbac5611",
   "metadata": {},
   "outputs": [],
   "source": []
  }
 ],
 "metadata": {
  "kernelspec": {
   "display_name": "Python 3 (ipykernel)",
   "language": "python",
   "name": "python3"
  },
  "language_info": {
   "codemirror_mode": {
    "name": "ipython",
    "version": 3
   },
   "file_extension": ".py",
   "mimetype": "text/x-python",
   "name": "python",
   "nbconvert_exporter": "python",
   "pygments_lexer": "ipython3",
   "version": "3.11.5"
  }
 },
 "nbformat": 4,
 "nbformat_minor": 5
}
