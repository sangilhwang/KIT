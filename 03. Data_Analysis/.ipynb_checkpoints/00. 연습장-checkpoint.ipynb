{
 "cells": [
  {
   "cell_type": "code",
   "execution_count": 1,
   "id": "6bad0350",
   "metadata": {},
   "outputs": [],
   "source": [
    "from bs4 import BeautifulSoup\n",
    "from urllib.request import urlopen"
   ]
  },
  {
   "cell_type": "code",
   "execution_count": 2,
   "id": "7c697474",
   "metadata": {},
   "outputs": [],
   "source": [
    "url = \"https://music.bugs.co.kr/chart\"\n",
    "\n",
    "page = urlopen(url)\n",
    "\n",
    "soup = BeautifulSoup(page, \"lxml\")"
   ]
  },
  {
   "cell_type": "code",
   "execution_count": 13,
   "id": "d7a2bab4",
   "metadata": {},
   "outputs": [
    {
     "data": {
      "text/plain": [
       "'Love 119'"
      ]
     },
     "execution_count": 13,
     "metadata": {},
     "output_type": "execute_result"
    }
   ],
   "source": [
    "soup.select(\"tbody > tr > th > p > a\")[0].string"
   ]
  },
  {
   "cell_type": "code",
   "execution_count": 15,
   "id": "3d3adb9a",
   "metadata": {},
   "outputs": [
    {
     "name": "stdout",
     "output_type": "stream",
     "text": [
      "Love 119\n",
      "To. X\n",
      "비의 랩소디\n",
      "Perfect Night\n",
      "Drama\n",
      "MANIAC\n",
      "에피소드\n",
      "Get A Guitar\n",
      "DASH\n",
      "I AM\n",
      "그대만 있다면 (여름날 우리 X 너드커넥션 (Nerd Connection))\n",
      "You & Me\n",
      "인사\n",
      "헤어지자 말해요\n",
      "Ditto\n",
      "한 페이지가 될 수 있게\n",
      "Baddie\n",
      "Yes or No (Feat. 허윤진 of LE SSERAFIM, Crush)\n",
      "ETA\n",
      "Discord\n",
      "Hype Boy\n",
      "Love Lee\n",
      "첫 눈\n",
      "후라이의 꿈\n",
      "Talk Saxy\n",
      "Seven (feat. Latto) - Clean Ver.\n",
      "넌 쉽게 말했지만\n",
      "Super Shy\n",
      "Steal The Show (From “엘리멘탈”)\n",
      "잠시라도 우리\n",
      "Standing Next to You\n",
      "GODS\n",
      "Chill Kill\n",
      "예뻤어\n",
      "숲\n",
      "화이트 (White)\n",
      "Spicy\n",
      "Off The Record\n",
      "너의 모든 순간\n",
      "사건의 지평선\n",
      "그대가 내 안에 박혔다\n",
      "Kitsch\n",
      "별 떨어진다 (I Do)\n",
      "기억해줘요 내 모든 날과 그때를\n",
      "머물러주오 (Prod. 안신애 & Philtre)\n",
      "Attention\n",
      "After LIKE\n",
      "LOVE DIVE\n",
      "한번만 더\n",
      "Either Way\n",
      "사랑할 수밖에\n",
      "어떻게 이별까지 사랑하겠어, 널 사랑하는 거지\n",
      "음악의 신\n",
      "퀸카 (Queencard)\n",
      "OMG\n",
      "이브, 프시케 그리고 푸른 수염의 아내\n",
      "꿈\n",
      "Try Again\n",
      "New Jeans\n",
      "잘 지내자, 우리 (여름날 우리 X 로이킴)\n",
      "Fast Forward\n",
      "Dangerously\n",
      "I Don’t Think That I Like Her\n",
      "그대가 내 안에 박혔다(그내박)\n",
      "Underwater\n",
      "파이팅 해야지 (Feat. 이영지)\n",
      "I Love You (Prod. 김도훈)\n",
      "모든 날, 모든 순간 (Every day, Every Moment)\n",
      "Smoke (Prod. Dynamicduo, Padi)\n",
      "주저하는 연인들을 위해\n",
      "I Love You\n",
      "DIE 4 YOU\n",
      "손오공\n",
      "건물 사이에 피어난 장미 (Rose Blossom)\n",
      "사랑인가 봐\n",
      "달빛에 그려지는\n",
      "다정히 내 이름을 부르면\n",
      "UNFORGIVEN (feat. Nile Rodgers)\n",
      "심(心)\n",
      "사막에서 꽃을 피우듯\n",
      "STAY\n",
      "Bubble\n",
      "미워 (Ego)\n",
      "When I Get Old\n",
      "Summer (Feat. BE’O (비오))\n",
      "사랑은 늘 도망가\n",
      "운이 좋았지\n",
      "@은영이에게\n",
      "Melt Away\n",
      "ANTIFRAGILE\n",
      "Cool With You\n",
      "입술 (Feat. 10CM)\n",
      "어른\n",
      "Off My Face\n",
      "내일 얘기해\n",
      "취중고백\n",
      "그대가 있는 곳, 언제 어디든\n",
      "밤, 바다\n",
      "Snowman\n",
      "Soñar (Breaker)\n"
     ]
    }
   ],
   "source": [
    "for i in soup.select(\"tbody > tr > th > p > a\"):\n",
    "    print(i.string)"
   ]
  },
  {
   "cell_type": "code",
   "execution_count": 27,
   "id": "c7a5518e",
   "metadata": {},
   "outputs": [
    {
     "data": {
      "text/plain": [
       "'Love 119'"
      ]
     },
     "execution_count": 27,
     "metadata": {},
     "output_type": "execute_result"
    }
   ],
   "source": [
    "soup.select(\"p.title > a\")[0].string"
   ]
  },
  {
   "cell_type": "code",
   "execution_count": 28,
   "id": "e2cfbd40",
   "metadata": {},
   "outputs": [
    {
     "name": "stdout",
     "output_type": "stream",
     "text": [
      "Love 119\n",
      "To. X\n",
      "비의 랩소디\n",
      "Perfect Night\n",
      "Drama\n",
      "MANIAC\n",
      "에피소드\n",
      "Get A Guitar\n",
      "DASH\n",
      "I AM\n",
      "그대만 있다면 (여름날 우리 X 너드커넥션 (Nerd Connection))\n",
      "You & Me\n",
      "인사\n",
      "헤어지자 말해요\n",
      "Ditto\n",
      "한 페이지가 될 수 있게\n",
      "Baddie\n",
      "Yes or No (Feat. 허윤진 of LE SSERAFIM, Crush)\n",
      "ETA\n",
      "Discord\n",
      "Hype Boy\n",
      "Love Lee\n",
      "첫 눈\n",
      "후라이의 꿈\n",
      "Talk Saxy\n",
      "Seven (feat. Latto) - Clean Ver.\n",
      "넌 쉽게 말했지만\n",
      "Super Shy\n",
      "Steal The Show (From “엘리멘탈”)\n",
      "잠시라도 우리\n",
      "Standing Next to You\n",
      "GODS\n",
      "Chill Kill\n",
      "예뻤어\n",
      "숲\n",
      "화이트 (White)\n",
      "Spicy\n",
      "Off The Record\n",
      "너의 모든 순간\n",
      "사건의 지평선\n",
      "그대가 내 안에 박혔다\n",
      "Kitsch\n",
      "별 떨어진다 (I Do)\n",
      "기억해줘요 내 모든 날과 그때를\n",
      "머물러주오 (Prod. 안신애 & Philtre)\n",
      "Attention\n",
      "After LIKE\n",
      "LOVE DIVE\n",
      "한번만 더\n",
      "Either Way\n",
      "사랑할 수밖에\n",
      "어떻게 이별까지 사랑하겠어, 널 사랑하는 거지\n",
      "음악의 신\n",
      "퀸카 (Queencard)\n",
      "OMG\n",
      "이브, 프시케 그리고 푸른 수염의 아내\n",
      "꿈\n",
      "Try Again\n",
      "New Jeans\n",
      "잘 지내자, 우리 (여름날 우리 X 로이킴)\n",
      "Fast Forward\n",
      "Dangerously\n",
      "I Don’t Think That I Like Her\n",
      "그대가 내 안에 박혔다(그내박)\n",
      "Underwater\n",
      "파이팅 해야지 (Feat. 이영지)\n",
      "I Love You (Prod. 김도훈)\n",
      "모든 날, 모든 순간 (Every day, Every Moment)\n",
      "Smoke (Prod. Dynamicduo, Padi)\n",
      "주저하는 연인들을 위해\n",
      "I Love You\n",
      "DIE 4 YOU\n",
      "손오공\n",
      "건물 사이에 피어난 장미 (Rose Blossom)\n",
      "사랑인가 봐\n",
      "달빛에 그려지는\n",
      "다정히 내 이름을 부르면\n",
      "UNFORGIVEN (feat. Nile Rodgers)\n",
      "심(心)\n",
      "사막에서 꽃을 피우듯\n",
      "STAY\n",
      "Bubble\n",
      "미워 (Ego)\n",
      "When I Get Old\n",
      "Summer (Feat. BE’O (비오))\n",
      "사랑은 늘 도망가\n",
      "운이 좋았지\n",
      "@은영이에게\n",
      "Melt Away\n",
      "ANTIFRAGILE\n",
      "Cool With You\n",
      "입술 (Feat. 10CM)\n",
      "어른\n",
      "Off My Face\n",
      "내일 얘기해\n",
      "취중고백\n",
      "그대가 있는 곳, 언제 어디든\n",
      "밤, 바다\n",
      "Snowman\n",
      "Soñar (Breaker)\n"
     ]
    }
   ],
   "source": [
    "for i in soup.select(\"p.title > a\"):\n",
    "    print(i.string)"
   ]
  },
  {
   "cell_type": "code",
   "execution_count": 33,
   "id": "db607b49",
   "metadata": {},
   "outputs": [
    {
     "name": "stdout",
     "output_type": "stream",
     "text": [
      "성시경\n",
      "NewJeans\n",
      "다이나믹 듀오\n",
      "경서예지\n",
      "The Kid LAROI\n",
      "Christopher(크리스토퍼)\n",
      "릴러말즈 (Leellamarz)\n"
     ]
    }
   ],
   "source": [
    "for i in soup.select(\"p.artist > a.artistTitle\"):\n",
    "    print(i.string)"
   ]
  },
  {
   "cell_type": "code",
   "execution_count": 40,
   "id": "2a73dd05",
   "metadata": {},
   "outputs": [
    {
     "data": {
      "text/plain": [
       "<a class=\"more\" href=\"javascript:void(0);\" name=\"atag_martist_list\" onclick=\"bugs.layermenu.openMultiArtistSearchResultPopLayer(this, '성시경||성시경||2946||OK\\\\n나얼||나얼(Na-Ul)||3674||OK', ''); return false;\" title=\"아티스트 전체보기\" wise_log_str=\"?wl_ref=list_tr_10_chart\">\n",
       "성시경\n",
       "</a>"
      ]
     },
     "execution_count": 40,
     "metadata": {},
     "output_type": "execute_result"
    }
   ],
   "source": [
    "soup.select(\"p.artist > a\")[30]"
   ]
  },
  {
   "cell_type": "code",
   "execution_count": 45,
   "id": "534de20f",
   "metadata": {},
   "outputs": [
    {
     "name": "stdout",
     "output_type": "stream",
     "text": [
      "RIIZE\n",
      "태연 (TAEYEON)\n",
      "임재현\n",
      "LE SSERAFIM (르세라핌)\n",
      "aespa\n",
      "VIVIZ (비비지)\n",
      "이무진\n",
      "RIIZE\n",
      "NMIXX\n",
      "IVE (아이브)\n",
      "너드커넥션(Nerd Connection)\n",
      "제니 (JENNIE)\n",
      "범진\n",
      "박재정\n",
      "NewJeans\n",
      "DAY6 (데이식스)\n",
      "IVE (아이브)\n",
      "그루비룸 (GroovyRoom)\n",
      "NewJeans\n",
      "QWER\n",
      "NewJeans\n",
      "AKMU(악뮤)\n",
      "EXO\n",
      "AKMU(악뮤)\n",
      "RIIZE\n",
      "정국\n",
      "소수빈\n",
      "NewJeans\n",
      "Lauv(라우브)\n",
      "성시경\n",
      "정국\n",
      "NewJeans\n",
      "Red Velvet (레드벨벳)\n",
      "DAY6 (데이식스)\n",
      "최유리\n",
      "폴킴(Paul Kim)\n",
      "aespa\n",
      "IVE (아이브)\n",
      "성시경\n",
      "윤하(Younha/ユンナ)\n",
      "황치열\n",
      "IVE (아이브)\n",
      "디오 (D.O.)\n",
      "화곡동 청개구리\n",
      "소수빈\n",
      "NewJeans\n",
      "IVE (아이브)\n",
      "IVE (아이브)\n",
      "소수빈\n",
      "IVE (아이브)\n",
      "볼빨간사춘기\n",
      "AKMU(악뮤)\n",
      "세븐틴(SEVENTEEN)\n",
      "(여자)아이들\n",
      "NewJeans\n",
      "LE SSERAFIM (르세라핌)\n",
      "태연 (TAEYEON)\n",
      "소수빈\n",
      "NewJeans\n",
      "로이킴\n",
      "전소미\n",
      "Charlie Puth(찰리 푸스)\n",
      "Charlie Puth(찰리 푸스)\n",
      "순순희(기태)\n",
      "권은비\n",
      "부석순(SEVENTEEN)\n",
      "홍이삭\n",
      "폴킴(Paul Kim)\n",
      "다이나믹 듀오\n",
      "잔나비\n",
      "안세하\n",
      "DEAN(딘)\n",
      "세븐틴(SEVENTEEN)\n",
      "H1-KEY (하이키)\n",
      "멜로망스(MeloMance)\n",
      "미연 ((여자)아이들)\n",
      "경서예지\n",
      "LE SSERAFIM (르세라핌)\n",
      "DK(디셈버)\n",
      "우디(Woody)\n",
      "The Kid LAROI\n",
      "STAYC(스테이씨)\n",
      "Crush\n",
      "Christopher(크리스토퍼)\n",
      "Paul Blanco\n",
      "임영웅\n",
      "권진아\n",
      "#안녕\n",
      "태연 (TAEYEON)\n",
      "LE SSERAFIM (르세라핌)\n",
      "NewJeans\n",
      "헤이즈(Heize)\n",
      "Sondia\n",
      "Justin Bieber(저스틴 비버)\n",
      "릴러말즈 (Leellamarz)\n",
      "김민석\n",
      "로이킴\n",
      "최유리\n",
      "Sia(시아)\n",
      "NMIXX\n"
     ]
    }
   ],
   "source": [
    "for i in soup.select(\"p.artist > a\"):\n",
    "    if '아티스트 전체보기' not in str(i):\n",
    "        print(i.string)"
   ]
  },
  {
   "cell_type": "code",
   "execution_count": 43,
   "id": "9ff67896",
   "metadata": {},
   "outputs": [
    {
     "data": {
      "text/plain": [
       "True"
      ]
     },
     "execution_count": 43,
     "metadata": {},
     "output_type": "execute_result"
    }
   ],
   "source": [
    "'아티스트 전체보기' in str(soup.select(\"p.artist > a\")[30])"
   ]
  },
  {
   "cell_type": "code",
   "execution_count": null,
   "id": "646dec7b",
   "metadata": {},
   "outputs": [],
   "source": []
  },
  {
   "cell_type": "code",
   "execution_count": 46,
   "id": "c8647232",
   "metadata": {},
   "outputs": [],
   "source": [
    "from selenium import webdriver\n",
    "from selenium.webdriver.common.by import By\n",
    "from bs4 import BeautifulSoup\n",
    "from urllib.request import urlopen\n",
    "from selenium.webdriver.common.keys import Keys\n",
    "import time"
   ]
  },
  {
   "cell_type": "code",
   "execution_count": 82,
   "id": "617c9ec7",
   "metadata": {},
   "outputs": [
    {
     "name": "stdout",
     "output_type": "stream",
     "text": [
      "https://joyfulhome.tistory.com\n",
      "https://kormedi.com\n",
      "https://happylie.tistory.com\n"
     ]
    }
   ],
   "source": [
    "url = \"https://www.google.com/\"\n",
    "\n",
    "driver = webdriver.Chrome()\n",
    "driver.get(url)\n",
    "\n",
    "driver.implicitly_wait(3)\n",
    "\n",
    "textarea = driver.find_element(By.CSS_SELECTOR, \"div.DPXIy textarea.gLFyf\")\n",
    "textarea.send_keys(\"오늘의 요일\")\n",
    "textarea.send_keys(Keys.ENTER)\n",
    "\n",
    "driver.implicitly_wait(3)\n",
    "\n",
    "url_link = driver.find_elements(By.CSS_SELECTOR, \"cite.qLRx3b.tjvcx.GvPZzd.cHaqb\")\n",
    "\n",
    "soup = BeautifulSoup(driver.page_source, \"lxml\")\n",
    "\n",
    "a = soup.select(\"cite.qLRx3b.tjvcx.GvPZzd.cHaqb\")[0].text\n",
    "b = soup.select(\"cite.qLRx3b.tjvcx.GvPZzd.cHaqb\")[2].text\n",
    "c = soup.select(\"cite.qLRx3b.tjvcx.GvPZzd.cHaqb\")[4].text\n",
    "\n",
    "a = a.replace(soup.select(\"cite.qLRx3b.tjvcx.GvPZzd.cHaqb > span\")[0].text, \"\")\n",
    "b = b.replace(soup.select(\"cite.qLRx3b.tjvcx.GvPZzd.cHaqb > span\")[2].text, \"\")\n",
    "c = c.replace(soup.select(\"cite.qLRx3b.tjvcx.GvPZzd.cHaqb > span\")[4].text, \"\")\n",
    "\n",
    "print(a)\n",
    "print(b)\n",
    "print(c)\n"
   ]
  },
  {
   "cell_type": "code",
   "execution_count": null,
   "id": "ba16a033",
   "metadata": {},
   "outputs": [],
   "source": []
  },
  {
   "cell_type": "code",
   "execution_count": null,
   "id": "1e85bf8d",
   "metadata": {},
   "outputs": [],
   "source": []
  },
  {
   "cell_type": "code",
   "execution_count": null,
   "id": "21ca5542",
   "metadata": {},
   "outputs": [],
   "source": []
  },
  {
   "cell_type": "code",
   "execution_count": null,
   "id": "c6ceef2f",
   "metadata": {},
   "outputs": [],
   "source": []
  },
  {
   "cell_type": "code",
   "execution_count": null,
   "id": "7fc38423",
   "metadata": {},
   "outputs": [],
   "source": []
  },
  {
   "cell_type": "code",
   "execution_count": null,
   "id": "ac2af5c1",
   "metadata": {},
   "outputs": [],
   "source": []
  },
  {
   "cell_type": "code",
   "execution_count": null,
   "id": "8109a2ca",
   "metadata": {},
   "outputs": [],
   "source": []
  },
  {
   "cell_type": "code",
   "execution_count": null,
   "id": "b27c71b4",
   "metadata": {},
   "outputs": [],
   "source": []
  },
  {
   "cell_type": "code",
   "execution_count": null,
   "id": "bf592914",
   "metadata": {},
   "outputs": [],
   "source": []
  },
  {
   "cell_type": "code",
   "execution_count": null,
   "id": "2885acca",
   "metadata": {},
   "outputs": [],
   "source": []
  },
  {
   "cell_type": "code",
   "execution_count": null,
   "id": "17debf51",
   "metadata": {},
   "outputs": [],
   "source": []
  },
  {
   "cell_type": "code",
   "execution_count": null,
   "id": "43fabbec",
   "metadata": {},
   "outputs": [],
   "source": []
  },
  {
   "cell_type": "code",
   "execution_count": null,
   "id": "8d5c9853",
   "metadata": {},
   "outputs": [],
   "source": []
  },
  {
   "cell_type": "code",
   "execution_count": null,
   "id": "2dab91c7",
   "metadata": {},
   "outputs": [],
   "source": []
  },
  {
   "cell_type": "code",
   "execution_count": null,
   "id": "91a22ee4",
   "metadata": {},
   "outputs": [],
   "source": []
  },
  {
   "cell_type": "code",
   "execution_count": null,
   "id": "a6de582e",
   "metadata": {},
   "outputs": [],
   "source": []
  },
  {
   "cell_type": "code",
   "execution_count": null,
   "id": "61d0ecde",
   "metadata": {},
   "outputs": [],
   "source": []
  },
  {
   "cell_type": "code",
   "execution_count": null,
   "id": "5d3a1375",
   "metadata": {},
   "outputs": [],
   "source": []
  },
  {
   "cell_type": "code",
   "execution_count": null,
   "id": "bc7538ea",
   "metadata": {},
   "outputs": [],
   "source": []
  },
  {
   "cell_type": "code",
   "execution_count": null,
   "id": "296d407f",
   "metadata": {},
   "outputs": [],
   "source": []
  },
  {
   "cell_type": "code",
   "execution_count": null,
   "id": "3f99e312",
   "metadata": {},
   "outputs": [],
   "source": []
  },
  {
   "cell_type": "code",
   "execution_count": null,
   "id": "a5e4828a",
   "metadata": {},
   "outputs": [],
   "source": []
  },
  {
   "cell_type": "code",
   "execution_count": null,
   "id": "505d5e32",
   "metadata": {},
   "outputs": [],
   "source": []
  },
  {
   "cell_type": "code",
   "execution_count": null,
   "id": "39f560e0",
   "metadata": {},
   "outputs": [],
   "source": []
  },
  {
   "cell_type": "code",
   "execution_count": null,
   "id": "4011de29",
   "metadata": {},
   "outputs": [],
   "source": []
  },
  {
   "cell_type": "code",
   "execution_count": null,
   "id": "05d64af8",
   "metadata": {},
   "outputs": [],
   "source": []
  },
  {
   "cell_type": "code",
   "execution_count": null,
   "id": "90c947fc",
   "metadata": {},
   "outputs": [],
   "source": []
  },
  {
   "cell_type": "code",
   "execution_count": null,
   "id": "62a5966d",
   "metadata": {},
   "outputs": [],
   "source": []
  },
  {
   "cell_type": "code",
   "execution_count": null,
   "id": "1c6cd0f8",
   "metadata": {},
   "outputs": [],
   "source": []
  },
  {
   "cell_type": "code",
   "execution_count": null,
   "id": "b5c2b10c",
   "metadata": {},
   "outputs": [],
   "source": []
  },
  {
   "cell_type": "code",
   "execution_count": null,
   "id": "98080869",
   "metadata": {},
   "outputs": [],
   "source": []
  },
  {
   "cell_type": "code",
   "execution_count": null,
   "id": "98977928",
   "metadata": {},
   "outputs": [],
   "source": []
  },
  {
   "cell_type": "code",
   "execution_count": null,
   "id": "3c43a2f9",
   "metadata": {},
   "outputs": [],
   "source": []
  },
  {
   "cell_type": "code",
   "execution_count": null,
   "id": "d2df8ee3",
   "metadata": {},
   "outputs": [],
   "source": []
  },
  {
   "cell_type": "code",
   "execution_count": null,
   "id": "2269d87b",
   "metadata": {},
   "outputs": [],
   "source": []
  },
  {
   "cell_type": "code",
   "execution_count": null,
   "id": "23315898",
   "metadata": {},
   "outputs": [],
   "source": []
  },
  {
   "cell_type": "code",
   "execution_count": null,
   "id": "171056a8",
   "metadata": {},
   "outputs": [],
   "source": []
  },
  {
   "cell_type": "code",
   "execution_count": null,
   "id": "cf7ef1e5",
   "metadata": {},
   "outputs": [],
   "source": []
  },
  {
   "cell_type": "code",
   "execution_count": null,
   "id": "df16d6ca",
   "metadata": {},
   "outputs": [],
   "source": []
  },
  {
   "cell_type": "code",
   "execution_count": null,
   "id": "75c9be43",
   "metadata": {},
   "outputs": [],
   "source": []
  },
  {
   "cell_type": "code",
   "execution_count": null,
   "id": "df3cb8d9",
   "metadata": {},
   "outputs": [],
   "source": []
  }
 ],
 "metadata": {
  "kernelspec": {
   "display_name": "Python 3 (ipykernel)",
   "language": "python",
   "name": "python3"
  },
  "language_info": {
   "codemirror_mode": {
    "name": "ipython",
    "version": 3
   },
   "file_extension": ".py",
   "mimetype": "text/x-python",
   "name": "python",
   "nbconvert_exporter": "python",
   "pygments_lexer": "ipython3",
   "version": "3.11.5"
  }
 },
 "nbformat": 4,
 "nbformat_minor": 5
}
