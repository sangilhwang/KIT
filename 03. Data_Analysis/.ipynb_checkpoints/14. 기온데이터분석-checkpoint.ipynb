{
 "cells": [
  {
   "cell_type": "code",
   "execution_count": 1,
   "id": "0e93891c",
   "metadata": {},
   "outputs": [],
   "source": [
    "import pandas as pd\n",
    "import matplotlib.pyplot as plt\n",
    "import numpy as np"
   ]
  },
  {
   "cell_type": "code",
   "execution_count": 2,
   "id": "c7c13ef1",
   "metadata": {},
   "outputs": [],
   "source": [
    "from matplotlib import font_manager, rc\n",
    "import matplotlib\n",
    "font_path = 'C:/Windows/Fonts/malgun.ttf'\n",
    "font_name = font_manager.FontProperties(fname = font_path).get_name()\n",
    "rc('font', family=font_name)"
   ]
  },
  {
   "cell_type": "markdown",
   "id": "4bcbe026",
   "metadata": {},
   "source": [
    "# 데이터 확인"
   ]
  },
  {
   "cell_type": "code",
   "execution_count": 3,
   "id": "860fe2df",
   "metadata": {},
   "outputs": [
    {
     "data": {
      "text/html": [
       "<div>\n",
       "<style scoped>\n",
       "    .dataframe tbody tr th:only-of-type {\n",
       "        vertical-align: middle;\n",
       "    }\n",
       "\n",
       "    .dataframe tbody tr th {\n",
       "        vertical-align: top;\n",
       "    }\n",
       "\n",
       "    .dataframe thead th {\n",
       "        text-align: right;\n",
       "    }\n",
       "</style>\n",
       "<table border=\"1\" class=\"dataframe\">\n",
       "  <thead>\n",
       "    <tr style=\"text-align: right;\">\n",
       "      <th></th>\n",
       "      <th>날짜</th>\n",
       "      <th>지점</th>\n",
       "      <th>평균기온(℃)</th>\n",
       "      <th>최저기온(℃)</th>\n",
       "      <th>최고기온(℃)</th>\n",
       "    </tr>\n",
       "  </thead>\n",
       "  <tbody>\n",
       "    <tr>\n",
       "      <th>0</th>\n",
       "      <td>\\t1907-10-01</td>\n",
       "      <td>108</td>\n",
       "      <td>13.5</td>\n",
       "      <td>7.9</td>\n",
       "      <td>20.7</td>\n",
       "    </tr>\n",
       "    <tr>\n",
       "      <th>1</th>\n",
       "      <td>\\t1907-10-02</td>\n",
       "      <td>108</td>\n",
       "      <td>16.2</td>\n",
       "      <td>7.9</td>\n",
       "      <td>22.0</td>\n",
       "    </tr>\n",
       "    <tr>\n",
       "      <th>2</th>\n",
       "      <td>\\t1907-10-03</td>\n",
       "      <td>108</td>\n",
       "      <td>16.2</td>\n",
       "      <td>13.1</td>\n",
       "      <td>21.3</td>\n",
       "    </tr>\n",
       "    <tr>\n",
       "      <th>3</th>\n",
       "      <td>\\t1907-10-04</td>\n",
       "      <td>108</td>\n",
       "      <td>16.5</td>\n",
       "      <td>11.2</td>\n",
       "      <td>22.0</td>\n",
       "    </tr>\n",
       "    <tr>\n",
       "      <th>4</th>\n",
       "      <td>\\t1907-10-05</td>\n",
       "      <td>108</td>\n",
       "      <td>17.6</td>\n",
       "      <td>10.9</td>\n",
       "      <td>25.4</td>\n",
       "    </tr>\n",
       "  </tbody>\n",
       "</table>\n",
       "</div>"
      ],
      "text/plain": [
       "             날짜   지점  평균기온(℃)  최저기온(℃)  최고기온(℃)\n",
       "0  \\t1907-10-01  108     13.5      7.9     20.7\n",
       "1  \\t1907-10-02  108     16.2      7.9     22.0\n",
       "2  \\t1907-10-03  108     16.2     13.1     21.3\n",
       "3  \\t1907-10-04  108     16.5     11.2     22.0\n",
       "4  \\t1907-10-05  108     17.6     10.9     25.4"
      ]
     },
     "execution_count": 3,
     "metadata": {},
     "output_type": "execute_result"
    }
   ],
   "source": [
    "df = pd.read_csv(\"./data/seoul.csv\", skiprows = 6)\n",
    "df.head()"
   ]
  },
  {
   "cell_type": "code",
   "execution_count": 5,
   "id": "9f41a1f2",
   "metadata": {},
   "outputs": [
    {
     "name": "stdout",
     "output_type": "stream",
     "text": [
      "<class 'pandas.core.frame.DataFrame'>\n",
      "RangeIndex: 42095 entries, 0 to 42094\n",
      "Data columns (total 5 columns):\n",
      " #   Column   Non-Null Count  Dtype  \n",
      "---  ------   --------------  -----  \n",
      " 0   날짜       42095 non-null  object \n",
      " 1   지점       42095 non-null  int64  \n",
      " 2   평균기온(℃)  41339 non-null  float64\n",
      " 3   최저기온(℃)  41336 non-null  float64\n",
      " 4   최고기온(℃)  41336 non-null  float64\n",
      "dtypes: float64(3), int64(1), object(1)\n",
      "memory usage: 1.6+ MB\n"
     ]
    }
   ],
   "source": [
    "df.info()"
   ]
  },
  {
   "cell_type": "code",
   "execution_count": 6,
   "id": "433b631d",
   "metadata": {},
   "outputs": [
    {
     "data": {
      "text/plain": [
       "날짜          object\n",
       "지점           int64\n",
       "평균기온(℃)    float64\n",
       "최저기온(℃)    float64\n",
       "최고기온(℃)    float64\n",
       "dtype: object"
      ]
     },
     "execution_count": 6,
     "metadata": {},
     "output_type": "execute_result"
    }
   ],
   "source": [
    "df.dtypes"
   ]
  },
  {
   "cell_type": "code",
   "execution_count": 7,
   "id": "15d935e1",
   "metadata": {},
   "outputs": [
    {
     "data": {
      "text/plain": [
       "(42095, 5)"
      ]
     },
     "execution_count": 7,
     "metadata": {},
     "output_type": "execute_result"
    }
   ],
   "source": [
    "df.shape"
   ]
  },
  {
   "cell_type": "code",
   "execution_count": 8,
   "id": "96210611",
   "metadata": {},
   "outputs": [
    {
     "data": {
      "text/plain": [
       "날짜         0\n",
       "지점         0\n",
       "평균기온(℃)    0\n",
       "최저기온(℃)    0\n",
       "최고기온(℃)    0\n",
       "dtype: int64"
      ]
     },
     "execution_count": 8,
     "metadata": {},
     "output_type": "execute_result"
    }
   ],
   "source": [
    "df[df[\"지점\"] != 108].count()"
   ]
  },
  {
   "cell_type": "code",
   "execution_count": 10,
   "id": "6a99019b",
   "metadata": {},
   "outputs": [
    {
     "data": {
      "text/html": [
       "<div>\n",
       "<style scoped>\n",
       "    .dataframe tbody tr th:only-of-type {\n",
       "        vertical-align: middle;\n",
       "    }\n",
       "\n",
       "    .dataframe tbody tr th {\n",
       "        vertical-align: top;\n",
       "    }\n",
       "\n",
       "    .dataframe thead th {\n",
       "        text-align: right;\n",
       "    }\n",
       "</style>\n",
       "<table border=\"1\" class=\"dataframe\">\n",
       "  <thead>\n",
       "    <tr style=\"text-align: right;\">\n",
       "      <th></th>\n",
       "      <th>지점</th>\n",
       "      <th>평균기온(℃)</th>\n",
       "      <th>최저기온(℃)</th>\n",
       "      <th>최고기온(℃)</th>\n",
       "    </tr>\n",
       "  </thead>\n",
       "  <tbody>\n",
       "    <tr>\n",
       "      <th>count</th>\n",
       "      <td>42095.0</td>\n",
       "      <td>41339.000000</td>\n",
       "      <td>41336.000000</td>\n",
       "      <td>41336.000000</td>\n",
       "    </tr>\n",
       "    <tr>\n",
       "      <th>mean</th>\n",
       "      <td>108.0</td>\n",
       "      <td>11.777776</td>\n",
       "      <td>7.490495</td>\n",
       "      <td>16.777593</td>\n",
       "    </tr>\n",
       "    <tr>\n",
       "      <th>std</th>\n",
       "      <td>0.0</td>\n",
       "      <td>10.661494</td>\n",
       "      <td>10.889021</td>\n",
       "      <td>10.975401</td>\n",
       "    </tr>\n",
       "    <tr>\n",
       "      <th>min</th>\n",
       "      <td>108.0</td>\n",
       "      <td>-19.200000</td>\n",
       "      <td>-23.100000</td>\n",
       "      <td>-16.300000</td>\n",
       "    </tr>\n",
       "    <tr>\n",
       "      <th>25%</th>\n",
       "      <td>108.0</td>\n",
       "      <td>2.700000</td>\n",
       "      <td>-1.400000</td>\n",
       "      <td>7.300000</td>\n",
       "    </tr>\n",
       "    <tr>\n",
       "      <th>50%</th>\n",
       "      <td>108.0</td>\n",
       "      <td>13.000000</td>\n",
       "      <td>8.000000</td>\n",
       "      <td>18.600000</td>\n",
       "    </tr>\n",
       "    <tr>\n",
       "      <th>75%</th>\n",
       "      <td>108.0</td>\n",
       "      <td>21.200000</td>\n",
       "      <td>17.100000</td>\n",
       "      <td>26.300000</td>\n",
       "    </tr>\n",
       "    <tr>\n",
       "      <th>max</th>\n",
       "      <td>108.0</td>\n",
       "      <td>33.700000</td>\n",
       "      <td>30.300000</td>\n",
       "      <td>39.600000</td>\n",
       "    </tr>\n",
       "  </tbody>\n",
       "</table>\n",
       "</div>"
      ],
      "text/plain": [
       "            지점       평균기온(℃)       최저기온(℃)       최고기온(℃)\n",
       "count  42095.0  41339.000000  41336.000000  41336.000000\n",
       "mean     108.0     11.777776      7.490495     16.777593\n",
       "std        0.0     10.661494     10.889021     10.975401\n",
       "min      108.0    -19.200000    -23.100000    -16.300000\n",
       "25%      108.0      2.700000     -1.400000      7.300000\n",
       "50%      108.0     13.000000      8.000000     18.600000\n",
       "75%      108.0     21.200000     17.100000     26.300000\n",
       "max      108.0     33.700000     30.300000     39.600000"
      ]
     },
     "execution_count": 10,
     "metadata": {},
     "output_type": "execute_result"
    }
   ],
   "source": [
    "df.describe()"
   ]
  },
  {
   "cell_type": "code",
   "execution_count": 6,
   "id": "0e585875",
   "metadata": {},
   "outputs": [],
   "source": [
    "# 날짜 이상데이터 제거\n",
    "df[\"날짜\"] = df[\"날짜\"].str.strip()"
   ]
  },
  {
   "cell_type": "code",
   "execution_count": 14,
   "id": "d5d3bab6",
   "metadata": {},
   "outputs": [
    {
     "data": {
      "text/html": [
       "<div>\n",
       "<style scoped>\n",
       "    .dataframe tbody tr th:only-of-type {\n",
       "        vertical-align: middle;\n",
       "    }\n",
       "\n",
       "    .dataframe tbody tr th {\n",
       "        vertical-align: top;\n",
       "    }\n",
       "\n",
       "    .dataframe thead th {\n",
       "        text-align: right;\n",
       "    }\n",
       "</style>\n",
       "<table border=\"1\" class=\"dataframe\">\n",
       "  <thead>\n",
       "    <tr style=\"text-align: right;\">\n",
       "      <th></th>\n",
       "      <th>날짜</th>\n",
       "      <th>지점</th>\n",
       "      <th>평균기온(℃)</th>\n",
       "      <th>최저기온(℃)</th>\n",
       "      <th>최고기온(℃)</th>\n",
       "    </tr>\n",
       "  </thead>\n",
       "  <tbody>\n",
       "    <tr>\n",
       "      <th>0</th>\n",
       "      <td>1907-10-01</td>\n",
       "      <td>108</td>\n",
       "      <td>13.5</td>\n",
       "      <td>7.9</td>\n",
       "      <td>20.7</td>\n",
       "    </tr>\n",
       "    <tr>\n",
       "      <th>1</th>\n",
       "      <td>1907-10-02</td>\n",
       "      <td>108</td>\n",
       "      <td>16.2</td>\n",
       "      <td>7.9</td>\n",
       "      <td>22.0</td>\n",
       "    </tr>\n",
       "    <tr>\n",
       "      <th>2</th>\n",
       "      <td>1907-10-03</td>\n",
       "      <td>108</td>\n",
       "      <td>16.2</td>\n",
       "      <td>13.1</td>\n",
       "      <td>21.3</td>\n",
       "    </tr>\n",
       "    <tr>\n",
       "      <th>3</th>\n",
       "      <td>1907-10-04</td>\n",
       "      <td>108</td>\n",
       "      <td>16.5</td>\n",
       "      <td>11.2</td>\n",
       "      <td>22.0</td>\n",
       "    </tr>\n",
       "    <tr>\n",
       "      <th>4</th>\n",
       "      <td>1907-10-05</td>\n",
       "      <td>108</td>\n",
       "      <td>17.6</td>\n",
       "      <td>10.9</td>\n",
       "      <td>25.4</td>\n",
       "    </tr>\n",
       "  </tbody>\n",
       "</table>\n",
       "</div>"
      ],
      "text/plain": [
       "           날짜   지점  평균기온(℃)  최저기온(℃)  최고기온(℃)\n",
       "0  1907-10-01  108     13.5      7.9     20.7\n",
       "1  1907-10-02  108     16.2      7.9     22.0\n",
       "2  1907-10-03  108     16.2     13.1     21.3\n",
       "3  1907-10-04  108     16.5     11.2     22.0\n",
       "4  1907-10-05  108     17.6     10.9     25.4"
      ]
     },
     "execution_count": 14,
     "metadata": {},
     "output_type": "execute_result"
    }
   ],
   "source": [
    "df.head()"
   ]
  },
  {
   "cell_type": "code",
   "execution_count": 17,
   "id": "c396f7f4",
   "metadata": {},
   "outputs": [
    {
     "data": {
      "text/html": [
       "<div>\n",
       "<style scoped>\n",
       "    .dataframe tbody tr th:only-of-type {\n",
       "        vertical-align: middle;\n",
       "    }\n",
       "\n",
       "    .dataframe tbody tr th {\n",
       "        vertical-align: top;\n",
       "    }\n",
       "\n",
       "    .dataframe thead th {\n",
       "        text-align: right;\n",
       "    }\n",
       "</style>\n",
       "<table border=\"1\" class=\"dataframe\">\n",
       "  <thead>\n",
       "    <tr style=\"text-align: right;\">\n",
       "      <th></th>\n",
       "      <th>날짜</th>\n",
       "      <th>지점</th>\n",
       "      <th>평균기온(℃)</th>\n",
       "      <th>최저기온(℃)</th>\n",
       "      <th>최고기온(℃)</th>\n",
       "    </tr>\n",
       "  </thead>\n",
       "  <tbody>\n",
       "    <tr>\n",
       "      <th>83</th>\n",
       "      <td>1907-12-23</td>\n",
       "      <td>108</td>\n",
       "      <td>-13.3</td>\n",
       "      <td>-20.1</td>\n",
       "      <td>-9.4</td>\n",
       "    </tr>\n",
       "    <tr>\n",
       "      <th>1200</th>\n",
       "      <td>1911-01-13</td>\n",
       "      <td>108</td>\n",
       "      <td>-15.3</td>\n",
       "      <td>-21.5</td>\n",
       "      <td>-9.2</td>\n",
       "    </tr>\n",
       "    <tr>\n",
       "      <th>2660</th>\n",
       "      <td>1915-01-12</td>\n",
       "      <td>108</td>\n",
       "      <td>-14.6</td>\n",
       "      <td>-20.9</td>\n",
       "      <td>-0.7</td>\n",
       "    </tr>\n",
       "    <tr>\n",
       "      <th>2661</th>\n",
       "      <td>1915-01-13</td>\n",
       "      <td>108</td>\n",
       "      <td>-19.2</td>\n",
       "      <td>-21.3</td>\n",
       "      <td>-16.3</td>\n",
       "    </tr>\n",
       "    <tr>\n",
       "      <th>2662</th>\n",
       "      <td>1915-01-14</td>\n",
       "      <td>108</td>\n",
       "      <td>-18.0</td>\n",
       "      <td>-21.3</td>\n",
       "      <td>-13.8</td>\n",
       "    </tr>\n",
       "    <tr>\n",
       "      <th>2663</th>\n",
       "      <td>1915-01-15</td>\n",
       "      <td>108</td>\n",
       "      <td>-14.0</td>\n",
       "      <td>-20.5</td>\n",
       "      <td>-7.8</td>\n",
       "    </tr>\n",
       "    <tr>\n",
       "      <th>3387</th>\n",
       "      <td>1917-01-08</td>\n",
       "      <td>108</td>\n",
       "      <td>-15.5</td>\n",
       "      <td>-20.4</td>\n",
       "      <td>-11.2</td>\n",
       "    </tr>\n",
       "    <tr>\n",
       "      <th>3401</th>\n",
       "      <td>1917-01-22</td>\n",
       "      <td>108</td>\n",
       "      <td>-12.8</td>\n",
       "      <td>-21.1</td>\n",
       "      <td>-6.3</td>\n",
       "    </tr>\n",
       "    <tr>\n",
       "      <th>3740</th>\n",
       "      <td>1917-12-27</td>\n",
       "      <td>108</td>\n",
       "      <td>-13.8</td>\n",
       "      <td>-20.4</td>\n",
       "      <td>-8.7</td>\n",
       "    </tr>\n",
       "    <tr>\n",
       "      <th>3747</th>\n",
       "      <td>1918-01-03</td>\n",
       "      <td>108</td>\n",
       "      <td>-14.4</td>\n",
       "      <td>-21.8</td>\n",
       "      <td>-7.7</td>\n",
       "    </tr>\n",
       "    <tr>\n",
       "      <th>3752</th>\n",
       "      <td>1918-01-08</td>\n",
       "      <td>108</td>\n",
       "      <td>-13.4</td>\n",
       "      <td>-20.5</td>\n",
       "      <td>-7.1</td>\n",
       "    </tr>\n",
       "    <tr>\n",
       "      <th>4478</th>\n",
       "      <td>1920-01-04</td>\n",
       "      <td>108</td>\n",
       "      <td>-14.7</td>\n",
       "      <td>-22.3</td>\n",
       "      <td>-8.5</td>\n",
       "    </tr>\n",
       "    <tr>\n",
       "      <th>5225</th>\n",
       "      <td>1922-01-20</td>\n",
       "      <td>108</td>\n",
       "      <td>-15.0</td>\n",
       "      <td>-21.0</td>\n",
       "      <td>-8.6</td>\n",
       "    </tr>\n",
       "    <tr>\n",
       "      <th>5572</th>\n",
       "      <td>1923-01-02</td>\n",
       "      <td>108</td>\n",
       "      <td>-16.1</td>\n",
       "      <td>-20.4</td>\n",
       "      <td>-12.0</td>\n",
       "    </tr>\n",
       "    <tr>\n",
       "      <th>7394</th>\n",
       "      <td>1927-12-29</td>\n",
       "      <td>108</td>\n",
       "      <td>-13.0</td>\n",
       "      <td>-20.7</td>\n",
       "      <td>-9.4</td>\n",
       "    </tr>\n",
       "    <tr>\n",
       "      <th>7396</th>\n",
       "      <td>1927-12-31</td>\n",
       "      <td>108</td>\n",
       "      <td>-15.3</td>\n",
       "      <td>-23.1</td>\n",
       "      <td>-6.4</td>\n",
       "    </tr>\n",
       "    <tr>\n",
       "      <th>7401</th>\n",
       "      <td>1928-01-05</td>\n",
       "      <td>108</td>\n",
       "      <td>-15.1</td>\n",
       "      <td>-22.2</td>\n",
       "      <td>-10.6</td>\n",
       "    </tr>\n",
       "    <tr>\n",
       "      <th>7402</th>\n",
       "      <td>1928-01-06</td>\n",
       "      <td>108</td>\n",
       "      <td>-14.9</td>\n",
       "      <td>-20.9</td>\n",
       "      <td>-9.3</td>\n",
       "    </tr>\n",
       "    <tr>\n",
       "      <th>7403</th>\n",
       "      <td>1928-01-07</td>\n",
       "      <td>108</td>\n",
       "      <td>-13.8</td>\n",
       "      <td>-21.7</td>\n",
       "      <td>-7.0</td>\n",
       "    </tr>\n",
       "    <tr>\n",
       "      <th>8502</th>\n",
       "      <td>1931-01-10</td>\n",
       "      <td>108</td>\n",
       "      <td>-18.9</td>\n",
       "      <td>-21.9</td>\n",
       "      <td>-13.0</td>\n",
       "    </tr>\n",
       "    <tr>\n",
       "      <th>8503</th>\n",
       "      <td>1931-01-11</td>\n",
       "      <td>108</td>\n",
       "      <td>-17.4</td>\n",
       "      <td>-22.5</td>\n",
       "      <td>-14.7</td>\n",
       "    </tr>\n",
       "    <tr>\n",
       "      <th>10335</th>\n",
       "      <td>1936-01-17</td>\n",
       "      <td>108</td>\n",
       "      <td>-16.4</td>\n",
       "      <td>-20.1</td>\n",
       "      <td>-12.0</td>\n",
       "    </tr>\n",
       "    <tr>\n",
       "      <th>12176</th>\n",
       "      <td>1941-01-31</td>\n",
       "      <td>108</td>\n",
       "      <td>-15.9</td>\n",
       "      <td>-20.4</td>\n",
       "      <td>-12.4</td>\n",
       "    </tr>\n",
       "    <tr>\n",
       "      <th>22311</th>\n",
       "      <td>1970-01-05</td>\n",
       "      <td>108</td>\n",
       "      <td>-14.9</td>\n",
       "      <td>-20.2</td>\n",
       "      <td>-9.2</td>\n",
       "    </tr>\n",
       "  </tbody>\n",
       "</table>\n",
       "</div>"
      ],
      "text/plain": [
       "               날짜   지점  평균기온(℃)  최저기온(℃)  최고기온(℃)\n",
       "83     1907-12-23  108    -13.3    -20.1     -9.4\n",
       "1200   1911-01-13  108    -15.3    -21.5     -9.2\n",
       "2660   1915-01-12  108    -14.6    -20.9     -0.7\n",
       "2661   1915-01-13  108    -19.2    -21.3    -16.3\n",
       "2662   1915-01-14  108    -18.0    -21.3    -13.8\n",
       "2663   1915-01-15  108    -14.0    -20.5     -7.8\n",
       "3387   1917-01-08  108    -15.5    -20.4    -11.2\n",
       "3401   1917-01-22  108    -12.8    -21.1     -6.3\n",
       "3740   1917-12-27  108    -13.8    -20.4     -8.7\n",
       "3747   1918-01-03  108    -14.4    -21.8     -7.7\n",
       "3752   1918-01-08  108    -13.4    -20.5     -7.1\n",
       "4478   1920-01-04  108    -14.7    -22.3     -8.5\n",
       "5225   1922-01-20  108    -15.0    -21.0     -8.6\n",
       "5572   1923-01-02  108    -16.1    -20.4    -12.0\n",
       "7394   1927-12-29  108    -13.0    -20.7     -9.4\n",
       "7396   1927-12-31  108    -15.3    -23.1     -6.4\n",
       "7401   1928-01-05  108    -15.1    -22.2    -10.6\n",
       "7402   1928-01-06  108    -14.9    -20.9     -9.3\n",
       "7403   1928-01-07  108    -13.8    -21.7     -7.0\n",
       "8502   1931-01-10  108    -18.9    -21.9    -13.0\n",
       "8503   1931-01-11  108    -17.4    -22.5    -14.7\n",
       "10335  1936-01-17  108    -16.4    -20.1    -12.0\n",
       "12176  1941-01-31  108    -15.9    -20.4    -12.4\n",
       "22311  1970-01-05  108    -14.9    -20.2     -9.2"
      ]
     },
     "execution_count": 17,
     "metadata": {},
     "output_type": "execute_result"
    }
   ],
   "source": [
    "df[df[\"최저기온(℃)\"] < -20]"
   ]
  },
  {
   "cell_type": "code",
   "execution_count": 16,
   "id": "e5ad5c2c",
   "metadata": {},
   "outputs": [
    {
     "data": {
      "text/plain": [
       "날짜         1927-12-31\n",
       "지점                108\n",
       "평균기온(℃)         -15.3\n",
       "최저기온(℃)         -23.1\n",
       "최고기온(℃)          -6.4\n",
       "Name: 7396, dtype: object"
      ]
     },
     "execution_count": 16,
     "metadata": {},
     "output_type": "execute_result"
    }
   ],
   "source": [
    "df.iloc[7396]"
   ]
  },
  {
   "cell_type": "code",
   "execution_count": 4,
   "id": "70593a27",
   "metadata": {},
   "outputs": [
    {
     "data": {
      "text/plain": [
       "날짜           0\n",
       "지점           0\n",
       "평균기온(℃)    756\n",
       "최저기온(℃)    759\n",
       "최고기온(℃)    759\n",
       "dtype: int64"
      ]
     },
     "execution_count": 4,
     "metadata": {},
     "output_type": "execute_result"
    }
   ],
   "source": [
    "# 결측치 확인\n",
    "df.isna().sum()"
   ]
  },
  {
   "cell_type": "code",
   "execution_count": 8,
   "id": "9e85ddbe",
   "metadata": {},
   "outputs": [
    {
     "data": {
      "text/html": [
       "<div>\n",
       "<style scoped>\n",
       "    .dataframe tbody tr th:only-of-type {\n",
       "        vertical-align: middle;\n",
       "    }\n",
       "\n",
       "    .dataframe tbody tr th {\n",
       "        vertical-align: top;\n",
       "    }\n",
       "\n",
       "    .dataframe thead th {\n",
       "        text-align: right;\n",
       "    }\n",
       "</style>\n",
       "<table border=\"1\" class=\"dataframe\">\n",
       "  <thead>\n",
       "    <tr style=\"text-align: right;\">\n",
       "      <th></th>\n",
       "      <th>날짜</th>\n",
       "      <th>지점</th>\n",
       "      <th>평균기온(℃)</th>\n",
       "      <th>최저기온(℃)</th>\n",
       "      <th>최고기온(℃)</th>\n",
       "    </tr>\n",
       "  </thead>\n",
       "  <tbody>\n",
       "    <tr>\n",
       "      <th>15676</th>\n",
       "      <td>1950-09-01</td>\n",
       "      <td>108</td>\n",
       "      <td>NaN</td>\n",
       "      <td>NaN</td>\n",
       "      <td>NaN</td>\n",
       "    </tr>\n",
       "    <tr>\n",
       "      <th>15677</th>\n",
       "      <td>1950-09-02</td>\n",
       "      <td>108</td>\n",
       "      <td>NaN</td>\n",
       "      <td>NaN</td>\n",
       "      <td>NaN</td>\n",
       "    </tr>\n",
       "    <tr>\n",
       "      <th>15678</th>\n",
       "      <td>1950-09-03</td>\n",
       "      <td>108</td>\n",
       "      <td>NaN</td>\n",
       "      <td>NaN</td>\n",
       "      <td>NaN</td>\n",
       "    </tr>\n",
       "    <tr>\n",
       "      <th>15679</th>\n",
       "      <td>1950-09-04</td>\n",
       "      <td>108</td>\n",
       "      <td>NaN</td>\n",
       "      <td>NaN</td>\n",
       "      <td>NaN</td>\n",
       "    </tr>\n",
       "    <tr>\n",
       "      <th>15680</th>\n",
       "      <td>1950-09-05</td>\n",
       "      <td>108</td>\n",
       "      <td>NaN</td>\n",
       "      <td>NaN</td>\n",
       "      <td>NaN</td>\n",
       "    </tr>\n",
       "  </tbody>\n",
       "</table>\n",
       "</div>"
      ],
      "text/plain": [
       "               날짜   지점  평균기온(℃)  최저기온(℃)  최고기온(℃)\n",
       "15676  1950-09-01  108      NaN      NaN      NaN\n",
       "15677  1950-09-02  108      NaN      NaN      NaN\n",
       "15678  1950-09-03  108      NaN      NaN      NaN\n",
       "15679  1950-09-04  108      NaN      NaN      NaN\n",
       "15680  1950-09-05  108      NaN      NaN      NaN"
      ]
     },
     "execution_count": 8,
     "metadata": {},
     "output_type": "execute_result"
    }
   ],
   "source": [
    "df[df[\"최고기온(℃)\"].isna()].head()"
   ]
  },
  {
   "cell_type": "markdown",
   "id": "3d88a294",
   "metadata": {},
   "source": [
    "- 1950년에 6.25 전쟁으로 당시 데이터가 수집되지 않은 것으로 추정\n",
    "    - 1950/60/25 ~ 1953/07/27"
   ]
  },
  {
   "cell_type": "code",
   "execution_count": 9,
   "id": "2faf54dc",
   "metadata": {},
   "outputs": [
    {
     "data": {
      "text/plain": [
       "Index(['날짜', '지점', '평균기온(℃)', '최저기온(℃)', '최고기온(℃)'], dtype='object')"
      ]
     },
     "execution_count": 9,
     "metadata": {},
     "output_type": "execute_result"
    }
   ],
   "source": [
    "df.columns"
   ]
  },
  {
   "cell_type": "code",
   "execution_count": 10,
   "id": "433503a6",
   "metadata": {},
   "outputs": [],
   "source": [
    "df.columns = [\n",
    "    \"날짜\",\n",
    "    \"지점\",\n",
    "    \"평균기온\",\n",
    "    \"최저기온\",\n",
    "    \"최고기온\"\n",
    "]"
   ]
  },
  {
   "cell_type": "code",
   "execution_count": 11,
   "id": "f711a1f0",
   "metadata": {},
   "outputs": [
    {
     "data": {
      "text/html": [
       "<div>\n",
       "<style scoped>\n",
       "    .dataframe tbody tr th:only-of-type {\n",
       "        vertical-align: middle;\n",
       "    }\n",
       "\n",
       "    .dataframe tbody tr th {\n",
       "        vertical-align: top;\n",
       "    }\n",
       "\n",
       "    .dataframe thead th {\n",
       "        text-align: right;\n",
       "    }\n",
       "</style>\n",
       "<table border=\"1\" class=\"dataframe\">\n",
       "  <thead>\n",
       "    <tr style=\"text-align: right;\">\n",
       "      <th></th>\n",
       "      <th>날짜</th>\n",
       "      <th>지점</th>\n",
       "      <th>평균기온</th>\n",
       "      <th>최저기온</th>\n",
       "      <th>최고기온</th>\n",
       "    </tr>\n",
       "  </thead>\n",
       "  <tbody>\n",
       "    <tr>\n",
       "      <th>0</th>\n",
       "      <td>1907-10-01</td>\n",
       "      <td>108</td>\n",
       "      <td>13.5</td>\n",
       "      <td>7.9</td>\n",
       "      <td>20.7</td>\n",
       "    </tr>\n",
       "    <tr>\n",
       "      <th>1</th>\n",
       "      <td>1907-10-02</td>\n",
       "      <td>108</td>\n",
       "      <td>16.2</td>\n",
       "      <td>7.9</td>\n",
       "      <td>22.0</td>\n",
       "    </tr>\n",
       "    <tr>\n",
       "      <th>2</th>\n",
       "      <td>1907-10-03</td>\n",
       "      <td>108</td>\n",
       "      <td>16.2</td>\n",
       "      <td>13.1</td>\n",
       "      <td>21.3</td>\n",
       "    </tr>\n",
       "    <tr>\n",
       "      <th>3</th>\n",
       "      <td>1907-10-04</td>\n",
       "      <td>108</td>\n",
       "      <td>16.5</td>\n",
       "      <td>11.2</td>\n",
       "      <td>22.0</td>\n",
       "    </tr>\n",
       "    <tr>\n",
       "      <th>4</th>\n",
       "      <td>1907-10-05</td>\n",
       "      <td>108</td>\n",
       "      <td>17.6</td>\n",
       "      <td>10.9</td>\n",
       "      <td>25.4</td>\n",
       "    </tr>\n",
       "  </tbody>\n",
       "</table>\n",
       "</div>"
      ],
      "text/plain": [
       "           날짜   지점  평균기온  최저기온  최고기온\n",
       "0  1907-10-01  108  13.5   7.9  20.7\n",
       "1  1907-10-02  108  16.2   7.9  22.0\n",
       "2  1907-10-03  108  16.2  13.1  21.3\n",
       "3  1907-10-04  108  16.5  11.2  22.0\n",
       "4  1907-10-05  108  17.6  10.9  25.4"
      ]
     },
     "execution_count": 11,
     "metadata": {},
     "output_type": "execute_result"
    }
   ],
   "source": [
    "df.head()"
   ]
  },
  {
   "cell_type": "markdown",
   "id": "8ab9ac3f",
   "metadata": {},
   "source": [
    "# 데이터 분석"
   ]
  },
  {
   "cell_type": "markdown",
   "id": "3bbf6776",
   "metadata": {},
   "source": [
    "## 서울이 가장 더웠던 날\n",
    "\n",
    "- 서울의 최고기온이 가장 높았던 날\n",
    "- 저런 애매한 표현의 경우 팀원과의 원활한 의사소통을 위해 기준을 명확하게 통일시켜야 함\n",
    "    - ??? : 그래서 가장 더웠던 날은 기준이 뭐야?"
   ]
  },
  {
   "cell_type": "code",
   "execution_count": 18,
   "id": "ed8e1cfe",
   "metadata": {},
   "outputs": [
    {
     "data": {
      "text/plain": [
       "날짜      2018-08-01\n",
       "지점             108\n",
       "평균기온          33.6\n",
       "최저기온          27.8\n",
       "최고기온          39.6\n",
       "Name: 40051, dtype: object"
      ]
     },
     "execution_count": 18,
     "metadata": {},
     "output_type": "execute_result"
    }
   ],
   "source": [
    "df.iloc[df[\"최고기온\"].idxmax()]"
   ]
  },
  {
   "cell_type": "code",
   "execution_count": 19,
   "id": "3f22f7b8",
   "metadata": {},
   "outputs": [
    {
     "data": {
      "text/html": [
       "<div>\n",
       "<style scoped>\n",
       "    .dataframe tbody tr th:only-of-type {\n",
       "        vertical-align: middle;\n",
       "    }\n",
       "\n",
       "    .dataframe tbody tr th {\n",
       "        vertical-align: top;\n",
       "    }\n",
       "\n",
       "    .dataframe thead th {\n",
       "        text-align: right;\n",
       "    }\n",
       "</style>\n",
       "<table border=\"1\" class=\"dataframe\">\n",
       "  <thead>\n",
       "    <tr style=\"text-align: right;\">\n",
       "      <th></th>\n",
       "      <th>날짜</th>\n",
       "      <th>지점</th>\n",
       "      <th>평균기온</th>\n",
       "      <th>최저기온</th>\n",
       "      <th>최고기온</th>\n",
       "    </tr>\n",
       "  </thead>\n",
       "  <tbody>\n",
       "    <tr>\n",
       "      <th>11636</th>\n",
       "      <td>1939-08-10</td>\n",
       "      <td>108</td>\n",
       "      <td>30.1</td>\n",
       "      <td>24.5</td>\n",
       "      <td>38.2</td>\n",
       "    </tr>\n",
       "    <tr>\n",
       "      <th>13111</th>\n",
       "      <td>1943-08-24</td>\n",
       "      <td>108</td>\n",
       "      <td>29.0</td>\n",
       "      <td>23.2</td>\n",
       "      <td>38.2</td>\n",
       "    </tr>\n",
       "    <tr>\n",
       "      <th>31276</th>\n",
       "      <td>1994-07-23</td>\n",
       "      <td>108</td>\n",
       "      <td>32.6</td>\n",
       "      <td>28.0</td>\n",
       "      <td>38.2</td>\n",
       "    </tr>\n",
       "    <tr>\n",
       "      <th>31277</th>\n",
       "      <td>1994-07-24</td>\n",
       "      <td>108</td>\n",
       "      <td>33.1</td>\n",
       "      <td>28.1</td>\n",
       "      <td>38.4</td>\n",
       "    </tr>\n",
       "    <tr>\n",
       "      <th>40041</th>\n",
       "      <td>2018-07-22</td>\n",
       "      <td>108</td>\n",
       "      <td>31.8</td>\n",
       "      <td>25.3</td>\n",
       "      <td>38.0</td>\n",
       "    </tr>\n",
       "    <tr>\n",
       "      <th>40050</th>\n",
       "      <td>2018-07-31</td>\n",
       "      <td>108</td>\n",
       "      <td>32.6</td>\n",
       "      <td>27.8</td>\n",
       "      <td>38.3</td>\n",
       "    </tr>\n",
       "    <tr>\n",
       "      <th>40051</th>\n",
       "      <td>2018-08-01</td>\n",
       "      <td>108</td>\n",
       "      <td>33.6</td>\n",
       "      <td>27.8</td>\n",
       "      <td>39.6</td>\n",
       "    </tr>\n",
       "    <tr>\n",
       "      <th>40065</th>\n",
       "      <td>2018-08-15</td>\n",
       "      <td>108</td>\n",
       "      <td>31.7</td>\n",
       "      <td>28.3</td>\n",
       "      <td>38.0</td>\n",
       "    </tr>\n",
       "  </tbody>\n",
       "</table>\n",
       "</div>"
      ],
      "text/plain": [
       "               날짜   지점  평균기온  최저기온  최고기온\n",
       "11636  1939-08-10  108  30.1  24.5  38.2\n",
       "13111  1943-08-24  108  29.0  23.2  38.2\n",
       "31276  1994-07-23  108  32.6  28.0  38.2\n",
       "31277  1994-07-24  108  33.1  28.1  38.4\n",
       "40041  2018-07-22  108  31.8  25.3  38.0\n",
       "40050  2018-07-31  108  32.6  27.8  38.3\n",
       "40051  2018-08-01  108  33.6  27.8  39.6\n",
       "40065  2018-08-15  108  31.7  28.3  38.0"
      ]
     },
     "execution_count": 19,
     "metadata": {},
     "output_type": "execute_result"
    }
   ],
   "source": [
    "df.loc[df[\"최고기온\"] >= 38]"
   ]
  },
  {
   "cell_type": "code",
   "execution_count": 20,
   "id": "c1b42046",
   "metadata": {},
   "outputs": [
    {
     "data": {
      "text/html": [
       "<div>\n",
       "<style scoped>\n",
       "    .dataframe tbody tr th:only-of-type {\n",
       "        vertical-align: middle;\n",
       "    }\n",
       "\n",
       "    .dataframe tbody tr th {\n",
       "        vertical-align: top;\n",
       "    }\n",
       "\n",
       "    .dataframe thead th {\n",
       "        text-align: right;\n",
       "    }\n",
       "</style>\n",
       "<table border=\"1\" class=\"dataframe\">\n",
       "  <thead>\n",
       "    <tr style=\"text-align: right;\">\n",
       "      <th></th>\n",
       "      <th>날짜</th>\n",
       "      <th>지점</th>\n",
       "      <th>평균기온</th>\n",
       "      <th>최저기온</th>\n",
       "      <th>최고기온</th>\n",
       "    </tr>\n",
       "  </thead>\n",
       "  <tbody>\n",
       "    <tr>\n",
       "      <th>40051</th>\n",
       "      <td>2018-08-01</td>\n",
       "      <td>108</td>\n",
       "      <td>33.6</td>\n",
       "      <td>27.8</td>\n",
       "      <td>39.6</td>\n",
       "    </tr>\n",
       "    <tr>\n",
       "      <th>31277</th>\n",
       "      <td>1994-07-24</td>\n",
       "      <td>108</td>\n",
       "      <td>33.1</td>\n",
       "      <td>28.1</td>\n",
       "      <td>38.4</td>\n",
       "    </tr>\n",
       "    <tr>\n",
       "      <th>40050</th>\n",
       "      <td>2018-07-31</td>\n",
       "      <td>108</td>\n",
       "      <td>32.6</td>\n",
       "      <td>27.8</td>\n",
       "      <td>38.3</td>\n",
       "    </tr>\n",
       "    <tr>\n",
       "      <th>31276</th>\n",
       "      <td>1994-07-23</td>\n",
       "      <td>108</td>\n",
       "      <td>32.6</td>\n",
       "      <td>28.0</td>\n",
       "      <td>38.2</td>\n",
       "    </tr>\n",
       "    <tr>\n",
       "      <th>13111</th>\n",
       "      <td>1943-08-24</td>\n",
       "      <td>108</td>\n",
       "      <td>29.0</td>\n",
       "      <td>23.2</td>\n",
       "      <td>38.2</td>\n",
       "    </tr>\n",
       "    <tr>\n",
       "      <th>...</th>\n",
       "      <td>...</td>\n",
       "      <td>...</td>\n",
       "      <td>...</td>\n",
       "      <td>...</td>\n",
       "      <td>...</td>\n",
       "    </tr>\n",
       "    <tr>\n",
       "      <th>16430</th>\n",
       "      <td>1953-11-29</td>\n",
       "      <td>108</td>\n",
       "      <td>NaN</td>\n",
       "      <td>NaN</td>\n",
       "      <td>NaN</td>\n",
       "    </tr>\n",
       "    <tr>\n",
       "      <th>16431</th>\n",
       "      <td>1953-11-30</td>\n",
       "      <td>108</td>\n",
       "      <td>NaN</td>\n",
       "      <td>NaN</td>\n",
       "      <td>NaN</td>\n",
       "    </tr>\n",
       "    <tr>\n",
       "      <th>21260</th>\n",
       "      <td>1967-02-19</td>\n",
       "      <td>108</td>\n",
       "      <td>-1.7</td>\n",
       "      <td>NaN</td>\n",
       "      <td>NaN</td>\n",
       "    </tr>\n",
       "    <tr>\n",
       "      <th>23691</th>\n",
       "      <td>1973-10-16</td>\n",
       "      <td>108</td>\n",
       "      <td>12.3</td>\n",
       "      <td>NaN</td>\n",
       "      <td>NaN</td>\n",
       "    </tr>\n",
       "    <tr>\n",
       "      <th>39758</th>\n",
       "      <td>2017-10-12</td>\n",
       "      <td>108</td>\n",
       "      <td>11.4</td>\n",
       "      <td>8.8</td>\n",
       "      <td>NaN</td>\n",
       "    </tr>\n",
       "  </tbody>\n",
       "</table>\n",
       "<p>42095 rows × 5 columns</p>\n",
       "</div>"
      ],
      "text/plain": [
       "               날짜   지점  평균기온  최저기온  최고기온\n",
       "40051  2018-08-01  108  33.6  27.8  39.6\n",
       "31277  1994-07-24  108  33.1  28.1  38.4\n",
       "40050  2018-07-31  108  32.6  27.8  38.3\n",
       "31276  1994-07-23  108  32.6  28.0  38.2\n",
       "13111  1943-08-24  108  29.0  23.2  38.2\n",
       "...           ...  ...   ...   ...   ...\n",
       "16430  1953-11-29  108   NaN   NaN   NaN\n",
       "16431  1953-11-30  108   NaN   NaN   NaN\n",
       "21260  1967-02-19  108  -1.7   NaN   NaN\n",
       "23691  1973-10-16  108  12.3   NaN   NaN\n",
       "39758  2017-10-12  108  11.4   8.8   NaN\n",
       "\n",
       "[42095 rows x 5 columns]"
      ]
     },
     "execution_count": 20,
     "metadata": {},
     "output_type": "execute_result"
    }
   ],
   "source": [
    "df.sort_values(by = \"최고기온\", ascending = False)"
   ]
  },
  {
   "cell_type": "markdown",
   "id": "752c3acb",
   "metadata": {},
   "source": [
    "## 내 생일의 기온 변화"
   ]
  },
  {
   "cell_type": "code",
   "execution_count": 23,
   "id": "c5dc5e9e",
   "metadata": {},
   "outputs": [
    {
     "data": {
      "text/html": [
       "<div>\n",
       "<style scoped>\n",
       "    .dataframe tbody tr th:only-of-type {\n",
       "        vertical-align: middle;\n",
       "    }\n",
       "\n",
       "    .dataframe tbody tr th {\n",
       "        vertical-align: top;\n",
       "    }\n",
       "\n",
       "    .dataframe thead th {\n",
       "        text-align: right;\n",
       "    }\n",
       "</style>\n",
       "<table border=\"1\" class=\"dataframe\">\n",
       "  <thead>\n",
       "    <tr style=\"text-align: right;\">\n",
       "      <th></th>\n",
       "      <th>날짜</th>\n",
       "      <th>지점</th>\n",
       "      <th>평균기온</th>\n",
       "      <th>최저기온</th>\n",
       "      <th>최고기온</th>\n",
       "    </tr>\n",
       "  </thead>\n",
       "  <tbody>\n",
       "    <tr>\n",
       "      <th>138</th>\n",
       "      <td>1908-02-16</td>\n",
       "      <td>108</td>\n",
       "      <td>-5.2</td>\n",
       "      <td>-8.8</td>\n",
       "      <td>-1.4</td>\n",
       "    </tr>\n",
       "    <tr>\n",
       "      <th>504</th>\n",
       "      <td>1909-02-16</td>\n",
       "      <td>108</td>\n",
       "      <td>-3.3</td>\n",
       "      <td>-6.4</td>\n",
       "      <td>1.0</td>\n",
       "    </tr>\n",
       "    <tr>\n",
       "      <th>869</th>\n",
       "      <td>1910-02-16</td>\n",
       "      <td>108</td>\n",
       "      <td>0.3</td>\n",
       "      <td>-2.2</td>\n",
       "      <td>4.3</td>\n",
       "    </tr>\n",
       "    <tr>\n",
       "      <th>1234</th>\n",
       "      <td>1911-02-16</td>\n",
       "      <td>108</td>\n",
       "      <td>-6.1</td>\n",
       "      <td>-8.7</td>\n",
       "      <td>-2.2</td>\n",
       "    </tr>\n",
       "    <tr>\n",
       "      <th>1599</th>\n",
       "      <td>1912-02-16</td>\n",
       "      <td>108</td>\n",
       "      <td>-1.2</td>\n",
       "      <td>-4.3</td>\n",
       "      <td>4.8</td>\n",
       "    </tr>\n",
       "    <tr>\n",
       "      <th>...</th>\n",
       "      <td>...</td>\n",
       "      <td>...</td>\n",
       "      <td>...</td>\n",
       "      <td>...</td>\n",
       "      <td>...</td>\n",
       "    </tr>\n",
       "    <tr>\n",
       "      <th>40615</th>\n",
       "      <td>2020-02-16</td>\n",
       "      <td>108</td>\n",
       "      <td>-1.4</td>\n",
       "      <td>-4.3</td>\n",
       "      <td>7.7</td>\n",
       "    </tr>\n",
       "    <tr>\n",
       "      <th>40981</th>\n",
       "      <td>2021-02-16</td>\n",
       "      <td>108</td>\n",
       "      <td>-5.1</td>\n",
       "      <td>-7.0</td>\n",
       "      <td>-1.3</td>\n",
       "    </tr>\n",
       "    <tr>\n",
       "      <th>41346</th>\n",
       "      <td>2022-02-16</td>\n",
       "      <td>108</td>\n",
       "      <td>-7.3</td>\n",
       "      <td>-9.6</td>\n",
       "      <td>-4.1</td>\n",
       "    </tr>\n",
       "    <tr>\n",
       "      <th>41711</th>\n",
       "      <td>2023-02-16</td>\n",
       "      <td>108</td>\n",
       "      <td>2.3</td>\n",
       "      <td>-0.7</td>\n",
       "      <td>4.5</td>\n",
       "    </tr>\n",
       "    <tr>\n",
       "      <th>42076</th>\n",
       "      <td>2024-02-16</td>\n",
       "      <td>108</td>\n",
       "      <td>2.3</td>\n",
       "      <td>-1.5</td>\n",
       "      <td>8.1</td>\n",
       "    </tr>\n",
       "  </tbody>\n",
       "</table>\n",
       "<p>116 rows × 5 columns</p>\n",
       "</div>"
      ],
      "text/plain": [
       "               날짜   지점  평균기온  최저기온  최고기온\n",
       "138    1908-02-16  108  -5.2  -8.8  -1.4\n",
       "504    1909-02-16  108  -3.3  -6.4   1.0\n",
       "869    1910-02-16  108   0.3  -2.2   4.3\n",
       "1234   1911-02-16  108  -6.1  -8.7  -2.2\n",
       "1599   1912-02-16  108  -1.2  -4.3   4.8\n",
       "...           ...  ...   ...   ...   ...\n",
       "40615  2020-02-16  108  -1.4  -4.3   7.7\n",
       "40981  2021-02-16  108  -5.1  -7.0  -1.3\n",
       "41346  2022-02-16  108  -7.3  -9.6  -4.1\n",
       "41711  2023-02-16  108   2.3  -0.7   4.5\n",
       "42076  2024-02-16  108   2.3  -1.5   8.1\n",
       "\n",
       "[116 rows x 5 columns]"
      ]
     },
     "execution_count": 23,
     "metadata": {},
     "output_type": "execute_result"
    }
   ],
   "source": [
    "# 생일 데이터 추출 ver1\n",
    "df.loc[df[\"날짜\"].str.endswith(\"02-16\")]"
   ]
  },
  {
   "cell_type": "code",
   "execution_count": 24,
   "id": "633313b6",
   "metadata": {},
   "outputs": [],
   "source": [
    "# 생일 데이터 추출 ver2\n",
    "ndf = df.copy()"
   ]
  },
  {
   "cell_type": "code",
   "execution_count": 26,
   "id": "6c294004",
   "metadata": {},
   "outputs": [],
   "source": [
    "ndf[\"date\"] = pd.to_datetime(df[\"날짜\"])"
   ]
  },
  {
   "cell_type": "code",
   "execution_count": 27,
   "id": "e65dbf4d",
   "metadata": {},
   "outputs": [
    {
     "data": {
      "text/html": [
       "<div>\n",
       "<style scoped>\n",
       "    .dataframe tbody tr th:only-of-type {\n",
       "        vertical-align: middle;\n",
       "    }\n",
       "\n",
       "    .dataframe tbody tr th {\n",
       "        vertical-align: top;\n",
       "    }\n",
       "\n",
       "    .dataframe thead th {\n",
       "        text-align: right;\n",
       "    }\n",
       "</style>\n",
       "<table border=\"1\" class=\"dataframe\">\n",
       "  <thead>\n",
       "    <tr style=\"text-align: right;\">\n",
       "      <th></th>\n",
       "      <th>날짜</th>\n",
       "      <th>지점</th>\n",
       "      <th>평균기온</th>\n",
       "      <th>최저기온</th>\n",
       "      <th>최고기온</th>\n",
       "      <th>date</th>\n",
       "    </tr>\n",
       "  </thead>\n",
       "  <tbody>\n",
       "    <tr>\n",
       "      <th>0</th>\n",
       "      <td>1907-10-01</td>\n",
       "      <td>108</td>\n",
       "      <td>13.5</td>\n",
       "      <td>7.9</td>\n",
       "      <td>20.7</td>\n",
       "      <td>1907-10-01</td>\n",
       "    </tr>\n",
       "    <tr>\n",
       "      <th>1</th>\n",
       "      <td>1907-10-02</td>\n",
       "      <td>108</td>\n",
       "      <td>16.2</td>\n",
       "      <td>7.9</td>\n",
       "      <td>22.0</td>\n",
       "      <td>1907-10-02</td>\n",
       "    </tr>\n",
       "    <tr>\n",
       "      <th>2</th>\n",
       "      <td>1907-10-03</td>\n",
       "      <td>108</td>\n",
       "      <td>16.2</td>\n",
       "      <td>13.1</td>\n",
       "      <td>21.3</td>\n",
       "      <td>1907-10-03</td>\n",
       "    </tr>\n",
       "    <tr>\n",
       "      <th>3</th>\n",
       "      <td>1907-10-04</td>\n",
       "      <td>108</td>\n",
       "      <td>16.5</td>\n",
       "      <td>11.2</td>\n",
       "      <td>22.0</td>\n",
       "      <td>1907-10-04</td>\n",
       "    </tr>\n",
       "    <tr>\n",
       "      <th>4</th>\n",
       "      <td>1907-10-05</td>\n",
       "      <td>108</td>\n",
       "      <td>17.6</td>\n",
       "      <td>10.9</td>\n",
       "      <td>25.4</td>\n",
       "      <td>1907-10-05</td>\n",
       "    </tr>\n",
       "  </tbody>\n",
       "</table>\n",
       "</div>"
      ],
      "text/plain": [
       "           날짜   지점  평균기온  최저기온  최고기온       date\n",
       "0  1907-10-01  108  13.5   7.9  20.7 1907-10-01\n",
       "1  1907-10-02  108  16.2   7.9  22.0 1907-10-02\n",
       "2  1907-10-03  108  16.2  13.1  21.3 1907-10-03\n",
       "3  1907-10-04  108  16.5  11.2  22.0 1907-10-04\n",
       "4  1907-10-05  108  17.6  10.9  25.4 1907-10-05"
      ]
     },
     "execution_count": 27,
     "metadata": {},
     "output_type": "execute_result"
    }
   ],
   "source": [
    "ndf.head()"
   ]
  },
  {
   "cell_type": "code",
   "execution_count": 33,
   "id": "81c231dd",
   "metadata": {},
   "outputs": [],
   "source": [
    "birthday_df = ndf[(ndf[\"date\"].dt.month == 2) & (ndf[\"date\"].dt.day == 16)]"
   ]
  },
  {
   "cell_type": "code",
   "execution_count": 35,
   "id": "9c48d87b",
   "metadata": {},
   "outputs": [
    {
     "data": {
      "text/html": [
       "<div>\n",
       "<style scoped>\n",
       "    .dataframe tbody tr th:only-of-type {\n",
       "        vertical-align: middle;\n",
       "    }\n",
       "\n",
       "    .dataframe tbody tr th {\n",
       "        vertical-align: top;\n",
       "    }\n",
       "\n",
       "    .dataframe thead th {\n",
       "        text-align: right;\n",
       "    }\n",
       "</style>\n",
       "<table border=\"1\" class=\"dataframe\">\n",
       "  <thead>\n",
       "    <tr style=\"text-align: right;\">\n",
       "      <th></th>\n",
       "      <th>날짜</th>\n",
       "      <th>지점</th>\n",
       "      <th>평균기온</th>\n",
       "      <th>최저기온</th>\n",
       "      <th>최고기온</th>\n",
       "      <th>date</th>\n",
       "    </tr>\n",
       "  </thead>\n",
       "  <tbody>\n",
       "    <tr>\n",
       "      <th>31484</th>\n",
       "      <td>1995-02-16</td>\n",
       "      <td>108</td>\n",
       "      <td>-1.0</td>\n",
       "      <td>-4.9</td>\n",
       "      <td>3.4</td>\n",
       "      <td>1995-02-16</td>\n",
       "    </tr>\n",
       "    <tr>\n",
       "      <th>31849</th>\n",
       "      <td>1996-02-16</td>\n",
       "      <td>108</td>\n",
       "      <td>-2.3</td>\n",
       "      <td>-6.6</td>\n",
       "      <td>2.8</td>\n",
       "      <td>1996-02-16</td>\n",
       "    </tr>\n",
       "    <tr>\n",
       "      <th>32215</th>\n",
       "      <td>1997-02-16</td>\n",
       "      <td>108</td>\n",
       "      <td>-4.0</td>\n",
       "      <td>-7.1</td>\n",
       "      <td>2.0</td>\n",
       "      <td>1997-02-16</td>\n",
       "    </tr>\n",
       "    <tr>\n",
       "      <th>32580</th>\n",
       "      <td>1998-02-16</td>\n",
       "      <td>108</td>\n",
       "      <td>3.0</td>\n",
       "      <td>-1.3</td>\n",
       "      <td>7.4</td>\n",
       "      <td>1998-02-16</td>\n",
       "    </tr>\n",
       "    <tr>\n",
       "      <th>32945</th>\n",
       "      <td>1999-02-16</td>\n",
       "      <td>108</td>\n",
       "      <td>4.7</td>\n",
       "      <td>0.3</td>\n",
       "      <td>10.2</td>\n",
       "      <td>1999-02-16</td>\n",
       "    </tr>\n",
       "  </tbody>\n",
       "</table>\n",
       "</div>"
      ],
      "text/plain": [
       "               날짜   지점  평균기온  최저기온  최고기온       date\n",
       "31484  1995-02-16  108  -1.0  -4.9   3.4 1995-02-16\n",
       "31849  1996-02-16  108  -2.3  -6.6   2.8 1996-02-16\n",
       "32215  1997-02-16  108  -4.0  -7.1   2.0 1997-02-16\n",
       "32580  1998-02-16  108   3.0  -1.3   7.4 1998-02-16\n",
       "32945  1999-02-16  108   4.7   0.3  10.2 1999-02-16"
      ]
     },
     "execution_count": 35,
     "metadata": {},
     "output_type": "execute_result"
    }
   ],
   "source": [
    "birthday_df[birthday_df[\"date\"].dt.year >= 1995].head()"
   ]
  },
  {
   "cell_type": "code",
   "execution_count": 36,
   "id": "39af476f",
   "metadata": {},
   "outputs": [
    {
     "name": "stderr",
     "output_type": "stream",
     "text": [
      "C:\\ProgramData\\anaconda3\\Lib\\site-packages\\IPython\\core\\pylabtools.py:152: UserWarning: Glyph 8722 (\\N{MINUS SIGN}) missing from current font.\n",
      "  fig.canvas.print_figure(bytes_io, **kw)\n"
     ]
    },
    {
     "data": {
      "image/png": "[encoded data removed]",
      "text/plain": [
       "<Figure size 2000x1000 with 1 Axes>"
      ]
     },
     "metadata": {},
     "output_type": "display_data"
    }
   ],
   "source": [
    "# 시각화\n",
    "fig = plt.figure(figsize = (20, 10))\n",
    "ax = fig.add_subplot(1, 1, 1)\n",
    "\n",
    "ax.plot(birthday_df[\"date\"].dt.year, birthday_df[\"최고기온\"], \"hotpink\", label = \"최고기온\")\n",
    "ax.plot(birthday_df[\"date\"].dt.year, birthday_df[\"최저기온\"], \"skyblue\", label = \"최저기온\")\n",
    "ax.legend()\n",
    "ax.set_title(\"내 생일의 기온 변화 그래프\", size = 20)\n",
    "\n",
    "plt.show()"
   ]
  },
  {
   "cell_type": "code",
   "execution_count": 37,
   "id": "0b0f84eb",
   "metadata": {},
   "outputs": [
    {
     "name": "stderr",
     "output_type": "stream",
     "text": [
      "C:\\ProgramData\\anaconda3\\Lib\\site-packages\\IPython\\core\\pylabtools.py:152: UserWarning: Glyph 8722 (\\N{MINUS SIGN}) missing from current font.\n",
      "  fig.canvas.print_figure(bytes_io, **kw)\n"
     ]
    },
    {
     "data": {
      "image/png": "[encoded data removed]",
      "text/plain": [
       "<Figure size 2000x1000 with 1 Axes>"
      ]
     },
     "metadata": {},
     "output_type": "display_data"
    }
   ],
   "source": [
    "fig = plt.figure(figsize= (20 , 10))\n",
    "ax = fig.add_subplot(1, 1, 1)\n",
    "\n",
    "ax.hist(birthday_df[\"최고기온\"], color = \"brown\")\n",
    "ax.set_title(\"생일 최고 기온 히스토그램\", size = 20)\n",
    "plt.show()"
   ]
  },
  {
   "cell_type": "code",
   "execution_count": 38,
   "id": "c0f27083",
   "metadata": {},
   "outputs": [
    {
     "name": "stderr",
     "output_type": "stream",
     "text": [
      "C:\\ProgramData\\anaconda3\\Lib\\site-packages\\IPython\\core\\pylabtools.py:152: UserWarning: Glyph 8722 (\\N{MINUS SIGN}) missing from current font.\n",
      "  fig.canvas.print_figure(bytes_io, **kw)\n"
     ]
    },
    {
     "data": {
      "image/png": "[encoded data removed]",
      "text/plain": [
       "<Figure size 2000x1000 with 1 Axes>"
      ]
     },
     "metadata": {},
     "output_type": "display_data"
    }
   ],
   "source": [
    "fig = plt.figure(figsize = (20, 10))\n",
    "ax = fig.add_subplot(1, 1, 1)\n",
    "\n",
    "ax.boxplot(birthday_df[\"최고기온\"].dropna())\n",
    "ax.set_title(\"생일 최고 기온 상자 수염 그림\", size = 20)\n",
    "plt.show()"
   ]
  },
  {
   "cell_type": "code",
   "execution_count": 39,
   "id": "8e6a1d9e",
   "metadata": {},
   "outputs": [
    {
     "data": {
      "text/plain": [
       "5.4"
      ]
     },
     "execution_count": 39,
     "metadata": {},
     "output_type": "execute_result"
    }
   ],
   "source": [
    "iqr = np.subtract(*np.percentile(birthday_df[\"최고기온\"].dropna(), [75, 25]))\n",
    "iqr"
   ]
  },
  {
   "cell_type": "code",
   "execution_count": 40,
   "id": "a1dbba82",
   "metadata": {},
   "outputs": [],
   "source": [
    "q3, q1 = np.percentile(birthday_df[\"최고기온\"].dropna(), [75, 25])"
   ]
  },
  {
   "cell_type": "code",
   "execution_count": 41,
   "id": "8660e00b",
   "metadata": {},
   "outputs": [
    {
     "data": {
      "text/plain": [
       "-7.100000000000001"
      ]
     },
     "execution_count": 41,
     "metadata": {},
     "output_type": "execute_result"
    }
   ],
   "source": [
    "outlier = q1 - (1.5 * iqr)\n",
    "outlier"
   ]
  },
  {
   "cell_type": "code",
   "execution_count": 43,
   "id": "98ad88b8",
   "metadata": {},
   "outputs": [
    {
     "data": {
      "text/html": [
       "<div>\n",
       "<style scoped>\n",
       "    .dataframe tbody tr th:only-of-type {\n",
       "        vertical-align: middle;\n",
       "    }\n",
       "\n",
       "    .dataframe tbody tr th {\n",
       "        vertical-align: top;\n",
       "    }\n",
       "\n",
       "    .dataframe thead th {\n",
       "        text-align: right;\n",
       "    }\n",
       "</style>\n",
       "<table border=\"1\" class=\"dataframe\">\n",
       "  <thead>\n",
       "    <tr style=\"text-align: right;\">\n",
       "      <th></th>\n",
       "      <th>날짜</th>\n",
       "      <th>지점</th>\n",
       "      <th>평균기온</th>\n",
       "      <th>최저기온</th>\n",
       "      <th>최고기온</th>\n",
       "      <th>date</th>\n",
       "    </tr>\n",
       "  </thead>\n",
       "  <tbody>\n",
       "    <tr>\n",
       "      <th>14383</th>\n",
       "      <td>1947-02-16</td>\n",
       "      <td>108</td>\n",
       "      <td>-11.9</td>\n",
       "      <td>-14.1</td>\n",
       "      <td>-8.2</td>\n",
       "      <td>1947-02-16</td>\n",
       "    </tr>\n",
       "    <tr>\n",
       "      <th>24910</th>\n",
       "      <td>1977-02-16</td>\n",
       "      <td>108</td>\n",
       "      <td>-12.8</td>\n",
       "      <td>-16.8</td>\n",
       "      <td>-8.4</td>\n",
       "      <td>1977-02-16</td>\n",
       "    </tr>\n",
       "  </tbody>\n",
       "</table>\n",
       "</div>"
      ],
      "text/plain": [
       "               날짜   지점  평균기온  최저기온  최고기온       date\n",
       "14383  1947-02-16  108 -11.9 -14.1  -8.2 1947-02-16\n",
       "24910  1977-02-16  108 -12.8 -16.8  -8.4 1977-02-16"
      ]
     },
     "execution_count": 43,
     "metadata": {},
     "output_type": "execute_result"
    }
   ],
   "source": [
    "birthday_df[birthday_df[\"고기온\"] < outlier]"
   ]
  },
  {
   "cell_type": "code",
   "execution_count": null,
   "id": "8b2a9f18",
   "metadata": {},
   "outputs": [],
   "source": []
  }
 ],
 "metadata": {
  "kernelspec": {
   "display_name": "Python 3 (ipykernel)",
   "language": "python",
   "name": "python3"
  },
  "language_info": {
   "codemirror_mode": {
    "name": "ipython",
    "version": 3
   },
   "file_extension": ".py",
   "mimetype": "text/x-python",
   "name": "python",
   "nbconvert_exporter": "python",
   "pygments_lexer": "ipython3",
   "version": "3.11.5"
  }
 },
 "nbformat": 4,
 "nbformat_minor": 5
}
