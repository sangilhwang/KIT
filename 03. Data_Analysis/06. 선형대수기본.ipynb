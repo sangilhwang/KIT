{
 "cells": [
  {
   "cell_type": "code",
   "execution_count": 1,
   "id": "b1aee70c",
   "metadata": {},
   "outputs": [],
   "source": [
    "import numpy as np"
   ]
  },
  {
   "cell_type": "markdown",
   "id": "49d5129e",
   "metadata": {},
   "source": [
    "# 스칼라와 벡터\n",
    "\n",
    "- 벡터와 행렬은 특정 텐서(tensor)를 부르는 이름\n",
    "- 텐서의 이름을 부여하는 원칙은 차원인 축(axis)를 기준으로 지정\n",
    "    - 텐서가 0차원인 경우(축이 없는 경우) : 스칼라(scalar)\n",
    "    - 1차원인 하나의 축을 가진 경우 : 벡터(vector)\n",
    "    - 2차원인 2개의 축을 가진 경우 : 행렬(matrix)\n",
    "    - 3차원인 3개의 축을 가진 경우 : 큐브(cube) 또는 3차원 텐서\n",
    "    - 더 차원이 높은 경우는 차원을 기준으로는 n차원 텐서라고 부름"
   ]
  },
  {
   "cell_type": "markdown",
   "id": "7ac20097",
   "metadata": {},
   "source": [
    "## 스칼라\n",
    "\n",
    "- 0차원 배열\n",
    "- 크기를 표현\n",
    "- 가장 기본적인 값\n",
    "- 수학에서 배운 정수나 실수는 하나의 물리량인 크기를 표현하는데, 이 값을 스칼라 라고 함"
   ]
  },
  {
   "cell_type": "code",
   "execution_count": 2,
   "id": "e2ce8d12",
   "metadata": {},
   "outputs": [],
   "source": [
    "scalar_arr = np.array(43)"
   ]
  },
  {
   "cell_type": "code",
   "execution_count": 3,
   "id": "2fd0c4b6",
   "metadata": {},
   "outputs": [
    {
     "data": {
      "text/plain": [
       "array(43)"
      ]
     },
     "execution_count": 3,
     "metadata": {},
     "output_type": "execute_result"
    }
   ],
   "source": [
    "# array에서 스칼라는 대괄호 없이 숫자만 표시\n",
    "# 대괄호는 벡터(1차원 배열)부터 사용\n",
    "scalar_arr"
   ]
  },
  {
   "cell_type": "code",
   "execution_count": 4,
   "id": "2cd7f615",
   "metadata": {},
   "outputs": [
    {
     "data": {
      "text/plain": [
       "0"
      ]
     },
     "execution_count": 4,
     "metadata": {},
     "output_type": "execute_result"
    }
   ],
   "source": [
    "# 스칼라는 0차원\n",
    "scalar_arr.ndim"
   ]
  },
  {
   "cell_type": "code",
   "execution_count": 5,
   "id": "0ba8feae",
   "metadata": {},
   "outputs": [
    {
     "data": {
      "text/plain": [
       "()"
      ]
     },
     "execution_count": 5,
     "metadata": {},
     "output_type": "execute_result"
    }
   ],
   "source": [
    "scalar_arr.shape"
   ]
  },
  {
   "cell_type": "code",
   "execution_count": 6,
   "id": "ce0f8237",
   "metadata": {},
   "outputs": [
    {
     "data": {
      "text/plain": [
       "dtype('int32')"
      ]
     },
     "execution_count": 6,
     "metadata": {},
     "output_type": "execute_result"
    }
   ],
   "source": [
    "# array로 스칼라를 만들어도 dtype을 가짐\n",
    "scalar_arr.dtype"
   ]
  },
  {
   "cell_type": "markdown",
   "id": "bb406b1f",
   "metadata": {},
   "source": [
    "## 벡터\n",
    "\n",
    "- 1차원 배열"
   ]
  },
  {
   "cell_type": "code",
   "execution_count": 7,
   "id": "29f54258",
   "metadata": {},
   "outputs": [],
   "source": [
    "vector = np.array([43])"
   ]
  },
  {
   "cell_type": "code",
   "execution_count": 8,
   "id": "3540e66f",
   "metadata": {},
   "outputs": [
    {
     "data": {
      "text/plain": [
       "array([43])"
      ]
     },
     "execution_count": 8,
     "metadata": {},
     "output_type": "execute_result"
    }
   ],
   "source": [
    "vector"
   ]
  },
  {
   "cell_type": "code",
   "execution_count": 9,
   "id": "23c5c2ee",
   "metadata": {},
   "outputs": [
    {
     "data": {
      "text/plain": [
       "numpy.ndarray"
      ]
     },
     "execution_count": 9,
     "metadata": {},
     "output_type": "execute_result"
    }
   ],
   "source": [
    "type(vector)"
   ]
  },
  {
   "cell_type": "code",
   "execution_count": 10,
   "id": "af585ff5",
   "metadata": {},
   "outputs": [
    {
     "data": {
      "text/plain": [
       "1"
      ]
     },
     "execution_count": 10,
     "metadata": {},
     "output_type": "execute_result"
    }
   ],
   "source": [
    "# 1차원 배열\n",
    "vector.ndim"
   ]
  },
  {
   "cell_type": "code",
   "execution_count": 11,
   "id": "b685e64d",
   "metadata": {},
   "outputs": [
    {
     "data": {
      "text/plain": [
       "(1,)"
      ]
     },
     "execution_count": 11,
     "metadata": {},
     "output_type": "execute_result"
    }
   ],
   "source": [
    "vector.shape"
   ]
  },
  {
   "cell_type": "markdown",
   "id": "89e70d80",
   "metadata": {},
   "source": [
    "## 배열생성함수"
   ]
  },
  {
   "cell_type": "markdown",
   "id": "d794a79b",
   "metadata": {},
   "source": [
    "### zeros\n",
    "\n",
    "- 크기가 정해져 있고 모든 값이 0인 배열 생성\n",
    "- 인수로는 배열의 크기를 전달"
   ]
  },
  {
   "cell_type": "code",
   "execution_count": 12,
   "id": "ee27ba9e",
   "metadata": {},
   "outputs": [
    {
     "data": {
      "text/plain": [
       "array([0., 0., 0., 0., 0.])"
      ]
     },
     "execution_count": 12,
     "metadata": {},
     "output_type": "execute_result"
    }
   ],
   "source": [
    "# 1차원 배열\n",
    "zero_arr = np.zeros(5)\n",
    "zero_arr"
   ]
  },
  {
   "cell_type": "code",
   "execution_count": 14,
   "id": "32a7ecac",
   "metadata": {},
   "outputs": [
    {
     "data": {
      "text/plain": [
       "array([[0., 0., 0.],\n",
       "       [0., 0., 0.]])"
      ]
     },
     "execution_count": 14,
     "metadata": {},
     "output_type": "execute_result"
    }
   ],
   "source": [
    "# 2차원 배열\n",
    "zero_arr2 = np.zeros((2, 3))\n",
    "zero_arr2"
   ]
  },
  {
   "cell_type": "markdown",
   "id": "88682348",
   "metadata": {},
   "source": [
    "- dtype 인수를 명시하면 해당 자료형 원소 배열을 생성"
   ]
  },
  {
   "cell_type": "code",
   "execution_count": 15,
   "id": "fee6b1fb",
   "metadata": {},
   "outputs": [
    {
     "data": {
      "text/plain": [
       "array([[0, 0],\n",
       "       [0, 0],\n",
       "       [0, 0],\n",
       "       [0, 0],\n",
       "       [0, 0]])"
      ]
     },
     "execution_count": 15,
     "metadata": {},
     "output_type": "execute_result"
    }
   ],
   "source": [
    "zero_arr3 = np.zeros((5, 2), dtype = int)\n",
    "zero_arr3"
   ]
  },
  {
   "cell_type": "markdown",
   "id": "2fb1c4f5",
   "metadata": {},
   "source": [
    "### ones\n",
    "\n",
    "- 모든 값이 1인 배열 생성"
   ]
  },
  {
   "cell_type": "code",
   "execution_count": 18,
   "id": "a12f61c3",
   "metadata": {},
   "outputs": [
    {
     "data": {
      "text/plain": [
       "array([[[1, 1, 1, 1],\n",
       "        [1, 1, 1, 1],\n",
       "        [1, 1, 1, 1]],\n",
       "\n",
       "       [[1, 1, 1, 1],\n",
       "        [1, 1, 1, 1],\n",
       "        [1, 1, 1, 1]]])"
      ]
     },
     "execution_count": 18,
     "metadata": {},
     "output_type": "execute_result"
    }
   ],
   "source": [
    "one_arr = np.ones((2, 3, 4), dtype = int)\n",
    "one_arr"
   ]
  },
  {
   "cell_type": "markdown",
   "id": "1a4837f6",
   "metadata": {},
   "source": [
    "### zeros_like, ones_like\n",
    "\n",
    "- 다른 배열과 같은 크기의 배열을 생성 (shape이 일치하는)\n",
    "- 데이터 타입도 복사해온다"
   ]
  },
  {
   "cell_type": "code",
   "execution_count": 22,
   "id": "341ae7aa",
   "metadata": {},
   "outputs": [
    {
     "data": {
      "text/plain": [
       "array([[[0, 0, 0, 0],\n",
       "        [0, 0, 0, 0],\n",
       "        [0, 0, 0, 0]],\n",
       "\n",
       "       [[0, 0, 0, 0],\n",
       "        [0, 0, 0, 0],\n",
       "        [0, 0, 0, 0]]])"
      ]
     },
     "execution_count": 22,
     "metadata": {},
     "output_type": "execute_result"
    }
   ],
   "source": [
    "zero_arr4 = np.zeros_like(one_arr)\n",
    "zero_arr4"
   ]
  },
  {
   "cell_type": "code",
   "execution_count": 23,
   "id": "a1b4aa34",
   "metadata": {},
   "outputs": [
    {
     "data": {
      "text/plain": [
       "array([[[0., 0., 0., 0.],\n",
       "        [0., 0., 0., 0.],\n",
       "        [0., 0., 0., 0.]],\n",
       "\n",
       "       [[0., 0., 0., 0.],\n",
       "        [0., 0., 0., 0.],\n",
       "        [0., 0., 0., 0.]]])"
      ]
     },
     "execution_count": 23,
     "metadata": {},
     "output_type": "execute_result"
    }
   ],
   "source": [
    "zero_arr4 = np.zeros(one_arr.shape)\n",
    "zero_arr4"
   ]
  },
  {
   "cell_type": "code",
   "execution_count": 26,
   "id": "f25a2407",
   "metadata": {},
   "outputs": [
    {
     "data": {
      "text/plain": [
       "array([[1, 1],\n",
       "       [1, 1],\n",
       "       [1, 1],\n",
       "       [1, 1],\n",
       "       [1, 1]])"
      ]
     },
     "execution_count": 26,
     "metadata": {},
     "output_type": "execute_result"
    }
   ],
   "source": [
    "one_arr2 = np.ones_like(zero_arr3)\n",
    "one_arr2"
   ]
  },
  {
   "cell_type": "markdown",
   "id": "893f5991",
   "metadata": {},
   "source": [
    "### arange\n",
    "\n",
    "- 파이썬의 range와 유사한 함수\n",
    "- range와 같이 시작점, 종료점, 증감값을 인자로 전달\n",
    "    - 종료점은 필수"
   ]
  },
  {
   "cell_type": "code",
   "execution_count": 27,
   "id": "5dfd5fa0",
   "metadata": {},
   "outputs": [
    {
     "data": {
      "text/plain": [
       "array([0, 1, 2, 3, 4, 5, 6, 7, 8, 9])"
      ]
     },
     "execution_count": 27,
     "metadata": {},
     "output_type": "execute_result"
    }
   ],
   "source": [
    "vector = np.arange(10)\n",
    "vector"
   ]
  },
  {
   "cell_type": "code",
   "execution_count": 28,
   "id": "e98c3461",
   "metadata": {},
   "outputs": [
    {
     "data": {
      "text/plain": [
       "[0, 1, 2, 3, 4, 5, 6, 7, 8, 9]"
      ]
     },
     "execution_count": 28,
     "metadata": {},
     "output_type": "execute_result"
    }
   ],
   "source": [
    "list(range(10))"
   ]
  },
  {
   "cell_type": "code",
   "execution_count": 29,
   "id": "bfbfd5fc",
   "metadata": {},
   "outputs": [
    {
     "data": {
      "text/plain": [
       "dtype('int32')"
      ]
     },
     "execution_count": 29,
     "metadata": {},
     "output_type": "execute_result"
    }
   ],
   "source": [
    "vector.dtype"
   ]
  },
  {
   "cell_type": "markdown",
   "id": "960221cf",
   "metadata": {},
   "source": [
    "- np.arange()는 인자로 실수를 지정할 수 있음"
   ]
  },
  {
   "cell_type": "code",
   "execution_count": 30,
   "id": "7eb2e6bb",
   "metadata": {},
   "outputs": [
    {
     "data": {
      "text/plain": [
       "array([10.5, 11. , 11.5, 12. , 12.5, 13. , 13.5, 14. , 14.5, 15. , 15.5,\n",
       "       16. , 16.5, 17. , 17.5, 18. , 18.5, 19. , 19.5, 20. ])"
      ]
     },
     "execution_count": 30,
     "metadata": {},
     "output_type": "execute_result"
    }
   ],
   "source": [
    "vector1 = np.arange(10.5, 20.5, 0.5)\n",
    "vector1"
   ]
  },
  {
   "cell_type": "code",
   "execution_count": 31,
   "id": "9ef3290d",
   "metadata": {},
   "outputs": [
    {
     "data": {
      "text/plain": [
       "dtype('float64')"
      ]
     },
     "execution_count": 31,
     "metadata": {},
     "output_type": "execute_result"
    }
   ],
   "source": [
    "vector1.dtype"
   ]
  },
  {
   "cell_type": "code",
   "execution_count": 32,
   "id": "c632df0a",
   "metadata": {},
   "outputs": [
    {
     "data": {
      "text/plain": [
       "20"
      ]
     },
     "execution_count": 32,
     "metadata": {},
     "output_type": "execute_result"
    }
   ],
   "source": [
    "# 원소의 개수\n",
    "vector1.size"
   ]
  },
  {
   "cell_type": "code",
   "execution_count": 34,
   "id": "e1c5d930",
   "metadata": {},
   "outputs": [
    {
     "data": {
      "text/plain": [
       "array([[ 0,  1,  2,  3,  4,  5,  6,  7,  8,  9],\n",
       "       [10, 11, 12, 13, 14, 15, 16, 17, 18, 19],\n",
       "       [20, 21, 22, 23, 24, 25, 26, 27, 28, 29],\n",
       "       [30, 31, 32, 33, 34, 35, 36, 37, 38, 39],\n",
       "       [40, 41, 42, 43, 44, 45, 46, 47, 48, 49],\n",
       "       [50, 51, 52, 53, 54, 55, 56, 57, 58, 59]])"
      ]
     },
     "execution_count": 34,
     "metadata": {},
     "output_type": "execute_result"
    }
   ],
   "source": [
    "# 1차원 배열을 생성하면서 바로 2차원 배열로 형상 변경\n",
    "vector2 = np.arange(60).reshape(6, 10)\n",
    "vector2"
   ]
  },
  {
   "cell_type": "code",
   "execution_count": 35,
   "id": "40a2357d",
   "metadata": {},
   "outputs": [
    {
     "data": {
      "text/plain": [
       "(6, 10)"
      ]
     },
     "execution_count": 35,
     "metadata": {},
     "output_type": "execute_result"
    }
   ],
   "source": [
    "vector2.shape"
   ]
  },
  {
   "cell_type": "code",
   "execution_count": 36,
   "id": "3928923d",
   "metadata": {},
   "outputs": [
    {
     "data": {
      "text/plain": [
       "array([[[ 0,  1,  2,  3,  4],\n",
       "        [ 5,  6,  7,  8,  9],\n",
       "        [10, 11, 12, 13, 14],\n",
       "        [15, 16, 17, 18, 19]],\n",
       "\n",
       "       [[20, 21, 22, 23, 24],\n",
       "        [25, 26, 27, 28, 29],\n",
       "        [30, 31, 32, 33, 34],\n",
       "        [35, 36, 37, 38, 39]],\n",
       "\n",
       "       [[40, 41, 42, 43, 44],\n",
       "        [45, 46, 47, 48, 49],\n",
       "        [50, 51, 52, 53, 54],\n",
       "        [55, 56, 57, 58, 59]]])"
      ]
     },
     "execution_count": 36,
     "metadata": {},
     "output_type": "execute_result"
    }
   ],
   "source": [
    "# 1차원 배열을 생성하면서 바로 3차원 배열로 형상 변경\n",
    "vector3 = np.arange(60).reshape(3, 4, 5)\n",
    "vector3"
   ]
  },
  {
   "cell_type": "markdown",
   "id": "8641ff76",
   "metadata": {},
   "source": [
    "### linspace\n",
    "\n",
    "- arange와의 차이점\n",
    "    - 종료점도 포함해서 원소를 생성\n",
    "    - 세 번째 인자로 간격 대신 원소의 개수를 전달\n",
    "        - 초기값은 50\n",
    "    - 기본으로 실수를 가진 원소를 만듦"
   ]
  },
  {
   "cell_type": "code",
   "execution_count": 37,
   "id": "222e57e1",
   "metadata": {},
   "outputs": [
    {
     "data": {
      "text/plain": [
       "array([ 1.,  2.,  3.,  4.,  5.,  6.,  7.,  8.,  9., 10.])"
      ]
     },
     "execution_count": 37,
     "metadata": {},
     "output_type": "execute_result"
    }
   ],
   "source": [
    "lin = np.linspace(1, 10, 10)\n",
    "lin"
   ]
  },
  {
   "cell_type": "code",
   "execution_count": 38,
   "id": "ce0221a4",
   "metadata": {},
   "outputs": [
    {
     "data": {
      "text/plain": [
       "dtype('float64')"
      ]
     },
     "execution_count": 38,
     "metadata": {},
     "output_type": "execute_result"
    }
   ],
   "source": [
    "lin.dtype"
   ]
  },
  {
   "cell_type": "code",
   "execution_count": 42,
   "id": "807f14f7",
   "metadata": {},
   "outputs": [
    {
     "data": {
      "text/plain": [
       "(array([1.        , 1.11111111, 1.22222222, 1.33333333, 1.44444444,\n",
       "        1.55555556, 1.66666667, 1.77777778, 1.88888889, 2.        ]),\n",
       " 0.1111111111111111)"
      ]
     },
     "execution_count": 42,
     "metadata": {},
     "output_type": "execute_result"
    }
   ],
   "source": [
    "# 값의 간격을 표시하는 증분(incremental)을 확인할 수 있음\n",
    "lin2 = np.linspace(1, 2, 10, retstep = True)\n",
    "lin2"
   ]
  },
  {
   "cell_type": "code",
   "execution_count": 43,
   "id": "50ce5db1",
   "metadata": {},
   "outputs": [
    {
     "data": {
      "text/plain": [
       "10"
      ]
     },
     "execution_count": 43,
     "metadata": {},
     "output_type": "execute_result"
    }
   ],
   "source": [
    "lin2[0].size"
   ]
  },
  {
   "cell_type": "code",
   "execution_count": 46,
   "id": "f38ee194",
   "metadata": {},
   "outputs": [
    {
     "data": {
      "text/plain": [
       "(array([1. , 1.9, 2.8, 3.7, 4.6, 5.5, 6.4, 7.3, 8.2, 9.1]), 0.9)"
      ]
     },
     "execution_count": 46,
     "metadata": {},
     "output_type": "execute_result"
    }
   ],
   "source": [
    "# 종료값을 제외할 수도 있음\n",
    "lin3 = np.linspace(1, 10, 10, endpoint = False, retstep = True)\n",
    "lin3"
   ]
  },
  {
   "cell_type": "markdown",
   "id": "a71b1ae4",
   "metadata": {},
   "source": [
    "## 벡터의 크기 및 단위 벡터 구하기\n",
    "\n",
    "- 선형대수의 벡터는 크기와 방향을 가짐\n",
    "- 벡터의 크기는 노름(norm)이라고 부름\n",
    "- 벡터는 평면좌표의 점을 표시하듯이 2개의 원소를 가진 것을 대표적으로 사용\n",
    "    - 벡터의 크기는 피타고라스의 정리를 사용"
   ]
  },
  {
   "cell_type": "markdown",
   "id": "69a920de",
   "metadata": {},
   "source": [
    "### 벡터의 크기 계산"
   ]
  },
  {
   "cell_type": "code",
   "execution_count": 47,
   "id": "c8023958",
   "metadata": {},
   "outputs": [
    {
     "data": {
      "text/plain": [
       "array([3, 4])"
      ]
     },
     "execution_count": 47,
     "metadata": {},
     "output_type": "execute_result"
    }
   ],
   "source": [
    "# 두 개의 원소를 가지는 1차원 배열 생성\n",
    "v = np.arange(3, 5)\n",
    "v"
   ]
  },
  {
   "cell_type": "code",
   "execution_count": 49,
   "id": "d99b67db",
   "metadata": {},
   "outputs": [
    {
     "data": {
      "text/plain": [
       "array([ 9, 16], dtype=int32)"
      ]
     },
     "execution_count": 49,
     "metadata": {},
     "output_type": "execute_result"
    }
   ],
   "source": [
    "# 벡터의 크기를 구하기 위해 각 원소를 제곱하여 환산한 후 제곱근 계산\n",
    "v_p = np.power(v, 2)\n",
    "v_p"
   ]
  },
  {
   "cell_type": "code",
   "execution_count": 50,
   "id": "3737e813",
   "metadata": {},
   "outputs": [
    {
     "data": {
      "text/plain": [
       "5.0"
      ]
     },
     "execution_count": 50,
     "metadata": {},
     "output_type": "execute_result"
    }
   ],
   "source": [
    "v_r = np.sqrt(np.sum(v_p))\n",
    "v_r"
   ]
  },
  {
   "cell_type": "code",
   "execution_count": 51,
   "id": "69a8b521",
   "metadata": {},
   "outputs": [
    {
     "data": {
      "text/plain": [
       "5.0"
      ]
     },
     "execution_count": 51,
     "metadata": {},
     "output_type": "execute_result"
    }
   ],
   "source": [
    "# 피타고라스의 정리를 구하는 hypot 함수를 사용할 수도 있음\n",
    "np.hypot(v[0], v[1])"
   ]
  },
  {
   "cell_type": "code",
   "execution_count": 52,
   "id": "e47f90d0",
   "metadata": {},
   "outputs": [
    {
     "data": {
      "text/plain": [
       "5.0"
      ]
     },
     "execution_count": 52,
     "metadata": {},
     "output_type": "execute_result"
    }
   ],
   "source": [
    "# 더 많은 원소를 가진 벡터의 크기를 구할때는 np.linalg.norm\n",
    "np.linalg.norm(v)"
   ]
  },
  {
   "cell_type": "markdown",
   "id": "c86e50e4",
   "metadata": {},
   "source": [
    "### 단위 벡터(unit vector)\n",
    "\n",
    "- 벡터의 크기가 항상 1인 경우를 단위 벡터라고 함\n",
    "- 표준 단위 벡터(standard unit vector)는 원소 중에 하나가 1이고 나머지 원소가 0인 경우"
   ]
  },
  {
   "cell_type": "code",
   "execution_count": 53,
   "id": "530948bf",
   "metadata": {},
   "outputs": [
    {
     "data": {
      "text/plain": [
       "1.0"
      ]
     },
     "execution_count": 53,
     "metadata": {},
     "output_type": "execute_result"
    }
   ],
   "source": [
    "# 표준 단위 벡터 예시\n",
    "e1 = np.array([1, 0, 0])\n",
    "np.linalg.norm(e1)"
   ]
  },
  {
   "cell_type": "code",
   "execution_count": 55,
   "id": "40888c5a",
   "metadata": {},
   "outputs": [
    {
     "data": {
      "text/plain": [
       "1.0"
      ]
     },
     "execution_count": 55,
     "metadata": {},
     "output_type": "execute_result"
    }
   ],
   "source": [
    "e2 = np.array([0, 1, 0])\n",
    "np.linalg.norm(e2)"
   ]
  },
  {
   "cell_type": "code",
   "execution_count": 56,
   "id": "c9be07f6",
   "metadata": {},
   "outputs": [
    {
     "data": {
      "text/plain": [
       "1.0"
      ]
     },
     "execution_count": 56,
     "metadata": {},
     "output_type": "execute_result"
    }
   ],
   "source": [
    "e3 = np.array([0, 0, 1])\n",
    "np.linalg.norm(e3)"
   ]
  },
  {
   "cell_type": "code",
   "execution_count": 86,
   "id": "d101ae8b",
   "metadata": {},
   "outputs": [
    {
     "data": {
      "text/plain": [
       "0.9999999999999999"
      ]
     },
     "execution_count": 86,
     "metadata": {},
     "output_type": "execute_result"
    }
   ],
   "source": [
    "e4 = np.array([1/(2**(1/2)), 1/(2**(1/2)), 0])\n",
    "np.linalg.norm(e4)"
   ]
  },
  {
   "cell_type": "markdown",
   "id": "cc03ae5d",
   "metadata": {},
   "source": [
    "- 일반적인 단위 벡터를 구할 때는 벡터의 크기를 구하고 각 원소를 벡터의 크기로 나누어서 구함"
   ]
  },
  {
   "cell_type": "code",
   "execution_count": 57,
   "id": "7513be7d",
   "metadata": {},
   "outputs": [
    {
     "data": {
      "text/plain": [
       "array([1, 2, 3])"
      ]
     },
     "execution_count": 57,
     "metadata": {},
     "output_type": "execute_result"
    }
   ],
   "source": [
    "# 1차원 배열을 생성하고 이 배열의 크기를 계산\n",
    "v_3 = np.array([1, 2, 3])\n",
    "v_3"
   ]
  },
  {
   "cell_type": "code",
   "execution_count": 58,
   "id": "5d30ebe0",
   "metadata": {},
   "outputs": [
    {
     "data": {
      "text/plain": [
       "3.7416573867739413"
      ]
     },
     "execution_count": 58,
     "metadata": {},
     "output_type": "execute_result"
    }
   ],
   "source": [
    "v_3_n = np.linalg.norm(v_3)\n",
    "v_3_n"
   ]
  },
  {
   "cell_type": "code",
   "execution_count": 60,
   "id": "d096e3dc",
   "metadata": {},
   "outputs": [
    {
     "data": {
      "text/plain": [
       "array([0.26726124, 0.53452248, 0.80178373])"
      ]
     },
     "execution_count": 60,
     "metadata": {},
     "output_type": "execute_result"
    }
   ],
   "source": [
    "v_3_u = v_3 / v_3_n\n",
    "v_3_u"
   ]
  },
  {
   "cell_type": "code",
   "execution_count": 61,
   "id": "911f3eed",
   "metadata": {},
   "outputs": [
    {
     "data": {
      "text/plain": [
       "1.0"
      ]
     },
     "execution_count": 61,
     "metadata": {},
     "output_type": "execute_result"
    }
   ],
   "source": [
    "np.linalg.norm(v_3_u)"
   ]
  },
  {
   "cell_type": "markdown",
   "id": "13177600",
   "metadata": {},
   "source": [
    "## 벡터 상등과 벡터간 거리\n",
    "\n",
    "- 벡터의 상등(equality) : 벡터의 크기와 방향이 같은 경우\n",
    "    - 크기는 같지만 방향이 다른 경우는 상등이 아님"
   ]
  },
  {
   "cell_type": "code",
   "execution_count": 62,
   "id": "68177b23",
   "metadata": {},
   "outputs": [],
   "source": [
    "# 두 벡터가 동일한 경우\n",
    "a = np.arange(3, 5)\n",
    "b = np.arange(3, 5)"
   ]
  },
  {
   "cell_type": "code",
   "execution_count": 63,
   "id": "a942075e",
   "metadata": {},
   "outputs": [
    {
     "data": {
      "text/plain": [
       "True"
      ]
     },
     "execution_count": 63,
     "metadata": {},
     "output_type": "execute_result"
    }
   ],
   "source": [
    "np.array_equal(a, b)"
   ]
  },
  {
   "cell_type": "code",
   "execution_count": 64,
   "id": "37242d71",
   "metadata": {},
   "outputs": [],
   "source": [
    "a_1 = np.linalg.norm(a)\n",
    "b_1 = np.linalg.norm(b)"
   ]
  },
  {
   "cell_type": "code",
   "execution_count": 65,
   "id": "56f84d37",
   "metadata": {},
   "outputs": [
    {
     "data": {
      "text/plain": [
       "True"
      ]
     },
     "execution_count": 65,
     "metadata": {},
     "output_type": "execute_result"
    }
   ],
   "source": [
    "a_1 == b_1"
   ]
  },
  {
   "cell_type": "code",
   "execution_count": 66,
   "id": "604e49a5",
   "metadata": {},
   "outputs": [
    {
     "data": {
      "text/plain": [
       "-5.0"
      ]
     },
     "execution_count": 66,
     "metadata": {},
     "output_type": "execute_result"
    }
   ],
   "source": [
    "# 방향이 반대일 경우는 -1을 곱하여 방향을 바꿈\n",
    "b_2 = -1 * np.linalg.norm(b)\n",
    "b_2"
   ]
  },
  {
   "cell_type": "markdown",
   "id": "15bce129",
   "metadata": {},
   "source": [
    "- 두 벡터의 거리는 두 벡터 간의 차를 계산한 후에 제곱을 합산한 후 제곱근 계산"
   ]
  },
  {
   "cell_type": "code",
   "execution_count": 67,
   "id": "9721191b",
   "metadata": {},
   "outputs": [],
   "source": [
    "# 두 개의 벡터인 1차원 배열을 생성\n",
    "c = np.arange(10, 13)\n",
    "d = np.arange(0 , 3)"
   ]
  },
  {
   "cell_type": "code",
   "execution_count": 68,
   "id": "1bbe358f",
   "metadata": {},
   "outputs": [
    {
     "data": {
      "text/plain": [
       "array([10, 11, 12])"
      ]
     },
     "execution_count": 68,
     "metadata": {},
     "output_type": "execute_result"
    }
   ],
   "source": [
    "c"
   ]
  },
  {
   "cell_type": "code",
   "execution_count": 69,
   "id": "8e72b71c",
   "metadata": {},
   "outputs": [
    {
     "data": {
      "text/plain": [
       "array([0, 1, 2])"
      ]
     },
     "execution_count": 69,
     "metadata": {},
     "output_type": "execute_result"
    }
   ],
   "source": [
    "d"
   ]
  },
  {
   "cell_type": "code",
   "execution_count": 73,
   "id": "efc1847e",
   "metadata": {},
   "outputs": [
    {
     "data": {
      "text/plain": [
       "17.320508075688775"
      ]
     },
     "execution_count": 73,
     "metadata": {},
     "output_type": "execute_result"
    }
   ],
   "source": [
    "np.sqrt(np.sum(np.square(c - d)))"
   ]
  },
  {
   "cell_type": "code",
   "execution_count": 74,
   "id": "fa85eed2",
   "metadata": {},
   "outputs": [
    {
     "data": {
      "text/plain": [
       "17.320508075688775"
      ]
     },
     "execution_count": 74,
     "metadata": {},
     "output_type": "execute_result"
    }
   ],
   "source": [
    "# norm 함수에 두 벡터의 차를 인자로 전달하는 방법도 있음\n",
    "np.linalg.norm(c - d)"
   ]
  },
  {
   "cell_type": "markdown",
   "id": "e15187ff",
   "metadata": {},
   "source": [
    "# 행렬(matrix)\n",
    "\n",
    "- 벡터는 하나의 차원이 축을 가져서 1차원 배열로 표시했지만 행렬은 두 개의 축인 차원을 가짐\n",
    "    - 이 차원의 수평 방향을 행(row), 수직 방향을 열(column)이라고 함\n",
    "- 보통 선형대수는 대괄호 내에 행과 열의 인덱스 위치에 숫자를 나열해서 표시\n",
    "- 행렬을 부를 때는 보통 m개 행, n개 열로 이루어져서 m x n 행렬이라고 함"
   ]
  },
  {
   "cell_type": "code",
   "execution_count": 75,
   "id": "91a3d95e",
   "metadata": {},
   "outputs": [
    {
     "data": {
      "text/plain": [
       "array([[43],\n",
       "       [44]])"
      ]
     },
     "execution_count": 75,
     "metadata": {},
     "output_type": "execute_result"
    }
   ],
   "source": [
    "a = np.array([[43], [44]])\n",
    "a"
   ]
  },
  {
   "cell_type": "code",
   "execution_count": 76,
   "id": "0abf1400",
   "metadata": {},
   "outputs": [
    {
     "data": {
      "text/plain": [
       "numpy.ndarray"
      ]
     },
     "execution_count": 76,
     "metadata": {},
     "output_type": "execute_result"
    }
   ],
   "source": [
    "type(a)"
   ]
  },
  {
   "cell_type": "code",
   "execution_count": 77,
   "id": "b6b2ee41",
   "metadata": {},
   "outputs": [
    {
     "data": {
      "text/plain": [
       "dtype('int32')"
      ]
     },
     "execution_count": 77,
     "metadata": {},
     "output_type": "execute_result"
    }
   ],
   "source": [
    "# a 변수에 저장된 것도 하나의 배열이므로 하나의 자료형을 가짐\n",
    "a.dtype"
   ]
  },
  {
   "cell_type": "code",
   "execution_count": 78,
   "id": "1a7e695d",
   "metadata": {},
   "outputs": [
    {
     "data": {
      "text/plain": [
       "2"
      ]
     },
     "execution_count": 78,
     "metadata": {},
     "output_type": "execute_result"
    }
   ],
   "source": [
    "# 배열의 차원 확인\n",
    "a.ndim"
   ]
  },
  {
   "cell_type": "code",
   "execution_count": 79,
   "id": "9214917e",
   "metadata": {},
   "outputs": [
    {
     "data": {
      "text/plain": [
       "(2, 1)"
      ]
     },
     "execution_count": 79,
     "metadata": {},
     "output_type": "execute_result"
    }
   ],
   "source": [
    "# 형상 확인\n",
    "# (행, 열)\n",
    "a.shape"
   ]
  },
  {
   "cell_type": "code",
   "execution_count": 80,
   "id": "679eeec7",
   "metadata": {},
   "outputs": [
    {
     "data": {
      "text/plain": [
       "array([[7, 7, 7, 7],\n",
       "       [7, 7, 7, 7],\n",
       "       [7, 7, 7, 7]], dtype=int64)"
      ]
     },
     "execution_count": 80,
     "metadata": {},
     "output_type": "execute_result"
    }
   ],
   "source": [
    "# np.full(형상, 채워질 값, 자료형) : 다차원 배열의 원소의 값을 동일하게 채움\n",
    "b = np.full((3, 4), 7, \"int64\")\n",
    "b"
   ]
  },
  {
   "cell_type": "markdown",
   "id": "3ccf2198",
   "metadata": {},
   "source": [
    "## 행렬의 랭크\n",
    "\n",
    "- 행렬은 두 개의 차원을 구성해서 행과 열로 구성함\n",
    "- 행렬은 행을 기준으로 벡터를 쌓거나 열로 벡터를 쌓아서 만들어지는 구조\n",
    "- 이 행렬 내의 벡터를 조합해서 다른 벡터를 만들 수 있는 경우를 제외한 벡터들의 수를 구하는 것을 행렬의 랭크 (matrix rank)라고 함\n",
    "\n",
    "- 선형 독립 (linearly independent) : 어떤 벡터를 다른 벡터의 조합으로 만들 수 없는 유일한 상태\n",
    "- 선형 종속 (linearly dependent) : 여러 벡터로 조합해서 만들 수 있는 상태\n",
    "\n",
    "- 행렬의 랭크를 구하는 기준 : 행렬을 구성하는 행과 열벡터가 선형독립인 벡터인지 확인하는 것\n",
    "- 행렬의 랭크를 구하는 방법 : 전체 벡터의 개수 - 선형 종속인 벡터의 개수\n",
    "    - 행렬이 정사각형일 때는 최대 랭크는 행이나 열의 개수\n",
    "    - 행렬이 직사각형일 때는 m x n 행렬에서 m > n 일때, 행렬의 랭크는 n보다 클 수 없음\n",
    "        - r(A) <= min(m, n)"
   ]
  },
  {
   "cell_type": "markdown",
   "id": "888c5bec",
   "metadata": {},
   "source": [
    "- 1차원 배열은 하나의 벡터이므로 무조건 선형 독립임"
   ]
  },
  {
   "cell_type": "code",
   "execution_count": 81,
   "id": "b701896e",
   "metadata": {},
   "outputs": [],
   "source": [
    "v1 = np.array([1, 2, 3, 4])"
   ]
  },
  {
   "cell_type": "code",
   "execution_count": 82,
   "id": "e50aee5a",
   "metadata": {},
   "outputs": [
    {
     "data": {
      "text/plain": [
       "1"
      ]
     },
     "execution_count": 82,
     "metadata": {},
     "output_type": "execute_result"
    }
   ],
   "source": [
    "np.linalg.matrix_rank(v1)"
   ]
  },
  {
   "cell_type": "markdown",
   "id": "1aca8568",
   "metadata": {},
   "source": [
    "- 2 x 3 행렬을 만든다면 최대 랭크의 수는 2보다 작거나 같아야함"
   ]
  },
  {
   "cell_type": "code",
   "execution_count": 84,
   "id": "2549faf2",
   "metadata": {},
   "outputs": [
    {
     "data": {
      "text/plain": [
       "array([[1, 2, 4],\n",
       "       [2, 4, 8]])"
      ]
     },
     "execution_count": 84,
     "metadata": {},
     "output_type": "execute_result"
    }
   ],
   "source": [
    "c = np.array([[1, 2, 4], [2, 4, 8]])\n",
    "c"
   ]
  },
  {
   "cell_type": "code",
   "execution_count": 85,
   "id": "0b45590d",
   "metadata": {},
   "outputs": [
    {
     "data": {
      "text/plain": [
       "1"
      ]
     },
     "execution_count": 85,
     "metadata": {},
     "output_type": "execute_result"
    }
   ],
   "source": [
    "np.linalg.matrix_rank(c)"
   ]
  },
  {
   "cell_type": "markdown",
   "id": "57c3ab7b",
   "metadata": {},
   "source": [
    "- c 배열은 첫 번째 행에 2를 곱하면 두 번째 행이 만들어짐\n",
    "    - 두 번째 행은 선형 종속\n",
    "    - 선형 독립은 하나의 행만 있음"
   ]
  },
  {
   "cell_type": "code",
   "execution_count": null,
   "id": "c28b7370",
   "metadata": {},
   "outputs": [],
   "source": []
  }
 ],
 "metadata": {
  "kernelspec": {
   "display_name": "Python 3 (ipykernel)",
   "language": "python",
   "name": "python3"
  },
  "language_info": {
   "codemirror_mode": {
    "name": "ipython",
    "version": 3
   },
   "file_extension": ".py",
   "mimetype": "text/x-python",
   "name": "python",
   "nbconvert_exporter": "python",
   "pygments_lexer": "ipython3",
   "version": "3.11.5"
  }
 },
 "nbformat": 4,
 "nbformat_minor": 5
}
