{
 "cells": [
  {
   "cell_type": "code",
   "execution_count": 1,
   "id": "431fc430",
   "metadata": {},
   "outputs": [],
   "source": [
    "import numpy as np"
   ]
  },
  {
   "cell_type": "markdown",
   "id": "9443de27",
   "metadata": {},
   "source": [
    "# 넘파이 배열의 구조\n",
    "\n",
    "- 넘파이 모듈의 기본 배열은 ndarray(n-dimension array; 다차원배열)"
   ]
  },
  {
   "cell_type": "code",
   "execution_count": 2,
   "id": "e2198022",
   "metadata": {},
   "outputs": [],
   "source": [
    "# 리스트를 다차원배열로 변환\n",
    "# array() : 다차원 배열을 만드는 함수\n",
    "li = [1, 2, 3, 4]\n",
    "li_arr = np.array(li)"
   ]
  },
  {
   "cell_type": "code",
   "execution_count": 3,
   "id": "ca7f8480",
   "metadata": {},
   "outputs": [
    {
     "data": {
      "text/plain": [
       "array([1, 2, 3, 4])"
      ]
     },
     "execution_count": 3,
     "metadata": {},
     "output_type": "execute_result"
    }
   ],
   "source": [
    "li_arr"
   ]
  },
  {
   "cell_type": "code",
   "execution_count": 4,
   "id": "f7b12666",
   "metadata": {},
   "outputs": [
    {
     "data": {
      "text/plain": [
       "numpy.ndarray"
      ]
     },
     "execution_count": 4,
     "metadata": {},
     "output_type": "execute_result"
    }
   ],
   "source": [
    "type(li_arr)"
   ]
  },
  {
   "cell_type": "code",
   "execution_count": 5,
   "id": "f69c4500",
   "metadata": {},
   "outputs": [],
   "source": [
    "# 튜플을 다차원배열로 변환\n",
    "tu = (1, 2, 3, 4)\n",
    "tu_arr = np.array(tu)"
   ]
  },
  {
   "cell_type": "code",
   "execution_count": 6,
   "id": "367b3ba5",
   "metadata": {},
   "outputs": [
    {
     "data": {
      "text/plain": [
       "array([1, 2, 3, 4])"
      ]
     },
     "execution_count": 6,
     "metadata": {},
     "output_type": "execute_result"
    }
   ],
   "source": [
    "tu_arr"
   ]
  },
  {
   "cell_type": "code",
   "execution_count": 7,
   "id": "26946ef9",
   "metadata": {},
   "outputs": [
    {
     "data": {
      "text/plain": [
       "numpy.ndarray"
      ]
     },
     "execution_count": 7,
     "metadata": {},
     "output_type": "execute_result"
    }
   ],
   "source": [
    "type(tu_arr)"
   ]
  },
  {
   "cell_type": "code",
   "execution_count": 8,
   "id": "4e7e2cc9",
   "metadata": {},
   "outputs": [
    {
     "data": {
      "text/plain": [
       "(1868393659440, 1868393659440)"
      ]
     },
     "execution_count": 8,
     "metadata": {},
     "output_type": "execute_result"
    }
   ],
   "source": [
    "# 배열도 mutable의 특징을 가짐\n",
    "# 변수를 다른 변수에 복사한 뒤 데이터를 수정하면 모든 변수의 데이터가 수정됨\n",
    "co_arr = li_arr\n",
    "id(co_arr), id(li_arr)"
   ]
  },
  {
   "cell_type": "code",
   "execution_count": 9,
   "id": "a2be2f70",
   "metadata": {},
   "outputs": [
    {
     "data": {
      "text/plain": [
       "array([100,   2,   3,   4])"
      ]
     },
     "execution_count": 9,
     "metadata": {},
     "output_type": "execute_result"
    }
   ],
   "source": [
    "co_arr[0] = 100\n",
    "co_arr"
   ]
  },
  {
   "cell_type": "code",
   "execution_count": 10,
   "id": "f7fe4b2f",
   "metadata": {},
   "outputs": [
    {
     "data": {
      "text/plain": [
       "array([100,   2,   3,   4])"
      ]
     },
     "execution_count": 10,
     "metadata": {},
     "output_type": "execute_result"
    }
   ],
   "source": [
    "li_arr"
   ]
  },
  {
   "cell_type": "code",
   "execution_count": 11,
   "id": "248bb5f3",
   "metadata": {},
   "outputs": [],
   "source": [
    "# 다차원 배열의 값을 복사해서 새로운 배열을 만들면\n",
    "# 동일한 값을 가진 새로운 배열을을 만들기 때문에 서로 다른 데이터가 됨\n",
    "new_arr = np.array(li_arr)"
   ]
  },
  {
   "cell_type": "code",
   "execution_count": 12,
   "id": "718055ee",
   "metadata": {},
   "outputs": [
    {
     "data": {
      "text/plain": [
       "(1868388852208, 1868393659440)"
      ]
     },
     "execution_count": 12,
     "metadata": {},
     "output_type": "execute_result"
    }
   ],
   "source": [
    "id(new_arr), id(li_arr)"
   ]
  },
  {
   "cell_type": "code",
   "execution_count": 13,
   "id": "936c816e",
   "metadata": {},
   "outputs": [
    {
     "data": {
      "text/plain": [
       "array([99,  2,  3,  4])"
      ]
     },
     "execution_count": 13,
     "metadata": {},
     "output_type": "execute_result"
    }
   ],
   "source": [
    "new_arr[0] = 99\n",
    "new_arr"
   ]
  },
  {
   "cell_type": "code",
   "execution_count": 14,
   "id": "7a1d4d53",
   "metadata": {},
   "outputs": [
    {
     "data": {
      "text/plain": [
       "array([100,   2,   3,   4])"
      ]
     },
     "execution_count": 14,
     "metadata": {},
     "output_type": "execute_result"
    }
   ],
   "source": [
    "li_arr"
   ]
  },
  {
   "cell_type": "markdown",
   "id": "7086481c",
   "metadata": {},
   "source": [
    "- 파이썬 리스트는 다양한 자료형을 사용할 수 있지만 넘파이 배열은 같은 자료형만 넣을 수 있음\n",
    "     - 다차원 배열을 생성할 때 자료형을 지정하지 않으면 내부의 원소를 보고 자동으로 추론해서 만듦"
   ]
  },
  {
   "cell_type": "code",
   "execution_count": 15,
   "id": "7cccb83d",
   "metadata": {},
   "outputs": [
    {
     "data": {
      "text/plain": [
       "array([1., 2., 3., 4.])"
      ]
     },
     "execution_count": 15,
     "metadata": {},
     "output_type": "execute_result"
    }
   ],
   "source": [
    "# float 자료형을 지정해서 다차원 배열을 만들기\n",
    "fl_arr = np.array(li, dtype = float)\n",
    "fl_arr"
   ]
  },
  {
   "cell_type": "code",
   "execution_count": 16,
   "id": "dedf6928",
   "metadata": {},
   "outputs": [
    {
     "data": {
      "text/plain": [
       "dtype('float64')"
      ]
     },
     "execution_count": 16,
     "metadata": {},
     "output_type": "execute_result"
    }
   ],
   "source": [
    "fl_arr.dtype"
   ]
  },
  {
   "cell_type": "markdown",
   "id": "927fbefe",
   "metadata": {},
   "source": [
    "## 2차원 배열\n",
    "\n",
    "- 2개의 축을 가지는 배열(행, 열)\n",
    "    - 두 개의 1차원 배열이 쌓여서 하나의 2차원 배열이 만들어짐"
   ]
  },
  {
   "cell_type": "code",
   "execution_count": 18,
   "id": "3e4de724",
   "metadata": {},
   "outputs": [
    {
     "data": {
      "text/plain": [
       "array([[1, 2, 3],\n",
       "       [4, 5, 6]])"
      ]
     },
     "execution_count": 18,
     "metadata": {},
     "output_type": "execute_result"
    }
   ],
   "source": [
    "arr2d = np.array([[1, 2, 3], [4, 5, 6]])\n",
    "arr2d"
   ]
  },
  {
   "cell_type": "code",
   "execution_count": 19,
   "id": "09f10995",
   "metadata": {},
   "outputs": [
    {
     "data": {
      "text/plain": [
       "(2, 3)"
      ]
     },
     "execution_count": 19,
     "metadata": {},
     "output_type": "execute_result"
    }
   ],
   "source": [
    "arr2d.shape"
   ]
  },
  {
   "cell_type": "code",
   "execution_count": 20,
   "id": "d3956612",
   "metadata": {},
   "outputs": [
    {
     "data": {
      "text/plain": [
       "2"
      ]
     },
     "execution_count": 20,
     "metadata": {},
     "output_type": "execute_result"
    }
   ],
   "source": [
    "# 축의 개수\n",
    "arr2d.ndim"
   ]
  },
  {
   "cell_type": "code",
   "execution_count": 21,
   "id": "1a5af3d1",
   "metadata": {},
   "outputs": [
    {
     "data": {
      "text/plain": [
       "dtype('int32')"
      ]
     },
     "execution_count": 21,
     "metadata": {},
     "output_type": "execute_result"
    }
   ],
   "source": [
    "arr2d.dtype"
   ]
  },
  {
   "cell_type": "code",
   "execution_count": 22,
   "id": "91fef1af",
   "metadata": {},
   "outputs": [
    {
     "data": {
      "text/plain": [
       "array([1, 2, 3, 4, 5, 6])"
      ]
     },
     "execution_count": 22,
     "metadata": {},
     "output_type": "execute_result"
    }
   ],
   "source": [
    "# 다차원 배열을 1차원 배열로 조회\n",
    "arr2d.flatten()"
   ]
  },
  {
   "cell_type": "markdown",
   "id": "3cec6aed",
   "metadata": {},
   "source": [
    "## 원소 조회하기"
   ]
  },
  {
   "cell_type": "code",
   "execution_count": 23,
   "id": "60a66ac3",
   "metadata": {},
   "outputs": [
    {
     "data": {
      "text/plain": [
       "array([100,   2,   3,   4])"
      ]
     },
     "execution_count": 23,
     "metadata": {},
     "output_type": "execute_result"
    }
   ],
   "source": [
    "# 1차원 배열에서 원소 조회\n",
    "li_arr"
   ]
  },
  {
   "cell_type": "code",
   "execution_count": 24,
   "id": "8101eea1",
   "metadata": {},
   "outputs": [
    {
     "data": {
      "text/plain": [
       "[1, 2, 3, 4]"
      ]
     },
     "execution_count": 24,
     "metadata": {},
     "output_type": "execute_result"
    }
   ],
   "source": [
    "li"
   ]
  },
  {
   "cell_type": "code",
   "execution_count": 25,
   "id": "c459071c",
   "metadata": {},
   "outputs": [
    {
     "data": {
      "text/plain": [
       "100"
      ]
     },
     "execution_count": 25,
     "metadata": {},
     "output_type": "execute_result"
    }
   ],
   "source": [
    "li_arr[0]"
   ]
  },
  {
   "cell_type": "code",
   "execution_count": 26,
   "id": "2e94d254",
   "metadata": {},
   "outputs": [
    {
     "data": {
      "text/plain": [
       "1"
      ]
     },
     "execution_count": 26,
     "metadata": {},
     "output_type": "execute_result"
    }
   ],
   "source": [
    "li[0]"
   ]
  },
  {
   "cell_type": "code",
   "execution_count": 27,
   "id": "759e46f6",
   "metadata": {},
   "outputs": [],
   "source": [
    "# 다차원 배열에서 원소 조회\n",
    "list2d = arr2d.tolist() # 배열을 리스트로 변환"
   ]
  },
  {
   "cell_type": "code",
   "execution_count": 28,
   "id": "8b904576",
   "metadata": {},
   "outputs": [
    {
     "data": {
      "text/plain": [
       "[[1, 2, 3], [4, 5, 6]]"
      ]
     },
     "execution_count": 28,
     "metadata": {},
     "output_type": "execute_result"
    }
   ],
   "source": [
    "list2d"
   ]
  },
  {
   "cell_type": "code",
   "execution_count": 29,
   "id": "fc1a32ca",
   "metadata": {},
   "outputs": [
    {
     "data": {
      "text/plain": [
       "array([[1, 2, 3],\n",
       "       [4, 5, 6]])"
      ]
     },
     "execution_count": 29,
     "metadata": {},
     "output_type": "execute_result"
    }
   ],
   "source": [
    "arr2d"
   ]
  },
  {
   "cell_type": "code",
   "execution_count": 30,
   "id": "d6573c6e",
   "metadata": {},
   "outputs": [
    {
     "data": {
      "text/plain": [
       "2"
      ]
     },
     "execution_count": 30,
     "metadata": {},
     "output_type": "execute_result"
    }
   ],
   "source": [
    "# 리스트는 정수만 이용해서 원소 조회 가능\n",
    "# 따라서 리스트 내 리스트의 원소를 조회할 때는 인덱스를 두 번 사용해야 함\n",
    "list2d[0][1]"
   ]
  },
  {
   "cell_type": "code",
   "execution_count": 31,
   "id": "cb859f7d",
   "metadata": {},
   "outputs": [
    {
     "data": {
      "text/plain": [
       "2"
      ]
     },
     "execution_count": 31,
     "metadata": {},
     "output_type": "execute_result"
    }
   ],
   "source": [
    "# 다차원 배열은 행과 열의 인덱스를 튜플로 조회할 수 있음\n",
    "arr2d[0, 1]"
   ]
  },
  {
   "cell_type": "code",
   "execution_count": 32,
   "id": "d0887494",
   "metadata": {},
   "outputs": [
    {
     "data": {
      "text/plain": [
       "2"
      ]
     },
     "execution_count": 32,
     "metadata": {},
     "output_type": "execute_result"
    }
   ],
   "source": [
    "arr2d[0][1]"
   ]
  },
  {
   "cell_type": "markdown",
   "id": "e84f8a07",
   "metadata": {},
   "source": [
    "## 슬라이싱"
   ]
  },
  {
   "cell_type": "code",
   "execution_count": 33,
   "id": "8bd61f41",
   "metadata": {},
   "outputs": [
    {
     "data": {
      "text/plain": [
       "array([[0, 1, 2, 3],\n",
       "       [4, 5, 6, 7]])"
      ]
     },
     "execution_count": 33,
     "metadata": {},
     "output_type": "execute_result"
    }
   ],
   "source": [
    "arr1 = np.array([[0, 1, 2, 3], [4, 5, 6, 7]])\n",
    "arr1"
   ]
  },
  {
   "cell_type": "code",
   "execution_count": 35,
   "id": "ca1ca291",
   "metadata": {},
   "outputs": [
    {
     "data": {
      "text/plain": [
       "array([0, 1, 2, 3])"
      ]
     },
     "execution_count": 35,
     "metadata": {},
     "output_type": "execute_result"
    }
   ],
   "source": [
    "# 첫 번째 행 전체\n",
    "arr1[0, :]"
   ]
  },
  {
   "cell_type": "code",
   "execution_count": 37,
   "id": "97107507",
   "metadata": {},
   "outputs": [
    {
     "data": {
      "text/plain": [
       "array([1, 5])"
      ]
     },
     "execution_count": 37,
     "metadata": {},
     "output_type": "execute_result"
    }
   ],
   "source": [
    "# 두 번째 열 전체\n",
    "arr1[:, 1]"
   ]
  },
  {
   "cell_type": "code",
   "execution_count": 38,
   "id": "df3d8af5",
   "metadata": {},
   "outputs": [
    {
     "data": {
      "text/plain": [
       "array([5, 6, 7])"
      ]
     },
     "execution_count": 38,
     "metadata": {},
     "output_type": "execute_result"
    }
   ],
   "source": [
    "# 두 번째 행의 두 번째 열부터 끝열까지\n",
    "arr1[1, 1:]"
   ]
  },
  {
   "cell_type": "code",
   "execution_count": 39,
   "id": "c1689bb7",
   "metadata": {},
   "outputs": [
    {
     "data": {
      "text/plain": [
       "array([[0, 1],\n",
       "       [4, 5]])"
      ]
     },
     "execution_count": 39,
     "metadata": {},
     "output_type": "execute_result"
    }
   ],
   "source": [
    "# 각 행의 두 번째 열까지\n",
    "arr1[:, :2]"
   ]
  },
  {
   "cell_type": "markdown",
   "id": "ad0eedc0",
   "metadata": {},
   "source": [
    "#### 연습문제\n",
    "\n",
    "1. 아래의 행렬에서 값 7을 인덱싱\n",
    "2. 아래의 행력에서 값 14를 인덱싱\n",
    "3. 아래의 행렬에서 배열 [6, 7]을 슬라이싱\n",
    "4. 아래의 행렬에서 배열 [7, 12]를 슬라이싱\n",
    "5. 아래의 행렬에서 배열 [[3. 4], [8, 9]]를 슬라이싱"
   ]
  },
  {
   "cell_type": "code",
   "execution_count": 40,
   "id": "3d441370",
   "metadata": {},
   "outputs": [],
   "source": [
    "m = np.array([[0, 1, 2, 3, 4],\n",
    "             [5, 6, 7 ,8 ,9],\n",
    "             [10, 11, 12, 13, 14]])"
   ]
  },
  {
   "cell_type": "code",
   "execution_count": 41,
   "id": "71a7e95e",
   "metadata": {},
   "outputs": [
    {
     "data": {
      "text/plain": [
       "7"
      ]
     },
     "execution_count": 41,
     "metadata": {},
     "output_type": "execute_result"
    }
   ],
   "source": [
    "m[1, 2]"
   ]
  },
  {
   "cell_type": "code",
   "execution_count": 42,
   "id": "f342bc9e",
   "metadata": {},
   "outputs": [
    {
     "data": {
      "text/plain": [
       "14"
      ]
     },
     "execution_count": 42,
     "metadata": {},
     "output_type": "execute_result"
    }
   ],
   "source": [
    "m[2, -1]"
   ]
  },
  {
   "cell_type": "code",
   "execution_count": 43,
   "id": "6f4af542",
   "metadata": {},
   "outputs": [
    {
     "data": {
      "text/plain": [
       "array([6, 7])"
      ]
     },
     "execution_count": 43,
     "metadata": {},
     "output_type": "execute_result"
    }
   ],
   "source": [
    "m[1, 1:3]"
   ]
  },
  {
   "cell_type": "code",
   "execution_count": 44,
   "id": "b2fed391",
   "metadata": {},
   "outputs": [
    {
     "data": {
      "text/plain": [
       "array([ 7, 12])"
      ]
     },
     "execution_count": 44,
     "metadata": {},
     "output_type": "execute_result"
    }
   ],
   "source": [
    "m[1:, 2]"
   ]
  },
  {
   "cell_type": "code",
   "execution_count": 48,
   "id": "f46a1287",
   "metadata": {},
   "outputs": [
    {
     "data": {
      "text/plain": [
       "array([[3, 4],\n",
       "       [8, 9]])"
      ]
     },
     "execution_count": 48,
     "metadata": {},
     "output_type": "execute_result"
    }
   ],
   "source": [
    "m[:2, 3:]"
   ]
  },
  {
   "cell_type": "code",
   "execution_count": 49,
   "id": "bda66a11",
   "metadata": {},
   "outputs": [],
   "source": [
    "m = np.array([[[1, 2, 3], [4, 5, 6]],\n",
    "           [[7, 8, 9], [10, 11, 12]],\n",
    "             [[13, 14, 15], [16, 17, 18]],\n",
    "             [[19, 20, 21], [22, 23, 24]]])"
   ]
  },
  {
   "cell_type": "markdown",
   "id": "e7442d17",
   "metadata": {},
   "source": [
    "1. [8, 14] 슬라이싱\n",
    "2. [[11, 12], [17, 18]] 슬라이싱\n",
    "3. [3, 9, 15, 21] 슬라이싱"
   ]
  },
  {
   "cell_type": "code",
   "execution_count": 55,
   "id": "1650ba8e",
   "metadata": {},
   "outputs": [
    {
     "data": {
      "text/plain": [
       "array([ 8, 14])"
      ]
     },
     "execution_count": 55,
     "metadata": {},
     "output_type": "execute_result"
    }
   ],
   "source": [
    "m[1:3, 0, 1]"
   ]
  },
  {
   "cell_type": "code",
   "execution_count": 52,
   "id": "05853274",
   "metadata": {},
   "outputs": [
    {
     "data": {
      "text/plain": [
       "array([[11, 12],\n",
       "       [17, 18]])"
      ]
     },
     "execution_count": 52,
     "metadata": {},
     "output_type": "execute_result"
    }
   ],
   "source": [
    "m[1:3, 1, 1:]"
   ]
  },
  {
   "cell_type": "code",
   "execution_count": 54,
   "id": "086a058e",
   "metadata": {},
   "outputs": [
    {
     "data": {
      "text/plain": [
       "array([ 3,  9, 15, 21])"
      ]
     },
     "execution_count": 54,
     "metadata": {},
     "output_type": "execute_result"
    }
   ],
   "source": [
    "m[:, 0, 2]"
   ]
  },
  {
   "cell_type": "markdown",
   "id": "fb991c20",
   "metadata": {},
   "source": [
    "## 파이썬 리스트와 넘파이 배열의 차이\n",
    "\n",
    "- 넘파이 배열은 배열끼리 연산이 가능하지만 파이썬 리스트는 값의 추가만 가능\n",
    "- 넘파이 배열은 숫자와의 연산도 가능하지만 파이썬 리스트는 불가능\n",
    "    - 파이썬 리스트 : 곱셈으로 리스트를 반복하는 것은 가능\n",
    "    \n",
    "- 사용 용도\n",
    "    - 파이썬 리스트는 값을 추가하거나 제거하는 일에 사용\n",
    "    - 넘파이 배열은 수치 계산이 많고 복잡하거나 다차원 배열이 필요할 때 사용"
   ]
  },
  {
   "cell_type": "markdown",
   "id": "b85e2943",
   "metadata": {},
   "source": [
    "# 전치 연산(transpose)\n",
    "\n",
    "- 2차원 배열의 행과 열을 바꾸는 연산"
   ]
  },
  {
   "cell_type": "code",
   "execution_count": 56,
   "id": "2951783c",
   "metadata": {},
   "outputs": [
    {
     "data": {
      "text/plain": [
       "array([[1, 2, 3],\n",
       "       [4, 5, 6]])"
      ]
     },
     "execution_count": 56,
     "metadata": {},
     "output_type": "execute_result"
    }
   ],
   "source": [
    "arr = np.array([[1, 2, 3], [4, 5, 6]])\n",
    "arr"
   ]
  },
  {
   "cell_type": "code",
   "execution_count": 57,
   "id": "c26678bc",
   "metadata": {},
   "outputs": [
    {
     "data": {
      "text/plain": [
       "array([[1, 4],\n",
       "       [2, 5],\n",
       "       [3, 6]])"
      ]
     },
     "execution_count": 57,
     "metadata": {},
     "output_type": "execute_result"
    }
   ],
   "source": [
    "arr.T"
   ]
  },
  {
   "cell_type": "markdown",
   "id": "fe133bbc",
   "metadata": {},
   "source": [
    "# 배열 크기 변형"
   ]
  },
  {
   "cell_type": "code",
   "execution_count": 4,
   "id": "c0ab0f8b",
   "metadata": {},
   "outputs": [
    {
     "data": {
      "text/plain": [
       "array([ 0,  1,  2,  3,  4,  5,  6,  7,  8,  9, 10, 11])"
      ]
     },
     "execution_count": 4,
     "metadata": {},
     "output_type": "execute_result"
    }
   ],
   "source": [
    "arr1 = np.arange(12)\n",
    "arr1"
   ]
  },
  {
   "cell_type": "code",
   "execution_count": 5,
   "id": "02a3c7e8",
   "metadata": {},
   "outputs": [
    {
     "data": {
      "text/plain": [
       "array([[ 0,  1,  2,  3],\n",
       "       [ 4,  5,  6,  7],\n",
       "       [ 8,  9, 10, 11]])"
      ]
     },
     "execution_count": 5,
     "metadata": {},
     "output_type": "execute_result"
    }
   ],
   "source": [
    "arr2 = arr1.reshape(3, 4)\n",
    "arr2"
   ]
  },
  {
   "cell_type": "code",
   "execution_count": 7,
   "id": "8fc4081a",
   "metadata": {},
   "outputs": [
    {
     "ename": "ValueError",
     "evalue": "cannot reshape array of size 12 into shape (3,3)",
     "output_type": "error",
     "traceback": [
      "\u001b[1;31m---------------------------------------------------------------------------\u001b[0m",
      "\u001b[1;31mValueError\u001b[0m                                Traceback (most recent call last)",
      "Cell \u001b[1;32mIn[7], line 1\u001b[0m\n\u001b[1;32m----> 1\u001b[0m arr1\u001b[38;5;241m.\u001b[39mreshape(\u001b[38;5;241m3\u001b[39m, \u001b[38;5;241m3\u001b[39m)\n",
      "\u001b[1;31mValueError\u001b[0m: cannot reshape array of size 12 into shape (3,3)"
     ]
    }
   ],
   "source": [
    "# 수가 안맞으면 에러 발생\n",
    "arr1.reshape(3, 3)"
   ]
  },
  {
   "cell_type": "markdown",
   "id": "1c1ce255",
   "metadata": {},
   "source": [
    "- 사용하는 원소의 수가 정해져 있기 때문에 reshape의 형태 원소 중 하나는 -1로 대체할 수 있음"
   ]
  },
  {
   "cell_type": "code",
   "execution_count": 9,
   "id": "5e06c291",
   "metadata": {},
   "outputs": [
    {
     "data": {
      "text/plain": [
       "array([[ 0,  1,  2,  3],\n",
       "       [ 4,  5,  6,  7],\n",
       "       [ 8,  9, 10, 11]])"
      ]
     },
     "execution_count": 9,
     "metadata": {},
     "output_type": "execute_result"
    }
   ],
   "source": [
    "arr1.reshape(3, -1)"
   ]
  },
  {
   "cell_type": "code",
   "execution_count": 11,
   "id": "303db4b2",
   "metadata": {},
   "outputs": [
    {
     "data": {
      "text/plain": [
       "array([[[ 0,  1,  2],\n",
       "        [ 3,  4,  5]],\n",
       "\n",
       "       [[ 6,  7,  8],\n",
       "        [ 9, 10, 11]]])"
      ]
     },
     "execution_count": 11,
     "metadata": {},
     "output_type": "execute_result"
    }
   ],
   "source": [
    "arr1.reshape(2, 2, -1)"
   ]
  },
  {
   "cell_type": "code",
   "execution_count": 12,
   "id": "4aed07b2",
   "metadata": {},
   "outputs": [
    {
     "data": {
      "text/plain": [
       "array([[[ 0,  1],\n",
       "        [ 2,  3],\n",
       "        [ 4,  5]],\n",
       "\n",
       "       [[ 6,  7],\n",
       "        [ 8,  9],\n",
       "        [10, 11]]])"
      ]
     },
     "execution_count": 12,
     "metadata": {},
     "output_type": "execute_result"
    }
   ],
   "source": [
    "arr1.reshape(2, -1, 2)"
   ]
  },
  {
   "cell_type": "markdown",
   "id": "7a7de619",
   "metadata": {},
   "source": [
    "# 넘파이 함수의 특징\n",
    "\n",
    "- 벡터화 연산\n",
    "    - 벡터와 행렬의 연산은 구성하는 원소별로 처리하는 것이 보통\n",
    "    - 동일한 인데긋의 원소끼리 계산을 처리하는 것을 벡터화 연산이라고 함\n",
    "    \n",
    "- 유니버설 함수 (universal function)\n",
    "    - 벡터화 연산을 지원하는 특별한 함수를 유니버설 함수라고 함"
   ]
  },
  {
   "cell_type": "code",
   "execution_count": 13,
   "id": "60fc4857",
   "metadata": {},
   "outputs": [],
   "source": [
    "# 일반 파이썬 함수의 타입 확인\n",
    "def test():\n",
    "    pass"
   ]
  },
  {
   "cell_type": "code",
   "execution_count": 15,
   "id": "d431f83f",
   "metadata": {},
   "outputs": [
    {
     "data": {
      "text/plain": [
       "function"
      ]
     },
     "execution_count": 15,
     "metadata": {},
     "output_type": "execute_result"
    }
   ],
   "source": [
    "type(test)"
   ]
  },
  {
   "cell_type": "code",
   "execution_count": 16,
   "id": "edd98eda",
   "metadata": {},
   "outputs": [
    {
     "data": {
      "text/plain": [
       "numpy.ufunc"
      ]
     },
     "execution_count": 16,
     "metadata": {},
     "output_type": "execute_result"
    }
   ],
   "source": [
    "# 유니버설 함수 확인\n",
    "type(np.add)"
   ]
  },
  {
   "cell_type": "code",
   "execution_count": 17,
   "id": "dcde436b",
   "metadata": {},
   "outputs": [
    {
     "data": {
      "text/plain": [
       "function"
      ]
     },
     "execution_count": 17,
     "metadata": {},
     "output_type": "execute_result"
    }
   ],
   "source": [
    "# 넘파이 모듈에는 유니버설 함수도 있고 일반 함수도 있음\n",
    "type(np.sort)"
   ]
  },
  {
   "cell_type": "code",
   "execution_count": 18,
   "id": "080f0c15",
   "metadata": {},
   "outputs": [],
   "source": [
    "list2d = [[1, 2, 3], [4, 5, 6]]"
   ]
  },
  {
   "cell_type": "code",
   "execution_count": 19,
   "id": "4c0e4c9a",
   "metadata": {},
   "outputs": [
    {
     "data": {
      "text/plain": [
       "[[1, 2, 3], [4, 5, 6], [1, 2, 3], [4, 5, 6]]"
      ]
     },
     "execution_count": 19,
     "metadata": {},
     "output_type": "execute_result"
    }
   ],
   "source": [
    "list2d + list2d"
   ]
  },
  {
   "cell_type": "code",
   "execution_count": 20,
   "id": "3e6f6c58",
   "metadata": {},
   "outputs": [
    {
     "data": {
      "text/plain": [
       "array([[ 2,  4,  6],\n",
       "       [ 8, 10, 12]])"
      ]
     },
     "execution_count": 20,
     "metadata": {},
     "output_type": "execute_result"
    }
   ],
   "source": [
    "np.add(list2d, list2d)"
   ]
  },
  {
   "cell_type": "markdown",
   "id": "634d86d2",
   "metadata": {},
   "source": [
    "## 벡터화 연산"
   ]
  },
  {
   "cell_type": "markdown",
   "id": "0b2ab9ea",
   "metadata": {},
   "source": [
    "### 벡터화 연산이 필요한 이유\n",
    "\n",
    "- data 리스트 내의 각 값에 2를 곱해야 하는 이유"
   ]
  },
  {
   "cell_type": "code",
   "execution_count": 22,
   "id": "bd7e6049",
   "metadata": {},
   "outputs": [
    {
     "data": {
      "text/plain": [
       "[0, 1, 2, 3, 4, 5, 6, 7, 8, 9]"
      ]
     },
     "execution_count": 22,
     "metadata": {},
     "output_type": "execute_result"
    }
   ],
   "source": [
    "# 리스트를 통한 풀이\n",
    "data = list(range(10))\n",
    "data"
   ]
  },
  {
   "cell_type": "code",
   "execution_count": 23,
   "id": "4b40a98b",
   "metadata": {},
   "outputs": [
    {
     "data": {
      "text/plain": [
       "[0, 1, 2, 3, 4, 5, 6, 7, 8, 9, 0, 1, 2, 3, 4, 5, 6, 7, 8, 9]"
      ]
     },
     "execution_count": 23,
     "metadata": {},
     "output_type": "execute_result"
    }
   ],
   "source": [
    "data * 2"
   ]
  },
  {
   "cell_type": "code",
   "execution_count": 24,
   "id": "878b263b",
   "metadata": {},
   "outputs": [
    {
     "data": {
      "text/plain": [
       "[0, 2, 4, 6, 8, 10, 12, 14, 16, 18]"
      ]
     },
     "execution_count": 24,
     "metadata": {},
     "output_type": "execute_result"
    }
   ],
   "source": [
    "ans = []\n",
    "\n",
    "for i in data:\n",
    "    ans.append(i * 2)\n",
    "    \n",
    "ans"
   ]
  },
  {
   "cell_type": "code",
   "execution_count": 25,
   "id": "285fc665",
   "metadata": {},
   "outputs": [
    {
     "data": {
      "text/plain": [
       "array([0, 1, 2, 3, 4, 5, 6, 7, 8, 9])"
      ]
     },
     "execution_count": 25,
     "metadata": {},
     "output_type": "execute_result"
    }
   ],
   "source": [
    "# 넘파이를 통한 풀이\n",
    "data = np.array(data)\n",
    "data"
   ]
  },
  {
   "cell_type": "code",
   "execution_count": 26,
   "id": "2376b0cc",
   "metadata": {},
   "outputs": [
    {
     "data": {
      "text/plain": [
       "array([ 0,  2,  4,  6,  8, 10, 12, 14, 16, 18])"
      ]
     },
     "execution_count": 26,
     "metadata": {},
     "output_type": "execute_result"
    }
   ],
   "source": [
    "data * 2"
   ]
  },
  {
   "cell_type": "markdown",
   "id": "098afa06",
   "metadata": {},
   "source": [
    "### 넘파이 벡터화 연산\n",
    "\n",
    "- 벡터화 연산은 비교 연산과 논리 연산을 포함한 모든 종류의 수학 연산에 대해 적용됨"
   ]
  },
  {
   "cell_type": "code",
   "execution_count": 27,
   "id": "f28813a3",
   "metadata": {},
   "outputs": [],
   "source": [
    "a = np.array([1, 2, 3])\n",
    "b = np.array([10, 20, 30])"
   ]
  },
  {
   "cell_type": "code",
   "execution_count": 28,
   "id": "1f41fd4d",
   "metadata": {},
   "outputs": [
    {
     "data": {
      "text/plain": [
       "array([12, 24, 36])"
      ]
     },
     "execution_count": 28,
     "metadata": {},
     "output_type": "execute_result"
    }
   ],
   "source": [
    "2 * a + b"
   ]
  },
  {
   "cell_type": "code",
   "execution_count": 29,
   "id": "a6577b93",
   "metadata": {},
   "outputs": [
    {
     "data": {
      "text/plain": [
       "array([False,  True, False])"
      ]
     },
     "execution_count": 29,
     "metadata": {},
     "output_type": "execute_result"
    }
   ],
   "source": [
    "a == 2"
   ]
  },
  {
   "cell_type": "code",
   "execution_count": 30,
   "id": "09f36fba",
   "metadata": {},
   "outputs": [
    {
     "data": {
      "text/plain": [
       "False"
      ]
     },
     "execution_count": 30,
     "metadata": {},
     "output_type": "execute_result"
    }
   ],
   "source": [
    "[1 ,2, 3] == 2"
   ]
  },
  {
   "cell_type": "code",
   "execution_count": 31,
   "id": "be4cc68d",
   "metadata": {},
   "outputs": [
    {
     "data": {
      "text/plain": [
       "array([False,  True,  True])"
      ]
     },
     "execution_count": 31,
     "metadata": {},
     "output_type": "execute_result"
    }
   ],
   "source": [
    "b > 10"
   ]
  },
  {
   "cell_type": "code",
   "execution_count": 34,
   "id": "05f5d984",
   "metadata": {},
   "outputs": [
    {
     "data": {
      "text/plain": [
       "array([False,  True, False])"
      ]
     },
     "execution_count": 34,
     "metadata": {},
     "output_type": "execute_result"
    }
   ],
   "source": [
    "(a == 2) & (b > 10)"
   ]
  },
  {
   "cell_type": "code",
   "execution_count": 35,
   "id": "06c498fb",
   "metadata": {},
   "outputs": [
    {
     "data": {
      "text/plain": [
       "array([False,  True,  True])"
      ]
     },
     "execution_count": 35,
     "metadata": {},
     "output_type": "execute_result"
    }
   ],
   "source": [
    "(a == 2) | (b > 10)"
   ]
  },
  {
   "cell_type": "code",
   "execution_count": 36,
   "id": "b8e09d82",
   "metadata": {},
   "outputs": [
    {
     "data": {
      "text/plain": [
       "array([1, 3])"
      ]
     },
     "execution_count": 36,
     "metadata": {},
     "output_type": "execute_result"
    }
   ],
   "source": [
    "a[[True, False, True]]"
   ]
  },
  {
   "cell_type": "code",
   "execution_count": 37,
   "id": "301a2b5c",
   "metadata": {},
   "outputs": [
    {
     "data": {
      "text/plain": [
       "array([2])"
      ]
     },
     "execution_count": 37,
     "metadata": {},
     "output_type": "execute_result"
    }
   ],
   "source": [
    "a[a == 2]"
   ]
  },
  {
   "cell_type": "markdown",
   "id": "96687137",
   "metadata": {},
   "source": [
    "- 배열끼리의 연산"
   ]
  },
  {
   "cell_type": "code",
   "execution_count": 38,
   "id": "792b4ccf",
   "metadata": {},
   "outputs": [
    {
     "data": {
      "text/plain": [
       "array([6, 7, 8, 9])"
      ]
     },
     "execution_count": 38,
     "metadata": {},
     "output_type": "execute_result"
    }
   ],
   "source": [
    "arr1 = np.arange(6, 10)\n",
    "arr1"
   ]
  },
  {
   "cell_type": "code",
   "execution_count": 39,
   "id": "3d36d7f7",
   "metadata": {},
   "outputs": [
    {
     "data": {
      "text/plain": [
       "array([10, 11, 12, 13])"
      ]
     },
     "execution_count": 39,
     "metadata": {},
     "output_type": "execute_result"
    }
   ],
   "source": [
    "arr2 = np.arange(10, 14)\n",
    "arr2"
   ]
  },
  {
   "cell_type": "code",
   "execution_count": 40,
   "id": "266ec489",
   "metadata": {},
   "outputs": [
    {
     "data": {
      "text/plain": [
       "array([ 60,  77,  96, 117])"
      ]
     },
     "execution_count": 40,
     "metadata": {},
     "output_type": "execute_result"
    }
   ],
   "source": [
    "# 두 개의 다차원 배열을 곱하면 동일한 인덱스의 원소끼리 곱셉한 결과인 1차원 배열이 반환됨\n",
    "arr1 * arr2"
   ]
  },
  {
   "cell_type": "code",
   "execution_count": 43,
   "id": "93294763",
   "metadata": {},
   "outputs": [
    {
     "data": {
      "text/plain": [
       "array([[6],\n",
       "       [7],\n",
       "       [8],\n",
       "       [9]])"
      ]
     },
     "execution_count": 43,
     "metadata": {},
     "output_type": "execute_result"
    }
   ],
   "source": [
    "# arr1에 차원 추가 (수직축 추가)\n",
    "new_arr1 = arr1.reshape(-1, 1)\n",
    "new_arr1"
   ]
  },
  {
   "cell_type": "code",
   "execution_count": 44,
   "id": "b8ae2e4d",
   "metadata": {},
   "outputs": [
    {
     "data": {
      "text/plain": [
       "(4, 1)"
      ]
     },
     "execution_count": 44,
     "metadata": {},
     "output_type": "execute_result"
    }
   ],
   "source": [
    "new_arr1.shape"
   ]
  },
  {
   "cell_type": "code",
   "execution_count": 45,
   "id": "73337ff7",
   "metadata": {},
   "outputs": [
    {
     "data": {
      "text/plain": [
       "array([[10, 11, 12, 13]])"
      ]
     },
     "execution_count": 45,
     "metadata": {},
     "output_type": "execute_result"
    }
   ],
   "source": [
    "# arr2에 차원 추가 (수평축 추가)\n",
    "new_arr2 = arr2.reshape(1, -1)\n",
    "new_arr2"
   ]
  },
  {
   "cell_type": "code",
   "execution_count": 46,
   "id": "36f85ca6",
   "metadata": {},
   "outputs": [
    {
     "data": {
      "text/plain": [
       "(1, 4)"
      ]
     },
     "execution_count": 46,
     "metadata": {},
     "output_type": "execute_result"
    }
   ],
   "source": [
    "new_arr2.shape"
   ]
  },
  {
   "cell_type": "markdown",
   "id": "5e89d58f",
   "metadata": {},
   "source": [
    "## 브로드캐스팅(broadcasting)\n",
    "\n",
    "- 배열끼리 연산을 하기 위해서는 두 배열의 크기가 같아야함\n",
    "- 서로 다른 크기를 가진 배열의 사칙 연산을 하는 경우 넘파이에서는 크기가 작은 배열을 자동으로 반복확장하여 크기가 큰 배열에 맞춤"
   ]
  },
  {
   "cell_type": "code",
   "execution_count": 47,
   "id": "5f54fd26",
   "metadata": {},
   "outputs": [
    {
     "data": {
      "text/plain": [
       "array([[16, 17, 18, 19],\n",
       "       [17, 18, 19, 20],\n",
       "       [18, 19, 20, 21],\n",
       "       [19, 20, 21, 22]])"
      ]
     },
     "execution_count": 47,
     "metadata": {},
     "output_type": "execute_result"
    }
   ],
   "source": [
    "new_arr1 + new_arr2"
   ]
  },
  {
   "cell_type": "code",
   "execution_count": 48,
   "id": "3ecd28fd",
   "metadata": {},
   "outputs": [
    {
     "data": {
      "text/plain": [
       "array([[ 60,  66,  72,  78],\n",
       "       [ 70,  77,  84,  91],\n",
       "       [ 80,  88,  96, 104],\n",
       "       [ 90,  99, 108, 117]])"
      ]
     },
     "execution_count": 48,
     "metadata": {},
     "output_type": "execute_result"
    }
   ],
   "source": [
    "# 행렬곱 연산\n",
    "new_arr1 * new_arr2"
   ]
  },
  {
   "cell_type": "code",
   "execution_count": 49,
   "id": "46e94ec9",
   "metadata": {},
   "outputs": [
    {
     "data": {
      "text/plain": [
       "array([[ 60,  66,  72,  78],\n",
       "       [ 70,  77,  84,  91],\n",
       "       [ 80,  88,  96, 104],\n",
       "       [ 90,  99, 108, 117]])"
      ]
     },
     "execution_count": 49,
     "metadata": {},
     "output_type": "execute_result"
    }
   ],
   "source": [
    "new_arr1 @ new_arr2"
   ]
  },
  {
   "cell_type": "code",
   "execution_count": 50,
   "id": "a8a3283c",
   "metadata": {},
   "outputs": [],
   "source": [
    "a = np.array([[1, 2], [3, 4]])\n",
    "b = np.array([[5, 6], [7, 8]])"
   ]
  },
  {
   "cell_type": "code",
   "execution_count": 51,
   "id": "4916d07c",
   "metadata": {},
   "outputs": [
    {
     "data": {
      "text/plain": [
       "array([[1, 2],\n",
       "       [3, 4]])"
      ]
     },
     "execution_count": 51,
     "metadata": {},
     "output_type": "execute_result"
    }
   ],
   "source": [
    "a"
   ]
  },
  {
   "cell_type": "code",
   "execution_count": 52,
   "id": "0e07a243",
   "metadata": {},
   "outputs": [
    {
     "data": {
      "text/plain": [
       "array([[5, 6],\n",
       "       [7, 8]])"
      ]
     },
     "execution_count": 52,
     "metadata": {},
     "output_type": "execute_result"
    }
   ],
   "source": [
    "b"
   ]
  },
  {
   "cell_type": "code",
   "execution_count": 53,
   "id": "dfcc27fc",
   "metadata": {},
   "outputs": [
    {
     "data": {
      "text/plain": [
       "array([[ 5, 12],\n",
       "       [21, 32]])"
      ]
     },
     "execution_count": 53,
     "metadata": {},
     "output_type": "execute_result"
    }
   ],
   "source": [
    "# * 연산자는 요소별 곱셈을 수행\n",
    "a * b"
   ]
  },
  {
   "cell_type": "code",
   "execution_count": 54,
   "id": "cfa3933a",
   "metadata": {},
   "outputs": [
    {
     "data": {
      "text/plain": [
       "array([[19, 22],\n",
       "       [43, 50]])"
      ]
     },
     "execution_count": 54,
     "metadata": {},
     "output_type": "execute_result"
    }
   ],
   "source": [
    "# @ 연산자는 행렬 곱셈을 수행\n",
    "a @ b"
   ]
  },
  {
   "cell_type": "markdown",
   "id": "ae85b5dd",
   "metadata": {},
   "source": [
    "#### 연습문제\n",
    "\n",
    "1. 아래의 배열에서 3의 배수를 찾기\n",
    "2. 아래의 배열에서 4로 나누면 1이 남는 수 찾기\n",
    "3. 아래의 배열에서 3으로 나누면 나우어지고 4로 나누면 1이 남는 수 찾기"
   ]
  },
  {
   "cell_type": "code",
   "execution_count": 55,
   "id": "d790573e",
   "metadata": {},
   "outputs": [
    {
     "data": {
      "text/plain": [
       "array([ 1,  2,  3,  4,  5,  6,  7,  8,  9, 10, 11, 12, 13, 14, 15, 16, 17,\n",
       "       18, 19, 20])"
      ]
     },
     "execution_count": 55,
     "metadata": {},
     "output_type": "execute_result"
    }
   ],
   "source": [
    "x = np.arange(1, 21)\n",
    "x"
   ]
  },
  {
   "cell_type": "code",
   "execution_count": 57,
   "id": "95b1ebfb",
   "metadata": {},
   "outputs": [
    {
     "data": {
      "text/plain": [
       "array([ 3,  6,  9, 12, 15, 18])"
      ]
     },
     "execution_count": 57,
     "metadata": {},
     "output_type": "execute_result"
    }
   ],
   "source": [
    "x[x%3 == 0]"
   ]
  },
  {
   "cell_type": "code",
   "execution_count": 58,
   "id": "759d49b1",
   "metadata": {},
   "outputs": [
    {
     "data": {
      "text/plain": [
       "array([ 1,  5,  9, 13, 17])"
      ]
     },
     "execution_count": 58,
     "metadata": {},
     "output_type": "execute_result"
    }
   ],
   "source": [
    "x[x%4 == 1]"
   ]
  },
  {
   "cell_type": "code",
   "execution_count": 60,
   "id": "8c603aaa",
   "metadata": {},
   "outputs": [
    {
     "data": {
      "text/plain": [
       "array([9])"
      ]
     },
     "execution_count": 60,
     "metadata": {},
     "output_type": "execute_result"
    }
   ],
   "source": [
    "x[(x%3 == 0) & (x%4 == 1)]"
   ]
  },
  {
   "cell_type": "markdown",
   "id": "eb0b096e",
   "metadata": {},
   "source": [
    "## 축에 따른 연산\n",
    "\n",
    "- 동일한 추겡 있는 원소들을 계산하기 위해 필요"
   ]
  },
  {
   "cell_type": "code",
   "execution_count": 61,
   "id": "bc447dd5",
   "metadata": {},
   "outputs": [
    {
     "data": {
      "text/plain": [
       "array([1, 2, 3, 4])"
      ]
     },
     "execution_count": 61,
     "metadata": {},
     "output_type": "execute_result"
    }
   ],
   "source": [
    "# 1차원 배열\n",
    "arr1 = np.array([1, 2, 3, 4])\n",
    "arr1"
   ]
  },
  {
   "cell_type": "code",
   "execution_count": 62,
   "id": "7e6eedaa",
   "metadata": {},
   "outputs": [
    {
     "data": {
      "text/plain": [
       "10"
      ]
     },
     "execution_count": 62,
     "metadata": {},
     "output_type": "execute_result"
    }
   ],
   "source": [
    "# 합계\n",
    "np.sum(arr1)"
   ]
  },
  {
   "cell_type": "code",
   "execution_count": 63,
   "id": "d7f296cc",
   "metadata": {},
   "outputs": [
    {
     "data": {
      "text/plain": [
       "10"
      ]
     },
     "execution_count": 63,
     "metadata": {},
     "output_type": "execute_result"
    }
   ],
   "source": [
    "arr1.sum()"
   ]
  },
  {
   "cell_type": "code",
   "execution_count": 64,
   "id": "94428100",
   "metadata": {},
   "outputs": [
    {
     "data": {
      "text/plain": [
       "4"
      ]
     },
     "execution_count": 64,
     "metadata": {},
     "output_type": "execute_result"
    }
   ],
   "source": [
    "arr1.max()"
   ]
  },
  {
   "cell_type": "code",
   "execution_count": 65,
   "id": "f9624c46",
   "metadata": {},
   "outputs": [
    {
     "data": {
      "text/plain": [
       "1"
      ]
     },
     "execution_count": 65,
     "metadata": {},
     "output_type": "execute_result"
    }
   ],
   "source": [
    "arr1.min()"
   ]
  },
  {
   "cell_type": "code",
   "execution_count": 68,
   "id": "86b9b4ec",
   "metadata": {},
   "outputs": [
    {
     "data": {
      "text/plain": [
       "0"
      ]
     },
     "execution_count": 68,
     "metadata": {},
     "output_type": "execute_result"
    }
   ],
   "source": [
    "# 최솟값의 위치를 반환\n",
    "arr1.argmin()"
   ]
  },
  {
   "cell_type": "code",
   "execution_count": 67,
   "id": "149b6a70",
   "metadata": {},
   "outputs": [
    {
     "data": {
      "text/plain": [
       "3"
      ]
     },
     "execution_count": 67,
     "metadata": {},
     "output_type": "execute_result"
    }
   ],
   "source": [
    "# 최댓값의 위치를 반환\n",
    "arr1.argmax()"
   ]
  },
  {
   "cell_type": "code",
   "execution_count": 69,
   "id": "9b71b62b",
   "metadata": {},
   "outputs": [
    {
     "data": {
      "text/plain": [
       "2.5"
      ]
     },
     "execution_count": 69,
     "metadata": {},
     "output_type": "execute_result"
    }
   ],
   "source": [
    "arr1.mean()"
   ]
  },
  {
   "cell_type": "code",
   "execution_count": 70,
   "id": "654402c2",
   "metadata": {},
   "outputs": [
    {
     "data": {
      "text/plain": [
       "2.5"
      ]
     },
     "execution_count": 70,
     "metadata": {},
     "output_type": "execute_result"
    }
   ],
   "source": [
    "# 중앙값\n",
    "np.median(arr1)"
   ]
  },
  {
   "cell_type": "code",
   "execution_count": 71,
   "id": "ef949d2f",
   "metadata": {},
   "outputs": [
    {
     "ename": "AttributeError",
     "evalue": "'numpy.ndarray' object has no attribute 'median'",
     "output_type": "error",
     "traceback": [
      "\u001b[1;31m---------------------------------------------------------------------------\u001b[0m",
      "\u001b[1;31mAttributeError\u001b[0m                            Traceback (most recent call last)",
      "Cell \u001b[1;32mIn[71], line 1\u001b[0m\n\u001b[1;32m----> 1\u001b[0m arr1\u001b[38;5;241m.\u001b[39mmedian()\n",
      "\u001b[1;31mAttributeError\u001b[0m: 'numpy.ndarray' object has no attribute 'median'"
     ]
    }
   ],
   "source": [
    "arr1.median()"
   ]
  },
  {
   "cell_type": "code",
   "execution_count": 72,
   "id": "a5645ab0",
   "metadata": {},
   "outputs": [
    {
     "data": {
      "text/plain": [
       "array([[1, 2],\n",
       "       [3, 4]])"
      ]
     },
     "execution_count": 72,
     "metadata": {},
     "output_type": "execute_result"
    }
   ],
   "source": [
    "# 2차원 배열\n",
    "arr2 = arr1.reshape(2, 2)\n",
    "arr2"
   ]
  },
  {
   "cell_type": "code",
   "execution_count": 73,
   "id": "85c038c2",
   "metadata": {},
   "outputs": [
    {
     "data": {
      "text/plain": [
       "10"
      ]
     },
     "execution_count": 73,
     "metadata": {},
     "output_type": "execute_result"
    }
   ],
   "source": [
    "# 모든 원소를 더한 합\n",
    "np.sum(arr2)"
   ]
  },
  {
   "cell_type": "code",
   "execution_count": 74,
   "id": "6689ba75",
   "metadata": {},
   "outputs": [
    {
     "data": {
      "text/plain": [
       "array([4, 6])"
      ]
     },
     "execution_count": 74,
     "metadata": {},
     "output_type": "execute_result"
    }
   ],
   "source": [
    "# 수직 방향으로 같은 열에 속한 원소만 합산\n",
    "np.sum(arr2, axis = 0)"
   ]
  },
  {
   "cell_type": "code",
   "execution_count": 75,
   "id": "55854515",
   "metadata": {},
   "outputs": [
    {
     "data": {
      "text/plain": [
       "array([3, 7])"
      ]
     },
     "execution_count": 75,
     "metadata": {},
     "output_type": "execute_result"
    }
   ],
   "source": [
    "# 수평 방향으로 같은 행에 속한 원소만 합산\n",
    "np.sum(arr2, axis = 1)"
   ]
  },
  {
   "cell_type": "code",
   "execution_count": 76,
   "id": "226e86b0",
   "metadata": {},
   "outputs": [
    {
     "data": {
      "text/plain": [
       "array([1, 2, 3, 4, 5, 6, 7, 8])"
      ]
     },
     "execution_count": 76,
     "metadata": {},
     "output_type": "execute_result"
    }
   ],
   "source": [
    "# 3차원 배열\n",
    "arr3 = np.arange(1, 9)\n",
    "arr3"
   ]
  },
  {
   "cell_type": "code",
   "execution_count": 77,
   "id": "84b4ca86",
   "metadata": {},
   "outputs": [
    {
     "data": {
      "text/plain": [
       "array([[[1, 2],\n",
       "        [3, 4]],\n",
       "\n",
       "       [[5, 6],\n",
       "        [7, 8]]])"
      ]
     },
     "execution_count": 77,
     "metadata": {},
     "output_type": "execute_result"
    }
   ],
   "source": [
    "arr4 = arr3.reshape(2, 2, 2)\n",
    "arr4"
   ]
  },
  {
   "cell_type": "code",
   "execution_count": 78,
   "id": "cb69b9bd",
   "metadata": {},
   "outputs": [
    {
     "data": {
      "text/plain": [
       "36"
      ]
     },
     "execution_count": 78,
     "metadata": {},
     "output_type": "execute_result"
    }
   ],
   "source": [
    "# 모든 원소를 더한 합\n",
    "arr4.sum()"
   ]
  },
  {
   "cell_type": "code",
   "execution_count": 82,
   "id": "b2d92e5b",
   "metadata": {},
   "outputs": [
    {
     "data": {
      "text/plain": [
       "array([[ 6,  8],\n",
       "       [10, 12]])"
      ]
     },
     "execution_count": 82,
     "metadata": {},
     "output_type": "execute_result"
    }
   ],
   "source": [
    "np.sum(arr4, axis = 0)"
   ]
  },
  {
   "cell_type": "code",
   "execution_count": 83,
   "id": "9a7315f1",
   "metadata": {},
   "outputs": [
    {
     "data": {
      "text/plain": [
       "array([[ 4,  6],\n",
       "       [12, 14]])"
      ]
     },
     "execution_count": 83,
     "metadata": {},
     "output_type": "execute_result"
    }
   ],
   "source": [
    "np.sum(arr4, axis = 1)"
   ]
  },
  {
   "cell_type": "code",
   "execution_count": 84,
   "id": "1d9a3d32",
   "metadata": {},
   "outputs": [
    {
     "data": {
      "text/plain": [
       "array([[ 3,  7],\n",
       "       [11, 15]])"
      ]
     },
     "execution_count": 84,
     "metadata": {},
     "output_type": "execute_result"
    }
   ],
   "source": [
    "np.sum(arr4, axis = 2)"
   ]
  },
  {
   "cell_type": "code",
   "execution_count": 87,
   "id": "7b12013c",
   "metadata": {},
   "outputs": [
    {
     "data": {
      "text/plain": [
       "array([10, 26])"
      ]
     },
     "execution_count": 87,
     "metadata": {},
     "output_type": "execute_result"
    }
   ],
   "source": [
    "np.sum(arr4, axis = (1, 2))"
   ]
  },
  {
   "cell_type": "code",
   "execution_count": 88,
   "id": "85b3b51b",
   "metadata": {},
   "outputs": [
    {
     "data": {
      "text/plain": [
       "array([14, 22])"
      ]
     },
     "execution_count": 88,
     "metadata": {},
     "output_type": "execute_result"
    }
   ],
   "source": [
    "np.sum(arr4, axis = (0, 2))"
   ]
  },
  {
   "cell_type": "code",
   "execution_count": 89,
   "id": "b526c9fc",
   "metadata": {},
   "outputs": [
    {
     "data": {
      "text/plain": [
       "array([16, 20])"
      ]
     },
     "execution_count": 89,
     "metadata": {},
     "output_type": "execute_result"
    }
   ],
   "source": [
    "np.sum(arr4, axis = (0, 1))"
   ]
  },
  {
   "cell_type": "code",
   "execution_count": 110,
   "id": "22183125",
   "metadata": {},
   "outputs": [
    {
     "data": {
      "text/plain": [
       "36"
      ]
     },
     "execution_count": 110,
     "metadata": {},
     "output_type": "execute_result"
    }
   ],
   "source": [
    "np.sum(arr4, axis = (0, 1, 2))"
   ]
  },
  {
   "cell_type": "markdown",
   "id": "e479e1da",
   "metadata": {},
   "source": [
    "#### 연습문제\n",
    "\n",
    "1. 전체의 최댓값\n",
    "2. 각 행의 합\n",
    "3. 각 행의 최댓값\n",
    "4. 각 열의 평균\n",
    "5. 각 열의 최솟값"
   ]
  },
  {
   "cell_type": "code",
   "execution_count": 90,
   "id": "ef610f9a",
   "metadata": {},
   "outputs": [
    {
     "data": {
      "text/plain": [
       "array([[0.95961843, 0.5360596 , 0.16051881, 0.90749866, 0.28427379,\n",
       "        0.7574049 ],\n",
       "       [0.71360031, 0.16852242, 0.67484851, 0.99638305, 0.76329595,\n",
       "        0.53794042],\n",
       "       [0.41374795, 0.87097292, 0.59814211, 0.89540178, 0.58315618,\n",
       "        0.59252997],\n",
       "       [0.549327  , 0.23860589, 0.30408595, 0.64997292, 0.68265531,\n",
       "        0.25822115],\n",
       "       [0.65252293, 0.61331382, 0.39302811, 0.6170637 , 0.73361484,\n",
       "        0.69625659]])"
      ]
     },
     "execution_count": 90,
     "metadata": {},
     "output_type": "execute_result"
    }
   ],
   "source": [
    "x = np.random.random((5, 6))\n",
    "x"
   ]
  },
  {
   "cell_type": "code",
   "execution_count": 91,
   "id": "cb08653e",
   "metadata": {},
   "outputs": [
    {
     "data": {
      "text/plain": [
       "0.9963830459601426"
      ]
     },
     "execution_count": 91,
     "metadata": {},
     "output_type": "execute_result"
    }
   ],
   "source": [
    "x.max()"
   ]
  },
  {
   "cell_type": "code",
   "execution_count": 95,
   "id": "29133a50",
   "metadata": {},
   "outputs": [
    {
     "data": {
      "text/plain": [
       "array([3.60537419, 3.85459065, 3.95395091, 2.68286823, 3.70579998])"
      ]
     },
     "execution_count": 95,
     "metadata": {},
     "output_type": "execute_result"
    }
   ],
   "source": [
    "np.sum(x, axis = 1)"
   ]
  },
  {
   "cell_type": "code",
   "execution_count": 96,
   "id": "1cea3ef5",
   "metadata": {},
   "outputs": [
    {
     "data": {
      "text/plain": [
       "array([0.95961843, 0.99638305, 0.89540178, 0.68265531, 0.73361484])"
      ]
     },
     "execution_count": 96,
     "metadata": {},
     "output_type": "execute_result"
    }
   ],
   "source": [
    "np.max(x, axis = 1)"
   ]
  },
  {
   "cell_type": "code",
   "execution_count": 104,
   "id": "c299f06f",
   "metadata": {},
   "outputs": [
    {
     "data": {
      "text/plain": [
       "array([0.65776332, 0.48549493, 0.4261247 , 0.81326402, 0.60939921,\n",
       "       0.56847061])"
      ]
     },
     "execution_count": 104,
     "metadata": {},
     "output_type": "execute_result"
    }
   ],
   "source": [
    "np.mean(x, axis = 0)"
   ]
  },
  {
   "cell_type": "code",
   "execution_count": 98,
   "id": "3b4d35d7",
   "metadata": {},
   "outputs": [
    {
     "data": {
      "text/plain": [
       "array([0.41374795, 0.16852242, 0.16051881, 0.6170637 , 0.28427379,\n",
       "       0.25822115])"
      ]
     },
     "execution_count": 98,
     "metadata": {},
     "output_type": "execute_result"
    }
   ],
   "source": [
    "np.min(x, axis = 0)"
   ]
  },
  {
   "cell_type": "code",
   "execution_count": 109,
   "id": "7112d23c",
   "metadata": {},
   "outputs": [
    {
     "data": {
      "text/plain": [
       "0.41374795"
      ]
     },
     "execution_count": 109,
     "metadata": {},
     "output_type": "execute_result"
    }
   ],
   "source": [
    "min([0.95961843, 0.71360031, 0.41374795, 0.549327, 0.65252293])"
   ]
  },
  {
   "cell_type": "code",
   "execution_count": 111,
   "id": "17ffabab",
   "metadata": {},
   "outputs": [
    {
     "data": {
      "text/plain": [
       "array([[[1, 2],\n",
       "        [3, 4]],\n",
       "\n",
       "       [[5, 6],\n",
       "        [7, 8]]])"
      ]
     },
     "execution_count": 111,
     "metadata": {},
     "output_type": "execute_result"
    }
   ],
   "source": [
    "arr4"
   ]
  },
  {
   "cell_type": "code",
   "execution_count": 114,
   "id": "a9918246",
   "metadata": {},
   "outputs": [
    {
     "data": {
      "text/plain": [
       "array([[ 6,  8],\n",
       "       [10, 12]])"
      ]
     },
     "execution_count": 114,
     "metadata": {},
     "output_type": "execute_result"
    }
   ],
   "source": [
    "arr4.sum(axis = 0)"
   ]
  },
  {
   "cell_type": "code",
   "execution_count": 115,
   "id": "117fcbd0",
   "metadata": {},
   "outputs": [
    {
     "data": {
      "text/plain": [
       "array([[ 4,  6],\n",
       "       [12, 14]])"
      ]
     },
     "execution_count": 115,
     "metadata": {},
     "output_type": "execute_result"
    }
   ],
   "source": [
    "arr4.sum(axis = 1)"
   ]
  },
  {
   "cell_type": "code",
   "execution_count": 116,
   "id": "f83583eb",
   "metadata": {},
   "outputs": [
    {
     "data": {
      "text/plain": [
       "array([[ 3,  7],\n",
       "       [11, 15]])"
      ]
     },
     "execution_count": 116,
     "metadata": {},
     "output_type": "execute_result"
    }
   ],
   "source": [
    "arr4.sum(axis = -1)"
   ]
  },
  {
   "cell_type": "code",
   "execution_count": 117,
   "id": "20d8a733",
   "metadata": {},
   "outputs": [
    {
     "data": {
      "text/plain": [
       "array([16, 20])"
      ]
     },
     "execution_count": 117,
     "metadata": {},
     "output_type": "execute_result"
    }
   ],
   "source": [
    "arr4.sum(axis = (0, 1))"
   ]
  },
  {
   "cell_type": "code",
   "execution_count": 118,
   "id": "f633ea1b",
   "metadata": {},
   "outputs": [
    {
     "data": {
      "text/plain": [
       "array([14, 22])"
      ]
     },
     "execution_count": 118,
     "metadata": {},
     "output_type": "execute_result"
    }
   ],
   "source": [
    "arr4.sum(axis = (0, -1))"
   ]
  },
  {
   "cell_type": "code",
   "execution_count": 119,
   "id": "d860c20e",
   "metadata": {},
   "outputs": [
    {
     "data": {
      "text/plain": [
       "array([10, 26])"
      ]
     },
     "execution_count": 119,
     "metadata": {},
     "output_type": "execute_result"
    }
   ],
   "source": [
    "arr4.sum(axis = -1).sum(axis = -1)"
   ]
  },
  {
   "cell_type": "code",
   "execution_count": 120,
   "id": "491ad7ff",
   "metadata": {},
   "outputs": [
    {
     "data": {
      "text/plain": [
       "array([[[1, 2, 1, 0],\n",
       "        [2, 0, 1, 0],\n",
       "        [0, 2, 2, 0]],\n",
       "\n",
       "       [[0, 1, 1, 1],\n",
       "        [0, 2, 2, 0],\n",
       "        [2, 1, 1, 2]]])"
      ]
     },
     "execution_count": 120,
     "metadata": {},
     "output_type": "execute_result"
    }
   ],
   "source": [
    "arr5 = np.random.randint(0, 3, (2, 3, 4))\n",
    "arr5"
   ]
  },
  {
   "cell_type": "code",
   "execution_count": 121,
   "id": "d7a0cfc6",
   "metadata": {},
   "outputs": [
    {
     "data": {
      "text/plain": [
       "array([[1, 3, 2, 1],\n",
       "       [2, 2, 3, 0],\n",
       "       [2, 3, 3, 2]])"
      ]
     },
     "execution_count": 121,
     "metadata": {},
     "output_type": "execute_result"
    }
   ],
   "source": [
    "arr5.sum(axis = 0)"
   ]
  },
  {
   "cell_type": "code",
   "execution_count": 123,
   "id": "00508d7d",
   "metadata": {},
   "outputs": [
    {
     "data": {
      "text/plain": [
       "(2, 4)"
      ]
     },
     "execution_count": 123,
     "metadata": {},
     "output_type": "execute_result"
    }
   ],
   "source": [
    "arr5.sum(axis = 1).shape"
   ]
  },
  {
   "cell_type": "code",
   "execution_count": 124,
   "id": "fb55dc31",
   "metadata": {},
   "outputs": [
    {
     "data": {
      "text/plain": [
       "(2, 3)"
      ]
     },
     "execution_count": 124,
     "metadata": {},
     "output_type": "execute_result"
    }
   ],
   "source": [
    "arr5.sum(axis = 2).shape"
   ]
  },
  {
   "cell_type": "code",
   "execution_count": 126,
   "id": "3edf2c12",
   "metadata": {},
   "outputs": [
    {
     "data": {
      "text/plain": [
       "(4,)"
      ]
     },
     "execution_count": 126,
     "metadata": {},
     "output_type": "execute_result"
    }
   ],
   "source": [
    "arr5.sum(axis = (0, 1)).shape"
   ]
  },
  {
   "cell_type": "code",
   "execution_count": 127,
   "id": "ae9a29df",
   "metadata": {},
   "outputs": [
    {
     "data": {
      "text/plain": [
       "(3,)"
      ]
     },
     "execution_count": 127,
     "metadata": {},
     "output_type": "execute_result"
    }
   ],
   "source": [
    "arr5.sum(axis = (0, 2)).shape"
   ]
  },
  {
   "cell_type": "code",
   "execution_count": 128,
   "id": "698aa53e",
   "metadata": {},
   "outputs": [
    {
     "data": {
      "text/plain": [
       "(2,)"
      ]
     },
     "execution_count": 128,
     "metadata": {},
     "output_type": "execute_result"
    }
   ],
   "source": [
    "arr5.sum(axis = (1, 2)).shape"
   ]
  },
  {
   "cell_type": "code",
   "execution_count": 129,
   "id": "6409b809",
   "metadata": {},
   "outputs": [
    {
     "data": {
      "text/plain": [
       "array([[[0.9033549 , 0.39718506, 0.52805558, 0.48389895, 0.22799708,\n",
       "         0.63145202],\n",
       "        [0.104881  , 0.33149798, 0.50071872, 0.73797236, 0.31217129,\n",
       "         0.12689445],\n",
       "        [0.56594668, 0.2918688 , 0.35841936, 0.94931597, 0.3256701 ,\n",
       "         0.29104119],\n",
       "        [0.19003272, 0.24678321, 0.18992478, 0.58050331, 0.32204626,\n",
       "         0.96117716],\n",
       "        [0.43209745, 0.19744177, 0.1260301 , 0.27431047, 0.38197605,\n",
       "         0.63270215]],\n",
       "\n",
       "       [[0.4652868 , 0.10552453, 0.20712765, 0.2806198 , 0.18965698,\n",
       "         0.544366  ],\n",
       "        [0.70598277, 0.73091818, 0.17537323, 0.38895499, 0.17380559,\n",
       "         0.68271486],\n",
       "        [0.03165775, 0.47261408, 0.67134882, 0.11765668, 0.33169598,\n",
       "         0.22754604],\n",
       "        [0.05919469, 0.43568606, 0.50888593, 0.62540745, 0.05145321,\n",
       "         0.22871354],\n",
       "        [0.7331327 , 0.0870542 , 0.96352594, 0.94851817, 0.66971571,\n",
       "         0.53392569]],\n",
       "\n",
       "       [[0.87384019, 0.23970074, 0.15860528, 0.74681985, 0.34475761,\n",
       "         0.37149667],\n",
       "        [0.04593016, 0.81537359, 0.15323794, 0.9419877 , 0.11392448,\n",
       "         0.95085544],\n",
       "        [0.19884285, 0.68072371, 0.44778586, 0.06814112, 0.106698  ,\n",
       "         0.61244764],\n",
       "        [0.12366901, 0.88628706, 0.50080688, 0.3551543 , 0.05223729,\n",
       "         0.94705707],\n",
       "        [0.86574059, 0.32553744, 0.1399349 , 0.4365735 , 0.45735973,\n",
       "         0.69367685]]])"
      ]
     },
     "execution_count": 129,
     "metadata": {},
     "output_type": "execute_result"
    }
   ],
   "source": [
    "data_3d = np.random.random((3, 5, 6))\n",
    "data_3d"
   ]
  },
  {
   "cell_type": "markdown",
   "id": "494408c8",
   "metadata": {},
   "source": [
    "1. 각 2차원 배열에서의 최댓값\n",
    "2. 각 2차원 배열에서의 행의 합\n",
    "3. 각 2차원 배열에서의 각 행의 최댓값\n",
    "4. 전체 열의 평균\n",
    "5. 각 2차원 배열에서의 열의 평균\n",
    "6. 각 2차원 배열에서의 각 열의 최솟값"
   ]
  },
  {
   "cell_type": "code",
   "execution_count": 132,
   "id": "be4c2d21",
   "metadata": {},
   "outputs": [
    {
     "data": {
      "text/plain": [
       "array([0.96117716, 0.96352594, 0.95085544])"
      ]
     },
     "execution_count": 132,
     "metadata": {},
     "output_type": "execute_result"
    }
   ],
   "source": [
    "data_3d.max(axis = (1, 2))"
   ]
  },
  {
   "cell_type": "code",
   "execution_count": 141,
   "id": "86ecca3b",
   "metadata": {},
   "outputs": [
    {
     "data": {
      "text/plain": [
       "array([0.96117716, 0.96352594, 0.95085544])"
      ]
     },
     "execution_count": 141,
     "metadata": {},
     "output_type": "execute_result"
    }
   ],
   "source": [
    "data_3d.max(axis = -1).max(axis = -1)"
   ]
  },
  {
   "cell_type": "code",
   "execution_count": 134,
   "id": "e6f79cc1",
   "metadata": {},
   "outputs": [
    {
     "data": {
      "text/plain": [
       "array([[3.17194359, 2.11413579, 2.78226209, 2.49046745, 2.04455799],\n",
       "       [1.79258176, 2.85774962, 1.85251935, 1.90934088, 3.93587241],\n",
       "       [2.73522035, 3.02130932, 2.11463918, 2.8652116 , 2.91882302]])"
      ]
     },
     "execution_count": 134,
     "metadata": {},
     "output_type": "execute_result"
    }
   ],
   "source": [
    "data_3d.sum(axis = 2)"
   ]
  },
  {
   "cell_type": "code",
   "execution_count": 135,
   "id": "83c98003",
   "metadata": {},
   "outputs": [
    {
     "data": {
      "text/plain": [
       "array([[0.9033549 , 0.73797236, 0.94931597, 0.96117716, 0.63270215],\n",
       "       [0.544366  , 0.73091818, 0.67134882, 0.62540745, 0.96352594],\n",
       "       [0.87384019, 0.95085544, 0.68072371, 0.94705707, 0.86574059]])"
      ]
     },
     "execution_count": 135,
     "metadata": {},
     "output_type": "execute_result"
    }
   ],
   "source": [
    "data_3d.max(axis = 2)"
   ]
  },
  {
   "cell_type": "code",
   "execution_count": 137,
   "id": "1f097ab2",
   "metadata": {},
   "outputs": [
    {
     "data": {
      "text/plain": [
       "array([0.41997268, 0.41627976, 0.37531873, 0.52905564, 0.27074436,\n",
       "       0.56240445])"
      ]
     },
     "execution_count": 137,
     "metadata": {},
     "output_type": "execute_result"
    }
   ],
   "source": [
    "data_3d.mean(axis = (0, 1))"
   ]
  },
  {
   "cell_type": "code",
   "execution_count": 136,
   "id": "0d7ae2cb",
   "metadata": {},
   "outputs": [
    {
     "data": {
      "text/plain": [
       "array([[0.43926255, 0.29295536, 0.34062971, 0.60520021, 0.31397216,\n",
       "        0.52865339],\n",
       "       [0.39905094, 0.36635941, 0.50525232, 0.47223142, 0.28326549,\n",
       "        0.44345323],\n",
       "       [0.42160456, 0.58952451, 0.28007417, 0.50973529, 0.21499542,\n",
       "        0.71510673]])"
      ]
     },
     "execution_count": 136,
     "metadata": {},
     "output_type": "execute_result"
    }
   ],
   "source": [
    "data_3d.mean(axis = 1)"
   ]
  },
  {
   "cell_type": "code",
   "execution_count": 138,
   "id": "ae2a4771",
   "metadata": {},
   "outputs": [
    {
     "data": {
      "text/plain": [
       "array([[0.104881  , 0.19744177, 0.1260301 , 0.27431047, 0.22799708,\n",
       "        0.12689445],\n",
       "       [0.03165775, 0.0870542 , 0.17537323, 0.11765668, 0.05145321,\n",
       "        0.22754604],\n",
       "       [0.04593016, 0.23970074, 0.1399349 , 0.06814112, 0.05223729,\n",
       "        0.37149667]])"
      ]
     },
     "execution_count": 138,
     "metadata": {},
     "output_type": "execute_result"
    }
   ],
   "source": [
    "data_3d.min(axis = 1)"
   ]
  },
  {
   "cell_type": "markdown",
   "id": "1757f449",
   "metadata": {},
   "source": [
    "# Inf와 nan\n",
    "- 넘파이에서는 무한대를 표한하기 위한 np.inf와 정의할 수 없는 숫자를 나타내는 np.nan이 있음"
   ]
  },
  {
   "cell_type": "code",
   "execution_count": 142,
   "id": "963cc2f4",
   "metadata": {},
   "outputs": [
    {
     "name": "stderr",
     "output_type": "stream",
     "text": [
      "C:\\Users\\ITSC\\AppData\\Local\\Temp\\ipykernel_7180\\2068585620.py:1: RuntimeWarning: divide by zero encountered in divide\n",
      "  np.array([0, 1, -1, 0]) / np.array([1, 0, 0, 0])\n",
      "C:\\Users\\ITSC\\AppData\\Local\\Temp\\ipykernel_7180\\2068585620.py:1: RuntimeWarning: invalid value encountered in divide\n",
      "  np.array([0, 1, -1, 0]) / np.array([1, 0, 0, 0])\n"
     ]
    },
    {
     "data": {
      "text/plain": [
       "array([  0.,  inf, -inf,  nan])"
      ]
     },
     "execution_count": 142,
     "metadata": {},
     "output_type": "execute_result"
    }
   ],
   "source": [
    "np.array([0, 1, -1, 0]) / np.array([1, 0, 0, 0])"
   ]
  },
  {
   "cell_type": "code",
   "execution_count": null,
   "id": "fe1dc40d",
   "metadata": {},
   "outputs": [],
   "source": []
  }
 ],
 "metadata": {
  "kernelspec": {
   "display_name": "Python 3 (ipykernel)",
   "language": "python",
   "name": "python3"
  },
  "language_info": {
   "codemirror_mode": {
    "name": "ipython",
    "version": 3
   },
   "file_extension": ".py",
   "mimetype": "text/x-python",
   "name": "python",
   "nbconvert_exporter": "python",
   "pygments_lexer": "ipython3",
   "version": "3.11.5"
  }
 },
 "nbformat": 4,
 "nbformat_minor": 5
}
