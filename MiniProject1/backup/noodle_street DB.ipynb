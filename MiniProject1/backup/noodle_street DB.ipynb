{
 "cells": [
  {
   "cell_type": "code",
   "execution_count": 5,
   "id": "2b27390c",
   "metadata": {},
   "outputs": [],
   "source": [
    "from selenium.webdriver.support.ui import WebDriverWait\n",
    "from selenium import webdriver\n",
    "from selenium.webdriver.common.by import By\n",
    "from bs4 import BeautifulSoup\n",
    "from urllib.request import urlopen\n",
    "from selenium.webdriver.common.keys import Keys\n",
    "import time\n",
    "from urllib.parse import urlparse, parse_qs\n",
    "from selenium.webdriver.support import expected_conditions as EC\n",
    "from selenium.common.exceptions import NoSuchElementException,StaleElementReferenceException\n",
    "import sqlite3\n",
    "import os"
   ]
  },
  {
   "cell_type": "code",
   "execution_count": 14,
   "id": "8c39241b",
   "metadata": {},
   "outputs": [],
   "source": [
    "conn = sqlite3.connect('C:/Users/ITSC/Desktop/Project/MiniProject1/noodle_street/web/db.sqlite3')\n",
    "cur = conn.cursor()"
   ]
  },
  {
   "cell_type": "code",
   "execution_count": null,
   "id": "d6350fdd",
   "metadata": {},
   "outputs": [],
   "source": []
  },
  {
   "cell_type": "code",
   "execution_count": 6,
   "id": "7c346fd7",
   "metadata": {},
   "outputs": [],
   "source": [
    "example_data = [\n",
    "    ('john_doe', 'John', 'Doe', 'john@example.com', 'password123', 0, 1, 0, None, date.today(), '1990-01-01', 'users/profile/default.jpg'),\n",
    "    ('jane_smith', 'Jane', 'Smith', 'jane@example.com', 'password456', 0, 1, 0, None, date.today(), '1985-05-15', 'users/profile/default.jpg')\n",
    "]"
   ]
  },
  {
   "cell_type": "code",
   "execution_count": 11,
   "id": "beba768a",
   "metadata": {},
   "outputs": [],
   "source": [
    "insert_query = \"\"\"\n",
    "INSERT INTO users_user (username, first_name, last_name, email, password, is_staff, is_active, is_superuser, last_login, date_joined, birthday, profile_image)\n",
    "VALUES (?, ?, ?, ?, ?, ?, ?, ?, ?, ?, ?, ?);\n",
    "\"\"\""
   ]
  },
  {
   "cell_type": "code",
   "execution_count": 12,
   "id": "691e51c4",
   "metadata": {},
   "outputs": [],
   "source": [
    "for data in example_data:\n",
    "    cur.execute(insert_query, data)"
   ]
  },
  {
   "cell_type": "code",
   "execution_count": null,
   "id": "e4aa8d91",
   "metadata": {},
   "outputs": [],
   "source": []
  },
  {
   "cell_type": "code",
   "execution_count": 9,
   "id": "4091d5b1",
   "metadata": {},
   "outputs": [],
   "source": [
    "# 영업시간 가져오는 함수\n",
    "def hours_raw(url):\n",
    "#     driver = webdriver.Chrome()\n",
    "#     driver.get(url)\n",
    "\n",
    "#     plus = driver.find_element(By.CSS_SELECTOR, \"div.busi-hours > p.r > a\")\n",
    "#     plus.click()\n",
    "#     driver.implicitly_wait(3)\n",
    "\n",
    "    soup = BeautifulSoup(driver.page_source, \"lxml\")\n",
    "\n",
    "    busihours = soup.select(\"div.busi-hours ul.list\")[0].text.strip().split(\"\\n\")\n",
    "    busitoday = soup.select(\"div.busi-hours-today ul.list\")[0].text.strip().split(\"\\n\")\n",
    "    \n",
    "    \n",
    "    hours = [i.strip() for i in busihours + busitoday if i != \"\"]\n",
    "    \n",
    "    weekdays = [\"월\", \"화\", \"수\", \"목\", \"금\", \"토\", \"일\"]\n",
    "    \n",
    "    busi_hours = []\n",
    "    \n",
    "    for i in range(len(hours)):\n",
    "        if any(char in hours[i] for char in weekdays) and hours[i] != \"휴무일\":\n",
    "            busi_hours.append(hours[i])\n",
    "\n",
    "            try:\n",
    "                if \"확인 필요\" in hours[i+1]:\n",
    "                    busi_hours.append(hours[i+1])\n",
    "\n",
    "                elif \"휴무일\" in hours[i+1]:\n",
    "                    busi_hours.append(hours[i+1])\n",
    "\n",
    "                elif \"영업시간\" in hours[i+1]:\n",
    "                    busi_hours.append(hours[i+1])\n",
    "\n",
    "            except IndexError:\n",
    "                busi_hours.append(\"\")                    \n",
    "                    \n",
    "\n",
    "            try:\n",
    "                if \"브레이크타임\" in hours[i+2]:\n",
    "                    busi_hours.append(hours[i+2])\n",
    "\n",
    "                    \n",
    "                    try:\n",
    "                        if \"라스트오더\" in hours[i+3]:\n",
    "                            busi_hours.append(hours[i+3])\n",
    "\n",
    "                        else:\n",
    "                            busi_hours.append(\"\") \n",
    "\n",
    "                    except IndexError:\n",
    "                        busi_hours.append(\"\")\n",
    "                    \n",
    "                elif \"라스트오더\" in hours[i+2]:\n",
    "                    busi_hours.append(\"\")\n",
    "                    busi_hours.append(hours[i+2])\n",
    "\n",
    "                else:\n",
    "                    busi_hours.append(\"\")\n",
    "                    busi_hours.append(\"\")\n",
    "\n",
    "            except IndexError:\n",
    "                busi_hours.append(\"\")    \n",
    "                busi_hours.append(\"\")\n",
    "\n",
    "    return busi_hours"
   ]
  },
  {
   "cell_type": "code",
   "execution_count": 12,
   "id": "e352ae04",
   "metadata": {},
   "outputs": [],
   "source": [
    "# 나머지 가게 상세정보들 찾는 함수\n",
    "def get_restaurant_info(driver, link):\n",
    "    # 요소를 다시 찾기 위해 페이지를 다시로드\n",
    "    driver.get(link)\n",
    "    driver.implicitly_wait(3)\n",
    "\n",
    "    # 영업시간 더보기 누르기\n",
    "    plus = driver.find_element(By.CSS_SELECTOR, \"a.more-btn\")\n",
    "    plus.click()\n",
    "    driver.implicitly_wait(3)\n",
    "\n",
    "    # 가게 정보를 담을 리스트 초기화\n",
    "    restaurant_info = []\n",
    "\n",
    "    # 현재 상세정보 가게 url\n",
    "    now_url = driver.current_url\n",
    "    restaurant_info.append(now_url)\n",
    "    \n",
    "    # 가게이름 찾기\n",
    "    name = driver.find_element(By.CSS_SELECTOR, \"h1.tit\")\n",
    "    restaurant_info.append(name.text)\n",
    "\n",
    "    # 평점 찾기\n",
    "    try:\n",
    "        rating = driver.find_element(By.CSS_SELECTOR, \"span.point\")\n",
    "        restaurant_info.append(rating.text)\n",
    "    except NoSuchElementException:\n",
    "        restaurant_info.append(\"\")\n",
    "\n",
    "    # 주소찾기(주소가 서울시00구00역과 숫자로 나뉘어 져있어 합침)\n",
    "    addr1 = driver.find_elements(By.CSS_SELECTOR, \"li.locat > a\")\n",
    "    addr2 = driver.find_element(By.CSS_SELECTOR, \"li.locat > span\").text\n",
    "    addr3 = driver.find_elements(By.CSS_SELECTOR, \"li.locat > a\")[1]\n",
    "    restaurant_info.append(\" \".join([addr.text for addr in addr1]) + addr2)\n",
    "    restaurant_info.append(addr3.text)\n",
    "\n",
    "    # 가게 전화번호 찾기\n",
    "    try:\n",
    "        tel = driver.find_element(By.CSS_SELECTOR, \"li.tel\")\n",
    "        restaurant_info.append(tel.text)\n",
    "    except NoSuchElementException:\n",
    "        restaurant_info.append(\"\")\n",
    "\n",
    "    # 주차가능 여부\n",
    "    try:\n",
    "        parking = driver.find_element(By.CSS_SELECTOR, \"li.char\")\n",
    "        restaurant_info.append(parking.text)\n",
    "    except NoSuchElementException:\n",
    "        restaurant_info.append(\"\")\n",
    "\n",
    "    # 영업시간 가져오기\n",
    "    restaurant_info.extend(hours_raw(link))\n",
    "\n",
    "    # 이미지 url 찾기\n",
    "    try:\n",
    "        img = driver.find_element(By.CSS_SELECTOR, \"div.btn-gallery-open>img\")\n",
    "        restaurant_info.append(img.get_attribute(\"src\"))\n",
    "    except NoSuchElementException:\n",
    "        restaurant_info.append(\"\")\n",
    "\n",
    "    return restaurant_info"
   ]
  },
  {
   "cell_type": "code",
   "execution_count": 13,
   "id": "1ba2762d",
   "metadata": {},
   "outputs": [
    {
     "name": "stdout",
     "output_type": "stream",
     "text": [
      "가게 1 정보:\n",
      "['https://www.diningcode.com/profile.php?rid=iPzsbyCGBKoM', '항아리엄마손팥해물칼국수', '4 (1명의 평가)', '서울특별시 강북구 미아동217-1', '강북구', '02-988-7979', '노포, 좌식테이블', '02.17 (토)', '확인 필요', '', '', '02.18 (일)', '확인 필요', '', '', '02.19 (월)', '확인 필요', '', '', '02.20 (화)', '확인 필요', '', '', '02.21 (수)', '확인 필요', '', '', '02.22 (목)', '확인 필요', '', '', '[오늘] 02.16 (금)', '영업시간 확인 필요', '', '', 'https://d12zq4w4guyljn.cloudfront.net/750_750_20220117035017_photo1_f7c1425b9393.jpg']\n",
      "\n",
      "\n"
     ]
    }
   ],
   "source": [
    "driver = webdriver.Chrome()\n",
    "driver.implicitly_wait(5)\n",
    "url = \"https://www.diningcode.com/list.dc?query=%EC%84%9C%EC%9A%B8%20%EB%A9%B4%EC%9A%94%EB%A6%AC&addr=%EC%84%9C%EC%9A%B8%20%EA%B0%95%EB%B6%81%EA%B5%AC%20%2B%EC%88%98%EC%9C%A0%EC%8B%9C%EC%9E%A5\"\n",
    "driver.get(url)\n",
    "\n",
    "# 로딩 대기 시간을 설정 \n",
    "driver.implicitly_wait(3)\n",
    "\n",
    "data = driver.find_element(By.ID, \"arrow\")\n",
    "data.click()\n",
    "driver.implicitly_wait(3)\n",
    "\n",
    "# end 키 6번 클릭 후 1.5초 기다림\n",
    "for i in range(6):\n",
    "    data.send_keys(Keys.END)\n",
    "    time.sleep(1.5)\n",
    "\n",
    "# 'a.sc-ilxdoh' 요소 찾아서 리스트에 담기\n",
    "e = driver.find_elements(By.XPATH, '//div[@class=\"sc-gYrpUN eJNRnf Poi__List__Wrap\"]/a')\n",
    "link_list = [i.get_attribute('href') for i in e[0:1]]\n",
    "\n",
    "# 각 가게 정보를 담을 리스트 초기화\n",
    "restaurant_info_list = []\n",
    "\n",
    "# 결과 출력\n",
    "for i, link in enumerate(link_list):\n",
    "    restaurant_info = get_restaurant_info(driver, link)\n",
    "    restaurant_info_list.append(restaurant_info)\n",
    "\n",
    "# 각 가게 정보를 출력\n",
    "for i, restaurant_info in enumerate(restaurant_info_list):\n",
    "    print(f\"가게 {i + 1} 정보:\")\n",
    "    print(restaurant_info)\n",
    "    print(\"\\n\")"
   ]
  },
  {
   "cell_type": "code",
   "execution_count": 53,
   "id": "13d468d9",
   "metadata": {},
   "outputs": [
    {
     "data": {
      "text/plain": [
       "'https://d12zq4w4guyljn.cloudfront.net/750_750_20220117035017_photo1_f7c1425b9393.jpg'"
      ]
     },
     "execution_count": 53,
     "metadata": {},
     "output_type": "execute_result"
    }
   ],
   "source": [
    "restaurant_info[35]"
   ]
  },
  {
   "cell_type": "code",
   "execution_count": 52,
   "id": "2932f9d4",
   "metadata": {},
   "outputs": [
    {
     "data": {
      "text/plain": [
       "36"
      ]
     },
     "execution_count": 52,
     "metadata": {},
     "output_type": "execute_result"
    }
   ],
   "source": [
    "len(restaurant_info)"
   ]
  },
  {
   "cell_type": "code",
   "execution_count": null,
   "id": "1cd82c86",
   "metadata": {},
   "outputs": [],
   "source": [
    "if \"주차\" in restaurant_info[6]:\n",
    "    "
   ]
  },
  {
   "cell_type": "code",
   "execution_count": null,
   "id": "62b592ae",
   "metadata": {},
   "outputs": [],
   "source": []
  },
  {
   "cell_type": "code",
   "execution_count": 27,
   "id": "df32834e",
   "metadata": {},
   "outputs": [],
   "source": [
    "# 음식점 정보를 db에 입력하는 함수 (커서 지정이 포함되어 있음!)\n",
    "\n",
    "def restaurantinsert(restaurant_info):\n",
    "    conn = sqlite3.connect('C:/Users/ITSC/Desktop/Project/MiniProject1/noodle_street/web/db.sqlite3')\n",
    "    cur = conn.cursor()\n",
    "    \n",
    "    data = [\"\" for _ in range(44)]\n",
    "    insert_query = \"\"\"\n",
    "    INSERT INTO users_user (\n",
    "    'name', 'address', 'address_gu', 'phone_no', 'parking', 'rating', 'rating_count', \n",
    "    'fri_break_end', 'fri_break_start', 'fri_end', 'fri_last_order', 'fri_start', \n",
    "    'mon_break_end', 'mon_break_start', 'mon_end', 'mon_last_order', 'mon_start', \n",
    "    'sat_break_end', 'sat_break_start', 'sat_end', 'sat_last_order', 'sat_start', \n",
    "    'sun_break_end', 'sun_break_start', 'sun_end', 'sun_last_order', 'sun_start', \n",
    "    'thu_break_end', 'thu_break_start', 'thu_end', 'thu_last_order', 'thu_start', \n",
    "    'tue_break_end', 'tue_break_start', 'tue_end', 'tue_last_order', 'tue_start', \n",
    "    'wed_break_end', 'wed_break_start', 'wed_end', 'wed_last_order', 'wed_start', \n",
    "    'url', 'image'\n",
    "    )\n",
    "    VALUES (?, ?, ?, ?, ?, ?, ?, ?, ?, ?, ?, ?, ?, ?, ?, ?, ?, ?, ?, ?, ?, ?, ?, ?, ?, ?, ?, ?, ?, ?, ?, ?, ?, ?, ?, ?, ?, ?, ?, ?, ?, ?, ?, ?, ?, );\n",
    "    \"\"\"\n",
    "\n",
    "    data[0] = restaurant_info[1] # name 값 지정\n",
    "    data[1] = restaurant_info[3] # address 값 지정\n",
    "    data[2] = restaurant_info[4] # address_gu 값 지정\n",
    "    data[3] = restaurant_info[5] # phone_no 값 지정\n",
    "\n",
    "    # parking 값 지정\n",
    "    if \"주차\" in restaurant_info[6]:\n",
    "        data[4] = 1\n",
    "\n",
    "    else:\n",
    "        data[4] = 0\n",
    "            \n",
    "    data[5] = restaurant_info[2].split(\" \")[0] # rating 값 지정\n",
    "    data[6] = restaurant_info[2].split(\" \")[1][1:].replace(\"명의\", \"\") # rating_count 값 지정\n",
    "    \n",
    "    data[7] =  # fri_break_end 값 지정\n",
    "    data[8] =  # fri_break_start 값 지정\n",
    "    data[9] =  # fri_end 값 지정\n",
    "    data[10] =  # fri_last_order 값 지정\n",
    "    data[11] =  # fri_start 값 지정\n",
    "    \n",
    "    data[12] =  # mon_break_end 값 지정\n",
    "    data[13] =  # mon_break_start 값 지정\n",
    "    data[14] =  # mon_end 값 지정\n",
    "    data[15] =  # mon_last_order 값 지정\n",
    "    data[16] =  # mon_start 값 지정\n",
    "    \n",
    "    data[17] =  # sat_break_end 값 지정\n",
    "    data[18] =  # sat_break_start 값 지정\n",
    "    data[19] =  # sat_end 값 지정\n",
    "    data[20] =  # sat_last_order 값 지정\n",
    "    data[21] =  # sat_start 값 지정\n",
    "    \n",
    "    data[22] =  # sun_break_end 값 지정\n",
    "    data[23] =  # sun_break_start 값 지정\n",
    "    data[24] =  # sun_end 값 지정\n",
    "    data[25] =  # sun_last_order 값 지정\n",
    "    data[26] =  # sun_start 값 지정\n",
    "    \n",
    "    data[27] =  # thu_break_end 값 지정\n",
    "    data[28] =  # thu_break_start 값 지정\n",
    "    data[29] =  # thu_end 값 지정\n",
    "    data[30] =  # thu_last_order 값 지정\n",
    "    data[31] =  # thu_start 값 지정\n",
    "    \n",
    "    data[32] =  # tue_break_end 값 지정\n",
    "    data[33] =  # tue_break_start 값 지정\n",
    "    data[34] =  # tue_end 값 지정\n",
    "    data[35] =  # tue_last_order 값 지정\n",
    "    data[36] =  # tue_start 값 지정\n",
    "    \n",
    "    data[37] =  # wed_break_end 값 지정\n",
    "    data[38] =  # wed_break_start 값 지정\n",
    "    data[39] =  # wed_end 값 지정\n",
    "    data[40] =  # wed_last_order 값 지정\n",
    "    data[41] =  # wed_start 값 지정\n",
    "    \n",
    "    data[42] = restaurant_info[0] # url 값 지정\n",
    "    data[43] = restaurant_info[35] # image 값 지정\n",
    "\n",
    "    cur.execute(insert_query, data)\n",
    "    \n",
    "    cur.close()\n",
    "    conn.close()"
   ]
  },
  {
   "cell_type": "code",
   "execution_count": null,
   "id": "397e39d7",
   "metadata": {},
   "outputs": [],
   "source": []
  },
  {
   "cell_type": "code",
   "execution_count": 25,
   "id": "5aee622b",
   "metadata": {},
   "outputs": [],
   "source": [
    "data = [\"\" for _ in range(45)]"
   ]
  },
  {
   "cell_type": "code",
   "execution_count": 26,
   "id": "06febf12",
   "metadata": {},
   "outputs": [
    {
     "name": "stdout",
     "output_type": "stream",
     "text": [
      "['', '', '', '', '', '', '', '', '', '', '', '', '', '', '', '', '', '', '', '', '', '', '', '', '', '', '', '', '', '', '', '', '', '', '', '', '', '', '', '', '', '', '', '', '']\n"
     ]
    }
   ],
   "source": [
    "print(data)"
   ]
  },
  {
   "cell_type": "code",
   "execution_count": null,
   "id": "15af7187",
   "metadata": {},
   "outputs": [],
   "source": []
  },
  {
   "cell_type": "code",
   "execution_count": null,
   "id": "a6410c90",
   "metadata": {},
   "outputs": [],
   "source": []
  },
  {
   "cell_type": "code",
   "execution_count": null,
   "id": "7c29cbbc",
   "metadata": {},
   "outputs": [],
   "source": []
  },
  {
   "cell_type": "code",
   "execution_count": null,
   "id": "5fc5ab20",
   "metadata": {},
   "outputs": [],
   "source": []
  },
  {
   "cell_type": "code",
   "execution_count": null,
   "id": "ff25334b",
   "metadata": {},
   "outputs": [],
   "source": []
  },
  {
   "cell_type": "code",
   "execution_count": null,
   "id": "17eedec9",
   "metadata": {},
   "outputs": [],
   "source": []
  },
  {
   "cell_type": "code",
   "execution_count": null,
   "id": "8c1be754",
   "metadata": {},
   "outputs": [],
   "source": []
  },
  {
   "cell_type": "code",
   "execution_count": null,
   "id": "cc24fbef",
   "metadata": {},
   "outputs": [],
   "source": []
  },
  {
   "cell_type": "code",
   "execution_count": null,
   "id": "bac81b04",
   "metadata": {},
   "outputs": [],
   "source": []
  },
  {
   "cell_type": "code",
   "execution_count": null,
   "id": "487b0b07",
   "metadata": {},
   "outputs": [],
   "source": []
  },
  {
   "cell_type": "code",
   "execution_count": null,
   "id": "18b58f3f",
   "metadata": {},
   "outputs": [],
   "source": []
  },
  {
   "cell_type": "code",
   "execution_count": null,
   "id": "c337fc2d",
   "metadata": {},
   "outputs": [],
   "source": []
  },
  {
   "cell_type": "code",
   "execution_count": null,
   "id": "e4b6ed99",
   "metadata": {},
   "outputs": [],
   "source": []
  },
  {
   "cell_type": "code",
   "execution_count": null,
   "id": "63f29856",
   "metadata": {},
   "outputs": [],
   "source": []
  },
  {
   "cell_type": "code",
   "execution_count": null,
   "id": "096492bd",
   "metadata": {},
   "outputs": [],
   "source": []
  },
  {
   "cell_type": "code",
   "execution_count": null,
   "id": "06da757c",
   "metadata": {},
   "outputs": [],
   "source": []
  },
  {
   "cell_type": "code",
   "execution_count": null,
   "id": "6b1b08df",
   "metadata": {},
   "outputs": [],
   "source": []
  },
  {
   "cell_type": "code",
   "execution_count": 18,
   "id": "a97c8ad6",
   "metadata": {},
   "outputs": [],
   "source": [
    "conn.commit()\n",
    "cur.close()\n",
    "conn.close()"
   ]
  },
  {
   "cell_type": "code",
   "execution_count": null,
   "id": "043a705c",
   "metadata": {},
   "outputs": [],
   "source": []
  },
  {
   "cell_type": "code",
   "execution_count": null,
   "id": "e4f3d5d2",
   "metadata": {},
   "outputs": [],
   "source": []
  },
  {
   "cell_type": "code",
   "execution_count": null,
   "id": "edb5896b",
   "metadata": {},
   "outputs": [],
   "source": []
  },
  {
   "cell_type": "code",
   "execution_count": null,
   "id": "64a81b86",
   "metadata": {},
   "outputs": [],
   "source": []
  },
  {
   "cell_type": "code",
   "execution_count": null,
   "id": "609472e7",
   "metadata": {},
   "outputs": [],
   "source": []
  },
  {
   "cell_type": "code",
   "execution_count": null,
   "id": "874126d8",
   "metadata": {},
   "outputs": [],
   "source": []
  },
  {
   "cell_type": "code",
   "execution_count": null,
   "id": "f793a655",
   "metadata": {},
   "outputs": [],
   "source": []
  },
  {
   "cell_type": "code",
   "execution_count": null,
   "id": "3d525727",
   "metadata": {},
   "outputs": [],
   "source": []
  },
  {
   "cell_type": "code",
   "execution_count": null,
   "id": "6460c2eb",
   "metadata": {},
   "outputs": [],
   "source": []
  },
  {
   "cell_type": "code",
   "execution_count": null,
   "id": "b8e17bf2",
   "metadata": {},
   "outputs": [],
   "source": []
  },
  {
   "cell_type": "code",
   "execution_count": null,
   "id": "fb43f149",
   "metadata": {},
   "outputs": [],
   "source": []
  },
  {
   "cell_type": "code",
   "execution_count": null,
   "id": "b046e491",
   "metadata": {},
   "outputs": [],
   "source": []
  },
  {
   "cell_type": "code",
   "execution_count": null,
   "id": "f9db5b4e",
   "metadata": {},
   "outputs": [],
   "source": []
  },
  {
   "cell_type": "code",
   "execution_count": null,
   "id": "a3b1b2d0",
   "metadata": {},
   "outputs": [],
   "source": []
  },
  {
   "cell_type": "code",
   "execution_count": null,
   "id": "e898533e",
   "metadata": {},
   "outputs": [],
   "source": []
  },
  {
   "cell_type": "code",
   "execution_count": null,
   "id": "7e5fda54",
   "metadata": {},
   "outputs": [],
   "source": []
  },
  {
   "cell_type": "code",
   "execution_count": null,
   "id": "20caeccc",
   "metadata": {},
   "outputs": [],
   "source": []
  },
  {
   "cell_type": "code",
   "execution_count": null,
   "id": "4cae01c6",
   "metadata": {},
   "outputs": [],
   "source": []
  },
  {
   "cell_type": "code",
   "execution_count": null,
   "id": "1f4ace9a",
   "metadata": {},
   "outputs": [],
   "source": []
  },
  {
   "cell_type": "code",
   "execution_count": null,
   "id": "0525458d",
   "metadata": {},
   "outputs": [],
   "source": []
  },
  {
   "cell_type": "code",
   "execution_count": null,
   "id": "79e409d2",
   "metadata": {},
   "outputs": [],
   "source": []
  },
  {
   "cell_type": "code",
   "execution_count": null,
   "id": "9ab1d7b0",
   "metadata": {},
   "outputs": [],
   "source": []
  },
  {
   "cell_type": "code",
   "execution_count": null,
   "id": "55bd5754",
   "metadata": {},
   "outputs": [],
   "source": []
  }
 ],
 "metadata": {
  "kernelspec": {
   "display_name": "Python 3 (ipykernel)",
   "language": "python",
   "name": "python3"
  },
  "language_info": {
   "codemirror_mode": {
    "name": "ipython",
    "version": 3
   },
   "file_extension": ".py",
   "mimetype": "text/x-python",
   "name": "python",
   "nbconvert_exporter": "python",
   "pygments_lexer": "ipython3",
   "version": "3.11.5"
  }
 },
 "nbformat": 4,
 "nbformat_minor": 5
}
