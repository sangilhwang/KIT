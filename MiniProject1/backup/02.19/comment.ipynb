{
 "cells": [
  {
   "cell_type": "code",
   "execution_count": 1,
   "id": "963463e6",
   "metadata": {},
   "outputs": [],
   "source": [
    "import sqlite3"
   ]
  },
  {
   "cell_type": "code",
   "execution_count": 11,
   "id": "e5e32646",
   "metadata": {},
   "outputs": [],
   "source": [
    "insert_query = \"\"\"INSERT INTO single_pages_restrauntreview('restraunt_pk_id', 'user_pk_id', 'comment') VALUES(?, ?, ?)\"\"\"\n",
    "data = (734, 1, \"테스트 리뷰\")"
   ]
  },
  {
   "cell_type": "code",
   "execution_count": 17,
   "id": "868906c3",
   "metadata": {},
   "outputs": [],
   "source": [
    "conn = sqlite3.connect(\"C:/Users\\ITSC/Desktop/Project/MiniProject1/noodle_street/web/db.sqlite3\")\n",
    "cur = conn.cursor()\n",
    "cur.execute(insert_query, data)\n",
    "cur.close()\n",
    "conn.commit()\n",
    "conn.close()"
   ]
  },
  {
   "cell_type": "code",
   "execution_count": null,
   "id": "59066b94",
   "metadata": {},
   "outputs": [],
   "source": []
  }
 ],
 "metadata": {
  "kernelspec": {
   "display_name": "Python 3 (ipykernel)",
   "language": "python",
   "name": "python3"
  },
  "language_info": {
   "codemirror_mode": {
    "name": "ipython",
    "version": 3
   },
   "file_extension": ".py",
   "mimetype": "text/x-python",
   "name": "python",
   "nbconvert_exporter": "python",
   "pygments_lexer": "ipython3",
   "version": "3.11.5"
  }
 },
 "nbformat": 4,
 "nbformat_minor": 5
}
