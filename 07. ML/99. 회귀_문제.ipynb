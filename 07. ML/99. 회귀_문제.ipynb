{
 "cells": [
  {
   "cell_type": "markdown",
   "metadata": {},
   "source": [
    "# 선형회귀"
   ]
  },
  {
   "cell_type": "markdown",
   "metadata": {},
   "source": [
    "현대 중공업과 계약을 맺어 일부 선박에 대한 예측 모델을 구축하게됐습니다. 현대 중공업은 세계 최대의 선박 제조업체 중 하나로 유람선을 제작하고 있습니다.\n",
    "당신은 선박에 필요한 선원 수를 정확하게 예측할 수 있도록 울산에있는 본사에 도착했습니다.\n",
    "그들은 현재 새로운 선박을 건조하고 있으며 예측 모델을 만들고, 이를 사용하여 선박에 필요한 승무원 수를 예측하기를 원합니다.\n",
    "\n",
    "지금까지의 데이터는 다음과 같습니다.\n",
    "\n",
    "    Description: Measurements of ship size, capacity, crew, and age for 158 cruise\n",
    "    ships.\n",
    "\n",
    "\n",
    "    Variables/Columns\n",
    "    Ship Name     1-20\n",
    "    Cruise Line   21-40\n",
    "    Age (as of 2013)   46-48\n",
    "    Tonnage (1000s of tons)   50-56\n",
    "    passengers (100s)   58-64\n",
    "    Length (100s of feet)  66-72\n",
    "    Cabins  (100s)   74-80\n",
    "    Passenger Density   82-88\n",
    "    Crew  (100s)   90-96\n",
    "    \n",
    "위 데이터는 \"cruise_ship_info.csv\"라는 csv 파일에 저장됩니다. 귀하의 임무는 향후 선박에 필요한 선원 수를 예측하는 데 도움이되는 회귀 모델을 만드는 것입니다. 고객은 또한 특정 크루즈 라인이 허용되는 승무원 수에 차이가 있음을 발견 했으므로 분석에 포함하는 것이 가장 중요한 기능이라고 언급했습니다!"
   ]
  },
  {
   "cell_type": "code",
   "execution_count": 1,
   "metadata": {},
   "outputs": [],
   "source": [
    "import pandas as pd\n",
    "import numpy as np\n",
    "from sklearn.preprocessing import RobustScaler, StandardScaler\n",
    "from sklearn.linear_model import LogisticRegression\n",
    "from sklearn.model_selection import train_test_split\n",
    "from imblearn.under_sampling import RandomUnderSampler\n",
    "from sklearn.linear_model import LinearRegression, Ridge, Lasso, ElasticNet\n",
    "import statsmodels.api as sm\n",
    "import seaborn as sns\n",
    "import matplotlib.pyplot as plt\n",
    "from statsmodels.stats.outliers_influence import variance_inflation_factor\n",
    "from sklearn.metrics import mean_squared_error"
   ]
  },
  {
   "cell_type": "code",
   "execution_count": 2,
   "metadata": {},
   "outputs": [
    {
     "data": {
      "text/html": [
       "<div>\n",
       "<style scoped>\n",
       "    .dataframe tbody tr th:only-of-type {\n",
       "        vertical-align: middle;\n",
       "    }\n",
       "\n",
       "    .dataframe tbody tr th {\n",
       "        vertical-align: top;\n",
       "    }\n",
       "\n",
       "    .dataframe thead th {\n",
       "        text-align: right;\n",
       "    }\n",
       "</style>\n",
       "<table border=\"1\" class=\"dataframe\">\n",
       "  <thead>\n",
       "    <tr style=\"text-align: right;\">\n",
       "      <th></th>\n",
       "      <th>Ship_name</th>\n",
       "      <th>Cruise_line</th>\n",
       "      <th>Age</th>\n",
       "      <th>Tonnage</th>\n",
       "      <th>passengers</th>\n",
       "      <th>length</th>\n",
       "      <th>cabins</th>\n",
       "      <th>passenger_density</th>\n",
       "      <th>crew</th>\n",
       "    </tr>\n",
       "  </thead>\n",
       "  <tbody>\n",
       "    <tr>\n",
       "      <th>0</th>\n",
       "      <td>Journey</td>\n",
       "      <td>Azamara</td>\n",
       "      <td>6</td>\n",
       "      <td>30.277</td>\n",
       "      <td>6.94</td>\n",
       "      <td>5.94</td>\n",
       "      <td>3.55</td>\n",
       "      <td>42.64</td>\n",
       "      <td>NaN</td>\n",
       "    </tr>\n",
       "    <tr>\n",
       "      <th>1</th>\n",
       "      <td>Quest</td>\n",
       "      <td>Azamara</td>\n",
       "      <td>6</td>\n",
       "      <td>30.277</td>\n",
       "      <td>6.94</td>\n",
       "      <td>5.94</td>\n",
       "      <td>3.55</td>\n",
       "      <td>42.64</td>\n",
       "      <td>3.55</td>\n",
       "    </tr>\n",
       "    <tr>\n",
       "      <th>2</th>\n",
       "      <td>Celebration</td>\n",
       "      <td>Carnival</td>\n",
       "      <td>26</td>\n",
       "      <td>47.262</td>\n",
       "      <td>14.86</td>\n",
       "      <td>7.22</td>\n",
       "      <td>7.43</td>\n",
       "      <td>31.80</td>\n",
       "      <td>NaN</td>\n",
       "    </tr>\n",
       "    <tr>\n",
       "      <th>3</th>\n",
       "      <td>Conquest</td>\n",
       "      <td>Carnival</td>\n",
       "      <td>11</td>\n",
       "      <td>110.000</td>\n",
       "      <td>29.74</td>\n",
       "      <td>9.53</td>\n",
       "      <td>14.88</td>\n",
       "      <td>36.99</td>\n",
       "      <td>19.10</td>\n",
       "    </tr>\n",
       "    <tr>\n",
       "      <th>4</th>\n",
       "      <td>Destiny</td>\n",
       "      <td>Carnival</td>\n",
       "      <td>17</td>\n",
       "      <td>101.353</td>\n",
       "      <td>26.42</td>\n",
       "      <td>8.92</td>\n",
       "      <td>13.21</td>\n",
       "      <td>38.36</td>\n",
       "      <td>10.00</td>\n",
       "    </tr>\n",
       "  </tbody>\n",
       "</table>\n",
       "</div>"
      ],
      "text/plain": [
       "     Ship_name Cruise_line  Age  Tonnage  passengers  length  cabins  \\\n",
       "0      Journey     Azamara    6   30.277        6.94    5.94    3.55   \n",
       "1        Quest     Azamara    6   30.277        6.94    5.94    3.55   \n",
       "2  Celebration    Carnival   26   47.262       14.86    7.22    7.43   \n",
       "3     Conquest    Carnival   11  110.000       29.74    9.53   14.88   \n",
       "4      Destiny    Carnival   17  101.353       26.42    8.92   13.21   \n",
       "\n",
       "   passenger_density   crew  \n",
       "0              42.64    NaN  \n",
       "1              42.64   3.55  \n",
       "2              31.80    NaN  \n",
       "3              36.99  19.10  \n",
       "4              38.36  10.00  "
      ]
     },
     "execution_count": 2,
     "metadata": {},
     "output_type": "execute_result"
    }
   ],
   "source": [
    "df = pd.read_csv(\"./data/cruise_ship_info_example.csv\").iloc[:, 1:]\n",
    "df.head()"
   ]
  },
  {
   "cell_type": "code",
   "execution_count": 3,
   "metadata": {},
   "outputs": [],
   "source": [
    "ndf = df[df[\"crew\"].isna() == False].reset_index(drop = True)"
   ]
  },
  {
   "cell_type": "code",
   "execution_count": 4,
   "metadata": {},
   "outputs": [],
   "source": [
    "ndf = ndf[ndf[\"Cruise_line\"].isin([\"Crystal\", \"Oceania\", \"Orient\", \"P&O\", \"Windstar\"]) == False]"
   ]
  },
  {
   "cell_type": "code",
   "execution_count": 5,
   "metadata": {},
   "outputs": [],
   "source": [
    "ndf = ndf.drop(ndf[\"crew\"].idxmax()).reset_index(drop = True)"
   ]
  },
  {
   "cell_type": "code",
   "execution_count": 6,
   "metadata": {},
   "outputs": [],
   "source": [
    "ndf_line = ndf[\"Cruise_line\"]"
   ]
  },
  {
   "cell_type": "code",
   "execution_count": 7,
   "metadata": {},
   "outputs": [],
   "source": [
    "y = ndf[\"crew\"]"
   ]
  },
  {
   "cell_type": "code",
   "execution_count": 8,
   "metadata": {},
   "outputs": [],
   "source": [
    "ndf = ndf.iloc[:, 2:-1]"
   ]
  },
  {
   "cell_type": "code",
   "execution_count": 9,
   "metadata": {},
   "outputs": [
    {
     "data": {
      "text/html": [
       "<div>\n",
       "<style scoped>\n",
       "    .dataframe tbody tr th:only-of-type {\n",
       "        vertical-align: middle;\n",
       "    }\n",
       "\n",
       "    .dataframe tbody tr th {\n",
       "        vertical-align: top;\n",
       "    }\n",
       "\n",
       "    .dataframe thead th {\n",
       "        text-align: right;\n",
       "    }\n",
       "</style>\n",
       "<table border=\"1\" class=\"dataframe\">\n",
       "  <thead>\n",
       "    <tr style=\"text-align: right;\">\n",
       "      <th></th>\n",
       "      <th>Age</th>\n",
       "      <th>Tonnage</th>\n",
       "      <th>passengers</th>\n",
       "      <th>length</th>\n",
       "      <th>cabins</th>\n",
       "      <th>passenger_density</th>\n",
       "      <th>crew</th>\n",
       "    </tr>\n",
       "  </thead>\n",
       "  <tbody>\n",
       "    <tr>\n",
       "      <th>Age</th>\n",
       "      <td>1.000000</td>\n",
       "      <td>-0.603655</td>\n",
       "      <td>-0.522550</td>\n",
       "      <td>-0.506521</td>\n",
       "      <td>-0.538381</td>\n",
       "      <td>-0.256638</td>\n",
       "      <td>-0.549574</td>\n",
       "    </tr>\n",
       "    <tr>\n",
       "      <th>Tonnage</th>\n",
       "      <td>-0.603655</td>\n",
       "      <td>1.000000</td>\n",
       "      <td>0.945376</td>\n",
       "      <td>0.931081</td>\n",
       "      <td>0.956573</td>\n",
       "      <td>0.031930</td>\n",
       "      <td>0.946477</td>\n",
       "    </tr>\n",
       "    <tr>\n",
       "      <th>passengers</th>\n",
       "      <td>-0.522550</td>\n",
       "      <td>0.945376</td>\n",
       "      <td>1.000000</td>\n",
       "      <td>0.902300</td>\n",
       "      <td>0.982007</td>\n",
       "      <td>-0.217919</td>\n",
       "      <td>0.926718</td>\n",
       "    </tr>\n",
       "    <tr>\n",
       "      <th>length</th>\n",
       "      <td>-0.506521</td>\n",
       "      <td>0.931081</td>\n",
       "      <td>0.902300</td>\n",
       "      <td>1.000000</td>\n",
       "      <td>0.921220</td>\n",
       "      <td>-0.043696</td>\n",
       "      <td>0.943390</td>\n",
       "    </tr>\n",
       "    <tr>\n",
       "      <th>cabins</th>\n",
       "      <td>-0.538381</td>\n",
       "      <td>0.956573</td>\n",
       "      <td>0.982007</td>\n",
       "      <td>0.921220</td>\n",
       "      <td>1.000000</td>\n",
       "      <td>-0.178752</td>\n",
       "      <td>0.958487</td>\n",
       "    </tr>\n",
       "    <tr>\n",
       "      <th>passenger_density</th>\n",
       "      <td>-0.256638</td>\n",
       "      <td>0.031930</td>\n",
       "      <td>-0.217919</td>\n",
       "      <td>-0.043696</td>\n",
       "      <td>-0.178752</td>\n",
       "      <td>1.000000</td>\n",
       "      <td>-0.088696</td>\n",
       "    </tr>\n",
       "    <tr>\n",
       "      <th>crew</th>\n",
       "      <td>-0.549574</td>\n",
       "      <td>0.946477</td>\n",
       "      <td>0.926718</td>\n",
       "      <td>0.943390</td>\n",
       "      <td>0.958487</td>\n",
       "      <td>-0.088696</td>\n",
       "      <td>1.000000</td>\n",
       "    </tr>\n",
       "  </tbody>\n",
       "</table>\n",
       "</div>"
      ],
      "text/plain": [
       "                        Age   Tonnage  passengers    length    cabins  \\\n",
       "Age                1.000000 -0.603655   -0.522550 -0.506521 -0.538381   \n",
       "Tonnage           -0.603655  1.000000    0.945376  0.931081  0.956573   \n",
       "passengers        -0.522550  0.945376    1.000000  0.902300  0.982007   \n",
       "length            -0.506521  0.931081    0.902300  1.000000  0.921220   \n",
       "cabins            -0.538381  0.956573    0.982007  0.921220  1.000000   \n",
       "passenger_density -0.256638  0.031930   -0.217919 -0.043696 -0.178752   \n",
       "crew              -0.549574  0.946477    0.926718  0.943390  0.958487   \n",
       "\n",
       "                   passenger_density      crew  \n",
       "Age                        -0.256638 -0.549574  \n",
       "Tonnage                     0.031930  0.946477  \n",
       "passengers                 -0.217919  0.926718  \n",
       "length                     -0.043696  0.943390  \n",
       "cabins                     -0.178752  0.958487  \n",
       "passenger_density           1.000000 -0.088696  \n",
       "crew                       -0.088696  1.000000  "
      ]
     },
     "execution_count": 9,
     "metadata": {},
     "output_type": "execute_result"
    }
   ],
   "source": [
    "pd.concat([ndf, y], axis = 1).corr()"
   ]
  },
  {
   "cell_type": "code",
   "execution_count": null,
   "metadata": {},
   "outputs": [],
   "source": []
  },
  {
   "cell_type": "code",
   "execution_count": null,
   "metadata": {},
   "outputs": [],
   "source": []
  },
  {
   "cell_type": "code",
   "execution_count": null,
   "metadata": {},
   "outputs": [],
   "source": []
  },
  {
   "cell_type": "code",
   "execution_count": null,
   "metadata": {},
   "outputs": [],
   "source": []
  },
  {
   "cell_type": "code",
   "execution_count": null,
   "metadata": {},
   "outputs": [],
   "source": []
  },
  {
   "cell_type": "code",
   "execution_count": 10,
   "metadata": {},
   "outputs": [
    {
     "data": {
      "image/png": "[encoded data removed]",
      "text/plain": [
       "<Figure size 1000x600 with 1 Axes>"
      ]
     },
     "metadata": {},
     "output_type": "display_data"
    }
   ],
   "source": [
    "plt.figure(figsize = (10, 6))\n",
    "\n",
    "plt.scatter(ndf[\"passengers\"], y, alpha = 0.5)\n",
    "plt.show()"
   ]
  },
  {
   "cell_type": "code",
   "execution_count": 11,
   "metadata": {},
   "outputs": [],
   "source": [
    "ss = StandardScaler()"
   ]
  },
  {
   "cell_type": "code",
   "execution_count": 12,
   "metadata": {},
   "outputs": [],
   "source": [
    "ndf_ss = pd.DataFrame(ss.fit_transform(ndf), columns = ndf.columns)"
   ]
  },
  {
   "cell_type": "code",
   "execution_count": 13,
   "metadata": {},
   "outputs": [],
   "source": [
    "x = pd.concat([ndf_ss, pd.get_dummies(ndf_line, dtype = \"int64\")], axis = 1)"
   ]
  },
  {
   "cell_type": "code",
   "execution_count": 14,
   "metadata": {},
   "outputs": [
    {
     "data": {
      "text/html": [
       "<div>\n",
       "<style scoped>\n",
       "    .dataframe tbody tr th:only-of-type {\n",
       "        vertical-align: middle;\n",
       "    }\n",
       "\n",
       "    .dataframe tbody tr th {\n",
       "        vertical-align: top;\n",
       "    }\n",
       "\n",
       "    .dataframe thead th {\n",
       "        text-align: right;\n",
       "    }\n",
       "</style>\n",
       "<table border=\"1\" class=\"dataframe\">\n",
       "  <thead>\n",
       "    <tr style=\"text-align: right;\">\n",
       "      <th></th>\n",
       "      <th>Age</th>\n",
       "      <th>Tonnage</th>\n",
       "      <th>passengers</th>\n",
       "      <th>length</th>\n",
       "      <th>cabins</th>\n",
       "      <th>passenger_density</th>\n",
       "      <th>Azamara</th>\n",
       "      <th>Carnival</th>\n",
       "      <th>Celebrity</th>\n",
       "      <th>Costa</th>\n",
       "      <th>...</th>\n",
       "      <th>Disney</th>\n",
       "      <th>Holland_American</th>\n",
       "      <th>MSC</th>\n",
       "      <th>Norwegian</th>\n",
       "      <th>Princess</th>\n",
       "      <th>Regent_Seven_Seas</th>\n",
       "      <th>Royal_Caribbean</th>\n",
       "      <th>Seabourn</th>\n",
       "      <th>Silversea</th>\n",
       "      <th>Star</th>\n",
       "    </tr>\n",
       "  </thead>\n",
       "  <tbody>\n",
       "    <tr>\n",
       "      <th>0</th>\n",
       "      <td>-1.302979</td>\n",
       "      <td>-1.164286</td>\n",
       "      <td>-1.292660</td>\n",
       "      <td>-1.242727</td>\n",
       "      <td>-1.310106</td>\n",
       "      <td>0.383834</td>\n",
       "      <td>1</td>\n",
       "      <td>0</td>\n",
       "      <td>0</td>\n",
       "      <td>0</td>\n",
       "      <td>...</td>\n",
       "      <td>0</td>\n",
       "      <td>0</td>\n",
       "      <td>0</td>\n",
       "      <td>0</td>\n",
       "      <td>0</td>\n",
       "      <td>0</td>\n",
       "      <td>0</td>\n",
       "      <td>0</td>\n",
       "      <td>0</td>\n",
       "      <td>0</td>\n",
       "    </tr>\n",
       "    <tr>\n",
       "      <th>1</th>\n",
       "      <td>0.159866</td>\n",
       "      <td>0.760487</td>\n",
       "      <td>0.794251</td>\n",
       "      <td>0.390072</td>\n",
       "      <td>0.945371</td>\n",
       "      <td>-0.137323</td>\n",
       "      <td>0</td>\n",
       "      <td>1</td>\n",
       "      <td>0</td>\n",
       "      <td>0</td>\n",
       "      <td>...</td>\n",
       "      <td>0</td>\n",
       "      <td>0</td>\n",
       "      <td>0</td>\n",
       "      <td>0</td>\n",
       "      <td>0</td>\n",
       "      <td>0</td>\n",
       "      <td>0</td>\n",
       "      <td>0</td>\n",
       "      <td>0</td>\n",
       "      <td>0</td>\n",
       "    </tr>\n",
       "    <tr>\n",
       "      <th>2</th>\n",
       "      <td>0.824796</td>\n",
       "      <td>-0.078629</td>\n",
       "      <td>0.162178</td>\n",
       "      <td>0.187342</td>\n",
       "      <td>0.242577</td>\n",
       "      <td>-0.632910</td>\n",
       "      <td>0</td>\n",
       "      <td>1</td>\n",
       "      <td>0</td>\n",
       "      <td>0</td>\n",
       "      <td>...</td>\n",
       "      <td>0</td>\n",
       "      <td>0</td>\n",
       "      <td>0</td>\n",
       "      <td>0</td>\n",
       "      <td>0</td>\n",
       "      <td>0</td>\n",
       "      <td>0</td>\n",
       "      <td>0</td>\n",
       "      <td>0</td>\n",
       "      <td>0</td>\n",
       "    </tr>\n",
       "    <tr>\n",
       "      <th>3</th>\n",
       "      <td>-0.106106</td>\n",
       "      <td>-0.078629</td>\n",
       "      <td>0.162178</td>\n",
       "      <td>0.187342</td>\n",
       "      <td>0.242577</td>\n",
       "      <td>-0.632910</td>\n",
       "      <td>0</td>\n",
       "      <td>1</td>\n",
       "      <td>0</td>\n",
       "      <td>0</td>\n",
       "      <td>...</td>\n",
       "      <td>0</td>\n",
       "      <td>0</td>\n",
       "      <td>0</td>\n",
       "      <td>0</td>\n",
       "      <td>0</td>\n",
       "      <td>0</td>\n",
       "      <td>0</td>\n",
       "      <td>0</td>\n",
       "      <td>0</td>\n",
       "      <td>0</td>\n",
       "    </tr>\n",
       "    <tr>\n",
       "      <th>4</th>\n",
       "      <td>0.957782</td>\n",
       "      <td>-0.078629</td>\n",
       "      <td>0.166463</td>\n",
       "      <td>0.187342</td>\n",
       "      <td>0.247247</td>\n",
       "      <td>-0.640216</td>\n",
       "      <td>0</td>\n",
       "      <td>1</td>\n",
       "      <td>0</td>\n",
       "      <td>0</td>\n",
       "      <td>...</td>\n",
       "      <td>0</td>\n",
       "      <td>0</td>\n",
       "      <td>0</td>\n",
       "      <td>0</td>\n",
       "      <td>0</td>\n",
       "      <td>0</td>\n",
       "      <td>0</td>\n",
       "      <td>0</td>\n",
       "      <td>0</td>\n",
       "      <td>0</td>\n",
       "    </tr>\n",
       "  </tbody>\n",
       "</table>\n",
       "<p>5 rows × 21 columns</p>\n",
       "</div>"
      ],
      "text/plain": [
       "        Age   Tonnage  passengers    length    cabins  passenger_density  \\\n",
       "0 -1.302979 -1.164286   -1.292660 -1.242727 -1.310106           0.383834   \n",
       "1  0.159866  0.760487    0.794251  0.390072  0.945371          -0.137323   \n",
       "2  0.824796 -0.078629    0.162178  0.187342  0.242577          -0.632910   \n",
       "3 -0.106106 -0.078629    0.162178  0.187342  0.242577          -0.632910   \n",
       "4  0.957782 -0.078629    0.166463  0.187342  0.247247          -0.640216   \n",
       "\n",
       "   Azamara  Carnival  Celebrity  Costa  ...  Disney  Holland_American  MSC  \\\n",
       "0        1         0          0      0  ...       0                 0    0   \n",
       "1        0         1          0      0  ...       0                 0    0   \n",
       "2        0         1          0      0  ...       0                 0    0   \n",
       "3        0         1          0      0  ...       0                 0    0   \n",
       "4        0         1          0      0  ...       0                 0    0   \n",
       "\n",
       "   Norwegian  Princess  Regent_Seven_Seas  Royal_Caribbean  Seabourn  \\\n",
       "0          0         0                  0                0         0   \n",
       "1          0         0                  0                0         0   \n",
       "2          0         0                  0                0         0   \n",
       "3          0         0                  0                0         0   \n",
       "4          0         0                  0                0         0   \n",
       "\n",
       "   Silversea  Star  \n",
       "0          0     0  \n",
       "1          0     0  \n",
       "2          0     0  \n",
       "3          0     0  \n",
       "4          0     0  \n",
       "\n",
       "[5 rows x 21 columns]"
      ]
     },
     "execution_count": 14,
     "metadata": {},
     "output_type": "execute_result"
    }
   ],
   "source": [
    "x.head()"
   ]
  },
  {
   "cell_type": "code",
   "execution_count": 15,
   "metadata": {},
   "outputs": [],
   "source": [
    "x_train, x_test, y_train, y_test = train_test_split(x, y, test_size = 0.2, random_state = 7)"
   ]
  },
  {
   "cell_type": "code",
   "execution_count": 16,
   "metadata": {},
   "outputs": [],
   "source": [
    "lr = LinearRegression()"
   ]
  },
  {
   "cell_type": "code",
   "execution_count": 17,
   "metadata": {},
   "outputs": [
    {
     "data": {
      "text/html": [
       "<style>#sk-container-id-1 {color: black;background-color: white;}#sk-container-id-1 pre{padding: 0;}#sk-container-id-1 div.sk-toggleable {background-color: white;}#sk-container-id-1 label.sk-toggleable__label {cursor: pointer;display: block;width: 100%;margin-bottom: 0;padding: 0.3em;box-sizing: border-box;text-align: center;}#sk-container-id-1 label.sk-toggleable__label-arrow:before {content: \"▸\";float: left;margin-right: 0.25em;color: #696969;}#sk-container-id-1 label.sk-toggleable__label-arrow:hover:before {color: black;}#sk-container-id-1 div.sk-estimator:hover label.sk-toggleable__label-arrow:before {color: black;}#sk-container-id-1 div.sk-toggleable__content {max-height: 0;max-width: 0;overflow: hidden;text-align: left;background-color: #f0f8ff;}#sk-container-id-1 div.sk-toggleable__content pre {margin: 0.2em;color: black;border-radius: 0.25em;background-color: #f0f8ff;}#sk-container-id-1 input.sk-toggleable__control:checked~div.sk-toggleable__content {max-height: 200px;max-width: 100%;overflow: auto;}#sk-container-id-1 input.sk-toggleable__control:checked~label.sk-toggleable__label-arrow:before {content: \"▾\";}#sk-container-id-1 div.sk-estimator input.sk-toggleable__control:checked~label.sk-toggleable__label {background-color: #d4ebff;}#sk-container-id-1 div.sk-label input.sk-toggleable__control:checked~label.sk-toggleable__label {background-color: #d4ebff;}#sk-container-id-1 input.sk-hidden--visually {border: 0;clip: rect(1px 1px 1px 1px);clip: rect(1px, 1px, 1px, 1px);height: 1px;margin: -1px;overflow: hidden;padding: 0;position: absolute;width: 1px;}#sk-container-id-1 div.sk-estimator {font-family: monospace;background-color: #f0f8ff;border: 1px dotted black;border-radius: 0.25em;box-sizing: border-box;margin-bottom: 0.5em;}#sk-container-id-1 div.sk-estimator:hover {background-color: #d4ebff;}#sk-container-id-1 div.sk-parallel-item::after {content: \"\";width: 100%;border-bottom: 1px solid gray;flex-grow: 1;}#sk-container-id-1 div.sk-label:hover label.sk-toggleable__label {background-color: #d4ebff;}#sk-container-id-1 div.sk-serial::before {content: \"\";position: absolute;border-left: 1px solid gray;box-sizing: border-box;top: 0;bottom: 0;left: 50%;z-index: 0;}#sk-container-id-1 div.sk-serial {display: flex;flex-direction: column;align-items: center;background-color: white;padding-right: 0.2em;padding-left: 0.2em;position: relative;}#sk-container-id-1 div.sk-item {position: relative;z-index: 1;}#sk-container-id-1 div.sk-parallel {display: flex;align-items: stretch;justify-content: center;background-color: white;position: relative;}#sk-container-id-1 div.sk-item::before, #sk-container-id-1 div.sk-parallel-item::before {content: \"\";position: absolute;border-left: 1px solid gray;box-sizing: border-box;top: 0;bottom: 0;left: 50%;z-index: -1;}#sk-container-id-1 div.sk-parallel-item {display: flex;flex-direction: column;z-index: 1;position: relative;background-color: white;}#sk-container-id-1 div.sk-parallel-item:first-child::after {align-self: flex-end;width: 50%;}#sk-container-id-1 div.sk-parallel-item:last-child::after {align-self: flex-start;width: 50%;}#sk-container-id-1 div.sk-parallel-item:only-child::after {width: 0;}#sk-container-id-1 div.sk-dashed-wrapped {border: 1px dashed gray;margin: 0 0.4em 0.5em 0.4em;box-sizing: border-box;padding-bottom: 0.4em;background-color: white;}#sk-container-id-1 div.sk-label label {font-family: monospace;font-weight: bold;display: inline-block;line-height: 1.2em;}#sk-container-id-1 div.sk-label-container {text-align: center;}#sk-container-id-1 div.sk-container {/* jupyter's `normalize.less` sets `[hidden] { display: none; }` but bootstrap.min.css set `[hidden] { display: none !important; }` so we also need the `!important` here to be able to override the default hidden behavior on the sphinx rendered scikit-learn.org. See: https://github.com/scikit-learn/scikit-learn/issues/21755 */display: inline-block !important;position: relative;}#sk-container-id-1 div.sk-text-repr-fallback {display: none;}</style><div id=\"sk-container-id-1\" class=\"sk-top-container\"><div class=\"sk-text-repr-fallback\"><pre>LinearRegression()</pre><b>In a Jupyter environment, please rerun this cell to show the HTML representation or trust the notebook. <br />On GitHub, the HTML representation is unable to render, please try loading this page with nbviewer.org.</b></div><div class=\"sk-container\" hidden><div class=\"sk-item\"><div class=\"sk-estimator sk-toggleable\"><input class=\"sk-toggleable__control sk-hidden--visually\" id=\"sk-estimator-id-1\" type=\"checkbox\" checked><label for=\"sk-estimator-id-1\" class=\"sk-toggleable__label sk-toggleable__label-arrow\">LinearRegression</label><div class=\"sk-toggleable__content\"><pre>LinearRegression()</pre></div></div></div></div></div>"
      ],
      "text/plain": [
       "LinearRegression()"
      ]
     },
     "execution_count": 17,
     "metadata": {},
     "output_type": "execute_result"
    }
   ],
   "source": [
    "lr.fit(x_train, y_train)"
   ]
  },
  {
   "cell_type": "code",
   "execution_count": 18,
   "metadata": {},
   "outputs": [
    {
     "data": {
      "text/plain": [
       "0.9765926498283312"
      ]
     },
     "execution_count": 18,
     "metadata": {},
     "output_type": "execute_result"
    }
   ],
   "source": [
    "lr.score(x_train, y_train)"
   ]
  },
  {
   "cell_type": "code",
   "execution_count": 19,
   "metadata": {},
   "outputs": [
    {
     "data": {
      "text/plain": [
       "0.9768681759963481"
      ]
     },
     "execution_count": 19,
     "metadata": {},
     "output_type": "execute_result"
    }
   ],
   "source": [
    "lr.score(x_test, y_test)"
   ]
  },
  {
   "cell_type": "code",
   "execution_count": 20,
   "metadata": {},
   "outputs": [
    {
     "data": {
      "text/plain": [
       "0.23886130357434765"
      ]
     },
     "execution_count": 20,
     "metadata": {},
     "output_type": "execute_result"
    }
   ],
   "source": [
    "y_pred = lr.predict(x_test)\n",
    "mse = mean_squared_error(y_test, y_pred)\n",
    "mse"
   ]
  },
  {
   "cell_type": "code",
   "execution_count": 21,
   "metadata": {},
   "outputs": [
    {
     "data": {
      "text/html": [
       "<table class=\"simpletable\">\n",
       "<caption>OLS Regression Results</caption>\n",
       "<tr>\n",
       "  <th>Dep. Variable:</th>          <td>crew</td>       <th>  R-squared:         </th> <td>   0.977</td>\n",
       "</tr>\n",
       "<tr>\n",
       "  <th>Model:</th>                   <td>OLS</td>       <th>  Adj. R-squared:    </th> <td>   0.969</td>\n",
       "</tr>\n",
       "<tr>\n",
       "  <th>Method:</th>             <td>Least Squares</td>  <th>  F-statistic:       </th> <td>   120.8</td>\n",
       "</tr>\n",
       "<tr>\n",
       "  <th>Date:</th>             <td>Thu, 28 Mar 2024</td> <th>  Prob (F-statistic):</th> <td>6.43e-38</td>\n",
       "</tr>\n",
       "<tr>\n",
       "  <th>Time:</th>                 <td>12:41:06</td>     <th>  Log-Likelihood:    </th> <td> -55.546</td>\n",
       "</tr>\n",
       "<tr>\n",
       "  <th>No. Observations:</th>      <td>    75</td>      <th>  AIC:               </th> <td>   151.1</td>\n",
       "</tr>\n",
       "<tr>\n",
       "  <th>Df Residuals:</th>          <td>    55</td>      <th>  BIC:               </th> <td>   197.4</td>\n",
       "</tr>\n",
       "<tr>\n",
       "  <th>Df Model:</th>              <td>    19</td>      <th>                     </th>     <td> </td>   \n",
       "</tr>\n",
       "<tr>\n",
       "  <th>Covariance Type:</th>      <td>nonrobust</td>    <th>                     </th>     <td> </td>   \n",
       "</tr>\n",
       "</table>\n",
       "<table class=\"simpletable\">\n",
       "<tr>\n",
       "          <td></td>             <th>coef</th>     <th>std err</th>      <th>t</th>      <th>P>|t|</th>  <th>[0.025</th>    <th>0.975]</th>  \n",
       "</tr>\n",
       "<tr>\n",
       "  <th>Age</th>               <td>   -0.0015</td> <td>    0.138</td> <td>   -0.011</td> <td> 0.992</td> <td>   -0.279</td> <td>    0.276</td>\n",
       "</tr>\n",
       "<tr>\n",
       "  <th>Tonnage</th>           <td>    0.8619</td> <td>    0.455</td> <td>    1.894</td> <td> 0.064</td> <td>   -0.050</td> <td>    1.774</td>\n",
       "</tr>\n",
       "<tr>\n",
       "  <th>passengers</th>        <td>   -0.7123</td> <td>    0.480</td> <td>   -1.485</td> <td> 0.143</td> <td>   -1.673</td> <td>    0.249</td>\n",
       "</tr>\n",
       "<tr>\n",
       "  <th>length</th>            <td>    1.1501</td> <td>    0.261</td> <td>    4.399</td> <td> 0.000</td> <td>    0.626</td> <td>    1.674</td>\n",
       "</tr>\n",
       "<tr>\n",
       "  <th>cabins</th>            <td>    2.3477</td> <td>    0.526</td> <td>    4.461</td> <td> 0.000</td> <td>    1.293</td> <td>    3.402</td>\n",
       "</tr>\n",
       "<tr>\n",
       "  <th>passenger_density</th> <td>   -0.1630</td> <td>    0.172</td> <td>   -0.950</td> <td> 0.346</td> <td>   -0.507</td> <td>    0.181</td>\n",
       "</tr>\n",
       "<tr>\n",
       "  <th>Azamara</th>           <td>    8.1984</td> <td>    0.703</td> <td>   11.654</td> <td> 0.000</td> <td>    6.789</td> <td>    9.608</td>\n",
       "</tr>\n",
       "<tr>\n",
       "  <th>Carnival</th>          <td>    8.0551</td> <td>    0.217</td> <td>   37.066</td> <td> 0.000</td> <td>    7.620</td> <td>    8.491</td>\n",
       "</tr>\n",
       "<tr>\n",
       "  <th>Celebrity</th>         <td>    8.6454</td> <td>    0.317</td> <td>   27.308</td> <td> 0.000</td> <td>    8.011</td> <td>    9.280</td>\n",
       "</tr>\n",
       "<tr>\n",
       "  <th>Costa</th>             <td>    7.6026</td> <td>    0.228</td> <td>   33.295</td> <td> 0.000</td> <td>    7.145</td> <td>    8.060</td>\n",
       "</tr>\n",
       "<tr>\n",
       "  <th>Cunard</th>            <td>    8.2883</td> <td>    0.673</td> <td>   12.323</td> <td> 0.000</td> <td>    6.940</td> <td>    9.636</td>\n",
       "</tr>\n",
       "<tr>\n",
       "  <th>Disney</th>            <td>-4.409e-15</td> <td>  2.5e-16</td> <td>  -17.625</td> <td> 0.000</td> <td>-4.91e-15</td> <td>-3.91e-15</td>\n",
       "</tr>\n",
       "<tr>\n",
       "  <th>Holland_American</th>  <td>    7.3751</td> <td>    0.303</td> <td>   24.371</td> <td> 0.000</td> <td>    6.769</td> <td>    7.982</td>\n",
       "</tr>\n",
       "<tr>\n",
       "  <th>MSC</th>               <td>    7.6884</td> <td>    0.300</td> <td>   25.626</td> <td> 0.000</td> <td>    7.087</td> <td>    8.290</td>\n",
       "</tr>\n",
       "<tr>\n",
       "  <th>Norwegian</th>         <td>    8.1247</td> <td>    0.215</td> <td>   37.838</td> <td> 0.000</td> <td>    7.694</td> <td>    8.555</td>\n",
       "</tr>\n",
       "<tr>\n",
       "  <th>Princess</th>          <td>    8.0407</td> <td>    0.204</td> <td>   39.441</td> <td> 0.000</td> <td>    7.632</td> <td>    8.449</td>\n",
       "</tr>\n",
       "<tr>\n",
       "  <th>Regent_Seven_Seas</th> <td>    8.7257</td> <td>    0.509</td> <td>   17.154</td> <td> 0.000</td> <td>    7.706</td> <td>    9.745</td>\n",
       "</tr>\n",
       "<tr>\n",
       "  <th>Royal_Caribbean</th>   <td>    6.6174</td> <td>    0.246</td> <td>   26.850</td> <td> 0.000</td> <td>    6.124</td> <td>    7.111</td>\n",
       "</tr>\n",
       "<tr>\n",
       "  <th>Seabourn</th>          <td>    8.8089</td> <td>    0.543</td> <td>   16.234</td> <td> 0.000</td> <td>    7.721</td> <td>    9.896</td>\n",
       "</tr>\n",
       "<tr>\n",
       "  <th>Silversea</th>         <td>    8.6457</td> <td>    0.558</td> <td>   15.507</td> <td> 0.000</td> <td>    7.528</td> <td>    9.763</td>\n",
       "</tr>\n",
       "<tr>\n",
       "  <th>Star</th>              <td>    9.7476</td> <td>    0.398</td> <td>   24.513</td> <td> 0.000</td> <td>    8.951</td> <td>   10.544</td>\n",
       "</tr>\n",
       "</table>\n",
       "<table class=\"simpletable\">\n",
       "<tr>\n",
       "  <th>Omnibus:</th>       <td> 0.985</td> <th>  Durbin-Watson:     </th> <td>   1.951</td>\n",
       "</tr>\n",
       "<tr>\n",
       "  <th>Prob(Omnibus):</th> <td> 0.611</td> <th>  Jarque-Bera (JB):  </th> <td>   0.431</td>\n",
       "</tr>\n",
       "<tr>\n",
       "  <th>Skew:</th>          <td>-0.041</td> <th>  Prob(JB):          </th> <td>   0.806</td>\n",
       "</tr>\n",
       "<tr>\n",
       "  <th>Kurtosis:</th>      <td> 3.362</td> <th>  Cond. No.          </th> <td>1.34e+17</td>\n",
       "</tr>\n",
       "</table><br/><br/>Notes:<br/>[1] Standard Errors assume that the covariance matrix of the errors is correctly specified.<br/>[2] The smallest eigenvalue is 1.83e-32. This might indicate that there are<br/>strong multicollinearity problems or that the design matrix is singular."
      ],
      "text/latex": [
       "\\begin{center}\n",
       "\\begin{tabular}{lclc}\n",
       "\\toprule\n",
       "\\textbf{Dep. Variable:}      &       crew       & \\textbf{  R-squared:         } &     0.977   \\\\\n",
       "\\textbf{Model:}              &       OLS        & \\textbf{  Adj. R-squared:    } &     0.969   \\\\\n",
       "\\textbf{Method:}             &  Least Squares   & \\textbf{  F-statistic:       } &     120.8   \\\\\n",
       "\\textbf{Date:}               & Thu, 28 Mar 2024 & \\textbf{  Prob (F-statistic):} &  6.43e-38   \\\\\n",
       "\\textbf{Time:}               &     12:41:06     & \\textbf{  Log-Likelihood:    } &   -55.546   \\\\\n",
       "\\textbf{No. Observations:}   &          75      & \\textbf{  AIC:               } &     151.1   \\\\\n",
       "\\textbf{Df Residuals:}       &          55      & \\textbf{  BIC:               } &     197.4   \\\\\n",
       "\\textbf{Df Model:}           &          19      & \\textbf{                     } &             \\\\\n",
       "\\textbf{Covariance Type:}    &    nonrobust     & \\textbf{                     } &             \\\\\n",
       "\\bottomrule\n",
       "\\end{tabular}\n",
       "\\begin{tabular}{lcccccc}\n",
       "                             & \\textbf{coef} & \\textbf{std err} & \\textbf{t} & \\textbf{P$> |$t$|$} & \\textbf{[0.025} & \\textbf{0.975]}  \\\\\n",
       "\\midrule\n",
       "\\textbf{Age}                 &      -0.0015  &        0.138     &    -0.011  &         0.992        &       -0.279    &        0.276     \\\\\n",
       "\\textbf{Tonnage}             &       0.8619  &        0.455     &     1.894  &         0.064        &       -0.050    &        1.774     \\\\\n",
       "\\textbf{passengers}          &      -0.7123  &        0.480     &    -1.485  &         0.143        &       -1.673    &        0.249     \\\\\n",
       "\\textbf{length}              &       1.1501  &        0.261     &     4.399  &         0.000        &        0.626    &        1.674     \\\\\n",
       "\\textbf{cabins}              &       2.3477  &        0.526     &     4.461  &         0.000        &        1.293    &        3.402     \\\\\n",
       "\\textbf{passenger\\_density}  &      -0.1630  &        0.172     &    -0.950  &         0.346        &       -0.507    &        0.181     \\\\\n",
       "\\textbf{Azamara}             &       8.1984  &        0.703     &    11.654  &         0.000        &        6.789    &        9.608     \\\\\n",
       "\\textbf{Carnival}            &       8.0551  &        0.217     &    37.066  &         0.000        &        7.620    &        8.491     \\\\\n",
       "\\textbf{Celebrity}           &       8.6454  &        0.317     &    27.308  &         0.000        &        8.011    &        9.280     \\\\\n",
       "\\textbf{Costa}               &       7.6026  &        0.228     &    33.295  &         0.000        &        7.145    &        8.060     \\\\\n",
       "\\textbf{Cunard}              &       8.2883  &        0.673     &    12.323  &         0.000        &        6.940    &        9.636     \\\\\n",
       "\\textbf{Disney}              &   -4.409e-15  &      2.5e-16     &   -17.625  &         0.000        &    -4.91e-15    &    -3.91e-15     \\\\\n",
       "\\textbf{Holland\\_American}   &       7.3751  &        0.303     &    24.371  &         0.000        &        6.769    &        7.982     \\\\\n",
       "\\textbf{MSC}                 &       7.6884  &        0.300     &    25.626  &         0.000        &        7.087    &        8.290     \\\\\n",
       "\\textbf{Norwegian}           &       8.1247  &        0.215     &    37.838  &         0.000        &        7.694    &        8.555     \\\\\n",
       "\\textbf{Princess}            &       8.0407  &        0.204     &    39.441  &         0.000        &        7.632    &        8.449     \\\\\n",
       "\\textbf{Regent\\_Seven\\_Seas} &       8.7257  &        0.509     &    17.154  &         0.000        &        7.706    &        9.745     \\\\\n",
       "\\textbf{Royal\\_Caribbean}    &       6.6174  &        0.246     &    26.850  &         0.000        &        6.124    &        7.111     \\\\\n",
       "\\textbf{Seabourn}            &       8.8089  &        0.543     &    16.234  &         0.000        &        7.721    &        9.896     \\\\\n",
       "\\textbf{Silversea}           &       8.6457  &        0.558     &    15.507  &         0.000        &        7.528    &        9.763     \\\\\n",
       "\\textbf{Star}                &       9.7476  &        0.398     &    24.513  &         0.000        &        8.951    &       10.544     \\\\\n",
       "\\bottomrule\n",
       "\\end{tabular}\n",
       "\\begin{tabular}{lclc}\n",
       "\\textbf{Omnibus:}       &  0.985 & \\textbf{  Durbin-Watson:     } &    1.951  \\\\\n",
       "\\textbf{Prob(Omnibus):} &  0.611 & \\textbf{  Jarque-Bera (JB):  } &    0.431  \\\\\n",
       "\\textbf{Skew:}          & -0.041 & \\textbf{  Prob(JB):          } &    0.806  \\\\\n",
       "\\textbf{Kurtosis:}      &  3.362 & \\textbf{  Cond. No.          } & 1.34e+17  \\\\\n",
       "\\bottomrule\n",
       "\\end{tabular}\n",
       "%\\caption{OLS Regression Results}\n",
       "\\end{center}\n",
       "\n",
       "Notes: \\newline\n",
       " [1] Standard Errors assume that the covariance matrix of the errors is correctly specified. \\newline\n",
       " [2] The smallest eigenvalue is 1.83e-32. This might indicate that there are \\newline\n",
       " strong multicollinearity problems or that the design matrix is singular."
      ],
      "text/plain": [
       "<class 'statsmodels.iolib.summary.Summary'>\n",
       "\"\"\"\n",
       "                            OLS Regression Results                            \n",
       "==============================================================================\n",
       "Dep. Variable:                   crew   R-squared:                       0.977\n",
       "Model:                            OLS   Adj. R-squared:                  0.969\n",
       "Method:                 Least Squares   F-statistic:                     120.8\n",
       "Date:                Thu, 28 Mar 2024   Prob (F-statistic):           6.43e-38\n",
       "Time:                        12:41:06   Log-Likelihood:                -55.546\n",
       "No. Observations:                  75   AIC:                             151.1\n",
       "Df Residuals:                      55   BIC:                             197.4\n",
       "Df Model:                          19                                         \n",
       "Covariance Type:            nonrobust                                         \n",
       "=====================================================================================\n",
       "                        coef    std err          t      P>|t|      [0.025      0.975]\n",
       "-------------------------------------------------------------------------------------\n",
       "Age                  -0.0015      0.138     -0.011      0.992      -0.279       0.276\n",
       "Tonnage               0.8619      0.455      1.894      0.064      -0.050       1.774\n",
       "passengers           -0.7123      0.480     -1.485      0.143      -1.673       0.249\n",
       "length                1.1501      0.261      4.399      0.000       0.626       1.674\n",
       "cabins                2.3477      0.526      4.461      0.000       1.293       3.402\n",
       "passenger_density    -0.1630      0.172     -0.950      0.346      -0.507       0.181\n",
       "Azamara               8.1984      0.703     11.654      0.000       6.789       9.608\n",
       "Carnival              8.0551      0.217     37.066      0.000       7.620       8.491\n",
       "Celebrity             8.6454      0.317     27.308      0.000       8.011       9.280\n",
       "Costa                 7.6026      0.228     33.295      0.000       7.145       8.060\n",
       "Cunard                8.2883      0.673     12.323      0.000       6.940       9.636\n",
       "Disney            -4.409e-15    2.5e-16    -17.625      0.000   -4.91e-15   -3.91e-15\n",
       "Holland_American      7.3751      0.303     24.371      0.000       6.769       7.982\n",
       "MSC                   7.6884      0.300     25.626      0.000       7.087       8.290\n",
       "Norwegian             8.1247      0.215     37.838      0.000       7.694       8.555\n",
       "Princess              8.0407      0.204     39.441      0.000       7.632       8.449\n",
       "Regent_Seven_Seas     8.7257      0.509     17.154      0.000       7.706       9.745\n",
       "Royal_Caribbean       6.6174      0.246     26.850      0.000       6.124       7.111\n",
       "Seabourn              8.8089      0.543     16.234      0.000       7.721       9.896\n",
       "Silversea             8.6457      0.558     15.507      0.000       7.528       9.763\n",
       "Star                  9.7476      0.398     24.513      0.000       8.951      10.544\n",
       "==============================================================================\n",
       "Omnibus:                        0.985   Durbin-Watson:                   1.951\n",
       "Prob(Omnibus):                  0.611   Jarque-Bera (JB):                0.431\n",
       "Skew:                          -0.041   Prob(JB):                        0.806\n",
       "Kurtosis:                       3.362   Cond. No.                     1.34e+17\n",
       "==============================================================================\n",
       "\n",
       "Notes:\n",
       "[1] Standard Errors assume that the covariance matrix of the errors is correctly specified.\n",
       "[2] The smallest eigenvalue is 1.83e-32. This might indicate that there are\n",
       "strong multicollinearity problems or that the design matrix is singular.\n",
       "\"\"\""
      ]
     },
     "execution_count": 21,
     "metadata": {},
     "output_type": "execute_result"
    }
   ],
   "source": [
    "model = sm.OLS(y_train, x_train)\n",
    "model = model.fit()\n",
    "model.summary()"
   ]
  },
  {
   "cell_type": "code",
   "execution_count": 22,
   "metadata": {},
   "outputs": [
    {
     "data": {
      "text/html": [
       "<div>\n",
       "<style scoped>\n",
       "    .dataframe tbody tr th:only-of-type {\n",
       "        vertical-align: middle;\n",
       "    }\n",
       "\n",
       "    .dataframe tbody tr th {\n",
       "        vertical-align: top;\n",
       "    }\n",
       "\n",
       "    .dataframe thead th {\n",
       "        text-align: right;\n",
       "    }\n",
       "</style>\n",
       "<table border=\"1\" class=\"dataframe\">\n",
       "  <thead>\n",
       "    <tr style=\"text-align: right;\">\n",
       "      <th></th>\n",
       "      <th>VIF_Factor</th>\n",
       "      <th>feature</th>\n",
       "    </tr>\n",
       "  </thead>\n",
       "  <tbody>\n",
       "    <tr>\n",
       "      <th>0</th>\n",
       "      <td>3.0</td>\n",
       "      <td>Age</td>\n",
       "    </tr>\n",
       "    <tr>\n",
       "      <th>1</th>\n",
       "      <td>47.8</td>\n",
       "      <td>Tonnage</td>\n",
       "    </tr>\n",
       "    <tr>\n",
       "      <th>2</th>\n",
       "      <td>52.0</td>\n",
       "      <td>passengers</td>\n",
       "    </tr>\n",
       "    <tr>\n",
       "      <th>3</th>\n",
       "      <td>10.9</td>\n",
       "      <td>length</td>\n",
       "    </tr>\n",
       "    <tr>\n",
       "      <th>4</th>\n",
       "      <td>60.4</td>\n",
       "      <td>cabins</td>\n",
       "    </tr>\n",
       "    <tr>\n",
       "      <th>5</th>\n",
       "      <td>5.4</td>\n",
       "      <td>passenger_density</td>\n",
       "    </tr>\n",
       "    <tr>\n",
       "      <th>6</th>\n",
       "      <td>1.2</td>\n",
       "      <td>Azamara</td>\n",
       "    </tr>\n",
       "    <tr>\n",
       "      <th>7</th>\n",
       "      <td>1.4</td>\n",
       "      <td>Carnival</td>\n",
       "    </tr>\n",
       "    <tr>\n",
       "      <th>8</th>\n",
       "      <td>1.1</td>\n",
       "      <td>Celebrity</td>\n",
       "    </tr>\n",
       "    <tr>\n",
       "      <th>9</th>\n",
       "      <td>1.0</td>\n",
       "      <td>Costa</td>\n",
       "    </tr>\n",
       "    <tr>\n",
       "      <th>10</th>\n",
       "      <td>1.9</td>\n",
       "      <td>Cunard</td>\n",
       "    </tr>\n",
       "    <tr>\n",
       "      <th>11</th>\n",
       "      <td>1.1</td>\n",
       "      <td>Disney</td>\n",
       "    </tr>\n",
       "    <tr>\n",
       "      <th>12</th>\n",
       "      <td>1.1</td>\n",
       "      <td>Holland_American</td>\n",
       "    </tr>\n",
       "    <tr>\n",
       "      <th>13</th>\n",
       "      <td>1.2</td>\n",
       "      <td>MSC</td>\n",
       "    </tr>\n",
       "    <tr>\n",
       "      <th>14</th>\n",
       "      <td>1.1</td>\n",
       "      <td>Norwegian</td>\n",
       "    </tr>\n",
       "    <tr>\n",
       "      <th>15</th>\n",
       "      <td>1.1</td>\n",
       "      <td>Princess</td>\n",
       "    </tr>\n",
       "    <tr>\n",
       "      <th>16</th>\n",
       "      <td>1.8</td>\n",
       "      <td>Regent_Seven_Seas</td>\n",
       "    </tr>\n",
       "    <tr>\n",
       "      <th>17</th>\n",
       "      <td>1.7</td>\n",
       "      <td>Royal_Caribbean</td>\n",
       "    </tr>\n",
       "    <tr>\n",
       "      <th>18</th>\n",
       "      <td>1.5</td>\n",
       "      <td>Seabourn</td>\n",
       "    </tr>\n",
       "    <tr>\n",
       "      <th>19</th>\n",
       "      <td>2.2</td>\n",
       "      <td>Silversea</td>\n",
       "    </tr>\n",
       "    <tr>\n",
       "      <th>20</th>\n",
       "      <td>1.2</td>\n",
       "      <td>Star</td>\n",
       "    </tr>\n",
       "  </tbody>\n",
       "</table>\n",
       "</div>"
      ],
      "text/plain": [
       "    VIF_Factor            feature\n",
       "0          3.0                Age\n",
       "1         47.8            Tonnage\n",
       "2         52.0         passengers\n",
       "3         10.9             length\n",
       "4         60.4             cabins\n",
       "5          5.4  passenger_density\n",
       "6          1.2            Azamara\n",
       "7          1.4           Carnival\n",
       "8          1.1          Celebrity\n",
       "9          1.0              Costa\n",
       "10         1.9             Cunard\n",
       "11         1.1             Disney\n",
       "12         1.1   Holland_American\n",
       "13         1.2                MSC\n",
       "14         1.1          Norwegian\n",
       "15         1.1           Princess\n",
       "16         1.8  Regent_Seven_Seas\n",
       "17         1.7    Royal_Caribbean\n",
       "18         1.5           Seabourn\n",
       "19         2.2          Silversea\n",
       "20         1.2               Star"
      ]
     },
     "execution_count": 22,
     "metadata": {},
     "output_type": "execute_result"
    }
   ],
   "source": [
    "vif = pd.DataFrame()\n",
    "vif[\"VIF_Factor\"] = [variance_inflation_factor(x.values, i) for i in range(x.shape[1])]\n",
    "vif[\"feature\"] = x.columns\n",
    "vif.round(1)"
   ]
  },
  {
   "cell_type": "code",
   "execution_count": 23,
   "metadata": {},
   "outputs": [],
   "source": [
    "drop_list = [\"Age\", \"passenger_density\"]"
   ]
  },
  {
   "cell_type": "code",
   "execution_count": 24,
   "metadata": {},
   "outputs": [
    {
     "data": {
      "text/html": [
       "<table class=\"simpletable\">\n",
       "<caption>OLS Regression Results</caption>\n",
       "<tr>\n",
       "  <th>Dep. Variable:</th>          <td>crew</td>       <th>  R-squared:         </th> <td>   0.976</td>\n",
       "</tr>\n",
       "<tr>\n",
       "  <th>Model:</th>                   <td>OLS</td>       <th>  Adj. R-squared:    </th> <td>   0.969</td>\n",
       "</tr>\n",
       "<tr>\n",
       "  <th>Method:</th>             <td>Least Squares</td>  <th>  F-statistic:       </th> <td>   137.2</td>\n",
       "</tr>\n",
       "<tr>\n",
       "  <th>Date:</th>             <td>Thu, 28 Mar 2024</td> <th>  Prob (F-statistic):</th> <td>7.82e-40</td>\n",
       "</tr>\n",
       "<tr>\n",
       "  <th>Time:</th>                 <td>12:41:06</td>     <th>  Log-Likelihood:    </th> <td> -56.251</td>\n",
       "</tr>\n",
       "<tr>\n",
       "  <th>No. Observations:</th>      <td>    75</td>      <th>  AIC:               </th> <td>   148.5</td>\n",
       "</tr>\n",
       "<tr>\n",
       "  <th>Df Residuals:</th>          <td>    57</td>      <th>  BIC:               </th> <td>   190.2</td>\n",
       "</tr>\n",
       "<tr>\n",
       "  <th>Df Model:</th>              <td>    17</td>      <th>                     </th>     <td> </td>   \n",
       "</tr>\n",
       "<tr>\n",
       "  <th>Covariance Type:</th>      <td>nonrobust</td>    <th>                     </th>     <td> </td>   \n",
       "</tr>\n",
       "</table>\n",
       "<table class=\"simpletable\">\n",
       "<tr>\n",
       "          <td></td>             <th>coef</th>     <th>std err</th>      <th>t</th>      <th>P>|t|</th>  <th>[0.025</th>    <th>0.975]</th>  \n",
       "</tr>\n",
       "<tr>\n",
       "  <th>const</th>             <td>    7.5953</td> <td>    0.097</td> <td>   78.561</td> <td> 0.000</td> <td>    7.402</td> <td>    7.789</td>\n",
       "</tr>\n",
       "<tr>\n",
       "  <th>Tonnage</th>           <td>    0.5482</td> <td>    0.325</td> <td>    1.685</td> <td> 0.097</td> <td>   -0.103</td> <td>    1.200</td>\n",
       "</tr>\n",
       "<tr>\n",
       "  <th>passengers</th>        <td>   -0.4350</td> <td>    0.389</td> <td>   -1.117</td> <td> 0.268</td> <td>   -1.215</td> <td>    0.345</td>\n",
       "</tr>\n",
       "<tr>\n",
       "  <th>length</th>            <td>    1.1343</td> <td>    0.248</td> <td>    4.581</td> <td> 0.000</td> <td>    0.639</td> <td>    1.630</td>\n",
       "</tr>\n",
       "<tr>\n",
       "  <th>cabins</th>            <td>    2.3671</td> <td>    0.519</td> <td>    4.560</td> <td> 0.000</td> <td>    1.328</td> <td>    3.407</td>\n",
       "</tr>\n",
       "<tr>\n",
       "  <th>Azamara</th>           <td>    0.5414</td> <td>    0.567</td> <td>    0.956</td> <td> 0.343</td> <td>   -0.593</td> <td>    1.676</td>\n",
       "</tr>\n",
       "<tr>\n",
       "  <th>Carnival</th>          <td>    0.4888</td> <td>    0.249</td> <td>    1.960</td> <td> 0.055</td> <td>   -0.011</td> <td>    0.988</td>\n",
       "</tr>\n",
       "<tr>\n",
       "  <th>Celebrity</th>         <td>    1.0710</td> <td>    0.303</td> <td>    3.539</td> <td> 0.001</td> <td>    0.465</td> <td>    1.677</td>\n",
       "</tr>\n",
       "<tr>\n",
       "  <th>Costa</th>             <td>    0.0244</td> <td>    0.238</td> <td>    0.103</td> <td> 0.919</td> <td>   -0.452</td> <td>    0.501</td>\n",
       "</tr>\n",
       "<tr>\n",
       "  <th>Cunard</th>            <td>    0.7539</td> <td>    0.473</td> <td>    1.594</td> <td> 0.116</td> <td>   -0.193</td> <td>    1.701</td>\n",
       "</tr>\n",
       "<tr>\n",
       "  <th>Disney</th>            <td>-1.449e-16</td> <td> 1.52e-16</td> <td>   -0.952</td> <td> 0.345</td> <td> -4.5e-16</td> <td>  1.6e-16</td>\n",
       "</tr>\n",
       "<tr>\n",
       "  <th>Holland_American</th>  <td>   -0.2070</td> <td>    0.288</td> <td>   -0.718</td> <td> 0.476</td> <td>   -0.784</td> <td>    0.370</td>\n",
       "</tr>\n",
       "<tr>\n",
       "  <th>MSC</th>               <td>    0.1576</td> <td>    0.284</td> <td>    0.554</td> <td> 0.581</td> <td>   -0.412</td> <td>    0.727</td>\n",
       "</tr>\n",
       "<tr>\n",
       "  <th>Norwegian</th>         <td>    0.5833</td> <td>    0.224</td> <td>    2.610</td> <td> 0.012</td> <td>    0.136</td> <td>    1.031</td>\n",
       "</tr>\n",
       "<tr>\n",
       "  <th>Princess</th>          <td>    0.4681</td> <td>    0.212</td> <td>    2.208</td> <td> 0.031</td> <td>    0.044</td> <td>    0.893</td>\n",
       "</tr>\n",
       "<tr>\n",
       "  <th>Regent_Seven_Seas</th> <td>    0.8737</td> <td>    0.394</td> <td>    2.217</td> <td> 0.031</td> <td>    0.085</td> <td>    1.663</td>\n",
       "</tr>\n",
       "<tr>\n",
       "  <th>Royal_Caribbean</th>   <td>   -0.9411</td> <td>    0.258</td> <td>   -3.642</td> <td> 0.001</td> <td>   -1.459</td> <td>   -0.424</td>\n",
       "</tr>\n",
       "<tr>\n",
       "  <th>Seabourn</th>          <td>    1.0103</td> <td>    0.459</td> <td>    2.203</td> <td> 0.032</td> <td>    0.092</td> <td>    1.929</td>\n",
       "</tr>\n",
       "<tr>\n",
       "  <th>Silversea</th>         <td>    0.6776</td> <td>    0.376</td> <td>    1.802</td> <td> 0.077</td> <td>   -0.075</td> <td>    1.431</td>\n",
       "</tr>\n",
       "<tr>\n",
       "  <th>Star</th>              <td>    2.0931</td> <td>    0.345</td> <td>    6.068</td> <td> 0.000</td> <td>    1.402</td> <td>    2.784</td>\n",
       "</tr>\n",
       "</table>\n",
       "<table class=\"simpletable\">\n",
       "<tr>\n",
       "  <th>Omnibus:</th>       <td> 1.260</td> <th>  Durbin-Watson:     </th> <td>   1.902</td>\n",
       "</tr>\n",
       "<tr>\n",
       "  <th>Prob(Omnibus):</th> <td> 0.533</td> <th>  Jarque-Bera (JB):  </th> <td>   0.660</td>\n",
       "</tr>\n",
       "<tr>\n",
       "  <th>Skew:</th>          <td> 0.034</td> <th>  Prob(JB):          </th> <td>   0.719</td>\n",
       "</tr>\n",
       "<tr>\n",
       "  <th>Kurtosis:</th>      <td> 3.454</td> <th>  Cond. No.          </th> <td>3.74e+17</td>\n",
       "</tr>\n",
       "</table><br/><br/>Notes:<br/>[1] Standard Errors assume that the covariance matrix of the errors is correctly specified.<br/>[2] The smallest eigenvalue is 2.09e-33. This might indicate that there are<br/>strong multicollinearity problems or that the design matrix is singular."
      ],
      "text/latex": [
       "\\begin{center}\n",
       "\\begin{tabular}{lclc}\n",
       "\\toprule\n",
       "\\textbf{Dep. Variable:}      &       crew       & \\textbf{  R-squared:         } &     0.976   \\\\\n",
       "\\textbf{Model:}              &       OLS        & \\textbf{  Adj. R-squared:    } &     0.969   \\\\\n",
       "\\textbf{Method:}             &  Least Squares   & \\textbf{  F-statistic:       } &     137.2   \\\\\n",
       "\\textbf{Date:}               & Thu, 28 Mar 2024 & \\textbf{  Prob (F-statistic):} &  7.82e-40   \\\\\n",
       "\\textbf{Time:}               &     12:41:06     & \\textbf{  Log-Likelihood:    } &   -56.251   \\\\\n",
       "\\textbf{No. Observations:}   &          75      & \\textbf{  AIC:               } &     148.5   \\\\\n",
       "\\textbf{Df Residuals:}       &          57      & \\textbf{  BIC:               } &     190.2   \\\\\n",
       "\\textbf{Df Model:}           &          17      & \\textbf{                     } &             \\\\\n",
       "\\textbf{Covariance Type:}    &    nonrobust     & \\textbf{                     } &             \\\\\n",
       "\\bottomrule\n",
       "\\end{tabular}\n",
       "\\begin{tabular}{lcccccc}\n",
       "                             & \\textbf{coef} & \\textbf{std err} & \\textbf{t} & \\textbf{P$> |$t$|$} & \\textbf{[0.025} & \\textbf{0.975]}  \\\\\n",
       "\\midrule\n",
       "\\textbf{const}               &       7.5953  &        0.097     &    78.561  &         0.000        &        7.402    &        7.789     \\\\\n",
       "\\textbf{Tonnage}             &       0.5482  &        0.325     &     1.685  &         0.097        &       -0.103    &        1.200     \\\\\n",
       "\\textbf{passengers}          &      -0.4350  &        0.389     &    -1.117  &         0.268        &       -1.215    &        0.345     \\\\\n",
       "\\textbf{length}              &       1.1343  &        0.248     &     4.581  &         0.000        &        0.639    &        1.630     \\\\\n",
       "\\textbf{cabins}              &       2.3671  &        0.519     &     4.560  &         0.000        &        1.328    &        3.407     \\\\\n",
       "\\textbf{Azamara}             &       0.5414  &        0.567     &     0.956  &         0.343        &       -0.593    &        1.676     \\\\\n",
       "\\textbf{Carnival}            &       0.4888  &        0.249     &     1.960  &         0.055        &       -0.011    &        0.988     \\\\\n",
       "\\textbf{Celebrity}           &       1.0710  &        0.303     &     3.539  &         0.001        &        0.465    &        1.677     \\\\\n",
       "\\textbf{Costa}               &       0.0244  &        0.238     &     0.103  &         0.919        &       -0.452    &        0.501     \\\\\n",
       "\\textbf{Cunard}              &       0.7539  &        0.473     &     1.594  &         0.116        &       -0.193    &        1.701     \\\\\n",
       "\\textbf{Disney}              &   -1.449e-16  &     1.52e-16     &    -0.952  &         0.345        &     -4.5e-16    &      1.6e-16     \\\\\n",
       "\\textbf{Holland\\_American}   &      -0.2070  &        0.288     &    -0.718  &         0.476        &       -0.784    &        0.370     \\\\\n",
       "\\textbf{MSC}                 &       0.1576  &        0.284     &     0.554  &         0.581        &       -0.412    &        0.727     \\\\\n",
       "\\textbf{Norwegian}           &       0.5833  &        0.224     &     2.610  &         0.012        &        0.136    &        1.031     \\\\\n",
       "\\textbf{Princess}            &       0.4681  &        0.212     &     2.208  &         0.031        &        0.044    &        0.893     \\\\\n",
       "\\textbf{Regent\\_Seven\\_Seas} &       0.8737  &        0.394     &     2.217  &         0.031        &        0.085    &        1.663     \\\\\n",
       "\\textbf{Royal\\_Caribbean}    &      -0.9411  &        0.258     &    -3.642  &         0.001        &       -1.459    &       -0.424     \\\\\n",
       "\\textbf{Seabourn}            &       1.0103  &        0.459     &     2.203  &         0.032        &        0.092    &        1.929     \\\\\n",
       "\\textbf{Silversea}           &       0.6776  &        0.376     &     1.802  &         0.077        &       -0.075    &        1.431     \\\\\n",
       "\\textbf{Star}                &       2.0931  &        0.345     &     6.068  &         0.000        &        1.402    &        2.784     \\\\\n",
       "\\bottomrule\n",
       "\\end{tabular}\n",
       "\\begin{tabular}{lclc}\n",
       "\\textbf{Omnibus:}       &  1.260 & \\textbf{  Durbin-Watson:     } &    1.902  \\\\\n",
       "\\textbf{Prob(Omnibus):} &  0.533 & \\textbf{  Jarque-Bera (JB):  } &    0.660  \\\\\n",
       "\\textbf{Skew:}          &  0.034 & \\textbf{  Prob(JB):          } &    0.719  \\\\\n",
       "\\textbf{Kurtosis:}      &  3.454 & \\textbf{  Cond. No.          } & 3.74e+17  \\\\\n",
       "\\bottomrule\n",
       "\\end{tabular}\n",
       "%\\caption{OLS Regression Results}\n",
       "\\end{center}\n",
       "\n",
       "Notes: \\newline\n",
       " [1] Standard Errors assume that the covariance matrix of the errors is correctly specified. \\newline\n",
       " [2] The smallest eigenvalue is 2.09e-33. This might indicate that there are \\newline\n",
       " strong multicollinearity problems or that the design matrix is singular."
      ],
      "text/plain": [
       "<class 'statsmodels.iolib.summary.Summary'>\n",
       "\"\"\"\n",
       "                            OLS Regression Results                            \n",
       "==============================================================================\n",
       "Dep. Variable:                   crew   R-squared:                       0.976\n",
       "Model:                            OLS   Adj. R-squared:                  0.969\n",
       "Method:                 Least Squares   F-statistic:                     137.2\n",
       "Date:                Thu, 28 Mar 2024   Prob (F-statistic):           7.82e-40\n",
       "Time:                        12:41:06   Log-Likelihood:                -56.251\n",
       "No. Observations:                  75   AIC:                             148.5\n",
       "Df Residuals:                      57   BIC:                             190.2\n",
       "Df Model:                          17                                         \n",
       "Covariance Type:            nonrobust                                         \n",
       "=====================================================================================\n",
       "                        coef    std err          t      P>|t|      [0.025      0.975]\n",
       "-------------------------------------------------------------------------------------\n",
       "const                 7.5953      0.097     78.561      0.000       7.402       7.789\n",
       "Tonnage               0.5482      0.325      1.685      0.097      -0.103       1.200\n",
       "passengers           -0.4350      0.389     -1.117      0.268      -1.215       0.345\n",
       "length                1.1343      0.248      4.581      0.000       0.639       1.630\n",
       "cabins                2.3671      0.519      4.560      0.000       1.328       3.407\n",
       "Azamara               0.5414      0.567      0.956      0.343      -0.593       1.676\n",
       "Carnival              0.4888      0.249      1.960      0.055      -0.011       0.988\n",
       "Celebrity             1.0710      0.303      3.539      0.001       0.465       1.677\n",
       "Costa                 0.0244      0.238      0.103      0.919      -0.452       0.501\n",
       "Cunard                0.7539      0.473      1.594      0.116      -0.193       1.701\n",
       "Disney            -1.449e-16   1.52e-16     -0.952      0.345    -4.5e-16     1.6e-16\n",
       "Holland_American     -0.2070      0.288     -0.718      0.476      -0.784       0.370\n",
       "MSC                   0.1576      0.284      0.554      0.581      -0.412       0.727\n",
       "Norwegian             0.5833      0.224      2.610      0.012       0.136       1.031\n",
       "Princess              0.4681      0.212      2.208      0.031       0.044       0.893\n",
       "Regent_Seven_Seas     0.8737      0.394      2.217      0.031       0.085       1.663\n",
       "Royal_Caribbean      -0.9411      0.258     -3.642      0.001      -1.459      -0.424\n",
       "Seabourn              1.0103      0.459      2.203      0.032       0.092       1.929\n",
       "Silversea             0.6776      0.376      1.802      0.077      -0.075       1.431\n",
       "Star                  2.0931      0.345      6.068      0.000       1.402       2.784\n",
       "==============================================================================\n",
       "Omnibus:                        1.260   Durbin-Watson:                   1.902\n",
       "Prob(Omnibus):                  0.533   Jarque-Bera (JB):                0.660\n",
       "Skew:                           0.034   Prob(JB):                        0.719\n",
       "Kurtosis:                       3.454   Cond. No.                     3.74e+17\n",
       "==============================================================================\n",
       "\n",
       "Notes:\n",
       "[1] Standard Errors assume that the covariance matrix of the errors is correctly specified.\n",
       "[2] The smallest eigenvalue is 2.09e-33. This might indicate that there are\n",
       "strong multicollinearity problems or that the design matrix is singular.\n",
       "\"\"\""
      ]
     },
     "execution_count": 24,
     "metadata": {},
     "output_type": "execute_result"
    }
   ],
   "source": [
    "new_x = sm.add_constant(x_train.drop(drop_list, axis = 1))\n",
    "model = sm.OLS(y_train, new_x)\n",
    "model = model.fit()\n",
    "model.summary()"
   ]
  },
  {
   "cell_type": "code",
   "execution_count": 25,
   "metadata": {},
   "outputs": [
    {
     "name": "stderr",
     "output_type": "stream",
     "text": [
      "C:\\ProgramData\\anaconda3\\Lib\\site-packages\\statsmodels\\regression\\linear_model.py:1781: RuntimeWarning: divide by zero encountered in scalar divide\n",
      "  return 1 - self.ssr/self.centered_tss\n",
      "C:\\ProgramData\\anaconda3\\Lib\\site-packages\\statsmodels\\stats\\outliers_influence.py:198: RuntimeWarning: divide by zero encountered in scalar divide\n",
      "  vif = 1. / (1. - r_squared_i)\n",
      "C:\\ProgramData\\anaconda3\\Lib\\site-packages\\statsmodels\\regression\\linear_model.py:1781: RuntimeWarning: invalid value encountered in scalar divide\n",
      "  return 1 - self.ssr/self.centered_tss\n"
     ]
    },
    {
     "data": {
      "text/html": [
       "<div>\n",
       "<style scoped>\n",
       "    .dataframe tbody tr th:only-of-type {\n",
       "        vertical-align: middle;\n",
       "    }\n",
       "\n",
       "    .dataframe tbody tr th {\n",
       "        vertical-align: top;\n",
       "    }\n",
       "\n",
       "    .dataframe thead th {\n",
       "        text-align: right;\n",
       "    }\n",
       "</style>\n",
       "<table border=\"1\" class=\"dataframe\">\n",
       "  <thead>\n",
       "    <tr style=\"text-align: right;\">\n",
       "      <th></th>\n",
       "      <th>VIF_Factor</th>\n",
       "      <th>feature</th>\n",
       "    </tr>\n",
       "  </thead>\n",
       "  <tbody>\n",
       "    <tr>\n",
       "      <th>0</th>\n",
       "      <td>0.0</td>\n",
       "      <td>const</td>\n",
       "    </tr>\n",
       "    <tr>\n",
       "      <th>1</th>\n",
       "      <td>23.3</td>\n",
       "      <td>Tonnage</td>\n",
       "    </tr>\n",
       "    <tr>\n",
       "      <th>2</th>\n",
       "      <td>33.8</td>\n",
       "      <td>passengers</td>\n",
       "    </tr>\n",
       "    <tr>\n",
       "      <th>3</th>\n",
       "      <td>13.0</td>\n",
       "      <td>length</td>\n",
       "    </tr>\n",
       "    <tr>\n",
       "      <th>4</th>\n",
       "      <td>58.3</td>\n",
       "      <td>cabins</td>\n",
       "    </tr>\n",
       "    <tr>\n",
       "      <th>5</th>\n",
       "      <td>inf</td>\n",
       "      <td>Azamara</td>\n",
       "    </tr>\n",
       "    <tr>\n",
       "      <th>6</th>\n",
       "      <td>inf</td>\n",
       "      <td>Carnival</td>\n",
       "    </tr>\n",
       "    <tr>\n",
       "      <th>7</th>\n",
       "      <td>inf</td>\n",
       "      <td>Celebrity</td>\n",
       "    </tr>\n",
       "    <tr>\n",
       "      <th>8</th>\n",
       "      <td>inf</td>\n",
       "      <td>Costa</td>\n",
       "    </tr>\n",
       "    <tr>\n",
       "      <th>9</th>\n",
       "      <td>inf</td>\n",
       "      <td>Cunard</td>\n",
       "    </tr>\n",
       "    <tr>\n",
       "      <th>10</th>\n",
       "      <td>NaN</td>\n",
       "      <td>Disney</td>\n",
       "    </tr>\n",
       "    <tr>\n",
       "      <th>11</th>\n",
       "      <td>inf</td>\n",
       "      <td>Holland_American</td>\n",
       "    </tr>\n",
       "    <tr>\n",
       "      <th>12</th>\n",
       "      <td>inf</td>\n",
       "      <td>MSC</td>\n",
       "    </tr>\n",
       "    <tr>\n",
       "      <th>13</th>\n",
       "      <td>inf</td>\n",
       "      <td>Norwegian</td>\n",
       "    </tr>\n",
       "    <tr>\n",
       "      <th>14</th>\n",
       "      <td>inf</td>\n",
       "      <td>Princess</td>\n",
       "    </tr>\n",
       "    <tr>\n",
       "      <th>15</th>\n",
       "      <td>inf</td>\n",
       "      <td>Regent_Seven_Seas</td>\n",
       "    </tr>\n",
       "    <tr>\n",
       "      <th>16</th>\n",
       "      <td>inf</td>\n",
       "      <td>Royal_Caribbean</td>\n",
       "    </tr>\n",
       "    <tr>\n",
       "      <th>17</th>\n",
       "      <td>inf</td>\n",
       "      <td>Seabourn</td>\n",
       "    </tr>\n",
       "    <tr>\n",
       "      <th>18</th>\n",
       "      <td>inf</td>\n",
       "      <td>Silversea</td>\n",
       "    </tr>\n",
       "    <tr>\n",
       "      <th>19</th>\n",
       "      <td>inf</td>\n",
       "      <td>Star</td>\n",
       "    </tr>\n",
       "  </tbody>\n",
       "</table>\n",
       "</div>"
      ],
      "text/plain": [
       "    VIF_Factor            feature\n",
       "0          0.0              const\n",
       "1         23.3            Tonnage\n",
       "2         33.8         passengers\n",
       "3         13.0             length\n",
       "4         58.3             cabins\n",
       "5          inf            Azamara\n",
       "6          inf           Carnival\n",
       "7          inf          Celebrity\n",
       "8          inf              Costa\n",
       "9          inf             Cunard\n",
       "10         NaN             Disney\n",
       "11         inf   Holland_American\n",
       "12         inf                MSC\n",
       "13         inf          Norwegian\n",
       "14         inf           Princess\n",
       "15         inf  Regent_Seven_Seas\n",
       "16         inf    Royal_Caribbean\n",
       "17         inf           Seabourn\n",
       "18         inf          Silversea\n",
       "19         inf               Star"
      ]
     },
     "execution_count": 25,
     "metadata": {},
     "output_type": "execute_result"
    }
   ],
   "source": [
    "vif = pd.DataFrame()\n",
    "vif[\"VIF_Factor\"] = [variance_inflation_factor(new_x.values, i) for i in range(new_x.shape[1])]\n",
    "vif[\"feature\"] = new_x.columns\n",
    "vif.round(1)"
   ]
  },
  {
   "cell_type": "code",
   "execution_count": 26,
   "metadata": {},
   "outputs": [
    {
     "data": {
      "text/html": [
       "<style>#sk-container-id-2 {color: black;background-color: white;}#sk-container-id-2 pre{padding: 0;}#sk-container-id-2 div.sk-toggleable {background-color: white;}#sk-container-id-2 label.sk-toggleable__label {cursor: pointer;display: block;width: 100%;margin-bottom: 0;padding: 0.3em;box-sizing: border-box;text-align: center;}#sk-container-id-2 label.sk-toggleable__label-arrow:before {content: \"▸\";float: left;margin-right: 0.25em;color: #696969;}#sk-container-id-2 label.sk-toggleable__label-arrow:hover:before {color: black;}#sk-container-id-2 div.sk-estimator:hover label.sk-toggleable__label-arrow:before {color: black;}#sk-container-id-2 div.sk-toggleable__content {max-height: 0;max-width: 0;overflow: hidden;text-align: left;background-color: #f0f8ff;}#sk-container-id-2 div.sk-toggleable__content pre {margin: 0.2em;color: black;border-radius: 0.25em;background-color: #f0f8ff;}#sk-container-id-2 input.sk-toggleable__control:checked~div.sk-toggleable__content {max-height: 200px;max-width: 100%;overflow: auto;}#sk-container-id-2 input.sk-toggleable__control:checked~label.sk-toggleable__label-arrow:before {content: \"▾\";}#sk-container-id-2 div.sk-estimator input.sk-toggleable__control:checked~label.sk-toggleable__label {background-color: #d4ebff;}#sk-container-id-2 div.sk-label input.sk-toggleable__control:checked~label.sk-toggleable__label {background-color: #d4ebff;}#sk-container-id-2 input.sk-hidden--visually {border: 0;clip: rect(1px 1px 1px 1px);clip: rect(1px, 1px, 1px, 1px);height: 1px;margin: -1px;overflow: hidden;padding: 0;position: absolute;width: 1px;}#sk-container-id-2 div.sk-estimator {font-family: monospace;background-color: #f0f8ff;border: 1px dotted black;border-radius: 0.25em;box-sizing: border-box;margin-bottom: 0.5em;}#sk-container-id-2 div.sk-estimator:hover {background-color: #d4ebff;}#sk-container-id-2 div.sk-parallel-item::after {content: \"\";width: 100%;border-bottom: 1px solid gray;flex-grow: 1;}#sk-container-id-2 div.sk-label:hover label.sk-toggleable__label {background-color: #d4ebff;}#sk-container-id-2 div.sk-serial::before {content: \"\";position: absolute;border-left: 1px solid gray;box-sizing: border-box;top: 0;bottom: 0;left: 50%;z-index: 0;}#sk-container-id-2 div.sk-serial {display: flex;flex-direction: column;align-items: center;background-color: white;padding-right: 0.2em;padding-left: 0.2em;position: relative;}#sk-container-id-2 div.sk-item {position: relative;z-index: 1;}#sk-container-id-2 div.sk-parallel {display: flex;align-items: stretch;justify-content: center;background-color: white;position: relative;}#sk-container-id-2 div.sk-item::before, #sk-container-id-2 div.sk-parallel-item::before {content: \"\";position: absolute;border-left: 1px solid gray;box-sizing: border-box;top: 0;bottom: 0;left: 50%;z-index: -1;}#sk-container-id-2 div.sk-parallel-item {display: flex;flex-direction: column;z-index: 1;position: relative;background-color: white;}#sk-container-id-2 div.sk-parallel-item:first-child::after {align-self: flex-end;width: 50%;}#sk-container-id-2 div.sk-parallel-item:last-child::after {align-self: flex-start;width: 50%;}#sk-container-id-2 div.sk-parallel-item:only-child::after {width: 0;}#sk-container-id-2 div.sk-dashed-wrapped {border: 1px dashed gray;margin: 0 0.4em 0.5em 0.4em;box-sizing: border-box;padding-bottom: 0.4em;background-color: white;}#sk-container-id-2 div.sk-label label {font-family: monospace;font-weight: bold;display: inline-block;line-height: 1.2em;}#sk-container-id-2 div.sk-label-container {text-align: center;}#sk-container-id-2 div.sk-container {/* jupyter's `normalize.less` sets `[hidden] { display: none; }` but bootstrap.min.css set `[hidden] { display: none !important; }` so we also need the `!important` here to be able to override the default hidden behavior on the sphinx rendered scikit-learn.org. See: https://github.com/scikit-learn/scikit-learn/issues/21755 */display: inline-block !important;position: relative;}#sk-container-id-2 div.sk-text-repr-fallback {display: none;}</style><div id=\"sk-container-id-2\" class=\"sk-top-container\"><div class=\"sk-text-repr-fallback\"><pre>LinearRegression()</pre><b>In a Jupyter environment, please rerun this cell to show the HTML representation or trust the notebook. <br />On GitHub, the HTML representation is unable to render, please try loading this page with nbviewer.org.</b></div><div class=\"sk-container\" hidden><div class=\"sk-item\"><div class=\"sk-estimator sk-toggleable\"><input class=\"sk-toggleable__control sk-hidden--visually\" id=\"sk-estimator-id-2\" type=\"checkbox\" checked><label for=\"sk-estimator-id-2\" class=\"sk-toggleable__label sk-toggleable__label-arrow\">LinearRegression</label><div class=\"sk-toggleable__content\"><pre>LinearRegression()</pre></div></div></div></div></div>"
      ],
      "text/plain": [
       "LinearRegression()"
      ]
     },
     "execution_count": 26,
     "metadata": {},
     "output_type": "execute_result"
    }
   ],
   "source": [
    "lr.fit(new_x, y_train)"
   ]
  },
  {
   "cell_type": "code",
   "execution_count": 27,
   "metadata": {},
   "outputs": [
    {
     "data": {
      "text/plain": [
       "0.9761483570739663"
      ]
     },
     "execution_count": 27,
     "metadata": {},
     "output_type": "execute_result"
    }
   ],
   "source": [
    "lr.score(new_x, y_train)"
   ]
  },
  {
   "cell_type": "code",
   "execution_count": 28,
   "metadata": {},
   "outputs": [
    {
     "data": {
      "text/plain": [
       "0.979484572195629"
      ]
     },
     "execution_count": 28,
     "metadata": {},
     "output_type": "execute_result"
    }
   ],
   "source": [
    "lr.score(sm.add_constant(x_test.drop(drop_list, axis = 1)), y_test)"
   ]
  },
  {
   "cell_type": "code",
   "execution_count": 29,
   "metadata": {},
   "outputs": [
    {
     "data": {
      "text/plain": [
       "0.21184416014767551"
      ]
     },
     "execution_count": 29,
     "metadata": {},
     "output_type": "execute_result"
    }
   ],
   "source": [
    "y_pred = lr.predict(sm.add_constant(x_test.drop(drop_list, axis = 1)))\n",
    "mse = mean_squared_error(y_test, y_pred)\n",
    "mse"
   ]
  },
  {
   "cell_type": "code",
   "execution_count": 30,
   "metadata": {},
   "outputs": [],
   "source": [
    "fin_x = pd.concat([new_x, sm.add_constant(x_test.drop(drop_list, axis = 1))], axis = 0)"
   ]
  },
  {
   "cell_type": "code",
   "execution_count": 31,
   "metadata": {},
   "outputs": [],
   "source": [
    "fin_y = pd.concat([y_train, y_test])"
   ]
  },
  {
   "cell_type": "code",
   "execution_count": 32,
   "metadata": {},
   "outputs": [
    {
     "data": {
      "text/html": [
       "<style>#sk-container-id-3 {color: black;background-color: white;}#sk-container-id-3 pre{padding: 0;}#sk-container-id-3 div.sk-toggleable {background-color: white;}#sk-container-id-3 label.sk-toggleable__label {cursor: pointer;display: block;width: 100%;margin-bottom: 0;padding: 0.3em;box-sizing: border-box;text-align: center;}#sk-container-id-3 label.sk-toggleable__label-arrow:before {content: \"▸\";float: left;margin-right: 0.25em;color: #696969;}#sk-container-id-3 label.sk-toggleable__label-arrow:hover:before {color: black;}#sk-container-id-3 div.sk-estimator:hover label.sk-toggleable__label-arrow:before {color: black;}#sk-container-id-3 div.sk-toggleable__content {max-height: 0;max-width: 0;overflow: hidden;text-align: left;background-color: #f0f8ff;}#sk-container-id-3 div.sk-toggleable__content pre {margin: 0.2em;color: black;border-radius: 0.25em;background-color: #f0f8ff;}#sk-container-id-3 input.sk-toggleable__control:checked~div.sk-toggleable__content {max-height: 200px;max-width: 100%;overflow: auto;}#sk-container-id-3 input.sk-toggleable__control:checked~label.sk-toggleable__label-arrow:before {content: \"▾\";}#sk-container-id-3 div.sk-estimator input.sk-toggleable__control:checked~label.sk-toggleable__label {background-color: #d4ebff;}#sk-container-id-3 div.sk-label input.sk-toggleable__control:checked~label.sk-toggleable__label {background-color: #d4ebff;}#sk-container-id-3 input.sk-hidden--visually {border: 0;clip: rect(1px 1px 1px 1px);clip: rect(1px, 1px, 1px, 1px);height: 1px;margin: -1px;overflow: hidden;padding: 0;position: absolute;width: 1px;}#sk-container-id-3 div.sk-estimator {font-family: monospace;background-color: #f0f8ff;border: 1px dotted black;border-radius: 0.25em;box-sizing: border-box;margin-bottom: 0.5em;}#sk-container-id-3 div.sk-estimator:hover {background-color: #d4ebff;}#sk-container-id-3 div.sk-parallel-item::after {content: \"\";width: 100%;border-bottom: 1px solid gray;flex-grow: 1;}#sk-container-id-3 div.sk-label:hover label.sk-toggleable__label {background-color: #d4ebff;}#sk-container-id-3 div.sk-serial::before {content: \"\";position: absolute;border-left: 1px solid gray;box-sizing: border-box;top: 0;bottom: 0;left: 50%;z-index: 0;}#sk-container-id-3 div.sk-serial {display: flex;flex-direction: column;align-items: center;background-color: white;padding-right: 0.2em;padding-left: 0.2em;position: relative;}#sk-container-id-3 div.sk-item {position: relative;z-index: 1;}#sk-container-id-3 div.sk-parallel {display: flex;align-items: stretch;justify-content: center;background-color: white;position: relative;}#sk-container-id-3 div.sk-item::before, #sk-container-id-3 div.sk-parallel-item::before {content: \"\";position: absolute;border-left: 1px solid gray;box-sizing: border-box;top: 0;bottom: 0;left: 50%;z-index: -1;}#sk-container-id-3 div.sk-parallel-item {display: flex;flex-direction: column;z-index: 1;position: relative;background-color: white;}#sk-container-id-3 div.sk-parallel-item:first-child::after {align-self: flex-end;width: 50%;}#sk-container-id-3 div.sk-parallel-item:last-child::after {align-self: flex-start;width: 50%;}#sk-container-id-3 div.sk-parallel-item:only-child::after {width: 0;}#sk-container-id-3 div.sk-dashed-wrapped {border: 1px dashed gray;margin: 0 0.4em 0.5em 0.4em;box-sizing: border-box;padding-bottom: 0.4em;background-color: white;}#sk-container-id-3 div.sk-label label {font-family: monospace;font-weight: bold;display: inline-block;line-height: 1.2em;}#sk-container-id-3 div.sk-label-container {text-align: center;}#sk-container-id-3 div.sk-container {/* jupyter's `normalize.less` sets `[hidden] { display: none; }` but bootstrap.min.css set `[hidden] { display: none !important; }` so we also need the `!important` here to be able to override the default hidden behavior on the sphinx rendered scikit-learn.org. See: https://github.com/scikit-learn/scikit-learn/issues/21755 */display: inline-block !important;position: relative;}#sk-container-id-3 div.sk-text-repr-fallback {display: none;}</style><div id=\"sk-container-id-3\" class=\"sk-top-container\"><div class=\"sk-text-repr-fallback\"><pre>LinearRegression()</pre><b>In a Jupyter environment, please rerun this cell to show the HTML representation or trust the notebook. <br />On GitHub, the HTML representation is unable to render, please try loading this page with nbviewer.org.</b></div><div class=\"sk-container\" hidden><div class=\"sk-item\"><div class=\"sk-estimator sk-toggleable\"><input class=\"sk-toggleable__control sk-hidden--visually\" id=\"sk-estimator-id-3\" type=\"checkbox\" checked><label for=\"sk-estimator-id-3\" class=\"sk-toggleable__label sk-toggleable__label-arrow\">LinearRegression</label><div class=\"sk-toggleable__content\"><pre>LinearRegression()</pre></div></div></div></div></div>"
      ],
      "text/plain": [
       "LinearRegression()"
      ]
     },
     "execution_count": 32,
     "metadata": {},
     "output_type": "execute_result"
    }
   ],
   "source": [
    "lr.fit(fin_x, fin_y)"
   ]
  },
  {
   "cell_type": "code",
   "execution_count": 33,
   "metadata": {},
   "outputs": [
    {
     "data": {
      "text/plain": [
       "0.97760029373128"
      ]
     },
     "execution_count": 33,
     "metadata": {},
     "output_type": "execute_result"
    }
   ],
   "source": [
    "lr.score(fin_x, fin_y)"
   ]
  },
  {
   "cell_type": "code",
   "execution_count": 34,
   "metadata": {},
   "outputs": [],
   "source": [
    "fin_pred = lr.predict(fin_x)"
   ]
  },
  {
   "cell_type": "code",
   "execution_count": 35,
   "metadata": {},
   "outputs": [
    {
     "data": {
      "text/plain": [
       "0.24412208841752306"
      ]
     },
     "execution_count": 35,
     "metadata": {},
     "output_type": "execute_result"
    }
   ],
   "source": [
    "mse = mean_squared_error(fin_y, fin_pred)\n",
    "mse"
   ]
  },
  {
   "cell_type": "code",
   "execution_count": null,
   "metadata": {},
   "outputs": [],
   "source": []
  },
  {
   "cell_type": "code",
   "execution_count": 36,
   "metadata": {},
   "outputs": [],
   "source": [
    "df_pred = df[df[\"crew\"].isna()]"
   ]
  },
  {
   "cell_type": "code",
   "execution_count": 37,
   "metadata": {},
   "outputs": [],
   "source": [
    "df_pred_line = df_pred[\"Cruise_line\"]"
   ]
  },
  {
   "cell_type": "code",
   "execution_count": 38,
   "metadata": {},
   "outputs": [],
   "source": [
    "df_pred2 = df_pred.iloc[:, 2:-1]"
   ]
  },
  {
   "cell_type": "code",
   "execution_count": 39,
   "metadata": {},
   "outputs": [],
   "source": [
    "df_pred2_ss = pd.DataFrame(ss.fit_transform(df_pred2), columns = df_pred2.columns)"
   ]
  },
  {
   "cell_type": "code",
   "execution_count": 40,
   "metadata": {},
   "outputs": [],
   "source": [
    "df_pred3 = pd.concat([df_pred2_ss, pd.get_dummies(df_pred_line, dtype = \"int64\").reset_index(drop = True)], axis = 1)"
   ]
  },
  {
   "cell_type": "code",
   "execution_count": 41,
   "metadata": {},
   "outputs": [],
   "source": [
    "df_pred3 = sm.add_constant(df_pred3.drop(drop_list, axis = 1))"
   ]
  },
  {
   "cell_type": "code",
   "execution_count": 42,
   "metadata": {},
   "outputs": [],
   "source": [
    "df_pred3[\"Crystal\"] = 0\n",
    "df_pred3[\"Oceania\"] = 0\n",
    "df_pred3[\"Orient\"] = 0\n",
    "df_pred3[\"P&O\"] = 0\n",
    "df_pred3[\"Windstar\"] = 0"
   ]
  },
  {
   "cell_type": "code",
   "execution_count": 43,
   "metadata": {},
   "outputs": [],
   "source": [
    "df_pred4 = df_pred3.iloc[:, [df_pred3.columns.tolist().index(i) for i in new_x.columns.tolist()]]"
   ]
  },
  {
   "cell_type": "code",
   "execution_count": 44,
   "metadata": {},
   "outputs": [
    {
     "data": {
      "text/plain": [
       "array([ 3.56177504,  6.39340204, 11.63131784,  6.34178591,  8.79154449,\n",
       "       11.96418347, 10.04075683, 11.97118422,  9.17518888, 10.231868  ,\n",
       "        9.52333041,  5.68892292,  9.50827941, 10.07478291,  9.5607985 ,\n",
       "        6.11630911,  5.37754867,  8.64552789,  5.96614689,  5.38135822,\n",
       "        6.34018221,  8.64788716,  7.09408775,  4.5426594 ,  7.087087  ,\n",
       "        8.94501797,  8.85882718,  7.20605883, 11.87022864, 11.13255866,\n",
       "        3.55890759,  4.98945251,  3.82915789,  8.41834164,  4.81677878,\n",
       "        7.7086541 ,  7.00517014,  8.03200632, 11.80751779, 18.77720891,\n",
       "        7.67351216,  8.41834164,  6.88646173, 11.80751779,  1.57718552,\n",
       "        2.94510663,  1.25468483,  6.96464803])"
      ]
     },
     "execution_count": 44,
     "metadata": {},
     "output_type": "execute_result"
    }
   ],
   "source": [
    "lr.predict(df_pred4)"
   ]
  },
  {
   "cell_type": "code",
   "execution_count": null,
   "metadata": {},
   "outputs": [],
   "source": []
  },
  {
   "cell_type": "code",
   "execution_count": null,
   "metadata": {},
   "outputs": [],
   "source": []
  },
  {
   "cell_type": "code",
   "execution_count": null,
   "metadata": {},
   "outputs": [],
   "source": []
  },
  {
   "cell_type": "code",
   "execution_count": null,
   "metadata": {},
   "outputs": [],
   "source": []
  },
  {
   "cell_type": "code",
   "execution_count": null,
   "metadata": {},
   "outputs": [],
   "source": []
  }
 ],
 "metadata": {
  "kernelspec": {
   "display_name": "Python 3 (ipykernel)",
   "language": "python",
   "name": "python3"
  },
  "language_info": {
   "codemirror_mode": {
    "name": "ipython",
    "version": 3
   },
   "file_extension": ".py",
   "mimetype": "text/x-python",
   "name": "python",
   "nbconvert_exporter": "python",
   "pygments_lexer": "ipython3",
   "version": "3.11.5"
  }
 },
 "nbformat": 4,
 "nbformat_minor": 4
}
