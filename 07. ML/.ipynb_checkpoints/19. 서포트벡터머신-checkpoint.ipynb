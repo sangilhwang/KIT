{
 "cells": [
  {
   "cell_type": "markdown",
   "id": "3d7c57aa",
   "metadata": {},
   "source": [
    "# 서포트벡터머신\n",
    "\n",
    "<img src = \"./image/svm.png\">"
   ]
  },
  {
   "cell_type": "markdown",
   "id": "c7d87471",
   "metadata": {},
   "source": [
    "- 범주를 나눠줄 수 있는 최적의 구분선(결정경계선)을 찾아내어 관측치의 범주를 예측하는 모델\n",
    "- 로지스틱 회귀나 판별분석에 비해 비선형 데이터에서 높은 정확도를 보이며 다른 모델들보다 과적합되는 경향이 적음"
   ]
  },
  {
   "cell_type": "markdown",
   "id": "b13331f1",
   "metadata": {},
   "source": [
    "<img src = \"./image/svm_margin.png\">"
   ]
  },
  {
   "cell_type": "markdown",
   "id": "ba9feaa4",
   "metadata": {},
   "source": [
    "- 마진\n",
    "    - 결정 경계와 데이터군 사이의 거리\n",
    "    - 마진을 최대화하는 선이 최적의 결정경계\n",
    "    \n",
    "- SVM은 결정경계선(Decision Boundry)의 양쪽의 빈 공간  마진(Margin)을 최대화하도록 만들어졌음\n",
    "    - 마진과 맞닿아서 결정경계선의 위치와 각도를 정해줄 수 있는 기준이 되는 관측치를 서포트 벡터(Support Vector)라고 함\n",
    "    - 결정경계선을 지지(support)해주고 있기 때문에 이름이 지어짐\n",
    "    - svm은 서포트 벡터만으로 범주의 구분 기준인 결정경계선을 정하기 때문에 학습 효율이 높음\n",
    "    - 마진은 결정경계선과 서포트 벡터의 거리를 의미\n",
    "    \n",
    "- 기계학습에서 거리(distance)를 통해 분류나 회귀 모델을 만드는 경우에는 데이터 정규화나 표준화를 해주는 것을 추천\n",
    "    - 변수마다 단위가 다르게 되면 모델 성능이 매우 떨어지기 때문\n",
    "    \n",
    "- 독립변수가 2개라면 2차원상의 결정경계선을 표현할 수 있음\n",
    "    - 독립변수가 3개로 늘어나면 결정경계선은 평면(plane)이 됨\n",
    "    - 그 이상으로 차원이 증가하면 그림으로 표현할 수 없는 초평면(hyperplane)이 결정경계선이 됨\n",
    "    - 따라서 SVM은 MMH(Maximum Marginal Hyperplane, 최대 마진 초평면)을 찾아 범주를 분리하는 분류 기법\n",
    "    \n",
    "- 하지만 대부분의 데이터는 이상치가 있을 수 있음\n",
    "    - 결정경계선을 만들 때 이상치를 허용하지 않는 경우에는 과적합 문제가 발생할 가능성이 있음\n",
    "    - 따라서 어느정도 이상치를 허용해주도록 하여 두 범주를 정확하게 나누지는 않지만 마진을 최대화하여 과적합을 방지할 수 있음\n",
    "        - 이런 개념을 소프트 마진(Soft Margin)이라고 함\n",
    "        - 반대로 이상치를 허용하지 않는 것을 하드 마진(Hard Margin)이라고 함"
   ]
  },
  {
   "cell_type": "markdown",
   "id": "ca30787b",
   "metadata": {},
   "source": [
    "<img src = \"./image/svm_soft_hard.png\">"
   ]
  },
  {
   "cell_type": "markdown",
   "id": "3e9e8f12",
   "metadata": {},
   "source": [
    "- 소프트 마진과 하드 마진을 조정해주는 매개 변수로는 C와 Gamma가 사용됨\n",
    "    - C값을 낮게 설정하면 이상치들이 있을 가능성을 높게 잡아서 마진 오류를 더 많이 허용함\n",
    "        - 마진 오류란 결정 경계와 마진 사이, 또는 마진 내부에 위치하는 훈련 데이터 포인트\n",
    "        - 모델이 더 단순해지고 일반화 성능이 높아질 수 있지만 너무 낮게 설정하면 모델이 너무 단순해져서 데이터의 구조를 충분히 학습하지 못할 수 있음(과소적합)\n",
    "        \n",
    "    - C값을 높게 설정하면 이상치들이 있을 가능성을 낮게 잡아서 마진 오류를 적게 허용함\n",
    "        - 즉, 분류 오류에 대해 높은 페널티를 부여하여 오류를 최소화\n",
    "        - 이는 모델이 훈련 데이터에 더 정확히 맞추려고 하지만 동시에 과대적합될 위험이 커짐\n",
    "        - 따라서 훈련 데이터에는 잘 맞지만 새로운 데이터에는 잘 일반화되지 않을 수 있음\n",
    "        \n",
    "    - Gamma 값은 관측치가 영향력을 행사하는 거리를 조정해주는 것\n",
    "        - 값이 클 수록 영향력의 거리는 짧아지고, 값이 작을수록 영향력의 거리는 길어짐\n",
    "            - 커질수록 각각의 관측치에 대한 결정경계선 범위가 작아짐\n",
    "            - gamma 값이 커지면 여러 개의 결정경계선이 생기게 될 수 있음 "
   ]
  },
  {
   "cell_type": "markdown",
   "id": "12f7ab44",
   "metadata": {},
   "source": [
    "<img src = \"./image/svm_gamma.png\">"
   ]
  },
  {
   "cell_type": "markdown",
   "id": "2c5c33ce",
   "metadata": {},
   "source": [
    "- 위와 같은 데이터 분포에서는 아무리 소프트마진을 높게 설정하더라도, 결정경계선을 만들기 힘들고, 만든다 하더라도 성능이 떨어지게 됨\n",
    "    - 그런 경우 사용하는 것이 커널 기법(Kernel Trick)\n",
    "    \n",
    "- 커널 기법은 기존의 데이터를 고차원 공간간으로 확장하여 새로운 결정경계선을 만들어내는 방법\n",
    "        - 커널 기법에는 PolyNomial 커널, Sigmoid 커널, 가우시안 RBF 커널 등 다양한 종류가 있음"
   ]
  },
  {
   "cell_type": "markdown",
   "id": "688b2a03",
   "metadata": {},
   "source": [
    "- SVM 모델을 만들 때는 C값과 Gamma 값을 잘 조정해 가면서 모델의 복잡도를 적정 수준으로 맞춰줘야 함\n",
    "- 각 조건의 모델의 정확도, 검증 데이터넷의 오분류율 증감을 확인해가면서 과대적합과 과소적합 사이의 최적의 모델을 만들어야 함"
   ]
  },
  {
   "cell_type": "code",
   "execution_count": 1,
   "id": "dac8a800",
   "metadata": {},
   "outputs": [],
   "source": [
    "from sklearn.preprocessing import MinMaxScaler\n",
    "from sklearn.model_selection import train_test_split\n",
    "from sklearn.svm import SVC\n",
    "import pandas as pd\n",
    "import mglearn\n",
    "import matplotlib.pyplot as plt\n",
    "from sklearn.decomposition import PCA\n",
    "import warnings\n",
    "warnings.filterwarnings(\"ignore\")"
   ]
  },
  {
   "cell_type": "code",
   "execution_count": 2,
   "id": "d41f9950",
   "metadata": {},
   "outputs": [],
   "source": [
    "df = pd.read_excel(\"./data/Raisin_Dataset.xlsx\")"
   ]
  },
  {
   "cell_type": "code",
   "execution_count": 3,
   "id": "4dde2e10",
   "metadata": {},
   "outputs": [
    {
     "data": {
      "text/html": [
       "<div>\n",
       "<style scoped>\n",
       "    .dataframe tbody tr th:only-of-type {\n",
       "        vertical-align: middle;\n",
       "    }\n",
       "\n",
       "    .dataframe tbody tr th {\n",
       "        vertical-align: top;\n",
       "    }\n",
       "\n",
       "    .dataframe thead th {\n",
       "        text-align: right;\n",
       "    }\n",
       "</style>\n",
       "<table border=\"1\" class=\"dataframe\">\n",
       "  <thead>\n",
       "    <tr style=\"text-align: right;\">\n",
       "      <th></th>\n",
       "      <th>Area</th>\n",
       "      <th>MajorAxisLength</th>\n",
       "      <th>MinorAxisLength</th>\n",
       "      <th>Eccentricity</th>\n",
       "      <th>ConvexArea</th>\n",
       "      <th>Extent</th>\n",
       "      <th>Perimeter</th>\n",
       "      <th>Class</th>\n",
       "    </tr>\n",
       "  </thead>\n",
       "  <tbody>\n",
       "    <tr>\n",
       "      <th>0</th>\n",
       "      <td>87524</td>\n",
       "      <td>442.246011</td>\n",
       "      <td>253.291155</td>\n",
       "      <td>0.819738</td>\n",
       "      <td>90546</td>\n",
       "      <td>0.758651</td>\n",
       "      <td>1184.040</td>\n",
       "      <td>Kecimen</td>\n",
       "    </tr>\n",
       "    <tr>\n",
       "      <th>1</th>\n",
       "      <td>75166</td>\n",
       "      <td>406.690687</td>\n",
       "      <td>243.032436</td>\n",
       "      <td>0.801805</td>\n",
       "      <td>78789</td>\n",
       "      <td>0.684130</td>\n",
       "      <td>1121.786</td>\n",
       "      <td>Kecimen</td>\n",
       "    </tr>\n",
       "    <tr>\n",
       "      <th>2</th>\n",
       "      <td>90856</td>\n",
       "      <td>442.267048</td>\n",
       "      <td>266.328318</td>\n",
       "      <td>0.798354</td>\n",
       "      <td>93717</td>\n",
       "      <td>0.637613</td>\n",
       "      <td>1208.575</td>\n",
       "      <td>Kecimen</td>\n",
       "    </tr>\n",
       "    <tr>\n",
       "      <th>3</th>\n",
       "      <td>45928</td>\n",
       "      <td>286.540559</td>\n",
       "      <td>208.760042</td>\n",
       "      <td>0.684989</td>\n",
       "      <td>47336</td>\n",
       "      <td>0.699599</td>\n",
       "      <td>844.162</td>\n",
       "      <td>Kecimen</td>\n",
       "    </tr>\n",
       "    <tr>\n",
       "      <th>4</th>\n",
       "      <td>79408</td>\n",
       "      <td>352.190770</td>\n",
       "      <td>290.827533</td>\n",
       "      <td>0.564011</td>\n",
       "      <td>81463</td>\n",
       "      <td>0.792772</td>\n",
       "      <td>1073.251</td>\n",
       "      <td>Kecimen</td>\n",
       "    </tr>\n",
       "  </tbody>\n",
       "</table>\n",
       "</div>"
      ],
      "text/plain": [
       "    Area  MajorAxisLength  MinorAxisLength  Eccentricity  ConvexArea  \\\n",
       "0  87524       442.246011       253.291155      0.819738       90546   \n",
       "1  75166       406.690687       243.032436      0.801805       78789   \n",
       "2  90856       442.267048       266.328318      0.798354       93717   \n",
       "3  45928       286.540559       208.760042      0.684989       47336   \n",
       "4  79408       352.190770       290.827533      0.564011       81463   \n",
       "\n",
       "     Extent  Perimeter    Class  \n",
       "0  0.758651   1184.040  Kecimen  \n",
       "1  0.684130   1121.786  Kecimen  \n",
       "2  0.637613   1208.575  Kecimen  \n",
       "3  0.699599    844.162  Kecimen  \n",
       "4  0.792772   1073.251  Kecimen  "
      ]
     },
     "execution_count": 3,
     "metadata": {},
     "output_type": "execute_result"
    }
   ],
   "source": [
    "df.head()"
   ]
  },
  {
   "cell_type": "code",
   "execution_count": 4,
   "id": "af73b129",
   "metadata": {},
   "outputs": [
    {
     "data": {
      "text/plain": [
       "(900, 8)"
      ]
     },
     "execution_count": 4,
     "metadata": {},
     "output_type": "execute_result"
    }
   ],
   "source": [
    "df.shape"
   ]
  },
  {
   "cell_type": "code",
   "execution_count": 5,
   "id": "fcdbf044",
   "metadata": {},
   "outputs": [
    {
     "name": "stdout",
     "output_type": "stream",
     "text": [
      "<class 'pandas.core.frame.DataFrame'>\n",
      "RangeIndex: 900 entries, 0 to 899\n",
      "Data columns (total 8 columns):\n",
      " #   Column           Non-Null Count  Dtype  \n",
      "---  ------           --------------  -----  \n",
      " 0   Area             900 non-null    int64  \n",
      " 1   MajorAxisLength  900 non-null    float64\n",
      " 2   MinorAxisLength  900 non-null    float64\n",
      " 3   Eccentricity     900 non-null    float64\n",
      " 4   ConvexArea       900 non-null    int64  \n",
      " 5   Extent           900 non-null    float64\n",
      " 6   Perimeter        900 non-null    float64\n",
      " 7   Class            900 non-null    object \n",
      "dtypes: float64(5), int64(2), object(1)\n",
      "memory usage: 56.4+ KB\n"
     ]
    }
   ],
   "source": [
    "df.info()"
   ]
  },
  {
   "cell_type": "code",
   "execution_count": 6,
   "id": "a09c60e9",
   "metadata": {},
   "outputs": [
    {
     "data": {
      "text/html": [
       "<div>\n",
       "<style scoped>\n",
       "    .dataframe tbody tr th:only-of-type {\n",
       "        vertical-align: middle;\n",
       "    }\n",
       "\n",
       "    .dataframe tbody tr th {\n",
       "        vertical-align: top;\n",
       "    }\n",
       "\n",
       "    .dataframe thead th {\n",
       "        text-align: right;\n",
       "    }\n",
       "</style>\n",
       "<table border=\"1\" class=\"dataframe\">\n",
       "  <thead>\n",
       "    <tr style=\"text-align: right;\">\n",
       "      <th></th>\n",
       "      <th>Area</th>\n",
       "      <th>MajorAxisLength</th>\n",
       "      <th>MinorAxisLength</th>\n",
       "      <th>Eccentricity</th>\n",
       "      <th>ConvexArea</th>\n",
       "      <th>Extent</th>\n",
       "      <th>Perimeter</th>\n",
       "    </tr>\n",
       "  </thead>\n",
       "  <tbody>\n",
       "    <tr>\n",
       "      <th>count</th>\n",
       "      <td>900.000000</td>\n",
       "      <td>900.000000</td>\n",
       "      <td>900.000000</td>\n",
       "      <td>900.000000</td>\n",
       "      <td>900.000000</td>\n",
       "      <td>900.000000</td>\n",
       "      <td>900.000000</td>\n",
       "    </tr>\n",
       "    <tr>\n",
       "      <th>mean</th>\n",
       "      <td>87804.127778</td>\n",
       "      <td>430.929950</td>\n",
       "      <td>254.488133</td>\n",
       "      <td>0.781542</td>\n",
       "      <td>91186.090000</td>\n",
       "      <td>0.699508</td>\n",
       "      <td>1165.906636</td>\n",
       "    </tr>\n",
       "    <tr>\n",
       "      <th>std</th>\n",
       "      <td>39002.111390</td>\n",
       "      <td>116.035121</td>\n",
       "      <td>49.988902</td>\n",
       "      <td>0.090318</td>\n",
       "      <td>40769.290132</td>\n",
       "      <td>0.053468</td>\n",
       "      <td>273.764315</td>\n",
       "    </tr>\n",
       "    <tr>\n",
       "      <th>min</th>\n",
       "      <td>25387.000000</td>\n",
       "      <td>225.629541</td>\n",
       "      <td>143.710872</td>\n",
       "      <td>0.348730</td>\n",
       "      <td>26139.000000</td>\n",
       "      <td>0.379856</td>\n",
       "      <td>619.074000</td>\n",
       "    </tr>\n",
       "    <tr>\n",
       "      <th>25%</th>\n",
       "      <td>59348.000000</td>\n",
       "      <td>345.442898</td>\n",
       "      <td>219.111126</td>\n",
       "      <td>0.741766</td>\n",
       "      <td>61513.250000</td>\n",
       "      <td>0.670869</td>\n",
       "      <td>966.410750</td>\n",
       "    </tr>\n",
       "    <tr>\n",
       "      <th>50%</th>\n",
       "      <td>78902.000000</td>\n",
       "      <td>407.803951</td>\n",
       "      <td>247.848409</td>\n",
       "      <td>0.798846</td>\n",
       "      <td>81651.000000</td>\n",
       "      <td>0.707367</td>\n",
       "      <td>1119.509000</td>\n",
       "    </tr>\n",
       "    <tr>\n",
       "      <th>75%</th>\n",
       "      <td>105028.250000</td>\n",
       "      <td>494.187014</td>\n",
       "      <td>279.888575</td>\n",
       "      <td>0.842571</td>\n",
       "      <td>108375.750000</td>\n",
       "      <td>0.734991</td>\n",
       "      <td>1308.389750</td>\n",
       "    </tr>\n",
       "    <tr>\n",
       "      <th>max</th>\n",
       "      <td>235047.000000</td>\n",
       "      <td>997.291941</td>\n",
       "      <td>492.275279</td>\n",
       "      <td>0.962124</td>\n",
       "      <td>278217.000000</td>\n",
       "      <td>0.835455</td>\n",
       "      <td>2697.753000</td>\n",
       "    </tr>\n",
       "  </tbody>\n",
       "</table>\n",
       "</div>"
      ],
      "text/plain": [
       "                Area  MajorAxisLength  MinorAxisLength  Eccentricity  \\\n",
       "count     900.000000       900.000000       900.000000    900.000000   \n",
       "mean    87804.127778       430.929950       254.488133      0.781542   \n",
       "std     39002.111390       116.035121        49.988902      0.090318   \n",
       "min     25387.000000       225.629541       143.710872      0.348730   \n",
       "25%     59348.000000       345.442898       219.111126      0.741766   \n",
       "50%     78902.000000       407.803951       247.848409      0.798846   \n",
       "75%    105028.250000       494.187014       279.888575      0.842571   \n",
       "max    235047.000000       997.291941       492.275279      0.962124   \n",
       "\n",
       "          ConvexArea      Extent    Perimeter  \n",
       "count     900.000000  900.000000   900.000000  \n",
       "mean    91186.090000    0.699508  1165.906636  \n",
       "std     40769.290132    0.053468   273.764315  \n",
       "min     26139.000000    0.379856   619.074000  \n",
       "25%     61513.250000    0.670869   966.410750  \n",
       "50%     81651.000000    0.707367  1119.509000  \n",
       "75%    108375.750000    0.734991  1308.389750  \n",
       "max    278217.000000    0.835455  2697.753000  "
      ]
     },
     "execution_count": 6,
     "metadata": {},
     "output_type": "execute_result"
    }
   ],
   "source": [
    "df.describe()"
   ]
  },
  {
   "cell_type": "code",
   "execution_count": 7,
   "id": "ee4f65ed",
   "metadata": {},
   "outputs": [
    {
     "data": {
      "text/plain": [
       "Class\n",
       "Kecimen    450\n",
       "Besni      450\n",
       "Name: count, dtype: int64"
      ]
     },
     "execution_count": 7,
     "metadata": {},
     "output_type": "execute_result"
    }
   ],
   "source": [
    "df[\"Class\"].value_counts()"
   ]
  },
  {
   "cell_type": "code",
   "execution_count": 8,
   "id": "cd173112",
   "metadata": {},
   "outputs": [],
   "source": [
    "# 독립변수 정규화\n",
    "x = df.drop([\"Area\", \"Class\"], axis = 1)\n",
    "y = df[[\"Class\"]]"
   ]
  },
  {
   "cell_type": "code",
   "execution_count": 10,
   "id": "1f54beb5",
   "metadata": {},
   "outputs": [],
   "source": [
    "x_train, x_test, y_train, y_test = train_test_split(x, y, test_size = 0.3, stratify = y, random_state = 11)"
   ]
  },
  {
   "cell_type": "code",
   "execution_count": 11,
   "id": "fd11ca7a",
   "metadata": {},
   "outputs": [
    {
     "data": {
      "text/plain": [
       "((630, 6), (270, 6))"
      ]
     },
     "execution_count": 11,
     "metadata": {},
     "output_type": "execute_result"
    }
   ],
   "source": [
    "x_train.shape, x_test.shape"
   ]
  },
  {
   "cell_type": "code",
   "execution_count": 12,
   "id": "5e1b5177",
   "metadata": {},
   "outputs": [],
   "source": [
    "mm = MinMaxScaler()\n",
    "scaled_train = mm.fit_transform(x_train)\n",
    "scaled_test = mm.transform(x_test)"
   ]
  },
  {
   "cell_type": "code",
   "execution_count": 13,
   "id": "40d56adc",
   "metadata": {},
   "outputs": [
    {
     "data": {
      "text/plain": [
       "array([[0.60148148, 0.63629087, 0.8553486 , 0.72853776, 0.8769718 ,\n",
       "        0.61738288],\n",
       "       [0.15129223, 0.11262625, 0.82276613, 0.09439583, 0.51531441,\n",
       "        0.13091038],\n",
       "       [0.17578871, 0.35612449, 0.60170745, 0.20593769, 0.80400142,\n",
       "        0.19998708],\n",
       "       ...,\n",
       "       [0.19925425, 0.41552883, 0.57944759, 0.25261538, 0.77204225,\n",
       "        0.24401385],\n",
       "       [0.32957243, 0.24883322, 0.88154531, 0.26864495, 0.73555446,\n",
       "        0.33251173],\n",
       "       [0.0956634 , 0.30553537, 0.43519788, 0.1341847 , 0.81537466,\n",
       "        0.13221263]])"
      ]
     },
     "execution_count": 13,
     "metadata": {},
     "output_type": "execute_result"
    }
   ],
   "source": [
    "scaled_test"
   ]
  },
  {
   "cell_type": "code",
   "execution_count": 15,
   "id": "e9b2489a",
   "metadata": {},
   "outputs": [
    {
     "name": "stdout",
     "output_type": "stream",
     "text": [
      "0.8682539682539683\n",
      "0.8777777777777778\n"
     ]
    }
   ],
   "source": [
    "# 선형 SVM 모델 성능 확인\n",
    "# 3차항(degree), 학습 반복횟수(max_iter) 1000 설정\n",
    "svm_model = SVC(kernel = \"linear\", degree = 3, gamma = \"auto\", C = 10, max_iter = 1000)\n",
    "\n",
    "svm_model.fit(scaled_train, y_train)\n",
    "\n",
    "print(svm_model.score(scaled_train, y_train))\n",
    "print(svm_model.score(scaled_test, y_test))"
   ]
  },
  {
   "cell_type": "code",
   "execution_count": 17,
   "id": "03bd5fff",
   "metadata": {},
   "outputs": [
    {
     "data": {
      "text/html": [
       "<div>\n",
       "<style scoped>\n",
       "    .dataframe tbody tr th:only-of-type {\n",
       "        vertical-align: middle;\n",
       "    }\n",
       "\n",
       "    .dataframe tbody tr th {\n",
       "        vertical-align: top;\n",
       "    }\n",
       "\n",
       "    .dataframe thead th {\n",
       "        text-align: right;\n",
       "    }\n",
       "</style>\n",
       "<table border=\"1\" class=\"dataframe\">\n",
       "  <thead>\n",
       "    <tr style=\"text-align: right;\">\n",
       "      <th></th>\n",
       "      <th>MajorAxisLength</th>\n",
       "      <th>MinorAxisLength</th>\n",
       "      <th>Eccentricity</th>\n",
       "      <th>ConvexArea</th>\n",
       "      <th>Extent</th>\n",
       "      <th>Perimeter</th>\n",
       "    </tr>\n",
       "  </thead>\n",
       "  <tbody>\n",
       "    <tr>\n",
       "      <th>555</th>\n",
       "      <td>518.720443</td>\n",
       "      <td>305.735810</td>\n",
       "      <td>0.807839</td>\n",
       "      <td>125665</td>\n",
       "      <td>0.706665</td>\n",
       "      <td>1418.304</td>\n",
       "    </tr>\n",
       "    <tr>\n",
       "      <th>212</th>\n",
       "      <td>372.699124</td>\n",
       "      <td>196.976135</td>\n",
       "      <td>0.848926</td>\n",
       "      <td>58786</td>\n",
       "      <td>0.769151</td>\n",
       "      <td>949.936</td>\n",
       "    </tr>\n",
       "    <tr>\n",
       "      <th>652</th>\n",
       "      <td>488.215004</td>\n",
       "      <td>261.724260</td>\n",
       "      <td>0.844165</td>\n",
       "      <td>101977</td>\n",
       "      <td>0.679432</td>\n",
       "      <td>1259.069</td>\n",
       "    </tr>\n",
       "    <tr>\n",
       "      <th>155</th>\n",
       "      <td>423.844374</td>\n",
       "      <td>253.809071</td>\n",
       "      <td>0.800879</td>\n",
       "      <td>86345</td>\n",
       "      <td>0.653494</td>\n",
       "      <td>1153.434</td>\n",
       "    </tr>\n",
       "    <tr>\n",
       "      <th>660</th>\n",
       "      <td>351.203707</td>\n",
       "      <td>197.213642</td>\n",
       "      <td>0.827452</td>\n",
       "      <td>56030</td>\n",
       "      <td>0.706142</td>\n",
       "      <td>934.490</td>\n",
       "    </tr>\n",
       "  </tbody>\n",
       "</table>\n",
       "</div>"
      ],
      "text/plain": [
       "     MajorAxisLength  MinorAxisLength  Eccentricity  ConvexArea    Extent  \\\n",
       "555       518.720443       305.735810      0.807839      125665  0.706665   \n",
       "212       372.699124       196.976135      0.848926       58786  0.769151   \n",
       "652       488.215004       261.724260      0.844165      101977  0.679432   \n",
       "155       423.844374       253.809071      0.800879       86345  0.653494   \n",
       "660       351.203707       197.213642      0.827452       56030  0.706142   \n",
       "\n",
       "     Perimeter  \n",
       "555   1418.304  \n",
       "212    949.936  \n",
       "652   1259.069  \n",
       "155   1153.434  \n",
       "660    934.490  "
      ]
     },
     "execution_count": 17,
     "metadata": {},
     "output_type": "execute_result"
    }
   ],
   "source": [
    "x_train.head()"
   ]
  },
  {
   "cell_type": "code",
   "execution_count": 16,
   "id": "e496e106",
   "metadata": {},
   "outputs": [
    {
     "data": {
      "text/html": [
       "<div>\n",
       "<style scoped>\n",
       "    .dataframe tbody tr th:only-of-type {\n",
       "        vertical-align: middle;\n",
       "    }\n",
       "\n",
       "    .dataframe tbody tr th {\n",
       "        vertical-align: top;\n",
       "    }\n",
       "\n",
       "    .dataframe thead th {\n",
       "        text-align: right;\n",
       "    }\n",
       "</style>\n",
       "<table border=\"1\" class=\"dataframe\">\n",
       "  <thead>\n",
       "    <tr style=\"text-align: right;\">\n",
       "      <th></th>\n",
       "      <th>C1</th>\n",
       "      <th>C2</th>\n",
       "    </tr>\n",
       "  </thead>\n",
       "  <tbody>\n",
       "    <tr>\n",
       "      <th>0</th>\n",
       "      <td>0.323752</td>\n",
       "      <td>0.045585</td>\n",
       "    </tr>\n",
       "    <tr>\n",
       "      <th>1</th>\n",
       "      <td>-0.230908</td>\n",
       "      <td>-0.109604</td>\n",
       "    </tr>\n",
       "    <tr>\n",
       "      <th>2</th>\n",
       "      <td>0.143324</td>\n",
       "      <td>-0.095886</td>\n",
       "    </tr>\n",
       "    <tr>\n",
       "      <th>3</th>\n",
       "      <td>0.005804</td>\n",
       "      <td>-0.068541</td>\n",
       "    </tr>\n",
       "    <tr>\n",
       "      <th>4</th>\n",
       "      <td>-0.260201</td>\n",
       "      <td>-0.136355</td>\n",
       "    </tr>\n",
       "  </tbody>\n",
       "</table>\n",
       "</div>"
      ],
      "text/plain": [
       "         C1        C2\n",
       "0  0.323752  0.045585\n",
       "1 -0.230908 -0.109604\n",
       "2  0.143324 -0.095886\n",
       "3  0.005804 -0.068541\n",
       "4 -0.260201 -0.136355"
      ]
     },
     "execution_count": 16,
     "metadata": {},
     "output_type": "execute_result"
    }
   ],
   "source": [
    "# 시각화를 위한 차원 축소\n",
    "\n",
    "# 주성분 개수 설정\n",
    "pca = PCA(n_components = 2)\n",
    "df_pca = pca.fit_transform(scaled_train)\n",
    "\n",
    "# 주성분으로 변형된 테이블 생성\n",
    "df_pca = pd.DataFrame(data = df_pca, columns = [\"C1\", \"C2\"])\n",
    "df_pca.head()"
   ]
  },
  {
   "cell_type": "code",
   "execution_count": 23,
   "id": "2301ec40",
   "metadata": {},
   "outputs": [
    {
     "name": "stdout",
     "output_type": "stream",
     "text": [
      "rbf SVM : C : 1, train set score : 0.8683, test set score : 0.8815\n",
      "rbf SVM : C : 2, train set score : 0.8683, test set score : 0.8815\n",
      "rbf SVM : C : 3, train set score : 0.8698, test set score : 0.8778\n",
      "rbf SVM : C : 4, train set score : 0.8683, test set score : 0.8778\n",
      "rbf SVM : C : 5, train set score : 0.8651, test set score : 0.8778\n",
      "rbf SVM : C : 6, train set score : 0.8635, test set score : 0.8778\n",
      "rbf SVM : C : 7, train set score : 0.8667, test set score : 0.8778\n",
      "rbf SVM : C : 8, train set score : 0.8651, test set score : 0.8778\n",
      "rbf SVM : C : 9, train set score : 0.8635, test set score : 0.8778\n",
      "rbf SVM : C : 10, train set score : 0.8635, test set score : 0.8778\n",
      "rbf SVM : C : 11, train set score : 0.8635, test set score : 0.8778\n",
      "rbf SVM : C : 12, train set score : 0.8619, test set score : 0.8778\n",
      "rbf SVM : C : 13, train set score : 0.8619, test set score : 0.8778\n",
      "rbf SVM : C : 14, train set score : 0.8603, test set score : 0.8778\n",
      "rbf SVM : C : 15, train set score : 0.8603, test set score : 0.8778\n",
      "rbf SVM : C : 16, train set score : 0.8603, test set score : 0.8778\n",
      "rbf SVM : C : 17, train set score : 0.8619, test set score : 0.8778\n",
      "rbf SVM : C : 18, train set score : 0.8619, test set score : 0.8778\n",
      "rbf SVM : C : 19, train set score : 0.8619, test set score : 0.8778\n",
      "rbf SVM : C : 20, train set score : 0.8619, test set score : 0.8778\n",
      "rbf SVM : C : 21, train set score : 0.8619, test set score : 0.8778\n",
      "rbf SVM : C : 22, train set score : 0.8651, test set score : 0.8778\n",
      "rbf SVM : C : 23, train set score : 0.8651, test set score : 0.8778\n",
      "rbf SVM : C : 24, train set score : 0.8651, test set score : 0.8741\n",
      "rbf SVM : C : 25, train set score : 0.8651, test set score : 0.8778\n",
      "rbf SVM : C : 26, train set score : 0.8651, test set score : 0.8778\n",
      "rbf SVM : C : 27, train set score : 0.8635, test set score : 0.8741\n",
      "rbf SVM : C : 28, train set score : 0.8635, test set score : 0.8741\n",
      "rbf SVM : C : 29, train set score : 0.8635, test set score : 0.8741\n",
      "rbf SVM : C : 30, train set score : 0.8635, test set score : 0.8741\n"
     ]
    }
   ],
   "source": [
    "# SVM C값 1 ~ 30 에 따른 모델 성능 확인\n",
    "scores = []\n",
    "\n",
    "for c_point in range(1, 31):\n",
    "    svc = SVC(kernel = \"rbf\", C = c_point, max_iter = 1000)\n",
    "    c_model = svc.fit(scaled_train, y_train)\n",
    "    train_score = c_model.score(scaled_train, y_train)\n",
    "    test_score = c_model.score(scaled_test, y_test)\n",
    "    print(f\"rbf SVM : C : {c_point}, train set score : {train_score:.4f}, test set score : {test_score:.4f}\")\n",
    "    scores.append([train_score, test_score])"
   ]
  },
  {
   "cell_type": "code",
   "execution_count": 24,
   "id": "546ae61d",
   "metadata": {},
   "outputs": [
    {
     "data": {
      "text/plain": [
       "[[0.8682539682539683, 0.8814814814814815],\n",
       " [0.8682539682539683, 0.8814814814814815],\n",
       " [0.8698412698412699, 0.8777777777777778],\n",
       " [0.8682539682539683, 0.8777777777777778],\n",
       " [0.8650793650793651, 0.8777777777777778],\n",
       " [0.8634920634920635, 0.8777777777777778],\n",
       " [0.8666666666666667, 0.8777777777777778],\n",
       " [0.8650793650793651, 0.8777777777777778],\n",
       " [0.8634920634920635, 0.8777777777777778],\n",
       " [0.8634920634920635, 0.8777777777777778],\n",
       " [0.8634920634920635, 0.8777777777777778],\n",
       " [0.861904761904762, 0.8777777777777778],\n",
       " [0.861904761904762, 0.8777777777777778],\n",
       " [0.8603174603174604, 0.8777777777777778],\n",
       " [0.8603174603174604, 0.8777777777777778],\n",
       " [0.8603174603174604, 0.8777777777777778],\n",
       " [0.861904761904762, 0.8777777777777778],\n",
       " [0.861904761904762, 0.8777777777777778],\n",
       " [0.861904761904762, 0.8777777777777778],\n",
       " [0.861904761904762, 0.8777777777777778],\n",
       " [0.861904761904762, 0.8777777777777778],\n",
       " [0.8650793650793651, 0.8777777777777778],\n",
       " [0.8650793650793651, 0.8777777777777778],\n",
       " [0.8650793650793651, 0.8740740740740741],\n",
       " [0.8650793650793651, 0.8777777777777778],\n",
       " [0.8650793650793651, 0.8777777777777778],\n",
       " [0.8634920634920635, 0.8740740740740741],\n",
       " [0.8634920634920635, 0.8740740740740741],\n",
       " [0.8634920634920635, 0.8740740740740741],\n",
       " [0.8634920634920635, 0.8740740740740741]]"
      ]
     },
     "execution_count": 24,
     "metadata": {},
     "output_type": "execute_result"
    }
   ],
   "source": [
    "scores"
   ]
  },
  {
   "cell_type": "code",
   "execution_count": 32,
   "id": "603566e1",
   "metadata": {},
   "outputs": [
    {
     "data": {
      "image/png": "[encoded data removed]",
      "text/plain": [
       "<Figure size 1500x500 with 3 Axes>"
      ]
     },
     "metadata": {},
     "output_type": "display_data"
    }
   ],
   "source": [
    "vsl_x = df_pca.to_numpy()\n",
    "vsl_y = y_train['Class'].to_numpy()\n",
    "\n",
    "# 3개의 서브플랏을 만들어줌 \n",
    "fig, axes = plt.subplots(1, 3, figsize = (15, 5))\n",
    "\n",
    "# C 값 1, 20, 30, 에 따른 결정경계 시각화\n",
    "for c_point, ax in zip([1, 20, 30], axes):\n",
    "    c_svc_model = SVC(kernel='rbf', max_iter= 1000, gamma= 0.5, C= c_point)\n",
    "    c_svc_model.fit(vsl_x, vsl_y)\n",
    "    \n",
    "    mglearn.plots.plot_2d_separator(c_svc_model, vsl_x, fill = True, eps= 0.5, ax = ax,\n",
    "                                    alpha = 0.2)\n",
    "    mglearn.discrete_scatter(vsl_x[:, 0], vsl_x[:, 1], vsl_y, markeredgewidth=0.1,\n",
    "                            c = ['b', 'r'], s = 3, ax = ax)\n",
    "    ax.set_xlabel(\"component 1\")\n",
    "    ax.set_ylabel(\"component 2\")\n",
    "    ax.set_title(f\"C = {c_point}\")\n",
    "    \n",
    "plt.show()"
   ]
  },
  {
   "cell_type": "code",
   "execution_count": null,
   "id": "7fe0ceea",
   "metadata": {},
   "outputs": [],
   "source": [
    "# 오타 찾아봐.....\n",
    "vsl_x = df_pca.to_numpy()\n",
    "vsl_y = y_train[\"Class\"].to_numpy()\n",
    "\n",
    "fig, axes = plt.subplots(1, 3, figsize = (15, 5))\n",
    "\n",
    "# C값 1, 20, 30에 따른 결정경계 시각화\n",
    "for c_point, ax in zip([1, 20, 30], axes):\n",
    "    c_svc_model = SVC(kernel = \"rbf\", max_iter = 1000, gamma = 0.5, C = c_point)\n",
    "    c_svc_model.fit(vsl_x, vsl_y)\n",
    "    \n",
    "    mglearn.plots.plot_2d_separator(c_svc_model, vsl_x, fill = True, eps = 0.5, ax = ax, alpha = 0.2)\n",
    "    mglearn.discrete_scatter(vsl_x[:, 0], vsl_x[:, 1], vsl_y, markeredgewidth = 0.1, c = [\"b\", \"r\"], s = 3, ax = ax)\n",
    "    \n",
    "    ax.set_xlabel(\"component 1\")\n",
    "    ax.set_ylabel(\"component 2\")\n",
    "    ax.set_title(f\"C = {c_point}\")\n",
    "    \n",
    "    plt.show()      "
   ]
  },
  {
   "cell_type": "code",
   "execution_count": 36,
   "id": "8cb3a8ae",
   "metadata": {},
   "outputs": [
    {
     "name": "stdout",
     "output_type": "stream",
     "text": [
      "rbf SVM : gamma = 0.1, train set score : 0.869841, test set score = 0.874074\n",
      "rbf SVM : gamma = 0.5, train set score : 0.869841, test set score = 0.881481\n",
      "rbf SVM : gamma = 1, train set score : 0.869841, test set score = 0.881481\n",
      "rbf SVM : gamma = 5, train set score : 0.865079, test set score = 0.877778\n",
      "rbf SVM : gamma = 10, train set score : 0.876190, test set score = 0.870370\n",
      "rbf SVM : gamma = 20, train set score : 0.896825, test set score = 0.874074\n"
     ]
    }
   ],
   "source": [
    "# SVM gamma 값 0.1 ~ 20에 따른 모델 성능 확인\n",
    "\n",
    "scores = []\n",
    "for gamma_point in [0.1, 0.5, 1, 5, 10, 20]:\n",
    "    svc = SVC(kernel = \"rbf\", C = 10, gamma = gamma_point, max_iter = 1000)\n",
    "    svc.fit(scaled_train, y_train)\n",
    "    train_score = svc.score(scaled_train, y_train)\n",
    "    test_score = svc.score(scaled_test, y_test)\n",
    "    print(f\"rbf SVM : gamma = {gamma_point}, train set score : {train_score:4f}, test set score = {test_score:4f}\")\n",
    "    scores.append([train_score, test_score])"
   ]
  },
  {
   "cell_type": "code",
   "execution_count": 33,
   "id": "65b44ccb",
   "metadata": {},
   "outputs": [
    {
     "data": {
      "image/png": "[encoded data removed]",
      "text/plain": [
       "<Figure size 1500x500 with 3 Axes>"
      ]
     },
     "metadata": {},
     "output_type": "display_data"
    }
   ],
   "source": [
    "# 3개의 서브플랏을 만들어줌 \n",
    "fig, axes = plt.subplots(1, 3, figsize = (15, 5))\n",
    "\n",
    "# gamma 값 0.1, 1, 20 에 따른 결정경계 시각화\n",
    "for gamma_point, ax in zip([0.1, 1, 20], axes):\n",
    "    g_svc_model = SVC(kernel='rbf', max_iter= 1000, gamma= gamma_point, C= 10)\n",
    "    g_svc_model.fit(vsl_x, vsl_y)\n",
    "    \n",
    "    mglearn.plots.plot_2d_separator(g_svc_model, vsl_x, fill = True, eps= 0.5, ax = ax,\n",
    "                                    alpha = 0.2)\n",
    "    mglearn.discrete_scatter(vsl_x[:, 0], vsl_x[:, 1], vsl_y, markeredgewidth=0.1,\n",
    "                            c = ['b', 'r'], s = 3, ax = ax)\n",
    "    ax.set_xlabel(\"component 1\")\n",
    "    ax.set_ylabel(\"component 2\")\n",
    "    ax.set_title(f\"gamma = {gamma_point}\")\n",
    "    \n",
    "plt.show()"
   ]
  },
  {
   "cell_type": "code",
   "execution_count": null,
   "id": "f8f7ce0c",
   "metadata": {},
   "outputs": [],
   "source": []
  }
 ],
 "metadata": {
  "kernelspec": {
   "display_name": "Python 3 (ipykernel)",
   "language": "python",
   "name": "python3"
  },
  "language_info": {
   "codemirror_mode": {
    "name": "ipython",
    "version": 3
   },
   "file_extension": ".py",
   "mimetype": "text/x-python",
   "name": "python",
   "nbconvert_exporter": "python",
   "pygments_lexer": "ipython3",
   "version": "3.11.5"
  }
 },
 "nbformat": 4,
 "nbformat_minor": 5
}
