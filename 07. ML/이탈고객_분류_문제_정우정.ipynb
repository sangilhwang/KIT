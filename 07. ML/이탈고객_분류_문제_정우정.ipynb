{
 "cells": [
  {
   "cell_type": "markdown",
   "metadata": {},
   "source": [
    "# 분류 분석"
   ]
  },
  {
   "cell_type": "markdown",
   "metadata": {},
   "source": [
    "## 이진 고객 이탈"
   ]
  },
  {
   "cell_type": "markdown",
   "metadata": {},
   "source": [
    "고객의 웹사이트 광고를 제공하는 마케팅 대행사에서 당사의 고객이탈율이 꽤 높다는 사실을 알게됐습니다.<br>\n",
    "그 회사에서는 즉시 고객 관리자들을 할당했지만, 어떤 고객이 이탈 할 것인지 예측하는 기계학습 모델을 만들어서 가장 이탈확률이 높은 고객에게 우선적으로 고객 관리자를 배치할 수 있기를 원합니다.<br>\n",
    "고객이 잠재적 이탈 고객인지 여부를 분류하는 분류모델을 만드세요."
   ]
  },
  {
   "cell_type": "markdown",
   "metadata": {},
   "source": [
    "데이터는 customer_churn.csv로 저장돼있습니다. 아래는 각 컬럼의 정의입니다.\n",
    "- Name : 회사의 최근 담당자의 이름\n",
    "- Age : 고객의 나이\n",
    "- Total_Purchase : 구매한 총 광고\n",
    "- Account_Manager : 바이너리 0 = 고객 관리자 없음, 1 = 고객 관리자 할당됨\n",
    "- Years : 거래 유지 연도수\n",
    "- Num_sites : 서비스를 이용 중인 웹사이트 수\n",
    "- Onboard_date : 마지막 연락처가 등록된 날짜\n",
    "- Location : 고객 사무실 주소\n",
    "- Company : 고객 회사의 이름"
   ]
  },
  {
   "cell_type": "markdown",
   "metadata": {},
   "source": [
    "모델 생성 후에는 고객이 제공하는 new_customers.csv 파일에 저장된 새로운 데이터에 대한 예측값을 제시하세요. <br>\n",
    "고객은 이 데이터를 통해 관리가 필요한 고객들을 알고 싶어 합니다."
   ]
  },
  {
   "cell_type": "code",
   "execution_count": 1,
   "metadata": {},
   "outputs": [],
   "source": [
    "import pandas as pd\n",
    "import numpy as np\n",
    "import matplotlib.pyplot as plt\n",
    "import seaborn as sns\n",
    "# 머신러닝 import\n",
    "from sklearn.preprocessing import StandardScaler, RobustScaler\n",
    "from sklearn.model_selection import train_test_split, cross_validate, cross_val_score\n",
    "from sklearn.tree import DecisionTreeClassifier\n",
    "from sklearn.linear_model import LogisticRegression\n",
    "from sklearn.ensemble import RandomForestClassifier, ExtraTreesClassifier, GradientBoostingClassifier\n",
    "# 언더샘플링 import\n",
    "from imblearn.under_sampling import RandomUnderSampler\n",
    "# 평가지표 import\n",
    "from sklearn.metrics import roc_auc_score, roc_curve\n",
    "#통계모델 import\n",
    "import statsmodels.api as sm"
   ]
  },
  {
   "cell_type": "code",
   "execution_count": 2,
   "metadata": {},
   "outputs": [],
   "source": [
    "# matplotlib 한글 폰트 수정 --ver. windows\n",
    "from matplotlib import font_manager, rc\n",
    "import matplotlib\n",
    "font_path = 'C:/Windows/Fonts/malgun.ttf'\n",
    "font_name = font_manager.FontProperties(fname = font_path).get_name()\n",
    "rc('font', family=font_name)\n",
    "\n",
    "# 마이너스 표시 깨지지않게 하기\n",
    "plt.rcParams['axes.unicode_minus'] = False"
   ]
  },
  {
   "cell_type": "markdown",
   "metadata": {},
   "source": [
    "### 데이터 불러오기"
   ]
  },
  {
   "cell_type": "code",
   "execution_count": 3,
   "metadata": {},
   "outputs": [],
   "source": [
    "df = pd.read_csv(\"./data/customer_churn.csv\")"
   ]
  },
  {
   "cell_type": "markdown",
   "metadata": {},
   "source": [
    "### 데이터 확인"
   ]
  },
  {
   "cell_type": "code",
   "execution_count": 4,
   "metadata": {},
   "outputs": [
    {
     "data": {
      "text/html": [
       "<div>\n",
       "<style scoped>\n",
       "    .dataframe tbody tr th:only-of-type {\n",
       "        vertical-align: middle;\n",
       "    }\n",
       "\n",
       "    .dataframe tbody tr th {\n",
       "        vertical-align: top;\n",
       "    }\n",
       "\n",
       "    .dataframe thead th {\n",
       "        text-align: right;\n",
       "    }\n",
       "</style>\n",
       "<table border=\"1\" class=\"dataframe\">\n",
       "  <thead>\n",
       "    <tr style=\"text-align: right;\">\n",
       "      <th></th>\n",
       "      <th>Names</th>\n",
       "      <th>Age</th>\n",
       "      <th>Total_Purchase</th>\n",
       "      <th>Account_Manager</th>\n",
       "      <th>Years</th>\n",
       "      <th>Num_Sites</th>\n",
       "      <th>Onboard_date</th>\n",
       "      <th>Location</th>\n",
       "      <th>Company</th>\n",
       "      <th>Churn</th>\n",
       "    </tr>\n",
       "  </thead>\n",
       "  <tbody>\n",
       "    <tr>\n",
       "      <th>0</th>\n",
       "      <td>Cameron Williams</td>\n",
       "      <td>42.0</td>\n",
       "      <td>11066.80</td>\n",
       "      <td>0</td>\n",
       "      <td>7.22</td>\n",
       "      <td>8.0</td>\n",
       "      <td>2013-08-30 07:00:40</td>\n",
       "      <td>10265 Elizabeth Mission Barkerburgh, AK 89518</td>\n",
       "      <td>Harvey LLC</td>\n",
       "      <td>1</td>\n",
       "    </tr>\n",
       "    <tr>\n",
       "      <th>1</th>\n",
       "      <td>Kevin Mueller</td>\n",
       "      <td>41.0</td>\n",
       "      <td>11916.22</td>\n",
       "      <td>0</td>\n",
       "      <td>6.50</td>\n",
       "      <td>11.0</td>\n",
       "      <td>2013-08-13 00:38:46</td>\n",
       "      <td>6157 Frank Gardens Suite 019 Carloshaven, RI 1...</td>\n",
       "      <td>Wilson PLC</td>\n",
       "      <td>1</td>\n",
       "    </tr>\n",
       "    <tr>\n",
       "      <th>2</th>\n",
       "      <td>Eric Lozano</td>\n",
       "      <td>38.0</td>\n",
       "      <td>12884.75</td>\n",
       "      <td>0</td>\n",
       "      <td>6.67</td>\n",
       "      <td>12.0</td>\n",
       "      <td>2016-06-29 06:20:07</td>\n",
       "      <td>1331 Keith Court Alyssahaven, DE 90114</td>\n",
       "      <td>Miller, Johnson and Wallace</td>\n",
       "      <td>1</td>\n",
       "    </tr>\n",
       "    <tr>\n",
       "      <th>3</th>\n",
       "      <td>Phillip White</td>\n",
       "      <td>42.0</td>\n",
       "      <td>8010.76</td>\n",
       "      <td>0</td>\n",
       "      <td>6.71</td>\n",
       "      <td>10.0</td>\n",
       "      <td>2014-04-22 12:43:12</td>\n",
       "      <td>13120 Daniel Mount Angelabury, WY 30645-4695</td>\n",
       "      <td>Smith Inc</td>\n",
       "      <td>1</td>\n",
       "    </tr>\n",
       "    <tr>\n",
       "      <th>4</th>\n",
       "      <td>Cynthia Norton</td>\n",
       "      <td>37.0</td>\n",
       "      <td>9191.58</td>\n",
       "      <td>0</td>\n",
       "      <td>5.56</td>\n",
       "      <td>9.0</td>\n",
       "      <td>2016-01-19 15:31:15</td>\n",
       "      <td>765 Tricia Row Karenshire, MH 71730</td>\n",
       "      <td>Love-Jones</td>\n",
       "      <td>1</td>\n",
       "    </tr>\n",
       "  </tbody>\n",
       "</table>\n",
       "</div>"
      ],
      "text/plain": [
       "              Names   Age  Total_Purchase  Account_Manager  Years  Num_Sites  \\\n",
       "0  Cameron Williams  42.0        11066.80                0   7.22        8.0   \n",
       "1     Kevin Mueller  41.0        11916.22                0   6.50       11.0   \n",
       "2       Eric Lozano  38.0        12884.75                0   6.67       12.0   \n",
       "3     Phillip White  42.0         8010.76                0   6.71       10.0   \n",
       "4    Cynthia Norton  37.0         9191.58                0   5.56        9.0   \n",
       "\n",
       "          Onboard_date                                           Location  \\\n",
       "0  2013-08-30 07:00:40      10265 Elizabeth Mission Barkerburgh, AK 89518   \n",
       "1  2013-08-13 00:38:46  6157 Frank Gardens Suite 019 Carloshaven, RI 1...   \n",
       "2  2016-06-29 06:20:07             1331 Keith Court Alyssahaven, DE 90114   \n",
       "3  2014-04-22 12:43:12       13120 Daniel Mount Angelabury, WY 30645-4695   \n",
       "4  2016-01-19 15:31:15                765 Tricia Row Karenshire, MH 71730   \n",
       "\n",
       "                       Company  Churn  \n",
       "0                   Harvey LLC      1  \n",
       "1                   Wilson PLC      1  \n",
       "2  Miller, Johnson and Wallace      1  \n",
       "3                    Smith Inc      1  \n",
       "4                   Love-Jones      1  "
      ]
     },
     "execution_count": 4,
     "metadata": {},
     "output_type": "execute_result"
    }
   ],
   "source": [
    "df.head()"
   ]
  },
  {
   "cell_type": "code",
   "execution_count": 5,
   "metadata": {},
   "outputs": [
    {
     "data": {
      "text/plain": [
       "(900, 10)"
      ]
     },
     "execution_count": 5,
     "metadata": {},
     "output_type": "execute_result"
    }
   ],
   "source": [
    "df.shape"
   ]
  },
  {
   "cell_type": "code",
   "execution_count": 6,
   "metadata": {},
   "outputs": [
    {
     "data": {
      "text/plain": [
       "Names               object\n",
       "Age                float64\n",
       "Total_Purchase     float64\n",
       "Account_Manager      int64\n",
       "Years              float64\n",
       "Num_Sites          float64\n",
       "Onboard_date        object\n",
       "Location            object\n",
       "Company             object\n",
       "Churn                int64\n",
       "dtype: object"
      ]
     },
     "execution_count": 6,
     "metadata": {},
     "output_type": "execute_result"
    }
   ],
   "source": [
    "df.dtypes"
   ]
  },
  {
   "cell_type": "code",
   "execution_count": 7,
   "metadata": {},
   "outputs": [
    {
     "name": "stdout",
     "output_type": "stream",
     "text": [
      "<class 'pandas.core.frame.DataFrame'>\n",
      "RangeIndex: 900 entries, 0 to 899\n",
      "Data columns (total 10 columns):\n",
      " #   Column           Non-Null Count  Dtype  \n",
      "---  ------           --------------  -----  \n",
      " 0   Names            900 non-null    object \n",
      " 1   Age              900 non-null    float64\n",
      " 2   Total_Purchase   900 non-null    float64\n",
      " 3   Account_Manager  900 non-null    int64  \n",
      " 4   Years            900 non-null    float64\n",
      " 5   Num_Sites        900 non-null    float64\n",
      " 6   Onboard_date     900 non-null    object \n",
      " 7   Location         900 non-null    object \n",
      " 8   Company          900 non-null    object \n",
      " 9   Churn            900 non-null    int64  \n",
      "dtypes: float64(4), int64(2), object(4)\n",
      "memory usage: 70.4+ KB\n"
     ]
    }
   ],
   "source": [
    "# Null값은 없는 것으로 확인됨\n",
    "df.info()"
   ]
  },
  {
   "cell_type": "code",
   "execution_count": 8,
   "metadata": {},
   "outputs": [
    {
     "data": {
      "text/html": [
       "<div>\n",
       "<style scoped>\n",
       "    .dataframe tbody tr th:only-of-type {\n",
       "        vertical-align: middle;\n",
       "    }\n",
       "\n",
       "    .dataframe tbody tr th {\n",
       "        vertical-align: top;\n",
       "    }\n",
       "\n",
       "    .dataframe thead th {\n",
       "        text-align: right;\n",
       "    }\n",
       "</style>\n",
       "<table border=\"1\" class=\"dataframe\">\n",
       "  <thead>\n",
       "    <tr style=\"text-align: right;\">\n",
       "      <th></th>\n",
       "      <th>Age</th>\n",
       "      <th>Total_Purchase</th>\n",
       "      <th>Account_Manager</th>\n",
       "      <th>Years</th>\n",
       "      <th>Num_Sites</th>\n",
       "      <th>Churn</th>\n",
       "    </tr>\n",
       "  </thead>\n",
       "  <tbody>\n",
       "    <tr>\n",
       "      <th>count</th>\n",
       "      <td>900.000000</td>\n",
       "      <td>900.000000</td>\n",
       "      <td>900.000000</td>\n",
       "      <td>900.000000</td>\n",
       "      <td>900.000000</td>\n",
       "      <td>900.000000</td>\n",
       "    </tr>\n",
       "    <tr>\n",
       "      <th>mean</th>\n",
       "      <td>41.816667</td>\n",
       "      <td>10062.824033</td>\n",
       "      <td>0.481111</td>\n",
       "      <td>5.273156</td>\n",
       "      <td>8.587778</td>\n",
       "      <td>0.166667</td>\n",
       "    </tr>\n",
       "    <tr>\n",
       "      <th>std</th>\n",
       "      <td>6.127560</td>\n",
       "      <td>2408.644532</td>\n",
       "      <td>0.499921</td>\n",
       "      <td>1.274449</td>\n",
       "      <td>1.764836</td>\n",
       "      <td>0.372885</td>\n",
       "    </tr>\n",
       "    <tr>\n",
       "      <th>min</th>\n",
       "      <td>22.000000</td>\n",
       "      <td>100.000000</td>\n",
       "      <td>0.000000</td>\n",
       "      <td>1.000000</td>\n",
       "      <td>3.000000</td>\n",
       "      <td>0.000000</td>\n",
       "    </tr>\n",
       "    <tr>\n",
       "      <th>25%</th>\n",
       "      <td>38.000000</td>\n",
       "      <td>8497.122500</td>\n",
       "      <td>0.000000</td>\n",
       "      <td>4.450000</td>\n",
       "      <td>7.000000</td>\n",
       "      <td>0.000000</td>\n",
       "    </tr>\n",
       "    <tr>\n",
       "      <th>50%</th>\n",
       "      <td>42.000000</td>\n",
       "      <td>10045.870000</td>\n",
       "      <td>0.000000</td>\n",
       "      <td>5.215000</td>\n",
       "      <td>8.000000</td>\n",
       "      <td>0.000000</td>\n",
       "    </tr>\n",
       "    <tr>\n",
       "      <th>75%</th>\n",
       "      <td>46.000000</td>\n",
       "      <td>11760.105000</td>\n",
       "      <td>1.000000</td>\n",
       "      <td>6.110000</td>\n",
       "      <td>10.000000</td>\n",
       "      <td>0.000000</td>\n",
       "    </tr>\n",
       "    <tr>\n",
       "      <th>max</th>\n",
       "      <td>65.000000</td>\n",
       "      <td>18026.010000</td>\n",
       "      <td>1.000000</td>\n",
       "      <td>9.150000</td>\n",
       "      <td>14.000000</td>\n",
       "      <td>1.000000</td>\n",
       "    </tr>\n",
       "  </tbody>\n",
       "</table>\n",
       "</div>"
      ],
      "text/plain": [
       "              Age  Total_Purchase  Account_Manager       Years   Num_Sites  \\\n",
       "count  900.000000      900.000000       900.000000  900.000000  900.000000   \n",
       "mean    41.816667    10062.824033         0.481111    5.273156    8.587778   \n",
       "std      6.127560     2408.644532         0.499921    1.274449    1.764836   \n",
       "min     22.000000      100.000000         0.000000    1.000000    3.000000   \n",
       "25%     38.000000     8497.122500         0.000000    4.450000    7.000000   \n",
       "50%     42.000000    10045.870000         0.000000    5.215000    8.000000   \n",
       "75%     46.000000    11760.105000         1.000000    6.110000   10.000000   \n",
       "max     65.000000    18026.010000         1.000000    9.150000   14.000000   \n",
       "\n",
       "            Churn  \n",
       "count  900.000000  \n",
       "mean     0.166667  \n",
       "std      0.372885  \n",
       "min      0.000000  \n",
       "25%      0.000000  \n",
       "50%      0.000000  \n",
       "75%      0.000000  \n",
       "max      1.000000  "
      ]
     },
     "execution_count": 8,
     "metadata": {},
     "output_type": "execute_result"
    }
   ],
   "source": [
    "# 데이터간 단위차이가 크기때문에 스케일링이 필요할 수도 있음\n",
    "df.describe()"
   ]
  },
  {
   "cell_type": "code",
   "execution_count": 9,
   "metadata": {
    "scrolled": false
   },
   "outputs": [
    {
     "data": {
      "image/png": "[encoded data removed]",
      "text/plain": [
       "<Figure size 640x480 with 1 Axes>"
      ]
     },
     "metadata": {},
     "output_type": "display_data"
    }
   ],
   "source": [
    "# 종속변수 클래스 분포 시각화\n",
    "sns.countplot(x = \"Churn\", data = df)\n",
    "plt.show()"
   ]
  },
  {
   "cell_type": "code",
   "execution_count": 10,
   "metadata": {},
   "outputs": [
    {
     "data": {
      "text/plain": [
       "0    750\n",
       "1    150\n",
       "Name: Churn, dtype: int64"
      ]
     },
     "execution_count": 10,
     "metadata": {},
     "output_type": "execute_result"
    }
   ],
   "source": [
    "# 클래스 불균형이 심한 것으로 확인됨. 언더샘플링이나 오버샘플링을 진행하는 것이 좋을 수도 있음\n",
    "df[\"Churn\"].value_counts()"
   ]
  },
  {
   "cell_type": "code",
   "execution_count": 11,
   "metadata": {},
   "outputs": [
    {
     "data": {
      "text/plain": [
       "Jennifer Wood        2\n",
       "Cameron Williams     1\n",
       "Stacy Marshall       1\n",
       "Christopher Clark    1\n",
       "Rose White           1\n",
       "                    ..\n",
       "Ashley Smith         1\n",
       "Sandra Mcintyre      1\n",
       "Robert Joseph        1\n",
       "George Chavez        1\n",
       "Joseph Williams      1\n",
       "Name: Names, Length: 899, dtype: int64"
      ]
     },
     "execution_count": 11,
     "metadata": {},
     "output_type": "execute_result"
    }
   ],
   "source": [
    "# 중복된 이름 있는지 확인. 거의 없는 것으로 확인됨. 제거하는 것이 더 좋을 것 같음\n",
    "df[\"Names\"].value_counts()"
   ]
  },
  {
   "cell_type": "code",
   "execution_count": 12,
   "metadata": {},
   "outputs": [
    {
     "data": {
      "text/plain": [
       "Anderson Group                     4\n",
       "Williams PLC                       3\n",
       "Wilson PLC                         3\n",
       "Smith Group                        2\n",
       "Williams LLC                       2\n",
       "                                  ..\n",
       "Cowan Inc                          1\n",
       "Cortez Inc                         1\n",
       "Rodriguez, Moore and Cunningham    1\n",
       "Bennett Ltd                        1\n",
       "Robles-Abbott                      1\n",
       "Name: Company, Length: 873, dtype: int64"
      ]
     },
     "execution_count": 12,
     "metadata": {},
     "output_type": "execute_result"
    }
   ],
   "source": [
    "# 중복된 회사명 있는지 확인. 거의 없는 것으로 확인됨. 제거하는 것이 더 좋을 것 같음\n",
    "df[\"Company\"].value_counts()"
   ]
  },
  {
   "cell_type": "code",
   "execution_count": 13,
   "metadata": {},
   "outputs": [
    {
     "data": {
      "text/plain": [
       "10265 Elizabeth Mission Barkerburgh, AK 89518            1\n",
       "4331 Quinn Fords Suite 546 Traceyfort, CO 47194-7606     1\n",
       "69666 Christian Forges Lake Noah, IL 14397               1\n",
       "715 Ellis Squares New Kathleenland, NY 05913             1\n",
       "3004 Nash Freeway North Craigville, CT 24488             1\n",
       "                                                        ..\n",
       "3785 Duran Lodge Port Nicholashaven, MH 08892-1815       1\n",
       "663 White Tunnel Suite 995 Port Joseph, PR 93959-2444    1\n",
       "10676 Ferguson Ranch Suite 380 Lake Parker, OH 23498     1\n",
       "95222 Lisa Turnpike South Laurenburgh, NC 33273-8443     1\n",
       "27252 Olivia Burgs Rivasmouth, MN 80121-6348             1\n",
       "Name: Location, Length: 900, dtype: int64"
      ]
     },
     "execution_count": 13,
     "metadata": {},
     "output_type": "execute_result"
    }
   ],
   "source": [
    "# 중복되는 주소는 없음. 제거하는 것이 좋을 것 같음\n",
    "df[\"Location\"].value_counts()"
   ]
  },
  {
   "cell_type": "code",
   "execution_count": 14,
   "metadata": {},
   "outputs": [
    {
     "data": {
      "text/plain": [
       "2013-08-30 07:00:40    1\n",
       "2015-10-06 18:31:32    1\n",
       "2012-04-22 17:32:15    1\n",
       "2006-03-29 18:27:06    1\n",
       "2011-08-29 06:35:54    1\n",
       "                      ..\n",
       "2011-10-07 15:43:59    1\n",
       "2007-09-19 06:55:51    1\n",
       "2010-08-02 09:34:35    1\n",
       "2015-04-03 16:15:00    1\n",
       "2010-09-25 12:16:08    1\n",
       "Name: Onboard_date, Length: 900, dtype: int64"
      ]
     },
     "execution_count": 14,
     "metadata": {},
     "output_type": "execute_result"
    }
   ],
   "source": [
    "# 날짜/시간으로 추정됨, object 타입으로 나타남. year만 추출해서 사용해봐도 괜찮을 것 같음.\n",
    "df[\"Onboard_date\"].value_counts()"
   ]
  },
  {
   "cell_type": "code",
   "execution_count": 15,
   "metadata": {},
   "outputs": [],
   "source": [
    "# 피처 각각에 대한 히스토그램을 출력\n",
    "def plot_hist(df):\n",
    "    plt.rcParams[\"figure.figsize\"] = [20, 16]\n",
    "    fig = plt.figure(1) # 해당 figure에 ID를 매겨줌. 별 의미없음. 1빼도됨.\n",
    "    \n",
    "    # df의 열 개수 만큼의 subplot을 출력\n",
    "    for i in range(len(df.columns)):\n",
    "        ax = fig.add_subplot(5, 5, i + 1) # 5행 5열\n",
    "        plt.hist(df[df.columns[i]], bins = 50) # 0번째컬럼으로 히스토그램, 1번째컬럼으로 히스토그램 ...\n",
    "        ax.set_title(df.columns[i]) \n",
    "        \n",
    "    plt.tight_layout()\n",
    "    plt.show()"
   ]
  },
  {
   "cell_type": "code",
   "execution_count": 16,
   "metadata": {
    "scrolled": true
   },
   "outputs": [
    {
     "data": {
      "image/png": "[encoded data removed]",
      "text/plain": [
       "<Figure size 2000x1600 with 10 Axes>"
      ]
     },
     "metadata": {},
     "output_type": "display_data"
    }
   ],
   "source": [
    "plot_hist(df)"
   ]
  },
  {
   "cell_type": "code",
   "execution_count": 17,
   "metadata": {
    "scrolled": true
   },
   "outputs": [
    {
     "data": {
      "image/png": "[encoded data removed]",
      "text/plain": [
       "<Figure size 2000x1600 with 4 Axes>"
      ]
     },
     "metadata": {},
     "output_type": "display_data"
    }
   ],
   "source": [
    "# 위 그래프들중 정규분포를 이루는 데이터들만 따로 그리기\n",
    "plot_hist(df[[\"Age\", \"Total_Purchase\", \"Years\", \"Num_Sites\"]])"
   ]
  },
  {
   "cell_type": "markdown",
   "metadata": {},
   "source": [
    "### 이상치확인"
   ]
  },
  {
   "cell_type": "code",
   "execution_count": 18,
   "metadata": {
    "scrolled": false
   },
   "outputs": [
    {
     "data": {
      "image/png": "[encoded data removed]",
      "text/plain": [
       "<Figure size 1000x1500 with 4 Axes>"
      ]
     },
     "metadata": {},
     "output_type": "display_data"
    }
   ],
   "source": [
    "# 그래프 객체 생성 \n",
    "fig = plt.figure(figsize = (10, 15))\n",
    "ax1 = fig.add_subplot(2, 2, 1)\n",
    "ax2 = fig.add_subplot(2, 2, 2)\n",
    "ax3 = fig.add_subplot(2, 2, 3)\n",
    "ax4 = fig.add_subplot(2, 2, 4)\n",
    "\n",
    "\n",
    "# axe 객체에 boxplot 메서드로 그래프 출력\n",
    "ax1.boxplot(x = [df[\"Age\"]])\n",
    "ax2.boxplot(x = [df[\"Total_Purchase\"]])\n",
    "ax3.boxplot(x = [df[\"Years\"]])\n",
    "ax4.boxplot(x = df[\"Num_Sites\"])\n",
    "\n",
    "ax1.set_title(\"Age 박스플롯\")\n",
    "ax2.set_title(\"Total_Purchase 박스플롯\")\n",
    "ax3.set_title(\"Years 박스플롯\")\n",
    "ax4.set_title(\"Num_Sites 박스플롯\")\n",
    "\n",
    "plt.show()"
   ]
  },
  {
   "cell_type": "markdown",
   "metadata": {},
   "source": [
    "- 어느정도의 이상치가 있으니, Robust Scaler 사용을 고려해보면 좋을듯함"
   ]
  },
  {
   "cell_type": "markdown",
   "metadata": {},
   "source": [
    "### 머신러닝용 데이터 전처리"
   ]
  },
  {
   "cell_type": "markdown",
   "metadata": {},
   "source": [
    "우리는 수치형 데이터만 이용할 예정입니다. Account_Manager는 다루기 어렵지 않기 때문에 모델학습에 포함할 수도 있겠지만 무작위로 할당된 것이기 때문에 큰 의미가 없을 수 있습니다."
   ]
  },
  {
   "cell_type": "code",
   "execution_count": 19,
   "metadata": {},
   "outputs": [],
   "source": [
    "# 사용할 변수들 : Age, Total_Purchase, Years, Num_Sites (위 시각화에서 정규분포 모양을 띄운 변수들만 골라 사용하기)\n",
    "x = df[[\"Age\",\"Total_Purchase\",\"Years\",\"Num_Sites\"]]\n",
    "y = df[\"Churn\"]"
   ]
  },
  {
   "cell_type": "code",
   "execution_count": 20,
   "metadata": {},
   "outputs": [],
   "source": [
    "# 데이터 분할\n",
    "x_train, x_test, y_train, y_test = train_test_split(x, y, test_size= 0.2, stratify= y, random_state= 196)"
   ]
  },
  {
   "cell_type": "code",
   "execution_count": 21,
   "metadata": {},
   "outputs": [],
   "source": [
    "# 스케일링\n",
    "ss = StandardScaler()\n",
    "scaled_train = ss.fit_transform(x_train)\n",
    "scaled_test = ss.transform(x_test)"
   ]
  },
  {
   "cell_type": "code",
   "execution_count": 22,
   "metadata": {},
   "outputs": [],
   "source": [
    "# 랍스터 스케일링\n",
    "rs = RobustScaler()\n",
    "robust_train = rs.fit_transform(x_train)\n",
    "robust_test = rs.transform(x_test)"
   ]
  },
  {
   "cell_type": "markdown",
   "metadata": {},
   "source": [
    "## 모델훈련"
   ]
  },
  {
   "cell_type": "markdown",
   "metadata": {},
   "source": [
    "### 로지스틱회귀사용"
   ]
  },
  {
   "cell_type": "code",
   "execution_count": 23,
   "metadata": {},
   "outputs": [],
   "source": [
    "logi = LogisticRegression()"
   ]
  },
  {
   "cell_type": "code",
   "execution_count": 24,
   "metadata": {},
   "outputs": [],
   "source": [
    "# 교차검증\n",
    "scores = cross_validate(logi, scaled_train, y_train, return_train_score= True, n_jobs = -1)"
   ]
  },
  {
   "cell_type": "code",
   "execution_count": 25,
   "metadata": {},
   "outputs": [
    {
     "name": "stdout",
     "output_type": "stream",
     "text": [
      "0.888888888888889 0.8833333333333334\n"
     ]
    }
   ],
   "source": [
    "print(np.mean(scores[\"train_score\"]), np.mean(scores[\"test_score\"]))"
   ]
  },
  {
   "cell_type": "code",
   "execution_count": 26,
   "metadata": {},
   "outputs": [],
   "source": [
    "# Robust 스케일링 교차검증\n",
    "scores = cross_validate(logi, robust_train, y_train, return_train_score= True, n_jobs = -1)"
   ]
  },
  {
   "cell_type": "code",
   "execution_count": 27,
   "metadata": {},
   "outputs": [
    {
     "name": "stdout",
     "output_type": "stream",
     "text": [
      "0.8871527777777779 0.8805555555555555\n"
     ]
    }
   ],
   "source": [
    "print(np.mean(scores[\"train_score\"]), np.mean(scores[\"test_score\"]))"
   ]
  },
  {
   "cell_type": "markdown",
   "metadata": {},
   "source": [
    "- Standard Scaler의 성능이 조금 더 우수함"
   ]
  },
  {
   "cell_type": "markdown",
   "metadata": {},
   "source": [
    "### 의사결정나무사용"
   ]
  },
  {
   "cell_type": "code",
   "execution_count": 28,
   "metadata": {},
   "outputs": [],
   "source": [
    "dt = DecisionTreeClassifier(max_depth = 5, random_state= 196)"
   ]
  },
  {
   "cell_type": "code",
   "execution_count": 29,
   "metadata": {},
   "outputs": [],
   "source": [
    "# 교차검증\n",
    "scores = cross_validate(dt, x_train, y_train, return_train_score= True, n_jobs = -1)"
   ]
  },
  {
   "cell_type": "code",
   "execution_count": 30,
   "metadata": {
    "scrolled": true
   },
   "outputs": [
    {
     "name": "stdout",
     "output_type": "stream",
     "text": [
      "0.9253472222222223 0.8569444444444445\n"
     ]
    }
   ],
   "source": [
    "print(np.mean(scores[\"train_score\"]), np.mean(scores[\"test_score\"]))"
   ]
  },
  {
   "cell_type": "code",
   "execution_count": 31,
   "metadata": {},
   "outputs": [
    {
     "name": "stdout",
     "output_type": "stream",
     "text": [
      "[0.14107484 0.0999131  0.14289874 0.61611332]\n"
     ]
    }
   ],
   "source": [
    "# 특성 중요도 확인\n",
    "dt.fit(x_train, y_train)\n",
    "print(dt.feature_importances_)"
   ]
  },
  {
   "cell_type": "markdown",
   "metadata": {},
   "source": [
    "### 랜덤포레스트사용"
   ]
  },
  {
   "cell_type": "code",
   "execution_count": 32,
   "metadata": {},
   "outputs": [],
   "source": [
    "rf = RandomForestClassifier(n_jobs= -1, random_state= 196)"
   ]
  },
  {
   "cell_type": "code",
   "execution_count": 33,
   "metadata": {},
   "outputs": [],
   "source": [
    "# 교차검증\n",
    "scores = cross_validate(rf, x_train, y_train, return_train_score= True, n_jobs = -1)"
   ]
  },
  {
   "cell_type": "code",
   "execution_count": 34,
   "metadata": {},
   "outputs": [
    {
     "name": "stdout",
     "output_type": "stream",
     "text": [
      "1.0 0.8763888888888889\n"
     ]
    }
   ],
   "source": [
    "print(np.mean(scores[\"train_score\"]), np.mean(scores[\"test_score\"]))"
   ]
  },
  {
   "cell_type": "markdown",
   "metadata": {},
   "source": [
    "- 과대적합일 가능성이 높음"
   ]
  },
  {
   "cell_type": "code",
   "execution_count": 35,
   "metadata": {},
   "outputs": [
    {
     "name": "stdout",
     "output_type": "stream",
     "text": [
      "[0.15056044 0.20503689 0.25702267 0.38738   ]\n"
     ]
    }
   ],
   "source": [
    "# 특성 중요도 확인\n",
    "rf.fit(x_train, y_train)\n",
    "print(rf.feature_importances_)"
   ]
  },
  {
   "cell_type": "markdown",
   "metadata": {},
   "source": [
    "### 엑스트라트리 사용"
   ]
  },
  {
   "cell_type": "code",
   "execution_count": 36,
   "metadata": {},
   "outputs": [],
   "source": [
    "et = ExtraTreesClassifier(n_jobs= -1, random_state= 196)"
   ]
  },
  {
   "cell_type": "code",
   "execution_count": 37,
   "metadata": {},
   "outputs": [],
   "source": [
    "# 교차검증\n",
    "scores = cross_validate(et, x_train, y_train, return_train_score= True, n_jobs = -1)"
   ]
  },
  {
   "cell_type": "code",
   "execution_count": 38,
   "metadata": {},
   "outputs": [
    {
     "name": "stdout",
     "output_type": "stream",
     "text": [
      "1.0 0.8638888888888889\n"
     ]
    }
   ],
   "source": [
    "print(np.mean(scores[\"train_score\"]), np.mean(scores[\"test_score\"]))"
   ]
  },
  {
   "cell_type": "markdown",
   "metadata": {},
   "source": [
    "- 과대적합일 가능성이 높음"
   ]
  },
  {
   "cell_type": "code",
   "execution_count": 39,
   "metadata": {},
   "outputs": [
    {
     "name": "stdout",
     "output_type": "stream",
     "text": [
      "[0.17947555 0.19667888 0.23558423 0.38826134]\n"
     ]
    }
   ],
   "source": [
    "# 특성 중요도 확인\n",
    "et.fit(x_train, y_train)\n",
    "print(et.feature_importances_)"
   ]
  },
  {
   "cell_type": "markdown",
   "metadata": {},
   "source": [
    "### 그레디언트 부스팅 사용"
   ]
  },
  {
   "cell_type": "code",
   "execution_count": 40,
   "metadata": {},
   "outputs": [],
   "source": [
    "gb = GradientBoostingClassifier(random_state= 196)"
   ]
  },
  {
   "cell_type": "code",
   "execution_count": 41,
   "metadata": {},
   "outputs": [],
   "source": [
    "scores = cross_validate(gb, x_train, y_train, return_train_score= True, n_jobs= -1)"
   ]
  },
  {
   "cell_type": "code",
   "execution_count": 42,
   "metadata": {},
   "outputs": [
    {
     "name": "stdout",
     "output_type": "stream",
     "text": [
      "0.9708333333333332 0.8666666666666666\n"
     ]
    }
   ],
   "source": [
    "print(np.mean(scores[\"train_score\"]), np.mean(scores[\"test_score\"]))"
   ]
  },
  {
   "cell_type": "code",
   "execution_count": 43,
   "metadata": {},
   "outputs": [
    {
     "data": {
      "text/plain": [
       "array([0.07445893, 0.15081861, 0.24568816, 0.5290343 ])"
      ]
     },
     "execution_count": 43,
     "metadata": {},
     "output_type": "execute_result"
    }
   ],
   "source": [
    "# 특성 중요도 확인\n",
    "gb.fit(x_train, y_train)\n",
    "gb.feature_importances_"
   ]
  },
  {
   "cell_type": "markdown",
   "metadata": {},
   "source": [
    "### 결과분석"
   ]
  },
  {
   "cell_type": "markdown",
   "metadata": {},
   "source": [
    "- 로지스틱회귀가 제일 성능이 좋은 것으로 나타남"
   ]
  },
  {
   "cell_type": "markdown",
   "metadata": {},
   "source": [
    "### 평가용 데이터에 같은 전처리기법 적용"
   ]
  },
  {
   "cell_type": "markdown",
   "metadata": {},
   "source": [
    "- cross_validate 교차검증으로 AUC 계산하고, 아래 df_submit 결과물까지 두개 강사님께 제출"
   ]
  },
  {
   "cell_type": "code",
   "execution_count": 44,
   "metadata": {},
   "outputs": [],
   "source": [
    "df_submit = pd.read_csv(\"./data/new_customers.csv\", index_col = False)"
   ]
  },
  {
   "cell_type": "code",
   "execution_count": 45,
   "metadata": {},
   "outputs": [
    {
     "data": {
      "text/html": [
       "<div>\n",
       "<style scoped>\n",
       "    .dataframe tbody tr th:only-of-type {\n",
       "        vertical-align: middle;\n",
       "    }\n",
       "\n",
       "    .dataframe tbody tr th {\n",
       "        vertical-align: top;\n",
       "    }\n",
       "\n",
       "    .dataframe thead th {\n",
       "        text-align: right;\n",
       "    }\n",
       "</style>\n",
       "<table border=\"1\" class=\"dataframe\">\n",
       "  <thead>\n",
       "    <tr style=\"text-align: right;\">\n",
       "      <th></th>\n",
       "      <th>Names</th>\n",
       "      <th>Age</th>\n",
       "      <th>Total_Purchase</th>\n",
       "      <th>Account_Manager</th>\n",
       "      <th>Years</th>\n",
       "      <th>Num_Sites</th>\n",
       "      <th>Onboard_date</th>\n",
       "      <th>Location</th>\n",
       "      <th>Company</th>\n",
       "    </tr>\n",
       "  </thead>\n",
       "  <tbody>\n",
       "    <tr>\n",
       "      <th>0</th>\n",
       "      <td>Andrew Mccall</td>\n",
       "      <td>37.0</td>\n",
       "      <td>9935.53</td>\n",
       "      <td>1</td>\n",
       "      <td>7.71</td>\n",
       "      <td>8.0</td>\n",
       "      <td>2011-08-29 18:37:54</td>\n",
       "      <td>38612 Johnny Stravenue Nataliebury, WI 15717-8316</td>\n",
       "      <td>King Ltd</td>\n",
       "    </tr>\n",
       "    <tr>\n",
       "      <th>1</th>\n",
       "      <td>Michele Wright</td>\n",
       "      <td>23.0</td>\n",
       "      <td>7526.94</td>\n",
       "      <td>1</td>\n",
       "      <td>9.28</td>\n",
       "      <td>15.0</td>\n",
       "      <td>2013-07-22 18:19:54</td>\n",
       "      <td>21083 Nicole Junction Suite 332, Youngport, ME...</td>\n",
       "      <td>Cannon-Benson</td>\n",
       "    </tr>\n",
       "    <tr>\n",
       "      <th>2</th>\n",
       "      <td>Jeremy Chang</td>\n",
       "      <td>65.0</td>\n",
       "      <td>100.00</td>\n",
       "      <td>1</td>\n",
       "      <td>1.00</td>\n",
       "      <td>15.0</td>\n",
       "      <td>2006-12-11 07:48:13</td>\n",
       "      <td>085 Austin Views Lake Julialand, WY 63726-4298</td>\n",
       "      <td>Barron-Robertson</td>\n",
       "    </tr>\n",
       "    <tr>\n",
       "      <th>3</th>\n",
       "      <td>Megan Ferguson</td>\n",
       "      <td>32.0</td>\n",
       "      <td>6487.50</td>\n",
       "      <td>0</td>\n",
       "      <td>9.40</td>\n",
       "      <td>14.0</td>\n",
       "      <td>2016-10-28 05:32:13</td>\n",
       "      <td>922 Wright Branch North Cynthialand, NC 64721</td>\n",
       "      <td>Sexton-Golden</td>\n",
       "    </tr>\n",
       "    <tr>\n",
       "      <th>4</th>\n",
       "      <td>Taylor Young</td>\n",
       "      <td>32.0</td>\n",
       "      <td>13147.71</td>\n",
       "      <td>1</td>\n",
       "      <td>10.00</td>\n",
       "      <td>8.0</td>\n",
       "      <td>2012-03-20 00:36:46</td>\n",
       "      <td>Unit 0789 Box 0734 DPO AP 39702</td>\n",
       "      <td>Wood LLC</td>\n",
       "    </tr>\n",
       "    <tr>\n",
       "      <th>5</th>\n",
       "      <td>Jessica Drake</td>\n",
       "      <td>22.0</td>\n",
       "      <td>8445.26</td>\n",
       "      <td>1</td>\n",
       "      <td>3.46</td>\n",
       "      <td>14.0</td>\n",
       "      <td>2011-02-04 19:29:27</td>\n",
       "      <td>1148 Tina Stravenue Apt. 978 South Carlos TX 2...</td>\n",
       "      <td>Parks-Robbins</td>\n",
       "    </tr>\n",
       "  </tbody>\n",
       "</table>\n",
       "</div>"
      ],
      "text/plain": [
       "            Names   Age  Total_Purchase  Account_Manager  Years  Num_Sites  \\\n",
       "0   Andrew Mccall  37.0         9935.53                1   7.71        8.0   \n",
       "1  Michele Wright  23.0         7526.94                1   9.28       15.0   \n",
       "2    Jeremy Chang  65.0          100.00                1   1.00       15.0   \n",
       "3  Megan Ferguson  32.0         6487.50                0   9.40       14.0   \n",
       "4    Taylor Young  32.0        13147.71                1  10.00        8.0   \n",
       "5   Jessica Drake  22.0         8445.26                1   3.46       14.0   \n",
       "\n",
       "          Onboard_date                                           Location  \\\n",
       "0  2011-08-29 18:37:54  38612 Johnny Stravenue Nataliebury, WI 15717-8316   \n",
       "1  2013-07-22 18:19:54  21083 Nicole Junction Suite 332, Youngport, ME...   \n",
       "2  2006-12-11 07:48:13     085 Austin Views Lake Julialand, WY 63726-4298   \n",
       "3  2016-10-28 05:32:13      922 Wright Branch North Cynthialand, NC 64721   \n",
       "4  2012-03-20 00:36:46                    Unit 0789 Box 0734 DPO AP 39702   \n",
       "5  2011-02-04 19:29:27  1148 Tina Stravenue Apt. 978 South Carlos TX 2...   \n",
       "\n",
       "            Company  \n",
       "0          King Ltd  \n",
       "1     Cannon-Benson  \n",
       "2  Barron-Robertson  \n",
       "3     Sexton-Golden  \n",
       "4          Wood LLC  \n",
       "5     Parks-Robbins  "
      ]
     },
     "execution_count": 45,
     "metadata": {},
     "output_type": "execute_result"
    }
   ],
   "source": [
    "df_submit"
   ]
  },
  {
   "cell_type": "code",
   "execution_count": 46,
   "metadata": {},
   "outputs": [],
   "source": [
    "df_submit_x = df_submit[[\"Age\", \"Total_Purchase\", \"Years\", \"Num_Sites\"]]"
   ]
  },
  {
   "cell_type": "code",
   "execution_count": 47,
   "metadata": {},
   "outputs": [],
   "source": [
    "# 스케일링\n",
    "scaled_df_submit_x = ss.transform(df_submit_x)"
   ]
  },
  {
   "cell_type": "markdown",
   "metadata": {},
   "source": [
    "### 예측하기"
   ]
  },
  {
   "cell_type": "code",
   "execution_count": 48,
   "metadata": {},
   "outputs": [
    {
     "data": {
      "text/html": [
       "<style>#sk-container-id-1 {color: black;background-color: white;}#sk-container-id-1 pre{padding: 0;}#sk-container-id-1 div.sk-toggleable {background-color: white;}#sk-container-id-1 label.sk-toggleable__label {cursor: pointer;display: block;width: 100%;margin-bottom: 0;padding: 0.3em;box-sizing: border-box;text-align: center;}#sk-container-id-1 label.sk-toggleable__label-arrow:before {content: \"▸\";float: left;margin-right: 0.25em;color: #696969;}#sk-container-id-1 label.sk-toggleable__label-arrow:hover:before {color: black;}#sk-container-id-1 div.sk-estimator:hover label.sk-toggleable__label-arrow:before {color: black;}#sk-container-id-1 div.sk-toggleable__content {max-height: 0;max-width: 0;overflow: hidden;text-align: left;background-color: #f0f8ff;}#sk-container-id-1 div.sk-toggleable__content pre {margin: 0.2em;color: black;border-radius: 0.25em;background-color: #f0f8ff;}#sk-container-id-1 input.sk-toggleable__control:checked~div.sk-toggleable__content {max-height: 200px;max-width: 100%;overflow: auto;}#sk-container-id-1 input.sk-toggleable__control:checked~label.sk-toggleable__label-arrow:before {content: \"▾\";}#sk-container-id-1 div.sk-estimator input.sk-toggleable__control:checked~label.sk-toggleable__label {background-color: #d4ebff;}#sk-container-id-1 div.sk-label input.sk-toggleable__control:checked~label.sk-toggleable__label {background-color: #d4ebff;}#sk-container-id-1 input.sk-hidden--visually {border: 0;clip: rect(1px 1px 1px 1px);clip: rect(1px, 1px, 1px, 1px);height: 1px;margin: -1px;overflow: hidden;padding: 0;position: absolute;width: 1px;}#sk-container-id-1 div.sk-estimator {font-family: monospace;background-color: #f0f8ff;border: 1px dotted black;border-radius: 0.25em;box-sizing: border-box;margin-bottom: 0.5em;}#sk-container-id-1 div.sk-estimator:hover {background-color: #d4ebff;}#sk-container-id-1 div.sk-parallel-item::after {content: \"\";width: 100%;border-bottom: 1px solid gray;flex-grow: 1;}#sk-container-id-1 div.sk-label:hover label.sk-toggleable__label {background-color: #d4ebff;}#sk-container-id-1 div.sk-serial::before {content: \"\";position: absolute;border-left: 1px solid gray;box-sizing: border-box;top: 0;bottom: 0;left: 50%;z-index: 0;}#sk-container-id-1 div.sk-serial {display: flex;flex-direction: column;align-items: center;background-color: white;padding-right: 0.2em;padding-left: 0.2em;position: relative;}#sk-container-id-1 div.sk-item {position: relative;z-index: 1;}#sk-container-id-1 div.sk-parallel {display: flex;align-items: stretch;justify-content: center;background-color: white;position: relative;}#sk-container-id-1 div.sk-item::before, #sk-container-id-1 div.sk-parallel-item::before {content: \"\";position: absolute;border-left: 1px solid gray;box-sizing: border-box;top: 0;bottom: 0;left: 50%;z-index: -1;}#sk-container-id-1 div.sk-parallel-item {display: flex;flex-direction: column;z-index: 1;position: relative;background-color: white;}#sk-container-id-1 div.sk-parallel-item:first-child::after {align-self: flex-end;width: 50%;}#sk-container-id-1 div.sk-parallel-item:last-child::after {align-self: flex-start;width: 50%;}#sk-container-id-1 div.sk-parallel-item:only-child::after {width: 0;}#sk-container-id-1 div.sk-dashed-wrapped {border: 1px dashed gray;margin: 0 0.4em 0.5em 0.4em;box-sizing: border-box;padding-bottom: 0.4em;background-color: white;}#sk-container-id-1 div.sk-label label {font-family: monospace;font-weight: bold;display: inline-block;line-height: 1.2em;}#sk-container-id-1 div.sk-label-container {text-align: center;}#sk-container-id-1 div.sk-container {/* jupyter's `normalize.less` sets `[hidden] { display: none; }` but bootstrap.min.css set `[hidden] { display: none !important; }` so we also need the `!important` here to be able to override the default hidden behavior on the sphinx rendered scikit-learn.org. See: https://github.com/scikit-learn/scikit-learn/issues/21755 */display: inline-block !important;position: relative;}#sk-container-id-1 div.sk-text-repr-fallback {display: none;}</style><div id=\"sk-container-id-1\" class=\"sk-top-container\"><div class=\"sk-text-repr-fallback\"><pre>LogisticRegression()</pre><b>In a Jupyter environment, please rerun this cell to show the HTML representation or trust the notebook. <br />On GitHub, the HTML representation is unable to render, please try loading this page with nbviewer.org.</b></div><div class=\"sk-container\" hidden><div class=\"sk-item\"><div class=\"sk-estimator sk-toggleable\"><input class=\"sk-toggleable__control sk-hidden--visually\" id=\"sk-estimator-id-1\" type=\"checkbox\" checked><label for=\"sk-estimator-id-1\" class=\"sk-toggleable__label sk-toggleable__label-arrow\">LogisticRegression</label><div class=\"sk-toggleable__content\"><pre>LogisticRegression()</pre></div></div></div></div></div>"
      ],
      "text/plain": [
       "LogisticRegression()"
      ]
     },
     "execution_count": 48,
     "metadata": {},
     "output_type": "execute_result"
    }
   ],
   "source": [
    "# 로지스틱 모델 구현 \n",
    "logi.fit(scaled_train, y_train)"
   ]
  },
  {
   "cell_type": "code",
   "execution_count": 49,
   "metadata": {},
   "outputs": [
    {
     "data": {
      "text/plain": [
       "array([0, 1, 1, 1, 0, 1], dtype=int64)"
      ]
     },
     "execution_count": 49,
     "metadata": {},
     "output_type": "execute_result"
    }
   ],
   "source": [
    "# 예측\n",
    "logi.predict(scaled_df_submit_x)"
   ]
  },
  {
   "cell_type": "markdown",
   "metadata": {},
   "source": [
    "## 평가하기"
   ]
  },
  {
   "cell_type": "code",
   "execution_count": 50,
   "metadata": {},
   "outputs": [],
   "source": [
    "y_pred = logi.predict_proba(scaled_test)[:,1]"
   ]
  },
  {
   "cell_type": "code",
   "execution_count": 51,
   "metadata": {},
   "outputs": [],
   "source": [
    "auc = roc_auc_score(y_test, y_pred)"
   ]
  },
  {
   "cell_type": "code",
   "execution_count": 52,
   "metadata": {
    "scrolled": true
   },
   "outputs": [
    {
     "name": "stdout",
     "output_type": "stream",
     "text": [
      "0.922\n"
     ]
    }
   ],
   "source": [
    "print(auc)"
   ]
  },
  {
   "cell_type": "code",
   "execution_count": 53,
   "metadata": {},
   "outputs": [],
   "source": [
    "# 교차 검증을 사용한 AUC 계산하기\n",
    "cv_scores = cross_validate(logi, scaled_train, y_train, cv=5, scoring=\"roc_auc\" )"
   ]
  },
  {
   "cell_type": "code",
   "execution_count": 54,
   "metadata": {},
   "outputs": [
    {
     "data": {
      "text/plain": [
       "{'fit_time': array([0.00377965, 0.00398445, 0.        , 0.01743412, 0.        ]),\n",
       " 'score_time': array([0.00501513, 0.        , 0.        , 0.        , 0.01397228]),\n",
       " 'test_score': array([0.89618056, 0.88993056, 0.92743056, 0.91076389, 0.89201389])}"
      ]
     },
     "execution_count": 54,
     "metadata": {},
     "output_type": "execute_result"
    }
   ],
   "source": [
    "# 각 fold의 AUC 출력하기\n",
    "cv_scores"
   ]
  },
  {
   "cell_type": "code",
   "execution_count": 55,
   "metadata": {
    "scrolled": true
   },
   "outputs": [
    {
     "data": {
      "text/plain": [
       "0.9032638888888889"
      ]
     },
     "execution_count": 55,
     "metadata": {},
     "output_type": "execute_result"
    }
   ],
   "source": [
    "# 평균 AUC 계산하기\n",
    "mean_auc = np.mean(cv_scores[\"test_score\"])\n",
    "mean_auc"
   ]
  },
  {
   "cell_type": "markdown",
   "metadata": {},
   "source": [
    "## 언더샘플링 진행"
   ]
  },
  {
   "cell_type": "code",
   "execution_count": 56,
   "metadata": {},
   "outputs": [],
   "source": [
    "# 임시 변수명 적용 (imblearn 에서는 작동하지 않는 변수명들이 있기때문. 라이브러리 문제)\n",
    "x_train_re = x_train.copy()\n",
    "y_train_re = y_train.copy()\n",
    "\n",
    "# 컬럼 5개 만들기\n",
    "x_tmp_name = [f\"X{i}\" for i in range(1, 5)]\n",
    "y_tmp_name = [\"y1\"]"
   ]
  },
  {
   "cell_type": "code",
   "execution_count": 57,
   "metadata": {},
   "outputs": [],
   "source": [
    "# 만든 변수명 적용\n",
    "x_train_re.columns = x_tmp_name\n",
    "y_train_re.columns = y_tmp_name"
   ]
  },
  {
   "cell_type": "code",
   "execution_count": 58,
   "metadata": {},
   "outputs": [],
   "source": [
    "# 언더샘플링 적용\n",
    "x_train_under, y_train_under = RandomUnderSampler(random_state=196).fit_resample(x_train_re, y_train_re)"
   ]
  },
  {
   "cell_type": "code",
   "execution_count": 59,
   "metadata": {},
   "outputs": [
    {
     "data": {
      "text/plain": [
       "0    120\n",
       "1    120\n",
       "Name: Churn, dtype: int64"
      ]
     },
     "execution_count": 59,
     "metadata": {},
     "output_type": "execute_result"
    }
   ],
   "source": [
    "y_train_under.value_counts()"
   ]
  },
  {
   "cell_type": "code",
   "execution_count": 60,
   "metadata": {},
   "outputs": [],
   "source": [
    "# 컬럼명 복구\n",
    "x_train_under.columns = list(x_train)\n",
    "y_train_under.columns = list(y_train)"
   ]
  },
  {
   "cell_type": "code",
   "execution_count": 61,
   "metadata": {},
   "outputs": [],
   "source": [
    "# 스케일링 \n",
    "scaled_under_x_train = ss.transform(x_train_under)"
   ]
  },
  {
   "cell_type": "code",
   "execution_count": 62,
   "metadata": {},
   "outputs": [
    {
     "data": {
      "text/html": [
       "<style>#sk-container-id-2 {color: black;background-color: white;}#sk-container-id-2 pre{padding: 0;}#sk-container-id-2 div.sk-toggleable {background-color: white;}#sk-container-id-2 label.sk-toggleable__label {cursor: pointer;display: block;width: 100%;margin-bottom: 0;padding: 0.3em;box-sizing: border-box;text-align: center;}#sk-container-id-2 label.sk-toggleable__label-arrow:before {content: \"▸\";float: left;margin-right: 0.25em;color: #696969;}#sk-container-id-2 label.sk-toggleable__label-arrow:hover:before {color: black;}#sk-container-id-2 div.sk-estimator:hover label.sk-toggleable__label-arrow:before {color: black;}#sk-container-id-2 div.sk-toggleable__content {max-height: 0;max-width: 0;overflow: hidden;text-align: left;background-color: #f0f8ff;}#sk-container-id-2 div.sk-toggleable__content pre {margin: 0.2em;color: black;border-radius: 0.25em;background-color: #f0f8ff;}#sk-container-id-2 input.sk-toggleable__control:checked~div.sk-toggleable__content {max-height: 200px;max-width: 100%;overflow: auto;}#sk-container-id-2 input.sk-toggleable__control:checked~label.sk-toggleable__label-arrow:before {content: \"▾\";}#sk-container-id-2 div.sk-estimator input.sk-toggleable__control:checked~label.sk-toggleable__label {background-color: #d4ebff;}#sk-container-id-2 div.sk-label input.sk-toggleable__control:checked~label.sk-toggleable__label {background-color: #d4ebff;}#sk-container-id-2 input.sk-hidden--visually {border: 0;clip: rect(1px 1px 1px 1px);clip: rect(1px, 1px, 1px, 1px);height: 1px;margin: -1px;overflow: hidden;padding: 0;position: absolute;width: 1px;}#sk-container-id-2 div.sk-estimator {font-family: monospace;background-color: #f0f8ff;border: 1px dotted black;border-radius: 0.25em;box-sizing: border-box;margin-bottom: 0.5em;}#sk-container-id-2 div.sk-estimator:hover {background-color: #d4ebff;}#sk-container-id-2 div.sk-parallel-item::after {content: \"\";width: 100%;border-bottom: 1px solid gray;flex-grow: 1;}#sk-container-id-2 div.sk-label:hover label.sk-toggleable__label {background-color: #d4ebff;}#sk-container-id-2 div.sk-serial::before {content: \"\";position: absolute;border-left: 1px solid gray;box-sizing: border-box;top: 0;bottom: 0;left: 50%;z-index: 0;}#sk-container-id-2 div.sk-serial {display: flex;flex-direction: column;align-items: center;background-color: white;padding-right: 0.2em;padding-left: 0.2em;position: relative;}#sk-container-id-2 div.sk-item {position: relative;z-index: 1;}#sk-container-id-2 div.sk-parallel {display: flex;align-items: stretch;justify-content: center;background-color: white;position: relative;}#sk-container-id-2 div.sk-item::before, #sk-container-id-2 div.sk-parallel-item::before {content: \"\";position: absolute;border-left: 1px solid gray;box-sizing: border-box;top: 0;bottom: 0;left: 50%;z-index: -1;}#sk-container-id-2 div.sk-parallel-item {display: flex;flex-direction: column;z-index: 1;position: relative;background-color: white;}#sk-container-id-2 div.sk-parallel-item:first-child::after {align-self: flex-end;width: 50%;}#sk-container-id-2 div.sk-parallel-item:last-child::after {align-self: flex-start;width: 50%;}#sk-container-id-2 div.sk-parallel-item:only-child::after {width: 0;}#sk-container-id-2 div.sk-dashed-wrapped {border: 1px dashed gray;margin: 0 0.4em 0.5em 0.4em;box-sizing: border-box;padding-bottom: 0.4em;background-color: white;}#sk-container-id-2 div.sk-label label {font-family: monospace;font-weight: bold;display: inline-block;line-height: 1.2em;}#sk-container-id-2 div.sk-label-container {text-align: center;}#sk-container-id-2 div.sk-container {/* jupyter's `normalize.less` sets `[hidden] { display: none; }` but bootstrap.min.css set `[hidden] { display: none !important; }` so we also need the `!important` here to be able to override the default hidden behavior on the sphinx rendered scikit-learn.org. See: https://github.com/scikit-learn/scikit-learn/issues/21755 */display: inline-block !important;position: relative;}#sk-container-id-2 div.sk-text-repr-fallback {display: none;}</style><div id=\"sk-container-id-2\" class=\"sk-top-container\"><div class=\"sk-text-repr-fallback\"><pre>LogisticRegression()</pre><b>In a Jupyter environment, please rerun this cell to show the HTML representation or trust the notebook. <br />On GitHub, the HTML representation is unable to render, please try loading this page with nbviewer.org.</b></div><div class=\"sk-container\" hidden><div class=\"sk-item\"><div class=\"sk-estimator sk-toggleable\"><input class=\"sk-toggleable__control sk-hidden--visually\" id=\"sk-estimator-id-2\" type=\"checkbox\" checked><label for=\"sk-estimator-id-2\" class=\"sk-toggleable__label sk-toggleable__label-arrow\">LogisticRegression</label><div class=\"sk-toggleable__content\"><pre>LogisticRegression()</pre></div></div></div></div></div>"
      ],
      "text/plain": [
       "LogisticRegression()"
      ]
     },
     "execution_count": 62,
     "metadata": {},
     "output_type": "execute_result"
    }
   ],
   "source": [
    "# 학습셋 모델 학습 \n",
    "logi2 = LogisticRegression()\n",
    "logi2.fit(scaled_under_x_train, y_train_under)"
   ]
  },
  {
   "cell_type": "code",
   "execution_count": 63,
   "metadata": {},
   "outputs": [],
   "source": [
    "# 스케일링 평가용 데이터에 적용\n",
    "scaled_df_submit_x = ss.transform(df_submit_x)"
   ]
  },
  {
   "cell_type": "code",
   "execution_count": 64,
   "metadata": {},
   "outputs": [
    {
     "data": {
      "text/plain": [
       "array([0, 1, 1, 1, 0, 1], dtype=int64)"
      ]
     },
     "execution_count": 64,
     "metadata": {},
     "output_type": "execute_result"
    }
   ],
   "source": [
    "# 예측해보기 \n",
    "logi2.predict(scaled_df_submit_x)"
   ]
  },
  {
   "cell_type": "markdown",
   "metadata": {},
   "source": [
    "## 평가하기"
   ]
  },
  {
   "cell_type": "code",
   "execution_count": 65,
   "metadata": {},
   "outputs": [
    {
     "data": {
      "text/plain": [
       "0.9121527777777778"
      ]
     },
     "execution_count": 65,
     "metadata": {},
     "output_type": "execute_result"
    }
   ],
   "source": [
    "# 교차 검증을 사용한 AUC 계산하기\n",
    "cv_scores = cross_val_score(logi2, scaled_under_x_train, y_train_under, cv=5, scoring='roc_auc')\n",
    "# 각 fold의 AUC 출력하기\n",
    "cv_scores\n",
    "# 평균 AUC 계산하기\n",
    "mean_auc = cv_scores.mean()\n",
    "mean_auc"
   ]
  },
  {
   "cell_type": "code",
   "execution_count": 66,
   "metadata": {
    "scrolled": false
   },
   "outputs": [
    {
     "data": {
      "image/png": "[encoded data removed]",
      "text/plain": [
       "<Figure size 2000x1600 with 1 Axes>"
      ]
     },
     "metadata": {},
     "output_type": "display_data"
    }
   ],
   "source": [
    "# ROC 커브 그리기\n",
    "pred_proba_class1 = logi2.predict_proba(scaled_test)[:, 1]\n",
    "\n",
    "fprs, tprs, thresholds = roc_curve(y_test,\n",
    "                                  pred_proba_class1)\n",
    "\n",
    "plt.figure()\n",
    "plt.plot(fprs, tprs, label = \"ROC\")\n",
    "plt.plot([0, 1], [0, 1], \"k--\", label = \"Random\")\n",
    "\n",
    "plt.xticks(np.round(np.arange(0, 1, 0.1), 2))\n",
    "plt.xlabel(\"FPR\")\n",
    "plt.ylabel(\"TPR\")\n",
    "plt.legend()\n",
    "plt.show()"
   ]
  },
  {
   "cell_type": "markdown",
   "metadata": {},
   "source": [
    "## 통계모델"
   ]
  },
  {
   "cell_type": "code",
   "execution_count": 67,
   "metadata": {},
   "outputs": [
    {
     "name": "stdout",
     "output_type": "stream",
     "text": [
      "Optimization terminated successfully.\n",
      "         Current function value: 0.548201\n",
      "         Iterations 6\n"
     ]
    }
   ],
   "source": [
    "# 로지스틱 모델 통계모델로 학습\n",
    "model = sm.Logit(y_train_under, x_train_under)\n",
    "results = model.fit()"
   ]
  },
  {
   "cell_type": "code",
   "execution_count": 68,
   "metadata": {},
   "outputs": [
    {
     "data": {
      "text/html": [
       "<table class=\"simpletable\">\n",
       "<caption>Logit Regression Results</caption>\n",
       "<tr>\n",
       "  <th>Dep. Variable:</th>         <td>Churn</td>      <th>  No. Observations:  </th>  <td>   240</td>  \n",
       "</tr>\n",
       "<tr>\n",
       "  <th>Model:</th>                 <td>Logit</td>      <th>  Df Residuals:      </th>  <td>   236</td>  \n",
       "</tr>\n",
       "<tr>\n",
       "  <th>Method:</th>                 <td>MLE</td>       <th>  Df Model:          </th>  <td>     3</td>  \n",
       "</tr>\n",
       "<tr>\n",
       "  <th>Date:</th>            <td>Mon, 01 Apr 2024</td> <th>  Pseudo R-squ.:     </th>  <td>0.2091</td>  \n",
       "</tr>\n",
       "<tr>\n",
       "  <th>Time:</th>                <td>15:15:42</td>     <th>  Log-Likelihood:    </th> <td> -131.57</td> \n",
       "</tr>\n",
       "<tr>\n",
       "  <th>converged:</th>             <td>True</td>       <th>  LL-Null:           </th> <td> -166.36</td> \n",
       "</tr>\n",
       "<tr>\n",
       "  <th>Covariance Type:</th>     <td>nonrobust</td>    <th>  LLR p-value:       </th> <td>5.265e-15</td>\n",
       "</tr>\n",
       "</table>\n",
       "<table class=\"simpletable\">\n",
       "<tr>\n",
       "         <td></td>           <th>coef</th>     <th>std err</th>      <th>z</th>      <th>P>|z|</th>  <th>[0.025</th>    <th>0.975]</th>  \n",
       "</tr>\n",
       "<tr>\n",
       "  <th>Age</th>            <td>   -0.0691</td> <td>    0.019</td> <td>   -3.671</td> <td> 0.000</td> <td>   -0.106</td> <td>   -0.032</td>\n",
       "</tr>\n",
       "<tr>\n",
       "  <th>Total_Purchase</th> <td>   -0.0003</td> <td> 6.05e-05</td> <td>   -4.403</td> <td> 0.000</td> <td>   -0.000</td> <td>   -0.000</td>\n",
       "</tr>\n",
       "<tr>\n",
       "  <th>Years</th>          <td>    0.0608</td> <td>    0.109</td> <td>    0.560</td> <td> 0.576</td> <td>   -0.152</td> <td>    0.274</td>\n",
       "</tr>\n",
       "<tr>\n",
       "  <th>Num_Sites</th>      <td>    0.5761</td> <td>    0.091</td> <td>    6.354</td> <td> 0.000</td> <td>    0.398</td> <td>    0.754</td>\n",
       "</tr>\n",
       "</table>"
      ],
      "text/plain": [
       "<class 'statsmodels.iolib.summary.Summary'>\n",
       "\"\"\"\n",
       "                           Logit Regression Results                           \n",
       "==============================================================================\n",
       "Dep. Variable:                  Churn   No. Observations:                  240\n",
       "Model:                          Logit   Df Residuals:                      236\n",
       "Method:                           MLE   Df Model:                            3\n",
       "Date:                Mon, 01 Apr 2024   Pseudo R-squ.:                  0.2091\n",
       "Time:                        15:15:42   Log-Likelihood:                -131.57\n",
       "converged:                       True   LL-Null:                       -166.36\n",
       "Covariance Type:            nonrobust   LLR p-value:                 5.265e-15\n",
       "==================================================================================\n",
       "                     coef    std err          z      P>|z|      [0.025      0.975]\n",
       "----------------------------------------------------------------------------------\n",
       "Age               -0.0691      0.019     -3.671      0.000      -0.106      -0.032\n",
       "Total_Purchase    -0.0003   6.05e-05     -4.403      0.000      -0.000      -0.000\n",
       "Years              0.0608      0.109      0.560      0.576      -0.152       0.274\n",
       "Num_Sites          0.5761      0.091      6.354      0.000       0.398       0.754\n",
       "==================================================================================\n",
       "\"\"\""
      ]
     },
     "execution_count": 68,
     "metadata": {},
     "output_type": "execute_result"
    }
   ],
   "source": [
    "results.summary()"
   ]
  },
  {
   "cell_type": "markdown",
   "metadata": {},
   "source": [
    "- Years 변수의 p-value가 0.05보다 높기때문에 해당 컬럼을 제거해보면 성능이 더 좋아질 수도 있음"
   ]
  },
  {
   "cell_type": "markdown",
   "metadata": {},
   "source": [
    "## 정리\n",
    "\n",
    "- 선택한 변수들 : \"Age\", \"Total_Purchase\", \"Years\", \"Num_Sites\" (정규분포를 띄는 변수들만 선택해서 사용함)\n",
    "\n",
    "- 구현한 머신러닝 모델중에서는(로지스틱,의사결정나무,랜덤포레스트,엑스트라 트리, 그레디언트부스트) 로지스틱회귀모델이 제일 우수한 성능을 보임.\n",
    "\n",
    "- 세개의 변수에서 이상치들이 있어서 Robust 스케일러를 사용해보았지만, Standard Scaler를 사용했을 때 성능이 더 우수했음.\n",
    "\n",
    "- 언더샘플링을 진행하니 성능이 조금 더 좋아진 것으로 보임. 데이터 균형을 맞추는 것이 도움이 되는걸로 나타남.\n",
    "    - 하지만 언더샘플링을 진행하게되면 데이터의 수가 너무 적음 (각 120개). 오버샘플링을 구현해보면 좋을 수도 있음\n",
    "    \n",
    "- 앞서 사용한 변수 4개로 로지스틱 회귀모델을 구현했을 때, 이탈고객을 예측할 확률은 대략 88%이며, AUC 점수 0.9118의 성능을 띔.\n"
   ]
  },
  {
   "cell_type": "code",
   "execution_count": null,
   "metadata": {},
   "outputs": [],
   "source": []
  }
 ],
 "metadata": {
  "kernelspec": {
   "display_name": "Python 3 (ipykernel)",
   "language": "python",
   "name": "python3"
  },
  "language_info": {
   "codemirror_mode": {
    "name": "ipython",
    "version": 3
   },
   "file_extension": ".py",
   "mimetype": "text/x-python",
   "name": "python",
   "nbconvert_exporter": "python",
   "pygments_lexer": "ipython3",
   "version": "3.11.5"
  }
 },
 "nbformat": 4,
 "nbformat_minor": 4
}
