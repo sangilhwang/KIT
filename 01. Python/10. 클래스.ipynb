{
 "cells": [
  {
   "cell_type": "markdown",
   "id": "3963bdf8",
   "metadata": {},
   "source": [
    "# 객체\n",
    "\n",
    "- 프로그램을 만들 때는 우선 \"어떤 데이터를 활용하는가?\"를 생각해야함\n",
    "    - 예) 병원 업무 프로그램을 만든다면 의사, 환자, 예약 기록, 진료 기록, 입퇴원 기록과 같은 데이터를 고려해야함\n",
    "    \n",
    "- 여러가지 속성을 가질 수 있는 대상을 객체(object)라고 함"
   ]
  },
  {
   "cell_type": "markdown",
   "id": "9262ef90",
   "metadata": {},
   "source": [
    "# 클래스의 개념\n",
    "\n",
    "- 객체를 만드는 도구\n",
    "- 클래스를 통해 여러 개의 객체를 만들 수 있음\n",
    "- 동일한 클래스에서도 서로 다른 값을 객체가 만들어질 수 있음\n",
    "\n",
    "- 클래스 명칭은 카멜케이스로 만드는 것이 국룰"
   ]
  },
  {
   "cell_type": "code",
   "execution_count": 1,
   "id": "be5d4fc4",
   "metadata": {},
   "outputs": [
    {
     "name": "stdout",
     "output_type": "stream",
     "text": [
      "3\n",
      "7\n"
     ]
    }
   ],
   "source": [
    "# 계산기 예시 코드\n",
    "\n",
    "result = 0\n",
    "\n",
    "def cal_add(num):\n",
    "    global result\n",
    "    result += num\n",
    "    return result\n",
    "\n",
    "print(cal_add(3))\n",
    "print(cal_add(4))"
   ]
  },
  {
   "cell_type": "code",
   "execution_count": 2,
   "id": "02faaf05",
   "metadata": {},
   "outputs": [
    {
     "name": "stdout",
     "output_type": "stream",
     "text": [
      "4\n",
      "9\n"
     ]
    }
   ],
   "source": [
    "# 만약에 2대의 계산기가 필요한 상황이라면\n",
    "# 별도의 변수, 별도의 함수를 만들어야 하는 상황\n",
    "\n",
    "result1 = 0\n",
    "\n",
    "def cal_add1(num):\n",
    "    global result1\n",
    "    result1 += num\n",
    "    return result1\n",
    "\n",
    "print(cal_add1(4))\n",
    "print(cal_add1(5))"
   ]
  },
  {
   "cell_type": "code",
   "execution_count": 3,
   "id": "a2043ee7",
   "metadata": {},
   "outputs": [],
   "source": [
    "class Calculator:\n",
    "    def __init__(self):\n",
    "        self.result = 0\n",
    "        \n",
    "    def add(self, num):\n",
    "        self.result += num\n",
    "        return self.result"
   ]
  },
  {
   "cell_type": "code",
   "execution_count": 4,
   "id": "e54b0cf5",
   "metadata": {},
   "outputs": [
    {
     "name": "stdout",
     "output_type": "stream",
     "text": [
      "3\n",
      "7\n",
      "3\n",
      "10\n"
     ]
    }
   ],
   "source": [
    "cal1 = Calculator()\n",
    "cal2 = Calculator()\n",
    "\n",
    "print(cal1.add(3))\n",
    "print(cal1.add(4))\n",
    "print(cal2.add(3))\n",
    "print(cal2.add(7))"
   ]
  },
  {
   "cell_type": "markdown",
   "id": "0268f948",
   "metadata": {},
   "source": [
    "- 클래스 생성"
   ]
  },
  {
   "cell_type": "code",
   "execution_count": 5,
   "id": "8143a14e",
   "metadata": {},
   "outputs": [],
   "source": [
    "class WaffleMachine:\n",
    "    pass"
   ]
  },
  {
   "cell_type": "code",
   "execution_count": 6,
   "id": "be08e594",
   "metadata": {},
   "outputs": [],
   "source": [
    "# 객체     클래스()\n",
    "waffle = WaffleMachine()"
   ]
  },
  {
   "cell_type": "code",
   "execution_count": 8,
   "id": "6aee2bff",
   "metadata": {},
   "outputs": [
    {
     "data": {
      "text/plain": [
       "<__main__.WaffleMachine at 0x22f1b271f50>"
      ]
     },
     "execution_count": 8,
     "metadata": {},
     "output_type": "execute_result"
    }
   ],
   "source": [
    "# 메모리 0x22f1b271f50에 저장된 WaffleMachine 클래스의 객체\n",
    "waffle"
   ]
  },
  {
   "cell_type": "markdown",
   "id": "421c809a",
   "metadata": {},
   "source": [
    "## 클래스의 구성\n",
    "\n",
    "- 클래스는 객체가 가져야할 구성요소를 모두 가지고 있어야함\n",
    "    - 객체가 가져야할 값, 기능\n",
    "        - 값 : 이름, 나이, 연락처, 주소 등 (변수)\n",
    "        - 기능 : 잔다, 먹는다, 공부한다, 달린다 등"
   ]
  },
  {
   "cell_type": "code",
   "execution_count": 11,
   "id": "ecf0963b",
   "metadata": {},
   "outputs": [],
   "source": [
    "# 사칙연산 클래스\n",
    "class FourCal:\n",
    "    pass"
   ]
  },
  {
   "cell_type": "code",
   "execution_count": 13,
   "id": "dc952fa1",
   "metadata": {},
   "outputs": [
    {
     "data": {
      "text/plain": [
       "__main__.FourCal"
      ]
     },
     "execution_count": 13,
     "metadata": {},
     "output_type": "execute_result"
    }
   ],
   "source": [
    "cal = FourCal()\n",
    "type(cal)"
   ]
  },
  {
   "cell_type": "markdown",
   "id": "c52c0689",
   "metadata": {},
   "source": [
    "### 인스턴스 변수와 인스턴스 메소드\n",
    "\n",
    "- 인스턴스 변수 : 클래스를 기반으로 만들어지는 모든 객체들이 각각 따로 저장하는 변수\n",
    "    - 모든 인스턴스 변수는 self라는 키워드를 붙임\n",
    "    - self는 자기자신을 나타내는 의미\n",
    "        - 자신이 가지고 있는 속성과 기능에 접근할 때는 self.식별자 형태로 접근\n",
    "        \n",
    "- 인스턴스 메소드 : 클래스 내부에서 정의되는 함수\n",
    "    - 인스턴스 변수값에 따라서 각 객체마다 다르게 동작\n",
    "        - 첫 번째 매개변수로 self를 추가"
   ]
  },
  {
   "cell_type": "code",
   "execution_count": 67,
   "id": "94bb053b",
   "metadata": {},
   "outputs": [],
   "source": [
    "# 예시1. Person 클래스를 정의\n",
    "\n",
    "class Person:\n",
    "    def __init__(self):\n",
    "        self.name = \"1\"\n",
    "        self.age = \"2\"\n",
    "        self.tel = \"3\"\n",
    "        self.address = \"4\"\n",
    "    \n",
    "    def who_am_i(self, name, age, tel, address):\n",
    "        # 인스턴스 메소드 who_am_i\n",
    "        # 모든 Person 클래스의 객체는 who_am_i() 메소드를 호출 가능\n",
    "        # self를 제외한 나머지 매개변수에 실제로 사용될 데이터가 전달\n",
    "        \n",
    "        self.name = name\n",
    "        \n",
    "        # 인스턴스 변수 name\n",
    "        # = 오른쪽의 name은 매개변수의 name\n",
    "        # who_am_i() 메소드를 호출할 때 전달된 name이 객체의 name이 됨\n",
    "        \n",
    "        self.age = age\n",
    "        self.tel = tel\n",
    "        self.address = address"
   ]
  },
  {
   "cell_type": "code",
   "execution_count": 45,
   "id": "77ba16d3",
   "metadata": {},
   "outputs": [],
   "source": [
    "# 객체 boy가 생성\n",
    "boy = Person()\n",
    "\n",
    "boy.who_am_i(\"Chris\", 28, \"010-5017-9959\", \"경기도 고양시 향기로 30 108동 404호\")"
   ]
  },
  {
   "cell_type": "code",
   "execution_count": 46,
   "id": "d6d57ec5",
   "metadata": {},
   "outputs": [
    {
     "data": {
      "text/plain": [
       "'Chris'"
      ]
     },
     "execution_count": 46,
     "metadata": {},
     "output_type": "execute_result"
    }
   ],
   "source": [
    "boy.name"
   ]
  },
  {
   "cell_type": "code",
   "execution_count": 47,
   "id": "09f4bd90",
   "metadata": {},
   "outputs": [
    {
     "data": {
      "text/plain": [
       "28"
      ]
     },
     "execution_count": 47,
     "metadata": {},
     "output_type": "execute_result"
    }
   ],
   "source": [
    "boy.age"
   ]
  },
  {
   "cell_type": "code",
   "execution_count": 48,
   "id": "ede7a7e9",
   "metadata": {},
   "outputs": [
    {
     "data": {
      "text/plain": [
       "'010-5017-9959'"
      ]
     },
     "execution_count": 48,
     "metadata": {},
     "output_type": "execute_result"
    }
   ],
   "source": [
    "boy.tel"
   ]
  },
  {
   "cell_type": "code",
   "execution_count": 49,
   "id": "ca61e785",
   "metadata": {},
   "outputs": [
    {
     "data": {
      "text/plain": [
       "'경기도 고양시 향기로 30 108동 404호'"
      ]
     },
     "execution_count": 49,
     "metadata": {},
     "output_type": "execute_result"
    }
   ],
   "source": [
    "boy.address"
   ]
  },
  {
   "cell_type": "code",
   "execution_count": 50,
   "id": "e4265b5f",
   "metadata": {},
   "outputs": [],
   "source": [
    "girl = Person()\n",
    "\n",
    "girl.who_am_i(\"Tav\", \"22\", \"\", \"Baldur's Gate Lower City\")"
   ]
  },
  {
   "cell_type": "code",
   "execution_count": 51,
   "id": "438eda7b",
   "metadata": {},
   "outputs": [
    {
     "data": {
      "text/plain": [
       "'Tav'"
      ]
     },
     "execution_count": 51,
     "metadata": {},
     "output_type": "execute_result"
    }
   ],
   "source": [
    "girl.name"
   ]
  },
  {
   "cell_type": "code",
   "execution_count": 52,
   "id": "5f654a0a",
   "metadata": {},
   "outputs": [
    {
     "data": {
      "text/plain": [
       "'22'"
      ]
     },
     "execution_count": 52,
     "metadata": {},
     "output_type": "execute_result"
    }
   ],
   "source": [
    "girl.age"
   ]
  },
  {
   "cell_type": "code",
   "execution_count": 53,
   "id": "626fa5a3",
   "metadata": {},
   "outputs": [
    {
     "data": {
      "text/plain": [
       "''"
      ]
     },
     "execution_count": 53,
     "metadata": {},
     "output_type": "execute_result"
    }
   ],
   "source": [
    "girl.tel"
   ]
  },
  {
   "cell_type": "code",
   "execution_count": 54,
   "id": "a184b212",
   "metadata": {},
   "outputs": [
    {
     "data": {
      "text/plain": [
       "\"Baldur's Gate Lower City\""
      ]
     },
     "execution_count": 54,
     "metadata": {},
     "output_type": "execute_result"
    }
   ],
   "source": [
    "girl.address"
   ]
  },
  {
   "cell_type": "code",
   "execution_count": 68,
   "id": "b171b3a2",
   "metadata": {},
   "outputs": [],
   "source": [
    "baby = Person()"
   ]
  },
  {
   "cell_type": "code",
   "execution_count": 69,
   "id": "98a36203",
   "metadata": {},
   "outputs": [
    {
     "data": {
      "text/plain": [
       "'1'"
      ]
     },
     "execution_count": 69,
     "metadata": {},
     "output_type": "execute_result"
    }
   ],
   "source": [
    "baby.name"
   ]
  },
  {
   "cell_type": "code",
   "execution_count": 70,
   "id": "74fe1046",
   "metadata": {},
   "outputs": [
    {
     "data": {
      "text/plain": [
       "'2'"
      ]
     },
     "execution_count": 70,
     "metadata": {},
     "output_type": "execute_result"
    }
   ],
   "source": [
    "baby.age"
   ]
  },
  {
   "cell_type": "code",
   "execution_count": 71,
   "id": "f3c7ec8d",
   "metadata": {},
   "outputs": [
    {
     "data": {
      "text/plain": [
       "'3'"
      ]
     },
     "execution_count": 71,
     "metadata": {},
     "output_type": "execute_result"
    }
   ],
   "source": [
    "baby.tel"
   ]
  },
  {
   "cell_type": "code",
   "execution_count": 72,
   "id": "2b3e6e9a",
   "metadata": {},
   "outputs": [
    {
     "data": {
      "text/plain": [
       "'4'"
      ]
     },
     "execution_count": 72,
     "metadata": {},
     "output_type": "execute_result"
    }
   ],
   "source": [
    "baby.address"
   ]
  },
  {
   "cell_type": "code",
   "execution_count": 6,
   "id": "bfca4c38",
   "metadata": {},
   "outputs": [],
   "source": [
    "# 예시2\n",
    "class Computer:\n",
    "    def set_spec(self, cpu, ram, vga, ssd):\n",
    "        self.cpu = cpu\n",
    "        self.ram = ram\n",
    "        self.vga = vga\n",
    "        self.ssd = ssd\n",
    "        \n",
    "    def hardware_info(self):\n",
    "        print(f\"CPU = {self.cpu}\")\n",
    "        print(f\"RAM = {self.ram}\")\n",
    "        print(f\"VGA = {self.vga}\")\n",
    "        print(f\"SSD = {self.vga}\")"
   ]
  },
  {
   "cell_type": "code",
   "execution_count": 7,
   "id": "f24c387d",
   "metadata": {},
   "outputs": [],
   "source": [
    "desktop = Computer()"
   ]
  },
  {
   "cell_type": "code",
   "execution_count": 9,
   "id": "3a783953",
   "metadata": {},
   "outputs": [],
   "source": [
    "desktop.set_spec(\"i9900\", \"32GB\", \"GTX 2070 super\", \"1TB\")"
   ]
  },
  {
   "cell_type": "code",
   "execution_count": 11,
   "id": "9dbdb273",
   "metadata": {},
   "outputs": [
    {
     "name": "stdout",
     "output_type": "stream",
     "text": [
      "CPU = i9900\n",
      "RAM = 32GB\n",
      "VGA = GTX 2070 super\n",
      "SSD = GTX 2070 super\n"
     ]
    }
   ],
   "source": [
    "desktop.hardware_info()"
   ]
  },
  {
   "cell_type": "code",
   "execution_count": 12,
   "id": "77fc38d2",
   "metadata": {},
   "outputs": [],
   "source": [
    "notebook = Computer()"
   ]
  },
  {
   "cell_type": "code",
   "execution_count": 13,
   "id": "4ffa9b5b",
   "metadata": {},
   "outputs": [],
   "source": [
    "notebook.set_spec(\"i3\", \"4GB\", \"MX300\", \"256GB\")"
   ]
  },
  {
   "cell_type": "code",
   "execution_count": 14,
   "id": "ffd50e06",
   "metadata": {},
   "outputs": [
    {
     "name": "stdout",
     "output_type": "stream",
     "text": [
      "CPU = i3\n",
      "RAM = 4GB\n",
      "VGA = MX300\n",
      "SSD = MX300\n"
     ]
    }
   ],
   "source": [
    "notebook.hardware_info()"
   ]
  },
  {
   "cell_type": "code",
   "execution_count": 22,
   "id": "a87a1d4c",
   "metadata": {},
   "outputs": [],
   "source": [
    "# 객체에서 사용할 인스턴스 변수 생성\n",
    "class FourCal:\n",
    "    def set_data(self, first, second): # 메소드의 매개변수\n",
    "        self.first = first # 메소드의 수행문\n",
    "        self.second = second"
   ]
  },
  {
   "cell_type": "code",
   "execution_count": 23,
   "id": "a3739915",
   "metadata": {},
   "outputs": [],
   "source": [
    "cal = FourCal()\n",
    "cal.set_data(4, 2)"
   ]
  },
  {
   "cell_type": "code",
   "execution_count": 28,
   "id": "024c8eb2",
   "metadata": {},
   "outputs": [
    {
     "name": "stdout",
     "output_type": "stream",
     "text": [
      "4\n",
      "2\n"
     ]
    }
   ],
   "source": [
    "print(cal.first)\n",
    "print(cal.second)"
   ]
  },
  {
   "cell_type": "code",
   "execution_count": 45,
   "id": "8a799ea6",
   "metadata": {},
   "outputs": [
    {
     "name": "stdout",
     "output_type": "stream",
     "text": [
      "3\n",
      "7\n"
     ]
    }
   ],
   "source": [
    "test_cal = FourCal()\n",
    "test_cal.set_data(3, 7)\n",
    "print(test_cal.first)\n",
    "print(test_cal.second)"
   ]
  },
  {
   "cell_type": "code",
   "execution_count": 53,
   "id": "f3e3b285",
   "metadata": {},
   "outputs": [],
   "source": [
    "# 더하기 기능 추가하기\n",
    "class FourCal:\n",
    "    def set_data(self, first, second): # 메소드의 매개변수\n",
    "        self.first = first # 메소드의 수행문\n",
    "        self.second = second\n",
    "        \n",
    "    # add 메소드 추가\n",
    "    def add(self):\n",
    "        return self.first + self.second"
   ]
  },
  {
   "cell_type": "code",
   "execution_count": 54,
   "id": "8a88aa16",
   "metadata": {},
   "outputs": [
    {
     "name": "stdout",
     "output_type": "stream",
     "text": [
      "3\n",
      "7\n"
     ]
    }
   ],
   "source": [
    "test_cal = FourCal()\n",
    "test_cal.set_data(3, 7)\n",
    "print(test_cal.first)\n",
    "print(test_cal.second)"
   ]
  },
  {
   "cell_type": "code",
   "execution_count": 56,
   "id": "af73a9ec",
   "metadata": {},
   "outputs": [
    {
     "data": {
      "text/plain": [
       "10"
      ]
     },
     "execution_count": 56,
     "metadata": {},
     "output_type": "execute_result"
    }
   ],
   "source": [
    "test_cal.add()"
   ]
  },
  {
   "cell_type": "code",
   "execution_count": 57,
   "id": "68c00b88",
   "metadata": {},
   "outputs": [],
   "source": [
    "# 사칙연산 기능 추가하기\n",
    "\n",
    "class FourCal:\n",
    "    def set_data(self, first, second): # 메소드의 매개변수\n",
    "        self.first = first # 메소드의 수행문\n",
    "        self.second = second\n",
    "        \n",
    "    # add 메소드 추가\n",
    "    def add(self):\n",
    "        return self.first + self.second\n",
    "    \n",
    "    def subtract(self):\n",
    "        return self.first - self.second\n",
    "    \n",
    "    def multiply(self):\n",
    "        return self.first * self.second\n",
    "    \n",
    "    def divide(self):\n",
    "        return self.first / self.second\n"
   ]
  },
  {
   "cell_type": "code",
   "execution_count": 58,
   "id": "67f1aee3",
   "metadata": {},
   "outputs": [],
   "source": [
    "test_cal2 = FourCal()\n",
    "test_cal2.set_data(10 , 2)"
   ]
  },
  {
   "cell_type": "code",
   "execution_count": 59,
   "id": "1b01ed98",
   "metadata": {},
   "outputs": [
    {
     "data": {
      "text/plain": [
       "12"
      ]
     },
     "execution_count": 59,
     "metadata": {},
     "output_type": "execute_result"
    }
   ],
   "source": [
    "test_cal2.add()"
   ]
  },
  {
   "cell_type": "code",
   "execution_count": 60,
   "id": "497fb6a3",
   "metadata": {},
   "outputs": [
    {
     "data": {
      "text/plain": [
       "8"
      ]
     },
     "execution_count": 60,
     "metadata": {},
     "output_type": "execute_result"
    }
   ],
   "source": [
    "test_cal2.subtract()"
   ]
  },
  {
   "cell_type": "code",
   "execution_count": 61,
   "id": "d350525d",
   "metadata": {},
   "outputs": [
    {
     "data": {
      "text/plain": [
       "20"
      ]
     },
     "execution_count": 61,
     "metadata": {},
     "output_type": "execute_result"
    }
   ],
   "source": [
    "test_cal2.multiply()"
   ]
  },
  {
   "cell_type": "code",
   "execution_count": 62,
   "id": "42ad84bf",
   "metadata": {},
   "outputs": [
    {
     "data": {
      "text/plain": [
       "5.0"
      ]
     },
     "execution_count": 62,
     "metadata": {},
     "output_type": "execute_result"
    }
   ],
   "source": [
    "test_cal2.divide()"
   ]
  },
  {
   "cell_type": "markdown",
   "id": "e6f3e4f7",
   "metadata": {},
   "source": [
    "# 생성자\n",
    "\n",
    "- 객체가 생성될 때 자동으로 호출되는 메소드"
   ]
  },
  {
   "cell_type": "code",
   "execution_count": 64,
   "id": "d1ad3b00",
   "metadata": {},
   "outputs": [
    {
     "ename": "AttributeError",
     "evalue": "'FourCal' object has no attribute 'first'",
     "output_type": "error",
     "traceback": [
      "\u001b[1;31m---------------------------------------------------------------------------\u001b[0m",
      "\u001b[1;31mAttributeError\u001b[0m                            Traceback (most recent call last)",
      "Cell \u001b[1;32mIn[64], line 3\u001b[0m\n\u001b[0;32m      1\u001b[0m \u001b[38;5;66;03m# set_data 메소드를 실행해야만 first와 second가 생성됨\u001b[39;00m\n\u001b[0;32m      2\u001b[0m test_const \u001b[38;5;241m=\u001b[39m FourCal()\n\u001b[1;32m----> 3\u001b[0m test_const\u001b[38;5;241m.\u001b[39madd()\n",
      "Cell \u001b[1;32mIn[57], line 10\u001b[0m, in \u001b[0;36mFourCal.add\u001b[1;34m(self)\u001b[0m\n\u001b[0;32m      9\u001b[0m \u001b[38;5;28;01mdef\u001b[39;00m \u001b[38;5;21madd\u001b[39m(\u001b[38;5;28mself\u001b[39m):\n\u001b[1;32m---> 10\u001b[0m     \u001b[38;5;28;01mreturn\u001b[39;00m \u001b[38;5;28mself\u001b[39m\u001b[38;5;241m.\u001b[39mfirst \u001b[38;5;241m+\u001b[39m \u001b[38;5;28mself\u001b[39m\u001b[38;5;241m.\u001b[39msecond\n",
      "\u001b[1;31mAttributeError\u001b[0m: 'FourCal' object has no attribute 'first'"
     ]
    }
   ],
   "source": [
    "# set_data 메소드를 실행해야만 first와 second가 생성됨\n",
    "test_const = FourCal()\n",
    "test_const.add()"
   ]
  },
  {
   "cell_type": "code",
   "execution_count": 66,
   "id": "e72b7e49",
   "metadata": {},
   "outputs": [],
   "source": [
    "# 생성자 추가하기\n",
    "class FourCal:\n",
    " \n",
    "    def __init__(self, first, second): # 생성자 / 해당 함수 명칭은 바꾸면 안됨\n",
    "        self.set_data(first, second)\n",
    "        \n",
    "    def set_data(self, first, second): \n",
    "        self.first = first \n",
    "        self.second = second\n",
    "\n",
    "    def add(self):\n",
    "        return self.first + self.second\n",
    "    \n",
    "    def subtract(self):\n",
    "        return self.first - self.second\n",
    "    \n",
    "    def multiply(self):\n",
    "        return self.first * self.second\n",
    "    \n",
    "    def divide(self):\n",
    "        return self.first / self.second"
   ]
  },
  {
   "cell_type": "code",
   "execution_count": 67,
   "id": "3f02e39c",
   "metadata": {},
   "outputs": [
    {
     "ename": "TypeError",
     "evalue": "FourCal.__init__() missing 2 required positional arguments: 'first' and 'second'",
     "output_type": "error",
     "traceback": [
      "\u001b[1;31m---------------------------------------------------------------------------\u001b[0m",
      "\u001b[1;31mTypeError\u001b[0m                                 Traceback (most recent call last)",
      "Cell \u001b[1;32mIn[67], line 2\u001b[0m\n\u001b[0;32m      1\u001b[0m \u001b[38;5;66;03m# 생성자의 매개변수를 전달해야 객체를 생성할 수 있음\u001b[39;00m\n\u001b[1;32m----> 2\u001b[0m test_const \u001b[38;5;241m=\u001b[39m FourCal()\n",
      "\u001b[1;31mTypeError\u001b[0m: FourCal.__init__() missing 2 required positional arguments: 'first' and 'second'"
     ]
    }
   ],
   "source": [
    "# 생성자의 매개변수를 전달해야 객체를 생성할 수 있음\n",
    "test_const = FourCal()"
   ]
  },
  {
   "cell_type": "code",
   "execution_count": 68,
   "id": "fcdcc81b",
   "metadata": {},
   "outputs": [],
   "source": [
    "test_const = FourCal(4, 2)"
   ]
  },
  {
   "cell_type": "code",
   "execution_count": 69,
   "id": "866fcdf8",
   "metadata": {},
   "outputs": [
    {
     "name": "stdout",
     "output_type": "stream",
     "text": [
      "4\n",
      "2\n"
     ]
    }
   ],
   "source": [
    "print(test_const.first)\n",
    "print(test_const.second)"
   ]
  },
  {
   "cell_type": "code",
   "execution_count": 71,
   "id": "d767f973",
   "metadata": {},
   "outputs": [
    {
     "name": "stdout",
     "output_type": "stream",
     "text": [
      "6\n",
      "2.0\n"
     ]
    }
   ],
   "source": [
    "print(test_const.add())\n",
    "print(test_const.divide())"
   ]
  },
  {
   "cell_type": "code",
   "execution_count": null,
   "id": "77b29905",
   "metadata": {},
   "outputs": [],
   "source": []
  }
 ],
 "metadata": {
  "kernelspec": {
   "display_name": "Python 3 (ipykernel)",
   "language": "python",
   "name": "python3"
  },
  "language_info": {
   "codemirror_mode": {
    "name": "ipython",
    "version": 3
   },
   "file_extension": ".py",
   "mimetype": "text/x-python",
   "name": "python",
   "nbconvert_exporter": "python",
   "pygments_lexer": "ipython3",
   "version": "3.11.5"
  }
 },
 "nbformat": 4,
 "nbformat_minor": 5
}
