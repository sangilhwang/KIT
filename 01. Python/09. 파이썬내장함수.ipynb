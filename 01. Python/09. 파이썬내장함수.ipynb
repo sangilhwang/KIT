{
 "cells": [
  {
   "cell_type": "markdown",
   "id": "6bfa3331",
   "metadata": {},
   "source": [
    "# 내장함수\n",
    "\n",
    "- 외부모듈이 아닌 파이썬에 내장된 함수\n",
    "- print(), input(), len(), map, ......"
   ]
  },
  {
   "cell_type": "markdown",
   "id": "cd6a784b",
   "metadata": {},
   "source": [
    "## 문자열 내장 함수"
   ]
  },
  {
   "cell_type": "markdown",
   "id": "861210e7",
   "metadata": {},
   "source": [
    "### 1. chr() / ord()\n",
    "\n",
    "- 모든 문자는 각각 문자 코드라고 하는 자신만의 코드 값이 있음\n",
    "- chr() : 특정 문자의 유니코드 값을 전달하면 해당 문자를 반환\n",
    "- ord() : 문자를 전달하면 해당 문자의 유니코드 값을 반환"
   ]
  },
  {
   "cell_type": "code",
   "execution_count": 10,
   "id": "89805cbb",
   "metadata": {},
   "outputs": [
    {
     "data": {
      "text/plain": [
       "48"
      ]
     },
     "execution_count": 10,
     "metadata": {},
     "output_type": "execute_result"
    }
   ],
   "source": [
    "ord(\"0\")"
   ]
  },
  {
   "cell_type": "code",
   "execution_count": 11,
   "id": "e1727e0e",
   "metadata": {},
   "outputs": [
    {
     "data": {
      "text/plain": [
       "49"
      ]
     },
     "execution_count": 11,
     "metadata": {},
     "output_type": "execute_result"
    }
   ],
   "source": [
    "ord(\"1\")"
   ]
  },
  {
   "cell_type": "code",
   "execution_count": 13,
   "id": "b7023933",
   "metadata": {},
   "outputs": [
    {
     "data": {
      "text/plain": [
       "'2'"
      ]
     },
     "execution_count": 13,
     "metadata": {},
     "output_type": "execute_result"
    }
   ],
   "source": [
    "chr(50)"
   ]
  },
  {
   "cell_type": "code",
   "execution_count": 15,
   "id": "e70be80e",
   "metadata": {},
   "outputs": [
    {
     "data": {
      "text/plain": [
       "'3'"
      ]
     },
     "execution_count": 15,
     "metadata": {},
     "output_type": "execute_result"
    }
   ],
   "source": [
    "chr(51)"
   ]
  },
  {
   "cell_type": "code",
   "execution_count": 16,
   "id": "16770ef8",
   "metadata": {},
   "outputs": [
    {
     "data": {
      "text/plain": [
       "(97, 122)"
      ]
     },
     "execution_count": 16,
     "metadata": {},
     "output_type": "execute_result"
    }
   ],
   "source": [
    "ord(\"a\"), ord(\"z\")"
   ]
  },
  {
   "cell_type": "code",
   "execution_count": 17,
   "id": "7c3302d2",
   "metadata": {},
   "outputs": [
    {
     "data": {
      "text/plain": [
       "(65, 90)"
      ]
     },
     "execution_count": 17,
     "metadata": {},
     "output_type": "execute_result"
    }
   ],
   "source": [
    "ord(\"A\"), ord(\"Z\")"
   ]
  },
  {
   "cell_type": "markdown",
   "id": "fba35496",
   "metadata": {},
   "source": [
    "### 2. eval()\n",
    "\n",
    "- 표현식을 문자열로 전달하면 결괏값을 반환"
   ]
  },
  {
   "cell_type": "code",
   "execution_count": 19,
   "id": "86559b29",
   "metadata": {},
   "outputs": [
    {
     "data": {
      "text/plain": [
       "300"
      ]
     },
     "execution_count": 19,
     "metadata": {},
     "output_type": "execute_result"
    }
   ],
   "source": [
    "eval(\"100 + 200\")"
   ]
  },
  {
   "cell_type": "code",
   "execution_count": 20,
   "id": "b666c450",
   "metadata": {},
   "outputs": [
    {
     "data": {
      "text/plain": [
       "50"
      ]
     },
     "execution_count": 20,
     "metadata": {},
     "output_type": "execute_result"
    }
   ],
   "source": [
    "a = 10\n",
    "\n",
    "eval(\"a * 5\")"
   ]
  },
  {
   "cell_type": "code",
   "execution_count": 21,
   "id": "f34cecb9",
   "metadata": {},
   "outputs": [
    {
     "data": {
      "text/plain": [
       "1"
      ]
     },
     "execution_count": 21,
     "metadata": {},
     "output_type": "execute_result"
    }
   ],
   "source": [
    "eval(\"min(1, 2, 3)\")"
   ]
  },
  {
   "cell_type": "code",
   "execution_count": 22,
   "id": "0007886b",
   "metadata": {},
   "outputs": [
    {
     "data": {
      "text/plain": [
       "str"
      ]
     },
     "execution_count": 22,
     "metadata": {},
     "output_type": "execute_result"
    }
   ],
   "source": [
    "type(\"[1, 2, 3]\")"
   ]
  },
  {
   "cell_type": "code",
   "execution_count": 23,
   "id": "c6202494",
   "metadata": {},
   "outputs": [
    {
     "data": {
      "text/plain": [
       "[1, 2, 3]"
      ]
     },
     "execution_count": 23,
     "metadata": {},
     "output_type": "execute_result"
    }
   ],
   "source": [
    "eval(\"[1, 2, 3]\")"
   ]
  },
  {
   "cell_type": "markdown",
   "id": "65eab64c",
   "metadata": {},
   "source": [
    "## 숫자 내장 함수"
   ]
  },
  {
   "cell_type": "markdown",
   "id": "1c44b809",
   "metadata": {},
   "source": [
    "### 1. abs()\n",
    "\n",
    "- 절댓값을 반환"
   ]
  },
  {
   "cell_type": "code",
   "execution_count": 26,
   "id": "4ef897e7",
   "metadata": {},
   "outputs": [
    {
     "name": "stdout",
     "output_type": "stream",
     "text": [
      "20\n",
      "10\n"
     ]
    }
   ],
   "source": [
    "print(abs(20))\n",
    "print(abs(-10))"
   ]
  },
  {
   "cell_type": "markdown",
   "id": "691466a8",
   "metadata": {},
   "source": [
    "### 2. divmod()\n",
    "\n",
    "- 전달된 두 인수를 나누어 몫과 나머지를 반환\n",
    "- 결과 type은 튜플"
   ]
  },
  {
   "cell_type": "code",
   "execution_count": 29,
   "id": "67ab0a5a",
   "metadata": {},
   "outputs": [
    {
     "data": {
      "text/plain": [
       "(3, 1)"
      ]
     },
     "execution_count": 29,
     "metadata": {},
     "output_type": "execute_result"
    }
   ],
   "source": [
    "divmod(10, 3)"
   ]
  },
  {
   "cell_type": "code",
   "execution_count": 30,
   "id": "6bc0aa30",
   "metadata": {},
   "outputs": [
    {
     "name": "stdout",
     "output_type": "stream",
     "text": [
      "빵을 3개 사고 1000원이 남았습니다.\n"
     ]
    }
   ],
   "source": [
    "money = 10000\n",
    "price = 3000\n",
    "\n",
    "n, remain = divmod(money, price)\n",
    "print(f\"빵을 {n}개 사고 {remain}원이 남았습니다.\")"
   ]
  },
  {
   "cell_type": "markdown",
   "id": "54d8c79b",
   "metadata": {},
   "source": [
    "### 3. max() / min\n",
    "\n",
    "- 전달된 인수 중 최댓값을 반환 / 최솟값을 반환\n",
    "\n",
    "- 나중에 min() / max() 구현해보기? ㅋㅋ"
   ]
  },
  {
   "cell_type": "code",
   "execution_count": 31,
   "id": "3de80113",
   "metadata": {},
   "outputs": [
    {
     "data": {
      "text/plain": [
       "10"
      ]
     },
     "execution_count": 31,
     "metadata": {},
     "output_type": "execute_result"
    }
   ],
   "source": [
    "max(1, 10)"
   ]
  },
  {
   "cell_type": "code",
   "execution_count": 32,
   "id": "c5469bff",
   "metadata": {},
   "outputs": [
    {
     "data": {
      "text/plain": [
       "1"
      ]
     },
     "execution_count": 32,
     "metadata": {},
     "output_type": "execute_result"
    }
   ],
   "source": [
    "min(1, 10)"
   ]
  },
  {
   "cell_type": "code",
   "execution_count": 33,
   "id": "b97f24a8",
   "metadata": {},
   "outputs": [
    {
     "name": "stdout",
     "output_type": "stream",
     "text": [
      "1\n",
      "5\n"
     ]
    }
   ],
   "source": [
    "li = [1, 2, 3, 4, 5]\n",
    "\n",
    "print(min(li))\n",
    "print(max(li))"
   ]
  },
  {
   "cell_type": "code",
   "execution_count": 90,
   "id": "f6f7160e",
   "metadata": {},
   "outputs": [],
   "source": [
    "li = [1, 10, 3, 5, 7, 5, 6, 8]"
   ]
  },
  {
   "cell_type": "code",
   "execution_count": 114,
   "id": "b41f25d2",
   "metadata": {},
   "outputs": [
    {
     "name": "stdout",
     "output_type": "stream",
     "text": [
      "1\n"
     ]
    }
   ],
   "source": [
    "minimum = li[0]\n",
    "\n",
    "for i in range(1 ,len(li)):\n",
    "    \n",
    "    if li[i] < minimum:\n",
    "        minimum = li[i]\n",
    "        \n",
    "print(minimum)"
   ]
  },
  {
   "cell_type": "code",
   "execution_count": 112,
   "id": "5c928496",
   "metadata": {},
   "outputs": [
    {
     "name": "stdout",
     "output_type": "stream",
     "text": [
      "10\n"
     ]
    }
   ],
   "source": [
    "maximum = li[0]\n",
    "\n",
    "for i in range(1, len(li)):\n",
    "    \n",
    "    if li[i] > maximum:\n",
    "        maximum = li[i]\n",
    "        \n",
    "print(maximum)"
   ]
  },
  {
   "cell_type": "markdown",
   "id": "06504864",
   "metadata": {},
   "source": [
    "### 4. pow()\n",
    "\n",
    "- 입력된 인수의 제곱수를 반환"
   ]
  },
  {
   "cell_type": "code",
   "execution_count": 40,
   "id": "5d50acc7",
   "metadata": {},
   "outputs": [
    {
     "data": {
      "text/plain": [
       "100"
      ]
     },
     "execution_count": 40,
     "metadata": {},
     "output_type": "execute_result"
    }
   ],
   "source": [
    "pow(10, 2)"
   ]
  },
  {
   "cell_type": "code",
   "execution_count": 41,
   "id": "c4af8e41",
   "metadata": {},
   "outputs": [
    {
     "data": {
      "text/plain": [
       "0.01"
      ]
     },
     "execution_count": 41,
     "metadata": {},
     "output_type": "execute_result"
    }
   ],
   "source": [
    "pow(10, -2)"
   ]
  },
  {
   "cell_type": "code",
   "execution_count": 42,
   "id": "d5c67774",
   "metadata": {},
   "outputs": [
    {
     "data": {
      "text/plain": [
       "0.001"
      ]
     },
     "execution_count": 42,
     "metadata": {},
     "output_type": "execute_result"
    }
   ],
   "source": [
    "pow(10, -3)"
   ]
  },
  {
   "cell_type": "markdown",
   "id": "c7ad778e",
   "metadata": {},
   "source": [
    "### 5. round()\n",
    "\n",
    "- 반올림한 값을 반환\n",
    "- 컴퓨터 메모리 구조상 특정 수를 제대로 반올림하지 못함... 정밀한 반올림을 위해서는 모듈로 새로운 반올림 함수 사용하길 권장"
   ]
  },
  {
   "cell_type": "code",
   "execution_count": 51,
   "id": "d2c7011b",
   "metadata": {},
   "outputs": [
    {
     "data": {
      "text/plain": [
       "2"
      ]
     },
     "execution_count": 51,
     "metadata": {},
     "output_type": "execute_result"
    }
   ],
   "source": [
    "round(1.5)"
   ]
  },
  {
   "cell_type": "code",
   "execution_count": 44,
   "id": "b4b2fbe4",
   "metadata": {},
   "outputs": [
    {
     "data": {
      "text/plain": [
       "1"
      ]
     },
     "execution_count": 44,
     "metadata": {},
     "output_type": "execute_result"
    }
   ],
   "source": [
    "round(1.4)"
   ]
  },
  {
   "cell_type": "code",
   "execution_count": 53,
   "id": "133b4f32",
   "metadata": {},
   "outputs": [
    {
     "data": {
      "text/plain": [
       "1.6"
      ]
     },
     "execution_count": 53,
     "metadata": {},
     "output_type": "execute_result"
    }
   ],
   "source": [
    "round(1.55, 1)"
   ]
  },
  {
   "cell_type": "markdown",
   "id": "07c9251b",
   "metadata": {},
   "source": [
    "### 6. sum()\n",
    "\n",
    "- 합계를 반환\n",
    "- 숫자가 아닌 값은 전달 불가능"
   ]
  },
  {
   "cell_type": "code",
   "execution_count": 54,
   "id": "e4326d99",
   "metadata": {},
   "outputs": [
    {
     "data": {
      "text/plain": [
       "15"
      ]
     },
     "execution_count": 54,
     "metadata": {},
     "output_type": "execute_result"
    }
   ],
   "source": [
    "li = [1, 2, 3, 4, 5]\n",
    "sum(li)"
   ]
  },
  {
   "cell_type": "code",
   "execution_count": 57,
   "id": "16b87a2b",
   "metadata": {},
   "outputs": [
    {
     "data": {
      "text/plain": [
       "'hello'"
      ]
     },
     "execution_count": 57,
     "metadata": {},
     "output_type": "execute_result"
    }
   ],
   "source": [
    "\"h\" + \"e\" + \"l\" + \"l\" + \"o\""
   ]
  },
  {
   "cell_type": "code",
   "execution_count": 59,
   "id": "abb3db86",
   "metadata": {},
   "outputs": [
    {
     "ename": "TypeError",
     "evalue": "sum() can't sum strings [use ''.join(seq) instead]",
     "output_type": "error",
     "traceback": [
      "\u001b[1;31m---------------------------------------------------------------------------\u001b[0m",
      "\u001b[1;31mTypeError\u001b[0m                                 Traceback (most recent call last)",
      "Cell \u001b[1;32mIn[59], line 1\u001b[0m\n\u001b[1;32m----> 1\u001b[0m \u001b[38;5;28msum\u001b[39m(\u001b[38;5;124m\"\u001b[39m\u001b[38;5;124mh\u001b[39m\u001b[38;5;124m\"\u001b[39m, \u001b[38;5;124m\"\u001b[39m\u001b[38;5;124me\u001b[39m\u001b[38;5;124m\"\u001b[39m)\n",
      "\u001b[1;31mTypeError\u001b[0m: sum() can't sum strings [use ''.join(seq) instead]"
     ]
    }
   ],
   "source": [
    "sum(\"h\", \"e\")"
   ]
  },
  {
   "cell_type": "markdown",
   "id": "3920b249",
   "metadata": {},
   "source": [
    "## 시퀀스 내장 함수"
   ]
  },
  {
   "cell_type": "markdown",
   "id": "8c2407de",
   "metadata": {},
   "source": [
    "### 1. enumerate()\n",
    "\n",
    "- 리스트에 저장된 요소와 인덱스가 함께 추출"
   ]
  },
  {
   "cell_type": "code",
   "execution_count": 61,
   "id": "469f89aa",
   "metadata": {},
   "outputs": [
    {
     "name": "stdout",
     "output_type": "stream",
     "text": [
      "0 가위\n",
      "1 바위\n",
      "2 보\n"
     ]
    }
   ],
   "source": [
    "for idx, element in enumerate([\"가위\", \"바위\", \"보\"]):\n",
    "    print(idx, element)"
   ]
  },
  {
   "cell_type": "code",
   "execution_count": 63,
   "id": "55e05c4a",
   "metadata": {},
   "outputs": [
    {
     "name": "stdout",
     "output_type": "stream",
     "text": [
      "0 가위\n",
      "1 바위\n",
      "2 보\n"
     ]
    }
   ],
   "source": [
    "rock = [\"가위\", \"바위\", \"보\"]\n",
    "\n",
    "for i in range(len(rock)):\n",
    "    print(i, rock[i])"
   ]
  },
  {
   "cell_type": "markdown",
   "id": "cbd80151",
   "metadata": {},
   "source": [
    "### 2. range()\n",
    "\n",
    "- 특정 범위의 값을 생성\n",
    "- 주로 for문과 함께 사용\n",
    "- range() 함수의 반환값은 튜플도 리스트도 아님...\n",
    "- list() 함수로 리스트 변환 후 사용하기도 함\n",
    "\n",
    "```\n",
    "range(stop)\n",
    "range(start, stop)\n",
    "range(start, stop, step)\n",
    "start <= n < stop\n",
    "```"
   ]
  },
  {
   "cell_type": "code",
   "execution_count": 64,
   "id": "c3e18684",
   "metadata": {},
   "outputs": [
    {
     "data": {
      "text/plain": [
       "range(0, 10)"
      ]
     },
     "execution_count": 64,
     "metadata": {},
     "output_type": "execute_result"
    }
   ],
   "source": [
    "range(10)"
   ]
  },
  {
   "cell_type": "code",
   "execution_count": 65,
   "id": "b0c36afe",
   "metadata": {},
   "outputs": [
    {
     "data": {
      "text/plain": [
       "[0, 1, 2, 3, 4, 5, 6, 7, 8, 9]"
      ]
     },
     "execution_count": 65,
     "metadata": {},
     "output_type": "execute_result"
    }
   ],
   "source": [
    "list(range(10))"
   ]
  },
  {
   "cell_type": "code",
   "execution_count": 66,
   "id": "a3d7437f",
   "metadata": {},
   "outputs": [
    {
     "data": {
      "text/plain": [
       "[1, 2, 3, 4, 5, 6, 7, 8, 9, 10]"
      ]
     },
     "execution_count": 66,
     "metadata": {},
     "output_type": "execute_result"
    }
   ],
   "source": [
    "list(range(1, 11))"
   ]
  },
  {
   "cell_type": "code",
   "execution_count": 67,
   "id": "3aedfbd7",
   "metadata": {},
   "outputs": [
    {
     "data": {
      "text/plain": [
       "[0, 5, 10, 15, 20, 25]"
      ]
     },
     "execution_count": 67,
     "metadata": {},
     "output_type": "execute_result"
    }
   ],
   "source": [
    "list(range(0, 30, 5))"
   ]
  },
  {
   "cell_type": "code",
   "execution_count": 69,
   "id": "7dde04de",
   "metadata": {},
   "outputs": [
    {
     "data": {
      "text/plain": [
       "[0, 3, 6, 9]"
      ]
     },
     "execution_count": 69,
     "metadata": {},
     "output_type": "execute_result"
    }
   ],
   "source": [
    "list(range(0, 10 , 3))"
   ]
  },
  {
   "cell_type": "code",
   "execution_count": 74,
   "id": "e77ba317",
   "metadata": {},
   "outputs": [
    {
     "data": {
      "text/plain": [
       "[]"
      ]
     },
     "execution_count": 74,
     "metadata": {},
     "output_type": "execute_result"
    }
   ],
   "source": [
    "list(range(0, 10, -1))\n",
    "\n",
    "# 현재의 증감값을 아무리 더해도 도달할 수 없는 종료값을 입력하여 빈 결과가 나온다"
   ]
  },
  {
   "cell_type": "code",
   "execution_count": 75,
   "id": "36975ed8",
   "metadata": {},
   "outputs": [
    {
     "data": {
      "text/plain": [
       "[]"
      ]
     },
     "execution_count": 75,
     "metadata": {},
     "output_type": "execute_result"
    }
   ],
   "source": [
    "list(range(0))"
   ]
  },
  {
   "cell_type": "code",
   "execution_count": 76,
   "id": "43765531",
   "metadata": {},
   "outputs": [
    {
     "data": {
      "text/plain": [
       "[]"
      ]
     },
     "execution_count": 76,
     "metadata": {},
     "output_type": "execute_result"
    }
   ],
   "source": [
    "list(range(1, 0))"
   ]
  },
  {
   "cell_type": "markdown",
   "id": "5e03da6d",
   "metadata": {},
   "source": [
    "### 3. len()\n",
    "\n",
    "- 객체의 길이(항목의 수)를 반환"
   ]
  },
  {
   "cell_type": "code",
   "execution_count": 77,
   "id": "821633ee",
   "metadata": {},
   "outputs": [
    {
     "data": {
      "text/plain": [
       "4"
      ]
     },
     "execution_count": 77,
     "metadata": {},
     "output_type": "execute_result"
    }
   ],
   "source": [
    "li = [\"a\", \"b\", \"c\", \"d\"]\n",
    "len(li)"
   ]
  },
  {
   "cell_type": "code",
   "execution_count": 84,
   "id": "e63235a3",
   "metadata": {},
   "outputs": [
    {
     "data": {
      "text/plain": [
       "2"
      ]
     },
     "execution_count": 84,
     "metadata": {},
     "output_type": "execute_result"
    }
   ],
   "source": [
    "d = {\"a\" : \"apple\", \"b\" : \"banana\"}\n",
    "len(d)"
   ]
  },
  {
   "cell_type": "code",
   "execution_count": 85,
   "id": "192e2dad",
   "metadata": {},
   "outputs": [
    {
     "data": {
      "text/plain": [
       "10"
      ]
     },
     "execution_count": 85,
     "metadata": {},
     "output_type": "execute_result"
    }
   ],
   "source": [
    "len(range(10))"
   ]
  },
  {
   "cell_type": "code",
   "execution_count": 86,
   "id": "47f77b9c",
   "metadata": {},
   "outputs": [
    {
     "data": {
      "text/plain": [
       "9"
      ]
     },
     "execution_count": 86,
     "metadata": {},
     "output_type": "execute_result"
    }
   ],
   "source": [
    "len(range(1, 10))"
   ]
  },
  {
   "cell_type": "markdown",
   "id": "0245466c",
   "metadata": {},
   "source": [
    "### 4. sorted\n",
    "\n",
    "- 오름차순, 내림차순 정렬 결과 반환\n",
    "- 이거도 한번 만들어보기"
   ]
  },
  {
   "cell_type": "code",
   "execution_count": 102,
   "id": "cd2ec23c",
   "metadata": {},
   "outputs": [
    {
     "data": {
      "text/plain": [
       "[1, 2, 3, 4, 5, 6]"
      ]
     },
     "execution_count": 102,
     "metadata": {},
     "output_type": "execute_result"
    }
   ],
   "source": [
    "my_list = [6, 3, 1, 2, 5, 4]\n",
    "\n",
    "sorted(my_list)"
   ]
  },
  {
   "cell_type": "code",
   "execution_count": 103,
   "id": "93d6efa6",
   "metadata": {},
   "outputs": [
    {
     "data": {
      "text/plain": [
       "[1, 2, 3, 4, 5, 6]"
      ]
     },
     "execution_count": 103,
     "metadata": {},
     "output_type": "execute_result"
    }
   ],
   "source": [
    "sorted(my_list, reverse = False)"
   ]
  },
  {
   "cell_type": "code",
   "execution_count": 104,
   "id": "80cd0f85",
   "metadata": {},
   "outputs": [
    {
     "data": {
      "text/plain": [
       "[6, 5, 4, 3, 2, 1]"
      ]
     },
     "execution_count": 104,
     "metadata": {},
     "output_type": "execute_result"
    }
   ],
   "source": [
    "sorted(my_list, reverse = True)"
   ]
  },
  {
   "cell_type": "code",
   "execution_count": 105,
   "id": "a50cb1a5",
   "metadata": {},
   "outputs": [
    {
     "data": {
      "text/plain": [
       "[6, 3, 1, 2, 5, 4]"
      ]
     },
     "execution_count": 105,
     "metadata": {},
     "output_type": "execute_result"
    }
   ],
   "source": [
    "my_list # my_list 변수 자체가 정렬되는 것이 아님, sorted 함수는 비파괴적"
   ]
  },
  {
   "cell_type": "code",
   "execution_count": 106,
   "id": "cfa5fc1c",
   "metadata": {},
   "outputs": [
    {
     "data": {
      "text/plain": [
       "[1, 2, 3, 4, 5, 6]"
      ]
     },
     "execution_count": 106,
     "metadata": {},
     "output_type": "execute_result"
    }
   ],
   "source": [
    "my_list = sorted(my_list)\n",
    "\n",
    "my_list"
   ]
  },
  {
   "cell_type": "code",
   "execution_count": null,
   "id": "ba4a8c3d",
   "metadata": {},
   "outputs": [],
   "source": []
  },
  {
   "cell_type": "code",
   "execution_count": null,
   "id": "07dcc301",
   "metadata": {},
   "outputs": [],
   "source": []
  },
  {
   "cell_type": "markdown",
   "id": "d8428756",
   "metadata": {},
   "source": [
    "### 5. zip()\n",
    "\n",
    "- 여러 개의 반복가능객체의 각 요소를 묶어서 반환\n",
    "- 전달된 객체들의 길이가 다르면 짧은 객체를 기준으로 동작"
   ]
  },
  {
   "cell_type": "code",
   "execution_count": 110,
   "id": "b726aad9",
   "metadata": {},
   "outputs": [
    {
     "name": "stdout",
     "output_type": "stream",
     "text": [
      "james의 점수는 60점 입니다\n",
      "emily의 점수는 70점 입니다\n",
      "amanda의 점수는 80점 입니다\n"
     ]
    }
   ],
   "source": [
    "names = [\"james\", \"emily\", \"amanda\", \"jun\"]\n",
    "scores = [60, 70, 80]\n",
    "\n",
    "for name, score in zip(names, scores):\n",
    "    print(f\"{name}의 점수는 {score}점 입니다\")"
   ]
  },
  {
   "cell_type": "code",
   "execution_count": null,
   "id": "aa5810a8",
   "metadata": {},
   "outputs": [],
   "source": []
  }
 ],
 "metadata": {
  "kernelspec": {
   "display_name": "Python 3 (ipykernel)",
   "language": "python",
   "name": "python3"
  },
  "language_info": {
   "codemirror_mode": {
    "name": "ipython",
    "version": 3
   },
   "file_extension": ".py",
   "mimetype": "text/x-python",
   "name": "python",
   "nbconvert_exporter": "python",
   "pygments_lexer": "ipython3",
   "version": "3.11.5"
  }
 },
 "nbformat": 4,
 "nbformat_minor": 5
}
