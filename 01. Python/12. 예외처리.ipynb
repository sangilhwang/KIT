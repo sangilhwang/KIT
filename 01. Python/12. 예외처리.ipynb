{
 "cells": [
  {
   "cell_type": "markdown",
   "id": "ca7b43a5",
   "metadata": {},
   "source": [
    "# 예외처리의 필요성\n",
    "\n",
    "- 문제 발생으로 인해 프로그램이 비정상적으로 종료되는 것을 막고, 발생한 문제에 대한 정보를 전달하기 위해 사용"
   ]
  },
  {
   "cell_type": "markdown",
   "id": "5e32f611",
   "metadata": {},
   "source": [
    "# try-except문\n",
    "\n",
    "- 예외처리를 위한 기본 구조\n",
    "\n",
    "```\n",
    "try:\n",
    "    ~~~    \n",
    "except [발생오류[as 오류 메시지 변수]]:\n",
    "    ~~~\n",
    "```\n",
    "\n",
    "- try 블록 실행 중 오류가 발생하면 except 블록이 실행\n",
    "    - try 블록에서 오류가 발생하지 않는다면 except 블록은 실행되지 않음"
   ]
  },
  {
   "cell_type": "markdown",
   "id": "6e7ae6d6",
   "metadata": {},
   "source": [
    "## 예외처리 방법\n",
    "\n",
    "- try, except만 쓰는 방법\n",
    "- 발생 오류만 포함한 except문\n",
    "- 발생 오류와 오류 메시지 변수까지 포함한 except문"
   ]
  },
  {
   "cell_type": "code",
   "execution_count": 4,
   "id": "65127b3d",
   "metadata": {},
   "outputs": [
    {
     "name": "stdout",
     "output_type": "stream",
     "text": [
      "error\n"
     ]
    }
   ],
   "source": [
    "# try, except만 쓰는 방법\n",
    "try:\n",
    "    4 / 0\n",
    "    \n",
    "except:\n",
    "    print(\"error\")"
   ]
  },
  {
   "cell_type": "code",
   "execution_count": 6,
   "id": "9c3a327c",
   "metadata": {},
   "outputs": [
    {
     "name": "stdout",
     "output_type": "stream",
     "text": [
      "zero_division_error\n"
     ]
    }
   ],
   "source": [
    "# 발생 오류만 포함한 except 문\n",
    "\n",
    "try:\n",
    "    4 / 0\n",
    "    \n",
    "except ZeroDivisionError:\n",
    "    print(\"zero_division_error\")\n",
    "    \n",
    "except KeyError:\n",
    "    print(\"Key_error\")"
   ]
  },
  {
   "cell_type": "code",
   "execution_count": 11,
   "id": "10af1b64",
   "metadata": {},
   "outputs": [
    {
     "name": "stdout",
     "output_type": "stream",
     "text": [
      "division by zero\n"
     ]
    }
   ],
   "source": [
    "# 발생 오류와 오류 메시지 변수까지 포함한 except 문\n",
    "\n",
    "try:\n",
    "    4 / 0\n",
    "    \n",
    "except ZeroDivisionError as e:\n",
    "    print(e)"
   ]
  },
  {
   "cell_type": "code",
   "execution_count": 15,
   "id": "8c6eea28",
   "metadata": {},
   "outputs": [
    {
     "name": "stdout",
     "output_type": "stream",
     "text": [
      "나누어지는 수를 입력 : 0.5\n",
      "invalid literal for int() with base 10: '0.5'\n",
      "정수만 입력할 수 있습니다.\n"
     ]
    }
   ],
   "source": [
    "try:\n",
    "    a = int(input(\"나누어지는 수를 입력 : \"))\n",
    "    b = int(input(\"나누는 수를 입력 : \"))\n",
    "    print(f\"{a} / {b} = {a / b}\")\n",
    "    \n",
    "except ZeroDivisionError as e:\n",
    "    print(e)\n",
    "    print(\"0으로 나눌 수 없습니다.\")\n",
    "    \n",
    "except ValueError as e:\n",
    "    print(e)\n",
    "    print(\"정수만 입력할 수 있습니다.\")"
   ]
  },
  {
   "cell_type": "markdown",
   "id": "5236580c",
   "metadata": {},
   "source": [
    "# else, finally 문\n",
    "\n",
    "```\n",
    "try:\n",
    "    코드 작성 영역\n",
    "\n",
    "except:\n",
    "    예외 발생 시 처리 영역\n",
    "    \n",
    "else:\n",
    "    예외가 없을 때 처리 영역\n",
    "    \n",
    "finally:\n",
    "    언제나 실행되는 영역\n",
    "```"
   ]
  },
  {
   "cell_type": "markdown",
   "id": "e23df3f5",
   "metadata": {},
   "source": [
    "# try, except, else, finally 구문의 조합\n",
    "\n",
    "- try 구문은 단독으로 사용할 수 없음, 반드시 except 구문 또는 finally 구문과 함께 사용해야함\n",
    "- else 구문은 반드시 except 구문 뒤에 사용해야 함\n",
    "\n",
    "- 가능한 조합\n",
    "    - try + except\n",
    "    - try + except + else\n",
    "    - try + except + finally\n",
    "    - try + except + else + finally\n",
    "    - try + finally\n",
    "    \n",
    "- 가능한 조합 외의 모든 조합은 구문 오류 발생"
   ]
  },
  {
   "cell_type": "code",
   "execution_count": 17,
   "id": "f9df368b",
   "metadata": {},
   "outputs": [
    {
     "ename": "SyntaxError",
     "evalue": "expected 'except' or 'finally' block (2415756963.py, line 4)",
     "output_type": "error",
     "traceback": [
      "\u001b[1;36m  Cell \u001b[1;32mIn[17], line 4\u001b[1;36m\u001b[0m\n\u001b[1;33m    else:\u001b[0m\n\u001b[1;37m    ^\u001b[0m\n\u001b[1;31mSyntaxError\u001b[0m\u001b[1;31m:\u001b[0m expected 'except' or 'finally' block\n"
     ]
    }
   ],
   "source": [
    "try:\n",
    "    print(\"aaa\")\n",
    "    \n",
    "else:\n",
    "    print(\"프로그램이 정상적으로 종료\")"
   ]
  },
  {
   "cell_type": "markdown",
   "id": "8c428c81",
   "metadata": {},
   "source": [
    "# finally 활용"
   ]
  },
  {
   "cell_type": "code",
   "execution_count": 22,
   "id": "a6e7c060",
   "metadata": {},
   "outputs": [
    {
     "name": "stdout",
     "output_type": "stream",
     "text": [
      "에러가 발생했습니다.\n",
      "file.closed : True\n"
     ]
    }
   ],
   "source": [
    "# 파일이 제대로 닫혓는지 확인하기\n",
    "try:\n",
    "    f = open(\"info.txt\", \"w\")\n",
    "    터져라\n",
    "    \n",
    "except:\n",
    "    print(\"에러가 발생했습니다.\")\n",
    "    \n",
    "finally:\n",
    "    f.close()\n",
    "    \n",
    "print(\"file.closed :\", f.closed)"
   ]
  },
  {
   "cell_type": "code",
   "execution_count": 24,
   "id": "32de8031",
   "metadata": {},
   "outputs": [
    {
     "name": "stdout",
     "output_type": "stream",
     "text": [
      "에러가 발생했습니다.\n",
      "file.closed : True\n"
     ]
    }
   ],
   "source": [
    "# finally 구문을 사용하지 않고도 파일을 닫을 수 있음\n",
    "\n",
    "try:\n",
    "    f = open(\"info.txt\", \"w\")\n",
    "    터져라\n",
    "    \n",
    "except:\n",
    "    print(\"에러가 발생했습니다.\")\n",
    "    \n",
    "f.close()\n",
    "\n",
    "print(\"file.closed :\", f.closed)"
   ]
  },
  {
   "cell_type": "code",
   "execution_count": 26,
   "id": "a1108b56",
   "metadata": {},
   "outputs": [],
   "source": [
    "# try 구문 내부에서 return 키워드를 사용하는 경우\n",
    "\n",
    "def test():\n",
    "    print(\"test() 함수의 첫 줄\")\n",
    "    \n",
    "    try:\n",
    "        print(\"try 구문 실행\")\n",
    "        return\n",
    "        print(\"try 구문의 return 키워드 뒤\")\n",
    "        \n",
    "    except:\n",
    "        print(\"except 구문 실행\")\n",
    "        \n",
    "    else:\n",
    "        print(\"else 구문 실행\")\n",
    "        \n",
    "    finally:\n",
    "        print(\"finally 구문 실행\")\n",
    "        \n",
    "    print(\"test() 함수의 마지막 줄\")"
   ]
  },
  {
   "cell_type": "code",
   "execution_count": 27,
   "id": "13f1a377",
   "metadata": {},
   "outputs": [
    {
     "name": "stdout",
     "output_type": "stream",
     "text": [
      "test() 함수의 첫 줄\n",
      "try 구문 실행\n",
      "finally 구문 실행\n"
     ]
    }
   ],
   "source": [
    "test()"
   ]
  },
  {
   "cell_type": "code",
   "execution_count": 1,
   "id": "2029c5a0",
   "metadata": {},
   "outputs": [
    {
     "name": "stdout",
     "output_type": "stream",
     "text": [
      "프로그램 시작\n",
      "try 구문 실행\n",
      "finally 구문 실행\n",
      "프로그램 종료\n"
     ]
    }
   ],
   "source": [
    "# 반복문과 finally를 사용하는 경우\n",
    "print(\"프로그램 시작\")\n",
    "\n",
    "while True:\n",
    "    try:\n",
    "        print(\"try 구문 실행\")\n",
    "        break\n",
    "        print(\"try 구문의 break 키워드 뒤\")\n",
    "        \n",
    "    except:\n",
    "        print(\"except 구문 실행\")\n",
    "        \n",
    "    finally:\n",
    "        print(\"finally 구문 실행\")\n",
    "        \n",
    "    print(\"while 반복문의 마지막 줄\")\n",
    "    \n",
    "print(\"프로그램 종료\")"
   ]
  },
  {
   "cell_type": "markdown",
   "id": "5a37588e",
   "metadata": {},
   "source": [
    "# 강제로 예외 발생시키기"
   ]
  },
  {
   "cell_type": "code",
   "execution_count": 3,
   "id": "b668ab14",
   "metadata": {},
   "outputs": [
    {
     "name": "stdout",
     "output_type": "stream",
     "text": [
      "발생한 예외 메시지는\n",
      "강제로 발생시킨 예외\n"
     ]
    }
   ],
   "source": [
    "try:\n",
    "    raise Exception(\"강제로 발생시킨 예외\")\n",
    "\n",
    "except Exception as e: # Exception 이라 하면 파이썬에서 발생하는 모든 예외상황을 의미하는 것\n",
    "    print(\"발생한 예외 메시지는\")\n",
    "    print(e)"
   ]
  },
  {
   "cell_type": "code",
   "execution_count": 4,
   "id": "c14ef145",
   "metadata": {},
   "outputs": [
    {
     "ename": "Exception",
     "evalue": "강제로 발생시킨 예외",
     "output_type": "error",
     "traceback": [
      "\u001b[1;31m---------------------------------------------------------------------------\u001b[0m",
      "\u001b[1;31mException\u001b[0m                                 Traceback (most recent call last)",
      "Cell \u001b[1;32mIn[4], line 1\u001b[0m\n\u001b[1;32m----> 1\u001b[0m \u001b[38;5;28;01mraise\u001b[39;00m \u001b[38;5;167;01mException\u001b[39;00m(\u001b[38;5;124m\"\u001b[39m\u001b[38;5;124m강제로 발생시킨 예외\u001b[39m\u001b[38;5;124m\"\u001b[39m)\n",
      "\u001b[1;31mException\u001b[0m: 강제로 발생시킨 예외"
     ]
    }
   ],
   "source": [
    "raise Exception(\"강제로 발생시킨 예외\")"
   ]
  },
  {
   "cell_type": "markdown",
   "id": "ddcf90e6",
   "metadata": {},
   "source": [
    "# 오류의 종류\n",
    "\n",
    "- 구문 오류(syntax error) : 프로그램 실행 전에 발생하는 오류\n",
    "- 런타임 오류 (runtime error) : 프로그램 실행 중에 발생하는 오류"
   ]
  },
  {
   "cell_type": "markdown",
   "id": "e1d65e96",
   "metadata": {},
   "source": [
    "## 구문 오류\n",
    "\n",
    "- 괄호의 개수, 들여쓰기 문제 등으로 프로그램이 실행되기도 전에 발생하는 오류\n",
    "    - 프로그램이 실행조차 되지 않기 때문에 예외처리로는 처리할 수 없음\n",
    "    - 구문 오류가 발생한 코드를 수정해야함"
   ]
  },
  {
   "cell_type": "code",
   "execution_count": 5,
   "id": "004e83f1",
   "metadata": {},
   "outputs": [
    {
     "ename": "SyntaxError",
     "evalue": "unterminated string literal (detected at line 5) (2794762924.py, line 5)",
     "output_type": "error",
     "traceback": [
      "\u001b[1;36m  Cell \u001b[1;32mIn[5], line 5\u001b[1;36m\u001b[0m\n\u001b[1;33m    print(\"오류 발생\u001b[0m\n\u001b[1;37m          ^\u001b[0m\n\u001b[1;31mSyntaxError\u001b[0m\u001b[1;31m:\u001b[0m unterminated string literal (detected at line 5)\n"
     ]
    }
   ],
   "source": [
    "# 프로그램 시작\n",
    "print(\"프로그램 시작\")\n",
    "\n",
    "# 구문 오류 발생 코드\n",
    "print(\"오류 발생"
   ]
  },
  {
   "cell_type": "markdown",
   "id": "e50ae568",
   "metadata": {},
   "source": [
    "- SyntaxError : 구문에 문제가 있어 프로그램이 실행되지 않음"
   ]
  },
  {
   "cell_type": "markdown",
   "id": "8db2a338",
   "metadata": {},
   "source": [
    "## 런타임 오류\n",
    "\n",
    "- 프로그램 실행 중에 발생하는 오류\n",
    "- 예외 라고도 함"
   ]
  },
  {
   "cell_type": "code",
   "execution_count": 6,
   "id": "b126f502",
   "metadata": {},
   "outputs": [
    {
     "name": "stdout",
     "output_type": "stream",
     "text": [
      "프로그램 시작\n"
     ]
    },
    {
     "ename": "NameError",
     "evalue": "name 'list_a' is not defined",
     "output_type": "error",
     "traceback": [
      "\u001b[1;31m---------------------------------------------------------------------------\u001b[0m",
      "\u001b[1;31mNameError\u001b[0m                                 Traceback (most recent call last)",
      "Cell \u001b[1;32mIn[6], line 4\u001b[0m\n\u001b[0;32m      1\u001b[0m \u001b[38;5;28mprint\u001b[39m(\u001b[38;5;124m\"\u001b[39m\u001b[38;5;124m프로그램 시작\u001b[39m\u001b[38;5;124m\"\u001b[39m)\n\u001b[0;32m      3\u001b[0m \u001b[38;5;66;03m# 예외 발생 코드\u001b[39;00m\n\u001b[1;32m----> 4\u001b[0m list_a[\u001b[38;5;241m1\u001b[39m]\n",
      "\u001b[1;31mNameError\u001b[0m: name 'list_a' is not defined"
     ]
    }
   ],
   "source": [
    "print(\"프로그램 시작\")\n",
    "\n",
    "# 예외 발생 코드\n",
    "list_a[1]"
   ]
  },
  {
   "cell_type": "markdown",
   "id": "8ba5d7ac",
   "metadata": {},
   "source": [
    "- 프로그램 시작 이라는 문자열은 출력되었음"
   ]
  },
  {
   "cell_type": "markdown",
   "id": "3f6dd5da",
   "metadata": {},
   "source": [
    "# 조건문으로 예외 처리하기(기본 예외 처리)"
   ]
  },
  {
   "cell_type": "code",
   "execution_count": 12,
   "id": "cbc91720",
   "metadata": {},
   "outputs": [
    {
     "name": "stdout",
     "output_type": "stream",
     "text": [
      "정수 입력 : 0123\n",
      "123\n"
     ]
    }
   ],
   "source": [
    "# 숫자를 입력 받음\n",
    "\n",
    "user_input_a = input(\"정수 입력 : \")\n",
    "\n",
    "# 사용자의 입력이 숫자로만 구성되어 있을 때\n",
    "if user_input_a.isdigit():    # isdigit() : 숫자로만 구성된 글자인이 확인하는 기능\n",
    "    # 숫자로 변환\n",
    "    number_input_a = int(user_input_a)\n",
    "\n",
    "    # 출력\n",
    "    print(number_input_a)\n",
    "    \n",
    "else:\n",
    "    print(\"정수를 입력하지 않았습니다.\")"
   ]
  },
  {
   "cell_type": "markdown",
   "id": "2e553b56",
   "metadata": {},
   "source": [
    "# try-except 구문과 pass 키워드 조합\n",
    "\n",
    "- 예외가 발생하면 일단 처리해야 하지만, 해당 코드가 딱히 중요한 부분이 아니라면 일단 try-except 구문으로 프로그램 강제종료만 막을 수 있음\n",
    "- try-except 구문은 효율이 그다지 좋지 못한 편으로 try의 내용은 최대한 짧게 잡아주는 것이 좋다"
   ]
  },
  {
   "cell_type": "code",
   "execution_count": 14,
   "id": "4a3b43ed",
   "metadata": {},
   "outputs": [
    {
     "name": "stdout",
     "output_type": "stream",
     "text": [
      "['52', '2743', '32', '103']\n"
     ]
    }
   ],
   "source": [
    "list_input_a = [\"52\", \"2743\", \"32\", \"스파이\", \"103\"]\n",
    "\n",
    "list_num = []\n",
    "\n",
    "for i in list_input_a:\n",
    "    try:\n",
    "        float(i)\n",
    "        list_num.append(i)\n",
    "\n",
    "    except:\n",
    "        pass\n",
    "\n",
    "print(list_num)"
   ]
  },
  {
   "cell_type": "markdown",
   "id": "ca2de0b8",
   "metadata": {},
   "source": [
    "- 숫자로 변환될 수 없는 데이터라면 float(i)에서 예외 발생\n",
    "- try-except 구문은 if구문을 활용하는 예외처리 방법에 비해 느린편"
   ]
  },
  {
   "cell_type": "code",
   "execution_count": null,
   "id": "83880495",
   "metadata": {},
   "outputs": [],
   "source": []
  }
 ],
 "metadata": {
  "kernelspec": {
   "display_name": "Python 3 (ipykernel)",
   "language": "python",
   "name": "python3"
  },
  "language_info": {
   "codemirror_mode": {
    "name": "ipython",
    "version": 3
   },
   "file_extension": ".py",
   "mimetype": "text/x-python",
   "name": "python",
   "nbconvert_exporter": "python",
   "pygments_lexer": "ipython3",
   "version": "3.11.5"
  }
 },
 "nbformat": 4,
 "nbformat_minor": 5
}
