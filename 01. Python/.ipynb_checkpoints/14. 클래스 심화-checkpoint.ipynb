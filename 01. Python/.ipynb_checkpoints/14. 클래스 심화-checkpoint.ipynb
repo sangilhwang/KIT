{
 "cells": [
  {
   "cell_type": "markdown",
   "id": "bcbd3fd7",
   "metadata": {},
   "source": [
    "# 소멸자(destructor)\n",
    "\n",
    "- 인스턴스가 소멸될 때 자동으로 호출되는 메서드"
   ]
  },
  {
   "cell_type": "code",
   "execution_count": 4,
   "id": "794f425f",
   "metadata": {},
   "outputs": [],
   "source": [
    "class Sample:\n",
    "    def __del__(self):\n",
    "        print(\"인스턴스가 소멸됩니다.\")"
   ]
  },
  {
   "cell_type": "code",
   "execution_count": 5,
   "id": "2fa32075",
   "metadata": {},
   "outputs": [],
   "source": [
    "sample = Sample()"
   ]
  },
  {
   "cell_type": "code",
   "execution_count": 6,
   "id": "88b7831c",
   "metadata": {},
   "outputs": [
    {
     "name": "stdout",
     "output_type": "stream",
     "text": [
      "인스턴스가 소멸됩니다.\n"
     ]
    }
   ],
   "source": [
    "del sample"
   ]
  },
  {
   "cell_type": "markdown",
   "id": "1914ed2b",
   "metadata": {},
   "source": [
    "# isinstance()\n",
    "\n",
    "- 객체가 어떤 클래스로부터 만들어졌는지 확인할 수 있는 함수\n",
    "- 첫 번째 매개변수에 객체, 두 번째 매개변수에 클래스를 입력\n",
    "    - isinstance(객체, 클래스)\n",
    "    \n",
    "- 객체가 해당 클래스를 기반으로 만들어졌으면 True, 관계 없으면 False를 반환"
   ]
  },
  {
   "cell_type": "code",
   "execution_count": 9,
   "id": "9eca854f",
   "metadata": {},
   "outputs": [],
   "source": [
    "class Student:\n",
    "    def __init__(self):\n",
    "        pass"
   ]
  },
  {
   "cell_type": "code",
   "execution_count": 10,
   "id": "76cfca8c",
   "metadata": {},
   "outputs": [],
   "source": [
    "student = Student()"
   ]
  },
  {
   "cell_type": "code",
   "execution_count": 11,
   "id": "8e15c60d",
   "metadata": {},
   "outputs": [
    {
     "data": {
      "text/plain": [
       "True"
      ]
     },
     "execution_count": 11,
     "metadata": {},
     "output_type": "execute_result"
    }
   ],
   "source": [
    "isinstance(student, Student)"
   ]
  },
  {
   "cell_type": "code",
   "execution_count": 12,
   "id": "24614e21",
   "metadata": {},
   "outputs": [
    {
     "data": {
      "text/plain": [
       "False"
      ]
     },
     "execution_count": 12,
     "metadata": {},
     "output_type": "execute_result"
    }
   ],
   "source": [
    "isinstance(student, Sample)"
   ]
  },
  {
   "cell_type": "markdown",
   "id": "d7cc59f9",
   "metadata": {},
   "source": [
    "- 리스트 내부에 여러 종류의 객체가 들어있을 때 인스턴스들을 구분하며 속성과 기능을 사용할 때 사용"
   ]
  },
  {
   "cell_type": "code",
   "execution_count": 42,
   "id": "05427701",
   "metadata": {},
   "outputs": [],
   "source": [
    "class Student:\n",
    "    def study(self):\n",
    "        print(\"공부를 합니다.\")\n",
    "        \n",
    "class Teacher:\n",
    "    def teach(self):\n",
    "        print(\"학생을 가르칩니다.\")"
   ]
  },
  {
   "cell_type": "code",
   "execution_count": 25,
   "id": "4f0a892d",
   "metadata": {},
   "outputs": [],
   "source": [
    "classroom = [Student(), Student(), Teacher(), Student(), Student()]"
   ]
  },
  {
   "cell_type": "code",
   "execution_count": 32,
   "id": "85f0aeac",
   "metadata": {},
   "outputs": [
    {
     "name": "stdout",
     "output_type": "stream",
     "text": [
      "공부를 합니다.\n",
      "공부를 합니다.\n",
      "학생을 가르칩니다.\n",
      "공부를 합니다.\n",
      "공부를 합니다.\n"
     ]
    }
   ],
   "source": [
    "# 반복을 적용해서 적절한 함수를 호출\n",
    "\n",
    "for person in classroom:\n",
    "    if isinstance(person, Student):\n",
    "        person.study()\n",
    "        \n",
    "    elif isinstance(person, Teacher):\n",
    "        person.teach()"
   ]
  },
  {
   "cell_type": "markdown",
   "id": "0e0985b1",
   "metadata": {},
   "source": [
    "# 특수한 이름의 메서드\n",
    "\n",
    "- __<이름>__() 형태의 메서드들은 특수한 상황에 자동으로 호출되도록 만들어짐\n",
    "- 파이썬이 클래스를 사용할 때 제공해주는 보조 기능"
   ]
  },
  {
   "cell_type": "markdown",
   "id": "2dad08e0",
   "metadata": {},
   "source": [
    "## \\_\\_str\\_\\_()\n",
    "\n",
    "- str() 함수의 매개변수로 객체를 넣으면 호출되는 메서드\n",
    "- 객체를 문자열로 변환"
   ]
  },
  {
   "cell_type": "code",
   "execution_count": 51,
   "id": "df974500",
   "metadata": {},
   "outputs": [
    {
     "data": {
      "text/plain": [
       "'김광탁\\t381\\t95.25'"
      ]
     },
     "execution_count": 51,
     "metadata": {},
     "output_type": "execute_result"
    }
   ],
   "source": [
    "# __str__ 을 정의하지 않은 경우\n",
    "str(student)"
   ]
  },
  {
   "cell_type": "code",
   "execution_count": 48,
   "id": "96899d55",
   "metadata": {},
   "outputs": [],
   "source": [
    "class Student:\n",
    "    def __init__(self, name, korean, math, english, science):\n",
    "        self.name = name\n",
    "        self.korean = korean\n",
    "        self.math = math\n",
    "        self.english = english\n",
    "        self.science = science\n",
    "        \n",
    "    def get_sum(self):\n",
    "        return self.korean + self.math + self.english + self.science\n",
    "    \n",
    "    def get_average(self):\n",
    "        return self.get_sum() / 4\n",
    "    \n",
    "    def __str__(self):\n",
    "        return f\"{self.name}\\t{self.get_sum()}\\t{self.get_average()}\""
   ]
  },
  {
   "cell_type": "code",
   "execution_count": 36,
   "id": "6e588611",
   "metadata": {},
   "outputs": [],
   "source": [
    "students = [Student(\"정윤석\", 87, 56, 40, 92),\n",
    "           Student(\"이예훈\", 56, 94, 100, 96),\n",
    "           Student(\"김광탁\", 88, 100, 93, 100)]"
   ]
  },
  {
   "cell_type": "code",
   "execution_count": 37,
   "id": "e3cb6938",
   "metadata": {},
   "outputs": [
    {
     "name": "stdout",
     "output_type": "stream",
     "text": [
      "정윤석\t275\t68.75\n"
     ]
    }
   ],
   "source": [
    "print(students[0])"
   ]
  },
  {
   "cell_type": "code",
   "execution_count": 40,
   "id": "115f7018",
   "metadata": {},
   "outputs": [
    {
     "name": "stdout",
     "output_type": "stream",
     "text": [
      "이름\t총점\t평균\n",
      "정윤석\t275\t68.75\n",
      "이예훈\t346\t86.5\n",
      "김광탁\t381\t95.25\n"
     ]
    }
   ],
   "source": [
    "print(\"이름\", \"총점\", \"평균\", sep = \"\\t\")\n",
    "\n",
    "for student in students:\n",
    "    print(student)"
   ]
  },
  {
   "cell_type": "markdown",
   "id": "f6443097",
   "metadata": {},
   "source": [
    "## 크기 비교 메서드\n",
    "\n",
    "| 이름 | 영어 | 설명 |\n",
    "| :--: | :-- | :-- |\n",
    "| eq | equal | 같다 |\n",
    "| ne | not equal | 다르다|\n",
    "| gt | greater than | 크다 |\n",
    "| ge | greater than or equal | 크거나 같다 |\n",
    "| lt | less than | 작다 |\n",
    "| le | less than or equal | 작거나 같다 |"
   ]
  },
  {
   "cell_type": "code",
   "execution_count": 49,
   "id": "ce9debd5",
   "metadata": {},
   "outputs": [
    {
     "ename": "TypeError",
     "evalue": "'>' not supported between instances of 'Student' and 'Student'",
     "output_type": "error",
     "traceback": [
      "\u001b[1;31m---------------------------------------------------------------------------\u001b[0m",
      "\u001b[1;31mTypeError\u001b[0m                                 Traceback (most recent call last)",
      "Cell \u001b[1;32mIn[49], line 2\u001b[0m\n\u001b[0;32m      1\u001b[0m \u001b[38;5;66;03m# 크기 비교 메서드 정의 전\u001b[39;00m\n\u001b[1;32m----> 2\u001b[0m students[\u001b[38;5;241m0\u001b[39m] \u001b[38;5;241m>\u001b[39m students[\u001b[38;5;241m1\u001b[39m]\n",
      "\u001b[1;31mTypeError\u001b[0m: '>' not supported between instances of 'Student' and 'Student'"
     ]
    }
   ],
   "source": [
    "# 크기 비교 메서드 정의 전\n",
    "students[0] > students[1]"
   ]
  },
  {
   "cell_type": "code",
   "execution_count": 63,
   "id": "dce5e703",
   "metadata": {},
   "outputs": [],
   "source": [
    "class Student:\n",
    "    def __init__(self, name, korean, math, english, science):\n",
    "        self.name = name\n",
    "        self.korean = korean\n",
    "        self.math = math\n",
    "        self.english = english\n",
    "        self.science = science\n",
    "        \n",
    "    def get_sum(self):\n",
    "        return self.korean + self.math + self.english + self.science\n",
    "    \n",
    "    def get_average(self):\n",
    "        return self.get_sum() / 4\n",
    "    \n",
    "    def __str__(self):\n",
    "        return f\"{self.name}\\t{self.get_sum()}\\t{self.get_average()}\"\n",
    "    \n",
    "    def __eq__(self, value):\n",
    "        return self.get_sum() == value.get_sum()\n",
    "    \n",
    "    def __ne__(self, value):\n",
    "        return self.get_sum() != value.get_sum()\n",
    "    \n",
    "    def __gt__(self, value):\n",
    "        return self.get_sum() > value.get_sum()\n",
    "    \n",
    "    def __ge__(self, value):\n",
    "        return self.get_sum() >= value.get_sum()\n",
    "    \n",
    "    def __lt__(self, value):\n",
    "        return self.get_sum() < value.get_sum()\n",
    "    \n",
    "    def __le__(self, value):\n",
    "        return self.get_sum() <= value.get_sum()"
   ]
  },
  {
   "cell_type": "code",
   "execution_count": 64,
   "id": "82561c22",
   "metadata": {},
   "outputs": [],
   "source": [
    "# 비교할 학생 선언\n",
    "\n",
    "student_a = Student(\"나선주\", 88, 82, 96, 82)\n",
    "student_b = Student(\"윤아린\", 96, 98, 98, 98)"
   ]
  },
  {
   "cell_type": "code",
   "execution_count": 65,
   "id": "5e2c3e46",
   "metadata": {},
   "outputs": [
    {
     "data": {
      "text/plain": [
       "False"
      ]
     },
     "execution_count": 65,
     "metadata": {},
     "output_type": "execute_result"
    }
   ],
   "source": [
    "student_a == student_b"
   ]
  },
  {
   "cell_type": "code",
   "execution_count": 67,
   "id": "cd9b98e3",
   "metadata": {},
   "outputs": [
    {
     "data": {
      "text/plain": [
       "True"
      ]
     },
     "execution_count": 67,
     "metadata": {},
     "output_type": "execute_result"
    }
   ],
   "source": [
    "student_a != student_b"
   ]
  },
  {
   "cell_type": "code",
   "execution_count": 68,
   "id": "4bf62377",
   "metadata": {},
   "outputs": [
    {
     "data": {
      "text/plain": [
       "False"
      ]
     },
     "execution_count": 68,
     "metadata": {},
     "output_type": "execute_result"
    }
   ],
   "source": [
    "student_a > student_b"
   ]
  },
  {
   "cell_type": "code",
   "execution_count": 69,
   "id": "572df2c6",
   "metadata": {},
   "outputs": [
    {
     "data": {
      "text/plain": [
       "False"
      ]
     },
     "execution_count": 69,
     "metadata": {},
     "output_type": "execute_result"
    }
   ],
   "source": [
    "student_a >= student_b"
   ]
  },
  {
   "cell_type": "code",
   "execution_count": 70,
   "id": "577ed2f1",
   "metadata": {},
   "outputs": [
    {
     "data": {
      "text/plain": [
       "True"
      ]
     },
     "execution_count": 70,
     "metadata": {},
     "output_type": "execute_result"
    }
   ],
   "source": [
    "student_a < student_b"
   ]
  },
  {
   "cell_type": "code",
   "execution_count": 71,
   "id": "2d958a49",
   "metadata": {},
   "outputs": [
    {
     "data": {
      "text/plain": [
       "True"
      ]
     },
     "execution_count": 71,
     "metadata": {},
     "output_type": "execute_result"
    }
   ],
   "source": [
    "student_a <= student_b"
   ]
  },
  {
   "cell_type": "code",
   "execution_count": null,
   "id": "e2c028b8",
   "metadata": {},
   "outputs": [],
   "source": []
  },
  {
   "cell_type": "markdown",
   "id": "41c85502",
   "metadata": {},
   "source": [
    "- 비교할 때 사용하는 자료형을 한정하고 싶다면 예외발생을 활용할 수도 있음"
   ]
  },
  {
   "cell_type": "code",
   "execution_count": 72,
   "id": "5348eaad",
   "metadata": {},
   "outputs": [],
   "source": [
    "class Student:\n",
    "    def __init__(self, name, korean, math, english, science):\n",
    "        self.name = name\n",
    "        self.korean = korean\n",
    "        self.math = math\n",
    "        self.english = english\n",
    "        self.science = science\n",
    "        \n",
    "    def get_sum(self):\n",
    "        return self.korean + self.math + self.english + self.science\n",
    "    \n",
    "    def get_average(self):\n",
    "        return self.get_sum() / 4\n",
    "    \n",
    "    def __str__(self):\n",
    "        return f\"{self.name}\\t{self.get_sum()}\\t{self.get_average()}\"\n",
    "    \n",
    "    def __eq__(self, value):\n",
    "        if not isinstance(value, Student):\n",
    "            raise TypeError(\"Student 클래스의 인스턴스만 비교할 수 있습니다.\")        \n",
    "        return self.get_sum() == value.get_sum()\n",
    "    \n",
    "    def __ne__(self, value):\n",
    "        return self.get_sum() != value.get_sum()\n",
    "    \n",
    "    def __gt__(self, value):\n",
    "        return self.get_sum() > value.get_sum()\n",
    "    \n",
    "    def __ge__(self, value):\n",
    "        return self.get_sum() >= value.get_sum()\n",
    "    \n",
    "    def __lt__(self, value):\n",
    "        return self.get_sum() < value.get_sum()\n",
    "    \n",
    "    def __le__(self, value):\n",
    "        return self.get_sum() <= value.get_sum()"
   ]
  },
  {
   "cell_type": "code",
   "execution_count": 73,
   "id": "c500cb0d",
   "metadata": {},
   "outputs": [],
   "source": [
    "student_a = Student(\"나선주\", 88, 92, 96, 82)"
   ]
  },
  {
   "cell_type": "code",
   "execution_count": 74,
   "id": "f2f4c0b1",
   "metadata": {},
   "outputs": [
    {
     "ename": "TypeError",
     "evalue": "Student 클래스의 인스턴스만 비교할 수 있습니다.",
     "output_type": "error",
     "traceback": [
      "\u001b[1;31m---------------------------------------------------------------------------\u001b[0m",
      "\u001b[1;31mTypeError\u001b[0m                                 Traceback (most recent call last)",
      "Cell \u001b[1;32mIn[74], line 1\u001b[0m\n\u001b[1;32m----> 1\u001b[0m student_a \u001b[38;5;241m==\u001b[39m \u001b[38;5;241m10\u001b[39m\n",
      "Cell \u001b[1;32mIn[72], line 20\u001b[0m, in \u001b[0;36mStudent.__eq__\u001b[1;34m(self, value)\u001b[0m\n\u001b[0;32m     18\u001b[0m \u001b[38;5;28;01mdef\u001b[39;00m \u001b[38;5;21m__eq__\u001b[39m(\u001b[38;5;28mself\u001b[39m, value):\n\u001b[0;32m     19\u001b[0m     \u001b[38;5;28;01mif\u001b[39;00m \u001b[38;5;129;01mnot\u001b[39;00m \u001b[38;5;28misinstance\u001b[39m(value, Student):\n\u001b[1;32m---> 20\u001b[0m         \u001b[38;5;28;01mraise\u001b[39;00m \u001b[38;5;167;01mTypeError\u001b[39;00m(\u001b[38;5;124m\"\u001b[39m\u001b[38;5;124mStudent 클래스의 인스턴스만 비교할 수 있습니다.\u001b[39m\u001b[38;5;124m\"\u001b[39m)        \n\u001b[0;32m     21\u001b[0m     \u001b[38;5;28;01mreturn\u001b[39;00m \u001b[38;5;28mself\u001b[39m\u001b[38;5;241m.\u001b[39mget_sum() \u001b[38;5;241m==\u001b[39m value\u001b[38;5;241m.\u001b[39mget_sum()\n",
      "\u001b[1;31mTypeError\u001b[0m: Student 클래스의 인스턴스만 비교할 수 있습니다."
     ]
    }
   ],
   "source": [
    "student_a == 10"
   ]
  },
  {
   "cell_type": "markdown",
   "id": "6f9bde51",
   "metadata": {},
   "source": [
    "# 클래스 변수와 클래스 메서드\n",
    "\n",
    "- 객체가 변수와 메서드를 가지는 것 처럼 클래스도 변수와 메서드를 가질 수 있음\n",
    "\n",
    "- 클래스 변수에 접근\n",
    "    - 클래스이름.변수이름\n",
    "    \n",
    "- 클래스 변수 표현법\n",
    "    - 클래스변수 = 값"
   ]
  },
  {
   "cell_type": "code",
   "execution_count": 75,
   "id": "77aa9511",
   "metadata": {},
   "outputs": [],
   "source": [
    "class Korean:\n",
    "    country = \"한국\" # 클래스 변수 country\n",
    "    \n",
    "    def __init__(self, name, age, address):\n",
    "        self.name = name # 인스턴스 변수 self.name\n",
    "        self.age = age # 인스턴스 변수 self.age\n",
    "        self.address = address # 인스턴스 변수 self.address"
   ]
  },
  {
   "cell_type": "code",
   "execution_count": 76,
   "id": "d573fe99",
   "metadata": {},
   "outputs": [],
   "source": [
    "man = Korean(\"홍길동\", \"35\", \"서울\")"
   ]
  },
  {
   "cell_type": "code",
   "execution_count": 77,
   "id": "4e60c4a6",
   "metadata": {},
   "outputs": [
    {
     "data": {
      "text/plain": [
       "'홍길동'"
      ]
     },
     "execution_count": 77,
     "metadata": {},
     "output_type": "execute_result"
    }
   ],
   "source": [
    "man.name"
   ]
  },
  {
   "cell_type": "code",
   "execution_count": 78,
   "id": "e659ba25",
   "metadata": {},
   "outputs": [
    {
     "data": {
      "text/plain": [
       "'한국'"
      ]
     },
     "execution_count": 78,
     "metadata": {},
     "output_type": "execute_result"
    }
   ],
   "source": [
    "man.country"
   ]
  },
  {
   "cell_type": "code",
   "execution_count": 79,
   "id": "0e114903",
   "metadata": {},
   "outputs": [
    {
     "ename": "AttributeError",
     "evalue": "type object 'Korean' has no attribute 'name'",
     "output_type": "error",
     "traceback": [
      "\u001b[1;31m---------------------------------------------------------------------------\u001b[0m",
      "\u001b[1;31mAttributeError\u001b[0m                            Traceback (most recent call last)",
      "Cell \u001b[1;32mIn[79], line 1\u001b[0m\n\u001b[1;32m----> 1\u001b[0m Korean\u001b[38;5;241m.\u001b[39mname\n",
      "\u001b[1;31mAttributeError\u001b[0m: type object 'Korean' has no attribute 'name'"
     ]
    }
   ],
   "source": [
    "Korean.name"
   ]
  },
  {
   "cell_type": "code",
   "execution_count": 80,
   "id": "e77db515",
   "metadata": {},
   "outputs": [
    {
     "data": {
      "text/plain": [
       "'한국'"
      ]
     },
     "execution_count": 80,
     "metadata": {},
     "output_type": "execute_result"
    }
   ],
   "source": [
    "Korean.country"
   ]
  },
  {
   "cell_type": "code",
   "execution_count": 88,
   "id": "2dbcb4f6",
   "metadata": {},
   "outputs": [],
   "source": [
    "class Person:\n",
    "    bag = []\n",
    "    \n",
    "    def put_bag(self, *stuff):\n",
    "        Person.bag.append(stuff)\n",
    "#         self.bag.append(stuff)\n",
    "        # self.bag는 Person.bag와 동일한 기능을 하지만 인스턴스 변수와 혼동하기 쉽기 때문에 클래스 이름을 사용하는 것을 권장        "
   ]
  },
  {
   "cell_type": "code",
   "execution_count": 89,
   "id": "9e9a2841",
   "metadata": {},
   "outputs": [],
   "source": [
    "james = Person()\n",
    "james.put_bag(\"책\", \"노트북\")"
   ]
  },
  {
   "cell_type": "code",
   "execution_count": 90,
   "id": "ce451566",
   "metadata": {},
   "outputs": [],
   "source": [
    "maria = Person()\n",
    "maria.put_bag(\"열쇠\", \"핸드폰\")"
   ]
  },
  {
   "cell_type": "code",
   "execution_count": 91,
   "id": "d485c04a",
   "metadata": {},
   "outputs": [
    {
     "name": "stdout",
     "output_type": "stream",
     "text": [
      "[('책', '노트북'), ('열쇠', '핸드폰')]\n",
      "[('책', '노트북'), ('열쇠', '핸드폰')]\n",
      "[('책', '노트북'), ('열쇠', '핸드폰')]\n"
     ]
    }
   ],
   "source": [
    "print(james.bag)\n",
    "print(maria.bag)\n",
    "print(Person.bag)"
   ]
  },
  {
   "cell_type": "code",
   "execution_count": 96,
   "id": "bde3ac67",
   "metadata": {},
   "outputs": [],
   "source": [
    "class Person:\n",
    "    bag = []\n",
    "    \n",
    "    def __init__(self):\n",
    "        self.bag = []\n",
    "        \n",
    "    def put_bag(self, stuff):\n",
    "        Person.bag.append(stuff)\n",
    "        \n",
    "    def put_mybag(self, stuff):\n",
    "        self.bag.append(stuff)    "
   ]
  },
  {
   "cell_type": "code",
   "execution_count": 97,
   "id": "6ce29421",
   "metadata": {},
   "outputs": [],
   "source": [
    "james = Person()\n",
    "james.put_bag(\"사전\")\n",
    "james.put_mybag(\"책\")"
   ]
  },
  {
   "cell_type": "code",
   "execution_count": 98,
   "id": "906ebd1a",
   "metadata": {},
   "outputs": [],
   "source": [
    "maria = Person()\n",
    "maria.put_bag(\"벽돌\")\n",
    "maria.put_mybag(\"열쇠\")"
   ]
  },
  {
   "cell_type": "code",
   "execution_count": 100,
   "id": "3b1a8ca3",
   "metadata": {},
   "outputs": [
    {
     "name": "stdout",
     "output_type": "stream",
     "text": [
      "['책']\n",
      "['열쇠']\n",
      "['사전', '벽돌']\n"
     ]
    }
   ],
   "source": [
    "# 같은 이름의 인스턴스 변수와 클래스 변수가 존재할 때는 인스턴스 변수 우선\n",
    "\n",
    "print(james.bag)\n",
    "print(maria.bag)\n",
    "print(Person.bag)"
   ]
  },
  {
   "cell_type": "code",
   "execution_count": 101,
   "id": "2ae7edff",
   "metadata": {},
   "outputs": [],
   "source": [
    "class Student:\n",
    "    count = 0\n",
    "    \n",
    "    def __init__(self, name, korean, math, english, science):\n",
    "        self.name = name\n",
    "        self.korean = korean\n",
    "        self.math = math\n",
    "        self.english = english\n",
    "        self.science = science\n",
    "        \n",
    "        # 클래스 변수 설정\n",
    "        Student.count += 1\n",
    "        print(f\"{Student.count}번째 학생이 생성되었습니다.\")"
   ]
  },
  {
   "cell_type": "code",
   "execution_count": 102,
   "id": "00b44f13",
   "metadata": {},
   "outputs": [
    {
     "name": "stdout",
     "output_type": "stream",
     "text": [
      "1번째 학생이 생성되었습니다.\n",
      "2번째 학생이 생성되었습니다.\n",
      "3번째 학생이 생성되었습니다.\n"
     ]
    }
   ],
   "source": [
    "students = [Student(\"정윤석\", 87, 56, 40, 92),\n",
    "           Student(\"이예훈\", 56, 94, 100, 96),\n",
    "           Student(\"김광탁\", 88, 100, 93, 100)]"
   ]
  },
  {
   "cell_type": "code",
   "execution_count": 103,
   "id": "445fcdc1",
   "metadata": {},
   "outputs": [
    {
     "name": "stdout",
     "output_type": "stream",
     "text": [
      "현재 생성된 총 학생 수는 3명 입니다.\n"
     ]
    }
   ],
   "source": [
    "print(f\"현재 생성된 총 학생 수는 {Student.count}명 입니다.\")"
   ]
  },
  {
   "cell_type": "markdown",
   "id": "b67c57cf",
   "metadata": {},
   "source": [
    "## 클래스 메서드\n",
    "\n",
    "- 인스턴스 또는 클래스로 호출\n",
    "- 생성된 인스턴스가 없어도 호출 가능\n",
    "- @classmethod 데코레이터를 표시하고 작성\n",
    "- 매개변수 cls를 사용\n",
    "- 클래스.메서드() 의 형태로 사용\n",
    "- 인스턴스 변수에 접근할 수 없지만 클래스 변수에는 접근 가능\n",
    "    - 메서드의 실행이 외부상태에 영향을 미치지 않는 순수함수를 만드 ㄹ때\n",
    "    - 인스턴스의 상태를 변화시키지 않는 메서드를 만들 때\n",
    "    \n",
    "- 표현법\n",
    "```\n",
    "class 클래스이름:\n",
    "    @classmethod\n",
    "    def 클래스함수(cls, 매개변수):\n",
    "        pass\n",
    "```\n",
    "\n",
    "- 클래스 메서드 호출\n",
    "    - 클래스이름.함수이름(입력값)"
   ]
  },
  {
   "cell_type": "code",
   "execution_count": 107,
   "id": "f7e2a390",
   "metadata": {},
   "outputs": [],
   "source": [
    "class Korean:\n",
    "    country = \"한국\"\n",
    "    \n",
    "    @classmethod\n",
    "    def trip(cls, country):\n",
    "        if cls.country == country:\n",
    "            print(\"국내여행\")\n",
    "            \n",
    "        else:\n",
    "            print(\"해외여행\")"
   ]
  },
  {
   "cell_type": "code",
   "execution_count": 108,
   "id": "f6de9384",
   "metadata": {},
   "outputs": [
    {
     "name": "stdout",
     "output_type": "stream",
     "text": [
      "국내여행\n"
     ]
    }
   ],
   "source": [
    "Korean.trip(\"한국\")"
   ]
  },
  {
   "cell_type": "code",
   "execution_count": 109,
   "id": "9ccbd249",
   "metadata": {},
   "outputs": [
    {
     "name": "stdout",
     "output_type": "stream",
     "text": [
      "해외여행\n"
     ]
    }
   ],
   "source": [
    "Korean.trip(\"미국\")"
   ]
  },
  {
   "cell_type": "code",
   "execution_count": 111,
   "id": "ac0800c7",
   "metadata": {},
   "outputs": [],
   "source": [
    "class Person:\n",
    "    count = 0 # 클래스 변수\n",
    "    \n",
    "    def __init__(self):\n",
    "        Person.count += 1 # 인스턴스 변수가 만들어질 때 클래스 변수 count에 1 더하기\n",
    "        \n",
    "    @classmethod\n",
    "    def print_count(cls):\n",
    "        print(f\"{cls.count}명 생성됨\") # cls로 클래스 속성에 접근\n",
    "        \n",
    "    @classmethod\n",
    "    def create(cls):\n",
    "        p = cls() # cls()는 Person()과 같음\n",
    "        return p"
   ]
  },
  {
   "cell_type": "code",
   "execution_count": 112,
   "id": "cb37c56b",
   "metadata": {},
   "outputs": [],
   "source": [
    "james = Person()\n",
    "maria = Person()"
   ]
  },
  {
   "cell_type": "code",
   "execution_count": 113,
   "id": "0ab866e2",
   "metadata": {},
   "outputs": [
    {
     "name": "stdout",
     "output_type": "stream",
     "text": [
      "2명 생성됨\n"
     ]
    }
   ],
   "source": [
    "Person.print_count()"
   ]
  },
  {
   "cell_type": "code",
   "execution_count": 114,
   "id": "19548f65",
   "metadata": {},
   "outputs": [
    {
     "name": "stdout",
     "output_type": "stream",
     "text": [
      "3명 생성됨\n"
     ]
    }
   ],
   "source": [
    "julia = Person.create()\n",
    "Person.print_count()"
   ]
  },
  {
   "cell_type": "code",
   "execution_count": 115,
   "id": "b49434d5",
   "metadata": {},
   "outputs": [],
   "source": [
    "class Student:\n",
    "    # 클래스 변수\n",
    "    count = 0\n",
    "    students = []\n",
    "    \n",
    "    @classmethod\n",
    "    def print(cls):\n",
    "        print(\"------ 학생 목록 ------\")\n",
    "        print(\"이름\\t총점\\t평균\")\n",
    "        for student in cls.students:\n",
    "            print(student)\n",
    "        print(\"------ --------- ------\")\n",
    "    \n",
    "    def __init__(self, name, korean, math, english, science):\n",
    "        self.name = name\n",
    "        self.korean = korean\n",
    "        self.math = math\n",
    "        self.english = english\n",
    "        self.science = science\n",
    "        Student.count += 1\n",
    "        Student.students.append(self)\n",
    "        \n",
    "    def get_sum(self):\n",
    "        return self.korean + self.math + self.english + self.science\n",
    "    \n",
    "    def get_average(self):\n",
    "        return self.get_sum() / 4\n",
    "    \n",
    "    def __str__(self):\n",
    "        return f\"{self.name}\\t{self.get_sum()}\\t{self.get_average()}\""
   ]
  },
  {
   "cell_type": "code",
   "execution_count": 117,
   "id": "dabd9a7a",
   "metadata": {},
   "outputs": [],
   "source": [
    "students = [Student(\"정윤석\", 87, 56, 40, 92),\n",
    "           Student(\"이예훈\", 56, 94, 100, 96),\n",
    "           Student(\"김광탁\", 88, 100, 93, 100)]"
   ]
  },
  {
   "cell_type": "code",
   "execution_count": 120,
   "id": "065c6f4b",
   "metadata": {},
   "outputs": [
    {
     "name": "stdout",
     "output_type": "stream",
     "text": [
      "------ 학생 목록 ------\n",
      "이름\t총점\t평균\n",
      "정윤석\t275\t68.75\n",
      "이예훈\t346\t86.5\n",
      "김광탁\t381\t95.25\n",
      "------ --------- ------\n"
     ]
    }
   ],
   "source": [
    "# 현재 생성된 학생을 모두 출력\n",
    "\n",
    "Student.print()"
   ]
  },
  {
   "cell_type": "markdown",
   "id": "60ad42bf",
   "metadata": {},
   "source": [
    "# 가비지 컬렉터(garbage collecter)\n",
    "\n",
    "- 프로그램 내부에서 무언가 생성한다는 것은 메모리에 올린다는 의미\n",
    "    - 메모리란 RAM 메모리를 말함 (휘발성 메모리)\n",
    "    - 메모리가 부족해지면 컴퓨터는 하드디스크를 메모리처럼 사용\n",
    "        - 이런 동작을 스왑(swap)이라고 함\n",
    "        - 하드디스크는 메모리보다 훨씬 느리기 때문에 스왑을 처리하는 속도도 느림\n",
    "    - 프로그램에서 변수를 만들면 메모리에 데이터가 올라가고, 계속 만들게되면 메모리가 가득참\n",
    "        - 파이썬에서는 가비지 컬렉터가 더 사용할 가능성이 없는 데이터를 메모리에서 제거해서 메모리를 정리"
   ]
  },
  {
   "cell_type": "markdown",
   "id": "e3392dfc",
   "metadata": {},
   "source": [
    "## 변수에 저장하지 않은 경우"
   ]
  },
  {
   "cell_type": "code",
   "execution_count": 121,
   "id": "ed8e4c93",
   "metadata": {},
   "outputs": [],
   "source": [
    "class Test:\n",
    "    def __init__(self, name):\n",
    "        self.name = name\n",
    "        print(f\"{self.name} - 생성되었습니다.\")\n",
    "        \n",
    "    def __del__(self):\n",
    "        print(f\"{self.name} - 파괴되었습니다.\")"
   ]
  },
  {
   "cell_type": "code",
   "execution_count": 122,
   "id": "0dd479ad",
   "metadata": {},
   "outputs": [
    {
     "name": "stdout",
     "output_type": "stream",
     "text": [
      "A - 생성되었습니다.\n",
      "A - 파괴되었습니다.\n",
      "B - 생성되었습니다.\n",
      "B - 파괴되었습니다.\n",
      "C - 생성되었습니다.\n"
     ]
    },
    {
     "data": {
      "text/plain": [
       "<__main__.Test at 0x22474c7be50>"
      ]
     },
     "execution_count": 122,
     "metadata": {},
     "output_type": "execute_result"
    }
   ],
   "source": [
    "Test(\"A\")\n",
    "Test(\"B\")\n",
    "Test(\"C\")"
   ]
  },
  {
   "cell_type": "markdown",
   "id": "fda5289c",
   "metadata": {},
   "source": [
    "## 변수에 저장한 경우"
   ]
  },
  {
   "cell_type": "code",
   "execution_count": 123,
   "id": "148622aa",
   "metadata": {},
   "outputs": [
    {
     "name": "stdout",
     "output_type": "stream",
     "text": [
      "A - 생성되었습니다.\n",
      "B - 생성되었습니다.\n",
      "C - 생성되었습니다.\n"
     ]
    }
   ],
   "source": [
    "a = Test(\"A\")\n",
    "b = Test(\"B\")\n",
    "c = Test(\"C\")"
   ]
  },
  {
   "cell_type": "markdown",
   "id": "61f8e3e3",
   "metadata": {},
   "source": [
    "- 변수에 저장했으면 나중에 활용한다는 의미이므로 프로그램이 종료되는 순간까지 메모리에서 제거하지 않음"
   ]
  },
  {
   "cell_type": "markdown",
   "id": "0f6cab98",
   "metadata": {},
   "source": [
    "# 프라이빗 변수\n",
    "\n",
    "- 클래스 내부의 변수를 외부에서 사용하는 것을 막고 싶을 때 사용\n",
    "- 표현법\n",
    "    - __변수이름"
   ]
  },
  {
   "cell_type": "code",
   "execution_count": 132,
   "id": "ac96aef5",
   "metadata": {},
   "outputs": [],
   "source": [
    "class Person:\n",
    "    def __init__(self, name, age, address):\n",
    "        self.hello = \"안녕하세요\"\n",
    "        self.name = name\n",
    "        self.age = age\n",
    "        self.adress = address"
   ]
  },
  {
   "cell_type": "code",
   "execution_count": 133,
   "id": "1f302819",
   "metadata": {},
   "outputs": [],
   "source": [
    "maria = Person(\"마리아\", 20, \"서울시 마포구\")"
   ]
  },
  {
   "cell_type": "code",
   "execution_count": 134,
   "id": "fe486fb9",
   "metadata": {},
   "outputs": [
    {
     "data": {
      "text/plain": [
       "'마리아'"
      ]
     },
     "execution_count": 134,
     "metadata": {},
     "output_type": "execute_result"
    }
   ],
   "source": [
    "maria.name"
   ]
  },
  {
   "cell_type": "code",
   "execution_count": 135,
   "id": "2535c68c",
   "metadata": {},
   "outputs": [
    {
     "data": {
      "text/plain": [
       "20"
      ]
     },
     "execution_count": 135,
     "metadata": {},
     "output_type": "execute_result"
    }
   ],
   "source": [
    "maria.age"
   ]
  },
  {
   "cell_type": "code",
   "execution_count": 138,
   "id": "bdb5a3d7",
   "metadata": {},
   "outputs": [],
   "source": [
    "# 클래스 내부의 변수를 외부 입력으로 수정함\n",
    "maria.age = 30"
   ]
  },
  {
   "cell_type": "code",
   "execution_count": 137,
   "id": "c2551f28",
   "metadata": {},
   "outputs": [
    {
     "data": {
      "text/plain": [
       "30"
      ]
     },
     "execution_count": 137,
     "metadata": {},
     "output_type": "execute_result"
    }
   ],
   "source": [
    "maria.age"
   ]
  },
  {
   "cell_type": "code",
   "execution_count": 176,
   "id": "13683324",
   "metadata": {},
   "outputs": [],
   "source": [
    "class Person:\n",
    "    def __init__(self, name, age, address, wallet):\n",
    "        self.hello = \"안녕하세요\"\n",
    "        self.name = name\n",
    "        self.age = age\n",
    "        self.address = address\n",
    "        self.__wallet = wallet # wallet은 private 변수가 됨"
   ]
  },
  {
   "cell_type": "code",
   "execution_count": 177,
   "id": "5ded8652",
   "metadata": {},
   "outputs": [],
   "source": [
    "maria = Person(\"마리아\", 20, \"서울시 마포구\", 10000)"
   ]
  },
  {
   "cell_type": "code",
   "execution_count": 178,
   "id": "0e4edd37",
   "metadata": {},
   "outputs": [
    {
     "ename": "AttributeError",
     "evalue": "'Person' object has no attribute '__wallet'",
     "output_type": "error",
     "traceback": [
      "\u001b[1;31m---------------------------------------------------------------------------\u001b[0m",
      "\u001b[1;31mAttributeError\u001b[0m                            Traceback (most recent call last)",
      "Cell \u001b[1;32mIn[178], line 1\u001b[0m\n\u001b[1;32m----> 1\u001b[0m maria\u001b[38;5;241m.\u001b[39m__wallet\n",
      "\u001b[1;31mAttributeError\u001b[0m: 'Person' object has no attribute '__wallet'"
     ]
    }
   ],
   "source": [
    "maria.__wallet # 프라이빗 변수이기 때문에 에러 발생"
   ]
  },
  {
   "cell_type": "code",
   "execution_count": 179,
   "id": "d7505ec0",
   "metadata": {},
   "outputs": [],
   "source": [
    "class Person:\n",
    "    def __init__(self, name, age, address, wallet):\n",
    "        self.hello = \"안녕하세요\"\n",
    "        self.name = name\n",
    "        self.age = age\n",
    "        self.adress = address\n",
    "        self.__wallet = wallet # wallet은 private 변수가 됨\n",
    "        \n",
    "    def pay(self, amount):\n",
    "        self.__wallet -= amount\n",
    "        print(f\"{self.__wallet}원 남음\")"
   ]
  },
  {
   "cell_type": "code",
   "execution_count": 180,
   "id": "e86f8a4b",
   "metadata": {},
   "outputs": [],
   "source": [
    "maria = Person(\"마리아\", 20, \"서울시 마포구\", 10000)"
   ]
  },
  {
   "cell_type": "code",
   "execution_count": 181,
   "id": "40071a58",
   "metadata": {},
   "outputs": [
    {
     "name": "stdout",
     "output_type": "stream",
     "text": [
      "8200원 남음\n"
     ]
    }
   ],
   "source": [
    "maria.pay(1800)"
   ]
  },
  {
   "cell_type": "code",
   "execution_count": 182,
   "id": "052516f4",
   "metadata": {},
   "outputs": [],
   "source": [
    "import math\n",
    "\n",
    "class Circle:\n",
    "    def __init__(self, radius):\n",
    "        self.__radius = radius\n",
    "        \n",
    "    def get_circumference(self):\n",
    "        return 2 * math.pi * self.__radius\n",
    "    \n",
    "    def get_area(self):\n",
    "        return math.pi * (self.__radius ** 2)"
   ]
  },
  {
   "cell_type": "code",
   "execution_count": 184,
   "id": "d9051722",
   "metadata": {},
   "outputs": [
    {
     "name": "stdout",
     "output_type": "stream",
     "text": [
      "원의 둘레 62.83185307179586\n",
      "원의 넓이 314.1592653589793\n"
     ]
    },
    {
     "ename": "AttributeError",
     "evalue": "'Circle' object has no attribute '__radius'",
     "output_type": "error",
     "traceback": [
      "\u001b[1;31m---------------------------------------------------------------------------\u001b[0m",
      "\u001b[1;31mAttributeError\u001b[0m                            Traceback (most recent call last)",
      "Cell \u001b[1;32mIn[184], line 5\u001b[0m\n\u001b[0;32m      3\u001b[0m \u001b[38;5;28mprint\u001b[39m(\u001b[38;5;124m\"\u001b[39m\u001b[38;5;124m원의 둘레\u001b[39m\u001b[38;5;124m\"\u001b[39m, circle\u001b[38;5;241m.\u001b[39mget_circumference())\n\u001b[0;32m      4\u001b[0m \u001b[38;5;28mprint\u001b[39m(\u001b[38;5;124m\"\u001b[39m\u001b[38;5;124m원의 넓이\u001b[39m\u001b[38;5;124m\"\u001b[39m, circle\u001b[38;5;241m.\u001b[39mget_area())\n\u001b[1;32m----> 5\u001b[0m \u001b[38;5;28mprint\u001b[39m(\u001b[38;5;124m\"\u001b[39m\u001b[38;5;124m반지름\u001b[39m\u001b[38;5;124m\"\u001b[39m, circle\u001b[38;5;241m.\u001b[39m__radius)\n",
      "\u001b[1;31mAttributeError\u001b[0m: 'Circle' object has no attribute '__radius'"
     ]
    }
   ],
   "source": [
    "# 원의 둘레와 넓이 구하기\n",
    "circle = Circle(10)\n",
    "print(\"원의 둘레\", circle.get_circumference())\n",
    "print(\"원의 넓이\", circle.get_area())\n",
    "print(\"반지름\", circle.__radius)"
   ]
  },
  {
   "cell_type": "markdown",
   "id": "54590375",
   "metadata": {},
   "source": [
    "# 게터(getter), 세터(setter)\n",
    "\n",
    "- 위와 같은 예제에서 원의 반지름을 변경하고 싶다면 __radius에 직접 접근할 수 없기 때문에 간접적인 방법을 사용해야 함\n",
    "- 게터와 세터는 프라이빗 변수의 값을 추출하거나 변경할 목적으로 간접적으로 속성에 접근하도록 해주는 함수"
   ]
  },
  {
   "cell_type": "code",
   "execution_count": 187,
   "id": "e37b30ce",
   "metadata": {},
   "outputs": [],
   "source": [
    "class Circle:\n",
    "    def __init__(self, radius):\n",
    "        self.__radius = radius\n",
    "        \n",
    "    def get_circumference(self):\n",
    "        return 2 * math.pi * self.__radius\n",
    "    \n",
    "    def get_area(self):\n",
    "        return math.pi * (self.__radius ** 2)\n",
    "    \n",
    "    # 게터와 세터를 선언\n",
    "    \n",
    "    def get_radius(self):\n",
    "        return self.__radius\n",
    "    \n",
    "    def set_radius(self, value):\n",
    "        self.__radius = value"
   ]
  },
  {
   "cell_type": "code",
   "execution_count": 188,
   "id": "2951bf9f",
   "metadata": {},
   "outputs": [
    {
     "name": "stdout",
     "output_type": "stream",
     "text": [
      "62.83185307179586\n",
      "314.1592653589793\n",
      "10\n"
     ]
    }
   ],
   "source": [
    "circle = Circle(10)\n",
    "print(circle.get_circumference())\n",
    "print(circle.get_area())\n",
    "print(circle.get_radius())"
   ]
  },
  {
   "cell_type": "markdown",
   "id": "c8461a21",
   "metadata": {},
   "source": [
    "- 세터를 사용해 값을 변경하게 하면 여러가지 추가 처리를 할 수 있음"
   ]
  },
  {
   "cell_type": "code",
   "execution_count": 189,
   "id": "17ada62b",
   "metadata": {},
   "outputs": [],
   "source": [
    "class Circle:\n",
    "    def __init__(self, radius):\n",
    "        self.__radius = radius\n",
    "        \n",
    "    def get_circumference(self):\n",
    "        return 2 * math.pi * self.__radius\n",
    "    \n",
    "    def get_area(self):\n",
    "        return math.pi * (self.__radius ** 2)\n",
    "    \n",
    "    # 게터와 세터를 선언\n",
    "    \n",
    "    def get_radius(self):\n",
    "        return self.__radius\n",
    "    \n",
    "    def set_radius(self, value):\n",
    "        if value <= 0:\n",
    "                raise TypeError(\"반지름은 양의 숫자여야 합니다\")\n",
    "        self.__radius = value"
   ]
  },
  {
   "cell_type": "code",
   "execution_count": 190,
   "id": "61286fd7",
   "metadata": {},
   "outputs": [
    {
     "name": "stdout",
     "output_type": "stream",
     "text": [
      "A - 파괴되었습니다.\n"
     ]
    },
    {
     "ename": "TypeError",
     "evalue": "반지름은 양의 숫자여야 합니다",
     "output_type": "error",
     "traceback": [
      "\u001b[1;31m---------------------------------------------------------------------------\u001b[0m",
      "\u001b[1;31mTypeError\u001b[0m                                 Traceback (most recent call last)",
      "Cell \u001b[1;32mIn[190], line 2\u001b[0m\n\u001b[0;32m      1\u001b[0m circle \u001b[38;5;241m=\u001b[39m Circle(\u001b[38;5;241m10\u001b[39m)\n\u001b[1;32m----> 2\u001b[0m circle\u001b[38;5;241m.\u001b[39mset_radius(\u001b[38;5;241m-\u001b[39m\u001b[38;5;241m2\u001b[39m)\n",
      "Cell \u001b[1;32mIn[189], line 18\u001b[0m, in \u001b[0;36mCircle.set_radius\u001b[1;34m(self, value)\u001b[0m\n\u001b[0;32m     16\u001b[0m \u001b[38;5;28;01mdef\u001b[39;00m \u001b[38;5;21mset_radius\u001b[39m(\u001b[38;5;28mself\u001b[39m, value):\n\u001b[0;32m     17\u001b[0m     \u001b[38;5;28;01mif\u001b[39;00m value \u001b[38;5;241m<\u001b[39m\u001b[38;5;241m=\u001b[39m \u001b[38;5;241m0\u001b[39m:\n\u001b[1;32m---> 18\u001b[0m             \u001b[38;5;28;01mraise\u001b[39;00m \u001b[38;5;167;01mTypeError\u001b[39;00m(\u001b[38;5;124m\"\u001b[39m\u001b[38;5;124m반지름은 양의 숫자여야 합니다\u001b[39m\u001b[38;5;124m\"\u001b[39m)\n\u001b[0;32m     19\u001b[0m     \u001b[38;5;28mself\u001b[39m\u001b[38;5;241m.\u001b[39m__radius \u001b[38;5;241m=\u001b[39m value\n",
      "\u001b[1;31mTypeError\u001b[0m: 반지름은 양의 숫자여야 합니다"
     ]
    }
   ],
   "source": [
    "circle = Circle(10)\n",
    "circle.set_radius(-2)"
   ]
  },
  {
   "cell_type": "code",
   "execution_count": null,
   "id": "94f60c37",
   "metadata": {},
   "outputs": [],
   "source": []
  }
 ],
 "metadata": {
  "kernelspec": {
   "display_name": "Python 3 (ipykernel)",
   "language": "python",
   "name": "python3"
  },
  "language_info": {
   "codemirror_mode": {
    "name": "ipython",
    "version": 3
   },
   "file_extension": ".py",
   "mimetype": "text/x-python",
   "name": "python",
   "nbconvert_exporter": "python",
   "pygments_lexer": "ipython3",
   "version": "3.11.5"
  }
 },
 "nbformat": 4,
 "nbformat_minor": 5
}
