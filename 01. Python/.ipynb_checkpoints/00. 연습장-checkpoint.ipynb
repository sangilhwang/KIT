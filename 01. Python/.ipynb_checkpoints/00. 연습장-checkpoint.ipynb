{
 "cells": [
  {
   "cell_type": "code",
   "execution_count": 1,
   "id": "0d338836",
   "metadata": {},
   "outputs": [
    {
     "data": {
      "text/plain": [
       "'0x10'"
      ]
     },
     "execution_count": 1,
     "metadata": {},
     "output_type": "execute_result"
    }
   ],
   "source": [
    "hex(16)"
   ]
  },
  {
   "cell_type": "code",
   "execution_count": 2,
   "id": "9726c7d2",
   "metadata": {},
   "outputs": [
    {
     "data": {
      "text/plain": [
       "'0x11'"
      ]
     },
     "execution_count": 2,
     "metadata": {},
     "output_type": "execute_result"
    }
   ],
   "source": [
    "hex(17)"
   ]
  },
  {
   "cell_type": "code",
   "execution_count": 3,
   "id": "3f177e22",
   "metadata": {},
   "outputs": [
    {
     "data": {
      "text/plain": [
       "'0x16'"
      ]
     },
     "execution_count": 3,
     "metadata": {},
     "output_type": "execute_result"
    }
   ],
   "source": [
    "hex(22)"
   ]
  },
  {
   "cell_type": "code",
   "execution_count": 4,
   "id": "6f9087c6",
   "metadata": {},
   "outputs": [
    {
     "data": {
      "text/plain": [
       "'0x1f'"
      ]
     },
     "execution_count": 4,
     "metadata": {},
     "output_type": "execute_result"
    }
   ],
   "source": [
    "hex(31)"
   ]
  },
  {
   "cell_type": "markdown",
   "id": "98e79943",
   "metadata": {},
   "source": [
    "0 = 0\n",
    "\n",
    "1 = 1\n",
    "\n",
    "2 = 2\n",
    "\n",
    "3 = 3\n",
    "\n",
    "4 = 4\n",
    "\n",
    "5 = 5\n",
    "\n",
    "6 = 6\n",
    "\n",
    "7 = 7 \n",
    "\n",
    "8 = 8\n",
    "\n",
    "9 = 9\n",
    "\n",
    "10 = a\n",
    "\n",
    "11 = b\n",
    "\n",
    "12 = c\n",
    "\n",
    "13 = d\n",
    "\n",
    "14 = e\n",
    "\n",
    "15 = f\n"
   ]
  },
  {
   "cell_type": "code",
   "execution_count": 51,
   "id": "ac15125f",
   "metadata": {},
   "outputs": [
    {
     "data": {
      "text/plain": [
       "420"
      ]
     },
     "execution_count": 51,
     "metadata": {},
     "output_type": "execute_result"
    }
   ],
   "source": [
    "0x1a4"
   ]
  },
  {
   "cell_type": "code",
   "execution_count": 6,
   "id": "d53c754e",
   "metadata": {},
   "outputs": [
    {
     "data": {
      "text/plain": [
       "1024"
      ]
     },
     "execution_count": 6,
     "metadata": {},
     "output_type": "execute_result"
    }
   ],
   "source": [
    "2 ** 10"
   ]
  },
  {
   "cell_type": "code",
   "execution_count": 7,
   "id": "41111cc8",
   "metadata": {},
   "outputs": [
    {
     "data": {
      "text/plain": [
       "81"
      ]
     },
     "execution_count": 7,
     "metadata": {},
     "output_type": "execute_result"
    }
   ],
   "source": [
    "3 ** 4"
   ]
  },
  {
   "cell_type": "code",
   "execution_count": 8,
   "id": "346c3aca",
   "metadata": {},
   "outputs": [
    {
     "data": {
      "text/plain": [
       "1.1592740743"
      ]
     },
     "execution_count": 8,
     "metadata": {},
     "output_type": "execute_result"
    }
   ],
   "source": [
    "1.03 ** 5"
   ]
  },
  {
   "cell_type": "code",
   "execution_count": 49,
   "id": "161d66d3",
   "metadata": {},
   "outputs": [],
   "source": [
    "years = 0\n",
    "balance = 100\n",
    "profit_rate = 1.05"
   ]
  },
  {
   "cell_type": "code",
   "execution_count": 50,
   "id": "655c82da",
   "metadata": {},
   "outputs": [
    {
     "name": "stdout",
     "output_type": "stream",
     "text": [
      "15\n",
      "207.893\n"
     ]
    }
   ],
   "source": [
    "while balance < 200:\n",
    "    years += 1\n",
    "    balance *= profit_rate\n",
    "    \n",
    "print(years)\n",
    "print(\"%.3f\"%balance)"
   ]
  },
  {
   "cell_type": "code",
   "execution_count": null,
   "id": "a2f6147f",
   "metadata": {},
   "outputs": [],
   "source": []
  },
  {
   "cell_type": "code",
   "execution_count": 73,
   "id": "abf1a3ed",
   "metadata": {},
   "outputs": [],
   "source": [
    "li = [2, 10, 3, 5, 7, 5, 6, 8]    "
   ]
  },
  {
   "cell_type": "code",
   "execution_count": 34,
   "id": "8ee0ee7c",
   "metadata": {},
   "outputs": [],
   "source": [
    "def list_minimum(args):\n",
    "    minimum = args[0]\n",
    "        \n",
    "    for i in range(len(args)):\n",
    "        if args[i] < minimum:\n",
    "            minimum = args[i]\n",
    "            \n",
    "    return(minimum)\n",
    "    \n",
    "        \n",
    "    "
   ]
  },
  {
   "cell_type": "code",
   "execution_count": 35,
   "id": "dd4dd9b1",
   "metadata": {},
   "outputs": [
    {
     "data": {
      "text/plain": [
       "2"
      ]
     },
     "execution_count": 35,
     "metadata": {},
     "output_type": "execute_result"
    }
   ],
   "source": [
    "list_minimum(li)"
   ]
  },
  {
   "cell_type": "code",
   "execution_count": null,
   "id": "4634c9a0",
   "metadata": {},
   "outputs": [],
   "source": []
  },
  {
   "cell_type": "code",
   "execution_count": null,
   "id": "e2a389f0",
   "metadata": {},
   "outputs": [],
   "source": [
    "li = [2, 10, 3, 5, 7, 5, 6, 8]    "
   ]
  },
  {
   "cell_type": "code",
   "execution_count": 36,
   "id": "fad6457f",
   "metadata": {},
   "outputs": [],
   "source": [
    "def list_maximum(args):\n",
    "    maximum = args[0]\n",
    "    \n",
    "    for i in range(len(args)):\n",
    "        if args[i] > maximum:\n",
    "            maximum = args[i]\n",
    "            \n",
    "    return(maximum)"
   ]
  },
  {
   "cell_type": "code",
   "execution_count": 37,
   "id": "09ec80c0",
   "metadata": {},
   "outputs": [
    {
     "data": {
      "text/plain": [
       "10"
      ]
     },
     "execution_count": 37,
     "metadata": {},
     "output_type": "execute_result"
    }
   ],
   "source": [
    "list_maximum(li)"
   ]
  },
  {
   "cell_type": "code",
   "execution_count": null,
   "id": "35bf4a1b",
   "metadata": {},
   "outputs": [],
   "source": []
  },
  {
   "cell_type": "code",
   "execution_count": 120,
   "id": "dfb3366c",
   "metadata": {},
   "outputs": [],
   "source": [
    "li = [2, 10, 3, 5, 7, 5, 6, 8]"
   ]
  },
  {
   "cell_type": "code",
   "execution_count": 121,
   "id": "fe382903",
   "metadata": {},
   "outputs": [],
   "source": [
    "def sort_list(args, order = \"straight\"):\n",
    "    instance_list = []\n",
    "    instance_remove_list = []\n",
    "    \n",
    "    instance_remove_list += args\n",
    "    \n",
    "    if order == \"straight\":\n",
    "        for _ in range(len(instance_remove_list)):\n",
    "            instance_list.append(list_minimum(instance_remove_list))\n",
    "            instance_remove_list.remove(list_minimum(instance_remove_list))\n",
    "            \n",
    "    elif order == \"reverse\":\n",
    "        for _ in range(len(instance_remove_list)):\n",
    "            instance_list.append(list_maximum(instance_remove_list))\n",
    "            instance_remove_list.remove(list_maximum(instance_remove_list))\n",
    "                       \n",
    "    return(instance_list)\n",
    "        "
   ]
  },
  {
   "cell_type": "code",
   "execution_count": 122,
   "id": "6b3c4993",
   "metadata": {},
   "outputs": [
    {
     "data": {
      "text/plain": [
       "[10, 8, 7, 6, 5, 5, 3, 2]"
      ]
     },
     "execution_count": 122,
     "metadata": {},
     "output_type": "execute_result"
    }
   ],
   "source": [
    "sort_list(li, \"reverse\")"
   ]
  },
  {
   "cell_type": "code",
   "execution_count": 123,
   "id": "19afb346",
   "metadata": {},
   "outputs": [
    {
     "name": "stdout",
     "output_type": "stream",
     "text": [
      "[2, 10, 3, 5, 7, 5, 6, 8]\n"
     ]
    }
   ],
   "source": [
    "print(li)"
   ]
  },
  {
   "cell_type": "code",
   "execution_count": null,
   "id": "82bc8f90",
   "metadata": {},
   "outputs": [],
   "source": []
  },
  {
   "cell_type": "code",
   "execution_count": 125,
   "id": "4056326a",
   "metadata": {},
   "outputs": [],
   "source": [
    "def range_list(a, b, c = 1):\n",
    "    i = a\n",
    "    instance_list = []\n",
    "    while i < b:\n",
    "        instance_list.append(i)\n",
    "        i += c\n",
    "        \n",
    "    return(instance_list)"
   ]
  },
  {
   "cell_type": "code",
   "execution_count": 128,
   "id": "3680a600",
   "metadata": {},
   "outputs": [
    {
     "data": {
      "text/plain": [
       "[0, 3, 6, 9]"
      ]
     },
     "execution_count": 128,
     "metadata": {},
     "output_type": "execute_result"
    }
   ],
   "source": [
    "range_list(0, 10, 3)"
   ]
  },
  {
   "cell_type": "code",
   "execution_count": null,
   "id": "122d6c27",
   "metadata": {},
   "outputs": [],
   "source": []
  },
  {
   "cell_type": "code",
   "execution_count": null,
   "id": "03da0935",
   "metadata": {},
   "outputs": [],
   "source": []
  },
  {
   "cell_type": "code",
   "execution_count": null,
   "id": "a14ede7e",
   "metadata": {},
   "outputs": [],
   "source": []
  },
  {
   "cell_type": "code",
   "execution_count": null,
   "id": "a69e6bf3",
   "metadata": {},
   "outputs": [],
   "source": []
  },
  {
   "cell_type": "code",
   "execution_count": null,
   "id": "7f2f4c50",
   "metadata": {},
   "outputs": [],
   "source": []
  },
  {
   "cell_type": "code",
   "execution_count": null,
   "id": "70ec5777",
   "metadata": {},
   "outputs": [],
   "source": []
  },
  {
   "cell_type": "code",
   "execution_count": null,
   "id": "43fd5761",
   "metadata": {},
   "outputs": [],
   "source": []
  },
  {
   "cell_type": "code",
   "execution_count": null,
   "id": "eb714f75",
   "metadata": {},
   "outputs": [],
   "source": []
  },
  {
   "cell_type": "code",
   "execution_count": null,
   "id": "497496f4",
   "metadata": {},
   "outputs": [],
   "source": []
  },
  {
   "cell_type": "code",
   "execution_count": null,
   "id": "d7d841c5",
   "metadata": {},
   "outputs": [],
   "source": []
  },
  {
   "cell_type": "code",
   "execution_count": null,
   "id": "16e682ad",
   "metadata": {},
   "outputs": [],
   "source": []
  },
  {
   "cell_type": "code",
   "execution_count": null,
   "id": "d307b1bf",
   "metadata": {},
   "outputs": [],
   "source": []
  },
  {
   "cell_type": "code",
   "execution_count": null,
   "id": "eee16f96",
   "metadata": {},
   "outputs": [],
   "source": []
  },
  {
   "cell_type": "code",
   "execution_count": null,
   "id": "049e7982",
   "metadata": {},
   "outputs": [],
   "source": []
  },
  {
   "cell_type": "code",
   "execution_count": null,
   "id": "e2a89e5e",
   "metadata": {},
   "outputs": [],
   "source": []
  }
 ],
 "metadata": {
  "kernelspec": {
   "display_name": "Python 3 (ipykernel)",
   "language": "python",
   "name": "python3"
  },
  "language_info": {
   "codemirror_mode": {
    "name": "ipython",
    "version": 3
   },
   "file_extension": ".py",
   "mimetype": "text/x-python",
   "name": "python",
   "nbconvert_exporter": "python",
   "pygments_lexer": "ipython3",
   "version": "3.11.5"
  }
 },
 "nbformat": 4,
 "nbformat_minor": 5
}
