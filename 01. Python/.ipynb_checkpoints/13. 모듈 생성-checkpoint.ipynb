{
 "cells": [
  {
   "cell_type": "markdown",
   "id": "f7719409",
   "metadata": {},
   "source": [
    "# 라이브러리와 프레임워크\n",
    "\n",
    "- 라이브러리(library)\n",
    "    - 정상적인 제어를 하는 모듈\n",
    "    \n",
    "- 프레임워크(framework)\n",
    "    - 제어 역전이 발생하는 모듈"
   ]
  },
  {
   "cell_type": "markdown",
   "id": "36b1ea9c",
   "metadata": {},
   "source": [
    "## 제어 역전(IoC;Inversion of Control)"
   ]
  },
  {
   "cell_type": "markdown",
   "id": "0f3d0aa8",
   "metadata": {},
   "source": [
    "### 라이브러리 = 정상적인 제어\n",
    "\n",
    "- 라이브러리는 모듈의 기능을 개발자가 직접 호출"
   ]
  },
  {
   "cell_type": "code",
   "execution_count": 1,
   "id": "1a275fb2",
   "metadata": {},
   "outputs": [],
   "source": [
    "from math import sin, cos, tan, floor, ceil"
   ]
  },
  {
   "cell_type": "code",
   "execution_count": 2,
   "id": "a2027462",
   "metadata": {},
   "outputs": [
    {
     "name": "stdout",
     "output_type": "stream",
     "text": [
      "0.8414709848078965\n",
      "0.5403023058681398\n",
      "1.5574077246549023\n"
     ]
    }
   ],
   "source": [
    "print(sin(1))\n",
    "print(cos(1))\n",
    "print(tan(1))"
   ]
  },
  {
   "cell_type": "code",
   "execution_count": 3,
   "id": "f6ff3166",
   "metadata": {},
   "outputs": [
    {
     "name": "stdout",
     "output_type": "stream",
     "text": [
      "2\n",
      "3\n"
     ]
    }
   ],
   "source": [
    "print(floor(2.5))\n",
    "print(ceil(2.5))"
   ]
  },
  {
   "cell_type": "markdown",
   "id": "131903bf",
   "metadata": {},
   "source": [
    "### 프레임워크\n",
    "\n",
    "- 직접적으로 무언가를 진행하는 코드는 없음"
   ]
  },
  {
   "cell_type": "code",
   "execution_count": 4,
   "id": "690acfd0",
   "metadata": {},
   "outputs": [],
   "source": [
    "from flask import Flask"
   ]
  },
  {
   "cell_type": "code",
   "execution_count": 5,
   "id": "f4c94a54",
   "metadata": {},
   "outputs": [],
   "source": [
    "app = Flask(__name__)\n",
    "\n",
    "@app.route(\"/\")\n",
    "def hello():\n",
    "    return \"<h1>Hello World!</h1>\""
   ]
  },
  {
   "cell_type": "markdown",
   "id": "584b6dc1",
   "metadata": {},
   "source": [
    "- Flask 모듈이 제공하는 명령어를 실행하면 코드를 직접 실행하지 않아도 Flask 모듈 내부에서 서버를 실행한 뒤 지정한 파일을 읽어들여 적절한 상황에 스스로 실행\n",
    "    - 모듈이 개발자가 작성한 코드를 실행하는 형태의 모듈을 프레임워크라고 부름\n",
    "    \n",
    "- 개발자가 모듈의 함수를 호출하는 것이 일반적인 제어\n",
    "\n",
    "- 반대로 개발자가 만든 함수를 모듈이 실행하는 것이 제어 역전\n",
    "\n",
    "- 제어 역전 여부로 라이브러리와 프레임워크 구분"
   ]
  },
  {
   "cell_type": "markdown",
   "id": "a1f47c31",
   "metadata": {},
   "source": [
    "# 모듈 만들기\n",
    "\n",
    "- 파이썬 파일을 만들고 외부에서 읽어들이게 하면 모듈\n",
    "    - 모듈을 구조화해서 패키지(거대한 모듈)을 만들수도 있음"
   ]
  },
  {
   "cell_type": "markdown",
   "id": "e250e8f3",
   "metadata": {},
   "source": [
    "## \\_\\_name\\_\\_==\"\\_\\_main\\_\\_\""
   ]
  },
  {
   "cell_type": "markdown",
   "id": "ced8afb5",
   "metadata": {},
   "source": [
    "### \\_\\_name\\_\\_\n",
    "\n",
    "- 파이썬 코드 내부에서는 \\_\\_name\\_\\_ 이라는 변수를 사용할 수 있음\n",
    "- 프로그래밍 언어에서는 프로그램의 진입점을 엔트리 포인트(entry point) 또는 메인(main)이라고 부름\n",
    "    - 메인 내부에서의 \\_\\_name\\_\\_ 변수의 값은 \"\\_\\_main\\_\\_\"임"
   ]
  },
  {
   "cell_type": "code",
   "execution_count": 6,
   "id": "fda24d70",
   "metadata": {},
   "outputs": [
    {
     "data": {
      "text/plain": [
       "'__main__'"
      ]
     },
     "execution_count": 6,
     "metadata": {},
     "output_type": "execute_result"
    }
   ],
   "source": [
    "__name__"
   ]
  },
  {
   "cell_type": "markdown",
   "id": "a2bca9fd",
   "metadata": {},
   "source": [
    "### 모듈의 \\_\\_name\\_\\_\n",
    "\n",
    "- 엔트리 포인트가 아니지만 엔트리 포인트 파일 내에서 import 되었기 때문에 모듈 내의 코드가 실행됨\n",
    "- 모듈 내부에서 \\_\\_name\\_\\_을 출력하면 모듈의 이름을 나타냄"
   ]
  },
  {
   "cell_type": "markdown",
   "id": "f45f55f3",
   "metadata": {},
   "source": [
    "- 엔트리 포인트 파일에서는 \"\\_\\_main\\_\\_\"을 출력하지만 모듈 파일에서는 모듈 이름을 출력"
   ]
  },
  {
   "cell_type": "markdown",
   "id": "add8189f",
   "metadata": {},
   "source": [
    "### \\_\\_name\\_\\_ 활용\n",
    "\n",
    "- 엔트리 포인트 파일 내부에서 \\_\\_name\\_\\_ 이 \"\\_\\_main\\_\\_\" 이라는 값을 갖는다는 것을 활용해서 현재 파일이 모듈로 실행되고 있는지, 엔트리 포인트로 실행되는지 확인할 수 있음"
   ]
  },
  {
   "cell_type": "markdown",
   "id": "13015796",
   "metadata": {},
   "source": [
    "- main.py를 실행하면 모듈에서 활용 예로 작성했떤 코드까지 출력됨\n",
    "    - 해당 코드는 모듈로 사용될 때 출력되면 안됨\n",
    "    - 이 때, 해당 파일이 엔트리 포인트인지 구분하는 코드를 활용"
   ]
  },
  {
   "cell_type": "markdown",
   "id": "ffd9cde2",
   "metadata": {},
   "source": [
    "# 패키지\n",
    "\n",
    "- 모듈이 모여서 구조를 이룬 것\n",
    "- pip 는 Python Package Index 의 줄임말로, 패키지 관리 시스템(Package Management System)"
   ]
  },
  {
   "cell_type": "markdown",
   "id": "aa0358e7",
   "metadata": {},
   "source": [
    "## 패키지 만들기\n",
    "\n",
    "- 구성\n",
    "    - module_package(폴더)\n",
    "        - test_package(폴더) : 패키지로 사용할 폴더\n",
    "            - module_a.py\n",
    "            - module_b.py\n",
    "        - main.py : 엔트리 포인트로 사용할 파이썬 파일"
   ]
  },
  {
   "cell_type": "markdown",
   "id": "1222b112",
   "metadata": {},
   "source": [
    "### \\_\\_init\\_\\_.py 파일\n",
    "\n",
    "- 패키지를 읽을 때 어떤 처리를 수행해야 하거나 패키지 내부의 모듈들을 한꺼번에 가져오고 싶을 때 패키지 폴더 내부에 \\_\\_init\\_\\_ 파일을 만들어 사용\n",
    "- 해당 폴더가 패키지임을 알려주고 패키지와 관련된 초기화 처리를 하는 파일\n",
    "    - \\_\\_all\\_\\_ 이라는 이름의 리스트를 만들면 이 리스트에 지정한 모듈들이 from 패키지 import * 을 할 때 전부 읽어들여짐"
   ]
  },
  {
   "cell_type": "markdown",
   "id": "5c455db8",
   "metadata": {},
   "source": [
    "- main.py 를 실행하면 패키지를 읽어들이 때 \\_\\_init\\_\\_.py 를 가장 먼저 실행하는 것을 알 수 있음\n",
    "- 파이썬 3.3 이전의 버전에서는 \\_\\_init\\_\\_.py 파일이 무조건 있어야 패키지로 작동했지만, 이후 버전에서는 \\_\\_init\\_\\_.py 파일이 없어도 폴더 내부에 파이썬 파일이 있기만 하면 패키지로 작동"
   ]
  },
  {
   "cell_type": "code",
   "execution_count": null,
   "id": "28ffe3b7",
   "metadata": {},
   "outputs": [],
   "source": []
  }
 ],
 "metadata": {
  "kernelspec": {
   "display_name": "Python 3 (ipykernel)",
   "language": "python",
   "name": "python3"
  },
  "language_info": {
   "codemirror_mode": {
    "name": "ipython",
    "version": 3
   },
   "file_extension": ".py",
   "mimetype": "text/x-python",
   "name": "python",
   "nbconvert_exporter": "python",
   "pygments_lexer": "ipython3",
   "version": "3.11.5"
  }
 },
 "nbformat": 4,
 "nbformat_minor": 5
}
