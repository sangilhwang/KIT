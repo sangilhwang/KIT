{
 "cells": [
  {
   "cell_type": "code",
   "execution_count": 1,
   "id": "c06ff43a",
   "metadata": {},
   "outputs": [
    {
     "name": "stdout",
     "output_type": "stream",
     "text": [
      "166833\n"
     ]
    }
   ],
   "source": [
    "# 1 부터 1000까지의 자연수 중 3의 배수 합 구하기\n",
    "# 166833\n",
    "\n",
    "total = 0\n",
    "\n",
    "for i in range(1, 1001):\n",
    "    if i % 3 == 0:\n",
    "        total += i\n",
    "        \n",
    "    else:\n",
    "        continue\n",
    "        \n",
    "print(total)"
   ]
  },
  {
   "cell_type": "code",
   "execution_count": null,
   "id": "5a218de6",
   "metadata": {},
   "outputs": [],
   "source": [
    "list1 = [i for i in range(1, 1001) if i % 3 == 0]\n",
    "\n",
    "total"
   ]
  },
  {
   "cell_type": "code",
   "execution_count": 2,
   "id": "07aba04e",
   "metadata": {},
   "outputs": [
    {
     "data": {
      "text/plain": [
       "55"
      ]
     },
     "execution_count": 2,
     "metadata": {},
     "output_type": "execute_result"
    }
   ],
   "source": [
    "sum(range(1, 11))"
   ]
  },
  {
   "cell_type": "code",
   "execution_count": 11,
   "id": "eac944d9",
   "metadata": {},
   "outputs": [
    {
     "data": {
      "text/plain": [
       "166833"
      ]
     },
     "execution_count": 11,
     "metadata": {},
     "output_type": "execute_result"
    }
   ],
   "source": [
    "sum([i for i in range(1,1001) if i % 3 == 0])"
   ]
  },
  {
   "cell_type": "code",
   "execution_count": 26,
   "id": "8c310481",
   "metadata": {},
   "outputs": [
    {
     "name": "stdout",
     "output_type": "stream",
     "text": [
      "166833\n"
     ]
    }
   ],
   "source": [
    "total = 0\n",
    "i = 1\n",
    "\n",
    "while i <= 999:\n",
    "    i += 1\n",
    "\n",
    "    if i % 3 == 0:\n",
    "        total += i\n",
    "        \n",
    "    else:\n",
    "        continue    \n",
    "    \n",
    "else:\n",
    "    print(total)"
   ]
  },
  {
   "cell_type": "code",
   "execution_count": null,
   "id": "784b4981",
   "metadata": {},
   "outputs": [],
   "source": [
    "# 2. 계단식으로 별 출력하기(첫 줄에는 *개, 두 번째 줄에는 *2개, .... 다섯 번째 줄에는 * 5개)\n",
    "# *\n",
    "# **\n",
    "# ***\n",
    "# ****\n",
    "# *****"
   ]
  },
  {
   "cell_type": "code",
   "execution_count": 73,
   "id": "630c098e",
   "metadata": {},
   "outputs": [
    {
     "name": "stdout",
     "output_type": "stream",
     "text": [
      "*    \n",
      "**   \n",
      "***  \n",
      "**** \n",
      "*****\n"
     ]
    }
   ],
   "source": [
    "for x in range(5):\n",
    "    \n",
    "    for y in range(5):\n",
    "        \n",
    "        if x >= y:\n",
    "            print(\"*\", end=\"\")\n",
    "            \n",
    "        else:\n",
    "            print(\" \", end=\"\")\n",
    "    \n",
    "    print()"
   ]
  },
  {
   "cell_type": "code",
   "execution_count": 56,
   "id": "6a64d602",
   "metadata": {},
   "outputs": [
    {
     "name": "stdout",
     "output_type": "stream",
     "text": [
      "*\n",
      "**\n",
      "***\n",
      "****\n",
      "*****\n"
     ]
    }
   ],
   "source": [
    "for i in range(1,6):\n",
    "    print(\"*\" * i)"
   ]
  },
  {
   "cell_type": "code",
   "execution_count": 58,
   "id": "a8acb2a6",
   "metadata": {},
   "outputs": [
    {
     "name": "stdout",
     "output_type": "stream",
     "text": [
      "*\n",
      "**\n",
      "***\n",
      "****\n",
      "*****\n"
     ]
    }
   ],
   "source": [
    "star = \"\"\n",
    "\n",
    "for _ in range(5):\n",
    "    star += \"*\"\n",
    "    print(star)"
   ]
  },
  {
   "cell_type": "code",
   "execution_count": 69,
   "id": "d0e0f295",
   "metadata": {},
   "outputs": [
    {
     "name": "stdout",
     "output_type": "stream",
     "text": [
      "     ☆\n",
      "    ****\n",
      "   ******\n",
      "  ********\n",
      " **********\n",
      "************\n"
     ]
    }
   ],
   "source": [
    "list1 = range(1, 7)\n",
    "\n",
    "for i in list1:\n",
    "    if i == 1:\n",
    "        print(\" \" * (len(list1) - i), end = \"\"),print(\"☆\")\n",
    "    else:\n",
    "        print(\" \" * (len(list1) - i), end = \"\"),print(\"*\" * (2*i))"
   ]
  },
  {
   "cell_type": "code",
   "execution_count": 76,
   "id": "c1ba2dee",
   "metadata": {},
   "outputs": [
    {
     "name": "stdout",
     "output_type": "stream",
     "text": [
      "[2, 6, 10, 14, 18]\n"
     ]
    }
   ],
   "source": [
    "# 3. 1부터 10까지의 자연수 중 홀수만 2를 곱해서 리스트로 저장하기\n",
    "\n",
    "result = [i * 2 for i in range(1,11) if i%2 == 1]\n",
    "\n",
    "print(result)"
   ]
  },
  {
   "cell_type": "code",
   "execution_count": 77,
   "id": "dd5a661f",
   "metadata": {},
   "outputs": [
    {
     "name": "stdout",
     "output_type": "stream",
     "text": [
      "[2, 6, 10, 14, 18]\n"
     ]
    }
   ],
   "source": [
    "result = []\n",
    "\n",
    "for i in range (1, 11):\n",
    "    if i % 2 == 1:\n",
    "        result.append(i*2)\n",
    "        \n",
    "print(result)"
   ]
  },
  {
   "cell_type": "code",
   "execution_count": 19,
   "id": "b10e065a",
   "metadata": {},
   "outputs": [
    {
     "name": "stdout",
     "output_type": "stream",
     "text": [
      "50000원 - 3개\n",
      "10000원 - 0개\n",
      "5000원 - 1개\n",
      "1000원 - 1개\n",
      "500원 - 1개\n",
      "100원 - 2개\n",
      "50원 - 1개\n",
      "10원 - 3개\n"
     ]
    }
   ],
   "source": [
    "# 4. 화폐매수 구하기\n",
    "\n",
    "a = 156780 # 원 => 5만원 3장, 1만원 0장, 5천원 1장, 1천원 1장, 5백원 1개, 백원 2개, 50원 1개, 10원 3개\n",
    "b = [50000, 10000, 5000, 1000, 500, 100, 50, 10]\n",
    "\n",
    "for i in b:\n",
    "    c = a//i\n",
    "    a -= (i * c)\n",
    "    print(f\"{i}원 - {c}개\")\n"
   ]
  },
  {
   "cell_type": "code",
   "execution_count": 20,
   "id": "2269a9c2",
   "metadata": {},
   "outputs": [
    {
     "name": "stdout",
     "output_type": "stream",
     "text": [
      "{50000: 3, 10000: 0, 5000: 1, 1000: 1, 500: 1, 100: 2, 50: 1, 10: 3}\n"
     ]
    }
   ],
   "source": [
    "a = 156780\n",
    "b = [50000, 10000, 5000, 1000, 500, 100, 50, 10]\n",
    "dict1 = {}\n",
    "\n",
    "for i in b:\n",
    "    c = a//i\n",
    "    a -= (i * c)\n",
    "    dict1[i] = c\n",
    "    \n",
    "print(dict1)"
   ]
  },
  {
   "cell_type": "code",
   "execution_count": 18,
   "id": "c04a657e",
   "metadata": {},
   "outputs": [
    {
     "name": "stdout",
     "output_type": "stream",
     "text": [
      "50000원 - 3개\n",
      "10000원 - 0개\n",
      "5000원 - 1개\n",
      "1000원 - 1개\n",
      "500원 - 1개\n",
      "100원 - 2개\n",
      "50원 - 1개\n",
      "10원 - 3개\n"
     ]
    }
   ],
   "source": [
    "a = 156780\n",
    "b = [50000, 10000, 5000, 1000, 500, 100, 50, 10]\n",
    "\n",
    "for i in b:\n",
    "    c = 0\n",
    "    \n",
    "    while a >= i:\n",
    "        a -= i\n",
    "        c += 1\n",
    "        \n",
    "    print(f\"{i}원 - {c}개\")"
   ]
  },
  {
   "cell_type": "code",
   "execution_count": 85,
   "id": "304eeceb",
   "metadata": {},
   "outputs": [
    {
     "name": "stdout",
     "output_type": "stream",
     "text": [
      "50000원 - 3개\n",
      "10000원 - 0개\n",
      "5000원 - 1개\n",
      "1000원 - 1개\n",
      "500원 - 1개\n",
      "100원 - 2개\n",
      "50원 - 1개\n",
      "10원 - 3개\n",
      "\n",
      "잔액 : {50000: 0, 10000: 2, 5000: 2, 1000: 3, 500: 5, 100: 3, 50: 1, 10: 1}\n",
      "현재 잔액이 35860원 입니다.\n"
     ]
    }
   ],
   "source": [
    "a = 156780\n",
    "o = a\n",
    "b = [50000, 10000, 5000, 1000, 500, 100, 50, 10]\n",
    "total = 0\n",
    "cash = {50000: 3, 10000: 2, 5000: 3, 1000: 4, 500: 6, 100: 5, 50: 2, 10: 4}\n",
    "cash_total = 0\n",
    "\n",
    "\n",
    "for i in b:\n",
    "    c = 0\n",
    "    \n",
    "    while a >= i and 0 < cash[i]:\n",
    "        a -= i\n",
    "        c += 1\n",
    "        cash[i] -= 1\n",
    "        \n",
    "    total += i * c\n",
    "        \n",
    "    print(f\"{i}원 - {c}개\")\n",
    "\n",
    "print()\n",
    "print(f\"잔액 : {cash}\")\n",
    "\n",
    "if total < o:\n",
    "\n",
    "    print(f\"잔액이 {o - total}원 부족합니다.\")\n",
    "    \n",
    "else:\n",
    "    for j in cash:\n",
    "        cash_total += cash[j]*j\n",
    "    \n",
    "    print(f\"현재 잔액이 {cash_total}원 입니다.\")"
   ]
  },
  {
   "cell_type": "code",
   "execution_count": 125,
   "id": "00fd01b6",
   "metadata": {},
   "outputs": [
    {
     "name": "stdout",
     "output_type": "stream",
     "text": [
      "['y1', 'y2', 'y3', 'y4']\n",
      "['123', '234', '345', '456']\n",
      "y1 : 123\n",
      "y2 : 234\n",
      "y3 : 345\n",
      "y4 : 456\n"
     ]
    }
   ],
   "source": [
    "# 5. name 과 data를 각각 리스트에 담기\n",
    "q5 = [{\"name\":\"y1\",\"data\":\"123\"}, {\"name\":\"y2\",\"data\":\"234\"}, {\"name\":\"y3\",\"data\":\"345\"}, {\"name\":\"y4\",\"data\":\"456\"}]\n",
    "\n",
    "name = []\n",
    "data = []\n",
    "\n",
    "for i in range(0,len(q5)):\n",
    "    name.append(q5[i][\"name\"])\n",
    "    data.append(q5[i][\"data\"])\n",
    "    \n",
    "print(name)\n",
    "print(data)\n",
    "\n",
    "for j in range(0,len(q5)):\n",
    "    print(f\"{name[j]} : {data[j]}\")\n"
   ]
  },
  {
   "cell_type": "code",
   "execution_count": 131,
   "id": "9ab3a9a4",
   "metadata": {},
   "outputs": [
    {
     "name": "stdout",
     "output_type": "stream",
     "text": [
      "['y1', 'y2', 'y3', 'y4']\n",
      "['123', '234', '345', '456']\n",
      "y1 : 123\n",
      "y2 : 234\n",
      "y3 : 345\n",
      "y4 : 456\n"
     ]
    }
   ],
   "source": [
    "q5 = [{\"name\":\"y1\",\"data\":\"123\"}, {\"name\":\"y2\",\"data\":\"234\"}, {\"name\":\"y3\",\"data\":\"345\"}, {\"name\":\"y4\",\"data\":\"456\"}]\n",
    "\n",
    "name = []\n",
    "data = []\n",
    "\n",
    "for i in q5:\n",
    "    name.append(i[\"name\"])\n",
    "    data.append(i[\"data\"])\n",
    "    \n",
    "print(name)\n",
    "print(data)\n",
    "\n",
    "for i in range(len(name)):\n",
    "    print(f\"{name[i]} : {data[i]}\")\n",
    "    "
   ]
  },
  {
   "cell_type": "code",
   "execution_count": 134,
   "id": "781decd8",
   "metadata": {},
   "outputs": [
    {
     "name": "stdout",
     "output_type": "stream",
     "text": [
      "y1 123\n",
      "y2 234\n",
      "y3 345\n",
      "y4 456\n"
     ]
    }
   ],
   "source": [
    "q5 = [{\"name\":\"y1\",\"data\":\"123\"}, {\"name\":\"y2\",\"data\":\"234\"}, {\"name\":\"y3\",\"data\":\"345\"}, {\"name\":\"y4\",\"data\":\"456\"}]\n",
    "\n",
    "name = []\n",
    "data = []\n",
    "\n",
    "for i in q5:\n",
    "    name.append(i[\"name\"])\n",
    "    data.append(i[\"data\"])\n",
    "\n",
    "for i in zip(name, data):\n",
    "    print(i[0], i[1])"
   ]
  },
  {
   "cell_type": "code",
   "execution_count": 179,
   "id": "6a201c34",
   "metadata": {},
   "outputs": [
    {
     "name": "stdout",
     "output_type": "stream",
     "text": [
      "['a386', 'a383', 'a384']\n",
      "['123', '123', '234']\n",
      "[34, 36, 28]\n",
      "a386 123 34\n",
      "a383 123 36\n",
      "a384 234 28\n"
     ]
    }
   ],
   "source": [
    "# 6. id, name, age를 각각 리스트에 담고 각각의 요소를 짝지어 출력하기\n",
    "\n",
    "q6 = {\"ret\":{\"id\":\"a386\",\"name\":\"123\",\"age\":34},\n",
    "      \"ret1\":{\"id\":\"a383\",\"name\":\"123\",\"age\":36}, \n",
    "      \"ret2\":{\"id\":\"a384\",\"name\":\"234\",\"age\":28}}\n",
    "\n",
    "id_list = []\n",
    "name = []\n",
    "age = []\n",
    "\n",
    "for i in q6:\n",
    "    id_list.append(q6[i][\"id\"])\n",
    "    name.append(q6[i][\"name\"])\n",
    "    age.append(q6[i][\"age\"])\n",
    "\n",
    "print(id_list)\n",
    "print(name)\n",
    "print(age)\n",
    "\n",
    "for i in zip(id_list, name, age):\n",
    "    print(i[0], i[1], i[2])\n",
    "    \n"
   ]
  },
  {
   "cell_type": "code",
   "execution_count": 180,
   "id": "3f35897d",
   "metadata": {},
   "outputs": [
    {
     "name": "stdout",
     "output_type": "stream",
     "text": [
      "a386 123 34 \n",
      "a383 123 36 \n",
      "a384 234 28 \n"
     ]
    }
   ],
   "source": [
    "for i in zip(id_list, name, age):\n",
    "    for j in range(len(i)):\n",
    "        print(i[j], end=\" \")\n",
    "    print()"
   ]
  },
  {
   "cell_type": "code",
   "execution_count": 181,
   "id": "37eb2612",
   "metadata": {},
   "outputs": [
    {
     "name": "stdout",
     "output_type": "stream",
     "text": [
      "a386 123 34\n",
      "a383 123 36\n",
      "a384 234 28\n"
     ]
    }
   ],
   "source": [
    "for i in range(len(id_list)):\n",
    "    print(id_list[i], name[i], age[i])"
   ]
  },
  {
   "cell_type": "code",
   "execution_count": 29,
   "id": "77471f9f",
   "metadata": {},
   "outputs": [
    {
     "name": "stdout",
     "output_type": "stream",
     "text": [
      "['a2001', 'a2002', 'a2003', 'a2004', 'a2005', 'a2006', 'a2007']\n",
      "['123', '123', '123', '123', '123', '123', '123']\n",
      "[34, 54, 36, 38, 17, 52, 33]\n",
      "a2001 123 34\n",
      "a2002 123 54\n",
      "a2003 123 36\n",
      "a2004 123 38\n",
      "a2005 123 17\n",
      "a2006 123 52\n",
      "a2007 123 33\n"
     ]
    }
   ],
   "source": [
    "# 7. id, name, age를 각각 리스트에 담고 각각의 요소를 짝지어 출력하기\n",
    "\n",
    "id_list = []\n",
    "name = []\n",
    "age = []\n",
    "\n",
    "q7 = {\"ret\":[{\"id\":\"a2001\",\"name\":\"123\",\"age\":34},\n",
    "             {\"id\":\"a2002\",\"name\":\"123\",\"age\":54},\n",
    "             {\"id\":\"a2003\",\"name\":\"123\",\"age\":36},\n",
    "             {\"id\":\"a2004\",\"name\":\"123\",\"age\":38}],\n",
    "      \"ret1\":[{\"id\":\"a2005\",\"name\":\"123\",\"age\":17},\n",
    "              {\"id\":\"a2006\",\"name\":\"123\",\"age\":52},\n",
    "              {\"id\":\"a2007\",\"name\":\"123\",\"age\":33}]}\n",
    "\n",
    "q7[\"ret\"][1][\"id\"]\n",
    "\n",
    "for i in q7:    \n",
    "    for j in q7[i]:\n",
    "        id_list.append(j[\"id\"])\n",
    "        name.append(j[\"name\"])\n",
    "        age.append(j[\"age\"])\n",
    "        \n",
    "print(id_list)\n",
    "print(name)\n",
    "print(age)\n",
    "\n",
    "for i in range(len(id_list)):\n",
    "    print(id_list[i], name[i], age[i])\n"
   ]
  },
  {
   "cell_type": "code",
   "execution_count": 30,
   "id": "c991de6b",
   "metadata": {},
   "outputs": [
    {
     "name": "stdout",
     "output_type": "stream",
     "text": [
      "a2001\n",
      "a2002\n"
     ]
    }
   ],
   "source": [
    "print(q7[\"ret\"][0][\"id\"])\n",
    "print(q7[\"ret\"][1][\"id\"])"
   ]
  },
  {
   "cell_type": "code",
   "execution_count": 31,
   "id": "13ea93a1",
   "metadata": {},
   "outputs": [
    {
     "name": "stdout",
     "output_type": "stream",
     "text": [
      "['a2001', 'a2002', 'a2003', 'a2004', 'a2005', 'a2006', 'a2007']\n",
      "['123', '123', '123', '123', '123', '123', '123']\n",
      "[34, 54, 36, 38, 17, 52, 33]\n"
     ]
    }
   ],
   "source": [
    "id_list = []\n",
    "name = []\n",
    "age = []\n",
    "\n",
    "id_list = [ q7[i][j][\"id\"] for i in q7 for j in range(len(q7[i])) ]\n",
    "name = [ q7[i][j][\"name\"] for i in q7 for j in range(len(q7[i])) ]\n",
    "age = [ q7[i][j][\"age\"] for i in q7 for j in range(len(q7[i])) ]\n",
    "\n",
    "print(id_list)\n",
    "print(name)\n",
    "print(age)"
   ]
  },
  {
   "cell_type": "code",
   "execution_count": 37,
   "id": "714ce2a5",
   "metadata": {},
   "outputs": [
    {
     "name": "stdout",
     "output_type": "stream",
     "text": [
      "['AAA', 'BBB', 'CCC']\n",
      "['cat', 'dog', 'cat']\n",
      "[['tuna', 'catnip'], ['bones', 'carrots'], ['mice']]\n",
      "[['ham', 'zucchini'], ['tuna'], ['cookies']]\n",
      "\n",
      "AAA cat ['tuna', 'catnip'] ['ham', 'zucchini']\n",
      "BBB dog ['bones', 'carrots'] ['tuna']\n",
      "CCC cat ['mice'] ['cookies']\n"
     ]
    }
   ],
   "source": [
    "# 8. name, species, likes, dislikes 를 각각 리스트에 담고 각각의 요소를 짝지어 출력하기\n",
    "\n",
    "q8 = [{\"name\":\"AAA\",\"species\":\"cat\",\"foods\":{\"likes\":[\"tuna\",\"catnip\"],\"dislikes\":[\"ham\",\"zucchini\"]}},\n",
    "      {\"name\":\"BBB\",\"species\":\"dog\",\"foods\":{\"likes\":[\"bones\",\"carrots\"],\"dislikes\":[\"tuna\"]}},\n",
    "      {\"name\":\"CCC\",\"species\":\"cat\",\"foods\":{\"likes\":[\"mice\"],\"dislikes\":[\"cookies\"]}}]\n",
    "\n",
    "name = []\n",
    "species = []\n",
    "likes = []\n",
    "dislikes = []\n",
    "\n",
    "for i in q8:\n",
    "    name.append(i[\"name\"])\n",
    "    species.append(i[\"species\"])\n",
    "    likes.append(i[\"foods\"][\"likes\"])\n",
    "    dislikes.append(i[\"foods\"][\"dislikes\"])\n",
    "    \n",
    "print(name)\n",
    "print(species)\n",
    "print(likes)\n",
    "print(dislikes)\n",
    "\n",
    "print()\n",
    "\n",
    "for i in range(len(name)):\n",
    "    print(name[i], species[i], likes[i], dislikes[i])\n",
    "    "
   ]
  },
  {
   "cell_type": "code",
   "execution_count": 45,
   "id": "e226bcf5",
   "metadata": {},
   "outputs": [
    {
     "name": "stdout",
     "output_type": "stream",
     "text": [
      "['AAA', 'BBB', 'CCC']\n",
      "['cat', 'dog', 'cat']\n",
      "[['tuna', 'catnip'], ['bones', 'carrots'], ['mice']]\n",
      "[['ham', 'zucchini'], ['tuna'], ['cookies']]\n",
      "\n",
      "AAA cat ['tuna', 'catnip'] ['ham', 'zucchini']\n",
      "BBB dog ['bones', 'carrots'] ['tuna']\n",
      "CCC cat ['mice'] ['cookies']\n"
     ]
    }
   ],
   "source": [
    "q8 = [{\"name\":\"AAA\",\"species\":\"cat\",\"foods\":{\"likes\":[\"tuna\",\"catnip\"],\"dislikes\":[\"ham\",\"zucchini\"]}},\n",
    "      {\"name\":\"BBB\",\"species\":\"dog\",\"foods\":{\"likes\":[\"bones\",\"carrots\"],\"dislikes\":[\"tuna\"]}},\n",
    "      {\"name\":\"CCC\",\"species\":\"cat\",\"foods\":{\"likes\":[\"mice\"],\"dislikes\":[\"cookies\"]}}]\n",
    "\n",
    "name = []\n",
    "species = []\n",
    "likes = []\n",
    "dislikes = []\n",
    "\n",
    "name = [i[\"name\"] for i in q8]\n",
    "species = [i[\"species\"] for i in q8]\n",
    "likes = [i[\"foods\"][\"likes\"] for i in q8]\n",
    "dislikes = [i[\"foods\"][\"dislikes\"] for i in q8]\n",
    "    \n",
    "print(name)\n",
    "print(species)\n",
    "print(likes)\n",
    "print(dislikes)\n",
    "\n",
    "print()\n",
    "\n",
    "for i in range(len(name)):\n",
    "    print(name[i], species[i], likes[i], dislikes[i])\n",
    "    "
   ]
  },
  {
   "cell_type": "code",
   "execution_count": 63,
   "id": "3836f3b3",
   "metadata": {},
   "outputs": [
    {
     "name": "stdout",
     "output_type": "stream",
     "text": [
      "['id1', 'id2', 'id3', 'id4', 'id5']\n",
      "['가나다1', '가나다2', '가나다3', '가나다4', '가나다5']\n",
      "[31, 32, 33, 34, 35]\n",
      "\n",
      "id1 가나다1 31\n",
      "id2 가나다2 32\n",
      "id3 가나다3 33\n",
      "id4 가나다4 34\n",
      "id5 가나다5 35\n"
     ]
    }
   ],
   "source": [
    "# 9. id, name, age를 각각 리스트에 담고 각각의 요소 짝지어 출력하기\n",
    "\n",
    "q9 = {\"ret\":\"y\",\"data\":[{\"id\":\"id1\",\"name\":\"가나다1\",\"age\":31},\n",
    "                        {\"id\":\"id2\",\"name\":\"가나다2\",\"age\":32},\n",
    "                        {\"id\":\"id3\",\"name\":\"가나다3\",\"age\":33},\n",
    "                        {\"id\":\"id4\",\"name\":\"가나다4\",\"age\":34},\n",
    "                        {\"id\":\"id5\",\"name\":\"가나다5\",\"age\":35}]}\n",
    "\n",
    "id_list = []\n",
    "name = []\n",
    "age = []\n",
    "\n",
    "for i in q9[\"data\"]:\n",
    "    id_list.append(i[\"id\"])\n",
    "    name.append(i[\"name\"])\n",
    "    age.append(i[\"age\"])\n",
    "  \n",
    "print(id_list)\n",
    "print(name)\n",
    "print(age)\n",
    "\n",
    "print()\n",
    "\n",
    "for i in range(len(id_list)):\n",
    "    print(id_list[i], name[i], age[i])\n"
   ]
  },
  {
   "cell_type": "code",
   "execution_count": 55,
   "id": "e4c4b4af",
   "metadata": {},
   "outputs": [
    {
     "name": "stdout",
     "output_type": "stream",
     "text": [
      "['id1', 'id2', 'id3', 'id4', 'id5']\n",
      "['가나다1', '가나다2', '가나다3', '가나다4', '가나다5']\n",
      "[31, 32, 33, 34, 35]\n",
      "\n",
      "id1 가나다1 31\n",
      "id2 가나다2 32\n",
      "id3 가나다3 33\n",
      "id4 가나다4 34\n",
      "id5 가나다5 35\n"
     ]
    }
   ],
   "source": [
    "q9 = {\"ret\":\"y\",\"data\":[{\"id\":\"id1\",\"name\":\"가나다1\",\"age\":31},\n",
    "                        {\"id\":\"id2\",\"name\":\"가나다2\",\"age\":32},\n",
    "                        {\"id\":\"id3\",\"name\":\"가나다3\",\"age\":33},\n",
    "                        {\"id\":\"id4\",\"name\":\"가나다4\",\"age\":34},\n",
    "                        {\"id\":\"id5\",\"name\":\"가나다5\",\"age\":35}]}\n",
    "\n",
    "id_list = []\n",
    "name = []\n",
    "age = []\n",
    "\n",
    "id_list = [i[\"id\"] for i in q9[\"data\"]]\n",
    "name = [i[\"name\"] for i in q9[\"data\"]]\n",
    "age = [i[\"age\"] for i in q9[\"data\"]]\n",
    "\n",
    "print(id_list)\n",
    "print(name)\n",
    "print(age)\n",
    "\n",
    "print()\n",
    "\n",
    "for i in range(len(id_list)):\n",
    "    print(id_list[i], name[i], age[i])\n"
   ]
  },
  {
   "cell_type": "code",
   "execution_count": 100,
   "id": "04d882e6",
   "metadata": {},
   "outputs": [
    {
     "name": "stdout",
     "output_type": "stream",
     "text": [
      "['id1', 'id2', 'id3', 'id4', 'id5']\n",
      "['가나다1', '가나다2', '가나다3', '가나다4', '가나다5']\n",
      "[31, 32, 33, 34, 35]\n",
      "[50, 90, 70, 80, 80]\n",
      "[90, 68, 76, 79, 78]\n",
      "[69, 80, 60, 50, 90]\n",
      "[209, 238, 206, 209, 248]\n",
      "\n",
      "id1 가나다1 31 50 90 69 209 \n",
      "id2 가나다2 32 90 68 80 238 \n",
      "id3 가나다3 33 70 76 60 206 \n",
      "id4 가나다4 34 80 79 50 209 \n",
      "id5 가나다5 35 80 78 90 248 \n"
     ]
    }
   ],
   "source": [
    "# 10. id, name, age, math, eng, kor (math, eng, kor) 합계를 각각 리스트에 담고 각각의 요소를 짝지어 출력하기\n",
    "\n",
    "q10 = {\"ret\":\"y\",\"data\":[{\"id\":\"id1\",\"name\":\"가나다1\",\"age\":31,\"score\":{\"math\":50,\"eng\":90,\"kor\":69}},\n",
    "                         {\"id\":\"id2\",\"name\":\"가나다2\",\"age\":32,\"score\":{\"math\":90,\"eng\":68,\"kor\":80}},\n",
    "                         {\"id\":\"id3\",\"name\":\"가나다3\",\"age\":33,\"score\":{\"math\":70,\"eng\":76,\"kor\":60}},\n",
    "                         {\"id\":\"id4\",\"name\":\"가나다4\",\"age\":34,\"score\":{\"math\":80,\"eng\":79,\"kor\":50}},\n",
    "                         {\"id\":\"id5\",\"name\":\"가나다5\",\"age\":35,\"score\":{\"math\":80,\"eng\":78,\"kor\":90}}]}\n",
    "\n",
    "id_list = []\n",
    "name = []\n",
    "age = []\n",
    "math = []\n",
    "eng = []\n",
    "kor = []\n",
    "total = []\n",
    "\n",
    "all_list = [id_list, name, age, math, eng, kor, total]\n",
    "\n",
    "for i in q10[\"data\"]:\n",
    "    id_list.append(i[\"id\"])\n",
    "    name.append(i[\"name\"])\n",
    "    age.append(i[\"age\"])\n",
    "    math.append(i[\"score\"][\"math\"])\n",
    "    eng.append(i[\"score\"][\"eng\"])\n",
    "    kor.append(i[\"score\"][\"kor\"])\n",
    "    total.append(i[\"score\"][\"math\"] + i[\"score\"][\"eng\"] + i[\"score\"][\"kor\"])\n",
    "    \n",
    "for i in all_list:\n",
    "    print(i)\n",
    "\n",
    "print()\n",
    "\n",
    "for i in range(len(id_list)):\n",
    "    for j in all_list:\n",
    "        print(j[i], end = \" \")\n",
    "    print()\n",
    "\n"
   ]
  },
  {
   "cell_type": "code",
   "execution_count": 116,
   "id": "a4c3747b",
   "metadata": {},
   "outputs": [
    {
     "name": "stdout",
     "output_type": "stream",
     "text": [
      "미션임파서블:고스트프로토콜\n",
      "마이 웨이\n",
      "셜록홈즈 : 그림자 게임\n",
      "퍼펙트 게임\n",
      "프렌즈: 몬스터섬의비밀 \n",
      "라이온 킹\n",
      "오싹한 연애\n",
      "극장판 포켓몬스터 베스트 위시「비크티니와 백의 영웅 레시라무」\n",
      "앨빈과 슈퍼밴드3\n",
      "극장판 포켓몬스터 베스트 위시 「비크티니와 흑의 영웅 제크로무」\n"
     ]
    }
   ],
   "source": [
    "# 11. 영화 제목만 추출된 리스트 생성하기\n",
    "\n",
    "q11 = {\"boxOfficeResult\":{\"boxofficeType\":\"일별 박스오피스\",\"showRange\":\"20120101~20120101\",\"dailyBoxOfficeList\":\n",
    "                          [{\"rnum\":\"1\",\"rank\":\"1\",\"rankInten\":\"0\",\"rankOldAndNew\":\"OLD\",\"movieCd\":\"20112207\",\"movieNm\":\"미션임파서블:고스트프로토콜\",\"openDt\":\"2011-12-15\",\"salesAmt\":\"2776060500\",\"salesShare\":\"36.3\",\"salesInten\":\"-415699000\",\"salesChange\":\"-13\",\"salesAcc\":\"40541108500\",\"audiCnt\":\"353274\",\"audiInten\":\"-60106\",\"audiChange\":\"-14.5\",\"audiAcc\":\"5328435\",\"scrnCnt\":\"697\",\"showCnt\":\"3223\"},\n",
    "                           {\"rnum\":\"2\",\"rank\":\"2\",\"rankInten\":\"1\",\"rankOldAndNew\":\"OLD\",\"movieCd\":\"20110295\",\"movieNm\":\"마이 웨이\",\"openDt\":\"2011-12-21\",\"salesAmt\":\"1189058500\",\"salesShare\":\"15.6\",\"salesInten\":\"-105894500\",\"salesChange\":\"-8.2\",\"salesAcc\":\"13002897500\",\"audiCnt\":\"153501\",\"audiInten\":\"-16465\",\"audiChange\":\"-9.7\",\"audiAcc\":\"1739543\",\"scrnCnt\":\"588\",\"showCnt\":\"2321\"},\n",
    "                           {\"rnum\":\"3\",\"rank\":\"3\",\"rankInten\":\"-1\",\"rankOldAndNew\":\"OLD\",\"movieCd\":\"20112621\",\"movieNm\":\"셜록홈즈 : 그림자 게임\",\"openDt\":\"2011-12-21\",\"salesAmt\":\"1176022500\",\"salesShare\":\"15.4\",\"salesInten\":\"-210328500\",\"salesChange\":\"-15.2\",\"salesAcc\":\"10678327500\",\"audiCnt\":\"153004\",\"audiInten\":\"-31283\",\"audiChange\":\"-17\",\"audiAcc\":\"1442861\",\"scrnCnt\":\"360\",\"showCnt\":\"1832\"},\n",
    "                           {\"rnum\":\"4\",\"rank\":\"4\",\"rankInten\":\"0\",\"rankOldAndNew\":\"OLD\",\"movieCd\":\"20113260\",\"movieNm\":\"퍼펙트 게임\",\"openDt\":\"2011-12-21\",\"salesAmt\":\"644532000\",\"salesShare\":\"8.4\",\"salesInten\":\"-75116500\",\"salesChange\":\"-10.4\",\"salesAcc\":\"6640940000\",\"audiCnt\":\"83644\",\"audiInten\":\"-12225\",\"audiChange\":\"-12.8\",\"audiAcc\":\"895416\",\"scrnCnt\":\"396\",\"showCnt\":\"1364\"},\n",
    "                           {\"rnum\":\"5\",\"rank\":\"5\",\"rankInten\":\"0\",\"rankOldAndNew\":\"OLD\",\"movieCd\":\"20113271\",\"movieNm\":\"프렌즈: 몬스터섬의비밀 \",\"openDt\":\"2011-12-29\",\"salesAmt\":\"436753500\",\"salesShare\":\"5.7\",\"salesInten\":\"-89051000\",\"salesChange\":\"-16.9\",\"salesAcc\":\"1523037000\",\"audiCnt\":\"55092\",\"audiInten\":\"-15568\",\"audiChange\":\"-22\",\"audiAcc\":\"202909\",\"scrnCnt\":\"290\",\"showCnt\":\"838\"},\n",
    "                           {\"rnum\":\"6\",\"rank\":\"6\",\"rankInten\":\"1\",\"rankOldAndNew\":\"OLD\",\"movieCd\":\"19940256\",\"movieNm\":\"라이온 킹\",\"openDt\":\"1994-07-02\",\"salesAmt\":\"507115500\",\"salesShare\":\"6.6\",\"salesInten\":\"-114593500\",\"salesChange\":\"-18.4\",\"salesAcc\":\"1841625000\",\"audiCnt\":\"45750\",\"audiInten\":\"-11699\",\"audiChange\":\"-20.4\",\"audiAcc\":\"171285\",\"scrnCnt\":\"244\",\"showCnt\":\"895\"},\n",
    "                           {\"rnum\":\"7\",\"rank\":\"7\",\"rankInten\":\"-1\",\"rankOldAndNew\":\"OLD\",\"movieCd\":\"20113381\",\"movieNm\":\"오싹한 연애\",\"openDt\":\"2011-12-01\",\"salesAmt\":\"344871000\",\"salesShare\":\"4.5\",\"salesInten\":\"-107005500\",\"salesChange\":\"-23.7\",\"salesAcc\":\"20634684500\",\"audiCnt\":\"45062\",\"audiInten\":\"-15926\",\"audiChange\":\"-26.1\",\"audiAcc\":\"2823060\",\"scrnCnt\":\"243\",\"showCnt\":\"839\"},\n",
    "                           {\"rnum\":\"8\",\"rank\":\"8\",\"rankInten\":\"0\",\"rankOldAndNew\":\"OLD\",\"movieCd\":\"20112709\",\"movieNm\":\"극장판 포켓몬스터 베스트 위시「비크티니와 백의 영웅 레시라무」\",\"openDt\":\"2011-12-22\",\"salesAmt\":\"167809500\",\"salesShare\":\"2.2\",\"salesInten\":\"-45900500\",\"salesChange\":\"-21.5\",\"salesAcc\":\"1897120000\",\"audiCnt\":\"24202\",\"audiInten\":\"-7756\",\"audiChange\":\"-24.3\",\"audiAcc\":\"285959\",\"scrnCnt\":\"186\",\"showCnt\":\"348\"},\n",
    "                           {\"rnum\":\"9\",\"rank\":\"9\",\"rankInten\":\"0\",\"rankOldAndNew\":\"OLD\",\"movieCd\":\"20113311\",\"movieNm\":\"앨빈과 슈퍼밴드3\",\"openDt\":\"2011-12-15\",\"salesAmt\":\"137030000\",\"salesShare\":\"1.8\",\"salesInten\":\"-35408000\",\"salesChange\":\"-20.5\",\"salesAcc\":\"3416675000\",\"audiCnt\":\"19729\",\"audiInten\":\"-6461\",\"audiChange\":\"-24.7\",\"audiAcc\":\"516289\",\"scrnCnt\":\"169\",\"showCnt\":\"359\"},\n",
    "                           {\"rnum\":\"10\",\"rank\":\"10\",\"rankInten\":\"0\",\"rankOldAndNew\":\"OLD\",\"movieCd\":\"20112708\",\"movieNm\":\"극장판 포켓몬스터 베스트 위시 「비크티니와 흑의 영웅 제크로무」\",\"openDt\":\"2011-12-22\",\"salesAmt\":\"125535500\",\"salesShare\":\"1.6\",\"salesInten\":\"-40756000\",\"salesChange\":\"-24.5\",\"salesAcc\":\"1595695000\",\"audiCnt\":\"17817\",\"audiInten\":\"-6554\",\"audiChange\":\"-26.9\",\"audiAcc\":\"235070\",\"scrnCnt\":\"175\",\"showCnt\":\"291\"}]}}\n",
    "\n",
    "movieNm_list = []\n",
    "\n",
    "for i in q11[\"boxOfficeResult\"][\"dailyBoxOfficeList\"]:\n",
    "    movieNm_list.append(i[\"movieNm\"])\n",
    "                          \n",
    "# print(movieNm_list)\n",
    "\n",
    "# for i in movieNm_list:\n",
    "#     print(i)\n",
    "\n",
    "print(*movieNm_list, sep=\"\\n\")\n"
   ]
  },
  {
   "cell_type": "code",
   "execution_count": 118,
   "id": "22628787",
   "metadata": {},
   "outputs": [
    {
     "name": "stdout",
     "output_type": "stream",
     "text": [
      "미션임파서블:고스트프로토콜\n",
      "마이 웨이\n",
      "셜록홈즈 : 그림자 게임\n",
      "퍼펙트 게임\n",
      "프렌즈: 몬스터섬의비밀 \n",
      "라이온 킹\n",
      "오싹한 연애\n",
      "극장판 포켓몬스터 베스트 위시「비크티니와 백의 영웅 레시라무」\n",
      "앨빈과 슈퍼밴드3\n",
      "극장판 포켓몬스터 베스트 위시 「비크티니와 흑의 영웅 제크로무」\n"
     ]
    }
   ],
   "source": [
    "movieNm_list = []\n",
    "\n",
    "movieNm_list = [i[\"movieNm\"] for i in q11[\"boxOfficeResult\"][\"dailyBoxOfficeList\"]]\n",
    "\n",
    "print(*movieNm_list, sep=\"\\n\")"
   ]
  },
  {
   "cell_type": "code",
   "execution_count": 127,
   "id": "c69cf498",
   "metadata": {},
   "outputs": [
    {
     "name": "stdout",
     "output_type": "stream",
     "text": [
      "{'name': '기사', 'hp': 200, 'mp': 30, 'level': 5, 'atk': 4, 'def': 3}\n"
     ]
    }
   ],
   "source": [
    "# 12. 두 리스트를 조합해 하나의 딕셔너리 만들기\n",
    "\n",
    "key_list = [\"name\", \"hp\", \"mp\", \"level\", \"atk\", \"def\"]\n",
    "value_list = [\"기사\", 200, 30, 5, 4, 3]\n",
    "character = dict()\n",
    "\n",
    "for i in range(len(key_list)):\n",
    "    character[key_list[i]] = value_list[i]\n",
    "    \n",
    "print(character)"
   ]
  },
  {
   "cell_type": "code",
   "execution_count": 134,
   "id": "cb878ae7",
   "metadata": {},
   "outputs": [
    {
     "name": "stdout",
     "output_type": "stream",
     "text": [
      "{'name': '기사', 'hp': 200, 'mp': 30, 'level': 5, 'atk': 4, 'def': 3}\n"
     ]
    }
   ],
   "source": [
    "key_list = [\"name\", \"hp\", \"mp\", \"level\", \"atk\", \"def\"]\n",
    "value_list = [\"기사\", 200, 30, 5, 4, 3]\n",
    "character = dict()\n",
    "\n",
    "character = {key_list[i]: value_list[i] for i in range(len(key_list))}\n",
    "\n",
    "print(character)"
   ]
  },
  {
   "cell_type": "code",
   "execution_count": 192,
   "id": "efef0406",
   "metadata": {},
   "outputs": [
    {
     "name": "stdout",
     "output_type": "stream",
     "text": [
      "{1: 3, 2: 4, 6: 1, 8: 2, 4: 3, 3: 3, 9: 3, 5: 2, 7: 2}\n"
     ]
    }
   ],
   "source": [
    "# 13. 리스트의 각 숫자가 몇 번 등장하는지 출력하는 코드 작성하기\n",
    "\n",
    "numbers = [1, 2, 6, 8, 4, 3, 2, 1, 9, 5, 4, 9, 7, 2, 1, 3, 5, 4, 8, 9, 7, 2, 3]\n",
    "\n",
    "counter = dict()\n",
    "\n",
    "for i in numbers:\n",
    "    counter[i] = numbers.count(i)\n",
    "    \n",
    "print(counter)"
   ]
  },
  {
   "cell_type": "code",
   "execution_count": 193,
   "id": "e871ffcb",
   "metadata": {},
   "outputs": [
    {
     "name": "stdout",
     "output_type": "stream",
     "text": [
      "{1: 3, 2: 4, 6: 1, 8: 2, 4: 3, 3: 3, 9: 3, 5: 2, 7: 2}\n"
     ]
    }
   ],
   "source": [
    "numbers = [1, 2, 6, 8, 4, 3, 2, 1, 9, 5, 4, 9, 7, 2, 1, 3, 5, 4, 8, 9, 7, 2, 3]\n",
    "\n",
    "counter = dict()\n",
    "\n",
    "counter = {i : numbers.count(i) for i in numbers}\n",
    "\n",
    "print(counter)"
   ]
  },
  {
   "cell_type": "code",
   "execution_count": 194,
   "id": "793ac439",
   "metadata": {},
   "outputs": [
    {
     "name": "stdout",
     "output_type": "stream",
     "text": [
      "{1: 3, 2: 4, 3: 3, 4: 3, 5: 2, 6: 1, 7: 2, 8: 2, 9: 3}\n"
     ]
    }
   ],
   "source": [
    "numbers = [1, 2, 6, 8, 4, 3, 2, 1, 9, 5, 4, 9, 7, 2, 1, 3, 5, 4, 8, 9, 7, 2, 3]\n",
    "\n",
    "counter = dict()\n",
    "\n",
    "for i in set(numbers):\n",
    "    counter[i] = numbers.count(i)\n",
    "    \n",
    "print(counter)\n",
    "    "
   ]
  },
  {
   "cell_type": "code",
   "execution_count": 195,
   "id": "04fa50e6",
   "metadata": {},
   "outputs": [
    {
     "name": "stdout",
     "output_type": "stream",
     "text": [
      "{1: 3, 2: 4, 3: 3, 4: 3, 5: 2, 6: 1, 7: 2, 8: 2, 9: 3}\n"
     ]
    }
   ],
   "source": [
    "numbers = [1, 2, 6, 8, 4, 3, 2, 1, 9, 5, 4, 9, 7, 2, 1, 3, 5, 4, 8, 9, 7, 2, 3]\n",
    "\n",
    "counter = dict()\n",
    "\n",
    "counter = {i : numbers.count(i) for i in set(numbers)}\n",
    "\n",
    "print(counter)"
   ]
  },
  {
   "cell_type": "code",
   "execution_count": 196,
   "id": "9532da3b",
   "metadata": {},
   "outputs": [
    {
     "name": "stdout",
     "output_type": "stream",
     "text": [
      "{1: 3, 2: 4, 6: 1, 8: 2, 4: 3, 3: 3, 9: 3, 5: 2, 7: 2}\n"
     ]
    }
   ],
   "source": [
    "numbers = [1, 2, 6, 8, 4, 3, 2, 1, 9, 5, 4, 9, 7, 2, 1, 3, 5, 4, 8, 9, 7, 2, 3]\n",
    "\n",
    "counter = dict()\n",
    "\n",
    "for i in numbers:\n",
    "    if i not in counter:\n",
    "        counter[i] = numbers.count(i)\n",
    "    \n",
    "print(counter)"
   ]
  },
  {
   "cell_type": "code",
   "execution_count": 197,
   "id": "7a8fa04d",
   "metadata": {},
   "outputs": [
    {
     "name": "stdout",
     "output_type": "stream",
     "text": [
      "{1: 3, 2: 4, 6: 1, 8: 2, 4: 3, 3: 3, 9: 3, 5: 2, 7: 2}\n"
     ]
    }
   ],
   "source": [
    "numbers = [1, 2, 6, 8, 4, 3, 2, 1, 9, 5, 4, 9, 7, 2, 1, 3, 5, 4, 8, 9, 7, 2, 3]\n",
    "\n",
    "counter = dict()\n",
    "\n",
    "counter = {i : numbers.count(i) for i in numbers if i not in counter}\n",
    "\n",
    "print(counter)"
   ]
  },
  {
   "cell_type": "code",
   "execution_count": 198,
   "id": "36c6d606",
   "metadata": {},
   "outputs": [
    {
     "name": "stdout",
     "output_type": "stream",
     "text": [
      "{1: 3, 2: 4, 6: 1, 8: 2, 4: 3, 3: 3, 9: 3, 5: 2, 7: 2}\n"
     ]
    }
   ],
   "source": [
    "numbers = [1, 2, 6, 8, 4, 3, 2, 1, 9, 5, 4, 9, 7, 2, 1, 3, 5, 4, 8, 9, 7, 2, 3]\n",
    "\n",
    "counter = dict()\n",
    "\n",
    "for i in numbers:\n",
    "    if i not in counter:\n",
    "        counter[i] = 1\n",
    "        \n",
    "    else:\n",
    "        counter[i] += 1\n",
    "        \n",
    "print(counter)"
   ]
  },
  {
   "cell_type": "code",
   "execution_count": 200,
   "id": "128815aa",
   "metadata": {},
   "outputs": [
    {
     "name": "stdout",
     "output_type": "stream",
     "text": [
      "{1: 3, 2: 4, 6: 1, 8: 2, 4: 3, 3: 3, 9: 3, 5: 2, 7: 2}\n"
     ]
    }
   ],
   "source": [
    "# 위 코드를 get() 메서드로 개선\n",
    "\n",
    "numbers = [1, 2, 6, 8, 4, 3, 2, 1, 9, 5, 4, 9, 7, 2, 1, 3, 5, 4, 8, 9, 7, 2, 3]\n",
    "\n",
    "counter = dict()\n",
    "\n",
    "for i in numbers:\n",
    "    counter[i] = counter.get(i, 0) +1\n",
    "    \n",
    "print(counter)"
   ]
  },
  {
   "cell_type": "code",
   "execution_count": null,
   "id": "eba0ccd5",
   "metadata": {},
   "outputs": [],
   "source": []
  }
 ],
 "metadata": {
  "kernelspec": {
   "display_name": "Python 3 (ipykernel)",
   "language": "python",
   "name": "python3"
  },
  "language_info": {
   "codemirror_mode": {
    "name": "ipython",
    "version": 3
   },
   "file_extension": ".py",
   "mimetype": "text/x-python",
   "name": "python",
   "nbconvert_exporter": "python",
   "pygments_lexer": "ipython3",
   "version": "3.11.5"
  }
 },
 "nbformat": 4,
 "nbformat_minor": 5
}
