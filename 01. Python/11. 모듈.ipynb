{
 "cells": [
  {
   "cell_type": "markdown",
   "id": "7b2b728b",
   "metadata": {},
   "source": [
    "# 모듈\n",
    "\n",
    "- 함수나 변수 또는 클래스를 모아 둔 파일\n",
    "- 다른 파이썬 프로그램에서 불러와 사용할 수 있게 만든 파이썬 파일\n",
    "\n",
    "- 종류\n",
    "    - 표준 모듈 : 파이썬에 기본적으로 내장되어 있는 모듈\n",
    "    - 외부 모듈 : 다른 사람들이 만들어서 공개한 모듈"
   ]
  },
  {
   "cell_type": "markdown",
   "id": "9322244a",
   "metadata": {},
   "source": [
    "# 모듈 사용\n",
    "\n",
    "- import 모듈\n",
    "- from 모듈 import 함수1, 함수2\n",
    "- from 모듈 import *"
   ]
  },
  {
   "cell_type": "code",
   "execution_count": 3,
   "id": "688c6ab1",
   "metadata": {},
   "outputs": [],
   "source": [
    "import fourcal_module"
   ]
  },
  {
   "cell_type": "code",
   "execution_count": 4,
   "id": "e53fa110",
   "metadata": {},
   "outputs": [
    {
     "name": "stdout",
     "output_type": "stream",
     "text": [
      "5\n"
     ]
    }
   ],
   "source": [
    "print(fourcal_module.add(2, 3))"
   ]
  },
  {
   "cell_type": "code",
   "execution_count": 5,
   "id": "7fca6e38",
   "metadata": {},
   "outputs": [
    {
     "name": "stdout",
     "output_type": "stream",
     "text": [
      "2\n"
     ]
    }
   ],
   "source": [
    "print(fourcal_module.sub(4, 2))"
   ]
  },
  {
   "cell_type": "code",
   "execution_count": 6,
   "id": "73b45220",
   "metadata": {},
   "outputs": [
    {
     "name": "stdout",
     "output_type": "stream",
     "text": [
      "15\n"
     ]
    }
   ],
   "source": [
    "print(fourcal_module.mul(5, 3))"
   ]
  },
  {
   "cell_type": "code",
   "execution_count": 7,
   "id": "733aef7a",
   "metadata": {},
   "outputs": [
    {
     "name": "stdout",
     "output_type": "stream",
     "text": [
      "3.0\n"
     ]
    }
   ],
   "source": [
    "print(fourcal_module.div(6, 2))"
   ]
  },
  {
   "cell_type": "code",
   "execution_count": 8,
   "id": "c0f60b86",
   "metadata": {},
   "outputs": [],
   "source": [
    "from fourcal_module import add, sub, mul, div"
   ]
  },
  {
   "cell_type": "code",
   "execution_count": 10,
   "id": "46949e3e",
   "metadata": {},
   "outputs": [
    {
     "data": {
      "text/plain": [
       "7"
      ]
     },
     "execution_count": 10,
     "metadata": {},
     "output_type": "execute_result"
    }
   ],
   "source": [
    "add(2, 5)"
   ]
  },
  {
   "cell_type": "code",
   "execution_count": 117,
   "id": "1807d7e0",
   "metadata": {},
   "outputs": [],
   "source": [
    "import converter"
   ]
  },
  {
   "cell_type": "code",
   "execution_count": 118,
   "id": "80320da1",
   "metadata": {},
   "outputs": [
    {
     "name": "stdout",
     "output_type": "stream",
     "text": [
      "160km = 99.41936miles\n"
     ]
    }
   ],
   "source": [
    "miles = converter.kilometer_to_miles(160)\n",
    "\n",
    "print(f\"160km = {miles}miles\")"
   ]
  },
  {
   "cell_type": "code",
   "execution_count": 119,
   "id": "cfe9ea93",
   "metadata": {},
   "outputs": [
    {
     "name": "stdout",
     "output_type": "stream",
     "text": [
      "1000g = 2.20462pounds\n"
     ]
    }
   ],
   "source": [
    "pounds = converter.gram_to_pounds(1000)\n",
    "print(f\"1000g = {pounds}pounds\")"
   ]
  },
  {
   "cell_type": "code",
   "execution_count": 120,
   "id": "da8f432e",
   "metadata": {},
   "outputs": [
    {
     "name": "stdout",
     "output_type": "stream",
     "text": [
      "160km = 99.41936 miles\n"
     ]
    }
   ],
   "source": [
    "miles = kilometer_to_miles(160)\n",
    "\n",
    "print(f\"160km = {miles} miles\")"
   ]
  },
  {
   "cell_type": "code",
   "execution_count": 121,
   "id": "b1bd0ad3",
   "metadata": {},
   "outputs": [
    {
     "ename": "NameError",
     "evalue": "name 'miles_to_kilometers' is not defined",
     "output_type": "error",
     "traceback": [
      "\u001b[1;31m---------------------------------------------------------------------------\u001b[0m",
      "\u001b[1;31mNameError\u001b[0m                                 Traceback (most recent call last)",
      "Cell \u001b[1;32mIn[121], line 1\u001b[0m\n\u001b[1;32m----> 1\u001b[0m kilometers \u001b[38;5;241m=\u001b[39m miles_to_kilometers(\u001b[38;5;241m100\u001b[39m)\n\u001b[0;32m      3\u001b[0m \u001b[38;5;28mprint\u001b[39m(\u001b[38;5;28mprint\u001b[39m(\u001b[38;5;124mf\u001b[39m\u001b[38;5;124m\"\u001b[39m\u001b[38;5;124m100 miles = \u001b[39m\u001b[38;5;132;01m{\u001b[39;00mkilometers\u001b[38;5;132;01m}\u001b[39;00m\u001b[38;5;124m km\u001b[39m\u001b[38;5;124m\"\u001b[39m))\n",
      "\u001b[1;31mNameError\u001b[0m: name 'miles_to_kilometers' is not defined"
     ]
    }
   ],
   "source": [
    "kilometers = miles_to_kilometers(100)\n",
    "\n",
    "print(print(f\"100 miles = {kilometers} km\"))"
   ]
  },
  {
   "cell_type": "code",
   "execution_count": 134,
   "id": "6b96db76",
   "metadata": {},
   "outputs": [],
   "source": [
    "import converter2"
   ]
  },
  {
   "cell_type": "code",
   "execution_count": 135,
   "id": "9485b6b6",
   "metadata": {},
   "outputs": [
    {
     "name": "stdout",
     "output_type": "stream",
     "text": [
      "100 miles = 160.93444978925635 km\n"
     ]
    }
   ],
   "source": [
    "kilometers = miles_to_kilometers(100)\n",
    "\n",
    "print(f\"100 miles = {kilometers} km\")"
   ]
  },
  {
   "cell_type": "code",
   "execution_count": 136,
   "id": "bf68a056",
   "metadata": {},
   "outputs": [
    {
     "name": "stdout",
     "output_type": "stream",
     "text": [
      "100 miles = 160.93444978925635 km\n"
     ]
    }
   ],
   "source": [
    "print(f\"100 miles = {kilometers} km\")"
   ]
  },
  {
   "cell_type": "markdown",
   "id": "c6a9fc55",
   "metadata": {},
   "source": [
    "# 별명 사용하기"
   ]
  },
  {
   "cell_type": "code",
   "execution_count": 34,
   "id": "29c935e3",
   "metadata": {},
   "outputs": [],
   "source": [
    "import converter as cvt"
   ]
  },
  {
   "cell_type": "code",
   "execution_count": 35,
   "id": "53a8c30d",
   "metadata": {},
   "outputs": [
    {
     "name": "stdout",
     "output_type": "stream",
     "text": [
      "93.20565\n"
     ]
    }
   ],
   "source": [
    "miles = cvt.kilometer_to_miles(150)\n",
    "print(miles)"
   ]
  },
  {
   "cell_type": "code",
   "execution_count": 37,
   "id": "510ce475",
   "metadata": {},
   "outputs": [
    {
     "data": {
      "text/plain": [
       "2.20462"
      ]
     },
     "execution_count": 37,
     "metadata": {},
     "output_type": "execute_result"
    }
   ],
   "source": [
    "pounds = cvt.gram_to_pounds(1000)\n",
    "pounds"
   ]
  },
  {
   "cell_type": "code",
   "execution_count": 38,
   "id": "12daf810",
   "metadata": {},
   "outputs": [],
   "source": [
    "from converter import kilometer_to_miles as k2m"
   ]
  },
  {
   "cell_type": "code",
   "execution_count": 39,
   "id": "224bb976",
   "metadata": {},
   "outputs": [
    {
     "name": "stdout",
     "output_type": "stream",
     "text": [
      "93.20565\n"
     ]
    }
   ],
   "source": [
    "miles = k2m(150)\n",
    "print(miles)"
   ]
  },
  {
   "cell_type": "markdown",
   "id": "626beab7",
   "metadata": {},
   "source": [
    "# 표준 모듈\n",
    "\n",
    "- 파이썬에 기본적으로 설치되어 있는 모듈\n",
    "- 별돌의 설치 없이 import 사용 가능"
   ]
  },
  {
   "cell_type": "markdown",
   "id": "1658e7dc",
   "metadata": {},
   "source": [
    "## math\n",
    "\n",
    "- 수학과 관련된 값과 함수를 제공"
   ]
  },
  {
   "cell_type": "code",
   "execution_count": 43,
   "id": "c94845e3",
   "metadata": {},
   "outputs": [],
   "source": [
    "import math"
   ]
  },
  {
   "cell_type": "code",
   "execution_count": 44,
   "id": "9f303b4d",
   "metadata": {},
   "outputs": [
    {
     "data": {
      "text/plain": [
       "3.141592653589793"
      ]
     },
     "execution_count": 44,
     "metadata": {},
     "output_type": "execute_result"
    }
   ],
   "source": [
    "math.pi"
   ]
  },
  {
   "cell_type": "code",
   "execution_count": 45,
   "id": "9d8857bf",
   "metadata": {},
   "outputs": [
    {
     "data": {
      "text/plain": [
       "9.869604401089358"
      ]
     },
     "execution_count": 45,
     "metadata": {},
     "output_type": "execute_result"
    }
   ],
   "source": [
    "math.pi**2"
   ]
  },
  {
   "cell_type": "code",
   "execution_count": 48,
   "id": "ddf40bac",
   "metadata": {},
   "outputs": [
    {
     "name": "stdout",
     "output_type": "stream",
     "text": [
      "2\n",
      "1\n"
     ]
    }
   ],
   "source": [
    "# 올림과 내림\n",
    "print(math.ceil(1.1)) # 올림\n",
    "print(math.floor(1.9)) # 내림"
   ]
  },
  {
   "cell_type": "code",
   "execution_count": 49,
   "id": "db3fea55",
   "metadata": {},
   "outputs": [
    {
     "name": "stdout",
     "output_type": "stream",
     "text": [
      "-1\n",
      "1\n"
     ]
    }
   ],
   "source": [
    "# 소수점 이하 절사\n",
    "print(math.trunc(-1.9))\n",
    "print(math.floor(1.9))"
   ]
  },
  {
   "cell_type": "code",
   "execution_count": 66,
   "id": "efd32c46",
   "metadata": {},
   "outputs": [
    {
     "data": {
      "text/plain": [
       "5.0"
      ]
     },
     "execution_count": 66,
     "metadata": {},
     "output_type": "execute_result"
    }
   ],
   "source": [
    "# 제곱근\n",
    "math.sqrt(25)  # 루트"
   ]
  },
  {
   "cell_type": "markdown",
   "id": "edfc08db",
   "metadata": {},
   "source": [
    "# 램덤\n",
    "- 난수 생성 모듈"
   ]
  },
  {
   "cell_type": "markdown",
   "id": "aeef2f57",
   "metadata": {},
   "source": [
    "### randrange\n",
    "\n",
    "- 특정 범위에 속한 정수 중에서 하나를 임의로 생성"
   ]
  },
  {
   "cell_type": "code",
   "execution_count": 77,
   "id": "5ad117a8",
   "metadata": {},
   "outputs": [],
   "source": [
    "import random"
   ]
  },
  {
   "cell_type": "code",
   "execution_count": 88,
   "id": "13013893",
   "metadata": {},
   "outputs": [
    {
     "data": {
      "text/plain": [
       "3"
      ]
     },
     "execution_count": 88,
     "metadata": {},
     "output_type": "execute_result"
    }
   ],
   "source": [
    "random.randrange(1, 10, 2)"
   ]
  },
  {
   "cell_type": "markdown",
   "id": "b0244b5b",
   "metadata": {},
   "source": [
    "- random()\n",
    "    - 0 이상 1 미만 범위에서 임의의 실수를 생성\n",
    "    - 0% 이상 100% 미만으로 확률을 처리할 때도 사용\n",
    " "
   ]
  },
  {
   "cell_type": "code",
   "execution_count": 70,
   "id": "ca82ae85",
   "metadata": {},
   "outputs": [
    {
     "data": {
      "text/plain": [
       "0.11819693582655133"
      ]
     },
     "execution_count": 70,
     "metadata": {},
     "output_type": "execute_result"
    }
   ],
   "source": [
    "random.random()"
   ]
  },
  {
   "cell_type": "markdown",
   "id": "ea73f1ec",
   "metadata": {},
   "source": [
    "- choice()\n",
    "    - 전달된 시퀀스 자료형에 속한 요소중에서 하나를 임의로 반환"
   ]
  },
  {
   "cell_type": "code",
   "execution_count": 89,
   "id": "d72a714f",
   "metadata": {},
   "outputs": [
    {
     "data": {
      "text/plain": [
       "'winter'"
      ]
     },
     "execution_count": 89,
     "metadata": {},
     "output_type": "execute_result"
    }
   ],
   "source": [
    "seasons = [\"spring\", \"summer\", \"fall\", \"winter\"]\n",
    "random.choice(seasons)"
   ]
  },
  {
   "cell_type": "markdown",
   "id": "693e2c2c",
   "metadata": {},
   "source": [
    "- sample()\n",
    "    - 전달된 시퀀스 자료형에 속한 요소 중 지정된 개수의 요소를 임의로 반환\n",
    "    - 반환 결과는 리스트 자료형\n",
    "    - 중복 없이 선택"
   ]
  },
  {
   "cell_type": "code",
   "execution_count": 90,
   "id": "5113bf5d",
   "metadata": {},
   "outputs": [
    {
     "data": {
      "text/plain": [
       "[23, 26, 13, 8, 3, 2]"
      ]
     },
     "execution_count": 90,
     "metadata": {},
     "output_type": "execute_result"
    }
   ],
   "source": [
    "random.sample(range(1, 46), 6)"
   ]
  },
  {
   "cell_type": "code",
   "execution_count": 92,
   "id": "c093ad45",
   "metadata": {},
   "outputs": [
    {
     "data": {
      "text/plain": [
       "[9, 22, 26, 38, 40, 41]"
      ]
     },
     "execution_count": 92,
     "metadata": {},
     "output_type": "execute_result"
    }
   ],
   "source": [
    "sorted(random.sample(range(1, 46), 6))"
   ]
  },
  {
   "cell_type": "markdown",
   "id": "5f35c200",
   "metadata": {},
   "source": [
    "## time\n",
    "\n",
    "- 시간처리와 관련된 모듈"
   ]
  },
  {
   "cell_type": "code",
   "execution_count": 93,
   "id": "02d541ba",
   "metadata": {},
   "outputs": [],
   "source": [
    "import time"
   ]
  },
  {
   "cell_type": "markdown",
   "id": "d1bcec44",
   "metadata": {},
   "source": [
    "- time()\n",
    "    - 1970년 1월 1일 0시 0분 0초부터 현재까지 경과된 시간을 반환(UNIX OS 배포 날짜)\n",
    "    - 소수점이하는 마이크로초를 의미"
   ]
  },
  {
   "cell_type": "code",
   "execution_count": 94,
   "id": "07a03ebb",
   "metadata": {},
   "outputs": [
    {
     "data": {
      "text/plain": [
       "1704694261.5505595"
      ]
     },
     "execution_count": 94,
     "metadata": {},
     "output_type": "execute_result"
    }
   ],
   "source": [
    "time.time()"
   ]
  },
  {
   "cell_type": "code",
   "execution_count": 95,
   "id": "2a1d1c29",
   "metadata": {},
   "outputs": [
    {
     "data": {
      "text/plain": [
       "1704694287.765318"
      ]
     },
     "execution_count": 95,
     "metadata": {},
     "output_type": "execute_result"
    }
   ],
   "source": [
    "time.time()"
   ]
  },
  {
   "cell_type": "markdown",
   "id": "c22b2501",
   "metadata": {},
   "source": [
    "- ctime()\n",
    "    - 인수로 전달된 시간을 형식을 갖춰 반환"
   ]
  },
  {
   "cell_type": "code",
   "execution_count": 97,
   "id": "96732f69",
   "metadata": {},
   "outputs": [
    {
     "data": {
      "text/plain": [
       "'Mon Jan  8 15:12:47 2024'"
      ]
     },
     "execution_count": 97,
     "metadata": {},
     "output_type": "execute_result"
    }
   ],
   "source": [
    "time.ctime(time.time())"
   ]
  },
  {
   "cell_type": "markdown",
   "id": "b30ea1b2",
   "metadata": {},
   "source": [
    "- sleep()\n",
    "    - 인수로 전달된 초 만큼 일시 정지"
   ]
  },
  {
   "cell_type": "code",
   "execution_count": 98,
   "id": "027494bf",
   "metadata": {},
   "outputs": [],
   "source": [
    "# 1초간 일시 정지\n",
    "time.sleep(1)"
   ]
  },
  {
   "cell_type": "code",
   "execution_count": 99,
   "id": "75c59b01",
   "metadata": {},
   "outputs": [
    {
     "name": "stdout",
     "output_type": "stream",
     "text": [
      "1.0010871887207031\n"
     ]
    }
   ],
   "source": [
    "s = time.time()\n",
    "time.sleep(1)\n",
    "print(time.time() - s)"
   ]
  },
  {
   "cell_type": "markdown",
   "id": "e75bea28",
   "metadata": {},
   "source": [
    "## datetime\n",
    "\n",
    "- 날짜와 시간 데이터를 처리"
   ]
  },
  {
   "cell_type": "markdown",
   "id": "608def5e",
   "metadata": {},
   "source": [
    "- now()\n",
    "    - 시스템의 현재 날짜와 시간을 반환"
   ]
  },
  {
   "cell_type": "code",
   "execution_count": 100,
   "id": "b2175f8e",
   "metadata": {},
   "outputs": [],
   "source": [
    "import datetime"
   ]
  },
  {
   "cell_type": "code",
   "execution_count": 102,
   "id": "a0a16e40",
   "metadata": {},
   "outputs": [
    {
     "name": "stdout",
     "output_type": "stream",
     "text": [
      "2024-01-08 15:19:19.910570\n"
     ]
    }
   ],
   "source": [
    "print(datetime.datetime.now())"
   ]
  },
  {
   "cell_type": "markdown",
   "id": "9909c535",
   "metadata": {},
   "source": [
    "- date()\n",
    "    - 특정 날짜를 만들어서 반환"
   ]
  },
  {
   "cell_type": "code",
   "execution_count": 103,
   "id": "90a524d0",
   "metadata": {},
   "outputs": [
    {
     "name": "stdout",
     "output_type": "stream",
     "text": [
      "2024-01-10\n"
     ]
    }
   ],
   "source": [
    "print(datetime.date(2024, 1, 10))"
   ]
  },
  {
   "cell_type": "markdown",
   "id": "dc46013b",
   "metadata": {},
   "source": [
    "- 날짜/시간 관련 속성값"
   ]
  },
  {
   "cell_type": "code",
   "execution_count": 104,
   "id": "c26935ae",
   "metadata": {},
   "outputs": [],
   "source": [
    "today = datetime.datetime.now()"
   ]
  },
  {
   "cell_type": "code",
   "execution_count": 105,
   "id": "5dd987bc",
   "metadata": {},
   "outputs": [
    {
     "data": {
      "text/plain": [
       "2024"
      ]
     },
     "execution_count": 105,
     "metadata": {},
     "output_type": "execute_result"
    }
   ],
   "source": [
    "today.year"
   ]
  },
  {
   "cell_type": "code",
   "execution_count": 106,
   "id": "0170368f",
   "metadata": {},
   "outputs": [
    {
     "data": {
      "text/plain": [
       "1"
      ]
     },
     "execution_count": 106,
     "metadata": {},
     "output_type": "execute_result"
    }
   ],
   "source": [
    "today.month"
   ]
  },
  {
   "cell_type": "code",
   "execution_count": 107,
   "id": "0989eabe",
   "metadata": {},
   "outputs": [
    {
     "data": {
      "text/plain": [
       "8"
      ]
     },
     "execution_count": 107,
     "metadata": {},
     "output_type": "execute_result"
    }
   ],
   "source": [
    "today.day"
   ]
  },
  {
   "cell_type": "code",
   "execution_count": 108,
   "id": "6dabe9e6",
   "metadata": {},
   "outputs": [
    {
     "data": {
      "text/plain": [
       "15"
      ]
     },
     "execution_count": 108,
     "metadata": {},
     "output_type": "execute_result"
    }
   ],
   "source": [
    "today.hour"
   ]
  },
  {
   "cell_type": "code",
   "execution_count": 109,
   "id": "4d289be4",
   "metadata": {},
   "outputs": [
    {
     "data": {
      "text/plain": [
       "21"
      ]
     },
     "execution_count": 109,
     "metadata": {},
     "output_type": "execute_result"
    }
   ],
   "source": [
    "today.minute"
   ]
  },
  {
   "cell_type": "code",
   "execution_count": 110,
   "id": "6b4c88a9",
   "metadata": {},
   "outputs": [
    {
     "data": {
      "text/plain": [
       "49"
      ]
     },
     "execution_count": 110,
     "metadata": {},
     "output_type": "execute_result"
    }
   ],
   "source": [
    "today.second"
   ]
  },
  {
   "cell_type": "markdown",
   "id": "d1b73231",
   "metadata": {},
   "source": [
    " - timedelta()\n",
    "     - 날짜/시간 데이터의 연산을 위해 사용"
   ]
  },
  {
   "cell_type": "code",
   "execution_count": 112,
   "id": "e5356b32",
   "metadata": {},
   "outputs": [],
   "source": [
    "today = datetime.datetime.now()\n",
    "yesterday = today - datetime.timedelta(days = 1)\n",
    "tomorrow = today + datetime.timedelta(days = 1)"
   ]
  },
  {
   "cell_type": "code",
   "execution_count": 113,
   "id": "3eab90cd",
   "metadata": {},
   "outputs": [
    {
     "name": "stdout",
     "output_type": "stream",
     "text": [
      "2024-01-07 15:27:49.175419\n"
     ]
    }
   ],
   "source": [
    "print(yesterday)"
   ]
  },
  {
   "cell_type": "code",
   "execution_count": 114,
   "id": "b59605ff",
   "metadata": {},
   "outputs": [
    {
     "name": "stdout",
     "output_type": "stream",
     "text": [
      "2024-01-09 15:27:49.175419\n"
     ]
    }
   ],
   "source": [
    "print(tomorrow)"
   ]
  },
  {
   "cell_type": "markdown",
   "id": "a6424cce",
   "metadata": {},
   "source": [
    "# 패키지\n",
    "\n",
    "- 모듈의 집합\n",
    "- 모듈은 기본적으로 패키지의 형태로 배포됨\n",
    "- 파이썬에서 기본적으로 제공하지 않는 외부에서 만들어진 패키지를 외부모듈이라고 함"
   ]
  },
  {
   "cell_type": "markdown",
   "id": "0197be84",
   "metadata": {},
   "source": [
    "## 패키지 관리자\n",
    "\n",
    "- 패키지의 추가나 삭제와 같은 작업을 수행하기 위해 사용\n",
    "    - pip\n",
    "    - conda\n",
    "    \n",
    "- 설치 명령어\n",
    "    - pip install (package)\n",
    "    - conda install (package)\n",
    "    \n",
    "- 삭제 명령어\n",
    "    - pip uninstall (package)\n",
    "    - conda uninstall (package)"
   ]
  },
  {
   "cell_type": "code",
   "execution_count": 115,
   "id": "b41d38bc",
   "metadata": {},
   "outputs": [],
   "source": [
    "import numpy as np"
   ]
  },
  {
   "cell_type": "code",
   "execution_count": 116,
   "id": "7829541a",
   "metadata": {},
   "outputs": [
    {
     "data": {
      "text/plain": [
       "15"
      ]
     },
     "execution_count": 116,
     "metadata": {},
     "output_type": "execute_result"
    }
   ],
   "source": [
    "np.sum([1, 2, 3, 4, 5])"
   ]
  },
  {
   "cell_type": "code",
   "execution_count": null,
   "id": "815b0ac6",
   "metadata": {},
   "outputs": [],
   "source": []
  }
 ],
 "metadata": {
  "kernelspec": {
   "display_name": "Python 3 (ipykernel)",
   "language": "python",
   "name": "python3"
  },
  "language_info": {
   "codemirror_mode": {
    "name": "ipython",
    "version": 3
   },
   "file_extension": ".py",
   "mimetype": "text/x-python",
   "name": "python",
   "nbconvert_exporter": "python",
   "pygments_lexer": "ipython3",
   "version": "3.11.5"
  }
 },
 "nbformat": 4,
 "nbformat_minor": 5
}
