{
 "cells": [
  {
   "cell_type": "markdown",
   "id": "ae0ef954",
   "metadata": {},
   "source": [
    "- mutable : 생성된 후에 변경이 가능한 자료형\n",
    "    - 리스트, 세트, 딕셔너리\n",
    "    \n",
    "- immutable : 생성된 후에 변경이 불가능한 자료형\n",
    "    - 정수, 실수, 문자열, 튜플"
   ]
  },
  {
   "cell_type": "markdown",
   "id": "52190e79",
   "metadata": {},
   "source": [
    "# mutable"
   ]
  },
  {
   "cell_type": "code",
   "execution_count": 1,
   "id": "e5e481c7",
   "metadata": {},
   "outputs": [
    {
     "data": {
      "text/plain": [
       "1719973714112"
      ]
     },
     "execution_count": 1,
     "metadata": {},
     "output_type": "execute_result"
    }
   ],
   "source": [
    "# id() : 변수나 자료형의 메모리 주소를 확인\n",
    "me = [1, 2, 3]\n",
    "id(me)"
   ]
  },
  {
   "cell_type": "code",
   "execution_count": 3,
   "id": "aca95442",
   "metadata": {},
   "outputs": [
    {
     "data": {
      "text/plain": [
       "1719973714112"
      ]
     },
     "execution_count": 3,
     "metadata": {},
     "output_type": "execute_result"
    }
   ],
   "source": [
    "me.append(4)\n",
    "id(me)"
   ]
  },
  {
   "cell_type": "markdown",
   "id": "97743fb9",
   "metadata": {},
   "source": [
    "# immutable"
   ]
  },
  {
   "cell_type": "code",
   "execution_count": 4,
   "id": "39810baa",
   "metadata": {},
   "outputs": [
    {
     "data": {
      "text/plain": [
       "140709456286792"
      ]
     },
     "execution_count": 4,
     "metadata": {},
     "output_type": "execute_result"
    }
   ],
   "source": [
    "me = 10\n",
    "id(me)"
   ]
  },
  {
   "cell_type": "code",
   "execution_count": 5,
   "id": "a208b9cc",
   "metadata": {},
   "outputs": [
    {
     "data": {
      "text/plain": [
       "140709456286824"
      ]
     },
     "execution_count": 5,
     "metadata": {},
     "output_type": "execute_result"
    }
   ],
   "source": [
    "me += 1\n",
    "id(me)"
   ]
  },
  {
   "cell_type": "markdown",
   "id": "3f3405d5",
   "metadata": {},
   "source": [
    "# mutable의 특징"
   ]
  },
  {
   "cell_type": "code",
   "execution_count": 6,
   "id": "f3aaeb57",
   "metadata": {},
   "outputs": [],
   "source": [
    "me = [1, 2, 3]\n",
    "you = me"
   ]
  },
  {
   "cell_type": "code",
   "execution_count": 7,
   "id": "abed891f",
   "metadata": {},
   "outputs": [
    {
     "name": "stdout",
     "output_type": "stream",
     "text": [
      "1719973266624\n",
      "1719973266624\n"
     ]
    }
   ],
   "source": [
    "print(id(you))\n",
    "print(id(me))"
   ]
  },
  {
   "cell_type": "code",
   "execution_count": 8,
   "id": "acd61a77",
   "metadata": {},
   "outputs": [],
   "source": [
    "you.append(4)"
   ]
  },
  {
   "cell_type": "code",
   "execution_count": 9,
   "id": "1c1e5f2f",
   "metadata": {},
   "outputs": [
    {
     "name": "stdout",
     "output_type": "stream",
     "text": [
      "[1, 2, 3, 4]\n"
     ]
    }
   ],
   "source": [
    "print(you)"
   ]
  },
  {
   "cell_type": "code",
   "execution_count": 10,
   "id": "bce7a853",
   "metadata": {},
   "outputs": [
    {
     "name": "stdout",
     "output_type": "stream",
     "text": [
      "[1, 2, 3, 4]\n"
     ]
    }
   ],
   "source": [
    "print(me)"
   ]
  },
  {
   "cell_type": "markdown",
   "id": "b91251bb",
   "metadata": {},
   "source": [
    "# 리스트의 복사"
   ]
  },
  {
   "cell_type": "code",
   "execution_count": 11,
   "id": "ae153575",
   "metadata": {},
   "outputs": [
    {
     "name": "stdout",
     "output_type": "stream",
     "text": [
      "[1, 2, 3, 4]\n",
      "1719973266624\n"
     ]
    }
   ],
   "source": [
    "print(me)\n",
    "print(id(me))"
   ]
  },
  {
   "cell_type": "code",
   "execution_count": 14,
   "id": "869c7d5d",
   "metadata": {},
   "outputs": [],
   "source": [
    "you = me[:]"
   ]
  },
  {
   "cell_type": "code",
   "execution_count": 17,
   "id": "c8adcb27",
   "metadata": {},
   "outputs": [
    {
     "name": "stdout",
     "output_type": "stream",
     "text": [
      "[1, 2, 3, 4]\n",
      "1719973712448\n"
     ]
    }
   ],
   "source": [
    "print(you)\n",
    "print(id(you))"
   ]
  },
  {
   "cell_type": "code",
   "execution_count": 18,
   "id": "a4872740",
   "metadata": {},
   "outputs": [],
   "source": [
    "me.append(5)"
   ]
  },
  {
   "cell_type": "code",
   "execution_count": 19,
   "id": "2864fdc6",
   "metadata": {},
   "outputs": [
    {
     "name": "stdout",
     "output_type": "stream",
     "text": [
      "[1, 2, 3, 4]\n",
      "1719973712448\n"
     ]
    }
   ],
   "source": [
    "print(you)\n",
    "print(id(you))"
   ]
  },
  {
   "cell_type": "code",
   "execution_count": 20,
   "id": "4196eaef",
   "metadata": {},
   "outputs": [],
   "source": [
    "# copy 함수 사용\n",
    "you = me.copy()"
   ]
  },
  {
   "cell_type": "code",
   "execution_count": 21,
   "id": "7bfb0919",
   "metadata": {},
   "outputs": [
    {
     "name": "stdout",
     "output_type": "stream",
     "text": [
      "[1, 2, 3, 4, 5]\n",
      "1719973266624\n",
      "1719972962240\n"
     ]
    }
   ],
   "source": [
    "print(you)\n",
    "print(id(me))\n",
    "print(id(you))"
   ]
  },
  {
   "cell_type": "code",
   "execution_count": 22,
   "id": "287eba9e",
   "metadata": {},
   "outputs": [],
   "source": [
    "me.append(6)"
   ]
  },
  {
   "cell_type": "code",
   "execution_count": 23,
   "id": "8fc5143f",
   "metadata": {},
   "outputs": [
    {
     "name": "stdout",
     "output_type": "stream",
     "text": [
      "[1, 2, 3, 4, 5, 6]\n",
      "[1, 2, 3, 4, 5]\n"
     ]
    }
   ],
   "source": [
    "print(me)\n",
    "print(you)"
   ]
  },
  {
   "cell_type": "code",
   "execution_count": null,
   "id": "a50ee0ca",
   "metadata": {},
   "outputs": [],
   "source": []
  }
 ],
 "metadata": {
  "kernelspec": {
   "display_name": "Python 3 (ipykernel)",
   "language": "python",
   "name": "python3"
  },
  "language_info": {
   "codemirror_mode": {
    "name": "ipython",
    "version": 3
   },
   "file_extension": ".py",
   "mimetype": "text/x-python",
   "name": "python",
   "nbconvert_exporter": "python",
   "pygments_lexer": "ipython3",
   "version": "3.11.5"
  }
 },
 "nbformat": 4,
 "nbformat_minor": 5
}
