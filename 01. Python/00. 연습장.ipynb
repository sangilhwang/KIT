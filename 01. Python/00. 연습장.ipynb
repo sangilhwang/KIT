{
 "cells": [
  {
   "cell_type": "code",
   "execution_count": 1,
   "id": "0d338836",
   "metadata": {},
   "outputs": [
    {
     "data": {
      "text/plain": [
       "'0x10'"
      ]
     },
     "execution_count": 1,
     "metadata": {},
     "output_type": "execute_result"
    }
   ],
   "source": [
    "hex(16)"
   ]
  },
  {
   "cell_type": "code",
   "execution_count": 2,
   "id": "9726c7d2",
   "metadata": {},
   "outputs": [
    {
     "data": {
      "text/plain": [
       "'0x11'"
      ]
     },
     "execution_count": 2,
     "metadata": {},
     "output_type": "execute_result"
    }
   ],
   "source": [
    "hex(17)"
   ]
  },
  {
   "cell_type": "code",
   "execution_count": 3,
   "id": "3f177e22",
   "metadata": {},
   "outputs": [
    {
     "data": {
      "text/plain": [
       "'0x16'"
      ]
     },
     "execution_count": 3,
     "metadata": {},
     "output_type": "execute_result"
    }
   ],
   "source": [
    "hex(22)"
   ]
  },
  {
   "cell_type": "code",
   "execution_count": 4,
   "id": "6f9087c6",
   "metadata": {},
   "outputs": [
    {
     "data": {
      "text/plain": [
       "'0x1f'"
      ]
     },
     "execution_count": 4,
     "metadata": {},
     "output_type": "execute_result"
    }
   ],
   "source": [
    "hex(31)"
   ]
  },
  {
   "cell_type": "markdown",
   "id": "98e79943",
   "metadata": {},
   "source": [
    "0 = 0\n",
    "\n",
    "1 = 1\n",
    "\n",
    "2 = 2\n",
    "\n",
    "3 = 3\n",
    "\n",
    "4 = 4\n",
    "\n",
    "5 = 5\n",
    "\n",
    "6 = 6\n",
    "\n",
    "7 = 7 \n",
    "\n",
    "8 = 8\n",
    "\n",
    "9 = 9\n",
    "\n",
    "10 = a\n",
    "\n",
    "11 = b\n",
    "\n",
    "12 = c\n",
    "\n",
    "13 = d\n",
    "\n",
    "14 = e\n",
    "\n",
    "15 = f\n"
   ]
  },
  {
   "cell_type": "code",
   "execution_count": 51,
   "id": "ac15125f",
   "metadata": {},
   "outputs": [
    {
     "data": {
      "text/plain": [
       "420"
      ]
     },
     "execution_count": 51,
     "metadata": {},
     "output_type": "execute_result"
    }
   ],
   "source": [
    "0x1a4"
   ]
  },
  {
   "cell_type": "code",
   "execution_count": 6,
   "id": "d53c754e",
   "metadata": {},
   "outputs": [
    {
     "data": {
      "text/plain": [
       "1024"
      ]
     },
     "execution_count": 6,
     "metadata": {},
     "output_type": "execute_result"
    }
   ],
   "source": [
    "2 ** 10"
   ]
  },
  {
   "cell_type": "code",
   "execution_count": 7,
   "id": "41111cc8",
   "metadata": {},
   "outputs": [
    {
     "data": {
      "text/plain": [
       "81"
      ]
     },
     "execution_count": 7,
     "metadata": {},
     "output_type": "execute_result"
    }
   ],
   "source": [
    "3 ** 4"
   ]
  },
  {
   "cell_type": "code",
   "execution_count": 8,
   "id": "346c3aca",
   "metadata": {},
   "outputs": [
    {
     "data": {
      "text/plain": [
       "1.1592740743"
      ]
     },
     "execution_count": 8,
     "metadata": {},
     "output_type": "execute_result"
    }
   ],
   "source": [
    "1.03 ** 5"
   ]
  },
  {
   "cell_type": "code",
   "execution_count": 49,
   "id": "161d66d3",
   "metadata": {},
   "outputs": [],
   "source": [
    "years = 0\n",
    "balance = 100\n",
    "profit_rate = 1.05"
   ]
  },
  {
   "cell_type": "code",
   "execution_count": 50,
   "id": "655c82da",
   "metadata": {},
   "outputs": [
    {
     "name": "stdout",
     "output_type": "stream",
     "text": [
      "15\n",
      "207.893\n"
     ]
    }
   ],
   "source": [
    "while balance < 200:\n",
    "    years += 1\n",
    "    balance *= profit_rate\n",
    "    \n",
    "print(years)\n",
    "print(\"%.3f\"%balance)"
   ]
  },
  {
   "cell_type": "code",
   "execution_count": null,
   "id": "a2f6147f",
   "metadata": {},
   "outputs": [],
   "source": []
  },
  {
   "cell_type": "code",
   "execution_count": 73,
   "id": "abf1a3ed",
   "metadata": {},
   "outputs": [],
   "source": [
    "li = [2, 10, 3, 5, 7, 5, 6, 8]    "
   ]
  },
  {
   "cell_type": "code",
   "execution_count": 34,
   "id": "8ee0ee7c",
   "metadata": {},
   "outputs": [],
   "source": [
    "def list_minimum(args):\n",
    "    minimum = args[0]\n",
    "        \n",
    "    for i in range(len(args)):\n",
    "        if args[i] < minimum:\n",
    "            minimum = args[i]\n",
    "            \n",
    "    return(minimum)\n",
    "    \n",
    "        \n",
    "    "
   ]
  },
  {
   "cell_type": "code",
   "execution_count": 35,
   "id": "dd4dd9b1",
   "metadata": {},
   "outputs": [
    {
     "data": {
      "text/plain": [
       "2"
      ]
     },
     "execution_count": 35,
     "metadata": {},
     "output_type": "execute_result"
    }
   ],
   "source": [
    "list_minimum(li)"
   ]
  },
  {
   "cell_type": "code",
   "execution_count": null,
   "id": "4634c9a0",
   "metadata": {},
   "outputs": [],
   "source": []
  },
  {
   "cell_type": "code",
   "execution_count": null,
   "id": "e2a389f0",
   "metadata": {},
   "outputs": [],
   "source": [
    "li = [2, 10, 3, 5, 7, 5, 6, 8]    "
   ]
  },
  {
   "cell_type": "code",
   "execution_count": 36,
   "id": "fad6457f",
   "metadata": {},
   "outputs": [],
   "source": [
    "def list_maximum(args):\n",
    "    maximum = args[0]\n",
    "    \n",
    "    for i in range(len(args)):\n",
    "        if args[i] > maximum:\n",
    "            maximum = args[i]\n",
    "            \n",
    "    return(maximum)"
   ]
  },
  {
   "cell_type": "code",
   "execution_count": 37,
   "id": "09ec80c0",
   "metadata": {},
   "outputs": [
    {
     "data": {
      "text/plain": [
       "10"
      ]
     },
     "execution_count": 37,
     "metadata": {},
     "output_type": "execute_result"
    }
   ],
   "source": [
    "list_maximum(li)"
   ]
  },
  {
   "cell_type": "code",
   "execution_count": null,
   "id": "35bf4a1b",
   "metadata": {},
   "outputs": [],
   "source": []
  },
  {
   "cell_type": "code",
   "execution_count": 120,
   "id": "dfb3366c",
   "metadata": {},
   "outputs": [],
   "source": [
    "li = [2, 10, 3, 5, 7, 5, 6, 8]"
   ]
  },
  {
   "cell_type": "code",
   "execution_count": 121,
   "id": "fe382903",
   "metadata": {},
   "outputs": [],
   "source": [
    "def sort_list(args, order = \"straight\"):\n",
    "    instance_list = []\n",
    "    instance_remove_list = []\n",
    "    \n",
    "    instance_remove_list += args\n",
    "    \n",
    "    if order == \"straight\":\n",
    "        for _ in range(len(instance_remove_list)):\n",
    "            instance_list.append(list_minimum(instance_remove_list))\n",
    "            instance_remove_list.remove(list_minimum(instance_remove_list))\n",
    "            \n",
    "    elif order == \"reverse\":\n",
    "        for _ in range(len(instance_remove_list)):\n",
    "            instance_list.append(list_maximum(instance_remove_list))\n",
    "            instance_remove_list.remove(list_maximum(instance_remove_list))\n",
    "                       \n",
    "    return(instance_list)\n",
    "        "
   ]
  },
  {
   "cell_type": "code",
   "execution_count": 122,
   "id": "6b3c4993",
   "metadata": {},
   "outputs": [
    {
     "data": {
      "text/plain": [
       "[10, 8, 7, 6, 5, 5, 3, 2]"
      ]
     },
     "execution_count": 122,
     "metadata": {},
     "output_type": "execute_result"
    }
   ],
   "source": [
    "sort_list(li, \"reverse\")"
   ]
  },
  {
   "cell_type": "code",
   "execution_count": 123,
   "id": "19afb346",
   "metadata": {},
   "outputs": [
    {
     "name": "stdout",
     "output_type": "stream",
     "text": [
      "[2, 10, 3, 5, 7, 5, 6, 8]\n"
     ]
    }
   ],
   "source": [
    "print(li)"
   ]
  },
  {
   "cell_type": "code",
   "execution_count": null,
   "id": "82bc8f90",
   "metadata": {},
   "outputs": [],
   "source": []
  },
  {
   "cell_type": "code",
   "execution_count": 125,
   "id": "4056326a",
   "metadata": {},
   "outputs": [],
   "source": [
    "def range_list(a, b, c = 1):\n",
    "    i = a\n",
    "    instance_list = []\n",
    "    while i < b:\n",
    "        instance_list.append(i)\n",
    "        i += c\n",
    "        \n",
    "    return(instance_list)"
   ]
  },
  {
   "cell_type": "code",
   "execution_count": 128,
   "id": "3680a600",
   "metadata": {},
   "outputs": [
    {
     "data": {
      "text/plain": [
       "[0, 3, 6, 9]"
      ]
     },
     "execution_count": 128,
     "metadata": {},
     "output_type": "execute_result"
    }
   ],
   "source": [
    "range_list(0, 10, 3)"
   ]
  },
  {
   "cell_type": "code",
   "execution_count": null,
   "id": "122d6c27",
   "metadata": {},
   "outputs": [],
   "source": []
  },
  {
   "cell_type": "code",
   "execution_count": 7,
   "id": "03da0935",
   "metadata": {},
   "outputs": [],
   "source": [
    "a = dict()"
   ]
  },
  {
   "cell_type": "code",
   "execution_count": 13,
   "id": "f7b7c7ce",
   "metadata": {},
   "outputs": [
    {
     "data": {
      "text/plain": [
       "list"
      ]
     },
     "execution_count": 13,
     "metadata": {},
     "output_type": "execute_result"
    }
   ],
   "source": [
    "b = [1 , 2]\n",
    "type(b)"
   ]
  },
  {
   "cell_type": "code",
   "execution_count": 8,
   "id": "aea124b0",
   "metadata": {},
   "outputs": [],
   "source": [
    "a[\"name\"] = \"python\""
   ]
  },
  {
   "cell_type": "code",
   "execution_count": 9,
   "id": "f4b22e63",
   "metadata": {},
   "outputs": [],
   "source": [
    "a[(\"a\",)] = \"python\""
   ]
  },
  {
   "cell_type": "code",
   "execution_count": 14,
   "id": "3cc06039",
   "metadata": {},
   "outputs": [
    {
     "ename": "TypeError",
     "evalue": "unhashable type: 'list'",
     "output_type": "error",
     "traceback": [
      "\u001b[1;31m---------------------------------------------------------------------------\u001b[0m",
      "\u001b[1;31mTypeError\u001b[0m                                 Traceback (most recent call last)",
      "Cell \u001b[1;32mIn[14], line 1\u001b[0m\n\u001b[1;32m----> 1\u001b[0m a[b] \u001b[38;5;241m=\u001b[39m \u001b[38;5;124m\"\u001b[39m\u001b[38;5;124mpython\u001b[39m\u001b[38;5;124m\"\u001b[39m\n",
      "\u001b[1;31mTypeError\u001b[0m: unhashable type: 'list'"
     ]
    }
   ],
   "source": [
    "a[b] = \"python\""
   ]
  },
  {
   "cell_type": "code",
   "execution_count": 11,
   "id": "192feee1",
   "metadata": {},
   "outputs": [],
   "source": [
    "a[250] = \"python\""
   ]
  },
  {
   "cell_type": "code",
   "execution_count": 19,
   "id": "756e6f7c",
   "metadata": {},
   "outputs": [
    {
     "name": "stdout",
     "output_type": "stream",
     "text": [
      "첫 번째 숫자를 입력하세요: 3\n",
      "두 번째 숫자를 입력하세요: 6\n",
      "두 수의 합은 9 입니다\n"
     ]
    }
   ],
   "source": [
    "input1 = input(\"첫 번째 숫자를 입력하세요: \")\n",
    "\n",
    "input2 = input(\"두 번째 숫자를 입력하세요: \")\n",
    "\n",
    "total = int(input1) + int(input2)\n",
    "\n",
    "print(f\"두 수의 합은 {total} 입니다\")"
   ]
  },
  {
   "cell_type": "code",
   "execution_count": 18,
   "id": "bda88f09",
   "metadata": {},
   "outputs": [
    {
     "name": "stdout",
     "output_type": "stream",
     "text": [
      "<class 'str'>\n",
      "<class 'str'>\n",
      "<class 'str'>\n"
     ]
    }
   ],
   "source": [
    "print(type(input1))\n",
    "print(type(input2))\n",
    "print(type(total))"
   ]
  },
  {
   "cell_type": "code",
   "execution_count": null,
   "id": "235f1b9e",
   "metadata": {},
   "outputs": [],
   "source": [
    "input_start = input(\"사용할 기능을 입력하세요 : 1 : 추가, 2 : 수정, 3 : 삭제, 4 : 목록조회, 0 : 종료\")\n",
    "\n",
    "if input_start = "
   ]
  },
  {
   "cell_type": "code",
   "execution_count": 86,
   "id": "d46fe8ca",
   "metadata": {},
   "outputs": [],
   "source": [
    "member = {\"ret\":\"y\",\"data\":[{\"id\":\"a\",\"name\":\"가나다1\",\"age\":61,\"height\":165.4,\"weight\":60.2},\n",
    "                            {\"id\":\"b\",\"name\":\"가나다2\",\"age\":32,\"height\":185.4,\"weight\":80.3},\n",
    "                            {\"id\":\"c\",\"name\":\"가나다3\",\"age\":13,\"height\":145.8,\"weight\":60.6},\n",
    "                            {\"id\":\"d\",\"name\":\"가나다4\",\"age\":44,\"height\":165.7,\"weight\":44.5},\n",
    "                            {\"id\":\"e\",\"name\":\"가나다5\",\"age\":85,\"height\":165.2,\"weight\":42.3}]}\n",
    "\n"
   ]
  },
  {
   "cell_type": "code",
   "execution_count": 166,
   "id": "d7bdd715",
   "metadata": {},
   "outputs": [],
   "source": [
    "db = []"
   ]
  },
  {
   "cell_type": "code",
   "execution_count": 167,
   "id": "4d4537dc",
   "metadata": {},
   "outputs": [],
   "source": [
    "class Client:\n",
    "    def __init__(self, clientid, name, age, height, weight):\n",
    "        self.clientid = clientid\n",
    "        self.name = name\n",
    "        self.age = age\n",
    "        self.height = height\n",
    "        self.weight = weight\n",
    "        \n",
    "        db.append(self)\n",
    "        \n",
    "    def detail(self):\n",
    "        print(self.clientid, self.name, self.age, self.height, self.weight)"
   ]
  },
  {
   "cell_type": "code",
   "execution_count": 168,
   "id": "8d32be03",
   "metadata": {},
   "outputs": [],
   "source": [
    "a = Client(\"a\", \"가나다1\", 61, 165.4, 60.2)\n",
    "b = Client(\"b\", \"가나다2\", 32, 185.4, 80.3)\n",
    "c = Client(\"c\", \"가나다3\", 13, 145.8, 60.6)\n",
    "d = Client(\"d\", \"가나다4\", 44, 165.7, 44.5)\n",
    "e = Client(\"e\", \"가나다5\", 85, 165.2, 42.3)"
   ]
  },
  {
   "cell_type": "code",
   "execution_count": 163,
   "id": "43fd5761",
   "metadata": {},
   "outputs": [],
   "source": [
    "input_id = input(\"id를 입력하세요 : \")\n",
    "input_name = input(\"이름을 입력하세요 : \")\n",
    "input_age = input(\"나이를 입력하세요 : \")\n",
    "input_height = input(\"신장을 입력하세요 : \")\n",
    "input_weight = input(\"몸무게를 입력하세요 : \")\n",
    "\n",
    "input_id = Client(input_id, input_name, input_age, input_height, input_weight)"
   ]
  },
  {
   "cell_type": "code",
   "execution_count": 169,
   "id": "54b11ec5",
   "metadata": {},
   "outputs": [
    {
     "name": "stdout",
     "output_type": "stream",
     "text": [
      "[<__main__.Client object at 0x000002A5BFE249D0>, <__main__.Client object at 0x000002A5BFE25910>, <__main__.Client object at 0x000002A5BFED0310>, <__main__.Client object at 0x000002A5BFE6E5D0>, <__main__.Client object at 0x000002A5BFE6CF90>]\n"
     ]
    }
   ],
   "source": [
    "print(db)"
   ]
  },
  {
   "cell_type": "code",
   "execution_count": 180,
   "id": "497496f4",
   "metadata": {},
   "outputs": [
    {
     "name": "stdout",
     "output_type": "stream",
     "text": [
      "삭제하실 id를 입력하세요 : a\n"
     ]
    }
   ],
   "source": [
    "input_delete = input(\"삭제하실 id를 입력하세요 : \")\n",
    "\n",
    "del input_delete"
   ]
  },
  {
   "cell_type": "code",
   "execution_count": 192,
   "id": "d7d841c5",
   "metadata": {},
   "outputs": [
    {
     "name": "stdout",
     "output_type": "stream",
     "text": [
      "a 가나다1 61 165.4 60.2\n",
      "b 가나다2 32 185.4 80.3\n",
      "c 가나다3 13 145.8 60.6\n",
      "d 가나다4 44 165.7 44.5\n",
      "e 가나다5 85 165.2 42.3\n",
      "sangil0613 황상일2 29 175 70\n",
      "sangil4234 황상일2 175 70 70\n"
     ]
    }
   ],
   "source": [
    "for i in db:\n",
    "    i.detail()"
   ]
  },
  {
   "cell_type": "code",
   "execution_count": 196,
   "id": "16e682ad",
   "metadata": {},
   "outputs": [
    {
     "name": "stdout",
     "output_type": "stream",
     "text": [
      "1 : 추가, 2 : 수정, 3 : 삭제, 4 : 목록조회, 0 : 종료\n",
      "사용할 기능을 입력하세요 : 4\n",
      "4\n",
      "a 가나다1 61 165.4 60.2\n",
      "b 가나다2 32 185.4 80.3\n",
      "c 가나다3 13 145.8 60.6\n",
      "d 가나다4 44 165.7 44.5\n",
      "e 가나다5 85 165.2 42.3\n",
      "sangil0613 황상일2 29 175 70\n",
      "sangil4234 황상일2 175 70 70\n"
     ]
    }
   ],
   "source": [
    "print(\"1 : 추가, 2 : 수정, 3 : 삭제, 4 : 목록조회, 0 : 종료\")\n",
    "\n",
    "client_input = input(\"사용할 기능을 입력하세요 : \")\n",
    "        \n",
    "print(client_input)\n",
    "\n",
    "if client_input == \"1\":\n",
    "    input_id = input(\"id를 입력하세요 : \")\n",
    "    input_name = input(\"이름을 입력하세요 : \")\n",
    "    input_age = input(\"나이를 입력하세요 : \")\n",
    "    input_height = input(\"신장을 입력하세요 : \")\n",
    "    input_weight = input(\"몸무게를 입력하세요 : \")\n",
    "\n",
    "    input_id = Client(input_id, input_name, input_age, input_height, input_weight)\n",
    "\n",
    "elif client_input == \"2\":\n",
    "    input_id = input(\"id를 입력하세요 : \")\n",
    "    input_name = input(\"이름을 입력하세요 : \")\n",
    "    input_age = input(\"나이를 입력하세요 : \")\n",
    "    input_height = input(\"신장을 입력하세요 : \")\n",
    "    input_weight = input(\"몸무게를 입력하세요 : \")\n",
    "\n",
    "    input_id = Client(input_id, input_name, input_age, input_height, input_weight)\n",
    "\n",
    "elif client_input == \"3\":\n",
    "    input_delete = input(\"삭제하실 id를 입력하세요 : \")\n",
    "\n",
    "    del(input_delete)\n",
    "\n",
    "elif client_input == \"4\":\n",
    "    for i in db:\n",
    "        i.detail()\n",
    "\n",
    "elif client_input == \"0\":\n",
    "    pass\n",
    "\n",
    "else:\n",
    "    pass\n",
    "            "
   ]
  },
  {
   "cell_type": "code",
   "execution_count": 190,
   "id": "d307b1bf",
   "metadata": {},
   "outputs": [
    {
     "ename": "SyntaxError",
     "evalue": "invalid syntax. Maybe you meant '==' or ':=' instead of '='? (2733492440.py, line 3)",
     "output_type": "error",
     "traceback": [
      "\u001b[1;36m  Cell \u001b[1;32mIn[190], line 3\u001b[1;36m\u001b[0m\n\u001b[1;33m    if client_input = 1:\u001b[0m\n\u001b[1;37m       ^\u001b[0m\n\u001b[1;31mSyntaxError\u001b[0m\u001b[1;31m:\u001b[0m invalid syntax. Maybe you meant '==' or ':=' instead of '='?\n"
     ]
    }
   ],
   "source": [
    "print(client_input)\n",
    "\n",
    "if client_input == \"1\":\n",
    "    input_id = input(\"id를 입력하세요 : \")\n",
    "    input_name = input(\"이름을 입력하세요 : \")\n",
    "    input_age = input(\"나이를 입력하세요 : \")\n",
    "    input_height = input(\"신장을 입력하세요 : \")\n",
    "    input_weight = input(\"몸무게를 입력하세요 : \")\n",
    "\n",
    "    input_id = Client(input_id, input_name, input_age, input_height, input_weight)\n",
    "\n",
    "elif client_input == \"2\":\n",
    "    input_id = input(\"id를 입력하세요 : \")\n",
    "    input_name = input(\"이름을 입력하세요 : \")\n",
    "    input_age = input(\"나이를 입력하세요 : \")\n",
    "    input_height = input(\"신장을 입력하세요 : \")\n",
    "    input_weight = input(\"몸무게를 입력하세요 : \")\n",
    "\n",
    "    input_id = Client(input_id, input_name, input_age, input_height, input_weight)\n",
    "\n",
    "elif client_input == \"3\":\n",
    "    input_delete = input(\"삭제하실 id를 입력하세요 : \")\n",
    "\n",
    "    del(input_delete)\n",
    "\n",
    "elif client_input == \"4\":\n",
    "    for i in db:\n",
    "        i.detail()\n",
    "\n",
    "elif client_input == \"0\":\n",
    "    pass\n",
    "\n",
    "else:\n",
    "    pass"
   ]
  },
  {
   "cell_type": "code",
   "execution_count": 184,
   "id": "eee16f96",
   "metadata": {},
   "outputs": [
    {
     "name": "stdout",
     "output_type": "stream",
     "text": [
      "id를 입력하세요 : sangil0613\n",
      "이름을 입력하세요 : 황상일2\n",
      "나이를 입력하세요 : 29\n",
      "신장을 입력하세요 : 175\n",
      "몸무게를 입력하세요 : 70\n"
     ]
    }
   ],
   "source": [
    "    input_id = input(\"id를 입력하세요 : \")\n",
    "    input_name = input(\"이름을 입력하세요 : \")\n",
    "    input_age = input(\"나이를 입력하세요 : \")\n",
    "    input_height = input(\"신장을 입력하세요 : \")\n",
    "    input_weight = input(\"몸무게를 입력하세요 : \")\n",
    "\n",
    "    input_id = Client(input_id, input_name, input_age, input_height, input_weight)"
   ]
  },
  {
   "cell_type": "code",
   "execution_count": null,
   "id": "049e7982",
   "metadata": {},
   "outputs": [],
   "source": []
  },
  {
   "cell_type": "code",
   "execution_count": 1,
   "id": "e2a89e5e",
   "metadata": {},
   "outputs": [
    {
     "name": "stdout",
     "output_type": "stream",
     "text": [
      "1\n",
      "2\n",
      "3\n",
      "4\n",
      "5\n",
      "6\n",
      "7\n",
      "8\n",
      "2\n",
      "2\n",
      "3\n",
      "4\n",
      "5\n",
      "6\n",
      "7\n",
      "8\n",
      "3\n",
      "3\n",
      "3\n",
      "4\n",
      "5\n",
      "6\n",
      "7\n",
      "8\n",
      "4\n",
      "4\n",
      "4\n",
      "4\n",
      "5\n",
      "6\n",
      "7\n",
      "8\n",
      "5\n",
      "5\n",
      "5\n",
      "5\n",
      "5\n",
      "6\n",
      "7\n",
      "8\n",
      "6\n",
      "6\n",
      "6\n",
      "6\n",
      "6\n",
      "6\n",
      "7\n",
      "8\n",
      "7\n",
      "7\n",
      "7\n",
      "7\n",
      "7\n",
      "7\n",
      "7\n",
      "8\n",
      "8\n",
      "8\n",
      "8\n",
      "8\n",
      "8\n",
      "8\n",
      "8\n",
      "8\n"
     ]
    }
   ],
   "source": [
    "sum = 0\n",
    "\n",
    "for i in range(1,9):\n",
    "    for j in range(1, 9):\n",
    "        print(max(i, j))"
   ]
  }
 ],
 "metadata": {
  "kernelspec": {
   "display_name": "Python 3 (ipykernel)",
   "language": "python",
   "name": "python3"
  },
  "language_info": {
   "codemirror_mode": {
    "name": "ipython",
    "version": 3
   },
   "file_extension": ".py",
   "mimetype": "text/x-python",
   "name": "python",
   "nbconvert_exporter": "python",
   "pygments_lexer": "ipython3",
   "version": "3.11.5"
  }
 },
 "nbformat": 4,
 "nbformat_minor": 5
}
