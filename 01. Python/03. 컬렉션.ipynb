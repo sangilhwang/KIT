{
 "cells": [
  {
   "cell_type": "markdown",
   "id": "88fb76d3",
   "metadata": {},
   "source": [
    "# 컬렉션\n",
    "\n",
    "- 여러 값을 하나의 이름으로 묶어서 관리하는 자료형\n",
    "\n",
    "- 컬렉션의 종류\n",
    "    - 리스트\n",
    "        - 생성 함수 : list()\n",
    "        - 특징 : 추가, 수정, 삭제가 언제나 가능\n",
    "        - 예) : a = [1, 2, 3]\n",
    "        \n",
    "    - 튜플\n",
    "        - 생성 함수 : tuple()\n",
    "        - 특징 : 생성되고 나면 변경 불가능\n",
    "        - 예) : a = (1, 2, 3)\n",
    "        \n",
    "    - 세트\n",
    "        - 생성 함수 : set()\n",
    "        - 특징 : 중복된 값의 저장 불가능, 수학의 집합을 표현하기 위한 기능\n",
    "        - 예) : a = {1, 2, 3}\n",
    "        \n",
    "    - 딕셔너리\n",
    "        - 생성 함수 : dict()\n",
    "        - 특징 : 키 + 값 의 형태로 관리\n",
    "        - 예) : a = {\"age\" : 25}\n",
    "        \n",
    "        \n",
    "- 이 중에서 저장된 값들의 순서가 있는 컬렉션을 \"시퀀스(sequence)\"라고 부름\n",
    "    - 시퀀스 : 리스트, 튜플    "
   ]
  },
  {
   "cell_type": "code",
   "execution_count": 1,
   "id": "a9b8f9e1",
   "metadata": {},
   "outputs": [
    {
     "name": "stdout",
     "output_type": "stream",
     "text": [
      "[1, 2, 3, 4, 5]\n",
      "<class 'list'>\n",
      "{1, 2, 3, 4}\n",
      "<class 'set'>\n",
      "(2, 2, 3, 4, 5)\n",
      "<class 'tuple'>\n",
      "{'aaa': 1, 'bbb': 2, 'ccc': 3}\n",
      "<class 'dict'>\n"
     ]
    }
   ],
   "source": [
    "li = [1, 2, 3, 4, 5] # 리스트\n",
    "set_ = {1, 2, 3, 3, 4} # 세트\n",
    "tu = (2, 2, 3, 4, 5) # 튜플\n",
    "dic = {\"aaa\" : 1, \"bbb\" : 2, \"ccc\" : 3} # 딕셔너리\n",
    "\n",
    "print(li)\n",
    "print(type(li))\n",
    "print(set_)\n",
    "print(type(set_))\n",
    "print(tu)\n",
    "print(type(tu))\n",
    "print(dic)\n",
    "print(type(dic))"
   ]
  },
  {
   "cell_type": "markdown",
   "id": "dbf3ec56",
   "metadata": {},
   "source": [
    "# 리스트(list)\n",
    "\n",
    "- 여러가지 자료를 저장할 수 있는 자료\n",
    "    - 지금까지 활용한 숫자나 문자, 수식 등이 개별적인 자료라면, 리스트는 이런 자료들을 모아서 사용할 수 있게 해주는 특별한 형태의 자료\n",
    "    \n",
    "- 리스트 생성하는 법 : 대괄호에 자료를 쉼표로 구분해서 입력\n",
    "    - [요소, 요소, 요소]\n",
    "    - 대괄호 내부에 넣는 자료를 요소(element)라고 함"
   ]
  },
  {
   "cell_type": "code",
   "execution_count": 2,
   "id": "28c01f46",
   "metadata": {},
   "outputs": [],
   "source": [
    "# 숫자만으로 구성된 리스트\n",
    "list_num = [1, 2, 3, 4]\n",
    "\n",
    "# 문자열만으로 구성된 리스트\n",
    "list_str = [\"a\", \"b\", \"c\"]\n",
    "\n",
    "# 여러 자료형으로 구성된 리스트\n",
    "list_mix = [273, 32, 103, \"문자열\", True, False]"
   ]
  },
  {
   "cell_type": "code",
   "execution_count": 3,
   "id": "9101b219",
   "metadata": {},
   "outputs": [
    {
     "data": {
      "text/plain": [
       "1"
      ]
     },
     "execution_count": 3,
     "metadata": {},
     "output_type": "execute_result"
    }
   ],
   "source": [
    "# 인덱싱, 슬라이싱\n",
    "li[0]"
   ]
  },
  {
   "cell_type": "code",
   "execution_count": 4,
   "id": "f8388a56",
   "metadata": {},
   "outputs": [
    {
     "data": {
      "text/plain": [
       "5"
      ]
     },
     "execution_count": 4,
     "metadata": {},
     "output_type": "execute_result"
    }
   ],
   "source": [
    "li[-1]"
   ]
  },
  {
   "cell_type": "code",
   "execution_count": 5,
   "id": "b063f33c",
   "metadata": {},
   "outputs": [
    {
     "data": {
      "text/plain": [
       "[1, 2, 3]"
      ]
     },
     "execution_count": 5,
     "metadata": {},
     "output_type": "execute_result"
    }
   ],
   "source": [
    "li[:3]"
   ]
  },
  {
   "cell_type": "code",
   "execution_count": 6,
   "id": "14bb5c09",
   "metadata": {},
   "outputs": [],
   "source": [
    "# 이중리스트\n",
    "li = [1, 2, 3, [\"a\", \"b\", \"c\"]]"
   ]
  },
  {
   "cell_type": "code",
   "execution_count": 10,
   "id": "e8a26b5b",
   "metadata": {},
   "outputs": [
    {
     "data": {
      "text/plain": [
       "'a'"
      ]
     },
     "execution_count": 10,
     "metadata": {},
     "output_type": "execute_result"
    }
   ],
   "source": [
    "li[-1][0]"
   ]
  },
  {
   "cell_type": "code",
   "execution_count": 11,
   "id": "d2bd579b",
   "metadata": {},
   "outputs": [
    {
     "data": {
      "text/plain": [
       "[3, ['a', 'b', 'c']]"
      ]
     },
     "execution_count": 11,
     "metadata": {},
     "output_type": "execute_result"
    }
   ],
   "source": [
    "li[2:]"
   ]
  },
  {
   "cell_type": "markdown",
   "id": "ded9b711",
   "metadata": {},
   "source": [
    "## 리스트 연산\n",
    "\n",
    "- 문자열에 적용할 수 있는 연산자는 리스트에도 활용할 수 있음"
   ]
  },
  {
   "cell_type": "code",
   "execution_count": 14,
   "id": "ac7ddd46",
   "metadata": {},
   "outputs": [
    {
     "data": {
      "text/plain": [
       "[1, 2, 3, 4, 5, 6]"
      ]
     },
     "execution_count": 14,
     "metadata": {},
     "output_type": "execute_result"
    }
   ],
   "source": [
    "# 리스트 병합\n",
    "a = [1, 2, 3]\n",
    "b = [4, 5, 6]\n",
    "\n",
    "a + b"
   ]
  },
  {
   "cell_type": "code",
   "execution_count": 15,
   "id": "9d7e7858",
   "metadata": {},
   "outputs": [
    {
     "data": {
      "text/plain": [
       "[1, 2, 3, 1, 2, 3]"
      ]
     },
     "execution_count": 15,
     "metadata": {},
     "output_type": "execute_result"
    }
   ],
   "source": [
    "# 리스트 반복\n",
    "a * 2"
   ]
  },
  {
   "cell_type": "markdown",
   "id": "17d90a3e",
   "metadata": {},
   "source": [
    "## 리스트 수정, 삭제"
   ]
  },
  {
   "cell_type": "code",
   "execution_count": 16,
   "id": "a7703428",
   "metadata": {},
   "outputs": [
    {
     "data": {
      "text/plain": [
       "[1, 2, 3, ['a', 'b', 'c']]"
      ]
     },
     "execution_count": 16,
     "metadata": {},
     "output_type": "execute_result"
    }
   ],
   "source": [
    "li"
   ]
  },
  {
   "cell_type": "code",
   "execution_count": 18,
   "id": "c50260d1",
   "metadata": {},
   "outputs": [],
   "source": [
    "# 요소를 인덱스로 삭제\n",
    "del li[-1]\n",
    "# 슬라이싱으로도 del 기능 가능"
   ]
  },
  {
   "cell_type": "code",
   "execution_count": 19,
   "id": "68257923",
   "metadata": {},
   "outputs": [
    {
     "data": {
      "text/plain": [
       "[1, 2, 3]"
      ]
     },
     "execution_count": 19,
     "metadata": {},
     "output_type": "execute_result"
    }
   ],
   "source": [
    "li"
   ]
  },
  {
   "cell_type": "code",
   "execution_count": 20,
   "id": "fd07e45e",
   "metadata": {},
   "outputs": [],
   "source": [
    "# 수정\n",
    "li[2] = 4\n"
   ]
  },
  {
   "cell_type": "code",
   "execution_count": 21,
   "id": "6e4885dc",
   "metadata": {},
   "outputs": [
    {
     "data": {
      "text/plain": [
       "[1, 2, 4]"
      ]
     },
     "execution_count": 21,
     "metadata": {},
     "output_type": "execute_result"
    }
   ],
   "source": [
    "li"
   ]
  },
  {
   "cell_type": "code",
   "execution_count": 22,
   "id": "bffec969",
   "metadata": {},
   "outputs": [],
   "source": [
    "# remove 함수를 이용한 삭제\n",
    "li.remove(4)"
   ]
  },
  {
   "cell_type": "code",
   "execution_count": 23,
   "id": "9d039b91",
   "metadata": {},
   "outputs": [
    {
     "data": {
      "text/plain": [
       "[1, 2]"
      ]
     },
     "execution_count": 23,
     "metadata": {},
     "output_type": "execute_result"
    }
   ],
   "source": [
    "li"
   ]
  },
  {
   "cell_type": "code",
   "execution_count": 24,
   "id": "8b32b4b8",
   "metadata": {},
   "outputs": [
    {
     "data": {
      "text/plain": [
       "[1, 2, 1, 2, 3]"
      ]
     },
     "execution_count": 24,
     "metadata": {},
     "output_type": "execute_result"
    }
   ],
   "source": [
    "# remove 함수는 리스트에서 첫 번째로 나오는 특정 요소를 삭제하는 함수\n",
    "\n",
    "li = [1, 2, 3, 1, 2, 3]\n",
    "\n",
    "li.remove(3)\n",
    "\n",
    "li"
   ]
  },
  {
   "cell_type": "code",
   "execution_count": 26,
   "id": "60047475",
   "metadata": {},
   "outputs": [
    {
     "data": {
      "text/plain": [
       "3"
      ]
     },
     "execution_count": 26,
     "metadata": {},
     "output_type": "execute_result"
    }
   ],
   "source": [
    "# pop 함수를 이용한 삭제\n",
    "# 제거할 위치를 입력하지 않으면 기본값(-1)을 적용해서 리스트의 맨 마지막 요소를 반환하고 해당 요소를 삭제\n",
    "li = [1, 2, 3]\n",
    "\n",
    "li.pop()"
   ]
  },
  {
   "cell_type": "code",
   "execution_count": 27,
   "id": "bcc77ebd",
   "metadata": {},
   "outputs": [
    {
     "data": {
      "text/plain": [
       "[1, 2]"
      ]
     },
     "execution_count": 27,
     "metadata": {},
     "output_type": "execute_result"
    }
   ],
   "source": [
    "li"
   ]
  },
  {
   "cell_type": "code",
   "execution_count": 28,
   "id": "74a3ab13",
   "metadata": {},
   "outputs": [
    {
     "data": {
      "text/plain": [
       "2"
      ]
     },
     "execution_count": 28,
     "metadata": {},
     "output_type": "execute_result"
    }
   ],
   "source": [
    "# 특정 인덱스 요소를 반환하는 것도 가능\n",
    "li = [1, 2, 3]\n",
    "\n",
    "li.pop(1)"
   ]
  },
  {
   "cell_type": "code",
   "execution_count": 29,
   "id": "cc9dd5ce",
   "metadata": {},
   "outputs": [
    {
     "data": {
      "text/plain": [
       "[1, 3]"
      ]
     },
     "execution_count": 29,
     "metadata": {},
     "output_type": "execute_result"
    }
   ],
   "source": [
    "li"
   ]
  },
  {
   "cell_type": "markdown",
   "id": "48ffd5c8",
   "metadata": {},
   "source": [
    "## 리스트 관련 함수"
   ]
  },
  {
   "cell_type": "code",
   "execution_count": 30,
   "id": "2bc21712",
   "metadata": {},
   "outputs": [],
   "source": [
    "# 요소 추가\n",
    "# 리스트 뒤에 요소를 추가\n",
    "li.append(5)"
   ]
  },
  {
   "cell_type": "code",
   "execution_count": 31,
   "id": "e39d7929",
   "metadata": {},
   "outputs": [
    {
     "data": {
      "text/plain": [
       "[1, 3, 5]"
      ]
     },
     "execution_count": 31,
     "metadata": {},
     "output_type": "execute_result"
    }
   ],
   "source": [
    "li"
   ]
  },
  {
   "cell_type": "code",
   "execution_count": 32,
   "id": "6489ffaf",
   "metadata": {},
   "outputs": [],
   "source": [
    "li.append([1, 2, 3])"
   ]
  },
  {
   "cell_type": "code",
   "execution_count": 33,
   "id": "b528c682",
   "metadata": {},
   "outputs": [
    {
     "data": {
      "text/plain": [
       "[1, 3, 5, [1, 2, 3]]"
      ]
     },
     "execution_count": 33,
     "metadata": {},
     "output_type": "execute_result"
    }
   ],
   "source": [
    "li"
   ]
  },
  {
   "cell_type": "code",
   "execution_count": 34,
   "id": "44c306fe",
   "metadata": {},
   "outputs": [],
   "source": [
    "# 요소 삽입\n",
    "# 괄호 안에서 정한 위치에 요소를 삽입\n",
    "# 해당 위치의 모든 요소는뒤로 하나씩 밀림\n",
    "\n",
    "li = [1, 2, 3]\n",
    "\n",
    "li.insert(0,4)"
   ]
  },
  {
   "cell_type": "code",
   "execution_count": 35,
   "id": "387ab3f9",
   "metadata": {},
   "outputs": [
    {
     "data": {
      "text/plain": [
       "[4, 1, 2, 3]"
      ]
     },
     "execution_count": 35,
     "metadata": {},
     "output_type": "execute_result"
    }
   ],
   "source": [
    "li"
   ]
  },
  {
   "cell_type": "code",
   "execution_count": 37,
   "id": "0b6b803a",
   "metadata": {},
   "outputs": [],
   "source": [
    "# 리스트 확장\n",
    "# 리스트 뒤에 새로운 리스트의 요소를 모두 추가\n",
    "# 한 번에 여러 요소를 추가하고 싶을 때 사용\n",
    "li.extend([4,5])"
   ]
  },
  {
   "cell_type": "code",
   "execution_count": 38,
   "id": "eae30d37",
   "metadata": {},
   "outputs": [
    {
     "data": {
      "text/plain": [
       "[4, 1, 2, 3, 4, 5]"
      ]
     },
     "execution_count": 38,
     "metadata": {},
     "output_type": "execute_result"
    }
   ],
   "source": [
    "li"
   ]
  },
  {
   "cell_type": "markdown",
   "id": "90688e83",
   "metadata": {},
   "source": [
    "#### 리스트 연산자와 리스트 확장의 차이\n",
    "\n",
    "- 공통점\n",
    "    - 리스트 연결 연산자와 extend() 함수는 비슷한 형태로 동작\n",
    "        - 리스트와 리스트의 연결\n",
    "        \n",
    "- 차이점\n",
    "    - 리스트 연결 연산자(+)는 원본 리스트에 아무런 영향을 주지 않음\n",
    "        - 비파괴적\n",
    "    - extend() 함수는 원본 리스트에 직접적인 영향을 줌\n",
    "        - 파괴적\n",
    "        \n",
    "- 기본적으로 자료는 비파괴적으로 사용하는 것이 편리\n",
    "    - 원본으로도 활용할 수 있고 새로운 결과도 활용할 수 있으므로 선택지가 더 넓기 때문\n",
    "    - 따라서 기본 자료형(숫자, 문자열, 불)과 관련된 것들은 비파괴적으로 작동\n",
    "    \n",
    "- 하지만 리스트는 용량이 매우 커질수 있음\n",
    "    - 용량이 얼마나 커질 지 알 수 없기 대문에 두 가지 상태를 다 생성하는 것은 위험할 수 있음\n",
    "    - 이런 경우 원본 데이터를 직접 조작하는 기능을 통해 위험을 회피"
   ]
  },
  {
   "cell_type": "code",
   "execution_count": 43,
   "id": "a2a48811",
   "metadata": {},
   "outputs": [],
   "source": [
    "# 리스트 오름차순 정렬\n",
    "li = [1 ,4 ,3 , 2]\n",
    "\n",
    "li.sort(reverse = True)"
   ]
  },
  {
   "cell_type": "code",
   "execution_count": 44,
   "id": "960598ec",
   "metadata": {},
   "outputs": [
    {
     "data": {
      "text/plain": [
       "[4, 3, 2, 1]"
      ]
     },
     "execution_count": 44,
     "metadata": {},
     "output_type": "execute_result"
    }
   ],
   "source": [
    "li"
   ]
  },
  {
   "cell_type": "code",
   "execution_count": 45,
   "id": "0370b41a",
   "metadata": {},
   "outputs": [],
   "source": [
    "# 리스트 뒤집기\n",
    "li = [\"a\", \"b\", \"c\", \"d\"]\n",
    "li.reverse()"
   ]
  },
  {
   "cell_type": "code",
   "execution_count": 46,
   "id": "fb01ff05",
   "metadata": {},
   "outputs": [
    {
     "data": {
      "text/plain": [
       "['d', 'c', 'b', 'a']"
      ]
     },
     "execution_count": 46,
     "metadata": {},
     "output_type": "execute_result"
    }
   ],
   "source": [
    "li"
   ]
  },
  {
   "cell_type": "code",
   "execution_count": 47,
   "id": "3be4328f",
   "metadata": {},
   "outputs": [
    {
     "data": {
      "text/plain": [
       "['a', 'b', 'c', 'd']"
      ]
     },
     "execution_count": 47,
     "metadata": {},
     "output_type": "execute_result"
    }
   ],
   "source": [
    "li[::-1]"
   ]
  },
  {
   "cell_type": "code",
   "execution_count": 48,
   "id": "1df7673a",
   "metadata": {},
   "outputs": [
    {
     "data": {
      "text/plain": [
       "['d', 'c', 'b', 'a']"
      ]
     },
     "execution_count": 48,
     "metadata": {},
     "output_type": "execute_result"
    }
   ],
   "source": [
    "li"
   ]
  },
  {
   "cell_type": "code",
   "execution_count": 49,
   "id": "dffdd78e",
   "metadata": {},
   "outputs": [
    {
     "data": {
      "text/plain": [
       "2"
      ]
     },
     "execution_count": 49,
     "metadata": {},
     "output_type": "execute_result"
    }
   ],
   "source": [
    "# 위치 반환\n",
    "li = [1, 2, 3]\n",
    "li.index(3)"
   ]
  },
  {
   "cell_type": "code",
   "execution_count": 50,
   "id": "68cede07",
   "metadata": {},
   "outputs": [
    {
     "data": {
      "text/plain": [
       "2"
      ]
     },
     "execution_count": 50,
     "metadata": {},
     "output_type": "execute_result"
    }
   ],
   "source": [
    "# 리스트에 포함된 요소의 개수 세기\n",
    "li = [1, 2, 3, 1]\n",
    "li.count(1)"
   ]
  },
  {
   "cell_type": "code",
   "execution_count": 51,
   "id": "8c4ea426",
   "metadata": {},
   "outputs": [
    {
     "data": {
      "text/plain": [
       "4"
      ]
     },
     "execution_count": 51,
     "metadata": {},
     "output_type": "execute_result"
    }
   ],
   "source": [
    "# 리스트의 길이 구하기\n",
    "len(li)"
   ]
  },
  {
   "cell_type": "code",
   "execution_count": 52,
   "id": "613aefa4",
   "metadata": {},
   "outputs": [],
   "source": [
    "# 리스트 내부 요소를 모두 제거\n",
    "li.clear()"
   ]
  },
  {
   "cell_type": "code",
   "execution_count": 53,
   "id": "e40f20d9",
   "metadata": {},
   "outputs": [
    {
     "data": {
      "text/plain": [
       "[]"
      ]
     },
     "execution_count": 53,
     "metadata": {},
     "output_type": "execute_result"
    }
   ],
   "source": [
    "li"
   ]
  },
  {
   "cell_type": "markdown",
   "id": "f1b1fe4f",
   "metadata": {},
   "source": [
    "#### 확인문제\n",
    "\n",
    "- list_a를 적절하게 가공하여 문제에서 제시하는 데이터 만들기"
   ]
  },
  {
   "cell_type": "code",
   "execution_count": 73,
   "id": "b2bb12ef",
   "metadata": {},
   "outputs": [
    {
     "data": {
      "text/plain": [
       "[0, 1, 2, 3, 4, 5, 0, 1, 2, 3, 4, 5]"
      ]
     },
     "execution_count": 73,
     "metadata": {},
     "output_type": "execute_result"
    }
   ],
   "source": [
    "# 1. [0, 1, 2, 3, 4, 5, 0, 1, 2, 3, 4, 5]\n",
    "list_a = [0, 1, 2, 3, 4, 5]\n",
    "\n",
    "list_a = list_a*2\n",
    "list_a"
   ]
  },
  {
   "cell_type": "code",
   "execution_count": 61,
   "id": "a8c211e9",
   "metadata": {},
   "outputs": [
    {
     "data": {
      "text/plain": [
       "[0, 1, 2, 3, 4, 5, 10]"
      ]
     },
     "execution_count": 61,
     "metadata": {},
     "output_type": "execute_result"
    }
   ],
   "source": [
    "# 2. [0, 1, 2, 3, 4, 5, 10]\n",
    "list_a = [0, 1, 2, 3, 4, 5]\n",
    "\n",
    "list_a.append(10)\n",
    "list_a"
   ]
  },
  {
   "cell_type": "code",
   "execution_count": 68,
   "id": "cd6718e2",
   "metadata": {},
   "outputs": [
    {
     "data": {
      "text/plain": [
       "[0, 1, 2, 0, 3, 4, 5]"
      ]
     },
     "execution_count": 68,
     "metadata": {},
     "output_type": "execute_result"
    }
   ],
   "source": [
    "# 3. [0, 1, 2, 0, 3, 4, 5]\n",
    "list_a = [0, 1, 2, 3, 4, 5]\n",
    "\n",
    "list_a.insert(3, 0)\n",
    "list_a"
   ]
  },
  {
   "cell_type": "code",
   "execution_count": 70,
   "id": "fb21861d",
   "metadata": {},
   "outputs": [
    {
     "data": {
      "text/plain": [
       "[0, 1, 2, 4, 5]"
      ]
     },
     "execution_count": 70,
     "metadata": {},
     "output_type": "execute_result"
    }
   ],
   "source": [
    "# 4. [0, 1, 2, 4, 5]\n",
    "list_a = [0, 1, 2, 3, 4, 5]\n",
    "\n",
    "list_a.pop(3)\n",
    "list_a"
   ]
  },
  {
   "cell_type": "code",
   "execution_count": 71,
   "id": "88a530ab",
   "metadata": {},
   "outputs": [
    {
     "data": {
      "text/plain": [
       "[0, 1, 2, 3, 4]"
      ]
     },
     "execution_count": 71,
     "metadata": {},
     "output_type": "execute_result"
    }
   ],
   "source": [
    "# 5. [0, 1, 2, 3, 4]\n",
    "list_a = [0, 1, 2, 3, 4, 5]\n",
    "\n",
    "del list_a[-1]\n",
    "list_a"
   ]
  },
  {
   "cell_type": "markdown",
   "id": "71ba8a3e",
   "metadata": {},
   "source": [
    "# 튜플\n",
    "\n",
    "- 리스트와 유사하지만 튜플은 값의 추가, 삭제, 수정이 불가하다\n",
    "    - 프로그램이 실행되는 동안 값이 변하면 안되는 경우 주로 사용"
   ]
  },
  {
   "cell_type": "code",
   "execution_count": 74,
   "id": "937d13c2",
   "metadata": {},
   "outputs": [
    {
     "data": {
      "text/plain": [
       "(2, 2, 3, 4, 5)"
      ]
     },
     "execution_count": 74,
     "metadata": {},
     "output_type": "execute_result"
    }
   ],
   "source": [
    "tu"
   ]
  },
  {
   "cell_type": "code",
   "execution_count": 2,
   "id": "6904cdb2",
   "metadata": {},
   "outputs": [
    {
     "ename": "NameError",
     "evalue": "name 'tu' is not defined",
     "output_type": "error",
     "traceback": [
      "\u001b[1;31m---------------------------------------------------------------------------\u001b[0m",
      "\u001b[1;31mNameError\u001b[0m                                 Traceback (most recent call last)",
      "Cell \u001b[1;32mIn[2], line 1\u001b[0m\n\u001b[1;32m----> 1\u001b[0m \u001b[38;5;28;01mdel\u001b[39;00m tu[\u001b[38;5;241m0\u001b[39m]\n",
      "\u001b[1;31mNameError\u001b[0m: name 'tu' is not defined"
     ]
    }
   ],
   "source": [
    "del tu[0]\n",
    "# 튜플은 요소의 삭제를 지원하지 않음"
   ]
  },
  {
   "cell_type": "code",
   "execution_count": 1,
   "id": "bbebb873",
   "metadata": {},
   "outputs": [
    {
     "ename": "NameError",
     "evalue": "name 'tu' is not defined",
     "output_type": "error",
     "traceback": [
      "\u001b[1;31m---------------------------------------------------------------------------\u001b[0m",
      "\u001b[1;31mNameError\u001b[0m                                 Traceback (most recent call last)",
      "Cell \u001b[1;32mIn[1], line 1\u001b[0m\n\u001b[1;32m----> 1\u001b[0m tu[\u001b[38;5;241m0\u001b[39m] \u001b[38;5;241m=\u001b[39m \u001b[38;5;241m0\u001b[39m\n",
      "\u001b[1;31mNameError\u001b[0m: name 'tu' is not defined"
     ]
    }
   ],
   "source": [
    "tu[0] = 0\n",
    "# 튜플은 요소의 수정을 지원하지 않음"
   ]
  },
  {
   "cell_type": "markdown",
   "id": "905cc65f",
   "metadata": {},
   "source": [
    "## 인덱싱, 슬라이싱"
   ]
  },
  {
   "cell_type": "code",
   "execution_count": 78,
   "id": "02f99626",
   "metadata": {},
   "outputs": [
    {
     "data": {
      "text/plain": [
       "2"
      ]
     },
     "execution_count": 78,
     "metadata": {},
     "output_type": "execute_result"
    }
   ],
   "source": [
    "tu[0]"
   ]
  },
  {
   "cell_type": "code",
   "execution_count": 79,
   "id": "3ef45d10",
   "metadata": {},
   "outputs": [
    {
     "data": {
      "text/plain": [
       "(2, 3, 4, 5)"
      ]
     },
     "execution_count": 79,
     "metadata": {},
     "output_type": "execute_result"
    }
   ],
   "source": [
    "tu[1:]"
   ]
  },
  {
   "cell_type": "markdown",
   "id": "e9a9ccf1",
   "metadata": {},
   "source": [
    "## 튜플 연산"
   ]
  },
  {
   "cell_type": "code",
   "execution_count": 80,
   "id": "9b933b7f",
   "metadata": {},
   "outputs": [
    {
     "data": {
      "text/plain": [
       "(1, 2, 3, 4)"
      ]
     },
     "execution_count": 80,
     "metadata": {},
     "output_type": "execute_result"
    }
   ],
   "source": [
    "tu1 = (1, 2)\n",
    "tu2 = (3, 4)\n",
    "\n",
    "tu1 + tu2"
   ]
  },
  {
   "cell_type": "code",
   "execution_count": 81,
   "id": "b53ab770",
   "metadata": {},
   "outputs": [
    {
     "data": {
      "text/plain": [
       "(1, 2, 1, 2)"
      ]
     },
     "execution_count": 81,
     "metadata": {},
     "output_type": "execute_result"
    }
   ],
   "source": [
    "tu1 * 2"
   ]
  },
  {
   "cell_type": "markdown",
   "id": "c605008a",
   "metadata": {},
   "source": [
    "# 딕셔너리\n",
    "\n",
    "- 자료의 대응관계를 나타내는 자료형\n",
    "    - 연관 배열(Associative array) 또는 해시(Hash)\n",
    "    \n",
    "- 데이터를 조회할 때 key를 통해 value를 구함\n",
    "\n",
    "- 딕셔너리 선언\n",
    "    - 중괄호{}로 선언\n",
    "    - 키 : 값 의 형태를 콤마(,)로 연결해서 만듦\n",
    "        - 키는 문자열, 숫자, 불 등으로 선언할 수 있지만 일반적으로는 문자열을 주로 사용"
   ]
  },
  {
   "cell_type": "code",
   "execution_count": 82,
   "id": "2d6eb2df",
   "metadata": {},
   "outputs": [],
   "source": [
    "dic = {\"name\" : \"andy\", \"birth\" : \"1118\"}"
   ]
  },
  {
   "cell_type": "code",
   "execution_count": 84,
   "id": "fc96634c",
   "metadata": {},
   "outputs": [
    {
     "data": {
      "text/plain": [
       "'1118'"
      ]
     },
     "execution_count": 84,
     "metadata": {},
     "output_type": "execute_result"
    }
   ],
   "source": [
    "dic[\"birth\"]"
   ]
  },
  {
   "cell_type": "code",
   "execution_count": 87,
   "id": "c1ee2602",
   "metadata": {},
   "outputs": [
    {
     "data": {
      "text/plain": [
       "{'a': [1, 2, 3]}"
      ]
     },
     "execution_count": 87,
     "metadata": {},
     "output_type": "execute_result"
    }
   ],
   "source": [
    "dic = {\"a\" : [1, 2, 3]}\n",
    "dic"
   ]
  },
  {
   "cell_type": "code",
   "execution_count": 89,
   "id": "1990b7fc",
   "metadata": {},
   "outputs": [
    {
     "data": {
      "text/plain": [
       "3"
      ]
     },
     "execution_count": 89,
     "metadata": {},
     "output_type": "execute_result"
    }
   ],
   "source": [
    "dic[\"a\"][-1]"
   ]
  },
  {
   "cell_type": "markdown",
   "id": "57afcc1b",
   "metadata": {},
   "source": [
    "## 딕셔너리 추가, 수정, 삭제"
   ]
  },
  {
   "cell_type": "code",
   "execution_count": 90,
   "id": "7fe9fc4a",
   "metadata": {},
   "outputs": [],
   "source": [
    "# 키를 기반으로 값을 입력\n",
    "dic[\"name\"] = \"andy\""
   ]
  },
  {
   "cell_type": "code",
   "execution_count": 91,
   "id": "dbfa7331",
   "metadata": {},
   "outputs": [
    {
     "data": {
      "text/plain": [
       "{'a': [1, 2, 3], 'name': 'andy'}"
      ]
     },
     "execution_count": 91,
     "metadata": {},
     "output_type": "execute_result"
    }
   ],
   "source": [
    "dic"
   ]
  },
  {
   "cell_type": "code",
   "execution_count": 92,
   "id": "dbd6bc89",
   "metadata": {},
   "outputs": [],
   "source": [
    "# 이미 존재하는 키를 지정하고 값을 넣으면 기존의 값을 새로운 값으로 대치(수정)\n",
    "dic[\"name\"] = \"파인애플\""
   ]
  },
  {
   "cell_type": "code",
   "execution_count": 93,
   "id": "c7c22519",
   "metadata": {},
   "outputs": [
    {
     "data": {
      "text/plain": [
       "{'a': [1, 2, 3], 'name': '파인애플'}"
      ]
     },
     "execution_count": 93,
     "metadata": {},
     "output_type": "execute_result"
    }
   ],
   "source": [
    "dic"
   ]
  },
  {
   "cell_type": "code",
   "execution_count": 95,
   "id": "05554d3c",
   "metadata": {},
   "outputs": [],
   "source": [
    "# 삭제\n",
    "del dic[\"name\"]"
   ]
  },
  {
   "cell_type": "code",
   "execution_count": 96,
   "id": "647d452e",
   "metadata": {},
   "outputs": [
    {
     "data": {
      "text/plain": [
       "{'a': [1, 2, 3]}"
      ]
     },
     "execution_count": 96,
     "metadata": {},
     "output_type": "execute_result"
    }
   ],
   "source": [
    "dic"
   ]
  },
  {
   "cell_type": "markdown",
   "id": "96b7fac9",
   "metadata": {},
   "source": [
    "- 딕셔너리의 key는 고유한 값임\n",
    "    - 중복을 허용하지 않음\n",
    "    - 동일한 key가 존재하면 어떤 value를 불러와야할지 알 수 없기 때문에"
   ]
  },
  {
   "cell_type": "code",
   "execution_count": 97,
   "id": "9658ad47",
   "metadata": {},
   "outputs": [
    {
     "data": {
      "text/plain": [
       "{1: 'b'}"
      ]
     },
     "execution_count": 97,
     "metadata": {},
     "output_type": "execute_result"
    }
   ],
   "source": [
    "dic = {1 : \"a\", 1 : \"b\"}\n",
    "dic"
   ]
  },
  {
   "cell_type": "markdown",
   "id": "a717b041",
   "metadata": {},
   "source": [
    "- 딕셔너리의 key에 튜플은 쓸 수 있음\n",
    "    - 리스트는 쓸 수 없음\n",
    "    - 딕셔너리의 key의 요건은 변하지 않는 값(immutable)이기 때문"
   ]
  },
  {
   "cell_type": "code",
   "execution_count": 99,
   "id": "396ca5cd",
   "metadata": {},
   "outputs": [],
   "source": [
    "dic = {(1, 2) : \"hi\"}"
   ]
  },
  {
   "cell_type": "code",
   "execution_count": 100,
   "id": "b4dd2abb",
   "metadata": {},
   "outputs": [
    {
     "data": {
      "text/plain": [
       "{(1, 2): 'hi'}"
      ]
     },
     "execution_count": 100,
     "metadata": {},
     "output_type": "execute_result"
    }
   ],
   "source": [
    "dic"
   ]
  },
  {
   "cell_type": "code",
   "execution_count": 101,
   "id": "9d9c0e5e",
   "metadata": {},
   "outputs": [
    {
     "data": {
      "text/plain": [
       "'hi'"
      ]
     },
     "execution_count": 101,
     "metadata": {},
     "output_type": "execute_result"
    }
   ],
   "source": [
    "dic[(1,2)]"
   ]
  },
  {
   "cell_type": "markdown",
   "id": "a9a57e89",
   "metadata": {},
   "source": [
    "## 딕셔너리 관련 함수"
   ]
  },
  {
   "cell_type": "markdown",
   "id": "d790486f",
   "metadata": {},
   "source": [
    "- key, value, item 리스트"
   ]
  },
  {
   "cell_type": "code",
   "execution_count": 102,
   "id": "bdb6950c",
   "metadata": {},
   "outputs": [],
   "source": [
    "dic = {\"name\" : \"andy\", \"phone\" : \"01199991234\", \"birth\" : \"1118\"}"
   ]
  },
  {
   "cell_type": "code",
   "execution_count": 103,
   "id": "bb06a335",
   "metadata": {},
   "outputs": [
    {
     "data": {
      "text/plain": [
       "dict_keys(['name', 'phone', 'birth'])"
      ]
     },
     "execution_count": 103,
     "metadata": {},
     "output_type": "execute_result"
    }
   ],
   "source": [
    "dic.keys() # 해당 딕셔너리의 key만 목록으로 출력"
   ]
  },
  {
   "cell_type": "code",
   "execution_count": 104,
   "id": "96ca966b",
   "metadata": {},
   "outputs": [
    {
     "data": {
      "text/plain": [
       "dict_values(['andy', '01199991234', '1118'])"
      ]
     },
     "execution_count": 104,
     "metadata": {},
     "output_type": "execute_result"
    }
   ],
   "source": [
    "dic.values() # 해당 딕셔너리의 value만 목록으로 출력"
   ]
  },
  {
   "cell_type": "code",
   "execution_count": 106,
   "id": "4d30e07b",
   "metadata": {},
   "outputs": [
    {
     "data": {
      "text/plain": [
       "dict_items([('name', 'andy'), ('phone', '01199991234'), ('birth', '1118')])"
      ]
     },
     "execution_count": 106,
     "metadata": {},
     "output_type": "execute_result"
    }
   ],
   "source": [
    "dic.items() # 해당 딕셔너리의 항목들을 튜플 목록으로 출력"
   ]
  },
  {
   "cell_type": "markdown",
   "id": "b9c2f2f5",
   "metadata": {},
   "source": [
    "- get으로 value 얻기\n",
    "    - 존재하지 않는 키로 값을 가져오려고 할 경우 오류가 발생함\n",
    "        - get으로 key가 없을 경우 기본값을 대신 가져오게 할 수 있음"
   ]
  },
  {
   "cell_type": "code",
   "execution_count": 107,
   "id": "0f70ad10",
   "metadata": {},
   "outputs": [
    {
     "ename": "KeyError",
     "evalue": "'foo'",
     "output_type": "error",
     "traceback": [
      "\u001b[1;31m---------------------------------------------------------------------------\u001b[0m",
      "\u001b[1;31mKeyError\u001b[0m                                  Traceback (most recent call last)",
      "Cell \u001b[1;32mIn[107], line 1\u001b[0m\n\u001b[1;32m----> 1\u001b[0m dic[\u001b[38;5;124m\"\u001b[39m\u001b[38;5;124mfoo\u001b[39m\u001b[38;5;124m\"\u001b[39m]\n",
      "\u001b[1;31mKeyError\u001b[0m: 'foo'"
     ]
    }
   ],
   "source": [
    "dic[\"foo\"]"
   ]
  },
  {
   "cell_type": "code",
   "execution_count": 110,
   "id": "8c0d9b74",
   "metadata": {},
   "outputs": [
    {
     "data": {
      "text/plain": [
       "'bar'"
      ]
     },
     "execution_count": 110,
     "metadata": {},
     "output_type": "execute_result"
    }
   ],
   "source": [
    "dic.get(\"foo\", \"bar\")"
   ]
  },
  {
   "cell_type": "markdown",
   "id": "1d598d93",
   "metadata": {},
   "source": [
    "- 해당 키가 딕셔너리 안에 있는지 조사하기"
   ]
  },
  {
   "cell_type": "code",
   "execution_count": 111,
   "id": "b5206cc6",
   "metadata": {},
   "outputs": [
    {
     "data": {
      "text/plain": [
       "{'name': 'andy', 'phone': '01199991234', 'birth': '1118'}"
      ]
     },
     "execution_count": 111,
     "metadata": {},
     "output_type": "execute_result"
    }
   ],
   "source": [
    "dic"
   ]
  },
  {
   "cell_type": "code",
   "execution_count": 112,
   "id": "2b2ed53f",
   "metadata": {},
   "outputs": [
    {
     "data": {
      "text/plain": [
       "True"
      ]
     },
     "execution_count": 112,
     "metadata": {},
     "output_type": "execute_result"
    }
   ],
   "source": [
    "\"name\" in dic"
   ]
  },
  {
   "cell_type": "code",
   "execution_count": 113,
   "id": "622147ba",
   "metadata": {},
   "outputs": [
    {
     "data": {
      "text/plain": [
       "False"
      ]
     },
     "execution_count": 113,
     "metadata": {},
     "output_type": "execute_result"
    }
   ],
   "source": [
    "\"email\" in dic"
   ]
  },
  {
   "cell_type": "markdown",
   "id": "6561cc87",
   "metadata": {},
   "source": [
    "### 확인문제"
   ]
  },
  {
   "cell_type": "code",
   "execution_count": 116,
   "id": "1ecf0489",
   "metadata": {},
   "outputs": [],
   "source": [
    "# 다음의 pets 데이터에서 \"구름\"과 3을 각각 출력해보기\n",
    "pets = [\n",
    "    {\"name\" : \"구름\", \"age\" : 5},\n",
    "    {\"name\" : \"초코\", \"age\" : 3},\n",
    "    {\"name\" : \"아지\", \"age\" : 1},\n",
    "    {\"name\" : \"호랑이\", \"age\" : 2}\n",
    "]"
   ]
  },
  {
   "cell_type": "code",
   "execution_count": 120,
   "id": "9647c3a4",
   "metadata": {},
   "outputs": [
    {
     "name": "stdout",
     "output_type": "stream",
     "text": [
      "구름\n",
      "3\n"
     ]
    }
   ],
   "source": [
    "print(pets[0][\"name\"]) # 구름\n",
    "print(pets[1][\"age\"]) # 3"
   ]
  },
  {
   "cell_type": "markdown",
   "id": "178d83c2",
   "metadata": {},
   "source": [
    "# 세트\n",
    "\n",
    "- 중복을 허용하지 않는다\n",
    "- 순서가 없음"
   ]
  },
  {
   "cell_type": "code",
   "execution_count": 124,
   "id": "48c9f7d5",
   "metadata": {},
   "outputs": [],
   "source": [
    "se1 = set(\"Hello\")"
   ]
  },
  {
   "cell_type": "code",
   "execution_count": 125,
   "id": "935de2ce",
   "metadata": {},
   "outputs": [
    {
     "data": {
      "text/plain": [
       "{'H', 'e', 'l', 'o'}"
      ]
     },
     "execution_count": 125,
     "metadata": {},
     "output_type": "execute_result"
    }
   ],
   "source": [
    "se1"
   ]
  },
  {
   "cell_type": "markdown",
   "id": "faa78e81",
   "metadata": {},
   "source": [
    "- 교집합, 합집합, 차집합"
   ]
  },
  {
   "cell_type": "code",
   "execution_count": 127,
   "id": "90b8fe10",
   "metadata": {},
   "outputs": [],
   "source": [
    "set1 = {1, 2, 3, 4, 5, 6}\n",
    "set2 = {4, 5, 6, 7, 8, 9}"
   ]
  },
  {
   "cell_type": "code",
   "execution_count": 128,
   "id": "1dd8e149",
   "metadata": {},
   "outputs": [
    {
     "data": {
      "text/plain": [
       "{4, 5, 6}"
      ]
     },
     "execution_count": 128,
     "metadata": {},
     "output_type": "execute_result"
    }
   ],
   "source": [
    "# 교집합\n",
    "set1 & set2"
   ]
  },
  {
   "cell_type": "code",
   "execution_count": 129,
   "id": "68e32e0a",
   "metadata": {},
   "outputs": [
    {
     "data": {
      "text/plain": [
       "{4, 5, 6}"
      ]
     },
     "execution_count": 129,
     "metadata": {},
     "output_type": "execute_result"
    }
   ],
   "source": [
    "set1.intersection(set2)"
   ]
  },
  {
   "cell_type": "code",
   "execution_count": 130,
   "id": "8fba6c5d",
   "metadata": {},
   "outputs": [
    {
     "data": {
      "text/plain": [
       "{1, 2, 3, 4, 5, 6, 7, 8, 9}"
      ]
     },
     "execution_count": 130,
     "metadata": {},
     "output_type": "execute_result"
    }
   ],
   "source": [
    "# 합집합\n",
    "set1 | set2"
   ]
  },
  {
   "cell_type": "code",
   "execution_count": 131,
   "id": "f426dc8f",
   "metadata": {},
   "outputs": [
    {
     "data": {
      "text/plain": [
       "{1, 2, 3, 4, 5, 6, 7, 8, 9}"
      ]
     },
     "execution_count": 131,
     "metadata": {},
     "output_type": "execute_result"
    }
   ],
   "source": [
    "set1.union(set2)"
   ]
  },
  {
   "cell_type": "code",
   "execution_count": 132,
   "id": "80e9ab7f",
   "metadata": {},
   "outputs": [
    {
     "data": {
      "text/plain": [
       "{1, 2, 3}"
      ]
     },
     "execution_count": 132,
     "metadata": {},
     "output_type": "execute_result"
    }
   ],
   "source": [
    "# 차집합\n",
    "set1 - set2"
   ]
  },
  {
   "cell_type": "code",
   "execution_count": 133,
   "id": "a8ed16b4",
   "metadata": {},
   "outputs": [
    {
     "data": {
      "text/plain": [
       "{7, 8, 9}"
      ]
     },
     "execution_count": 133,
     "metadata": {},
     "output_type": "execute_result"
    }
   ],
   "source": [
    "set2 - set1"
   ]
  },
  {
   "cell_type": "code",
   "execution_count": 134,
   "id": "f46bdfc1",
   "metadata": {},
   "outputs": [
    {
     "data": {
      "text/plain": [
       "{1, 2, 3}"
      ]
     },
     "execution_count": 134,
     "metadata": {},
     "output_type": "execute_result"
    }
   ],
   "source": [
    "set1.difference(set2)"
   ]
  },
  {
   "cell_type": "code",
   "execution_count": 135,
   "id": "8eb2fcc7",
   "metadata": {},
   "outputs": [
    {
     "data": {
      "text/plain": [
       "{7, 8, 9}"
      ]
     },
     "execution_count": 135,
     "metadata": {},
     "output_type": "execute_result"
    }
   ],
   "source": [
    "set2.difference(set1)"
   ]
  },
  {
   "cell_type": "markdown",
   "id": "262d0bbe",
   "metadata": {},
   "source": [
    "## 세트 관련 함수"
   ]
  },
  {
   "cell_type": "code",
   "execution_count": 137,
   "id": "210bccc2",
   "metadata": {},
   "outputs": [],
   "source": [
    "# 값 추가\n",
    "set1.add(7)"
   ]
  },
  {
   "cell_type": "code",
   "execution_count": 138,
   "id": "0fdf2a5d",
   "metadata": {},
   "outputs": [
    {
     "data": {
      "text/plain": [
       "{1, 2, 3, 4, 5, 6, 7}"
      ]
     },
     "execution_count": 138,
     "metadata": {},
     "output_type": "execute_result"
    }
   ],
   "source": [
    "set1"
   ]
  },
  {
   "cell_type": "code",
   "execution_count": 139,
   "id": "7e208988",
   "metadata": {},
   "outputs": [],
   "source": [
    "# 값 제거\n",
    "set1.remove(1)"
   ]
  },
  {
   "cell_type": "code",
   "execution_count": 140,
   "id": "0f273da3",
   "metadata": {},
   "outputs": [
    {
     "data": {
      "text/plain": [
       "{2, 3, 4, 5, 6, 7}"
      ]
     },
     "execution_count": 140,
     "metadata": {},
     "output_type": "execute_result"
    }
   ],
   "source": [
    "set1"
   ]
  },
  {
   "cell_type": "code",
   "execution_count": null,
   "id": "0c32614d",
   "metadata": {},
   "outputs": [],
   "source": []
  }
 ],
 "metadata": {
  "kernelspec": {
   "display_name": "Python 3 (ipykernel)",
   "language": "python",
   "name": "python3"
  },
  "language_info": {
   "codemirror_mode": {
    "name": "ipython",
    "version": 3
   },
   "file_extension": ".py",
   "mimetype": "text/x-python",
   "name": "python",
   "nbconvert_exporter": "python",
   "pygments_lexer": "ipython3",
   "version": "3.11.5"
  }
 },
 "nbformat": 4,
 "nbformat_minor": 5
}
