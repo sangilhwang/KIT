{
 "cells": [
  {
   "cell_type": "markdown",
   "id": "d9b792ef",
   "metadata": {},
   "source": [
    "# 파이썬과 MYSQL의 연동\n",
    "\n",
    "- pymysql 라이브러리를 이용하면 파이썬과 MYSQL을 연동하는 데이터베이스 연동 프로그램을 작성할 수 있음\n",
    "- dbeaver 사용하던 때와는 미묘하게 다를 수 있음"
   ]
  },
  {
   "cell_type": "markdown",
   "id": "6824e3bd",
   "metadata": {},
   "source": [
    "## 파이썬에서 데이터 입력\n",
    "\n",
    "1. MYSQL 연결하기\n",
    "\n",
    "     - 연결자 = pymysql.connect(연결 옵션)\n",
    "\n",
    "2. 커서 생성하기\n",
    "\n",
    "    - 커서이름 = 연결자.curser()\n",
    "\n",
    "3. 테이블 만들기\n",
    "\n",
    "    - 커서이름.execute(\"CREATE TABLE 문장\")\n",
    "\n",
    "4. 데이터 입력하기\n",
    "\n",
    "    - 커서이름.execute(\"INSERT 문장\")\n",
    "\n",
    "5. 입력한 데이터 저장하기 (commit)\n",
    "\n",
    "    - 연결자.commit()\n",
    "\n",
    "6. MYSQL 연결 종료하기\n",
    "\n",
    "    - 연결자.close()"
   ]
  },
  {
   "cell_type": "markdown",
   "id": "3bb2fbe2",
   "metadata": {},
   "source": [
    "### mysql 연결\n",
    "\n",
    "```\n",
    "pymysql.connect(host = 서버IP주소, user = 사용자, password = 암호, db = 데이터베이스, charset = 문자세트, port = 포트번호)\n",
    "```\n",
    "\n",
    "pymysql 모듈이 설치 안되어 있을 경우 cmd / pip install pymysql 실행"
   ]
  },
  {
   "cell_type": "code",
   "execution_count": 2,
   "id": "0eb8d89f",
   "metadata": {},
   "outputs": [],
   "source": [
    "import pymysql"
   ]
  },
  {
   "cell_type": "code",
   "execution_count": 4,
   "id": "6f2a8994",
   "metadata": {},
   "outputs": [],
   "source": [
    "# 연결자의 이름은 관습적으로 conn (connect의 약자)\n",
    "\n",
    "conn = pymysql.connect(host = \"127.0.0.1\", user = \"root\", password = \"0000\", db = \"market_db\")"
   ]
  },
  {
   "cell_type": "markdown",
   "id": "f5ab8f51",
   "metadata": {},
   "source": [
    "### 커서 생성\n",
    "\n",
    "- 커서(cursor) : 데이터베이스에 sql문을 실행하거나 실행된 결과를 받는 통로\n",
    "- 커서는 앞 단계에서 연결한 연결자에 만들어야 함"
   ]
  },
  {
   "cell_type": "code",
   "execution_count": 5,
   "id": "08b8072c",
   "metadata": {},
   "outputs": [],
   "source": [
    "# 커서의 이름은 관습적으로 cur\n",
    "\n",
    "cur = conn.cursor()"
   ]
  },
  {
   "cell_type": "markdown",
   "id": "83cdcb8d",
   "metadata": {},
   "source": [
    "### 테이블 생성\n",
    "\n",
    "- 테이블 생성하는 sql문을 커서이름.excute() 함수의 매개변수로 전달"
   ]
  },
  {
   "cell_type": "code",
   "execution_count": 8,
   "id": "d3ef1b84",
   "metadata": {},
   "outputs": [
    {
     "data": {
      "text/plain": [
       "0"
      ]
     },
     "execution_count": 8,
     "metadata": {},
     "output_type": "execute_result"
    }
   ],
   "source": [
    "# 할 수 있다가 의미 있는것. dbeaver에서 만드나 여기서 만드나 똑같음\n",
    "\n",
    "cur.execute(\"\"\"DROP TABLE IF EXISTS userTable\"\"\")\n",
    "cur.execute(\"\"\"CREATE TABLE userTable (ID CHAR(4), userName CHAR(15), email CHAR(20), birthYear INT)\"\"\" )\n",
    "\n",
    "# 0 값을 return하면 잘 실행되었다는 의미"
   ]
  },
  {
   "cell_type": "markdown",
   "id": "4e059dc6",
   "metadata": {},
   "source": [
    "### 데이터 입력"
   ]
  },
  {
   "cell_type": "code",
   "execution_count": 9,
   "id": "a8645d73",
   "metadata": {},
   "outputs": [],
   "source": [
    "SQL = \"\"\"\n",
    "INSERT INTO userTable VALUES ('hong', \"홍지윤\", 'hong@naver.com', 1996), ('kim', '김태연', 'kim@daum.net', 2011)\n",
    "\"\"\""
   ]
  },
  {
   "cell_type": "code",
   "execution_count": 10,
   "id": "810e43fe",
   "metadata": {},
   "outputs": [
    {
     "data": {
      "text/plain": [
       "2"
      ]
     },
     "execution_count": 10,
     "metadata": {},
     "output_type": "execute_result"
    }
   ],
   "source": [
    "cur.execute(SQL)"
   ]
  },
  {
   "cell_type": "markdown",
   "id": "8423cb62",
   "metadata": {},
   "source": [
    "### 입력한 데이터 저장\n",
    "\n",
    "- 앞 단계에서 입력한 데이터가 아직 데이터베이스에 완전히 반영되지 않았음\n",
    "- 현재까지의 입력 데이터를 완전히 데이터베이스에 반영하는 것을 (commit)이라고 함"
   ]
  },
  {
   "cell_type": "code",
   "execution_count": 11,
   "id": "de261dfe",
   "metadata": {},
   "outputs": [],
   "source": [
    "conn.commit()"
   ]
  },
  {
   "cell_type": "markdown",
   "id": "dea65b9f",
   "metadata": {},
   "source": [
    "### 연결 종료\n",
    "\n",
    "- 데이터베이스 사용 후에는 연결자를 닫아줘야 함"
   ]
  },
  {
   "cell_type": "code",
   "execution_count": 12,
   "id": "85f9720c",
   "metadata": {},
   "outputs": [],
   "source": [
    "conn.close()"
   ]
  },
  {
   "cell_type": "markdown",
   "id": "ff970296",
   "metadata": {},
   "source": [
    "# 연동 프로그래밍 활용"
   ]
  },
  {
   "cell_type": "code",
   "execution_count": 15,
   "id": "9165dfdf",
   "metadata": {},
   "outputs": [
    {
     "name": "stdout",
     "output_type": "stream",
     "text": [
      "사용자 ID ==> star\n",
      "사용자 이름 ==> 별사랑\n",
      "사용자 이메일 ==> star@naver.com\n",
      "사용자 출생연도 ==> 1990\n"
     ]
    }
   ],
   "source": [
    "conn = pymysql.connect(host = \"127.0.0.1\", user = \"root\", password = \"0000\", db = \"market_db\")\n",
    "\n",
    "cur = conn.cursor()\n",
    "\n",
    "user_id = input(\"사용자 ID ==> \")\n",
    "user_name = input(\"사용자 이름 ==> \")\n",
    "user_email = input(\"사용자 이메일 ==> \")\n",
    "user_birth = input(\"사용자 출생연도 ==> \")\n",
    "\n",
    "sql = f\"\"\"\n",
    "INSERT INTO userTable Values('{user_id}', '{user_name}', '{user_email}', '{int(user_birth)}')\n",
    "\"\"\"\n",
    "\n",
    "cur.execute(sql)\n",
    "\n",
    "conn.commit()\n",
    "conn.close()"
   ]
  },
  {
   "cell_type": "markdown",
   "id": "2671d2c8",
   "metadata": {},
   "source": [
    "## 데이터 조회\n",
    "\n",
    "- 데이터 입력과 기본 구조는 같음\n",
    "\n",
    "1. MYSQL 연결하기\n",
    "\n",
    "     - 연결자 = pymysql.connect(연결 옵션)\n",
    "\n",
    "2. 커서 생성하기\n",
    "\n",
    "    - 커서이름 = 연결자.curser()\n",
    "\n",
    "3. 데이터 조회\n",
    "    - 커서이름.execute(\"SELECT 문장\")\n",
    "    \n",
    "4. 조회한 데이터 출력\n",
    "    - 커서이름.fetchone()\n",
    "    - 커서이름.fetchall()\n",
    "    - 커서이름.fetchmany()\n",
    "    \n",
    "5. MYSQL 연결 종료하기\n",
    "\n",
    "    - 연결자.close()\n",
    "    \n",
    "- 조회는 데이터를 입력하거나 변경하는 것이 아니므로 굳이 저장(커밋) 할 필요는 없음"
   ]
  },
  {
   "cell_type": "code",
   "execution_count": 26,
   "id": "f1555dc2",
   "metadata": {},
   "outputs": [
    {
     "name": "stdout",
     "output_type": "stream",
     "text": [
      "사용자ID\t사용자이름\t이메일\t\t출생연도\n",
      "--------------------------------------------------------\n",
      "hong\t\t홍지윤\t\thong@naver.com\t1996\n",
      "kim\t\t김태연\t\tkim@daum.net\t2011\n",
      "star\t\t별사랑\t\tstar@naver.com\t1990\n"
     ]
    }
   ],
   "source": [
    "conn = pymysql.connect(host = \"127.0.0.1\", user = \"root\", password = \"0000\", db = \"market_db\")\n",
    "\n",
    "cur = conn.cursor()\n",
    "\n",
    "cur.execute(\"SELECT * FROM userTable\")\n",
    "\n",
    "print(\"사용자ID\\t사용자이름\\t이메일\\t\\t출생연도\")\n",
    "print(\"-\" * 56)\n",
    "            \n",
    "while True:\n",
    "    row = cur.fetchone()\n",
    "    \n",
    "    if row == None:\n",
    "        break\n",
    "            \n",
    "    print(f\"{row[0]}\\t\\t{row[1]}\\t\\t{row[2]}\\t{row[3]}\")\n",
    "\n",
    "conn.close()"
   ]
  },
  {
   "cell_type": "code",
   "execution_count": 27,
   "id": "da01ca40",
   "metadata": {},
   "outputs": [
    {
     "name": "stdout",
     "output_type": "stream",
     "text": [
      "(('hong', '홍지윤', 'hong@naver.com', 1996), ('kim', '김태연', 'kim@daum.net', 2011), ('star', '별사랑', 'star@naver.com', 1990))\n",
      "\n",
      "사용자ID\t사용자이름\t이메일\t\t출생연도\n",
      "--------------------------------------------------------\n",
      "hong\t\t홍지윤\t\thong@naver.com\t1996\n",
      "kim\t\t김태연\t\tkim@daum.net\t2011\n",
      "star\t\t별사랑\t\tstar@naver.com\t1990\n"
     ]
    }
   ],
   "source": [
    "conn = pymysql.connect(host = \"127.0.0.1\", user = \"root\", password = \"0000\", db = \"market_db\")\n",
    "\n",
    "cur = conn.cursor()\n",
    "\n",
    "cur.execute(\"SELECT * FROM userTable\")\n",
    " \n",
    "row = cur.fetchall()\n",
    "\n",
    "print(row)\n",
    "print(\"\")\n",
    "print(\"사용자ID\\t사용자이름\\t이메일\\t\\t출생연도\")\n",
    "print(\"-\" * 56)\n",
    "\n",
    "for i in row:\n",
    "    print(f\"{i[0]}\\t\\t{i[1]}\\t\\t{i[2]}\\t{i[3]}\")\n",
    "\n",
    "conn.close()"
   ]
  },
  {
   "cell_type": "markdown",
   "id": "8ccfcf2c",
   "metadata": {},
   "source": [
    "# with문 활용"
   ]
  },
  {
   "cell_type": "code",
   "execution_count": 31,
   "id": "46208e7a",
   "metadata": {},
   "outputs": [
    {
     "name": "stdout",
     "output_type": "stream",
     "text": [
      "(('hong', '홍지윤', 'hong@naver.com', 1996), ('kim', '김태연', 'kim@daum.net', 2011), ('star', '별사랑', 'star@naver.com', 1990))\n",
      "\n",
      "사용자ID\t사용자이름\t이메일\t\t출생연도\n",
      "--------------------------------------------------------\n",
      "hong\t\t홍지윤\t\thong@naver.com\t1996\n",
      "kim\t\t김태연\t\tkim@daum.net\t2011\n",
      "star\t\t별사랑\t\tstar@naver.com\t1990\n"
     ]
    }
   ],
   "source": [
    "with pymysql.connect(host = \"127.0.0.1\", user = \"root\", password = \"0000\", db = \"market_db\") as conn:\n",
    "\n",
    "    with conn.cursor() as cur:\n",
    "\n",
    "        cur.execute(\"SELECT * FROM userTable\")\n",
    "\n",
    "        row = cur.fetchall()\n",
    "\n",
    "        print(row)\n",
    "        print(\"\")\n",
    "        print(\"사용자ID\\t사용자이름\\t이메일\\t\\t출생연도\")\n",
    "        print(\"-\" * 56)\n",
    "\n",
    "        for i in row:\n",
    "            print(f\"{i[0]}\\t\\t{i[1]}\\t\\t{i[2]}\\t{i[3]}\")"
   ]
  },
  {
   "cell_type": "code",
   "execution_count": 35,
   "id": "19c22bd2",
   "metadata": {},
   "outputs": [
    {
     "ename": "Error",
     "evalue": "Already closed",
     "output_type": "error",
     "traceback": [
      "\u001b[1;31m---------------------------------------------------------------------------\u001b[0m",
      "\u001b[1;31mError\u001b[0m                                     Traceback (most recent call last)",
      "Cell \u001b[1;32mIn[35], line 2\u001b[0m\n\u001b[0;32m      1\u001b[0m \u001b[38;5;66;03m# 이미 닫혀 있음\u001b[39;00m\n\u001b[1;32m----> 2\u001b[0m conn\u001b[38;5;241m.\u001b[39mclose()\n",
      "File \u001b[1;32mC:\\ProgramData\\anaconda3\\Lib\\site-packages\\pymysql\\connections.py:409\u001b[0m, in \u001b[0;36mConnection.close\u001b[1;34m(self)\u001b[0m\n\u001b[0;32m    400\u001b[0m \u001b[38;5;250m\u001b[39m\u001b[38;5;124;03m\"\"\"\u001b[39;00m\n\u001b[0;32m    401\u001b[0m \u001b[38;5;124;03mSend the quit message and close the socket.\u001b[39;00m\n\u001b[0;32m    402\u001b[0m \n\u001b[1;32m   (...)\u001b[0m\n\u001b[0;32m    406\u001b[0m \u001b[38;5;124;03m:raise Error: If the connection is already closed.\u001b[39;00m\n\u001b[0;32m    407\u001b[0m \u001b[38;5;124;03m\"\"\"\u001b[39;00m\n\u001b[0;32m    408\u001b[0m \u001b[38;5;28;01mif\u001b[39;00m \u001b[38;5;28mself\u001b[39m\u001b[38;5;241m.\u001b[39m_closed:\n\u001b[1;32m--> 409\u001b[0m     \u001b[38;5;28;01mraise\u001b[39;00m err\u001b[38;5;241m.\u001b[39mError(\u001b[38;5;124m\"\u001b[39m\u001b[38;5;124mAlready closed\u001b[39m\u001b[38;5;124m\"\u001b[39m)\n\u001b[0;32m    410\u001b[0m \u001b[38;5;28mself\u001b[39m\u001b[38;5;241m.\u001b[39m_closed \u001b[38;5;241m=\u001b[39m \u001b[38;5;28;01mTrue\u001b[39;00m\n\u001b[0;32m    411\u001b[0m \u001b[38;5;28;01mif\u001b[39;00m \u001b[38;5;28mself\u001b[39m\u001b[38;5;241m.\u001b[39m_sock \u001b[38;5;129;01mis\u001b[39;00m \u001b[38;5;28;01mNone\u001b[39;00m:\n",
      "\u001b[1;31mError\u001b[0m: Already closed"
     ]
    }
   ],
   "source": [
    "# 이미 닫혀 있음\n",
    "conn.close()"
   ]
  },
  {
   "cell_type": "code",
   "execution_count": null,
   "id": "ff22b7cc",
   "metadata": {},
   "outputs": [],
   "source": []
  }
 ],
 "metadata": {
  "kernelspec": {
   "display_name": "Python 3 (ipykernel)",
   "language": "python",
   "name": "python3"
  },
  "language_info": {
   "codemirror_mode": {
    "name": "ipython",
    "version": 3
   },
   "file_extension": ".py",
   "mimetype": "text/x-python",
   "name": "python",
   "nbconvert_exporter": "python",
   "pygments_lexer": "ipython3",
   "version": "3.11.5"
  }
 },
 "nbformat": 4,
 "nbformat_minor": 5
}
