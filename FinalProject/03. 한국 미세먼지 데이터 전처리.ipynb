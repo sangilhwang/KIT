{
 "cells": [
  {
   "cell_type": "code",
   "execution_count": 1,
   "id": "28315f6b",
   "metadata": {},
   "outputs": [],
   "source": [
    "import pandas as pd\n",
    "import numpy as np\n",
    "from datetime import datetime, timedelta"
   ]
  },
  {
   "cell_type": "code",
   "execution_count": 3,
   "id": "9cee5ad1",
   "metadata": {},
   "outputs": [],
   "source": [
    "kr_pm10_2015 = pd.read_csv(r\".\\Git\\데이터\\국내 pm10 평균농도\\pm10_2015.csv\", sep=',',encoding='mbcs')\n",
    "kr_pm10_2016 = pd.read_csv(r\".\\Git\\데이터\\국내 pm10 평균농도\\pm10_2016.csv\", sep=',',encoding='mbcs')\n",
    "kr_pm10_2017 = pd.read_csv(r\".\\Git\\데이터\\국내 pm10 평균농도\\pm10_2017.csv\", sep=',',encoding='mbcs')\n",
    "kr_pm10_2018 = pd.read_csv(r\".\\Git\\데이터\\국내 pm10 평균농도\\pm10_2018.csv\", sep=',',encoding='mbcs')\n",
    "kr_pm10_2019 = pd.read_csv(r\".\\Git\\데이터\\국내 pm10 평균농도\\pm10_2019.csv\", sep=',',encoding='mbcs')\n",
    "kr_pm10_2020 = pd.read_csv(r\".\\Git\\데이터\\국내 pm10 평균농도\\pm10_2020.csv\", sep=',',encoding='mbcs')\n",
    "kr_pm10_2021 = pd.read_csv(r\".\\Git\\데이터\\국내 pm10 평균농도\\pm10_2021.csv\", sep=',',encoding='mbcs')\n",
    "kr_pm10_2022 = pd.read_csv(r\".\\Git\\데이터\\국내 pm10 평균농도\\pm10_2022.csv\", sep=',',encoding='mbcs')\n",
    "kr_pm10_2023 = pd.read_csv(r\".\\Git\\데이터\\국내 pm10 평균농도\\pm10_2023.csv\", sep=',',encoding='mbcs')\n",
    "kr_pm10_2024 = pd.read_csv(r\".\\Git\\데이터\\국내 pm10 평균농도\\pm10_2024.csv\", sep=',',encoding='mbcs')"
   ]
  },
  {
   "cell_type": "code",
   "execution_count": 9,
   "id": "d3c3752c",
   "metadata": {},
   "outputs": [],
   "source": [
    "kr_pm10 = pd.concat([kr_pm10_2015, kr_pm10_2016, kr_pm10_2017, kr_pm10_2018, kr_pm10_2019,\n",
    "                    kr_pm10_2020, kr_pm10_2021, kr_pm10_2022, kr_pm10_2023, kr_pm10_2024], axis = 0)"
   ]
  },
  {
   "cell_type": "code",
   "execution_count": 11,
   "id": "b3400608",
   "metadata": {},
   "outputs": [],
   "source": [
    "kr_pm10 = kr_pm10.drop(\"지점\", axis = 1)"
   ]
  },
  {
   "cell_type": "code",
   "execution_count": 13,
   "id": "3b61ecc4",
   "metadata": {},
   "outputs": [],
   "source": [
    "kr_pm10.columns = [\"지점명\", \"일시\", \"pm10\"]"
   ]
  },
  {
   "cell_type": "code",
   "execution_count": 25,
   "id": "4b78eef2",
   "metadata": {},
   "outputs": [
    {
     "data": {
      "text/plain": [
       "array(['속초', '광덕산', '대관령', '춘천', '백령도', '서울', '울릉도독도(감)', '관악산', '수원',\n",
       "       '영월', '울진', '안면도(감)', '추풍령', '안동', '군산', '대구', '전주', '울산', '광주',\n",
       "       '구덕산', '흑산도', '진도(첨찰산)', '고산', '진주', '강화', '북격렬비도', '천안', '진도군',\n",
       "       '문경', '연평도', '북춘천'], dtype=object)"
      ]
     },
     "execution_count": 25,
     "metadata": {},
     "output_type": "execute_result"
    }
   ],
   "source": [
    "kr_pm10[\"지점명\"].unique()"
   ]
  },
  {
   "cell_type": "markdown",
   "id": "e399c210",
   "metadata": {},
   "source": [
    "## 종속변수 지점 선택\n",
    "\n",
    "- 추후 어느 지점들을 종속변수로 삼을지 논의가 필요함\n",
    "    - 가능하다면 초미세먼지 데이터가 있는 곳과 중복되도록 하는게 좋을지도\n",
    "    - 현재 초미세먼지는 서울만 예측을 하고 여유가 된다면 다른 지역도 시도해보는 방향\n",
    "\n",
    "- 종속변수 지정을 위해 고려할만한 요소들?\n",
    "    - 인구가 많은 지점\n",
    "    - 특정 지역을 대표할 수 있는 지점\n",
    "    - 관광객 등의 유동인구나 관심이 높은 지점\n",
    "    \n",
    "- 종속변수마다 모델을 새로 만들고 학습시켜야 하는 굉장히 복잡한 과정을 거쳐야함\n",
    "    - 현실적으로 너무 많은 지점을 종속변수로 채택할 수 없음\n",
    "    - 경기도, 강원도, 충청도, 전라도, 경상도를 대표하는 지점 1개씩 지정하는 방향 고민중\n",
    "\n",
    "- 각 지점별 메모\n",
    "    - 수도권 대표로 **서울**\n",
    "    - **구덕산**은 부산에 있는 산. 경상도 대표로 선정하기 위해서는 구덕산이 적절한 것인지, **울산**으로 대체할 것인지 고민 필요\n",
    "        - 구덕산의 기상레이더관측소는 고도 391m의 시약산 정상에 위치해있음. 부산의 미세먼지를 반영하기에 적절한가?\n",
    "        - https://www.newsis.com/view/NISX20180114_0000202464\n",
    "    - 충청도 대표 **천안**...? 세종이나 대전 있으면 좋을텐데...\n",
    "    - 전라도 대표 **광주**\n",
    "    - 강원도 도시 지점인 속초, 춘천, 영월 중에서 인구가 가장 많은 지점은 **춘천**\n",
    "        - 동해안의 대표로써 **속초**가 지리적으로 적절하다고 생각됨"
   ]
  },
  {
   "cell_type": "code",
   "execution_count": null,
   "id": "b9189ac9",
   "metadata": {},
   "outputs": [],
   "source": []
  },
  {
   "cell_type": "code",
   "execution_count": 17,
   "id": "e1ff4246",
   "metadata": {},
   "outputs": [],
   "source": [
    "kr_pm10[\"일시\"] = kr_pm10[\"일시\"].map(lambda x: datetime.strptime(x, '%Y-%m-%d %H:%M'))"
   ]
  },
  {
   "cell_type": "code",
   "execution_count": 21,
   "id": "a1a56ccf",
   "metadata": {},
   "outputs": [],
   "source": [
    "kr_pm10_pivot = kr_pm10.pivot(index = [\"일시\"], columns = [\"지점명\"], values = [\"pm10\"])"
   ]
  },
  {
   "cell_type": "code",
   "execution_count": 31,
   "id": "48225d16",
   "metadata": {},
   "outputs": [],
   "source": [
    "kr_pm10_pivot = kr_pm10_pivot.loc[:, [(\"pm10\", \"서울\"), (\"pm10\", \"속초\"), (\"pm10\", \"천안\"), (\"pm10\", \"광주\"), (\"pm10\", \"울산\")]]"
   ]
  },
  {
   "cell_type": "code",
   "execution_count": 35,
   "id": "b2ca0c66",
   "metadata": {},
   "outputs": [
    {
     "name": "stdout",
     "output_type": "stream",
     "text": [
      "<class 'pandas.core.frame.DataFrame'>\n",
      "DatetimeIndex: 82143 entries, 2015-01-01 00:00:00 to 2024-05-19 23:00:00\n",
      "Data columns (total 5 columns):\n",
      " #   Column      Non-Null Count  Dtype  \n",
      "---  ------      --------------  -----  \n",
      " 0   (pm10, 서울)  77079 non-null  float64\n",
      " 1   (pm10, 속초)  77128 non-null  float64\n",
      " 2   (pm10, 천안)  77396 non-null  float64\n",
      " 3   (pm10, 광주)  75839 non-null  float64\n",
      " 4   (pm10, 울산)  78617 non-null  float64\n",
      "dtypes: float64(5)\n",
      "memory usage: 3.8 MB\n"
     ]
    }
   ],
   "source": [
    "kr_pm10_pivot.info()"
   ]
  },
  {
   "cell_type": "code",
   "execution_count": null,
   "id": "a7ae4829",
   "metadata": {},
   "outputs": [],
   "source": []
  },
  {
   "cell_type": "code",
   "execution_count": null,
   "id": "589e669f",
   "metadata": {},
   "outputs": [],
   "source": []
  },
  {
   "cell_type": "code",
   "execution_count": null,
   "id": "cdbe63b6",
   "metadata": {},
   "outputs": [],
   "source": []
  },
  {
   "cell_type": "code",
   "execution_count": null,
   "id": "6afa0ab9",
   "metadata": {},
   "outputs": [],
   "source": []
  },
  {
   "cell_type": "code",
   "execution_count": null,
   "id": "1ce91584",
   "metadata": {},
   "outputs": [],
   "source": []
  },
  {
   "cell_type": "code",
   "execution_count": null,
   "id": "074a9985",
   "metadata": {},
   "outputs": [],
   "source": []
  },
  {
   "cell_type": "code",
   "execution_count": null,
   "id": "911c4467",
   "metadata": {},
   "outputs": [],
   "source": []
  },
  {
   "cell_type": "code",
   "execution_count": null,
   "id": "6a2c4ed2",
   "metadata": {},
   "outputs": [],
   "source": []
  },
  {
   "cell_type": "code",
   "execution_count": null,
   "id": "c5a0e675",
   "metadata": {},
   "outputs": [],
   "source": []
  },
  {
   "cell_type": "code",
   "execution_count": null,
   "id": "8b817bca",
   "metadata": {},
   "outputs": [],
   "source": []
  },
  {
   "cell_type": "code",
   "execution_count": null,
   "id": "3bdbf2c8",
   "metadata": {},
   "outputs": [],
   "source": []
  },
  {
   "cell_type": "code",
   "execution_count": null,
   "id": "ef952c36",
   "metadata": {},
   "outputs": [],
   "source": []
  },
  {
   "cell_type": "code",
   "execution_count": null,
   "id": "2a91b31a",
   "metadata": {},
   "outputs": [],
   "source": []
  },
  {
   "cell_type": "code",
   "execution_count": null,
   "id": "b8fa513c",
   "metadata": {},
   "outputs": [],
   "source": []
  },
  {
   "cell_type": "code",
   "execution_count": null,
   "id": "a9d7979b",
   "metadata": {},
   "outputs": [],
   "source": []
  },
  {
   "cell_type": "code",
   "execution_count": null,
   "id": "91ddf927",
   "metadata": {},
   "outputs": [],
   "source": []
  },
  {
   "cell_type": "code",
   "execution_count": null,
   "id": "54464c60",
   "metadata": {},
   "outputs": [],
   "source": []
  },
  {
   "cell_type": "code",
   "execution_count": null,
   "id": "35aff747",
   "metadata": {},
   "outputs": [],
   "source": []
  },
  {
   "cell_type": "code",
   "execution_count": null,
   "id": "d636d86c",
   "metadata": {},
   "outputs": [],
   "source": []
  },
  {
   "cell_type": "code",
   "execution_count": null,
   "id": "023d463b",
   "metadata": {},
   "outputs": [],
   "source": []
  },
  {
   "cell_type": "code",
   "execution_count": null,
   "id": "182d696c",
   "metadata": {},
   "outputs": [],
   "source": []
  },
  {
   "cell_type": "code",
   "execution_count": null,
   "id": "b7bbe0ed",
   "metadata": {},
   "outputs": [],
   "source": []
  },
  {
   "cell_type": "code",
   "execution_count": null,
   "id": "d4603f16",
   "metadata": {},
   "outputs": [],
   "source": []
  },
  {
   "cell_type": "code",
   "execution_count": null,
   "id": "b1009a72",
   "metadata": {},
   "outputs": [],
   "source": []
  },
  {
   "cell_type": "code",
   "execution_count": null,
   "id": "3eeb2220",
   "metadata": {},
   "outputs": [],
   "source": []
  },
  {
   "cell_type": "code",
   "execution_count": null,
   "id": "4014bfc2",
   "metadata": {},
   "outputs": [],
   "source": []
  },
  {
   "cell_type": "code",
   "execution_count": null,
   "id": "97e1ebed",
   "metadata": {},
   "outputs": [],
   "source": []
  },
  {
   "cell_type": "code",
   "execution_count": null,
   "id": "c37c18e0",
   "metadata": {},
   "outputs": [],
   "source": []
  }
 ],
 "metadata": {
  "kernelspec": {
   "display_name": "Python 3 (ipykernel)",
   "language": "python",
   "name": "python3"
  },
  "language_info": {
   "codemirror_mode": {
    "name": "ipython",
    "version": 3
   },
   "file_extension": ".py",
   "mimetype": "text/x-python",
   "name": "python",
   "nbconvert_exporter": "python",
   "pygments_lexer": "ipython3",
   "version": "3.11.7"
  }
 },
 "nbformat": 4,
 "nbformat_minor": 5
}
