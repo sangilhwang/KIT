{
 "cells": [
  {
   "cell_type": "code",
   "execution_count": 1,
   "id": "3af76504",
   "metadata": {},
   "outputs": [],
   "source": [
    "import pandas as pd\n",
    "import numpy as np\n",
    "from datetime import datetime, timedelta\n",
    "from tqdm import tqdm"
   ]
  },
  {
   "cell_type": "code",
   "execution_count": 2,
   "id": "76f9755c",
   "metadata": {},
   "outputs": [],
   "source": [
    "mongol_df = pd.read_csv(\"C:/Users/ITSC/Desktop/ChrisProject/FinalProject/Git/데이터/2. 독립변수/몽골기상데이터.csv\")"
   ]
  },
  {
   "cell_type": "code",
   "execution_count": 5,
   "id": "251b4fa6",
   "metadata": {},
   "outputs": [],
   "source": [
    "mongol_df = mongol_df.set_index(\"일시\")"
   ]
  },
  {
   "cell_type": "code",
   "execution_count": 9,
   "id": "831dbd87",
   "metadata": {},
   "outputs": [],
   "source": [
    "mongol_df.columns = ['습도', '풍향', '풍속', '강수량', '현지기압', '해면기압', '변화량 기압', '이슬점 온도', '기온']"
   ]
  },
  {
   "cell_type": "code",
   "execution_count": 16,
   "id": "07b4fe1a",
   "metadata": {},
   "outputs": [],
   "source": [
    "mongol_df = pd.concat([mongol_df.drop(\"풍향\", axis = 1), pd.get_dummies(mongol_df[\"풍향\"])], axis = 1)"
   ]
  },
  {
   "cell_type": "code",
   "execution_count": 24,
   "id": "438dfa38",
   "metadata": {},
   "outputs": [],
   "source": [
    "mongol_df.to_csv(\"./몽골기상데이터.csv\")"
   ]
  },
  {
   "cell_type": "code",
   "execution_count": 25,
   "id": "ee16438a",
   "metadata": {},
   "outputs": [],
   "source": [
    "mongol_df2 = pd.read_csv(\"./몽골기상데이터.csv\")"
   ]
  },
  {
   "cell_type": "code",
   "execution_count": null,
   "id": "5c6571c9",
   "metadata": {},
   "outputs": [],
   "source": []
  }
 ],
 "metadata": {
  "kernelspec": {
   "display_name": "Python 3 (ipykernel)",
   "language": "python",
   "name": "python3"
  },
  "language_info": {
   "codemirror_mode": {
    "name": "ipython",
    "version": 3
   },
   "file_extension": ".py",
   "mimetype": "text/x-python",
   "name": "python",
   "nbconvert_exporter": "python",
   "pygments_lexer": "ipython3",
   "version": "3.11.7"
  }
 },
 "nbformat": 4,
 "nbformat_minor": 5
}
