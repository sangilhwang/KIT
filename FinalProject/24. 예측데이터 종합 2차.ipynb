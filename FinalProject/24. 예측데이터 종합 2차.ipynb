{
 "cells": [
  {
   "cell_type": "code",
   "execution_count": 1,
   "id": "6d1bf84a",
   "metadata": {},
   "outputs": [],
   "source": [
    "import pandas as pd\n",
    "import numpy as np\n",
    "from datetime import datetime, timedelta"
   ]
  },
  {
   "cell_type": "markdown",
   "id": "7a0d1a03",
   "metadata": {},
   "source": [
    "### 데이터 읽기"
   ]
  },
  {
   "cell_type": "code",
   "execution_count": 2,
   "id": "0f4da7d7",
   "metadata": {},
   "outputs": [],
   "source": [
    "# 각 기상 데이터 읽기\n",
    "kr_df = pd.read_csv(r\".\\Git\\데이터\\3. 예측데이터\\korea_weather(6to12).csv\")\n",
    "cn_df = pd.read_csv(r\".\\Git\\데이터\\3. 예측데이터\\china_weather(6to12).csv\")\n",
    "sea_df = pd.read_csv(r\".\\Git\\데이터\\3. 예측데이터\\sea_weather(6to12).csv\")\n",
    "mg_df = pd.read_csv(r\".\\Git\\데이터\\3. 예측데이터\\mongol_weather(6to12).csv\")\n",
    "cn_dust = pd.read_csv(r\".\\Git\\데이터\\3. 예측데이터\\중국6.6-6.11미세먼지데이터.csv\", index_col = 0)"
   ]
  },
  {
   "cell_type": "code",
   "execution_count": 3,
   "id": "48ee55df",
   "metadata": {},
   "outputs": [],
   "source": [
    "pm10 = pd.read_csv(\"./pm10_final_v1.csv\", index_col = 0)"
   ]
  },
  {
   "cell_type": "code",
   "execution_count": 4,
   "id": "48115097",
   "metadata": {},
   "outputs": [],
   "source": [
    "kr_columns = pm10.columns[5:860]\n",
    "cn_columns = pm10.columns[860:1696]\n",
    "sea_columns = pm10.columns[1696:2149]\n",
    "mg_columns = pm10.columns[2149:2191]\n",
    "cn_dust_columns = pm10.columns[2191:2205]\n",
    "date_columns = pm10.columns[2205:]"
   ]
  },
  {
   "cell_type": "code",
   "execution_count": null,
   "id": "13487d03",
   "metadata": {},
   "outputs": [],
   "source": []
  },
  {
   "cell_type": "markdown",
   "id": "016fc91e",
   "metadata": {},
   "source": [
    "### 국내 데이터 처리"
   ]
  },
  {
   "cell_type": "code",
   "execution_count": 5,
   "id": "f6b5d767",
   "metadata": {},
   "outputs": [],
   "source": [
    "kr_df.columns = ['지점', '일시', '기온', '강수량', '풍속', '풍향', '습도', '증기압', '이슬점온도', '현지기압', '해면기압', '지면온도']"
   ]
  },
  {
   "cell_type": "code",
   "execution_count": 6,
   "id": "001b1cb0",
   "metadata": {},
   "outputs": [
    {
     "data": {
      "text/html": [
       "<div>\n",
       "<style scoped>\n",
       "    .dataframe tbody tr th:only-of-type {\n",
       "        vertical-align: middle;\n",
       "    }\n",
       "\n",
       "    .dataframe tbody tr th {\n",
       "        vertical-align: top;\n",
       "    }\n",
       "\n",
       "    .dataframe thead th {\n",
       "        text-align: right;\n",
       "    }\n",
       "</style>\n",
       "<table border=\"1\" class=\"dataframe\">\n",
       "  <thead>\n",
       "    <tr style=\"text-align: right;\">\n",
       "      <th></th>\n",
       "      <th>지점</th>\n",
       "      <th>일시</th>\n",
       "      <th>기온</th>\n",
       "      <th>강수량</th>\n",
       "      <th>풍속</th>\n",
       "      <th>풍향</th>\n",
       "      <th>습도</th>\n",
       "      <th>증기압</th>\n",
       "      <th>이슬점온도</th>\n",
       "      <th>현지기압</th>\n",
       "      <th>해면기압</th>\n",
       "      <th>지면온도</th>\n",
       "    </tr>\n",
       "  </thead>\n",
       "  <tbody>\n",
       "    <tr>\n",
       "      <th>0</th>\n",
       "      <td>90</td>\n",
       "      <td>2024-06-06 00:00:00</td>\n",
       "      <td>18.1</td>\n",
       "      <td>0.0</td>\n",
       "      <td>1.5</td>\n",
       "      <td>160.0</td>\n",
       "      <td>92.0</td>\n",
       "      <td>19.0</td>\n",
       "      <td>16.7</td>\n",
       "      <td>1015.2</td>\n",
       "      <td>1017.3</td>\n",
       "      <td>18.8</td>\n",
       "    </tr>\n",
       "    <tr>\n",
       "      <th>1</th>\n",
       "      <td>90</td>\n",
       "      <td>2024-06-06 03:00:00</td>\n",
       "      <td>18.1</td>\n",
       "      <td>0.0</td>\n",
       "      <td>2.2</td>\n",
       "      <td>310.0</td>\n",
       "      <td>91.0</td>\n",
       "      <td>18.9</td>\n",
       "      <td>16.6</td>\n",
       "      <td>1015.4</td>\n",
       "      <td>1017.5</td>\n",
       "      <td>18.2</td>\n",
       "    </tr>\n",
       "    <tr>\n",
       "      <th>2</th>\n",
       "      <td>90</td>\n",
       "      <td>2024-06-06 06:00:00</td>\n",
       "      <td>17.1</td>\n",
       "      <td>0.0</td>\n",
       "      <td>0.8</td>\n",
       "      <td>220.0</td>\n",
       "      <td>94.0</td>\n",
       "      <td>18.3</td>\n",
       "      <td>16.1</td>\n",
       "      <td>1015.6</td>\n",
       "      <td>1017.7</td>\n",
       "      <td>17.5</td>\n",
       "    </tr>\n",
       "    <tr>\n",
       "      <th>3</th>\n",
       "      <td>90</td>\n",
       "      <td>2024-06-06 09:00:00</td>\n",
       "      <td>19.7</td>\n",
       "      <td>0.0</td>\n",
       "      <td>2.1</td>\n",
       "      <td>90.0</td>\n",
       "      <td>84.0</td>\n",
       "      <td>19.1</td>\n",
       "      <td>16.8</td>\n",
       "      <td>1015.9</td>\n",
       "      <td>1017.9</td>\n",
       "      <td>23.5</td>\n",
       "    </tr>\n",
       "    <tr>\n",
       "      <th>4</th>\n",
       "      <td>90</td>\n",
       "      <td>2024-06-06 12:00:00</td>\n",
       "      <td>22.1</td>\n",
       "      <td>0.0</td>\n",
       "      <td>2.5</td>\n",
       "      <td>110.0</td>\n",
       "      <td>75.0</td>\n",
       "      <td>19.8</td>\n",
       "      <td>17.3</td>\n",
       "      <td>1015.5</td>\n",
       "      <td>1017.5</td>\n",
       "      <td>33.1</td>\n",
       "    </tr>\n",
       "    <tr>\n",
       "      <th>...</th>\n",
       "      <td>...</td>\n",
       "      <td>...</td>\n",
       "      <td>...</td>\n",
       "      <td>...</td>\n",
       "      <td>...</td>\n",
       "      <td>...</td>\n",
       "      <td>...</td>\n",
       "      <td>...</td>\n",
       "      <td>...</td>\n",
       "      <td>...</td>\n",
       "      <td>...</td>\n",
       "      <td>...</td>\n",
       "    </tr>\n",
       "    <tr>\n",
       "      <th>1059</th>\n",
       "      <td>279</td>\n",
       "      <td>2024-06-12 09:00:00</td>\n",
       "      <td>25.0</td>\n",
       "      <td>0.0</td>\n",
       "      <td>0.9</td>\n",
       "      <td>340.0</td>\n",
       "      <td>58.0</td>\n",
       "      <td>18.0</td>\n",
       "      <td>15.9</td>\n",
       "      <td>1001.6</td>\n",
       "      <td>1007.2</td>\n",
       "      <td>28.9</td>\n",
       "    </tr>\n",
       "    <tr>\n",
       "      <th>1060</th>\n",
       "      <td>279</td>\n",
       "      <td>2024-06-12 12:00:00</td>\n",
       "      <td>29.8</td>\n",
       "      <td>0.0</td>\n",
       "      <td>1.6</td>\n",
       "      <td>310.0</td>\n",
       "      <td>33.0</td>\n",
       "      <td>13.6</td>\n",
       "      <td>11.5</td>\n",
       "      <td>1001.0</td>\n",
       "      <td>1006.5</td>\n",
       "      <td>49.4</td>\n",
       "    </tr>\n",
       "    <tr>\n",
       "      <th>1061</th>\n",
       "      <td>279</td>\n",
       "      <td>2024-06-12 15:00:00</td>\n",
       "      <td>32.0</td>\n",
       "      <td>0.0</td>\n",
       "      <td>0.9</td>\n",
       "      <td>290.0</td>\n",
       "      <td>30.0</td>\n",
       "      <td>14.0</td>\n",
       "      <td>12.0</td>\n",
       "      <td>999.0</td>\n",
       "      <td>1004.5</td>\n",
       "      <td>52.7</td>\n",
       "    </tr>\n",
       "    <tr>\n",
       "      <th>1062</th>\n",
       "      <td>279</td>\n",
       "      <td>2024-06-12 18:00:00</td>\n",
       "      <td>33.0</td>\n",
       "      <td>0.0</td>\n",
       "      <td>0.6</td>\n",
       "      <td>350.0</td>\n",
       "      <td>25.0</td>\n",
       "      <td>12.5</td>\n",
       "      <td>10.3</td>\n",
       "      <td>997.7</td>\n",
       "      <td>1003.1</td>\n",
       "      <td>46.1</td>\n",
       "    </tr>\n",
       "    <tr>\n",
       "      <th>1063</th>\n",
       "      <td>279</td>\n",
       "      <td>2024-06-12 21:00:00</td>\n",
       "      <td>27.4</td>\n",
       "      <td>0.0</td>\n",
       "      <td>0.8</td>\n",
       "      <td>260.0</td>\n",
       "      <td>41.0</td>\n",
       "      <td>14.8</td>\n",
       "      <td>12.8</td>\n",
       "      <td>997.9</td>\n",
       "      <td>1003.5</td>\n",
       "      <td>30.5</td>\n",
       "    </tr>\n",
       "  </tbody>\n",
       "</table>\n",
       "<p>1064 rows × 12 columns</p>\n",
       "</div>"
      ],
      "text/plain": [
       "       지점                   일시    기온  강수량   풍속     풍향    습도   증기압  이슬점온도  \\\n",
       "0      90  2024-06-06 00:00:00  18.1  0.0  1.5  160.0  92.0  19.0   16.7   \n",
       "1      90  2024-06-06 03:00:00  18.1  0.0  2.2  310.0  91.0  18.9   16.6   \n",
       "2      90  2024-06-06 06:00:00  17.1  0.0  0.8  220.0  94.0  18.3   16.1   \n",
       "3      90  2024-06-06 09:00:00  19.7  0.0  2.1   90.0  84.0  19.1   16.8   \n",
       "4      90  2024-06-06 12:00:00  22.1  0.0  2.5  110.0  75.0  19.8   17.3   \n",
       "...   ...                  ...   ...  ...  ...    ...   ...   ...    ...   \n",
       "1059  279  2024-06-12 09:00:00  25.0  0.0  0.9  340.0  58.0  18.0   15.9   \n",
       "1060  279  2024-06-12 12:00:00  29.8  0.0  1.6  310.0  33.0  13.6   11.5   \n",
       "1061  279  2024-06-12 15:00:00  32.0  0.0  0.9  290.0  30.0  14.0   12.0   \n",
       "1062  279  2024-06-12 18:00:00  33.0  0.0  0.6  350.0  25.0  12.5   10.3   \n",
       "1063  279  2024-06-12 21:00:00  27.4  0.0  0.8  260.0  41.0  14.8   12.8   \n",
       "\n",
       "        현지기압    해면기압  지면온도  \n",
       "0     1015.2  1017.3  18.8  \n",
       "1     1015.4  1017.5  18.2  \n",
       "2     1015.6  1017.7  17.5  \n",
       "3     1015.9  1017.9  23.5  \n",
       "4     1015.5  1017.5  33.1  \n",
       "...      ...     ...   ...  \n",
       "1059  1001.6  1007.2  28.9  \n",
       "1060  1001.0  1006.5  49.4  \n",
       "1061   999.0  1004.5  52.7  \n",
       "1062   997.7  1003.1  46.1  \n",
       "1063   997.9  1003.5  30.5  \n",
       "\n",
       "[1064 rows x 12 columns]"
      ]
     },
     "execution_count": 6,
     "metadata": {},
     "output_type": "execute_result"
    }
   ],
   "source": [
    "kr_df"
   ]
  },
  {
   "cell_type": "code",
   "execution_count": 7,
   "id": "ecda340c",
   "metadata": {},
   "outputs": [],
   "source": [
    "kr_df[\"풍향\"] = kr_df[\"풍향\"].map(lambda x: 0 if x == 360 else x)"
   ]
  },
  {
   "cell_type": "code",
   "execution_count": 8,
   "id": "df9cce9a",
   "metadata": {},
   "outputs": [],
   "source": [
    "kr_df[\"지점\"] = kr_df[\"지점\"].map(lambda x: str(x))"
   ]
  },
  {
   "cell_type": "code",
   "execution_count": 9,
   "id": "ee997721",
   "metadata": {},
   "outputs": [],
   "source": [
    "kr_pivot = kr_df.pivot(index = \"일시\", columns = \"지점\")"
   ]
  },
  {
   "cell_type": "code",
   "execution_count": 10,
   "id": "08713c51",
   "metadata": {},
   "outputs": [],
   "source": [
    "kr_pivot = kr_pivot.iloc[8:, :]"
   ]
  },
  {
   "cell_type": "code",
   "execution_count": 11,
   "id": "be7b3545",
   "metadata": {},
   "outputs": [],
   "source": [
    "time_df = pd.DataFrame(kr_pivot.index)\n",
    "time_df = time_df.set_index(\"일시\")\n",
    "\n",
    "for loc in kr_pivot[\"풍향\"].columns:\n",
    "    dummy_df = pd.get_dummies(kr_pivot[\"풍향\"][loc])\n",
    "    dummy_df.columns = dummy_df.columns.map(lambda x: (\"풍향\", str((int(loc), x))))\n",
    "    \n",
    "    time_df = pd.concat([time_df, dummy_df], axis = 1)"
   ]
  },
  {
   "cell_type": "code",
   "execution_count": 12,
   "id": "6c3ba597",
   "metadata": {},
   "outputs": [],
   "source": [
    "kr_pivot = kr_pivot.drop(\"풍향\", axis = 1)"
   ]
  },
  {
   "cell_type": "code",
   "execution_count": 13,
   "id": "b82c98b3",
   "metadata": {},
   "outputs": [],
   "source": [
    "kr_pivot = pd.concat([kr_pivot, time_df], axis = 1)"
   ]
  },
  {
   "cell_type": "code",
   "execution_count": 14,
   "id": "75d5ea8e",
   "metadata": {},
   "outputs": [],
   "source": [
    "kr_pivot.columns = kr_pivot.columns.map(lambda x: str(x))"
   ]
  },
  {
   "cell_type": "code",
   "execution_count": 15,
   "id": "1ddc0918",
   "metadata": {},
   "outputs": [
    {
     "data": {
      "text/plain": [
       "Index(['('풍향', '(90, 20.0)')', '('풍향', '(90, 40.0)')', '('풍향', '(90, 50.0)')',\n",
       "       '('풍향', '(90, 60.0)')', '('풍향', '(90, 110.0)')',\n",
       "       '('풍향', '(90, 170.0)')', '('풍향', '(90, 190.0)')',\n",
       "       '('풍향', '(90, 200.0)')', '('풍향', '(90, 250.0)')',\n",
       "       '('풍향', '(90, 310.0)')',\n",
       "       ...\n",
       "       '('풍향', '(279, 100.0)')', '('풍향', '(279, 130.0)')',\n",
       "       '('풍향', '(279, 140.0)')', '('풍향', '(279, 150.0)')',\n",
       "       '('풍향', '(279, 160.0)')', '('풍향', '(279, 180.0)')',\n",
       "       '('풍향', '(279, 190.0)')', '('풍향', '(279, 210.0)')',\n",
       "       '('풍향', '(279, 230.0)')', '('풍향', '(279, 320.0)')'],\n",
       "      dtype='object', length=268)"
      ]
     },
     "execution_count": 15,
     "metadata": {},
     "output_type": "execute_result"
    }
   ],
   "source": [
    "kr_columns[~kr_columns.isin(kr_pivot.columns)]"
   ]
  },
  {
   "cell_type": "code",
   "execution_count": 16,
   "id": "961ce2fc",
   "metadata": {},
   "outputs": [
    {
     "name": "stderr",
     "output_type": "stream",
     "text": [
      "C:\\Users\\ITSC\\AppData\\Local\\Temp\\ipykernel_15928\\597790636.py:2: PerformanceWarning: DataFrame is highly fragmented.  This is usually the result of calling `frame.insert` many times, which has poor performance.  Consider joining all columns at once using pd.concat(axis=1) instead. To get a de-fragmented frame, use `newframe = frame.copy()`\n",
      "  kr_pivot[column] = False\n",
      "C:\\Users\\ITSC\\AppData\\Local\\Temp\\ipykernel_15928\\597790636.py:2: PerformanceWarning: DataFrame is highly fragmented.  This is usually the result of calling `frame.insert` many times, which has poor performance.  Consider joining all columns at once using pd.concat(axis=1) instead. To get a de-fragmented frame, use `newframe = frame.copy()`\n",
      "  kr_pivot[column] = False\n",
      "C:\\Users\\ITSC\\AppData\\Local\\Temp\\ipykernel_15928\\597790636.py:2: PerformanceWarning: DataFrame is highly fragmented.  This is usually the result of calling `frame.insert` many times, which has poor performance.  Consider joining all columns at once using pd.concat(axis=1) instead. To get a de-fragmented frame, use `newframe = frame.copy()`\n",
      "  kr_pivot[column] = False\n",
      "C:\\Users\\ITSC\\AppData\\Local\\Temp\\ipykernel_15928\\597790636.py:2: PerformanceWarning: DataFrame is highly fragmented.  This is usually the result of calling `frame.insert` many times, which has poor performance.  Consider joining all columns at once using pd.concat(axis=1) instead. To get a de-fragmented frame, use `newframe = frame.copy()`\n",
      "  kr_pivot[column] = False\n",
      "C:\\Users\\ITSC\\AppData\\Local\\Temp\\ipykernel_15928\\597790636.py:2: PerformanceWarning: DataFrame is highly fragmented.  This is usually the result of calling `frame.insert` many times, which has poor performance.  Consider joining all columns at once using pd.concat(axis=1) instead. To get a de-fragmented frame, use `newframe = frame.copy()`\n",
      "  kr_pivot[column] = False\n",
      "C:\\Users\\ITSC\\AppData\\Local\\Temp\\ipykernel_15928\\597790636.py:2: PerformanceWarning: DataFrame is highly fragmented.  This is usually the result of calling `frame.insert` many times, which has poor performance.  Consider joining all columns at once using pd.concat(axis=1) instead. To get a de-fragmented frame, use `newframe = frame.copy()`\n",
      "  kr_pivot[column] = False\n",
      "C:\\Users\\ITSC\\AppData\\Local\\Temp\\ipykernel_15928\\597790636.py:2: PerformanceWarning: DataFrame is highly fragmented.  This is usually the result of calling `frame.insert` many times, which has poor performance.  Consider joining all columns at once using pd.concat(axis=1) instead. To get a de-fragmented frame, use `newframe = frame.copy()`\n",
      "  kr_pivot[column] = False\n",
      "C:\\Users\\ITSC\\AppData\\Local\\Temp\\ipykernel_15928\\597790636.py:2: PerformanceWarning: DataFrame is highly fragmented.  This is usually the result of calling `frame.insert` many times, which has poor performance.  Consider joining all columns at once using pd.concat(axis=1) instead. To get a de-fragmented frame, use `newframe = frame.copy()`\n",
      "  kr_pivot[column] = False\n",
      "C:\\Users\\ITSC\\AppData\\Local\\Temp\\ipykernel_15928\\597790636.py:2: PerformanceWarning: DataFrame is highly fragmented.  This is usually the result of calling `frame.insert` many times, which has poor performance.  Consider joining all columns at once using pd.concat(axis=1) instead. To get a de-fragmented frame, use `newframe = frame.copy()`\n",
      "  kr_pivot[column] = False\n",
      "C:\\Users\\ITSC\\AppData\\Local\\Temp\\ipykernel_15928\\597790636.py:2: PerformanceWarning: DataFrame is highly fragmented.  This is usually the result of calling `frame.insert` many times, which has poor performance.  Consider joining all columns at once using pd.concat(axis=1) instead. To get a de-fragmented frame, use `newframe = frame.copy()`\n",
      "  kr_pivot[column] = False\n",
      "C:\\Users\\ITSC\\AppData\\Local\\Temp\\ipykernel_15928\\597790636.py:2: PerformanceWarning: DataFrame is highly fragmented.  This is usually the result of calling `frame.insert` many times, which has poor performance.  Consider joining all columns at once using pd.concat(axis=1) instead. To get a de-fragmented frame, use `newframe = frame.copy()`\n",
      "  kr_pivot[column] = False\n",
      "C:\\Users\\ITSC\\AppData\\Local\\Temp\\ipykernel_15928\\597790636.py:2: PerformanceWarning: DataFrame is highly fragmented.  This is usually the result of calling `frame.insert` many times, which has poor performance.  Consider joining all columns at once using pd.concat(axis=1) instead. To get a de-fragmented frame, use `newframe = frame.copy()`\n",
      "  kr_pivot[column] = False\n",
      "C:\\Users\\ITSC\\AppData\\Local\\Temp\\ipykernel_15928\\597790636.py:2: PerformanceWarning: DataFrame is highly fragmented.  This is usually the result of calling `frame.insert` many times, which has poor performance.  Consider joining all columns at once using pd.concat(axis=1) instead. To get a de-fragmented frame, use `newframe = frame.copy()`\n",
      "  kr_pivot[column] = False\n",
      "C:\\Users\\ITSC\\AppData\\Local\\Temp\\ipykernel_15928\\597790636.py:2: PerformanceWarning: DataFrame is highly fragmented.  This is usually the result of calling `frame.insert` many times, which has poor performance.  Consider joining all columns at once using pd.concat(axis=1) instead. To get a de-fragmented frame, use `newframe = frame.copy()`\n",
      "  kr_pivot[column] = False\n",
      "C:\\Users\\ITSC\\AppData\\Local\\Temp\\ipykernel_15928\\597790636.py:2: PerformanceWarning: DataFrame is highly fragmented.  This is usually the result of calling `frame.insert` many times, which has poor performance.  Consider joining all columns at once using pd.concat(axis=1) instead. To get a de-fragmented frame, use `newframe = frame.copy()`\n",
      "  kr_pivot[column] = False\n",
      "C:\\Users\\ITSC\\AppData\\Local\\Temp\\ipykernel_15928\\597790636.py:2: PerformanceWarning: DataFrame is highly fragmented.  This is usually the result of calling `frame.insert` many times, which has poor performance.  Consider joining all columns at once using pd.concat(axis=1) instead. To get a de-fragmented frame, use `newframe = frame.copy()`\n",
      "  kr_pivot[column] = False\n",
      "C:\\Users\\ITSC\\AppData\\Local\\Temp\\ipykernel_15928\\597790636.py:2: PerformanceWarning: DataFrame is highly fragmented.  This is usually the result of calling `frame.insert` many times, which has poor performance.  Consider joining all columns at once using pd.concat(axis=1) instead. To get a de-fragmented frame, use `newframe = frame.copy()`\n",
      "  kr_pivot[column] = False\n",
      "C:\\Users\\ITSC\\AppData\\Local\\Temp\\ipykernel_15928\\597790636.py:2: PerformanceWarning: DataFrame is highly fragmented.  This is usually the result of calling `frame.insert` many times, which has poor performance.  Consider joining all columns at once using pd.concat(axis=1) instead. To get a de-fragmented frame, use `newframe = frame.copy()`\n",
      "  kr_pivot[column] = False\n",
      "C:\\Users\\ITSC\\AppData\\Local\\Temp\\ipykernel_15928\\597790636.py:2: PerformanceWarning: DataFrame is highly fragmented.  This is usually the result of calling `frame.insert` many times, which has poor performance.  Consider joining all columns at once using pd.concat(axis=1) instead. To get a de-fragmented frame, use `newframe = frame.copy()`\n",
      "  kr_pivot[column] = False\n",
      "C:\\Users\\ITSC\\AppData\\Local\\Temp\\ipykernel_15928\\597790636.py:2: PerformanceWarning: DataFrame is highly fragmented.  This is usually the result of calling `frame.insert` many times, which has poor performance.  Consider joining all columns at once using pd.concat(axis=1) instead. To get a de-fragmented frame, use `newframe = frame.copy()`\n",
      "  kr_pivot[column] = False\n",
      "C:\\Users\\ITSC\\AppData\\Local\\Temp\\ipykernel_15928\\597790636.py:2: PerformanceWarning: DataFrame is highly fragmented.  This is usually the result of calling `frame.insert` many times, which has poor performance.  Consider joining all columns at once using pd.concat(axis=1) instead. To get a de-fragmented frame, use `newframe = frame.copy()`\n",
      "  kr_pivot[column] = False\n",
      "C:\\Users\\ITSC\\AppData\\Local\\Temp\\ipykernel_15928\\597790636.py:2: PerformanceWarning: DataFrame is highly fragmented.  This is usually the result of calling `frame.insert` many times, which has poor performance.  Consider joining all columns at once using pd.concat(axis=1) instead. To get a de-fragmented frame, use `newframe = frame.copy()`\n",
      "  kr_pivot[column] = False\n",
      "C:\\Users\\ITSC\\AppData\\Local\\Temp\\ipykernel_15928\\597790636.py:2: PerformanceWarning: DataFrame is highly fragmented.  This is usually the result of calling `frame.insert` many times, which has poor performance.  Consider joining all columns at once using pd.concat(axis=1) instead. To get a de-fragmented frame, use `newframe = frame.copy()`\n",
      "  kr_pivot[column] = False\n",
      "C:\\Users\\ITSC\\AppData\\Local\\Temp\\ipykernel_15928\\597790636.py:2: PerformanceWarning: DataFrame is highly fragmented.  This is usually the result of calling `frame.insert` many times, which has poor performance.  Consider joining all columns at once using pd.concat(axis=1) instead. To get a de-fragmented frame, use `newframe = frame.copy()`\n",
      "  kr_pivot[column] = False\n",
      "C:\\Users\\ITSC\\AppData\\Local\\Temp\\ipykernel_15928\\597790636.py:2: PerformanceWarning: DataFrame is highly fragmented.  This is usually the result of calling `frame.insert` many times, which has poor performance.  Consider joining all columns at once using pd.concat(axis=1) instead. To get a de-fragmented frame, use `newframe = frame.copy()`\n",
      "  kr_pivot[column] = False\n",
      "C:\\Users\\ITSC\\AppData\\Local\\Temp\\ipykernel_15928\\597790636.py:2: PerformanceWarning: DataFrame is highly fragmented.  This is usually the result of calling `frame.insert` many times, which has poor performance.  Consider joining all columns at once using pd.concat(axis=1) instead. To get a de-fragmented frame, use `newframe = frame.copy()`\n",
      "  kr_pivot[column] = False\n",
      "C:\\Users\\ITSC\\AppData\\Local\\Temp\\ipykernel_15928\\597790636.py:2: PerformanceWarning: DataFrame is highly fragmented.  This is usually the result of calling `frame.insert` many times, which has poor performance.  Consider joining all columns at once using pd.concat(axis=1) instead. To get a de-fragmented frame, use `newframe = frame.copy()`\n",
      "  kr_pivot[column] = False\n",
      "C:\\Users\\ITSC\\AppData\\Local\\Temp\\ipykernel_15928\\597790636.py:2: PerformanceWarning: DataFrame is highly fragmented.  This is usually the result of calling `frame.insert` many times, which has poor performance.  Consider joining all columns at once using pd.concat(axis=1) instead. To get a de-fragmented frame, use `newframe = frame.copy()`\n",
      "  kr_pivot[column] = False\n",
      "C:\\Users\\ITSC\\AppData\\Local\\Temp\\ipykernel_15928\\597790636.py:2: PerformanceWarning: DataFrame is highly fragmented.  This is usually the result of calling `frame.insert` many times, which has poor performance.  Consider joining all columns at once using pd.concat(axis=1) instead. To get a de-fragmented frame, use `newframe = frame.copy()`\n",
      "  kr_pivot[column] = False\n",
      "C:\\Users\\ITSC\\AppData\\Local\\Temp\\ipykernel_15928\\597790636.py:2: PerformanceWarning: DataFrame is highly fragmented.  This is usually the result of calling `frame.insert` many times, which has poor performance.  Consider joining all columns at once using pd.concat(axis=1) instead. To get a de-fragmented frame, use `newframe = frame.copy()`\n",
      "  kr_pivot[column] = False\n",
      "C:\\Users\\ITSC\\AppData\\Local\\Temp\\ipykernel_15928\\597790636.py:2: PerformanceWarning: DataFrame is highly fragmented.  This is usually the result of calling `frame.insert` many times, which has poor performance.  Consider joining all columns at once using pd.concat(axis=1) instead. To get a de-fragmented frame, use `newframe = frame.copy()`\n",
      "  kr_pivot[column] = False\n",
      "C:\\Users\\ITSC\\AppData\\Local\\Temp\\ipykernel_15928\\597790636.py:2: PerformanceWarning: DataFrame is highly fragmented.  This is usually the result of calling `frame.insert` many times, which has poor performance.  Consider joining all columns at once using pd.concat(axis=1) instead. To get a de-fragmented frame, use `newframe = frame.copy()`\n",
      "  kr_pivot[column] = False\n",
      "C:\\Users\\ITSC\\AppData\\Local\\Temp\\ipykernel_15928\\597790636.py:2: PerformanceWarning: DataFrame is highly fragmented.  This is usually the result of calling `frame.insert` many times, which has poor performance.  Consider joining all columns at once using pd.concat(axis=1) instead. To get a de-fragmented frame, use `newframe = frame.copy()`\n",
      "  kr_pivot[column] = False\n",
      "C:\\Users\\ITSC\\AppData\\Local\\Temp\\ipykernel_15928\\597790636.py:2: PerformanceWarning: DataFrame is highly fragmented.  This is usually the result of calling `frame.insert` many times, which has poor performance.  Consider joining all columns at once using pd.concat(axis=1) instead. To get a de-fragmented frame, use `newframe = frame.copy()`\n",
      "  kr_pivot[column] = False\n",
      "C:\\Users\\ITSC\\AppData\\Local\\Temp\\ipykernel_15928\\597790636.py:2: PerformanceWarning: DataFrame is highly fragmented.  This is usually the result of calling `frame.insert` many times, which has poor performance.  Consider joining all columns at once using pd.concat(axis=1) instead. To get a de-fragmented frame, use `newframe = frame.copy()`\n",
      "  kr_pivot[column] = False\n",
      "C:\\Users\\ITSC\\AppData\\Local\\Temp\\ipykernel_15928\\597790636.py:2: PerformanceWarning: DataFrame is highly fragmented.  This is usually the result of calling `frame.insert` many times, which has poor performance.  Consider joining all columns at once using pd.concat(axis=1) instead. To get a de-fragmented frame, use `newframe = frame.copy()`\n",
      "  kr_pivot[column] = False\n",
      "C:\\Users\\ITSC\\AppData\\Local\\Temp\\ipykernel_15928\\597790636.py:2: PerformanceWarning: DataFrame is highly fragmented.  This is usually the result of calling `frame.insert` many times, which has poor performance.  Consider joining all columns at once using pd.concat(axis=1) instead. To get a de-fragmented frame, use `newframe = frame.copy()`\n",
      "  kr_pivot[column] = False\n",
      "C:\\Users\\ITSC\\AppData\\Local\\Temp\\ipykernel_15928\\597790636.py:2: PerformanceWarning: DataFrame is highly fragmented.  This is usually the result of calling `frame.insert` many times, which has poor performance.  Consider joining all columns at once using pd.concat(axis=1) instead. To get a de-fragmented frame, use `newframe = frame.copy()`\n",
      "  kr_pivot[column] = False\n",
      "C:\\Users\\ITSC\\AppData\\Local\\Temp\\ipykernel_15928\\597790636.py:2: PerformanceWarning: DataFrame is highly fragmented.  This is usually the result of calling `frame.insert` many times, which has poor performance.  Consider joining all columns at once using pd.concat(axis=1) instead. To get a de-fragmented frame, use `newframe = frame.copy()`\n",
      "  kr_pivot[column] = False\n",
      "C:\\Users\\ITSC\\AppData\\Local\\Temp\\ipykernel_15928\\597790636.py:2: PerformanceWarning: DataFrame is highly fragmented.  This is usually the result of calling `frame.insert` many times, which has poor performance.  Consider joining all columns at once using pd.concat(axis=1) instead. To get a de-fragmented frame, use `newframe = frame.copy()`\n",
      "  kr_pivot[column] = False\n",
      "C:\\Users\\ITSC\\AppData\\Local\\Temp\\ipykernel_15928\\597790636.py:2: PerformanceWarning: DataFrame is highly fragmented.  This is usually the result of calling `frame.insert` many times, which has poor performance.  Consider joining all columns at once using pd.concat(axis=1) instead. To get a de-fragmented frame, use `newframe = frame.copy()`\n",
      "  kr_pivot[column] = False\n",
      "C:\\Users\\ITSC\\AppData\\Local\\Temp\\ipykernel_15928\\597790636.py:2: PerformanceWarning: DataFrame is highly fragmented.  This is usually the result of calling `frame.insert` many times, which has poor performance.  Consider joining all columns at once using pd.concat(axis=1) instead. To get a de-fragmented frame, use `newframe = frame.copy()`\n",
      "  kr_pivot[column] = False\n",
      "C:\\Users\\ITSC\\AppData\\Local\\Temp\\ipykernel_15928\\597790636.py:2: PerformanceWarning: DataFrame is highly fragmented.  This is usually the result of calling `frame.insert` many times, which has poor performance.  Consider joining all columns at once using pd.concat(axis=1) instead. To get a de-fragmented frame, use `newframe = frame.copy()`\n",
      "  kr_pivot[column] = False\n",
      "C:\\Users\\ITSC\\AppData\\Local\\Temp\\ipykernel_15928\\597790636.py:2: PerformanceWarning: DataFrame is highly fragmented.  This is usually the result of calling `frame.insert` many times, which has poor performance.  Consider joining all columns at once using pd.concat(axis=1) instead. To get a de-fragmented frame, use `newframe = frame.copy()`\n",
      "  kr_pivot[column] = False\n",
      "C:\\Users\\ITSC\\AppData\\Local\\Temp\\ipykernel_15928\\597790636.py:2: PerformanceWarning: DataFrame is highly fragmented.  This is usually the result of calling `frame.insert` many times, which has poor performance.  Consider joining all columns at once using pd.concat(axis=1) instead. To get a de-fragmented frame, use `newframe = frame.copy()`\n",
      "  kr_pivot[column] = False\n",
      "C:\\Users\\ITSC\\AppData\\Local\\Temp\\ipykernel_15928\\597790636.py:2: PerformanceWarning: DataFrame is highly fragmented.  This is usually the result of calling `frame.insert` many times, which has poor performance.  Consider joining all columns at once using pd.concat(axis=1) instead. To get a de-fragmented frame, use `newframe = frame.copy()`\n",
      "  kr_pivot[column] = False\n",
      "C:\\Users\\ITSC\\AppData\\Local\\Temp\\ipykernel_15928\\597790636.py:2: PerformanceWarning: DataFrame is highly fragmented.  This is usually the result of calling `frame.insert` many times, which has poor performance.  Consider joining all columns at once using pd.concat(axis=1) instead. To get a de-fragmented frame, use `newframe = frame.copy()`\n",
      "  kr_pivot[column] = False\n",
      "C:\\Users\\ITSC\\AppData\\Local\\Temp\\ipykernel_15928\\597790636.py:2: PerformanceWarning: DataFrame is highly fragmented.  This is usually the result of calling `frame.insert` many times, which has poor performance.  Consider joining all columns at once using pd.concat(axis=1) instead. To get a de-fragmented frame, use `newframe = frame.copy()`\n",
      "  kr_pivot[column] = False\n",
      "C:\\Users\\ITSC\\AppData\\Local\\Temp\\ipykernel_15928\\597790636.py:2: PerformanceWarning: DataFrame is highly fragmented.  This is usually the result of calling `frame.insert` many times, which has poor performance.  Consider joining all columns at once using pd.concat(axis=1) instead. To get a de-fragmented frame, use `newframe = frame.copy()`\n",
      "  kr_pivot[column] = False\n",
      "C:\\Users\\ITSC\\AppData\\Local\\Temp\\ipykernel_15928\\597790636.py:2: PerformanceWarning: DataFrame is highly fragmented.  This is usually the result of calling `frame.insert` many times, which has poor performance.  Consider joining all columns at once using pd.concat(axis=1) instead. To get a de-fragmented frame, use `newframe = frame.copy()`\n",
      "  kr_pivot[column] = False\n",
      "C:\\Users\\ITSC\\AppData\\Local\\Temp\\ipykernel_15928\\597790636.py:2: PerformanceWarning: DataFrame is highly fragmented.  This is usually the result of calling `frame.insert` many times, which has poor performance.  Consider joining all columns at once using pd.concat(axis=1) instead. To get a de-fragmented frame, use `newframe = frame.copy()`\n",
      "  kr_pivot[column] = False\n",
      "C:\\Users\\ITSC\\AppData\\Local\\Temp\\ipykernel_15928\\597790636.py:2: PerformanceWarning: DataFrame is highly fragmented.  This is usually the result of calling `frame.insert` many times, which has poor performance.  Consider joining all columns at once using pd.concat(axis=1) instead. To get a de-fragmented frame, use `newframe = frame.copy()`\n",
      "  kr_pivot[column] = False\n",
      "C:\\Users\\ITSC\\AppData\\Local\\Temp\\ipykernel_15928\\597790636.py:2: PerformanceWarning: DataFrame is highly fragmented.  This is usually the result of calling `frame.insert` many times, which has poor performance.  Consider joining all columns at once using pd.concat(axis=1) instead. To get a de-fragmented frame, use `newframe = frame.copy()`\n",
      "  kr_pivot[column] = False\n",
      "C:\\Users\\ITSC\\AppData\\Local\\Temp\\ipykernel_15928\\597790636.py:2: PerformanceWarning: DataFrame is highly fragmented.  This is usually the result of calling `frame.insert` many times, which has poor performance.  Consider joining all columns at once using pd.concat(axis=1) instead. To get a de-fragmented frame, use `newframe = frame.copy()`\n",
      "  kr_pivot[column] = False\n",
      "C:\\Users\\ITSC\\AppData\\Local\\Temp\\ipykernel_15928\\597790636.py:2: PerformanceWarning: DataFrame is highly fragmented.  This is usually the result of calling `frame.insert` many times, which has poor performance.  Consider joining all columns at once using pd.concat(axis=1) instead. To get a de-fragmented frame, use `newframe = frame.copy()`\n",
      "  kr_pivot[column] = False\n",
      "C:\\Users\\ITSC\\AppData\\Local\\Temp\\ipykernel_15928\\597790636.py:2: PerformanceWarning: DataFrame is highly fragmented.  This is usually the result of calling `frame.insert` many times, which has poor performance.  Consider joining all columns at once using pd.concat(axis=1) instead. To get a de-fragmented frame, use `newframe = frame.copy()`\n",
      "  kr_pivot[column] = False\n",
      "C:\\Users\\ITSC\\AppData\\Local\\Temp\\ipykernel_15928\\597790636.py:2: PerformanceWarning: DataFrame is highly fragmented.  This is usually the result of calling `frame.insert` many times, which has poor performance.  Consider joining all columns at once using pd.concat(axis=1) instead. To get a de-fragmented frame, use `newframe = frame.copy()`\n",
      "  kr_pivot[column] = False\n",
      "C:\\Users\\ITSC\\AppData\\Local\\Temp\\ipykernel_15928\\597790636.py:2: PerformanceWarning: DataFrame is highly fragmented.  This is usually the result of calling `frame.insert` many times, which has poor performance.  Consider joining all columns at once using pd.concat(axis=1) instead. To get a de-fragmented frame, use `newframe = frame.copy()`\n",
      "  kr_pivot[column] = False\n",
      "C:\\Users\\ITSC\\AppData\\Local\\Temp\\ipykernel_15928\\597790636.py:2: PerformanceWarning: DataFrame is highly fragmented.  This is usually the result of calling `frame.insert` many times, which has poor performance.  Consider joining all columns at once using pd.concat(axis=1) instead. To get a de-fragmented frame, use `newframe = frame.copy()`\n",
      "  kr_pivot[column] = False\n",
      "C:\\Users\\ITSC\\AppData\\Local\\Temp\\ipykernel_15928\\597790636.py:2: PerformanceWarning: DataFrame is highly fragmented.  This is usually the result of calling `frame.insert` many times, which has poor performance.  Consider joining all columns at once using pd.concat(axis=1) instead. To get a de-fragmented frame, use `newframe = frame.copy()`\n",
      "  kr_pivot[column] = False\n",
      "C:\\Users\\ITSC\\AppData\\Local\\Temp\\ipykernel_15928\\597790636.py:2: PerformanceWarning: DataFrame is highly fragmented.  This is usually the result of calling `frame.insert` many times, which has poor performance.  Consider joining all columns at once using pd.concat(axis=1) instead. To get a de-fragmented frame, use `newframe = frame.copy()`\n",
      "  kr_pivot[column] = False\n",
      "C:\\Users\\ITSC\\AppData\\Local\\Temp\\ipykernel_15928\\597790636.py:2: PerformanceWarning: DataFrame is highly fragmented.  This is usually the result of calling `frame.insert` many times, which has poor performance.  Consider joining all columns at once using pd.concat(axis=1) instead. To get a de-fragmented frame, use `newframe = frame.copy()`\n",
      "  kr_pivot[column] = False\n",
      "C:\\Users\\ITSC\\AppData\\Local\\Temp\\ipykernel_15928\\597790636.py:2: PerformanceWarning: DataFrame is highly fragmented.  This is usually the result of calling `frame.insert` many times, which has poor performance.  Consider joining all columns at once using pd.concat(axis=1) instead. To get a de-fragmented frame, use `newframe = frame.copy()`\n",
      "  kr_pivot[column] = False\n",
      "C:\\Users\\ITSC\\AppData\\Local\\Temp\\ipykernel_15928\\597790636.py:2: PerformanceWarning: DataFrame is highly fragmented.  This is usually the result of calling `frame.insert` many times, which has poor performance.  Consider joining all columns at once using pd.concat(axis=1) instead. To get a de-fragmented frame, use `newframe = frame.copy()`\n",
      "  kr_pivot[column] = False\n",
      "C:\\Users\\ITSC\\AppData\\Local\\Temp\\ipykernel_15928\\597790636.py:2: PerformanceWarning: DataFrame is highly fragmented.  This is usually the result of calling `frame.insert` many times, which has poor performance.  Consider joining all columns at once using pd.concat(axis=1) instead. To get a de-fragmented frame, use `newframe = frame.copy()`\n",
      "  kr_pivot[column] = False\n",
      "C:\\Users\\ITSC\\AppData\\Local\\Temp\\ipykernel_15928\\597790636.py:2: PerformanceWarning: DataFrame is highly fragmented.  This is usually the result of calling `frame.insert` many times, which has poor performance.  Consider joining all columns at once using pd.concat(axis=1) instead. To get a de-fragmented frame, use `newframe = frame.copy()`\n",
      "  kr_pivot[column] = False\n",
      "C:\\Users\\ITSC\\AppData\\Local\\Temp\\ipykernel_15928\\597790636.py:2: PerformanceWarning: DataFrame is highly fragmented.  This is usually the result of calling `frame.insert` many times, which has poor performance.  Consider joining all columns at once using pd.concat(axis=1) instead. To get a de-fragmented frame, use `newframe = frame.copy()`\n",
      "  kr_pivot[column] = False\n",
      "C:\\Users\\ITSC\\AppData\\Local\\Temp\\ipykernel_15928\\597790636.py:2: PerformanceWarning: DataFrame is highly fragmented.  This is usually the result of calling `frame.insert` many times, which has poor performance.  Consider joining all columns at once using pd.concat(axis=1) instead. To get a de-fragmented frame, use `newframe = frame.copy()`\n",
      "  kr_pivot[column] = False\n",
      "C:\\Users\\ITSC\\AppData\\Local\\Temp\\ipykernel_15928\\597790636.py:2: PerformanceWarning: DataFrame is highly fragmented.  This is usually the result of calling `frame.insert` many times, which has poor performance.  Consider joining all columns at once using pd.concat(axis=1) instead. To get a de-fragmented frame, use `newframe = frame.copy()`\n",
      "  kr_pivot[column] = False\n",
      "C:\\Users\\ITSC\\AppData\\Local\\Temp\\ipykernel_15928\\597790636.py:2: PerformanceWarning: DataFrame is highly fragmented.  This is usually the result of calling `frame.insert` many times, which has poor performance.  Consider joining all columns at once using pd.concat(axis=1) instead. To get a de-fragmented frame, use `newframe = frame.copy()`\n",
      "  kr_pivot[column] = False\n",
      "C:\\Users\\ITSC\\AppData\\Local\\Temp\\ipykernel_15928\\597790636.py:2: PerformanceWarning: DataFrame is highly fragmented.  This is usually the result of calling `frame.insert` many times, which has poor performance.  Consider joining all columns at once using pd.concat(axis=1) instead. To get a de-fragmented frame, use `newframe = frame.copy()`\n",
      "  kr_pivot[column] = False\n",
      "C:\\Users\\ITSC\\AppData\\Local\\Temp\\ipykernel_15928\\597790636.py:2: PerformanceWarning: DataFrame is highly fragmented.  This is usually the result of calling `frame.insert` many times, which has poor performance.  Consider joining all columns at once using pd.concat(axis=1) instead. To get a de-fragmented frame, use `newframe = frame.copy()`\n",
      "  kr_pivot[column] = False\n",
      "C:\\Users\\ITSC\\AppData\\Local\\Temp\\ipykernel_15928\\597790636.py:2: PerformanceWarning: DataFrame is highly fragmented.  This is usually the result of calling `frame.insert` many times, which has poor performance.  Consider joining all columns at once using pd.concat(axis=1) instead. To get a de-fragmented frame, use `newframe = frame.copy()`\n",
      "  kr_pivot[column] = False\n",
      "C:\\Users\\ITSC\\AppData\\Local\\Temp\\ipykernel_15928\\597790636.py:2: PerformanceWarning: DataFrame is highly fragmented.  This is usually the result of calling `frame.insert` many times, which has poor performance.  Consider joining all columns at once using pd.concat(axis=1) instead. To get a de-fragmented frame, use `newframe = frame.copy()`\n",
      "  kr_pivot[column] = False\n",
      "C:\\Users\\ITSC\\AppData\\Local\\Temp\\ipykernel_15928\\597790636.py:2: PerformanceWarning: DataFrame is highly fragmented.  This is usually the result of calling `frame.insert` many times, which has poor performance.  Consider joining all columns at once using pd.concat(axis=1) instead. To get a de-fragmented frame, use `newframe = frame.copy()`\n",
      "  kr_pivot[column] = False\n",
      "C:\\Users\\ITSC\\AppData\\Local\\Temp\\ipykernel_15928\\597790636.py:2: PerformanceWarning: DataFrame is highly fragmented.  This is usually the result of calling `frame.insert` many times, which has poor performance.  Consider joining all columns at once using pd.concat(axis=1) instead. To get a de-fragmented frame, use `newframe = frame.copy()`\n",
      "  kr_pivot[column] = False\n",
      "C:\\Users\\ITSC\\AppData\\Local\\Temp\\ipykernel_15928\\597790636.py:2: PerformanceWarning: DataFrame is highly fragmented.  This is usually the result of calling `frame.insert` many times, which has poor performance.  Consider joining all columns at once using pd.concat(axis=1) instead. To get a de-fragmented frame, use `newframe = frame.copy()`\n",
      "  kr_pivot[column] = False\n",
      "C:\\Users\\ITSC\\AppData\\Local\\Temp\\ipykernel_15928\\597790636.py:2: PerformanceWarning: DataFrame is highly fragmented.  This is usually the result of calling `frame.insert` many times, which has poor performance.  Consider joining all columns at once using pd.concat(axis=1) instead. To get a de-fragmented frame, use `newframe = frame.copy()`\n",
      "  kr_pivot[column] = False\n",
      "C:\\Users\\ITSC\\AppData\\Local\\Temp\\ipykernel_15928\\597790636.py:2: PerformanceWarning: DataFrame is highly fragmented.  This is usually the result of calling `frame.insert` many times, which has poor performance.  Consider joining all columns at once using pd.concat(axis=1) instead. To get a de-fragmented frame, use `newframe = frame.copy()`\n",
      "  kr_pivot[column] = False\n",
      "C:\\Users\\ITSC\\AppData\\Local\\Temp\\ipykernel_15928\\597790636.py:2: PerformanceWarning: DataFrame is highly fragmented.  This is usually the result of calling `frame.insert` many times, which has poor performance.  Consider joining all columns at once using pd.concat(axis=1) instead. To get a de-fragmented frame, use `newframe = frame.copy()`\n",
      "  kr_pivot[column] = False\n",
      "C:\\Users\\ITSC\\AppData\\Local\\Temp\\ipykernel_15928\\597790636.py:2: PerformanceWarning: DataFrame is highly fragmented.  This is usually the result of calling `frame.insert` many times, which has poor performance.  Consider joining all columns at once using pd.concat(axis=1) instead. To get a de-fragmented frame, use `newframe = frame.copy()`\n",
      "  kr_pivot[column] = False\n",
      "C:\\Users\\ITSC\\AppData\\Local\\Temp\\ipykernel_15928\\597790636.py:2: PerformanceWarning: DataFrame is highly fragmented.  This is usually the result of calling `frame.insert` many times, which has poor performance.  Consider joining all columns at once using pd.concat(axis=1) instead. To get a de-fragmented frame, use `newframe = frame.copy()`\n",
      "  kr_pivot[column] = False\n",
      "C:\\Users\\ITSC\\AppData\\Local\\Temp\\ipykernel_15928\\597790636.py:2: PerformanceWarning: DataFrame is highly fragmented.  This is usually the result of calling `frame.insert` many times, which has poor performance.  Consider joining all columns at once using pd.concat(axis=1) instead. To get a de-fragmented frame, use `newframe = frame.copy()`\n",
      "  kr_pivot[column] = False\n",
      "C:\\Users\\ITSC\\AppData\\Local\\Temp\\ipykernel_15928\\597790636.py:2: PerformanceWarning: DataFrame is highly fragmented.  This is usually the result of calling `frame.insert` many times, which has poor performance.  Consider joining all columns at once using pd.concat(axis=1) instead. To get a de-fragmented frame, use `newframe = frame.copy()`\n",
      "  kr_pivot[column] = False\n",
      "C:\\Users\\ITSC\\AppData\\Local\\Temp\\ipykernel_15928\\597790636.py:2: PerformanceWarning: DataFrame is highly fragmented.  This is usually the result of calling `frame.insert` many times, which has poor performance.  Consider joining all columns at once using pd.concat(axis=1) instead. To get a de-fragmented frame, use `newframe = frame.copy()`\n",
      "  kr_pivot[column] = False\n",
      "C:\\Users\\ITSC\\AppData\\Local\\Temp\\ipykernel_15928\\597790636.py:2: PerformanceWarning: DataFrame is highly fragmented.  This is usually the result of calling `frame.insert` many times, which has poor performance.  Consider joining all columns at once using pd.concat(axis=1) instead. To get a de-fragmented frame, use `newframe = frame.copy()`\n",
      "  kr_pivot[column] = False\n",
      "C:\\Users\\ITSC\\AppData\\Local\\Temp\\ipykernel_15928\\597790636.py:2: PerformanceWarning: DataFrame is highly fragmented.  This is usually the result of calling `frame.insert` many times, which has poor performance.  Consider joining all columns at once using pd.concat(axis=1) instead. To get a de-fragmented frame, use `newframe = frame.copy()`\n",
      "  kr_pivot[column] = False\n",
      "C:\\Users\\ITSC\\AppData\\Local\\Temp\\ipykernel_15928\\597790636.py:2: PerformanceWarning: DataFrame is highly fragmented.  This is usually the result of calling `frame.insert` many times, which has poor performance.  Consider joining all columns at once using pd.concat(axis=1) instead. To get a de-fragmented frame, use `newframe = frame.copy()`\n",
      "  kr_pivot[column] = False\n",
      "C:\\Users\\ITSC\\AppData\\Local\\Temp\\ipykernel_15928\\597790636.py:2: PerformanceWarning: DataFrame is highly fragmented.  This is usually the result of calling `frame.insert` many times, which has poor performance.  Consider joining all columns at once using pd.concat(axis=1) instead. To get a de-fragmented frame, use `newframe = frame.copy()`\n",
      "  kr_pivot[column] = False\n",
      "C:\\Users\\ITSC\\AppData\\Local\\Temp\\ipykernel_15928\\597790636.py:2: PerformanceWarning: DataFrame is highly fragmented.  This is usually the result of calling `frame.insert` many times, which has poor performance.  Consider joining all columns at once using pd.concat(axis=1) instead. To get a de-fragmented frame, use `newframe = frame.copy()`\n",
      "  kr_pivot[column] = False\n",
      "C:\\Users\\ITSC\\AppData\\Local\\Temp\\ipykernel_15928\\597790636.py:2: PerformanceWarning: DataFrame is highly fragmented.  This is usually the result of calling `frame.insert` many times, which has poor performance.  Consider joining all columns at once using pd.concat(axis=1) instead. To get a de-fragmented frame, use `newframe = frame.copy()`\n",
      "  kr_pivot[column] = False\n",
      "C:\\Users\\ITSC\\AppData\\Local\\Temp\\ipykernel_15928\\597790636.py:2: PerformanceWarning: DataFrame is highly fragmented.  This is usually the result of calling `frame.insert` many times, which has poor performance.  Consider joining all columns at once using pd.concat(axis=1) instead. To get a de-fragmented frame, use `newframe = frame.copy()`\n",
      "  kr_pivot[column] = False\n",
      "C:\\Users\\ITSC\\AppData\\Local\\Temp\\ipykernel_15928\\597790636.py:2: PerformanceWarning: DataFrame is highly fragmented.  This is usually the result of calling `frame.insert` many times, which has poor performance.  Consider joining all columns at once using pd.concat(axis=1) instead. To get a de-fragmented frame, use `newframe = frame.copy()`\n",
      "  kr_pivot[column] = False\n",
      "C:\\Users\\ITSC\\AppData\\Local\\Temp\\ipykernel_15928\\597790636.py:2: PerformanceWarning: DataFrame is highly fragmented.  This is usually the result of calling `frame.insert` many times, which has poor performance.  Consider joining all columns at once using pd.concat(axis=1) instead. To get a de-fragmented frame, use `newframe = frame.copy()`\n",
      "  kr_pivot[column] = False\n",
      "C:\\Users\\ITSC\\AppData\\Local\\Temp\\ipykernel_15928\\597790636.py:2: PerformanceWarning: DataFrame is highly fragmented.  This is usually the result of calling `frame.insert` many times, which has poor performance.  Consider joining all columns at once using pd.concat(axis=1) instead. To get a de-fragmented frame, use `newframe = frame.copy()`\n",
      "  kr_pivot[column] = False\n",
      "C:\\Users\\ITSC\\AppData\\Local\\Temp\\ipykernel_15928\\597790636.py:2: PerformanceWarning: DataFrame is highly fragmented.  This is usually the result of calling `frame.insert` many times, which has poor performance.  Consider joining all columns at once using pd.concat(axis=1) instead. To get a de-fragmented frame, use `newframe = frame.copy()`\n",
      "  kr_pivot[column] = False\n",
      "C:\\Users\\ITSC\\AppData\\Local\\Temp\\ipykernel_15928\\597790636.py:2: PerformanceWarning: DataFrame is highly fragmented.  This is usually the result of calling `frame.insert` many times, which has poor performance.  Consider joining all columns at once using pd.concat(axis=1) instead. To get a de-fragmented frame, use `newframe = frame.copy()`\n",
      "  kr_pivot[column] = False\n",
      "C:\\Users\\ITSC\\AppData\\Local\\Temp\\ipykernel_15928\\597790636.py:2: PerformanceWarning: DataFrame is highly fragmented.  This is usually the result of calling `frame.insert` many times, which has poor performance.  Consider joining all columns at once using pd.concat(axis=1) instead. To get a de-fragmented frame, use `newframe = frame.copy()`\n",
      "  kr_pivot[column] = False\n",
      "C:\\Users\\ITSC\\AppData\\Local\\Temp\\ipykernel_15928\\597790636.py:2: PerformanceWarning: DataFrame is highly fragmented.  This is usually the result of calling `frame.insert` many times, which has poor performance.  Consider joining all columns at once using pd.concat(axis=1) instead. To get a de-fragmented frame, use `newframe = frame.copy()`\n",
      "  kr_pivot[column] = False\n",
      "C:\\Users\\ITSC\\AppData\\Local\\Temp\\ipykernel_15928\\597790636.py:2: PerformanceWarning: DataFrame is highly fragmented.  This is usually the result of calling `frame.insert` many times, which has poor performance.  Consider joining all columns at once using pd.concat(axis=1) instead. To get a de-fragmented frame, use `newframe = frame.copy()`\n",
      "  kr_pivot[column] = False\n",
      "C:\\Users\\ITSC\\AppData\\Local\\Temp\\ipykernel_15928\\597790636.py:2: PerformanceWarning: DataFrame is highly fragmented.  This is usually the result of calling `frame.insert` many times, which has poor performance.  Consider joining all columns at once using pd.concat(axis=1) instead. To get a de-fragmented frame, use `newframe = frame.copy()`\n",
      "  kr_pivot[column] = False\n",
      "C:\\Users\\ITSC\\AppData\\Local\\Temp\\ipykernel_15928\\597790636.py:2: PerformanceWarning: DataFrame is highly fragmented.  This is usually the result of calling `frame.insert` many times, which has poor performance.  Consider joining all columns at once using pd.concat(axis=1) instead. To get a de-fragmented frame, use `newframe = frame.copy()`\n",
      "  kr_pivot[column] = False\n",
      "C:\\Users\\ITSC\\AppData\\Local\\Temp\\ipykernel_15928\\597790636.py:2: PerformanceWarning: DataFrame is highly fragmented.  This is usually the result of calling `frame.insert` many times, which has poor performance.  Consider joining all columns at once using pd.concat(axis=1) instead. To get a de-fragmented frame, use `newframe = frame.copy()`\n",
      "  kr_pivot[column] = False\n",
      "C:\\Users\\ITSC\\AppData\\Local\\Temp\\ipykernel_15928\\597790636.py:2: PerformanceWarning: DataFrame is highly fragmented.  This is usually the result of calling `frame.insert` many times, which has poor performance.  Consider joining all columns at once using pd.concat(axis=1) instead. To get a de-fragmented frame, use `newframe = frame.copy()`\n",
      "  kr_pivot[column] = False\n",
      "C:\\Users\\ITSC\\AppData\\Local\\Temp\\ipykernel_15928\\597790636.py:2: PerformanceWarning: DataFrame is highly fragmented.  This is usually the result of calling `frame.insert` many times, which has poor performance.  Consider joining all columns at once using pd.concat(axis=1) instead. To get a de-fragmented frame, use `newframe = frame.copy()`\n",
      "  kr_pivot[column] = False\n",
      "C:\\Users\\ITSC\\AppData\\Local\\Temp\\ipykernel_15928\\597790636.py:2: PerformanceWarning: DataFrame is highly fragmented.  This is usually the result of calling `frame.insert` many times, which has poor performance.  Consider joining all columns at once using pd.concat(axis=1) instead. To get a de-fragmented frame, use `newframe = frame.copy()`\n",
      "  kr_pivot[column] = False\n",
      "C:\\Users\\ITSC\\AppData\\Local\\Temp\\ipykernel_15928\\597790636.py:2: PerformanceWarning: DataFrame is highly fragmented.  This is usually the result of calling `frame.insert` many times, which has poor performance.  Consider joining all columns at once using pd.concat(axis=1) instead. To get a de-fragmented frame, use `newframe = frame.copy()`\n",
      "  kr_pivot[column] = False\n",
      "C:\\Users\\ITSC\\AppData\\Local\\Temp\\ipykernel_15928\\597790636.py:2: PerformanceWarning: DataFrame is highly fragmented.  This is usually the result of calling `frame.insert` many times, which has poor performance.  Consider joining all columns at once using pd.concat(axis=1) instead. To get a de-fragmented frame, use `newframe = frame.copy()`\n",
      "  kr_pivot[column] = False\n",
      "C:\\Users\\ITSC\\AppData\\Local\\Temp\\ipykernel_15928\\597790636.py:2: PerformanceWarning: DataFrame is highly fragmented.  This is usually the result of calling `frame.insert` many times, which has poor performance.  Consider joining all columns at once using pd.concat(axis=1) instead. To get a de-fragmented frame, use `newframe = frame.copy()`\n",
      "  kr_pivot[column] = False\n",
      "C:\\Users\\ITSC\\AppData\\Local\\Temp\\ipykernel_15928\\597790636.py:2: PerformanceWarning: DataFrame is highly fragmented.  This is usually the result of calling `frame.insert` many times, which has poor performance.  Consider joining all columns at once using pd.concat(axis=1) instead. To get a de-fragmented frame, use `newframe = frame.copy()`\n",
      "  kr_pivot[column] = False\n",
      "C:\\Users\\ITSC\\AppData\\Local\\Temp\\ipykernel_15928\\597790636.py:2: PerformanceWarning: DataFrame is highly fragmented.  This is usually the result of calling `frame.insert` many times, which has poor performance.  Consider joining all columns at once using pd.concat(axis=1) instead. To get a de-fragmented frame, use `newframe = frame.copy()`\n",
      "  kr_pivot[column] = False\n",
      "C:\\Users\\ITSC\\AppData\\Local\\Temp\\ipykernel_15928\\597790636.py:2: PerformanceWarning: DataFrame is highly fragmented.  This is usually the result of calling `frame.insert` many times, which has poor performance.  Consider joining all columns at once using pd.concat(axis=1) instead. To get a de-fragmented frame, use `newframe = frame.copy()`\n",
      "  kr_pivot[column] = False\n",
      "C:\\Users\\ITSC\\AppData\\Local\\Temp\\ipykernel_15928\\597790636.py:2: PerformanceWarning: DataFrame is highly fragmented.  This is usually the result of calling `frame.insert` many times, which has poor performance.  Consider joining all columns at once using pd.concat(axis=1) instead. To get a de-fragmented frame, use `newframe = frame.copy()`\n",
      "  kr_pivot[column] = False\n",
      "C:\\Users\\ITSC\\AppData\\Local\\Temp\\ipykernel_15928\\597790636.py:2: PerformanceWarning: DataFrame is highly fragmented.  This is usually the result of calling `frame.insert` many times, which has poor performance.  Consider joining all columns at once using pd.concat(axis=1) instead. To get a de-fragmented frame, use `newframe = frame.copy()`\n",
      "  kr_pivot[column] = False\n",
      "C:\\Users\\ITSC\\AppData\\Local\\Temp\\ipykernel_15928\\597790636.py:2: PerformanceWarning: DataFrame is highly fragmented.  This is usually the result of calling `frame.insert` many times, which has poor performance.  Consider joining all columns at once using pd.concat(axis=1) instead. To get a de-fragmented frame, use `newframe = frame.copy()`\n",
      "  kr_pivot[column] = False\n",
      "C:\\Users\\ITSC\\AppData\\Local\\Temp\\ipykernel_15928\\597790636.py:2: PerformanceWarning: DataFrame is highly fragmented.  This is usually the result of calling `frame.insert` many times, which has poor performance.  Consider joining all columns at once using pd.concat(axis=1) instead. To get a de-fragmented frame, use `newframe = frame.copy()`\n",
      "  kr_pivot[column] = False\n",
      "C:\\Users\\ITSC\\AppData\\Local\\Temp\\ipykernel_15928\\597790636.py:2: PerformanceWarning: DataFrame is highly fragmented.  This is usually the result of calling `frame.insert` many times, which has poor performance.  Consider joining all columns at once using pd.concat(axis=1) instead. To get a de-fragmented frame, use `newframe = frame.copy()`\n",
      "  kr_pivot[column] = False\n",
      "C:\\Users\\ITSC\\AppData\\Local\\Temp\\ipykernel_15928\\597790636.py:2: PerformanceWarning: DataFrame is highly fragmented.  This is usually the result of calling `frame.insert` many times, which has poor performance.  Consider joining all columns at once using pd.concat(axis=1) instead. To get a de-fragmented frame, use `newframe = frame.copy()`\n",
      "  kr_pivot[column] = False\n",
      "C:\\Users\\ITSC\\AppData\\Local\\Temp\\ipykernel_15928\\597790636.py:2: PerformanceWarning: DataFrame is highly fragmented.  This is usually the result of calling `frame.insert` many times, which has poor performance.  Consider joining all columns at once using pd.concat(axis=1) instead. To get a de-fragmented frame, use `newframe = frame.copy()`\n",
      "  kr_pivot[column] = False\n",
      "C:\\Users\\ITSC\\AppData\\Local\\Temp\\ipykernel_15928\\597790636.py:2: PerformanceWarning: DataFrame is highly fragmented.  This is usually the result of calling `frame.insert` many times, which has poor performance.  Consider joining all columns at once using pd.concat(axis=1) instead. To get a de-fragmented frame, use `newframe = frame.copy()`\n",
      "  kr_pivot[column] = False\n",
      "C:\\Users\\ITSC\\AppData\\Local\\Temp\\ipykernel_15928\\597790636.py:2: PerformanceWarning: DataFrame is highly fragmented.  This is usually the result of calling `frame.insert` many times, which has poor performance.  Consider joining all columns at once using pd.concat(axis=1) instead. To get a de-fragmented frame, use `newframe = frame.copy()`\n",
      "  kr_pivot[column] = False\n",
      "C:\\Users\\ITSC\\AppData\\Local\\Temp\\ipykernel_15928\\597790636.py:2: PerformanceWarning: DataFrame is highly fragmented.  This is usually the result of calling `frame.insert` many times, which has poor performance.  Consider joining all columns at once using pd.concat(axis=1) instead. To get a de-fragmented frame, use `newframe = frame.copy()`\n",
      "  kr_pivot[column] = False\n",
      "C:\\Users\\ITSC\\AppData\\Local\\Temp\\ipykernel_15928\\597790636.py:2: PerformanceWarning: DataFrame is highly fragmented.  This is usually the result of calling `frame.insert` many times, which has poor performance.  Consider joining all columns at once using pd.concat(axis=1) instead. To get a de-fragmented frame, use `newframe = frame.copy()`\n",
      "  kr_pivot[column] = False\n",
      "C:\\Users\\ITSC\\AppData\\Local\\Temp\\ipykernel_15928\\597790636.py:2: PerformanceWarning: DataFrame is highly fragmented.  This is usually the result of calling `frame.insert` many times, which has poor performance.  Consider joining all columns at once using pd.concat(axis=1) instead. To get a de-fragmented frame, use `newframe = frame.copy()`\n",
      "  kr_pivot[column] = False\n",
      "C:\\Users\\ITSC\\AppData\\Local\\Temp\\ipykernel_15928\\597790636.py:2: PerformanceWarning: DataFrame is highly fragmented.  This is usually the result of calling `frame.insert` many times, which has poor performance.  Consider joining all columns at once using pd.concat(axis=1) instead. To get a de-fragmented frame, use `newframe = frame.copy()`\n",
      "  kr_pivot[column] = False\n",
      "C:\\Users\\ITSC\\AppData\\Local\\Temp\\ipykernel_15928\\597790636.py:2: PerformanceWarning: DataFrame is highly fragmented.  This is usually the result of calling `frame.insert` many times, which has poor performance.  Consider joining all columns at once using pd.concat(axis=1) instead. To get a de-fragmented frame, use `newframe = frame.copy()`\n",
      "  kr_pivot[column] = False\n",
      "C:\\Users\\ITSC\\AppData\\Local\\Temp\\ipykernel_15928\\597790636.py:2: PerformanceWarning: DataFrame is highly fragmented.  This is usually the result of calling `frame.insert` many times, which has poor performance.  Consider joining all columns at once using pd.concat(axis=1) instead. To get a de-fragmented frame, use `newframe = frame.copy()`\n",
      "  kr_pivot[column] = False\n",
      "C:\\Users\\ITSC\\AppData\\Local\\Temp\\ipykernel_15928\\597790636.py:2: PerformanceWarning: DataFrame is highly fragmented.  This is usually the result of calling `frame.insert` many times, which has poor performance.  Consider joining all columns at once using pd.concat(axis=1) instead. To get a de-fragmented frame, use `newframe = frame.copy()`\n",
      "  kr_pivot[column] = False\n",
      "C:\\Users\\ITSC\\AppData\\Local\\Temp\\ipykernel_15928\\597790636.py:2: PerformanceWarning: DataFrame is highly fragmented.  This is usually the result of calling `frame.insert` many times, which has poor performance.  Consider joining all columns at once using pd.concat(axis=1) instead. To get a de-fragmented frame, use `newframe = frame.copy()`\n",
      "  kr_pivot[column] = False\n",
      "C:\\Users\\ITSC\\AppData\\Local\\Temp\\ipykernel_15928\\597790636.py:2: PerformanceWarning: DataFrame is highly fragmented.  This is usually the result of calling `frame.insert` many times, which has poor performance.  Consider joining all columns at once using pd.concat(axis=1) instead. To get a de-fragmented frame, use `newframe = frame.copy()`\n",
      "  kr_pivot[column] = False\n",
      "C:\\Users\\ITSC\\AppData\\Local\\Temp\\ipykernel_15928\\597790636.py:2: PerformanceWarning: DataFrame is highly fragmented.  This is usually the result of calling `frame.insert` many times, which has poor performance.  Consider joining all columns at once using pd.concat(axis=1) instead. To get a de-fragmented frame, use `newframe = frame.copy()`\n",
      "  kr_pivot[column] = False\n",
      "C:\\Users\\ITSC\\AppData\\Local\\Temp\\ipykernel_15928\\597790636.py:2: PerformanceWarning: DataFrame is highly fragmented.  This is usually the result of calling `frame.insert` many times, which has poor performance.  Consider joining all columns at once using pd.concat(axis=1) instead. To get a de-fragmented frame, use `newframe = frame.copy()`\n",
      "  kr_pivot[column] = False\n",
      "C:\\Users\\ITSC\\AppData\\Local\\Temp\\ipykernel_15928\\597790636.py:2: PerformanceWarning: DataFrame is highly fragmented.  This is usually the result of calling `frame.insert` many times, which has poor performance.  Consider joining all columns at once using pd.concat(axis=1) instead. To get a de-fragmented frame, use `newframe = frame.copy()`\n",
      "  kr_pivot[column] = False\n",
      "C:\\Users\\ITSC\\AppData\\Local\\Temp\\ipykernel_15928\\597790636.py:2: PerformanceWarning: DataFrame is highly fragmented.  This is usually the result of calling `frame.insert` many times, which has poor performance.  Consider joining all columns at once using pd.concat(axis=1) instead. To get a de-fragmented frame, use `newframe = frame.copy()`\n",
      "  kr_pivot[column] = False\n",
      "C:\\Users\\ITSC\\AppData\\Local\\Temp\\ipykernel_15928\\597790636.py:2: PerformanceWarning: DataFrame is highly fragmented.  This is usually the result of calling `frame.insert` many times, which has poor performance.  Consider joining all columns at once using pd.concat(axis=1) instead. To get a de-fragmented frame, use `newframe = frame.copy()`\n",
      "  kr_pivot[column] = False\n",
      "C:\\Users\\ITSC\\AppData\\Local\\Temp\\ipykernel_15928\\597790636.py:2: PerformanceWarning: DataFrame is highly fragmented.  This is usually the result of calling `frame.insert` many times, which has poor performance.  Consider joining all columns at once using pd.concat(axis=1) instead. To get a de-fragmented frame, use `newframe = frame.copy()`\n",
      "  kr_pivot[column] = False\n",
      "C:\\Users\\ITSC\\AppData\\Local\\Temp\\ipykernel_15928\\597790636.py:2: PerformanceWarning: DataFrame is highly fragmented.  This is usually the result of calling `frame.insert` many times, which has poor performance.  Consider joining all columns at once using pd.concat(axis=1) instead. To get a de-fragmented frame, use `newframe = frame.copy()`\n",
      "  kr_pivot[column] = False\n",
      "C:\\Users\\ITSC\\AppData\\Local\\Temp\\ipykernel_15928\\597790636.py:2: PerformanceWarning: DataFrame is highly fragmented.  This is usually the result of calling `frame.insert` many times, which has poor performance.  Consider joining all columns at once using pd.concat(axis=1) instead. To get a de-fragmented frame, use `newframe = frame.copy()`\n",
      "  kr_pivot[column] = False\n",
      "C:\\Users\\ITSC\\AppData\\Local\\Temp\\ipykernel_15928\\597790636.py:2: PerformanceWarning: DataFrame is highly fragmented.  This is usually the result of calling `frame.insert` many times, which has poor performance.  Consider joining all columns at once using pd.concat(axis=1) instead. To get a de-fragmented frame, use `newframe = frame.copy()`\n",
      "  kr_pivot[column] = False\n",
      "C:\\Users\\ITSC\\AppData\\Local\\Temp\\ipykernel_15928\\597790636.py:2: PerformanceWarning: DataFrame is highly fragmented.  This is usually the result of calling `frame.insert` many times, which has poor performance.  Consider joining all columns at once using pd.concat(axis=1) instead. To get a de-fragmented frame, use `newframe = frame.copy()`\n",
      "  kr_pivot[column] = False\n",
      "C:\\Users\\ITSC\\AppData\\Local\\Temp\\ipykernel_15928\\597790636.py:2: PerformanceWarning: DataFrame is highly fragmented.  This is usually the result of calling `frame.insert` many times, which has poor performance.  Consider joining all columns at once using pd.concat(axis=1) instead. To get a de-fragmented frame, use `newframe = frame.copy()`\n",
      "  kr_pivot[column] = False\n",
      "C:\\Users\\ITSC\\AppData\\Local\\Temp\\ipykernel_15928\\597790636.py:2: PerformanceWarning: DataFrame is highly fragmented.  This is usually the result of calling `frame.insert` many times, which has poor performance.  Consider joining all columns at once using pd.concat(axis=1) instead. To get a de-fragmented frame, use `newframe = frame.copy()`\n",
      "  kr_pivot[column] = False\n",
      "C:\\Users\\ITSC\\AppData\\Local\\Temp\\ipykernel_15928\\597790636.py:2: PerformanceWarning: DataFrame is highly fragmented.  This is usually the result of calling `frame.insert` many times, which has poor performance.  Consider joining all columns at once using pd.concat(axis=1) instead. To get a de-fragmented frame, use `newframe = frame.copy()`\n",
      "  kr_pivot[column] = False\n",
      "C:\\Users\\ITSC\\AppData\\Local\\Temp\\ipykernel_15928\\597790636.py:2: PerformanceWarning: DataFrame is highly fragmented.  This is usually the result of calling `frame.insert` many times, which has poor performance.  Consider joining all columns at once using pd.concat(axis=1) instead. To get a de-fragmented frame, use `newframe = frame.copy()`\n",
      "  kr_pivot[column] = False\n",
      "C:\\Users\\ITSC\\AppData\\Local\\Temp\\ipykernel_15928\\597790636.py:2: PerformanceWarning: DataFrame is highly fragmented.  This is usually the result of calling `frame.insert` many times, which has poor performance.  Consider joining all columns at once using pd.concat(axis=1) instead. To get a de-fragmented frame, use `newframe = frame.copy()`\n",
      "  kr_pivot[column] = False\n",
      "C:\\Users\\ITSC\\AppData\\Local\\Temp\\ipykernel_15928\\597790636.py:2: PerformanceWarning: DataFrame is highly fragmented.  This is usually the result of calling `frame.insert` many times, which has poor performance.  Consider joining all columns at once using pd.concat(axis=1) instead. To get a de-fragmented frame, use `newframe = frame.copy()`\n",
      "  kr_pivot[column] = False\n",
      "C:\\Users\\ITSC\\AppData\\Local\\Temp\\ipykernel_15928\\597790636.py:2: PerformanceWarning: DataFrame is highly fragmented.  This is usually the result of calling `frame.insert` many times, which has poor performance.  Consider joining all columns at once using pd.concat(axis=1) instead. To get a de-fragmented frame, use `newframe = frame.copy()`\n",
      "  kr_pivot[column] = False\n",
      "C:\\Users\\ITSC\\AppData\\Local\\Temp\\ipykernel_15928\\597790636.py:2: PerformanceWarning: DataFrame is highly fragmented.  This is usually the result of calling `frame.insert` many times, which has poor performance.  Consider joining all columns at once using pd.concat(axis=1) instead. To get a de-fragmented frame, use `newframe = frame.copy()`\n",
      "  kr_pivot[column] = False\n",
      "C:\\Users\\ITSC\\AppData\\Local\\Temp\\ipykernel_15928\\597790636.py:2: PerformanceWarning: DataFrame is highly fragmented.  This is usually the result of calling `frame.insert` many times, which has poor performance.  Consider joining all columns at once using pd.concat(axis=1) instead. To get a de-fragmented frame, use `newframe = frame.copy()`\n",
      "  kr_pivot[column] = False\n",
      "C:\\Users\\ITSC\\AppData\\Local\\Temp\\ipykernel_15928\\597790636.py:2: PerformanceWarning: DataFrame is highly fragmented.  This is usually the result of calling `frame.insert` many times, which has poor performance.  Consider joining all columns at once using pd.concat(axis=1) instead. To get a de-fragmented frame, use `newframe = frame.copy()`\n",
      "  kr_pivot[column] = False\n",
      "C:\\Users\\ITSC\\AppData\\Local\\Temp\\ipykernel_15928\\597790636.py:2: PerformanceWarning: DataFrame is highly fragmented.  This is usually the result of calling `frame.insert` many times, which has poor performance.  Consider joining all columns at once using pd.concat(axis=1) instead. To get a de-fragmented frame, use `newframe = frame.copy()`\n",
      "  kr_pivot[column] = False\n",
      "C:\\Users\\ITSC\\AppData\\Local\\Temp\\ipykernel_15928\\597790636.py:2: PerformanceWarning: DataFrame is highly fragmented.  This is usually the result of calling `frame.insert` many times, which has poor performance.  Consider joining all columns at once using pd.concat(axis=1) instead. To get a de-fragmented frame, use `newframe = frame.copy()`\n",
      "  kr_pivot[column] = False\n",
      "C:\\Users\\ITSC\\AppData\\Local\\Temp\\ipykernel_15928\\597790636.py:2: PerformanceWarning: DataFrame is highly fragmented.  This is usually the result of calling `frame.insert` many times, which has poor performance.  Consider joining all columns at once using pd.concat(axis=1) instead. To get a de-fragmented frame, use `newframe = frame.copy()`\n",
      "  kr_pivot[column] = False\n",
      "C:\\Users\\ITSC\\AppData\\Local\\Temp\\ipykernel_15928\\597790636.py:2: PerformanceWarning: DataFrame is highly fragmented.  This is usually the result of calling `frame.insert` many times, which has poor performance.  Consider joining all columns at once using pd.concat(axis=1) instead. To get a de-fragmented frame, use `newframe = frame.copy()`\n",
      "  kr_pivot[column] = False\n",
      "C:\\Users\\ITSC\\AppData\\Local\\Temp\\ipykernel_15928\\597790636.py:2: PerformanceWarning: DataFrame is highly fragmented.  This is usually the result of calling `frame.insert` many times, which has poor performance.  Consider joining all columns at once using pd.concat(axis=1) instead. To get a de-fragmented frame, use `newframe = frame.copy()`\n",
      "  kr_pivot[column] = False\n",
      "C:\\Users\\ITSC\\AppData\\Local\\Temp\\ipykernel_15928\\597790636.py:2: PerformanceWarning: DataFrame is highly fragmented.  This is usually the result of calling `frame.insert` many times, which has poor performance.  Consider joining all columns at once using pd.concat(axis=1) instead. To get a de-fragmented frame, use `newframe = frame.copy()`\n",
      "  kr_pivot[column] = False\n",
      "C:\\Users\\ITSC\\AppData\\Local\\Temp\\ipykernel_15928\\597790636.py:2: PerformanceWarning: DataFrame is highly fragmented.  This is usually the result of calling `frame.insert` many times, which has poor performance.  Consider joining all columns at once using pd.concat(axis=1) instead. To get a de-fragmented frame, use `newframe = frame.copy()`\n",
      "  kr_pivot[column] = False\n",
      "C:\\Users\\ITSC\\AppData\\Local\\Temp\\ipykernel_15928\\597790636.py:2: PerformanceWarning: DataFrame is highly fragmented.  This is usually the result of calling `frame.insert` many times, which has poor performance.  Consider joining all columns at once using pd.concat(axis=1) instead. To get a de-fragmented frame, use `newframe = frame.copy()`\n",
      "  kr_pivot[column] = False\n",
      "C:\\Users\\ITSC\\AppData\\Local\\Temp\\ipykernel_15928\\597790636.py:2: PerformanceWarning: DataFrame is highly fragmented.  This is usually the result of calling `frame.insert` many times, which has poor performance.  Consider joining all columns at once using pd.concat(axis=1) instead. To get a de-fragmented frame, use `newframe = frame.copy()`\n",
      "  kr_pivot[column] = False\n",
      "C:\\Users\\ITSC\\AppData\\Local\\Temp\\ipykernel_15928\\597790636.py:2: PerformanceWarning: DataFrame is highly fragmented.  This is usually the result of calling `frame.insert` many times, which has poor performance.  Consider joining all columns at once using pd.concat(axis=1) instead. To get a de-fragmented frame, use `newframe = frame.copy()`\n",
      "  kr_pivot[column] = False\n",
      "C:\\Users\\ITSC\\AppData\\Local\\Temp\\ipykernel_15928\\597790636.py:2: PerformanceWarning: DataFrame is highly fragmented.  This is usually the result of calling `frame.insert` many times, which has poor performance.  Consider joining all columns at once using pd.concat(axis=1) instead. To get a de-fragmented frame, use `newframe = frame.copy()`\n",
      "  kr_pivot[column] = False\n",
      "C:\\Users\\ITSC\\AppData\\Local\\Temp\\ipykernel_15928\\597790636.py:2: PerformanceWarning: DataFrame is highly fragmented.  This is usually the result of calling `frame.insert` many times, which has poor performance.  Consider joining all columns at once using pd.concat(axis=1) instead. To get a de-fragmented frame, use `newframe = frame.copy()`\n",
      "  kr_pivot[column] = False\n",
      "C:\\Users\\ITSC\\AppData\\Local\\Temp\\ipykernel_15928\\597790636.py:2: PerformanceWarning: DataFrame is highly fragmented.  This is usually the result of calling `frame.insert` many times, which has poor performance.  Consider joining all columns at once using pd.concat(axis=1) instead. To get a de-fragmented frame, use `newframe = frame.copy()`\n",
      "  kr_pivot[column] = False\n",
      "C:\\Users\\ITSC\\AppData\\Local\\Temp\\ipykernel_15928\\597790636.py:2: PerformanceWarning: DataFrame is highly fragmented.  This is usually the result of calling `frame.insert` many times, which has poor performance.  Consider joining all columns at once using pd.concat(axis=1) instead. To get a de-fragmented frame, use `newframe = frame.copy()`\n",
      "  kr_pivot[column] = False\n",
      "C:\\Users\\ITSC\\AppData\\Local\\Temp\\ipykernel_15928\\597790636.py:2: PerformanceWarning: DataFrame is highly fragmented.  This is usually the result of calling `frame.insert` many times, which has poor performance.  Consider joining all columns at once using pd.concat(axis=1) instead. To get a de-fragmented frame, use `newframe = frame.copy()`\n",
      "  kr_pivot[column] = False\n",
      "C:\\Users\\ITSC\\AppData\\Local\\Temp\\ipykernel_15928\\597790636.py:2: PerformanceWarning: DataFrame is highly fragmented.  This is usually the result of calling `frame.insert` many times, which has poor performance.  Consider joining all columns at once using pd.concat(axis=1) instead. To get a de-fragmented frame, use `newframe = frame.copy()`\n",
      "  kr_pivot[column] = False\n",
      "C:\\Users\\ITSC\\AppData\\Local\\Temp\\ipykernel_15928\\597790636.py:2: PerformanceWarning: DataFrame is highly fragmented.  This is usually the result of calling `frame.insert` many times, which has poor performance.  Consider joining all columns at once using pd.concat(axis=1) instead. To get a de-fragmented frame, use `newframe = frame.copy()`\n",
      "  kr_pivot[column] = False\n",
      "C:\\Users\\ITSC\\AppData\\Local\\Temp\\ipykernel_15928\\597790636.py:2: PerformanceWarning: DataFrame is highly fragmented.  This is usually the result of calling `frame.insert` many times, which has poor performance.  Consider joining all columns at once using pd.concat(axis=1) instead. To get a de-fragmented frame, use `newframe = frame.copy()`\n",
      "  kr_pivot[column] = False\n",
      "C:\\Users\\ITSC\\AppData\\Local\\Temp\\ipykernel_15928\\597790636.py:2: PerformanceWarning: DataFrame is highly fragmented.  This is usually the result of calling `frame.insert` many times, which has poor performance.  Consider joining all columns at once using pd.concat(axis=1) instead. To get a de-fragmented frame, use `newframe = frame.copy()`\n",
      "  kr_pivot[column] = False\n",
      "C:\\Users\\ITSC\\AppData\\Local\\Temp\\ipykernel_15928\\597790636.py:2: PerformanceWarning: DataFrame is highly fragmented.  This is usually the result of calling `frame.insert` many times, which has poor performance.  Consider joining all columns at once using pd.concat(axis=1) instead. To get a de-fragmented frame, use `newframe = frame.copy()`\n",
      "  kr_pivot[column] = False\n"
     ]
    }
   ],
   "source": [
    "for column in kr_columns[~kr_columns.isin(kr_pivot.columns)]:\n",
    "    kr_pivot[column] = False"
   ]
  },
  {
   "cell_type": "code",
   "execution_count": 17,
   "id": "79dd6fbb",
   "metadata": {},
   "outputs": [],
   "source": [
    "kr_pivot = kr_pivot.loc[:, kr_columns]"
   ]
  },
  {
   "cell_type": "code",
   "execution_count": 18,
   "id": "401829ea",
   "metadata": {},
   "outputs": [
    {
     "data": {
      "text/plain": [
       "0"
      ]
     },
     "execution_count": 18,
     "metadata": {},
     "output_type": "execute_result"
    }
   ],
   "source": [
    "sum(kr_pivot.columns != kr_columns)"
   ]
  },
  {
   "cell_type": "code",
   "execution_count": 19,
   "id": "152b4094",
   "metadata": {},
   "outputs": [
    {
     "data": {
      "text/plain": [
       "(48, 855)"
      ]
     },
     "execution_count": 19,
     "metadata": {},
     "output_type": "execute_result"
    }
   ],
   "source": [
    "kr_pivot.shape"
   ]
  },
  {
   "cell_type": "code",
   "execution_count": null,
   "id": "cdbf0516",
   "metadata": {},
   "outputs": [],
   "source": []
  },
  {
   "cell_type": "markdown",
   "id": "beddb59b",
   "metadata": {},
   "source": [
    "### 중국 데이터 처리"
   ]
  },
  {
   "cell_type": "code",
   "execution_count": 20,
   "id": "d5eeea37",
   "metadata": {},
   "outputs": [],
   "source": [
    "cn_df[\"지점\"] = cn_df[\"지점\"].map(lambda x: str(float(x)))"
   ]
  },
  {
   "cell_type": "code",
   "execution_count": 21,
   "id": "52b600ac",
   "metadata": {},
   "outputs": [],
   "source": [
    "cn_df = cn_df.drop(\"지점명\", axis = 1)"
   ]
  },
  {
   "cell_type": "code",
   "execution_count": 22,
   "id": "77726329",
   "metadata": {},
   "outputs": [],
   "source": [
    "cn_df[\"풍향\"] = cn_df[\"풍향\"].map(lambda x: 0 if x == 360 else x)"
   ]
  },
  {
   "cell_type": "code",
   "execution_count": 23,
   "id": "c0cd543c",
   "metadata": {},
   "outputs": [],
   "source": [
    "cn_pivot = cn_df.pivot(index = \"일시\", columns = \"지점\")"
   ]
  },
  {
   "cell_type": "code",
   "execution_count": 26,
   "id": "ea6acb93",
   "metadata": {},
   "outputs": [],
   "source": [
    "cn_pivot = cn_pivot.iloc[8:, :]"
   ]
  },
  {
   "cell_type": "code",
   "execution_count": 27,
   "id": "982a2c9e",
   "metadata": {},
   "outputs": [],
   "source": [
    "time_df = pd.DataFrame(cn_pivot.index)\n",
    "time_df = time_df.set_index(\"일시\")\n",
    "\n",
    "for loc in cn_pivot[\"풍향\"].columns:\n",
    "    dummy_df = pd.get_dummies(cn_pivot[\"풍향\"][loc])\n",
    "    dummy_df.columns = dummy_df.columns.map(lambda x: (\"풍향\", loc + \"_\" + str(x)))\n",
    "    \n",
    "    time_df = pd.concat([time_df, dummy_df], axis = 1)"
   ]
  },
  {
   "cell_type": "code",
   "execution_count": 28,
   "id": "8cc9bf02",
   "metadata": {},
   "outputs": [],
   "source": [
    "cn_pivot = cn_pivot.drop(\"풍향\", axis = 1)"
   ]
  },
  {
   "cell_type": "code",
   "execution_count": 29,
   "id": "a189d648",
   "metadata": {},
   "outputs": [],
   "source": [
    "cn_pivot = pd.concat([cn_pivot, time_df], axis = 1)"
   ]
  },
  {
   "cell_type": "code",
   "execution_count": 30,
   "id": "b9e7137a",
   "metadata": {},
   "outputs": [],
   "source": [
    "cn_pivot.columns = cn_pivot.columns.map(lambda x: str(x))"
   ]
  },
  {
   "cell_type": "code",
   "execution_count": null,
   "id": "380ababb",
   "metadata": {},
   "outputs": [],
   "source": []
  },
  {
   "cell_type": "code",
   "execution_count": 31,
   "id": "d2295586",
   "metadata": {},
   "outputs": [
    {
     "data": {
      "text/plain": [
       "(48, 558)"
      ]
     },
     "execution_count": 31,
     "metadata": {},
     "output_type": "execute_result"
    }
   ],
   "source": [
    "cn_pivot.shape"
   ]
  },
  {
   "cell_type": "code",
   "execution_count": 32,
   "id": "23da3dd0",
   "metadata": {},
   "outputs": [
    {
     "data": {
      "text/plain": [
       "Index(['('풍향', '50745.0_30.0')', '('풍향', '50745.0_100.0')',\n",
       "       '('풍향', '50745.0_110.0')', '('풍향', '50745.0_120.0')',\n",
       "       '('풍향', '50745.0_140.0')', '('풍향', '50745.0_150.0')',\n",
       "       '('풍향', '50745.0_180.0')', '('풍향', '50745.0_270.0')',\n",
       "       '('풍향', '50745.0_280.0')', '('풍향', '50745.0_290.0')',\n",
       "       ...\n",
       "       '('풍향', '59287.0_240.0')', '('풍향', '59287.0_250.0')',\n",
       "       '('풍향', '59287.0_260.0')', '('풍향', '59287.0_270.0')',\n",
       "       '('풍향', '59287.0_280.0')', '('풍향', '59287.0_290.0')',\n",
       "       '('풍향', '59287.0_300.0')', '('풍향', '59287.0_320.0')',\n",
       "       '('풍향', '59287.0_330.0')', '('풍향', '59287.0_350.0')'],\n",
       "      dtype='object', length=278)"
      ]
     },
     "execution_count": 32,
     "metadata": {},
     "output_type": "execute_result"
    }
   ],
   "source": [
    "cn_columns[~cn_columns.isin(cn_pivot.columns)]"
   ]
  },
  {
   "cell_type": "code",
   "execution_count": 33,
   "id": "688bb2c8",
   "metadata": {},
   "outputs": [
    {
     "name": "stderr",
     "output_type": "stream",
     "text": [
      "C:\\Users\\ITSC\\AppData\\Local\\Temp\\ipykernel_15928\\2132128891.py:2: PerformanceWarning: DataFrame is highly fragmented.  This is usually the result of calling `frame.insert` many times, which has poor performance.  Consider joining all columns at once using pd.concat(axis=1) instead. To get a de-fragmented frame, use `newframe = frame.copy()`\n",
      "  cn_pivot[column] = False\n",
      "C:\\Users\\ITSC\\AppData\\Local\\Temp\\ipykernel_15928\\2132128891.py:2: PerformanceWarning: DataFrame is highly fragmented.  This is usually the result of calling `frame.insert` many times, which has poor performance.  Consider joining all columns at once using pd.concat(axis=1) instead. To get a de-fragmented frame, use `newframe = frame.copy()`\n",
      "  cn_pivot[column] = False\n",
      "C:\\Users\\ITSC\\AppData\\Local\\Temp\\ipykernel_15928\\2132128891.py:2: PerformanceWarning: DataFrame is highly fragmented.  This is usually the result of calling `frame.insert` many times, which has poor performance.  Consider joining all columns at once using pd.concat(axis=1) instead. To get a de-fragmented frame, use `newframe = frame.copy()`\n",
      "  cn_pivot[column] = False\n",
      "C:\\Users\\ITSC\\AppData\\Local\\Temp\\ipykernel_15928\\2132128891.py:2: PerformanceWarning: DataFrame is highly fragmented.  This is usually the result of calling `frame.insert` many times, which has poor performance.  Consider joining all columns at once using pd.concat(axis=1) instead. To get a de-fragmented frame, use `newframe = frame.copy()`\n",
      "  cn_pivot[column] = False\n",
      "C:\\Users\\ITSC\\AppData\\Local\\Temp\\ipykernel_15928\\2132128891.py:2: PerformanceWarning: DataFrame is highly fragmented.  This is usually the result of calling `frame.insert` many times, which has poor performance.  Consider joining all columns at once using pd.concat(axis=1) instead. To get a de-fragmented frame, use `newframe = frame.copy()`\n",
      "  cn_pivot[column] = False\n",
      "C:\\Users\\ITSC\\AppData\\Local\\Temp\\ipykernel_15928\\2132128891.py:2: PerformanceWarning: DataFrame is highly fragmented.  This is usually the result of calling `frame.insert` many times, which has poor performance.  Consider joining all columns at once using pd.concat(axis=1) instead. To get a de-fragmented frame, use `newframe = frame.copy()`\n",
      "  cn_pivot[column] = False\n",
      "C:\\Users\\ITSC\\AppData\\Local\\Temp\\ipykernel_15928\\2132128891.py:2: PerformanceWarning: DataFrame is highly fragmented.  This is usually the result of calling `frame.insert` many times, which has poor performance.  Consider joining all columns at once using pd.concat(axis=1) instead. To get a de-fragmented frame, use `newframe = frame.copy()`\n",
      "  cn_pivot[column] = False\n",
      "C:\\Users\\ITSC\\AppData\\Local\\Temp\\ipykernel_15928\\2132128891.py:2: PerformanceWarning: DataFrame is highly fragmented.  This is usually the result of calling `frame.insert` many times, which has poor performance.  Consider joining all columns at once using pd.concat(axis=1) instead. To get a de-fragmented frame, use `newframe = frame.copy()`\n",
      "  cn_pivot[column] = False\n",
      "C:\\Users\\ITSC\\AppData\\Local\\Temp\\ipykernel_15928\\2132128891.py:2: PerformanceWarning: DataFrame is highly fragmented.  This is usually the result of calling `frame.insert` many times, which has poor performance.  Consider joining all columns at once using pd.concat(axis=1) instead. To get a de-fragmented frame, use `newframe = frame.copy()`\n",
      "  cn_pivot[column] = False\n",
      "C:\\Users\\ITSC\\AppData\\Local\\Temp\\ipykernel_15928\\2132128891.py:2: PerformanceWarning: DataFrame is highly fragmented.  This is usually the result of calling `frame.insert` many times, which has poor performance.  Consider joining all columns at once using pd.concat(axis=1) instead. To get a de-fragmented frame, use `newframe = frame.copy()`\n",
      "  cn_pivot[column] = False\n",
      "C:\\Users\\ITSC\\AppData\\Local\\Temp\\ipykernel_15928\\2132128891.py:2: PerformanceWarning: DataFrame is highly fragmented.  This is usually the result of calling `frame.insert` many times, which has poor performance.  Consider joining all columns at once using pd.concat(axis=1) instead. To get a de-fragmented frame, use `newframe = frame.copy()`\n",
      "  cn_pivot[column] = False\n",
      "C:\\Users\\ITSC\\AppData\\Local\\Temp\\ipykernel_15928\\2132128891.py:2: PerformanceWarning: DataFrame is highly fragmented.  This is usually the result of calling `frame.insert` many times, which has poor performance.  Consider joining all columns at once using pd.concat(axis=1) instead. To get a de-fragmented frame, use `newframe = frame.copy()`\n",
      "  cn_pivot[column] = False\n",
      "C:\\Users\\ITSC\\AppData\\Local\\Temp\\ipykernel_15928\\2132128891.py:2: PerformanceWarning: DataFrame is highly fragmented.  This is usually the result of calling `frame.insert` many times, which has poor performance.  Consider joining all columns at once using pd.concat(axis=1) instead. To get a de-fragmented frame, use `newframe = frame.copy()`\n",
      "  cn_pivot[column] = False\n",
      "C:\\Users\\ITSC\\AppData\\Local\\Temp\\ipykernel_15928\\2132128891.py:2: PerformanceWarning: DataFrame is highly fragmented.  This is usually the result of calling `frame.insert` many times, which has poor performance.  Consider joining all columns at once using pd.concat(axis=1) instead. To get a de-fragmented frame, use `newframe = frame.copy()`\n",
      "  cn_pivot[column] = False\n",
      "C:\\Users\\ITSC\\AppData\\Local\\Temp\\ipykernel_15928\\2132128891.py:2: PerformanceWarning: DataFrame is highly fragmented.  This is usually the result of calling `frame.insert` many times, which has poor performance.  Consider joining all columns at once using pd.concat(axis=1) instead. To get a de-fragmented frame, use `newframe = frame.copy()`\n",
      "  cn_pivot[column] = False\n",
      "C:\\Users\\ITSC\\AppData\\Local\\Temp\\ipykernel_15928\\2132128891.py:2: PerformanceWarning: DataFrame is highly fragmented.  This is usually the result of calling `frame.insert` many times, which has poor performance.  Consider joining all columns at once using pd.concat(axis=1) instead. To get a de-fragmented frame, use `newframe = frame.copy()`\n",
      "  cn_pivot[column] = False\n",
      "C:\\Users\\ITSC\\AppData\\Local\\Temp\\ipykernel_15928\\2132128891.py:2: PerformanceWarning: DataFrame is highly fragmented.  This is usually the result of calling `frame.insert` many times, which has poor performance.  Consider joining all columns at once using pd.concat(axis=1) instead. To get a de-fragmented frame, use `newframe = frame.copy()`\n",
      "  cn_pivot[column] = False\n",
      "C:\\Users\\ITSC\\AppData\\Local\\Temp\\ipykernel_15928\\2132128891.py:2: PerformanceWarning: DataFrame is highly fragmented.  This is usually the result of calling `frame.insert` many times, which has poor performance.  Consider joining all columns at once using pd.concat(axis=1) instead. To get a de-fragmented frame, use `newframe = frame.copy()`\n",
      "  cn_pivot[column] = False\n",
      "C:\\Users\\ITSC\\AppData\\Local\\Temp\\ipykernel_15928\\2132128891.py:2: PerformanceWarning: DataFrame is highly fragmented.  This is usually the result of calling `frame.insert` many times, which has poor performance.  Consider joining all columns at once using pd.concat(axis=1) instead. To get a de-fragmented frame, use `newframe = frame.copy()`\n",
      "  cn_pivot[column] = False\n",
      "C:\\Users\\ITSC\\AppData\\Local\\Temp\\ipykernel_15928\\2132128891.py:2: PerformanceWarning: DataFrame is highly fragmented.  This is usually the result of calling `frame.insert` many times, which has poor performance.  Consider joining all columns at once using pd.concat(axis=1) instead. To get a de-fragmented frame, use `newframe = frame.copy()`\n",
      "  cn_pivot[column] = False\n",
      "C:\\Users\\ITSC\\AppData\\Local\\Temp\\ipykernel_15928\\2132128891.py:2: PerformanceWarning: DataFrame is highly fragmented.  This is usually the result of calling `frame.insert` many times, which has poor performance.  Consider joining all columns at once using pd.concat(axis=1) instead. To get a de-fragmented frame, use `newframe = frame.copy()`\n",
      "  cn_pivot[column] = False\n",
      "C:\\Users\\ITSC\\AppData\\Local\\Temp\\ipykernel_15928\\2132128891.py:2: PerformanceWarning: DataFrame is highly fragmented.  This is usually the result of calling `frame.insert` many times, which has poor performance.  Consider joining all columns at once using pd.concat(axis=1) instead. To get a de-fragmented frame, use `newframe = frame.copy()`\n",
      "  cn_pivot[column] = False\n",
      "C:\\Users\\ITSC\\AppData\\Local\\Temp\\ipykernel_15928\\2132128891.py:2: PerformanceWarning: DataFrame is highly fragmented.  This is usually the result of calling `frame.insert` many times, which has poor performance.  Consider joining all columns at once using pd.concat(axis=1) instead. To get a de-fragmented frame, use `newframe = frame.copy()`\n",
      "  cn_pivot[column] = False\n",
      "C:\\Users\\ITSC\\AppData\\Local\\Temp\\ipykernel_15928\\2132128891.py:2: PerformanceWarning: DataFrame is highly fragmented.  This is usually the result of calling `frame.insert` many times, which has poor performance.  Consider joining all columns at once using pd.concat(axis=1) instead. To get a de-fragmented frame, use `newframe = frame.copy()`\n",
      "  cn_pivot[column] = False\n",
      "C:\\Users\\ITSC\\AppData\\Local\\Temp\\ipykernel_15928\\2132128891.py:2: PerformanceWarning: DataFrame is highly fragmented.  This is usually the result of calling `frame.insert` many times, which has poor performance.  Consider joining all columns at once using pd.concat(axis=1) instead. To get a de-fragmented frame, use `newframe = frame.copy()`\n",
      "  cn_pivot[column] = False\n",
      "C:\\Users\\ITSC\\AppData\\Local\\Temp\\ipykernel_15928\\2132128891.py:2: PerformanceWarning: DataFrame is highly fragmented.  This is usually the result of calling `frame.insert` many times, which has poor performance.  Consider joining all columns at once using pd.concat(axis=1) instead. To get a de-fragmented frame, use `newframe = frame.copy()`\n",
      "  cn_pivot[column] = False\n",
      "C:\\Users\\ITSC\\AppData\\Local\\Temp\\ipykernel_15928\\2132128891.py:2: PerformanceWarning: DataFrame is highly fragmented.  This is usually the result of calling `frame.insert` many times, which has poor performance.  Consider joining all columns at once using pd.concat(axis=1) instead. To get a de-fragmented frame, use `newframe = frame.copy()`\n",
      "  cn_pivot[column] = False\n",
      "C:\\Users\\ITSC\\AppData\\Local\\Temp\\ipykernel_15928\\2132128891.py:2: PerformanceWarning: DataFrame is highly fragmented.  This is usually the result of calling `frame.insert` many times, which has poor performance.  Consider joining all columns at once using pd.concat(axis=1) instead. To get a de-fragmented frame, use `newframe = frame.copy()`\n",
      "  cn_pivot[column] = False\n",
      "C:\\Users\\ITSC\\AppData\\Local\\Temp\\ipykernel_15928\\2132128891.py:2: PerformanceWarning: DataFrame is highly fragmented.  This is usually the result of calling `frame.insert` many times, which has poor performance.  Consider joining all columns at once using pd.concat(axis=1) instead. To get a de-fragmented frame, use `newframe = frame.copy()`\n",
      "  cn_pivot[column] = False\n",
      "C:\\Users\\ITSC\\AppData\\Local\\Temp\\ipykernel_15928\\2132128891.py:2: PerformanceWarning: DataFrame is highly fragmented.  This is usually the result of calling `frame.insert` many times, which has poor performance.  Consider joining all columns at once using pd.concat(axis=1) instead. To get a de-fragmented frame, use `newframe = frame.copy()`\n",
      "  cn_pivot[column] = False\n",
      "C:\\Users\\ITSC\\AppData\\Local\\Temp\\ipykernel_15928\\2132128891.py:2: PerformanceWarning: DataFrame is highly fragmented.  This is usually the result of calling `frame.insert` many times, which has poor performance.  Consider joining all columns at once using pd.concat(axis=1) instead. To get a de-fragmented frame, use `newframe = frame.copy()`\n",
      "  cn_pivot[column] = False\n",
      "C:\\Users\\ITSC\\AppData\\Local\\Temp\\ipykernel_15928\\2132128891.py:2: PerformanceWarning: DataFrame is highly fragmented.  This is usually the result of calling `frame.insert` many times, which has poor performance.  Consider joining all columns at once using pd.concat(axis=1) instead. To get a de-fragmented frame, use `newframe = frame.copy()`\n",
      "  cn_pivot[column] = False\n",
      "C:\\Users\\ITSC\\AppData\\Local\\Temp\\ipykernel_15928\\2132128891.py:2: PerformanceWarning: DataFrame is highly fragmented.  This is usually the result of calling `frame.insert` many times, which has poor performance.  Consider joining all columns at once using pd.concat(axis=1) instead. To get a de-fragmented frame, use `newframe = frame.copy()`\n",
      "  cn_pivot[column] = False\n",
      "C:\\Users\\ITSC\\AppData\\Local\\Temp\\ipykernel_15928\\2132128891.py:2: PerformanceWarning: DataFrame is highly fragmented.  This is usually the result of calling `frame.insert` many times, which has poor performance.  Consider joining all columns at once using pd.concat(axis=1) instead. To get a de-fragmented frame, use `newframe = frame.copy()`\n",
      "  cn_pivot[column] = False\n",
      "C:\\Users\\ITSC\\AppData\\Local\\Temp\\ipykernel_15928\\2132128891.py:2: PerformanceWarning: DataFrame is highly fragmented.  This is usually the result of calling `frame.insert` many times, which has poor performance.  Consider joining all columns at once using pd.concat(axis=1) instead. To get a de-fragmented frame, use `newframe = frame.copy()`\n",
      "  cn_pivot[column] = False\n",
      "C:\\Users\\ITSC\\AppData\\Local\\Temp\\ipykernel_15928\\2132128891.py:2: PerformanceWarning: DataFrame is highly fragmented.  This is usually the result of calling `frame.insert` many times, which has poor performance.  Consider joining all columns at once using pd.concat(axis=1) instead. To get a de-fragmented frame, use `newframe = frame.copy()`\n",
      "  cn_pivot[column] = False\n",
      "C:\\Users\\ITSC\\AppData\\Local\\Temp\\ipykernel_15928\\2132128891.py:2: PerformanceWarning: DataFrame is highly fragmented.  This is usually the result of calling `frame.insert` many times, which has poor performance.  Consider joining all columns at once using pd.concat(axis=1) instead. To get a de-fragmented frame, use `newframe = frame.copy()`\n",
      "  cn_pivot[column] = False\n",
      "C:\\Users\\ITSC\\AppData\\Local\\Temp\\ipykernel_15928\\2132128891.py:2: PerformanceWarning: DataFrame is highly fragmented.  This is usually the result of calling `frame.insert` many times, which has poor performance.  Consider joining all columns at once using pd.concat(axis=1) instead. To get a de-fragmented frame, use `newframe = frame.copy()`\n",
      "  cn_pivot[column] = False\n",
      "C:\\Users\\ITSC\\AppData\\Local\\Temp\\ipykernel_15928\\2132128891.py:2: PerformanceWarning: DataFrame is highly fragmented.  This is usually the result of calling `frame.insert` many times, which has poor performance.  Consider joining all columns at once using pd.concat(axis=1) instead. To get a de-fragmented frame, use `newframe = frame.copy()`\n",
      "  cn_pivot[column] = False\n",
      "C:\\Users\\ITSC\\AppData\\Local\\Temp\\ipykernel_15928\\2132128891.py:2: PerformanceWarning: DataFrame is highly fragmented.  This is usually the result of calling `frame.insert` many times, which has poor performance.  Consider joining all columns at once using pd.concat(axis=1) instead. To get a de-fragmented frame, use `newframe = frame.copy()`\n",
      "  cn_pivot[column] = False\n",
      "C:\\Users\\ITSC\\AppData\\Local\\Temp\\ipykernel_15928\\2132128891.py:2: PerformanceWarning: DataFrame is highly fragmented.  This is usually the result of calling `frame.insert` many times, which has poor performance.  Consider joining all columns at once using pd.concat(axis=1) instead. To get a de-fragmented frame, use `newframe = frame.copy()`\n",
      "  cn_pivot[column] = False\n",
      "C:\\Users\\ITSC\\AppData\\Local\\Temp\\ipykernel_15928\\2132128891.py:2: PerformanceWarning: DataFrame is highly fragmented.  This is usually the result of calling `frame.insert` many times, which has poor performance.  Consider joining all columns at once using pd.concat(axis=1) instead. To get a de-fragmented frame, use `newframe = frame.copy()`\n",
      "  cn_pivot[column] = False\n",
      "C:\\Users\\ITSC\\AppData\\Local\\Temp\\ipykernel_15928\\2132128891.py:2: PerformanceWarning: DataFrame is highly fragmented.  This is usually the result of calling `frame.insert` many times, which has poor performance.  Consider joining all columns at once using pd.concat(axis=1) instead. To get a de-fragmented frame, use `newframe = frame.copy()`\n",
      "  cn_pivot[column] = False\n",
      "C:\\Users\\ITSC\\AppData\\Local\\Temp\\ipykernel_15928\\2132128891.py:2: PerformanceWarning: DataFrame is highly fragmented.  This is usually the result of calling `frame.insert` many times, which has poor performance.  Consider joining all columns at once using pd.concat(axis=1) instead. To get a de-fragmented frame, use `newframe = frame.copy()`\n",
      "  cn_pivot[column] = False\n",
      "C:\\Users\\ITSC\\AppData\\Local\\Temp\\ipykernel_15928\\2132128891.py:2: PerformanceWarning: DataFrame is highly fragmented.  This is usually the result of calling `frame.insert` many times, which has poor performance.  Consider joining all columns at once using pd.concat(axis=1) instead. To get a de-fragmented frame, use `newframe = frame.copy()`\n",
      "  cn_pivot[column] = False\n",
      "C:\\Users\\ITSC\\AppData\\Local\\Temp\\ipykernel_15928\\2132128891.py:2: PerformanceWarning: DataFrame is highly fragmented.  This is usually the result of calling `frame.insert` many times, which has poor performance.  Consider joining all columns at once using pd.concat(axis=1) instead. To get a de-fragmented frame, use `newframe = frame.copy()`\n",
      "  cn_pivot[column] = False\n",
      "C:\\Users\\ITSC\\AppData\\Local\\Temp\\ipykernel_15928\\2132128891.py:2: PerformanceWarning: DataFrame is highly fragmented.  This is usually the result of calling `frame.insert` many times, which has poor performance.  Consider joining all columns at once using pd.concat(axis=1) instead. To get a de-fragmented frame, use `newframe = frame.copy()`\n",
      "  cn_pivot[column] = False\n",
      "C:\\Users\\ITSC\\AppData\\Local\\Temp\\ipykernel_15928\\2132128891.py:2: PerformanceWarning: DataFrame is highly fragmented.  This is usually the result of calling `frame.insert` many times, which has poor performance.  Consider joining all columns at once using pd.concat(axis=1) instead. To get a de-fragmented frame, use `newframe = frame.copy()`\n",
      "  cn_pivot[column] = False\n",
      "C:\\Users\\ITSC\\AppData\\Local\\Temp\\ipykernel_15928\\2132128891.py:2: PerformanceWarning: DataFrame is highly fragmented.  This is usually the result of calling `frame.insert` many times, which has poor performance.  Consider joining all columns at once using pd.concat(axis=1) instead. To get a de-fragmented frame, use `newframe = frame.copy()`\n",
      "  cn_pivot[column] = False\n",
      "C:\\Users\\ITSC\\AppData\\Local\\Temp\\ipykernel_15928\\2132128891.py:2: PerformanceWarning: DataFrame is highly fragmented.  This is usually the result of calling `frame.insert` many times, which has poor performance.  Consider joining all columns at once using pd.concat(axis=1) instead. To get a de-fragmented frame, use `newframe = frame.copy()`\n",
      "  cn_pivot[column] = False\n",
      "C:\\Users\\ITSC\\AppData\\Local\\Temp\\ipykernel_15928\\2132128891.py:2: PerformanceWarning: DataFrame is highly fragmented.  This is usually the result of calling `frame.insert` many times, which has poor performance.  Consider joining all columns at once using pd.concat(axis=1) instead. To get a de-fragmented frame, use `newframe = frame.copy()`\n",
      "  cn_pivot[column] = False\n",
      "C:\\Users\\ITSC\\AppData\\Local\\Temp\\ipykernel_15928\\2132128891.py:2: PerformanceWarning: DataFrame is highly fragmented.  This is usually the result of calling `frame.insert` many times, which has poor performance.  Consider joining all columns at once using pd.concat(axis=1) instead. To get a de-fragmented frame, use `newframe = frame.copy()`\n",
      "  cn_pivot[column] = False\n",
      "C:\\Users\\ITSC\\AppData\\Local\\Temp\\ipykernel_15928\\2132128891.py:2: PerformanceWarning: DataFrame is highly fragmented.  This is usually the result of calling `frame.insert` many times, which has poor performance.  Consider joining all columns at once using pd.concat(axis=1) instead. To get a de-fragmented frame, use `newframe = frame.copy()`\n",
      "  cn_pivot[column] = False\n",
      "C:\\Users\\ITSC\\AppData\\Local\\Temp\\ipykernel_15928\\2132128891.py:2: PerformanceWarning: DataFrame is highly fragmented.  This is usually the result of calling `frame.insert` many times, which has poor performance.  Consider joining all columns at once using pd.concat(axis=1) instead. To get a de-fragmented frame, use `newframe = frame.copy()`\n",
      "  cn_pivot[column] = False\n",
      "C:\\Users\\ITSC\\AppData\\Local\\Temp\\ipykernel_15928\\2132128891.py:2: PerformanceWarning: DataFrame is highly fragmented.  This is usually the result of calling `frame.insert` many times, which has poor performance.  Consider joining all columns at once using pd.concat(axis=1) instead. To get a de-fragmented frame, use `newframe = frame.copy()`\n",
      "  cn_pivot[column] = False\n",
      "C:\\Users\\ITSC\\AppData\\Local\\Temp\\ipykernel_15928\\2132128891.py:2: PerformanceWarning: DataFrame is highly fragmented.  This is usually the result of calling `frame.insert` many times, which has poor performance.  Consider joining all columns at once using pd.concat(axis=1) instead. To get a de-fragmented frame, use `newframe = frame.copy()`\n",
      "  cn_pivot[column] = False\n",
      "C:\\Users\\ITSC\\AppData\\Local\\Temp\\ipykernel_15928\\2132128891.py:2: PerformanceWarning: DataFrame is highly fragmented.  This is usually the result of calling `frame.insert` many times, which has poor performance.  Consider joining all columns at once using pd.concat(axis=1) instead. To get a de-fragmented frame, use `newframe = frame.copy()`\n",
      "  cn_pivot[column] = False\n",
      "C:\\Users\\ITSC\\AppData\\Local\\Temp\\ipykernel_15928\\2132128891.py:2: PerformanceWarning: DataFrame is highly fragmented.  This is usually the result of calling `frame.insert` many times, which has poor performance.  Consider joining all columns at once using pd.concat(axis=1) instead. To get a de-fragmented frame, use `newframe = frame.copy()`\n",
      "  cn_pivot[column] = False\n",
      "C:\\Users\\ITSC\\AppData\\Local\\Temp\\ipykernel_15928\\2132128891.py:2: PerformanceWarning: DataFrame is highly fragmented.  This is usually the result of calling `frame.insert` many times, which has poor performance.  Consider joining all columns at once using pd.concat(axis=1) instead. To get a de-fragmented frame, use `newframe = frame.copy()`\n",
      "  cn_pivot[column] = False\n",
      "C:\\Users\\ITSC\\AppData\\Local\\Temp\\ipykernel_15928\\2132128891.py:2: PerformanceWarning: DataFrame is highly fragmented.  This is usually the result of calling `frame.insert` many times, which has poor performance.  Consider joining all columns at once using pd.concat(axis=1) instead. To get a de-fragmented frame, use `newframe = frame.copy()`\n",
      "  cn_pivot[column] = False\n",
      "C:\\Users\\ITSC\\AppData\\Local\\Temp\\ipykernel_15928\\2132128891.py:2: PerformanceWarning: DataFrame is highly fragmented.  This is usually the result of calling `frame.insert` many times, which has poor performance.  Consider joining all columns at once using pd.concat(axis=1) instead. To get a de-fragmented frame, use `newframe = frame.copy()`\n",
      "  cn_pivot[column] = False\n",
      "C:\\Users\\ITSC\\AppData\\Local\\Temp\\ipykernel_15928\\2132128891.py:2: PerformanceWarning: DataFrame is highly fragmented.  This is usually the result of calling `frame.insert` many times, which has poor performance.  Consider joining all columns at once using pd.concat(axis=1) instead. To get a de-fragmented frame, use `newframe = frame.copy()`\n",
      "  cn_pivot[column] = False\n",
      "C:\\Users\\ITSC\\AppData\\Local\\Temp\\ipykernel_15928\\2132128891.py:2: PerformanceWarning: DataFrame is highly fragmented.  This is usually the result of calling `frame.insert` many times, which has poor performance.  Consider joining all columns at once using pd.concat(axis=1) instead. To get a de-fragmented frame, use `newframe = frame.copy()`\n",
      "  cn_pivot[column] = False\n",
      "C:\\Users\\ITSC\\AppData\\Local\\Temp\\ipykernel_15928\\2132128891.py:2: PerformanceWarning: DataFrame is highly fragmented.  This is usually the result of calling `frame.insert` many times, which has poor performance.  Consider joining all columns at once using pd.concat(axis=1) instead. To get a de-fragmented frame, use `newframe = frame.copy()`\n",
      "  cn_pivot[column] = False\n",
      "C:\\Users\\ITSC\\AppData\\Local\\Temp\\ipykernel_15928\\2132128891.py:2: PerformanceWarning: DataFrame is highly fragmented.  This is usually the result of calling `frame.insert` many times, which has poor performance.  Consider joining all columns at once using pd.concat(axis=1) instead. To get a de-fragmented frame, use `newframe = frame.copy()`\n",
      "  cn_pivot[column] = False\n",
      "C:\\Users\\ITSC\\AppData\\Local\\Temp\\ipykernel_15928\\2132128891.py:2: PerformanceWarning: DataFrame is highly fragmented.  This is usually the result of calling `frame.insert` many times, which has poor performance.  Consider joining all columns at once using pd.concat(axis=1) instead. To get a de-fragmented frame, use `newframe = frame.copy()`\n",
      "  cn_pivot[column] = False\n",
      "C:\\Users\\ITSC\\AppData\\Local\\Temp\\ipykernel_15928\\2132128891.py:2: PerformanceWarning: DataFrame is highly fragmented.  This is usually the result of calling `frame.insert` many times, which has poor performance.  Consider joining all columns at once using pd.concat(axis=1) instead. To get a de-fragmented frame, use `newframe = frame.copy()`\n",
      "  cn_pivot[column] = False\n",
      "C:\\Users\\ITSC\\AppData\\Local\\Temp\\ipykernel_15928\\2132128891.py:2: PerformanceWarning: DataFrame is highly fragmented.  This is usually the result of calling `frame.insert` many times, which has poor performance.  Consider joining all columns at once using pd.concat(axis=1) instead. To get a de-fragmented frame, use `newframe = frame.copy()`\n",
      "  cn_pivot[column] = False\n",
      "C:\\Users\\ITSC\\AppData\\Local\\Temp\\ipykernel_15928\\2132128891.py:2: PerformanceWarning: DataFrame is highly fragmented.  This is usually the result of calling `frame.insert` many times, which has poor performance.  Consider joining all columns at once using pd.concat(axis=1) instead. To get a de-fragmented frame, use `newframe = frame.copy()`\n",
      "  cn_pivot[column] = False\n",
      "C:\\Users\\ITSC\\AppData\\Local\\Temp\\ipykernel_15928\\2132128891.py:2: PerformanceWarning: DataFrame is highly fragmented.  This is usually the result of calling `frame.insert` many times, which has poor performance.  Consider joining all columns at once using pd.concat(axis=1) instead. To get a de-fragmented frame, use `newframe = frame.copy()`\n",
      "  cn_pivot[column] = False\n",
      "C:\\Users\\ITSC\\AppData\\Local\\Temp\\ipykernel_15928\\2132128891.py:2: PerformanceWarning: DataFrame is highly fragmented.  This is usually the result of calling `frame.insert` many times, which has poor performance.  Consider joining all columns at once using pd.concat(axis=1) instead. To get a de-fragmented frame, use `newframe = frame.copy()`\n",
      "  cn_pivot[column] = False\n",
      "C:\\Users\\ITSC\\AppData\\Local\\Temp\\ipykernel_15928\\2132128891.py:2: PerformanceWarning: DataFrame is highly fragmented.  This is usually the result of calling `frame.insert` many times, which has poor performance.  Consider joining all columns at once using pd.concat(axis=1) instead. To get a de-fragmented frame, use `newframe = frame.copy()`\n",
      "  cn_pivot[column] = False\n",
      "C:\\Users\\ITSC\\AppData\\Local\\Temp\\ipykernel_15928\\2132128891.py:2: PerformanceWarning: DataFrame is highly fragmented.  This is usually the result of calling `frame.insert` many times, which has poor performance.  Consider joining all columns at once using pd.concat(axis=1) instead. To get a de-fragmented frame, use `newframe = frame.copy()`\n",
      "  cn_pivot[column] = False\n",
      "C:\\Users\\ITSC\\AppData\\Local\\Temp\\ipykernel_15928\\2132128891.py:2: PerformanceWarning: DataFrame is highly fragmented.  This is usually the result of calling `frame.insert` many times, which has poor performance.  Consider joining all columns at once using pd.concat(axis=1) instead. To get a de-fragmented frame, use `newframe = frame.copy()`\n",
      "  cn_pivot[column] = False\n",
      "C:\\Users\\ITSC\\AppData\\Local\\Temp\\ipykernel_15928\\2132128891.py:2: PerformanceWarning: DataFrame is highly fragmented.  This is usually the result of calling `frame.insert` many times, which has poor performance.  Consider joining all columns at once using pd.concat(axis=1) instead. To get a de-fragmented frame, use `newframe = frame.copy()`\n",
      "  cn_pivot[column] = False\n",
      "C:\\Users\\ITSC\\AppData\\Local\\Temp\\ipykernel_15928\\2132128891.py:2: PerformanceWarning: DataFrame is highly fragmented.  This is usually the result of calling `frame.insert` many times, which has poor performance.  Consider joining all columns at once using pd.concat(axis=1) instead. To get a de-fragmented frame, use `newframe = frame.copy()`\n",
      "  cn_pivot[column] = False\n",
      "C:\\Users\\ITSC\\AppData\\Local\\Temp\\ipykernel_15928\\2132128891.py:2: PerformanceWarning: DataFrame is highly fragmented.  This is usually the result of calling `frame.insert` many times, which has poor performance.  Consider joining all columns at once using pd.concat(axis=1) instead. To get a de-fragmented frame, use `newframe = frame.copy()`\n",
      "  cn_pivot[column] = False\n",
      "C:\\Users\\ITSC\\AppData\\Local\\Temp\\ipykernel_15928\\2132128891.py:2: PerformanceWarning: DataFrame is highly fragmented.  This is usually the result of calling `frame.insert` many times, which has poor performance.  Consider joining all columns at once using pd.concat(axis=1) instead. To get a de-fragmented frame, use `newframe = frame.copy()`\n",
      "  cn_pivot[column] = False\n",
      "C:\\Users\\ITSC\\AppData\\Local\\Temp\\ipykernel_15928\\2132128891.py:2: PerformanceWarning: DataFrame is highly fragmented.  This is usually the result of calling `frame.insert` many times, which has poor performance.  Consider joining all columns at once using pd.concat(axis=1) instead. To get a de-fragmented frame, use `newframe = frame.copy()`\n",
      "  cn_pivot[column] = False\n",
      "C:\\Users\\ITSC\\AppData\\Local\\Temp\\ipykernel_15928\\2132128891.py:2: PerformanceWarning: DataFrame is highly fragmented.  This is usually the result of calling `frame.insert` many times, which has poor performance.  Consider joining all columns at once using pd.concat(axis=1) instead. To get a de-fragmented frame, use `newframe = frame.copy()`\n",
      "  cn_pivot[column] = False\n",
      "C:\\Users\\ITSC\\AppData\\Local\\Temp\\ipykernel_15928\\2132128891.py:2: PerformanceWarning: DataFrame is highly fragmented.  This is usually the result of calling `frame.insert` many times, which has poor performance.  Consider joining all columns at once using pd.concat(axis=1) instead. To get a de-fragmented frame, use `newframe = frame.copy()`\n",
      "  cn_pivot[column] = False\n",
      "C:\\Users\\ITSC\\AppData\\Local\\Temp\\ipykernel_15928\\2132128891.py:2: PerformanceWarning: DataFrame is highly fragmented.  This is usually the result of calling `frame.insert` many times, which has poor performance.  Consider joining all columns at once using pd.concat(axis=1) instead. To get a de-fragmented frame, use `newframe = frame.copy()`\n",
      "  cn_pivot[column] = False\n",
      "C:\\Users\\ITSC\\AppData\\Local\\Temp\\ipykernel_15928\\2132128891.py:2: PerformanceWarning: DataFrame is highly fragmented.  This is usually the result of calling `frame.insert` many times, which has poor performance.  Consider joining all columns at once using pd.concat(axis=1) instead. To get a de-fragmented frame, use `newframe = frame.copy()`\n",
      "  cn_pivot[column] = False\n",
      "C:\\Users\\ITSC\\AppData\\Local\\Temp\\ipykernel_15928\\2132128891.py:2: PerformanceWarning: DataFrame is highly fragmented.  This is usually the result of calling `frame.insert` many times, which has poor performance.  Consider joining all columns at once using pd.concat(axis=1) instead. To get a de-fragmented frame, use `newframe = frame.copy()`\n",
      "  cn_pivot[column] = False\n",
      "C:\\Users\\ITSC\\AppData\\Local\\Temp\\ipykernel_15928\\2132128891.py:2: PerformanceWarning: DataFrame is highly fragmented.  This is usually the result of calling `frame.insert` many times, which has poor performance.  Consider joining all columns at once using pd.concat(axis=1) instead. To get a de-fragmented frame, use `newframe = frame.copy()`\n",
      "  cn_pivot[column] = False\n",
      "C:\\Users\\ITSC\\AppData\\Local\\Temp\\ipykernel_15928\\2132128891.py:2: PerformanceWarning: DataFrame is highly fragmented.  This is usually the result of calling `frame.insert` many times, which has poor performance.  Consider joining all columns at once using pd.concat(axis=1) instead. To get a de-fragmented frame, use `newframe = frame.copy()`\n",
      "  cn_pivot[column] = False\n",
      "C:\\Users\\ITSC\\AppData\\Local\\Temp\\ipykernel_15928\\2132128891.py:2: PerformanceWarning: DataFrame is highly fragmented.  This is usually the result of calling `frame.insert` many times, which has poor performance.  Consider joining all columns at once using pd.concat(axis=1) instead. To get a de-fragmented frame, use `newframe = frame.copy()`\n",
      "  cn_pivot[column] = False\n",
      "C:\\Users\\ITSC\\AppData\\Local\\Temp\\ipykernel_15928\\2132128891.py:2: PerformanceWarning: DataFrame is highly fragmented.  This is usually the result of calling `frame.insert` many times, which has poor performance.  Consider joining all columns at once using pd.concat(axis=1) instead. To get a de-fragmented frame, use `newframe = frame.copy()`\n",
      "  cn_pivot[column] = False\n",
      "C:\\Users\\ITSC\\AppData\\Local\\Temp\\ipykernel_15928\\2132128891.py:2: PerformanceWarning: DataFrame is highly fragmented.  This is usually the result of calling `frame.insert` many times, which has poor performance.  Consider joining all columns at once using pd.concat(axis=1) instead. To get a de-fragmented frame, use `newframe = frame.copy()`\n",
      "  cn_pivot[column] = False\n",
      "C:\\Users\\ITSC\\AppData\\Local\\Temp\\ipykernel_15928\\2132128891.py:2: PerformanceWarning: DataFrame is highly fragmented.  This is usually the result of calling `frame.insert` many times, which has poor performance.  Consider joining all columns at once using pd.concat(axis=1) instead. To get a de-fragmented frame, use `newframe = frame.copy()`\n",
      "  cn_pivot[column] = False\n",
      "C:\\Users\\ITSC\\AppData\\Local\\Temp\\ipykernel_15928\\2132128891.py:2: PerformanceWarning: DataFrame is highly fragmented.  This is usually the result of calling `frame.insert` many times, which has poor performance.  Consider joining all columns at once using pd.concat(axis=1) instead. To get a de-fragmented frame, use `newframe = frame.copy()`\n",
      "  cn_pivot[column] = False\n",
      "C:\\Users\\ITSC\\AppData\\Local\\Temp\\ipykernel_15928\\2132128891.py:2: PerformanceWarning: DataFrame is highly fragmented.  This is usually the result of calling `frame.insert` many times, which has poor performance.  Consider joining all columns at once using pd.concat(axis=1) instead. To get a de-fragmented frame, use `newframe = frame.copy()`\n",
      "  cn_pivot[column] = False\n",
      "C:\\Users\\ITSC\\AppData\\Local\\Temp\\ipykernel_15928\\2132128891.py:2: PerformanceWarning: DataFrame is highly fragmented.  This is usually the result of calling `frame.insert` many times, which has poor performance.  Consider joining all columns at once using pd.concat(axis=1) instead. To get a de-fragmented frame, use `newframe = frame.copy()`\n",
      "  cn_pivot[column] = False\n",
      "C:\\Users\\ITSC\\AppData\\Local\\Temp\\ipykernel_15928\\2132128891.py:2: PerformanceWarning: DataFrame is highly fragmented.  This is usually the result of calling `frame.insert` many times, which has poor performance.  Consider joining all columns at once using pd.concat(axis=1) instead. To get a de-fragmented frame, use `newframe = frame.copy()`\n",
      "  cn_pivot[column] = False\n",
      "C:\\Users\\ITSC\\AppData\\Local\\Temp\\ipykernel_15928\\2132128891.py:2: PerformanceWarning: DataFrame is highly fragmented.  This is usually the result of calling `frame.insert` many times, which has poor performance.  Consider joining all columns at once using pd.concat(axis=1) instead. To get a de-fragmented frame, use `newframe = frame.copy()`\n",
      "  cn_pivot[column] = False\n",
      "C:\\Users\\ITSC\\AppData\\Local\\Temp\\ipykernel_15928\\2132128891.py:2: PerformanceWarning: DataFrame is highly fragmented.  This is usually the result of calling `frame.insert` many times, which has poor performance.  Consider joining all columns at once using pd.concat(axis=1) instead. To get a de-fragmented frame, use `newframe = frame.copy()`\n",
      "  cn_pivot[column] = False\n",
      "C:\\Users\\ITSC\\AppData\\Local\\Temp\\ipykernel_15928\\2132128891.py:2: PerformanceWarning: DataFrame is highly fragmented.  This is usually the result of calling `frame.insert` many times, which has poor performance.  Consider joining all columns at once using pd.concat(axis=1) instead. To get a de-fragmented frame, use `newframe = frame.copy()`\n",
      "  cn_pivot[column] = False\n",
      "C:\\Users\\ITSC\\AppData\\Local\\Temp\\ipykernel_15928\\2132128891.py:2: PerformanceWarning: DataFrame is highly fragmented.  This is usually the result of calling `frame.insert` many times, which has poor performance.  Consider joining all columns at once using pd.concat(axis=1) instead. To get a de-fragmented frame, use `newframe = frame.copy()`\n",
      "  cn_pivot[column] = False\n",
      "C:\\Users\\ITSC\\AppData\\Local\\Temp\\ipykernel_15928\\2132128891.py:2: PerformanceWarning: DataFrame is highly fragmented.  This is usually the result of calling `frame.insert` many times, which has poor performance.  Consider joining all columns at once using pd.concat(axis=1) instead. To get a de-fragmented frame, use `newframe = frame.copy()`\n",
      "  cn_pivot[column] = False\n",
      "C:\\Users\\ITSC\\AppData\\Local\\Temp\\ipykernel_15928\\2132128891.py:2: PerformanceWarning: DataFrame is highly fragmented.  This is usually the result of calling `frame.insert` many times, which has poor performance.  Consider joining all columns at once using pd.concat(axis=1) instead. To get a de-fragmented frame, use `newframe = frame.copy()`\n",
      "  cn_pivot[column] = False\n",
      "C:\\Users\\ITSC\\AppData\\Local\\Temp\\ipykernel_15928\\2132128891.py:2: PerformanceWarning: DataFrame is highly fragmented.  This is usually the result of calling `frame.insert` many times, which has poor performance.  Consider joining all columns at once using pd.concat(axis=1) instead. To get a de-fragmented frame, use `newframe = frame.copy()`\n",
      "  cn_pivot[column] = False\n",
      "C:\\Users\\ITSC\\AppData\\Local\\Temp\\ipykernel_15928\\2132128891.py:2: PerformanceWarning: DataFrame is highly fragmented.  This is usually the result of calling `frame.insert` many times, which has poor performance.  Consider joining all columns at once using pd.concat(axis=1) instead. To get a de-fragmented frame, use `newframe = frame.copy()`\n",
      "  cn_pivot[column] = False\n",
      "C:\\Users\\ITSC\\AppData\\Local\\Temp\\ipykernel_15928\\2132128891.py:2: PerformanceWarning: DataFrame is highly fragmented.  This is usually the result of calling `frame.insert` many times, which has poor performance.  Consider joining all columns at once using pd.concat(axis=1) instead. To get a de-fragmented frame, use `newframe = frame.copy()`\n",
      "  cn_pivot[column] = False\n",
      "C:\\Users\\ITSC\\AppData\\Local\\Temp\\ipykernel_15928\\2132128891.py:2: PerformanceWarning: DataFrame is highly fragmented.  This is usually the result of calling `frame.insert` many times, which has poor performance.  Consider joining all columns at once using pd.concat(axis=1) instead. To get a de-fragmented frame, use `newframe = frame.copy()`\n",
      "  cn_pivot[column] = False\n",
      "C:\\Users\\ITSC\\AppData\\Local\\Temp\\ipykernel_15928\\2132128891.py:2: PerformanceWarning: DataFrame is highly fragmented.  This is usually the result of calling `frame.insert` many times, which has poor performance.  Consider joining all columns at once using pd.concat(axis=1) instead. To get a de-fragmented frame, use `newframe = frame.copy()`\n",
      "  cn_pivot[column] = False\n",
      "C:\\Users\\ITSC\\AppData\\Local\\Temp\\ipykernel_15928\\2132128891.py:2: PerformanceWarning: DataFrame is highly fragmented.  This is usually the result of calling `frame.insert` many times, which has poor performance.  Consider joining all columns at once using pd.concat(axis=1) instead. To get a de-fragmented frame, use `newframe = frame.copy()`\n",
      "  cn_pivot[column] = False\n",
      "C:\\Users\\ITSC\\AppData\\Local\\Temp\\ipykernel_15928\\2132128891.py:2: PerformanceWarning: DataFrame is highly fragmented.  This is usually the result of calling `frame.insert` many times, which has poor performance.  Consider joining all columns at once using pd.concat(axis=1) instead. To get a de-fragmented frame, use `newframe = frame.copy()`\n",
      "  cn_pivot[column] = False\n",
      "C:\\Users\\ITSC\\AppData\\Local\\Temp\\ipykernel_15928\\2132128891.py:2: PerformanceWarning: DataFrame is highly fragmented.  This is usually the result of calling `frame.insert` many times, which has poor performance.  Consider joining all columns at once using pd.concat(axis=1) instead. To get a de-fragmented frame, use `newframe = frame.copy()`\n",
      "  cn_pivot[column] = False\n",
      "C:\\Users\\ITSC\\AppData\\Local\\Temp\\ipykernel_15928\\2132128891.py:2: PerformanceWarning: DataFrame is highly fragmented.  This is usually the result of calling `frame.insert` many times, which has poor performance.  Consider joining all columns at once using pd.concat(axis=1) instead. To get a de-fragmented frame, use `newframe = frame.copy()`\n",
      "  cn_pivot[column] = False\n",
      "C:\\Users\\ITSC\\AppData\\Local\\Temp\\ipykernel_15928\\2132128891.py:2: PerformanceWarning: DataFrame is highly fragmented.  This is usually the result of calling `frame.insert` many times, which has poor performance.  Consider joining all columns at once using pd.concat(axis=1) instead. To get a de-fragmented frame, use `newframe = frame.copy()`\n",
      "  cn_pivot[column] = False\n",
      "C:\\Users\\ITSC\\AppData\\Local\\Temp\\ipykernel_15928\\2132128891.py:2: PerformanceWarning: DataFrame is highly fragmented.  This is usually the result of calling `frame.insert` many times, which has poor performance.  Consider joining all columns at once using pd.concat(axis=1) instead. To get a de-fragmented frame, use `newframe = frame.copy()`\n",
      "  cn_pivot[column] = False\n",
      "C:\\Users\\ITSC\\AppData\\Local\\Temp\\ipykernel_15928\\2132128891.py:2: PerformanceWarning: DataFrame is highly fragmented.  This is usually the result of calling `frame.insert` many times, which has poor performance.  Consider joining all columns at once using pd.concat(axis=1) instead. To get a de-fragmented frame, use `newframe = frame.copy()`\n",
      "  cn_pivot[column] = False\n",
      "C:\\Users\\ITSC\\AppData\\Local\\Temp\\ipykernel_15928\\2132128891.py:2: PerformanceWarning: DataFrame is highly fragmented.  This is usually the result of calling `frame.insert` many times, which has poor performance.  Consider joining all columns at once using pd.concat(axis=1) instead. To get a de-fragmented frame, use `newframe = frame.copy()`\n",
      "  cn_pivot[column] = False\n",
      "C:\\Users\\ITSC\\AppData\\Local\\Temp\\ipykernel_15928\\2132128891.py:2: PerformanceWarning: DataFrame is highly fragmented.  This is usually the result of calling `frame.insert` many times, which has poor performance.  Consider joining all columns at once using pd.concat(axis=1) instead. To get a de-fragmented frame, use `newframe = frame.copy()`\n",
      "  cn_pivot[column] = False\n",
      "C:\\Users\\ITSC\\AppData\\Local\\Temp\\ipykernel_15928\\2132128891.py:2: PerformanceWarning: DataFrame is highly fragmented.  This is usually the result of calling `frame.insert` many times, which has poor performance.  Consider joining all columns at once using pd.concat(axis=1) instead. To get a de-fragmented frame, use `newframe = frame.copy()`\n",
      "  cn_pivot[column] = False\n",
      "C:\\Users\\ITSC\\AppData\\Local\\Temp\\ipykernel_15928\\2132128891.py:2: PerformanceWarning: DataFrame is highly fragmented.  This is usually the result of calling `frame.insert` many times, which has poor performance.  Consider joining all columns at once using pd.concat(axis=1) instead. To get a de-fragmented frame, use `newframe = frame.copy()`\n",
      "  cn_pivot[column] = False\n",
      "C:\\Users\\ITSC\\AppData\\Local\\Temp\\ipykernel_15928\\2132128891.py:2: PerformanceWarning: DataFrame is highly fragmented.  This is usually the result of calling `frame.insert` many times, which has poor performance.  Consider joining all columns at once using pd.concat(axis=1) instead. To get a de-fragmented frame, use `newframe = frame.copy()`\n",
      "  cn_pivot[column] = False\n",
      "C:\\Users\\ITSC\\AppData\\Local\\Temp\\ipykernel_15928\\2132128891.py:2: PerformanceWarning: DataFrame is highly fragmented.  This is usually the result of calling `frame.insert` many times, which has poor performance.  Consider joining all columns at once using pd.concat(axis=1) instead. To get a de-fragmented frame, use `newframe = frame.copy()`\n",
      "  cn_pivot[column] = False\n",
      "C:\\Users\\ITSC\\AppData\\Local\\Temp\\ipykernel_15928\\2132128891.py:2: PerformanceWarning: DataFrame is highly fragmented.  This is usually the result of calling `frame.insert` many times, which has poor performance.  Consider joining all columns at once using pd.concat(axis=1) instead. To get a de-fragmented frame, use `newframe = frame.copy()`\n",
      "  cn_pivot[column] = False\n",
      "C:\\Users\\ITSC\\AppData\\Local\\Temp\\ipykernel_15928\\2132128891.py:2: PerformanceWarning: DataFrame is highly fragmented.  This is usually the result of calling `frame.insert` many times, which has poor performance.  Consider joining all columns at once using pd.concat(axis=1) instead. To get a de-fragmented frame, use `newframe = frame.copy()`\n",
      "  cn_pivot[column] = False\n",
      "C:\\Users\\ITSC\\AppData\\Local\\Temp\\ipykernel_15928\\2132128891.py:2: PerformanceWarning: DataFrame is highly fragmented.  This is usually the result of calling `frame.insert` many times, which has poor performance.  Consider joining all columns at once using pd.concat(axis=1) instead. To get a de-fragmented frame, use `newframe = frame.copy()`\n",
      "  cn_pivot[column] = False\n",
      "C:\\Users\\ITSC\\AppData\\Local\\Temp\\ipykernel_15928\\2132128891.py:2: PerformanceWarning: DataFrame is highly fragmented.  This is usually the result of calling `frame.insert` many times, which has poor performance.  Consider joining all columns at once using pd.concat(axis=1) instead. To get a de-fragmented frame, use `newframe = frame.copy()`\n",
      "  cn_pivot[column] = False\n",
      "C:\\Users\\ITSC\\AppData\\Local\\Temp\\ipykernel_15928\\2132128891.py:2: PerformanceWarning: DataFrame is highly fragmented.  This is usually the result of calling `frame.insert` many times, which has poor performance.  Consider joining all columns at once using pd.concat(axis=1) instead. To get a de-fragmented frame, use `newframe = frame.copy()`\n",
      "  cn_pivot[column] = False\n",
      "C:\\Users\\ITSC\\AppData\\Local\\Temp\\ipykernel_15928\\2132128891.py:2: PerformanceWarning: DataFrame is highly fragmented.  This is usually the result of calling `frame.insert` many times, which has poor performance.  Consider joining all columns at once using pd.concat(axis=1) instead. To get a de-fragmented frame, use `newframe = frame.copy()`\n",
      "  cn_pivot[column] = False\n",
      "C:\\Users\\ITSC\\AppData\\Local\\Temp\\ipykernel_15928\\2132128891.py:2: PerformanceWarning: DataFrame is highly fragmented.  This is usually the result of calling `frame.insert` many times, which has poor performance.  Consider joining all columns at once using pd.concat(axis=1) instead. To get a de-fragmented frame, use `newframe = frame.copy()`\n",
      "  cn_pivot[column] = False\n",
      "C:\\Users\\ITSC\\AppData\\Local\\Temp\\ipykernel_15928\\2132128891.py:2: PerformanceWarning: DataFrame is highly fragmented.  This is usually the result of calling `frame.insert` many times, which has poor performance.  Consider joining all columns at once using pd.concat(axis=1) instead. To get a de-fragmented frame, use `newframe = frame.copy()`\n",
      "  cn_pivot[column] = False\n",
      "C:\\Users\\ITSC\\AppData\\Local\\Temp\\ipykernel_15928\\2132128891.py:2: PerformanceWarning: DataFrame is highly fragmented.  This is usually the result of calling `frame.insert` many times, which has poor performance.  Consider joining all columns at once using pd.concat(axis=1) instead. To get a de-fragmented frame, use `newframe = frame.copy()`\n",
      "  cn_pivot[column] = False\n",
      "C:\\Users\\ITSC\\AppData\\Local\\Temp\\ipykernel_15928\\2132128891.py:2: PerformanceWarning: DataFrame is highly fragmented.  This is usually the result of calling `frame.insert` many times, which has poor performance.  Consider joining all columns at once using pd.concat(axis=1) instead. To get a de-fragmented frame, use `newframe = frame.copy()`\n",
      "  cn_pivot[column] = False\n",
      "C:\\Users\\ITSC\\AppData\\Local\\Temp\\ipykernel_15928\\2132128891.py:2: PerformanceWarning: DataFrame is highly fragmented.  This is usually the result of calling `frame.insert` many times, which has poor performance.  Consider joining all columns at once using pd.concat(axis=1) instead. To get a de-fragmented frame, use `newframe = frame.copy()`\n",
      "  cn_pivot[column] = False\n",
      "C:\\Users\\ITSC\\AppData\\Local\\Temp\\ipykernel_15928\\2132128891.py:2: PerformanceWarning: DataFrame is highly fragmented.  This is usually the result of calling `frame.insert` many times, which has poor performance.  Consider joining all columns at once using pd.concat(axis=1) instead. To get a de-fragmented frame, use `newframe = frame.copy()`\n",
      "  cn_pivot[column] = False\n",
      "C:\\Users\\ITSC\\AppData\\Local\\Temp\\ipykernel_15928\\2132128891.py:2: PerformanceWarning: DataFrame is highly fragmented.  This is usually the result of calling `frame.insert` many times, which has poor performance.  Consider joining all columns at once using pd.concat(axis=1) instead. To get a de-fragmented frame, use `newframe = frame.copy()`\n",
      "  cn_pivot[column] = False\n",
      "C:\\Users\\ITSC\\AppData\\Local\\Temp\\ipykernel_15928\\2132128891.py:2: PerformanceWarning: DataFrame is highly fragmented.  This is usually the result of calling `frame.insert` many times, which has poor performance.  Consider joining all columns at once using pd.concat(axis=1) instead. To get a de-fragmented frame, use `newframe = frame.copy()`\n",
      "  cn_pivot[column] = False\n",
      "C:\\Users\\ITSC\\AppData\\Local\\Temp\\ipykernel_15928\\2132128891.py:2: PerformanceWarning: DataFrame is highly fragmented.  This is usually the result of calling `frame.insert` many times, which has poor performance.  Consider joining all columns at once using pd.concat(axis=1) instead. To get a de-fragmented frame, use `newframe = frame.copy()`\n",
      "  cn_pivot[column] = False\n",
      "C:\\Users\\ITSC\\AppData\\Local\\Temp\\ipykernel_15928\\2132128891.py:2: PerformanceWarning: DataFrame is highly fragmented.  This is usually the result of calling `frame.insert` many times, which has poor performance.  Consider joining all columns at once using pd.concat(axis=1) instead. To get a de-fragmented frame, use `newframe = frame.copy()`\n",
      "  cn_pivot[column] = False\n",
      "C:\\Users\\ITSC\\AppData\\Local\\Temp\\ipykernel_15928\\2132128891.py:2: PerformanceWarning: DataFrame is highly fragmented.  This is usually the result of calling `frame.insert` many times, which has poor performance.  Consider joining all columns at once using pd.concat(axis=1) instead. To get a de-fragmented frame, use `newframe = frame.copy()`\n",
      "  cn_pivot[column] = False\n",
      "C:\\Users\\ITSC\\AppData\\Local\\Temp\\ipykernel_15928\\2132128891.py:2: PerformanceWarning: DataFrame is highly fragmented.  This is usually the result of calling `frame.insert` many times, which has poor performance.  Consider joining all columns at once using pd.concat(axis=1) instead. To get a de-fragmented frame, use `newframe = frame.copy()`\n",
      "  cn_pivot[column] = False\n",
      "C:\\Users\\ITSC\\AppData\\Local\\Temp\\ipykernel_15928\\2132128891.py:2: PerformanceWarning: DataFrame is highly fragmented.  This is usually the result of calling `frame.insert` many times, which has poor performance.  Consider joining all columns at once using pd.concat(axis=1) instead. To get a de-fragmented frame, use `newframe = frame.copy()`\n",
      "  cn_pivot[column] = False\n",
      "C:\\Users\\ITSC\\AppData\\Local\\Temp\\ipykernel_15928\\2132128891.py:2: PerformanceWarning: DataFrame is highly fragmented.  This is usually the result of calling `frame.insert` many times, which has poor performance.  Consider joining all columns at once using pd.concat(axis=1) instead. To get a de-fragmented frame, use `newframe = frame.copy()`\n",
      "  cn_pivot[column] = False\n",
      "C:\\Users\\ITSC\\AppData\\Local\\Temp\\ipykernel_15928\\2132128891.py:2: PerformanceWarning: DataFrame is highly fragmented.  This is usually the result of calling `frame.insert` many times, which has poor performance.  Consider joining all columns at once using pd.concat(axis=1) instead. To get a de-fragmented frame, use `newframe = frame.copy()`\n",
      "  cn_pivot[column] = False\n",
      "C:\\Users\\ITSC\\AppData\\Local\\Temp\\ipykernel_15928\\2132128891.py:2: PerformanceWarning: DataFrame is highly fragmented.  This is usually the result of calling `frame.insert` many times, which has poor performance.  Consider joining all columns at once using pd.concat(axis=1) instead. To get a de-fragmented frame, use `newframe = frame.copy()`\n",
      "  cn_pivot[column] = False\n",
      "C:\\Users\\ITSC\\AppData\\Local\\Temp\\ipykernel_15928\\2132128891.py:2: PerformanceWarning: DataFrame is highly fragmented.  This is usually the result of calling `frame.insert` many times, which has poor performance.  Consider joining all columns at once using pd.concat(axis=1) instead. To get a de-fragmented frame, use `newframe = frame.copy()`\n",
      "  cn_pivot[column] = False\n",
      "C:\\Users\\ITSC\\AppData\\Local\\Temp\\ipykernel_15928\\2132128891.py:2: PerformanceWarning: DataFrame is highly fragmented.  This is usually the result of calling `frame.insert` many times, which has poor performance.  Consider joining all columns at once using pd.concat(axis=1) instead. To get a de-fragmented frame, use `newframe = frame.copy()`\n",
      "  cn_pivot[column] = False\n",
      "C:\\Users\\ITSC\\AppData\\Local\\Temp\\ipykernel_15928\\2132128891.py:2: PerformanceWarning: DataFrame is highly fragmented.  This is usually the result of calling `frame.insert` many times, which has poor performance.  Consider joining all columns at once using pd.concat(axis=1) instead. To get a de-fragmented frame, use `newframe = frame.copy()`\n",
      "  cn_pivot[column] = False\n",
      "C:\\Users\\ITSC\\AppData\\Local\\Temp\\ipykernel_15928\\2132128891.py:2: PerformanceWarning: DataFrame is highly fragmented.  This is usually the result of calling `frame.insert` many times, which has poor performance.  Consider joining all columns at once using pd.concat(axis=1) instead. To get a de-fragmented frame, use `newframe = frame.copy()`\n",
      "  cn_pivot[column] = False\n",
      "C:\\Users\\ITSC\\AppData\\Local\\Temp\\ipykernel_15928\\2132128891.py:2: PerformanceWarning: DataFrame is highly fragmented.  This is usually the result of calling `frame.insert` many times, which has poor performance.  Consider joining all columns at once using pd.concat(axis=1) instead. To get a de-fragmented frame, use `newframe = frame.copy()`\n",
      "  cn_pivot[column] = False\n",
      "C:\\Users\\ITSC\\AppData\\Local\\Temp\\ipykernel_15928\\2132128891.py:2: PerformanceWarning: DataFrame is highly fragmented.  This is usually the result of calling `frame.insert` many times, which has poor performance.  Consider joining all columns at once using pd.concat(axis=1) instead. To get a de-fragmented frame, use `newframe = frame.copy()`\n",
      "  cn_pivot[column] = False\n",
      "C:\\Users\\ITSC\\AppData\\Local\\Temp\\ipykernel_15928\\2132128891.py:2: PerformanceWarning: DataFrame is highly fragmented.  This is usually the result of calling `frame.insert` many times, which has poor performance.  Consider joining all columns at once using pd.concat(axis=1) instead. To get a de-fragmented frame, use `newframe = frame.copy()`\n",
      "  cn_pivot[column] = False\n",
      "C:\\Users\\ITSC\\AppData\\Local\\Temp\\ipykernel_15928\\2132128891.py:2: PerformanceWarning: DataFrame is highly fragmented.  This is usually the result of calling `frame.insert` many times, which has poor performance.  Consider joining all columns at once using pd.concat(axis=1) instead. To get a de-fragmented frame, use `newframe = frame.copy()`\n",
      "  cn_pivot[column] = False\n",
      "C:\\Users\\ITSC\\AppData\\Local\\Temp\\ipykernel_15928\\2132128891.py:2: PerformanceWarning: DataFrame is highly fragmented.  This is usually the result of calling `frame.insert` many times, which has poor performance.  Consider joining all columns at once using pd.concat(axis=1) instead. To get a de-fragmented frame, use `newframe = frame.copy()`\n",
      "  cn_pivot[column] = False\n",
      "C:\\Users\\ITSC\\AppData\\Local\\Temp\\ipykernel_15928\\2132128891.py:2: PerformanceWarning: DataFrame is highly fragmented.  This is usually the result of calling `frame.insert` many times, which has poor performance.  Consider joining all columns at once using pd.concat(axis=1) instead. To get a de-fragmented frame, use `newframe = frame.copy()`\n",
      "  cn_pivot[column] = False\n",
      "C:\\Users\\ITSC\\AppData\\Local\\Temp\\ipykernel_15928\\2132128891.py:2: PerformanceWarning: DataFrame is highly fragmented.  This is usually the result of calling `frame.insert` many times, which has poor performance.  Consider joining all columns at once using pd.concat(axis=1) instead. To get a de-fragmented frame, use `newframe = frame.copy()`\n",
      "  cn_pivot[column] = False\n",
      "C:\\Users\\ITSC\\AppData\\Local\\Temp\\ipykernel_15928\\2132128891.py:2: PerformanceWarning: DataFrame is highly fragmented.  This is usually the result of calling `frame.insert` many times, which has poor performance.  Consider joining all columns at once using pd.concat(axis=1) instead. To get a de-fragmented frame, use `newframe = frame.copy()`\n",
      "  cn_pivot[column] = False\n",
      "C:\\Users\\ITSC\\AppData\\Local\\Temp\\ipykernel_15928\\2132128891.py:2: PerformanceWarning: DataFrame is highly fragmented.  This is usually the result of calling `frame.insert` many times, which has poor performance.  Consider joining all columns at once using pd.concat(axis=1) instead. To get a de-fragmented frame, use `newframe = frame.copy()`\n",
      "  cn_pivot[column] = False\n",
      "C:\\Users\\ITSC\\AppData\\Local\\Temp\\ipykernel_15928\\2132128891.py:2: PerformanceWarning: DataFrame is highly fragmented.  This is usually the result of calling `frame.insert` many times, which has poor performance.  Consider joining all columns at once using pd.concat(axis=1) instead. To get a de-fragmented frame, use `newframe = frame.copy()`\n",
      "  cn_pivot[column] = False\n",
      "C:\\Users\\ITSC\\AppData\\Local\\Temp\\ipykernel_15928\\2132128891.py:2: PerformanceWarning: DataFrame is highly fragmented.  This is usually the result of calling `frame.insert` many times, which has poor performance.  Consider joining all columns at once using pd.concat(axis=1) instead. To get a de-fragmented frame, use `newframe = frame.copy()`\n",
      "  cn_pivot[column] = False\n",
      "C:\\Users\\ITSC\\AppData\\Local\\Temp\\ipykernel_15928\\2132128891.py:2: PerformanceWarning: DataFrame is highly fragmented.  This is usually the result of calling `frame.insert` many times, which has poor performance.  Consider joining all columns at once using pd.concat(axis=1) instead. To get a de-fragmented frame, use `newframe = frame.copy()`\n",
      "  cn_pivot[column] = False\n",
      "C:\\Users\\ITSC\\AppData\\Local\\Temp\\ipykernel_15928\\2132128891.py:2: PerformanceWarning: DataFrame is highly fragmented.  This is usually the result of calling `frame.insert` many times, which has poor performance.  Consider joining all columns at once using pd.concat(axis=1) instead. To get a de-fragmented frame, use `newframe = frame.copy()`\n",
      "  cn_pivot[column] = False\n",
      "C:\\Users\\ITSC\\AppData\\Local\\Temp\\ipykernel_15928\\2132128891.py:2: PerformanceWarning: DataFrame is highly fragmented.  This is usually the result of calling `frame.insert` many times, which has poor performance.  Consider joining all columns at once using pd.concat(axis=1) instead. To get a de-fragmented frame, use `newframe = frame.copy()`\n",
      "  cn_pivot[column] = False\n",
      "C:\\Users\\ITSC\\AppData\\Local\\Temp\\ipykernel_15928\\2132128891.py:2: PerformanceWarning: DataFrame is highly fragmented.  This is usually the result of calling `frame.insert` many times, which has poor performance.  Consider joining all columns at once using pd.concat(axis=1) instead. To get a de-fragmented frame, use `newframe = frame.copy()`\n",
      "  cn_pivot[column] = False\n",
      "C:\\Users\\ITSC\\AppData\\Local\\Temp\\ipykernel_15928\\2132128891.py:2: PerformanceWarning: DataFrame is highly fragmented.  This is usually the result of calling `frame.insert` many times, which has poor performance.  Consider joining all columns at once using pd.concat(axis=1) instead. To get a de-fragmented frame, use `newframe = frame.copy()`\n",
      "  cn_pivot[column] = False\n",
      "C:\\Users\\ITSC\\AppData\\Local\\Temp\\ipykernel_15928\\2132128891.py:2: PerformanceWarning: DataFrame is highly fragmented.  This is usually the result of calling `frame.insert` many times, which has poor performance.  Consider joining all columns at once using pd.concat(axis=1) instead. To get a de-fragmented frame, use `newframe = frame.copy()`\n",
      "  cn_pivot[column] = False\n",
      "C:\\Users\\ITSC\\AppData\\Local\\Temp\\ipykernel_15928\\2132128891.py:2: PerformanceWarning: DataFrame is highly fragmented.  This is usually the result of calling `frame.insert` many times, which has poor performance.  Consider joining all columns at once using pd.concat(axis=1) instead. To get a de-fragmented frame, use `newframe = frame.copy()`\n",
      "  cn_pivot[column] = False\n",
      "C:\\Users\\ITSC\\AppData\\Local\\Temp\\ipykernel_15928\\2132128891.py:2: PerformanceWarning: DataFrame is highly fragmented.  This is usually the result of calling `frame.insert` many times, which has poor performance.  Consider joining all columns at once using pd.concat(axis=1) instead. To get a de-fragmented frame, use `newframe = frame.copy()`\n",
      "  cn_pivot[column] = False\n",
      "C:\\Users\\ITSC\\AppData\\Local\\Temp\\ipykernel_15928\\2132128891.py:2: PerformanceWarning: DataFrame is highly fragmented.  This is usually the result of calling `frame.insert` many times, which has poor performance.  Consider joining all columns at once using pd.concat(axis=1) instead. To get a de-fragmented frame, use `newframe = frame.copy()`\n",
      "  cn_pivot[column] = False\n",
      "C:\\Users\\ITSC\\AppData\\Local\\Temp\\ipykernel_15928\\2132128891.py:2: PerformanceWarning: DataFrame is highly fragmented.  This is usually the result of calling `frame.insert` many times, which has poor performance.  Consider joining all columns at once using pd.concat(axis=1) instead. To get a de-fragmented frame, use `newframe = frame.copy()`\n",
      "  cn_pivot[column] = False\n",
      "C:\\Users\\ITSC\\AppData\\Local\\Temp\\ipykernel_15928\\2132128891.py:2: PerformanceWarning: DataFrame is highly fragmented.  This is usually the result of calling `frame.insert` many times, which has poor performance.  Consider joining all columns at once using pd.concat(axis=1) instead. To get a de-fragmented frame, use `newframe = frame.copy()`\n",
      "  cn_pivot[column] = False\n",
      "C:\\Users\\ITSC\\AppData\\Local\\Temp\\ipykernel_15928\\2132128891.py:2: PerformanceWarning: DataFrame is highly fragmented.  This is usually the result of calling `frame.insert` many times, which has poor performance.  Consider joining all columns at once using pd.concat(axis=1) instead. To get a de-fragmented frame, use `newframe = frame.copy()`\n",
      "  cn_pivot[column] = False\n",
      "C:\\Users\\ITSC\\AppData\\Local\\Temp\\ipykernel_15928\\2132128891.py:2: PerformanceWarning: DataFrame is highly fragmented.  This is usually the result of calling `frame.insert` many times, which has poor performance.  Consider joining all columns at once using pd.concat(axis=1) instead. To get a de-fragmented frame, use `newframe = frame.copy()`\n",
      "  cn_pivot[column] = False\n",
      "C:\\Users\\ITSC\\AppData\\Local\\Temp\\ipykernel_15928\\2132128891.py:2: PerformanceWarning: DataFrame is highly fragmented.  This is usually the result of calling `frame.insert` many times, which has poor performance.  Consider joining all columns at once using pd.concat(axis=1) instead. To get a de-fragmented frame, use `newframe = frame.copy()`\n",
      "  cn_pivot[column] = False\n",
      "C:\\Users\\ITSC\\AppData\\Local\\Temp\\ipykernel_15928\\2132128891.py:2: PerformanceWarning: DataFrame is highly fragmented.  This is usually the result of calling `frame.insert` many times, which has poor performance.  Consider joining all columns at once using pd.concat(axis=1) instead. To get a de-fragmented frame, use `newframe = frame.copy()`\n",
      "  cn_pivot[column] = False\n",
      "C:\\Users\\ITSC\\AppData\\Local\\Temp\\ipykernel_15928\\2132128891.py:2: PerformanceWarning: DataFrame is highly fragmented.  This is usually the result of calling `frame.insert` many times, which has poor performance.  Consider joining all columns at once using pd.concat(axis=1) instead. To get a de-fragmented frame, use `newframe = frame.copy()`\n",
      "  cn_pivot[column] = False\n",
      "C:\\Users\\ITSC\\AppData\\Local\\Temp\\ipykernel_15928\\2132128891.py:2: PerformanceWarning: DataFrame is highly fragmented.  This is usually the result of calling `frame.insert` many times, which has poor performance.  Consider joining all columns at once using pd.concat(axis=1) instead. To get a de-fragmented frame, use `newframe = frame.copy()`\n",
      "  cn_pivot[column] = False\n",
      "C:\\Users\\ITSC\\AppData\\Local\\Temp\\ipykernel_15928\\2132128891.py:2: PerformanceWarning: DataFrame is highly fragmented.  This is usually the result of calling `frame.insert` many times, which has poor performance.  Consider joining all columns at once using pd.concat(axis=1) instead. To get a de-fragmented frame, use `newframe = frame.copy()`\n",
      "  cn_pivot[column] = False\n",
      "C:\\Users\\ITSC\\AppData\\Local\\Temp\\ipykernel_15928\\2132128891.py:2: PerformanceWarning: DataFrame is highly fragmented.  This is usually the result of calling `frame.insert` many times, which has poor performance.  Consider joining all columns at once using pd.concat(axis=1) instead. To get a de-fragmented frame, use `newframe = frame.copy()`\n",
      "  cn_pivot[column] = False\n",
      "C:\\Users\\ITSC\\AppData\\Local\\Temp\\ipykernel_15928\\2132128891.py:2: PerformanceWarning: DataFrame is highly fragmented.  This is usually the result of calling `frame.insert` many times, which has poor performance.  Consider joining all columns at once using pd.concat(axis=1) instead. To get a de-fragmented frame, use `newframe = frame.copy()`\n",
      "  cn_pivot[column] = False\n",
      "C:\\Users\\ITSC\\AppData\\Local\\Temp\\ipykernel_15928\\2132128891.py:2: PerformanceWarning: DataFrame is highly fragmented.  This is usually the result of calling `frame.insert` many times, which has poor performance.  Consider joining all columns at once using pd.concat(axis=1) instead. To get a de-fragmented frame, use `newframe = frame.copy()`\n",
      "  cn_pivot[column] = False\n",
      "C:\\Users\\ITSC\\AppData\\Local\\Temp\\ipykernel_15928\\2132128891.py:2: PerformanceWarning: DataFrame is highly fragmented.  This is usually the result of calling `frame.insert` many times, which has poor performance.  Consider joining all columns at once using pd.concat(axis=1) instead. To get a de-fragmented frame, use `newframe = frame.copy()`\n",
      "  cn_pivot[column] = False\n",
      "C:\\Users\\ITSC\\AppData\\Local\\Temp\\ipykernel_15928\\2132128891.py:2: PerformanceWarning: DataFrame is highly fragmented.  This is usually the result of calling `frame.insert` many times, which has poor performance.  Consider joining all columns at once using pd.concat(axis=1) instead. To get a de-fragmented frame, use `newframe = frame.copy()`\n",
      "  cn_pivot[column] = False\n",
      "C:\\Users\\ITSC\\AppData\\Local\\Temp\\ipykernel_15928\\2132128891.py:2: PerformanceWarning: DataFrame is highly fragmented.  This is usually the result of calling `frame.insert` many times, which has poor performance.  Consider joining all columns at once using pd.concat(axis=1) instead. To get a de-fragmented frame, use `newframe = frame.copy()`\n",
      "  cn_pivot[column] = False\n",
      "C:\\Users\\ITSC\\AppData\\Local\\Temp\\ipykernel_15928\\2132128891.py:2: PerformanceWarning: DataFrame is highly fragmented.  This is usually the result of calling `frame.insert` many times, which has poor performance.  Consider joining all columns at once using pd.concat(axis=1) instead. To get a de-fragmented frame, use `newframe = frame.copy()`\n",
      "  cn_pivot[column] = False\n"
     ]
    }
   ],
   "source": [
    "for column in cn_columns[~cn_columns.isin(cn_pivot.columns)]:\n",
    "    cn_pivot[column] = False"
   ]
  },
  {
   "cell_type": "code",
   "execution_count": 34,
   "id": "25e5286b",
   "metadata": {},
   "outputs": [],
   "source": [
    "cn_pivot = cn_pivot.loc[:, cn_columns]"
   ]
  },
  {
   "cell_type": "code",
   "execution_count": 35,
   "id": "1f3b2939",
   "metadata": {},
   "outputs": [
    {
     "data": {
      "text/plain": [
       "0"
      ]
     },
     "execution_count": 35,
     "metadata": {},
     "output_type": "execute_result"
    }
   ],
   "source": [
    "sum(cn_pivot.columns != cn_columns)"
   ]
  },
  {
   "cell_type": "code",
   "execution_count": 36,
   "id": "40d6f062",
   "metadata": {},
   "outputs": [
    {
     "data": {
      "text/plain": [
       "(48, 836)"
      ]
     },
     "execution_count": 36,
     "metadata": {},
     "output_type": "execute_result"
    }
   ],
   "source": [
    "cn_pivot.shape"
   ]
  },
  {
   "cell_type": "code",
   "execution_count": null,
   "id": "a1fd408b",
   "metadata": {},
   "outputs": [],
   "source": []
  },
  {
   "cell_type": "markdown",
   "id": "114ebd97",
   "metadata": {},
   "source": [
    "### 해양 데이터 처리"
   ]
  },
  {
   "cell_type": "code",
   "execution_count": 37,
   "id": "b61c8cd0",
   "metadata": {},
   "outputs": [
    {
     "data": {
      "text/plain": [
       "Index(['('풍속', '21229')', '('풍속', '22101')', '('풍속', '22102')',\n",
       "       '('풍속', '22103')', '('풍속', '22104')', '('풍속', '22105')',\n",
       "       '('풍속', '22106')', '('풍속', '22107')', '('풍속', '22108')',\n",
       "       '('풍속', '22183')',\n",
       "       ...\n",
       "       '('풍향', \"('22184', 280.0)\")', '('풍향', \"('22184', 290.0)\")',\n",
       "       '('풍향', \"('22184', 300.0)\")', '('풍향', \"('22184', 310.0)\")',\n",
       "       '('풍향', \"('22184', 320.0)\")', '('풍향', \"('22184', 330.0)\")',\n",
       "       '('풍향', \"('22184', 340.0)\")', '('풍향', \"('22184', 350.0)\")', '습도', '풍속'],\n",
       "      dtype='object', length=453)"
      ]
     },
     "execution_count": 37,
     "metadata": {},
     "output_type": "execute_result"
    }
   ],
   "source": [
    "sea_columns"
   ]
  },
  {
   "cell_type": "code",
   "execution_count": 38,
   "id": "eb0ff204",
   "metadata": {},
   "outputs": [],
   "source": [
    "sea_df[\"지점\"] = sea_df[\"지점\"].map(lambda x: str(x))"
   ]
  },
  {
   "cell_type": "code",
   "execution_count": 39,
   "id": "8cde6dc9",
   "metadata": {},
   "outputs": [],
   "source": [
    "sea_df[\"풍향\"] = sea_df[\"풍향\"].map(lambda x: 0 if x == 360 else x)"
   ]
  },
  {
   "cell_type": "code",
   "execution_count": 40,
   "id": "702662aa",
   "metadata": {},
   "outputs": [],
   "source": [
    "sea_pivot = sea_df.pivot(index = \"일시\", columns = \"지점\")"
   ]
  },
  {
   "cell_type": "code",
   "execution_count": 41,
   "id": "94d87214",
   "metadata": {},
   "outputs": [],
   "source": [
    "sea_pivot = sea_pivot.iloc[8:, :]"
   ]
  },
  {
   "cell_type": "code",
   "execution_count": 42,
   "id": "b7a84a56",
   "metadata": {},
   "outputs": [
    {
     "data": {
      "text/html": [
       "<div>\n",
       "<style scoped>\n",
       "    .dataframe tbody tr th:only-of-type {\n",
       "        vertical-align: middle;\n",
       "    }\n",
       "\n",
       "    .dataframe tbody tr th {\n",
       "        vertical-align: top;\n",
       "    }\n",
       "\n",
       "    .dataframe thead tr th {\n",
       "        text-align: left;\n",
       "    }\n",
       "\n",
       "    .dataframe thead tr:last-of-type th {\n",
       "        text-align: right;\n",
       "    }\n",
       "</style>\n",
       "<table border=\"1\" class=\"dataframe\">\n",
       "  <thead>\n",
       "    <tr>\n",
       "      <th></th>\n",
       "      <th colspan=\"10\" halign=\"left\">풍속</th>\n",
       "      <th>...</th>\n",
       "      <th colspan=\"10\" halign=\"left\">기온</th>\n",
       "    </tr>\n",
       "    <tr>\n",
       "      <th>지점</th>\n",
       "      <th>21229</th>\n",
       "      <th>22101</th>\n",
       "      <th>22102</th>\n",
       "      <th>22103</th>\n",
       "      <th>22104</th>\n",
       "      <th>22105</th>\n",
       "      <th>22106</th>\n",
       "      <th>22107</th>\n",
       "      <th>22108</th>\n",
       "      <th>22183</th>\n",
       "      <th>...</th>\n",
       "      <th>22101</th>\n",
       "      <th>22102</th>\n",
       "      <th>22103</th>\n",
       "      <th>22104</th>\n",
       "      <th>22105</th>\n",
       "      <th>22106</th>\n",
       "      <th>22107</th>\n",
       "      <th>22108</th>\n",
       "      <th>22183</th>\n",
       "      <th>22184</th>\n",
       "    </tr>\n",
       "    <tr>\n",
       "      <th>일시</th>\n",
       "      <th></th>\n",
       "      <th></th>\n",
       "      <th></th>\n",
       "      <th></th>\n",
       "      <th></th>\n",
       "      <th></th>\n",
       "      <th></th>\n",
       "      <th></th>\n",
       "      <th></th>\n",
       "      <th></th>\n",
       "      <th></th>\n",
       "      <th></th>\n",
       "      <th></th>\n",
       "      <th></th>\n",
       "      <th></th>\n",
       "      <th></th>\n",
       "      <th></th>\n",
       "      <th></th>\n",
       "      <th></th>\n",
       "      <th></th>\n",
       "      <th></th>\n",
       "    </tr>\n",
       "  </thead>\n",
       "  <tbody>\n",
       "    <tr>\n",
       "      <th>2024-06-07 00:00:00</th>\n",
       "      <td>5.3</td>\n",
       "      <td>1.5</td>\n",
       "      <td>1.0</td>\n",
       "      <td>1.3</td>\n",
       "      <td>0.8</td>\n",
       "      <td>6.7</td>\n",
       "      <td>4.1</td>\n",
       "      <td>5.1</td>\n",
       "      <td>1.1</td>\n",
       "      <td>1.4</td>\n",
       "      <td>...</td>\n",
       "      <td>16.4</td>\n",
       "      <td>18.7</td>\n",
       "      <td>19.6</td>\n",
       "      <td>19.7</td>\n",
       "      <td>20.7</td>\n",
       "      <td>20.2</td>\n",
       "      <td>19.6</td>\n",
       "      <td>19.5</td>\n",
       "      <td>19.2</td>\n",
       "      <td>18.2</td>\n",
       "    </tr>\n",
       "    <tr>\n",
       "      <th>2024-06-07 03:00:00</th>\n",
       "      <td>4.5</td>\n",
       "      <td>3.5</td>\n",
       "      <td>1.2</td>\n",
       "      <td>1.7</td>\n",
       "      <td>2.5</td>\n",
       "      <td>6.0</td>\n",
       "      <td>4.8</td>\n",
       "      <td>4.9</td>\n",
       "      <td>2.3</td>\n",
       "      <td>1.6</td>\n",
       "      <td>...</td>\n",
       "      <td>15.2</td>\n",
       "      <td>17.8</td>\n",
       "      <td>19.2</td>\n",
       "      <td>19.2</td>\n",
       "      <td>20.6</td>\n",
       "      <td>20.0</td>\n",
       "      <td>19.4</td>\n",
       "      <td>18.8</td>\n",
       "      <td>18.6</td>\n",
       "      <td>17.2</td>\n",
       "    </tr>\n",
       "    <tr>\n",
       "      <th>2024-06-07 06:00:00</th>\n",
       "      <td>4.6</td>\n",
       "      <td>2.8</td>\n",
       "      <td>1.0</td>\n",
       "      <td>2.3</td>\n",
       "      <td>2.7</td>\n",
       "      <td>6.0</td>\n",
       "      <td>4.6</td>\n",
       "      <td>4.7</td>\n",
       "      <td>2.1</td>\n",
       "      <td>1.2</td>\n",
       "      <td>...</td>\n",
       "      <td>14.6</td>\n",
       "      <td>17.1</td>\n",
       "      <td>19.2</td>\n",
       "      <td>19.1</td>\n",
       "      <td>20.4</td>\n",
       "      <td>20.1</td>\n",
       "      <td>19.7</td>\n",
       "      <td>18.4</td>\n",
       "      <td>18.9</td>\n",
       "      <td>17.0</td>\n",
       "    </tr>\n",
       "    <tr>\n",
       "      <th>2024-06-07 09:00:00</th>\n",
       "      <td>4.5</td>\n",
       "      <td>1.2</td>\n",
       "      <td>2.1</td>\n",
       "      <td>2.9</td>\n",
       "      <td>1.8</td>\n",
       "      <td>5.0</td>\n",
       "      <td>5.0</td>\n",
       "      <td>5.8</td>\n",
       "      <td>2.7</td>\n",
       "      <td>1.6</td>\n",
       "      <td>...</td>\n",
       "      <td>15.5</td>\n",
       "      <td>18.5</td>\n",
       "      <td>19.7</td>\n",
       "      <td>19.3</td>\n",
       "      <td>20.7</td>\n",
       "      <td>22.4</td>\n",
       "      <td>20.3</td>\n",
       "      <td>18.7</td>\n",
       "      <td>19.6</td>\n",
       "      <td>18.8</td>\n",
       "    </tr>\n",
       "    <tr>\n",
       "      <th>2024-06-07 12:00:00</th>\n",
       "      <td>3.6</td>\n",
       "      <td>1.8</td>\n",
       "      <td>1.5</td>\n",
       "      <td>3.2</td>\n",
       "      <td>1.0</td>\n",
       "      <td>5.3</td>\n",
       "      <td>5.1</td>\n",
       "      <td>7.5</td>\n",
       "      <td>2.2</td>\n",
       "      <td>2.2</td>\n",
       "      <td>...</td>\n",
       "      <td>15.8</td>\n",
       "      <td>19.1</td>\n",
       "      <td>20.0</td>\n",
       "      <td>20.0</td>\n",
       "      <td>21.0</td>\n",
       "      <td>22.0</td>\n",
       "      <td>20.2</td>\n",
       "      <td>18.8</td>\n",
       "      <td>21.4</td>\n",
       "      <td>19.1</td>\n",
       "    </tr>\n",
       "  </tbody>\n",
       "</table>\n",
       "<p>5 rows × 66 columns</p>\n",
       "</div>"
      ],
      "text/plain": [
       "                       풍속                                                  \\\n",
       "지점                  21229 22101 22102 22103 22104 22105 22106 22107 22108   \n",
       "일시                                                                          \n",
       "2024-06-07 00:00:00   5.3   1.5   1.0   1.3   0.8   6.7   4.1   5.1   1.1   \n",
       "2024-06-07 03:00:00   4.5   3.5   1.2   1.7   2.5   6.0   4.8   4.9   2.3   \n",
       "2024-06-07 06:00:00   4.6   2.8   1.0   2.3   2.7   6.0   4.6   4.7   2.1   \n",
       "2024-06-07 09:00:00   4.5   1.2   2.1   2.9   1.8   5.0   5.0   5.8   2.7   \n",
       "2024-06-07 12:00:00   3.6   1.8   1.5   3.2   1.0   5.3   5.1   7.5   2.2   \n",
       "\n",
       "                           ...    기온                                      \\\n",
       "지점                  22183  ... 22101 22102 22103 22104 22105 22106 22107   \n",
       "일시                         ...                                             \n",
       "2024-06-07 00:00:00   1.4  ...  16.4  18.7  19.6  19.7  20.7  20.2  19.6   \n",
       "2024-06-07 03:00:00   1.6  ...  15.2  17.8  19.2  19.2  20.6  20.0  19.4   \n",
       "2024-06-07 06:00:00   1.2  ...  14.6  17.1  19.2  19.1  20.4  20.1  19.7   \n",
       "2024-06-07 09:00:00   1.6  ...  15.5  18.5  19.7  19.3  20.7  22.4  20.3   \n",
       "2024-06-07 12:00:00   2.2  ...  15.8  19.1  20.0  20.0  21.0  22.0  20.2   \n",
       "\n",
       "                                       \n",
       "지점                  22108 22183 22184  \n",
       "일시                                     \n",
       "2024-06-07 00:00:00  19.5  19.2  18.2  \n",
       "2024-06-07 03:00:00  18.8  18.6  17.2  \n",
       "2024-06-07 06:00:00  18.4  18.9  17.0  \n",
       "2024-06-07 09:00:00  18.7  19.6  18.8  \n",
       "2024-06-07 12:00:00  18.8  21.4  19.1  \n",
       "\n",
       "[5 rows x 66 columns]"
      ]
     },
     "execution_count": 42,
     "metadata": {},
     "output_type": "execute_result"
    }
   ],
   "source": [
    "sea_pivot.head()"
   ]
  },
  {
   "cell_type": "code",
   "execution_count": 43,
   "id": "cf726183",
   "metadata": {},
   "outputs": [],
   "source": [
    "time_df = pd.DataFrame(sea_pivot.index)\n",
    "time_df = time_df.set_index(\"일시\")\n",
    "\n",
    "for loc in sea_pivot[\"풍향\"].columns:\n",
    "    dummy_df = pd.get_dummies(sea_pivot[\"풍향\"][loc])\n",
    "    dummy_df.columns = dummy_df.columns.map(lambda x: ((\"풍향\", str((loc, x)))))\n",
    "    \n",
    "    time_df = pd.concat([time_df, dummy_df], axis = 1)"
   ]
  },
  {
   "cell_type": "code",
   "execution_count": 44,
   "id": "ee40219b",
   "metadata": {},
   "outputs": [
    {
     "data": {
      "text/plain": [
       "Index([('풍향', '('21229', 140.0)'), ('풍향', '('21229', 160.0)'),\n",
       "       ('풍향', '('21229', 170.0)'), ('풍향', '('21229', 180.0)'),\n",
       "       ('풍향', '('21229', 190.0)'), ('풍향', '('21229', 200.0)'),\n",
       "       ('풍향', '('21229', 210.0)'), ('풍향', '('21229', 220.0)'),\n",
       "       ('풍향', '('21229', 230.0)'), ('풍향', '('21229', 240.0)'),\n",
       "       ...\n",
       "       ('풍향', '('22184', 190.0)'), ('풍향', '('22184', 200.0)'),\n",
       "       ('풍향', '('22184', 210.0)'), ('풍향', '('22184', 220.0)'),\n",
       "       ('풍향', '('22184', 250.0)'), ('풍향', '('22184', 280.0)'),\n",
       "       ('풍향', '('22184', 290.0)'), ('풍향', '('22184', 300.0)'),\n",
       "       ('풍향', '('22184', 310.0)'), ('풍향', '('22184', 340.0)')],\n",
       "      dtype='object', length=194)"
      ]
     },
     "execution_count": 44,
     "metadata": {},
     "output_type": "execute_result"
    }
   ],
   "source": [
    "time_df.columns"
   ]
  },
  {
   "cell_type": "code",
   "execution_count": 45,
   "id": "72852785",
   "metadata": {},
   "outputs": [],
   "source": [
    "sea_pivot = sea_pivot.drop(\"풍향\", axis = 1)"
   ]
  },
  {
   "cell_type": "code",
   "execution_count": 46,
   "id": "9291bea4",
   "metadata": {},
   "outputs": [],
   "source": [
    "sea_pivot = pd.concat([sea_pivot, time_df], axis = 1)"
   ]
  },
  {
   "cell_type": "code",
   "execution_count": 47,
   "id": "34facdce",
   "metadata": {},
   "outputs": [],
   "source": [
    "sea_pivot.columns = sea_pivot.columns.map(lambda x: str(x))"
   ]
  },
  {
   "cell_type": "code",
   "execution_count": 48,
   "id": "12ce5fb8",
   "metadata": {},
   "outputs": [
    {
     "data": {
      "text/plain": [
       "Index(['('풍향', \"('21229', 0.0)\")', '('풍향', \"('21229', 10.0)\")',\n",
       "       '('풍향', \"('21229', 20.0)\")', '('풍향', \"('21229', 30.0)\")',\n",
       "       '('풍향', \"('21229', 40.0)\")', '('풍향', \"('21229', 50.0)\")',\n",
       "       '('풍향', \"('21229', 60.0)\")', '('풍향', \"('21229', 70.0)\")',\n",
       "       '('풍향', \"('21229', 80.0)\")', '('풍향', \"('21229', 90.0)\")',\n",
       "       ...\n",
       "       '('풍향', \"('22184', 180.0)\")', '('풍향', \"('22184', 230.0)\")',\n",
       "       '('풍향', \"('22184', 240.0)\")', '('풍향', \"('22184', 260.0)\")',\n",
       "       '('풍향', \"('22184', 270.0)\")', '('풍향', \"('22184', 320.0)\")',\n",
       "       '('풍향', \"('22184', 330.0)\")', '('풍향', \"('22184', 350.0)\")', '습도', '풍속'],\n",
       "      dtype='object', length=204)"
      ]
     },
     "execution_count": 48,
     "metadata": {},
     "output_type": "execute_result"
    }
   ],
   "source": [
    "sea_columns[~sea_columns.isin(sea_pivot.columns)]"
   ]
  },
  {
   "cell_type": "code",
   "execution_count": null,
   "id": "01c14d9e",
   "metadata": {},
   "outputs": [],
   "source": []
  },
  {
   "cell_type": "code",
   "execution_count": 49,
   "id": "bb08b6f3",
   "metadata": {},
   "outputs": [
    {
     "name": "stderr",
     "output_type": "stream",
     "text": [
      "C:\\Users\\ITSC\\AppData\\Local\\Temp\\ipykernel_15928\\3551806113.py:2: PerformanceWarning: DataFrame is highly fragmented.  This is usually the result of calling `frame.insert` many times, which has poor performance.  Consider joining all columns at once using pd.concat(axis=1) instead. To get a de-fragmented frame, use `newframe = frame.copy()`\n",
      "  sea_pivot[column] = False\n",
      "C:\\Users\\ITSC\\AppData\\Local\\Temp\\ipykernel_15928\\3551806113.py:2: PerformanceWarning: DataFrame is highly fragmented.  This is usually the result of calling `frame.insert` many times, which has poor performance.  Consider joining all columns at once using pd.concat(axis=1) instead. To get a de-fragmented frame, use `newframe = frame.copy()`\n",
      "  sea_pivot[column] = False\n",
      "C:\\Users\\ITSC\\AppData\\Local\\Temp\\ipykernel_15928\\3551806113.py:2: PerformanceWarning: DataFrame is highly fragmented.  This is usually the result of calling `frame.insert` many times, which has poor performance.  Consider joining all columns at once using pd.concat(axis=1) instead. To get a de-fragmented frame, use `newframe = frame.copy()`\n",
      "  sea_pivot[column] = False\n",
      "C:\\Users\\ITSC\\AppData\\Local\\Temp\\ipykernel_15928\\3551806113.py:2: PerformanceWarning: DataFrame is highly fragmented.  This is usually the result of calling `frame.insert` many times, which has poor performance.  Consider joining all columns at once using pd.concat(axis=1) instead. To get a de-fragmented frame, use `newframe = frame.copy()`\n",
      "  sea_pivot[column] = False\n",
      "C:\\Users\\ITSC\\AppData\\Local\\Temp\\ipykernel_15928\\3551806113.py:2: PerformanceWarning: DataFrame is highly fragmented.  This is usually the result of calling `frame.insert` many times, which has poor performance.  Consider joining all columns at once using pd.concat(axis=1) instead. To get a de-fragmented frame, use `newframe = frame.copy()`\n",
      "  sea_pivot[column] = False\n",
      "C:\\Users\\ITSC\\AppData\\Local\\Temp\\ipykernel_15928\\3551806113.py:2: PerformanceWarning: DataFrame is highly fragmented.  This is usually the result of calling `frame.insert` many times, which has poor performance.  Consider joining all columns at once using pd.concat(axis=1) instead. To get a de-fragmented frame, use `newframe = frame.copy()`\n",
      "  sea_pivot[column] = False\n",
      "C:\\Users\\ITSC\\AppData\\Local\\Temp\\ipykernel_15928\\3551806113.py:2: PerformanceWarning: DataFrame is highly fragmented.  This is usually the result of calling `frame.insert` many times, which has poor performance.  Consider joining all columns at once using pd.concat(axis=1) instead. To get a de-fragmented frame, use `newframe = frame.copy()`\n",
      "  sea_pivot[column] = False\n",
      "C:\\Users\\ITSC\\AppData\\Local\\Temp\\ipykernel_15928\\3551806113.py:2: PerformanceWarning: DataFrame is highly fragmented.  This is usually the result of calling `frame.insert` many times, which has poor performance.  Consider joining all columns at once using pd.concat(axis=1) instead. To get a de-fragmented frame, use `newframe = frame.copy()`\n",
      "  sea_pivot[column] = False\n",
      "C:\\Users\\ITSC\\AppData\\Local\\Temp\\ipykernel_15928\\3551806113.py:2: PerformanceWarning: DataFrame is highly fragmented.  This is usually the result of calling `frame.insert` many times, which has poor performance.  Consider joining all columns at once using pd.concat(axis=1) instead. To get a de-fragmented frame, use `newframe = frame.copy()`\n",
      "  sea_pivot[column] = False\n",
      "C:\\Users\\ITSC\\AppData\\Local\\Temp\\ipykernel_15928\\3551806113.py:2: PerformanceWarning: DataFrame is highly fragmented.  This is usually the result of calling `frame.insert` many times, which has poor performance.  Consider joining all columns at once using pd.concat(axis=1) instead. To get a de-fragmented frame, use `newframe = frame.copy()`\n",
      "  sea_pivot[column] = False\n",
      "C:\\Users\\ITSC\\AppData\\Local\\Temp\\ipykernel_15928\\3551806113.py:2: PerformanceWarning: DataFrame is highly fragmented.  This is usually the result of calling `frame.insert` many times, which has poor performance.  Consider joining all columns at once using pd.concat(axis=1) instead. To get a de-fragmented frame, use `newframe = frame.copy()`\n",
      "  sea_pivot[column] = False\n",
      "C:\\Users\\ITSC\\AppData\\Local\\Temp\\ipykernel_15928\\3551806113.py:2: PerformanceWarning: DataFrame is highly fragmented.  This is usually the result of calling `frame.insert` many times, which has poor performance.  Consider joining all columns at once using pd.concat(axis=1) instead. To get a de-fragmented frame, use `newframe = frame.copy()`\n",
      "  sea_pivot[column] = False\n",
      "C:\\Users\\ITSC\\AppData\\Local\\Temp\\ipykernel_15928\\3551806113.py:2: PerformanceWarning: DataFrame is highly fragmented.  This is usually the result of calling `frame.insert` many times, which has poor performance.  Consider joining all columns at once using pd.concat(axis=1) instead. To get a de-fragmented frame, use `newframe = frame.copy()`\n",
      "  sea_pivot[column] = False\n",
      "C:\\Users\\ITSC\\AppData\\Local\\Temp\\ipykernel_15928\\3551806113.py:2: PerformanceWarning: DataFrame is highly fragmented.  This is usually the result of calling `frame.insert` many times, which has poor performance.  Consider joining all columns at once using pd.concat(axis=1) instead. To get a de-fragmented frame, use `newframe = frame.copy()`\n",
      "  sea_pivot[column] = False\n",
      "C:\\Users\\ITSC\\AppData\\Local\\Temp\\ipykernel_15928\\3551806113.py:2: PerformanceWarning: DataFrame is highly fragmented.  This is usually the result of calling `frame.insert` many times, which has poor performance.  Consider joining all columns at once using pd.concat(axis=1) instead. To get a de-fragmented frame, use `newframe = frame.copy()`\n",
      "  sea_pivot[column] = False\n",
      "C:\\Users\\ITSC\\AppData\\Local\\Temp\\ipykernel_15928\\3551806113.py:2: PerformanceWarning: DataFrame is highly fragmented.  This is usually the result of calling `frame.insert` many times, which has poor performance.  Consider joining all columns at once using pd.concat(axis=1) instead. To get a de-fragmented frame, use `newframe = frame.copy()`\n",
      "  sea_pivot[column] = False\n",
      "C:\\Users\\ITSC\\AppData\\Local\\Temp\\ipykernel_15928\\3551806113.py:2: PerformanceWarning: DataFrame is highly fragmented.  This is usually the result of calling `frame.insert` many times, which has poor performance.  Consider joining all columns at once using pd.concat(axis=1) instead. To get a de-fragmented frame, use `newframe = frame.copy()`\n",
      "  sea_pivot[column] = False\n",
      "C:\\Users\\ITSC\\AppData\\Local\\Temp\\ipykernel_15928\\3551806113.py:2: PerformanceWarning: DataFrame is highly fragmented.  This is usually the result of calling `frame.insert` many times, which has poor performance.  Consider joining all columns at once using pd.concat(axis=1) instead. To get a de-fragmented frame, use `newframe = frame.copy()`\n",
      "  sea_pivot[column] = False\n",
      "C:\\Users\\ITSC\\AppData\\Local\\Temp\\ipykernel_15928\\3551806113.py:2: PerformanceWarning: DataFrame is highly fragmented.  This is usually the result of calling `frame.insert` many times, which has poor performance.  Consider joining all columns at once using pd.concat(axis=1) instead. To get a de-fragmented frame, use `newframe = frame.copy()`\n",
      "  sea_pivot[column] = False\n",
      "C:\\Users\\ITSC\\AppData\\Local\\Temp\\ipykernel_15928\\3551806113.py:2: PerformanceWarning: DataFrame is highly fragmented.  This is usually the result of calling `frame.insert` many times, which has poor performance.  Consider joining all columns at once using pd.concat(axis=1) instead. To get a de-fragmented frame, use `newframe = frame.copy()`\n",
      "  sea_pivot[column] = False\n",
      "C:\\Users\\ITSC\\AppData\\Local\\Temp\\ipykernel_15928\\3551806113.py:2: PerformanceWarning: DataFrame is highly fragmented.  This is usually the result of calling `frame.insert` many times, which has poor performance.  Consider joining all columns at once using pd.concat(axis=1) instead. To get a de-fragmented frame, use `newframe = frame.copy()`\n",
      "  sea_pivot[column] = False\n",
      "C:\\Users\\ITSC\\AppData\\Local\\Temp\\ipykernel_15928\\3551806113.py:2: PerformanceWarning: DataFrame is highly fragmented.  This is usually the result of calling `frame.insert` many times, which has poor performance.  Consider joining all columns at once using pd.concat(axis=1) instead. To get a de-fragmented frame, use `newframe = frame.copy()`\n",
      "  sea_pivot[column] = False\n",
      "C:\\Users\\ITSC\\AppData\\Local\\Temp\\ipykernel_15928\\3551806113.py:2: PerformanceWarning: DataFrame is highly fragmented.  This is usually the result of calling `frame.insert` many times, which has poor performance.  Consider joining all columns at once using pd.concat(axis=1) instead. To get a de-fragmented frame, use `newframe = frame.copy()`\n",
      "  sea_pivot[column] = False\n",
      "C:\\Users\\ITSC\\AppData\\Local\\Temp\\ipykernel_15928\\3551806113.py:2: PerformanceWarning: DataFrame is highly fragmented.  This is usually the result of calling `frame.insert` many times, which has poor performance.  Consider joining all columns at once using pd.concat(axis=1) instead. To get a de-fragmented frame, use `newframe = frame.copy()`\n",
      "  sea_pivot[column] = False\n",
      "C:\\Users\\ITSC\\AppData\\Local\\Temp\\ipykernel_15928\\3551806113.py:2: PerformanceWarning: DataFrame is highly fragmented.  This is usually the result of calling `frame.insert` many times, which has poor performance.  Consider joining all columns at once using pd.concat(axis=1) instead. To get a de-fragmented frame, use `newframe = frame.copy()`\n",
      "  sea_pivot[column] = False\n",
      "C:\\Users\\ITSC\\AppData\\Local\\Temp\\ipykernel_15928\\3551806113.py:2: PerformanceWarning: DataFrame is highly fragmented.  This is usually the result of calling `frame.insert` many times, which has poor performance.  Consider joining all columns at once using pd.concat(axis=1) instead. To get a de-fragmented frame, use `newframe = frame.copy()`\n",
      "  sea_pivot[column] = False\n",
      "C:\\Users\\ITSC\\AppData\\Local\\Temp\\ipykernel_15928\\3551806113.py:2: PerformanceWarning: DataFrame is highly fragmented.  This is usually the result of calling `frame.insert` many times, which has poor performance.  Consider joining all columns at once using pd.concat(axis=1) instead. To get a de-fragmented frame, use `newframe = frame.copy()`\n",
      "  sea_pivot[column] = False\n",
      "C:\\Users\\ITSC\\AppData\\Local\\Temp\\ipykernel_15928\\3551806113.py:2: PerformanceWarning: DataFrame is highly fragmented.  This is usually the result of calling `frame.insert` many times, which has poor performance.  Consider joining all columns at once using pd.concat(axis=1) instead. To get a de-fragmented frame, use `newframe = frame.copy()`\n",
      "  sea_pivot[column] = False\n",
      "C:\\Users\\ITSC\\AppData\\Local\\Temp\\ipykernel_15928\\3551806113.py:2: PerformanceWarning: DataFrame is highly fragmented.  This is usually the result of calling `frame.insert` many times, which has poor performance.  Consider joining all columns at once using pd.concat(axis=1) instead. To get a de-fragmented frame, use `newframe = frame.copy()`\n",
      "  sea_pivot[column] = False\n",
      "C:\\Users\\ITSC\\AppData\\Local\\Temp\\ipykernel_15928\\3551806113.py:2: PerformanceWarning: DataFrame is highly fragmented.  This is usually the result of calling `frame.insert` many times, which has poor performance.  Consider joining all columns at once using pd.concat(axis=1) instead. To get a de-fragmented frame, use `newframe = frame.copy()`\n",
      "  sea_pivot[column] = False\n",
      "C:\\Users\\ITSC\\AppData\\Local\\Temp\\ipykernel_15928\\3551806113.py:2: PerformanceWarning: DataFrame is highly fragmented.  This is usually the result of calling `frame.insert` many times, which has poor performance.  Consider joining all columns at once using pd.concat(axis=1) instead. To get a de-fragmented frame, use `newframe = frame.copy()`\n",
      "  sea_pivot[column] = False\n",
      "C:\\Users\\ITSC\\AppData\\Local\\Temp\\ipykernel_15928\\3551806113.py:2: PerformanceWarning: DataFrame is highly fragmented.  This is usually the result of calling `frame.insert` many times, which has poor performance.  Consider joining all columns at once using pd.concat(axis=1) instead. To get a de-fragmented frame, use `newframe = frame.copy()`\n",
      "  sea_pivot[column] = False\n",
      "C:\\Users\\ITSC\\AppData\\Local\\Temp\\ipykernel_15928\\3551806113.py:2: PerformanceWarning: DataFrame is highly fragmented.  This is usually the result of calling `frame.insert` many times, which has poor performance.  Consider joining all columns at once using pd.concat(axis=1) instead. To get a de-fragmented frame, use `newframe = frame.copy()`\n",
      "  sea_pivot[column] = False\n",
      "C:\\Users\\ITSC\\AppData\\Local\\Temp\\ipykernel_15928\\3551806113.py:2: PerformanceWarning: DataFrame is highly fragmented.  This is usually the result of calling `frame.insert` many times, which has poor performance.  Consider joining all columns at once using pd.concat(axis=1) instead. To get a de-fragmented frame, use `newframe = frame.copy()`\n",
      "  sea_pivot[column] = False\n",
      "C:\\Users\\ITSC\\AppData\\Local\\Temp\\ipykernel_15928\\3551806113.py:2: PerformanceWarning: DataFrame is highly fragmented.  This is usually the result of calling `frame.insert` many times, which has poor performance.  Consider joining all columns at once using pd.concat(axis=1) instead. To get a de-fragmented frame, use `newframe = frame.copy()`\n",
      "  sea_pivot[column] = False\n",
      "C:\\Users\\ITSC\\AppData\\Local\\Temp\\ipykernel_15928\\3551806113.py:2: PerformanceWarning: DataFrame is highly fragmented.  This is usually the result of calling `frame.insert` many times, which has poor performance.  Consider joining all columns at once using pd.concat(axis=1) instead. To get a de-fragmented frame, use `newframe = frame.copy()`\n",
      "  sea_pivot[column] = False\n",
      "C:\\Users\\ITSC\\AppData\\Local\\Temp\\ipykernel_15928\\3551806113.py:2: PerformanceWarning: DataFrame is highly fragmented.  This is usually the result of calling `frame.insert` many times, which has poor performance.  Consider joining all columns at once using pd.concat(axis=1) instead. To get a de-fragmented frame, use `newframe = frame.copy()`\n",
      "  sea_pivot[column] = False\n",
      "C:\\Users\\ITSC\\AppData\\Local\\Temp\\ipykernel_15928\\3551806113.py:2: PerformanceWarning: DataFrame is highly fragmented.  This is usually the result of calling `frame.insert` many times, which has poor performance.  Consider joining all columns at once using pd.concat(axis=1) instead. To get a de-fragmented frame, use `newframe = frame.copy()`\n",
      "  sea_pivot[column] = False\n",
      "C:\\Users\\ITSC\\AppData\\Local\\Temp\\ipykernel_15928\\3551806113.py:2: PerformanceWarning: DataFrame is highly fragmented.  This is usually the result of calling `frame.insert` many times, which has poor performance.  Consider joining all columns at once using pd.concat(axis=1) instead. To get a de-fragmented frame, use `newframe = frame.copy()`\n",
      "  sea_pivot[column] = False\n",
      "C:\\Users\\ITSC\\AppData\\Local\\Temp\\ipykernel_15928\\3551806113.py:2: PerformanceWarning: DataFrame is highly fragmented.  This is usually the result of calling `frame.insert` many times, which has poor performance.  Consider joining all columns at once using pd.concat(axis=1) instead. To get a de-fragmented frame, use `newframe = frame.copy()`\n",
      "  sea_pivot[column] = False\n",
      "C:\\Users\\ITSC\\AppData\\Local\\Temp\\ipykernel_15928\\3551806113.py:2: PerformanceWarning: DataFrame is highly fragmented.  This is usually the result of calling `frame.insert` many times, which has poor performance.  Consider joining all columns at once using pd.concat(axis=1) instead. To get a de-fragmented frame, use `newframe = frame.copy()`\n",
      "  sea_pivot[column] = False\n",
      "C:\\Users\\ITSC\\AppData\\Local\\Temp\\ipykernel_15928\\3551806113.py:2: PerformanceWarning: DataFrame is highly fragmented.  This is usually the result of calling `frame.insert` many times, which has poor performance.  Consider joining all columns at once using pd.concat(axis=1) instead. To get a de-fragmented frame, use `newframe = frame.copy()`\n",
      "  sea_pivot[column] = False\n",
      "C:\\Users\\ITSC\\AppData\\Local\\Temp\\ipykernel_15928\\3551806113.py:2: PerformanceWarning: DataFrame is highly fragmented.  This is usually the result of calling `frame.insert` many times, which has poor performance.  Consider joining all columns at once using pd.concat(axis=1) instead. To get a de-fragmented frame, use `newframe = frame.copy()`\n",
      "  sea_pivot[column] = False\n",
      "C:\\Users\\ITSC\\AppData\\Local\\Temp\\ipykernel_15928\\3551806113.py:2: PerformanceWarning: DataFrame is highly fragmented.  This is usually the result of calling `frame.insert` many times, which has poor performance.  Consider joining all columns at once using pd.concat(axis=1) instead. To get a de-fragmented frame, use `newframe = frame.copy()`\n",
      "  sea_pivot[column] = False\n",
      "C:\\Users\\ITSC\\AppData\\Local\\Temp\\ipykernel_15928\\3551806113.py:2: PerformanceWarning: DataFrame is highly fragmented.  This is usually the result of calling `frame.insert` many times, which has poor performance.  Consider joining all columns at once using pd.concat(axis=1) instead. To get a de-fragmented frame, use `newframe = frame.copy()`\n",
      "  sea_pivot[column] = False\n",
      "C:\\Users\\ITSC\\AppData\\Local\\Temp\\ipykernel_15928\\3551806113.py:2: PerformanceWarning: DataFrame is highly fragmented.  This is usually the result of calling `frame.insert` many times, which has poor performance.  Consider joining all columns at once using pd.concat(axis=1) instead. To get a de-fragmented frame, use `newframe = frame.copy()`\n",
      "  sea_pivot[column] = False\n",
      "C:\\Users\\ITSC\\AppData\\Local\\Temp\\ipykernel_15928\\3551806113.py:2: PerformanceWarning: DataFrame is highly fragmented.  This is usually the result of calling `frame.insert` many times, which has poor performance.  Consider joining all columns at once using pd.concat(axis=1) instead. To get a de-fragmented frame, use `newframe = frame.copy()`\n",
      "  sea_pivot[column] = False\n",
      "C:\\Users\\ITSC\\AppData\\Local\\Temp\\ipykernel_15928\\3551806113.py:2: PerformanceWarning: DataFrame is highly fragmented.  This is usually the result of calling `frame.insert` many times, which has poor performance.  Consider joining all columns at once using pd.concat(axis=1) instead. To get a de-fragmented frame, use `newframe = frame.copy()`\n",
      "  sea_pivot[column] = False\n",
      "C:\\Users\\ITSC\\AppData\\Local\\Temp\\ipykernel_15928\\3551806113.py:2: PerformanceWarning: DataFrame is highly fragmented.  This is usually the result of calling `frame.insert` many times, which has poor performance.  Consider joining all columns at once using pd.concat(axis=1) instead. To get a de-fragmented frame, use `newframe = frame.copy()`\n",
      "  sea_pivot[column] = False\n",
      "C:\\Users\\ITSC\\AppData\\Local\\Temp\\ipykernel_15928\\3551806113.py:2: PerformanceWarning: DataFrame is highly fragmented.  This is usually the result of calling `frame.insert` many times, which has poor performance.  Consider joining all columns at once using pd.concat(axis=1) instead. To get a de-fragmented frame, use `newframe = frame.copy()`\n",
      "  sea_pivot[column] = False\n",
      "C:\\Users\\ITSC\\AppData\\Local\\Temp\\ipykernel_15928\\3551806113.py:2: PerformanceWarning: DataFrame is highly fragmented.  This is usually the result of calling `frame.insert` many times, which has poor performance.  Consider joining all columns at once using pd.concat(axis=1) instead. To get a de-fragmented frame, use `newframe = frame.copy()`\n",
      "  sea_pivot[column] = False\n",
      "C:\\Users\\ITSC\\AppData\\Local\\Temp\\ipykernel_15928\\3551806113.py:2: PerformanceWarning: DataFrame is highly fragmented.  This is usually the result of calling `frame.insert` many times, which has poor performance.  Consider joining all columns at once using pd.concat(axis=1) instead. To get a de-fragmented frame, use `newframe = frame.copy()`\n",
      "  sea_pivot[column] = False\n",
      "C:\\Users\\ITSC\\AppData\\Local\\Temp\\ipykernel_15928\\3551806113.py:2: PerformanceWarning: DataFrame is highly fragmented.  This is usually the result of calling `frame.insert` many times, which has poor performance.  Consider joining all columns at once using pd.concat(axis=1) instead. To get a de-fragmented frame, use `newframe = frame.copy()`\n",
      "  sea_pivot[column] = False\n",
      "C:\\Users\\ITSC\\AppData\\Local\\Temp\\ipykernel_15928\\3551806113.py:2: PerformanceWarning: DataFrame is highly fragmented.  This is usually the result of calling `frame.insert` many times, which has poor performance.  Consider joining all columns at once using pd.concat(axis=1) instead. To get a de-fragmented frame, use `newframe = frame.copy()`\n",
      "  sea_pivot[column] = False\n",
      "C:\\Users\\ITSC\\AppData\\Local\\Temp\\ipykernel_15928\\3551806113.py:2: PerformanceWarning: DataFrame is highly fragmented.  This is usually the result of calling `frame.insert` many times, which has poor performance.  Consider joining all columns at once using pd.concat(axis=1) instead. To get a de-fragmented frame, use `newframe = frame.copy()`\n",
      "  sea_pivot[column] = False\n",
      "C:\\Users\\ITSC\\AppData\\Local\\Temp\\ipykernel_15928\\3551806113.py:2: PerformanceWarning: DataFrame is highly fragmented.  This is usually the result of calling `frame.insert` many times, which has poor performance.  Consider joining all columns at once using pd.concat(axis=1) instead. To get a de-fragmented frame, use `newframe = frame.copy()`\n",
      "  sea_pivot[column] = False\n",
      "C:\\Users\\ITSC\\AppData\\Local\\Temp\\ipykernel_15928\\3551806113.py:2: PerformanceWarning: DataFrame is highly fragmented.  This is usually the result of calling `frame.insert` many times, which has poor performance.  Consider joining all columns at once using pd.concat(axis=1) instead. To get a de-fragmented frame, use `newframe = frame.copy()`\n",
      "  sea_pivot[column] = False\n",
      "C:\\Users\\ITSC\\AppData\\Local\\Temp\\ipykernel_15928\\3551806113.py:2: PerformanceWarning: DataFrame is highly fragmented.  This is usually the result of calling `frame.insert` many times, which has poor performance.  Consider joining all columns at once using pd.concat(axis=1) instead. To get a de-fragmented frame, use `newframe = frame.copy()`\n",
      "  sea_pivot[column] = False\n",
      "C:\\Users\\ITSC\\AppData\\Local\\Temp\\ipykernel_15928\\3551806113.py:2: PerformanceWarning: DataFrame is highly fragmented.  This is usually the result of calling `frame.insert` many times, which has poor performance.  Consider joining all columns at once using pd.concat(axis=1) instead. To get a de-fragmented frame, use `newframe = frame.copy()`\n",
      "  sea_pivot[column] = False\n",
      "C:\\Users\\ITSC\\AppData\\Local\\Temp\\ipykernel_15928\\3551806113.py:2: PerformanceWarning: DataFrame is highly fragmented.  This is usually the result of calling `frame.insert` many times, which has poor performance.  Consider joining all columns at once using pd.concat(axis=1) instead. To get a de-fragmented frame, use `newframe = frame.copy()`\n",
      "  sea_pivot[column] = False\n",
      "C:\\Users\\ITSC\\AppData\\Local\\Temp\\ipykernel_15928\\3551806113.py:2: PerformanceWarning: DataFrame is highly fragmented.  This is usually the result of calling `frame.insert` many times, which has poor performance.  Consider joining all columns at once using pd.concat(axis=1) instead. To get a de-fragmented frame, use `newframe = frame.copy()`\n",
      "  sea_pivot[column] = False\n",
      "C:\\Users\\ITSC\\AppData\\Local\\Temp\\ipykernel_15928\\3551806113.py:2: PerformanceWarning: DataFrame is highly fragmented.  This is usually the result of calling `frame.insert` many times, which has poor performance.  Consider joining all columns at once using pd.concat(axis=1) instead. To get a de-fragmented frame, use `newframe = frame.copy()`\n",
      "  sea_pivot[column] = False\n",
      "C:\\Users\\ITSC\\AppData\\Local\\Temp\\ipykernel_15928\\3551806113.py:2: PerformanceWarning: DataFrame is highly fragmented.  This is usually the result of calling `frame.insert` many times, which has poor performance.  Consider joining all columns at once using pd.concat(axis=1) instead. To get a de-fragmented frame, use `newframe = frame.copy()`\n",
      "  sea_pivot[column] = False\n",
      "C:\\Users\\ITSC\\AppData\\Local\\Temp\\ipykernel_15928\\3551806113.py:2: PerformanceWarning: DataFrame is highly fragmented.  This is usually the result of calling `frame.insert` many times, which has poor performance.  Consider joining all columns at once using pd.concat(axis=1) instead. To get a de-fragmented frame, use `newframe = frame.copy()`\n",
      "  sea_pivot[column] = False\n",
      "C:\\Users\\ITSC\\AppData\\Local\\Temp\\ipykernel_15928\\3551806113.py:2: PerformanceWarning: DataFrame is highly fragmented.  This is usually the result of calling `frame.insert` many times, which has poor performance.  Consider joining all columns at once using pd.concat(axis=1) instead. To get a de-fragmented frame, use `newframe = frame.copy()`\n",
      "  sea_pivot[column] = False\n",
      "C:\\Users\\ITSC\\AppData\\Local\\Temp\\ipykernel_15928\\3551806113.py:2: PerformanceWarning: DataFrame is highly fragmented.  This is usually the result of calling `frame.insert` many times, which has poor performance.  Consider joining all columns at once using pd.concat(axis=1) instead. To get a de-fragmented frame, use `newframe = frame.copy()`\n",
      "  sea_pivot[column] = False\n",
      "C:\\Users\\ITSC\\AppData\\Local\\Temp\\ipykernel_15928\\3551806113.py:2: PerformanceWarning: DataFrame is highly fragmented.  This is usually the result of calling `frame.insert` many times, which has poor performance.  Consider joining all columns at once using pd.concat(axis=1) instead. To get a de-fragmented frame, use `newframe = frame.copy()`\n",
      "  sea_pivot[column] = False\n",
      "C:\\Users\\ITSC\\AppData\\Local\\Temp\\ipykernel_15928\\3551806113.py:2: PerformanceWarning: DataFrame is highly fragmented.  This is usually the result of calling `frame.insert` many times, which has poor performance.  Consider joining all columns at once using pd.concat(axis=1) instead. To get a de-fragmented frame, use `newframe = frame.copy()`\n",
      "  sea_pivot[column] = False\n",
      "C:\\Users\\ITSC\\AppData\\Local\\Temp\\ipykernel_15928\\3551806113.py:2: PerformanceWarning: DataFrame is highly fragmented.  This is usually the result of calling `frame.insert` many times, which has poor performance.  Consider joining all columns at once using pd.concat(axis=1) instead. To get a de-fragmented frame, use `newframe = frame.copy()`\n",
      "  sea_pivot[column] = False\n",
      "C:\\Users\\ITSC\\AppData\\Local\\Temp\\ipykernel_15928\\3551806113.py:2: PerformanceWarning: DataFrame is highly fragmented.  This is usually the result of calling `frame.insert` many times, which has poor performance.  Consider joining all columns at once using pd.concat(axis=1) instead. To get a de-fragmented frame, use `newframe = frame.copy()`\n",
      "  sea_pivot[column] = False\n",
      "C:\\Users\\ITSC\\AppData\\Local\\Temp\\ipykernel_15928\\3551806113.py:2: PerformanceWarning: DataFrame is highly fragmented.  This is usually the result of calling `frame.insert` many times, which has poor performance.  Consider joining all columns at once using pd.concat(axis=1) instead. To get a de-fragmented frame, use `newframe = frame.copy()`\n",
      "  sea_pivot[column] = False\n",
      "C:\\Users\\ITSC\\AppData\\Local\\Temp\\ipykernel_15928\\3551806113.py:2: PerformanceWarning: DataFrame is highly fragmented.  This is usually the result of calling `frame.insert` many times, which has poor performance.  Consider joining all columns at once using pd.concat(axis=1) instead. To get a de-fragmented frame, use `newframe = frame.copy()`\n",
      "  sea_pivot[column] = False\n",
      "C:\\Users\\ITSC\\AppData\\Local\\Temp\\ipykernel_15928\\3551806113.py:2: PerformanceWarning: DataFrame is highly fragmented.  This is usually the result of calling `frame.insert` many times, which has poor performance.  Consider joining all columns at once using pd.concat(axis=1) instead. To get a de-fragmented frame, use `newframe = frame.copy()`\n",
      "  sea_pivot[column] = False\n",
      "C:\\Users\\ITSC\\AppData\\Local\\Temp\\ipykernel_15928\\3551806113.py:2: PerformanceWarning: DataFrame is highly fragmented.  This is usually the result of calling `frame.insert` many times, which has poor performance.  Consider joining all columns at once using pd.concat(axis=1) instead. To get a de-fragmented frame, use `newframe = frame.copy()`\n",
      "  sea_pivot[column] = False\n",
      "C:\\Users\\ITSC\\AppData\\Local\\Temp\\ipykernel_15928\\3551806113.py:2: PerformanceWarning: DataFrame is highly fragmented.  This is usually the result of calling `frame.insert` many times, which has poor performance.  Consider joining all columns at once using pd.concat(axis=1) instead. To get a de-fragmented frame, use `newframe = frame.copy()`\n",
      "  sea_pivot[column] = False\n",
      "C:\\Users\\ITSC\\AppData\\Local\\Temp\\ipykernel_15928\\3551806113.py:2: PerformanceWarning: DataFrame is highly fragmented.  This is usually the result of calling `frame.insert` many times, which has poor performance.  Consider joining all columns at once using pd.concat(axis=1) instead. To get a de-fragmented frame, use `newframe = frame.copy()`\n",
      "  sea_pivot[column] = False\n",
      "C:\\Users\\ITSC\\AppData\\Local\\Temp\\ipykernel_15928\\3551806113.py:2: PerformanceWarning: DataFrame is highly fragmented.  This is usually the result of calling `frame.insert` many times, which has poor performance.  Consider joining all columns at once using pd.concat(axis=1) instead. To get a de-fragmented frame, use `newframe = frame.copy()`\n",
      "  sea_pivot[column] = False\n",
      "C:\\Users\\ITSC\\AppData\\Local\\Temp\\ipykernel_15928\\3551806113.py:2: PerformanceWarning: DataFrame is highly fragmented.  This is usually the result of calling `frame.insert` many times, which has poor performance.  Consider joining all columns at once using pd.concat(axis=1) instead. To get a de-fragmented frame, use `newframe = frame.copy()`\n",
      "  sea_pivot[column] = False\n",
      "C:\\Users\\ITSC\\AppData\\Local\\Temp\\ipykernel_15928\\3551806113.py:2: PerformanceWarning: DataFrame is highly fragmented.  This is usually the result of calling `frame.insert` many times, which has poor performance.  Consider joining all columns at once using pd.concat(axis=1) instead. To get a de-fragmented frame, use `newframe = frame.copy()`\n",
      "  sea_pivot[column] = False\n",
      "C:\\Users\\ITSC\\AppData\\Local\\Temp\\ipykernel_15928\\3551806113.py:2: PerformanceWarning: DataFrame is highly fragmented.  This is usually the result of calling `frame.insert` many times, which has poor performance.  Consider joining all columns at once using pd.concat(axis=1) instead. To get a de-fragmented frame, use `newframe = frame.copy()`\n",
      "  sea_pivot[column] = False\n",
      "C:\\Users\\ITSC\\AppData\\Local\\Temp\\ipykernel_15928\\3551806113.py:2: PerformanceWarning: DataFrame is highly fragmented.  This is usually the result of calling `frame.insert` many times, which has poor performance.  Consider joining all columns at once using pd.concat(axis=1) instead. To get a de-fragmented frame, use `newframe = frame.copy()`\n",
      "  sea_pivot[column] = False\n",
      "C:\\Users\\ITSC\\AppData\\Local\\Temp\\ipykernel_15928\\3551806113.py:2: PerformanceWarning: DataFrame is highly fragmented.  This is usually the result of calling `frame.insert` many times, which has poor performance.  Consider joining all columns at once using pd.concat(axis=1) instead. To get a de-fragmented frame, use `newframe = frame.copy()`\n",
      "  sea_pivot[column] = False\n",
      "C:\\Users\\ITSC\\AppData\\Local\\Temp\\ipykernel_15928\\3551806113.py:2: PerformanceWarning: DataFrame is highly fragmented.  This is usually the result of calling `frame.insert` many times, which has poor performance.  Consider joining all columns at once using pd.concat(axis=1) instead. To get a de-fragmented frame, use `newframe = frame.copy()`\n",
      "  sea_pivot[column] = False\n",
      "C:\\Users\\ITSC\\AppData\\Local\\Temp\\ipykernel_15928\\3551806113.py:2: PerformanceWarning: DataFrame is highly fragmented.  This is usually the result of calling `frame.insert` many times, which has poor performance.  Consider joining all columns at once using pd.concat(axis=1) instead. To get a de-fragmented frame, use `newframe = frame.copy()`\n",
      "  sea_pivot[column] = False\n",
      "C:\\Users\\ITSC\\AppData\\Local\\Temp\\ipykernel_15928\\3551806113.py:2: PerformanceWarning: DataFrame is highly fragmented.  This is usually the result of calling `frame.insert` many times, which has poor performance.  Consider joining all columns at once using pd.concat(axis=1) instead. To get a de-fragmented frame, use `newframe = frame.copy()`\n",
      "  sea_pivot[column] = False\n",
      "C:\\Users\\ITSC\\AppData\\Local\\Temp\\ipykernel_15928\\3551806113.py:2: PerformanceWarning: DataFrame is highly fragmented.  This is usually the result of calling `frame.insert` many times, which has poor performance.  Consider joining all columns at once using pd.concat(axis=1) instead. To get a de-fragmented frame, use `newframe = frame.copy()`\n",
      "  sea_pivot[column] = False\n",
      "C:\\Users\\ITSC\\AppData\\Local\\Temp\\ipykernel_15928\\3551806113.py:2: PerformanceWarning: DataFrame is highly fragmented.  This is usually the result of calling `frame.insert` many times, which has poor performance.  Consider joining all columns at once using pd.concat(axis=1) instead. To get a de-fragmented frame, use `newframe = frame.copy()`\n",
      "  sea_pivot[column] = False\n",
      "C:\\Users\\ITSC\\AppData\\Local\\Temp\\ipykernel_15928\\3551806113.py:2: PerformanceWarning: DataFrame is highly fragmented.  This is usually the result of calling `frame.insert` many times, which has poor performance.  Consider joining all columns at once using pd.concat(axis=1) instead. To get a de-fragmented frame, use `newframe = frame.copy()`\n",
      "  sea_pivot[column] = False\n",
      "C:\\Users\\ITSC\\AppData\\Local\\Temp\\ipykernel_15928\\3551806113.py:2: PerformanceWarning: DataFrame is highly fragmented.  This is usually the result of calling `frame.insert` many times, which has poor performance.  Consider joining all columns at once using pd.concat(axis=1) instead. To get a de-fragmented frame, use `newframe = frame.copy()`\n",
      "  sea_pivot[column] = False\n",
      "C:\\Users\\ITSC\\AppData\\Local\\Temp\\ipykernel_15928\\3551806113.py:2: PerformanceWarning: DataFrame is highly fragmented.  This is usually the result of calling `frame.insert` many times, which has poor performance.  Consider joining all columns at once using pd.concat(axis=1) instead. To get a de-fragmented frame, use `newframe = frame.copy()`\n",
      "  sea_pivot[column] = False\n",
      "C:\\Users\\ITSC\\AppData\\Local\\Temp\\ipykernel_15928\\3551806113.py:2: PerformanceWarning: DataFrame is highly fragmented.  This is usually the result of calling `frame.insert` many times, which has poor performance.  Consider joining all columns at once using pd.concat(axis=1) instead. To get a de-fragmented frame, use `newframe = frame.copy()`\n",
      "  sea_pivot[column] = False\n",
      "C:\\Users\\ITSC\\AppData\\Local\\Temp\\ipykernel_15928\\3551806113.py:2: PerformanceWarning: DataFrame is highly fragmented.  This is usually the result of calling `frame.insert` many times, which has poor performance.  Consider joining all columns at once using pd.concat(axis=1) instead. To get a de-fragmented frame, use `newframe = frame.copy()`\n",
      "  sea_pivot[column] = False\n",
      "C:\\Users\\ITSC\\AppData\\Local\\Temp\\ipykernel_15928\\3551806113.py:2: PerformanceWarning: DataFrame is highly fragmented.  This is usually the result of calling `frame.insert` many times, which has poor performance.  Consider joining all columns at once using pd.concat(axis=1) instead. To get a de-fragmented frame, use `newframe = frame.copy()`\n",
      "  sea_pivot[column] = False\n",
      "C:\\Users\\ITSC\\AppData\\Local\\Temp\\ipykernel_15928\\3551806113.py:2: PerformanceWarning: DataFrame is highly fragmented.  This is usually the result of calling `frame.insert` many times, which has poor performance.  Consider joining all columns at once using pd.concat(axis=1) instead. To get a de-fragmented frame, use `newframe = frame.copy()`\n",
      "  sea_pivot[column] = False\n",
      "C:\\Users\\ITSC\\AppData\\Local\\Temp\\ipykernel_15928\\3551806113.py:2: PerformanceWarning: DataFrame is highly fragmented.  This is usually the result of calling `frame.insert` many times, which has poor performance.  Consider joining all columns at once using pd.concat(axis=1) instead. To get a de-fragmented frame, use `newframe = frame.copy()`\n",
      "  sea_pivot[column] = False\n",
      "C:\\Users\\ITSC\\AppData\\Local\\Temp\\ipykernel_15928\\3551806113.py:2: PerformanceWarning: DataFrame is highly fragmented.  This is usually the result of calling `frame.insert` many times, which has poor performance.  Consider joining all columns at once using pd.concat(axis=1) instead. To get a de-fragmented frame, use `newframe = frame.copy()`\n",
      "  sea_pivot[column] = False\n",
      "C:\\Users\\ITSC\\AppData\\Local\\Temp\\ipykernel_15928\\3551806113.py:2: PerformanceWarning: DataFrame is highly fragmented.  This is usually the result of calling `frame.insert` many times, which has poor performance.  Consider joining all columns at once using pd.concat(axis=1) instead. To get a de-fragmented frame, use `newframe = frame.copy()`\n",
      "  sea_pivot[column] = False\n",
      "C:\\Users\\ITSC\\AppData\\Local\\Temp\\ipykernel_15928\\3551806113.py:2: PerformanceWarning: DataFrame is highly fragmented.  This is usually the result of calling `frame.insert` many times, which has poor performance.  Consider joining all columns at once using pd.concat(axis=1) instead. To get a de-fragmented frame, use `newframe = frame.copy()`\n",
      "  sea_pivot[column] = False\n",
      "C:\\Users\\ITSC\\AppData\\Local\\Temp\\ipykernel_15928\\3551806113.py:2: PerformanceWarning: DataFrame is highly fragmented.  This is usually the result of calling `frame.insert` many times, which has poor performance.  Consider joining all columns at once using pd.concat(axis=1) instead. To get a de-fragmented frame, use `newframe = frame.copy()`\n",
      "  sea_pivot[column] = False\n",
      "C:\\Users\\ITSC\\AppData\\Local\\Temp\\ipykernel_15928\\3551806113.py:2: PerformanceWarning: DataFrame is highly fragmented.  This is usually the result of calling `frame.insert` many times, which has poor performance.  Consider joining all columns at once using pd.concat(axis=1) instead. To get a de-fragmented frame, use `newframe = frame.copy()`\n",
      "  sea_pivot[column] = False\n",
      "C:\\Users\\ITSC\\AppData\\Local\\Temp\\ipykernel_15928\\3551806113.py:2: PerformanceWarning: DataFrame is highly fragmented.  This is usually the result of calling `frame.insert` many times, which has poor performance.  Consider joining all columns at once using pd.concat(axis=1) instead. To get a de-fragmented frame, use `newframe = frame.copy()`\n",
      "  sea_pivot[column] = False\n",
      "C:\\Users\\ITSC\\AppData\\Local\\Temp\\ipykernel_15928\\3551806113.py:2: PerformanceWarning: DataFrame is highly fragmented.  This is usually the result of calling `frame.insert` many times, which has poor performance.  Consider joining all columns at once using pd.concat(axis=1) instead. To get a de-fragmented frame, use `newframe = frame.copy()`\n",
      "  sea_pivot[column] = False\n",
      "C:\\Users\\ITSC\\AppData\\Local\\Temp\\ipykernel_15928\\3551806113.py:2: PerformanceWarning: DataFrame is highly fragmented.  This is usually the result of calling `frame.insert` many times, which has poor performance.  Consider joining all columns at once using pd.concat(axis=1) instead. To get a de-fragmented frame, use `newframe = frame.copy()`\n",
      "  sea_pivot[column] = False\n",
      "C:\\Users\\ITSC\\AppData\\Local\\Temp\\ipykernel_15928\\3551806113.py:2: PerformanceWarning: DataFrame is highly fragmented.  This is usually the result of calling `frame.insert` many times, which has poor performance.  Consider joining all columns at once using pd.concat(axis=1) instead. To get a de-fragmented frame, use `newframe = frame.copy()`\n",
      "  sea_pivot[column] = False\n",
      "C:\\Users\\ITSC\\AppData\\Local\\Temp\\ipykernel_15928\\3551806113.py:2: PerformanceWarning: DataFrame is highly fragmented.  This is usually the result of calling `frame.insert` many times, which has poor performance.  Consider joining all columns at once using pd.concat(axis=1) instead. To get a de-fragmented frame, use `newframe = frame.copy()`\n",
      "  sea_pivot[column] = False\n",
      "C:\\Users\\ITSC\\AppData\\Local\\Temp\\ipykernel_15928\\3551806113.py:2: PerformanceWarning: DataFrame is highly fragmented.  This is usually the result of calling `frame.insert` many times, which has poor performance.  Consider joining all columns at once using pd.concat(axis=1) instead. To get a de-fragmented frame, use `newframe = frame.copy()`\n",
      "  sea_pivot[column] = False\n"
     ]
    }
   ],
   "source": [
    "for column in sea_columns[~sea_columns.isin(sea_pivot.columns)]:\n",
    "    sea_pivot[column] = False"
   ]
  },
  {
   "cell_type": "code",
   "execution_count": 50,
   "id": "f08b69dd",
   "metadata": {},
   "outputs": [],
   "source": [
    "sea_pivot = sea_pivot.loc[:, sea_columns]"
   ]
  },
  {
   "cell_type": "code",
   "execution_count": 51,
   "id": "116fe05e",
   "metadata": {},
   "outputs": [
    {
     "data": {
      "text/plain": [
       "0"
      ]
     },
     "execution_count": 51,
     "metadata": {},
     "output_type": "execute_result"
    }
   ],
   "source": [
    "sum(sea_pivot.columns != sea_columns)"
   ]
  },
  {
   "cell_type": "code",
   "execution_count": 52,
   "id": "4a46535e",
   "metadata": {},
   "outputs": [
    {
     "data": {
      "text/plain": [
       "(48, 453)"
      ]
     },
     "execution_count": 52,
     "metadata": {},
     "output_type": "execute_result"
    }
   ],
   "source": [
    "sea_pivot.shape"
   ]
  },
  {
   "cell_type": "code",
   "execution_count": null,
   "id": "7276aa13",
   "metadata": {},
   "outputs": [],
   "source": []
  },
  {
   "cell_type": "markdown",
   "id": "4e8217ad",
   "metadata": {},
   "source": [
    "### 몽골 데이터 처리"
   ]
  },
  {
   "cell_type": "code",
   "execution_count": 53,
   "id": "50cab3a1",
   "metadata": {},
   "outputs": [],
   "source": [
    "mg_df = mg_df.drop([\"지점\", \"지점명\"], axis = 1)"
   ]
  },
  {
   "cell_type": "code",
   "execution_count": 54,
   "id": "9c89ac4c",
   "metadata": {},
   "outputs": [],
   "source": [
    "mg_df = mg_df.iloc[8:, :]"
   ]
  },
  {
   "cell_type": "code",
   "execution_count": 55,
   "id": "34c08349",
   "metadata": {},
   "outputs": [],
   "source": [
    "mg_df[\"풍향\"] = mg_df[\"풍향\"].map(lambda x: round(x, -1))"
   ]
  },
  {
   "cell_type": "code",
   "execution_count": 56,
   "id": "b76a184c",
   "metadata": {},
   "outputs": [],
   "source": [
    "mg_df = pd.concat([mg_df.drop(\"풍향\", axis = 1), pd.get_dummies(mg_df[\"풍향\"])], axis = 1)"
   ]
  },
  {
   "cell_type": "code",
   "execution_count": 57,
   "id": "c7c910f5",
   "metadata": {},
   "outputs": [],
   "source": [
    "mg_df = mg_df.set_index(\"일시\")"
   ]
  },
  {
   "cell_type": "code",
   "execution_count": 58,
   "id": "2b8bc24d",
   "metadata": {},
   "outputs": [],
   "source": [
    "mg_df.columns = mg_df.columns.map(lambda x: str(x))"
   ]
  },
  {
   "cell_type": "code",
   "execution_count": 59,
   "id": "d7e331c7",
   "metadata": {},
   "outputs": [
    {
     "data": {
      "text/plain": [
       "Index(['20.0', '40.0', '90.0', '110.0', '130.0', '140.0', '150.0', '160.0',\n",
       "       '170.0', '200.0', '210.0', '220.0', '240.0', '260.0', '290.0', '310.0'],\n",
       "      dtype='object')"
      ]
     },
     "execution_count": 59,
     "metadata": {},
     "output_type": "execute_result"
    }
   ],
   "source": [
    "mg_columns[~mg_columns.isin(mg_df.columns)]"
   ]
  },
  {
   "cell_type": "code",
   "execution_count": 60,
   "id": "fc5f7094",
   "metadata": {},
   "outputs": [],
   "source": [
    "for column in mg_columns[~mg_columns.isin(mg_df.columns)]:\n",
    "    mg_df[column] = False"
   ]
  },
  {
   "cell_type": "code",
   "execution_count": 61,
   "id": "45fb9d93",
   "metadata": {},
   "outputs": [],
   "source": [
    "mg_df = mg_df.loc[:, mg_columns]"
   ]
  },
  {
   "cell_type": "code",
   "execution_count": 62,
   "id": "9823eb2b",
   "metadata": {},
   "outputs": [
    {
     "data": {
      "text/plain": [
       "0"
      ]
     },
     "execution_count": 62,
     "metadata": {},
     "output_type": "execute_result"
    }
   ],
   "source": [
    "sum(mg_df.columns != mg_columns)"
   ]
  },
  {
   "cell_type": "code",
   "execution_count": 63,
   "id": "e4db6bbe",
   "metadata": {},
   "outputs": [
    {
     "data": {
      "text/plain": [
       "(48, 42)"
      ]
     },
     "execution_count": 63,
     "metadata": {},
     "output_type": "execute_result"
    }
   ],
   "source": [
    "mg_df.shape"
   ]
  },
  {
   "cell_type": "code",
   "execution_count": null,
   "id": "bef41a18",
   "metadata": {},
   "outputs": [],
   "source": []
  },
  {
   "cell_type": "code",
   "execution_count": 64,
   "id": "e8c10c8a",
   "metadata": {},
   "outputs": [],
   "source": [
    "cn_dust = cn_dust.loc[:, ['베이징(PM25)', '광저우(PM25)', '난징(PM25)', '칭따오(PM25)', '상하이(PM25)',\n",
    "       '우루무치(PM25)', '우한(PM25)', '베이징(PM10)', '광저우(PM10)', '난징(PM10)',\n",
    "       '칭따오(PM10)', '상하이(PM10)', '우루무치(PM10)', '우한(PM10)'] ]"
   ]
  },
  {
   "cell_type": "code",
   "execution_count": 65,
   "id": "991c036f",
   "metadata": {},
   "outputs": [],
   "source": [
    "cn_dust.columns = cn_dust_columns"
   ]
  },
  {
   "cell_type": "code",
   "execution_count": 66,
   "id": "d93b5a74",
   "metadata": {},
   "outputs": [],
   "source": [
    "cn_dust.index = pd.date_range(start = \"2024-06-06\", end = \"2024-06-11\").date"
   ]
  },
  {
   "cell_type": "code",
   "execution_count": null,
   "id": "abf9930f",
   "metadata": {},
   "outputs": [],
   "source": []
  },
  {
   "cell_type": "code",
   "execution_count": 67,
   "id": "a473356f",
   "metadata": {},
   "outputs": [],
   "source": [
    "final_df = pd.concat([kr_pivot, cn_pivot, sea_pivot, mg_df], axis = 1)"
   ]
  },
  {
   "cell_type": "code",
   "execution_count": 68,
   "id": "91be53a1",
   "metadata": {},
   "outputs": [],
   "source": [
    "final_df.index = final_df.index.map(lambda x: datetime.strptime(x, \"%Y-%m-%d %H:%M:%S\"))"
   ]
  },
  {
   "cell_type": "code",
   "execution_count": 69,
   "id": "31a8bc34",
   "metadata": {},
   "outputs": [
    {
     "ename": "KeyError",
     "evalue": "datetime.date(2024, 6, 12)",
     "output_type": "error",
     "traceback": [
      "\u001b[1;31m---------------------------------------------------------------------------\u001b[0m",
      "\u001b[1;31mKeyError\u001b[0m                                  Traceback (most recent call last)",
      "File \u001b[1;32mC:\\ProgramData\\anaconda3\\Lib\\site-packages\\pandas\\core\\indexes\\base.py:3791\u001b[0m, in \u001b[0;36mIndex.get_loc\u001b[1;34m(self, key)\u001b[0m\n\u001b[0;32m   3790\u001b[0m \u001b[38;5;28;01mtry\u001b[39;00m:\n\u001b[1;32m-> 3791\u001b[0m     \u001b[38;5;28;01mreturn\u001b[39;00m \u001b[38;5;28mself\u001b[39m\u001b[38;5;241m.\u001b[39m_engine\u001b[38;5;241m.\u001b[39mget_loc(casted_key)\n\u001b[0;32m   3792\u001b[0m \u001b[38;5;28;01mexcept\u001b[39;00m \u001b[38;5;167;01mKeyError\u001b[39;00m \u001b[38;5;28;01mas\u001b[39;00m err:\n",
      "File \u001b[1;32mindex.pyx:152\u001b[0m, in \u001b[0;36mpandas._libs.index.IndexEngine.get_loc\u001b[1;34m()\u001b[0m\n",
      "File \u001b[1;32mindex.pyx:181\u001b[0m, in \u001b[0;36mpandas._libs.index.IndexEngine.get_loc\u001b[1;34m()\u001b[0m\n",
      "File \u001b[1;32mpandas\\_libs\\hashtable_class_helper.pxi:7080\u001b[0m, in \u001b[0;36mpandas._libs.hashtable.PyObjectHashTable.get_item\u001b[1;34m()\u001b[0m\n",
      "File \u001b[1;32mpandas\\_libs\\hashtable_class_helper.pxi:7088\u001b[0m, in \u001b[0;36mpandas._libs.hashtable.PyObjectHashTable.get_item\u001b[1;34m()\u001b[0m\n",
      "\u001b[1;31mKeyError\u001b[0m: datetime.date(2024, 6, 12)",
      "\nThe above exception was the direct cause of the following exception:\n",
      "\u001b[1;31mKeyError\u001b[0m                                  Traceback (most recent call last)",
      "Cell \u001b[1;32mIn[69], line 10\u001b[0m\n\u001b[0;32m      8\u001b[0m column \u001b[38;5;241m=\u001b[39m cn_dust\u001b[38;5;241m.\u001b[39mcolumns\n\u001b[0;32m      9\u001b[0m \u001b[38;5;66;03m# 데이터 입력\u001b[39;00m\n\u001b[1;32m---> 10\u001b[0m final_df\u001b[38;5;241m.\u001b[39mloc[datetime, column] \u001b[38;5;241m=\u001b[39m cn_dust\u001b[38;5;241m.\u001b[39mloc[date, :]\n",
      "File \u001b[1;32mC:\\ProgramData\\anaconda3\\Lib\\site-packages\\pandas\\core\\indexing.py:1147\u001b[0m, in \u001b[0;36m_LocationIndexer.__getitem__\u001b[1;34m(self, key)\u001b[0m\n\u001b[0;32m   1145\u001b[0m     \u001b[38;5;28;01mif\u001b[39;00m \u001b[38;5;28mself\u001b[39m\u001b[38;5;241m.\u001b[39m_is_scalar_access(key):\n\u001b[0;32m   1146\u001b[0m         \u001b[38;5;28;01mreturn\u001b[39;00m \u001b[38;5;28mself\u001b[39m\u001b[38;5;241m.\u001b[39mobj\u001b[38;5;241m.\u001b[39m_get_value(\u001b[38;5;241m*\u001b[39mkey, takeable\u001b[38;5;241m=\u001b[39m\u001b[38;5;28mself\u001b[39m\u001b[38;5;241m.\u001b[39m_takeable)\n\u001b[1;32m-> 1147\u001b[0m     \u001b[38;5;28;01mreturn\u001b[39;00m \u001b[38;5;28mself\u001b[39m\u001b[38;5;241m.\u001b[39m_getitem_tuple(key)\n\u001b[0;32m   1148\u001b[0m \u001b[38;5;28;01melse\u001b[39;00m:\n\u001b[0;32m   1149\u001b[0m     \u001b[38;5;66;03m# we by definition only have the 0th axis\u001b[39;00m\n\u001b[0;32m   1150\u001b[0m     axis \u001b[38;5;241m=\u001b[39m \u001b[38;5;28mself\u001b[39m\u001b[38;5;241m.\u001b[39maxis \u001b[38;5;129;01mor\u001b[39;00m \u001b[38;5;241m0\u001b[39m\n",
      "File \u001b[1;32mC:\\ProgramData\\anaconda3\\Lib\\site-packages\\pandas\\core\\indexing.py:1330\u001b[0m, in \u001b[0;36m_LocIndexer._getitem_tuple\u001b[1;34m(self, tup)\u001b[0m\n\u001b[0;32m   1328\u001b[0m \u001b[38;5;28;01mwith\u001b[39;00m suppress(IndexingError):\n\u001b[0;32m   1329\u001b[0m     tup \u001b[38;5;241m=\u001b[39m \u001b[38;5;28mself\u001b[39m\u001b[38;5;241m.\u001b[39m_expand_ellipsis(tup)\n\u001b[1;32m-> 1330\u001b[0m     \u001b[38;5;28;01mreturn\u001b[39;00m \u001b[38;5;28mself\u001b[39m\u001b[38;5;241m.\u001b[39m_getitem_lowerdim(tup)\n\u001b[0;32m   1332\u001b[0m \u001b[38;5;66;03m# no multi-index, so validate all of the indexers\u001b[39;00m\n\u001b[0;32m   1333\u001b[0m tup \u001b[38;5;241m=\u001b[39m \u001b[38;5;28mself\u001b[39m\u001b[38;5;241m.\u001b[39m_validate_tuple_indexer(tup)\n",
      "File \u001b[1;32mC:\\ProgramData\\anaconda3\\Lib\\site-packages\\pandas\\core\\indexing.py:1039\u001b[0m, in \u001b[0;36m_LocationIndexer._getitem_lowerdim\u001b[1;34m(self, tup)\u001b[0m\n\u001b[0;32m   1035\u001b[0m \u001b[38;5;28;01mfor\u001b[39;00m i, key \u001b[38;5;129;01min\u001b[39;00m \u001b[38;5;28menumerate\u001b[39m(tup):\n\u001b[0;32m   1036\u001b[0m     \u001b[38;5;28;01mif\u001b[39;00m is_label_like(key):\n\u001b[0;32m   1037\u001b[0m         \u001b[38;5;66;03m# We don't need to check for tuples here because those are\u001b[39;00m\n\u001b[0;32m   1038\u001b[0m         \u001b[38;5;66;03m#  caught by the _is_nested_tuple_indexer check above.\u001b[39;00m\n\u001b[1;32m-> 1039\u001b[0m         section \u001b[38;5;241m=\u001b[39m \u001b[38;5;28mself\u001b[39m\u001b[38;5;241m.\u001b[39m_getitem_axis(key, axis\u001b[38;5;241m=\u001b[39mi)\n\u001b[0;32m   1041\u001b[0m         \u001b[38;5;66;03m# We should never have a scalar section here, because\u001b[39;00m\n\u001b[0;32m   1042\u001b[0m         \u001b[38;5;66;03m#  _getitem_lowerdim is only called after a check for\u001b[39;00m\n\u001b[0;32m   1043\u001b[0m         \u001b[38;5;66;03m#  is_scalar_access, which that would be.\u001b[39;00m\n\u001b[0;32m   1044\u001b[0m         \u001b[38;5;28;01mif\u001b[39;00m section\u001b[38;5;241m.\u001b[39mndim \u001b[38;5;241m==\u001b[39m \u001b[38;5;28mself\u001b[39m\u001b[38;5;241m.\u001b[39mndim:\n\u001b[0;32m   1045\u001b[0m             \u001b[38;5;66;03m# we're in the middle of slicing through a MultiIndex\u001b[39;00m\n\u001b[0;32m   1046\u001b[0m             \u001b[38;5;66;03m# revise the key wrt to `section` by inserting an _NS\u001b[39;00m\n",
      "File \u001b[1;32mC:\\ProgramData\\anaconda3\\Lib\\site-packages\\pandas\\core\\indexing.py:1393\u001b[0m, in \u001b[0;36m_LocIndexer._getitem_axis\u001b[1;34m(self, key, axis)\u001b[0m\n\u001b[0;32m   1391\u001b[0m \u001b[38;5;66;03m# fall thru to straight lookup\u001b[39;00m\n\u001b[0;32m   1392\u001b[0m \u001b[38;5;28mself\u001b[39m\u001b[38;5;241m.\u001b[39m_validate_key(key, axis)\n\u001b[1;32m-> 1393\u001b[0m \u001b[38;5;28;01mreturn\u001b[39;00m \u001b[38;5;28mself\u001b[39m\u001b[38;5;241m.\u001b[39m_get_label(key, axis\u001b[38;5;241m=\u001b[39maxis)\n",
      "File \u001b[1;32mC:\\ProgramData\\anaconda3\\Lib\\site-packages\\pandas\\core\\indexing.py:1343\u001b[0m, in \u001b[0;36m_LocIndexer._get_label\u001b[1;34m(self, label, axis)\u001b[0m\n\u001b[0;32m   1341\u001b[0m \u001b[38;5;28;01mdef\u001b[39;00m \u001b[38;5;21m_get_label\u001b[39m(\u001b[38;5;28mself\u001b[39m, label, axis: AxisInt):\n\u001b[0;32m   1342\u001b[0m     \u001b[38;5;66;03m# GH#5567 this will fail if the label is not present in the axis.\u001b[39;00m\n\u001b[1;32m-> 1343\u001b[0m     \u001b[38;5;28;01mreturn\u001b[39;00m \u001b[38;5;28mself\u001b[39m\u001b[38;5;241m.\u001b[39mobj\u001b[38;5;241m.\u001b[39mxs(label, axis\u001b[38;5;241m=\u001b[39maxis)\n",
      "File \u001b[1;32mC:\\ProgramData\\anaconda3\\Lib\\site-packages\\pandas\\core\\generic.py:4236\u001b[0m, in \u001b[0;36mNDFrame.xs\u001b[1;34m(self, key, axis, level, drop_level)\u001b[0m\n\u001b[0;32m   4234\u001b[0m             new_index \u001b[38;5;241m=\u001b[39m index[loc]\n\u001b[0;32m   4235\u001b[0m \u001b[38;5;28;01melse\u001b[39;00m:\n\u001b[1;32m-> 4236\u001b[0m     loc \u001b[38;5;241m=\u001b[39m index\u001b[38;5;241m.\u001b[39mget_loc(key)\n\u001b[0;32m   4238\u001b[0m     \u001b[38;5;28;01mif\u001b[39;00m \u001b[38;5;28misinstance\u001b[39m(loc, np\u001b[38;5;241m.\u001b[39mndarray):\n\u001b[0;32m   4239\u001b[0m         \u001b[38;5;28;01mif\u001b[39;00m loc\u001b[38;5;241m.\u001b[39mdtype \u001b[38;5;241m==\u001b[39m np\u001b[38;5;241m.\u001b[39mbool_:\n",
      "File \u001b[1;32mC:\\ProgramData\\anaconda3\\Lib\\site-packages\\pandas\\core\\indexes\\base.py:3798\u001b[0m, in \u001b[0;36mIndex.get_loc\u001b[1;34m(self, key)\u001b[0m\n\u001b[0;32m   3793\u001b[0m     \u001b[38;5;28;01mif\u001b[39;00m \u001b[38;5;28misinstance\u001b[39m(casted_key, \u001b[38;5;28mslice\u001b[39m) \u001b[38;5;129;01mor\u001b[39;00m (\n\u001b[0;32m   3794\u001b[0m         \u001b[38;5;28misinstance\u001b[39m(casted_key, abc\u001b[38;5;241m.\u001b[39mIterable)\n\u001b[0;32m   3795\u001b[0m         \u001b[38;5;129;01mand\u001b[39;00m \u001b[38;5;28many\u001b[39m(\u001b[38;5;28misinstance\u001b[39m(x, \u001b[38;5;28mslice\u001b[39m) \u001b[38;5;28;01mfor\u001b[39;00m x \u001b[38;5;129;01min\u001b[39;00m casted_key)\n\u001b[0;32m   3796\u001b[0m     ):\n\u001b[0;32m   3797\u001b[0m         \u001b[38;5;28;01mraise\u001b[39;00m InvalidIndexError(key)\n\u001b[1;32m-> 3798\u001b[0m     \u001b[38;5;28;01mraise\u001b[39;00m \u001b[38;5;167;01mKeyError\u001b[39;00m(key) \u001b[38;5;28;01mfrom\u001b[39;00m \u001b[38;5;21;01merr\u001b[39;00m\n\u001b[0;32m   3799\u001b[0m \u001b[38;5;28;01mexcept\u001b[39;00m \u001b[38;5;167;01mTypeError\u001b[39;00m:\n\u001b[0;32m   3800\u001b[0m     \u001b[38;5;66;03m# If we have a listlike key, _check_indexing_error will raise\u001b[39;00m\n\u001b[0;32m   3801\u001b[0m     \u001b[38;5;66;03m#  InvalidIndexError. Otherwise we fall through and re-raise\u001b[39;00m\n\u001b[0;32m   3802\u001b[0m     \u001b[38;5;66;03m#  the TypeError.\u001b[39;00m\n\u001b[0;32m   3803\u001b[0m     \u001b[38;5;28mself\u001b[39m\u001b[38;5;241m.\u001b[39m_check_indexing_error(key)\n",
      "\u001b[1;31mKeyError\u001b[0m: datetime.date(2024, 6, 12)"
     ]
    }
   ],
   "source": [
    "# 각 날짜별로 미세먼지 농도 값 입력\n",
    "for i in range(len(final_df)):\n",
    "    # 미세먼지 데이터 특정을 위한 날짜값\n",
    "    date = final_df.index.date[i]\n",
    "    # concat_df에 입력할 위치를 특정하기 위한 datetime값\n",
    "    datetime = final_df.index[i]\n",
    "    # 데이터 특정, 입력 위치 특정을 위한 컬럼명 목록\n",
    "    column = cn_dust.columns\n",
    "    # 데이터 입력\n",
    "    final_df.loc[datetime, column] = cn_dust.loc[date, :]"
   ]
  },
  {
   "cell_type": "code",
   "execution_count": null,
   "id": "12035660",
   "metadata": {},
   "outputs": [],
   "source": [
    "final_df.shape"
   ]
  },
  {
   "cell_type": "code",
   "execution_count": null,
   "id": "d67bd046",
   "metadata": {},
   "outputs": [],
   "source": []
  },
  {
   "cell_type": "code",
   "execution_count": 69,
   "id": "3b2f3843",
   "metadata": {},
   "outputs": [],
   "source": [
    "# 월 / 시간 값을 범주화한 데이터프레임 생성\n",
    "datetime_df = pd.concat([pd.get_dummies(final_df.index.month, prefix = \"month\"), \n",
    "                         pd.get_dummies(final_df.index.hour, prefix = \"hour\")], axis = 1)"
   ]
  },
  {
   "cell_type": "code",
   "execution_count": 70,
   "id": "4876f39c",
   "metadata": {},
   "outputs": [],
   "source": [
    "for column in date_columns[~date_columns.isin(datetime_df.columns)]:\n",
    "    datetime_df[column] = False"
   ]
  },
  {
   "cell_type": "code",
   "execution_count": 71,
   "id": "15309300",
   "metadata": {},
   "outputs": [],
   "source": [
    "datetime_df = datetime_df.loc[:, date_columns]"
   ]
  },
  {
   "cell_type": "code",
   "execution_count": 72,
   "id": "52f206aa",
   "metadata": {},
   "outputs": [],
   "source": [
    "datetime_df.index = final_df.index"
   ]
  },
  {
   "cell_type": "code",
   "execution_count": 73,
   "id": "62a535a5",
   "metadata": {},
   "outputs": [],
   "source": [
    "final_df = pd.concat([final_df, datetime_df], axis = 1)"
   ]
  },
  {
   "cell_type": "code",
   "execution_count": 74,
   "id": "baec378f",
   "metadata": {},
   "outputs": [
    {
     "data": {
      "text/plain": [
       "(48, 2220)"
      ]
     },
     "execution_count": 74,
     "metadata": {},
     "output_type": "execute_result"
    }
   ],
   "source": [
    "final_df.shape"
   ]
  },
  {
   "cell_type": "code",
   "execution_count": 75,
   "id": "e6c73919",
   "metadata": {},
   "outputs": [
    {
     "data": {
      "text/plain": [
       "2220"
      ]
     },
     "execution_count": 75,
     "metadata": {},
     "output_type": "execute_result"
    }
   ],
   "source": [
    "sum(final_df.columns == pm10.columns[5:])"
   ]
  },
  {
   "cell_type": "code",
   "execution_count": 76,
   "id": "6a924598",
   "metadata": {},
   "outputs": [],
   "source": [
    "final_df.to_csv(\"./predict_data_v2.csv\")"
   ]
  },
  {
   "cell_type": "code",
   "execution_count": null,
   "id": "c19b9d57",
   "metadata": {},
   "outputs": [],
   "source": []
  }
 ],
 "metadata": {
  "kernelspec": {
   "display_name": "Python 3 (ipykernel)",
   "language": "python",
   "name": "python3"
  },
  "language_info": {
   "codemirror_mode": {
    "name": "ipython",
    "version": 3
   },
   "file_extension": ".py",
   "mimetype": "text/x-python",
   "name": "python",
   "nbconvert_exporter": "python",
   "pygments_lexer": "ipython3",
   "version": "3.11.7"
  }
 },
 "nbformat": 4,
 "nbformat_minor": 5
}
