{
 "cells": [
  {
   "cell_type": "code",
   "execution_count": 120,
   "id": "d7732795",
   "metadata": {},
   "outputs": [],
   "source": [
    "import pandas as pd\n",
    "import numpy as np\n",
    "from sklearn.ensemble import RandomForestRegressor, GradientBoostingRegressor"
   ]
  },
  {
   "cell_type": "code",
   "execution_count": 5,
   "id": "db5357c4",
   "metadata": {},
   "outputs": [],
   "source": [
    "df = pd.read_csv(\"./pm10_final_v4.csv\", index_col = 0)"
   ]
  },
  {
   "cell_type": "code",
   "execution_count": 6,
   "id": "12112238",
   "metadata": {},
   "outputs": [
    {
     "data": {
      "text/html": [
       "<div>\n",
       "<style scoped>\n",
       "    .dataframe tbody tr th:only-of-type {\n",
       "        vertical-align: middle;\n",
       "    }\n",
       "\n",
       "    .dataframe tbody tr th {\n",
       "        vertical-align: top;\n",
       "    }\n",
       "\n",
       "    .dataframe thead th {\n",
       "        text-align: right;\n",
       "    }\n",
       "</style>\n",
       "<table border=\"1\" class=\"dataframe\">\n",
       "  <thead>\n",
       "    <tr style=\"text-align: right;\">\n",
       "      <th></th>\n",
       "      <th>('PM10', '강원 강릉시')</th>\n",
       "      <th>('PM10', '광주 북구')</th>\n",
       "      <th>('PM10', '대전 중구')</th>\n",
       "      <th>('PM10', '부산 해운대구')</th>\n",
       "      <th>('PM10', '서울 서대문구')</th>\n",
       "      <th>('강수량', '90')</th>\n",
       "      <th>('강수량', '101')</th>\n",
       "      <th>('강수량', '102')</th>\n",
       "      <th>('강수량', '105')</th>\n",
       "      <th>('강수량', '108')</th>\n",
       "      <th>...</th>\n",
       "      <th>Passenger Traffic of Highways Current Period(10000 persons)</th>\n",
       "      <th>Passenger Traffic of Waterways Current Period(10000 persons)</th>\n",
       "      <th>Freight Traffic Current Period(10000 tons)</th>\n",
       "      <th>Freight Traffic of Railways Current Period(10000 tons)</th>\n",
       "      <th>Freight Traffic of Highways Current Period(10000 tons)</th>\n",
       "      <th>Freight Traffic of Waterways Current Period(10000 tons)</th>\n",
       "      <th>Manufacturing Purchasing Managers'' Index(%)</th>\n",
       "      <th>cn_a50</th>\n",
       "      <th>cn_szse</th>\n",
       "      <th>cn_sha</th>\n",
       "    </tr>\n",
       "  </thead>\n",
       "  <tbody>\n",
       "    <tr>\n",
       "      <th>2015-01-01 03:00:00</th>\n",
       "      <td>35.0</td>\n",
       "      <td>21.7</td>\n",
       "      <td>33.3</td>\n",
       "      <td>18.7</td>\n",
       "      <td>63.7</td>\n",
       "      <td>0.0</td>\n",
       "      <td>0.0</td>\n",
       "      <td>0.0</td>\n",
       "      <td>0.0</td>\n",
       "      <td>0.0</td>\n",
       "      <td>...</td>\n",
       "      <td>150028.0</td>\n",
       "      <td>1483.0</td>\n",
       "      <td>364076.0</td>\n",
       "      <td>31253.0</td>\n",
       "      <td>283653.0</td>\n",
       "      <td>49119.0</td>\n",
       "      <td>49.8</td>\n",
       "      <td>11860.36</td>\n",
       "      <td>11520.59</td>\n",
       "      <td>3350.52</td>\n",
       "    </tr>\n",
       "    <tr>\n",
       "      <th>2015-01-01 06:00:00</th>\n",
       "      <td>45.3</td>\n",
       "      <td>21.0</td>\n",
       "      <td>61.3</td>\n",
       "      <td>19.0</td>\n",
       "      <td>113.3</td>\n",
       "      <td>0.0</td>\n",
       "      <td>0.0</td>\n",
       "      <td>0.0</td>\n",
       "      <td>0.0</td>\n",
       "      <td>0.0</td>\n",
       "      <td>...</td>\n",
       "      <td>150028.0</td>\n",
       "      <td>1483.0</td>\n",
       "      <td>364076.0</td>\n",
       "      <td>31253.0</td>\n",
       "      <td>283653.0</td>\n",
       "      <td>49119.0</td>\n",
       "      <td>49.8</td>\n",
       "      <td>11860.36</td>\n",
       "      <td>11520.59</td>\n",
       "      <td>3350.52</td>\n",
       "    </tr>\n",
       "    <tr>\n",
       "      <th>2015-01-01 09:00:00</th>\n",
       "      <td>56.3</td>\n",
       "      <td>21.7</td>\n",
       "      <td>95.0</td>\n",
       "      <td>28.3</td>\n",
       "      <td>135.0</td>\n",
       "      <td>0.0</td>\n",
       "      <td>0.0</td>\n",
       "      <td>0.0</td>\n",
       "      <td>0.0</td>\n",
       "      <td>0.0</td>\n",
       "      <td>...</td>\n",
       "      <td>150028.0</td>\n",
       "      <td>1483.0</td>\n",
       "      <td>364076.0</td>\n",
       "      <td>31253.0</td>\n",
       "      <td>283653.0</td>\n",
       "      <td>49119.0</td>\n",
       "      <td>49.8</td>\n",
       "      <td>11860.36</td>\n",
       "      <td>11520.59</td>\n",
       "      <td>3350.52</td>\n",
       "    </tr>\n",
       "    <tr>\n",
       "      <th>2015-01-01 12:00:00</th>\n",
       "      <td>68.7</td>\n",
       "      <td>41.0</td>\n",
       "      <td>124.0</td>\n",
       "      <td>53.5</td>\n",
       "      <td>85.0</td>\n",
       "      <td>0.0</td>\n",
       "      <td>0.0</td>\n",
       "      <td>0.0</td>\n",
       "      <td>0.0</td>\n",
       "      <td>0.0</td>\n",
       "      <td>...</td>\n",
       "      <td>150028.0</td>\n",
       "      <td>1483.0</td>\n",
       "      <td>364076.0</td>\n",
       "      <td>31253.0</td>\n",
       "      <td>283653.0</td>\n",
       "      <td>49119.0</td>\n",
       "      <td>49.8</td>\n",
       "      <td>11860.36</td>\n",
       "      <td>11520.59</td>\n",
       "      <td>3350.52</td>\n",
       "    </tr>\n",
       "    <tr>\n",
       "      <th>2015-01-01 15:00:00</th>\n",
       "      <td>88.3</td>\n",
       "      <td>70.3</td>\n",
       "      <td>56.3</td>\n",
       "      <td>54.3</td>\n",
       "      <td>44.7</td>\n",
       "      <td>0.0</td>\n",
       "      <td>0.0</td>\n",
       "      <td>0.0</td>\n",
       "      <td>0.0</td>\n",
       "      <td>0.0</td>\n",
       "      <td>...</td>\n",
       "      <td>150028.0</td>\n",
       "      <td>1483.0</td>\n",
       "      <td>364076.0</td>\n",
       "      <td>31253.0</td>\n",
       "      <td>283653.0</td>\n",
       "      <td>49119.0</td>\n",
       "      <td>49.8</td>\n",
       "      <td>11860.36</td>\n",
       "      <td>11520.59</td>\n",
       "      <td>3350.52</td>\n",
       "    </tr>\n",
       "  </tbody>\n",
       "</table>\n",
       "<p>5 rows × 2488 columns</p>\n",
       "</div>"
      ],
      "text/plain": [
       "                     ('PM10', '강원 강릉시')  ('PM10', '광주 북구')  ('PM10', '대전 중구')  \\\n",
       "2015-01-01 03:00:00                35.0               21.7               33.3   \n",
       "2015-01-01 06:00:00                45.3               21.0               61.3   \n",
       "2015-01-01 09:00:00                56.3               21.7               95.0   \n",
       "2015-01-01 12:00:00                68.7               41.0              124.0   \n",
       "2015-01-01 15:00:00                88.3               70.3               56.3   \n",
       "\n",
       "                     ('PM10', '부산 해운대구')  ('PM10', '서울 서대문구')  ('강수량', '90')  \\\n",
       "2015-01-01 03:00:00                 18.7                 63.7            0.0   \n",
       "2015-01-01 06:00:00                 19.0                113.3            0.0   \n",
       "2015-01-01 09:00:00                 28.3                135.0            0.0   \n",
       "2015-01-01 12:00:00                 53.5                 85.0            0.0   \n",
       "2015-01-01 15:00:00                 54.3                 44.7            0.0   \n",
       "\n",
       "                     ('강수량', '101')  ('강수량', '102')  ('강수량', '105')  \\\n",
       "2015-01-01 03:00:00             0.0             0.0             0.0   \n",
       "2015-01-01 06:00:00             0.0             0.0             0.0   \n",
       "2015-01-01 09:00:00             0.0             0.0             0.0   \n",
       "2015-01-01 12:00:00             0.0             0.0             0.0   \n",
       "2015-01-01 15:00:00             0.0             0.0             0.0   \n",
       "\n",
       "                     ('강수량', '108')  ...  \\\n",
       "2015-01-01 03:00:00             0.0  ...   \n",
       "2015-01-01 06:00:00             0.0  ...   \n",
       "2015-01-01 09:00:00             0.0  ...   \n",
       "2015-01-01 12:00:00             0.0  ...   \n",
       "2015-01-01 15:00:00             0.0  ...   \n",
       "\n",
       "                     Passenger Traffic of Highways Current Period(10000 persons)  \\\n",
       "2015-01-01 03:00:00                                           150028.0             \n",
       "2015-01-01 06:00:00                                           150028.0             \n",
       "2015-01-01 09:00:00                                           150028.0             \n",
       "2015-01-01 12:00:00                                           150028.0             \n",
       "2015-01-01 15:00:00                                           150028.0             \n",
       "\n",
       "                     Passenger Traffic of Waterways Current Period(10000 persons)  \\\n",
       "2015-01-01 03:00:00                                             1483.0              \n",
       "2015-01-01 06:00:00                                             1483.0              \n",
       "2015-01-01 09:00:00                                             1483.0              \n",
       "2015-01-01 12:00:00                                             1483.0              \n",
       "2015-01-01 15:00:00                                             1483.0              \n",
       "\n",
       "                     Freight Traffic Current Period(10000 tons)  \\\n",
       "2015-01-01 03:00:00                                    364076.0   \n",
       "2015-01-01 06:00:00                                    364076.0   \n",
       "2015-01-01 09:00:00                                    364076.0   \n",
       "2015-01-01 12:00:00                                    364076.0   \n",
       "2015-01-01 15:00:00                                    364076.0   \n",
       "\n",
       "                     Freight Traffic of Railways Current Period(10000 tons)  \\\n",
       "2015-01-01 03:00:00                                            31253.0        \n",
       "2015-01-01 06:00:00                                            31253.0        \n",
       "2015-01-01 09:00:00                                            31253.0        \n",
       "2015-01-01 12:00:00                                            31253.0        \n",
       "2015-01-01 15:00:00                                            31253.0        \n",
       "\n",
       "                     Freight Traffic of Highways Current Period(10000 tons)  \\\n",
       "2015-01-01 03:00:00                                           283653.0        \n",
       "2015-01-01 06:00:00                                           283653.0        \n",
       "2015-01-01 09:00:00                                           283653.0        \n",
       "2015-01-01 12:00:00                                           283653.0        \n",
       "2015-01-01 15:00:00                                           283653.0        \n",
       "\n",
       "                     Freight Traffic of Waterways Current Period(10000 tons)  \\\n",
       "2015-01-01 03:00:00                                            49119.0         \n",
       "2015-01-01 06:00:00                                            49119.0         \n",
       "2015-01-01 09:00:00                                            49119.0         \n",
       "2015-01-01 12:00:00                                            49119.0         \n",
       "2015-01-01 15:00:00                                            49119.0         \n",
       "\n",
       "                     Manufacturing Purchasing Managers'' Index(%)    cn_a50  \\\n",
       "2015-01-01 03:00:00                                          49.8  11860.36   \n",
       "2015-01-01 06:00:00                                          49.8  11860.36   \n",
       "2015-01-01 09:00:00                                          49.8  11860.36   \n",
       "2015-01-01 12:00:00                                          49.8  11860.36   \n",
       "2015-01-01 15:00:00                                          49.8  11860.36   \n",
       "\n",
       "                      cn_szse   cn_sha  \n",
       "2015-01-01 03:00:00  11520.59  3350.52  \n",
       "2015-01-01 06:00:00  11520.59  3350.52  \n",
       "2015-01-01 09:00:00  11520.59  3350.52  \n",
       "2015-01-01 12:00:00  11520.59  3350.52  \n",
       "2015-01-01 15:00:00  11520.59  3350.52  \n",
       "\n",
       "[5 rows x 2488 columns]"
      ]
     },
     "execution_count": 6,
     "metadata": {},
     "output_type": "execute_result"
    }
   ],
   "source": [
    "df.head()"
   ]
  },
  {
   "cell_type": "code",
   "execution_count": 17,
   "id": "db58cefb",
   "metadata": {},
   "outputs": [],
   "source": [
    "df = df.dropna()"
   ]
  },
  {
   "cell_type": "code",
   "execution_count": null,
   "id": "44426400",
   "metadata": {},
   "outputs": [],
   "source": []
  },
  {
   "cell_type": "markdown",
   "id": "67479068",
   "metadata": {},
   "source": [
    "### 랜덤포레스트 회귀 모델로 중요 피처 확인하기"
   ]
  },
  {
   "cell_type": "code",
   "execution_count": 18,
   "id": "3a8c243c",
   "metadata": {},
   "outputs": [],
   "source": [
    "x = df.drop([\"('PM10', '강원 강릉시')\", \"('PM10', '광주 북구')\", \"('PM10', '대전 중구')\", \n",
    "             \"('PM10', '부산 해운대구')\", \"('PM10', '서울 서대문구')\"], axis = 1)\n",
    "# 서울의 서대문구를 종속변수로 설정\n",
    "y = df[\"('PM10', '서울 서대문구')\"]"
   ]
  },
  {
   "cell_type": "code",
   "execution_count": 102,
   "id": "fc7bb10f",
   "metadata": {},
   "outputs": [],
   "source": [
    "rf = RandomForestRegressor(n_jobs = -1, random_state = 10)"
   ]
  },
  {
   "cell_type": "code",
   "execution_count": 103,
   "id": "37347e3a",
   "metadata": {},
   "outputs": [
    {
     "data": {
      "text/html": [
       "<style>#sk-container-id-2 {color: black;background-color: white;}#sk-container-id-2 pre{padding: 0;}#sk-container-id-2 div.sk-toggleable {background-color: white;}#sk-container-id-2 label.sk-toggleable__label {cursor: pointer;display: block;width: 100%;margin-bottom: 0;padding: 0.3em;box-sizing: border-box;text-align: center;}#sk-container-id-2 label.sk-toggleable__label-arrow:before {content: \"▸\";float: left;margin-right: 0.25em;color: #696969;}#sk-container-id-2 label.sk-toggleable__label-arrow:hover:before {color: black;}#sk-container-id-2 div.sk-estimator:hover label.sk-toggleable__label-arrow:before {color: black;}#sk-container-id-2 div.sk-toggleable__content {max-height: 0;max-width: 0;overflow: hidden;text-align: left;background-color: #f0f8ff;}#sk-container-id-2 div.sk-toggleable__content pre {margin: 0.2em;color: black;border-radius: 0.25em;background-color: #f0f8ff;}#sk-container-id-2 input.sk-toggleable__control:checked~div.sk-toggleable__content {max-height: 200px;max-width: 100%;overflow: auto;}#sk-container-id-2 input.sk-toggleable__control:checked~label.sk-toggleable__label-arrow:before {content: \"▾\";}#sk-container-id-2 div.sk-estimator input.sk-toggleable__control:checked~label.sk-toggleable__label {background-color: #d4ebff;}#sk-container-id-2 div.sk-label input.sk-toggleable__control:checked~label.sk-toggleable__label {background-color: #d4ebff;}#sk-container-id-2 input.sk-hidden--visually {border: 0;clip: rect(1px 1px 1px 1px);clip: rect(1px, 1px, 1px, 1px);height: 1px;margin: -1px;overflow: hidden;padding: 0;position: absolute;width: 1px;}#sk-container-id-2 div.sk-estimator {font-family: monospace;background-color: #f0f8ff;border: 1px dotted black;border-radius: 0.25em;box-sizing: border-box;margin-bottom: 0.5em;}#sk-container-id-2 div.sk-estimator:hover {background-color: #d4ebff;}#sk-container-id-2 div.sk-parallel-item::after {content: \"\";width: 100%;border-bottom: 1px solid gray;flex-grow: 1;}#sk-container-id-2 div.sk-label:hover label.sk-toggleable__label {background-color: #d4ebff;}#sk-container-id-2 div.sk-serial::before {content: \"\";position: absolute;border-left: 1px solid gray;box-sizing: border-box;top: 0;bottom: 0;left: 50%;z-index: 0;}#sk-container-id-2 div.sk-serial {display: flex;flex-direction: column;align-items: center;background-color: white;padding-right: 0.2em;padding-left: 0.2em;position: relative;}#sk-container-id-2 div.sk-item {position: relative;z-index: 1;}#sk-container-id-2 div.sk-parallel {display: flex;align-items: stretch;justify-content: center;background-color: white;position: relative;}#sk-container-id-2 div.sk-item::before, #sk-container-id-2 div.sk-parallel-item::before {content: \"\";position: absolute;border-left: 1px solid gray;box-sizing: border-box;top: 0;bottom: 0;left: 50%;z-index: -1;}#sk-container-id-2 div.sk-parallel-item {display: flex;flex-direction: column;z-index: 1;position: relative;background-color: white;}#sk-container-id-2 div.sk-parallel-item:first-child::after {align-self: flex-end;width: 50%;}#sk-container-id-2 div.sk-parallel-item:last-child::after {align-self: flex-start;width: 50%;}#sk-container-id-2 div.sk-parallel-item:only-child::after {width: 0;}#sk-container-id-2 div.sk-dashed-wrapped {border: 1px dashed gray;margin: 0 0.4em 0.5em 0.4em;box-sizing: border-box;padding-bottom: 0.4em;background-color: white;}#sk-container-id-2 div.sk-label label {font-family: monospace;font-weight: bold;display: inline-block;line-height: 1.2em;}#sk-container-id-2 div.sk-label-container {text-align: center;}#sk-container-id-2 div.sk-container {/* jupyter's `normalize.less` sets `[hidden] { display: none; }` but bootstrap.min.css set `[hidden] { display: none !important; }` so we also need the `!important` here to be able to override the default hidden behavior on the sphinx rendered scikit-learn.org. See: https://github.com/scikit-learn/scikit-learn/issues/21755 */display: inline-block !important;position: relative;}#sk-container-id-2 div.sk-text-repr-fallback {display: none;}</style><div id=\"sk-container-id-2\" class=\"sk-top-container\"><div class=\"sk-text-repr-fallback\"><pre>RandomForestRegressor(n_jobs=-1, random_state=10)</pre><b>In a Jupyter environment, please rerun this cell to show the HTML representation or trust the notebook. <br />On GitHub, the HTML representation is unable to render, please try loading this page with nbviewer.org.</b></div><div class=\"sk-container\" hidden><div class=\"sk-item\"><div class=\"sk-estimator sk-toggleable\"><input class=\"sk-toggleable__control sk-hidden--visually\" id=\"sk-estimator-id-2\" type=\"checkbox\" checked><label for=\"sk-estimator-id-2\" class=\"sk-toggleable__label sk-toggleable__label-arrow\">RandomForestRegressor</label><div class=\"sk-toggleable__content\"><pre>RandomForestRegressor(n_jobs=-1, random_state=10)</pre></div></div></div></div></div>"
      ],
      "text/plain": [
       "RandomForestRegressor(n_jobs=-1, random_state=10)"
      ]
     },
     "execution_count": 103,
     "metadata": {},
     "output_type": "execute_result"
    }
   ],
   "source": [
    "rf.fit(x, y)"
   ]
  },
  {
   "cell_type": "code",
   "execution_count": 104,
   "id": "35b4720f",
   "metadata": {},
   "outputs": [],
   "source": [
    "feat_imp = rf.feature_importances_"
   ]
  },
  {
   "cell_type": "code",
   "execution_count": 149,
   "id": "aaf76e96",
   "metadata": {},
   "outputs": [
    {
     "data": {
      "text/plain": [
       "0.7678465157998684"
      ]
     },
     "execution_count": 149,
     "metadata": {},
     "output_type": "execute_result"
    }
   ],
   "source": [
    "sum(pd.Series(feat_imp).sort_values(ascending = False)[0:200])"
   ]
  },
  {
   "cell_type": "code",
   "execution_count": 162,
   "id": "106af5a1",
   "metadata": {},
   "outputs": [],
   "source": [
    "feat100_1 = x.iloc[:, pd.Series(feat_imp).sort_values(ascending = False)[0:100].index].columns"
   ]
  },
  {
   "cell_type": "markdown",
   "id": "b7a85994",
   "metadata": {},
   "source": [
    "- 영향력이 큰 100개의 지표 (**RandomForest** 기준)\n",
    "\n",
    "- 국내 사회경제 지표는 8개가 해당됨\n",
    "    - 코스피, 코스닥 모두 포함됨\n",
    "    - 석탄소비량과 고급휘발유 등의 화석연료 지표가 포함되어 있음\n",
    "    - 상관계수는 음의 상관관계를 가짐 (절댓값이 0.3 이하)\n",
    "- 중국 사회경제 지표는 7개가 해당됨\n",
    "    - 순위가 약간 낮긴하지만 상해종합(cn_sha)과 szse이 포함됨\n",
    "    - 상관계수는 음의 상관관계를 가짐 (절댓값이 0.3 이하)"
   ]
  },
  {
   "cell_type": "code",
   "execution_count": null,
   "id": "7de16883",
   "metadata": {},
   "outputs": [],
   "source": []
  },
  {
   "cell_type": "markdown",
   "id": "f1db4417",
   "metadata": {},
   "source": [
    "### 그래디언트부스팅 시도"
   ]
  },
  {
   "cell_type": "code",
   "execution_count": 121,
   "id": "7e6f1cab",
   "metadata": {},
   "outputs": [
    {
     "data": {
      "text/html": [
       "<style>#sk-container-id-3 {color: black;background-color: white;}#sk-container-id-3 pre{padding: 0;}#sk-container-id-3 div.sk-toggleable {background-color: white;}#sk-container-id-3 label.sk-toggleable__label {cursor: pointer;display: block;width: 100%;margin-bottom: 0;padding: 0.3em;box-sizing: border-box;text-align: center;}#sk-container-id-3 label.sk-toggleable__label-arrow:before {content: \"▸\";float: left;margin-right: 0.25em;color: #696969;}#sk-container-id-3 label.sk-toggleable__label-arrow:hover:before {color: black;}#sk-container-id-3 div.sk-estimator:hover label.sk-toggleable__label-arrow:before {color: black;}#sk-container-id-3 div.sk-toggleable__content {max-height: 0;max-width: 0;overflow: hidden;text-align: left;background-color: #f0f8ff;}#sk-container-id-3 div.sk-toggleable__content pre {margin: 0.2em;color: black;border-radius: 0.25em;background-color: #f0f8ff;}#sk-container-id-3 input.sk-toggleable__control:checked~div.sk-toggleable__content {max-height: 200px;max-width: 100%;overflow: auto;}#sk-container-id-3 input.sk-toggleable__control:checked~label.sk-toggleable__label-arrow:before {content: \"▾\";}#sk-container-id-3 div.sk-estimator input.sk-toggleable__control:checked~label.sk-toggleable__label {background-color: #d4ebff;}#sk-container-id-3 div.sk-label input.sk-toggleable__control:checked~label.sk-toggleable__label {background-color: #d4ebff;}#sk-container-id-3 input.sk-hidden--visually {border: 0;clip: rect(1px 1px 1px 1px);clip: rect(1px, 1px, 1px, 1px);height: 1px;margin: -1px;overflow: hidden;padding: 0;position: absolute;width: 1px;}#sk-container-id-3 div.sk-estimator {font-family: monospace;background-color: #f0f8ff;border: 1px dotted black;border-radius: 0.25em;box-sizing: border-box;margin-bottom: 0.5em;}#sk-container-id-3 div.sk-estimator:hover {background-color: #d4ebff;}#sk-container-id-3 div.sk-parallel-item::after {content: \"\";width: 100%;border-bottom: 1px solid gray;flex-grow: 1;}#sk-container-id-3 div.sk-label:hover label.sk-toggleable__label {background-color: #d4ebff;}#sk-container-id-3 div.sk-serial::before {content: \"\";position: absolute;border-left: 1px solid gray;box-sizing: border-box;top: 0;bottom: 0;left: 50%;z-index: 0;}#sk-container-id-3 div.sk-serial {display: flex;flex-direction: column;align-items: center;background-color: white;padding-right: 0.2em;padding-left: 0.2em;position: relative;}#sk-container-id-3 div.sk-item {position: relative;z-index: 1;}#sk-container-id-3 div.sk-parallel {display: flex;align-items: stretch;justify-content: center;background-color: white;position: relative;}#sk-container-id-3 div.sk-item::before, #sk-container-id-3 div.sk-parallel-item::before {content: \"\";position: absolute;border-left: 1px solid gray;box-sizing: border-box;top: 0;bottom: 0;left: 50%;z-index: -1;}#sk-container-id-3 div.sk-parallel-item {display: flex;flex-direction: column;z-index: 1;position: relative;background-color: white;}#sk-container-id-3 div.sk-parallel-item:first-child::after {align-self: flex-end;width: 50%;}#sk-container-id-3 div.sk-parallel-item:last-child::after {align-self: flex-start;width: 50%;}#sk-container-id-3 div.sk-parallel-item:only-child::after {width: 0;}#sk-container-id-3 div.sk-dashed-wrapped {border: 1px dashed gray;margin: 0 0.4em 0.5em 0.4em;box-sizing: border-box;padding-bottom: 0.4em;background-color: white;}#sk-container-id-3 div.sk-label label {font-family: monospace;font-weight: bold;display: inline-block;line-height: 1.2em;}#sk-container-id-3 div.sk-label-container {text-align: center;}#sk-container-id-3 div.sk-container {/* jupyter's `normalize.less` sets `[hidden] { display: none; }` but bootstrap.min.css set `[hidden] { display: none !important; }` so we also need the `!important` here to be able to override the default hidden behavior on the sphinx rendered scikit-learn.org. See: https://github.com/scikit-learn/scikit-learn/issues/21755 */display: inline-block !important;position: relative;}#sk-container-id-3 div.sk-text-repr-fallback {display: none;}</style><div id=\"sk-container-id-3\" class=\"sk-top-container\"><div class=\"sk-text-repr-fallback\"><pre>GradientBoostingRegressor(random_state=42)</pre><b>In a Jupyter environment, please rerun this cell to show the HTML representation or trust the notebook. <br />On GitHub, the HTML representation is unable to render, please try loading this page with nbviewer.org.</b></div><div class=\"sk-container\" hidden><div class=\"sk-item\"><div class=\"sk-estimator sk-toggleable\"><input class=\"sk-toggleable__control sk-hidden--visually\" id=\"sk-estimator-id-3\" type=\"checkbox\" checked><label for=\"sk-estimator-id-3\" class=\"sk-toggleable__label sk-toggleable__label-arrow\">GradientBoostingRegressor</label><div class=\"sk-toggleable__content\"><pre>GradientBoostingRegressor(random_state=42)</pre></div></div></div></div></div>"
      ],
      "text/plain": [
       "GradientBoostingRegressor(random_state=42)"
      ]
     },
     "execution_count": 121,
     "metadata": {},
     "output_type": "execute_result"
    }
   ],
   "source": [
    "model = GradientBoostingRegressor(n_estimators=100, random_state=42)\n",
    "model.fit(x, y)"
   ]
  },
  {
   "cell_type": "code",
   "execution_count": 156,
   "id": "c8c8f65a",
   "metadata": {},
   "outputs": [],
   "source": [
    "feat_imp2 = model.feature_importances_"
   ]
  },
  {
   "cell_type": "code",
   "execution_count": 163,
   "id": "3f33b2d5",
   "metadata": {},
   "outputs": [],
   "source": [
    "feat100_2 = x.iloc[:5, pd.Series(feat_imp2).sort_values(ascending = False)[0:100].index].columns"
   ]
  },
  {
   "cell_type": "markdown",
   "id": "8b968d3f",
   "metadata": {},
   "source": [
    "- 영향력이 큰 50개의 지표 (**GradientBoosting** 기준)\n",
    "\n",
    "- 국내 사회경제 지표는 8개\n",
    "- 중국 사회경제 지표는 6개\n",
    "    - 특히 산업 생산량을 중요시 여기는 것이 파악됨"
   ]
  },
  {
   "cell_type": "markdown",
   "id": "658320ff",
   "metadata": {},
   "source": [
    "#### 공통부문 정리\n",
    "\n",
    "- 전라도의 운수창고업은 상위권에 2회 등장하며 상관관계에서도 -0.429로 상관관계가 높은 것으로 파악됨\n",
    "    - 전라도의 항만은 주로 중국과의 무역을 할 것으로 추측됨\n",
    "    - 목포항, 군산항, 여수항 3개의 무역항이 있으며 중국과의 관련성은 현재 탐색 중\n",
    "    - 군산항 https://encykorea.aks.ac.kr/Article/E0006660, https://www.hankyung.com/article/202401298975Y\n",
    "    \n",
    "- 강원도의 광업 생산량 역시 상위권에 2회 등장한다. 상관관계는 0.163으로 높지는 않음\n",
    "    - 강원도 광업 https://www.kigam.re.kr/menu.es?mid=a30103010204\n",
    "    - 생산량의 대부분이 석회석으로 광산에서 미세먼지가 배출이되며 석회석은 주로 건설용도로 사용되는데 건설 현장에서도 미세먼지가 발생함\n",
    "    - 석회석 광산과 미세먼지 http://www.ombudsmannews.com/default/index_view_page.php?part_idx=4847&idx=9560\n",
    "    - 건설현장과 미세먼지 https://www.jekosae.or.kr/xml/02729/02729.pdf"
   ]
  },
  {
   "cell_type": "code",
   "execution_count": null,
   "id": "287a6828",
   "metadata": {},
   "outputs": [],
   "source": []
  },
  {
   "cell_type": "markdown",
   "id": "96e8b553",
   "metadata": {},
   "source": [
    "## 경상도 관련 분석"
   ]
  },
  {
   "cell_type": "code",
   "execution_count": 150,
   "id": "4d6394be",
   "metadata": {},
   "outputs": [],
   "source": [
    "y2 = df[\"('PM10', '부산 해운대구')\"]"
   ]
  },
  {
   "cell_type": "code",
   "execution_count": null,
   "id": "33e6d509",
   "metadata": {},
   "outputs": [],
   "source": []
  },
  {
   "cell_type": "markdown",
   "id": "c52ecf8e",
   "metadata": {},
   "source": [
    "### 랜덤포레스트 시도 (부산)"
   ]
  },
  {
   "cell_type": "code",
   "execution_count": 151,
   "id": "d1e44017",
   "metadata": {},
   "outputs": [],
   "source": [
    "rf2 = RandomForestRegressor(n_jobs = -1, random_state = 10)"
   ]
  },
  {
   "cell_type": "code",
   "execution_count": 152,
   "id": "f61c0988",
   "metadata": {},
   "outputs": [
    {
     "data": {
      "text/html": [
       "<style>#sk-container-id-4 {color: black;background-color: white;}#sk-container-id-4 pre{padding: 0;}#sk-container-id-4 div.sk-toggleable {background-color: white;}#sk-container-id-4 label.sk-toggleable__label {cursor: pointer;display: block;width: 100%;margin-bottom: 0;padding: 0.3em;box-sizing: border-box;text-align: center;}#sk-container-id-4 label.sk-toggleable__label-arrow:before {content: \"▸\";float: left;margin-right: 0.25em;color: #696969;}#sk-container-id-4 label.sk-toggleable__label-arrow:hover:before {color: black;}#sk-container-id-4 div.sk-estimator:hover label.sk-toggleable__label-arrow:before {color: black;}#sk-container-id-4 div.sk-toggleable__content {max-height: 0;max-width: 0;overflow: hidden;text-align: left;background-color: #f0f8ff;}#sk-container-id-4 div.sk-toggleable__content pre {margin: 0.2em;color: black;border-radius: 0.25em;background-color: #f0f8ff;}#sk-container-id-4 input.sk-toggleable__control:checked~div.sk-toggleable__content {max-height: 200px;max-width: 100%;overflow: auto;}#sk-container-id-4 input.sk-toggleable__control:checked~label.sk-toggleable__label-arrow:before {content: \"▾\";}#sk-container-id-4 div.sk-estimator input.sk-toggleable__control:checked~label.sk-toggleable__label {background-color: #d4ebff;}#sk-container-id-4 div.sk-label input.sk-toggleable__control:checked~label.sk-toggleable__label {background-color: #d4ebff;}#sk-container-id-4 input.sk-hidden--visually {border: 0;clip: rect(1px 1px 1px 1px);clip: rect(1px, 1px, 1px, 1px);height: 1px;margin: -1px;overflow: hidden;padding: 0;position: absolute;width: 1px;}#sk-container-id-4 div.sk-estimator {font-family: monospace;background-color: #f0f8ff;border: 1px dotted black;border-radius: 0.25em;box-sizing: border-box;margin-bottom: 0.5em;}#sk-container-id-4 div.sk-estimator:hover {background-color: #d4ebff;}#sk-container-id-4 div.sk-parallel-item::after {content: \"\";width: 100%;border-bottom: 1px solid gray;flex-grow: 1;}#sk-container-id-4 div.sk-label:hover label.sk-toggleable__label {background-color: #d4ebff;}#sk-container-id-4 div.sk-serial::before {content: \"\";position: absolute;border-left: 1px solid gray;box-sizing: border-box;top: 0;bottom: 0;left: 50%;z-index: 0;}#sk-container-id-4 div.sk-serial {display: flex;flex-direction: column;align-items: center;background-color: white;padding-right: 0.2em;padding-left: 0.2em;position: relative;}#sk-container-id-4 div.sk-item {position: relative;z-index: 1;}#sk-container-id-4 div.sk-parallel {display: flex;align-items: stretch;justify-content: center;background-color: white;position: relative;}#sk-container-id-4 div.sk-item::before, #sk-container-id-4 div.sk-parallel-item::before {content: \"\";position: absolute;border-left: 1px solid gray;box-sizing: border-box;top: 0;bottom: 0;left: 50%;z-index: -1;}#sk-container-id-4 div.sk-parallel-item {display: flex;flex-direction: column;z-index: 1;position: relative;background-color: white;}#sk-container-id-4 div.sk-parallel-item:first-child::after {align-self: flex-end;width: 50%;}#sk-container-id-4 div.sk-parallel-item:last-child::after {align-self: flex-start;width: 50%;}#sk-container-id-4 div.sk-parallel-item:only-child::after {width: 0;}#sk-container-id-4 div.sk-dashed-wrapped {border: 1px dashed gray;margin: 0 0.4em 0.5em 0.4em;box-sizing: border-box;padding-bottom: 0.4em;background-color: white;}#sk-container-id-4 div.sk-label label {font-family: monospace;font-weight: bold;display: inline-block;line-height: 1.2em;}#sk-container-id-4 div.sk-label-container {text-align: center;}#sk-container-id-4 div.sk-container {/* jupyter's `normalize.less` sets `[hidden] { display: none; }` but bootstrap.min.css set `[hidden] { display: none !important; }` so we also need the `!important` here to be able to override the default hidden behavior on the sphinx rendered scikit-learn.org. See: https://github.com/scikit-learn/scikit-learn/issues/21755 */display: inline-block !important;position: relative;}#sk-container-id-4 div.sk-text-repr-fallback {display: none;}</style><div id=\"sk-container-id-4\" class=\"sk-top-container\"><div class=\"sk-text-repr-fallback\"><pre>RandomForestRegressor(n_jobs=-1, random_state=10)</pre><b>In a Jupyter environment, please rerun this cell to show the HTML representation or trust the notebook. <br />On GitHub, the HTML representation is unable to render, please try loading this page with nbviewer.org.</b></div><div class=\"sk-container\" hidden><div class=\"sk-item\"><div class=\"sk-estimator sk-toggleable\"><input class=\"sk-toggleable__control sk-hidden--visually\" id=\"sk-estimator-id-4\" type=\"checkbox\" checked><label for=\"sk-estimator-id-4\" class=\"sk-toggleable__label sk-toggleable__label-arrow\">RandomForestRegressor</label><div class=\"sk-toggleable__content\"><pre>RandomForestRegressor(n_jobs=-1, random_state=10)</pre></div></div></div></div></div>"
      ],
      "text/plain": [
       "RandomForestRegressor(n_jobs=-1, random_state=10)"
      ]
     },
     "execution_count": 152,
     "metadata": {},
     "output_type": "execute_result"
    }
   ],
   "source": [
    "rf2.fit(x, y2)"
   ]
  },
  {
   "cell_type": "code",
   "execution_count": 158,
   "id": "9e1ace95",
   "metadata": {},
   "outputs": [],
   "source": [
    "feat_imp3 = rf2.feature_importances_"
   ]
  },
  {
   "cell_type": "code",
   "execution_count": 164,
   "id": "e8bc6dcf",
   "metadata": {},
   "outputs": [],
   "source": [
    "feat100_3 = x.iloc[:, pd.Series(feat_imp2).sort_values(ascending = False)[0:100].index].columns"
   ]
  },
  {
   "cell_type": "code",
   "execution_count": null,
   "id": "097efe1c",
   "metadata": {},
   "outputs": [],
   "source": []
  },
  {
   "cell_type": "markdown",
   "id": "75f4bc68",
   "metadata": {},
   "source": [
    "### 그레디언트 부스팅 시도 (부산)"
   ]
  },
  {
   "cell_type": "code",
   "execution_count": 155,
   "id": "dc06c577",
   "metadata": {},
   "outputs": [
    {
     "data": {
      "text/html": [
       "<style>#sk-container-id-5 {color: black;background-color: white;}#sk-container-id-5 pre{padding: 0;}#sk-container-id-5 div.sk-toggleable {background-color: white;}#sk-container-id-5 label.sk-toggleable__label {cursor: pointer;display: block;width: 100%;margin-bottom: 0;padding: 0.3em;box-sizing: border-box;text-align: center;}#sk-container-id-5 label.sk-toggleable__label-arrow:before {content: \"▸\";float: left;margin-right: 0.25em;color: #696969;}#sk-container-id-5 label.sk-toggleable__label-arrow:hover:before {color: black;}#sk-container-id-5 div.sk-estimator:hover label.sk-toggleable__label-arrow:before {color: black;}#sk-container-id-5 div.sk-toggleable__content {max-height: 0;max-width: 0;overflow: hidden;text-align: left;background-color: #f0f8ff;}#sk-container-id-5 div.sk-toggleable__content pre {margin: 0.2em;color: black;border-radius: 0.25em;background-color: #f0f8ff;}#sk-container-id-5 input.sk-toggleable__control:checked~div.sk-toggleable__content {max-height: 200px;max-width: 100%;overflow: auto;}#sk-container-id-5 input.sk-toggleable__control:checked~label.sk-toggleable__label-arrow:before {content: \"▾\";}#sk-container-id-5 div.sk-estimator input.sk-toggleable__control:checked~label.sk-toggleable__label {background-color: #d4ebff;}#sk-container-id-5 div.sk-label input.sk-toggleable__control:checked~label.sk-toggleable__label {background-color: #d4ebff;}#sk-container-id-5 input.sk-hidden--visually {border: 0;clip: rect(1px 1px 1px 1px);clip: rect(1px, 1px, 1px, 1px);height: 1px;margin: -1px;overflow: hidden;padding: 0;position: absolute;width: 1px;}#sk-container-id-5 div.sk-estimator {font-family: monospace;background-color: #f0f8ff;border: 1px dotted black;border-radius: 0.25em;box-sizing: border-box;margin-bottom: 0.5em;}#sk-container-id-5 div.sk-estimator:hover {background-color: #d4ebff;}#sk-container-id-5 div.sk-parallel-item::after {content: \"\";width: 100%;border-bottom: 1px solid gray;flex-grow: 1;}#sk-container-id-5 div.sk-label:hover label.sk-toggleable__label {background-color: #d4ebff;}#sk-container-id-5 div.sk-serial::before {content: \"\";position: absolute;border-left: 1px solid gray;box-sizing: border-box;top: 0;bottom: 0;left: 50%;z-index: 0;}#sk-container-id-5 div.sk-serial {display: flex;flex-direction: column;align-items: center;background-color: white;padding-right: 0.2em;padding-left: 0.2em;position: relative;}#sk-container-id-5 div.sk-item {position: relative;z-index: 1;}#sk-container-id-5 div.sk-parallel {display: flex;align-items: stretch;justify-content: center;background-color: white;position: relative;}#sk-container-id-5 div.sk-item::before, #sk-container-id-5 div.sk-parallel-item::before {content: \"\";position: absolute;border-left: 1px solid gray;box-sizing: border-box;top: 0;bottom: 0;left: 50%;z-index: -1;}#sk-container-id-5 div.sk-parallel-item {display: flex;flex-direction: column;z-index: 1;position: relative;background-color: white;}#sk-container-id-5 div.sk-parallel-item:first-child::after {align-self: flex-end;width: 50%;}#sk-container-id-5 div.sk-parallel-item:last-child::after {align-self: flex-start;width: 50%;}#sk-container-id-5 div.sk-parallel-item:only-child::after {width: 0;}#sk-container-id-5 div.sk-dashed-wrapped {border: 1px dashed gray;margin: 0 0.4em 0.5em 0.4em;box-sizing: border-box;padding-bottom: 0.4em;background-color: white;}#sk-container-id-5 div.sk-label label {font-family: monospace;font-weight: bold;display: inline-block;line-height: 1.2em;}#sk-container-id-5 div.sk-label-container {text-align: center;}#sk-container-id-5 div.sk-container {/* jupyter's `normalize.less` sets `[hidden] { display: none; }` but bootstrap.min.css set `[hidden] { display: none !important; }` so we also need the `!important` here to be able to override the default hidden behavior on the sphinx rendered scikit-learn.org. See: https://github.com/scikit-learn/scikit-learn/issues/21755 */display: inline-block !important;position: relative;}#sk-container-id-5 div.sk-text-repr-fallback {display: none;}</style><div id=\"sk-container-id-5\" class=\"sk-top-container\"><div class=\"sk-text-repr-fallback\"><pre>GradientBoostingRegressor(random_state=42)</pre><b>In a Jupyter environment, please rerun this cell to show the HTML representation or trust the notebook. <br />On GitHub, the HTML representation is unable to render, please try loading this page with nbviewer.org.</b></div><div class=\"sk-container\" hidden><div class=\"sk-item\"><div class=\"sk-estimator sk-toggleable\"><input class=\"sk-toggleable__control sk-hidden--visually\" id=\"sk-estimator-id-5\" type=\"checkbox\" checked><label for=\"sk-estimator-id-5\" class=\"sk-toggleable__label sk-toggleable__label-arrow\">GradientBoostingRegressor</label><div class=\"sk-toggleable__content\"><pre>GradientBoostingRegressor(random_state=42)</pre></div></div></div></div></div>"
      ],
      "text/plain": [
       "GradientBoostingRegressor(random_state=42)"
      ]
     },
     "execution_count": 155,
     "metadata": {},
     "output_type": "execute_result"
    }
   ],
   "source": [
    "model2 = GradientBoostingRegressor(n_estimators=100, random_state=42)\n",
    "model2.fit(x, y2)"
   ]
  },
  {
   "cell_type": "code",
   "execution_count": 160,
   "id": "20d8ae86",
   "metadata": {},
   "outputs": [],
   "source": [
    "feat_imp4 = model2.feature_importances_"
   ]
  },
  {
   "cell_type": "code",
   "execution_count": 165,
   "id": "4bc0a188",
   "metadata": {},
   "outputs": [],
   "source": [
    "feat100_4 = x.iloc[:, pd.Series(feat_imp4).sort_values(ascending = False)[0:100].index].columns"
   ]
  },
  {
   "cell_type": "code",
   "execution_count": null,
   "id": "41d5e42f",
   "metadata": {},
   "outputs": [],
   "source": []
  },
  {
   "cell_type": "markdown",
   "id": "5f6f4a27",
   "metadata": {},
   "source": [
    "### 상위 100개의 피처 4개 중 여러번 등장한 피처들 리스트 뽑아보기"
   ]
  },
  {
   "cell_type": "code",
   "execution_count": 175,
   "id": "559ff129",
   "metadata": {},
   "outputs": [],
   "source": [
    "feat_concat = pd.concat([pd.Series(feat100_1), pd.Series(feat100_2), pd.Series(feat100_3), pd.Series(feat100_4)]).drop_duplicates()"
   ]
  },
  {
   "cell_type": "code",
   "execution_count": 178,
   "id": "4dd8f1b1",
   "metadata": {},
   "outputs": [],
   "source": [
    "feat_concat = pd.DataFrame(feat_concat)"
   ]
  },
  {
   "cell_type": "code",
   "execution_count": 180,
   "id": "862fcc3a",
   "metadata": {},
   "outputs": [],
   "source": [
    "feat_concat.columns = [\"피처명\"]"
   ]
  },
  {
   "cell_type": "code",
   "execution_count": 183,
   "id": "2e70e530",
   "metadata": {},
   "outputs": [],
   "source": [
    "feat_concat = feat_concat.set_index(\"피처명\")"
   ]
  },
  {
   "cell_type": "code",
   "execution_count": 186,
   "id": "5aa7e24e",
   "metadata": {},
   "outputs": [],
   "source": [
    "feat_concat.loc[:, \"count\"] = 0"
   ]
  },
  {
   "cell_type": "code",
   "execution_count": 188,
   "id": "5ced47c6",
   "metadata": {},
   "outputs": [],
   "source": [
    "for feat in feat_concat.index:\n",
    "    count = 0\n",
    "    if feat in feat100_1:\n",
    "        count += 1\n",
    "        \n",
    "    if feat in feat100_2:\n",
    "        count += 1\n",
    "        \n",
    "    if feat in feat100_3:\n",
    "        count += 1\n",
    "        \n",
    "    if feat in feat100_4:\n",
    "        count += 1\n",
    "        \n",
    "    feat_concat.loc[feat, \"count\"] = count"
   ]
  },
  {
   "cell_type": "code",
   "execution_count": 195,
   "id": "a7280b0b",
   "metadata": {},
   "outputs": [],
   "source": [
    "feat_concat = feat_concat.sort_values(by = \"count\", ascending = False)"
   ]
  },
  {
   "cell_type": "code",
   "execution_count": 199,
   "id": "b1193611",
   "metadata": {},
   "outputs": [
    {
     "data": {
      "text/html": [
       "<div>\n",
       "<style scoped>\n",
       "    .dataframe tbody tr th:only-of-type {\n",
       "        vertical-align: middle;\n",
       "    }\n",
       "\n",
       "    .dataframe tbody tr th {\n",
       "        vertical-align: top;\n",
       "    }\n",
       "\n",
       "    .dataframe thead th {\n",
       "        text-align: right;\n",
       "    }\n",
       "</style>\n",
       "<table border=\"1\" class=\"dataframe\">\n",
       "  <thead>\n",
       "    <tr style=\"text-align: right;\">\n",
       "      <th></th>\n",
       "      <th>count</th>\n",
       "    </tr>\n",
       "    <tr>\n",
       "      <th>피처명</th>\n",
       "      <th></th>\n",
       "    </tr>\n",
       "  </thead>\n",
       "  <tbody>\n",
       "    <tr>\n",
       "      <th>('GUST풍속', '22104')</th>\n",
       "      <td>4</td>\n",
       "    </tr>\n",
       "    <tr>\n",
       "      <th>crude_steel</th>\n",
       "      <td>4</td>\n",
       "    </tr>\n",
       "    <tr>\n",
       "      <th>('기온', '22106')</th>\n",
       "      <td>4</td>\n",
       "    </tr>\n",
       "    <tr>\n",
       "      <th>('전라도', '정보통신업')</th>\n",
       "      <td>4</td>\n",
       "    </tr>\n",
       "    <tr>\n",
       "      <th>insulating_glass</th>\n",
       "      <td>4</td>\n",
       "    </tr>\n",
       "    <tr>\n",
       "      <th>('해면기압', '57494.0')</th>\n",
       "      <td>4</td>\n",
       "    </tr>\n",
       "    <tr>\n",
       "      <th>('이슬점 온도', '50745.0')</th>\n",
       "      <td>4</td>\n",
       "    </tr>\n",
       "    <tr>\n",
       "      <th>('기온', '22102')</th>\n",
       "      <td>4</td>\n",
       "    </tr>\n",
       "    <tr>\n",
       "      <th>('이슬점 온도', '59287.0')</th>\n",
       "      <td>4</td>\n",
       "    </tr>\n",
       "    <tr>\n",
       "      <th>('pm10', 'qingdao')</th>\n",
       "      <td>4</td>\n",
       "    </tr>\n",
       "    <tr>\n",
       "      <th>corrugated_steel_bar</th>\n",
       "      <td>4</td>\n",
       "    </tr>\n",
       "    <tr>\n",
       "      <th>('GUST풍속', '22184')</th>\n",
       "      <td>4</td>\n",
       "    </tr>\n",
       "    <tr>\n",
       "      <th>('습도', '51463.0')</th>\n",
       "      <td>4</td>\n",
       "    </tr>\n",
       "    <tr>\n",
       "      <th>('pm10', 'guangzhou')</th>\n",
       "      <td>4</td>\n",
       "    </tr>\n",
       "    <tr>\n",
       "      <th>('기온', '22104')</th>\n",
       "      <td>4</td>\n",
       "    </tr>\n",
       "    <tr>\n",
       "      <th>('현지기압', '90')</th>\n",
       "      <td>4</td>\n",
       "    </tr>\n",
       "    <tr>\n",
       "      <th>('습도', '279')</th>\n",
       "      <td>4</td>\n",
       "    </tr>\n",
       "    <tr>\n",
       "      <th>보통휘발유</th>\n",
       "      <td>4</td>\n",
       "    </tr>\n",
       "    <tr>\n",
       "      <th>('습도', '184')</th>\n",
       "      <td>4</td>\n",
       "    </tr>\n",
       "    <tr>\n",
       "      <th>('GUST풍속', '22103')</th>\n",
       "      <td>4</td>\n",
       "    </tr>\n",
       "    <tr>\n",
       "      <th>('pm25', 'urumuchi')</th>\n",
       "      <td>4</td>\n",
       "    </tr>\n",
       "    <tr>\n",
       "      <th>('현지기압', '54026.0')</th>\n",
       "      <td>4</td>\n",
       "    </tr>\n",
       "    <tr>\n",
       "      <th>('pm10', 'shanghai')</th>\n",
       "      <td>4</td>\n",
       "    </tr>\n",
       "    <tr>\n",
       "      <th>('서울', '도매소매업')</th>\n",
       "      <td>4</td>\n",
       "    </tr>\n",
       "    <tr>\n",
       "      <th>('pm10', 'nanjing')</th>\n",
       "      <td>4</td>\n",
       "    </tr>\n",
       "    <tr>\n",
       "      <th>('이슬점온도', '90')</th>\n",
       "      <td>4</td>\n",
       "    </tr>\n",
       "    <tr>\n",
       "      <th>('pm25', 'qingdao')</th>\n",
       "      <td>4</td>\n",
       "    </tr>\n",
       "    <tr>\n",
       "      <th>('pm25', 'nanjing')</th>\n",
       "      <td>4</td>\n",
       "    </tr>\n",
       "    <tr>\n",
       "      <th>('습도', '105')</th>\n",
       "      <td>4</td>\n",
       "    </tr>\n",
       "    <tr>\n",
       "      <th>('습도', '22102')</th>\n",
       "      <td>4</td>\n",
       "    </tr>\n",
       "    <tr>\n",
       "      <th>('기온', '108')</th>\n",
       "      <td>4</td>\n",
       "    </tr>\n",
       "    <tr>\n",
       "      <th>('pm25', 'shanghai')</th>\n",
       "      <td>4</td>\n",
       "    </tr>\n",
       "    <tr>\n",
       "      <th>('전라도', '운수창고업')</th>\n",
       "      <td>4</td>\n",
       "    </tr>\n",
       "  </tbody>\n",
       "</table>\n",
       "</div>"
      ],
      "text/plain": [
       "                       count\n",
       "피처명                         \n",
       "('GUST풍속', '22104')        4\n",
       "crude_steel                4\n",
       "('기온', '22106')            4\n",
       "('전라도', '정보통신업')           4\n",
       "insulating_glass           4\n",
       "('해면기압', '57494.0')        4\n",
       "('이슬점 온도', '50745.0')      4\n",
       "('기온', '22102')            4\n",
       "('이슬점 온도', '59287.0')      4\n",
       "('pm10', 'qingdao')        4\n",
       "corrugated_steel_bar       4\n",
       "('GUST풍속', '22184')        4\n",
       "('습도', '51463.0')          4\n",
       "('pm10', 'guangzhou')      4\n",
       "('기온', '22104')            4\n",
       "('현지기압', '90')             4\n",
       "('습도', '279')              4\n",
       "보통휘발유                      4\n",
       "('습도', '184')              4\n",
       "('GUST풍속', '22103')        4\n",
       "('pm25', 'urumuchi')       4\n",
       "('현지기압', '54026.0')        4\n",
       "('pm10', 'shanghai')       4\n",
       "('서울', '도매소매업')            4\n",
       "('pm10', 'nanjing')        4\n",
       "('이슬점온도', '90')            4\n",
       "('pm25', 'qingdao')        4\n",
       "('pm25', 'nanjing')        4\n",
       "('습도', '105')              4\n",
       "('습도', '22102')            4\n",
       "('기온', '108')              4\n",
       "('pm25', 'shanghai')       4\n",
       "('전라도', '운수창고업')           4"
      ]
     },
     "execution_count": 199,
     "metadata": {},
     "output_type": "execute_result"
    }
   ],
   "source": [
    "feat_concat[feat_concat[\"count\"] == 4]"
   ]
  },
  {
   "cell_type": "code",
   "execution_count": 202,
   "id": "21161002",
   "metadata": {},
   "outputs": [
    {
     "data": {
      "text/html": [
       "<div>\n",
       "<style scoped>\n",
       "    .dataframe tbody tr th:only-of-type {\n",
       "        vertical-align: middle;\n",
       "    }\n",
       "\n",
       "    .dataframe tbody tr th {\n",
       "        vertical-align: top;\n",
       "    }\n",
       "\n",
       "    .dataframe thead th {\n",
       "        text-align: right;\n",
       "    }\n",
       "</style>\n",
       "<table border=\"1\" class=\"dataframe\">\n",
       "  <thead>\n",
       "    <tr style=\"text-align: right;\">\n",
       "      <th></th>\n",
       "      <th>count</th>\n",
       "    </tr>\n",
       "    <tr>\n",
       "      <th>피처명</th>\n",
       "      <th></th>\n",
       "    </tr>\n",
       "  </thead>\n",
       "  <tbody>\n",
       "    <tr>\n",
       "      <th>('GUST풍속', '22106')</th>\n",
       "      <td>3</td>\n",
       "    </tr>\n",
       "    <tr>\n",
       "      <th>('해면기압', '58238.0')</th>\n",
       "      <td>3</td>\n",
       "    </tr>\n",
       "    <tr>\n",
       "      <th>('현지기압', '56029.0')</th>\n",
       "      <td>3</td>\n",
       "    </tr>\n",
       "    <tr>\n",
       "      <th>tires</th>\n",
       "      <td>3</td>\n",
       "    </tr>\n",
       "    <tr>\n",
       "      <th>('이슬점 온도', '58847.0')</th>\n",
       "      <td>3</td>\n",
       "    </tr>\n",
       "    <tr>\n",
       "      <th>('기온', '22103')</th>\n",
       "      <td>3</td>\n",
       "    </tr>\n",
       "    <tr>\n",
       "      <th>('습도', '58666.0')</th>\n",
       "      <td>3</td>\n",
       "    </tr>\n",
       "    <tr>\n",
       "      <th>('이슬점온도', '102')</th>\n",
       "      <td>3</td>\n",
       "    </tr>\n",
       "    <tr>\n",
       "      <th>('기온', '90')</th>\n",
       "      <td>3</td>\n",
       "    </tr>\n",
       "    <tr>\n",
       "      <th>('이슬점온도', '279')</th>\n",
       "      <td>3</td>\n",
       "    </tr>\n",
       "    <tr>\n",
       "      <th>('이슬점온도', '127')</th>\n",
       "      <td>3</td>\n",
       "    </tr>\n",
       "    <tr>\n",
       "      <th>('전라도', '도매소매업')</th>\n",
       "      <td>3</td>\n",
       "    </tr>\n",
       "    <tr>\n",
       "      <th>('습도', '277')</th>\n",
       "      <td>3</td>\n",
       "    </tr>\n",
       "    <tr>\n",
       "      <th>('이슬점온도', '159')</th>\n",
       "      <td>3</td>\n",
       "    </tr>\n",
       "    <tr>\n",
       "      <th>('습도', '22101')</th>\n",
       "      <td>3</td>\n",
       "    </tr>\n",
       "    <tr>\n",
       "      <th>air_conditioners_2</th>\n",
       "      <td>3</td>\n",
       "    </tr>\n",
       "    <tr>\n",
       "      <th>('이슬점온도', '108')</th>\n",
       "      <td>3</td>\n",
       "    </tr>\n",
       "    <tr>\n",
       "      <th>('이슬점 온도', '53845.0')</th>\n",
       "      <td>3</td>\n",
       "    </tr>\n",
       "    <tr>\n",
       "      <th>cn_szse</th>\n",
       "      <td>3</td>\n",
       "    </tr>\n",
       "    <tr>\n",
       "      <th>('pm10', 'beijing')</th>\n",
       "      <td>3</td>\n",
       "    </tr>\n",
       "    <tr>\n",
       "      <th>('이슬점온도', '133')</th>\n",
       "      <td>3</td>\n",
       "    </tr>\n",
       "    <tr>\n",
       "      <th>종가</th>\n",
       "      <td>3</td>\n",
       "    </tr>\n",
       "    <tr>\n",
       "      <th>('이슬점온도', '232')</th>\n",
       "      <td>3</td>\n",
       "    </tr>\n",
       "    <tr>\n",
       "      <th>('pm25', 'wuhan')</th>\n",
       "      <td>3</td>\n",
       "    </tr>\n",
       "    <tr>\n",
       "      <th>('충청도_생산', '전기업 및 가스업')</th>\n",
       "      <td>3</td>\n",
       "    </tr>\n",
       "    <tr>\n",
       "      <th>고급휘발유</th>\n",
       "      <td>3</td>\n",
       "    </tr>\n",
       "    <tr>\n",
       "      <th>('기온', '105')</th>\n",
       "      <td>3</td>\n",
       "    </tr>\n",
       "    <tr>\n",
       "      <th>('강원도_생산', '광업')</th>\n",
       "      <td>3</td>\n",
       "    </tr>\n",
       "    <tr>\n",
       "      <th>이슬점 온도</th>\n",
       "      <td>3</td>\n",
       "    </tr>\n",
       "    <tr>\n",
       "      <th>('습도', '108')</th>\n",
       "      <td>3</td>\n",
       "    </tr>\n",
       "    <tr>\n",
       "      <th>zinc</th>\n",
       "      <td>3</td>\n",
       "    </tr>\n",
       "    <tr>\n",
       "      <th>종가.1</th>\n",
       "      <td>3</td>\n",
       "    </tr>\n",
       "  </tbody>\n",
       "</table>\n",
       "</div>"
      ],
      "text/plain": [
       "                         count\n",
       "피처명                           \n",
       "('GUST풍속', '22106')          3\n",
       "('해면기압', '58238.0')          3\n",
       "('현지기압', '56029.0')          3\n",
       "tires                        3\n",
       "('이슬점 온도', '58847.0')        3\n",
       "('기온', '22103')              3\n",
       "('습도', '58666.0')            3\n",
       "('이슬점온도', '102')             3\n",
       "('기온', '90')                 3\n",
       "('이슬점온도', '279')             3\n",
       "('이슬점온도', '127')             3\n",
       "('전라도', '도매소매업')             3\n",
       "('습도', '277')                3\n",
       "('이슬점온도', '159')             3\n",
       "('습도', '22101')              3\n",
       "air_conditioners_2           3\n",
       "('이슬점온도', '108')             3\n",
       "('이슬점 온도', '53845.0')        3\n",
       "cn_szse                      3\n",
       "('pm10', 'beijing')          3\n",
       "('이슬점온도', '133')             3\n",
       "종가                           3\n",
       "('이슬점온도', '232')             3\n",
       "('pm25', 'wuhan')            3\n",
       "('충청도_생산', '전기업 및 가스업')      3\n",
       "고급휘발유                        3\n",
       "('기온', '105')                3\n",
       "('강원도_생산', '광업')             3\n",
       "이슬점 온도                       3\n",
       "('습도', '108')                3\n",
       "zinc                         3\n",
       "종가.1                         3"
      ]
     },
     "execution_count": 202,
     "metadata": {},
     "output_type": "execute_result"
    }
   ],
   "source": [
    "feat_concat[feat_concat[\"count\"] == 3]"
   ]
  },
  {
   "cell_type": "markdown",
   "id": "60341417",
   "metadata": {},
   "source": [
    "- 33개의 피처가 4번 모두 등장\n",
    "- 32개의 피처가 3번 등장"
   ]
  },
  {
   "cell_type": "markdown",
   "id": "7ad2a597",
   "metadata": {},
   "source": [
    "- 중국의 단열 유리 생산은 중요도가 상당히 높은 피처로 파악됨\n",
    "    - 상관계수 분석에서도 일반 유리, 접합 유리, 단열 유리 모두 유의미한 것으로 파악됨\n",
    "    - 유리 생산과 먼지 오염 관련 내용 https://www.agc-glass.eu/en/sustainability/decarbonisation/environmental-impact"
   ]
  },
  {
   "cell_type": "markdown",
   "id": "dcd4e815",
   "metadata": {},
   "source": [
    "- 타이어 역시 3번 등장한 중요도가 높은 피처\n",
    "    - 도로 주행 시 타이어 마모로 인한 미세먼지 발생 https://news.kbs.co.kr/news/pc/view/view.do?ncd=5575028"
   ]
  },
  {
   "cell_type": "markdown",
   "id": "2daeb38e",
   "metadata": {},
   "source": [
    "- 철강 관련 제품들의 생산량이 중요도가 높게 책정됨\n",
    "    - 제철소의 미세먼지 발생 관련 기사 https://www.idjnews.kr/news/articleView.html?idxno=137144"
   ]
  },
  {
   "cell_type": "markdown",
   "id": "35cafa1b",
   "metadata": {},
   "source": [
    "- 보통 휘발유와 고급 휘발유 모두 4회, 3회 포함됨\n",
    "    - 자동차와 미세먼지 발생 관련 기사 https://www.pressian.com/pages/articles/2021030508311008716"
   ]
  },
  {
   "cell_type": "code",
   "execution_count": null,
   "id": "68565360",
   "metadata": {},
   "outputs": [],
   "source": []
  },
  {
   "cell_type": "code",
   "execution_count": null,
   "id": "bb792bad",
   "metadata": {},
   "outputs": [],
   "source": []
  },
  {
   "cell_type": "code",
   "execution_count": null,
   "id": "224897ae",
   "metadata": {},
   "outputs": [],
   "source": []
  }
 ],
 "metadata": {
  "kernelspec": {
   "display_name": "Python 3 (ipykernel)",
   "language": "python",
   "name": "python3"
  },
  "language_info": {
   "codemirror_mode": {
    "name": "ipython",
    "version": 3
   },
   "file_extension": ".py",
   "mimetype": "text/x-python",
   "name": "python",
   "nbconvert_exporter": "python",
   "pygments_lexer": "ipython3",
   "version": "3.11.7"
  }
 },
 "nbformat": 4,
 "nbformat_minor": 5
}
