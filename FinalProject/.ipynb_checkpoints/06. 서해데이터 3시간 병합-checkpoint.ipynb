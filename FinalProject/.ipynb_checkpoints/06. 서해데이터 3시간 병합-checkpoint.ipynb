{
 "cells": [
  {
   "cell_type": "code",
   "execution_count": 219,
   "id": "d84fbe38",
   "metadata": {},
   "outputs": [],
   "source": [
    "import pandas as pd\n",
    "import numpy as np\n",
    "from datetime import datetime, timedelta\n",
    "from tqdm import tqdm\n",
    "from sklearn.impute import KNNImputer\n",
    "from sklearn.preprocessing import StandardScaler"
   ]
  },
  {
   "cell_type": "markdown",
   "id": "2d148d9a",
   "metadata": {},
   "source": [
    "### 사용 함수"
   ]
  },
  {
   "cell_type": "code",
   "execution_count": 2,
   "id": "800e719d",
   "metadata": {},
   "outputs": [],
   "source": [
    "def average_angle_ignore_nan(degrees):\n",
    "    \"\"\"\n",
    "    주어진 각도의 리스트에서 NaN 값을 무시하고 평균을 계산합니다.\n",
    "    \n",
    "    :param degrees: 각도의 리스트 (0-360도)\n",
    "    :return: 평균 각도 (0-360도)\n",
    "    \"\"\"\n",
    "    # NaN 값을 무시하고 유효한 각도만 선택\n",
    "    valid_degrees = [deg for deg in degrees if not pd.isna(deg)]\n",
    "    \n",
    "    if not valid_degrees:\n",
    "        return np.nan  # 유효한 각도가 없는 경우 NaN 반환\n",
    "    \n",
    "    # 유효한 각도를 라디안으로 변환\n",
    "    radians = np.deg2rad(valid_degrees)\n",
    "    \n",
    "    # x, y 좌표 계산\n",
    "    x_coords = np.cos(radians)\n",
    "    y_coords = np.sin(radians)\n",
    "    \n",
    "    # x, y 좌표의 평균 계산\n",
    "    x_mean = np.mean(x_coords)\n",
    "    y_mean = np.mean(y_coords)\n",
    "    \n",
    "    # 평균 좌표를 각도로 변환\n",
    "    mean_rad = np.arctan2(y_mean, x_mean)\n",
    "    mean_deg = np.rad2deg(mean_rad)\n",
    "    \n",
    "    # 결과를 0-360도 사이의 값으로 변환\n",
    "    mean_deg = mean_deg % 360\n",
    "    \n",
    "    return mean_deg"
   ]
  },
  {
   "cell_type": "code",
   "execution_count": 3,
   "id": "b58d89de",
   "metadata": {},
   "outputs": [],
   "source": [
    "def horizontal_average(dataframe, datetime, column, threshold = 3, digits = 1):\n",
    "    '''\n",
    "    동일한 시간의 여러 지점 데이터를 확인한 후 해당 데이터들의 평균값을 반환하는 함수\n",
    "    threshold 값을 입력하여 허용하는 NaN 값의 최대치를 설정할 수 있음\n",
    "    '''  \n",
    "    # 입력된 일시와 컬럼명에 해당하는 데이터 변수화\n",
    "    data = dataframe.loc[datetime, column]\n",
    "    \n",
    "    # 임시로 nan값 입력\n",
    "    mean = np.nan\n",
    "    \n",
    "    # data에 NaN값의 수가 threshold를 초과하는지 확인\n",
    "    if data.isna().sum() <= threshold:\n",
    "        # nan값을 제외한 값으로만 리스트 생성\n",
    "        value_list = [i for i in data if not pd.isna(i)]\n",
    "        \n",
    "        # 평균값 산출 이후 반올림\n",
    "        mean = np.mean(value_list)\n",
    "        mean = round(mean, digits)\n",
    "               \n",
    "    return mean"
   ]
  },
  {
   "cell_type": "code",
   "execution_count": 211,
   "id": "a85f16d2",
   "metadata": {},
   "outputs": [],
   "source": [
    "# 연속된 True 값을 계산하는 함수\n",
    "def calculate_consecutive_trues(series):\n",
    "    n = len(series)\n",
    "    result = [0] * n\n",
    "    count = 0\n",
    "\n",
    "    # 첫 번째 패스: 연속된 True의 그룹 길이를 계산\n",
    "    for i in range(n):\n",
    "        if series[i]:\n",
    "            count += 1\n",
    "        else:\n",
    "            count = 0\n",
    "        result[i] = count\n",
    "\n",
    "    # 두 번째 패스: 그룹의 마지막 True 값에 그룹의 전체 길이를 설정\n",
    "    final_result = [0] * n\n",
    "    i = 0\n",
    "    while i < n:\n",
    "        if result[i] > 0:\n",
    "            length = result[i]\n",
    "            for j in range(length):\n",
    "                final_result[i - j] = length\n",
    "            i += length\n",
    "        else:\n",
    "            i += 1\n",
    "\n",
    "    return final_result"
   ]
  },
  {
   "cell_type": "code",
   "execution_count": null,
   "id": "b52540b6",
   "metadata": {},
   "outputs": [],
   "source": []
  },
  {
   "cell_type": "code",
   "execution_count": 4,
   "id": "3d2dc1c9",
   "metadata": {},
   "outputs": [],
   "source": [
    "ws_df = pd.read_csv(\"C:/Users/ITSC/Documents/2015~2024_국내해양데이터_전처리.csv\")"
   ]
  },
  {
   "cell_type": "code",
   "execution_count": 5,
   "id": "c4e7aea4",
   "metadata": {},
   "outputs": [],
   "source": [
    "# 중복되는 컬럼 제거\n",
    "ws_df = ws_df.drop([\"Unnamed: 1\", \"지점.1\"], axis = 1)"
   ]
  },
  {
   "cell_type": "code",
   "execution_count": 6,
   "id": "49d66cee",
   "metadata": {},
   "outputs": [
    {
     "data": {
      "text/html": [
       "<div>\n",
       "<style scoped>\n",
       "    .dataframe tbody tr th:only-of-type {\n",
       "        vertical-align: middle;\n",
       "    }\n",
       "\n",
       "    .dataframe tbody tr th {\n",
       "        vertical-align: top;\n",
       "    }\n",
       "\n",
       "    .dataframe thead th {\n",
       "        text-align: right;\n",
       "    }\n",
       "</style>\n",
       "<table border=\"1\" class=\"dataframe\">\n",
       "  <thead>\n",
       "    <tr style=\"text-align: right;\">\n",
       "      <th></th>\n",
       "      <th>지점</th>\n",
       "      <th>일시</th>\n",
       "      <th>풍속(m/s)</th>\n",
       "      <th>풍향(deg)</th>\n",
       "      <th>GUST풍속(m/s)</th>\n",
       "      <th>현지기압(hPa)</th>\n",
       "      <th>습도(%)</th>\n",
       "      <th>기온(°C)</th>\n",
       "      <th>수온(°C)</th>\n",
       "      <th>최대파고(m)</th>\n",
       "      <th>유의파고(m)</th>\n",
       "      <th>평균파고(m)</th>\n",
       "      <th>파주기(sec)</th>\n",
       "      <th>파향(deg)</th>\n",
       "    </tr>\n",
       "  </thead>\n",
       "  <tbody>\n",
       "    <tr>\n",
       "      <th>0</th>\n",
       "      <td>21229</td>\n",
       "      <td>2015-01-01 00:00:00</td>\n",
       "      <td>6.3</td>\n",
       "      <td>336.0</td>\n",
       "      <td>11.9</td>\n",
       "      <td>1010.7</td>\n",
       "      <td>96.0</td>\n",
       "      <td>0.2</td>\n",
       "      <td>13.5</td>\n",
       "      <td>3.0</td>\n",
       "      <td>2.3</td>\n",
       "      <td>1.7</td>\n",
       "      <td>7.1</td>\n",
       "      <td>147.0</td>\n",
       "    </tr>\n",
       "    <tr>\n",
       "      <th>1</th>\n",
       "      <td>21229</td>\n",
       "      <td>2015-01-01 01:00:00</td>\n",
       "      <td>12.1</td>\n",
       "      <td>302.0</td>\n",
       "      <td>18.1</td>\n",
       "      <td>1012.6</td>\n",
       "      <td>96.0</td>\n",
       "      <td>0.2</td>\n",
       "      <td>13.5</td>\n",
       "      <td>3.4</td>\n",
       "      <td>2.7</td>\n",
       "      <td>1.9</td>\n",
       "      <td>7.1</td>\n",
       "      <td>185.0</td>\n",
       "    </tr>\n",
       "    <tr>\n",
       "      <th>2</th>\n",
       "      <td>21229</td>\n",
       "      <td>2015-01-01 02:00:00</td>\n",
       "      <td>10.7</td>\n",
       "      <td>288.0</td>\n",
       "      <td>14.7</td>\n",
       "      <td>1012.1</td>\n",
       "      <td>96.0</td>\n",
       "      <td>-0.2</td>\n",
       "      <td>13.5</td>\n",
       "      <td>3.5</td>\n",
       "      <td>2.7</td>\n",
       "      <td>1.9</td>\n",
       "      <td>6.4</td>\n",
       "      <td>202.0</td>\n",
       "    </tr>\n",
       "    <tr>\n",
       "      <th>3</th>\n",
       "      <td>21229</td>\n",
       "      <td>2015-01-01 03:00:00</td>\n",
       "      <td>11.0</td>\n",
       "      <td>295.0</td>\n",
       "      <td>17.8</td>\n",
       "      <td>1011.8</td>\n",
       "      <td>84.0</td>\n",
       "      <td>1.1</td>\n",
       "      <td>13.5</td>\n",
       "      <td>3.9</td>\n",
       "      <td>2.6</td>\n",
       "      <td>1.8</td>\n",
       "      <td>7.1</td>\n",
       "      <td>179.0</td>\n",
       "    </tr>\n",
       "    <tr>\n",
       "      <th>4</th>\n",
       "      <td>21229</td>\n",
       "      <td>2015-01-01 04:00:00</td>\n",
       "      <td>14.1</td>\n",
       "      <td>298.0</td>\n",
       "      <td>23.3</td>\n",
       "      <td>1011.6</td>\n",
       "      <td>95.0</td>\n",
       "      <td>0.4</td>\n",
       "      <td>13.5</td>\n",
       "      <td>3.9</td>\n",
       "      <td>3.5</td>\n",
       "      <td>2.5</td>\n",
       "      <td>7.1</td>\n",
       "      <td>189.0</td>\n",
       "    </tr>\n",
       "  </tbody>\n",
       "</table>\n",
       "</div>"
      ],
      "text/plain": [
       "      지점                   일시  풍속(m/s)  풍향(deg)  GUST풍속(m/s)  현지기압(hPa)  \\\n",
       "0  21229  2015-01-01 00:00:00      6.3    336.0         11.9     1010.7   \n",
       "1  21229  2015-01-01 01:00:00     12.1    302.0         18.1     1012.6   \n",
       "2  21229  2015-01-01 02:00:00     10.7    288.0         14.7     1012.1   \n",
       "3  21229  2015-01-01 03:00:00     11.0    295.0         17.8     1011.8   \n",
       "4  21229  2015-01-01 04:00:00     14.1    298.0         23.3     1011.6   \n",
       "\n",
       "   습도(%)  기온(°C)  수온(°C)  최대파고(m)  유의파고(m)  평균파고(m)  파주기(sec)  파향(deg)  \n",
       "0   96.0     0.2    13.5      3.0      2.3      1.7       7.1    147.0  \n",
       "1   96.0     0.2    13.5      3.4      2.7      1.9       7.1    185.0  \n",
       "2   96.0    -0.2    13.5      3.5      2.7      1.9       6.4    202.0  \n",
       "3   84.0     1.1    13.5      3.9      2.6      1.8       7.1    179.0  \n",
       "4   95.0     0.4    13.5      3.9      3.5      2.5       7.1    189.0  "
      ]
     },
     "execution_count": 6,
     "metadata": {},
     "output_type": "execute_result"
    }
   ],
   "source": [
    "ws_df.head()"
   ]
  },
  {
   "cell_type": "code",
   "execution_count": null,
   "id": "ec24339b",
   "metadata": {},
   "outputs": [],
   "source": []
  },
  {
   "cell_type": "markdown",
   "id": "bc95cafa",
   "metadata": {},
   "source": [
    "### 데이터가 충분하지 않은 지점 제거"
   ]
  },
  {
   "cell_type": "code",
   "execution_count": 7,
   "id": "72800a39",
   "metadata": {},
   "outputs": [
    {
     "data": {
      "text/plain": [
       "지점\n",
       "22103    79498\n",
       "22105    79260\n",
       "22108    76963\n",
       "22106    76554\n",
       "21229    75906\n",
       "22104    75547\n",
       "22183    74904\n",
       "22102    74660\n",
       "22101    73749\n",
       "22107    71270\n",
       "22184    70080\n",
       "22187    69530\n",
       "22188    68417\n",
       "22190    67878\n",
       "22189    66444\n",
       "22185    62970\n",
       "22186    62312\n",
       "22192    34198\n",
       "22298    33010\n",
       "22191    31594\n",
       "22297    31348\n",
       "22300    29496\n",
       "22299    28473\n",
       "22301    22780\n",
       "22302    22434\n",
       "22303    22390\n",
       "22304    11813\n",
       "22305     8474\n",
       "22309     4335\n",
       "22310     3984\n",
       "22311     3967\n",
       "22193     2322\n",
       "22194     2321\n",
       "Name: count, dtype: int64"
      ]
     },
     "execution_count": 7,
     "metadata": {},
     "output_type": "execute_result"
    }
   ],
   "source": [
    "# 지점별 데이터 수량 확인\n",
    "ws_df[\"지점\"].value_counts()"
   ]
  },
  {
   "cell_type": "markdown",
   "id": "0be6089a",
   "metadata": {},
   "source": [
    "- 15년 1월 1일부터 24년 5월 19일까지는 3426일, 시간으로는 최대 82224개의 데이터가 존재할 수 있음\n",
    "- 7만개 이하의 데이터 수량을 가진 지점들을 확인해본 결과 첫 관측 날짜가 15년 1월 1일이 아닌 것이 확인됨\n",
    "- 15년 1월 1일부터 관측을 시작하지 않은 지점은 데이터에서 제외하기로 결정\n",
    "    - 결과적으로 11개의 지점만 남기기로 함\n",
    "    - 동일한 기준으로 중국, 한국 기상데이터도 지점을 제거할 예정"
   ]
  },
  {
   "cell_type": "code",
   "execution_count": 8,
   "id": "37bf83d6",
   "metadata": {},
   "outputs": [],
   "source": [
    "# 데이터 수량이 7만개 이상인 지점 번호만 리스트로 저장\n",
    "keep_loc = ws_df[\"지점\"].value_counts()[:11]"
   ]
  },
  {
   "cell_type": "code",
   "execution_count": 9,
   "id": "b091369e",
   "metadata": {},
   "outputs": [],
   "source": [
    "# keep_loc 에 지점이 포함된 데이터만 남기기\n",
    "ws_df2 = ws_df[ws_df[\"지점\"].map(lambda x: x in keep_loc)]"
   ]
  },
  {
   "cell_type": "code",
   "execution_count": 10,
   "id": "fb725b39",
   "metadata": {},
   "outputs": [],
   "source": [
    "# 컬럼 명칭 수정, 괄호 안의 단위 제거\n",
    "ws_df2.columns = ['지점', '일시', '풍속', '풍향', 'GUST풍속', '현지기압', '습도', '기온', '수온', '최대파고', '유의파고', '평균파고', '파주기', '파향']"
   ]
  },
  {
   "cell_type": "code",
   "execution_count": 11,
   "id": "53f5ed67",
   "metadata": {},
   "outputs": [
    {
     "name": "stderr",
     "output_type": "stream",
     "text": [
      "C:\\Users\\ITSC\\AppData\\Local\\Temp\\ipykernel_9464\\1425953076.py:2: SettingWithCopyWarning: \n",
      "A value is trying to be set on a copy of a slice from a DataFrame.\n",
      "Try using .loc[row_indexer,col_indexer] = value instead\n",
      "\n",
      "See the caveats in the documentation: https://pandas.pydata.org/pandas-docs/stable/user_guide/indexing.html#returning-a-view-versus-a-copy\n",
      "  ws_df2[\"일시\"] = ws_df2[\"일시\"].map(lambda x: datetime.strptime(x, \"%Y-%m-%d %H:%M:%S\"))\n"
     ]
    }
   ],
   "source": [
    "# 일시 피처를 datetime 타입으로 변환\n",
    "ws_df2[\"일시\"] = ws_df2[\"일시\"].map(lambda x: datetime.strptime(x, \"%Y-%m-%d %H:%M:%S\"))"
   ]
  },
  {
   "cell_type": "code",
   "execution_count": 12,
   "id": "155db7b3",
   "metadata": {},
   "outputs": [],
   "source": [
    "ws_df2 = ws_df2.iloc[:, :-6]"
   ]
  },
  {
   "cell_type": "code",
   "execution_count": 13,
   "id": "9741bf08",
   "metadata": {},
   "outputs": [],
   "source": [
    "ws_pivot = ws_df2.pivot(index = [\"일시\"], columns = [\"지점\"], values = ws_df2.columns[2:])"
   ]
  },
  {
   "cell_type": "code",
   "execution_count": null,
   "id": "4f4bf8b2",
   "metadata": {},
   "outputs": [],
   "source": []
  },
  {
   "cell_type": "markdown",
   "id": "43c0e747",
   "metadata": {},
   "source": [
    "### 3시간 단위의 데이터프레임 생성"
   ]
  },
  {
   "cell_type": "code",
   "execution_count": 15,
   "id": "69bdd775",
   "metadata": {},
   "outputs": [],
   "source": [
    "# 15년 1월 1일부터 24년 5월 19일까지 3시간 단위의 시간 리스트 생성\n",
    "start_time = ws_df2[\"일시\"].min()\n",
    "time_list = [start_time + (i * timedelta(hours = 3)) for i in range(0, 3427*8)]"
   ]
  },
  {
   "cell_type": "code",
   "execution_count": 16,
   "id": "12f86a84",
   "metadata": {},
   "outputs": [],
   "source": [
    "# 시간별로 데이터프레임 생성\n",
    "time_df = pd.DataFrame(time_list)\n",
    "time_df.columns = [\"일시\"]"
   ]
  },
  {
   "cell_type": "code",
   "execution_count": 179,
   "id": "13225638",
   "metadata": {},
   "outputs": [],
   "source": [
    "# time_df가 ws_pivot과 동일한 인덱스와 컬럼을 지니도록 변경\n",
    "for i in ws_pivot.columns:\n",
    "    time_df[i] = np.nan\n",
    "    \n",
    "time_df = time_df.set_index(\"일시\")\n",
    "time_df.columns = ws_pivot.columns"
   ]
  },
  {
   "cell_type": "code",
   "execution_count": 182,
   "id": "c63a6d16",
   "metadata": {},
   "outputs": [
    {
     "name": "stderr",
     "output_type": "stream",
     "text": [
      "100%|████████████████████████████████████████████████████████████████████████████| 27408/27408 [15:26<00:00, 29.59it/s]\n"
     ]
    }
   ],
   "source": [
    "# 3시간 단위로 평균값을 구한 후 time_df에 입력. 풍향은 예외\n",
    "for i in tqdm(time_df.index):\n",
    "    for j in time_df.drop(\"풍향\", axis = 1).columns:\n",
    "        # 각각 3개의 시간을 지정\n",
    "        time0 = i\n",
    "        time1 = i - timedelta(hours = 1)\n",
    "        time2 = i - timedelta(hours = 2)\n",
    "        \n",
    "        # 3개의 값을 하나의 리스트에 담기\n",
    "        value_list = []\n",
    "        \n",
    "        for time in [time0, time1, time2]:\n",
    "            try:\n",
    "                value = ws_pivot.loc[time, j]\n",
    "                \n",
    "            except:\n",
    "                value = np.nan\n",
    "                \n",
    "            value_list.append(value)\n",
    "        \n",
    "        # nan값이 아닌 데이터로만 이루어진 value_list2\n",
    "        value_list2 = [i for i in value_list if i != np.nan]\n",
    "        mean = np.nan\n",
    "        \n",
    "        if len(value_list2) != 0:\n",
    "            mean = np.mean(value_list2)\n",
    "        \n",
    "        # 입력\n",
    "        time_df.loc[i, j] = mean"
   ]
  },
  {
   "cell_type": "code",
   "execution_count": 188,
   "id": "fca466ef",
   "metadata": {},
   "outputs": [],
   "source": [
    "# 반올림 처리. 습도는 소수점 없이 기존 양식 유지\n",
    "time_df[\"풍속\"] = time_df[\"풍속\"].apply(lambda x: round(x, 1))\n",
    "time_df[\"GUST풍속\"] = time_df[\"GUST풍속\"].apply(lambda x: round(x, 1))\n",
    "time_df[\"현지기압\"] = time_df[\"현지기압\"].apply(lambda x: round(x, 1))\n",
    "time_df[\"습도\"] = time_df[\"습도\"].apply(lambda x: round(x, 0))\n",
    "time_df[\"기온\"] = time_df[\"기온\"].apply(lambda x: round(x, 1))"
   ]
  },
  {
   "cell_type": "code",
   "execution_count": 192,
   "id": "9fa52094",
   "metadata": {},
   "outputs": [],
   "source": [
    "# 15년 1월 1일 데이터 입력\n",
    "time_df.iloc[0, :] = ws_pivot.iloc[0, :]"
   ]
  },
  {
   "cell_type": "code",
   "execution_count": 280,
   "id": "29ca2b90",
   "metadata": {},
   "outputs": [],
   "source": [
    "# 저장\n",
    "time_df.to_csv(\"./wsea_weather_3h.csv\")"
   ]
  },
  {
   "cell_type": "code",
   "execution_count": null,
   "id": "5dd13f40",
   "metadata": {},
   "outputs": [],
   "source": []
  },
  {
   "cell_type": "markdown",
   "id": "b233f36c",
   "metadata": {},
   "source": [
    "### 풍향을 제외한 피처들의 수평 평균으로 결측치 제거"
   ]
  },
  {
   "cell_type": "code",
   "execution_count": 328,
   "id": "6ba8d25e",
   "metadata": {},
   "outputs": [
    {
     "name": "stderr",
     "output_type": "stream",
     "text": [
      "100%|███████████████████████████████████████████████████████████████████████████| 27416/27416 [00:46<00:00, 594.45it/s]\n"
     ]
    }
   ],
   "source": [
    "column = \"기온\"\n",
    "\n",
    "for time in tqdm(time_df.index):\n",
    "    mean = horizontal_average(time_df, time, column)\n",
    "    time_df.loc[time, column] = time_df.loc[time, column].fillna(mean).tolist()"
   ]
  },
  {
   "cell_type": "code",
   "execution_count": 330,
   "id": "bff1dc10",
   "metadata": {},
   "outputs": [
    {
     "name": "stderr",
     "output_type": "stream",
     "text": [
      "100%|███████████████████████████████████████████████████████████████████████████| 27416/27416 [00:47<00:00, 580.68it/s]\n"
     ]
    }
   ],
   "source": [
    "column = \"풍속\"\n",
    "\n",
    "for time in tqdm(time_df.index):\n",
    "    mean = horizontal_average(time_df, time, column)\n",
    "    time_df.loc[time, column] = time_df.loc[time, column].fillna(mean).tolist()"
   ]
  },
  {
   "cell_type": "code",
   "execution_count": 332,
   "id": "e7fcfd09",
   "metadata": {},
   "outputs": [
    {
     "name": "stderr",
     "output_type": "stream",
     "text": [
      "100%|███████████████████████████████████████████████████████████████████████████| 27416/27416 [00:48<00:00, 565.31it/s]\n"
     ]
    }
   ],
   "source": [
    "column = \"현지기압\"\n",
    "\n",
    "for time in tqdm(time_df.index):\n",
    "    mean = horizontal_average(time_df, time, column)\n",
    "    time_df.loc[time, column] = time_df.loc[time, column].fillna(mean).tolist()"
   ]
  },
  {
   "cell_type": "code",
   "execution_count": 338,
   "id": "d598412d",
   "metadata": {},
   "outputs": [
    {
     "name": "stderr",
     "output_type": "stream",
     "text": [
      "100%|███████████████████████████████████████████████████████████████████████████| 27416/27416 [00:45<00:00, 608.13it/s]\n"
     ]
    }
   ],
   "source": [
    "column = \"습도\"\n",
    "\n",
    "for time in tqdm(time_df.index):\n",
    "    mean = horizontal_average(time_df, time, column, digits = 0)\n",
    "    time_df.loc[time, column] = time_df.loc[time, column].fillna(mean).tolist()"
   ]
  },
  {
   "cell_type": "code",
   "execution_count": 334,
   "id": "7d473823",
   "metadata": {},
   "outputs": [
    {
     "name": "stderr",
     "output_type": "stream",
     "text": [
      "100%|███████████████████████████████████████████████████████████████████████████| 27416/27416 [00:46<00:00, 583.68it/s]\n"
     ]
    }
   ],
   "source": [
    "column = \"GUST풍속\"\n",
    "\n",
    "for time in tqdm(time_df.index):\n",
    "    mean = horizontal_average(time_df, time, column)\n",
    "    time_df.loc[time, column] = time_df.loc[time, column].fillna(mean).tolist()"
   ]
  },
  {
   "cell_type": "code",
   "execution_count": null,
   "id": "d192291e",
   "metadata": {},
   "outputs": [],
   "source": []
  },
  {
   "cell_type": "markdown",
   "id": "eed1038b",
   "metadata": {},
   "source": [
    "### 풍향 데이터 3시간 단위로 평균낸 후 time_df에 입력"
   ]
  },
  {
   "cell_type": "code",
   "execution_count": 48,
   "id": "0b7a998b",
   "metadata": {},
   "outputs": [
    {
     "name": "stderr",
     "output_type": "stream",
     "text": [
      "100%|████████████████████████████████████████████████████████████████████████████| 27416/27416 [06:25<00:00, 71.12it/s]\n"
     ]
    }
   ],
   "source": [
    "# 3시간 단위로 평균값을 구한 후 time_df에 입력. 풍향만\n",
    "for i in tqdm(time_df.index):\n",
    "    for j in time_df[\"풍향\"].columns.astype(int):\n",
    "        # 각각 3개의 시간을 지정\n",
    "        time0 = i\n",
    "        time1 = i - timedelta(hours = 1)\n",
    "        time2 = i - timedelta(hours = 2)\n",
    "        \n",
    "        # 3개의 값을 하나의 리스트에 담기\n",
    "        value_list = []\n",
    "        \n",
    "        for time in [time0, time1, time2]:\n",
    "            try:\n",
    "                value = ws_pivot[\"풍향\"].loc[time, j]\n",
    "                \n",
    "            except:\n",
    "                value = np.nan\n",
    "                \n",
    "            value_list.append(value)\n",
    "        \n",
    "        # nan값이 아닌 데이터로만 이루어진 value_list2\n",
    "        value_list2 = [i for i in value_list if i != np.nan]\n",
    "        mean = np.nan\n",
    "        \n",
    "        if len(value_list2) != 0:\n",
    "            mean = average_angle_ignore_nan(value_list2)\n",
    "        \n",
    "        # 입력\n",
    "        time_df.loc[i, (\"풍향\", str(j))] = mean"
   ]
  },
  {
   "cell_type": "code",
   "execution_count": null,
   "id": "e6fa3eb9",
   "metadata": {},
   "outputs": [],
   "source": []
  },
  {
   "cell_type": "markdown",
   "id": "9d1220b9",
   "metadata": {},
   "source": [
    "### 풍향 데이터 결측치 처리"
   ]
  },
  {
   "cell_type": "code",
   "execution_count": 102,
   "id": "3c4cd9b1",
   "metadata": {},
   "outputs": [
    {
     "name": "stderr",
     "output_type": "stream",
     "text": [
      "100%|██████████████████████████████████████████████████████████████████████████| 27416/27416 [00:15<00:00, 1747.07it/s]\n"
     ]
    }
   ],
   "source": [
    "for time in tqdm(time_df.index):\n",
    "    # 각 시간대별 데이터 지정\n",
    "    data = time_df.loc[time, \"풍향\"]\n",
    "    # 데이터에서 na값의 인덱스를 시리즈로 저장\n",
    "    na_index = data[data.isna()].index\n",
    "    \n",
    "    # 각 데이터의 결측치가 3개 이하일 때 진행\n",
    "    if len(na_index) <= 3:\n",
    "        # nan값을 제외한 나머지 각도들의 평균 산출\n",
    "        mean = average_angle_ignore_nan(data)\n",
    "        # 결측치 평균값으로 대체\n",
    "        for idx in na_index:\n",
    "            time_df.loc[time, (\"풍향\", idx)] = mean"
   ]
  },
  {
   "cell_type": "code",
   "execution_count": 113,
   "id": "814726d9",
   "metadata": {},
   "outputs": [],
   "source": [
    "# 풍향 데이터 값을 10단위로 변경\n",
    "time_df[\"풍향\"] = time_df[\"풍향\"].apply(lambda x: round(x, -1))"
   ]
  },
  {
   "cell_type": "code",
   "execution_count": 122,
   "id": "66af87c7",
   "metadata": {},
   "outputs": [],
   "source": [
    "# 풍향 데이터 값 중 360을 0으로 변경\n",
    "time_df[\"풍향\"] = time_df[\"풍향\"].map(lambda x: 0 if x == 360 else x)"
   ]
  },
  {
   "cell_type": "code",
   "execution_count": 124,
   "id": "11901348",
   "metadata": {},
   "outputs": [
    {
     "data": {
      "text/html": [
       "<div>\n",
       "<style scoped>\n",
       "    .dataframe tbody tr th:only-of-type {\n",
       "        vertical-align: middle;\n",
       "    }\n",
       "\n",
       "    .dataframe tbody tr th {\n",
       "        vertical-align: top;\n",
       "    }\n",
       "\n",
       "    .dataframe thead tr th {\n",
       "        text-align: left;\n",
       "    }\n",
       "\n",
       "    .dataframe thead tr:last-of-type th {\n",
       "        text-align: right;\n",
       "    }\n",
       "</style>\n",
       "<table border=\"1\" class=\"dataframe\">\n",
       "  <thead>\n",
       "    <tr>\n",
       "      <th></th>\n",
       "      <th colspan=\"10\" halign=\"left\">풍속</th>\n",
       "      <th>...</th>\n",
       "      <th colspan=\"10\" halign=\"left\">기온</th>\n",
       "    </tr>\n",
       "    <tr>\n",
       "      <th>지점</th>\n",
       "      <th>21229</th>\n",
       "      <th>22101</th>\n",
       "      <th>22102</th>\n",
       "      <th>22103</th>\n",
       "      <th>22104</th>\n",
       "      <th>22105</th>\n",
       "      <th>22106</th>\n",
       "      <th>22107</th>\n",
       "      <th>22108</th>\n",
       "      <th>22183</th>\n",
       "      <th>...</th>\n",
       "      <th>22101</th>\n",
       "      <th>22102</th>\n",
       "      <th>22103</th>\n",
       "      <th>22104</th>\n",
       "      <th>22105</th>\n",
       "      <th>22106</th>\n",
       "      <th>22107</th>\n",
       "      <th>22108</th>\n",
       "      <th>22183</th>\n",
       "      <th>22184</th>\n",
       "    </tr>\n",
       "    <tr>\n",
       "      <th>일시</th>\n",
       "      <th></th>\n",
       "      <th></th>\n",
       "      <th></th>\n",
       "      <th></th>\n",
       "      <th></th>\n",
       "      <th></th>\n",
       "      <th></th>\n",
       "      <th></th>\n",
       "      <th></th>\n",
       "      <th></th>\n",
       "      <th></th>\n",
       "      <th></th>\n",
       "      <th></th>\n",
       "      <th></th>\n",
       "      <th></th>\n",
       "      <th></th>\n",
       "      <th></th>\n",
       "      <th></th>\n",
       "      <th></th>\n",
       "      <th></th>\n",
       "      <th></th>\n",
       "    </tr>\n",
       "  </thead>\n",
       "  <tbody>\n",
       "    <tr>\n",
       "      <th>2015-01-01 00:00:00</th>\n",
       "      <td>6.3</td>\n",
       "      <td>12.8</td>\n",
       "      <td>14.6</td>\n",
       "      <td>14.4</td>\n",
       "      <td>9.9</td>\n",
       "      <td>11.9</td>\n",
       "      <td>12.2</td>\n",
       "      <td>14.0</td>\n",
       "      <td>15.9</td>\n",
       "      <td>7.5</td>\n",
       "      <td>...</td>\n",
       "      <td>3.1</td>\n",
       "      <td>1.7</td>\n",
       "      <td>3.2</td>\n",
       "      <td>2.8</td>\n",
       "      <td>2.8</td>\n",
       "      <td>2.0</td>\n",
       "      <td>7.1</td>\n",
       "      <td>-0.5</td>\n",
       "      <td>0.3</td>\n",
       "      <td>5.2</td>\n",
       "    </tr>\n",
       "    <tr>\n",
       "      <th>2015-01-01 03:00:00</th>\n",
       "      <td>11.0</td>\n",
       "      <td>12.0</td>\n",
       "      <td>14.0</td>\n",
       "      <td>13.0</td>\n",
       "      <td>10.0</td>\n",
       "      <td>13.0</td>\n",
       "      <td>12.5</td>\n",
       "      <td>14.0</td>\n",
       "      <td>13.0</td>\n",
       "      <td>10.0</td>\n",
       "      <td>...</td>\n",
       "      <td>3.5</td>\n",
       "      <td>0.4</td>\n",
       "      <td>2.4</td>\n",
       "      <td>1.5</td>\n",
       "      <td>0.6</td>\n",
       "      <td>1.7</td>\n",
       "      <td>6.3</td>\n",
       "      <td>-2.1</td>\n",
       "      <td>-0.2</td>\n",
       "      <td>4.5</td>\n",
       "    </tr>\n",
       "    <tr>\n",
       "      <th>2015-01-01 06:00:00</th>\n",
       "      <td>14.0</td>\n",
       "      <td>12.0</td>\n",
       "      <td>13.0</td>\n",
       "      <td>14.0</td>\n",
       "      <td>11.0</td>\n",
       "      <td>13.0</td>\n",
       "      <td>13.1</td>\n",
       "      <td>15.0</td>\n",
       "      <td>14.0</td>\n",
       "      <td>11.0</td>\n",
       "      <td>...</td>\n",
       "      <td>4.4</td>\n",
       "      <td>0.8</td>\n",
       "      <td>1.4</td>\n",
       "      <td>-0.0</td>\n",
       "      <td>-0.9</td>\n",
       "      <td>1.3</td>\n",
       "      <td>5.8</td>\n",
       "      <td>-1.3</td>\n",
       "      <td>0.2</td>\n",
       "      <td>2.2</td>\n",
       "    </tr>\n",
       "    <tr>\n",
       "      <th>2015-01-01 09:00:00</th>\n",
       "      <td>12.0</td>\n",
       "      <td>12.0</td>\n",
       "      <td>15.0</td>\n",
       "      <td>14.0</td>\n",
       "      <td>12.0</td>\n",
       "      <td>13.0</td>\n",
       "      <td>12.6</td>\n",
       "      <td>10.0</td>\n",
       "      <td>14.0</td>\n",
       "      <td>11.0</td>\n",
       "      <td>...</td>\n",
       "      <td>5.0</td>\n",
       "      <td>0.5</td>\n",
       "      <td>1.1</td>\n",
       "      <td>-1.3</td>\n",
       "      <td>-0.8</td>\n",
       "      <td>0.8</td>\n",
       "      <td>5.8</td>\n",
       "      <td>-1.7</td>\n",
       "      <td>-0.8</td>\n",
       "      <td>0.8</td>\n",
       "    </tr>\n",
       "    <tr>\n",
       "      <th>2015-01-01 12:00:00</th>\n",
       "      <td>12.0</td>\n",
       "      <td>10.0</td>\n",
       "      <td>13.0</td>\n",
       "      <td>14.0</td>\n",
       "      <td>12.0</td>\n",
       "      <td>13.0</td>\n",
       "      <td>12.3</td>\n",
       "      <td>14.0</td>\n",
       "      <td>13.0</td>\n",
       "      <td>10.0</td>\n",
       "      <td>...</td>\n",
       "      <td>5.0</td>\n",
       "      <td>0.6</td>\n",
       "      <td>1.2</td>\n",
       "      <td>-0.8</td>\n",
       "      <td>-0.7</td>\n",
       "      <td>0.9</td>\n",
       "      <td>5.2</td>\n",
       "      <td>-2.0</td>\n",
       "      <td>0.4</td>\n",
       "      <td>0.9</td>\n",
       "    </tr>\n",
       "  </tbody>\n",
       "</table>\n",
       "<p>5 rows × 66 columns</p>\n",
       "</div>"
      ],
      "text/plain": [
       "                       풍속                                                  \\\n",
       "지점                  21229 22101 22102 22103 22104 22105 22106 22107 22108   \n",
       "일시                                                                          \n",
       "2015-01-01 00:00:00   6.3  12.8  14.6  14.4   9.9  11.9  12.2  14.0  15.9   \n",
       "2015-01-01 03:00:00  11.0  12.0  14.0  13.0  10.0  13.0  12.5  14.0  13.0   \n",
       "2015-01-01 06:00:00  14.0  12.0  13.0  14.0  11.0  13.0  13.1  15.0  14.0   \n",
       "2015-01-01 09:00:00  12.0  12.0  15.0  14.0  12.0  13.0  12.6  10.0  14.0   \n",
       "2015-01-01 12:00:00  12.0  10.0  13.0  14.0  12.0  13.0  12.3  14.0  13.0   \n",
       "\n",
       "                           ...    기온                                      \\\n",
       "지점                  22183  ... 22101 22102 22103 22104 22105 22106 22107   \n",
       "일시                         ...                                             \n",
       "2015-01-01 00:00:00   7.5  ...   3.1   1.7   3.2   2.8   2.8   2.0   7.1   \n",
       "2015-01-01 03:00:00  10.0  ...   3.5   0.4   2.4   1.5   0.6   1.7   6.3   \n",
       "2015-01-01 06:00:00  11.0  ...   4.4   0.8   1.4  -0.0  -0.9   1.3   5.8   \n",
       "2015-01-01 09:00:00  11.0  ...   5.0   0.5   1.1  -1.3  -0.8   0.8   5.8   \n",
       "2015-01-01 12:00:00  10.0  ...   5.0   0.6   1.2  -0.8  -0.7   0.9   5.2   \n",
       "\n",
       "                                       \n",
       "지점                  22108 22183 22184  \n",
       "일시                                     \n",
       "2015-01-01 00:00:00  -0.5   0.3   5.2  \n",
       "2015-01-01 03:00:00  -2.1  -0.2   4.5  \n",
       "2015-01-01 06:00:00  -1.3   0.2   2.2  \n",
       "2015-01-01 09:00:00  -1.7  -0.8   0.8  \n",
       "2015-01-01 12:00:00  -2.0   0.4   0.9  \n",
       "\n",
       "[5 rows x 66 columns]"
      ]
     },
     "execution_count": 124,
     "metadata": {},
     "output_type": "execute_result"
    }
   ],
   "source": [
    "# 저장 및 다시 읽어들이기\n",
    "time_df.to_csv(\"./wsea_weather_3h.csv\")\n",
    "time_df = pd.read_csv(\"./wsea_weather_3h.csv\", header = [0, 1], index_col = 0)\n",
    "time_df.index = time_df.index.map(lambda x: datetime.strptime(x, \"%Y-%m-%d %H:%M:%S\"))\n",
    "time_df.head()"
   ]
  },
  {
   "cell_type": "code",
   "execution_count": null,
   "id": "1b3a9b93",
   "metadata": {},
   "outputs": [],
   "source": []
  },
  {
   "cell_type": "markdown",
   "id": "0add1403",
   "metadata": {},
   "source": [
    "### 추가 결측치 처리"
   ]
  },
  {
   "cell_type": "code",
   "execution_count": 126,
   "id": "02365eff",
   "metadata": {},
   "outputs": [
    {
     "name": "stdout",
     "output_type": "stream",
     "text": [
      "<class 'pandas.core.frame.DataFrame'>\n",
      "DatetimeIndex: 27416 entries, 2015-01-01 00:00:00 to 2024-05-19 21:00:00\n",
      "Data columns (total 66 columns):\n",
      " #   Column           Non-Null Count  Dtype  \n",
      "---  ------           --------------  -----  \n",
      " 0   (풍속, 21229)      26948 non-null  float64\n",
      " 1   (풍속, 22101)      26961 non-null  float64\n",
      " 2   (풍속, 22102)      26903 non-null  float64\n",
      " 3   (풍속, 22103)      27168 non-null  float64\n",
      " 4   (풍속, 22104)      27083 non-null  float64\n",
      " 5   (풍속, 22105)      27223 non-null  float64\n",
      " 6   (풍속, 22106)      26999 non-null  float64\n",
      " 7   (풍속, 22107)      26846 non-null  float64\n",
      " 8   (풍속, 22108)      26918 non-null  float64\n",
      " 9   (풍속, 22183)      27032 non-null  float64\n",
      " 10  (풍속, 22184)      26745 non-null  float64\n",
      " 11  (풍향, 21229)      27346 non-null  float64\n",
      " 12  (풍향, 22101)      27333 non-null  float64\n",
      " 13  (풍향, 22102)      27342 non-null  float64\n",
      " 14  (풍향, 22103)      27363 non-null  float64\n",
      " 15  (풍향, 22104)      27365 non-null  float64\n",
      " 16  (풍향, 22105)      27389 non-null  float64\n",
      " 17  (풍향, 22106)      27352 non-null  float64\n",
      " 18  (풍향, 22107)      27330 non-null  float64\n",
      " 19  (풍향, 22108)      27342 non-null  float64\n",
      " 20  (풍향, 22183)      27355 non-null  float64\n",
      " 21  (풍향, 22184)      27325 non-null  float64\n",
      " 22  (GUST풍속, 21229)  26948 non-null  float64\n",
      " 23  (GUST풍속, 22101)  26961 non-null  float64\n",
      " 24  (GUST풍속, 22102)  26903 non-null  float64\n",
      " 25  (GUST풍속, 22103)  27168 non-null  float64\n",
      " 26  (GUST풍속, 22104)  27083 non-null  float64\n",
      " 27  (GUST풍속, 22105)  27223 non-null  float64\n",
      " 28  (GUST풍속, 22106)  26999 non-null  float64\n",
      " 29  (GUST풍속, 22107)  26846 non-null  float64\n",
      " 30  (GUST풍속, 22108)  26918 non-null  float64\n",
      " 31  (GUST풍속, 22183)  27032 non-null  float64\n",
      " 32  (GUST풍속, 22184)  26745 non-null  float64\n",
      " 33  (현지기압, 21229)    26948 non-null  float64\n",
      " 34  (현지기압, 22101)    26961 non-null  float64\n",
      " 35  (현지기압, 22102)    26903 non-null  float64\n",
      " 36  (현지기압, 22103)    27168 non-null  float64\n",
      " 37  (현지기압, 22104)    27083 non-null  float64\n",
      " 38  (현지기압, 22105)    27223 non-null  float64\n",
      " 39  (현지기압, 22106)    26999 non-null  float64\n",
      " 40  (현지기압, 22107)    26846 non-null  float64\n",
      " 41  (현지기압, 22108)    26918 non-null  float64\n",
      " 42  (현지기압, 22183)    27032 non-null  float64\n",
      " 43  (현지기압, 22184)    26745 non-null  float64\n",
      " 44  (습도, 21229)      26948 non-null  float64\n",
      " 45  (습도, 22101)      26961 non-null  float64\n",
      " 46  (습도, 22102)      26903 non-null  float64\n",
      " 47  (습도, 22103)      27168 non-null  float64\n",
      " 48  (습도, 22104)      27083 non-null  float64\n",
      " 49  (습도, 22105)      27223 non-null  float64\n",
      " 50  (습도, 22106)      26999 non-null  float64\n",
      " 51  (습도, 22107)      26846 non-null  float64\n",
      " 52  (습도, 22108)      26918 non-null  float64\n",
      " 53  (습도, 22183)      27032 non-null  float64\n",
      " 54  (습도, 22184)      26745 non-null  float64\n",
      " 55  (기온, 21229)      26948 non-null  float64\n",
      " 56  (기온, 22101)      26961 non-null  float64\n",
      " 57  (기온, 22102)      26903 non-null  float64\n",
      " 58  (기온, 22103)      27168 non-null  float64\n",
      " 59  (기온, 22104)      27083 non-null  float64\n",
      " 60  (기온, 22105)      27223 non-null  float64\n",
      " 61  (기온, 22106)      26999 non-null  float64\n",
      " 62  (기온, 22107)      26846 non-null  float64\n",
      " 63  (기온, 22108)      26918 non-null  float64\n",
      " 64  (기온, 22183)      27032 non-null  float64\n",
      " 65  (기온, 22184)      26745 non-null  float64\n",
      "dtypes: float64(66)\n",
      "memory usage: 14.0 MB\n"
     ]
    }
   ],
   "source": [
    "time_df.info()"
   ]
  },
  {
   "cell_type": "markdown",
   "id": "66fd3ce7",
   "metadata": {},
   "source": [
    "- 여전히 최대 700개, 최소 20개 가량의 데이터가 결측된 것이 확인됨\n",
    "- 동일 시간대의 다른 지점 평균으로 결측치 처리는 진행이 완료"
   ]
  },
  {
   "cell_type": "markdown",
   "id": "2e1b10c3",
   "metadata": {},
   "source": [
    "### 결측치 처리 2차\n",
    "\n",
    "- 2차 결측치 처리는 interpolate(linear)로 진행하기로 결정\n",
    "- 해당 결측치 처리의 대상이 되는 데이터는 3번 연속으로 결측이 발생하지 않은 데이터\n",
    "- 풍향은 별도로 작업해야함"
   ]
  },
  {
   "cell_type": "code",
   "execution_count": 214,
   "id": "9647b3d7",
   "metadata": {},
   "outputs": [],
   "source": [
    "na_count = [time_df.loc[i, :].isna().sum() for i in time_df.index]"
   ]
  },
  {
   "cell_type": "code",
   "execution_count": 220,
   "id": "916bfebf",
   "metadata": {},
   "outputs": [],
   "source": [
    "na_11 = [i > 11 for i in na_count]\n",
    "na_consec = calculate_consecutive_trues(na_11)"
   ]
  },
  {
   "cell_type": "code",
   "execution_count": 222,
   "id": "ece243ac",
   "metadata": {},
   "outputs": [],
   "source": [
    "time_df[\"na_count\"] = na_count\n",
    "time_df[\"na_consec\"] = na_consec"
   ]
  },
  {
   "cell_type": "code",
   "execution_count": 223,
   "id": "d7170d0a",
   "metadata": {},
   "outputs": [
    {
     "data": {
      "text/html": [
       "<div>\n",
       "<style scoped>\n",
       "    .dataframe tbody tr th:only-of-type {\n",
       "        vertical-align: middle;\n",
       "    }\n",
       "\n",
       "    .dataframe tbody tr th {\n",
       "        vertical-align: top;\n",
       "    }\n",
       "\n",
       "    .dataframe thead tr th {\n",
       "        text-align: left;\n",
       "    }\n",
       "\n",
       "    .dataframe thead tr:last-of-type th {\n",
       "        text-align: right;\n",
       "    }\n",
       "</style>\n",
       "<table border=\"1\" class=\"dataframe\">\n",
       "  <thead>\n",
       "    <tr>\n",
       "      <th></th>\n",
       "      <th colspan=\"10\" halign=\"left\">풍속</th>\n",
       "      <th>...</th>\n",
       "      <th colspan=\"7\" halign=\"left\">기온</th>\n",
       "      <th>na_cut</th>\n",
       "      <th>na_count</th>\n",
       "      <th>na_consec</th>\n",
       "    </tr>\n",
       "    <tr>\n",
       "      <th>지점</th>\n",
       "      <th>21229</th>\n",
       "      <th>22101</th>\n",
       "      <th>22102</th>\n",
       "      <th>22103</th>\n",
       "      <th>22104</th>\n",
       "      <th>22105</th>\n",
       "      <th>22106</th>\n",
       "      <th>22107</th>\n",
       "      <th>22108</th>\n",
       "      <th>22183</th>\n",
       "      <th>...</th>\n",
       "      <th>22104</th>\n",
       "      <th>22105</th>\n",
       "      <th>22106</th>\n",
       "      <th>22107</th>\n",
       "      <th>22108</th>\n",
       "      <th>22183</th>\n",
       "      <th>22184</th>\n",
       "      <th></th>\n",
       "      <th></th>\n",
       "      <th></th>\n",
       "    </tr>\n",
       "    <tr>\n",
       "      <th>일시</th>\n",
       "      <th></th>\n",
       "      <th></th>\n",
       "      <th></th>\n",
       "      <th></th>\n",
       "      <th></th>\n",
       "      <th></th>\n",
       "      <th></th>\n",
       "      <th></th>\n",
       "      <th></th>\n",
       "      <th></th>\n",
       "      <th></th>\n",
       "      <th></th>\n",
       "      <th></th>\n",
       "      <th></th>\n",
       "      <th></th>\n",
       "      <th></th>\n",
       "      <th></th>\n",
       "      <th></th>\n",
       "      <th></th>\n",
       "      <th></th>\n",
       "      <th></th>\n",
       "    </tr>\n",
       "  </thead>\n",
       "  <tbody>\n",
       "    <tr>\n",
       "      <th>2015-01-01 00:00:00</th>\n",
       "      <td>6.3</td>\n",
       "      <td>12.8</td>\n",
       "      <td>14.6</td>\n",
       "      <td>14.4</td>\n",
       "      <td>9.9</td>\n",
       "      <td>11.9</td>\n",
       "      <td>12.2</td>\n",
       "      <td>14.0</td>\n",
       "      <td>15.9</td>\n",
       "      <td>7.5</td>\n",
       "      <td>...</td>\n",
       "      <td>2.8</td>\n",
       "      <td>2.8</td>\n",
       "      <td>2.0</td>\n",
       "      <td>7.1</td>\n",
       "      <td>-0.5</td>\n",
       "      <td>0.3</td>\n",
       "      <td>5.2</td>\n",
       "      <td>False</td>\n",
       "      <td>0</td>\n",
       "      <td>0</td>\n",
       "    </tr>\n",
       "    <tr>\n",
       "      <th>2015-01-01 03:00:00</th>\n",
       "      <td>11.0</td>\n",
       "      <td>12.0</td>\n",
       "      <td>14.0</td>\n",
       "      <td>13.0</td>\n",
       "      <td>10.0</td>\n",
       "      <td>13.0</td>\n",
       "      <td>12.5</td>\n",
       "      <td>14.0</td>\n",
       "      <td>13.0</td>\n",
       "      <td>10.0</td>\n",
       "      <td>...</td>\n",
       "      <td>1.5</td>\n",
       "      <td>0.6</td>\n",
       "      <td>1.7</td>\n",
       "      <td>6.3</td>\n",
       "      <td>-2.1</td>\n",
       "      <td>-0.2</td>\n",
       "      <td>4.5</td>\n",
       "      <td>False</td>\n",
       "      <td>0</td>\n",
       "      <td>0</td>\n",
       "    </tr>\n",
       "    <tr>\n",
       "      <th>2015-01-01 06:00:00</th>\n",
       "      <td>14.0</td>\n",
       "      <td>12.0</td>\n",
       "      <td>13.0</td>\n",
       "      <td>14.0</td>\n",
       "      <td>11.0</td>\n",
       "      <td>13.0</td>\n",
       "      <td>13.1</td>\n",
       "      <td>15.0</td>\n",
       "      <td>14.0</td>\n",
       "      <td>11.0</td>\n",
       "      <td>...</td>\n",
       "      <td>-0.0</td>\n",
       "      <td>-0.9</td>\n",
       "      <td>1.3</td>\n",
       "      <td>5.8</td>\n",
       "      <td>-1.3</td>\n",
       "      <td>0.2</td>\n",
       "      <td>2.2</td>\n",
       "      <td>False</td>\n",
       "      <td>0</td>\n",
       "      <td>0</td>\n",
       "    </tr>\n",
       "    <tr>\n",
       "      <th>2015-01-01 09:00:00</th>\n",
       "      <td>12.0</td>\n",
       "      <td>12.0</td>\n",
       "      <td>15.0</td>\n",
       "      <td>14.0</td>\n",
       "      <td>12.0</td>\n",
       "      <td>13.0</td>\n",
       "      <td>12.6</td>\n",
       "      <td>10.0</td>\n",
       "      <td>14.0</td>\n",
       "      <td>11.0</td>\n",
       "      <td>...</td>\n",
       "      <td>-1.3</td>\n",
       "      <td>-0.8</td>\n",
       "      <td>0.8</td>\n",
       "      <td>5.8</td>\n",
       "      <td>-1.7</td>\n",
       "      <td>-0.8</td>\n",
       "      <td>0.8</td>\n",
       "      <td>False</td>\n",
       "      <td>0</td>\n",
       "      <td>0</td>\n",
       "    </tr>\n",
       "    <tr>\n",
       "      <th>2015-01-01 12:00:00</th>\n",
       "      <td>12.0</td>\n",
       "      <td>10.0</td>\n",
       "      <td>13.0</td>\n",
       "      <td>14.0</td>\n",
       "      <td>12.0</td>\n",
       "      <td>13.0</td>\n",
       "      <td>12.3</td>\n",
       "      <td>14.0</td>\n",
       "      <td>13.0</td>\n",
       "      <td>10.0</td>\n",
       "      <td>...</td>\n",
       "      <td>-0.8</td>\n",
       "      <td>-0.7</td>\n",
       "      <td>0.9</td>\n",
       "      <td>5.2</td>\n",
       "      <td>-2.0</td>\n",
       "      <td>0.4</td>\n",
       "      <td>0.9</td>\n",
       "      <td>False</td>\n",
       "      <td>0</td>\n",
       "      <td>0</td>\n",
       "    </tr>\n",
       "  </tbody>\n",
       "</table>\n",
       "<p>5 rows × 69 columns</p>\n",
       "</div>"
      ],
      "text/plain": [
       "                       풍속                                                  \\\n",
       "지점                  21229 22101 22102 22103 22104 22105 22106 22107 22108   \n",
       "일시                                                                          \n",
       "2015-01-01 00:00:00   6.3  12.8  14.6  14.4   9.9  11.9  12.2  14.0  15.9   \n",
       "2015-01-01 03:00:00  11.0  12.0  14.0  13.0  10.0  13.0  12.5  14.0  13.0   \n",
       "2015-01-01 06:00:00  14.0  12.0  13.0  14.0  11.0  13.0  13.1  15.0  14.0   \n",
       "2015-01-01 09:00:00  12.0  12.0  15.0  14.0  12.0  13.0  12.6  10.0  14.0   \n",
       "2015-01-01 12:00:00  12.0  10.0  13.0  14.0  12.0  13.0  12.3  14.0  13.0   \n",
       "\n",
       "                           ...    기온                                      \\\n",
       "지점                  22183  ... 22104 22105 22106 22107 22108 22183 22184   \n",
       "일시                         ...                                             \n",
       "2015-01-01 00:00:00   7.5  ...   2.8   2.8   2.0   7.1  -0.5   0.3   5.2   \n",
       "2015-01-01 03:00:00  10.0  ...   1.5   0.6   1.7   6.3  -2.1  -0.2   4.5   \n",
       "2015-01-01 06:00:00  11.0  ...  -0.0  -0.9   1.3   5.8  -1.3   0.2   2.2   \n",
       "2015-01-01 09:00:00  11.0  ...  -1.3  -0.8   0.8   5.8  -1.7  -0.8   0.8   \n",
       "2015-01-01 12:00:00  10.0  ...  -0.8  -0.7   0.9   5.2  -2.0   0.4   0.9   \n",
       "\n",
       "                    na_cut na_count na_consec  \n",
       "지점                                             \n",
       "일시                                             \n",
       "2015-01-01 00:00:00  False        0         0  \n",
       "2015-01-01 03:00:00  False        0         0  \n",
       "2015-01-01 06:00:00  False        0         0  \n",
       "2015-01-01 09:00:00  False        0         0  \n",
       "2015-01-01 12:00:00  False        0         0  \n",
       "\n",
       "[5 rows x 69 columns]"
      ]
     },
     "execution_count": 223,
     "metadata": {},
     "output_type": "execute_result"
    }
   ],
   "source": [
    "time_df.head()"
   ]
  },
  {
   "cell_type": "code",
   "execution_count": null,
   "id": "24a356e5",
   "metadata": {},
   "outputs": [],
   "source": []
  },
  {
   "cell_type": "code",
   "execution_count": 230,
   "id": "a8a00370",
   "metadata": {},
   "outputs": [
    {
     "data": {
      "text/plain": [
       "(82193, 66)"
      ]
     },
     "execution_count": 230,
     "metadata": {},
     "output_type": "execute_result"
    }
   ],
   "source": [
    "ws_pivot.shape"
   ]
  },
  {
   "cell_type": "code",
   "execution_count": 231,
   "id": "3e709cc8",
   "metadata": {},
   "outputs": [
    {
     "name": "stdout",
     "output_type": "stream",
     "text": [
      "0\n",
      "11\n",
      "22\n",
      "33\n",
      "44\n",
      "55\n"
     ]
    }
   ],
   "source": [
    "for i in range(0, 66, 11):\n",
    "    print(i)"
   ]
  },
  {
   "cell_type": "code",
   "execution_count": null,
   "id": "c89b4ba7",
   "metadata": {},
   "outputs": [],
   "source": []
  },
  {
   "cell_type": "code",
   "execution_count": null,
   "id": "a03ecef1",
   "metadata": {},
   "outputs": [],
   "source": []
  },
  {
   "cell_type": "code",
   "execution_count": null,
   "id": "5f0b7cdf",
   "metadata": {},
   "outputs": [],
   "source": []
  },
  {
   "cell_type": "code",
   "execution_count": null,
   "id": "345e88e6",
   "metadata": {},
   "outputs": [],
   "source": []
  },
  {
   "cell_type": "code",
   "execution_count": null,
   "id": "149b4360",
   "metadata": {},
   "outputs": [],
   "source": []
  },
  {
   "cell_type": "code",
   "execution_count": null,
   "id": "8b0313ea",
   "metadata": {},
   "outputs": [],
   "source": []
  },
  {
   "cell_type": "code",
   "execution_count": null,
   "id": "752dc248",
   "metadata": {},
   "outputs": [],
   "source": []
  },
  {
   "cell_type": "code",
   "execution_count": null,
   "id": "05879181",
   "metadata": {},
   "outputs": [],
   "source": []
  },
  {
   "cell_type": "markdown",
   "id": "1cbabcd8",
   "metadata": {},
   "source": [
    "### 결측치 처리 3차\n",
    "\n",
    "- 결측치 처리 3차는 KNNImputer를 사용하여 처리하기로 하였음\n",
    "- 범주형 데이터는 어떻게 해야하는지 파악이 필요함\n",
    "- Standard 혹은 MinMax 스케일러 적용 후 KNNImputer를 적용해야함\n",
    "    - 스케일링 이후 inverse_transform 기능을 통해 데이터프레임 복원이 가능함\n",
    "- k 값은 논의가 필요하지만 다음의 후보가 있음\n",
    "    - 대체로 3\n",
    "    - 데이터의 크기가 충분하다면 1로도 괜찮을 수 있음"
   ]
  },
  {
   "cell_type": "code",
   "execution_count": null,
   "id": "053bde74",
   "metadata": {},
   "outputs": [],
   "source": []
  },
  {
   "cell_type": "code",
   "execution_count": null,
   "id": "f3adf31b",
   "metadata": {},
   "outputs": [],
   "source": []
  },
  {
   "cell_type": "code",
   "execution_count": null,
   "id": "fb07a095",
   "metadata": {},
   "outputs": [],
   "source": []
  },
  {
   "cell_type": "code",
   "execution_count": null,
   "id": "6578ec00",
   "metadata": {},
   "outputs": [],
   "source": []
  },
  {
   "cell_type": "code",
   "execution_count": null,
   "id": "eee6d860",
   "metadata": {},
   "outputs": [],
   "source": []
  },
  {
   "cell_type": "code",
   "execution_count": null,
   "id": "9d0f5dae",
   "metadata": {},
   "outputs": [],
   "source": []
  },
  {
   "cell_type": "code",
   "execution_count": null,
   "id": "d6a9d109",
   "metadata": {},
   "outputs": [],
   "source": []
  },
  {
   "cell_type": "code",
   "execution_count": null,
   "id": "f3fb5b2a",
   "metadata": {},
   "outputs": [],
   "source": []
  },
  {
   "cell_type": "code",
   "execution_count": null,
   "id": "73813cad",
   "metadata": {},
   "outputs": [],
   "source": []
  },
  {
   "cell_type": "code",
   "execution_count": null,
   "id": "ec7cf49d",
   "metadata": {},
   "outputs": [],
   "source": []
  },
  {
   "cell_type": "code",
   "execution_count": null,
   "id": "9d785451",
   "metadata": {},
   "outputs": [],
   "source": []
  },
  {
   "cell_type": "code",
   "execution_count": null,
   "id": "4b10a34c",
   "metadata": {},
   "outputs": [],
   "source": []
  },
  {
   "cell_type": "code",
   "execution_count": null,
   "id": "6e9388f3",
   "metadata": {},
   "outputs": [],
   "source": []
  },
  {
   "cell_type": "code",
   "execution_count": null,
   "id": "a1a7f47e",
   "metadata": {},
   "outputs": [],
   "source": []
  },
  {
   "cell_type": "code",
   "execution_count": null,
   "id": "e0387b06",
   "metadata": {},
   "outputs": [],
   "source": []
  },
  {
   "cell_type": "code",
   "execution_count": null,
   "id": "15c8f2b2",
   "metadata": {},
   "outputs": [],
   "source": []
  },
  {
   "cell_type": "code",
   "execution_count": null,
   "id": "2913271b",
   "metadata": {},
   "outputs": [],
   "source": []
  }
 ],
 "metadata": {
  "kernelspec": {
   "display_name": "Python 3 (ipykernel)",
   "language": "python",
   "name": "python3"
  },
  "language_info": {
   "codemirror_mode": {
    "name": "ipython",
    "version": 3
   },
   "file_extension": ".py",
   "mimetype": "text/x-python",
   "name": "python",
   "nbconvert_exporter": "python",
   "pygments_lexer": "ipython3",
   "version": "3.11.7"
  }
 },
 "nbformat": 4,
 "nbformat_minor": 5
}
