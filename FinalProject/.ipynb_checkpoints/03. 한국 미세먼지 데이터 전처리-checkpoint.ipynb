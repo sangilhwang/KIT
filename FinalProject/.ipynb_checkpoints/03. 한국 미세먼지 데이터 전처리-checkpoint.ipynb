{
 "cells": [
  {
   "cell_type": "code",
   "execution_count": null,
   "id": "28315f6b",
   "metadata": {},
   "outputs": [],
   "source": [
    "import pandas as pd\n",
    "import numpy as np\n",
    "from datetime import datetime, timedelta"
   ]
  },
  {
   "cell_type": "code",
   "execution_count": 2,
   "id": "9cee5ad1",
   "metadata": {},
   "outputs": [],
   "source": [
    "kr_pm10_2015 = pd.read_csv(r\".\\Git\\데이터\\국내 pm10 평균농도\\pm10_2015.csv\", sep=',',encoding='mbcs')\n",
    "kr_pm10_2016 = pd.read_csv(r\".\\Git\\데이터\\국내 pm10 평균농도\\pm10_2016.csv\", sep=',',encoding='mbcs')\n",
    "kr_pm10_2017 = pd.read_csv(r\".\\Git\\데이터\\국내 pm10 평균농도\\pm10_2017.csv\", sep=',',encoding='mbcs')\n",
    "kr_pm10_2018 = pd.read_csv(r\".\\Git\\데이터\\국내 pm10 평균농도\\pm10_2018.csv\", sep=',',encoding='mbcs')\n",
    "kr_pm10_2019 = pd.read_csv(r\".\\Git\\데이터\\국내 pm10 평균농도\\pm10_2019.csv\", sep=',',encoding='mbcs')\n",
    "kr_pm10_2020 = pd.read_csv(r\".\\Git\\데이터\\국내 pm10 평균농도\\pm10_2020.csv\", sep=',',encoding='mbcs')\n",
    "kr_pm10_2021 = pd.read_csv(r\".\\Git\\데이터\\국내 pm10 평균농도\\pm10_2021.csv\", sep=',',encoding='mbcs')\n",
    "kr_pm10_2022 = pd.read_csv(r\".\\Git\\데이터\\국내 pm10 평균농도\\pm10_2022.csv\", sep=',',encoding='mbcs')\n",
    "kr_pm10_2023 = pd.read_csv(r\".\\Git\\데이터\\국내 pm10 평균농도\\pm10_2023.csv\", sep=',',encoding='mbcs')\n",
    "kr_pm10_2024 = pd.read_csv(r\".\\Git\\데이터\\국내 pm10 평균농도\\pm10_2024.csv\", sep=',',encoding='mbcs')"
   ]
  },
  {
   "cell_type": "code",
   "execution_count": 3,
   "id": "d3c3752c",
   "metadata": {},
   "outputs": [],
   "source": [
    "kr_pm10 = pd.concat([kr_pm10_2015, kr_pm10_2016, kr_pm10_2017, kr_pm10_2018, kr_pm10_2019,\n",
    "                    kr_pm10_2020, kr_pm10_2021, kr_pm10_2022, kr_pm10_2023, kr_pm10_2024], axis = 0)"
   ]
  },
  {
   "cell_type": "code",
   "execution_count": 4,
   "id": "b3400608",
   "metadata": {},
   "outputs": [],
   "source": [
    "kr_pm10 = kr_pm10.drop(\"지점\", axis = 1)"
   ]
  },
  {
   "cell_type": "code",
   "execution_count": 5,
   "id": "3b61ecc4",
   "metadata": {},
   "outputs": [],
   "source": [
    "kr_pm10.columns = [\"지점명\", \"일시\", \"pm10\"]"
   ]
  },
  {
   "cell_type": "code",
   "execution_count": 6,
   "id": "4b78eef2",
   "metadata": {},
   "outputs": [
    {
     "data": {
      "text/plain": [
       "array(['속초', '광덕산', '대관령', '춘천', '백령도', '서울', '울릉도독도(감)', '관악산', '수원',\n",
       "       '영월', '울진', '안면도(감)', '추풍령', '안동', '군산', '대구', '전주', '울산', '광주',\n",
       "       '구덕산', '흑산도', '진도(첨찰산)', '고산', '진주', '강화', '북격렬비도', '천안', '진도군',\n",
       "       '문경', '연평도', '북춘천'], dtype=object)"
      ]
     },
     "execution_count": 6,
     "metadata": {},
     "output_type": "execute_result"
    }
   ],
   "source": [
    "kr_pm10[\"지점명\"].unique()"
   ]
  },
  {
   "cell_type": "markdown",
   "id": "e399c210",
   "metadata": {},
   "source": [
    "## 종속변수 지점 선택\n",
    "\n",
    "- 추후 어느 지점들을 종속변수로 삼을지 논의가 필요함\n",
    "    - 가능하다면 초미세먼지 데이터가 있는 곳과 중복되도록 하는게 좋을지도\n",
    "    - 현재 초미세먼지는 서울만 예측을 하고 여유가 된다면 다른 지역도 시도해보는 방향\n",
    "\n",
    "- 종속변수 지정을 위해 고려할만한 요소들?\n",
    "    - 인구가 많은 지점\n",
    "    - 특정 지역을 대표할 수 있는 지점\n",
    "    - 관광객 등의 유동인구나 관심이 높은 지점\n",
    "    \n",
    "- 종속변수마다 모델을 새로 만들고 학습시켜야 하는 굉장히 복잡한 과정을 거쳐야함\n",
    "    - 현실적으로 너무 많은 지점을 종속변수로 채택할 수 없음\n",
    "    - 경기도, 강원도, 충청도, 전라도, 경상도를 대표하는 지점 1개씩 지정하는 방향 고민중\n",
    "\n",
    "- 각 지점별 메모\n",
    "    - 수도권 대표로 **서울**\n",
    "    - **구덕산**은 부산에 있는 산. 경상도 대표로 선정하기 위해서는 구덕산이 적절한 것인지, **울산**으로 대체할 것인지 고민 필요\n",
    "        - 구덕산의 기상레이더관측소는 고도 391m의 시약산 정상에 위치해있음. 부산의 미세먼지를 반영하기에 적절한가?\n",
    "        - https://www.newsis.com/view/NISX20180114_0000202464\n",
    "    - 충청도 대표 **천안**...? 세종이나 대전 있으면 좋을텐데...\n",
    "    - 전라도 대표 **광주**\n",
    "    - 강원도 도시 지점인 속초, 춘천, 영월 중에서 인구가 가장 많은 지점은 **춘천**\n",
    "        - 동해안의 대표로써 **속초**가 지리적으로 적절하다고 생각됨"
   ]
  },
  {
   "cell_type": "code",
   "execution_count": null,
   "id": "b9189ac9",
   "metadata": {},
   "outputs": [],
   "source": []
  },
  {
   "cell_type": "code",
   "execution_count": 7,
   "id": "e1ff4246",
   "metadata": {},
   "outputs": [],
   "source": [
    "# kr_pm10의 일시 피처를 datetime 형식으로 변환\n",
    "kr_pm10[\"일시\"] = kr_pm10[\"일시\"].map(lambda x: datetime.strptime(x, '%Y-%m-%d %H:%M'))"
   ]
  },
  {
   "cell_type": "code",
   "execution_count": 8,
   "id": "a1a56ccf",
   "metadata": {},
   "outputs": [],
   "source": [
    "# pivot 적용\n",
    "kr_pm10_pivot = kr_pm10.pivot(index = [\"일시\"], columns = [\"지점명\"], values = [\"pm10\"])"
   ]
  },
  {
   "cell_type": "code",
   "execution_count": 9,
   "id": "48225d16",
   "metadata": {},
   "outputs": [],
   "source": [
    "# 5개 지점 데이터만 추출\n",
    "kr_pm10_pivot = kr_pm10_pivot.loc[:, [(\"pm10\", \"서울\"), (\"pm10\", \"속초\"), (\"pm10\", \"천안\"), (\"pm10\", \"광주\"), (\"pm10\", \"울산\")]]"
   ]
  },
  {
   "cell_type": "code",
   "execution_count": null,
   "id": "e7119c18",
   "metadata": {},
   "outputs": [],
   "source": []
  },
  {
   "cell_type": "code",
   "execution_count": 10,
   "id": "0d730943",
   "metadata": {},
   "outputs": [],
   "source": [
    "time_df_1h = pd.DataFrame([kr_pm10_pivot.index[0] + timedelta(hours = 1) * i for i in range(((366 * 2) + (365 * 7) + (31 + 29 + 31 + 30 + 19)) * 24)])\n",
    "time_df_1h.columns = [\"일시\"]"
   ]
  },
  {
   "cell_type": "code",
   "execution_count": 11,
   "id": "b9623c67",
   "metadata": {},
   "outputs": [],
   "source": [
    "time_df_1h[\"서울\"] = np.nan\n",
    "time_df_1h[\"속초\"] = np.nan\n",
    "time_df_1h[\"천안\"] = np.nan\n",
    "time_df_1h[\"광주\"] = np.nan\n",
    "time_df_1h[\"울산\"] = np.nan"
   ]
  },
  {
   "cell_type": "code",
   "execution_count": 15,
   "id": "1a7a542a",
   "metadata": {},
   "outputs": [],
   "source": [
    "time_df_1h = time_df_1h.set_index(\"일시\")"
   ]
  },
  {
   "cell_type": "code",
   "execution_count": 30,
   "id": "34b4720e",
   "metadata": {},
   "outputs": [
    {
     "data": {
      "text/plain": [
       "지점명\n",
       "서울    57.0\n",
       "속초    25.0\n",
       "천안    47.0\n",
       "광주    11.0\n",
       "울산    11.0\n",
       "Name: 2015-01-01 00:00:00, dtype: float64"
      ]
     },
     "execution_count": 30,
     "metadata": {},
     "output_type": "execute_result"
    }
   ],
   "source": [
    "kr_pm10_pivot[\"pm10\"].loc[time_df_1h.index[0], :]"
   ]
  },
  {
   "cell_type": "code",
   "execution_count": null,
   "id": "a47fcafe",
   "metadata": {},
   "outputs": [],
   "source": []
  },
  {
   "cell_type": "code",
   "execution_count": null,
   "id": "08edea1b",
   "metadata": {},
   "outputs": [],
   "source": []
  },
  {
   "cell_type": "code",
   "execution_count": 80,
   "id": "e85b05f2",
   "metadata": {},
   "outputs": [
    {
     "ename": "MergeError",
     "evalue": "Not allowed to merge between different levels. (1 levels on the left, 2 on the right)",
     "output_type": "error",
     "traceback": [
      "\u001b[1;31m---------------------------------------------------------------------------\u001b[0m",
      "\u001b[1;31mMergeError\u001b[0m                                Traceback (most recent call last)",
      "Cell \u001b[1;32mIn[80], line 1\u001b[0m\n\u001b[1;32m----> 1\u001b[0m time_df_1h \u001b[38;5;241m=\u001b[39m pd\u001b[38;5;241m.\u001b[39mmerge(time_df_1h, kr_pm10_pivot, how \u001b[38;5;241m=\u001b[39m \u001b[38;5;124m\"\u001b[39m\u001b[38;5;124mleft\u001b[39m\u001b[38;5;124m\"\u001b[39m, on \u001b[38;5;241m=\u001b[39m \u001b[38;5;124m\"\u001b[39m\u001b[38;5;124m일시\u001b[39m\u001b[38;5;124m\"\u001b[39m)\n",
      "File \u001b[1;32mC:\\ProgramData\\anaconda3\\Lib\\site-packages\\pandas\\core\\reshape\\merge.py:169\u001b[0m, in \u001b[0;36mmerge\u001b[1;34m(left, right, how, on, left_on, right_on, left_index, right_index, sort, suffixes, copy, indicator, validate)\u001b[0m\n\u001b[0;32m    154\u001b[0m     \u001b[38;5;28;01mreturn\u001b[39;00m _cross_merge(\n\u001b[0;32m    155\u001b[0m         left_df,\n\u001b[0;32m    156\u001b[0m         right_df,\n\u001b[1;32m   (...)\u001b[0m\n\u001b[0;32m    166\u001b[0m         copy\u001b[38;5;241m=\u001b[39mcopy,\n\u001b[0;32m    167\u001b[0m     )\n\u001b[0;32m    168\u001b[0m \u001b[38;5;28;01melse\u001b[39;00m:\n\u001b[1;32m--> 169\u001b[0m     op \u001b[38;5;241m=\u001b[39m _MergeOperation(\n\u001b[0;32m    170\u001b[0m         left_df,\n\u001b[0;32m    171\u001b[0m         right_df,\n\u001b[0;32m    172\u001b[0m         how\u001b[38;5;241m=\u001b[39mhow,\n\u001b[0;32m    173\u001b[0m         on\u001b[38;5;241m=\u001b[39mon,\n\u001b[0;32m    174\u001b[0m         left_on\u001b[38;5;241m=\u001b[39mleft_on,\n\u001b[0;32m    175\u001b[0m         right_on\u001b[38;5;241m=\u001b[39mright_on,\n\u001b[0;32m    176\u001b[0m         left_index\u001b[38;5;241m=\u001b[39mleft_index,\n\u001b[0;32m    177\u001b[0m         right_index\u001b[38;5;241m=\u001b[39mright_index,\n\u001b[0;32m    178\u001b[0m         sort\u001b[38;5;241m=\u001b[39msort,\n\u001b[0;32m    179\u001b[0m         suffixes\u001b[38;5;241m=\u001b[39msuffixes,\n\u001b[0;32m    180\u001b[0m         indicator\u001b[38;5;241m=\u001b[39mindicator,\n\u001b[0;32m    181\u001b[0m         validate\u001b[38;5;241m=\u001b[39mvalidate,\n\u001b[0;32m    182\u001b[0m     )\n\u001b[0;32m    183\u001b[0m     \u001b[38;5;28;01mreturn\u001b[39;00m op\u001b[38;5;241m.\u001b[39mget_result(copy\u001b[38;5;241m=\u001b[39mcopy)\n",
      "File \u001b[1;32mC:\\ProgramData\\anaconda3\\Lib\\site-packages\\pandas\\core\\reshape\\merge.py:781\u001b[0m, in \u001b[0;36m_MergeOperation.__init__\u001b[1;34m(self, left, right, how, on, left_on, right_on, left_index, right_index, sort, suffixes, indicator, validate)\u001b[0m\n\u001b[0;32m    775\u001b[0m \u001b[38;5;28;01mif\u001b[39;00m _left\u001b[38;5;241m.\u001b[39mcolumns\u001b[38;5;241m.\u001b[39mnlevels \u001b[38;5;241m!=\u001b[39m _right\u001b[38;5;241m.\u001b[39mcolumns\u001b[38;5;241m.\u001b[39mnlevels:\n\u001b[0;32m    776\u001b[0m     msg \u001b[38;5;241m=\u001b[39m (\n\u001b[0;32m    777\u001b[0m         \u001b[38;5;124m\"\u001b[39m\u001b[38;5;124mNot allowed to merge between different levels. \u001b[39m\u001b[38;5;124m\"\u001b[39m\n\u001b[0;32m    778\u001b[0m         \u001b[38;5;124mf\u001b[39m\u001b[38;5;124m\"\u001b[39m\u001b[38;5;124m(\u001b[39m\u001b[38;5;132;01m{\u001b[39;00m_left\u001b[38;5;241m.\u001b[39mcolumns\u001b[38;5;241m.\u001b[39mnlevels\u001b[38;5;132;01m}\u001b[39;00m\u001b[38;5;124m levels on the left, \u001b[39m\u001b[38;5;124m\"\u001b[39m\n\u001b[0;32m    779\u001b[0m         \u001b[38;5;124mf\u001b[39m\u001b[38;5;124m\"\u001b[39m\u001b[38;5;132;01m{\u001b[39;00m_right\u001b[38;5;241m.\u001b[39mcolumns\u001b[38;5;241m.\u001b[39mnlevels\u001b[38;5;132;01m}\u001b[39;00m\u001b[38;5;124m on the right)\u001b[39m\u001b[38;5;124m\"\u001b[39m\n\u001b[0;32m    780\u001b[0m     )\n\u001b[1;32m--> 781\u001b[0m     \u001b[38;5;28;01mraise\u001b[39;00m MergeError(msg)\n\u001b[0;32m    783\u001b[0m \u001b[38;5;28mself\u001b[39m\u001b[38;5;241m.\u001b[39mleft_on, \u001b[38;5;28mself\u001b[39m\u001b[38;5;241m.\u001b[39mright_on \u001b[38;5;241m=\u001b[39m \u001b[38;5;28mself\u001b[39m\u001b[38;5;241m.\u001b[39m_validate_left_right_on(left_on, right_on)\n\u001b[0;32m    785\u001b[0m (\n\u001b[0;32m    786\u001b[0m     \u001b[38;5;28mself\u001b[39m\u001b[38;5;241m.\u001b[39mleft_join_keys,\n\u001b[0;32m    787\u001b[0m     \u001b[38;5;28mself\u001b[39m\u001b[38;5;241m.\u001b[39mright_join_keys,\n\u001b[1;32m   (...)\u001b[0m\n\u001b[0;32m    790\u001b[0m     right_drop,\n\u001b[0;32m    791\u001b[0m ) \u001b[38;5;241m=\u001b[39m \u001b[38;5;28mself\u001b[39m\u001b[38;5;241m.\u001b[39m_get_merge_keys()\n",
      "\u001b[1;31mMergeError\u001b[0m: Not allowed to merge between different levels. (1 levels on the left, 2 on the right)"
     ]
    }
   ],
   "source": [
    "time_df_1h = pd.merge(time_df_1h, kr_pm10_pivot, how = \"left\", on = \"일시\")"
   ]
  },
  {
   "cell_type": "code",
   "execution_count": null,
   "id": "5e9bb802",
   "metadata": {},
   "outputs": [],
   "source": []
  },
  {
   "cell_type": "code",
   "execution_count": null,
   "id": "611a8b1b",
   "metadata": {},
   "outputs": [],
   "source": []
  },
  {
   "cell_type": "code",
   "execution_count": null,
   "id": "92cd90b6",
   "metadata": {},
   "outputs": [],
   "source": []
  },
  {
   "cell_type": "code",
   "execution_count": null,
   "id": "032007fc",
   "metadata": {},
   "outputs": [],
   "source": []
  },
  {
   "cell_type": "code",
   "execution_count": null,
   "id": "4311f46b",
   "metadata": {},
   "outputs": [],
   "source": []
  },
  {
   "cell_type": "code",
   "execution_count": 29,
   "id": "24e9b619",
   "metadata": {},
   "outputs": [],
   "source": [
    "# 3시간 단위로 묶기 위한 신규 데이터프레임 생성, 컬럼명 변경\n",
    "time_df = pd.DataFrame([kr_pm10_pivot.index[0] + timedelta(hours = 3) * i for i in range(((366 * 2) + (365 * 7) + (31 + 29 + 31 + 30 + 19)) * 8)])\n",
    "time_df.columns = [\"일시\"]"
   ]
  },
  {
   "cell_type": "code",
   "execution_count": null,
   "id": "2385f7db",
   "metadata": {},
   "outputs": [],
   "source": []
  },
  {
   "cell_type": "code",
   "execution_count": null,
   "id": "d6239643",
   "metadata": {},
   "outputs": [],
   "source": []
  },
  {
   "cell_type": "code",
   "execution_count": null,
   "id": "b56e8cb3",
   "metadata": {},
   "outputs": [],
   "source": []
  },
  {
   "cell_type": "code",
   "execution_count": 71,
   "id": "1932293b",
   "metadata": {},
   "outputs": [
    {
     "ename": "IndexError",
     "evalue": "index 0 is out of bounds for axis 0 with size 0",
     "output_type": "error",
     "traceback": [
      "\u001b[1;31m---------------------------------------------------------------------------\u001b[0m",
      "\u001b[1;31mIndexError\u001b[0m                                Traceback (most recent call last)",
      "Cell \u001b[1;32mIn[71], line 25\u001b[0m\n\u001b[0;32m     22\u001b[0m mean_list \u001b[38;5;241m=\u001b[39m []\n\u001b[0;32m     24\u001b[0m \u001b[38;5;28;01mfor\u001b[39;00m j \u001b[38;5;129;01min\u001b[39;00m \u001b[38;5;28mrange\u001b[39m(\u001b[38;5;241m0\u001b[39m, \u001b[38;5;241m5\u001b[39m):\n\u001b[1;32m---> 25\u001b[0m     mean_list\u001b[38;5;241m.\u001b[39mappend(\u001b[38;5;28mround\u001b[39m(np\u001b[38;5;241m.\u001b[39mmean(pm0\u001b[38;5;241m.\u001b[39miloc[\u001b[38;5;241m0\u001b[39m, j] \u001b[38;5;241m+\u001b[39m pm1\u001b[38;5;241m.\u001b[39miloc[\u001b[38;5;241m0\u001b[39m, j] \u001b[38;5;241m+\u001b[39m pm2\u001b[38;5;241m.\u001b[39miloc[\u001b[38;5;241m0\u001b[39m, j]), \u001b[38;5;241m0\u001b[39m))\n\u001b[0;32m     27\u001b[0m pm10_3h\u001b[38;5;241m.\u001b[39mappend(np\u001b[38;5;241m.\u001b[39marray(mean_list))\n",
      "File \u001b[1;32mC:\\ProgramData\\anaconda3\\Lib\\site-packages\\pandas\\core\\indexing.py:1146\u001b[0m, in \u001b[0;36m_LocationIndexer.__getitem__\u001b[1;34m(self, key)\u001b[0m\n\u001b[0;32m   1144\u001b[0m     key \u001b[38;5;241m=\u001b[39m \u001b[38;5;28mtuple\u001b[39m(com\u001b[38;5;241m.\u001b[39mapply_if_callable(x, \u001b[38;5;28mself\u001b[39m\u001b[38;5;241m.\u001b[39mobj) \u001b[38;5;28;01mfor\u001b[39;00m x \u001b[38;5;129;01min\u001b[39;00m key)\n\u001b[0;32m   1145\u001b[0m     \u001b[38;5;28;01mif\u001b[39;00m \u001b[38;5;28mself\u001b[39m\u001b[38;5;241m.\u001b[39m_is_scalar_access(key):\n\u001b[1;32m-> 1146\u001b[0m         \u001b[38;5;28;01mreturn\u001b[39;00m \u001b[38;5;28mself\u001b[39m\u001b[38;5;241m.\u001b[39mobj\u001b[38;5;241m.\u001b[39m_get_value(\u001b[38;5;241m*\u001b[39mkey, takeable\u001b[38;5;241m=\u001b[39m\u001b[38;5;28mself\u001b[39m\u001b[38;5;241m.\u001b[39m_takeable)\n\u001b[0;32m   1147\u001b[0m     \u001b[38;5;28;01mreturn\u001b[39;00m \u001b[38;5;28mself\u001b[39m\u001b[38;5;241m.\u001b[39m_getitem_tuple(key)\n\u001b[0;32m   1148\u001b[0m \u001b[38;5;28;01melse\u001b[39;00m:\n\u001b[0;32m   1149\u001b[0m     \u001b[38;5;66;03m# we by definition only have the 0th axis\u001b[39;00m\n",
      "File \u001b[1;32mC:\\ProgramData\\anaconda3\\Lib\\site-packages\\pandas\\core\\frame.py:4003\u001b[0m, in \u001b[0;36mDataFrame._get_value\u001b[1;34m(self, index, col, takeable)\u001b[0m\n\u001b[0;32m   4001\u001b[0m \u001b[38;5;28;01mif\u001b[39;00m takeable:\n\u001b[0;32m   4002\u001b[0m     series \u001b[38;5;241m=\u001b[39m \u001b[38;5;28mself\u001b[39m\u001b[38;5;241m.\u001b[39m_ixs(col, axis\u001b[38;5;241m=\u001b[39m\u001b[38;5;241m1\u001b[39m)\n\u001b[1;32m-> 4003\u001b[0m     \u001b[38;5;28;01mreturn\u001b[39;00m series\u001b[38;5;241m.\u001b[39m_values[index]\n\u001b[0;32m   4005\u001b[0m series \u001b[38;5;241m=\u001b[39m \u001b[38;5;28mself\u001b[39m\u001b[38;5;241m.\u001b[39m_get_item_cache(col)\n\u001b[0;32m   4006\u001b[0m engine \u001b[38;5;241m=\u001b[39m \u001b[38;5;28mself\u001b[39m\u001b[38;5;241m.\u001b[39mindex\u001b[38;5;241m.\u001b[39m_engine\n",
      "\u001b[1;31mIndexError\u001b[0m: index 0 is out of bounds for axis 0 with size 0"
     ]
    }
   ],
   "source": [
    "pm10_3h = []\n",
    "\n",
    "for i in range(1, len(time_df)):\n",
    "    try:\n",
    "        pm0 = kr_pm10_pivot[kr_pm10_pivot.index == time_df.loc[i, \"일시\"] - timedelta(hours = 2)]\n",
    "        \n",
    "    except:\n",
    "        pm0 = np.array([np.nan] * 5).reshape(-1, 5)\n",
    "        \n",
    "    try:\n",
    "        pm1 = kr_pm10_pivot[kr_pm10_pivot.index == time_df.loc[i, \"일시\"] - timedelta(hours = 1)]\n",
    "        \n",
    "    except:\n",
    "        pm1 = np.array([np.nan] * 5).reshape(-1, 5)\n",
    "        \n",
    "    try:\n",
    "        pm2 = kr_pm10_pivot[kr_pm10_pivot.index == time_df.loc[i, \"일시\"]]\n",
    "        \n",
    "    except:\n",
    "        pm1 = np.array([np.nan] * 5).reshape(-1, 5)\n",
    "    \n",
    "    mean_list = []\n",
    "    \n",
    "    for j in range(0, 5):\n",
    "        mean_list.append(round(np.mean(pm0.iloc[0, j] + pm1.iloc[0, j] + pm2.iloc[0, j]), 0))\n",
    "        \n",
    "    pm10_3h.append(np.array(mean_list))    "
   ]
  },
  {
   "cell_type": "code",
   "execution_count": 35,
   "id": "b2ca0c66",
   "metadata": {},
   "outputs": [
    {
     "name": "stdout",
     "output_type": "stream",
     "text": [
      "<class 'pandas.core.frame.DataFrame'>\n",
      "DatetimeIndex: 82143 entries, 2015-01-01 00:00:00 to 2024-05-19 23:00:00\n",
      "Data columns (total 5 columns):\n",
      " #   Column      Non-Null Count  Dtype  \n",
      "---  ------      --------------  -----  \n",
      " 0   (pm10, 서울)  77079 non-null  float64\n",
      " 1   (pm10, 속초)  77128 non-null  float64\n",
      " 2   (pm10, 천안)  77396 non-null  float64\n",
      " 3   (pm10, 광주)  75839 non-null  float64\n",
      " 4   (pm10, 울산)  78617 non-null  float64\n",
      "dtypes: float64(5)\n",
      "memory usage: 3.8 MB\n"
     ]
    }
   ],
   "source": [
    "kr_pm10_pivot.info()"
   ]
  },
  {
   "cell_type": "code",
   "execution_count": null,
   "id": "a7ae4829",
   "metadata": {},
   "outputs": [],
   "source": []
  },
  {
   "cell_type": "code",
   "execution_count": null,
   "id": "589e669f",
   "metadata": {},
   "outputs": [],
   "source": []
  },
  {
   "cell_type": "code",
   "execution_count": null,
   "id": "cdbe63b6",
   "metadata": {},
   "outputs": [],
   "source": []
  },
  {
   "cell_type": "code",
   "execution_count": null,
   "id": "6afa0ab9",
   "metadata": {},
   "outputs": [],
   "source": []
  },
  {
   "cell_type": "code",
   "execution_count": null,
   "id": "1ce91584",
   "metadata": {},
   "outputs": [],
   "source": []
  },
  {
   "cell_type": "code",
   "execution_count": null,
   "id": "074a9985",
   "metadata": {},
   "outputs": [],
   "source": []
  },
  {
   "cell_type": "code",
   "execution_count": null,
   "id": "911c4467",
   "metadata": {},
   "outputs": [],
   "source": []
  },
  {
   "cell_type": "code",
   "execution_count": null,
   "id": "6a2c4ed2",
   "metadata": {},
   "outputs": [],
   "source": []
  },
  {
   "cell_type": "code",
   "execution_count": null,
   "id": "c5a0e675",
   "metadata": {},
   "outputs": [],
   "source": []
  },
  {
   "cell_type": "code",
   "execution_count": null,
   "id": "8b817bca",
   "metadata": {},
   "outputs": [],
   "source": []
  },
  {
   "cell_type": "code",
   "execution_count": null,
   "id": "3bdbf2c8",
   "metadata": {},
   "outputs": [],
   "source": []
  },
  {
   "cell_type": "code",
   "execution_count": null,
   "id": "ef952c36",
   "metadata": {},
   "outputs": [],
   "source": []
  },
  {
   "cell_type": "code",
   "execution_count": null,
   "id": "2a91b31a",
   "metadata": {},
   "outputs": [],
   "source": []
  },
  {
   "cell_type": "code",
   "execution_count": null,
   "id": "b8fa513c",
   "metadata": {},
   "outputs": [],
   "source": []
  },
  {
   "cell_type": "code",
   "execution_count": null,
   "id": "a9d7979b",
   "metadata": {},
   "outputs": [],
   "source": []
  },
  {
   "cell_type": "code",
   "execution_count": null,
   "id": "91ddf927",
   "metadata": {},
   "outputs": [],
   "source": []
  },
  {
   "cell_type": "code",
   "execution_count": null,
   "id": "54464c60",
   "metadata": {},
   "outputs": [],
   "source": []
  },
  {
   "cell_type": "code",
   "execution_count": null,
   "id": "35aff747",
   "metadata": {},
   "outputs": [],
   "source": []
  },
  {
   "cell_type": "code",
   "execution_count": null,
   "id": "d636d86c",
   "metadata": {},
   "outputs": [],
   "source": []
  },
  {
   "cell_type": "code",
   "execution_count": null,
   "id": "023d463b",
   "metadata": {},
   "outputs": [],
   "source": []
  },
  {
   "cell_type": "code",
   "execution_count": null,
   "id": "182d696c",
   "metadata": {},
   "outputs": [],
   "source": []
  },
  {
   "cell_type": "code",
   "execution_count": null,
   "id": "b7bbe0ed",
   "metadata": {},
   "outputs": [],
   "source": []
  },
  {
   "cell_type": "code",
   "execution_count": null,
   "id": "d4603f16",
   "metadata": {},
   "outputs": [],
   "source": []
  },
  {
   "cell_type": "code",
   "execution_count": null,
   "id": "b1009a72",
   "metadata": {},
   "outputs": [],
   "source": []
  },
  {
   "cell_type": "code",
   "execution_count": null,
   "id": "3eeb2220",
   "metadata": {},
   "outputs": [],
   "source": []
  },
  {
   "cell_type": "code",
   "execution_count": null,
   "id": "4014bfc2",
   "metadata": {},
   "outputs": [],
   "source": []
  },
  {
   "cell_type": "code",
   "execution_count": null,
   "id": "97e1ebed",
   "metadata": {},
   "outputs": [],
   "source": []
  },
  {
   "cell_type": "code",
   "execution_count": null,
   "id": "c37c18e0",
   "metadata": {},
   "outputs": [],
   "source": []
  }
 ],
 "metadata": {
  "kernelspec": {
   "display_name": "Python 3 (ipykernel)",
   "language": "python",
   "name": "python3"
  },
  "language_info": {
   "codemirror_mode": {
    "name": "ipython",
    "version": 3
   },
   "file_extension": ".py",
   "mimetype": "text/x-python",
   "name": "python",
   "nbconvert_exporter": "python",
   "pygments_lexer": "ipython3",
   "version": "3.11.7"
  }
 },
 "nbformat": 4,
 "nbformat_minor": 5
}
