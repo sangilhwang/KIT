{
 "cells": [
  {
   "cell_type": "markdown",
   "id": "b93511f2",
   "metadata": {},
   "source": [
    "1.  0부터 9까지의 숫자가 순서대로 하나씩 들어있는 1차원 배열을 생성하는 코드를 작성하시오\n",
    "\n",
    " \n",
    "\n",
    "2. 모든 요소가 True 로 채워진 (3, 3) 의 형상을 가지는 다차원 배열을 생성하는 코드를 작성하시오\n",
    "\n",
    " \n",
    "\n",
    "3. 랜덤한 값으로 채워진 (3, 3, 3) 의 형상을 가지는 다차원 배열을 생성하는 코드를 작성하시오\n",
    "\n",
    " \n",
    "\n",
    "4. 바깥쪽 테두리에는 1이 채워져 있고 내부는 0으로 채워진 (10, 10) 형상의 2차원 배열을 생성하는 코드를 작성하시오\n",
    "\n",
    " \n",
    "\n",
    "5. (8, 8) 형상의 2차원 배열을 0과 1을 번갈아가며 채워 생성하는 코드를 작성하시오\n",
    "\n",
    "예)\n",
    "\n",
    "0, 1, 0, 1\n",
    "\n",
    "1, 0, 1, 0\n",
    "\n",
    "0, 1, 0, 1\n",
    "\n",
    "1, 0, 1, 0"
   ]
  },
  {
   "cell_type": "code",
   "execution_count": 1,
   "id": "36ca82e7",
   "metadata": {},
   "outputs": [],
   "source": [
    "import numpy as np"
   ]
  },
  {
   "cell_type": "code",
   "execution_count": 2,
   "id": "444710c9",
   "metadata": {},
   "outputs": [
    {
     "data": {
      "text/plain": [
       "array([0, 1, 2, 3, 4, 5, 6, 7, 8, 9])"
      ]
     },
     "execution_count": 2,
     "metadata": {},
     "output_type": "execute_result"
    }
   ],
   "source": [
    "# 1.  0부터 9까지의 숫자가 순서대로 하나씩 들어있는 1차원 배열을 생성하는 코드를 작성하시오\n",
    "\n",
    "np.arange(0, 10)"
   ]
  },
  {
   "cell_type": "code",
   "execution_count": 3,
   "id": "600bb5bc",
   "metadata": {},
   "outputs": [
    {
     "data": {
      "text/plain": [
       "array([[ True,  True,  True],\n",
       "       [ True,  True,  True],\n",
       "       [ True,  True,  True]])"
      ]
     },
     "execution_count": 3,
     "metadata": {},
     "output_type": "execute_result"
    }
   ],
   "source": [
    "# 2. 모든 요소가 True 로 채워진 (3, 3) 의 형상을 가지는 다차원 배열을 생성하는 코드를 작성하시오\n",
    "\n",
    "np.full((3, 3), True)"
   ]
  },
  {
   "cell_type": "code",
   "execution_count": 5,
   "id": "c971e230",
   "metadata": {},
   "outputs": [
    {
     "data": {
      "text/plain": [
       "array([[[0.73215483, 0.91863776, 0.41652467],\n",
       "        [0.29208897, 0.47290819, 0.55406433],\n",
       "        [0.89731906, 0.98434558, 0.86798992]],\n",
       "\n",
       "       [[0.1109484 , 0.1204547 , 0.69827314],\n",
       "        [0.6752167 , 0.13872472, 0.65681481],\n",
       "        [0.61438138, 0.71592297, 0.71345928]],\n",
       "\n",
       "       [[0.11505743, 0.77688919, 0.56286114],\n",
       "        [0.36244817, 0.92607137, 0.79400123],\n",
       "        [0.94354833, 0.48748787, 0.78956988]]])"
      ]
     },
     "execution_count": 5,
     "metadata": {},
     "output_type": "execute_result"
    }
   ],
   "source": [
    "# 3. 랜덤한 값으로 채워진 (3, 3, 3) 의 형상을 가지는 다차원 배열을 생성하는 코드를 작성하시오\n",
    "\n",
    "np.random.random((3, 3, 3))"
   ]
  },
  {
   "cell_type": "code",
   "execution_count": 19,
   "id": "9d11def5",
   "metadata": {},
   "outputs": [
    {
     "data": {
      "text/plain": [
       "array([[1, 1, 1, 1, 1, 1, 1, 1, 1, 1],\n",
       "       [1, 1, 1, 1, 1, 1, 1, 1, 1, 1],\n",
       "       [1, 1, 1, 1, 1, 1, 1, 1, 1, 1],\n",
       "       [1, 1, 1, 1, 1, 1, 1, 1, 1, 1],\n",
       "       [1, 1, 1, 1, 1, 1, 1, 1, 1, 1],\n",
       "       [1, 1, 1, 1, 1, 1, 1, 1, 1, 1],\n",
       "       [1, 1, 1, 1, 1, 1, 1, 1, 1, 1],\n",
       "       [1, 1, 1, 1, 1, 1, 1, 1, 1, 1],\n",
       "       [1, 1, 1, 1, 1, 1, 1, 1, 1, 1],\n",
       "       [1, 1, 1, 1, 1, 1, 1, 1, 1, 1]])"
      ]
     },
     "execution_count": 19,
     "metadata": {},
     "output_type": "execute_result"
    }
   ],
   "source": [
    "# 4. 바깥쪽 테두리에는 1이 채워져 있고 내부는 0으로 채워진 (10, 10) 형상의 2차원 배열을 생성하는 코드를 작성하시오\n",
    "\n",
    "array4 = np.ones((10, 10), int)\n",
    "array4"
   ]
  },
  {
   "cell_type": "code",
   "execution_count": 20,
   "id": "64a0a310",
   "metadata": {},
   "outputs": [
    {
     "data": {
      "text/plain": [
       "array([[1, 1, 1, 1, 1, 1, 1, 1, 1, 1],\n",
       "       [1, 0, 0, 0, 0, 0, 0, 0, 0, 1],\n",
       "       [1, 0, 0, 0, 0, 0, 0, 0, 0, 1],\n",
       "       [1, 0, 0, 0, 0, 0, 0, 0, 0, 1],\n",
       "       [1, 0, 0, 0, 0, 0, 0, 0, 0, 1],\n",
       "       [1, 0, 0, 0, 0, 0, 0, 0, 0, 1],\n",
       "       [1, 0, 0, 0, 0, 0, 0, 0, 0, 1],\n",
       "       [1, 0, 0, 0, 0, 0, 0, 0, 0, 1],\n",
       "       [1, 0, 0, 0, 0, 0, 0, 0, 0, 1],\n",
       "       [1, 1, 1, 1, 1, 1, 1, 1, 1, 1]])"
      ]
     },
     "execution_count": 20,
     "metadata": {},
     "output_type": "execute_result"
    }
   ],
   "source": [
    "for i in range(1, 9):\n",
    "    for j in range(1, 9):\n",
    "        array4[i][j] = 0\n",
    "        \n",
    "array4"
   ]
  },
  {
   "cell_type": "markdown",
   "id": "96654570",
   "metadata": {},
   "source": [
    "[ 조건 만족 시 출력값 if 조건 else 조건 불만족 시 출력 값 for i in data] "
   ]
  },
  {
   "cell_type": "code",
   "execution_count": 33,
   "id": "ee999220",
   "metadata": {},
   "outputs": [
    {
     "data": {
      "text/plain": [
       "array([[1, 1, 1, 1, 1, 1, 1, 1, 1, 1],\n",
       "       [1, 0, 0, 0, 0, 0, 0, 0, 0, 1],\n",
       "       [1, 0, 0, 0, 0, 0, 0, 0, 0, 1],\n",
       "       [1, 0, 0, 0, 0, 0, 0, 0, 0, 1],\n",
       "       [1, 0, 0, 0, 0, 0, 0, 0, 0, 1],\n",
       "       [1, 0, 0, 0, 0, 0, 0, 0, 0, 1],\n",
       "       [1, 0, 0, 0, 0, 0, 0, 0, 0, 1],\n",
       "       [1, 0, 0, 0, 0, 0, 0, 0, 0, 1],\n",
       "       [1, 0, 0, 0, 0, 0, 0, 0, 0, 1],\n",
       "       [1, 1, 1, 1, 1, 1, 1, 1, 1, 1]])"
      ]
     },
     "execution_count": 33,
     "metadata": {},
     "output_type": "execute_result"
    }
   ],
   "source": [
    "np.array([0 if 0 < i < 9 and  0 < j < 9 else 1 for i in range(0, 10) for j in range(0, 10)]).reshape(10, 10)"
   ]
  },
  {
   "cell_type": "code",
   "execution_count": 24,
   "id": "8cae3631",
   "metadata": {},
   "outputs": [
    {
     "data": {
      "text/plain": [
       "array([[1, 1, 1, 1, 1, 1, 1, 1],\n",
       "       [1, 1, 1, 1, 1, 1, 1, 1],\n",
       "       [1, 1, 1, 1, 1, 1, 1, 1],\n",
       "       [1, 1, 1, 1, 1, 1, 1, 1],\n",
       "       [1, 1, 1, 1, 1, 1, 1, 1],\n",
       "       [1, 1, 1, 1, 1, 1, 1, 1],\n",
       "       [1, 1, 1, 1, 1, 1, 1, 1],\n",
       "       [1, 1, 1, 1, 1, 1, 1, 1]])"
      ]
     },
     "execution_count": 24,
     "metadata": {},
     "output_type": "execute_result"
    }
   ],
   "source": [
    "# 5. (8, 8) 형상의 2차원 배열을 0과 1을 번갈아가며 채워 생성하는 코드를 작성하시오\n",
    "\n",
    "np.array([(i+j)%2 for i in range(0, 8) for j in range(0, 8)]).reshape(8, 8)"
   ]
  },
  {
   "cell_type": "code",
   "execution_count": 29,
   "id": "5934b3e1",
   "metadata": {},
   "outputs": [
    {
     "data": {
      "text/plain": [
       "array([[0, 1, 0, 1, 0, 1, 0, 1],\n",
       "       [1, 0, 1, 0, 1, 0, 1, 0],\n",
       "       [0, 1, 0, 1, 0, 1, 0, 1],\n",
       "       [1, 0, 1, 0, 1, 0, 1, 0],\n",
       "       [0, 1, 0, 1, 0, 1, 0, 1],\n",
       "       [1, 0, 1, 0, 1, 0, 1, 0],\n",
       "       [0, 1, 0, 1, 0, 1, 0, 1],\n",
       "       [1, 0, 1, 0, 1, 0, 1, 0]])"
      ]
     },
     "execution_count": 29,
     "metadata": {},
     "output_type": "execute_result"
    }
   ],
   "source": [
    "np.array([(i+j)%2 for i in range(0, 8) for j in range(0, 8)]).reshape(8, 8)"
   ]
  },
  {
   "cell_type": "code",
   "execution_count": null,
   "id": "cea6247f",
   "metadata": {},
   "outputs": [],
   "source": []
  },
  {
   "cell_type": "markdown",
   "id": "bc57da57",
   "metadata": {},
   "source": [
    "1. arr = np.arange(10) 이라고 할 때 arr 에서 홀수들만 추출하여 출력하시오\n",
    "\n",
    " \n",
    "\n",
    "2. arr = np.arange(10) 에서 홀수들을 -1로 수정하여 출력하시오\n",
    "\n",
    "예) [0, -1, 2, -1, 4, -1, 6, -1, 8, -1]\n",
    "\n",
    " \n",
    "\n",
    "3. 배열 a와 b가 아래와 같을 때, a와 b의 요소 중 동일한 인덱스에 동일한 값이 들어있는 요소들만 추출하여 출력하시오\n",
    "\n",
    "a = np.array([1,2,3,2,3,4,3,4,5,6])\n",
    "\n",
    "b = np.array([7,2,10,2,7,4,9,4,9,8])\n",
    "\n",
    "예) array([2, 2, 4, 4])\n",
    "\n",
    " \n",
    "\n",
    "4. a = np.array([2, 6, 1, 9, 10, 3, 27]) 라고 할 때 5이상 10이하인 값만 추출하여 출력하시오\n",
    "\n",
    " \n",
    "\n",
    "5. arr = np.arange(9).reshape(3,3) 라고 할 때 arr의 첫 번째 컬럼과 두 번째 컬럼의 순서를 바꾸어 출력하시오\n",
    "\n",
    "예) array([[1, 0, 2],       [4, 3, 5],       [7, 6, 8]])\n",
    "\n",
    " \n",
    "\n",
    "6. arr = np.arange(9).reshape(3,3) 라고 할 때 행의 순서를 반대로 바꾸어 출력하시오\n",
    "\n",
    "예) array([[6, 7, 8],       [3, 4, 5],       [0, 1, 2]])"
   ]
  },
  {
   "cell_type": "code",
   "execution_count": 36,
   "id": "246685d0",
   "metadata": {},
   "outputs": [
    {
     "data": {
      "text/plain": [
       "array([False,  True, False,  True, False,  True, False,  True, False,\n",
       "        True])"
      ]
     },
     "execution_count": 36,
     "metadata": {},
     "output_type": "execute_result"
    }
   ],
   "source": [
    "np.arange(10)%2 == 1"
   ]
  },
  {
   "cell_type": "code",
   "execution_count": 71,
   "id": "1ae7142e",
   "metadata": {},
   "outputs": [
    {
     "data": {
      "text/plain": [
       "array([0, 1, 2, 3, 4, 5, 6, 7, 8, 9])"
      ]
     },
     "execution_count": 71,
     "metadata": {},
     "output_type": "execute_result"
    }
   ],
   "source": [
    "# 1. arr = np.arange(10) 이라고 할 때 arr 에서 홀수들만 추출하여 출력하시오\n",
    "\n",
    "arr = np.arange(10)\n",
    "arr[arr%2 == 1]\n",
    "arr"
   ]
  },
  {
   "cell_type": "code",
   "execution_count": 72,
   "id": "27c90135",
   "metadata": {},
   "outputs": [
    {
     "data": {
      "text/plain": [
       "array([ 0, -1,  2, -1,  4, -1,  6, -1,  8, -1])"
      ]
     },
     "execution_count": 72,
     "metadata": {},
     "output_type": "execute_result"
    }
   ],
   "source": [
    "# 2. arr = np.arange(10) 에서 홀수들을 -1로 수정하여 출력하시오\n",
    "\n",
    "arr = np.arange(10)\n",
    "arr = np.where(arr%2 == 1, -1, arr)\n",
    "arr"
   ]
  },
  {
   "cell_type": "code",
   "execution_count": 73,
   "id": "bc746f58",
   "metadata": {},
   "outputs": [
    {
     "data": {
      "text/plain": [
       "array([2, 2, 4, 4])"
      ]
     },
     "execution_count": 73,
     "metadata": {},
     "output_type": "execute_result"
    }
   ],
   "source": [
    "# 3. 배열 a와 b가 아래와 같을 때, a와 b의 요소 중 동일한 인덱스에 동일한 값이 들어있는 요소들만 추출하여 출력하시오\n",
    "\n",
    "a = np.array([1,2,3,2,3,4,3,4,5,6])\n",
    "\n",
    "b = np.array([7,2,10,2,7,4,9,4,9,8])\n",
    "\n",
    "a[np.array([i in b for i in a])]"
   ]
  },
  {
   "cell_type": "code",
   "execution_count": null,
   "id": "b3ccc35f",
   "metadata": {},
   "outputs": [],
   "source": []
  },
  {
   "cell_type": "code",
   "execution_count": 75,
   "id": "7f0b4f22",
   "metadata": {},
   "outputs": [
    {
     "data": {
      "text/plain": [
       "array([ 6,  9, 10])"
      ]
     },
     "execution_count": 75,
     "metadata": {},
     "output_type": "execute_result"
    }
   ],
   "source": [
    "# 4. a = np.array([2, 6, 1, 9, 10, 3, 27]) 라고 할 때 5이상 10이하인 값만 추출하여 출력하시오\n",
    "\n",
    "a = np.array([2, 6, 1, 9, 10, 3, 27])\n",
    "\n",
    "a[(a <= 10) & (a >= 5)]"
   ]
  },
  {
   "cell_type": "code",
   "execution_count": null,
   "id": "fa289a4d",
   "metadata": {},
   "outputs": [],
   "source": [
    "#5. arr = np.arange(9).reshape(3,3) 라고 할 때 arr의 첫 번째 컬럼과 두 번째 컬럼의 순서를 바꾸어 출력하시오\n",
    "\n",
    "예) array([[1, 0, 2],       [4, 3, 5],       [7, 6, 8]])"
   ]
  },
  {
   "cell_type": "code",
   "execution_count": 76,
   "id": "77b2b2e1",
   "metadata": {},
   "outputs": [
    {
     "data": {
      "text/plain": [
       "array([[1, 0, 2],\n",
       "       [4, 3, 5],\n",
       "       [7, 6, 8]])"
      ]
     },
     "execution_count": 76,
     "metadata": {},
     "output_type": "execute_result"
    }
   ],
   "source": [
    "arr = np.arange(9).reshape(3,3)\n",
    "\n",
    "for i in range(0, 3):\n",
    "    arr[i][0], arr[i][1] = arr[i][1], arr[i][0]\n",
    "    \n",
    "arr"
   ]
  },
  {
   "cell_type": "code",
   "execution_count": null,
   "id": "6947a0d2",
   "metadata": {},
   "outputs": [],
   "source": []
  },
  {
   "cell_type": "code",
   "execution_count": 77,
   "id": "e2075524",
   "metadata": {},
   "outputs": [
    {
     "data": {
      "text/plain": [
       "array([[0, 1, 2, 3, 4],\n",
       "       [5, 6, 7, 8, 9]])"
      ]
     },
     "execution_count": 77,
     "metadata": {},
     "output_type": "execute_result"
    }
   ],
   "source": [
    "# arr = np.arange(10) 이라고 할 때\n",
    "# arr을 2개의 행을 갖는 2차원 배열로 형상을 변경하시오\n",
    "\n",
    "arr = np.arange(10)\n",
    "\n",
    "arr.reshape(2, -1)"
   ]
  },
  {
   "cell_type": "markdown",
   "id": "6c835e85",
   "metadata": {},
   "source": [
    "다차원배열 arr 가 아래와 같다고 할 때\n",
    "\n",
    "arr = np.array([[[1, 2, 3], [4, 5, 6]], [[7, 8, 9], [10, 11, 12]], [[13, 14, 15], [16, 17, 18]]])\n",
    "\n",
    " \n",
    "\n",
    "아래의 지시사항에 따라 연산을 수행하는 코드를 작성하시오\n",
    "\n",
    " \n",
    "\n",
    "1. 각 2차원 배열의 각 행의 평균값을 계산하시오\n",
    "\n",
    " \n",
    "\n",
    "2. 각 2차원 배열의 합을 계산하시오\n",
    "\n",
    " \n",
    "\n",
    "3. 각 2차원 배열의 각 열의 표준편차를 계산하시오"
   ]
  },
  {
   "cell_type": "code",
   "execution_count": 79,
   "id": "f585b491",
   "metadata": {},
   "outputs": [
    {
     "data": {
      "text/plain": [
       "array([[[ 1,  2,  3],\n",
       "        [ 4,  5,  6]],\n",
       "\n",
       "       [[ 7,  8,  9],\n",
       "        [10, 11, 12]],\n",
       "\n",
       "       [[13, 14, 15],\n",
       "        [16, 17, 18]]])"
      ]
     },
     "execution_count": 79,
     "metadata": {},
     "output_type": "execute_result"
    }
   ],
   "source": [
    "arr = np.array([[[1, 2, 3], [4, 5, 6]], [[7, 8, 9], [10, 11, 12]], [[13, 14, 15], [16, 17, 18]]])\n",
    "arr"
   ]
  },
  {
   "cell_type": "code",
   "execution_count": 80,
   "id": "32869e6f",
   "metadata": {},
   "outputs": [
    {
     "data": {
      "text/plain": [
       "array([[ 2.,  5.],\n",
       "       [ 8., 11.],\n",
       "       [14., 17.]])"
      ]
     },
     "execution_count": 80,
     "metadata": {},
     "output_type": "execute_result"
    }
   ],
   "source": [
    "# 1. 각 2차원 배열의 각 행의 평균값을 계산하시오\n",
    "\n",
    "arr.mean(axis = 2)"
   ]
  },
  {
   "cell_type": "code",
   "execution_count": 81,
   "id": "1e007508",
   "metadata": {},
   "outputs": [
    {
     "data": {
      "text/plain": [
       "array([21, 57, 93])"
      ]
     },
     "execution_count": 81,
     "metadata": {},
     "output_type": "execute_result"
    }
   ],
   "source": [
    "# 2. 각 2차원 배열의 합을 계산하시오\n",
    "\n",
    "arr.sum(axis = (1, 2))"
   ]
  },
  {
   "cell_type": "code",
   "execution_count": 82,
   "id": "17f3a5f9",
   "metadata": {},
   "outputs": [
    {
     "data": {
      "text/plain": [
       "array([[1.5, 1.5, 1.5],\n",
       "       [1.5, 1.5, 1.5],\n",
       "       [1.5, 1.5, 1.5]])"
      ]
     },
     "execution_count": 82,
     "metadata": {},
     "output_type": "execute_result"
    }
   ],
   "source": [
    "# 3. 각 2차원 배열의 각 열의 표준편차를 계산하시오\n",
    "\n",
    "arr.std(axis = 1)"
   ]
  },
  {
   "cell_type": "markdown",
   "id": "e86ab96a",
   "metadata": {},
   "source": [
    "배열 arr이 아래와 같을 때, 아래의 지시사항에 따라 데이터 전처리를 수행하는 코드를 작성하시오\n",
    "\n",
    "arr = np.arange(1, 9).reshape(4, 2)\n",
    "\n",
    " \n",
    "\n",
    "1. 각 열의 값이 최솟값이 0, 최댓값이 1이 될 수 있도록 정규화를 하려고 한다\n",
    "\n",
    "정규화의 공식이 ((각 요소 값 - 해당 열의 최솟값) / (해당 열의 최댓값 - 해당 열의 최솟값)) 이라고 할 때\n",
    "\n",
    "위의 공식에 따라 정규화를 수행하면 결과는 \n",
    "\n",
    "array([[0.        , 0.        ],       [0.33333333, 0.33333333],       [0.66666667, 0.66666667],       [1.        , 1.        ]]) 이 된다\n",
    "\n",
    "arr을 위의 공식에 따라 정규화를 수행하는 코드를 작성하시오\n",
    "\n",
    " \n",
    "\n",
    "2. 각 행 내에서 해당 요소가 차지하는 비율로 값을 수정하려고 한다\n",
    "\n",
    "정규화의 공식이 (각 요소 값 / 해당 행의 합) 이라고 할 때\n",
    "\n",
    "하나의 행이 [2, 3] 으로 구성되어 있다면 해당 행에서 2가 차지하는 비중은 0.4, 3이 차지하는 비중은 0.6으로 변환된다\n",
    "\n",
    "arr을 위의 공식에 따라 정규화를 수행하는 코드를 작성하시오"
   ]
  },
  {
   "cell_type": "code",
   "execution_count": 100,
   "id": "0c5de081",
   "metadata": {},
   "outputs": [
    {
     "data": {
      "text/plain": [
       "array([[1, 2],\n",
       "       [3, 4],\n",
       "       [5, 6],\n",
       "       [7, 8]])"
      ]
     },
     "execution_count": 100,
     "metadata": {},
     "output_type": "execute_result"
    }
   ],
   "source": [
    "# 1. 각 열의 값이 최솟값이 0, 최댓값이 1이 될 수 있도록 정규화를 하려고 한다\n",
    "\n",
    "arr = np.arange(1, 9).reshape(4, 2)\n",
    "arr"
   ]
  },
  {
   "cell_type": "code",
   "execution_count": 89,
   "id": "a223e600",
   "metadata": {},
   "outputs": [],
   "source": [
    "arr_min = arr.min(axis = 0)\n",
    "arr_max = arr.max(axis = 0)"
   ]
  },
  {
   "cell_type": "code",
   "execution_count": 149,
   "id": "c9fcf4d5",
   "metadata": {},
   "outputs": [
    {
     "data": {
      "text/plain": [
       "array([[0.        , 0.        ],\n",
       "       [0.33333333, 0.33333333],\n",
       "       [0.66666667, 0.66666667],\n",
       "       [1.        , 1.        ]])"
      ]
     },
     "execution_count": 149,
     "metadata": {},
     "output_type": "execute_result"
    }
   ],
   "source": [
    "np.array((arr - arr_min) / (arr_max - arr_min))"
   ]
  },
  {
   "cell_type": "code",
   "execution_count": null,
   "id": "fa2a31ef",
   "metadata": {},
   "outputs": [],
   "source": []
  },
  {
   "cell_type": "code",
   "execution_count": 112,
   "id": "b55cd96d",
   "metadata": {},
   "outputs": [
    {
     "data": {
      "text/plain": [
       "array([[1, 2],\n",
       "       [3, 4],\n",
       "       [5, 6],\n",
       "       [7, 8]])"
      ]
     },
     "execution_count": 112,
     "metadata": {},
     "output_type": "execute_result"
    }
   ],
   "source": [
    "# 2. 각 행 내에서 해당 요소가 차지하는 비율로 값을 수정하려고 한다\n",
    "\n",
    "arr"
   ]
  },
  {
   "cell_type": "code",
   "execution_count": 115,
   "id": "c79272f3",
   "metadata": {},
   "outputs": [
    {
     "data": {
      "text/plain": [
       "array([[0.33333333, 0.66666667],\n",
       "       [0.42857143, 0.57142857],\n",
       "       [0.45454545, 0.54545455],\n",
       "       [0.46666667, 0.53333333]])"
      ]
     },
     "execution_count": 115,
     "metadata": {},
     "output_type": "execute_result"
    }
   ],
   "source": [
    "# 2. 각 행 내에서 해당 요소가 차지하는 비율로 값을 수정하려고 한다\n",
    "\n",
    "np.array([i / i.sum() for i in arr])"
   ]
  },
  {
   "cell_type": "code",
   "execution_count": null,
   "id": "a2f1afaa",
   "metadata": {},
   "outputs": [],
   "source": []
  },
  {
   "cell_type": "markdown",
   "id": "cec6762a",
   "metadata": {},
   "source": [
    "arr = np.arange(2 * 3 * 4).reshape((2, 3, 4)) 라고 할 때\n",
    "\n",
    " \n",
    "\n",
    "1. array([[14, 15],       [18, 19],       [22, 23]]) 를 슬라이싱하는 코드를 작성하시오\n",
    "\n",
    " \n",
    "\n",
    "2. array([[ 2,  6, 10],       [14, 18, 22]]) 를 슬라이싱하는 코드를 작성하시오\n",
    "\n",
    " \n",
    "\n",
    "3. array([[ 1,  5,  9],       [13, 17, 21]]) 를 슬라이싱하는 코드를 작성하시오"
   ]
  },
  {
   "cell_type": "code",
   "execution_count": 116,
   "id": "25753344",
   "metadata": {},
   "outputs": [
    {
     "data": {
      "text/plain": [
       "array([[[ 0,  1,  2,  3],\n",
       "        [ 4,  5,  6,  7],\n",
       "        [ 8,  9, 10, 11]],\n",
       "\n",
       "       [[12, 13, 14, 15],\n",
       "        [16, 17, 18, 19],\n",
       "        [20, 21, 22, 23]]])"
      ]
     },
     "execution_count": 116,
     "metadata": {},
     "output_type": "execute_result"
    }
   ],
   "source": [
    "arr = np.arange(2 * 3 * 4).reshape((2, 3, 4))\n",
    "arr"
   ]
  },
  {
   "cell_type": "code",
   "execution_count": 117,
   "id": "7c80a4f7",
   "metadata": {},
   "outputs": [
    {
     "data": {
      "text/plain": [
       "array([[14, 15],\n",
       "       [18, 19],\n",
       "       [22, 23]])"
      ]
     },
     "execution_count": 117,
     "metadata": {},
     "output_type": "execute_result"
    }
   ],
   "source": [
    "# 1. array([[14, 15],       [18, 19],       [22, 23]]) 를 슬라이싱하는 코드를 작성하시오\n",
    "\n",
    "arr[1, :, 2:]"
   ]
  },
  {
   "cell_type": "code",
   "execution_count": 121,
   "id": "9e2624cc",
   "metadata": {},
   "outputs": [
    {
     "data": {
      "text/plain": [
       "array([[ 2,  6, 10],\n",
       "       [14, 18, 22]])"
      ]
     },
     "execution_count": 121,
     "metadata": {},
     "output_type": "execute_result"
    }
   ],
   "source": [
    "# 2. array([[ 2,  6, 10],       [14, 18, 22]]) 를 슬라이싱하는 코드를 작성하시오\n",
    "\n",
    "arr[:, :, 2]"
   ]
  },
  {
   "cell_type": "code",
   "execution_count": 122,
   "id": "1750545c",
   "metadata": {},
   "outputs": [
    {
     "data": {
      "text/plain": [
       "array([[ 1,  5,  9],\n",
       "       [13, 17, 21]])"
      ]
     },
     "execution_count": 122,
     "metadata": {},
     "output_type": "execute_result"
    }
   ],
   "source": [
    "# 3. array([[ 1,  5,  9],       [13, 17, 21]]) 를 슬라이싱하는 코드를 작성하시오\n",
    "\n",
    "arr[:, :, 1]"
   ]
  },
  {
   "cell_type": "code",
   "execution_count": null,
   "id": "48520c27",
   "metadata": {},
   "outputs": [],
   "source": []
  },
  {
   "cell_type": "code",
   "execution_count": 123,
   "id": "0ee88f8d",
   "metadata": {},
   "outputs": [],
   "source": [
    "import numpy as np"
   ]
  },
  {
   "cell_type": "code",
   "execution_count": 124,
   "id": "196f6f69",
   "metadata": {},
   "outputs": [
    {
     "data": {
      "text/plain": [
       "array([0, 1, 2, 3, 4, 5, 6, 7, 8, 9])"
      ]
     },
     "execution_count": 124,
     "metadata": {},
     "output_type": "execute_result"
    }
   ],
   "source": [
    "# 1.  0부터 9까지의 숫자가 순서대로 하나씩 들어있는 1차원 배열을 생성하는 코드를 작성하시오\n",
    "\n",
    "\n",
    "\n",
    "np.arange(0, 10)"
   ]
  },
  {
   "cell_type": "code",
   "execution_count": 125,
   "id": "44a50669",
   "metadata": {},
   "outputs": [
    {
     "data": {
      "text/plain": [
       "array([[ True,  True,  True],\n",
       "       [ True,  True,  True],\n",
       "       [ True,  True,  True]])"
      ]
     },
     "execution_count": 125,
     "metadata": {},
     "output_type": "execute_result"
    }
   ],
   "source": [
    "# 2. 모든 요소가 True 로 채워진 (3, 3) 의 형상을 가지는 다차원 배열을 생성하는 코드를 작성하시오\n",
    "\n",
    "\n",
    "\n",
    "np.full((3, 3), True)"
   ]
  },
  {
   "cell_type": "code",
   "execution_count": 126,
   "id": "001be33c",
   "metadata": {},
   "outputs": [
    {
     "data": {
      "text/plain": [
       "array([[[0.03448174, 0.41337829, 0.91870072],\n",
       "        [0.83638449, 0.86062279, 0.59730124],\n",
       "        [0.18555993, 0.30799358, 0.12113124]],\n",
       "\n",
       "       [[0.70027604, 0.34570121, 0.84048542],\n",
       "        [0.41660187, 0.5864387 , 0.42082838],\n",
       "        [0.28550403, 0.80577144, 0.64940151]],\n",
       "\n",
       "       [[0.1984776 , 0.82183244, 0.65337632],\n",
       "        [0.83186959, 0.35456497, 0.3120735 ],\n",
       "        [0.55750527, 0.18773527, 0.01180645]]])"
      ]
     },
     "execution_count": 126,
     "metadata": {},
     "output_type": "execute_result"
    }
   ],
   "source": [
    "# 3. 랜덤한 값으로 채워진 (3, 3, 3) 의 형상을 가지는 다차원 배열을 생성하는 코드를 작성하시오\n",
    "\n",
    "\n",
    "\n",
    "np.random.random((3, 3, 3))"
   ]
  },
  {
   "cell_type": "code",
   "execution_count": 127,
   "id": "276b4303",
   "metadata": {},
   "outputs": [
    {
     "data": {
      "text/plain": [
       "array([[1, 1, 1, 1, 1, 1, 1, 1, 1, 1],\n",
       "       [1, 0, 0, 0, 0, 0, 0, 0, 0, 1],\n",
       "       [1, 0, 0, 0, 0, 0, 0, 0, 0, 1],\n",
       "       [1, 0, 0, 0, 0, 0, 0, 0, 0, 1],\n",
       "       [1, 0, 0, 0, 0, 0, 0, 0, 0, 1],\n",
       "       [1, 0, 0, 0, 0, 0, 0, 0, 0, 1],\n",
       "       [1, 0, 0, 0, 0, 0, 0, 0, 0, 1],\n",
       "       [1, 0, 0, 0, 0, 0, 0, 0, 0, 1],\n",
       "       [1, 0, 0, 0, 0, 0, 0, 0, 0, 1],\n",
       "       [1, 1, 1, 1, 1, 1, 1, 1, 1, 1]])"
      ]
     },
     "execution_count": 127,
     "metadata": {},
     "output_type": "execute_result"
    }
   ],
   "source": [
    "# 4. 바깥쪽 테두리에는 1이 채워져 있고 내부는 0으로 채워진 (10, 10) 형상의 2차원 배열을 생성하는 코드를 작성하시오\n",
    "\n",
    "\n",
    "\n",
    "np.array([0 if 0 < i < 9 and  0 < j < 9 else 1 for i in range(0, 10) for j in range(0, 10)]).reshape(10, 10)"
   ]
  },
  {
   "cell_type": "code",
   "execution_count": 128,
   "id": "5b2202f1",
   "metadata": {},
   "outputs": [
    {
     "data": {
      "text/plain": [
       "array([[0, 1, 0, 1, 0, 1, 0, 1],\n",
       "       [1, 0, 1, 0, 1, 0, 1, 0],\n",
       "       [0, 1, 0, 1, 0, 1, 0, 1],\n",
       "       [1, 0, 1, 0, 1, 0, 1, 0],\n",
       "       [0, 1, 0, 1, 0, 1, 0, 1],\n",
       "       [1, 0, 1, 0, 1, 0, 1, 0],\n",
       "       [0, 1, 0, 1, 0, 1, 0, 1],\n",
       "       [1, 0, 1, 0, 1, 0, 1, 0]])"
      ]
     },
     "execution_count": 128,
     "metadata": {},
     "output_type": "execute_result"
    }
   ],
   "source": [
    "# 5. (8, 8) 형상의 2차원 배열을 0과 1을 번갈아가며 채워 생성하는 코드를 작성하시오\n",
    "\n",
    "\n",
    "\n",
    "np.array([(i+j)%2 for i in range(0, 8) for j in range(0, 8)]).reshape(8, 8)"
   ]
  },
  {
   "cell_type": "code",
   "execution_count": 130,
   "id": "090ba063",
   "metadata": {},
   "outputs": [
    {
     "data": {
      "text/plain": [
       "array([1, 3, 5, 7, 9])"
      ]
     },
     "execution_count": 130,
     "metadata": {},
     "output_type": "execute_result"
    }
   ],
   "source": [
    "# 1. arr = np.arange(10) 이라고 할 때 arr 에서 홀수들만 추출하여 출력하시오\n",
    "\n",
    "arr = np.arange(10)\n",
    "\n",
    "\n",
    "arr[arr%2 == 1]"
   ]
  },
  {
   "cell_type": "code",
   "execution_count": 131,
   "id": "cfb12de8",
   "metadata": {},
   "outputs": [
    {
     "data": {
      "text/plain": [
       "array([ 0, -1,  2, -1,  4, -1,  6, -1,  8, -1])"
      ]
     },
     "execution_count": 131,
     "metadata": {},
     "output_type": "execute_result"
    }
   ],
   "source": [
    "# 2. arr = np.arange(10) 에서 홀수들을 -1로 수정하여 출력하시오\n",
    "\n",
    "arr = np.arange(10)\n",
    "\n",
    "\n",
    "arr = np.where(arr%2 == 1, -1, arr)\n",
    "arr"
   ]
  },
  {
   "cell_type": "code",
   "execution_count": 136,
   "id": "0d4b3a14",
   "metadata": {},
   "outputs": [
    {
     "data": {
      "text/plain": [
       "array([2, 2, 4, 4])"
      ]
     },
     "execution_count": 136,
     "metadata": {},
     "output_type": "execute_result"
    }
   ],
   "source": [
    "# 3. 배열 a와 b가 아래와 같을 때, a와 b의 요소 중 동일한 인덱스에 동일한 값이 들어있는 요소들만 추출하여 출력하시오\n",
    "\n",
    "a = np.array([1,2,3,2,3,4,3,4,5,6])\n",
    "\n",
    "b = np.array([7,2,10,2,7,4,9,4,9,8])\n",
    "\n",
    "\n",
    "\n",
    "a[[i in b for i in a]]"
   ]
  },
  {
   "cell_type": "code",
   "execution_count": 137,
   "id": "ab5fb277",
   "metadata": {},
   "outputs": [
    {
     "data": {
      "text/plain": [
       "array([ 6,  9, 10])"
      ]
     },
     "execution_count": 137,
     "metadata": {},
     "output_type": "execute_result"
    }
   ],
   "source": [
    "# 4. a = np.array([2, 6, 1, 9, 10, 3, 27]) 라고 할 때 5이상 10이하인 값만 추출하여 출력하시오\n",
    "\n",
    "a = np.array([2, 6, 1, 9, 10, 3, 27])\n",
    "\n",
    "\n",
    "\n",
    "a[(a <= 10) & (a >= 5)]"
   ]
  },
  {
   "cell_type": "code",
   "execution_count": 138,
   "id": "60dc9e33",
   "metadata": {},
   "outputs": [
    {
     "data": {
      "text/plain": [
       "array([[1, 0, 2],\n",
       "       [4, 3, 5],\n",
       "       [7, 6, 8]])"
      ]
     },
     "execution_count": 138,
     "metadata": {},
     "output_type": "execute_result"
    }
   ],
   "source": [
    "#5. arr = np.arange(9).reshape(3,3) 라고 할 때 arr의 첫 번째 컬럼과 두 번째 컬럼의 순서를 바꾸어 출력하시오\n",
    "\n",
    "arr = np.arange(9).reshape(3,3)\n",
    "\n",
    "\n",
    "\n",
    "for i in range(0, 3):\n",
    "   arr[i][0], arr[i][1] = arr[i][1], arr[i][0]\n",
    "   \n",
    "arr"
   ]
  },
  {
   "cell_type": "code",
   "execution_count": 139,
   "id": "91d82790",
   "metadata": {},
   "outputs": [
    {
     "data": {
      "text/plain": [
       "array([[0, 1, 2, 3, 4],\n",
       "       [5, 6, 7, 8, 9]])"
      ]
     },
     "execution_count": 139,
     "metadata": {},
     "output_type": "execute_result"
    }
   ],
   "source": [
    "arr = np.arange(10)\n",
    "\n",
    "arr.reshape(2, -1)"
   ]
  },
  {
   "cell_type": "code",
   "execution_count": 141,
   "id": "0613699e",
   "metadata": {},
   "outputs": [
    {
     "data": {
      "text/plain": [
       "array([[[ 1,  2,  3],\n",
       "        [ 4,  5,  6]],\n",
       "\n",
       "       [[ 7,  8,  9],\n",
       "        [10, 11, 12]],\n",
       "\n",
       "       [[13, 14, 15],\n",
       "        [16, 17, 18]]])"
      ]
     },
     "execution_count": 141,
     "metadata": {},
     "output_type": "execute_result"
    }
   ],
   "source": [
    "arr = np.array([[[1, 2, 3], [4, 5, 6]], [[7, 8, 9], [10, 11, 12]], [[13, 14, 15], [16, 17, 18]]])\n",
    "\n",
    "arr\n",
    "\n"
   ]
  },
  {
   "cell_type": "code",
   "execution_count": 142,
   "id": "cad4f0f4",
   "metadata": {},
   "outputs": [
    {
     "data": {
      "text/plain": [
       "array([[ 2.,  5.],\n",
       "       [ 8., 11.],\n",
       "       [14., 17.]])"
      ]
     },
     "execution_count": 142,
     "metadata": {},
     "output_type": "execute_result"
    }
   ],
   "source": [
    "# 1. 각 2차원 배열의 각 행의 평균값을 계산하시오\n",
    "\n",
    "\n",
    "\n",
    "arr.mean(axis = 2)"
   ]
  },
  {
   "cell_type": "code",
   "execution_count": 143,
   "id": "8d288bc5",
   "metadata": {},
   "outputs": [
    {
     "data": {
      "text/plain": [
       "array([21, 57, 93])"
      ]
     },
     "execution_count": 143,
     "metadata": {},
     "output_type": "execute_result"
    }
   ],
   "source": [
    "# 2. 각 2차원 배열의 합을 계산하시오\n",
    "\n",
    "\n",
    "\n",
    "arr.sum(axis = (1, 2))"
   ]
  },
  {
   "cell_type": "code",
   "execution_count": 144,
   "id": "643df452",
   "metadata": {},
   "outputs": [
    {
     "data": {
      "text/plain": [
       "array([[1.5, 1.5, 1.5],\n",
       "       [1.5, 1.5, 1.5],\n",
       "       [1.5, 1.5, 1.5]])"
      ]
     },
     "execution_count": 144,
     "metadata": {},
     "output_type": "execute_result"
    }
   ],
   "source": [
    "# 3. 각 2차원 배열의 각 열의 표준편차를 계산하시오\n",
    "\n",
    "\n",
    "\n",
    "arr.std(axis = 1)"
   ]
  },
  {
   "cell_type": "code",
   "execution_count": 145,
   "id": "83d015ec",
   "metadata": {},
   "outputs": [],
   "source": [
    "arr = np.arange(1, 9).reshape(4, 2)"
   ]
  },
  {
   "cell_type": "code",
   "execution_count": 146,
   "id": "574de1f8",
   "metadata": {},
   "outputs": [
    {
     "data": {
      "text/plain": [
       "array([[0.        , 0.        ],\n",
       "       [0.33333333, 0.33333333],\n",
       "       [0.66666667, 0.66666667],\n",
       "       [1.        , 1.        ]])"
      ]
     },
     "execution_count": 146,
     "metadata": {},
     "output_type": "execute_result"
    }
   ],
   "source": [
    "# 1. 각 열의 값이 최솟값이 0, 최댓값이 1이 될 수 있도록 정규화를 하려고 한다\n",
    "\n",
    "arr_min = arr.min(axis = 0)\n",
    "arr_max = arr.max(axis = 0)\n",
    "\n",
    "np.array([(i - arr_min) / (arr_max - arr_min) for i in arr])"
   ]
  },
  {
   "cell_type": "code",
   "execution_count": 147,
   "id": "3e9f90a2",
   "metadata": {},
   "outputs": [
    {
     "data": {
      "text/plain": [
       "array([[0.33333333, 0.66666667],\n",
       "       [0.42857143, 0.57142857],\n",
       "       [0.45454545, 0.54545455],\n",
       "       [0.46666667, 0.53333333]])"
      ]
     },
     "execution_count": 147,
     "metadata": {},
     "output_type": "execute_result"
    }
   ],
   "source": [
    "# 2. 각 행 내에서 해당 요소가 차지하는 비율로 값을 수정하려고 한다\n",
    "\n",
    "\n",
    "\n",
    "np.array([i / i.sum() for i in arr])"
   ]
  },
  {
   "cell_type": "code",
   "execution_count": null,
   "id": "09bd2d0e",
   "metadata": {},
   "outputs": [],
   "source": []
  },
  {
   "cell_type": "code",
   "execution_count": null,
   "id": "ed29e2e7",
   "metadata": {},
   "outputs": [],
   "source": []
  },
  {
   "cell_type": "code",
   "execution_count": null,
   "id": "6efddbe6",
   "metadata": {},
   "outputs": [],
   "source": []
  },
  {
   "cell_type": "code",
   "execution_count": null,
   "id": "caeb2c4c",
   "metadata": {},
   "outputs": [],
   "source": []
  },
  {
   "cell_type": "code",
   "execution_count": null,
   "id": "19e81fb8",
   "metadata": {},
   "outputs": [],
   "source": []
  },
  {
   "cell_type": "code",
   "execution_count": null,
   "id": "b60051a8",
   "metadata": {},
   "outputs": [],
   "source": []
  },
  {
   "cell_type": "code",
   "execution_count": null,
   "id": "9be4dfdf",
   "metadata": {},
   "outputs": [],
   "source": []
  },
  {
   "cell_type": "code",
   "execution_count": null,
   "id": "9c1a2782",
   "metadata": {},
   "outputs": [],
   "source": []
  },
  {
   "cell_type": "code",
   "execution_count": null,
   "id": "c71de5ad",
   "metadata": {},
   "outputs": [],
   "source": []
  },
  {
   "cell_type": "code",
   "execution_count": null,
   "id": "5d58e2fa",
   "metadata": {},
   "outputs": [],
   "source": []
  },
  {
   "cell_type": "code",
   "execution_count": null,
   "id": "9b9304c2",
   "metadata": {},
   "outputs": [],
   "source": []
  },
  {
   "cell_type": "code",
   "execution_count": null,
   "id": "bf768b73",
   "metadata": {},
   "outputs": [],
   "source": []
  },
  {
   "cell_type": "code",
   "execution_count": null,
   "id": "5687eb48",
   "metadata": {},
   "outputs": [],
   "source": []
  },
  {
   "cell_type": "code",
   "execution_count": null,
   "id": "46b10206",
   "metadata": {},
   "outputs": [],
   "source": []
  },
  {
   "cell_type": "code",
   "execution_count": null,
   "id": "158dbdb5",
   "metadata": {},
   "outputs": [],
   "source": []
  },
  {
   "cell_type": "code",
   "execution_count": null,
   "id": "fd68cb77",
   "metadata": {},
   "outputs": [],
   "source": []
  },
  {
   "cell_type": "code",
   "execution_count": null,
   "id": "90e2beef",
   "metadata": {},
   "outputs": [],
   "source": []
  }
 ],
 "metadata": {
  "kernelspec": {
   "display_name": "Python 3 (ipykernel)",
   "language": "python",
   "name": "python3"
  },
  "language_info": {
   "codemirror_mode": {
    "name": "ipython",
    "version": 3
   },
   "file_extension": ".py",
   "mimetype": "text/x-python",
   "name": "python",
   "nbconvert_exporter": "python",
   "pygments_lexer": "ipython3",
   "version": "3.11.5"
  }
 },
 "nbformat": 4,
 "nbformat_minor": 5
}
