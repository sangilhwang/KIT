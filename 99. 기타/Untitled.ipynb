{
 "cells": [
  {
   "cell_type": "code",
   "execution_count": 1,
   "id": "b156b09d",
   "metadata": {},
   "outputs": [],
   "source": [
    "const = \"one4seveneight\""
   ]
  },
  {
   "cell_type": "code",
   "execution_count": 3,
   "id": "7a84e275",
   "metadata": {},
   "outputs": [
    {
     "data": {
      "text/plain": [
       "'1twothree'"
      ]
     },
     "execution_count": 3,
     "metadata": {},
     "output_type": "execute_result"
    }
   ],
   "source": [
    "const.replace(\"one\", \"1\")"
   ]
  },
  {
   "cell_type": "code",
   "execution_count": 4,
   "id": "3d31f0e1",
   "metadata": {},
   "outputs": [],
   "source": [
    "const = \"oneoneone\""
   ]
  },
  {
   "cell_type": "code",
   "execution_count": 5,
   "id": "6de619dd",
   "metadata": {},
   "outputs": [
    {
     "data": {
      "text/plain": [
       "'111'"
      ]
     },
     "execution_count": 5,
     "metadata": {},
     "output_type": "execute_result"
    }
   ],
   "source": [
    "const.replace(\"one\", \"1\")"
   ]
  },
  {
   "cell_type": "code",
   "execution_count": 10,
   "id": "aaeee8fa",
   "metadata": {},
   "outputs": [],
   "source": [
    "def solution(a):\n",
    "    a = a.replace(\"one\", \"1\")\n",
    "    a = a.replace(\"two\", \"2\")\n",
    "    a = a.replace(\"three\", \"3\")\n",
    "    a = a.replace(\"four\", \"4\")\n",
    "    a = a.replace(\"five\", \"5\")\n",
    "    a = a.replace(\"six\", \"6\")\n",
    "    a = a.replace(\"seven\", \"7\")\n",
    "    a = a.replace(\"eight\", \"8\")\n",
    "    a = a.replace(\"nine\", \"9\")\n",
    "    a = a.replace(\"zero\", \"0\")\n",
    "    \n",
    "    return int(a)\n",
    "    \n",
    "    "
   ]
  },
  {
   "cell_type": "code",
   "execution_count": 7,
   "id": "e6dd72fd",
   "metadata": {},
   "outputs": [
    {
     "data": {
      "text/plain": [
       "'111'"
      ]
     },
     "execution_count": 7,
     "metadata": {},
     "output_type": "execute_result"
    }
   ],
   "source": [
    "solution(const)"
   ]
  },
  {
   "cell_type": "code",
   "execution_count": 13,
   "id": "5ee3c6b0",
   "metadata": {},
   "outputs": [
    {
     "data": {
      "text/plain": [
       "123"
      ]
     },
     "execution_count": 13,
     "metadata": {},
     "output_type": "execute_result"
    }
   ],
   "source": [
    "const = \"123\"\n",
    "\n",
    "solution(const)"
   ]
  },
  {
   "cell_type": "code",
   "execution_count": null,
   "id": "b38abf39",
   "metadata": {},
   "outputs": [],
   "source": []
  },
  {
   "cell_type": "code",
   "execution_count": 16,
   "id": "c1694ca0",
   "metadata": {},
   "outputs": [],
   "source": [
    "def solution(x, n):\n",
    "    returnlist = []\n",
    "    for i in range(1, n+1):\n",
    "        returnlist.append(x * i)\n",
    "            \n",
    "    return returnlist"
   ]
  },
  {
   "cell_type": "code",
   "execution_count": 17,
   "id": "70d4f0d6",
   "metadata": {},
   "outputs": [
    {
     "data": {
      "text/plain": [
       "[2, 4, 6, 8, 10]"
      ]
     },
     "execution_count": 17,
     "metadata": {},
     "output_type": "execute_result"
    }
   ],
   "source": [
    "solution(2, 5)"
   ]
  },
  {
   "cell_type": "code",
   "execution_count": 18,
   "id": "ba6feed4",
   "metadata": {},
   "outputs": [
    {
     "data": {
      "text/plain": [
       "[4, 8, 12]"
      ]
     },
     "execution_count": 18,
     "metadata": {},
     "output_type": "execute_result"
    }
   ],
   "source": [
    "solution(4,3)"
   ]
  },
  {
   "cell_type": "code",
   "execution_count": 19,
   "id": "6fdf6430",
   "metadata": {},
   "outputs": [
    {
     "data": {
      "text/plain": [
       "[-4, -8]"
      ]
     },
     "execution_count": 19,
     "metadata": {},
     "output_type": "execute_result"
    }
   ],
   "source": [
    "solution(-4,2)"
   ]
  },
  {
   "cell_type": "code",
   "execution_count": null,
   "id": "b1dced6f",
   "metadata": {},
   "outputs": [],
   "source": []
  },
  {
   "cell_type": "code",
   "execution_count": 1,
   "id": "53da7582",
   "metadata": {},
   "outputs": [],
   "source": [
    "gift = [\"muzi frodo\"]"
   ]
  },
  {
   "cell_type": "code",
   "execution_count": 5,
   "id": "36f428e8",
   "metadata": {},
   "outputs": [
    {
     "data": {
      "text/plain": [
       "list"
      ]
     },
     "execution_count": 5,
     "metadata": {},
     "output_type": "execute_result"
    }
   ],
   "source": [
    "type(gift[0].split())"
   ]
  },
  {
   "cell_type": "code",
   "execution_count": 8,
   "id": "b353d7dc",
   "metadata": {},
   "outputs": [],
   "source": [
    "friends = [\"muzi\", \"ryan\", \"frodo\", \"neo\"]\n",
    "gifts = [\"muzi frodo\", \"muzi frodo\", \"ryan muzi\", \"ryan muzi\", \"ryan muzi\", \"frodo muzi\", \"frodo ryan\", \"neo muzi\"]"
   ]
  },
  {
   "cell_type": "code",
   "execution_count": 17,
   "id": "4a1a57f2",
   "metadata": {},
   "outputs": [],
   "source": [
    "def solution(friends, gifts):\n",
    "    answer = 0\n",
    "    gifts2 = []\n",
    "    giftgiven = []\n",
    "    gifttaken = []\n",
    "    for i in gifts:\n",
    "        gifts2.append(i.split())\n",
    "        \n",
    "    for i in friends:\n",
    "        for j in gifts2:\n",
    "            giftgiven_count = 0\n",
    "            gifttaken_count = 0\n",
    "            \n",
    "            if j[0] == i:\n",
    "                giftgiven_count += 1\n",
    "            if j[1] == i:\n",
    "                gifttaken_count += 1\n",
    "            giftgiven.extend[giftgiven_count]\n",
    "            gifttaken.extend[gifttaken_count]\n",
    "            \n",
    "    print(giftgiven)\n",
    "    print(gifttaken)\n",
    "            \n",
    "    return answer"
   ]
  },
  {
   "cell_type": "code",
   "execution_count": 18,
   "id": "5ec63591",
   "metadata": {},
   "outputs": [
    {
     "ename": "TypeError",
     "evalue": "'builtin_function_or_method' object is not subscriptable",
     "output_type": "error",
     "traceback": [
      "\u001b[1;31m---------------------------------------------------------------------------\u001b[0m",
      "\u001b[1;31mTypeError\u001b[0m                                 Traceback (most recent call last)",
      "Cell \u001b[1;32mIn[18], line 1\u001b[0m\n\u001b[1;32m----> 1\u001b[0m solution(friends, gifts)\n",
      "Cell \u001b[1;32mIn[17], line 18\u001b[0m, in \u001b[0;36msolution\u001b[1;34m(friends, gifts)\u001b[0m\n\u001b[0;32m     16\u001b[0m         \u001b[38;5;28;01mif\u001b[39;00m j[\u001b[38;5;241m1\u001b[39m] \u001b[38;5;241m==\u001b[39m i:\n\u001b[0;32m     17\u001b[0m             gifttaken_count \u001b[38;5;241m+\u001b[39m\u001b[38;5;241m=\u001b[39m \u001b[38;5;241m1\u001b[39m\n\u001b[1;32m---> 18\u001b[0m         giftgiven\u001b[38;5;241m.\u001b[39mextend[giftgiven_count]\n\u001b[0;32m     19\u001b[0m         gifttaken\u001b[38;5;241m.\u001b[39mextend[gifttaken_count]\n\u001b[0;32m     21\u001b[0m \u001b[38;5;28mprint\u001b[39m(giftgiven)\n",
      "\u001b[1;31mTypeError\u001b[0m: 'builtin_function_or_method' object is not subscriptable"
     ]
    }
   ],
   "source": [
    "solution(friends, gifts)"
   ]
  },
  {
   "cell_type": "code",
   "execution_count": 62,
   "id": "3ab31141",
   "metadata": {},
   "outputs": [],
   "source": [
    "players = [\"mumu\", \"soe\", \"poe\", \"kai\", \"mine\"]\n",
    "callings = [\"kai\", \"kai\", \"mine\", \"mine\"]"
   ]
  },
  {
   "cell_type": "code",
   "execution_count": 63,
   "id": "e9feeb69",
   "metadata": {},
   "outputs": [],
   "source": [
    "def solution(players, callings):\n",
    "    answer = players\n",
    "    for i in callings:\n",
    "        a = answer.index(i)\n",
    "        temp1 = answer[a]\n",
    "        temp2 = answer[a-1]\n",
    "        answer[a] = temp2\n",
    "        answer[a-1] = temp1\n",
    "\n",
    "    return answer"
   ]
  },
  {
   "cell_type": "code",
   "execution_count": 64,
   "id": "c743f590",
   "metadata": {},
   "outputs": [
    {
     "data": {
      "text/plain": [
       "['mumu', 'kai', 'mine', 'soe', 'poe']"
      ]
     },
     "execution_count": 64,
     "metadata": {},
     "output_type": "execute_result"
    }
   ],
   "source": [
    "solution(players, callings)"
   ]
  },
  {
   "cell_type": "code",
   "execution_count": 53,
   "id": "839fc037",
   "metadata": {},
   "outputs": [],
   "source": [
    "[\"mumu\", \"kai\", \"mine\", \"soe\", \"poe\"]"
   ]
  },
  {
   "cell_type": "code",
   "execution_count": null,
   "id": "b5c6d5f2",
   "metadata": {},
   "outputs": [],
   "source": [
    "def solution(players, callings):\n",
    "    answer = players\n",
    "    for i in callings:\n",
    "        a = answer.index(i)\n",
    "        answer[a], answer[a-1] = answer[a-1], answer[a]\n",
    "    return answer"
   ]
  },
  {
   "cell_type": "code",
   "execution_count": null,
   "id": "c0f3ff66",
   "metadata": {},
   "outputs": [],
   "source": []
  },
  {
   "cell_type": "code",
   "execution_count": 92,
   "id": "d338c1ee",
   "metadata": {},
   "outputs": [],
   "source": [
    "t = \"500220839878\"\n",
    "p = \"7\""
   ]
  },
  {
   "cell_type": "code",
   "execution_count": 94,
   "id": "ac1045e2",
   "metadata": {},
   "outputs": [
    {
     "data": {
      "text/plain": [
       "0"
      ]
     },
     "execution_count": 94,
     "metadata": {},
     "output_type": "execute_result"
    }
   ],
   "source": [
    "def solution(t, p):\n",
    "    answer = 0\n",
    "    a = len(t)-len(p)+1\n",
    "    for i in range(0, a):\n",
    "        if int(t[i:i+a]) <= int(p):\n",
    "            answer += 1\n",
    "    return answer\n",
    "\n",
    "solution(t, p)"
   ]
  },
  {
   "cell_type": "code",
   "execution_count": 86,
   "id": "6d4f47a5",
   "metadata": {},
   "outputs": [
    {
     "data": {
      "text/plain": [
       "12"
      ]
     },
     "execution_count": 86,
     "metadata": {},
     "output_type": "execute_result"
    }
   ],
   "source": [
    "len(t)-len(p)+1"
   ]
  },
  {
   "cell_type": "code",
   "execution_count": 96,
   "id": "533fddc2",
   "metadata": {},
   "outputs": [
    {
     "data": {
      "text/plain": [
       "'0'"
      ]
     },
     "execution_count": 96,
     "metadata": {},
     "output_type": "execute_result"
    }
   ],
   "source": [
    "t[1:2]"
   ]
  },
  {
   "cell_type": "code",
   "execution_count": 87,
   "id": "acbf0e86",
   "metadata": {},
   "outputs": [
    {
     "name": "stdout",
     "output_type": "stream",
     "text": [
      "12\n",
      "1\n"
     ]
    }
   ],
   "source": [
    "print(len(t))\n",
    "print(len(p))"
   ]
  },
  {
   "cell_type": "code",
   "execution_count": 80,
   "id": "508bfaee",
   "metadata": {},
   "outputs": [
    {
     "name": "stdout",
     "output_type": "stream",
     "text": [
      "2\n"
     ]
    }
   ],
   "source": [
    "a = 0\n",
    "for i in range(0, len(t)-len(p)+1):\n",
    "    if int(t[i:i+3]) <= int(p):\n",
    "        a += 1\n",
    "print(a)\n",
    "    "
   ]
  },
  {
   "cell_type": "code",
   "execution_count": 36,
   "id": "f7286648",
   "metadata": {},
   "outputs": [],
   "source": [
    "new_id = \"...!@BaT#*..y.abcdefghijklm\""
   ]
  },
  {
   "cell_type": "code",
   "execution_count": 37,
   "id": "f33b6dc3",
   "metadata": {},
   "outputs": [
    {
     "name": "stdout",
     "output_type": "stream",
     "text": [
      "...!@bat#*..y.abcdefghijklm\n"
     ]
    }
   ],
   "source": [
    "# 1단계 new_id의 모든 대문자를 대응되는 소문자로 치환합니다.\n",
    "\n",
    "answer = new_id.lower()\n",
    "print(answer)"
   ]
  },
  {
   "cell_type": "code",
   "execution_count": 15,
   "id": "efb0586c",
   "metadata": {},
   "outputs": [],
   "source": [
    "import re"
   ]
  },
  {
   "cell_type": "code",
   "execution_count": 38,
   "id": "909be61a",
   "metadata": {},
   "outputs": [
    {
     "name": "stdout",
     "output_type": "stream",
     "text": [
      "...bat..y.abcdefghijklm\n"
     ]
    }
   ],
   "source": [
    "# 2단계 new_id에서 알파벳 소문자, 숫자, 빼기(-), 밑줄(_), 마침표(.)를 제외한 모든 문자를 제거합니다.\n",
    "\n",
    "answer = re.sub(r\"[^\\uAC00-\\uD7A30-9a-zA-Z\\s\\-\\_\\.]\", \"\", answer)\n",
    "\n",
    "print(answer)"
   ]
  },
  {
   "cell_type": "code",
   "execution_count": 39,
   "id": "eba25a3d",
   "metadata": {},
   "outputs": [
    {
     "name": "stdout",
     "output_type": "stream",
     "text": [
      ".bat.y.abcdefghijklm\n"
     ]
    }
   ],
   "source": [
    "# 3단계 new_id에서 마침표(.)가 2번 이상 연속된 부분을 하나의 마침표(.)로 치환합니다.\n",
    "\n",
    "while \"..\" in answer:\n",
    "    answer = answer.replace(\"..\", \".\")\n",
    "    \n",
    "print(answer)"
   ]
  },
  {
   "cell_type": "code",
   "execution_count": 40,
   "id": "27bedd1b",
   "metadata": {},
   "outputs": [
    {
     "name": "stdout",
     "output_type": "stream",
     "text": [
      "bat.y.abcdefghijkl\n"
     ]
    }
   ],
   "source": [
    "# 4단계 new_id에서 마침표(.)가 처음이나 끝에 위치한다면 제거합니다.\n",
    "\n",
    "if answer[0] == \".\" :\n",
    "    answer = answer[1:]\n",
    "    \n",
    "if answer[-1] == \".\" :\n",
    "    answer = answer[0:-2]\n",
    "\n",
    "print(answer)"
   ]
  },
  {
   "cell_type": "code",
   "execution_count": 41,
   "id": "c4d291ba",
   "metadata": {},
   "outputs": [
    {
     "name": "stdout",
     "output_type": "stream",
     "text": [
      "bat.y.abcdefghijkl\n"
     ]
    }
   ],
   "source": [
    "# 5단계 new_id가 빈 문자열이라면, new_id에 \"a\"를 대입합니다.\n",
    "\n",
    "if len(answer) == 0:\n",
    "    answer = \"a\"\n",
    "\n",
    "print(answer)"
   ]
  },
  {
   "cell_type": "code",
   "execution_count": 42,
   "id": "52d03e18",
   "metadata": {},
   "outputs": [
    {
     "name": "stdout",
     "output_type": "stream",
     "text": [
      "bat.y.abcdefghi\n"
     ]
    }
   ],
   "source": [
    "# 6단계 new_id의 길이가 16자 이상이면, new_id의 첫 15개의 문자를 제외한 나머지 문자들을 모두 제거합니다.\n",
    "# 만약 제거 후 마침표(.)가 new_id의 끝에 위치한다면 끝에 위치한 마침표(.) 문자를 제거합니다.\n",
    "\n",
    "if len(answer) >= 16:\n",
    "    answer = answer[0:15]\n",
    "    \n",
    "if len(answer) != 0:\n",
    "    if answer[0] == \".\" :\n",
    "        answer = answer[1:]\n",
    "        \n",
    "if len(answer) != 0:    \n",
    "    if answer[-1] == \".\" :\n",
    "        answer = answer[0:-1]    \n",
    "\n",
    "print(answer)"
   ]
  },
  {
   "cell_type": "code",
   "execution_count": 43,
   "id": "78f6559b",
   "metadata": {},
   "outputs": [
    {
     "name": "stdout",
     "output_type": "stream",
     "text": [
      "aaa\n"
     ]
    }
   ],
   "source": [
    "# 7단계 new_id의 길이가 2자 이하라면, new_id의 마지막 문자를 new_id의 길이가 3이 될 때까지 반복해서 끝에 붙입니다.\n",
    "\n",
    "while len(answer) <= 2:\n",
    "    answer = answer + answer[-1]\n",
    "\n",
    "print(answer)"
   ]
  },
  {
   "cell_type": "code",
   "execution_count": 147,
   "id": "f0185070",
   "metadata": {},
   "outputs": [],
   "source": [
    "import re\n",
    "\n",
    "def solution(new_id):\n",
    "    answer = new_id\n",
    "    print(\"step0 : \" + answer)    \n",
    "    \n",
    "    answer = answer.lower()\n",
    "    print(\"step1 : \" + answer)\n",
    "    \n",
    "    answer = re.sub(r\"[^\\uAC00-\\uD7A30-9a-zA-Z\\s\\-\\_\\.]\", \"\", answer)\n",
    "    print(\"step2 : \" + answer)\n",
    "    \n",
    "    while \"..\" in answer:\n",
    "        answer = answer.replace(\"..\", \".\")        \n",
    "    print(\"step3 : \" + answer)\n",
    "\n",
    "    if len(answer) != 0:\n",
    "        if answer[0] == \".\" :\n",
    "            answer = answer[1:]\n",
    "\n",
    "    if len(answer) != 0:            \n",
    "        if answer[-1] == \".\" :\n",
    "            answer = answer[0:-1]\n",
    "    print(\"step4 : \" + answer)\n",
    "    \n",
    "    if len(answer) == 0:\n",
    "        answer = \"a\"\n",
    "    print(\"step5 : \" + answer)\n",
    "    \n",
    "    if len(answer) >= 16:\n",
    "        answer = answer[0:15]\n",
    "    \n",
    "    if len(answer) != 0:\n",
    "        if answer[0] == \".\" :\n",
    "            answer = answer[1:]\n",
    "        \n",
    "    if len(answer) != 0:    \n",
    "        if answer[-1] == \".\" :\n",
    "            answer = answer[0:-1]  \n",
    "    print(\"step6 : \" + answer)\n",
    "    \n",
    "    while len(answer) <= 2:\n",
    "        answer = answer + answer[-1]\n",
    "        \n",
    "    print(\"step7 : \" + answer)\n",
    "    \n",
    "    return answer"
   ]
  },
  {
   "cell_type": "code",
   "execution_count": 145,
   "id": "2c62e3b3",
   "metadata": {},
   "outputs": [],
   "source": [
    "a = \"...!@BaT#*..y.abcdefghijklm\" \n",
    "b = \"z-+.^.\"\n",
    "c = \"=.=\"\n",
    "d = \"123_.def\"\n",
    "e = \"abcdefghijklmn.p\""
   ]
  },
  {
   "cell_type": "code",
   "execution_count": 148,
   "id": "6409b541",
   "metadata": {},
   "outputs": [
    {
     "name": "stdout",
     "output_type": "stream",
     "text": [
      "step0 : ...!@BaT#*..y.abcdefghijklm\n",
      "step1 : ...!@bat#*..y.abcdefghijklm\n",
      "step2 : ...bat..y.abcdefghijklm\n",
      "step3 : .bat.y.abcdefghijklm\n",
      "step4 : bat.y.abcdefghijklm\n",
      "step5 : bat.y.abcdefghijklm\n",
      "step6 : bat.y.abcdefghi\n",
      "step7 : bat.y.abcdefghi\n"
     ]
    },
    {
     "data": {
      "text/plain": [
       "'bat.y.abcdefghi'"
      ]
     },
     "execution_count": 148,
     "metadata": {},
     "output_type": "execute_result"
    }
   ],
   "source": [
    "solution(a)"
   ]
  },
  {
   "cell_type": "code",
   "execution_count": 149,
   "id": "8ec7392d",
   "metadata": {},
   "outputs": [
    {
     "name": "stdout",
     "output_type": "stream",
     "text": [
      "step0 : z-+.^.\n",
      "step1 : z-+.^.\n",
      "step2 : z-..\n",
      "step3 : z-.\n",
      "step4 : z-\n",
      "step5 : z-\n",
      "step6 : z-\n",
      "step7 : z--\n"
     ]
    },
    {
     "data": {
      "text/plain": [
       "'z--'"
      ]
     },
     "execution_count": 149,
     "metadata": {},
     "output_type": "execute_result"
    }
   ],
   "source": [
    "solution(b)"
   ]
  },
  {
   "cell_type": "code",
   "execution_count": 150,
   "id": "015d3ffb",
   "metadata": {},
   "outputs": [
    {
     "name": "stdout",
     "output_type": "stream",
     "text": [
      "step0 : =.=\n",
      "step1 : =.=\n",
      "step2 : .\n",
      "step3 : .\n",
      "step4 : \n",
      "step5 : a\n",
      "step6 : a\n",
      "step7 : aaa\n"
     ]
    },
    {
     "data": {
      "text/plain": [
       "'aaa'"
      ]
     },
     "execution_count": 150,
     "metadata": {},
     "output_type": "execute_result"
    }
   ],
   "source": [
    "solution(c)"
   ]
  },
  {
   "cell_type": "code",
   "execution_count": 151,
   "id": "a806daa7",
   "metadata": {},
   "outputs": [
    {
     "name": "stdout",
     "output_type": "stream",
     "text": [
      "step0 : 123_.def\n",
      "step1 : 123_.def\n",
      "step2 : 123_.def\n",
      "step3 : 123_.def\n",
      "step4 : 123_.def\n",
      "step5 : 123_.def\n",
      "step6 : 123_.def\n",
      "step7 : 123_.def\n"
     ]
    },
    {
     "data": {
      "text/plain": [
       "'123_.def'"
      ]
     },
     "execution_count": 151,
     "metadata": {},
     "output_type": "execute_result"
    }
   ],
   "source": [
    "solution(d)"
   ]
  },
  {
   "cell_type": "code",
   "execution_count": 152,
   "id": "1111e201",
   "metadata": {},
   "outputs": [
    {
     "name": "stdout",
     "output_type": "stream",
     "text": [
      "step0 : abcdefghijklmn.p\n",
      "step1 : abcdefghijklmn.p\n",
      "step2 : abcdefghijklmn.p\n",
      "step3 : abcdefghijklmn.p\n",
      "step4 : abcdefghijklmn.p\n",
      "step5 : abcdefghijklmn.p\n",
      "step6 : abcdefghijklmn\n",
      "step7 : abcdefghijklmn\n"
     ]
    },
    {
     "data": {
      "text/plain": [
       "'abcdefghijklmn'"
      ]
     },
     "execution_count": 152,
     "metadata": {},
     "output_type": "execute_result"
    }
   ],
   "source": [
    "solution(e)"
   ]
  },
  {
   "cell_type": "code",
   "execution_count": 154,
   "id": "17ceb47e",
   "metadata": {},
   "outputs": [],
   "source": [
    "id_list = [\"muzi\", \"frodo\", \"apeach\", \"neo\"]\n",
    "report = [\"muzi frodo\",\"apeach frodo\",\"frodo neo\",\"muzi neo\",\"apeach muzi\"]"
   ]
  },
  {
   "cell_type": "code",
   "execution_count": null,
   "id": "92dab8b1",
   "metadata": {},
   "outputs": [],
   "source": [
    "def solution(id_list, report, k):\n",
    "    answer = []\n",
    "    return answer"
   ]
  },
  {
   "cell_type": "code",
   "execution_count": null,
   "id": "f6c69825",
   "metadata": {},
   "outputs": [],
   "source": []
  },
  {
   "cell_type": "code",
   "execution_count": 157,
   "id": "6c100102",
   "metadata": {},
   "outputs": [],
   "source": [
    "report2 = []\n",
    "for i in report:\n",
    "    report2.append(i.split())"
   ]
  },
  {
   "cell_type": "code",
   "execution_count": 158,
   "id": "c81084f8",
   "metadata": {},
   "outputs": [
    {
     "name": "stdout",
     "output_type": "stream",
     "text": [
      "[['muzi', 'frodo'], ['apeach', 'frodo'], ['frodo', 'neo'], ['muzi', 'neo'], ['apeach', 'muzi']]\n"
     ]
    }
   ],
   "source": [
    "print(report2)"
   ]
  },
  {
   "cell_type": "code",
   "execution_count": 211,
   "id": "fe2dd167",
   "metadata": {},
   "outputs": [
    {
     "name": "stdout",
     "output_type": "stream",
     "text": [
      "[1, 2, 0, 2]\n",
      "['frodo', 'neo']\n"
     ]
    }
   ],
   "source": [
    "report3 = {}\n",
    "\n",
    "for i in id_list:\n",
    "    report3[i] = []\n",
    "    \n",
    "    for j in id_list:\n",
    "        report3[i].append(report2.count([i,j]))\n",
    "\n",
    "report4 = []\n",
    "\n",
    "for i in range(len(id_list)):\n",
    "    a = 0\n",
    "    for j in report3:\n",
    "        a += report3[j][i]\n",
    "    report4.append(a)\n",
    "\n",
    "    \n",
    "print(report4)    \n",
    "\n",
    "report5 = []\n",
    "\n",
    "for i in range(len(report4)):\n",
    "    if report4[i] >= 2:\n",
    "        report5.append(id_list[i])\n",
    "        \n",
    "print(report5)\n",
    "\n",
    "report6 = []\n",
    "\n",
    "for i in range(len(id_list)):\n",
    "    if \n",
    "\n",
    "\n",
    "        \n",
    "    \n",
    "    "
   ]
  },
  {
   "cell_type": "code",
   "execution_count": 196,
   "id": "79da9fc3",
   "metadata": {},
   "outputs": [
    {
     "name": "stdout",
     "output_type": "stream",
     "text": [
      "{'muzi': [0, 1, 0, 1], 'frodo': [0, 0, 0, 1], 'apeach': [1, 1, 0, 0], 'neo': [0, 0, 0, 0]}\n"
     ]
    }
   ],
   "source": [
    "print(report3)"
   ]
  },
  {
   "cell_type": "code",
   "execution_count": 182,
   "id": "436399d5",
   "metadata": {},
   "outputs": [
    {
     "data": {
      "text/plain": [
       "0"
      ]
     },
     "execution_count": 182,
     "metadata": {},
     "output_type": "execute_result"
    }
   ],
   "source": [
    "report3['muzi'][0] + report3['frodo'][0]"
   ]
  },
  {
   "cell_type": "code",
   "execution_count": null,
   "id": "2dc3c54a",
   "metadata": {},
   "outputs": [],
   "source": [
    "a[0] + b[0] + c[0] = d[0]"
   ]
  },
  {
   "cell_type": "code",
   "execution_count": 201,
   "id": "4a4adf5e",
   "metadata": {},
   "outputs": [
    {
     "name": "stdout",
     "output_type": "stream",
     "text": [
      "0\n",
      "0\n",
      "1\n",
      "0\n"
     ]
    }
   ],
   "source": [
    "for i in report3:\n",
    "    print(report3[i][0])"
   ]
  },
  {
   "cell_type": "code",
   "execution_count": null,
   "id": "42576751",
   "metadata": {},
   "outputs": [],
   "source": []
  },
  {
   "cell_type": "code",
   "execution_count": 54,
   "id": "0dd01b69",
   "metadata": {},
   "outputs": [],
   "source": [
    "park = [\"SOO\",\"OOO\",\"OOO\"]\n",
    "route = [\"E 2\",\"S 2\",\"W 1\"]"
   ]
  },
  {
   "cell_type": "code",
   "execution_count": 55,
   "id": "86f66293",
   "metadata": {},
   "outputs": [
    {
     "name": "stdout",
     "output_type": "stream",
     "text": [
      "[0, 0]\n"
     ]
    }
   ],
   "source": [
    "start = []\n",
    "\n",
    "for i in park:\n",
    "    if \"S\" in i:\n",
    "        start.append(i.find(\"S\"))\n",
    "        start.append(park.index(i)) \n",
    "\n",
    "\n",
    "print(start)\n",
    "    "
   ]
  },
  {
   "cell_type": "code",
   "execution_count": 56,
   "id": "808d3746",
   "metadata": {},
   "outputs": [
    {
     "name": "stdout",
     "output_type": "stream",
     "text": [
      "[1, 2]\n"
     ]
    }
   ],
   "source": [
    "answer = start\n",
    "\n",
    "for i in route:\n",
    "    if i[0] == \"N\":\n",
    "        if answer[1] >= int(i[-1]) :\n",
    "            answer[1] -= int(i[-1])\n",
    "        \n",
    "        else:\n",
    "            answer[1] = 0\n",
    "        \n",
    "    elif i[0] == \"E\":\n",
    "        if len(park[0]) - answer[0] >= int(i[-1]):\n",
    "            answer[0] += int(i[-1])\n",
    "            \n",
    "        else:\n",
    "            answer[0] = len(park[0])\n",
    "        \n",
    "    elif i[0] == \"S\":\n",
    "        if len(park) - answer[1] >= int(i[-1]):\n",
    "            answer[1] += int(i[-1])\n",
    "            \n",
    "        else:\n",
    "            answer[1] = len(park)\n",
    "        \n",
    "    elif i[0] == \"W\":\n",
    "        if answer[0] >= int(i[-1]):\n",
    "            answer[0] -= int(i[-1])\n",
    "            \n",
    "        else:\n",
    "            answer[0] = 0\n",
    "        \n",
    "print(answer)"
   ]
  },
  {
   "cell_type": "code",
   "execution_count": null,
   "id": "d0a42f4f",
   "metadata": {},
   "outputs": [],
   "source": []
  },
  {
   "cell_type": "code",
   "execution_count": 61,
   "id": "cfb46907",
   "metadata": {},
   "outputs": [
    {
     "data": {
      "text/plain": [
       "1"
      ]
     },
     "execution_count": 61,
     "metadata": {},
     "output_type": "execute_result"
    }
   ],
   "source": [
    "5%2"
   ]
  },
  {
   "cell_type": "code",
   "execution_count": 62,
   "id": "3ece2c32",
   "metadata": {},
   "outputs": [],
   "source": [
    "sizes = [[60, 50], [30, 70], [60, 30], [80, 40]]"
   ]
  },
  {
   "cell_type": "code",
   "execution_count": 68,
   "id": "fb5a7ab5",
   "metadata": {},
   "outputs": [
    {
     "name": "stdout",
     "output_type": "stream",
     "text": [
      "4000\n"
     ]
    }
   ],
   "source": [
    "a = []\n",
    "b = []\n",
    "for i in sizes:\n",
    "    a.append(min(i))\n",
    "    b.append(max(i))\n",
    "\n",
    "print(max(a) * max(b))\n"
   ]
  },
  {
   "cell_type": "code",
   "execution_count": null,
   "id": "8c230cef",
   "metadata": {},
   "outputs": [],
   "source": []
  },
  {
   "cell_type": "code",
   "execution_count": 91,
   "id": "d1942e5d",
   "metadata": {},
   "outputs": [],
   "source": [
    "bandages = [5, 1, 5]\n",
    "health = 30\n",
    "attacks = [[2, 10], [9, 15], [10, 5], [11, 5]]"
   ]
  },
  {
   "cell_type": "code",
   "execution_count": 61,
   "id": "b925296e",
   "metadata": {},
   "outputs": [
    {
     "name": "stdout",
     "output_type": "stream",
     "text": [
      "1 1 30\n",
      "2 0 20\n",
      "3 1 21\n",
      "4 2 22\n",
      "5 3 23\n",
      "6 4 24\n",
      "7 0 30\n",
      "8 1 30\n",
      "9 0 15\n",
      "10 0 10\n",
      "11 0 5\n"
     ]
    }
   ],
   "source": [
    "health = 30\n",
    "attacks_time = [i[0] for i in attacks]\n",
    "attacks_damage = [i[1] for i in attacks]\n",
    "maxtime = max(attacks_time)\n",
    "current_time = 0\n",
    "bandage_time = 0\n",
    "\n",
    "while health > 0:\n",
    "    \n",
    "    current_time += 1\n",
    "    bandage_time += 1\n",
    "            \n",
    "    if current_time in attacks_time:\n",
    "        bandage_time = 0\n",
    "        health -= attacks_damage[attacks_time.index(current_time)] \n",
    "        \n",
    "    else:    \n",
    "        if bandage_time == bandages[0]:\n",
    "            bandage_time = 0\n",
    "            health += bandages[1] + bandages[2]\n",
    "\n",
    "        elif bandage_time == 0:\n",
    "            pass            \n",
    "            \n",
    "        else:\n",
    "            health += bandages[1]\n",
    "            \n",
    "    if health > 30:\n",
    "        health = 30\n",
    "        \n",
    "    print(current_time, bandage_time, health)\n",
    "    \n",
    "    if health <= 0:\n",
    "        answer = -1\n",
    "        return answer\n",
    "        break\n",
    "    \n",
    "    if current_time == maxtime:\n",
    "        answer = health\n",
    "        return answer\n",
    "        break\n",
    "        \n",
    "    \n",
    "\n",
    "    "
   ]
  },
  {
   "cell_type": "code",
   "execution_count": 47,
   "id": "d88dfc38",
   "metadata": {},
   "outputs": [
    {
     "data": {
      "text/plain": [
       "5"
      ]
     },
     "execution_count": 47,
     "metadata": {},
     "output_type": "execute_result"
    }
   ],
   "source": [
    "attacks_damage[attacks_time.index(current_time)]"
   ]
  },
  {
   "cell_type": "code",
   "execution_count": 92,
   "id": "31a6f556",
   "metadata": {},
   "outputs": [],
   "source": [
    "def solution(bandage, health, attacks):\n",
    "    \n",
    "    attacks_time = [i[0] for i in attacks]\n",
    "    attacks_damage = [i[1] for i in attacks]\n",
    "    maxtime = max(attacks_time)\n",
    "    current_time = 0\n",
    "    bandage_time = 0\n",
    "    answer = 0\n",
    "\n",
    "    while health > 0 and current_time < maxtime:\n",
    "\n",
    "        current_time += 1\n",
    "        bandage_time += 1\n",
    "\n",
    "        if current_time in attacks_time:\n",
    "            bandage_time = 0\n",
    "            health -= attacks_damage[attacks_time.index(current_time)] \n",
    "\n",
    "        else:    \n",
    "            if bandage_time == bandages[0]:\n",
    "                bandage_time = 0\n",
    "                health += bandages[1] + bandages[2]\n",
    "\n",
    "            elif bandage_time == 0:\n",
    "                pass            \n",
    "\n",
    "            else:\n",
    "                health += bandages[1]\n",
    "\n",
    "        if health > 30:\n",
    "            health = 30\n",
    "\n",
    "        print(current_time, bandage_time, health)\n",
    "\n",
    "        if health <= 0:\n",
    "            answer = -1\n",
    "\n",
    "        if current_time == maxtime:\n",
    "            answer = health\n",
    "            \n",
    "    return answer"
   ]
  },
  {
   "cell_type": "code",
   "execution_count": 93,
   "id": "d2296770",
   "metadata": {},
   "outputs": [
    {
     "name": "stdout",
     "output_type": "stream",
     "text": [
      "1 1 30\n",
      "2 0 20\n",
      "3 1 21\n",
      "4 2 22\n",
      "5 3 23\n",
      "6 4 24\n",
      "7 0 30\n",
      "8 1 30\n",
      "9 0 15\n",
      "10 0 10\n",
      "11 0 5\n"
     ]
    },
    {
     "data": {
      "text/plain": [
       "5"
      ]
     },
     "execution_count": 93,
     "metadata": {},
     "output_type": "execute_result"
    }
   ],
   "source": [
    "solution(bandages, health, attacks)"
   ]
  },
  {
   "cell_type": "code",
   "execution_count": 86,
   "id": "75c29acf",
   "metadata": {},
   "outputs": [],
   "source": [
    "bandages = [5, 1, 5]\n",
    "health = 30\n",
    "attacks = [[2, 10], [9, 15], [10, 5], [11, 5]]"
   ]
  },
  {
   "cell_type": "code",
   "execution_count": 87,
   "id": "2c623b75",
   "metadata": {},
   "outputs": [
    {
     "name": "stdout",
     "output_type": "stream",
     "text": [
      "1 1 30\n",
      "2 0 20\n",
      "3 1 21\n",
      "4 2 22\n",
      "5 3 23\n",
      "6 4 24\n",
      "7 0 30\n",
      "8 1 30\n",
      "9 0 15\n",
      "10 0 10\n",
      "11 0 5\n"
     ]
    }
   ],
   "source": [
    "attacks_time = [i[0] for i in attacks]\n",
    "attacks_damage = [i[1] for i in attacks]\n",
    "maxtime = max(attacks_time)\n",
    "current_time = 0\n",
    "bandage_time = 0\n",
    "answer = 0\n",
    "\n",
    "while health > 0 and current_time < maxtime:\n",
    "\n",
    "    current_time += 1\n",
    "    bandage_time += 1\n",
    "\n",
    "    if current_time in attacks_time:\n",
    "        bandage_time = 0\n",
    "        health -= attacks_damage[attacks_time.index(current_time)] \n",
    "\n",
    "    else:    \n",
    "        if bandage_time == bandages[0]:\n",
    "            bandage_time = 0\n",
    "            health += bandages[1] + bandages[2]\n",
    "\n",
    "        elif bandage_time == 0:\n",
    "            pass            \n",
    "\n",
    "        else:\n",
    "            health += bandages[1]\n",
    "\n",
    "    if health > 30:\n",
    "        health = 30\n",
    "\n",
    "    print(current_time, bandage_time, health)\n",
    "\n",
    "    if health <= 0:\n",
    "        answer = -1\n",
    "\n",
    "    if current_time == maxtime:\n",
    "        answer = health"
   ]
  },
  {
   "cell_type": "code",
   "execution_count": 88,
   "id": "2d9e3490",
   "metadata": {},
   "outputs": [
    {
     "name": "stdout",
     "output_type": "stream",
     "text": [
      "5\n"
     ]
    }
   ],
   "source": [
    "print(answer)"
   ]
  },
  {
   "cell_type": "code",
   "execution_count": null,
   "id": "eef0b54d",
   "metadata": {},
   "outputs": [],
   "source": []
  },
  {
   "cell_type": "code",
   "execution_count": 1,
   "id": "d44ca48c",
   "metadata": {},
   "outputs": [],
   "source": [
    "board = [[\"blue\", \"red\", \"orange\", \"red\"], [\"red\", \"red\", \"blue\", \"orange\"], [\"blue\", \"orange\", \"red\", \"red\"], [\"orange\", \"orange\", \"red\", \"blue\"]]\t\n",
    "h = 1\n",
    "w = 1"
   ]
  },
  {
   "cell_type": "code",
   "execution_count": 2,
   "id": "9c781829",
   "metadata": {},
   "outputs": [
    {
     "data": {
      "text/plain": [
       "'red'"
      ]
     },
     "execution_count": 2,
     "metadata": {},
     "output_type": "execute_result"
    }
   ],
   "source": [
    "board[h][w]"
   ]
  },
  {
   "cell_type": "code",
   "execution_count": 15,
   "id": "22be4542",
   "metadata": {},
   "outputs": [
    {
     "name": "stdout",
     "output_type": "stream",
     "text": [
      "2\n"
     ]
    }
   ],
   "source": [
    "tiles = [[h-1, w], [h+1, w], [h, w+1], [h, w-1]]\n",
    "height = len(board)\n",
    "width = len(board[0])\n",
    "answer = 0\n",
    "for i in tiles:\n",
    "    if 0 <= i[0] <= height and 0 <= i[1] <= width:\n",
    "        if board[h][w] == board[i[0]][i[1]]:\n",
    "            answer += 1\n",
    "            \n",
    "print(answer)"
   ]
  },
  {
   "cell_type": "code",
   "execution_count": 16,
   "id": "6ab51c63",
   "metadata": {},
   "outputs": [
    {
     "data": {
      "text/plain": [
       "2"
      ]
     },
     "execution_count": 16,
     "metadata": {},
     "output_type": "execute_result"
    }
   ],
   "source": [
    "5//2"
   ]
  },
  {
   "cell_type": "code",
   "execution_count": 18,
   "id": "f3c5dfa7",
   "metadata": {},
   "outputs": [
    {
     "name": "stdout",
     "output_type": "stream",
     "text": [
      "5\n",
      "4\n",
      "3\n",
      "2\n"
     ]
    }
   ],
   "source": [
    "for i in range(5, 1, -1):\n",
    "    print(i)"
   ]
  },
  {
   "cell_type": "code",
   "execution_count": null,
   "id": "a4ce12b9",
   "metadata": {},
   "outputs": [],
   "source": []
  },
  {
   "cell_type": "code",
   "execution_count": 19,
   "id": "cc744b9a",
   "metadata": {},
   "outputs": [],
   "source": [
    "number = [-2, 3, 0, 2, -5]"
   ]
  },
  {
   "cell_type": "code",
   "execution_count": 27,
   "id": "afa4c130",
   "metadata": {},
   "outputs": [
    {
     "name": "stdout",
     "output_type": "stream",
     "text": [
      "2\n"
     ]
    }
   ],
   "source": [
    "answer = 0\n",
    "for i in range(len(number)-2):\n",
    "    for j in range(i+1, len(number)-1):\n",
    "        for k in range(j+1, len(number)):\n",
    "            trio = number[i] + number[j] + number[k]\n",
    "            if trio == 0:\n",
    "                answer += 1\n",
    "                \n",
    "print(answer)"
   ]
  },
  {
   "cell_type": "code",
   "execution_count": 55,
   "id": "08f2eb0b",
   "metadata": {},
   "outputs": [],
   "source": [
    "n = 8\n",
    "m = 4\n",
    "section = [2, 3, 6]\n",
    "answer = 0"
   ]
  },
  {
   "cell_type": "code",
   "execution_count": 56,
   "id": "4cee8740",
   "metadata": {},
   "outputs": [
    {
     "name": "stdout",
     "output_type": "stream",
     "text": [
      "answer =  2\n"
     ]
    }
   ],
   "source": [
    "wall = section\n",
    "while len(wall) != 0:\n",
    "    clean = [i for i in wall if i < wall[0] + m]\n",
    "    for i in clean:\n",
    "        wall.remove(i)\n",
    "            \n",
    "    answer += 1\n",
    "            \n",
    "print(\"answer = \",answer)\n",
    "            \n"
   ]
  },
  {
   "cell_type": "code",
   "execution_count": 9,
   "id": "cab5fbb9",
   "metadata": {},
   "outputs": [
    {
     "name": "stdout",
     "output_type": "stream",
     "text": [
      "[2, 3, 6]\n"
     ]
    }
   ],
   "source": [
    "wall = section\n",
    "print(wall)"
   ]
  },
  {
   "cell_type": "code",
   "execution_count": 10,
   "id": "294bc550",
   "metadata": {},
   "outputs": [],
   "source": [
    "wall.remove(2)"
   ]
  },
  {
   "cell_type": "code",
   "execution_count": 11,
   "id": "958839ae",
   "metadata": {},
   "outputs": [
    {
     "name": "stdout",
     "output_type": "stream",
     "text": [
      "[3, 6]\n"
     ]
    }
   ],
   "source": [
    "print(wall)"
   ]
  },
  {
   "cell_type": "code",
   "execution_count": 42,
   "id": "0e16aeea",
   "metadata": {},
   "outputs": [],
   "source": [
    "list1 = [1,2,3,4,5]\n",
    "list2 = [3,4,5]"
   ]
  },
  {
   "cell_type": "code",
   "execution_count": 43,
   "id": "be244901",
   "metadata": {},
   "outputs": [],
   "source": [
    "for i in list2:\n",
    "    list1.remove(i)"
   ]
  },
  {
   "cell_type": "code",
   "execution_count": 44,
   "id": "dcaed6c2",
   "metadata": {},
   "outputs": [
    {
     "data": {
      "text/plain": [
       "[1, 2]"
      ]
     },
     "execution_count": 44,
     "metadata": {},
     "output_type": "execute_result"
    }
   ],
   "source": [
    "list1"
   ]
  },
  {
   "cell_type": "code",
   "execution_count": 51,
   "id": "7eca4309",
   "metadata": {},
   "outputs": [],
   "source": [
    "list3 = [i for i in range(1,3)]"
   ]
  },
  {
   "cell_type": "code",
   "execution_count": 52,
   "id": "07aede6d",
   "metadata": {},
   "outputs": [
    {
     "data": {
      "text/plain": [
       "[1, 2]"
      ]
     },
     "execution_count": 52,
     "metadata": {},
     "output_type": "execute_result"
    }
   ],
   "source": [
    "list3"
   ]
  },
  {
   "cell_type": "code",
   "execution_count": null,
   "id": "17a0ac1e",
   "metadata": {},
   "outputs": [],
   "source": []
  },
  {
   "cell_type": "code",
   "execution_count": 131,
   "id": "e5c8bcc5",
   "metadata": {},
   "outputs": [],
   "source": [
    "targets = [[4,5],[4,8],[10,14],[11,13],[5,12],[3,7],[1,4]]\n",
    "targets_range = []"
   ]
  },
  {
   "cell_type": "code",
   "execution_count": 132,
   "id": "c6ce2356",
   "metadata": {},
   "outputs": [
    {
     "data": {
      "text/plain": [
       "[[4],\n",
       " [4, 5, 6, 7],\n",
       " [10, 11, 12, 13],\n",
       " [11, 12],\n",
       " [5, 6, 7, 8, 9, 10, 11],\n",
       " [3, 4, 5, 6],\n",
       " [1, 2, 3]]"
      ]
     },
     "execution_count": 132,
     "metadata": {},
     "output_type": "execute_result"
    }
   ],
   "source": [
    "for i in targets:\n",
    "    targets_range.append([])\n",
    "    for j in range(i[0], i[1]):\n",
    "        targets_range[targets.index(i)].append(j)\n",
    "\n",
    "targets_range"
   ]
  },
  {
   "cell_type": "code",
   "execution_count": 143,
   "id": "eafa87a6",
   "metadata": {},
   "outputs": [
    {
     "name": "stdout",
     "output_type": "stream",
     "text": [
      "[1, 2, 3]\n"
     ]
    }
   ],
   "source": [
    "targets_dispersed = []\n",
    "for i in targets_range:\n",
    "    for j in i:\n",
    "        targets_dispersed.append(j)\n",
    "        \n",
    "print(targets_dispersed)"
   ]
  },
  {
   "cell_type": "code",
   "execution_count": 144,
   "id": "b9f8acac",
   "metadata": {},
   "outputs": [
    {
     "name": "stdout",
     "output_type": "stream",
     "text": [
      "1 3\n"
     ]
    }
   ],
   "source": [
    "a = min(targets_dispersed)\n",
    "b = max(targets_dispersed)\n",
    "\n",
    "print(a, b)"
   ]
  },
  {
   "cell_type": "code",
   "execution_count": 145,
   "id": "9447a9a6",
   "metadata": {},
   "outputs": [
    {
     "name": "stdout",
     "output_type": "stream",
     "text": [
      "[1, 1, 1]\n"
     ]
    }
   ],
   "source": [
    "targets_counted = [targets_dispersed.count(i) for i in range(a, b+1)]\n",
    "\n",
    "print(targets_counted)"
   ]
  },
  {
   "cell_type": "code",
   "execution_count": 146,
   "id": "80498897",
   "metadata": {},
   "outputs": [
    {
     "name": "stdout",
     "output_type": "stream",
     "text": [
      "1\n"
     ]
    }
   ],
   "source": [
    "c = targets_counted.index(max(targets_counted))+a\n",
    "print(c)"
   ]
  },
  {
   "cell_type": "code",
   "execution_count": 147,
   "id": "4d2a8675",
   "metadata": {},
   "outputs": [
    {
     "name": "stdout",
     "output_type": "stream",
     "text": [
      "[]\n"
     ]
    }
   ],
   "source": [
    "targets_range = [i for i in targets_range if c not in i]\n",
    "print(targets_range)"
   ]
  },
  {
   "cell_type": "code",
   "execution_count": 1,
   "id": "ba1f267b",
   "metadata": {},
   "outputs": [
    {
     "name": "stdout",
     "output_type": "stream",
     "text": [
      "5\n"
     ]
    }
   ],
   "source": [
    "targets = [[4,5],[4,8],[10,14],[11,13],[5,12],[3,7],[1,4]]\n",
    "targets_range = []\n",
    "answer = 0\n",
    "\n",
    "for i in targets:\n",
    "    targets_range.append([])\n",
    "    for j in range(i[0], i[1]):\n",
    "        targets_range[targets.index(i)].append(j)\n",
    "\n",
    "targets_dispersed = []\n",
    "\n",
    "while len(targets_range) != 0:\n",
    "    for i in targets_range:\n",
    "        for j in i:\n",
    "            targets_dispersed.append(j)\n",
    "            \n",
    "    a = min(targets_dispersed)\n",
    "    b = max(targets_dispersed)\n",
    "    \n",
    "    targets_counted = [targets_dispersed.count(i) for i in range(a, b+1)]\n",
    "    c = targets_counted.index(max(targets_counted))+a\n",
    "    \n",
    "    targets_range = [i for i in targets_range if c not in i]\n",
    "    \n",
    "    answer += 1\n",
    "\n",
    "print(answer)"
   ]
  },
  {
   "cell_type": "code",
   "execution_count": 24,
   "id": "a1715253",
   "metadata": {},
   "outputs": [],
   "source": [
    "targets = [[4,5],[4,8],[10,14],[11,13],[5,12],[3,7],[1,4]]"
   ]
  },
  {
   "cell_type": "code",
   "execution_count": 25,
   "id": "8acaeed4",
   "metadata": {},
   "outputs": [],
   "source": [
    "def solution(targets):\n",
    "    targets_range = []\n",
    "    answer = 0\n",
    "    \n",
    "    for i in targets:\n",
    "        targets_range.append([])\n",
    "        \n",
    "    for j in range(i[0], i[1]):\n",
    "        targets_range[targets.index(i)].append(j)\n",
    "\n",
    "    while len(targets_range) != 0:\n",
    "        targets_dispersed = []\n",
    "        \n",
    "        for i in targets_range:\n",
    "            for j in i:\n",
    "                targets_dispersed.append(j)\n",
    "\n",
    "        a = min(targets_dispersed)\n",
    "        b = max(targets_dispersed)\n",
    "\n",
    "        targets_counted = [targets_dispersed.count(i) for i in range(a, b+1)]\n",
    "        c = targets_counted.index(max(targets_counted))+a\n",
    "\n",
    "        targets_range = [i for i in targets_range if c not in i]\n",
    "\n",
    "        answer += 1\n",
    "        \n",
    "    return answer"
   ]
  },
  {
   "cell_type": "code",
   "execution_count": 26,
   "id": "17ee83a5",
   "metadata": {},
   "outputs": [
    {
     "ename": "ValueError",
     "evalue": "min() arg is an empty sequence",
     "output_type": "error",
     "traceback": [
      "\u001b[1;31m---------------------------------------------------------------------------\u001b[0m",
      "\u001b[1;31mValueError\u001b[0m                                Traceback (most recent call last)",
      "Cell \u001b[1;32mIn[26], line 1\u001b[0m\n\u001b[1;32m----> 1\u001b[0m solution(targets)\n",
      "Cell \u001b[1;32mIn[25], line 18\u001b[0m, in \u001b[0;36msolution\u001b[1;34m(targets)\u001b[0m\n\u001b[0;32m     15\u001b[0m     \u001b[38;5;28;01mfor\u001b[39;00m j \u001b[38;5;129;01min\u001b[39;00m i:\n\u001b[0;32m     16\u001b[0m         targets_dispersed\u001b[38;5;241m.\u001b[39mappend(j)\n\u001b[1;32m---> 18\u001b[0m a \u001b[38;5;241m=\u001b[39m \u001b[38;5;28mmin\u001b[39m(targets_dispersed)\n\u001b[0;32m     19\u001b[0m b \u001b[38;5;241m=\u001b[39m \u001b[38;5;28mmax\u001b[39m(targets_dispersed)\n\u001b[0;32m     21\u001b[0m targets_counted \u001b[38;5;241m=\u001b[39m [targets_dispersed\u001b[38;5;241m.\u001b[39mcount(i) \u001b[38;5;28;01mfor\u001b[39;00m i \u001b[38;5;129;01min\u001b[39;00m \u001b[38;5;28mrange\u001b[39m(a, b\u001b[38;5;241m+\u001b[39m\u001b[38;5;241m1\u001b[39m)]\n",
      "\u001b[1;31mValueError\u001b[0m: min() arg is an empty sequence"
     ]
    }
   ],
   "source": [
    "solution(targets)"
   ]
  },
  {
   "cell_type": "code",
   "execution_count": 66,
   "id": "5cb48475",
   "metadata": {},
   "outputs": [],
   "source": [
    "sequence = [1, 2, 3, 4, 5]\n",
    "k = 7"
   ]
  },
  {
   "cell_type": "code",
   "execution_count": 67,
   "id": "fc6cb0fc",
   "metadata": {},
   "outputs": [],
   "source": [
    "answer_list = []\n",
    "answer_length_list = []\n",
    "\n",
    "answer_list = [[j, j+i] for i in range(0, len(sequence)) for j in range(0, len(sequence)-i) if k == sum(sequence[j:j+i+1])]\n",
    "            \n",
    "answer_length_list = [i[1] - i[0] for i in answer_list]\n",
    "    \n",
    "a = answer_list[answer_length_list.index(min(answer_length_list))]\n",
    "    "
   ]
  },
  {
   "cell_type": "code",
   "execution_count": 68,
   "id": "ead645a4",
   "metadata": {},
   "outputs": [
    {
     "data": {
      "text/plain": [
       "[[2, 3]]"
      ]
     },
     "execution_count": 68,
     "metadata": {},
     "output_type": "execute_result"
    }
   ],
   "source": [
    "answer_list"
   ]
  },
  {
   "cell_type": "code",
   "execution_count": 69,
   "id": "41000291",
   "metadata": {},
   "outputs": [
    {
     "data": {
      "text/plain": [
       "[2, 3]"
      ]
     },
     "execution_count": 69,
     "metadata": {},
     "output_type": "execute_result"
    }
   ],
   "source": [
    "a"
   ]
  },
  {
   "cell_type": "code",
   "execution_count": 59,
   "id": "572dcc36",
   "metadata": {},
   "outputs": [],
   "source": [
    "answer_list = [[j, j+i] for i in range(0, len(sequence)) for j in range(0, len(sequence)-i) if k == sum(sequence[j:j+i+1])]"
   ]
  },
  {
   "cell_type": "code",
   "execution_count": 60,
   "id": "cc641d0d",
   "metadata": {},
   "outputs": [
    {
     "data": {
      "text/plain": [
       "[[2, 3]]"
      ]
     },
     "execution_count": 60,
     "metadata": {},
     "output_type": "execute_result"
    }
   ],
   "source": [
    "answer_list"
   ]
  },
  {
   "cell_type": "code",
   "execution_count": 64,
   "id": "fbf86e9c",
   "metadata": {},
   "outputs": [],
   "source": [
    "answer_length_list = [i[1] - i[0] for i in answer_list]"
   ]
  },
  {
   "cell_type": "code",
   "execution_count": null,
   "id": "d0278571",
   "metadata": {},
   "outputs": [],
   "source": []
  },
  {
   "cell_type": "code",
   "execution_count": 1,
   "id": "37509cfb",
   "metadata": {},
   "outputs": [],
   "source": [
    "numbers = [2, 3, 3, 5]"
   ]
  },
  {
   "cell_type": "code",
   "execution_count": 2,
   "id": "20ddb288",
   "metadata": {},
   "outputs": [],
   "source": [
    "num_part = [ numbers[i+1:] for i in range(len(numbers))]"
   ]
  },
  {
   "cell_type": "code",
   "execution_count": 3,
   "id": "d87ea410",
   "metadata": {},
   "outputs": [
    {
     "data": {
      "text/plain": [
       "[[3, 3, 5], [3, 5], [5], []]"
      ]
     },
     "execution_count": 3,
     "metadata": {},
     "output_type": "execute_result"
    }
   ],
   "source": [
    "num_part"
   ]
  },
  {
   "cell_type": "code",
   "execution_count": 23,
   "id": "8788ab9d",
   "metadata": {},
   "outputs": [
    {
     "data": {
      "text/plain": [
       "[3, 5, 5, -1]"
      ]
     },
     "execution_count": 23,
     "metadata": {},
     "output_type": "execute_result"
    }
   ],
   "source": [
    "answer = []\n",
    "\n",
    "for i in range(len(numbers)):\n",
    "    try:\n",
    "        answer_part = []\n",
    "        \n",
    "        for j in num_part[i]:\n",
    "\n",
    "            if numbers[i] < j:\n",
    "                answer_part.append(j)\n",
    "                \n",
    "        answer.append(answer_part[0])\n",
    "                \n",
    "    except:\n",
    "        answer.append(-1)\n",
    "\n",
    "\n",
    "answer\n",
    "        "
   ]
  },
  {
   "cell_type": "code",
   "execution_count": 24,
   "id": "2bf0cbcb",
   "metadata": {},
   "outputs": [],
   "source": [
    "numbers = [2, 3, 3, 5]\n",
    "answer = []\n",
    "\n",
    "def solution(numbers):\n",
    "    answer = []\n",
    "    num_part = [ numbers[i+1:] for i in range(len(numbers))]\n",
    "    for i in range(len(numbers)):\n",
    "        try:\n",
    "            answer_part = []\n",
    "\n",
    "            for j in num_part[i]:\n",
    "\n",
    "                if numbers[i] < j:\n",
    "                    answer_part.append(j)\n",
    "\n",
    "            answer.append(answer_part[0])\n",
    "\n",
    "        except:\n",
    "            answer.append(-1)\n",
    "        \n",
    "    return answer"
   ]
  },
  {
   "cell_type": "code",
   "execution_count": 25,
   "id": "621737da",
   "metadata": {},
   "outputs": [
    {
     "data": {
      "text/plain": [
       "[3, 5, 5, -1]"
      ]
     },
     "execution_count": 25,
     "metadata": {},
     "output_type": "execute_result"
    }
   ],
   "source": [
    "solution(numbers)"
   ]
  },
  {
   "cell_type": "code",
   "execution_count": null,
   "id": "1840b85e",
   "metadata": {},
   "outputs": [],
   "source": []
  },
  {
   "cell_type": "code",
   "execution_count": 27,
   "id": "2dc71604",
   "metadata": {},
   "outputs": [
    {
     "data": {
      "text/plain": [
       "[-1, -1, -1, -1]"
      ]
     },
     "execution_count": 27,
     "metadata": {},
     "output_type": "execute_result"
    }
   ],
   "source": [
    "[-1] * len(numbers)"
   ]
  },
  {
   "cell_type": "code",
   "execution_count": null,
   "id": "52496dd9",
   "metadata": {},
   "outputs": [],
   "source": []
  },
  {
   "cell_type": "code",
   "execution_count": 1,
   "id": "80c2b40f",
   "metadata": {},
   "outputs": [],
   "source": [
    "friends = [\"muzi\", \"ryan\", \"frodo\", \"neo\"]\n",
    "gifts = [\"muzi frodo\", \"muzi frodo\", \"ryan muzi\", \"ryan muzi\", \"ryan muzi\", \"frodo muzi\", \"frodo ryan\", \"neo muzi\"]"
   ]
  },
  {
   "cell_type": "code",
   "execution_count": 4,
   "id": "7d13b1fa",
   "metadata": {},
   "outputs": [
    {
     "data": {
      "text/plain": [
       "[['muzi', 'frodo'],\n",
       " ['muzi', 'frodo'],\n",
       " ['ryan', 'muzi'],\n",
       " ['ryan', 'muzi'],\n",
       " ['ryan', 'muzi'],\n",
       " ['frodo', 'muzi'],\n",
       " ['frodo', 'ryan'],\n",
       " ['neo', 'muzi']]"
      ]
     },
     "execution_count": 4,
     "metadata": {},
     "output_type": "execute_result"
    }
   ],
   "source": [
    "gifts_split = [i.split() for i in gifts]\n",
    "gifts_split"
   ]
  },
  {
   "cell_type": "code",
   "execution_count": 15,
   "id": "da30f9a1",
   "metadata": {},
   "outputs": [
    {
     "data": {
      "text/plain": [
       "[0, 0, 0, 0]"
      ]
     },
     "execution_count": 15,
     "metadata": {},
     "output_type": "execute_result"
    }
   ],
   "source": [
    "muzi_gifts = [0 for _ in friends]\n",
    "muzi_gifts"
   ]
  },
  {
   "cell_type": "code",
   "execution_count": null,
   "id": "baffbb60",
   "metadata": {},
   "outputs": [],
   "source": []
  },
  {
   "cell_type": "code",
   "execution_count": 8,
   "id": "11eb97f1",
   "metadata": {},
   "outputs": [],
   "source": [
    "board = [\n",
    "[\"blue\", \"red\", \"orange\", \"red\"], \n",
    "[\"red\", \"red\", \"blue\", \"orange\"], \n",
    "[\"blue\", \"orange\", \"red\", \"red\"], \n",
    "[\"orange\", \"orange\", \"red\", \"blue\"]]"
   ]
  },
  {
   "cell_type": "code",
   "execution_count": 10,
   "id": "33054259",
   "metadata": {},
   "outputs": [],
   "source": [
    "def solution(board, h, w):\n",
    "    answer = 0\n",
    "    tiles = [[h-1, w], [h+1, w], [h, w+1], [h, w-1]]\n",
    "    \n",
    "    for i in tiles:\n",
    "        try:\n",
    "            if board[h][w] == board[i[0]][i[1]]:\n",
    "                answer += 1\n",
    "                \n",
    "        except:\n",
    "            pass\n",
    "            \n",
    "    return answer"
   ]
  },
  {
   "cell_type": "code",
   "execution_count": 14,
   "id": "549bcf13",
   "metadata": {},
   "outputs": [
    {
     "data": {
      "text/plain": [
       "1"
      ]
     },
     "execution_count": 14,
     "metadata": {},
     "output_type": "execute_result"
    }
   ],
   "source": [
    "solution(board, 3, 0)"
   ]
  },
  {
   "cell_type": "code",
   "execution_count": null,
   "id": "9709efea",
   "metadata": {},
   "outputs": [],
   "source": []
  },
  {
   "cell_type": "code",
   "execution_count": null,
   "id": "974f921f",
   "metadata": {},
   "outputs": [],
   "source": []
  },
  {
   "cell_type": "code",
   "execution_count": null,
   "id": "23d4f2e8",
   "metadata": {},
   "outputs": [],
   "source": []
  },
  {
   "cell_type": "code",
   "execution_count": null,
   "id": "554905d9",
   "metadata": {},
   "outputs": [],
   "source": []
  },
  {
   "cell_type": "code",
   "execution_count": 53,
   "id": "c3e4ad37",
   "metadata": {},
   "outputs": [],
   "source": [
    "s = \"aukks\"\n",
    "skip = \"wbqd\"\n",
    "index = 5"
   ]
  },
  {
   "cell_type": "code",
   "execution_count": 54,
   "id": "3abad867",
   "metadata": {},
   "outputs": [
    {
     "name": "stdout",
     "output_type": "stream",
     "text": [
      "[[], [], [], [], []]\n",
      "[119, 98, 113, 100]\n"
     ]
    }
   ],
   "source": [
    "s_group = [[] for _ in range(len(s))]\n",
    "skip_ord = [ord(i) for i in skip]\n",
    "\n",
    "print(s_group)\n",
    "print(skip_ord)"
   ]
  },
  {
   "cell_type": "code",
   "execution_count": 55,
   "id": "d750d367",
   "metadata": {},
   "outputs": [],
   "source": [
    "for i in range(len(s)):\n",
    "    for j in range(index):\n",
    "        s_group[i].append(ord(s[i])+j)"
   ]
  },
  {
   "cell_type": "code",
   "execution_count": 56,
   "id": "f27e500d",
   "metadata": {},
   "outputs": [
    {
     "data": {
      "text/plain": [
       "[[97, 98, 99, 100, 101],\n",
       " [117, 118, 119, 120, 121],\n",
       " [107, 108, 109, 110, 111],\n",
       " [107, 108, 109, 110, 111],\n",
       " [115, 116, 117, 118, 119]]"
      ]
     },
     "execution_count": 56,
     "metadata": {},
     "output_type": "execute_result"
    }
   ],
   "source": [
    "s_group"
   ]
  },
  {
   "cell_type": "code",
   "execution_count": 57,
   "id": "9f7fc9c1",
   "metadata": {},
   "outputs": [],
   "source": [
    "for i in s_group:\n",
    "    for j in i:\n",
    "        if j in skip_ord:\n",
    "            i.append(i[-1]+1)"
   ]
  },
  {
   "cell_type": "code",
   "execution_count": 67,
   "id": "38a4bde3",
   "metadata": {},
   "outputs": [
    {
     "name": "stdout",
     "output_type": "stream",
     "text": [
      "h\n",
      "a\n",
      "p\n",
      "p\n",
      "y\n"
     ]
    }
   ],
   "source": [
    "for i in s_group:\n",
    "    if i[-1] >= 122:\n",
    "        print(chr(i[-1]-25))\n",
    "        \n",
    "    else:\n",
    "        print(chr(i[-1]+1))"
   ]
  },
  {
   "cell_type": "code",
   "execution_count": 63,
   "id": "beb7c47f",
   "metadata": {},
   "outputs": [
    {
     "data": {
      "text/plain": [
       "25"
      ]
     },
     "execution_count": 63,
     "metadata": {},
     "output_type": "execute_result"
    }
   ],
   "source": [
    "ord(\"z\")-ord(\"a\")"
   ]
  },
  {
   "cell_type": "code",
   "execution_count": null,
   "id": "a3e93bdf",
   "metadata": {},
   "outputs": [],
   "source": [
    "s"
   ]
  },
  {
   "cell_type": "code",
   "execution_count": 68,
   "id": "1b14e6fc",
   "metadata": {},
   "outputs": [
    {
     "name": "stdout",
     "output_type": "stream",
     "text": [
      "happy\n"
     ]
    }
   ],
   "source": [
    "answer = ''\n",
    "s_group = [[] for _ in range(len(s))]\n",
    "skip_ord = [ord(i) for i in skip]\n",
    "\n",
    "for i in range(len(s)):\n",
    "    for j in range(index):\n",
    "        s_group[i].append(ord(s[i])+j)\n",
    "        \n",
    "for i in s_group:\n",
    "    for j in i:\n",
    "        if j in skip_ord:\n",
    "            i.append(i[-1]+1)\n",
    "            \n",
    "for i in s_group:\n",
    "    if i[-1] >= 122:\n",
    "        answer += chr(i[-1]-25)\n",
    "        \n",
    "    else:\n",
    "        answer += chr(i[-1]+1)\n",
    "        \n",
    "print(answer)"
   ]
  },
  {
   "cell_type": "code",
   "execution_count": 71,
   "id": "709f0160",
   "metadata": {},
   "outputs": [],
   "source": [
    "def solution(s, skip, index):\n",
    "    answer = ''\n",
    "    s_group = [ [] for _ in range(len(s)) ]\n",
    "    skip_ord = [ ord(i) for i in skip ]\n",
    "\n",
    "    for i in range(len(s)):\n",
    "        for j in range(index):\n",
    "            s_group[i].append(ord(s[i])+j)\n",
    "\n",
    "    for i in s_group:\n",
    "        for j in i:\n",
    "            if j in skip_ord:\n",
    "                i.append(i[-1]+1)\n",
    "\n",
    "    for i in s_group:\n",
    "        if i[-1] >= 122:\n",
    "            answer += chr(i[-1]-25)\n",
    "\n",
    "        else:\n",
    "            answer += chr(i[-1]+1)\n",
    "\n",
    "    return answer"
   ]
  },
  {
   "cell_type": "code",
   "execution_count": 72,
   "id": "dccfd7f4",
   "metadata": {},
   "outputs": [
    {
     "data": {
      "text/plain": [
       "'happy'"
      ]
     },
     "execution_count": 72,
     "metadata": {},
     "output_type": "execute_result"
    }
   ],
   "source": [
    "solution(s, skip, index)"
   ]
  },
  {
   "cell_type": "code",
   "execution_count": 84,
   "id": "7bbecd2d",
   "metadata": {},
   "outputs": [
    {
     "data": {
      "text/plain": [
       "(97, 122)"
      ]
     },
     "execution_count": 84,
     "metadata": {},
     "output_type": "execute_result"
    }
   ],
   "source": [
    "ord(\"a\"), ord(\"z\")"
   ]
  },
  {
   "cell_type": "code",
   "execution_count": 100,
   "id": "be4beaa4",
   "metadata": {},
   "outputs": [
    {
     "name": "stdout",
     "output_type": "stream",
     "text": [
      "[97, 117, 107, 107, 115] [119, 98, 113, 100]\n"
     ]
    }
   ],
   "source": [
    "s = \"aukks\"\n",
    "skip = \"wbqd\"\n",
    "index = 5\n",
    "\n",
    "s_list = [ord(i) for i in s]\n",
    "skip_ord = [ord(i) for i in skip]\n",
    "\n",
    "print(s_list, skip_ord)"
   ]
  },
  {
   "cell_type": "code",
   "execution_count": 101,
   "id": "6fb913de",
   "metadata": {},
   "outputs": [],
   "source": [
    "for i in range(len(s_list)):\n",
    "    for _ in range(index):\n",
    "        a = s_list[i] + 1\n",
    "        while a in skip_ord:\n",
    "            a += 1\n",
    "            \n",
    "        if a >= 123:\n",
    "            a -= 26\n",
    "\n",
    "        s_list[i] = a\n"
   ]
  },
  {
   "cell_type": "code",
   "execution_count": 102,
   "id": "58eb36a7",
   "metadata": {},
   "outputs": [
    {
     "name": "stdout",
     "output_type": "stream",
     "text": [
      "h\n",
      "a\n",
      "p\n",
      "p\n",
      "y\n"
     ]
    }
   ],
   "source": [
    "for i in s_list:\n",
    "    print(chr(i))"
   ]
  },
  {
   "cell_type": "code",
   "execution_count": 115,
   "id": "55a00d1f",
   "metadata": {},
   "outputs": [],
   "source": [
    "def solution(s, skip, index):\n",
    "    s_list = [ord(i) for i in s]\n",
    "    skip_ord = [ord(i) for i in skip]\n",
    "    answer = ''\n",
    "    \n",
    "    for i in range(len(s_list)):\n",
    "        for _ in range(index):\n",
    "            a = s_list[i] + 1\n",
    "            \n",
    "            while a in skip_ord or a >= 123:\n",
    "                \n",
    "                if a in skip_ord:\n",
    "                    a += 1\n",
    "                \n",
    "                if a >= 123:\n",
    "                    a -= 26\n",
    "\n",
    "            s_list[i] = a\n",
    "            \n",
    "    for i in s_list:\n",
    "        answer += chr(i)\n",
    "            \n",
    "    return answer"
   ]
  },
  {
   "cell_type": "code",
   "execution_count": 116,
   "id": "d33b2492",
   "metadata": {},
   "outputs": [
    {
     "data": {
      "text/plain": [
       "'happy'"
      ]
     },
     "execution_count": 116,
     "metadata": {},
     "output_type": "execute_result"
    }
   ],
   "source": [
    "s = \"aukks\"\n",
    "skip = \"wbqd\"\n",
    "index = 5\n",
    "\n",
    "solution(s, skip, index)"
   ]
  },
  {
   "cell_type": "code",
   "execution_count": 126,
   "id": "09117885",
   "metadata": {},
   "outputs": [],
   "source": [
    "import re"
   ]
  },
  {
   "cell_type": "code",
   "execution_count": 159,
   "id": "064f0aa4",
   "metadata": {},
   "outputs": [],
   "source": [
    "wallpaper = [\".#...\", \"..#..\", \"...#.\"]"
   ]
  },
  {
   "cell_type": "code",
   "execution_count": 164,
   "id": "4b1fa03c",
   "metadata": {},
   "outputs": [
    {
     "data": {
      "text/plain": [
       "[['.', '.', '.', '.', '.', '.', '.', '.', '.', '.'],\n",
       " ['.', '.', '.', '.', '.', '#', '.', '.', '.', '.'],\n",
       " ['.', '.', '.', '.', '.', '.', '#', '#', '.', '.'],\n",
       " ['.', '.', '.', '#', '#', '.', '.', '.', '.', '.'],\n",
       " ['.', '.', '.', '.', '#', '.', '.', '.', '.', '.']]"
      ]
     },
     "execution_count": 164,
     "metadata": {},
     "output_type": "execute_result"
    }
   ],
   "source": [
    "wallpaper_split = [[j for j in i] for i in wallpaper]\n",
    "wallpaper_split"
   ]
  },
  {
   "cell_type": "code",
   "execution_count": 165,
   "id": "accd64e3",
   "metadata": {},
   "outputs": [
    {
     "data": {
      "text/plain": [
       "[[1, 5], [2, 6], [2, 6], [3, 3], [3, 3], [4, 4]]"
      ]
     },
     "execution_count": 165,
     "metadata": {},
     "output_type": "execute_result"
    }
   ],
   "source": [
    "files = [[wallpaper_split.index(i), i.index(j)] for i in wallpaper_split for j in i if j == \"#\"]\n",
    "files"
   ]
  },
  {
   "cell_type": "code",
   "execution_count": 162,
   "id": "a974af3a",
   "metadata": {},
   "outputs": [
    {
     "data": {
      "text/plain": [
       "[0, 1, 3, 4]"
      ]
     },
     "execution_count": 162,
     "metadata": {},
     "output_type": "execute_result"
    }
   ],
   "source": [
    "[ min([i[0] for i in files]), min(i[1] for i in files),  max(i[0] for i in files)+1, max(i[1] for i in files)+1,]"
   ]
  },
  {
   "cell_type": "code",
   "execution_count": 163,
   "id": "e4f48870",
   "metadata": {},
   "outputs": [],
   "source": [
    "wallpaper = [\"..........\", \".....#....\", \"......##..\", \"...##.....\", \"....#.....\"]"
   ]
  },
  {
   "cell_type": "code",
   "execution_count": 174,
   "id": "1d9bda64",
   "metadata": {},
   "outputs": [
    {
     "data": {
      "text/plain": [
       "[1, 3, 5, 8]"
      ]
     },
     "execution_count": 174,
     "metadata": {},
     "output_type": "execute_result"
    }
   ],
   "source": [
    "wallpaper_split = [[j for j in i] for i in wallpaper]\n",
    "files = [[j, i] \n",
    "         for i in range(len(wallpaper)) \n",
    "         for j in range(len(wallpaper[i])) \n",
    "         if wallpaper[i][j] == \"#\"]\n",
    "answer = [min(i[1] for i in files), min([i[0] for i in files]), max(i[1] for i in files)+1, max(i[0] for i in files)+1]\n",
    "\n",
    "answer"
   ]
  },
  {
   "cell_type": "code",
   "execution_count": 168,
   "id": "d07f3ce3",
   "metadata": {},
   "outputs": [
    {
     "name": "stdout",
     "output_type": "stream",
     "text": [
      "6\n",
      "7\n"
     ]
    }
   ],
   "source": [
    "for i in range(len(wallpaper[2])):\n",
    "    if wallpaper[2][i] == \"#\":\n",
    "        print(i)"
   ]
  },
  {
   "cell_type": "code",
   "execution_count": 170,
   "id": "e5ac400e",
   "metadata": {},
   "outputs": [
    {
     "data": {
      "text/plain": [
       "[['.', '.', '.', '.', '.', '.', '.', '.', '.', '.'],\n",
       " ['.', '.', '.', '.', '.', '#', '.', '.', '.', '.'],\n",
       " ['.', '.', '.', '.', '.', '.', '#', '#', '.', '.'],\n",
       " ['.', '.', '.', '#', '#', '.', '.', '.', '.', '.'],\n",
       " ['.', '.', '.', '.', '#', '.', '.', '.', '.', '.']]"
      ]
     },
     "execution_count": 170,
     "metadata": {},
     "output_type": "execute_result"
    }
   ],
   "source": [
    "wallpaper_split = [[j for j in i] for i in wallpaper]\n",
    "wallpaper_split"
   ]
  },
  {
   "cell_type": "code",
   "execution_count": 172,
   "id": "21820be0",
   "metadata": {},
   "outputs": [
    {
     "data": {
      "text/plain": [
       "[[1, 5], [2, 6], [2, 7], [3, 3], [3, 4], [4, 4]]"
      ]
     },
     "execution_count": 172,
     "metadata": {},
     "output_type": "execute_result"
    }
   ],
   "source": [
    "files = [[i, j] \n",
    "         for i in range(len(wallpaper_split)) \n",
    "         for j in range(len(wallpaper[i])) \n",
    "         if wallpaper[i][j] == \"#\"]\n",
    "\n",
    "files"
   ]
  },
  {
   "cell_type": "code",
   "execution_count": null,
   "id": "bcb580f6",
   "metadata": {},
   "outputs": [],
   "source": []
  },
  {
   "cell_type": "code",
   "execution_count": 199,
   "id": "b9685064",
   "metadata": {},
   "outputs": [],
   "source": [
    "answer = \"\"\n",
    "survey = [\"AN\", \"CF\", \"MJ\", \"RT\", \"NA\"]\n",
    "choices = [5, 3, 2, 7, 5]\n",
    "result = {\"R\" : 0, \"T\" : 0, \"F\" : 0, \"C\" : 0, \"M\" : 0, \"J\" : 0, \"A\" : 0, \"N\" : 0}"
   ]
  },
  {
   "cell_type": "code",
   "execution_count": 200,
   "id": "557d533e",
   "metadata": {},
   "outputs": [],
   "source": [
    "for i in range(len(survey)):\n",
    "    if choices[i] < 4:\n",
    "        result[survey[i][0]] += 4 - choices[i]\n",
    "        \n",
    "    elif choices[i] > 4:\n",
    "        result[survey[i][1]] += choices[i] - 4\n"
   ]
  },
  {
   "cell_type": "code",
   "execution_count": 201,
   "id": "9f7169ad",
   "metadata": {},
   "outputs": [
    {
     "data": {
      "text/plain": [
       "{'R': 0, 'T': 3, 'F': 0, 'C': 1, 'M': 2, 'J': 0, 'A': 1, 'N': 1}"
      ]
     },
     "execution_count": 201,
     "metadata": {},
     "output_type": "execute_result"
    }
   ],
   "source": [
    "result"
   ]
  },
  {
   "cell_type": "code",
   "execution_count": 202,
   "id": "d63f3361",
   "metadata": {},
   "outputs": [],
   "source": [
    "if result[\"T\"] > result[\"R\"]:\n",
    "    answer += \"T\"\n",
    "\n",
    "elif result[\"T\"] <= result[\"R\"]:\n",
    "    answer += \"R\"\n",
    "\n",
    "    \n",
    "if result[\"F\"] > result[\"C\"]:\n",
    "    answer += \"F\"\n",
    "\n",
    "elif result[\"F\"] <= result[\"C\"]:\n",
    "    answer += \"C\"\n",
    "\n",
    "    \n",
    "if result[\"M\"] > result[\"J\"]:\n",
    "    answer += \"M\"\n",
    "\n",
    "elif result[\"M\"] <= result[\"J\"]:\n",
    "    answer += \"J\"\n",
    " \n",
    "\n",
    "if result[\"A\"] >= result[\"N\"]:\n",
    "    answer += \"A\"\n",
    "\n",
    "elif result[\"A\"] < result[\"N\"]:\n",
    "    answer += \"N\"\n",
    "    "
   ]
  },
  {
   "cell_type": "code",
   "execution_count": 191,
   "id": "e1abb09b",
   "metadata": {},
   "outputs": [
    {
     "data": {
      "text/plain": [
       "82"
      ]
     },
     "execution_count": 191,
     "metadata": {},
     "output_type": "execute_result"
    }
   ],
   "source": [
    "ord(\"R\")"
   ]
  },
  {
   "cell_type": "code",
   "execution_count": 203,
   "id": "ab01baa9",
   "metadata": {},
   "outputs": [
    {
     "data": {
      "text/plain": [
       "'TCMA'"
      ]
     },
     "execution_count": 203,
     "metadata": {},
     "output_type": "execute_result"
    }
   ],
   "source": [
    "answer"
   ]
  },
  {
   "cell_type": "code",
   "execution_count": null,
   "id": "a3237758",
   "metadata": {},
   "outputs": [],
   "source": []
  },
  {
   "cell_type": "code",
   "execution_count": 205,
   "id": "d1457bb6",
   "metadata": {},
   "outputs": [],
   "source": [
    "def solution(survey, choices):\n",
    "    \n",
    "    answer = \"\"\n",
    "    result = {\"R\" : 0, \"T\" : 0, \"F\" : 0, \"C\" : 0, \"M\" : 0, \"J\" : 0, \"A\" : 0, \"N\" : 0}\n",
    "    \n",
    "    for i in range(len(survey)):\n",
    "        if choices[i] < 4:\n",
    "            result[survey[i][0]] += 4 - choices[i]\n",
    "\n",
    "        elif choices[i] > 4:\n",
    "            result[survey[i][1]] += choices[i] - 4\n",
    "\n",
    "    if result[\"T\"] > result[\"R\"]:\n",
    "        answer += \"T\"\n",
    "\n",
    "    elif result[\"T\"] <= result[\"R\"]:\n",
    "        answer += \"R\"\n",
    "\n",
    "\n",
    "    if result[\"F\"] > result[\"C\"]:\n",
    "        answer += \"F\"\n",
    "\n",
    "    elif result[\"F\"] <= result[\"C\"]:\n",
    "        answer += \"C\"\n",
    "\n",
    "\n",
    "    if result[\"M\"] > result[\"J\"]:\n",
    "        answer += \"M\"\n",
    "\n",
    "    elif result[\"M\"] <= result[\"J\"]:\n",
    "        answer += \"J\"\n",
    "\n",
    "\n",
    "    if result[\"A\"] >= result[\"N\"]:\n",
    "        answer += \"A\"\n",
    "\n",
    "    elif result[\"A\"] < result[\"N\"]:\n",
    "        answer += \"N\"\n",
    "        \n",
    "    return answer\n"
   ]
  },
  {
   "cell_type": "code",
   "execution_count": 206,
   "id": "f20ce327",
   "metadata": {},
   "outputs": [
    {
     "data": {
      "text/plain": [
       "'TCMA'"
      ]
     },
     "execution_count": 206,
     "metadata": {},
     "output_type": "execute_result"
    }
   ],
   "source": [
    "solution(survey, choices)"
   ]
  },
  {
   "cell_type": "code",
   "execution_count": 241,
   "id": "a313d3bf",
   "metadata": {},
   "outputs": [],
   "source": [
    "numbers = [1, 3, 4, 5, 8, 2, 1, 4, 5, 9, 5]\n",
    "hand = \"right\"\n",
    "answer=\"\""
   ]
  },
  {
   "cell_type": "code",
   "execution_count": 242,
   "id": "a889d544",
   "metadata": {},
   "outputs": [],
   "source": [
    "numbers = [1, 3, 4, 5, 8, 2, 1, 4, 5, 9, 5]\n",
    "hand = \"right\"\n",
    "answer=\"\"\n",
    "thumbs = {\"left\" : \"*\", \"right\" : \"#\" }\n",
    "left_numbers = [1, 4, 7]\n",
    "right_numbers = [3, 6, 9]\n",
    "location= {\"1\": [0,0], \n",
    "           \"2\": [0,1],\n",
    "           \"3\": [0,2],\n",
    "           \"4\": [1,0],\n",
    "           \"5\": [1,1],\n",
    "           \"6\": [1,2],\n",
    "           \"7\": [2,0],\n",
    "           \"8\": [2,1],\n",
    "           \"9\": [2,2],\n",
    "           \"*\": [3,0],\n",
    "           \"0\": [3,1],\n",
    "           \"#\": [3,2]}"
   ]
  },
  {
   "cell_type": "code",
   "execution_count": 243,
   "id": "da8fe29e",
   "metadata": {},
   "outputs": [],
   "source": [
    "def distance(a, b):\n",
    "    return abs(location[str(a)][0] - location[str(b)][0]) + abs(location[str(a)][1] - location[str(b)][1])"
   ]
  },
  {
   "cell_type": "code",
   "execution_count": 244,
   "id": "8a1f7197",
   "metadata": {},
   "outputs": [
    {
     "data": {
      "text/plain": [
       "'LRLLLRLLRRL'"
      ]
     },
     "execution_count": 244,
     "metadata": {},
     "output_type": "execute_result"
    }
   ],
   "source": [
    "for i in numbers:\n",
    "    if i in left_numbers:\n",
    "        answer += \"L\"\n",
    "        thumbs[\"left\"] = i\n",
    "        \n",
    "    elif i in right_numbers:\n",
    "        answer += \"R\"\n",
    "        thumbs[\"right\"] = i\n",
    "        \n",
    "    else:\n",
    "        if distance(thumbs[\"left\"], i) < distance(thumbs[\"right\"], i):\n",
    "            answer += \"L\"\n",
    "            thumbs[\"left\"] = i\n",
    "            \n",
    "        elif distance(thumbs[\"left\"], i) > distance(thumbs[\"right\"], i):\n",
    "            answer += \"R\"\n",
    "            thumbs[\"right\"] = i\n",
    "            \n",
    "        else:\n",
    "            if hand == \"right\":\n",
    "                answer += \"R\"\n",
    "                thumbs[\"right\"] = i                    \n",
    "                \n",
    "            else:\n",
    "                answer += \"L\"\n",
    "                thumbs[\"left\"] = i\n",
    "\n",
    "answer"
   ]
  },
  {
   "cell_type": "code",
   "execution_count": null,
   "id": "fa5e236a",
   "metadata": {},
   "outputs": [],
   "source": [
    "LRLLLRLLRRL"
   ]
  },
  {
   "cell_type": "code",
   "execution_count": 235,
   "id": "453d6b3a",
   "metadata": {},
   "outputs": [
    {
     "data": {
      "text/plain": [
       "{'left': 5, 'right': 5}"
      ]
     },
     "execution_count": 235,
     "metadata": {},
     "output_type": "execute_result"
    }
   ],
   "source": [
    "thumbs"
   ]
  },
  {
   "cell_type": "code",
   "execution_count": 247,
   "id": "23187b55",
   "metadata": {},
   "outputs": [],
   "source": [
    "numbers = [1, 3, 4, 5, 8, 2, 1, 4, 5, 9, 5]\n",
    "hand = \"right\"\n",
    "answer=\"\"\n",
    "thumbs = {\"left\" : \"*\", \"right\" : \"#\" }\n",
    "left_numbers = [1, 4, 7]\n",
    "right_numbers = [3, 6, 9]\n",
    "location= {\"1\": [0,0], \n",
    "           \"2\": [0,1],\n",
    "           \"3\": [0,2],\n",
    "           \"4\": [1,0],\n",
    "           \"5\": [1,1],\n",
    "           \"6\": [1,2],\n",
    "           \"7\": [2,0],\n",
    "           \"8\": [2,1],\n",
    "           \"9\": [2,2],\n",
    "           \"*\": [3,0],\n",
    "           \"0\": [3,1],\n",
    "           \"#\": [3,2]}"
   ]
  },
  {
   "cell_type": "code",
   "execution_count": 249,
   "id": "70cf5165",
   "metadata": {},
   "outputs": [],
   "source": [
    "def distance(a, b):\n",
    "    return abs(location[str(a)][0] - location[str(b)][0]) + abs(location[str(a)][1] - location[str(b)][1])\n",
    "\n",
    "def solution(numbers, hand):\n",
    "    \n",
    "    answer = \"\"\n",
    "    \n",
    "    for i in numbers:\n",
    "        if i in left_numbers:\n",
    "            answer += \"L\"\n",
    "            thumbs[\"left\"] = i\n",
    "\n",
    "        elif i in right_numbers:\n",
    "            answer += \"R\"\n",
    "            thumbs[\"right\"] = i\n",
    "\n",
    "        else:\n",
    "            if distance(thumbs[\"left\"], i) < distance(thumbs[\"right\"], i):\n",
    "                answer += \"L\"\n",
    "                thumbs[\"left\"] = i\n",
    "\n",
    "            elif distance(thumbs[\"left\"], i) > distance(thumbs[\"right\"], i):\n",
    "                answer += \"R\"\n",
    "                thumbs[\"right\"] = i\n",
    "\n",
    "            else:\n",
    "                if hand == \"right\":\n",
    "                    answer += \"R\"\n",
    "                    thumbs[\"right\"] = i                    \n",
    "\n",
    "                else:\n",
    "                    answer += \"L\"\n",
    "                    thumbs[\"left\"] = i\n",
    "\n",
    "    return answer"
   ]
  },
  {
   "cell_type": "code",
   "execution_count": 250,
   "id": "98f412f1",
   "metadata": {},
   "outputs": [
    {
     "data": {
      "text/plain": [
       "'LRLLLRLLRRL'"
      ]
     },
     "execution_count": 250,
     "metadata": {},
     "output_type": "execute_result"
    }
   ],
   "source": [
    "solution(numbers, hand)"
   ]
  },
  {
   "cell_type": "code",
   "execution_count": 287,
   "id": "ca03476e",
   "metadata": {},
   "outputs": [],
   "source": [
    "import re"
   ]
  },
  {
   "cell_type": "code",
   "execution_count": 276,
   "id": "65661c57",
   "metadata": {},
   "outputs": [],
   "source": [
    "ingredient = [2, 1, 1, 2, 3, 1, 2, 3, 1]\n",
    "answer = 0"
   ]
  },
  {
   "cell_type": "code",
   "execution_count": 277,
   "id": "a9636fc0",
   "metadata": {},
   "outputs": [
    {
     "data": {
      "text/plain": [
       "2"
      ]
     },
     "execution_count": 277,
     "metadata": {},
     "output_type": "execute_result"
    }
   ],
   "source": [
    "answer\n",
    "ingredient_str = \"\"\n",
    "\n",
    "for i in ingredient:\n",
    "    ingredient_str += str(i)\n",
    "    \n",
    "while \"1231\" in ingredient_str:\n",
    "    ingredient_str = ingredient_str.replace(\"1231\", \"\")\n",
    "    answer += 1\n",
    "    \n",
    "answer"
   ]
  },
  {
   "cell_type": "code",
   "execution_count": 289,
   "id": "cc49acd5",
   "metadata": {},
   "outputs": [],
   "source": [
    "def solution(ingredient):\n",
    "    \n",
    "    answer = 0\n",
    "    ingredient_str = \"\"\n",
    "\n",
    "    for i in ingredient:\n",
    "        ingredient_str += str(i)\n",
    "\n",
    "    while \"1231\" in ingredient_str:\n",
    "        answer += len(re.findall(\"1231\", ingredient_str))\n",
    "        ingredient_str = ingredient_str.replace(\"1231\", \"\")\n",
    "\n",
    "    return answer"
   ]
  },
  {
   "cell_type": "code",
   "execution_count": 291,
   "id": "3d0886c7",
   "metadata": {},
   "outputs": [],
   "source": [
    "def solution(ingredient):\n",
    "    \n",
    "    answer = 0\n",
    "    ingredient_str = \"\"\n",
    "\n",
    "    for i in ingredient:\n",
    "        ingredient_str += str(i)\n",
    "\n",
    "    while \"1231\" in ingredient_str:\n",
    "        ingredient_str = ingredient_str.replace(\"1231\", \"\", 1)\n",
    "        answer += 1\n",
    "        \n",
    "    return answer"
   ]
  },
  {
   "cell_type": "code",
   "execution_count": 292,
   "id": "1e6bcb7b",
   "metadata": {},
   "outputs": [
    {
     "data": {
      "text/plain": [
       "2"
      ]
     },
     "execution_count": 292,
     "metadata": {},
     "output_type": "execute_result"
    }
   ],
   "source": [
    "solution(ingredient)"
   ]
  },
  {
   "cell_type": "code",
   "execution_count": 295,
   "id": "6a756402",
   "metadata": {},
   "outputs": [],
   "source": [
    "a =\"121231123131\""
   ]
  },
  {
   "cell_type": "code",
   "execution_count": 296,
   "id": "c4447ed9",
   "metadata": {},
   "outputs": [
    {
     "data": {
      "text/plain": [
       "'1231'"
      ]
     },
     "execution_count": 296,
     "metadata": {},
     "output_type": "execute_result"
    }
   ],
   "source": [
    "a.replace(\"1231\", \"\")"
   ]
  },
  {
   "cell_type": "code",
   "execution_count": null,
   "id": "85732ef9",
   "metadata": {},
   "outputs": [],
   "source": []
  },
  {
   "cell_type": "code",
   "execution_count": 299,
   "id": "1a2fade7",
   "metadata": {},
   "outputs": [
    {
     "data": {
      "text/plain": [
       "2"
      ]
     },
     "execution_count": 299,
     "metadata": {},
     "output_type": "execute_result"
    }
   ],
   "source": [
    "len(re.findall(\"1231\", a))"
   ]
  },
  {
   "cell_type": "code",
   "execution_count": null,
   "id": "6ab95f63",
   "metadata": {},
   "outputs": [],
   "source": []
  },
  {
   "cell_type": "code",
   "execution_count": null,
   "id": "07884085",
   "metadata": {},
   "outputs": [],
   "source": []
  }
 ],
 "metadata": {
  "kernelspec": {
   "display_name": "Python 3 (ipykernel)",
   "language": "python",
   "name": "python3"
  },
  "language_info": {
   "codemirror_mode": {
    "name": "ipython",
    "version": 3
   },
   "file_extension": ".py",
   "mimetype": "text/x-python",
   "name": "python",
   "nbconvert_exporter": "python",
   "pygments_lexer": "ipython3",
   "version": "3.11.5"
  }
 },
 "nbformat": 4,
 "nbformat_minor": 5
}
