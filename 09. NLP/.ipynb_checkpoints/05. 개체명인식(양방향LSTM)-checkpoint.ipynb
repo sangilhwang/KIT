{
 "cells": [
  {
   "cell_type": "markdown",
   "id": "00d2b746",
   "metadata": {},
   "source": [
    "# 양방향 LSTM\n",
    "\n",
    "- RNN이나 LSTM은 시퀀스 또는 시계열 데이터 처리에 특화되어 은닉층에서 과거의 정보를 기억할 수 있음\n",
    "- 그러나 순환 구조의 특성상 데이터가 입력 순으로 처리되기 때문에 이전 시점의 정보만 활용할 수 밖에 없다는 단점이 존재\n",
    "    - 문장이 길어질수록 성능이 저하\n",
    "    - 예) ios앱 (개발)은 맥북이 필요합니다.\n",
    "    - 위의 경우에 ios와 앱 이라는 단어만으로는 개발 이라는 단어를 유추하기 힘듦\n",
    "        - 문장의 앞부분보다 뒷부분에 중요한 정보가 있음\n",
    "        \n",
    "- 양방향 LSTM(Bidirectional LSTM)\n",
    "    - 기존 LSTM 계층에 역방향으로 처리하는 LSTM 계층을 추가해 양방향에서 문장의 패턴을 분서석할 수 있도록 구성\n",
    "    - 입력 문장을 양방향에서 처리하기 때문에 시퀀스 길이가 길어져도 정보 손실 없이 처리가 가능\n",
    "    \n",
    "<img src = \"./image/Bidirectional_LSTM.jpg\">"
   ]
  },
  {
   "cell_type": "markdown",
   "id": "12553812",
   "metadata": {},
   "source": [
    "# 개체명 인식(Named Entity Recognition)\n",
    "\n",
    "- 각 개체의 유형을 인식\n",
    "- 문장 내에 포함된 어떤 단어가 인물, 장소, 날짜 등을 의미하는 단어인지 인식하는 것\n",
    "- 개체명 인식은 챗봇에서 문장을 정확하게 해석하기 위해 반드시 처리해야 하는 전처리 과정임\n",
    "    - 예) 날짜와 지역에 대해 개체 인식을 할 수 있는 모델이 있다고 가정할 경우\n",
    "    - 입력 문장 : 내일 부산 날씨 알려줘\n",
    "    - 문장 의도 : 날씨 요청\n",
    "    - 개체명 인식 결과 : 내일 = 날짜, 부산 = 지역\n",
    "    \n",
    "- 단순한 질문 형태라면 개체명 사전을 구축해 해당 단어들과 매핑되는 개체명을 찾을 수도 있음\n",
    "    - 문장 구조가 복잡하거나 문맥에 따라 단어의 의미가 바뀐다면 딥러닝 모델을 활용해야 함\n",
    "    \n",
    "- 개체명 사전 구축 방식은 신조어나 사전에 포함되지 않은 단어는 처리 불가능하며 사람이 직접 사전 데이터를 관리해야 하기 때문에 관리비용이 많이 필요함"
   ]
  },
  {
   "cell_type": "markdown",
   "id": "2a01c603",
   "metadata": {},
   "source": [
    "## BIO 표기법\n",
    "\n",
    "- Beginning, Inside, Outside 의 약자\n",
    "- 각 토큰마다 태그를 붙이기 위해 사용\n",
    "- Beginning : 개체명이 시작되는 단어에 \"B-개체명\"으로 태그\n",
    "- Inside : \"B-개체명\"과 연결되는 단어일 때 \"I-개체명\"으로 태그\n",
    "- Outside : 개체명 이외의 모든 토큰에 태그\n",
    "    - 예) 오늘부터 길동 포터는 삼성전자에 근무합니다.\n",
    "    - 오늘 -> B-date\n",
    "    - 부터 -> O\n",
    "    - 길동 -> B-Person\n",
    "    - 포터 -> I-Person\n",
    "    - 는 -> O\n",
    "    - 삼성 -> B-Company\n",
    "    - 전자 -> I-Company\n",
    "    - 에 -> O\n",
    "    - 근무 -> O\n",
    "    - 합니다. -> O\n",
    "    \n",
    "- 2 개 이상의 토큰이 하나의 개체를 구성하는 경우가 많기 때문에 BIO 표기법을 사용"
   ]
  },
  {
   "cell_type": "markdown",
   "id": "1caad328",
   "metadata": {},
   "source": [
    "## 국립국어원 언어정보나눔터 개체명 인식 모델을 위한 말뭉치\n",
    "\n",
    "- ; 으로 시작하는 문장 : 원본 문장\n",
    "- $ 로 시작하는 문장 : 해당 문장에서 NER 처리된 결과\n",
    "- 개체명 인식 모델은 단어 토큰을 입력했을 때 출력되는 NER 태그값을 예측\n",
    "    - 예) \"삼성전자\"를 입력한다면 B_OG(단체) 태그가 출력되도록 학습"
   ]
  },
  {
   "cell_type": "code",
   "execution_count": 1,
   "id": "babc9975",
   "metadata": {},
   "outputs": [],
   "source": [
    "import matplotlib.pyplot as plt\n",
    "import tensorflow as tf\n",
    "from tensorflow.keras import preprocessing\n",
    "from sklearn.model_selection import train_test_split\n",
    "import numpy as np\n",
    "from tensorflow.keras.models import Sequential\n",
    "from tensorflow.keras.layers import (LSTM, Embedding, Dense, TimeDistributed, Dropout, Bidirectional)\n",
    "from tensorflow.keras.optimizers import Adam\n",
    "from seqeval.metrics import f1_score, classification_report"
   ]
  },
  {
   "cell_type": "code",
   "execution_count": 4,
   "id": "fc940360",
   "metadata": {},
   "outputs": [],
   "source": [
    "# 학습 파일 불러오기\n",
    "def read_file(file_name):\n",
    "    sent = []\n",
    "    with open(file_name, \"r\", encoding = \"utf-8\") as f:\n",
    "        lines = f.readlines()\n",
    "        for idx, l in enumerate(lines):\n",
    "            if l[0] == \";\" and lines[idx + 1][0] == \"$\":\n",
    "                this_sent = []\n",
    "                \n",
    "            elif l[0] == \"$\" and lines[idx - 1][0] == \";\":\n",
    "                continue\n",
    "                \n",
    "            elif l[0] == \"\\n\":\n",
    "                sent.append(this_sent)\n",
    "                \n",
    "            else:\n",
    "                this_sent.append(tuple(l.split()))\n",
    "                \n",
    "    return sent"
   ]
  },
  {
   "cell_type": "code",
   "execution_count": 5,
   "id": "e917a323",
   "metadata": {},
   "outputs": [],
   "source": [
    "# 학습용 말뭉치 데이터를 불러옴\n",
    "corpus = read_file(\"./data/ner/train.txt\")"
   ]
  },
  {
   "cell_type": "code",
   "execution_count": 6,
   "id": "80e8698d",
   "metadata": {},
   "outputs": [
    {
     "data": {
      "text/plain": [
       "[('1', '한편', 'NNG', 'O'),\n",
       " ('1', ',', 'SP', 'O'),\n",
       " ('2', 'AFC', 'SL', 'O'),\n",
       " ('2', '챔피언스', 'NNG', 'O'),\n",
       " ('2', '리그', 'NNG', 'O'),\n",
       " ('3', 'E', 'SL', 'B_OG'),\n",
       " ('3', '조', 'NNG', 'I'),\n",
       " ('3', '에', 'JKB', 'O'),\n",
       " ('4', '속하', 'VV', 'O'),\n",
       " ('4', 'ㄴ', 'ETM', 'O'),\n",
       " ('5', '포항', 'NNP', 'O'),\n",
       " ('6', '역시', 'MAJ', 'O'),\n",
       " ('7', '대회', 'NNG', 'O'),\n",
       " ('8', '8강', 'NNG', 'O'),\n",
       " ('9', '진출', 'NNG', 'O'),\n",
       " ('9', '이', 'JKS', 'O'),\n",
       " ('10', '불투명', 'NNG', 'O'),\n",
       " ('10', '하', 'VV', 'O'),\n",
       " ('10', '다', 'EC', 'O'),\n",
       " ('11', '.', 'SF', 'O')]"
      ]
     },
     "execution_count": 6,
     "metadata": {},
     "output_type": "execute_result"
    }
   ],
   "source": [
    "corpus[0]"
   ]
  },
  {
   "cell_type": "code",
   "execution_count": 7,
   "id": "fb2e366d",
   "metadata": {},
   "outputs": [
    {
     "data": {
      "text/plain": [
       "3555"
      ]
     },
     "execution_count": 7,
     "metadata": {},
     "output_type": "execute_result"
    }
   ],
   "source": [
    "len(corpus)"
   ]
  },
  {
   "cell_type": "code",
   "execution_count": 9,
   "id": "5374a5f3",
   "metadata": {},
   "outputs": [],
   "source": [
    "# 말뭉치 데이터에서 단어와 BIO 태그만 불러와 학습용 데이터셋 생성\n",
    "sentences, tags = [], []\n",
    "for t in corpus:\n",
    "    tagged_sentences = []\n",
    "    sentence, bio_tag = [], []\n",
    "    for w in t:\n",
    "        sentence.append(w[1])\n",
    "        bio_tag.append(w[3])\n",
    "        \n",
    "    sentences.append(sentence)\n",
    "    tags.append(bio_tag)"
   ]
  },
  {
   "cell_type": "markdown",
   "id": "dc6fe25c",
   "metadata": {},
   "source": [
    "- 단어와 BIO 태그만 이용해 학습용 데이터셋을 생성"
   ]
  },
  {
   "cell_type": "code",
   "execution_count": 10,
   "id": "13480288",
   "metadata": {},
   "outputs": [
    {
     "name": "stdout",
     "output_type": "stream",
     "text": [
      "샘플 크기 :  3555\n",
      "0번째 샘플 문장 시퀀스 : \n",
      " ['한편', ',', 'AFC', '챔피언스', '리그', 'E', '조', '에', '속하', 'ㄴ', '포항', '역시', '대회', '8강', '진출', '이', '불투명', '하', '다', '.']\n",
      "0번째 샘플 bio 태그 \n",
      " ['O', 'O', 'O', 'O', 'O', 'B_OG', 'I', 'O', 'O', 'O', 'O', 'O', 'O', 'O', 'O', 'O', 'O', 'O', 'O', 'O']\n",
      "샘플 문장 시퀀스 최대 길이 : 168\n",
      "샘플 문장 시퀀스 평균 길이 : 34.03909985935302\n"
     ]
    }
   ],
   "source": [
    "print(\"샘플 크기 : \", len((sentences)))\n",
    "print(\"0번째 샘플 문장 시퀀스 : \\n\", sentences[0])\n",
    "print(\"0번째 샘플 bio 태그 \\n\", tags[0])\n",
    "print(\"샘플 문장 시퀀스 최대 길이 :\", max(len(l) for l in sentences))\n",
    "print(\"샘플 문장 시퀀스 평균 길이 :\", (sum(map(len, sentences)) / len(sentences)))"
   ]
  },
  {
   "cell_type": "code",
   "execution_count": 11,
   "id": "c3e7d4c5",
   "metadata": {},
   "outputs": [],
   "source": [
    "# 토크나이저 정의\n",
    "\n",
    "# 단어 사전의 첫 번째 인덱스에는 OOV사용\n",
    "sent_tokenizer = preprocessing.text.Tokenizer(oov_token = \"OOV\")\n",
    "sent_tokenizer.fit_on_texts(sentences)\n",
    "\n",
    "tag_tokenizer = preprocessing.text.Tokenizer(lower = False) # 태그 정보는 소문자로 변환하지 않음\n",
    "tag_tokenizer.fit_on_texts(tags)"
   ]
  },
  {
   "cell_type": "code",
   "execution_count": 12,
   "id": "98807b1f",
   "metadata": {},
   "outputs": [
    {
     "name": "stdout",
     "output_type": "stream",
     "text": [
      "BIO 태그 사전 크기 : 8\n",
      "단어 사전 크기 : 13834\n"
     ]
    }
   ],
   "source": [
    "# 단어 사전 및 태그 사전 크기\n",
    "vocab_size = len(sent_tokenizer.word_index) + 1\n",
    "tag_size = len(tag_tokenizer.word_index) + 1\n",
    "print(\"BIO 태그 사전 크기 :\", tag_size)\n",
    "print(\"단어 사전 크기 :\", vocab_size)"
   ]
  },
  {
   "cell_type": "code",
   "execution_count": 13,
   "id": "67d21afd",
   "metadata": {},
   "outputs": [
    {
     "data": {
      "text/plain": [
       "{'O': 1, 'I': 2, 'B_OG': 3, 'B_PS': 4, 'B_DT': 5, 'B_LC': 6, 'B_TI': 7}"
      ]
     },
     "execution_count": 13,
     "metadata": {},
     "output_type": "execute_result"
    }
   ],
   "source": [
    "tag_tokenizer.word_index"
   ]
  },
  {
   "cell_type": "code",
   "execution_count": 14,
   "id": "b39dea45",
   "metadata": {},
   "outputs": [],
   "source": [
    "# 학습용 단어 시퀀스 생성\n",
    "x_train = sent_tokenizer.texts_to_sequences(sentences)\n",
    "y_train = tag_tokenizer.texts_to_sequences(tags)"
   ]
  },
  {
   "cell_type": "code",
   "execution_count": 15,
   "id": "96a069b8",
   "metadata": {},
   "outputs": [
    {
     "name": "stdout",
     "output_type": "stream",
     "text": [
      "[183, 11, 4276, 884, 162, 931, 402, 10, 2608, 7, 1516, 608, 145, 1361, 414, 4, 6347, 2, 8, 3]\n",
      "[1, 1, 1, 1, 1, 3, 2, 1, 1, 1, 1, 1, 1, 1, 1, 1, 1, 1, 1, 1]\n"
     ]
    }
   ],
   "source": [
    "print(x_train[0])\n",
    "print(y_train[0])"
   ]
  },
  {
   "cell_type": "code",
   "execution_count": 16,
   "id": "2e6b4ae6",
   "metadata": {},
   "outputs": [],
   "source": [
    "# index to word / index to NER 정의\n",
    "index_to_word = sent_tokenizer.index_word # 시퀀스 인덱스를 단어로 변환하기 위해 사용\n",
    "index_to_ner = tag_tokenizer.index_word # 시퀀스 인덱스를 NER로 변환하기 위해 사용\n",
    "index_to_ner[0] = \"PAD\""
   ]
  },
  {
   "cell_type": "code",
   "execution_count": 17,
   "id": "b5a9c49f",
   "metadata": {},
   "outputs": [
    {
     "data": {
      "text/plain": [
       "{1: 'O',\n",
       " 2: 'I',\n",
       " 3: 'B_OG',\n",
       " 4: 'B_PS',\n",
       " 5: 'B_DT',\n",
       " 6: 'B_LC',\n",
       " 7: 'B_TI',\n",
       " 0: 'PAD'}"
      ]
     },
     "execution_count": 17,
     "metadata": {},
     "output_type": "execute_result"
    }
   ],
   "source": [
    "index_to_ner"
   ]
  },
  {
   "cell_type": "code",
   "execution_count": 19,
   "id": "52ecd3cf",
   "metadata": {},
   "outputs": [],
   "source": [
    "# 시퀀스 패딩 처리\n",
    "max_len = 40\n",
    "x_train = preprocessing.sequence.pad_sequences(x_train, padding = \"post\", maxlen = max_len)\n",
    "y_train = preprocessing.sequence.pad_sequences(y_train, padding = \"post\", maxlen = max_len)"
   ]
  },
  {
   "cell_type": "code",
   "execution_count": 20,
   "id": "6f485e6f",
   "metadata": {},
   "outputs": [],
   "source": [
    "# 학습데이터와 테스트데이터를 8:2 비율로 분리\n",
    "x_train, x_test, y_train, y_test = train_test_split(x_train, y_train, test_size = 0.2, random_state = 12)"
   ]
  },
  {
   "cell_type": "code",
   "execution_count": 21,
   "id": "34742d34",
   "metadata": {},
   "outputs": [],
   "source": [
    "# 출력 데이터를 원-핫 인코딩\n",
    "y_train = tf.keras.utils.to_categorical(y_train, num_classes = tag_size)\n",
    "y_test = tf.keras.utils.to_categorical(y_test, num_classes = tag_size)"
   ]
  },
  {
   "cell_type": "code",
   "execution_count": 24,
   "id": "ebf0889c",
   "metadata": {},
   "outputs": [
    {
     "name": "stdout",
     "output_type": "stream",
     "text": [
      "학습 샘플 시퀀스 형상 :  (2844, 40)\n",
      "학습 샘플 레이블 형상 :  (2844, 40, 8)\n",
      "테스트 샘플 시퀀스 형상 :  (711, 40)\n",
      "테스트 샘플 레이블 형상 :  (711, 40, 8)\n"
     ]
    }
   ],
   "source": [
    "print(\"학습 샘플 시퀀스 형상 : \", x_train.shape)\n",
    "print(\"학습 샘플 레이블 형상 : \", y_train.shape)\n",
    "print(\"테스트 샘플 시퀀스 형상 : \", x_test.shape)\n",
    "print(\"테스트 샘플 레이블 형상 : \", y_test.shape)"
   ]
  },
  {
   "cell_type": "code",
   "execution_count": 23,
   "id": "c8339855",
   "metadata": {},
   "outputs": [
    {
     "data": {
      "text/plain": [
       "array([ 479,    6,   33,  327, 2615,    9, 2207,    4,   18,   62, 6379,\n",
       "          5, 6380,    2,    6,  183, 4295,   10,   57,    7, 6381,  186,\n",
       "        611,   10,   34, 1368,  500,   29,   38,    4,    8,    3,    0,\n",
       "          0,    0,    0,    0,    0,    0,    0])"
      ]
     },
     "execution_count": 23,
     "metadata": {},
     "output_type": "execute_result"
    }
   ],
   "source": [
    "x_train[0]"
   ]
  },
  {
   "cell_type": "code",
   "execution_count": 26,
   "id": "12692eed",
   "metadata": {},
   "outputs": [],
   "source": [
    "# 모델 정의(Bi-LSTM)\n",
    "model = Sequential()\n",
    "model.add(Embedding(input_dim = vocab_size, output_dim = 30, input_shape = (max_len,), mask_zero = True))\n",
    "model.add(Bidirectional(LSTM(200, return_sequences = True, dropout = 0.5, recurrent_dropout = 0.25)))\n",
    "model.add(TimeDistributed(Dense(tag_size, activation = \"softmax\")))"
   ]
  },
  {
   "cell_type": "markdown",
   "id": "061e89a8",
   "metadata": {},
   "source": [
    "- mask_zero = True : 0 으로 패딩된 값을 마스킹하여 네트워크의 뒤로 전달되지 않게 만듦\n",
    "- TimeDistributed : many-to-many 로 동작. 각 타임스텝마다 출력이 있어야 함\n",
    "\n",
    "<img src = \"./image/time_distributed.jpg\">"
   ]
  },
  {
   "cell_type": "code",
   "execution_count": 27,
   "id": "a77cc56d",
   "metadata": {},
   "outputs": [
    {
     "data": {
      "text/html": [
       "<pre style=\"white-space:pre;overflow-x:auto;line-height:normal;font-family:Menlo,'DejaVu Sans Mono',consolas,'Courier New',monospace\"><span style=\"font-weight: bold\">Model: \"sequential_1\"</span>\n",
       "</pre>\n"
      ],
      "text/plain": [
       "\u001b[1mModel: \"sequential_1\"\u001b[0m\n"
      ]
     },
     "metadata": {},
     "output_type": "display_data"
    },
    {
     "data": {
      "text/html": [
       "<pre style=\"white-space:pre;overflow-x:auto;line-height:normal;font-family:Menlo,'DejaVu Sans Mono',consolas,'Courier New',monospace\">┏━━━━━━━━━━━━━━━━━━━━━━━━━━━━━━━━━━━━━━┳━━━━━━━━━━━━━━━━━━━━━━━━━━━━━┳━━━━━━━━━━━━━━━━━┓\n",
       "┃<span style=\"font-weight: bold\"> Layer (type)                         </span>┃<span style=\"font-weight: bold\"> Output Shape                </span>┃<span style=\"font-weight: bold\">         Param # </span>┃\n",
       "┡━━━━━━━━━━━━━━━━━━━━━━━━━━━━━━━━━━━━━━╇━━━━━━━━━━━━━━━━━━━━━━━━━━━━━╇━━━━━━━━━━━━━━━━━┩\n",
       "│ embedding_1 (<span style=\"color: #0087ff; text-decoration-color: #0087ff\">Embedding</span>)              │ (<span style=\"color: #00d7ff; text-decoration-color: #00d7ff\">None</span>, <span style=\"color: #00af00; text-decoration-color: #00af00\">40</span>, <span style=\"color: #00af00; text-decoration-color: #00af00\">30</span>)              │         <span style=\"color: #00af00; text-decoration-color: #00af00\">415,020</span> │\n",
       "├──────────────────────────────────────┼─────────────────────────────┼─────────────────┤\n",
       "│ bidirectional_1 (<span style=\"color: #0087ff; text-decoration-color: #0087ff\">Bidirectional</span>)      │ (<span style=\"color: #00d7ff; text-decoration-color: #00d7ff\">None</span>, <span style=\"color: #00af00; text-decoration-color: #00af00\">40</span>, <span style=\"color: #00af00; text-decoration-color: #00af00\">400</span>)             │         <span style=\"color: #00af00; text-decoration-color: #00af00\">369,600</span> │\n",
       "├──────────────────────────────────────┼─────────────────────────────┼─────────────────┤\n",
       "│ time_distributed (<span style=\"color: #0087ff; text-decoration-color: #0087ff\">TimeDistributed</span>)   │ (<span style=\"color: #00d7ff; text-decoration-color: #00d7ff\">None</span>, <span style=\"color: #00af00; text-decoration-color: #00af00\">40</span>, <span style=\"color: #00af00; text-decoration-color: #00af00\">8</span>)               │           <span style=\"color: #00af00; text-decoration-color: #00af00\">3,208</span> │\n",
       "└──────────────────────────────────────┴─────────────────────────────┴─────────────────┘\n",
       "</pre>\n"
      ],
      "text/plain": [
       "┏━━━━━━━━━━━━━━━━━━━━━━━━━━━━━━━━━━━━━━┳━━━━━━━━━━━━━━━━━━━━━━━━━━━━━┳━━━━━━━━━━━━━━━━━┓\n",
       "┃\u001b[1m \u001b[0m\u001b[1mLayer (type)                        \u001b[0m\u001b[1m \u001b[0m┃\u001b[1m \u001b[0m\u001b[1mOutput Shape               \u001b[0m\u001b[1m \u001b[0m┃\u001b[1m \u001b[0m\u001b[1m        Param #\u001b[0m\u001b[1m \u001b[0m┃\n",
       "┡━━━━━━━━━━━━━━━━━━━━━━━━━━━━━━━━━━━━━━╇━━━━━━━━━━━━━━━━━━━━━━━━━━━━━╇━━━━━━━━━━━━━━━━━┩\n",
       "│ embedding_1 (\u001b[38;5;33mEmbedding\u001b[0m)              │ (\u001b[38;5;45mNone\u001b[0m, \u001b[38;5;34m40\u001b[0m, \u001b[38;5;34m30\u001b[0m)              │         \u001b[38;5;34m415,020\u001b[0m │\n",
       "├──────────────────────────────────────┼─────────────────────────────┼─────────────────┤\n",
       "│ bidirectional_1 (\u001b[38;5;33mBidirectional\u001b[0m)      │ (\u001b[38;5;45mNone\u001b[0m, \u001b[38;5;34m40\u001b[0m, \u001b[38;5;34m400\u001b[0m)             │         \u001b[38;5;34m369,600\u001b[0m │\n",
       "├──────────────────────────────────────┼─────────────────────────────┼─────────────────┤\n",
       "│ time_distributed (\u001b[38;5;33mTimeDistributed\u001b[0m)   │ (\u001b[38;5;45mNone\u001b[0m, \u001b[38;5;34m40\u001b[0m, \u001b[38;5;34m8\u001b[0m)               │           \u001b[38;5;34m3,208\u001b[0m │\n",
       "└──────────────────────────────────────┴─────────────────────────────┴─────────────────┘\n"
      ]
     },
     "metadata": {},
     "output_type": "display_data"
    },
    {
     "data": {
      "text/html": [
       "<pre style=\"white-space:pre;overflow-x:auto;line-height:normal;font-family:Menlo,'DejaVu Sans Mono',consolas,'Courier New',monospace\"><span style=\"font-weight: bold\"> Total params: </span><span style=\"color: #00af00; text-decoration-color: #00af00\">787,828</span> (3.01 MB)\n",
       "</pre>\n"
      ],
      "text/plain": [
       "\u001b[1m Total params: \u001b[0m\u001b[38;5;34m787,828\u001b[0m (3.01 MB)\n"
      ]
     },
     "metadata": {},
     "output_type": "display_data"
    },
    {
     "data": {
      "text/html": [
       "<pre style=\"white-space:pre;overflow-x:auto;line-height:normal;font-family:Menlo,'DejaVu Sans Mono',consolas,'Courier New',monospace\"><span style=\"font-weight: bold\"> Trainable params: </span><span style=\"color: #00af00; text-decoration-color: #00af00\">787,828</span> (3.01 MB)\n",
       "</pre>\n"
      ],
      "text/plain": [
       "\u001b[1m Trainable params: \u001b[0m\u001b[38;5;34m787,828\u001b[0m (3.01 MB)\n"
      ]
     },
     "metadata": {},
     "output_type": "display_data"
    },
    {
     "data": {
      "text/html": [
       "<pre style=\"white-space:pre;overflow-x:auto;line-height:normal;font-family:Menlo,'DejaVu Sans Mono',consolas,'Courier New',monospace\"><span style=\"font-weight: bold\"> Non-trainable params: </span><span style=\"color: #00af00; text-decoration-color: #00af00\">0</span> (0.00 B)\n",
       "</pre>\n"
      ],
      "text/plain": [
       "\u001b[1m Non-trainable params: \u001b[0m\u001b[38;5;34m0\u001b[0m (0.00 B)\n"
      ]
     },
     "metadata": {},
     "output_type": "display_data"
    }
   ],
   "source": [
    "model.summary()"
   ]
  },
  {
   "cell_type": "code",
   "execution_count": 28,
   "id": "f3498291",
   "metadata": {},
   "outputs": [],
   "source": [
    "model.compile(loss = \"categorical_crossentropy\", optimizer = Adam(0.01), metrics = [\"accuracy\"])"
   ]
  },
  {
   "cell_type": "code",
   "execution_count": 29,
   "id": "eeef17df",
   "metadata": {},
   "outputs": [
    {
     "name": "stdout",
     "output_type": "stream",
     "text": [
      "Epoch 1/10\n",
      "\u001b[1m23/23\u001b[0m \u001b[32m━━━━━━━━━━━━━━━━━━━━\u001b[0m\u001b[37m\u001b[0m \u001b[1m9s\u001b[0m 180ms/step - accuracy: 0.5806 - loss: 1.0008\n",
      "Epoch 2/10\n",
      "\u001b[1m23/23\u001b[0m \u001b[32m━━━━━━━━━━━━━━━━━━━━\u001b[0m\u001b[37m\u001b[0m \u001b[1m4s\u001b[0m 175ms/step - accuracy: 0.6339 - loss: 0.3561\n",
      "Epoch 3/10\n",
      "\u001b[1m23/23\u001b[0m \u001b[32m━━━━━━━━━━━━━━━━━━━━\u001b[0m\u001b[37m\u001b[0m \u001b[1m4s\u001b[0m 168ms/step - accuracy: 0.6616 - loss: 0.2314\n",
      "Epoch 4/10\n",
      "\u001b[1m23/23\u001b[0m \u001b[32m━━━━━━━━━━━━━━━━━━━━\u001b[0m\u001b[37m\u001b[0m \u001b[1m4s\u001b[0m 171ms/step - accuracy: 0.6684 - loss: 0.1857\n",
      "Epoch 5/10\n",
      "\u001b[1m23/23\u001b[0m \u001b[32m━━━━━━━━━━━━━━━━━━━━\u001b[0m\u001b[37m\u001b[0m \u001b[1m4s\u001b[0m 167ms/step - accuracy: 0.6805 - loss: 0.1503\n",
      "Epoch 6/10\n",
      "\u001b[1m23/23\u001b[0m \u001b[32m━━━━━━━━━━━━━━━━━━━━\u001b[0m\u001b[37m\u001b[0m \u001b[1m4s\u001b[0m 167ms/step - accuracy: 0.6868 - loss: 0.1204\n",
      "Epoch 7/10\n",
      "\u001b[1m23/23\u001b[0m \u001b[32m━━━━━━━━━━━━━━━━━━━━\u001b[0m\u001b[37m\u001b[0m \u001b[1m4s\u001b[0m 166ms/step - accuracy: 0.6859 - loss: 0.0931\n",
      "Epoch 8/10\n",
      "\u001b[1m23/23\u001b[0m \u001b[32m━━━━━━━━━━━━━━━━━━━━\u001b[0m\u001b[37m\u001b[0m \u001b[1m4s\u001b[0m 168ms/step - accuracy: 0.6919 - loss: 0.0744\n",
      "Epoch 9/10\n",
      "\u001b[1m23/23\u001b[0m \u001b[32m━━━━━━━━━━━━━━━━━━━━\u001b[0m\u001b[37m\u001b[0m \u001b[1m4s\u001b[0m 170ms/step - accuracy: 0.7052 - loss: 0.0662\n",
      "Epoch 10/10\n",
      "\u001b[1m23/23\u001b[0m \u001b[32m━━━━━━━━━━━━━━━━━━━━\u001b[0m\u001b[37m\u001b[0m \u001b[1m4s\u001b[0m 172ms/step - accuracy: 0.6966 - loss: 0.0579\n"
     ]
    },
    {
     "data": {
      "text/plain": [
       "<keras.src.callbacks.history.History at 0x1e9cbb8bb90>"
      ]
     },
     "execution_count": 29,
     "metadata": {},
     "output_type": "execute_result"
    }
   ],
   "source": [
    "model.fit(x_train, y_train, batch_size = 128, epochs = 10)"
   ]
  },
  {
   "cell_type": "code",
   "execution_count": 30,
   "id": "81626372",
   "metadata": {},
   "outputs": [
    {
     "name": "stdout",
     "output_type": "stream",
     "text": [
      "\u001b[1m23/23\u001b[0m \u001b[32m━━━━━━━━━━━━━━━━━━━━\u001b[0m\u001b[37m\u001b[0m \u001b[1m1s\u001b[0m 12ms/step - accuracy: 0.6761 - loss: 0.2341\n"
     ]
    },
    {
     "data": {
      "text/plain": [
       "[0.242510125041008, 0.6661040782928467]"
      ]
     },
     "execution_count": 30,
     "metadata": {},
     "output_type": "execute_result"
    }
   ],
   "source": [
    "model.evaluate(x_test, y_test)"
   ]
  },
  {
   "cell_type": "markdown",
   "id": "38d68424",
   "metadata": {},
   "source": [
    "- BIO 태그는 실제 의미 있는 태그보다 의미 없는 O 태그가 대부분을 차지하고 있기 때문에 실제 성능과 무관하게 높은 점수가 나올 수 있음\n",
    "- 따라서 개체명 인식에서는 F1스코어가 주로 이용됨\n",
    "- F1 스코어 : 정밀도와 재현율의 조화 평균"
   ]
  },
  {
   "cell_type": "code",
   "execution_count": 36,
   "id": "9c5e1118",
   "metadata": {},
   "outputs": [],
   "source": [
    "# 시퀀스를 NER 태그로 변환\n",
    "def sequences_to_tag(sequences):\n",
    "    result = []\n",
    "    for sequence in sequences:\n",
    "        temp = []\n",
    "        for pred in sequence:\n",
    "            pred_index = np.argmax(pred)\n",
    "            temp.append(index_to_ner[pred_index].replace(\"PAD\", \"O\"))\n",
    "        result.append(temp)\n",
    "        \n",
    "    return result"
   ]
  },
  {
   "cell_type": "code",
   "execution_count": 38,
   "id": "bc93ae02",
   "metadata": {},
   "outputs": [
    {
     "name": "stdout",
     "output_type": "stream",
     "text": [
      "\u001b[1m23/23\u001b[0m \u001b[32m━━━━━━━━━━━━━━━━━━━━\u001b[0m\u001b[37m\u001b[0m \u001b[1m0s\u001b[0m 11ms/step\n"
     ]
    }
   ],
   "source": [
    "# 테스트 데이터셋의 NER 예측\n",
    "y_predicted = model.predict(x_test) # (711, 40) -> model -> (711, 40, 8)\n",
    "pred_tags = sequences_to_tag(y_predicted)\n",
    "test_tags = sequences_to_tag(y_test)"
   ]
  },
  {
   "cell_type": "code",
   "execution_count": 39,
   "id": "8a6be619",
   "metadata": {},
   "outputs": [
    {
     "data": {
      "text/plain": [
       "array([[1.46292622e-08, 9.99930501e-01, 6.61799131e-05, 3.21385897e-07,\n",
       "        2.76638639e-06, 1.09542668e-07, 5.34889644e-08, 3.17681454e-08],\n",
       "       [1.16670456e-07, 9.99926090e-01, 9.62927516e-06, 5.27830025e-06,\n",
       "        5.61365159e-05, 7.90153763e-07, 1.58850685e-06, 3.10023012e-07],\n",
       "       [3.61616117e-07, 9.99834895e-01, 6.29741362e-06, 1.04563762e-04,\n",
       "        4.27038613e-05, 6.99651582e-06, 3.54768781e-06, 5.70213160e-07],\n",
       "       [2.11416932e-07, 9.99936819e-01, 4.89357953e-05, 5.00438273e-06,\n",
       "        6.97136556e-06, 8.32286958e-07, 7.61004060e-07, 4.32804342e-07],\n",
       "       [3.26579539e-07, 9.99762356e-01, 2.97843053e-05, 3.19751825e-06,\n",
       "        1.97773465e-04, 1.61902858e-06, 3.41090572e-06, 1.41561952e-06],\n",
       "       [1.45291139e-08, 9.99973416e-01, 2.54983788e-05, 2.62122555e-08,\n",
       "        5.17174783e-07, 1.84970645e-07, 2.00887822e-08, 1.88774337e-07],\n",
       "       [7.26437577e-07, 9.99841094e-01, 2.67299038e-05, 7.57465314e-05,\n",
       "        4.31658227e-05, 5.73444368e-06, 5.17175295e-06, 1.65607435e-06],\n",
       "       [4.01876621e-09, 9.99976873e-01, 2.21339233e-05, 1.29995911e-07,\n",
       "        7.68351242e-07, 3.02088061e-08, 7.95316453e-08, 2.55531276e-08],\n",
       "       [7.80656933e-07, 9.99720991e-01, 3.02786411e-05, 3.03857287e-05,\n",
       "        1.97748115e-04, 7.45178522e-06, 8.92871140e-06, 3.39228700e-06],\n",
       "       [2.38899851e-08, 9.99975324e-01, 2.06934183e-05, 1.74176034e-06,\n",
       "        1.59655724e-06, 2.37492273e-07, 2.66264237e-07, 1.13160247e-07],\n",
       "       [7.10694621e-06, 9.95348275e-01, 5.37041196e-05, 7.08175881e-04,\n",
       "        3.45534505e-03, 4.97246838e-05, 3.58753314e-04, 1.89311741e-05],\n",
       "       [1.87845757e-08, 9.99893188e-01, 1.05695894e-04, 2.50071253e-07,\n",
       "        6.07573213e-07, 4.98524813e-08, 1.22806156e-07, 8.91713583e-08],\n",
       "       [5.94929190e-08, 9.99973893e-01, 1.33581698e-05, 2.78989887e-06,\n",
       "        8.68876305e-06, 6.08080256e-07, 3.08854993e-07, 2.52941959e-07],\n",
       "       [3.10187431e-08, 9.99928594e-01, 7.01617173e-05, 7.53439622e-08,\n",
       "        4.33252126e-07, 1.83296976e-07, 4.58399363e-08, 3.66099385e-07],\n",
       "       [2.03716244e-08, 9.99933839e-01, 6.04456800e-05, 1.29212992e-06,\n",
       "        3.60561080e-06, 4.14527960e-07, 2.28951166e-07, 2.97165172e-07],\n",
       "       [5.32830672e-05, 9.91438091e-01, 4.24054160e-04, 1.79945157e-04,\n",
       "        5.50383516e-03, 4.69920458e-04, 6.72040856e-04, 1.25885394e-03],\n",
       "       [3.93948483e-08, 9.99616861e-01, 3.71354341e-04, 3.10642145e-06,\n",
       "        6.30987779e-06, 2.05643985e-07, 1.81765733e-06, 1.98031245e-07],\n",
       "       [1.28103011e-06, 9.99130785e-01, 2.89444197e-05, 6.84099738e-04,\n",
       "        8.19520792e-05, 8.48120544e-06, 6.28556227e-05, 1.53522001e-06],\n",
       "       [2.18719265e-09, 9.99967694e-01, 3.21943262e-05, 4.01900806e-08,\n",
       "        6.41569500e-08, 9.98401006e-09, 1.24431576e-08, 1.23417330e-08],\n",
       "       [2.67675393e-08, 9.99985933e-01, 7.86160490e-06, 1.71320903e-06,\n",
       "        3.56689065e-06, 4.06101321e-07, 2.87950542e-07, 2.01939770e-07],\n",
       "       [1.92615289e-06, 9.99811709e-01, 8.14682717e-05, 6.11664382e-06,\n",
       "        5.43876449e-05, 1.53212513e-05, 1.08501763e-05, 1.81459818e-05],\n",
       "       [4.30681638e-07, 9.99888778e-01, 8.89338917e-05, 7.18544243e-07,\n",
       "        6.27895815e-06, 7.17402463e-06, 7.59350200e-07, 6.96125790e-06],\n",
       "       [2.02809520e-06, 9.99452889e-01, 1.23375823e-04, 1.88300646e-06,\n",
       "        2.23751864e-04, 1.15130919e-04, 4.68875442e-06, 7.62740237e-05],\n",
       "       [5.26574104e-06, 9.94826019e-01, 5.05028618e-03, 7.38143126e-06,\n",
       "        6.17941841e-05, 3.91634740e-06, 8.51978075e-06, 3.66992317e-05],\n",
       "       [4.29738334e-09, 9.99915361e-01, 8.33121376e-05, 9.38395459e-08,\n",
       "        1.11296436e-06, 2.29988704e-08, 6.46348042e-08, 3.51342315e-08],\n",
       "       [8.59649731e-07, 9.99826252e-01, 3.07538903e-05, 1.54465015e-05,\n",
       "        1.16714516e-04, 3.13376563e-06, 4.50134394e-06, 2.41796351e-06],\n",
       "       [4.32578817e-09, 9.99987841e-01, 5.21394531e-06, 1.23649693e-06,\n",
       "        4.99756925e-06, 6.94136872e-08, 4.82558619e-07, 2.07572697e-08],\n",
       "       [2.57244369e-06, 9.99819458e-01, 4.24605205e-05, 1.54764184e-05,\n",
       "        7.65723744e-05, 1.50251135e-05, 1.49580455e-05, 1.35283217e-05],\n",
       "       [1.77534162e-07, 9.99931097e-01, 6.01287211e-05, 2.89949355e-07,\n",
       "        2.71496197e-06, 2.81104053e-06, 3.31112062e-07, 2.39858150e-06],\n",
       "       [1.31093066e-06, 9.99629855e-01, 6.89721128e-05, 1.07383062e-06,\n",
       "        1.92015956e-04, 6.55256226e-05, 2.67379596e-06, 3.85321764e-05],\n",
       "       [1.03514583e-06, 9.97715235e-01, 2.24033883e-03, 2.63343418e-06,\n",
       "        2.91396627e-05, 1.18850983e-06, 2.74279182e-06, 7.68830159e-06],\n",
       "       [1.02842961e-08, 9.99922633e-01, 7.63107528e-05, 1.37861889e-07,\n",
       "        7.63703611e-07, 3.27127978e-08, 7.55222160e-08, 5.37768123e-08],\n",
       "       [2.34525608e-08, 9.99985456e-01, 9.98743053e-06, 6.30908517e-07,\n",
       "        3.41809550e-06, 2.10510777e-07, 1.29599186e-07, 1.01092830e-07],\n",
       "       [5.04307458e-08, 9.99983788e-01, 8.94735876e-06, 8.07250615e-07,\n",
       "        5.55650649e-06, 3.63096234e-07, 1.72862201e-07, 2.18574755e-07],\n",
       "       [8.71108838e-08, 9.99832511e-01, 7.61954107e-06, 2.23636675e-06,\n",
       "        1.53810441e-04, 8.54486132e-07, 2.34267782e-06, 4.47351852e-07],\n",
       "       [1.45117014e-07, 9.99958277e-01, 3.80019737e-05, 4.96438645e-07,\n",
       "        1.66455163e-06, 5.87028239e-07, 2.08728693e-07, 5.65519713e-07],\n",
       "       [2.07888089e-08, 9.99976397e-01, 5.55529459e-06, 1.20235709e-05,\n",
       "        4.19421121e-06, 4.39840818e-07, 1.29583896e-06, 5.49984840e-08],\n",
       "       [3.92097483e-08, 9.99974966e-01, 2.25731874e-05, 2.40960844e-07,\n",
       "        1.55926477e-06, 2.70952313e-07, 1.04857087e-07, 2.25257651e-07],\n",
       "       [3.76767195e-09, 9.99986649e-01, 1.30056469e-05, 5.40414362e-08,\n",
       "        1.56413620e-07, 4.07849967e-08, 1.40900243e-08, 3.15157180e-08],\n",
       "       [1.19987851e-06, 9.99897957e-01, 5.27336415e-05, 1.19521201e-06,\n",
       "        1.72704404e-06, 3.20723848e-05, 8.06745788e-07, 1.22877273e-05]],\n",
       "      dtype=float32)"
      ]
     },
     "execution_count": 39,
     "metadata": {},
     "output_type": "execute_result"
    }
   ],
   "source": [
    "y_predicted[0]"
   ]
  },
  {
   "cell_type": "code",
   "execution_count": 40,
   "id": "0fe91847",
   "metadata": {},
   "outputs": [
    {
     "data": {
      "text/plain": [
       "['O',\n",
       " 'O',\n",
       " 'O',\n",
       " 'O',\n",
       " 'O',\n",
       " 'O',\n",
       " 'O',\n",
       " 'O',\n",
       " 'O',\n",
       " 'O',\n",
       " 'O',\n",
       " 'O',\n",
       " 'O',\n",
       " 'O',\n",
       " 'O',\n",
       " 'O',\n",
       " 'O',\n",
       " 'O',\n",
       " 'O',\n",
       " 'O',\n",
       " 'O',\n",
       " 'O',\n",
       " 'O',\n",
       " 'O',\n",
       " 'O',\n",
       " 'O',\n",
       " 'O',\n",
       " 'O',\n",
       " 'O',\n",
       " 'O',\n",
       " 'O',\n",
       " 'O',\n",
       " 'O',\n",
       " 'O',\n",
       " 'O',\n",
       " 'O',\n",
       " 'O',\n",
       " 'O',\n",
       " 'O',\n",
       " 'O']"
      ]
     },
     "execution_count": 40,
     "metadata": {},
     "output_type": "execute_result"
    }
   ],
   "source": [
    "pred_tags[0]"
   ]
  },
  {
   "cell_type": "code",
   "execution_count": 41,
   "id": "830bdddf",
   "metadata": {},
   "outputs": [
    {
     "data": {
      "text/plain": [
       "['O',\n",
       " 'O',\n",
       " 'O',\n",
       " 'O',\n",
       " 'O',\n",
       " 'O',\n",
       " 'O',\n",
       " 'O',\n",
       " 'O',\n",
       " 'O',\n",
       " 'O',\n",
       " 'O',\n",
       " 'O',\n",
       " 'O',\n",
       " 'O',\n",
       " 'O',\n",
       " 'O',\n",
       " 'O',\n",
       " 'O',\n",
       " 'O',\n",
       " 'O',\n",
       " 'O',\n",
       " 'O',\n",
       " 'O',\n",
       " 'O',\n",
       " 'O',\n",
       " 'O',\n",
       " 'O',\n",
       " 'O',\n",
       " 'O',\n",
       " 'O',\n",
       " 'O',\n",
       " 'O',\n",
       " 'O',\n",
       " 'O',\n",
       " 'O',\n",
       " 'O',\n",
       " 'O',\n",
       " 'O',\n",
       " 'O']"
      ]
     },
     "execution_count": 41,
     "metadata": {},
     "output_type": "execute_result"
    }
   ],
   "source": [
    "test_tags[0]"
   ]
  },
  {
   "cell_type": "code",
   "execution_count": 42,
   "id": "9d59a3f1",
   "metadata": {},
   "outputs": [
    {
     "name": "stderr",
     "output_type": "stream",
     "text": [
      "C:\\ProgramData\\anaconda3\\Lib\\site-packages\\seqeval\\metrics\\sequence_labeling.py:171: UserWarning: B_LC seems not to be NE tag.\n",
      "  warnings.warn('{} seems not to be NE tag.'.format(chunk))\n",
      "C:\\ProgramData\\anaconda3\\Lib\\site-packages\\seqeval\\metrics\\sequence_labeling.py:171: UserWarning: B_TI seems not to be NE tag.\n",
      "  warnings.warn('{} seems not to be NE tag.'.format(chunk))\n",
      "C:\\ProgramData\\anaconda3\\Lib\\site-packages\\seqeval\\metrics\\sequence_labeling.py:171: UserWarning: B_OG seems not to be NE tag.\n",
      "  warnings.warn('{} seems not to be NE tag.'.format(chunk))\n",
      "C:\\ProgramData\\anaconda3\\Lib\\site-packages\\seqeval\\metrics\\sequence_labeling.py:171: UserWarning: B_DT seems not to be NE tag.\n",
      "  warnings.warn('{} seems not to be NE tag.'.format(chunk))\n",
      "C:\\ProgramData\\anaconda3\\Lib\\site-packages\\seqeval\\metrics\\sequence_labeling.py:171: UserWarning: B_PS seems not to be NE tag.\n",
      "  warnings.warn('{} seems not to be NE tag.'.format(chunk))\n"
     ]
    },
    {
     "name": "stdout",
     "output_type": "stream",
     "text": [
      "              precision    recall  f1-score   support\n",
      "\n",
      "           _       0.61      0.58      0.60       683\n",
      "         _DT       0.89      0.88      0.89       357\n",
      "         _LC       0.76      0.59      0.66       324\n",
      "         _OG       0.65      0.58      0.62       464\n",
      "         _PS       0.78      0.45      0.57       388\n",
      "         _TI       0.93      0.72      0.81        76\n",
      "\n",
      "   micro avg       0.72      0.61      0.66      2292\n",
      "   macro avg       0.77      0.64      0.69      2292\n",
      "weighted avg       0.72      0.61      0.66      2292\n",
      "\n"
     ]
    }
   ],
   "source": [
    "print(classification_report(test_tags, pred_tags))"
   ]
  },
  {
   "cell_type": "code",
   "execution_count": 43,
   "id": "94d15f5c",
   "metadata": {},
   "outputs": [
    {
     "name": "stdout",
     "output_type": "stream",
     "text": [
      "F1-score: 66.2%\n"
     ]
    }
   ],
   "source": [
    "print(\"F1-score: {:.1%}\".format(f1_score(test_tags, pred_tags)))"
   ]
  },
  {
   "cell_type": "code",
   "execution_count": 52,
   "id": "d3ae265b",
   "metadata": {},
   "outputs": [],
   "source": [
    "# 샐운 유형의 문장 NER 예측\n",
    "word_to_index = sent_tokenizer.word_index\n",
    "new_sentence = \"삼성전자 출시 스마트폰 오늘 애플 도전장 내밀다.\".split()\n",
    "new_x = []\n",
    "for w in new_sentences:\n",
    "    try:\n",
    "        new_x.append(word_to_index.get(w, 1))\n",
    "        \n",
    "    except KeyError:\n",
    "        # 모르는 단어일 경우 OOV\n",
    "        new_x.append(word_to_index[\"OOV\"])"
   ]
  },
  {
   "cell_type": "code",
   "execution_count": 53,
   "id": "ec863663",
   "metadata": {},
   "outputs": [
    {
     "name": "stdout",
     "output_type": "stream",
     "text": [
      "새로운 유형의 시퀀스 : [531, 307, 1476, 286, 1507, 6766, 1]\n"
     ]
    }
   ],
   "source": [
    "print(\"새로운 유형의 시퀀스 :\", new_x)\n",
    "new_padded_seqs = preprocessing.sequence.pad_sequences([new_x], padding = \"post\", maxlen = max_len)"
   ]
  },
  {
   "cell_type": "code",
   "execution_count": 54,
   "id": "afdd5d32",
   "metadata": {},
   "outputs": [
    {
     "name": "stdout",
     "output_type": "stream",
     "text": [
      "\u001b[1m1/1\u001b[0m \u001b[32m━━━━━━━━━━━━━━━━━━━━\u001b[0m\u001b[37m\u001b[0m \u001b[1m0s\u001b[0m 21ms/step\n",
      "단어         예측된 NER\n",
      "--------------------------------------------------\n",
      "삼성전자       B_OG \n",
      "출시         O    \n",
      "스마트폰       O    \n",
      "오늘         B_DT \n",
      "애플         B_OG \n",
      "도전장        I    \n",
      "내밀다.       I    \n"
     ]
    }
   ],
   "source": [
    "# NER 예측\n",
    "p = model.predict(np.array([new_padded_seqs[0]]))\n",
    "p = np.argmax(p, axis = -1) # 예측된 NER 인덱스 값을 추출\n",
    "print(\"{:10} {:5}\".format(\"단어\", \"예측된 NER\"))\n",
    "print(\"-\" * 50)\n",
    "\n",
    "for w, pred in zip(new_sentence, p[0]):\n",
    "    print(\"{:10} {:5}\".format(w, index_to_ner[pred]))"
   ]
  },
  {
   "cell_type": "code",
   "execution_count": null,
   "id": "7d769dd5",
   "metadata": {},
   "outputs": [],
   "source": []
  }
 ],
 "metadata": {
  "kernelspec": {
   "display_name": "Python 3 (ipykernel)",
   "language": "python",
   "name": "python3"
  },
  "language_info": {
   "codemirror_mode": {
    "name": "ipython",
    "version": 3
   },
   "file_extension": ".py",
   "mimetype": "text/x-python",
   "name": "python",
   "nbconvert_exporter": "python",
   "pygments_lexer": "ipython3",
   "version": "3.11.5"
  }
 },
 "nbformat": 4,
 "nbformat_minor": 5
}
