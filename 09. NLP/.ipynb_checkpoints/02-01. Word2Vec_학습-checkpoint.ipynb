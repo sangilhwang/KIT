{
 "cells": [
  {
   "cell_type": "code",
   "execution_count": 1,
   "id": "2dace665",
   "metadata": {},
   "outputs": [],
   "source": [
    "from gensim.models import Word2Vec\n",
    "from konlpy.tag import Komoran\n",
    "import time\n",
    "import pandas as pd"
   ]
  },
  {
   "cell_type": "code",
   "execution_count": 4,
   "id": "76662878",
   "metadata": {},
   "outputs": [],
   "source": [
    "df = pd.read_csv(\"./data/nsmc/ratings.txt\", sep = \"\\t\")"
   ]
  },
  {
   "cell_type": "code",
   "execution_count": 5,
   "id": "5e676e6b",
   "metadata": {},
   "outputs": [
    {
     "data": {
      "text/html": [
       "<div>\n",
       "<style scoped>\n",
       "    .dataframe tbody tr th:only-of-type {\n",
       "        vertical-align: middle;\n",
       "    }\n",
       "\n",
       "    .dataframe tbody tr th {\n",
       "        vertical-align: top;\n",
       "    }\n",
       "\n",
       "    .dataframe thead th {\n",
       "        text-align: right;\n",
       "    }\n",
       "</style>\n",
       "<table border=\"1\" class=\"dataframe\">\n",
       "  <thead>\n",
       "    <tr style=\"text-align: right;\">\n",
       "      <th></th>\n",
       "      <th>id</th>\n",
       "      <th>document</th>\n",
       "      <th>label</th>\n",
       "    </tr>\n",
       "  </thead>\n",
       "  <tbody>\n",
       "    <tr>\n",
       "      <th>0</th>\n",
       "      <td>8112052</td>\n",
       "      <td>어릴때보고 지금다시봐도 재밌어요ㅋㅋ</td>\n",
       "      <td>1</td>\n",
       "    </tr>\n",
       "    <tr>\n",
       "      <th>1</th>\n",
       "      <td>8132799</td>\n",
       "      <td>디자인을 배우는 학생으로, 외국디자이너와 그들이 일군 전통을 통해 발전해가는 문화산...</td>\n",
       "      <td>1</td>\n",
       "    </tr>\n",
       "    <tr>\n",
       "      <th>2</th>\n",
       "      <td>4655635</td>\n",
       "      <td>폴리스스토리 시리즈는 1부터 뉴까지 버릴께 하나도 없음.. 최고.</td>\n",
       "      <td>1</td>\n",
       "    </tr>\n",
       "    <tr>\n",
       "      <th>3</th>\n",
       "      <td>9251303</td>\n",
       "      <td>와.. 연기가 진짜 개쩔구나.. 지루할거라고 생각했는데 몰입해서 봤다.. 그래 이런...</td>\n",
       "      <td>1</td>\n",
       "    </tr>\n",
       "    <tr>\n",
       "      <th>4</th>\n",
       "      <td>10067386</td>\n",
       "      <td>안개 자욱한 밤하늘에 떠 있는 초승달 같은 영화.</td>\n",
       "      <td>1</td>\n",
       "    </tr>\n",
       "  </tbody>\n",
       "</table>\n",
       "</div>"
      ],
      "text/plain": [
       "         id                                           document  label\n",
       "0   8112052                                어릴때보고 지금다시봐도 재밌어요ㅋㅋ      1\n",
       "1   8132799  디자인을 배우는 학생으로, 외국디자이너와 그들이 일군 전통을 통해 발전해가는 문화산...      1\n",
       "2   4655635               폴리스스토리 시리즈는 1부터 뉴까지 버릴께 하나도 없음.. 최고.      1\n",
       "3   9251303  와.. 연기가 진짜 개쩔구나.. 지루할거라고 생각했는데 몰입해서 봤다.. 그래 이런...      1\n",
       "4  10067386                        안개 자욱한 밤하늘에 떠 있는 초승달 같은 영화.      1"
      ]
     },
     "execution_count": 5,
     "metadata": {},
     "output_type": "execute_result"
    }
   ],
   "source": [
    "df.head()"
   ]
  },
  {
   "cell_type": "code",
   "execution_count": 6,
   "id": "5ba42d00",
   "metadata": {},
   "outputs": [
    {
     "data": {
      "text/plain": [
       "(200000, 3)"
      ]
     },
     "execution_count": 6,
     "metadata": {},
     "output_type": "execute_result"
    }
   ],
   "source": [
    "df.shape"
   ]
  },
  {
   "cell_type": "code",
   "execution_count": 7,
   "id": "0f37017f",
   "metadata": {},
   "outputs": [
    {
     "name": "stdout",
     "output_type": "stream",
     "text": [
      "<class 'pandas.core.frame.DataFrame'>\n",
      "RangeIndex: 200000 entries, 0 to 199999\n",
      "Data columns (total 3 columns):\n",
      " #   Column    Non-Null Count   Dtype \n",
      "---  ------    --------------   ----- \n",
      " 0   id        200000 non-null  int64 \n",
      " 1   document  199992 non-null  object\n",
      " 2   label     200000 non-null  int64 \n",
      "dtypes: int64(2), object(1)\n",
      "memory usage: 4.6+ MB\n"
     ]
    }
   ],
   "source": [
    "df.info()"
   ]
  },
  {
   "cell_type": "code",
   "execution_count": 8,
   "id": "c77e09c8",
   "metadata": {},
   "outputs": [],
   "source": [
    "df = df.dropna()"
   ]
  },
  {
   "cell_type": "code",
   "execution_count": 15,
   "id": "aed48656",
   "metadata": {},
   "outputs": [
    {
     "data": {
      "text/html": [
       "<div>\n",
       "<style scoped>\n",
       "    .dataframe tbody tr th:only-of-type {\n",
       "        vertical-align: middle;\n",
       "    }\n",
       "\n",
       "    .dataframe tbody tr th {\n",
       "        vertical-align: top;\n",
       "    }\n",
       "\n",
       "    .dataframe thead th {\n",
       "        text-align: right;\n",
       "    }\n",
       "</style>\n",
       "<table border=\"1\" class=\"dataframe\">\n",
       "  <thead>\n",
       "    <tr style=\"text-align: right;\">\n",
       "      <th></th>\n",
       "      <th>id</th>\n",
       "      <th>document</th>\n",
       "      <th>label</th>\n",
       "    </tr>\n",
       "  </thead>\n",
       "  <tbody>\n",
       "    <tr>\n",
       "      <th>199995</th>\n",
       "      <td>8963373</td>\n",
       "      <td>포켓 몬스터 짜가 ㅡㅡ;;</td>\n",
       "      <td>0</td>\n",
       "    </tr>\n",
       "    <tr>\n",
       "      <th>199996</th>\n",
       "      <td>3302770</td>\n",
       "      <td>쓰.레.기</td>\n",
       "      <td>0</td>\n",
       "    </tr>\n",
       "    <tr>\n",
       "      <th>199997</th>\n",
       "      <td>5458175</td>\n",
       "      <td>완전 사이코영화. 마지막은 더욱더 이 영화의질을 떨어트린다.</td>\n",
       "      <td>0</td>\n",
       "    </tr>\n",
       "    <tr>\n",
       "      <th>199998</th>\n",
       "      <td>6908648</td>\n",
       "      <td>왜난 재미없었지 ㅠㅠ 라따뚜이 보고나서 스머프 봐서 그런가 ㅋㅋ</td>\n",
       "      <td>0</td>\n",
       "    </tr>\n",
       "    <tr>\n",
       "      <th>199999</th>\n",
       "      <td>8548411</td>\n",
       "      <td>포풍저그가나가신다영차영차영차</td>\n",
       "      <td>0</td>\n",
       "    </tr>\n",
       "  </tbody>\n",
       "</table>\n",
       "</div>"
      ],
      "text/plain": [
       "             id                             document  label\n",
       "199995  8963373                       포켓 몬스터 짜가 ㅡㅡ;;      0\n",
       "199996  3302770                                쓰.레.기      0\n",
       "199997  5458175    완전 사이코영화. 마지막은 더욱더 이 영화의질을 떨어트린다.      0\n",
       "199998  6908648  왜난 재미없었지 ㅠㅠ 라따뚜이 보고나서 스머프 봐서 그런가 ㅋㅋ      0\n",
       "199999  8548411                      포풍저그가나가신다영차영차영차      0"
      ]
     },
     "execution_count": 15,
     "metadata": {},
     "output_type": "execute_result"
    }
   ],
   "source": [
    "df.tail()"
   ]
  },
  {
   "cell_type": "code",
   "execution_count": 10,
   "id": "a505567e",
   "metadata": {},
   "outputs": [
    {
     "data": {
      "text/plain": [
       "(199992, 3)"
      ]
     },
     "execution_count": 10,
     "metadata": {},
     "output_type": "execute_result"
    }
   ],
   "source": [
    "df.shape"
   ]
  },
  {
   "cell_type": "code",
   "execution_count": 11,
   "id": "1c5b889c",
   "metadata": {},
   "outputs": [],
   "source": [
    "komoran = Komoran()"
   ]
  },
  {
   "cell_type": "code",
   "execution_count": 13,
   "id": "ae0850cd",
   "metadata": {},
   "outputs": [
    {
     "name": "stdout",
     "output_type": "stream",
     "text": [
      "CPU times: total: 1min 49s\n",
      "Wall time: 1min 25s\n"
     ]
    }
   ],
   "source": [
    "%%time\n",
    "# 문장 단위로 명사만 추출해 학습 입력 데이터로 만듦\n",
    "docs = df[\"document\"].map(lambda x: komoran.nouns(x))"
   ]
  },
  {
   "cell_type": "code",
   "execution_count": 14,
   "id": "579e3eba",
   "metadata": {},
   "outputs": [
    {
     "data": {
      "text/plain": [
       "0                                                       [때]\n",
       "1         [디자인, 학생, 외국, 디자이너, 전통, 발전, 문화, 산업, 사실, 우리나라, ...\n",
       "2                                    [폴리스, 스토리, 시리즈, 뉴, 최고]\n",
       "3                                [연기, 것, 라고, 생각, 몰입, 영, 화지]\n",
       "4                                        [안개, 밤하늘, 초승달, 영화]\n",
       "                                ...                        \n",
       "199995                                         [포켓, 몬스터, 짜]\n",
       "199996                                                   []\n",
       "199997                            [완전, 사이코, 영화, 마지막, 영화, 질]\n",
       "199998                                          [라따뚜이, 스머프]\n",
       "199999                       [포, 풍, 저그, 가나, 신다영, 차영, 차영, 차]\n",
       "Name: document, Length: 199992, dtype: object"
      ]
     },
     "execution_count": 14,
     "metadata": {},
     "output_type": "execute_result"
    }
   ],
   "source": [
    "docs"
   ]
  },
  {
   "cell_type": "code",
   "execution_count": 16,
   "id": "ed5a1395",
   "metadata": {},
   "outputs": [],
   "source": [
    "# word2vec 모델 핛브\n",
    "model = Word2Vec(sentences = docs, vector_size = 200, window = 4, min_count = 2, sg = 1)"
   ]
  },
  {
   "cell_type": "markdown",
   "id": "767c4457",
   "metadata": {},
   "source": [
    "- word2vec의 주요 하이퍼파라미터\n",
    "    - sentences : Word2Vec 모델 학습에 필요한 문장 데이터\n",
    "    - vector_size : 단어 임베딩 벡터 차원(크기)\n",
    "    - window : 주변 단어 윈도우의 크기\n",
    "    - min_count : 단어 최소 빈도 수 제한(설정된 min_count 빈도 수 미만의 단어들은 학습하지 않음)\n",
    "    - sg : 0(CBOW 모델), 1(skip-gram 모델)"
   ]
  },
  {
   "cell_type": "code",
   "execution_count": 18,
   "id": "105637b6",
   "metadata": {},
   "outputs": [],
   "source": [
    "# 모델 저장\n",
    "model.save(\"./model/nsmc_w2v.model\")"
   ]
  },
  {
   "cell_type": "code",
   "execution_count": 20,
   "id": "310648dc",
   "metadata": {},
   "outputs": [
    {
     "name": "stdout",
     "output_type": "stream",
     "text": [
      "corpus_count : 199992\n",
      "copus_total_words : 1076840\n"
     ]
    }
   ],
   "source": [
    "# 학습된 말뭉치 개수\n",
    "print(\"corpus_count :\", model.corpus_count)\n",
    "print(\"copus_total_words :\", model.corpus_total_words)"
   ]
  },
  {
   "cell_type": "markdown",
   "id": "3c4330dc",
   "metadata": {},
   "source": [
    "# word2vec 모델 활용"
   ]
  },
  {
   "cell_type": "code",
   "execution_count": 21,
   "id": "593feb2d",
   "metadata": {},
   "outputs": [
    {
     "name": "stdout",
     "output_type": "stream",
     "text": [
      "1076840\n"
     ]
    }
   ],
   "source": [
    "# 모델 로딩\n",
    "model = Word2Vec.load(\"./model/nsmc_w2v.model\")\n",
    "print(model.corpus_total_words)"
   ]
  },
  {
   "cell_type": "code",
   "execution_count": 22,
   "id": "6fad0a77",
   "metadata": {},
   "outputs": [
    {
     "name": "stdout",
     "output_type": "stream",
     "text": [
      "사랑 : [-2.06396822e-02 -4.10756081e-01  2.90937573e-01  2.09320843e-01\n",
      " -2.31031671e-01 -1.59385279e-01  1.61425501e-01  4.07475233e-02\n",
      " -1.83055967e-01  3.29966515e-01 -1.60357192e-01 -4.91511039e-02\n",
      "  3.01269516e-02 -2.71018982e-01 -1.06874093e-01  4.63746846e-01\n",
      "  1.74394831e-01 -3.29918087e-01 -6.19718432e-01 -2.77300268e-01\n",
      "  4.10873055e-01  1.14205241e-01 -7.31106708e-03  1.05938487e-01\n",
      " -1.71914786e-01  3.53104360e-02  6.90744370e-02 -1.87932864e-01\n",
      " -1.61498487e-01 -6.85307831e-02  2.58414209e-01  4.62061614e-01\n",
      "  8.59596580e-02  2.25221306e-01 -1.04781888e-01  6.92833215e-02\n",
      " -1.89438850e-01  2.29418054e-01 -1.05424941e-01  1.82682518e-02\n",
      " -2.23919585e-01 -9.26988125e-02  5.93735799e-02 -2.11117998e-01\n",
      "  4.36020434e-01  2.77927876e-01 -7.59327188e-02  1.31050274e-01\n",
      "  3.24644089e-01  1.33795246e-01  1.19342558e-01 -1.38482913e-01\n",
      " -4.87910733e-02  3.17577720e-01 -2.41113424e-01 -1.72931820e-01\n",
      " -1.09069057e-01 -4.35462296e-02 -3.68171573e-01 -6.40005898e-03\n",
      "  4.28579561e-02 -8.86509269e-02 -4.82781678e-01  3.20776761e-01\n",
      " -1.61136210e-01 -1.28507331e-01 -2.94562429e-01  2.24798128e-01\n",
      " -3.81777920e-02  8.42485130e-01  8.96394551e-02  1.99562255e-02\n",
      "  3.98052573e-01 -2.24029627e-02  2.09457144e-01 -2.94035852e-01\n",
      "  1.35887727e-01 -3.65204185e-01 -1.81962162e-01 -2.86977470e-01\n",
      "  1.67166650e-01  1.21878972e-03 -2.81271875e-01  3.38680148e-01\n",
      " -1.99337199e-01  8.02594647e-02 -4.54402894e-01  2.62531251e-01\n",
      " -1.39733076e-01  8.80994573e-02  3.43080997e-01  1.59008503e-01\n",
      "  1.98462859e-01  1.99419409e-01  3.62186819e-01  2.26877064e-01\n",
      " -1.31649124e-02  6.95365444e-02 -9.86691415e-02  2.26574659e-01\n",
      " -4.85111952e-01  6.81139171e-01  2.11754039e-01  6.45152107e-02\n",
      "  5.12019247e-02 -2.90408611e-01 -4.07510670e-03  3.91656101e-01\n",
      " -5.16090870e-01 -2.92159706e-01  6.89976439e-02 -1.86859086e-01\n",
      "  8.81445501e-03 -6.56071901e-02  3.06244969e-01 -3.34396154e-01\n",
      "  2.68816590e-01 -1.74297631e-01  3.11344922e-01 -9.95265879e-03\n",
      "  2.21378371e-01 -1.26073033e-01 -2.88407475e-01 -2.69225746e-01\n",
      " -1.39402300e-01  3.27492982e-01 -6.95359036e-02 -2.29366347e-01\n",
      " -3.16320598e-01  3.17383498e-01  9.51388776e-02  5.35662532e-01\n",
      " -6.60865530e-02  3.83535624e-01  1.12612367e-01  1.30344167e-01\n",
      " -1.88771829e-01  1.27087891e-01 -2.01924086e-01 -2.01577619e-01\n",
      "  4.90861297e-01 -1.22978151e-01 -4.75255400e-01 -2.43291352e-02\n",
      " -9.10530653e-05 -9.43181962e-02 -2.79354677e-02 -1.64933547e-01\n",
      "  2.88941592e-01 -2.86921144e-01 -1.61908999e-01 -2.77888417e-01\n",
      "  4.79342818e-01  2.27848794e-02  6.62952214e-02  2.66353749e-02\n",
      "  2.13646129e-01  1.35467174e-02  3.44837517e-01  2.80290365e-01\n",
      "  2.50963360e-01  3.32110494e-01 -1.76094308e-01 -1.16614297e-01\n",
      "  1.20797664e-01  6.24526799e-01 -1.81663021e-01 -2.19142675e-01\n",
      " -2.84866661e-01 -8.21398795e-02 -3.56352448e-01 -5.42114452e-02\n",
      "  6.12743013e-02 -4.46632564e-01 -3.29717845e-02  1.02159008e-01\n",
      "  1.81997359e-01 -1.37962522e-02  3.62401366e-01  4.34036739e-02\n",
      " -2.15997666e-01  1.92283303e-01 -6.08323254e-02  2.58986298e-02\n",
      " -2.06531748e-01 -1.01470932e-01 -1.59076098e-02  3.94278988e-02\n",
      "  4.91287082e-01  1.44256905e-01  4.09875661e-01  3.39052081e-02\n",
      " -3.31463277e-01 -9.72367004e-02  2.17656761e-01 -7.89837092e-02\n",
      "  1.62732482e-01 -3.44977468e-01 -2.82234102e-01  3.98877859e-02]\n"
     ]
    }
   ],
   "source": [
    "# '사랑'이란 단어로 생성한 단어 임베딩 벡터\n",
    "print(\"사랑 :\", model.wv[\"사랑\"])"
   ]
  },
  {
   "cell_type": "markdown",
   "id": "2865fb35",
   "metadata": {},
   "source": [
    "- 모델을 학습할 때 설정한 vector_size 하이퍼파라미터 만큼 단어 임베딩 벡터 차원 크기가 결정됨"
   ]
  },
  {
   "cell_type": "markdown",
   "id": "5bf95e7a",
   "metadata": {},
   "source": [
    "- model.wv.similarity() 함수 : 두 단어간의 유사도를 계산"
   ]
  },
  {
   "cell_type": "code",
   "execution_count": 24,
   "id": "334f9e73",
   "metadata": {},
   "outputs": [
    {
     "name": "stdout",
     "output_type": "stream",
     "text": [
      "일요일 = 월요일\t0.9199569\n"
     ]
    }
   ],
   "source": [
    "# 단어 유사도 계산\n",
    "print(\"일요일 = 월요일\", model.wv.similarity(w1 = \"일요일\", w2 = \"월요일\"), sep = \"\\t\")"
   ]
  },
  {
   "cell_type": "code",
   "execution_count": 25,
   "id": "e717ba52",
   "metadata": {},
   "outputs": [
    {
     "name": "stdout",
     "output_type": "stream",
     "text": [
      "삼성 = 대기업\t0.8726748\n",
      "일요일 = 삼성\t0.61945915\n"
     ]
    }
   ],
   "source": [
    "print(\"삼성 = 대기업\", model.wv.similarity(w1 = \"삼성\", w2 = \"대기업\"), sep = \"\\t\")\n",
    "print(\"일요일 = 삼성\", model.wv.similarity(w1 = \"일요일\", w2 = \"삼성\"), sep = \"\\t\")"
   ]
  },
  {
   "cell_type": "code",
   "execution_count": 26,
   "id": "22f27335",
   "metadata": {},
   "outputs": [
    {
     "name": "stdout",
     "output_type": "stream",
     "text": [
      "점심 = 햄버거\t0.94539374\n"
     ]
    }
   ],
   "source": [
    "print(\"점심 = 햄버거\", model.wv.similarity(w1 = \"점심\", w2 = \"햄버거\"), sep = \"\\t\")"
   ]
  },
  {
   "cell_type": "markdown",
   "id": "25001523",
   "metadata": {},
   "source": [
    "- model.wv.most_similar() 함수 : 인자로 사용한 단어와 가장 유사한 단어를 리스트로 반환\n",
    "    - 벡터 공간에서 가장 가까운 거리에 있는 단어들을 반환\n",
    "    - topn : 반환되는 유사한 단어 수\n",
    "- 유사도가 1에 가까울수록 두 단어는 동일한 의미이거나 문법적으로 관련이 있을 가능성이 높음"
   ]
  },
  {
   "cell_type": "code",
   "execution_count": 32,
   "id": "ee02988d",
   "metadata": {},
   "outputs": [
    {
     "data": {
      "text/plain": [
       "[('운동장', 0.9860125184059143),\n",
       " ('촌지', 0.9829505681991577),\n",
       " ('지구과학', 0.9821503162384033),\n",
       " ('한여름', 0.981358528137207),\n",
       " ('전학', 0.9812785387039185),\n",
       " ('라디오헤드', 0.9799153208732605),\n",
       " ('재스민', 0.979101836681366),\n",
       " ('순천', 0.9787649512290955),\n",
       " ('고속버스', 0.9780944585800171),\n",
       " ('학교4', 0.9780634045600891)]"
      ]
     },
     "execution_count": 32,
     "metadata": {},
     "output_type": "execute_result"
    }
   ],
   "source": [
    "model.wv.most_similar(\"점심\", topn = 10)"
   ]
  },
  {
   "cell_type": "code",
   "execution_count": 29,
   "id": "34ad5bfe",
   "metadata": {},
   "outputs": [],
   "source": [
    "import gensim"
   ]
  },
  {
   "cell_type": "code",
   "execution_count": 35,
   "id": "141fc733",
   "metadata": {},
   "outputs": [],
   "source": [
    "sentences = gensim.models.word2vec.Text8Corpus(\"./data/text8.txt\")"
   ]
  },
  {
   "cell_type": "code",
   "execution_count": 36,
   "id": "adb137bf",
   "metadata": {},
   "outputs": [],
   "source": [
    "model = Word2Vec(sentences, vector_size = 200)"
   ]
  },
  {
   "cell_type": "code",
   "execution_count": 37,
   "id": "47b4223d",
   "metadata": {},
   "outputs": [
    {
     "data": {
      "text/plain": [
       "[('queen', 0.6426768898963928),\n",
       " ('throne', 0.5607941746711731),\n",
       " ('empress', 0.5519142746925354),\n",
       " ('princess', 0.5470919609069824),\n",
       " ('elizabeth', 0.5456562638282776),\n",
       " ('daughter', 0.5408150553703308),\n",
       " ('prince', 0.5221851468086243),\n",
       " ('son', 0.5168088674545288),\n",
       " ('isabella', 0.5090274810791016),\n",
       " ('emperor', 0.5084015130996704)]"
      ]
     },
     "execution_count": 37,
     "metadata": {},
     "output_type": "execute_result"
    }
   ],
   "source": [
    "model.wv.most_similar(positive = [\"woman\", \"king\"], negative = [\"man\"])"
   ]
  },
  {
   "cell_type": "code",
   "execution_count": null,
   "id": "25946b26",
   "metadata": {},
   "outputs": [],
   "source": []
  }
 ],
 "metadata": {
  "kernelspec": {
   "display_name": "Python 3 (ipykernel)",
   "language": "python",
   "name": "python3"
  },
  "language_info": {
   "codemirror_mode": {
    "name": "ipython",
    "version": 3
   },
   "file_extension": ".py",
   "mimetype": "text/x-python",
   "name": "python",
   "nbconvert_exporter": "python",
   "pygments_lexer": "ipython3",
   "version": "3.11.5"
  }
 },
 "nbformat": 4,
 "nbformat_minor": 5
}
