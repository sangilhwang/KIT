{
 "cells": [
  {
   "cell_type": "code",
   "execution_count": 1,
   "id": "bebae3ac",
   "metadata": {},
   "outputs": [],
   "source": [
    "import os\n",
    "import re\n",
    "import numpy as np\n",
    "import cv2\n",
    "import matplotlib.pyplot as plt\n",
    "from tensorflow.keras.applications.resnet50 import ResNet50\n",
    "from tensorflow import keras\n",
    "from sklearn.model_selection import train_test_split"
   ]
  },
  {
   "cell_type": "markdown",
   "id": "f887c037",
   "metadata": {},
   "source": [
    "### 데이터 읽기"
   ]
  },
  {
   "cell_type": "code",
   "execution_count": 2,
   "id": "3152bd44",
   "metadata": {},
   "outputs": [],
   "source": [
    "path = r\"./data/fruits-images-dataset-object-detection/Train File/Train File\"\n",
    "\n",
    "train_images, test_images, train_labels, test_labels = [], [], [], []\n",
    "\n",
    "for file in sorted(os.listdir(path)):\n",
    "   if file.endswith(\".jpg\") or file.endswith(\"jpeg\"):\n",
    "       img = cv2.cvtColor(cv2.resize(cv2.imread(os.path.join(path, file)), (128, 128)), cv2.COLOR_BGR2RGB)\n",
    "       train_images.append(img)\n",
    "       if \"Hog Pulm\" in file:\n",
    "           file = file.replace(\"Hog Pulm\", \"HogPlum\")\n",
    "       elif \"HogPulm\" in file:\n",
    "           file = file.replace(\"HogPulm\", \"HogPlum\")\n",
    "       elif \"Lichi\" in file:\n",
    "           file = file.replace(\"Lichi\", \"Litchi\")\n",
    "       train_labels.append(re.findall(\"[a-zA-Z]+\", file)[0])"
   ]
  },
  {
   "cell_type": "code",
   "execution_count": 3,
   "id": "ee2ae400",
   "metadata": {},
   "outputs": [],
   "source": [
    "path = r\"./data/fruits-images-dataset-object-detection/Test File/Test File\"\n",
    "\n",
    "for file in sorted(os.listdir(path)):\n",
    "   if file.endswith(\".jpg\") or file.endswith(\".jpeg\"):\n",
    "       img = cv2.cvtColor(cv2.resize(cv2.imread(os.path.join(path, file)), (128, 128)), cv2.COLOR_BGR2RGB)\n",
    "       test_images.append(img)\n",
    "       test_labels.append(re.findall(\"[a-zA-Z]+\", file)[0])"
   ]
  },
  {
   "cell_type": "code",
   "execution_count": 4,
   "id": "68f8df5d",
   "metadata": {},
   "outputs": [],
   "source": [
    "train_images = np.array(train_images)\n",
    "test_images = np.array(test_images)\n",
    "train_labels = np.array(train_labels)\n",
    "test_labels = np.array(test_labels)"
   ]
  },
  {
   "cell_type": "code",
   "execution_count": 5,
   "id": "8bcbebf1",
   "metadata": {},
   "outputs": [
    {
     "name": "stdout",
     "output_type": "stream",
     "text": [
      "(320, 128, 128, 3) (320,) (80, 128, 128, 3) (80,)\n"
     ]
    }
   ],
   "source": [
    "print(train_images.shape, train_labels.shape, test_images.shape, test_labels.shape)"
   ]
  },
  {
   "cell_type": "code",
   "execution_count": 6,
   "id": "f1e5aee0",
   "metadata": {},
   "outputs": [
    {
     "name": "stdout",
     "output_type": "stream",
     "text": [
      "{0: 'Apple', 1: 'Banana', 2: 'Grapes', 3: 'Guava', 4: 'HogPlum', 5: 'Jackfruit', 6: 'Litchi', 7: 'Mango', 8: 'Orange', 9: 'Papaya'}\n"
     ]
    }
   ],
   "source": [
    "class_names = np.unique(train_labels)\n",
    "\n",
    "class_map = {i : class_name for i, class_name in enumerate(class_names)}\n",
    "reverse_class_map = {val : key for key, val in class_map.items()}\n",
    "\n",
    "print(class_map)"
   ]
  },
  {
   "cell_type": "code",
   "execution_count": null,
   "id": "61203ed5",
   "metadata": {},
   "outputs": [],
   "source": []
  },
  {
   "cell_type": "markdown",
   "id": "680d01ae",
   "metadata": {},
   "source": [
    "### 라벨을 숫자로 변환"
   ]
  },
  {
   "cell_type": "code",
   "execution_count": 7,
   "id": "83e7a1bb",
   "metadata": {},
   "outputs": [],
   "source": [
    "train_list = []\n",
    "\n",
    "for label in train_labels:\n",
    "    key = reverse_class_map[label]\n",
    "    train_list.append(key)"
   ]
  },
  {
   "cell_type": "code",
   "execution_count": 8,
   "id": "70d79517",
   "metadata": {},
   "outputs": [],
   "source": [
    "y_train = np.array(train_list)"
   ]
  },
  {
   "cell_type": "code",
   "execution_count": 9,
   "id": "44c08f32",
   "metadata": {},
   "outputs": [],
   "source": [
    "test_list = []\n",
    "\n",
    "for label in test_labels:\n",
    "    key = reverse_class_map[label]\n",
    "    test_list.append(key)"
   ]
  },
  {
   "cell_type": "code",
   "execution_count": 10,
   "id": "27357577",
   "metadata": {},
   "outputs": [],
   "source": [
    "y_test = np.array(test_list)"
   ]
  },
  {
   "cell_type": "code",
   "execution_count": null,
   "id": "19ad37a7",
   "metadata": {},
   "outputs": [],
   "source": []
  },
  {
   "cell_type": "markdown",
   "id": "f44a44d9",
   "metadata": {},
   "source": [
    "### 스케일링 적용"
   ]
  },
  {
   "cell_type": "code",
   "execution_count": 11,
   "id": "8605eddc",
   "metadata": {},
   "outputs": [],
   "source": [
    "scaled_train = train_images / 255\n",
    "scaled_test = test_images / 255"
   ]
  },
  {
   "cell_type": "code",
   "execution_count": 12,
   "id": "a8bef82d",
   "metadata": {},
   "outputs": [],
   "source": [
    "scaled_sub, scaled_val, y_sub, y_val = train_test_split(scaled_train, y_train, test_size = 0.2, stratify = y_train, random_state = 7)"
   ]
  },
  {
   "cell_type": "code",
   "execution_count": 13,
   "id": "a498e6b0",
   "metadata": {},
   "outputs": [
    {
     "data": {
      "text/plain": [
       "((256, 128, 128, 3), (64, 128, 128, 3), (80, 128, 128, 3))"
      ]
     },
     "execution_count": 13,
     "metadata": {},
     "output_type": "execute_result"
    }
   ],
   "source": [
    "scaled_sub.shape, scaled_val.shape, scaled_test.shape"
   ]
  },
  {
   "cell_type": "code",
   "execution_count": null,
   "id": "886cc2a0",
   "metadata": {},
   "outputs": [],
   "source": []
  },
  {
   "cell_type": "markdown",
   "id": "2184e139",
   "metadata": {},
   "source": [
    "### 모델 구성"
   ]
  },
  {
   "cell_type": "code",
   "execution_count": 14,
   "id": "d8b3ad2e",
   "metadata": {},
   "outputs": [
    {
     "name": "stderr",
     "output_type": "stream",
     "text": [
      "C:\\ProgramData\\anaconda3\\Lib\\site-packages\\keras\\src\\layers\\convolutional\\base_conv.py:107: UserWarning: Do not pass an `input_shape`/`input_dim` argument to a layer. When using Sequential models, prefer using an `Input(shape)` object as the first layer in the model instead.\n",
      "  super().__init__(activity_regularizer=activity_regularizer, **kwargs)\n"
     ]
    }
   ],
   "source": [
    "model = keras.Sequential()\n",
    "model.add(keras.layers.Conv2D(64, kernel_size = 8, activation = \"relu\", padding = \"same\", input_shape = (128, 128, 3)))\n",
    "model.add(keras.layers.BatchNormalization())\n",
    "model.add(keras.layers.Conv2D(64, kernel_size = 8, activation = \"relu\", padding = \"same\"))\n",
    "model.add(keras.layers.BatchNormalization())\n",
    "model.add(keras.layers.MaxPool2D(2))\n",
    "model.add(keras.layers.Dropout(0.5))\n",
    "\n",
    "model.add(keras.layers.Conv2D(128, kernel_size = 4, activation = \"relu\", padding = \"same\"))\n",
    "model.add(keras.layers.BatchNormalization())\n",
    "model.add(keras.layers.Conv2D(128, kernel_size = 4, activation = \"relu\", padding = \"same\"))\n",
    "model.add(keras.layers.BatchNormalization())\n",
    "model.add(keras.layers.MaxPool2D(2))\n",
    "model.add(keras.layers.Dropout(0.5))\n",
    "\n",
    "model.add(keras.layers.Flatten())\n",
    "model.add(keras.layers.Dense(256, activation = \"relu\"))\n",
    "model.add(keras.layers.BatchNormalization())\n",
    "model.add(keras.layers.Dropout(0.5))\n",
    "model.add(keras.layers.Dense(10, activation = \"softmax\"))"
   ]
  },
  {
   "cell_type": "code",
   "execution_count": 15,
   "id": "5b0efb1e",
   "metadata": {},
   "outputs": [],
   "source": [
    "adam = keras.optimizers.Adam(learning_rate = 0.0005)\n",
    "early_stopping_cb = keras.callbacks.EarlyStopping(patience = 4, restore_best_weights = True)"
   ]
  },
  {
   "cell_type": "code",
   "execution_count": 16,
   "id": "a6c949ec",
   "metadata": {},
   "outputs": [],
   "source": [
    "model.compile(loss = \"sparse_categorical_crossentropy\", optimizer = adam, metrics = [\"accuracy\"])"
   ]
  },
  {
   "cell_type": "code",
   "execution_count": null,
   "id": "105eb87e",
   "metadata": {},
   "outputs": [],
   "source": []
  },
  {
   "cell_type": "markdown",
   "id": "ccd017a2",
   "metadata": {},
   "source": [
    "### 모델 학습 및 평가"
   ]
  },
  {
   "cell_type": "code",
   "execution_count": 17,
   "id": "cce07bdd",
   "metadata": {},
   "outputs": [
    {
     "name": "stdout",
     "output_type": "stream",
     "text": [
      "Epoch 1/25\n",
      "\u001b[1m32/32\u001b[0m \u001b[32m━━━━━━━━━━━━━━━━━━━━\u001b[0m\u001b[37m\u001b[0m \u001b[1m55s\u001b[0m 2s/step - accuracy: 0.1429 - loss: 2.8412 - val_accuracy: 0.1719 - val_loss: 2.7074\n",
      "Epoch 2/25\n",
      "\u001b[1m32/32\u001b[0m \u001b[32m━━━━━━━━━━━━━━━━━━━━\u001b[0m\u001b[37m\u001b[0m \u001b[1m51s\u001b[0m 2s/step - accuracy: 0.3464 - loss: 1.9620 - val_accuracy: 0.1250 - val_loss: 4.0083\n",
      "Epoch 3/25\n",
      "\u001b[1m32/32\u001b[0m \u001b[32m━━━━━━━━━━━━━━━━━━━━\u001b[0m\u001b[37m\u001b[0m \u001b[1m50s\u001b[0m 2s/step - accuracy: 0.3313 - loss: 1.9723 - val_accuracy: 0.1406 - val_loss: 5.2835\n",
      "Epoch 4/25\n",
      "\u001b[1m32/32\u001b[0m \u001b[32m━━━━━━━━━━━━━━━━━━━━\u001b[0m\u001b[37m\u001b[0m \u001b[1m49s\u001b[0m 2s/step - accuracy: 0.3252 - loss: 2.1224 - val_accuracy: 0.0781 - val_loss: 26.9647\n",
      "Epoch 5/25\n",
      "\u001b[1m32/32\u001b[0m \u001b[32m━━━━━━━━━━━━━━━━━━━━\u001b[0m\u001b[37m\u001b[0m \u001b[1m50s\u001b[0m 2s/step - accuracy: 0.2237 - loss: 2.5059 - val_accuracy: 0.0781 - val_loss: 6.1189\n"
     ]
    },
    {
     "data": {
      "text/plain": [
       "<keras.src.callbacks.history.History at 0x28c2cf2f5d0>"
      ]
     },
     "execution_count": 17,
     "metadata": {},
     "output_type": "execute_result"
    }
   ],
   "source": [
    "model.fit(scaled_sub, y_sub, epochs = 25, validation_data = (scaled_val, y_val), callbacks = [early_stopping_cb], batch_size = 8)"
   ]
  },
  {
   "cell_type": "code",
   "execution_count": 18,
   "id": "2dc370a1",
   "metadata": {},
   "outputs": [
    {
     "name": "stdout",
     "output_type": "stream",
     "text": [
      "\u001b[1m3/3\u001b[0m \u001b[32m━━━━━━━━━━━━━━━━━━━━\u001b[0m\u001b[37m\u001b[0m \u001b[1m4s\u001b[0m 1s/step - accuracy: 0.1227 - loss: 2.8455   \n"
     ]
    },
    {
     "data": {
      "text/plain": [
       "[2.8750243186950684, 0.11249999701976776]"
      ]
     },
     "execution_count": 18,
     "metadata": {},
     "output_type": "execute_result"
    }
   ],
   "source": [
    "model.evaluate(scaled_test, y_test)"
   ]
  },
  {
   "cell_type": "code",
   "execution_count": null,
   "id": "eb779ee1",
   "metadata": {},
   "outputs": [],
   "source": []
  }
 ],
 "metadata": {
  "kernelspec": {
   "display_name": "Python 3 (ipykernel)",
   "language": "python",
   "name": "python3"
  },
  "language_info": {
   "codemirror_mode": {
    "name": "ipython",
    "version": 3
   },
   "file_extension": ".py",
   "mimetype": "text/x-python",
   "name": "python",
   "nbconvert_exporter": "python",
   "pygments_lexer": "ipython3",
   "version": "3.11.7"
  }
 },
 "nbformat": 4,
 "nbformat_minor": 5
}
