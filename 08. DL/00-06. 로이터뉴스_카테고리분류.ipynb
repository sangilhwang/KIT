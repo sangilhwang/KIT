{
 "cells": [
  {
   "cell_type": "code",
   "execution_count": 1,
   "id": "c174c5c6",
   "metadata": {},
   "outputs": [],
   "source": [
    "from tensorflow import keras\n",
    "from tensorflow.keras.datasets import reuters\n",
    "from tensorflow.keras.preprocessing.sequence import pad_sequences\n",
    "import numpy as np\n",
    "from sklearn.model_selection import train_test_split\n",
    "import matplotlib.pyplot as plt\n",
    "import pandas as pd"
   ]
  },
  {
   "cell_type": "code",
   "execution_count": 446,
   "id": "6cc8a998",
   "metadata": {},
   "outputs": [],
   "source": [
    "(x_train, y_train), (x_test, y_test) = reuters.load_data(num_words = 1000)"
   ]
  },
  {
   "cell_type": "code",
   "execution_count": 328,
   "id": "cb2c31bc",
   "metadata": {},
   "outputs": [
    {
     "data": {
      "text/plain": [
       "((8982,), (2246,))"
      ]
     },
     "execution_count": 328,
     "metadata": {},
     "output_type": "execute_result"
    }
   ],
   "source": [
    "x_train.shape, x_test.shape"
   ]
  },
  {
   "cell_type": "code",
   "execution_count": 329,
   "id": "f991017b",
   "metadata": {},
   "outputs": [],
   "source": [
    "length = np.array([len(x) for x in x_train])"
   ]
  },
  {
   "cell_type": "code",
   "execution_count": 330,
   "id": "271aed17",
   "metadata": {},
   "outputs": [
    {
     "name": "stdout",
     "output_type": "stream",
     "text": [
      "145.5398574927633 95.0 13 2376\n"
     ]
    }
   ],
   "source": [
    "# 길이 평균값과 중간값\n",
    "print(np.mean(length), np.median(length), np.min(length), np.max(length))"
   ]
  },
  {
   "cell_type": "code",
   "execution_count": 331,
   "id": "e0167dcf",
   "metadata": {},
   "outputs": [
    {
     "data": {
      "text/plain": [
       "(array([ 0,  1,  2,  3,  4,  5,  6,  7,  8,  9, 10, 11, 12, 13, 14, 15, 16,\n",
       "        17, 18, 19, 20, 21, 22, 23, 24, 25, 26, 27, 28, 29, 30, 31, 32, 33,\n",
       "        34, 35, 36, 37, 38, 39, 40, 41, 42, 43, 44, 45], dtype=int64),\n",
       " array([  55,  432,   74, 3159, 1949,   17,   48,   16,  139,  101,  124,\n",
       "         390,   49,  172,   26,   20,  444,   39,   66,  549,  269,  100,\n",
       "          15,   41,   62,   92,   24,   15,   48,   19,   45,   39,   32,\n",
       "          11,   50,   10,   49,   19,   19,   24,   36,   30,   13,   21,\n",
       "          12,   18], dtype=int64))"
      ]
     },
     "execution_count": 331,
     "metadata": {},
     "output_type": "execute_result"
    }
   ],
   "source": [
    "np.unique(y_train, return_counts = True)"
   ]
  },
  {
   "cell_type": "markdown",
   "id": "a2f4f4b9",
   "metadata": {},
   "source": [
    "- 로이터 뉴스 카테고리 분류 데이터\n",
    "    - 총 11258개의 뉴스 기사 데이터\n",
    "    - 46개의 카테고리 분류\n",
    "    - 예)\n",
    "        - 중부 지방은 대체로 맑겠으나, 남부 지방은 구름이 많겠습니다 -> 날씨\n",
    "        - 올 초부터 유동성의 힘으로 주가가 일정하게 상승했습니다 -> 주식"
   ]
  },
  {
   "cell_type": "code",
   "execution_count": null,
   "id": "9d7ef8c6",
   "metadata": {},
   "outputs": [],
   "source": []
  },
  {
   "cell_type": "markdown",
   "id": "6d446687",
   "metadata": {},
   "source": [
    "# 복호화(?)"
   ]
  },
  {
   "cell_type": "code",
   "execution_count": 332,
   "id": "225b8c2c",
   "metadata": {},
   "outputs": [],
   "source": [
    "word_index = reuters.get_word_index()"
   ]
  },
  {
   "cell_type": "code",
   "execution_count": 333,
   "id": "947e41bc",
   "metadata": {},
   "outputs": [],
   "source": [
    "idx2word = {0 : \"<PAD>\", 1: \"<S>\", 2 : \"<UNK>\"}"
   ]
  },
  {
   "cell_type": "code",
   "execution_count": 334,
   "id": "c40a59da",
   "metadata": {},
   "outputs": [],
   "source": [
    "idx2word.update({value + 3 : key for key, value in word_index.items()})"
   ]
  },
  {
   "cell_type": "code",
   "execution_count": null,
   "id": "4751f4a8",
   "metadata": {},
   "outputs": [],
   "source": []
  },
  {
   "cell_type": "markdown",
   "id": "1365f2e8",
   "metadata": {},
   "source": [
    "# 숫자 단어 날리기"
   ]
  },
  {
   "cell_type": "code",
   "execution_count": 335,
   "id": "b8399ff9",
   "metadata": {},
   "outputs": [],
   "source": [
    "int_list = []\n",
    "for i in list(word_index.keys()):\n",
    "    try:\n",
    "        j = int(i)\n",
    "        \n",
    "    except:\n",
    "        j = \"str\"\n",
    "    \n",
    "    if type(j) == int:\n",
    "        int_list.append(list(word_index.keys()).index(i))"
   ]
  },
  {
   "cell_type": "code",
   "execution_count": null,
   "id": "ce2aec03",
   "metadata": {},
   "outputs": [],
   "source": []
  },
  {
   "cell_type": "markdown",
   "id": "0f5fbff8",
   "metadata": {},
   "source": [
    "# 무의미한 단어 제거해보기"
   ]
  },
  {
   "cell_type": "code",
   "execution_count": 336,
   "id": "4cd50682",
   "metadata": {},
   "outputs": [],
   "source": [
    "whole_list = [j for i in x_train for j in i]"
   ]
  },
  {
   "cell_type": "code",
   "execution_count": 337,
   "id": "b691c5c2",
   "metadata": {},
   "outputs": [],
   "source": [
    "df = pd.DataFrame(whole_list)"
   ]
  },
  {
   "cell_type": "code",
   "execution_count": 338,
   "id": "f26335c6",
   "metadata": {},
   "outputs": [],
   "source": [
    "df[\"count\"] = 1"
   ]
  },
  {
   "cell_type": "code",
   "execution_count": 339,
   "id": "172f88a6",
   "metadata": {},
   "outputs": [],
   "source": [
    "df_count = df.groupby(0).sum().sort_values(by = \"count\", ascending = False)"
   ]
  },
  {
   "cell_type": "code",
   "execution_count": 340,
   "id": "f5c455c0",
   "metadata": {},
   "outputs": [],
   "source": [
    "df_count[\"word\"] = pd.Series(df_count.index).map(lambda x: idx2word[x])"
   ]
  },
  {
   "cell_type": "code",
   "execution_count": 389,
   "id": "6bf10317",
   "metadata": {},
   "outputs": [
    {
     "data": {
      "text/html": [
       "<div>\n",
       "<style scoped>\n",
       "    .dataframe tbody tr th:only-of-type {\n",
       "        vertical-align: middle;\n",
       "    }\n",
       "\n",
       "    .dataframe tbody tr th {\n",
       "        vertical-align: top;\n",
       "    }\n",
       "\n",
       "    .dataframe thead th {\n",
       "        text-align: right;\n",
       "    }\n",
       "</style>\n",
       "<table border=\"1\" class=\"dataframe\">\n",
       "  <thead>\n",
       "    <tr style=\"text-align: right;\">\n",
       "      <th></th>\n",
       "      <th>count</th>\n",
       "      <th>word</th>\n",
       "    </tr>\n",
       "    <tr>\n",
       "      <th>0</th>\n",
       "      <th></th>\n",
       "      <th></th>\n",
       "    </tr>\n",
       "  </thead>\n",
       "  <tbody>\n",
       "    <tr>\n",
       "      <th>2</th>\n",
       "      <td>284013</td>\n",
       "      <td>of</td>\n",
       "    </tr>\n",
       "    <tr>\n",
       "      <th>4</th>\n",
       "      <td>65949</td>\n",
       "      <td>in</td>\n",
       "    </tr>\n",
       "    <tr>\n",
       "      <th>5</th>\n",
       "      <td>33791</td>\n",
       "      <td>said</td>\n",
       "    </tr>\n",
       "    <tr>\n",
       "      <th>6</th>\n",
       "      <td>32262</td>\n",
       "      <td>and</td>\n",
       "    </tr>\n",
       "    <tr>\n",
       "      <th>7</th>\n",
       "      <td>26309</td>\n",
       "      <td>a</td>\n",
       "    </tr>\n",
       "    <tr>\n",
       "      <th>...</th>\n",
       "      <td>...</td>\n",
       "      <td>...</td>\n",
       "    </tr>\n",
       "    <tr>\n",
       "      <th>996</th>\n",
       "      <td>158</td>\n",
       "      <td>consumption</td>\n",
       "    </tr>\n",
       "    <tr>\n",
       "      <th>953</th>\n",
       "      <td>157</td>\n",
       "      <td>owns</td>\n",
       "    </tr>\n",
       "    <tr>\n",
       "      <th>912</th>\n",
       "      <td>156</td>\n",
       "      <td>mining</td>\n",
       "    </tr>\n",
       "    <tr>\n",
       "      <th>951</th>\n",
       "      <td>152</td>\n",
       "      <td>white</td>\n",
       "    </tr>\n",
       "    <tr>\n",
       "      <th>979</th>\n",
       "      <td>150</td>\n",
       "      <td>options</td>\n",
       "    </tr>\n",
       "  </tbody>\n",
       "</table>\n",
       "<p>998 rows × 2 columns</p>\n",
       "</div>"
      ],
      "text/plain": [
       "      count         word\n",
       "0                       \n",
       "2    284013           of\n",
       "4     65949           in\n",
       "5     33791         said\n",
       "6     32262          and\n",
       "7     26309            a\n",
       "..      ...          ...\n",
       "996     158  consumption\n",
       "953     157         owns\n",
       "912     156       mining\n",
       "951     152        white\n",
       "979     150      options\n",
       "\n",
       "[998 rows x 2 columns]"
      ]
     },
     "execution_count": 389,
     "metadata": {},
     "output_type": "execute_result"
    }
   ],
   "source": [
    "df_count"
   ]
  },
  {
   "cell_type": "code",
   "execution_count": 440,
   "id": "91aff8b7",
   "metadata": {},
   "outputs": [],
   "source": [
    "remove_list = df_count[df_count[\"count\"] >= len(x_train)*0.45][\"word\"].tolist()"
   ]
  },
  {
   "cell_type": "code",
   "execution_count": 411,
   "id": "59594759",
   "metadata": {},
   "outputs": [],
   "source": [
    "remove_list.remove('<S>')"
   ]
  },
  {
   "cell_type": "code",
   "execution_count": 412,
   "id": "4f2b5f7d",
   "metadata": {},
   "outputs": [],
   "source": [
    "remove_list2 = [word_index[i] for i in remove_list]"
   ]
  },
  {
   "cell_type": "code",
   "execution_count": 441,
   "id": "ca3d2af2",
   "metadata": {},
   "outputs": [
    {
     "data": {
      "text/plain": [
       "['of',\n",
       " 'in',\n",
       " 'said',\n",
       " 'and',\n",
       " 'a',\n",
       " 'mln',\n",
       " '3',\n",
       " 'for',\n",
       " 'vs',\n",
       " 'dlrs',\n",
       " 'it',\n",
       " '<S>',\n",
       " 'reuter',\n",
       " '000',\n",
       " 'the',\n",
       " '1',\n",
       " 'pct',\n",
       " 'on',\n",
       " 'from',\n",
       " 'is',\n",
       " 'that',\n",
       " 'its',\n",
       " 'cts',\n",
       " 'by',\n",
       " 'at',\n",
       " 'year',\n",
       " 'be',\n",
       " 'with',\n",
       " '2',\n",
       " 'will',\n",
       " 'was',\n",
       " 'billion',\n",
       " 'he',\n",
       " 'u',\n",
       " 's',\n",
       " 'net',\n",
       " 'has',\n",
       " 'would',\n",
       " 'an',\n",
       " 'as',\n",
       " 'not',\n",
       " '5',\n",
       " '4',\n",
       " 'loss']"
      ]
     },
     "execution_count": 441,
     "metadata": {},
     "output_type": "execute_result"
    }
   ],
   "source": [
    "remove_list"
   ]
  },
  {
   "cell_type": "code",
   "execution_count": null,
   "id": "92c5f592",
   "metadata": {},
   "outputs": [],
   "source": []
  },
  {
   "cell_type": "code",
   "execution_count": null,
   "id": "aa0927a5",
   "metadata": {},
   "outputs": [],
   "source": []
  },
  {
   "cell_type": "code",
   "execution_count": 442,
   "id": "12a70065",
   "metadata": {},
   "outputs": [],
   "source": [
    "x_train2 = []\n",
    "for i in x_train:\n",
    "    arr_removed = [j for j in i if j not in remove_list2 and j not in int_list]\n",
    "    x_train2.append(arr_removed)"
   ]
  },
  {
   "cell_type": "code",
   "execution_count": 443,
   "id": "2ea13d22",
   "metadata": {},
   "outputs": [],
   "source": [
    "x_test2 = []\n",
    "for i in x_test:\n",
    "    arr_removed = [j for j in i if j not in remove_list2 and j not in int_list]\n",
    "    x_test2.append(arr_removed)"
   ]
  },
  {
   "cell_type": "code",
   "execution_count": 444,
   "id": "a73447c1",
   "metadata": {},
   "outputs": [],
   "source": [
    "length2 = np.array([len(x) for x in x_train2])"
   ]
  },
  {
   "cell_type": "code",
   "execution_count": 445,
   "id": "56b3080a",
   "metadata": {},
   "outputs": [
    {
     "name": "stdout",
     "output_type": "stream",
     "text": [
      "63.276441772433756 41.0 3 1410\n"
     ]
    }
   ],
   "source": [
    "print(np.mean(length2), np.median(length2), np.min(length2), np.max(length2))"
   ]
  },
  {
   "cell_type": "code",
   "execution_count": null,
   "id": "a4e1d970",
   "metadata": {},
   "outputs": [],
   "source": []
  },
  {
   "cell_type": "markdown",
   "id": "4fb72f38",
   "metadata": {},
   "source": [
    "# 데이터 분할 및 간단한 전처리"
   ]
  },
  {
   "cell_type": "code",
   "execution_count": 447,
   "id": "c590930e",
   "metadata": {},
   "outputs": [],
   "source": [
    "x_train2, x_val, y_train, y_val = train_test_split(x_train2, y_train, test_size = 0.2, random_state = 7)"
   ]
  },
  {
   "cell_type": "code",
   "execution_count": 448,
   "id": "d809eb9f",
   "metadata": {},
   "outputs": [],
   "source": [
    "# 관습적으로는 median 값보다 약간 크게 maxlen 설정하는 것이 좋음\n",
    "train_seq = pad_sequences(x_train2, maxlen = 50, truncating = \"post\")\n",
    "val_seq = pad_sequences(x_val, maxlen = 50, truncating = \"post\")\n",
    "test_seq = pad_sequences(x_test2, maxlen = 50, truncating = \"post\")"
   ]
  },
  {
   "cell_type": "code",
   "execution_count": 449,
   "id": "36bd929a",
   "metadata": {},
   "outputs": [],
   "source": [
    "y_oh_train = keras.utils.to_categorical(y_train)\n",
    "y_oh_val = keras.utils.to_categorical(y_val)\n",
    "y_oh_test = keras.utils.to_categorical(y_test)"
   ]
  },
  {
   "cell_type": "code",
   "execution_count": null,
   "id": "28cf45ee",
   "metadata": {},
   "outputs": [],
   "source": []
  },
  {
   "cell_type": "markdown",
   "id": "2e7025f9",
   "metadata": {},
   "source": [
    "# 모델 구성"
   ]
  },
  {
   "cell_type": "code",
   "execution_count": 456,
   "id": "b0c89d69",
   "metadata": {},
   "outputs": [],
   "source": [
    "model = keras.Sequential()\n",
    "model.add(keras.layers.Embedding(1000, 100, input_shape = (50,)))\n",
    "# model.add(keras.layers.BatchNormalization())\n",
    "model.add(keras.layers.Dropout(0.5))\n",
    "model.add(keras.layers.Conv1D(64, 5, activation = \"relu\"))\n",
    "model.add(keras.layers.BatchNormalization())\n",
    "model.add(keras.layers.MaxPool1D(4))\n",
    "model.add(keras.layers.LSTM(64, dropout = 0.3, return_sequences = True))\n",
    "model.add(keras.layers.LSTM(64, dropout = 0.3))\n",
    "model.add(keras.layers.Dense(46, activation = \"softmax\"))"
   ]
  },
  {
   "cell_type": "code",
   "execution_count": 457,
   "id": "f814c763",
   "metadata": {},
   "outputs": [
    {
     "data": {
      "text/html": [
       "<pre style=\"white-space:pre;overflow-x:auto;line-height:normal;font-family:Menlo,'DejaVu Sans Mono',consolas,'Courier New',monospace\"><span style=\"font-weight: bold\">Model: \"sequential_24\"</span>\n",
       "</pre>\n"
      ],
      "text/plain": [
       "\u001b[1mModel: \"sequential_24\"\u001b[0m\n"
      ]
     },
     "metadata": {},
     "output_type": "display_data"
    },
    {
     "data": {
      "text/html": [
       "<pre style=\"white-space:pre;overflow-x:auto;line-height:normal;font-family:Menlo,'DejaVu Sans Mono',consolas,'Courier New',monospace\">┏━━━━━━━━━━━━━━━━━━━━━━━━━━━━━━━━━━━━━━┳━━━━━━━━━━━━━━━━━━━━━━━━━━━━━┳━━━━━━━━━━━━━━━━━┓\n",
       "┃<span style=\"font-weight: bold\"> Layer (type)                         </span>┃<span style=\"font-weight: bold\"> Output Shape                </span>┃<span style=\"font-weight: bold\">         Param # </span>┃\n",
       "┡━━━━━━━━━━━━━━━━━━━━━━━━━━━━━━━━━━━━━━╇━━━━━━━━━━━━━━━━━━━━━━━━━━━━━╇━━━━━━━━━━━━━━━━━┩\n",
       "│ embedding_24 (<span style=\"color: #0087ff; text-decoration-color: #0087ff\">Embedding</span>)             │ (<span style=\"color: #00d7ff; text-decoration-color: #00d7ff\">None</span>, <span style=\"color: #00af00; text-decoration-color: #00af00\">50</span>, <span style=\"color: #00af00; text-decoration-color: #00af00\">100</span>)             │         <span style=\"color: #00af00; text-decoration-color: #00af00\">100,000</span> │\n",
       "├──────────────────────────────────────┼─────────────────────────────┼─────────────────┤\n",
       "│ dropout_25 (<span style=\"color: #0087ff; text-decoration-color: #0087ff\">Dropout</span>)                 │ (<span style=\"color: #00d7ff; text-decoration-color: #00d7ff\">None</span>, <span style=\"color: #00af00; text-decoration-color: #00af00\">50</span>, <span style=\"color: #00af00; text-decoration-color: #00af00\">100</span>)             │               <span style=\"color: #00af00; text-decoration-color: #00af00\">0</span> │\n",
       "├──────────────────────────────────────┼─────────────────────────────┼─────────────────┤\n",
       "│ conv1d_24 (<span style=\"color: #0087ff; text-decoration-color: #0087ff\">Conv1D</span>)                   │ (<span style=\"color: #00d7ff; text-decoration-color: #00d7ff\">None</span>, <span style=\"color: #00af00; text-decoration-color: #00af00\">46</span>, <span style=\"color: #00af00; text-decoration-color: #00af00\">64</span>)              │          <span style=\"color: #00af00; text-decoration-color: #00af00\">32,064</span> │\n",
       "├──────────────────────────────────────┼─────────────────────────────┼─────────────────┤\n",
       "│ batch_normalization_29               │ (<span style=\"color: #00d7ff; text-decoration-color: #00d7ff\">None</span>, <span style=\"color: #00af00; text-decoration-color: #00af00\">46</span>, <span style=\"color: #00af00; text-decoration-color: #00af00\">64</span>)              │             <span style=\"color: #00af00; text-decoration-color: #00af00\">256</span> │\n",
       "│ (<span style=\"color: #0087ff; text-decoration-color: #0087ff\">BatchNormalization</span>)                 │                             │                 │\n",
       "├──────────────────────────────────────┼─────────────────────────────┼─────────────────┤\n",
       "│ max_pooling1d_24 (<span style=\"color: #0087ff; text-decoration-color: #0087ff\">MaxPooling1D</span>)      │ (<span style=\"color: #00d7ff; text-decoration-color: #00d7ff\">None</span>, <span style=\"color: #00af00; text-decoration-color: #00af00\">11</span>, <span style=\"color: #00af00; text-decoration-color: #00af00\">64</span>)              │               <span style=\"color: #00af00; text-decoration-color: #00af00\">0</span> │\n",
       "├──────────────────────────────────────┼─────────────────────────────┼─────────────────┤\n",
       "│ lstm_31 (<span style=\"color: #0087ff; text-decoration-color: #0087ff\">LSTM</span>)                       │ (<span style=\"color: #00d7ff; text-decoration-color: #00d7ff\">None</span>, <span style=\"color: #00af00; text-decoration-color: #00af00\">11</span>, <span style=\"color: #00af00; text-decoration-color: #00af00\">64</span>)              │          <span style=\"color: #00af00; text-decoration-color: #00af00\">33,024</span> │\n",
       "├──────────────────────────────────────┼─────────────────────────────┼─────────────────┤\n",
       "│ lstm_32 (<span style=\"color: #0087ff; text-decoration-color: #0087ff\">LSTM</span>)                       │ (<span style=\"color: #00d7ff; text-decoration-color: #00d7ff\">None</span>, <span style=\"color: #00af00; text-decoration-color: #00af00\">64</span>)                  │          <span style=\"color: #00af00; text-decoration-color: #00af00\">33,024</span> │\n",
       "├──────────────────────────────────────┼─────────────────────────────┼─────────────────┤\n",
       "│ dense_24 (<span style=\"color: #0087ff; text-decoration-color: #0087ff\">Dense</span>)                     │ (<span style=\"color: #00d7ff; text-decoration-color: #00d7ff\">None</span>, <span style=\"color: #00af00; text-decoration-color: #00af00\">46</span>)                  │           <span style=\"color: #00af00; text-decoration-color: #00af00\">2,990</span> │\n",
       "└──────────────────────────────────────┴─────────────────────────────┴─────────────────┘\n",
       "</pre>\n"
      ],
      "text/plain": [
       "┏━━━━━━━━━━━━━━━━━━━━━━━━━━━━━━━━━━━━━━┳━━━━━━━━━━━━━━━━━━━━━━━━━━━━━┳━━━━━━━━━━━━━━━━━┓\n",
       "┃\u001b[1m \u001b[0m\u001b[1mLayer (type)                        \u001b[0m\u001b[1m \u001b[0m┃\u001b[1m \u001b[0m\u001b[1mOutput Shape               \u001b[0m\u001b[1m \u001b[0m┃\u001b[1m \u001b[0m\u001b[1m        Param #\u001b[0m\u001b[1m \u001b[0m┃\n",
       "┡━━━━━━━━━━━━━━━━━━━━━━━━━━━━━━━━━━━━━━╇━━━━━━━━━━━━━━━━━━━━━━━━━━━━━╇━━━━━━━━━━━━━━━━━┩\n",
       "│ embedding_24 (\u001b[38;5;33mEmbedding\u001b[0m)             │ (\u001b[38;5;45mNone\u001b[0m, \u001b[38;5;34m50\u001b[0m, \u001b[38;5;34m100\u001b[0m)             │         \u001b[38;5;34m100,000\u001b[0m │\n",
       "├──────────────────────────────────────┼─────────────────────────────┼─────────────────┤\n",
       "│ dropout_25 (\u001b[38;5;33mDropout\u001b[0m)                 │ (\u001b[38;5;45mNone\u001b[0m, \u001b[38;5;34m50\u001b[0m, \u001b[38;5;34m100\u001b[0m)             │               \u001b[38;5;34m0\u001b[0m │\n",
       "├──────────────────────────────────────┼─────────────────────────────┼─────────────────┤\n",
       "│ conv1d_24 (\u001b[38;5;33mConv1D\u001b[0m)                   │ (\u001b[38;5;45mNone\u001b[0m, \u001b[38;5;34m46\u001b[0m, \u001b[38;5;34m64\u001b[0m)              │          \u001b[38;5;34m32,064\u001b[0m │\n",
       "├──────────────────────────────────────┼─────────────────────────────┼─────────────────┤\n",
       "│ batch_normalization_29               │ (\u001b[38;5;45mNone\u001b[0m, \u001b[38;5;34m46\u001b[0m, \u001b[38;5;34m64\u001b[0m)              │             \u001b[38;5;34m256\u001b[0m │\n",
       "│ (\u001b[38;5;33mBatchNormalization\u001b[0m)                 │                             │                 │\n",
       "├──────────────────────────────────────┼─────────────────────────────┼─────────────────┤\n",
       "│ max_pooling1d_24 (\u001b[38;5;33mMaxPooling1D\u001b[0m)      │ (\u001b[38;5;45mNone\u001b[0m, \u001b[38;5;34m11\u001b[0m, \u001b[38;5;34m64\u001b[0m)              │               \u001b[38;5;34m0\u001b[0m │\n",
       "├──────────────────────────────────────┼─────────────────────────────┼─────────────────┤\n",
       "│ lstm_31 (\u001b[38;5;33mLSTM\u001b[0m)                       │ (\u001b[38;5;45mNone\u001b[0m, \u001b[38;5;34m11\u001b[0m, \u001b[38;5;34m64\u001b[0m)              │          \u001b[38;5;34m33,024\u001b[0m │\n",
       "├──────────────────────────────────────┼─────────────────────────────┼─────────────────┤\n",
       "│ lstm_32 (\u001b[38;5;33mLSTM\u001b[0m)                       │ (\u001b[38;5;45mNone\u001b[0m, \u001b[38;5;34m64\u001b[0m)                  │          \u001b[38;5;34m33,024\u001b[0m │\n",
       "├──────────────────────────────────────┼─────────────────────────────┼─────────────────┤\n",
       "│ dense_24 (\u001b[38;5;33mDense\u001b[0m)                     │ (\u001b[38;5;45mNone\u001b[0m, \u001b[38;5;34m46\u001b[0m)                  │           \u001b[38;5;34m2,990\u001b[0m │\n",
       "└──────────────────────────────────────┴─────────────────────────────┴─────────────────┘\n"
      ]
     },
     "metadata": {},
     "output_type": "display_data"
    },
    {
     "data": {
      "text/html": [
       "<pre style=\"white-space:pre;overflow-x:auto;line-height:normal;font-family:Menlo,'DejaVu Sans Mono',consolas,'Courier New',monospace\"><span style=\"font-weight: bold\"> Total params: </span><span style=\"color: #00af00; text-decoration-color: #00af00\">201,358</span> (786.55 KB)\n",
       "</pre>\n"
      ],
      "text/plain": [
       "\u001b[1m Total params: \u001b[0m\u001b[38;5;34m201,358\u001b[0m (786.55 KB)\n"
      ]
     },
     "metadata": {},
     "output_type": "display_data"
    },
    {
     "data": {
      "text/html": [
       "<pre style=\"white-space:pre;overflow-x:auto;line-height:normal;font-family:Menlo,'DejaVu Sans Mono',consolas,'Courier New',monospace\"><span style=\"font-weight: bold\"> Trainable params: </span><span style=\"color: #00af00; text-decoration-color: #00af00\">201,230</span> (786.05 KB)\n",
       "</pre>\n"
      ],
      "text/plain": [
       "\u001b[1m Trainable params: \u001b[0m\u001b[38;5;34m201,230\u001b[0m (786.05 KB)\n"
      ]
     },
     "metadata": {},
     "output_type": "display_data"
    },
    {
     "data": {
      "text/html": [
       "<pre style=\"white-space:pre;overflow-x:auto;line-height:normal;font-family:Menlo,'DejaVu Sans Mono',consolas,'Courier New',monospace\"><span style=\"font-weight: bold\"> Non-trainable params: </span><span style=\"color: #00af00; text-decoration-color: #00af00\">128</span> (512.00 B)\n",
       "</pre>\n"
      ],
      "text/plain": [
       "\u001b[1m Non-trainable params: \u001b[0m\u001b[38;5;34m128\u001b[0m (512.00 B)\n"
      ]
     },
     "metadata": {},
     "output_type": "display_data"
    }
   ],
   "source": [
    "model.summary()"
   ]
  },
  {
   "cell_type": "code",
   "execution_count": 458,
   "id": "52b26ae7",
   "metadata": {},
   "outputs": [],
   "source": [
    "rmsprop = keras.optimizers.RMSprop(learning_rate = 3e-4)\n",
    "adam = keras.optimizers.Adam(learning_rate = 3e-4)\n",
    "model.compile(loss = \"categorical_crossentropy\", optimizer = rmsprop, metrics = [\"accuracy\"])\n",
    "early_stopping_cb = keras.callbacks.EarlyStopping(patience = 8, restore_best_weights = True)\n",
    "checkpoint_cb = keras.callbacks.ModelCheckpoint(\"./model/model-reuter-model.keras\", save_best_only = True)"
   ]
  },
  {
   "cell_type": "code",
   "execution_count": 459,
   "id": "3db5d239",
   "metadata": {
    "scrolled": true
   },
   "outputs": [
    {
     "name": "stdout",
     "output_type": "stream",
     "text": [
      "Epoch 1/100\n",
      "\u001b[1m225/225\u001b[0m \u001b[32m━━━━━━━━━━━━━━━━━━━━\u001b[0m\u001b[37m\u001b[0m \u001b[1m5s\u001b[0m 13ms/step - accuracy: 0.3591 - loss: 2.6967 - val_accuracy: 0.5632 - val_loss: 2.9602\n",
      "Epoch 2/100\n",
      "\u001b[1m225/225\u001b[0m \u001b[32m━━━━━━━━━━━━━━━━━━━━\u001b[0m\u001b[37m\u001b[0m \u001b[1m3s\u001b[0m 12ms/step - accuracy: 0.5501 - loss: 1.8088 - val_accuracy: 0.6060 - val_loss: 2.0032\n",
      "Epoch 3/100\n",
      "\u001b[1m225/225\u001b[0m \u001b[32m━━━━━━━━━━━━━━━━━━━━\u001b[0m\u001b[37m\u001b[0m \u001b[1m3s\u001b[0m 12ms/step - accuracy: 0.6111 - loss: 1.6143 - val_accuracy: 0.6299 - val_loss: 1.6488\n",
      "Epoch 4/100\n",
      "\u001b[1m225/225\u001b[0m \u001b[32m━━━━━━━━━━━━━━━━━━━━\u001b[0m\u001b[37m\u001b[0m \u001b[1m3s\u001b[0m 13ms/step - accuracy: 0.6400 - loss: 1.4917 - val_accuracy: 0.6578 - val_loss: 1.5020\n",
      "Epoch 5/100\n",
      "\u001b[1m225/225\u001b[0m \u001b[32m━━━━━━━━━━━━━━━━━━━━\u001b[0m\u001b[37m\u001b[0m \u001b[1m3s\u001b[0m 12ms/step - accuracy: 0.6644 - loss: 1.3971 - val_accuracy: 0.6784 - val_loss: 1.4384\n",
      "Epoch 6/100\n",
      "\u001b[1m225/225\u001b[0m \u001b[32m━━━━━━━━━━━━━━━━━━━━\u001b[0m\u001b[37m\u001b[0m \u001b[1m3s\u001b[0m 12ms/step - accuracy: 0.6873 - loss: 1.3110 - val_accuracy: 0.6939 - val_loss: 1.3992\n",
      "Epoch 7/100\n",
      "\u001b[1m225/225\u001b[0m \u001b[32m━━━━━━━━━━━━━━━━━━━━\u001b[0m\u001b[37m\u001b[0m \u001b[1m3s\u001b[0m 12ms/step - accuracy: 0.7014 - loss: 1.2334 - val_accuracy: 0.7028 - val_loss: 1.3209\n",
      "Epoch 8/100\n",
      "\u001b[1m225/225\u001b[0m \u001b[32m━━━━━━━━━━━━━━━━━━━━\u001b[0m\u001b[37m\u001b[0m \u001b[1m3s\u001b[0m 13ms/step - accuracy: 0.7126 - loss: 1.1622 - val_accuracy: 0.7084 - val_loss: 1.3188\n",
      "Epoch 9/100\n",
      "\u001b[1m225/225\u001b[0m \u001b[32m━━━━━━━━━━━━━━━━━━━━\u001b[0m\u001b[37m\u001b[0m \u001b[1m3s\u001b[0m 13ms/step - accuracy: 0.7339 - loss: 1.1310 - val_accuracy: 0.7201 - val_loss: 1.2785\n",
      "Epoch 10/100\n",
      "\u001b[1m225/225\u001b[0m \u001b[32m━━━━━━━━━━━━━━━━━━━━\u001b[0m\u001b[37m\u001b[0m \u001b[1m3s\u001b[0m 13ms/step - accuracy: 0.7461 - loss: 1.0807 - val_accuracy: 0.7340 - val_loss: 1.2257\n",
      "Epoch 11/100\n",
      "\u001b[1m225/225\u001b[0m \u001b[32m━━━━━━━━━━━━━━━━━━━━\u001b[0m\u001b[37m\u001b[0m \u001b[1m3s\u001b[0m 13ms/step - accuracy: 0.7628 - loss: 1.0009 - val_accuracy: 0.7462 - val_loss: 1.1745\n",
      "Epoch 12/100\n",
      "\u001b[1m225/225\u001b[0m \u001b[32m━━━━━━━━━━━━━━━━━━━━\u001b[0m\u001b[37m\u001b[0m \u001b[1m3s\u001b[0m 13ms/step - accuracy: 0.7626 - loss: 0.9897 - val_accuracy: 0.7518 - val_loss: 1.1648\n",
      "Epoch 13/100\n",
      "\u001b[1m225/225\u001b[0m \u001b[32m━━━━━━━━━━━━━━━━━━━━\u001b[0m\u001b[37m\u001b[0m \u001b[1m3s\u001b[0m 13ms/step - accuracy: 0.7756 - loss: 0.9635 - val_accuracy: 0.7535 - val_loss: 1.1421\n",
      "Epoch 14/100\n",
      "\u001b[1m225/225\u001b[0m \u001b[32m━━━━━━━━━━━━━━━━━━━━\u001b[0m\u001b[37m\u001b[0m \u001b[1m3s\u001b[0m 13ms/step - accuracy: 0.7856 - loss: 0.9347 - val_accuracy: 0.7629 - val_loss: 1.0872\n",
      "Epoch 15/100\n",
      "\u001b[1m225/225\u001b[0m \u001b[32m━━━━━━━━━━━━━━━━━━━━\u001b[0m\u001b[37m\u001b[0m \u001b[1m3s\u001b[0m 13ms/step - accuracy: 0.7790 - loss: 0.9214 - val_accuracy: 0.7590 - val_loss: 1.0732\n",
      "Epoch 16/100\n",
      "\u001b[1m225/225\u001b[0m \u001b[32m━━━━━━━━━━━━━━━━━━━━\u001b[0m\u001b[37m\u001b[0m \u001b[1m3s\u001b[0m 12ms/step - accuracy: 0.7852 - loss: 0.8878 - val_accuracy: 0.7652 - val_loss: 1.0678\n",
      "Epoch 17/100\n",
      "\u001b[1m225/225\u001b[0m \u001b[32m━━━━━━━━━━━━━━━━━━━━\u001b[0m\u001b[37m\u001b[0m \u001b[1m3s\u001b[0m 12ms/step - accuracy: 0.8006 - loss: 0.8359 - val_accuracy: 0.7646 - val_loss: 1.0499\n",
      "Epoch 18/100\n",
      "\u001b[1m225/225\u001b[0m \u001b[32m━━━━━━━━━━━━━━━━━━━━\u001b[0m\u001b[37m\u001b[0m \u001b[1m3s\u001b[0m 13ms/step - accuracy: 0.7992 - loss: 0.8296 - val_accuracy: 0.7718 - val_loss: 1.0399\n",
      "Epoch 19/100\n",
      "\u001b[1m225/225\u001b[0m \u001b[32m━━━━━━━━━━━━━━━━━━━━\u001b[0m\u001b[37m\u001b[0m \u001b[1m3s\u001b[0m 12ms/step - accuracy: 0.8025 - loss: 0.8327 - val_accuracy: 0.7713 - val_loss: 1.0235\n",
      "Epoch 20/100\n",
      "\u001b[1m225/225\u001b[0m \u001b[32m━━━━━━━━━━━━━━━━━━━━\u001b[0m\u001b[37m\u001b[0m \u001b[1m3s\u001b[0m 12ms/step - accuracy: 0.8011 - loss: 0.8192 - val_accuracy: 0.7696 - val_loss: 1.0405\n",
      "Epoch 21/100\n",
      "\u001b[1m225/225\u001b[0m \u001b[32m━━━━━━━━━━━━━━━━━━━━\u001b[0m\u001b[37m\u001b[0m \u001b[1m3s\u001b[0m 12ms/step - accuracy: 0.8106 - loss: 0.7981 - val_accuracy: 0.7769 - val_loss: 0.9985\n",
      "Epoch 22/100\n",
      "\u001b[1m225/225\u001b[0m \u001b[32m━━━━━━━━━━━━━━━━━━━━\u001b[0m\u001b[37m\u001b[0m \u001b[1m3s\u001b[0m 13ms/step - accuracy: 0.8228 - loss: 0.7426 - val_accuracy: 0.7785 - val_loss: 0.9935\n",
      "Epoch 23/100\n",
      "\u001b[1m225/225\u001b[0m \u001b[32m━━━━━━━━━━━━━━━━━━━━\u001b[0m\u001b[37m\u001b[0m \u001b[1m3s\u001b[0m 13ms/step - accuracy: 0.8207 - loss: 0.7548 - val_accuracy: 0.7735 - val_loss: 1.0036\n",
      "Epoch 24/100\n",
      "\u001b[1m225/225\u001b[0m \u001b[32m━━━━━━━━━━━━━━━━━━━━\u001b[0m\u001b[37m\u001b[0m \u001b[1m3s\u001b[0m 13ms/step - accuracy: 0.8262 - loss: 0.7312 - val_accuracy: 0.7741 - val_loss: 0.9876\n",
      "Epoch 25/100\n",
      "\u001b[1m225/225\u001b[0m \u001b[32m━━━━━━━━━━━━━━━━━━━━\u001b[0m\u001b[37m\u001b[0m \u001b[1m3s\u001b[0m 13ms/step - accuracy: 0.8299 - loss: 0.7286 - val_accuracy: 0.7757 - val_loss: 0.9902\n",
      "Epoch 26/100\n",
      "\u001b[1m225/225\u001b[0m \u001b[32m━━━━━━━━━━━━━━━━━━━━\u001b[0m\u001b[37m\u001b[0m \u001b[1m3s\u001b[0m 12ms/step - accuracy: 0.8290 - loss: 0.7187 - val_accuracy: 0.7785 - val_loss: 0.9896\n",
      "Epoch 27/100\n",
      "\u001b[1m225/225\u001b[0m \u001b[32m━━━━━━━━━━━━━━━━━━━━\u001b[0m\u001b[37m\u001b[0m \u001b[1m3s\u001b[0m 13ms/step - accuracy: 0.8370 - loss: 0.6859 - val_accuracy: 0.7702 - val_loss: 0.9995\n",
      "Epoch 28/100\n",
      "\u001b[1m225/225\u001b[0m \u001b[32m━━━━━━━━━━━━━━━━━━━━\u001b[0m\u001b[37m\u001b[0m \u001b[1m3s\u001b[0m 13ms/step - accuracy: 0.8459 - loss: 0.6692 - val_accuracy: 0.7774 - val_loss: 0.9840\n",
      "Epoch 29/100\n",
      "\u001b[1m225/225\u001b[0m \u001b[32m━━━━━━━━━━━━━━━━━━━━\u001b[0m\u001b[37m\u001b[0m \u001b[1m3s\u001b[0m 13ms/step - accuracy: 0.8403 - loss: 0.6658 - val_accuracy: 0.7763 - val_loss: 0.9792\n",
      "Epoch 30/100\n",
      "\u001b[1m225/225\u001b[0m \u001b[32m━━━━━━━━━━━━━━━━━━━━\u001b[0m\u001b[37m\u001b[0m \u001b[1m3s\u001b[0m 12ms/step - accuracy: 0.8412 - loss: 0.6668 - val_accuracy: 0.7802 - val_loss: 0.9824\n",
      "Epoch 31/100\n",
      "\u001b[1m225/225\u001b[0m \u001b[32m━━━━━━━━━━━━━━━━━━━━\u001b[0m\u001b[37m\u001b[0m \u001b[1m3s\u001b[0m 13ms/step - accuracy: 0.8355 - loss: 0.6931 - val_accuracy: 0.7807 - val_loss: 0.9661\n",
      "Epoch 32/100\n",
      "\u001b[1m225/225\u001b[0m \u001b[32m━━━━━━━━━━━━━━━━━━━━\u001b[0m\u001b[37m\u001b[0m \u001b[1m3s\u001b[0m 13ms/step - accuracy: 0.8457 - loss: 0.6667 - val_accuracy: 0.7880 - val_loss: 0.9575\n",
      "Epoch 33/100\n",
      "\u001b[1m225/225\u001b[0m \u001b[32m━━━━━━━━━━━━━━━━━━━━\u001b[0m\u001b[37m\u001b[0m \u001b[1m3s\u001b[0m 12ms/step - accuracy: 0.8509 - loss: 0.6304 - val_accuracy: 0.7813 - val_loss: 0.9590\n",
      "Epoch 34/100\n",
      "\u001b[1m225/225\u001b[0m \u001b[32m━━━━━━━━━━━━━━━━━━━━\u001b[0m\u001b[37m\u001b[0m \u001b[1m3s\u001b[0m 12ms/step - accuracy: 0.8458 - loss: 0.6477 - val_accuracy: 0.7819 - val_loss: 0.9685\n",
      "Epoch 35/100\n",
      "\u001b[1m225/225\u001b[0m \u001b[32m━━━━━━━━━━━━━━━━━━━━\u001b[0m\u001b[37m\u001b[0m \u001b[1m3s\u001b[0m 13ms/step - accuracy: 0.8396 - loss: 0.6461 - val_accuracy: 0.7852 - val_loss: 0.9456\n",
      "Epoch 36/100\n",
      "\u001b[1m225/225\u001b[0m \u001b[32m━━━━━━━━━━━━━━━━━━━━\u001b[0m\u001b[37m\u001b[0m \u001b[1m3s\u001b[0m 12ms/step - accuracy: 0.8398 - loss: 0.6608 - val_accuracy: 0.7846 - val_loss: 0.9461\n",
      "Epoch 37/100\n",
      "\u001b[1m225/225\u001b[0m \u001b[32m━━━━━━━━━━━━━━━━━━━━\u001b[0m\u001b[37m\u001b[0m \u001b[1m3s\u001b[0m 13ms/step - accuracy: 0.8433 - loss: 0.6299 - val_accuracy: 0.7819 - val_loss: 0.9614\n",
      "Epoch 38/100\n",
      "\u001b[1m225/225\u001b[0m \u001b[32m━━━━━━━━━━━━━━━━━━━━\u001b[0m\u001b[37m\u001b[0m \u001b[1m3s\u001b[0m 13ms/step - accuracy: 0.8563 - loss: 0.5982 - val_accuracy: 0.7819 - val_loss: 0.9630\n",
      "Epoch 39/100\n",
      "\u001b[1m225/225\u001b[0m \u001b[32m━━━━━━━━━━━━━━━━━━━━\u001b[0m\u001b[37m\u001b[0m \u001b[1m3s\u001b[0m 13ms/step - accuracy: 0.8566 - loss: 0.6239 - val_accuracy: 0.7919 - val_loss: 0.9460\n",
      "Epoch 40/100\n",
      "\u001b[1m225/225\u001b[0m \u001b[32m━━━━━━━━━━━━━━━━━━━━\u001b[0m\u001b[37m\u001b[0m \u001b[1m3s\u001b[0m 12ms/step - accuracy: 0.8567 - loss: 0.6015 - val_accuracy: 0.7813 - val_loss: 0.9714\n",
      "Epoch 41/100\n",
      "\u001b[1m225/225\u001b[0m \u001b[32m━━━━━━━━━━━━━━━━━━━━\u001b[0m\u001b[37m\u001b[0m \u001b[1m3s\u001b[0m 13ms/step - accuracy: 0.8578 - loss: 0.5885 - val_accuracy: 0.7841 - val_loss: 0.9614\n",
      "Epoch 42/100\n",
      "\u001b[1m225/225\u001b[0m \u001b[32m━━━━━━━━━━━━━━━━━━━━\u001b[0m\u001b[37m\u001b[0m \u001b[1m3s\u001b[0m 12ms/step - accuracy: 0.8620 - loss: 0.5809 - val_accuracy: 0.7852 - val_loss: 0.9689\n",
      "Epoch 43/100\n",
      "\u001b[1m225/225\u001b[0m \u001b[32m━━━━━━━━━━━━━━━━━━━━\u001b[0m\u001b[37m\u001b[0m \u001b[1m3s\u001b[0m 13ms/step - accuracy: 0.8659 - loss: 0.5596 - val_accuracy: 0.7880 - val_loss: 0.9437\n",
      "Epoch 44/100\n",
      "\u001b[1m225/225\u001b[0m \u001b[32m━━━━━━━━━━━━━━━━━━━━\u001b[0m\u001b[37m\u001b[0m \u001b[1m3s\u001b[0m 12ms/step - accuracy: 0.8587 - loss: 0.5850 - val_accuracy: 0.7880 - val_loss: 0.9588\n",
      "Epoch 45/100\n",
      "\u001b[1m225/225\u001b[0m \u001b[32m━━━━━━━━━━━━━━━━━━━━\u001b[0m\u001b[37m\u001b[0m \u001b[1m3s\u001b[0m 13ms/step - accuracy: 0.8515 - loss: 0.6093 - val_accuracy: 0.7941 - val_loss: 0.9364\n",
      "Epoch 46/100\n",
      "\u001b[1m225/225\u001b[0m \u001b[32m━━━━━━━━━━━━━━━━━━━━\u001b[0m\u001b[37m\u001b[0m \u001b[1m3s\u001b[0m 13ms/step - accuracy: 0.8628 - loss: 0.5864 - val_accuracy: 0.7807 - val_loss: 0.9573\n",
      "Epoch 47/100\n",
      "\u001b[1m225/225\u001b[0m \u001b[32m━━━━━━━━━━━━━━━━━━━━\u001b[0m\u001b[37m\u001b[0m \u001b[1m3s\u001b[0m 13ms/step - accuracy: 0.8608 - loss: 0.5611 - val_accuracy: 0.7824 - val_loss: 0.9540\n",
      "Epoch 48/100\n",
      "\u001b[1m225/225\u001b[0m \u001b[32m━━━━━━━━━━━━━━━━━━━━\u001b[0m\u001b[37m\u001b[0m \u001b[1m3s\u001b[0m 13ms/step - accuracy: 0.8611 - loss: 0.5785 - val_accuracy: 0.7924 - val_loss: 0.9436\n",
      "Epoch 49/100\n",
      "\u001b[1m225/225\u001b[0m \u001b[32m━━━━━━━━━━━━━━━━━━━━\u001b[0m\u001b[37m\u001b[0m \u001b[1m3s\u001b[0m 13ms/step - accuracy: 0.8667 - loss: 0.5569 - val_accuracy: 0.7863 - val_loss: 0.9440\n",
      "Epoch 50/100\n"
     ]
    },
    {
     "name": "stdout",
     "output_type": "stream",
     "text": [
      "\u001b[1m225/225\u001b[0m \u001b[32m━━━━━━━━━━━━━━━━━━━━\u001b[0m\u001b[37m\u001b[0m \u001b[1m3s\u001b[0m 12ms/step - accuracy: 0.8615 - loss: 0.5673 - val_accuracy: 0.7913 - val_loss: 0.9441\n",
      "Epoch 51/100\n",
      "\u001b[1m225/225\u001b[0m \u001b[32m━━━━━━━━━━━━━━━━━━━━\u001b[0m\u001b[37m\u001b[0m \u001b[1m3s\u001b[0m 13ms/step - accuracy: 0.8719 - loss: 0.5454 - val_accuracy: 0.7874 - val_loss: 0.9331\n",
      "Epoch 52/100\n",
      "\u001b[1m225/225\u001b[0m \u001b[32m━━━━━━━━━━━━━━━━━━━━\u001b[0m\u001b[37m\u001b[0m \u001b[1m3s\u001b[0m 14ms/step - accuracy: 0.8728 - loss: 0.5254 - val_accuracy: 0.7885 - val_loss: 0.9222\n",
      "Epoch 53/100\n",
      "\u001b[1m225/225\u001b[0m \u001b[32m━━━━━━━━━━━━━━━━━━━━\u001b[0m\u001b[37m\u001b[0m \u001b[1m3s\u001b[0m 12ms/step - accuracy: 0.8590 - loss: 0.5501 - val_accuracy: 0.7858 - val_loss: 0.9327\n",
      "Epoch 54/100\n",
      "\u001b[1m225/225\u001b[0m \u001b[32m━━━━━━━━━━━━━━━━━━━━\u001b[0m\u001b[37m\u001b[0m \u001b[1m3s\u001b[0m 13ms/step - accuracy: 0.8735 - loss: 0.5298 - val_accuracy: 0.7858 - val_loss: 0.9382\n",
      "Epoch 55/100\n",
      "\u001b[1m225/225\u001b[0m \u001b[32m━━━━━━━━━━━━━━━━━━━━\u001b[0m\u001b[37m\u001b[0m \u001b[1m3s\u001b[0m 13ms/step - accuracy: 0.8704 - loss: 0.5389 - val_accuracy: 0.7908 - val_loss: 0.9196\n",
      "Epoch 56/100\n",
      "\u001b[1m225/225\u001b[0m \u001b[32m━━━━━━━━━━━━━━━━━━━━\u001b[0m\u001b[37m\u001b[0m \u001b[1m3s\u001b[0m 13ms/step - accuracy: 0.8742 - loss: 0.5305 - val_accuracy: 0.7902 - val_loss: 0.9377\n",
      "Epoch 57/100\n",
      "\u001b[1m225/225\u001b[0m \u001b[32m━━━━━━━━━━━━━━━━━━━━\u001b[0m\u001b[37m\u001b[0m \u001b[1m3s\u001b[0m 12ms/step - accuracy: 0.8717 - loss: 0.5198 - val_accuracy: 0.7935 - val_loss: 0.9264\n",
      "Epoch 58/100\n",
      "\u001b[1m225/225\u001b[0m \u001b[32m━━━━━━━━━━━━━━━━━━━━\u001b[0m\u001b[37m\u001b[0m \u001b[1m3s\u001b[0m 12ms/step - accuracy: 0.8726 - loss: 0.5328 - val_accuracy: 0.7913 - val_loss: 0.9321\n",
      "Epoch 59/100\n",
      "\u001b[1m225/225\u001b[0m \u001b[32m━━━━━━━━━━━━━━━━━━━━\u001b[0m\u001b[37m\u001b[0m \u001b[1m3s\u001b[0m 12ms/step - accuracy: 0.8656 - loss: 0.5296 - val_accuracy: 0.7941 - val_loss: 0.9179\n",
      "Epoch 60/100\n",
      "\u001b[1m225/225\u001b[0m \u001b[32m━━━━━━━━━━━━━━━━━━━━\u001b[0m\u001b[37m\u001b[0m \u001b[1m3s\u001b[0m 13ms/step - accuracy: 0.8749 - loss: 0.5159 - val_accuracy: 0.7869 - val_loss: 0.9439\n",
      "Epoch 61/100\n",
      "\u001b[1m225/225\u001b[0m \u001b[32m━━━━━━━━━━━━━━━━━━━━\u001b[0m\u001b[37m\u001b[0m \u001b[1m3s\u001b[0m 13ms/step - accuracy: 0.8805 - loss: 0.5052 - val_accuracy: 0.7869 - val_loss: 0.9378\n",
      "Epoch 62/100\n",
      "\u001b[1m225/225\u001b[0m \u001b[32m━━━━━━━━━━━━━━━━━━━━\u001b[0m\u001b[37m\u001b[0m \u001b[1m3s\u001b[0m 12ms/step - accuracy: 0.8799 - loss: 0.5118 - val_accuracy: 0.7863 - val_loss: 0.9407\n",
      "Epoch 63/100\n",
      "\u001b[1m225/225\u001b[0m \u001b[32m━━━━━━━━━━━━━━━━━━━━\u001b[0m\u001b[37m\u001b[0m \u001b[1m3s\u001b[0m 12ms/step - accuracy: 0.8858 - loss: 0.4799 - val_accuracy: 0.7807 - val_loss: 0.9349\n",
      "Epoch 64/100\n",
      "\u001b[1m225/225\u001b[0m \u001b[32m━━━━━━━━━━━━━━━━━━━━\u001b[0m\u001b[37m\u001b[0m \u001b[1m3s\u001b[0m 12ms/step - accuracy: 0.8744 - loss: 0.4894 - val_accuracy: 0.7841 - val_loss: 0.9427\n",
      "Epoch 65/100\n",
      "\u001b[1m225/225\u001b[0m \u001b[32m━━━━━━━━━━━━━━━━━━━━\u001b[0m\u001b[37m\u001b[0m \u001b[1m3s\u001b[0m 12ms/step - accuracy: 0.8725 - loss: 0.5097 - val_accuracy: 0.7835 - val_loss: 0.9486\n",
      "Epoch 66/100\n",
      "\u001b[1m225/225\u001b[0m \u001b[32m━━━━━━━━━━━━━━━━━━━━\u001b[0m\u001b[37m\u001b[0m \u001b[1m3s\u001b[0m 13ms/step - accuracy: 0.8887 - loss: 0.4742 - val_accuracy: 0.7835 - val_loss: 0.9377\n",
      "Epoch 67/100\n",
      "\u001b[1m225/225\u001b[0m \u001b[32m━━━━━━━━━━━━━━━━━━━━\u001b[0m\u001b[37m\u001b[0m \u001b[1m3s\u001b[0m 13ms/step - accuracy: 0.8869 - loss: 0.4685 - val_accuracy: 0.7813 - val_loss: 0.9424\n"
     ]
    }
   ],
   "source": [
    "history = model.fit(train_seq, y_oh_train, batch_size = 32, epochs = 100,\n",
    "                   validation_data = (val_seq, y_oh_val),\n",
    "                   callbacks = [checkpoint_cb, early_stopping_cb])"
   ]
  },
  {
   "cell_type": "code",
   "execution_count": 460,
   "id": "dff1bec4",
   "metadata": {},
   "outputs": [
    {
     "name": "stdout",
     "output_type": "stream",
     "text": [
      "\u001b[1m71/71\u001b[0m \u001b[32m━━━━━━━━━━━━━━━━━━━━\u001b[0m\u001b[37m\u001b[0m \u001b[1m0s\u001b[0m 4ms/step - accuracy: 0.7904 - loss: 0.9336\n"
     ]
    },
    {
     "data": {
      "text/plain": [
       "[0.9559158682823181, 0.7836152911186218]"
      ]
     },
     "execution_count": 460,
     "metadata": {},
     "output_type": "execute_result"
    }
   ],
   "source": [
    "model.evaluate(test_seq, y_oh_test)"
   ]
  },
  {
   "cell_type": "code",
   "execution_count": 461,
   "id": "03c21e14",
   "metadata": {},
   "outputs": [
    {
     "data": {
      "image/png": "[encoded data removed]",
      "text/plain": [
       "<Figure size 640x480 with 1 Axes>"
      ]
     },
     "metadata": {},
     "output_type": "display_data"
    }
   ],
   "source": [
    "plt.figure()\n",
    "\n",
    "plt.plot(history.history[\"loss\"], label = \"loss\")\n",
    "plt.plot(history.history[\"accuracy\"], label = \"acc\")\n",
    "plt.plot(history.history[\"val_loss\"], label = \"val_loss\")\n",
    "plt.plot(history.history[\"val_accuracy\"], label = \"val_acc\")\n",
    "\n",
    "plt.legend((\"train_loss\", \"train_acc\", \"val_loss\", \"val_acc\"))\n",
    "plt.xlabel(\"epoch\")\n",
    "plt.show()"
   ]
  },
  {
   "cell_type": "code",
   "execution_count": null,
   "id": "51581804",
   "metadata": {},
   "outputs": [],
   "source": []
  },
  {
   "cell_type": "code",
   "execution_count": 126,
   "id": "2d183438",
   "metadata": {},
   "outputs": [
    {
     "name": "stdout",
     "output_type": "stream",
     "text": [
      "\u001b[1m71/71\u001b[0m \u001b[32m━━━━━━━━━━━━━━━━━━━━\u001b[0m\u001b[37m\u001b[0m \u001b[1m0s\u001b[0m 7ms/step - accuracy: 0.8136 - loss: 0.8399\n"
     ]
    },
    {
     "data": {
      "text/plain": [
       "[0.8693490624427795, 0.809884250164032]"
      ]
     },
     "execution_count": 126,
     "metadata": {},
     "output_type": "execute_result"
    }
   ],
   "source": [
    "# 이성적인 현대인의 박제 버전\n",
    "model.evaluate(test_seq, y_oh_test)"
   ]
  },
  {
   "cell_type": "code",
   "execution_count": null,
   "id": "bf018959",
   "metadata": {},
   "outputs": [],
   "source": []
  },
  {
   "cell_type": "code",
   "execution_count": 798,
   "id": "a89a06f7",
   "metadata": {},
   "outputs": [
    {
     "name": "stdout",
     "output_type": "stream",
     "text": [
      "\u001b[1m71/71\u001b[0m \u001b[32m━━━━━━━━━━━━━━━━━━━━\u001b[0m\u001b[37m\u001b[0m \u001b[1m0s\u001b[0m 6ms/step - accuracy: 0.8192 - loss: 0.8150\n"
     ]
    },
    {
     "data": {
      "text/plain": [
       "[0.8332313299179077, 0.8152270913124084]"
      ]
     },
     "execution_count": 798,
     "metadata": {},
     "output_type": "execute_result"
    }
   ],
   "source": [
    "# 최종박제 이거 왜 계속 갱신됨...? 원시인의 불 버전\n",
    "model.evaluate(test_seq, y_oh_test)"
   ]
  },
  {
   "cell_type": "code",
   "execution_count": null,
   "id": "0b13b93e",
   "metadata": {},
   "outputs": [],
   "source": []
  },
  {
   "cell_type": "code",
   "execution_count": 55,
   "id": "fb831e2e",
   "metadata": {},
   "outputs": [],
   "source": [
    "# 강사님 취향\n",
    "model = keras.Sequential()\n",
    "model.add(keras.layers.Embedding(1000, 100, input_shape = (150,)))\n",
    "model.add(keras.layers.Dropout(0.5))\n",
    "model.add(keras.layers.Conv1D(64, 5, activation = \"relu\"))\n",
    "model.add(keras.layers.BatchNormalization())\n",
    "model.add(keras.layers.MaxPool1D(4))\n",
    "model.add(keras.layers.LSTM(128, dropout = 0.5))\n",
    "model.add(keras.layers.Dropout(0.5))\n",
    "model.add(keras.layers.Dense(46, activation = \"softmax\"))"
   ]
  },
  {
   "cell_type": "code",
   "execution_count": null,
   "id": "c9a5cf15",
   "metadata": {},
   "outputs": [],
   "source": []
  },
  {
   "cell_type": "code",
   "execution_count": null,
   "id": "51b26fcc",
   "metadata": {},
   "outputs": [],
   "source": []
  },
  {
   "cell_type": "code",
   "execution_count": null,
   "id": "8551663d",
   "metadata": {},
   "outputs": [],
   "source": []
  },
  {
   "cell_type": "code",
   "execution_count": null,
   "id": "e3d93344",
   "metadata": {},
   "outputs": [],
   "source": []
  },
  {
   "cell_type": "code",
   "execution_count": null,
   "id": "20b9aec5",
   "metadata": {},
   "outputs": [],
   "source": []
  },
  {
   "cell_type": "code",
   "execution_count": null,
   "id": "b51b9748",
   "metadata": {},
   "outputs": [],
   "source": []
  },
  {
   "cell_type": "code",
   "execution_count": null,
   "id": "b5bb3e95",
   "metadata": {},
   "outputs": [],
   "source": []
  },
  {
   "cell_type": "code",
   "execution_count": null,
   "id": "8bc77524",
   "metadata": {},
   "outputs": [],
   "source": []
  },
  {
   "cell_type": "code",
   "execution_count": null,
   "id": "fdc3dbd3",
   "metadata": {},
   "outputs": [],
   "source": []
  },
  {
   "cell_type": "code",
   "execution_count": null,
   "id": "aa423cfe",
   "metadata": {},
   "outputs": [],
   "source": []
  },
  {
   "cell_type": "code",
   "execution_count": null,
   "id": "335d60e0",
   "metadata": {},
   "outputs": [],
   "source": []
  },
  {
   "cell_type": "code",
   "execution_count": null,
   "id": "f19a1f59",
   "metadata": {},
   "outputs": [],
   "source": []
  },
  {
   "cell_type": "code",
   "execution_count": null,
   "id": "0796427a",
   "metadata": {},
   "outputs": [],
   "source": []
  }
 ],
 "metadata": {
  "kernelspec": {
   "display_name": "Python 3 (ipykernel)",
   "language": "python",
   "name": "python3"
  },
  "language_info": {
   "codemirror_mode": {
    "name": "ipython",
    "version": 3
   },
   "file_extension": ".py",
   "mimetype": "text/x-python",
   "name": "python",
   "nbconvert_exporter": "python",
   "pygments_lexer": "ipython3",
   "version": "3.11.5"
  }
 },
 "nbformat": 4,
 "nbformat_minor": 5
}
