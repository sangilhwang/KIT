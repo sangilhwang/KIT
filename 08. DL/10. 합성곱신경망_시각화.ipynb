{
 "cells": [
  {
   "cell_type": "code",
   "execution_count": 1,
   "id": "c23ffb66",
   "metadata": {},
   "outputs": [],
   "source": [
    "from tensorflow import keras\n",
    "import matplotlib.pyplot as plt"
   ]
  },
  {
   "cell_type": "markdown",
   "id": "72031d6f",
   "metadata": {},
   "source": [
    "# 필터의 가중치\n",
    "\n",
    "- 입력 이미지의 2차원 영역에 적용되어 어떤 특징을 크게 두드러지게 표현하는 역할\n",
    "    - 예) 물건의 테두리같은 특징적인 부분의 가중치는 높고 그 외 영역은 가중치가 낮게"
   ]
  },
  {
   "cell_type": "code",
   "execution_count": 3,
   "id": "61befcd2",
   "metadata": {},
   "outputs": [],
   "source": [
    "# 저장해둔 CNN 모델 불러오기\n",
    "model = keras.models.load_model(\"./model/best-cnn-model.keras\")"
   ]
  },
  {
   "cell_type": "code",
   "execution_count": 4,
   "id": "ab6226f8",
   "metadata": {},
   "outputs": [
    {
     "data": {
      "text/plain": [
       "[<Conv2D name=conv2d, built=True>,\n",
       " <MaxPooling2D name=max_pooling2d, built=True>,\n",
       " <Conv2D name=conv2d_1, built=True>,\n",
       " <MaxPooling2D name=max_pooling2d_1, built=True>,\n",
       " <Flatten name=flatten, built=True>,\n",
       " <Dense name=dense, built=True>,\n",
       " <Dropout name=dropout, built=True>,\n",
       " <Dense name=dense_1, built=True>]"
      ]
     },
     "execution_count": 4,
     "metadata": {},
     "output_type": "execute_result"
    }
   ],
   "source": [
    "model.layers"
   ]
  },
  {
   "cell_type": "code",
   "execution_count": 5,
   "id": "8c734d19",
   "metadata": {},
   "outputs": [],
   "source": [
    "# 첫 번째 합성곱 층의 가중치 확인\n",
    "conv = model.layers[0]"
   ]
  },
  {
   "cell_type": "code",
   "execution_count": 12,
   "id": "633f2d51",
   "metadata": {},
   "outputs": [
    {
     "data": {
      "text/plain": [
       "<tf.Tensor: shape=(3, 1, 32), dtype=float32, numpy=\n",
       "array([[[-1.83902248e-05,  9.33943242e-02,  1.41836092e-01,\n",
       "         -1.97495818e-01, -9.82020423e-02,  1.08533114e-01,\n",
       "          3.09510976e-02,  2.41920814e-01, -1.38823807e-01,\n",
       "         -7.63700693e-04,  1.01136453e-01,  1.54547960e-01,\n",
       "          1.81356773e-01,  1.40534705e-02,  2.11521655e-01,\n",
       "          6.26470968e-02, -7.17332214e-02,  1.37281388e-01,\n",
       "         -1.32977813e-01,  4.76686619e-02, -4.28751111e-02,\n",
       "         -2.36491293e-01,  2.24927187e-01, -2.80358166e-01,\n",
       "          2.88253099e-01,  2.31783241e-01,  8.67719129e-02,\n",
       "         -2.94104397e-01, -1.41434774e-01, -1.65610850e-01,\n",
       "          3.73359732e-02,  7.24064857e-02]],\n",
       "\n",
       "       [[ 4.93518747e-02, -5.89621179e-02,  2.10714310e-01,\n",
       "          3.08034029e-02,  1.38062209e-01, -4.77109969e-01,\n",
       "         -1.79501101e-01, -2.20895350e-01,  3.22598279e-01,\n",
       "         -1.42405391e-01, -2.66225636e-01, -7.45617077e-02,\n",
       "          4.37266789e-02, -6.61058187e-01, -4.54082996e-01,\n",
       "          1.44377738e-01, -8.65330994e-02,  1.69111043e-01,\n",
       "         -4.84314382e-01,  2.77094007e-01, -7.90007487e-02,\n",
       "          3.10116440e-01, -2.11214408e-01, -2.23764017e-01,\n",
       "          1.22229017e-01,  1.94534734e-01,  7.44809881e-02,\n",
       "          8.10162257e-03, -2.15321463e-02,  3.66683841e-01,\n",
       "         -2.10492499e-02, -5.87254937e-04]],\n",
       "\n",
       "       [[ 2.81062156e-01, -2.90045023e-01,  4.65090610e-02,\n",
       "         -2.63482958e-01,  3.74451578e-02, -7.96452701e-01,\n",
       "         -6.31908625e-02, -3.09791058e-01, -1.65462434e-01,\n",
       "          1.70601323e-01,  4.47754562e-02, -1.10469840e-01,\n",
       "         -9.21692885e-03,  3.91542047e-01, -2.27989718e-01,\n",
       "         -1.64850533e-01, -1.58537645e-02, -2.59912789e-01,\n",
       "         -2.88870633e-01, -1.41501322e-01, -7.51894042e-02,\n",
       "         -8.37195888e-02, -3.01348478e-01, -5.34303822e-02,\n",
       "          1.67799428e-01,  4.02033985e-01,  6.68741837e-02,\n",
       "          1.52460098e-01,  2.12841749e-01, -2.08461970e-01,\n",
       "         -1.13292105e-01,  6.37966096e-02]]], dtype=float32)>"
      ]
     },
     "execution_count": 12,
     "metadata": {},
     "output_type": "execute_result"
    }
   ],
   "source": [
    "conv.weights[0][0]"
   ]
  },
  {
   "cell_type": "markdown",
   "id": "f4d69e31",
   "metadata": {},
   "source": [
    "- conv.weights[0]\n",
    "    - 가중치\n",
    "    - 가중치의 크기\n",
    "        - 커널의 크기 : (3, 3, 1)\n",
    "        - 필터의 개수 : 32\n",
    "        \n",
    "- conv.weights[1]\n",
    "    - 절편의 개수 = 필터의 개수"
   ]
  },
  {
   "cell_type": "code",
   "execution_count": 13,
   "id": "38aa86fa",
   "metadata": {},
   "outputs": [
    {
     "data": {
      "text/plain": [
       "array([[[[-1.83902248e-05,  9.33943242e-02,  1.41836092e-01,\n",
       "          -1.97495818e-01, -9.82020423e-02,  1.08533114e-01,\n",
       "           3.09510976e-02,  2.41920814e-01, -1.38823807e-01,\n",
       "          -7.63700693e-04,  1.01136453e-01,  1.54547960e-01,\n",
       "           1.81356773e-01,  1.40534705e-02,  2.11521655e-01,\n",
       "           6.26470968e-02, -7.17332214e-02,  1.37281388e-01,\n",
       "          -1.32977813e-01,  4.76686619e-02, -4.28751111e-02,\n",
       "          -2.36491293e-01,  2.24927187e-01, -2.80358166e-01,\n",
       "           2.88253099e-01,  2.31783241e-01,  8.67719129e-02,\n",
       "          -2.94104397e-01, -1.41434774e-01, -1.65610850e-01,\n",
       "           3.73359732e-02,  7.24064857e-02]],\n",
       "\n",
       "        [[ 4.93518747e-02, -5.89621179e-02,  2.10714310e-01,\n",
       "           3.08034029e-02,  1.38062209e-01, -4.77109969e-01,\n",
       "          -1.79501101e-01, -2.20895350e-01,  3.22598279e-01,\n",
       "          -1.42405391e-01, -2.66225636e-01, -7.45617077e-02,\n",
       "           4.37266789e-02, -6.61058187e-01, -4.54082996e-01,\n",
       "           1.44377738e-01, -8.65330994e-02,  1.69111043e-01,\n",
       "          -4.84314382e-01,  2.77094007e-01, -7.90007487e-02,\n",
       "           3.10116440e-01, -2.11214408e-01, -2.23764017e-01,\n",
       "           1.22229017e-01,  1.94534734e-01,  7.44809881e-02,\n",
       "           8.10162257e-03, -2.15321463e-02,  3.66683841e-01,\n",
       "          -2.10492499e-02, -5.87254937e-04]],\n",
       "\n",
       "        [[ 2.81062156e-01, -2.90045023e-01,  4.65090610e-02,\n",
       "          -2.63482958e-01,  3.74451578e-02, -7.96452701e-01,\n",
       "          -6.31908625e-02, -3.09791058e-01, -1.65462434e-01,\n",
       "           1.70601323e-01,  4.47754562e-02, -1.10469840e-01,\n",
       "          -9.21692885e-03,  3.91542047e-01, -2.27989718e-01,\n",
       "          -1.64850533e-01, -1.58537645e-02, -2.59912789e-01,\n",
       "          -2.88870633e-01, -1.41501322e-01, -7.51894042e-02,\n",
       "          -8.37195888e-02, -3.01348478e-01, -5.34303822e-02,\n",
       "           1.67799428e-01,  4.02033985e-01,  6.68741837e-02,\n",
       "           1.52460098e-01,  2.12841749e-01, -2.08461970e-01,\n",
       "          -1.13292105e-01,  6.37966096e-02]]],\n",
       "\n",
       "\n",
       "       [[[ 1.01410322e-01,  6.42143637e-02,  1.36539936e-01,\n",
       "           2.57140826e-02, -2.34631434e-01,  1.63375482e-01,\n",
       "          -2.77451873e-01,  1.87818706e-01, -1.55285731e-01,\n",
       "           7.26949871e-02, -2.43849710e-01,  3.37406188e-01,\n",
       "           5.10634519e-02,  1.96160730e-02,  2.37819433e-01,\n",
       "          -9.25673991e-02, -7.36500621e-02,  2.79511154e-01,\n",
       "           9.60317031e-02, -8.93132314e-02, -1.07634842e-01,\n",
       "           3.37822028e-02,  3.62119108e-01,  2.04749867e-01,\n",
       "          -3.34652103e-02, -1.55120000e-01, -3.74133550e-02,\n",
       "           2.27349922e-01, -4.14187074e-01,  1.16282605e-01,\n",
       "          -1.69936828e-02,  9.95221548e-03]],\n",
       "\n",
       "        [[ 2.14384601e-01,  2.81207412e-01, -9.87900048e-02,\n",
       "           3.81510168e-01,  3.26930016e-01,  2.91207761e-01,\n",
       "           2.47715026e-01,  1.29917234e-01,  1.34005576e-01,\n",
       "          -3.92842561e-01, -3.33964592e-03, -3.20747793e-01,\n",
       "          -9.22598969e-03, -1.36882293e+00, -2.61682361e-01,\n",
       "           1.92438185e-01, -1.09722130e-02,  9.29671824e-02,\n",
       "          -1.97716728e-01, -1.56192086e-03, -2.71617919e-02,\n",
       "           4.52022970e-01, -2.67636567e-01,  1.56414464e-01,\n",
       "           1.78112224e-01, -2.60624945e-01,  3.39658931e-02,\n",
       "           2.98388869e-01, -2.58927085e-02, -1.34309575e-01,\n",
       "           2.50345618e-02, -2.92711645e-01]],\n",
       "\n",
       "        [[-1.63008884e-01,  7.71956518e-02, -1.29799917e-01,\n",
       "           1.62592351e-01, -1.67912304e-01, -2.02651992e-01,\n",
       "           1.94896564e-01,  5.14226668e-02,  5.71401380e-02,\n",
       "           3.07247221e-01,  2.44368911e-01,  7.30331913e-02,\n",
       "           1.77594144e-02, -2.64557034e-01,  1.73800424e-01,\n",
       "           1.58735469e-01, -1.28803805e-01, -3.77007097e-01,\n",
       "           1.82296783e-01, -5.09582043e-01, -1.69950128e-02,\n",
       "          -4.06315356e-01, -1.89340836e-03,  1.01994775e-01,\n",
       "           1.16888814e-01, -1.39623374e-01,  1.07427470e-01,\n",
       "          -9.69642475e-02,  3.60854238e-01,  2.76634693e-02,\n",
       "           7.23931640e-02,  3.55336010e-01]]],\n",
       "\n",
       "\n",
       "       [[[ 2.72318125e-01, -1.77596644e-01,  3.91184874e-02,\n",
       "          -1.02734335e-01,  2.11017253e-03, -2.46450454e-02,\n",
       "          -2.07350954e-01, -4.68281657e-01, -2.21443713e-01,\n",
       "           3.55570018e-02,  1.27735510e-01,  2.49226689e-01,\n",
       "          -1.60539955e-01,  4.02108073e-01, -8.70505497e-02,\n",
       "          -2.18496144e-01, -1.16075523e-01,  1.47433564e-01,\n",
       "           1.92446262e-01,  1.38148934e-01, -7.19409660e-02,\n",
       "           2.60539472e-01,  2.53596306e-01,  1.74293846e-01,\n",
       "          -3.39478165e-01,  8.15824717e-02,  1.36911431e-02,\n",
       "           6.80137500e-02, -2.63376951e-01, -1.85377002e-01,\n",
       "          -1.03453718e-01, -2.28024140e-01]],\n",
       "\n",
       "        [[-2.20407054e-01, -1.84020456e-02, -1.82422146e-01,\n",
       "           1.97402611e-01,  1.83236331e-01,  1.31162986e-01,\n",
       "           3.98722887e-01,  1.05937093e-01, -1.67697325e-01,\n",
       "          -2.96610475e-01,  2.45842770e-01, -1.93424523e-01,\n",
       "           1.99417368e-01, -3.35959911e-01, -1.03099830e-01,\n",
       "          -2.31822267e-01, -2.56843548e-02,  2.38980707e-02,\n",
       "           3.00712943e-01,  1.19742982e-01, -9.48181078e-02,\n",
       "           8.69095922e-02,  5.57553433e-02,  1.70657396e-01,\n",
       "          -9.37958881e-02, -4.28182095e-01,  9.18316171e-02,\n",
       "          -3.12076658e-01,  1.56643063e-01, -2.09027380e-01,\n",
       "          -7.02503771e-02, -1.96828246e-01]],\n",
       "\n",
       "        [[-3.32462460e-01,  6.95221173e-03,  4.15943703e-03,\n",
       "          -2.92922854e-01, -1.33013695e-01,  1.81523696e-01,\n",
       "          -1.15968533e-01,  2.52220720e-01,  3.92318279e-01,\n",
       "           2.42403805e-01, -3.34831744e-01, -6.47334531e-02,\n",
       "           1.30853370e-01,  2.95726173e-02,  1.78649887e-01,\n",
       "           2.57120401e-01, -2.05168244e-03, -1.90846711e-01,\n",
       "           2.84328371e-01,  1.77962556e-01, -5.54931983e-02,\n",
       "          -4.04453486e-01, -4.20685597e-02,  1.08621195e-01,\n",
       "          -3.43297005e-01, -1.55587599e-01,  2.04896089e-02,\n",
       "          -1.57384485e-01,  1.59081087e-01,  3.99483144e-01,\n",
       "          -1.10861123e-01,  3.40306610e-01]]]], dtype=float32)"
      ]
     },
     "execution_count": 13,
     "metadata": {},
     "output_type": "execute_result"
    }
   ],
   "source": [
    "conv_weights = conv.weights[0].numpy()\n",
    "conv_weights"
   ]
  },
  {
   "cell_type": "code",
   "execution_count": 14,
   "id": "817069eb",
   "metadata": {},
   "outputs": [
    {
     "name": "stdout",
     "output_type": "stream",
     "text": [
      "-0.008481504 0.22648881\n"
     ]
    }
   ],
   "source": [
    "print(conv_weights.mean(), conv_weights.std())"
   ]
  },
  {
   "cell_type": "code",
   "execution_count": 15,
   "id": "8b1258ad",
   "metadata": {},
   "outputs": [
    {
     "data": {
      "image/png": "[encoded data removed]",
      "text/plain": [
       "<Figure size 640x480 with 1 Axes>"
      ]
     },
     "metadata": {},
     "output_type": "display_data"
    }
   ],
   "source": [
    "# 가중치 히스토그램\n",
    "plt.figure()\n",
    "\n",
    "plt.hist(conv_weights.reshape(-1, 1))\n",
    "plt.xlabel(\"weight\")\n",
    "plt.ylabel(\"count\")\n",
    "plt.show()"
   ]
  },
  {
   "cell_type": "markdown",
   "id": "c6689cde",
   "metadata": {},
   "source": [
    "- 0을 중심으로 한 종 모양의 분포가 가장 이상적인 형태"
   ]
  },
  {
   "cell_type": "code",
   "execution_count": 22,
   "id": "41726a2e",
   "metadata": {},
   "outputs": [
    {
     "data": {
      "image/png": "[encoded data removed]",
      "text/plain": [
       "<Figure size 1500x200 with 32 Axes>"
      ]
     },
     "metadata": {},
     "output_type": "display_data"
    }
   ],
   "source": [
    "# 32개의 커널을 모두 시각화\n",
    "fig, axs = plt.subplots(2, 16, figsize = (15, 2))\n",
    "\n",
    "for i in range(2):\n",
    "    for j in range(16):\n",
    "        axs[i, j].imshow(conv_weights[:, :, 0, i * 16 + j], vmin = -0.5, vmax = 0.5)\n",
    "        axs[i, j].axis(\"off\")\n",
    "        \n",
    "plt.show()"
   ]
  },
  {
   "cell_type": "markdown",
   "id": "e21623e6",
   "metadata": {},
   "source": [
    "- 밝은 부분이 높은 값\n",
    "    - 가중치가 높은 영역에 이미지가 겹치면 크게 활성화됨\n",
    "        - 예) 오른쪽 세로로 한 줄의 가중치가 높다면 오른쪽에 놓인 직선을 만나면 크게 활성화\n",
    "        \n",
    "- i : 행 인덱스(0 ~ 1)\n",
    "- j : 열 인덱스(0 ~ 15)\n",
    "    - conv_weights[:, :, 0, 0] 부터 conv_weights[:, :, 0, 31] 까지 출력\n",
    "    \n",
    "- imshow()\n",
    "    - 배열의 최댓값과 최솟값으로 픽셀의 강도를 표현\n",
    "        - 배열의 최댓값은 가장 밝은색으로\n",
    "        - 배열의 최솟값은 가장 어두운 색으로 표현\n",
    "        \n",
    "    - vmax, vmin\n",
    "        - 컬러맵으로 표현할 색의 범위 지정"
   ]
  },
  {
   "cell_type": "markdown",
   "id": "762ce531",
   "metadata": {},
   "source": [
    "# 훈련하지 않은 빈 합성곱 신경망과 비교"
   ]
  },
  {
   "cell_type": "code",
   "execution_count": 24,
   "id": "4af29bfb",
   "metadata": {},
   "outputs": [
    {
     "name": "stderr",
     "output_type": "stream",
     "text": [
      "C:\\ProgramData\\anaconda3\\Lib\\site-packages\\keras\\src\\layers\\convolutional\\base_conv.py:99: UserWarning: Do not pass an `input_shape`/`input_dim` argument to a layer. When using Sequential models, prefer using an `Input(shape)` object as the first layer in the model instead.\n",
      "  super().__init__(\n"
     ]
    }
   ],
   "source": [
    "no_training_model = keras.Sequential()\n",
    "no_training_model.add(keras.layers.Conv2D(32, kernel_size = 3, activation = \"relu\", padding = \"same\", input_shape = (28, 28, 1)))"
   ]
  },
  {
   "cell_type": "code",
   "execution_count": 26,
   "id": "3d6dcd1e",
   "metadata": {},
   "outputs": [
    {
     "name": "stdout",
     "output_type": "stream",
     "text": [
      "(3, 3, 1, 32)\n"
     ]
    }
   ],
   "source": [
    "# 훈련하지 않은 빈 합성곱 층의 가중치를 저장\n",
    "no_training_conv = no_training_model.layers[0]\n",
    "print(no_training_conv.weights[0].shape)"
   ]
  },
  {
   "cell_type": "code",
   "execution_count": 28,
   "id": "7a8f54a9",
   "metadata": {},
   "outputs": [
    {
     "name": "stdout",
     "output_type": "stream",
     "text": [
      "0.0023293681 0.08216759\n"
     ]
    }
   ],
   "source": [
    "no_training_weights = no_training_conv.weights[0].numpy()\n",
    "print(no_training_weights.mean(), no_training_weights.std())"
   ]
  },
  {
   "cell_type": "code",
   "execution_count": 30,
   "id": "47897054",
   "metadata": {},
   "outputs": [
    {
     "data": {
      "image/png": "[encoded data removed]",
      "text/plain": [
       "<Figure size 640x480 with 1 Axes>"
      ]
     },
     "metadata": {},
     "output_type": "display_data"
    }
   ],
   "source": [
    "# 빈 합성곱 층 히스토그램\n",
    "plt.figure()\n",
    "plt.hist(no_training_weights.reshape(-1, 1))\n",
    "\n",
    "plt.xlabel(\"weights\")\n",
    "plt.ylabel(\"count\")\n",
    "plt.show()"
   ]
  },
  {
   "cell_type": "markdown",
   "id": "9fc7b947",
   "metadata": {},
   "source": [
    "- 대부분의 가중치가 -0.15 부터 0.15까지 고르게 분포함\n",
    "    - 텐서플로에서 가중치를 초기화할 때 균등 분포에서 랜덤하게 값을 선택하기 때문에"
   ]
  },
  {
   "cell_type": "code",
   "execution_count": 31,
   "id": "e67ee15b",
   "metadata": {},
   "outputs": [
    {
     "data": {
      "image/png": "[encoded data removed]",
      "text/plain": [
       "<Figure size 1500x200 with 32 Axes>"
      ]
     },
     "metadata": {},
     "output_type": "display_data"
    }
   ],
   "source": [
    "# 32개 커널을 모두 시각화\n",
    "fig, axs = plt.subplots(2, 16, figsize = (15, 2))\n",
    "\n",
    "for i in range(2):\n",
    "    for j in range(16):\n",
    "        axs[i, j].imshow(no_training_weights[:, :, 0, i * 16 + j], vmin = -0.5, vmax = 0.5)\n",
    "        axs[i, j].axis(\"off\")\n",
    "        \n",
    "plt.show()"
   ]
  },
  {
   "cell_type": "markdown",
   "id": "3d7078a5",
   "metadata": {},
   "source": [
    "- 훈련된 모델에 비해 패턴이 뚜렷하지 않음"
   ]
  },
  {
   "cell_type": "markdown",
   "id": "d202dcf3",
   "metadata": {},
   "source": [
    "# 케라스의 함수형 API\n",
    "\n",
    "- Sequential 클래스 : 층을 차례대로 쌓은 단순한 모델을 구성\n",
    "- 복잡한 모델은 구성하기 힘들기 때문에 함수형 API(functional API)를 사용\n",
    "- 케라스의 Model 클래스를 사용하여 모델을 생성\n",
    "- layers 객체를 함수처럼 호출하여 동작"
   ]
  },
  {
   "cell_type": "markdown",
   "id": "b9cad630",
   "metadata": {},
   "source": [
    "## 함수형 API로 다층 퍼셉트론 모델 구현 예제"
   ]
  },
  {
   "cell_type": "code",
   "execution_count": 32,
   "id": "aa650c6b",
   "metadata": {},
   "outputs": [],
   "source": [
    "# 입력층 생성\n",
    "inputs = keras.Input(shape = (784,))"
   ]
  },
  {
   "cell_type": "markdown",
   "id": "f14f8558",
   "metadata": {},
   "source": [
    "- Sequential 클래스는 InputLayer 클래스를 자동으로 추가하고 호출\n",
    "- Model 클래스는 입력층을 수동으로 만들어서 호출해야 함"
   ]
  },
  {
   "cell_type": "code",
   "execution_count": 33,
   "id": "28540883",
   "metadata": {},
   "outputs": [],
   "source": [
    "# 은닉층과 출력층 객체 생성\n",
    "dense1 = keras.layers.Dense(100, activation = \"sigmoid\")\n",
    "dense2 = keras.layers.Dense(10, activation = \"softmax\")"
   ]
  },
  {
   "cell_type": "code",
   "execution_count": 34,
   "id": "50fa1d51",
   "metadata": {},
   "outputs": [],
   "source": [
    "# 은닉층 호출\n",
    "hidden = dense1(inputs)"
   ]
  },
  {
   "cell_type": "markdown",
   "id": "ae5a29f4",
   "metadata": {},
   "source": [
    "- inputs 를 Dense층에 통과시킨 후 출력값 hidden 을 만드는 구조 생성"
   ]
  },
  {
   "cell_type": "code",
   "execution_count": 35,
   "id": "a9c47f80",
   "metadata": {},
   "outputs": [],
   "source": [
    "# 출력층 호출\n",
    "outputs = dense2(hidden)"
   ]
  },
  {
   "cell_type": "code",
   "execution_count": 36,
   "id": "9671cfdd",
   "metadata": {},
   "outputs": [],
   "source": [
    "# 모델 클래스로 inputs와 outputs를 연결\n",
    "test_model = keras.Model(inputs, outputs)"
   ]
  },
  {
   "cell_type": "code",
   "execution_count": 37,
   "id": "00022901",
   "metadata": {},
   "outputs": [
    {
     "data": {
      "text/html": [
       "<pre style=\"white-space:pre;overflow-x:auto;line-height:normal;font-family:Menlo,'DejaVu Sans Mono',consolas,'Courier New',monospace\"><span style=\"font-weight: bold\">Model: \"functional_10\"</span>\n",
       "</pre>\n"
      ],
      "text/plain": [
       "\u001b[1mModel: \"functional_10\"\u001b[0m\n"
      ]
     },
     "metadata": {},
     "output_type": "display_data"
    },
    {
     "data": {
      "text/html": [
       "<pre style=\"white-space:pre;overflow-x:auto;line-height:normal;font-family:Menlo,'DejaVu Sans Mono',consolas,'Courier New',monospace\">┏━━━━━━━━━━━━━━━━━━━━━━━━━━━━━━━━━━━━━━┳━━━━━━━━━━━━━━━━━━━━━━━━━━━━━┳━━━━━━━━━━━━━━━━━┓\n",
       "┃<span style=\"font-weight: bold\"> Layer (type)                         </span>┃<span style=\"font-weight: bold\"> Output Shape                </span>┃<span style=\"font-weight: bold\">         Param # </span>┃\n",
       "┡━━━━━━━━━━━━━━━━━━━━━━━━━━━━━━━━━━━━━━╇━━━━━━━━━━━━━━━━━━━━━━━━━━━━━╇━━━━━━━━━━━━━━━━━┩\n",
       "│ input_layer_1 (<span style=\"color: #0087ff; text-decoration-color: #0087ff\">InputLayer</span>)           │ (<span style=\"color: #00d7ff; text-decoration-color: #00d7ff\">None</span>, <span style=\"color: #00af00; text-decoration-color: #00af00\">784</span>)                 │               <span style=\"color: #00af00; text-decoration-color: #00af00\">0</span> │\n",
       "├──────────────────────────────────────┼─────────────────────────────┼─────────────────┤\n",
       "│ dense (<span style=\"color: #0087ff; text-decoration-color: #0087ff\">Dense</span>)                        │ (<span style=\"color: #00d7ff; text-decoration-color: #00d7ff\">None</span>, <span style=\"color: #00af00; text-decoration-color: #00af00\">100</span>)                 │          <span style=\"color: #00af00; text-decoration-color: #00af00\">78,500</span> │\n",
       "├──────────────────────────────────────┼─────────────────────────────┼─────────────────┤\n",
       "│ dense_1 (<span style=\"color: #0087ff; text-decoration-color: #0087ff\">Dense</span>)                      │ (<span style=\"color: #00d7ff; text-decoration-color: #00d7ff\">None</span>, <span style=\"color: #00af00; text-decoration-color: #00af00\">10</span>)                  │           <span style=\"color: #00af00; text-decoration-color: #00af00\">1,010</span> │\n",
       "└──────────────────────────────────────┴─────────────────────────────┴─────────────────┘\n",
       "</pre>\n"
      ],
      "text/plain": [
       "┏━━━━━━━━━━━━━━━━━━━━━━━━━━━━━━━━━━━━━━┳━━━━━━━━━━━━━━━━━━━━━━━━━━━━━┳━━━━━━━━━━━━━━━━━┓\n",
       "┃\u001b[1m \u001b[0m\u001b[1mLayer (type)                        \u001b[0m\u001b[1m \u001b[0m┃\u001b[1m \u001b[0m\u001b[1mOutput Shape               \u001b[0m\u001b[1m \u001b[0m┃\u001b[1m \u001b[0m\u001b[1m        Param #\u001b[0m\u001b[1m \u001b[0m┃\n",
       "┡━━━━━━━━━━━━━━━━━━━━━━━━━━━━━━━━━━━━━━╇━━━━━━━━━━━━━━━━━━━━━━━━━━━━━╇━━━━━━━━━━━━━━━━━┩\n",
       "│ input_layer_1 (\u001b[38;5;33mInputLayer\u001b[0m)           │ (\u001b[38;5;45mNone\u001b[0m, \u001b[38;5;34m784\u001b[0m)                 │               \u001b[38;5;34m0\u001b[0m │\n",
       "├──────────────────────────────────────┼─────────────────────────────┼─────────────────┤\n",
       "│ dense (\u001b[38;5;33mDense\u001b[0m)                        │ (\u001b[38;5;45mNone\u001b[0m, \u001b[38;5;34m100\u001b[0m)                 │          \u001b[38;5;34m78,500\u001b[0m │\n",
       "├──────────────────────────────────────┼─────────────────────────────┼─────────────────┤\n",
       "│ dense_1 (\u001b[38;5;33mDense\u001b[0m)                      │ (\u001b[38;5;45mNone\u001b[0m, \u001b[38;5;34m10\u001b[0m)                  │           \u001b[38;5;34m1,010\u001b[0m │\n",
       "└──────────────────────────────────────┴─────────────────────────────┴─────────────────┘\n"
      ]
     },
     "metadata": {},
     "output_type": "display_data"
    },
    {
     "data": {
      "text/html": [
       "<pre style=\"white-space:pre;overflow-x:auto;line-height:normal;font-family:Menlo,'DejaVu Sans Mono',consolas,'Courier New',monospace\"><span style=\"font-weight: bold\"> Total params: </span><span style=\"color: #00af00; text-decoration-color: #00af00\">79,510</span> (310.59 KB)\n",
       "</pre>\n"
      ],
      "text/plain": [
       "\u001b[1m Total params: \u001b[0m\u001b[38;5;34m79,510\u001b[0m (310.59 KB)\n"
      ]
     },
     "metadata": {},
     "output_type": "display_data"
    },
    {
     "data": {
      "text/html": [
       "<pre style=\"white-space:pre;overflow-x:auto;line-height:normal;font-family:Menlo,'DejaVu Sans Mono',consolas,'Courier New',monospace\"><span style=\"font-weight: bold\"> Trainable params: </span><span style=\"color: #00af00; text-decoration-color: #00af00\">79,510</span> (310.59 KB)\n",
       "</pre>\n"
      ],
      "text/plain": [
       "\u001b[1m Trainable params: \u001b[0m\u001b[38;5;34m79,510\u001b[0m (310.59 KB)\n"
      ]
     },
     "metadata": {},
     "output_type": "display_data"
    },
    {
     "data": {
      "text/html": [
       "<pre style=\"white-space:pre;overflow-x:auto;line-height:normal;font-family:Menlo,'DejaVu Sans Mono',consolas,'Courier New',monospace\"><span style=\"font-weight: bold\"> Non-trainable params: </span><span style=\"color: #00af00; text-decoration-color: #00af00\">0</span> (0.00 B)\n",
       "</pre>\n"
      ],
      "text/plain": [
       "\u001b[1m Non-trainable params: \u001b[0m\u001b[38;5;34m0\u001b[0m (0.00 B)\n"
      ]
     },
     "metadata": {},
     "output_type": "display_data"
    }
   ],
   "source": [
    "test_model.summary()"
   ]
  },
  {
   "cell_type": "markdown",
   "id": "abb0bc56",
   "metadata": {},
   "source": [
    "## 합성곱 신경망 모델 특성맵 시각화\n",
    "\n",
    "- 함수형 API를 이용해 첫 번째 합성곱 층의 출력(특성맵)을 시각화"
   ]
  },
  {
   "cell_type": "code",
   "execution_count": 43,
   "id": "1c30a409",
   "metadata": {},
   "outputs": [
    {
     "name": "stdout",
     "output_type": "stream",
     "text": [
      "[<KerasTensor shape=(None, 28, 28, 1), dtype=float32, sparse=False, name=input_layer>]\n"
     ]
    }
   ],
   "source": [
    "# 합성곱 모델의 입력\n",
    "print(model.inputs)"
   ]
  },
  {
   "cell_type": "code",
   "execution_count": 44,
   "id": "8be32009",
   "metadata": {},
   "outputs": [],
   "source": [
    "# 합성곱층과 입력층의 함수형 API로 연결\n",
    "conv_acti = keras.Model(model.inputs, model.layers[0].output)"
   ]
  },
  {
   "cell_type": "code",
   "execution_count": 45,
   "id": "b5ec8998",
   "metadata": {},
   "outputs": [
    {
     "data": {
      "text/html": [
       "<pre style=\"white-space:pre;overflow-x:auto;line-height:normal;font-family:Menlo,'DejaVu Sans Mono',consolas,'Courier New',monospace\"><span style=\"font-weight: bold\">Model: \"functional_12\"</span>\n",
       "</pre>\n"
      ],
      "text/plain": [
       "\u001b[1mModel: \"functional_12\"\u001b[0m\n"
      ]
     },
     "metadata": {},
     "output_type": "display_data"
    },
    {
     "data": {
      "text/html": [
       "<pre style=\"white-space:pre;overflow-x:auto;line-height:normal;font-family:Menlo,'DejaVu Sans Mono',consolas,'Courier New',monospace\">┏━━━━━━━━━━━━━━━━━━━━━━━━━━━━━━━━━━━━━━┳━━━━━━━━━━━━━━━━━━━━━━━━━━━━━┳━━━━━━━━━━━━━━━━━┓\n",
       "┃<span style=\"font-weight: bold\"> Layer (type)                         </span>┃<span style=\"font-weight: bold\"> Output Shape                </span>┃<span style=\"font-weight: bold\">         Param # </span>┃\n",
       "┡━━━━━━━━━━━━━━━━━━━━━━━━━━━━━━━━━━━━━━╇━━━━━━━━━━━━━━━━━━━━━━━━━━━━━╇━━━━━━━━━━━━━━━━━┩\n",
       "│ input_layer (<span style=\"color: #0087ff; text-decoration-color: #0087ff\">InputLayer</span>)             │ (<span style=\"color: #00d7ff; text-decoration-color: #00d7ff\">None</span>, <span style=\"color: #00af00; text-decoration-color: #00af00\">28</span>, <span style=\"color: #00af00; text-decoration-color: #00af00\">28</span>, <span style=\"color: #00af00; text-decoration-color: #00af00\">1</span>)           │               <span style=\"color: #00af00; text-decoration-color: #00af00\">0</span> │\n",
       "├──────────────────────────────────────┼─────────────────────────────┼─────────────────┤\n",
       "│ conv2d (<span style=\"color: #0087ff; text-decoration-color: #0087ff\">Conv2D</span>)                      │ (<span style=\"color: #00d7ff; text-decoration-color: #00d7ff\">None</span>, <span style=\"color: #00af00; text-decoration-color: #00af00\">28</span>, <span style=\"color: #00af00; text-decoration-color: #00af00\">28</span>, <span style=\"color: #00af00; text-decoration-color: #00af00\">32</span>)          │             <span style=\"color: #00af00; text-decoration-color: #00af00\">320</span> │\n",
       "└──────────────────────────────────────┴─────────────────────────────┴─────────────────┘\n",
       "</pre>\n"
      ],
      "text/plain": [
       "┏━━━━━━━━━━━━━━━━━━━━━━━━━━━━━━━━━━━━━━┳━━━━━━━━━━━━━━━━━━━━━━━━━━━━━┳━━━━━━━━━━━━━━━━━┓\n",
       "┃\u001b[1m \u001b[0m\u001b[1mLayer (type)                        \u001b[0m\u001b[1m \u001b[0m┃\u001b[1m \u001b[0m\u001b[1mOutput Shape               \u001b[0m\u001b[1m \u001b[0m┃\u001b[1m \u001b[0m\u001b[1m        Param #\u001b[0m\u001b[1m \u001b[0m┃\n",
       "┡━━━━━━━━━━━━━━━━━━━━━━━━━━━━━━━━━━━━━━╇━━━━━━━━━━━━━━━━━━━━━━━━━━━━━╇━━━━━━━━━━━━━━━━━┩\n",
       "│ input_layer (\u001b[38;5;33mInputLayer\u001b[0m)             │ (\u001b[38;5;45mNone\u001b[0m, \u001b[38;5;34m28\u001b[0m, \u001b[38;5;34m28\u001b[0m, \u001b[38;5;34m1\u001b[0m)           │               \u001b[38;5;34m0\u001b[0m │\n",
       "├──────────────────────────────────────┼─────────────────────────────┼─────────────────┤\n",
       "│ conv2d (\u001b[38;5;33mConv2D\u001b[0m)                      │ (\u001b[38;5;45mNone\u001b[0m, \u001b[38;5;34m28\u001b[0m, \u001b[38;5;34m28\u001b[0m, \u001b[38;5;34m32\u001b[0m)          │             \u001b[38;5;34m320\u001b[0m │\n",
       "└──────────────────────────────────────┴─────────────────────────────┴─────────────────┘\n"
      ]
     },
     "metadata": {},
     "output_type": "display_data"
    },
    {
     "data": {
      "text/html": [
       "<pre style=\"white-space:pre;overflow-x:auto;line-height:normal;font-family:Menlo,'DejaVu Sans Mono',consolas,'Courier New',monospace\"><span style=\"font-weight: bold\"> Total params: </span><span style=\"color: #00af00; text-decoration-color: #00af00\">320</span> (1.25 KB)\n",
       "</pre>\n"
      ],
      "text/plain": [
       "\u001b[1m Total params: \u001b[0m\u001b[38;5;34m320\u001b[0m (1.25 KB)\n"
      ]
     },
     "metadata": {},
     "output_type": "display_data"
    },
    {
     "data": {
      "text/html": [
       "<pre style=\"white-space:pre;overflow-x:auto;line-height:normal;font-family:Menlo,'DejaVu Sans Mono',consolas,'Courier New',monospace\"><span style=\"font-weight: bold\"> Trainable params: </span><span style=\"color: #00af00; text-decoration-color: #00af00\">320</span> (1.25 KB)\n",
       "</pre>\n"
      ],
      "text/plain": [
       "\u001b[1m Trainable params: \u001b[0m\u001b[38;5;34m320\u001b[0m (1.25 KB)\n"
      ]
     },
     "metadata": {},
     "output_type": "display_data"
    },
    {
     "data": {
      "text/html": [
       "<pre style=\"white-space:pre;overflow-x:auto;line-height:normal;font-family:Menlo,'DejaVu Sans Mono',consolas,'Courier New',monospace\"><span style=\"font-weight: bold\"> Non-trainable params: </span><span style=\"color: #00af00; text-decoration-color: #00af00\">0</span> (0.00 B)\n",
       "</pre>\n"
      ],
      "text/plain": [
       "\u001b[1m Non-trainable params: \u001b[0m\u001b[38;5;34m0\u001b[0m (0.00 B)\n"
      ]
     },
     "metadata": {},
     "output_type": "display_data"
    }
   ],
   "source": [
    "conv_acti.summary()"
   ]
  },
  {
   "cell_type": "code",
   "execution_count": 46,
   "id": "d514cd00",
   "metadata": {},
   "outputs": [],
   "source": [
    "# 데이터 준비\n",
    "(x_train, y_train), (x_test, y_test) = keras.datasets.fashion_mnist.load_data()"
   ]
  },
  {
   "cell_type": "code",
   "execution_count": 47,
   "id": "228b526a",
   "metadata": {},
   "outputs": [
    {
     "data": {
      "image/png": "[encoded data removed]",
      "text/plain": [
       "<Figure size 640x480 with 1 Axes>"
      ]
     },
     "metadata": {},
     "output_type": "display_data"
    }
   ],
   "source": [
    "plt.figure()\n",
    "plt.imshow(x_train[0], cmap = \"gray_r\")\n",
    "plt.show()"
   ]
  },
  {
   "cell_type": "code",
   "execution_count": 48,
   "id": "781c0878",
   "metadata": {},
   "outputs": [],
   "source": [
    "# 위ㅡ이 데이터를 첫 번째 합성곱 층에 통과\n",
    "inputs = x_train[[0]].reshape(-1, 28, 28, 1) / 255"
   ]
  },
  {
   "cell_type": "code",
   "execution_count": 49,
   "id": "30199c41",
   "metadata": {},
   "outputs": [
    {
     "name": "stdout",
     "output_type": "stream",
     "text": [
      "\u001b[1m1/1\u001b[0m \u001b[32m━━━━━━━━━━━━━━━━━━━━\u001b[0m\u001b[37m\u001b[0m \u001b[1m0s\u001b[0m 45ms/step\n"
     ]
    }
   ],
   "source": [
    "feature_maps = conv_acti.predict(inputs)"
   ]
  },
  {
   "cell_type": "code",
   "execution_count": 50,
   "id": "ed06a5c2",
   "metadata": {},
   "outputs": [
    {
     "name": "stdout",
     "output_type": "stream",
     "text": [
      "(1, 28, 28, 32)\n"
     ]
    }
   ],
   "source": [
    "print(feature_maps.shape)"
   ]
  },
  {
   "cell_type": "markdown",
   "id": "bf1b6ae8",
   "metadata": {},
   "source": [
    "- 세임 패딩과 32개의 필터를 사용한 합성곱층의 출력이기 때문에 (28, 28, 32)\n",
    "- 첫 번째 차원은 배치 차원\n",
    "    - 샘플 하나만 입력했기 때문에 1"
   ]
  },
  {
   "cell_type": "code",
   "execution_count": 55,
   "id": "45732637",
   "metadata": {},
   "outputs": [
    {
     "data": {
      "image/png": "[encoded data removed]",
      "text/plain": [
       "<Figure size 1500x800 with 32 Axes>"
      ]
     },
     "metadata": {},
     "output_type": "display_data"
    }
   ],
   "source": [
    "# 32개의 특성맵을 모두 시각화\n",
    "fig, axs = plt.subplots(4, 8, figsize = (15, 8))\n",
    "\n",
    "for i in range(4):\n",
    "    for j in range(8):\n",
    "        axs[i, j].imshow(conv_weights[:, :, 0, i * 8 + j], vmin = -0.5, vmax = 0.5)\n",
    "        axs[i, j].axis(\"off\")\n",
    "        \n",
    "plt.show()"
   ]
  },
  {
   "cell_type": "code",
   "execution_count": 56,
   "id": "d80e5ae9",
   "metadata": {},
   "outputs": [
    {
     "data": {
      "image/png": "[encoded data removed]",
      "text/plain": [
       "<Figure size 1500x800 with 32 Axes>"
      ]
     },
     "metadata": {},
     "output_type": "display_data"
    }
   ],
   "source": [
    "# 32개 커널을 모두 시각화\n",
    "fig, axs = plt.subplots(4, 8, figsize = (15, 8))\n",
    "\n",
    "for i in range(4):\n",
    "    for j in range(8):\n",
    "        axs[i, j].imshow(feature_maps[0, :, :, i * 8 + j])\n",
    "        axs[i, j].axis(\"off\")\n",
    "        \n",
    "plt.show()"
   ]
  },
  {
   "cell_type": "markdown",
   "id": "6c4ed838",
   "metadata": {},
   "source": [
    "- 32개의 필터로 인해 입력 이미지에서 강하게 활성화된 부분들을 시각화\n",
    "    - 필터가 수직선을 감지한다면 수직선 부분이 강하게 활성화\n",
    "    - 전체적으로 모두 감지하는 필터는 아이템의 전체를 활성화\n",
    "    - 전체적으로 음수값인 필터는 배경과 같은 0에 가까운 값과 곱해지면 작은 음수, 큰 수가 곱해지면 큰 음수가 됨\n",
    "        - 배경을 잘 활성화"
   ]
  },
  {
   "cell_type": "code",
   "execution_count": 60,
   "id": "71ef52b1",
   "metadata": {},
   "outputs": [],
   "source": [
    "# 두 번째 합성곱 층의 특성 맵 확인\n",
    "conv2_acti = keras.Model(model.inputs, model.layers[2].output)"
   ]
  },
  {
   "cell_type": "code",
   "execution_count": 62,
   "id": "de67f1b4",
   "metadata": {},
   "outputs": [
    {
     "name": "stdout",
     "output_type": "stream",
     "text": [
      "\u001b[1m1/1\u001b[0m \u001b[32m━━━━━━━━━━━━━━━━━━━━\u001b[0m\u001b[37m\u001b[0m \u001b[1m0s\u001b[0m 42ms/step\n"
     ]
    }
   ],
   "source": [
    "feature_maps = conv2_acti.predict(inputs)"
   ]
  },
  {
   "cell_type": "code",
   "execution_count": 63,
   "id": "deface96",
   "metadata": {},
   "outputs": [
    {
     "name": "stdout",
     "output_type": "stream",
     "text": [
      "(1, 14, 14, 64)\n"
     ]
    }
   ],
   "source": [
    "print(feature_maps.shape)"
   ]
  },
  {
   "cell_type": "code",
   "execution_count": 66,
   "id": "aced5158",
   "metadata": {},
   "outputs": [
    {
     "data": {
      "image/png": "[encoded data removed]",
      "text/plain": [
       "<Figure size 1200x1200 with 64 Axes>"
      ]
     },
     "metadata": {},
     "output_type": "display_data"
    }
   ],
   "source": [
    "# 32개의 특성맵을 모두 시각화\n",
    "fig, axs = plt.subplots(8, 8, figsize = (12, 12))\n",
    "\n",
    "for i in range(8):\n",
    "    for j in range(8):\n",
    "        axs[i, j].imshow(feature_maps[0, :, :, i * 8 + j])\n",
    "        axs[i, j].axis(\"off\")\n",
    "        \n",
    "plt.show()"
   ]
  },
  {
   "cell_type": "markdown",
   "id": "63576343",
   "metadata": {},
   "source": [
    "- 특성맵을 시각적으로 이해하기 난해함\n",
    "    - 합성곱 층을 많이 쌓을수록 난해해짐\n",
    "    - 앞부분의 합성곱 층은 이미지의 시각적인 정보를 감지하고\n",
    "    - 뒷부분의 합성곱 층은 앞쪽에서 감지한 시각적인 정보를 바탕으로 추상적인 정보를 학습"
   ]
  },
  {
   "cell_type": "markdown",
   "id": "c42a72e3",
   "metadata": {},
   "source": [
    "## 풀링 결과물 비교"
   ]
  },
  {
   "cell_type": "code",
   "execution_count": 67,
   "id": "0e981ea4",
   "metadata": {},
   "outputs": [],
   "source": [
    "pool_model = keras.Model(model.inputs, model.layers[1].output)"
   ]
  },
  {
   "cell_type": "code",
   "execution_count": 68,
   "id": "3fc80374",
   "metadata": {},
   "outputs": [
    {
     "name": "stdout",
     "output_type": "stream",
     "text": [
      "\u001b[1m1/1\u001b[0m \u001b[32m━━━━━━━━━━━━━━━━━━━━\u001b[0m\u001b[37m\u001b[0m \u001b[1m0s\u001b[0m 44ms/step\n"
     ]
    }
   ],
   "source": [
    "pool_feature_maps = pool_model.predict(inputs)"
   ]
  },
  {
   "cell_type": "code",
   "execution_count": 69,
   "id": "17699268",
   "metadata": {},
   "outputs": [
    {
     "name": "stdout",
     "output_type": "stream",
     "text": [
      "(1, 14, 14, 32)\n"
     ]
    }
   ],
   "source": [
    "print(pool_feature_maps.shape)"
   ]
  },
  {
   "cell_type": "code",
   "execution_count": 70,
   "id": "beae0ad3",
   "metadata": {},
   "outputs": [
    {
     "data": {
      "image/png": "[encoded data removed]",
      "text/plain": [
       "<Figure size 1500x800 with 32 Axes>"
      ]
     },
     "metadata": {},
     "output_type": "display_data"
    }
   ],
   "source": [
    "# 32개 커널을 모두 시각화\n",
    "fig, axs = plt.subplots(4, 8, figsize = (15, 8))\n",
    "\n",
    "for i in range(4):\n",
    "    for j in range(8):\n",
    "        axs[i, j].imshow(pool_feature_maps[0, :, :, i * 8 + j])\n",
    "        axs[i, j].axis(\"off\")\n",
    "        \n",
    "plt.show()"
   ]
  },
  {
   "cell_type": "code",
   "execution_count": null,
   "id": "80970b4a",
   "metadata": {},
   "outputs": [],
   "source": []
  }
 ],
 "metadata": {
  "kernelspec": {
   "display_name": "Python 3 (ipykernel)",
   "language": "python",
   "name": "python3"
  },
  "language_info": {
   "codemirror_mode": {
    "name": "ipython",
    "version": 3
   },
   "file_extension": ".py",
   "mimetype": "text/x-python",
   "name": "python",
   "nbconvert_exporter": "python",
   "pygments_lexer": "ipython3",
   "version": "3.11.5"
  }
 },
 "nbformat": 4,
 "nbformat_minor": 5
}
