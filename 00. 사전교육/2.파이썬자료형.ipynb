{
 "cells": [
  {
   "cell_type": "markdown",
   "id": "423e8173",
   "metadata": {},
   "source": [
    "# 기본 자료형\n",
    "\n",
    "|구분|자료형|변환함수|의미|\n",
    "| :-- | :--: | --: | :--|\n",
    "| int | 정수 | int(n) | n을 정수로 변환 |\n",
    "| float | 실수 | float(n) | n을 실수로 변환 |\n",
    "| bool | 논리 | bool(n) | n을 논리로 변환 |\n",
    "| str | 문자열 | str(n) | n을 문자열로 변환 |\n",
    "\n",
    ":-- 왼쪽 정렬\n",
    ":--: 중앙 정렬\n",
    "--: 오른쪽 정렬"
   ]
  },
  {
   "cell_type": "markdown",
   "id": "69e09d53",
   "metadata": {},
   "source": [
    "## 정수 (int)"
   ]
  },
  {
   "cell_type": "code",
   "execution_count": 4,
   "id": "2d8007ee",
   "metadata": {},
   "outputs": [
    {
     "name": "stdout",
     "output_type": "stream",
     "text": [
      "<class 'int'>\n"
     ]
    }
   ],
   "source": [
    "age = 25\n",
    "print(type(age))\n",
    "#type = 자료형의 구분을 확인하는 명령어"
   ]
  },
  {
   "cell_type": "markdown",
   "id": "700cbecc",
   "metadata": {},
   "source": [
    "### 다른 자료형의 값을 정수형 데이터로 변환"
   ]
  },
  {
   "cell_type": "code",
   "execution_count": 17,
   "id": "f4f05362",
   "metadata": {},
   "outputs": [
    {
     "name": "stdout",
     "output_type": "stream",
     "text": [
      "1\n",
      "1\n",
      "0\n",
      "100\n"
     ]
    }
   ],
   "source": [
    "print(int(1.9))\n",
    "#소숫점은 표기하지 않음\n",
    "print(int(True))\n",
    "print(int(False))\n",
    "print(int(\"100\"))\n",
    "#\"\"으로 감싼 문자는 숫자더라도 계산할 수 없는 문자열이다"
   ]
  },
  {
   "cell_type": "markdown",
   "id": "a375711a",
   "metadata": {},
   "source": [
    "## 실수형 (float)"
   ]
  },
  {
   "cell_type": "code",
   "execution_count": 18,
   "id": "fa1f8369",
   "metadata": {},
   "outputs": [
    {
     "name": "stdout",
     "output_type": "stream",
     "text": [
      "<class 'float'>\n"
     ]
    }
   ],
   "source": [
    "height = 168.5\n",
    "print(type(height))"
   ]
  },
  {
   "cell_type": "markdown",
   "id": "9e1066b8",
   "metadata": {},
   "source": [
    "### 다른 자료형의 값을 실수형 데이터로 변환"
   ]
  },
  {
   "cell_type": "code",
   "execution_count": 24,
   "id": "646d67fc",
   "metadata": {},
   "outputs": [
    {
     "name": "stdout",
     "output_type": "stream",
     "text": [
      "1.0\n",
      "1.0\n",
      "0.0\n",
      "3.14\n",
      "100.0\n"
     ]
    }
   ],
   "source": [
    "print(float(1))\n",
    "print(float(True))\n",
    "print(float(False))\n",
    "print(float(\"3.14\"))\n",
    "print(float(\"100\"))"
   ]
  },
  {
   "cell_type": "markdown",
   "id": "c3e8810e",
   "metadata": {},
   "source": [
    "## 논리형 (bool)\n",
    "\n",
    "- 참과 거짓을 표현하는 True, False 값을 가짐\n",
    "- 영국으 수학자 조지 불(George Boole)이 만듦"
   ]
  },
  {
   "cell_type": "code",
   "execution_count": 26,
   "id": "32e3c6a9",
   "metadata": {},
   "outputs": [
    {
     "name": "stdout",
     "output_type": "stream",
     "text": [
      "False\n",
      "False\n"
     ]
    }
   ],
   "source": [
    "print(bool(0))\n",
    "print(bool(\"\"))"
   ]
  },
  {
   "cell_type": "code",
   "execution_count": 31,
   "id": "87520d4e",
   "metadata": {},
   "outputs": [
    {
     "name": "stdout",
     "output_type": "stream",
     "text": [
      "True\n",
      "True\n"
     ]
    }
   ],
   "source": [
    "print(bool(1))\n",
    "print(bool(\"hello\"))\n",
    "# 문자열의 경우 입력된 내용이 있는가 없는가를 구분하게됨\n",
    "# 스페이스바라도 입력한 경우 True 값을 출력"
   ]
  },
  {
   "cell_type": "markdown",
   "id": "5c216d01",
   "metadata": {},
   "source": [
    "### 비교 연산자의 판단 결과를 표현"
   ]
  },
  {
   "cell_type": "code",
   "execution_count": 36,
   "id": "4ec80094",
   "metadata": {},
   "outputs": [
    {
     "name": "stdout",
     "output_type": "stream",
     "text": [
      "True\n",
      "False\n"
     ]
    }
   ],
   "source": [
    "print(3 > 1)\n",
    "print(3 < 1)"
   ]
  },
  {
   "cell_type": "markdown",
   "id": "c2a1e00e",
   "metadata": {},
   "source": [
    "### 같은지 다른지 비교"
   ]
  },
  {
   "cell_type": "code",
   "execution_count": 35,
   "id": "79bc77c9",
   "metadata": {},
   "outputs": [
    {
     "name": "stdout",
     "output_type": "stream",
     "text": [
      "True\n",
      "False\n"
     ]
    }
   ],
   "source": [
    "# 같은지 비교\n",
    "print(10 == 10)\n",
    "print(10 == 20)"
   ]
  },
  {
   "cell_type": "code",
   "execution_count": 37,
   "id": "739604fb",
   "metadata": {},
   "outputs": [
    {
     "name": "stdout",
     "output_type": "stream",
     "text": [
      "False\n",
      "True\n"
     ]
    }
   ],
   "source": [
    "# 구분 비교, 둘이 다른지 비교\n",
    "print(10 != 10)\n",
    "print(10 != 20)\n",
    "\n",
    "# python 에서 대체로 ! 는 \"not\"의 의미를 갖는 경우가 많다"
   ]
  },
  {
   "cell_type": "code",
   "execution_count": 38,
   "id": "ef3a878e",
   "metadata": {},
   "outputs": [
    {
     "name": "stdout",
     "output_type": "stream",
     "text": [
      "True\n",
      "False\n"
     ]
    }
   ],
   "source": [
    "#대/소문자를 구분한다\n",
    "print(\"Python\" == \"Python\")\n",
    "print(\"Python\" == \"python\")"
   ]
  },
  {
   "cell_type": "markdown",
   "id": "1fe755f2",
   "metadata": {},
   "source": [
    "## 문자열 (str)\n",
    "\n",
    "- 기본적으로 따옴표(\" \",' ')로 묶어서 사용\n",
    "- 작은 따옴표('' )와 큰 따옴표(\" \") 모두 사용 가능\n",
    "- 삼중 따옴표(''' ''', \"\"\" \"\"\") 모두 사용 가능\n",
    "- str = string\n",
    "- 굉장히 범용적인 데이터라 대부분의 데이터를 문자열로 변환 가능\n",
    "    - 이미지 파일도 문자열로 변환 가능... 픽셀단위로"
   ]
  },
  {
   "cell_type": "code",
   "execution_count": 39,
   "id": "5e76a7e6",
   "metadata": {},
   "outputs": [
    {
     "name": "stdout",
     "output_type": "stream",
     "text": [
      "<class 'str'>\n"
     ]
    }
   ],
   "source": [
    "name = \"Alice\"\n",
    "print(type(name))"
   ]
  },
  {
   "cell_type": "code",
   "execution_count": 40,
   "id": "89d3c916",
   "metadata": {},
   "outputs": [
    {
     "name": "stdout",
     "output_type": "stream",
     "text": [
      "100\n",
      "True\n",
      "False\n",
      "3.14\n"
     ]
    }
   ],
   "source": [
    "print(str(100))\n",
    "print(str(True))\n",
    "print(str(False))\n",
    "print(str(3.14))"
   ]
  },
  {
   "cell_type": "markdown",
   "id": "ba20ebc4",
   "metadata": {},
   "source": [
    "### 문자열 인덱싱(indexing)\n",
    "\n",
    "- 문자열 인덱싱 : 문자열을 구성하는 모든 문자에 부여한 고유 번호\n",
    "- 몇 번째 자리에 있는지를 정의하는 번호\n",
    "    예시) Hello\n",
    "        0 = H\n",
    "        1 = e\n",
    "        2 = l\n",
    "        3 = l\n",
    "        4 = o\n",
    "- 인덱스 번호는 시작이 0이다\n",
    "\n",
    "* 인덱싱 / 슬라이싱은 문자열뿐만 아니라 다른 영역에서도 자주 사용하는 문법"
   ]
  },
  {
   "cell_type": "code",
   "execution_count": 41,
   "id": "07980352",
   "metadata": {},
   "outputs": [],
   "source": [
    "s = \"hello\""
   ]
  },
  {
   "cell_type": "code",
   "execution_count": 44,
   "id": "4852dce7",
   "metadata": {},
   "outputs": [
    {
     "name": "stdout",
     "output_type": "stream",
     "text": [
      "h\n"
     ]
    }
   ],
   "source": [
    "print(s[0])\n",
    "\n",
    "# s의 0번째 자리에 있는 값"
   ]
  },
  {
   "cell_type": "markdown",
   "id": "c4d249a1",
   "metadata": {},
   "source": [
    "인덱싱에선 음수값을 사용할 수 있음\n",
    "\n",
    "역순으로 한다는 의미...\n",
    "\n",
    "음수값은 \"-0\"이란 개념이 없기 때문에 \"-1\"에서 시작한다"
   ]
  },
  {
   "cell_type": "code",
   "execution_count": 45,
   "id": "71e968fc",
   "metadata": {},
   "outputs": [
    {
     "name": "stdout",
     "output_type": "stream",
     "text": [
      "o\n"
     ]
    }
   ],
   "source": [
    "print(s[-1])"
   ]
  },
  {
   "cell_type": "code",
   "execution_count": 47,
   "id": "1345dacd",
   "metadata": {},
   "outputs": [
    {
     "name": "stdout",
     "output_type": "stream",
     "text": [
      "True\n"
     ]
    }
   ],
   "source": [
    "print(s[4] == s[-1])"
   ]
  },
  {
   "cell_type": "markdown",
   "id": "684c9bcf",
   "metadata": {},
   "source": [
    "### 문자열 슬라이싱(slicing)\n",
    "\n",
    "- 표현법 : 데이터[시작인덱스 : 종료 인덱스 : 증감값]\n",
    "- 인덱싱이 특정 순서의 문자를 가져온다면 슬라이싱은 구간을 정하여 가져오는 문법\n",
    "- 대부분의 경우 증감값은 생략하고 [시작 인덱스 : 종료 인덱스]의 형태로 사용\n",
    "- 주의할 점은 종료 인덱스 값은 포함하지 않는다는 것...\n",
    "- 증감값은 입력하지 않을 경우 기본 값을 1로 한다"
   ]
  },
  {
   "cell_type": "code",
   "execution_count": 2,
   "id": "b96a8036",
   "metadata": {},
   "outputs": [],
   "source": [
    "s = \"banana\""
   ]
  },
  {
   "cell_type": "code",
   "execution_count": 3,
   "id": "a9a2a4f3",
   "metadata": {},
   "outputs": [
    {
     "name": "stdout",
     "output_type": "stream",
     "text": [
      "ban\n",
      "bnn\n"
     ]
    }
   ],
   "source": [
    "print(s[0:3])\n",
    "print(s[0:5:2])"
   ]
  },
  {
   "cell_type": "code",
   "execution_count": 5,
   "id": "fd971fd1",
   "metadata": {},
   "outputs": [
    {
     "name": "stdout",
     "output_type": "stream",
     "text": [
      "ban\n"
     ]
    }
   ],
   "source": [
    "# 시작 인덱스를 생략할 경우 자동으로 0이 입력된다\n",
    "\n",
    "print(s[:3])\n",
    "\n",
    "# 종료 인덱스를 생략할 경우 종료할 수 있는 가장 끝이 된다"
   ]
  },
  {
   "cell_type": "markdown",
   "id": "cfa14741",
   "metadata": {},
   "source": [
    "# 실습\n",
    "\n",
    "1. 휴대폰 번호 가운데 4자리를 추출\n",
    "2. 31025 를 학년, 반, 번호로 나누어 출력"
   ]
  },
  {
   "cell_type": "code",
   "execution_count": 66,
   "id": "f21c8610",
   "metadata": {},
   "outputs": [],
   "source": [
    "# 1. 휴대폰 번호 가운데 4자리를 추출\n",
    "number = \"010-1234-5678\""
   ]
  },
  {
   "cell_type": "code",
   "execution_count": 68,
   "id": "ceeda367",
   "metadata": {},
   "outputs": [
    {
     "name": "stdout",
     "output_type": "stream",
     "text": [
      "1234\n"
     ]
    }
   ],
   "source": [
    "print(number[4:8])"
   ]
  },
  {
   "cell_type": "code",
   "execution_count": 72,
   "id": "50ca7d43",
   "metadata": {},
   "outputs": [],
   "source": [
    "# 2. 31025를 학년, 반, 번호로 나누어 출력\n",
    "q2 = \"31025\"\n",
    "# 3학년 10반 25번"
   ]
  },
  {
   "cell_type": "code",
   "execution_count": 76,
   "id": "07211fb2",
   "metadata": {},
   "outputs": [
    {
     "name": "stdout",
     "output_type": "stream",
     "text": [
      "3 학년 10 반 25 번\n",
      "3\n",
      "10\n",
      "25\n"
     ]
    }
   ],
   "source": [
    "grade = q2[0]\n",
    "group = q2[1:3]\n",
    "no = q2[3:5]\n",
    "\n",
    "print(grade, \"학년\", group, \"반\", no, \"번\")\n",
    "\n",
    "print(q2[0:1])\n",
    "print(q2[1:3])\n",
    "print(q2[3:5])"
   ]
  },
  {
   "cell_type": "code",
   "execution_count": null,
   "id": "22951123",
   "metadata": {},
   "outputs": [],
   "source": []
  },
  {
   "cell_type": "code",
   "execution_count": null,
   "id": "83e1cb7f",
   "metadata": {},
   "outputs": [],
   "source": []
  }
 ],
 "metadata": {
  "kernelspec": {
   "display_name": "Python 3 (ipykernel)",
   "language": "python",
   "name": "python3"
  },
  "language_info": {
   "codemirror_mode": {
    "name": "ipython",
    "version": 3
   },
   "file_extension": ".py",
   "mimetype": "text/x-python",
   "name": "python",
   "nbconvert_exporter": "python",
   "pygments_lexer": "ipython3",
   "version": "3.11.5"
  }
 },
 "nbformat": 4,
 "nbformat_minor": 5
}
