{
 "cells": [
  {
   "cell_type": "markdown",
   "id": "82c35d99",
   "metadata": {},
   "source": [
    "# 표준 출력 "
   ]
  },
  {
   "cell_type": "markdown",
   "id": "02aba016",
   "metadata": {},
   "source": [
    "## 이스케이프 문자\n",
    "\n",
    "- \\n : 줄바꿈\n",
    "- \\t : 탭\n",
    "- \\\\' : 작은 따옴표\n",
    "- \\\\\" : 큰 따옴표"
   ]
  },
  {
   "cell_type": "code",
   "execution_count": 5,
   "id": "3342352e",
   "metadata": {},
   "outputs": [
    {
     "name": "stdout",
     "output_type": "stream",
     "text": [
      "Hello, \"World!\"\n"
     ]
    }
   ],
   "source": [
    "print(\"Hello, \\\"World!\\\"\")"
   ]
  },
  {
   "cell_type": "code",
   "execution_count": 6,
   "id": "8dba93b1",
   "metadata": {},
   "outputs": [
    {
     "name": "stdout",
     "output_type": "stream",
     "text": [
      "*\n",
      "**\n",
      "***\n"
     ]
    }
   ],
   "source": [
    "print(\"*\")\n",
    "print(\"**\")\n",
    "print(\"***\")"
   ]
  },
  {
   "cell_type": "code",
   "execution_count": 7,
   "id": "599fd0fd",
   "metadata": {},
   "outputs": [
    {
     "name": "stdout",
     "output_type": "stream",
     "text": [
      "*\n",
      "**\n",
      "***\n"
     ]
    }
   ],
   "source": [
    "print(\"*\\n**\\n***\")"
   ]
  },
  {
   "cell_type": "code",
   "execution_count": 8,
   "id": "d845a8d4",
   "metadata": {},
   "outputs": [
    {
     "name": "stdout",
     "output_type": "stream",
     "text": [
      "이름\t연락처\n"
     ]
    }
   ],
   "source": [
    "print(\"이름\\t연락처\")"
   ]
  },
  {
   "cell_type": "markdown",
   "id": "4e26b9b0",
   "metadata": {},
   "source": [
    "## print() 함수\n",
    "\n",
    "- print(*args, sep=' ', end='\\n', file=None, flush=False)\n",
    "    - *args : 출력할 대상들\n",
    "    - sep : 출력할 값의 구분자\n",
    "    - end : 값을 출력한 후 출력할 문자"
   ]
  },
  {
   "cell_type": "code",
   "execution_count": 13,
   "id": "574a4936",
   "metadata": {},
   "outputs": [
    {
     "name": "stdout",
     "output_type": "stream",
     "text": [
      "Python Java C\n",
      "Python|Java|C\n",
      "Python\tJava\tC\n"
     ]
    }
   ],
   "source": [
    "print(\"Python\", \"Java\", \"C\")\n",
    "print(\"Python\", \"Java\", \"C\", sep = \"|\")\n",
    "print(\"Python\", \"Java\", \"C\", sep = \"\\t\")"
   ]
  },
  {
   "cell_type": "code",
   "execution_count": 17,
   "id": "2df4f2bf",
   "metadata": {},
   "outputs": [
    {
     "name": "stdout",
     "output_type": "stream",
     "text": [
      "영화 타이타닉\n",
      "평점:5점\n"
     ]
    }
   ],
   "source": [
    "print(\"영화 타이타닉\")\n",
    "print(\"평점\", end = \":\")\n",
    "print(\"5점\")"
   ]
  },
  {
   "cell_type": "markdown",
   "id": "21281885",
   "metadata": {},
   "source": [
    "# 형식을 갖춘 문자열\n",
    "\n",
    "- 문자열 포매팅(string formatting)\n",
    "- % 연산자, format() 메소드 등의 명렁어를 이용해 원하는 형식의 문자열을 만드는 것"
   ]
  },
  {
   "cell_type": "markdown",
   "id": "2cab4f8f",
   "metadata": {},
   "source": [
    "## %연산자\n",
    "\n",
    "- %d : 정수(10진수)\n",
    "- %f : 실수\n",
    "- %s : 문자열"
   ]
  },
  {
   "cell_type": "code",
   "execution_count": 21,
   "id": "d5445285",
   "metadata": {},
   "outputs": [
    {
     "name": "stdout",
     "output_type": "stream",
     "text": [
      "가10나\n"
     ]
    }
   ],
   "source": [
    "print(\"가%d나\" %10)"
   ]
  },
  {
   "cell_type": "code",
   "execution_count": 44,
   "id": "9b8bb940",
   "metadata": {},
   "outputs": [
    {
     "name": "stdout",
     "output_type": "stream",
     "text": [
      "3.140000\n",
      "3.14\n"
     ]
    }
   ],
   "source": [
    "print(\"%f\"%3.14)\n",
    "print(\"%.2f\"%3.14)"
   ]
  },
  {
   "cell_type": "code",
   "execution_count": 33,
   "id": "0a2118cc",
   "metadata": {},
   "outputs": [
    {
     "name": "stdout",
     "output_type": "stream",
     "text": [
      "python\n"
     ]
    }
   ],
   "source": [
    "print(\"%s\"%\"python\")"
   ]
  },
  {
   "cell_type": "code",
   "execution_count": 37,
   "id": "e6711a4e",
   "metadata": {},
   "outputs": [
    {
     "name": "stdout",
     "output_type": "stream",
     "text": [
      "10 20\n"
     ]
    }
   ],
   "source": [
    "print(\"%d %d\" %(10, 20))"
   ]
  },
  {
   "cell_type": "code",
   "execution_count": 38,
   "id": "fd0add6e",
   "metadata": {},
   "outputs": [
    {
     "name": "stdout",
     "output_type": "stream",
     "text": [
      "10 3.14\n"
     ]
    }
   ],
   "source": [
    "print(\"%s %s\" %(10, 3.14))"
   ]
  },
  {
   "cell_type": "markdown",
   "id": "45b9464b",
   "metadata": {},
   "source": [
    "### 활용법"
   ]
  },
  {
   "cell_type": "code",
   "execution_count": 39,
   "id": "e87021b4",
   "metadata": {},
   "outputs": [
    {
     "name": "stdout",
     "output_type": "stream",
     "text": [
      "내 이름은 Jun입니다\n"
     ]
    }
   ],
   "source": [
    "name = \"Jun\"\n",
    "print(\"내 이름은 %s입니다\" %name)"
   ]
  },
  {
   "cell_type": "code",
   "execution_count": 42,
   "id": "0a656a18",
   "metadata": {},
   "outputs": [
    {
     "name": "stdout",
     "output_type": "stream",
     "text": [
      "내 키는 174.9cm입니다. 내 몸무게는 77.15kg입니다.\n"
     ]
    }
   ],
   "source": [
    "height = 174.9\n",
    "weight = 77.15\n",
    "print(\"내 키는 %.1fcm입니다. 내 몸무게는 %.2fkg입니다.\"%(height, weight))"
   ]
  },
  {
   "cell_type": "markdown",
   "id": "4ca91a51",
   "metadata": {},
   "source": [
    "## format() 메소드\n",
    "\n",
    "- 함수의 인수로 변수나 값을 표시하고, 해당 값이 표시될 위치를 중괄호({})로 표시"
   ]
  },
  {
   "cell_type": "code",
   "execution_count": 49,
   "id": "4e8ed27d",
   "metadata": {},
   "outputs": [
    {
     "name": "stdout",
     "output_type": "stream",
     "text": [
      "Breakfast is banana and protein\n"
     ]
    }
   ],
   "source": [
    "print(\"Breakfast is {} and {}\" .format(\"banana\", \"protein\"))"
   ]
  },
  {
   "cell_type": "code",
   "execution_count": 50,
   "id": "b860a435",
   "metadata": {},
   "outputs": [
    {
     "name": "stdout",
     "output_type": "stream",
     "text": [
      "My name is Jun\n",
      "My name is Jun\n",
      "My name is James\n"
     ]
    }
   ],
   "source": [
    "print(\"My name is {}\" .format(name))\n",
    "print(\"My name is {0}\" .format(name))     #들어가는 순서를 지정할 수 있음\n",
    "print(\"My name is {name}\" .format(name = \"James\"))"
   ]
  },
  {
   "cell_type": "code",
   "execution_count": 53,
   "id": "dee4c5d1",
   "metadata": {},
   "outputs": [
    {
     "name": "stdout",
     "output_type": "stream",
     "text": [
      "My name is James. I am 25 years old\n"
     ]
    }
   ],
   "source": [
    "print(\"My name is {name}. I am {age} years old\" .format(name = \"James\", age = 25))"
   ]
  },
  {
   "cell_type": "markdown",
   "id": "932be8a4",
   "metadata": {},
   "source": [
    "## f-strings\n",
    "\n",
    "- format()과 유사하지만 가독성이 뛰어나고 속도가 가장 빠르다\n",
    "- 파이선 3.6버전 이후로 지원하는 기능 (현재는 최신버전 3.10~11 사용중...?)\n",
    "- 중괄호 내부에서 연산자의 사용이나 함수의 호출도 가능"
   ]
  },
  {
   "cell_type": "code",
   "execution_count": 6,
   "id": "2ef7cf7f",
   "metadata": {},
   "outputs": [],
   "source": [
    "who = \"you\"\n",
    "how = \"happy\""
   ]
  },
  {
   "cell_type": "code",
   "execution_count": 7,
   "id": "7bdee96f",
   "metadata": {},
   "outputs": [
    {
     "name": "stdout",
     "output_type": "stream",
     "text": [
      "you make me happy\n"
     ]
    }
   ],
   "source": [
    "print(f\"{who} make me {how}\")"
   ]
  },
  {
   "cell_type": "code",
   "execution_count": 9,
   "id": "ca88ee42",
   "metadata": {},
   "outputs": [
    {
     "name": "stdout",
     "output_type": "stream",
     "text": [
      "올해는 25살입니다. 내년에는 26살이 됩니다.\n"
     ]
    }
   ],
   "source": [
    "age = 25\n",
    "print(f\"올해는 {age}살입니다. 내년에는 {age + 1}살이 됩니다.\")"
   ]
  },
  {
   "cell_type": "markdown",
   "id": "9a15e653",
   "metadata": {},
   "source": [
    "# 표준입력"
   ]
  },
  {
   "cell_type": "markdown",
   "id": "634056dd",
   "metadata": {},
   "source": [
    "## input() 함수\n",
    "\n",
    "- 키보드로부터 값을 입력받을 때 사용\n",
    "- 모든 입력을 문자열로 저장함"
   ]
  },
  {
   "cell_type": "code",
   "execution_count": 12,
   "id": "dee2bf60",
   "metadata": {},
   "outputs": [
    {
     "name": "stdout",
     "output_type": "stream",
     "text": [
      "20\n"
     ]
    }
   ],
   "source": [
    "n = input(\"\")"
   ]
  },
  {
   "cell_type": "code",
   "execution_count": 13,
   "id": "0104a39f",
   "metadata": {},
   "outputs": [
    {
     "name": "stdout",
     "output_type": "stream",
     "text": [
      "20\n"
     ]
    }
   ],
   "source": [
    "print(n)"
   ]
  },
  {
   "cell_type": "code",
   "execution_count": 15,
   "id": "5bd23a97",
   "metadata": {},
   "outputs": [
    {
     "name": "stdout",
     "output_type": "stream",
     "text": [
      "20\n"
     ]
    }
   ],
   "source": [
    "print(n)"
   ]
  },
  {
   "cell_type": "code",
   "execution_count": 16,
   "id": "7dd98f5a",
   "metadata": {},
   "outputs": [
    {
     "name": "stdout",
     "output_type": "stream",
     "text": [
      "이름을 입력하세요 : 홍길동\n",
      "나이를 입력하세요 : 30\n"
     ]
    }
   ],
   "source": [
    "name = input(\"이름을 입력하세요 : \")\n",
    "age = input(\"나이를 입력하세요 : \")"
   ]
  },
  {
   "cell_type": "code",
   "execution_count": 17,
   "id": "7d8e0b9e",
   "metadata": {},
   "outputs": [
    {
     "name": "stdout",
     "output_type": "stream",
     "text": [
      "입력된 이름은 홍길동입니다. \n",
      "입력된 나이는 30살 입니다.\n"
     ]
    }
   ],
   "source": [
    "print(f\"입력된 이름은 {name}입니다. \\n입력된 나이는 {age}살 입니다.\")"
   ]
  },
  {
   "cell_type": "markdown",
   "id": "2ed02d73",
   "metadata": {},
   "source": [
    "## 형 변환"
   ]
  },
  {
   "cell_type": "code",
   "execution_count": 18,
   "id": "0d25351e",
   "metadata": {},
   "outputs": [
    {
     "data": {
      "text/plain": [
       "'20'"
      ]
     },
     "execution_count": 18,
     "metadata": {},
     "output_type": "execute_result"
    }
   ],
   "source": [
    "n"
   ]
  },
  {
   "cell_type": "code",
   "execution_count": 19,
   "id": "2d1163f8",
   "metadata": {},
   "outputs": [
    {
     "name": "stdout",
     "output_type": "stream",
     "text": [
      "<class 'str'>\n"
     ]
    }
   ],
   "source": [
    "print(type(n))"
   ]
  },
  {
   "cell_type": "code",
   "execution_count": 20,
   "id": "7579f62a",
   "metadata": {},
   "outputs": [
    {
     "data": {
      "text/plain": [
       "20"
      ]
     },
     "execution_count": 20,
     "metadata": {},
     "output_type": "execute_result"
    }
   ],
   "source": [
    "int(n)"
   ]
  },
  {
   "cell_type": "code",
   "execution_count": 22,
   "id": "820f93e0",
   "metadata": {},
   "outputs": [
    {
     "name": "stdout",
     "output_type": "stream",
     "text": [
      "정수 입력 : 5\n"
     ]
    }
   ],
   "source": [
    "n = int(input(\"정수 입력 : \"))"
   ]
  },
  {
   "cell_type": "code",
   "execution_count": 23,
   "id": "7a4a683d",
   "metadata": {},
   "outputs": [
    {
     "name": "stdout",
     "output_type": "stream",
     "text": [
      "<class 'int'>\n"
     ]
    }
   ],
   "source": [
    "print(type(n))"
   ]
  },
  {
   "cell_type": "code",
   "execution_count": 31,
   "id": "809178e6",
   "metadata": {},
   "outputs": [
    {
     "name": "stdout",
     "output_type": "stream",
     "text": [
      "할부 개월 입력 : 10\n",
      "매달 내는 돈은 5000.0원 입니다.\n"
     ]
    }
   ],
   "source": [
    "# 예제\n",
    "price = 50000\n",
    "n = int(input(\"할부 개월 입력 : \"))\n",
    "print(f\"매달 내는 돈은 {price / n}원 입니다.\")"
   ]
  }
 ],
 "metadata": {
  "kernelspec": {
   "display_name": "Python 3 (ipykernel)",
   "language": "python",
   "name": "python3"
  },
  "language_info": {
   "codemirror_mode": {
    "name": "ipython",
    "version": 3
   },
   "file_extension": ".py",
   "mimetype": "text/x-python",
   "name": "python",
   "nbconvert_exporter": "python",
   "pygments_lexer": "ipython3",
   "version": "3.11.5"
  }
 },
 "nbformat": 4,
 "nbformat_minor": 5
}
