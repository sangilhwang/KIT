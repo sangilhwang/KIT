{
 "cells": [
  {
   "cell_type": "markdown",
   "id": "54ad63ae",
   "metadata": {},
   "source": [
    "# 파일입출력의 개요\n",
    "\n",
    "- 파일 입력 : 파일의 내용을 읽어들이는 것\n",
    "- 파일 출력 : 파일에 새로운 내용을 추가하거나 새 파일을 생성하는 것"
   ]
  },
  {
   "cell_type": "markdown",
   "id": "c375ad4c",
   "metadata": {},
   "source": [
    "## 파일 열기\n",
    "\n",
    "- 입출력 작업을 할 파일을 지정하는 것"
   ]
  },
  {
   "cell_type": "code",
   "execution_count": 1,
   "id": "b454977b",
   "metadata": {},
   "outputs": [],
   "source": [
    "f = open(\"./sample.txt\", mode = \"r\")"
   ]
  },
  {
   "cell_type": "markdown",
   "id": "4cea1d8e",
   "metadata": {},
   "source": [
    "### 파일 열기 모드\n",
    "\n",
    "- r : 읽기 모드, 파일 없으면 Error\n",
    "- w : 쓰기 모드, 파일 없으면 새로 만듦\n",
    "    - 기존 파일에 있던 데이터를 완전히 지우고 다시 씀\n",
    "- a : 파일 추가로 쓰기 모드, 파일이 없으면 새로 만듦\n",
    "\n",
    "- r+ : 읽기 또는 쓰기모드, 파일 없으면 Error\n",
    "    - 기존 파일 내용은 그대로 두고 그 위에 덮어 쓰기를 함\n",
    "- w+ : 읽기 또는 쓰기 모드, 파일 없으면 새로 만듦\n",
    "- a+ : 읽기 또는 파일 추가 모드, 파일 없으면 새로 만듦\n",
    "\n",
    "- t : 텍스트 모드로 파일을 엶\n",
    "    - wt, rt, at\n",
    "- b : 바이너리 모드로 파일을 엶\n",
    "    - rb, wb, ab"
   ]
  },
  {
   "cell_type": "code",
   "execution_count": 2,
   "id": "0963530d",
   "metadata": {},
   "outputs": [],
   "source": [
    "# 파일 닫기\n",
    "f.close()"
   ]
  },
  {
   "cell_type": "markdown",
   "id": "d56459dc",
   "metadata": {},
   "source": [
    "### 파일 생성"
   ]
  },
  {
   "cell_type": "code",
   "execution_count": 3,
   "id": "23a8d9a7",
   "metadata": {},
   "outputs": [],
   "source": [
    "f = open(\"myfile.txt\", mode = \"w\")\n",
    "f.close()"
   ]
  },
  {
   "cell_type": "markdown",
   "id": "b8725ff6",
   "metadata": {},
   "source": [
    "## with 문\n",
    "\n",
    "- 파일 사용이 끝난 다음에는 반드시 close() 로 파일을 닫아줘야 함\n",
    "- 자동으로 파일을 닫아주는 문법이 with 문"
   ]
  },
  {
   "cell_type": "code",
   "execution_count": 7,
   "id": "f8782a55",
   "metadata": {},
   "outputs": [
    {
     "name": "stdout",
     "output_type": "stream",
     "text": [
      "myfile.txt 파일이 생성됨\n"
     ]
    }
   ],
   "source": [
    "with open(\"myfile.txt\", mode = \"w\") as f:\n",
    "    print(\"myfile.txt 파일이 생성됨\")"
   ]
  },
  {
   "cell_type": "markdown",
   "id": "3f26c864",
   "metadata": {},
   "source": [
    "## 파일 출력"
   ]
  },
  {
   "cell_type": "code",
   "execution_count": 9,
   "id": "f2f17e18",
   "metadata": {},
   "outputs": [],
   "source": [
    "with open(\"myfile.txt\", mode = \"w\") as f:\n",
    "    f.write(\"안녕하세요\\n반갑습니다\\n\")"
   ]
  },
  {
   "cell_type": "markdown",
   "id": "003684ca",
   "metadata": {},
   "source": [
    "### 파일에 내용 추가"
   ]
  },
  {
   "cell_type": "code",
   "execution_count": 10,
   "id": "1a643b1d",
   "metadata": {},
   "outputs": [],
   "source": [
    "with open(\"myfile.txt\", mode = \"a\") as f:\n",
    "    f.write(\"Hello\\nNice to meet you\\n\")"
   ]
  },
  {
   "cell_type": "markdown",
   "id": "da5488e6",
   "metadata": {},
   "source": [
    "## 파일 입력"
   ]
  },
  {
   "cell_type": "code",
   "execution_count": 11,
   "id": "e6f5cb5d",
   "metadata": {},
   "outputs": [
    {
     "name": "stdout",
     "output_type": "stream",
     "text": [
      "안녕하세요\n",
      "반갑습니다\n",
      "Hello\n",
      "Nice to meet you\n",
      "\n"
     ]
    }
   ],
   "source": [
    "# read()\n",
    "with open(\"myfile.txt\", mode = \"r\") as f:\n",
    "    string = f.read()\n",
    "    print(string)"
   ]
  },
  {
   "cell_type": "code",
   "execution_count": 12,
   "id": "6f0f67e5",
   "metadata": {},
   "outputs": [
    {
     "name": "stdout",
     "output_type": "stream",
     "text": [
      "안녕하세요\n"
     ]
    }
   ],
   "source": [
    "with open(\"myfile.txt\", mode = \"r\") as f:\n",
    "    string = f.read(5) # 최대 5글자만 읽음\n",
    "    print(string)"
   ]
  },
  {
   "cell_type": "code",
   "execution_count": 13,
   "id": "38361e90",
   "metadata": {
    "scrolled": true
   },
   "outputs": [
    {
     "name": "stdout",
     "output_type": "stream",
     "text": [
      "안녕하세요\n",
      "\n",
      "반갑습니다\n",
      "\n",
      "Hello\n",
      "\n",
      "Nice to meet you\n",
      "\n"
     ]
    }
   ],
   "source": [
    "# readline()\n",
    "with open(\"myfile.txt\", mode = \"r\") as f:\n",
    "    while True:\n",
    "        string = f.readline()\n",
    "        \n",
    "        if string == \"\":\n",
    "            break\n",
    "            \n",
    "        print(string)"
   ]
  },
  {
   "cell_type": "code",
   "execution_count": 14,
   "id": "2f80ed4b",
   "metadata": {},
   "outputs": [
    {
     "name": "stdout",
     "output_type": "stream",
     "text": [
      "안녕하세요\n",
      "\n",
      "반갑습니다\n",
      "\n",
      "Hello\n",
      "\n",
      "Nice to meet you\n",
      "\n"
     ]
    }
   ],
   "source": [
    "# readlines()\n",
    "with open(\"myfile.txt\", mode = \"r\") as f:\n",
    "    # f.readlines() = [\"안녕하세요\\n\", \"반갑습니다\\n\", \"Hello\\n\", \"Nice to meet you\\n\"]\n",
    "    for line in f.readlines():\n",
    "        print(line)"
   ]
  },
  {
   "cell_type": "code",
   "execution_count": null,
   "id": "166d5e3b",
   "metadata": {},
   "outputs": [],
   "source": []
  },
  {
   "cell_type": "code",
   "execution_count": null,
   "id": "33a87f8d",
   "metadata": {},
   "outputs": [],
   "source": []
  },
  {
   "cell_type": "code",
   "execution_count": null,
   "id": "4a5e80f0",
   "metadata": {},
   "outputs": [],
   "source": []
  },
  {
   "cell_type": "code",
   "execution_count": null,
   "id": "e5a3a9ba",
   "metadata": {},
   "outputs": [],
   "source": []
  },
  {
   "cell_type": "code",
   "execution_count": null,
   "id": "3d6df2f9",
   "metadata": {},
   "outputs": [],
   "source": []
  },
  {
   "cell_type": "code",
   "execution_count": null,
   "id": "c42c5ace",
   "metadata": {},
   "outputs": [],
   "source": []
  },
  {
   "cell_type": "code",
   "execution_count": null,
   "id": "91ae07bc",
   "metadata": {},
   "outputs": [],
   "source": []
  },
  {
   "cell_type": "code",
   "execution_count": null,
   "id": "62b6ab66",
   "metadata": {},
   "outputs": [],
   "source": []
  },
  {
   "cell_type": "code",
   "execution_count": null,
   "id": "2447bfc7",
   "metadata": {},
   "outputs": [],
   "source": []
  },
  {
   "cell_type": "code",
   "execution_count": null,
   "id": "5cb952a7",
   "metadata": {},
   "outputs": [],
   "source": []
  },
  {
   "cell_type": "code",
   "execution_count": null,
   "id": "2bec3baf",
   "metadata": {},
   "outputs": [],
   "source": []
  },
  {
   "cell_type": "code",
   "execution_count": null,
   "id": "d248b3f8",
   "metadata": {},
   "outputs": [],
   "source": []
  },
  {
   "cell_type": "code",
   "execution_count": null,
   "id": "2ddc50e5",
   "metadata": {},
   "outputs": [],
   "source": []
  },
  {
   "cell_type": "code",
   "execution_count": null,
   "id": "646c8f8d",
   "metadata": {},
   "outputs": [],
   "source": []
  },
  {
   "cell_type": "code",
   "execution_count": null,
   "id": "d741f1f3",
   "metadata": {},
   "outputs": [],
   "source": []
  },
  {
   "cell_type": "code",
   "execution_count": null,
   "id": "12f7d2ad",
   "metadata": {},
   "outputs": [],
   "source": []
  },
  {
   "cell_type": "code",
   "execution_count": null,
   "id": "22d44e02",
   "metadata": {},
   "outputs": [],
   "source": []
  },
  {
   "cell_type": "code",
   "execution_count": null,
   "id": "f95a0caa",
   "metadata": {},
   "outputs": [],
   "source": []
  },
  {
   "cell_type": "code",
   "execution_count": null,
   "id": "c2ec2afa",
   "metadata": {},
   "outputs": [],
   "source": []
  },
  {
   "cell_type": "code",
   "execution_count": null,
   "id": "192ab9cc",
   "metadata": {},
   "outputs": [],
   "source": []
  },
  {
   "cell_type": "code",
   "execution_count": null,
   "id": "77355005",
   "metadata": {},
   "outputs": [],
   "source": []
  },
  {
   "cell_type": "code",
   "execution_count": null,
   "id": "703dee31",
   "metadata": {},
   "outputs": [],
   "source": []
  },
  {
   "cell_type": "code",
   "execution_count": null,
   "id": "839222fd",
   "metadata": {},
   "outputs": [],
   "source": []
  },
  {
   "cell_type": "code",
   "execution_count": null,
   "id": "fa9a00b9",
   "metadata": {},
   "outputs": [],
   "source": []
  },
  {
   "cell_type": "code",
   "execution_count": null,
   "id": "2109aed0",
   "metadata": {},
   "outputs": [],
   "source": []
  },
  {
   "cell_type": "code",
   "execution_count": null,
   "id": "ec5859dd",
   "metadata": {},
   "outputs": [],
   "source": []
  },
  {
   "cell_type": "code",
   "execution_count": null,
   "id": "482257ff",
   "metadata": {},
   "outputs": [],
   "source": []
  },
  {
   "cell_type": "code",
   "execution_count": null,
   "id": "597db3fe",
   "metadata": {},
   "outputs": [],
   "source": []
  },
  {
   "cell_type": "code",
   "execution_count": null,
   "id": "288f8296",
   "metadata": {},
   "outputs": [],
   "source": []
  },
  {
   "cell_type": "code",
   "execution_count": null,
   "id": "2ad73f9f",
   "metadata": {},
   "outputs": [],
   "source": []
  },
  {
   "cell_type": "code",
   "execution_count": null,
   "id": "30a9adac",
   "metadata": {},
   "outputs": [],
   "source": []
  },
  {
   "cell_type": "code",
   "execution_count": null,
   "id": "41304a48",
   "metadata": {},
   "outputs": [],
   "source": []
  },
  {
   "cell_type": "code",
   "execution_count": null,
   "id": "64e4be10",
   "metadata": {},
   "outputs": [],
   "source": []
  },
  {
   "cell_type": "code",
   "execution_count": null,
   "id": "76139890",
   "metadata": {},
   "outputs": [],
   "source": []
  },
  {
   "cell_type": "code",
   "execution_count": null,
   "id": "1e61338e",
   "metadata": {},
   "outputs": [],
   "source": []
  },
  {
   "cell_type": "code",
   "execution_count": null,
   "id": "bdf588e0",
   "metadata": {},
   "outputs": [],
   "source": []
  },
  {
   "cell_type": "code",
   "execution_count": null,
   "id": "ef8548da",
   "metadata": {},
   "outputs": [],
   "source": []
  },
  {
   "cell_type": "code",
   "execution_count": null,
   "id": "167a9089",
   "metadata": {},
   "outputs": [],
   "source": []
  },
  {
   "cell_type": "code",
   "execution_count": null,
   "id": "6d36f81d",
   "metadata": {},
   "outputs": [],
   "source": []
  },
  {
   "cell_type": "code",
   "execution_count": null,
   "id": "2f39fc04",
   "metadata": {},
   "outputs": [],
   "source": []
  },
  {
   "cell_type": "code",
   "execution_count": null,
   "id": "acffa57d",
   "metadata": {},
   "outputs": [],
   "source": []
  },
  {
   "cell_type": "code",
   "execution_count": null,
   "id": "fa17cf87",
   "metadata": {},
   "outputs": [],
   "source": []
  },
  {
   "cell_type": "code",
   "execution_count": null,
   "id": "8cd5d8ea",
   "metadata": {},
   "outputs": [],
   "source": []
  },
  {
   "cell_type": "code",
   "execution_count": null,
   "id": "63bd9d4d",
   "metadata": {},
   "outputs": [],
   "source": []
  },
  {
   "cell_type": "code",
   "execution_count": null,
   "id": "6a77f876",
   "metadata": {},
   "outputs": [],
   "source": []
  }
 ],
 "metadata": {
  "kernelspec": {
   "display_name": "Python 3 (ipykernel)",
   "language": "python",
   "name": "python3"
  },
  "language_info": {
   "codemirror_mode": {
    "name": "ipython",
    "version": 3
   },
   "file_extension": ".py",
   "mimetype": "text/x-python",
   "name": "python",
   "nbconvert_exporter": "python",
   "pygments_lexer": "ipython3",
   "version": "3.11.5"
  }
 },
 "nbformat": 4,
 "nbformat_minor": 5
}
