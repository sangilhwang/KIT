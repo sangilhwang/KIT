{
 "cells": [
  {
   "cell_type": "markdown",
   "id": "04625f1a",
   "metadata": {},
   "source": [
    "# 컬렉션\n",
    "\n",
    "- 여러 값을 하나의 이름으로 묶어서 관리하는 자료형\n",
    "- 가장 활용도가 높은 것은 리스트\n",
    "\n",
    "| 컬렉션 | 생성 함수 | 특징 | 예시 |\n",
    "| :-- | :-- | :-- | :-- |\n",
    "| 리스트 | list() | 추가, 수정, 삭제가 언제나 가능 | a = [1 ,2 ,3] |\n",
    "| 튜플 | tuple() | 생성되고 나면 변경 불가능 | a = (1, 2, 3)|\n",
    "| 세트 | set() | 중복된 값의 저장 불가능 | a = {1, 2, 3) |\n",
    "| 딕셔너리 | dict() | 키 + 값으로 관리 | a = {\"age\" : 25} | \n",
    "\n",
    "- 이 중에서 저장된 값들의 순서가 있는 컬렉션을 시퀀스(sequence)라고 부름\n",
    "    - 시퀀스 : 리스트, 튜플"
   ]
  },
  {
   "cell_type": "markdown",
   "id": "0a29ed43",
   "metadata": {},
   "source": [
    "## 리스트\n",
    "\n",
    "- 여러 값을 저장할 때 가장 많이 사용하는 자료형\n",
    "- 저장하려는 값들의 자료형이 서로 다르더라도 하나의 리스트로 저장할 수 있음"
   ]
  },
  {
   "cell_type": "code",
   "execution_count": 1,
   "id": "d24f4fe2",
   "metadata": {},
   "outputs": [
    {
     "name": "stdout",
     "output_type": "stream",
     "text": [
      "[100, 3.14, 'hello']\n"
     ]
    }
   ],
   "source": [
    "# 리스트 생성\n",
    "\n",
    "li = [100, 3.14, \"hello\" ]\n",
    "print(li)"
   ]
  },
  {
   "cell_type": "code",
   "execution_count": 5,
   "id": "68a861e9",
   "metadata": {},
   "outputs": [
    {
     "data": {
      "text/plain": [
       "[0, 1, 2, 3, 4, 5, 6, 7, 8, 9]"
      ]
     },
     "execution_count": 5,
     "metadata": {},
     "output_type": "execute_result"
    }
   ],
   "source": [
    "# range() : 연속된 숫자 생성 - 일정한 수열을 만들어낼 때 사용\n",
    "# 풀함수는 range(시작값, 종료값, 증감값) 하지만 일부 생략 가능\n",
    "# 값이 1개만 입력된 경우, 종료값으로 판단한다. 시작 값은 0, 증감값은 1\n",
    "# 값이 2개만 입력된 경우, 시작값과 종료값으로 판단한다. 증감값은 1\n",
    "# 종료값 없이는 range() 함수를 사용할 수 없다\n",
    "# 종료값은 포함되지 않는다.\n",
    "# range 내에는 정수만 입력할 수 있다. 음수값은 넣을 수 있다.\n",
    "\n",
    "list(range(0,10,1))\n",
    "list(range(0,10))\n",
    "list(range(10))"
   ]
  },
  {
   "cell_type": "code",
   "execution_count": 18,
   "id": "8416f7d6",
   "metadata": {},
   "outputs": [
    {
     "data": {
      "text/plain": [
       "[-4, -2, 0, 2, 4, 6, 8]"
      ]
     },
     "execution_count": 18,
     "metadata": {},
     "output_type": "execute_result"
    }
   ],
   "source": [
    "list(range(-4,10,2))   "
   ]
  },
  {
   "cell_type": "code",
   "execution_count": 8,
   "id": "3c14c01c",
   "metadata": {},
   "outputs": [
    {
     "data": {
      "text/plain": [
       "[10, 9, 8, 7, 6, 5, 4, 3, 2, 1]"
      ]
     },
     "execution_count": 8,
     "metadata": {},
     "output_type": "execute_result"
    }
   ],
   "source": [
    "list(range(10, 0, -1))"
   ]
  },
  {
   "cell_type": "code",
   "execution_count": 17,
   "id": "052cbafe",
   "metadata": {},
   "outputs": [
    {
     "data": {
      "text/plain": [
       "[5, 3, 1, -1, -3, -5, -7, -9]"
      ]
     },
     "execution_count": 17,
     "metadata": {},
     "output_type": "execute_result"
    }
   ],
   "source": [
    "# range()를 이용하여 [5, 3, 1, -1, -3, -5, -7, -9] 를 출력\n",
    "\n",
    "list(range(5, -10, -2))"
   ]
  },
  {
   "cell_type": "markdown",
   "id": "fa30663a",
   "metadata": {},
   "source": [
    "### 리스트의 인덱싱(indexing) 과 슬라이싱 (slicing)"
   ]
  },
  {
   "cell_type": "code",
   "execution_count": 20,
   "id": "af0035fb",
   "metadata": {},
   "outputs": [
    {
     "name": "stdout",
     "output_type": "stream",
     "text": [
      "100\n",
      "3.14\n",
      "hello\n"
     ]
    }
   ],
   "source": [
    "# 인덱싱\n",
    "\n",
    "print(li[0])\n",
    "print(li[1])\n",
    "print(li[2])"
   ]
  },
  {
   "cell_type": "code",
   "execution_count": 25,
   "id": "c45c43ac",
   "metadata": {},
   "outputs": [
    {
     "data": {
      "text/plain": [
       "[10, 20, 30, 40, 50]"
      ]
     },
     "execution_count": 25,
     "metadata": {},
     "output_type": "execute_result"
    }
   ],
   "source": [
    "# 슬라이싱\n",
    "\n",
    "li = [10, 20, 30, 40, 50]\n",
    "li[:]"
   ]
  },
  {
   "cell_type": "markdown",
   "id": "beb4462c",
   "metadata": {},
   "source": [
    "### 리스트 요소의 추가와 삭제\n",
    "\n",
    "- 새로운 요소 추가 : append(), insert()\n",
    "- 기존 요소 삭제 : pop(), del()"
   ]
  },
  {
   "cell_type": "code",
   "execution_count": 39,
   "id": "94dd6898",
   "metadata": {},
   "outputs": [
    {
     "data": {
      "text/plain": [
       "[50, 40, 30]"
      ]
     },
     "execution_count": 39,
     "metadata": {},
     "output_type": "execute_result"
    }
   ],
   "source": [
    "scores = [50, 40, 30]\n",
    "scores"
   ]
  },
  {
   "cell_type": "markdown",
   "id": "9b643b3a",
   "metadata": {},
   "source": [
    "### append는 값을 가장 마지막에 추가한다."
   ]
  },
  {
   "cell_type": "code",
   "execution_count": 40,
   "id": "808a1fd9",
   "metadata": {},
   "outputs": [
    {
     "data": {
      "text/plain": [
       "[50, 40, 30, 100]"
      ]
     },
     "execution_count": 40,
     "metadata": {},
     "output_type": "execute_result"
    }
   ],
   "source": [
    "scores.append(100)\n",
    "scores"
   ]
  },
  {
   "cell_type": "markdown",
   "id": "5ebaa1c4",
   "metadata": {},
   "source": [
    "### insert는 원하는 인덱스에 값을 추가하고 다른 값을 뒤로 밀어냄"
   ]
  },
  {
   "cell_type": "code",
   "execution_count": 41,
   "id": "93846e93",
   "metadata": {},
   "outputs": [
    {
     "data": {
      "text/plain": [
       "[90, 50, 40, 30, 100]"
      ]
     },
     "execution_count": 41,
     "metadata": {},
     "output_type": "execute_result"
    }
   ],
   "source": [
    "scores.insert(0,90)\n",
    "scores"
   ]
  },
  {
   "cell_type": "markdown",
   "id": "781be282",
   "metadata": {},
   "source": [
    "### pop은 리스트의 특정한 요소를 제거 (인덱스 미입력 시 -1)"
   ]
  },
  {
   "cell_type": "code",
   "execution_count": 42,
   "id": "c8f2cdc3",
   "metadata": {},
   "outputs": [
    {
     "data": {
      "text/plain": [
       "100"
      ]
     },
     "execution_count": 42,
     "metadata": {},
     "output_type": "execute_result"
    }
   ],
   "source": [
    "scores.pop()\n"
   ]
  },
  {
   "cell_type": "code",
   "execution_count": 43,
   "id": "34eb0ba2",
   "metadata": {},
   "outputs": [
    {
     "data": {
      "text/plain": [
       "[90, 50, 40, 30]"
      ]
     },
     "execution_count": 43,
     "metadata": {},
     "output_type": "execute_result"
    }
   ],
   "source": [
    "scores"
   ]
  },
  {
   "cell_type": "code",
   "execution_count": 44,
   "id": "b12af4f0",
   "metadata": {},
   "outputs": [
    {
     "data": {
      "text/plain": [
       "90"
      ]
     },
     "execution_count": 44,
     "metadata": {},
     "output_type": "execute_result"
    }
   ],
   "source": [
    "# 특정 인덱스의 요소를 제거 후 제거한 요소를 표시\n",
    "scores.pop(0)"
   ]
  },
  {
   "cell_type": "code",
   "execution_count": 45,
   "id": "2c561142",
   "metadata": {},
   "outputs": [
    {
     "data": {
      "text/plain": [
       "[50, 40, 30]"
      ]
     },
     "execution_count": 45,
     "metadata": {},
     "output_type": "execute_result"
    }
   ],
   "source": [
    "scores"
   ]
  },
  {
   "cell_type": "code",
   "execution_count": 46,
   "id": "0bd9ee26",
   "metadata": {},
   "outputs": [],
   "source": [
    "# 인덱스가 n인 값을 제거 (꼭 입력해야함)\n",
    "del scores[0]"
   ]
  },
  {
   "cell_type": "code",
   "execution_count": 47,
   "id": "c5c02579",
   "metadata": {},
   "outputs": [
    {
     "data": {
      "text/plain": [
       "[40, 30]"
      ]
     },
     "execution_count": 47,
     "metadata": {},
     "output_type": "execute_result"
    }
   ],
   "source": [
    "scores"
   ]
  },
  {
   "cell_type": "markdown",
   "id": "c55175da",
   "metadata": {},
   "source": [
    "## 튜플\n",
    "\n",
    "- 지정된 값을 변경할 수 없는 리스트\n",
    "- 리스트와 인덱싱, 슬라이싱 가능하지만 값의 추가, 수정, 삭제가 불가능\n",
    "- 표현법 : 소괄호() 또는 tuple() / 사실 본체는 , 표시...?"
   ]
  },
  {
   "cell_type": "code",
   "execution_count": 52,
   "id": "70ddc3a1",
   "metadata": {},
   "outputs": [],
   "source": [
    "#t4 빼고는 전부 튜플로 인정되는 양식\n",
    "#t3는 리스트 양식을 튜플 양식으로 변환\n",
    "\n",
    "t1 = (1, 2, 3)\n",
    "t2 = 1, 2, 3\n",
    "t3 = tuple([100, 3.14, \"hello\"])\n",
    "t4 = (100)\n",
    "t5 = (100,)"
   ]
  },
  {
   "cell_type": "code",
   "execution_count": 53,
   "id": "b0518de7",
   "metadata": {},
   "outputs": [
    {
     "name": "stdout",
     "output_type": "stream",
     "text": [
      "(1, 2, 3)\n",
      "<class 'tuple'>\n"
     ]
    }
   ],
   "source": [
    "print(t1)\n",
    "print(type(t1))"
   ]
  },
  {
   "cell_type": "code",
   "execution_count": 54,
   "id": "9777347b",
   "metadata": {},
   "outputs": [
    {
     "name": "stdout",
     "output_type": "stream",
     "text": [
      "(1, 2, 3)\n",
      "<class 'tuple'>\n"
     ]
    }
   ],
   "source": [
    "print(t2)\n",
    "print(type(t2))"
   ]
  },
  {
   "cell_type": "code",
   "execution_count": 55,
   "id": "1f656fa5",
   "metadata": {},
   "outputs": [
    {
     "name": "stdout",
     "output_type": "stream",
     "text": [
      "(100, 3.14, 'hello')\n",
      "<class 'tuple'>\n"
     ]
    }
   ],
   "source": [
    "print(t3)\n",
    "print(type(t3))"
   ]
  },
  {
   "cell_type": "code",
   "execution_count": 56,
   "id": "a534e384",
   "metadata": {},
   "outputs": [
    {
     "name": "stdout",
     "output_type": "stream",
     "text": [
      "100\n",
      "<class 'int'>\n"
     ]
    }
   ],
   "source": [
    "print(t4)\n",
    "print(type(t4))"
   ]
  },
  {
   "cell_type": "code",
   "execution_count": 57,
   "id": "b2396db2",
   "metadata": {},
   "outputs": [
    {
     "name": "stdout",
     "output_type": "stream",
     "text": [
      "(100,)\n",
      "<class 'tuple'>\n"
     ]
    }
   ],
   "source": [
    "print(t5)\n",
    "print(type(t5))"
   ]
  },
  {
   "cell_type": "markdown",
   "id": "c4c13468",
   "metadata": {},
   "source": [
    "## 시퀀스 자료의 공통 기능\n",
    "\n",
    "- 시퀀스 : 리스트, 튜플, range, 문자열"
   ]
  },
  {
   "cell_type": "markdown",
   "id": "23ac2dba",
   "metadata": {},
   "source": [
    "### 특정 값이 있는지 확인\n",
    "\n",
    "- 값 in 시퀀스객체\n",
    "- 값 not in 시퀀스 객체"
   ]
  },
  {
   "cell_type": "code",
   "execution_count": 58,
   "id": "2ac2d2e5",
   "metadata": {},
   "outputs": [
    {
     "data": {
      "text/plain": [
       "[0, 10, 20, 30, 40, 50, 60, 70, 80, 90]"
      ]
     },
     "execution_count": 58,
     "metadata": {},
     "output_type": "execute_result"
    }
   ],
   "source": [
    "a = [0, 10, 20, 30, 40, 50, 60, 70 ,80 ,90]\n",
    "a"
   ]
  },
  {
   "cell_type": "code",
   "execution_count": 59,
   "id": "d2dd3956",
   "metadata": {},
   "outputs": [
    {
     "data": {
      "text/plain": [
       "True"
      ]
     },
     "execution_count": 59,
     "metadata": {},
     "output_type": "execute_result"
    }
   ],
   "source": [
    "30 in a"
   ]
  },
  {
   "cell_type": "code",
   "execution_count": 60,
   "id": "92acff0e",
   "metadata": {},
   "outputs": [
    {
     "data": {
      "text/plain": [
       "False"
      ]
     },
     "execution_count": 60,
     "metadata": {},
     "output_type": "execute_result"
    }
   ],
   "source": [
    "100 in a"
   ]
  },
  {
   "cell_type": "code",
   "execution_count": 62,
   "id": "7241ae83",
   "metadata": {},
   "outputs": [
    {
     "data": {
      "text/plain": [
       "False"
      ]
     },
     "execution_count": 62,
     "metadata": {},
     "output_type": "execute_result"
    }
   ],
   "source": [
    "30 not in a"
   ]
  },
  {
   "cell_type": "code",
   "execution_count": 63,
   "id": "eb2bf969",
   "metadata": {},
   "outputs": [
    {
     "data": {
      "text/plain": [
       "True"
      ]
     },
     "execution_count": 63,
     "metadata": {},
     "output_type": "execute_result"
    }
   ],
   "source": [
    "100 not in a "
   ]
  },
  {
   "cell_type": "markdown",
   "id": "380c938d",
   "metadata": {},
   "source": [
    "### 시퀀스 객체 연결\n",
    "\n",
    "- 시퀀스 객체는 + 연산자를 이용하여 연결할 수 있다\n",
    "    - 단 range는 연결되지 않음\n",
    "        - range를 연결할고자 한다면 리스트 혹은 튜플로 바꾸어서 연결\n",
    "- 해당 기능을 통해 연결하더라도 기존의 시퀀스 객체가 변경되는 것은 아니다        \n"
   ]
  },
  {
   "cell_type": "code",
   "execution_count": 64,
   "id": "10902318",
   "metadata": {},
   "outputs": [],
   "source": [
    "a = [0, 10, 20, 30]\n",
    "b = [9, 8, 7, 6]"
   ]
  },
  {
   "cell_type": "code",
   "execution_count": 65,
   "id": "f99e913a",
   "metadata": {},
   "outputs": [
    {
     "data": {
      "text/plain": [
       "[0, 10, 20, 30, 9, 8, 7, 6]"
      ]
     },
     "execution_count": 65,
     "metadata": {},
     "output_type": "execute_result"
    }
   ],
   "source": [
    "a + b"
   ]
  },
  {
   "cell_type": "code",
   "execution_count": 72,
   "id": "8258d165",
   "metadata": {},
   "outputs": [
    {
     "data": {
      "text/plain": [
       "(0, 1, 2, 3, 4, 5, 6, 7, 8, 9, 10, 11, 12, 13, 14, 15, 16, 17, 18, 19)"
      ]
     },
     "execution_count": 72,
     "metadata": {},
     "output_type": "execute_result"
    }
   ],
   "source": [
    "tuple(range(10)) + tuple(range(10,20))"
   ]
  },
  {
   "cell_type": "code",
   "execution_count": 73,
   "id": "3be18004",
   "metadata": {},
   "outputs": [
    {
     "data": {
      "text/plain": [
       "'Hello, World!'"
      ]
     },
     "execution_count": 73,
     "metadata": {},
     "output_type": "execute_result"
    }
   ],
   "source": [
    "\"Hello, \" + \"World!\""
   ]
  },
  {
   "cell_type": "markdown",
   "id": "aef430b6",
   "metadata": {},
   "source": [
    "### 시퀀스 객체 반복\n",
    "\n",
    "- \\* 연산자 : 시퀀스 객체를 특정 횟수만큼 반복"
   ]
  },
  {
   "cell_type": "code",
   "execution_count": 74,
   "id": "4e4d47f1",
   "metadata": {},
   "outputs": [
    {
     "data": {
      "text/plain": [
       "'Hello Hello Hello '"
      ]
     },
     "execution_count": 74,
     "metadata": {},
     "output_type": "execute_result"
    }
   ],
   "source": [
    "\"Hello \" * 3"
   ]
  },
  {
   "cell_type": "markdown",
   "id": "b0cbf235",
   "metadata": {},
   "source": [
    "### 시퀀스 객체의 요소 개수 구하기\n",
    "\n",
    "- len() : 요소의 개수(길이)를 구하는 함수"
   ]
  },
  {
   "cell_type": "code",
   "execution_count": 75,
   "id": "4bd69005",
   "metadata": {},
   "outputs": [
    {
     "data": {
      "text/plain": [
       "10"
      ]
     },
     "execution_count": 75,
     "metadata": {},
     "output_type": "execute_result"
    }
   ],
   "source": [
    "a = [0, 10, 20, 30, 40, 50, 60 ,70 ,80 ,90]\n",
    "len(a)"
   ]
  },
  {
   "cell_type": "markdown",
   "id": "943ebc36",
   "metadata": {},
   "source": [
    "### 요소에 값 할당\n",
    "\n",
    "- .[.]. 로 요소에 접근한 뒤 = 로 할당\n",
    "- 시퀀스객체.[인덱스]. = 값"
   ]
  },
  {
   "cell_type": "code",
   "execution_count": 76,
   "id": "4d5f197a",
   "metadata": {},
   "outputs": [],
   "source": [
    "a = [0, 0, 0, 0, 0]"
   ]
  },
  {
   "cell_type": "code",
   "execution_count": 77,
   "id": "2e09cf84",
   "metadata": {},
   "outputs": [],
   "source": [
    "a[0] = 38"
   ]
  },
  {
   "cell_type": "code",
   "execution_count": 78,
   "id": "af50b584",
   "metadata": {},
   "outputs": [
    {
     "data": {
      "text/plain": [
       "[38, 0, 0, 0, 0]"
      ]
     },
     "execution_count": 78,
     "metadata": {},
     "output_type": "execute_result"
    }
   ],
   "source": [
    "a"
   ]
  },
  {
   "cell_type": "code",
   "execution_count": 79,
   "id": "6c8630cc",
   "metadata": {},
   "outputs": [],
   "source": [
    "a[1] = 25\n",
    "a[2] = 50\n",
    "a[3] = 40\n",
    "a[4] = 12"
   ]
  },
  {
   "cell_type": "code",
   "execution_count": 80,
   "id": "b357de45",
   "metadata": {},
   "outputs": [
    {
     "data": {
      "text/plain": [
       "[38, 25, 50, 40, 12]"
      ]
     },
     "execution_count": 80,
     "metadata": {},
     "output_type": "execute_result"
    }
   ],
   "source": [
    "a"
   ]
  },
  {
   "cell_type": "code",
   "execution_count": 164,
   "id": "cf697321",
   "metadata": {},
   "outputs": [],
   "source": [
    "# 1. 문자열 \"maple\" 의 가운데 글자를 출력\n",
    "s = \"maple\""
   ]
  },
  {
   "cell_type": "code",
   "execution_count": 165,
   "id": "7ff99abe",
   "metadata": {},
   "outputs": [
    {
     "data": {
      "text/plain": [
       "5"
      ]
     },
     "execution_count": 165,
     "metadata": {},
     "output_type": "execute_result"
    }
   ],
   "source": [
    "len(s)"
   ]
  },
  {
   "cell_type": "code",
   "execution_count": 166,
   "id": "33b11cf3",
   "metadata": {},
   "outputs": [
    {
     "data": {
      "text/plain": [
       "2"
      ]
     },
     "execution_count": 166,
     "metadata": {},
     "output_type": "execute_result"
    }
   ],
   "source": [
    "count=len(s)//2\n",
    "count"
   ]
  },
  {
   "cell_type": "code",
   "execution_count": 167,
   "id": "212fe541",
   "metadata": {},
   "outputs": [
    {
     "name": "stdout",
     "output_type": "stream",
     "text": [
      "p\n"
     ]
    }
   ],
   "source": [
    "print(s[count])"
   ]
  },
  {
   "cell_type": "code",
   "execution_count": 133,
   "id": "3ea5f084",
   "metadata": {},
   "outputs": [],
   "source": [
    "# 2. 리스트 [0, 10, 20, 30,40 ,50, 60 ,70 ,80 ,90 ,100]의 세번째부터 일곱번째\n",
    "# 요소까지만 추출한 결과 리스트에서 두번째 요소를 출력\n",
    "\n",
    "q2 = [0, 10, 20, 30, 40 ,50 ,60 ,70 ,80 ,90 ,100]"
   ]
  },
  {
   "cell_type": "code",
   "execution_count": 134,
   "id": "6e293dc1",
   "metadata": {},
   "outputs": [],
   "source": [
    "q21 = q2[2:7]"
   ]
  },
  {
   "cell_type": "code",
   "execution_count": 135,
   "id": "006c1ef5",
   "metadata": {},
   "outputs": [
    {
     "name": "stdout",
     "output_type": "stream",
     "text": [
      "30\n"
     ]
    }
   ],
   "source": [
    "print(q21[1])"
   ]
  },
  {
   "cell_type": "code",
   "execution_count": 170,
   "id": "024900d2",
   "metadata": {},
   "outputs": [
    {
     "name": "stdout",
     "output_type": "stream",
     "text": [
      "30\n"
     ]
    }
   ],
   "source": [
    "print(q2[2:7][1])\n",
    "\n",
    "#q2[2:7]을 하나의 리스트로 보고 그거의 1번 인덱스 값을 가져오기...!"
   ]
  },
  {
   "cell_type": "markdown",
   "id": "316ccb49",
   "metadata": {},
   "source": [
    "## 세트\n",
    "\n",
    "- 수학의 집합 개념을 구현한 자료형\n",
    "- 순서가 없기 때문에 인덱싱, 슬라이싱 불가\n",
    "- 중복 제거, 교집합, 합집합, 차집합 개념이 필요한 경우에 사용\n",
    "- 표현법 : 중괄호 {} 또는 set()\n",
    "    - 빈 중괄호를 입력하면 빈 딕셔너리가 생성된다\n",
    "    - 빈 세트를 생성하고자 한다면 set()를 통해서 생성해야 한다"
   ]
  },
  {
   "cell_type": "code",
   "execution_count": 171,
   "id": "8cd83ba0",
   "metadata": {},
   "outputs": [
    {
     "name": "stdout",
     "output_type": "stream",
     "text": [
      "<class 'dict'>\n"
     ]
    }
   ],
   "source": [
    "s = {}\n",
    "print(type(s))"
   ]
  },
  {
   "cell_type": "code",
   "execution_count": 172,
   "id": "548df172",
   "metadata": {},
   "outputs": [
    {
     "name": "stdout",
     "output_type": "stream",
     "text": [
      "<class 'set'>\n"
     ]
    }
   ],
   "source": [
    "s = set()\n",
    "print(type(s))"
   ]
  },
  {
   "cell_type": "markdown",
   "id": "55234c2e",
   "metadata": {},
   "source": [
    "### 세트의 특징\n",
    "\n",
    "1. 순서가 없음\n",
    "2. 중복된 값을 저장할 수 없음"
   ]
  },
  {
   "cell_type": "code",
   "execution_count": 177,
   "id": "ff16c939",
   "metadata": {},
   "outputs": [],
   "source": [
    "# 리스트의 중복 제거\n",
    "li = [3, 3, 2, 2, 1, 1]"
   ]
  },
  {
   "cell_type": "code",
   "execution_count": 178,
   "id": "40378ff6",
   "metadata": {},
   "outputs": [
    {
     "data": {
      "text/plain": [
       "{1, 2, 3}"
      ]
     },
     "execution_count": 178,
     "metadata": {},
     "output_type": "execute_result"
    }
   ],
   "source": [
    "set(li)"
   ]
  },
  {
   "cell_type": "markdown",
   "id": "10be9597",
   "metadata": {},
   "source": [
    "### 세트 요소의 추가와 삭제\n",
    "\n",
    "- 추가 : add()\n",
    "- 삭제 : remove(), discard()"
   ]
  },
  {
   "cell_type": "code",
   "execution_count": 179,
   "id": "529e81fc",
   "metadata": {},
   "outputs": [],
   "source": [
    "s = {10, 20, 30}\n",
    "s.add(40) # s 세트에 40을 추가"
   ]
  },
  {
   "cell_type": "code",
   "execution_count": 180,
   "id": "b5f155f4",
   "metadata": {},
   "outputs": [
    {
     "data": {
      "text/plain": [
       "{10, 20, 30, 40}"
      ]
     },
     "execution_count": 180,
     "metadata": {},
     "output_type": "execute_result"
    }
   ],
   "source": [
    "s"
   ]
  },
  {
   "cell_type": "code",
   "execution_count": 182,
   "id": "227307b5",
   "metadata": {},
   "outputs": [],
   "source": [
    "# 세트에서 요소를 제거, 찾는 요소가 없으면 에러 발생\n",
    "s.remove(20)"
   ]
  },
  {
   "cell_type": "code",
   "execution_count": 183,
   "id": "2ee27d32",
   "metadata": {},
   "outputs": [
    {
     "data": {
      "text/plain": [
       "{10, 30, 40}"
      ]
     },
     "execution_count": 183,
     "metadata": {},
     "output_type": "execute_result"
    }
   ],
   "source": [
    "s"
   ]
  },
  {
   "cell_type": "code",
   "execution_count": 186,
   "id": "d3d57017",
   "metadata": {},
   "outputs": [],
   "source": [
    "# 세트에서 요소를 제거, 찾는 요소가 없더라도 에러 미발생\n",
    "s.discard(30)"
   ]
  },
  {
   "cell_type": "code",
   "execution_count": 187,
   "id": "8e98c92b",
   "metadata": {},
   "outputs": [
    {
     "data": {
      "text/plain": [
       "{10, 40}"
      ]
     },
     "execution_count": 187,
     "metadata": {},
     "output_type": "execute_result"
    }
   ],
   "source": [
    "s"
   ]
  },
  {
   "cell_type": "markdown",
   "id": "7894240e",
   "metadata": {},
   "source": [
    "### 세트에 특정 값이 있는지 확인하기\n",
    "\n",
    "- 표현법 : 값 in 세트\n",
    "    - 특정 값이 없는지 확인 : 값 not in 세트"
   ]
  },
  {
   "cell_type": "code",
   "execution_count": 188,
   "id": "ad616e0d",
   "metadata": {},
   "outputs": [
    {
     "data": {
      "text/plain": [
       "True"
      ]
     },
     "execution_count": 188,
     "metadata": {},
     "output_type": "execute_result"
    }
   ],
   "source": [
    "10 in s"
   ]
  },
  {
   "cell_type": "code",
   "execution_count": 189,
   "id": "e8aa901a",
   "metadata": {},
   "outputs": [
    {
     "data": {
      "text/plain": [
       "False"
      ]
     },
     "execution_count": 189,
     "metadata": {},
     "output_type": "execute_result"
    }
   ],
   "source": [
    "30 in s"
   ]
  },
  {
   "cell_type": "code",
   "execution_count": 190,
   "id": "9f45913d",
   "metadata": {},
   "outputs": [
    {
     "data": {
      "text/plain": [
       "False"
      ]
     },
     "execution_count": 190,
     "metadata": {},
     "output_type": "execute_result"
    }
   ],
   "source": [
    "10 not in s"
   ]
  },
  {
   "cell_type": "code",
   "execution_count": 191,
   "id": "1954a643",
   "metadata": {},
   "outputs": [
    {
     "data": {
      "text/plain": [
       "True"
      ]
     },
     "execution_count": 191,
     "metadata": {},
     "output_type": "execute_result"
    }
   ],
   "source": [
    "30 not in s"
   ]
  },
  {
   "cell_type": "markdown",
   "id": "b9054985",
   "metadata": {},
   "source": [
    "### 집합 연산 사용하기"
   ]
  },
  {
   "cell_type": "code",
   "execution_count": null,
   "id": "bd736ba8",
   "metadata": {},
   "outputs": [],
   "source": []
  },
  {
   "cell_type": "code",
   "execution_count": 193,
   "id": "831ecae8",
   "metadata": {},
   "outputs": [
    {
     "data": {
      "text/plain": [
       "{1, 2, 3, 4, 5, 6}"
      ]
     },
     "execution_count": 193,
     "metadata": {},
     "output_type": "execute_result"
    }
   ],
   "source": [
    "# 합집합  \"|\" 에는 or이라는 의미가 있다\n",
    "\n",
    "a = {1, 2, 3, 4}\n",
    "b = {3, 4, 5, 6}\n",
    "\n",
    "a | b"
   ]
  },
  {
   "cell_type": "code",
   "execution_count": 194,
   "id": "ca3cc212",
   "metadata": {},
   "outputs": [
    {
     "data": {
      "text/plain": [
       "{3, 4}"
      ]
     },
     "execution_count": 194,
     "metadata": {},
     "output_type": "execute_result"
    }
   ],
   "source": [
    "# 교집합\n",
    "\n",
    "a & b"
   ]
  },
  {
   "cell_type": "code",
   "execution_count": 195,
   "id": "ec67230a",
   "metadata": {},
   "outputs": [
    {
     "data": {
      "text/plain": [
       "{1, 2}"
      ]
     },
     "execution_count": 195,
     "metadata": {},
     "output_type": "execute_result"
    }
   ],
   "source": [
    "# 차집합\n",
    "\n",
    "a - b"
   ]
  },
  {
   "cell_type": "markdown",
   "id": "c719d34f",
   "metadata": {},
   "source": [
    "### 딕셔너리\n",
    "\n",
    "- 사전을 의미하며, 사전과 마찬가지로 \"키\"와 \"값\"을 \"단어\"와 \"단어의 의미\"처럼 사용\n",
    "- 표현법 : dict{키1 : 값1, 키2 : 값2, 키3 : 값3 ......)"
   ]
  },
  {
   "cell_type": "code",
   "execution_count": 199,
   "id": "e16579df",
   "metadata": {},
   "outputs": [
    {
     "data": {
      "text/plain": [
       "{'a': 'apple', 'b': 'banana'}"
      ]
     },
     "execution_count": 199,
     "metadata": {},
     "output_type": "execute_result"
    }
   ],
   "source": [
    "# 딕셔너리 생성\n",
    "d = {\"a\" : \"apple\", \"b\" : \"banana\"}\n",
    "d"
   ]
  },
  {
   "cell_type": "code",
   "execution_count": 200,
   "id": "cc06ece4",
   "metadata": {},
   "outputs": [
    {
     "data": {
      "text/plain": [
       "dict"
      ]
     },
     "execution_count": 200,
     "metadata": {},
     "output_type": "execute_result"
    }
   ],
   "source": [
    "type(d)"
   ]
  },
  {
   "cell_type": "code",
   "execution_count": 206,
   "id": "fc8f2642",
   "metadata": {},
   "outputs": [
    {
     "data": {
      "text/plain": [
       "'apple'"
      ]
     },
     "execution_count": 206,
     "metadata": {},
     "output_type": "execute_result"
    }
   ],
   "source": [
    "d[\"a\"]\n",
    "\n",
    "#딕셔너리는 인덱스 대신 키를 사용하는 개념\n",
    "#존재하지 않는 키를 조회하고자 하면 에러 발생"
   ]
  },
  {
   "cell_type": "code",
   "execution_count": 205,
   "id": "e20b4b73",
   "metadata": {},
   "outputs": [
    {
     "data": {
      "text/plain": [
       "'banana'"
      ]
     },
     "execution_count": 205,
     "metadata": {},
     "output_type": "execute_result"
    }
   ],
   "source": [
    "d[\"b\"]"
   ]
  },
  {
   "cell_type": "code",
   "execution_count": 207,
   "id": "51b2c20f",
   "metadata": {},
   "outputs": [
    {
     "data": {
      "text/plain": [
       "{'a': 'apple', 'b': 'banana'}"
      ]
     },
     "execution_count": 207,
     "metadata": {},
     "output_type": "execute_result"
    }
   ],
   "source": [
    "# 딕셔너리를 생성하는 방법\n",
    "d = dict(a = \"apple\", b = \"banana\")\n",
    "d"
   ]
  },
  {
   "cell_type": "markdown",
   "id": "8469bb55",
   "metadata": {},
   "source": [
    "### 딜셔너리 요소의 추가와 삭제"
   ]
  },
  {
   "cell_type": "code",
   "execution_count": 221,
   "id": "53e3d2ee",
   "metadata": {},
   "outputs": [],
   "source": [
    "dic = {\"apple\" : \"사과\"}"
   ]
  },
  {
   "cell_type": "code",
   "execution_count": 222,
   "id": "b8616e75",
   "metadata": {},
   "outputs": [],
   "source": [
    "dic[\"watermelon\"] = \"멜론\""
   ]
  },
  {
   "cell_type": "code",
   "execution_count": 223,
   "id": "49e06dfc",
   "metadata": {},
   "outputs": [
    {
     "data": {
      "text/plain": [
       "{'apple': '사과', 'watermelon': '멜론'}"
      ]
     },
     "execution_count": 223,
     "metadata": {},
     "output_type": "execute_result"
    }
   ],
   "source": [
    "dic"
   ]
  },
  {
   "cell_type": "code",
   "execution_count": 226,
   "id": "66b71c70",
   "metadata": {},
   "outputs": [],
   "source": [
    "# 딕셔너리 요소 수정\n",
    "# 중복을 허용하지 않기 때문에 자동으로 덮어씌우는 개념\n",
    "dic[\"watermelon\"] = \"수박\""
   ]
  },
  {
   "cell_type": "code",
   "execution_count": 225,
   "id": "a40e5938",
   "metadata": {},
   "outputs": [
    {
     "data": {
      "text/plain": [
       "{'apple': '사과', 'watermelon': '수박'}"
      ]
     },
     "execution_count": 225,
     "metadata": {},
     "output_type": "execute_result"
    }
   ],
   "source": [
    "dic"
   ]
  },
  {
   "cell_type": "code",
   "execution_count": 233,
   "id": "b9605334",
   "metadata": {},
   "outputs": [],
   "source": [
    "# 한번에 여러개의 값을 수정하는 명령어\n",
    "# update() : 키의 값 수정, 해당 키가 없으면 키-값 추가\n",
    "# 개념적으로는 기존 딕셔너리에 새로운 딕셔너리의 내용을 추가/수정 하는 개념\n",
    "\n",
    "me = {\"name\" : \"james\"}"
   ]
  },
  {
   "cell_type": "code",
   "execution_count": 234,
   "id": "13772a68",
   "metadata": {},
   "outputs": [
    {
     "data": {
      "text/plain": [
       "{'name': 'james'}"
      ]
     },
     "execution_count": 234,
     "metadata": {},
     "output_type": "execute_result"
    }
   ],
   "source": [
    "me"
   ]
  },
  {
   "cell_type": "code",
   "execution_count": 235,
   "id": "23b815d5",
   "metadata": {},
   "outputs": [],
   "source": [
    "me.update(age = 25) # age를 25로 추가"
   ]
  },
  {
   "cell_type": "code",
   "execution_count": 236,
   "id": "438fe31e",
   "metadata": {},
   "outputs": [
    {
     "data": {
      "text/plain": [
       "{'name': 'james', 'age': 25}"
      ]
     },
     "execution_count": 236,
     "metadata": {},
     "output_type": "execute_result"
    }
   ],
   "source": [
    "me"
   ]
  },
  {
   "cell_type": "code",
   "execution_count": 237,
   "id": "3bf38066",
   "metadata": {},
   "outputs": [],
   "source": [
    "me.update(age = 35, adress = \"seoul\")"
   ]
  },
  {
   "cell_type": "code",
   "execution_count": 238,
   "id": "540c8b03",
   "metadata": {},
   "outputs": [
    {
     "data": {
      "text/plain": [
       "{'name': 'james', 'age': 35, 'adress': 'seoul'}"
      ]
     },
     "execution_count": 238,
     "metadata": {},
     "output_type": "execute_result"
    }
   ],
   "source": [
    "me"
   ]
  },
  {
   "cell_type": "code",
   "execution_count": 239,
   "id": "5199eb5f",
   "metadata": {},
   "outputs": [
    {
     "data": {
      "text/plain": [
       "'seoul'"
      ]
     },
     "execution_count": 239,
     "metadata": {},
     "output_type": "execute_result"
    }
   ],
   "source": [
    "# 딕셔너리 요소 삭제\n",
    "\n",
    "me.pop(\"adress\")"
   ]
  },
  {
   "cell_type": "code",
   "execution_count": 240,
   "id": "5ed827a2",
   "metadata": {},
   "outputs": [
    {
     "data": {
      "text/plain": [
       "{'name': 'james', 'age': 35}"
      ]
     },
     "execution_count": 240,
     "metadata": {},
     "output_type": "execute_result"
    }
   ],
   "source": [
    "me"
   ]
  },
  {
   "cell_type": "markdown",
   "id": "d7060e50",
   "metadata": {},
   "source": [
    "### 딕셔너리에 키가 있는지 확인하기\n",
    "\n",
    "- 표현법 : 키 in 딕셔너리\n",
    "- 해당 연산자를 통해서는 키만 확인 가능하며 값은 다른 방식으로 시도해야 함"
   ]
  },
  {
   "cell_type": "code",
   "execution_count": 242,
   "id": "feb7ab9c",
   "metadata": {},
   "outputs": [
    {
     "data": {
      "text/plain": [
       "True"
      ]
     },
     "execution_count": 242,
     "metadata": {},
     "output_type": "execute_result"
    }
   ],
   "source": [
    "\"name\" in me"
   ]
  },
  {
   "cell_type": "code",
   "execution_count": 243,
   "id": "f964657a",
   "metadata": {},
   "outputs": [
    {
     "data": {
      "text/plain": [
       "False"
      ]
     },
     "execution_count": 243,
     "metadata": {},
     "output_type": "execute_result"
    }
   ],
   "source": [
    "\"james\" in me"
   ]
  },
  {
   "cell_type": "code",
   "execution_count": 244,
   "id": "e3db5ed5",
   "metadata": {},
   "outputs": [
    {
     "data": {
      "text/plain": [
       "False"
      ]
     },
     "execution_count": 244,
     "metadata": {},
     "output_type": "execute_result"
    }
   ],
   "source": [
    "\"adress\" in me"
   ]
  },
  {
   "cell_type": "code",
   "execution_count": null,
   "id": "8f33a79a",
   "metadata": {},
   "outputs": [],
   "source": []
  },
  {
   "cell_type": "code",
   "execution_count": null,
   "id": "81e963d6",
   "metadata": {},
   "outputs": [],
   "source": []
  },
  {
   "cell_type": "code",
   "execution_count": null,
   "id": "baf6b436",
   "metadata": {},
   "outputs": [],
   "source": []
  },
  {
   "cell_type": "code",
   "execution_count": null,
   "id": "d4a1b33e",
   "metadata": {},
   "outputs": [],
   "source": []
  },
  {
   "cell_type": "code",
   "execution_count": null,
   "id": "cb47d292",
   "metadata": {},
   "outputs": [],
   "source": []
  },
  {
   "cell_type": "code",
   "execution_count": null,
   "id": "b73d4919",
   "metadata": {},
   "outputs": [],
   "source": []
  },
  {
   "cell_type": "code",
   "execution_count": null,
   "id": "b855177a",
   "metadata": {},
   "outputs": [],
   "source": []
  },
  {
   "cell_type": "code",
   "execution_count": null,
   "id": "e7c1596d",
   "metadata": {},
   "outputs": [],
   "source": []
  },
  {
   "cell_type": "code",
   "execution_count": null,
   "id": "27bfa85c",
   "metadata": {},
   "outputs": [],
   "source": []
  },
  {
   "cell_type": "code",
   "execution_count": null,
   "id": "2991477b",
   "metadata": {},
   "outputs": [],
   "source": []
  },
  {
   "cell_type": "code",
   "execution_count": null,
   "id": "98677c0c",
   "metadata": {},
   "outputs": [],
   "source": []
  },
  {
   "cell_type": "code",
   "execution_count": null,
   "id": "0a4f537c",
   "metadata": {},
   "outputs": [],
   "source": []
  },
  {
   "cell_type": "code",
   "execution_count": null,
   "id": "9eef46d3",
   "metadata": {},
   "outputs": [],
   "source": []
  },
  {
   "cell_type": "code",
   "execution_count": null,
   "id": "f17027db",
   "metadata": {},
   "outputs": [],
   "source": []
  },
  {
   "cell_type": "code",
   "execution_count": null,
   "id": "4b98ff20",
   "metadata": {},
   "outputs": [],
   "source": []
  },
  {
   "cell_type": "code",
   "execution_count": null,
   "id": "6d64ab14",
   "metadata": {},
   "outputs": [],
   "source": []
  },
  {
   "cell_type": "code",
   "execution_count": null,
   "id": "aa6de792",
   "metadata": {},
   "outputs": [],
   "source": []
  },
  {
   "cell_type": "code",
   "execution_count": null,
   "id": "a8b71146",
   "metadata": {},
   "outputs": [],
   "source": []
  },
  {
   "cell_type": "code",
   "execution_count": null,
   "id": "8f047aa7",
   "metadata": {},
   "outputs": [],
   "source": []
  },
  {
   "cell_type": "code",
   "execution_count": null,
   "id": "93837e29",
   "metadata": {},
   "outputs": [],
   "source": []
  }
 ],
 "metadata": {
  "kernelspec": {
   "display_name": "Python 3 (ipykernel)",
   "language": "python",
   "name": "python3"
  },
  "language_info": {
   "codemirror_mode": {
    "name": "ipython",
    "version": 3
   },
   "file_extension": ".py",
   "mimetype": "text/x-python",
   "name": "python",
   "nbconvert_exporter": "python",
   "pygments_lexer": "ipython3",
   "version": "3.11.5"
  }
 },
 "nbformat": 4,
 "nbformat_minor": 5
}
