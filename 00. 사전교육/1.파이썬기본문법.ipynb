{
 "cells": [
  {
   "cell_type": "code",
   "execution_count": null,
   "id": "905558a8",
   "metadata": {},
   "outputs": [],
   "source": []
  },
  {
   "cell_type": "markdown",
   "id": "5fe1810d",
   "metadata": {},
   "source": [
    "# 주석\n",
    "\n",
    "- 주석의 의의\n",
    "    - 사람만 알아볼 수 있도록 작성하는 부분\n",
    "    - 주석은 파이썬이 실행하지 않고 코드에 영향을 주지 않음\n",
    "    - 일반적으로 코드에 대한 자세한 설명을 작성하거나, 특정 코드를 임시로 사용하지 않도록 처리할 때 사용"
   ]
  },
  {
   "cell_type": "markdown",
   "id": "4800ab4e",
   "metadata": {},
   "source": [
    "## 한 줄 주석"
   ]
  },
  {
   "cell_type": "code",
   "execution_count": 6,
   "id": "3e0fa424",
   "metadata": {},
   "outputs": [
    {
     "name": "stdout",
     "output_type": "stream",
     "text": [
      "Hello World!\n"
     ]
    }
   ],
   "source": [
    "# Hello World! 출력\n",
    "print (\"Hello World!\")"
   ]
  },
  {
   "cell_type": "markdown",
   "id": "ed4e60a6",
   "metadata": {},
   "source": [
    "### 코드 뒤 주석"
   ]
  },
  {
   "cell_type": "code",
   "execution_count": 8,
   "id": "e907b20c",
   "metadata": {},
   "outputs": [
    {
     "name": "stdout",
     "output_type": "stream",
     "text": [
      "Hello World!\n"
     ]
    }
   ],
   "source": [
    "print (\"Hello World!\") # Hello, World! 출력"
   ]
  },
  {
   "cell_type": "markdown",
   "id": "e22d158d",
   "metadata": {},
   "source": [
    "## 블록 주석"
   ]
  },
  {
   "cell_type": "code",
   "execution_count": 16,
   "id": "387a8b81",
   "metadata": {},
   "outputs": [
    {
     "name": "stdout",
     "output_type": "stream",
     "text": [
      "Hello World\n",
      "123456\n"
     ]
    }
   ],
   "source": [
    "# Ctrl + / 로 여러줄 주석\n",
    "print (\"Hello World\")\n",
    "print (\"123456\")"
   ]
  },
  {
   "cell_type": "markdown",
   "id": "d0bc5fb1",
   "metadata": {},
   "source": [
    "# 변수\n",
    "\n",
    "- 데이터를 저장하고 나중에 재사용하기 위해서 사용\n",
    "\n",
    "- 표현법\n",
    "    - 변수이름 = 값\n",
    "    \n",
    "- 변수명 규칙\n",
    "    - 반드시 문자로 시작해야함\n",
    "    - 언더바(_)로는 시작할 수 있음\n",
    "    - 영문 문자와 숫자를 사용할 수 있음\n",
    "    - 대소문자를 구분\n",
    "    - 특수문자는 사용 불가\n",
    "    - 파이썬 키워드(if, for, while, and, or 등)은 사용할 수 없음"
   ]
  },
  {
   "cell_type": "code",
   "execution_count": 22,
   "id": "91a3487d",
   "metadata": {},
   "outputs": [],
   "source": [
    "# 변수 생성\n",
    "name = \"Alice\" # 한 줄 문자열\n",
    "age = 25 # 정수형 데이터\n",
    "address = '''우편번호 12345\n",
    "서울 마포구''' # 여러 줄 문자열\n",
    "boyfriend = None # 아무 값도 아님 (없다는 의미 아님. 물어본 적이 없는 상황)\n",
    "height = 168.5 # 실수형 데이터"
   ]
  },
  {
   "cell_type": "code",
   "execution_count": 23,
   "id": "4e8c4c28",
   "metadata": {},
   "outputs": [
    {
     "name": "stdout",
     "output_type": "stream",
     "text": [
      "Alice\n",
      "25\n",
      "우편번호 12345\n",
      "서울 마포구\n",
      "None\n",
      "168.5\n"
     ]
    }
   ],
   "source": [
    "print(name)\n",
    "print(age)\n",
    "print(address)\n",
    "print(boyfriend)\n",
    "print(height)"
   ]
  },
  {
   "cell_type": "markdown",
   "id": "6b95c1d6",
   "metadata": {},
   "source": [
    "## 변수 여러 개를 한 번에 만들기"
   ]
  },
  {
   "cell_type": "code",
   "execution_count": 35,
   "id": "aa0937e3",
   "metadata": {},
   "outputs": [],
   "source": [
    "x, y, z = 10, 20, 30"
   ]
  },
  {
   "cell_type": "code",
   "execution_count": 36,
   "id": "3b509af7",
   "metadata": {},
   "outputs": [
    {
     "name": "stdout",
     "output_type": "stream",
     "text": [
      "10\n",
      "20\n",
      "30\n",
      "60\n"
     ]
    }
   ],
   "source": [
    "print(x)\n",
    "print(y)\n",
    "print(z)\n",
    "print(x+y+z)"
   ]
  },
  {
   "cell_type": "code",
   "execution_count": 37,
   "id": "62a256d0",
   "metadata": {},
   "outputs": [],
   "source": [
    "x=y=z=10"
   ]
  },
  {
   "cell_type": "code",
   "execution_count": 38,
   "id": "c2828260",
   "metadata": {},
   "outputs": [
    {
     "name": "stdout",
     "output_type": "stream",
     "text": [
      "10\n",
      "10\n",
      "10\n"
     ]
    }
   ],
   "source": [
    "print(x)\n",
    "print(y)\n",
    "print(z)"
   ]
  },
  {
   "cell_type": "markdown",
   "id": "eba705e1",
   "metadata": {},
   "source": [
    "## 사칙연산"
   ]
  },
  {
   "cell_type": "code",
   "execution_count": 43,
   "id": "40b12a2d",
   "metadata": {},
   "outputs": [
    {
     "name": "stdout",
     "output_type": "stream",
     "text": [
      "2\n",
      "-1\n",
      "4\n",
      "2.5\n"
     ]
    }
   ],
   "source": [
    "# 덧셈\n",
    "print(1 + 1)\n",
    "\n",
    "# 뺄셈\n",
    "print(1 - 2)\n",
    "\n",
    "# 곱셈\n",
    "print(2 * 2)\n",
    "\n",
    "# 나눗셈\n",
    "print(5 / 2)"
   ]
  },
  {
   "cell_type": "code",
   "execution_count": 44,
   "id": "3ec3573d",
   "metadata": {},
   "outputs": [
    {
     "name": "stdout",
     "output_type": "stream",
     "text": [
      "2\n"
     ]
    }
   ],
   "source": [
    "# 나눗셈의 몫\n",
    "print(5 // 2)"
   ]
  },
  {
   "cell_type": "code",
   "execution_count": 45,
   "id": "24e43e9b",
   "metadata": {},
   "outputs": [
    {
     "name": "stdout",
     "output_type": "stream",
     "text": [
      "1\n"
     ]
    }
   ],
   "source": [
    "# 나눗셈의 나머지\n",
    "print(5 % 2)"
   ]
  },
  {
   "cell_type": "code",
   "execution_count": 48,
   "id": "52f738e2",
   "metadata": {},
   "outputs": [
    {
     "name": "stdout",
     "output_type": "stream",
     "text": [
      "1024\n"
     ]
    }
   ],
   "source": [
    "# 거듭제곱\n",
    "print(2**10)"
   ]
  },
  {
   "cell_type": "markdown",
   "id": "0df53c62",
   "metadata": {},
   "source": [
    "## 변수 계산"
   ]
  },
  {
   "cell_type": "code",
   "execution_count": 50,
   "id": "259f7d22",
   "metadata": {},
   "outputs": [],
   "source": [
    "a = 10\n",
    "b = 20"
   ]
  },
  {
   "cell_type": "code",
   "execution_count": 51,
   "id": "875e7e62",
   "metadata": {},
   "outputs": [
    {
     "name": "stdout",
     "output_type": "stream",
     "text": [
      "30\n"
     ]
    }
   ],
   "source": [
    "print(a + b)"
   ]
  },
  {
   "cell_type": "code",
   "execution_count": 61,
   "id": "76bd4552",
   "metadata": {},
   "outputs": [
    {
     "name": "stdout",
     "output_type": "stream",
     "text": [
      "50\n",
      "30 20 50\n"
     ]
    }
   ],
   "source": [
    "c = a + b\n",
    "print(c)\n",
    "print(a,b,c)"
   ]
  },
  {
   "cell_type": "markdown",
   "id": "6fa869bb",
   "metadata": {},
   "source": [
    "## 연산 후 할당"
   ]
  },
  {
   "cell_type": "code",
   "execution_count": 57,
   "id": "e9dcb7ca",
   "metadata": {},
   "outputs": [
    {
     "name": "stdout",
     "output_type": "stream",
     "text": [
      "30\n",
      "10\n"
     ]
    }
   ],
   "source": [
    "# 할당 연산자를 사용하지 않으면 계산 결과를 유지하지 않음\n",
    "a = 10\n",
    "print(a+20)\n",
    "print(a)"
   ]
  },
  {
   "cell_type": "code",
   "execution_count": 58,
   "id": "2030aa1e",
   "metadata": {},
   "outputs": [
    {
     "name": "stdout",
     "output_type": "stream",
     "text": [
      "30\n"
     ]
    }
   ],
   "source": [
    "# 연산 후 할당\n",
    "a = a + 20\n",
    "print(a)"
   ]
  },
  {
   "cell_type": "code",
   "execution_count": 60,
   "id": "63d1d96c",
   "metadata": {},
   "outputs": [
    {
     "name": "stdout",
     "output_type": "stream",
     "text": [
      "30\n"
     ]
    }
   ],
   "source": [
    "# 연산 후 할당은 += 로도 표현 가능\n",
    "a = 10\n",
    "a += 20 # a = a + 20 과 같은 코드\n",
    "print(a)"
   ]
  },
  {
   "cell_type": "code",
   "execution_count": null,
   "id": "f6855a99",
   "metadata": {},
   "outputs": [],
   "source": []
  },
  {
   "cell_type": "code",
   "execution_count": null,
   "id": "3a0d1031",
   "metadata": {},
   "outputs": [],
   "source": []
  },
  {
   "cell_type": "code",
   "execution_count": null,
   "id": "72b46d43",
   "metadata": {},
   "outputs": [],
   "source": []
  },
  {
   "cell_type": "code",
   "execution_count": null,
   "id": "5520ad09",
   "metadata": {},
   "outputs": [],
   "source": []
  },
  {
   "cell_type": "code",
   "execution_count": null,
   "id": "fd6bb498",
   "metadata": {},
   "outputs": [],
   "source": []
  },
  {
   "cell_type": "code",
   "execution_count": null,
   "id": "3b7ee540",
   "metadata": {},
   "outputs": [],
   "source": []
  },
  {
   "cell_type": "code",
   "execution_count": null,
   "id": "5bd65a4b",
   "metadata": {},
   "outputs": [],
   "source": []
  },
  {
   "cell_type": "code",
   "execution_count": null,
   "id": "5bff53d4",
   "metadata": {},
   "outputs": [],
   "source": []
  },
  {
   "cell_type": "code",
   "execution_count": null,
   "id": "32f2dd23",
   "metadata": {},
   "outputs": [],
   "source": []
  },
  {
   "cell_type": "code",
   "execution_count": null,
   "id": "8061fe55",
   "metadata": {},
   "outputs": [],
   "source": []
  },
  {
   "cell_type": "code",
   "execution_count": null,
   "id": "d7f9a0a2",
   "metadata": {},
   "outputs": [],
   "source": []
  },
  {
   "cell_type": "code",
   "execution_count": null,
   "id": "cddc3e9c",
   "metadata": {},
   "outputs": [],
   "source": []
  },
  {
   "cell_type": "code",
   "execution_count": null,
   "id": "d3a11922",
   "metadata": {},
   "outputs": [],
   "source": []
  }
 ],
 "metadata": {
  "kernelspec": {
   "display_name": "Python 3 (ipykernel)",
   "language": "python",
   "name": "python3"
  },
  "language_info": {
   "codemirror_mode": {
    "name": "ipython",
    "version": 3
   },
   "file_extension": ".py",
   "mimetype": "text/x-python",
   "name": "python",
   "nbconvert_exporter": "python",
   "pygments_lexer": "ipython3",
   "version": "3.11.5"
  }
 },
 "nbformat": 4,
 "nbformat_minor": 5
}
