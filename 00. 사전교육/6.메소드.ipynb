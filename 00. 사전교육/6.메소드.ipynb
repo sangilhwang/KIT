{
 "cells": [
  {
   "cell_type": "markdown",
   "id": "0ab0b864",
   "metadata": {},
   "source": [
    "# 메소드\n",
    "\n",
    "- 특정 객체가 가지고 있는 함수\n",
    "    - 특정 자료형에 포함된 함수\n",
    "    \n",
    "- 일반 함수와의 차이점은 호출 방식\n",
    "    - 함수는 독립적, 메소드는 특정 객체를 통해서만 호출"
   ]
  },
  {
   "cell_type": "code",
   "execution_count": 2,
   "id": "2858e0e0",
   "metadata": {},
   "outputs": [
    {
     "name": "stdout",
     "output_type": "stream",
     "text": [
      "이름은 James 입니다.\n"
     ]
    }
   ],
   "source": [
    "# print() 함수\n",
    "\n",
    "name = \"James\"\n",
    "print(\"이름은\", name, \"입니다.\")"
   ]
  },
  {
   "cell_type": "code",
   "execution_count": 3,
   "id": "00f42ba0",
   "metadata": {},
   "outputs": [],
   "source": [
    "# append(), pop() 메소드\n",
    "my_list = []\n",
    "my_list.append(\"apple\")"
   ]
  },
  {
   "cell_type": "code",
   "execution_count": 4,
   "id": "55474c20",
   "metadata": {},
   "outputs": [
    {
     "data": {
      "text/plain": [
       "['apple']"
      ]
     },
     "execution_count": 4,
     "metadata": {},
     "output_type": "execute_result"
    }
   ],
   "source": [
    "my_list"
   ]
  },
  {
   "cell_type": "code",
   "execution_count": 5,
   "id": "f1770a03",
   "metadata": {},
   "outputs": [
    {
     "data": {
      "text/plain": [
       "'apple'"
      ]
     },
     "execution_count": 5,
     "metadata": {},
     "output_type": "execute_result"
    }
   ],
   "source": [
    "my_list.pop()"
   ]
  },
  {
   "cell_type": "code",
   "execution_count": 6,
   "id": "2f94a16c",
   "metadata": {},
   "outputs": [
    {
     "data": {
      "text/plain": [
       "[]"
      ]
     },
     "execution_count": 6,
     "metadata": {},
     "output_type": "execute_result"
    }
   ],
   "source": [
    "my_list"
   ]
  },
  {
   "cell_type": "markdown",
   "id": "765023d9",
   "metadata": {},
   "source": [
    "## 문자열 메소드"
   ]
  },
  {
   "cell_type": "markdown",
   "id": "d3c43775",
   "metadata": {},
   "source": [
    "### 1. count()\n",
    "\n",
    "- 문자열 내부에 포함된 특정 문자열의 개수를 반환"
   ]
  },
  {
   "cell_type": "code",
   "execution_count": 7,
   "id": "a82535b8",
   "metadata": {},
   "outputs": [],
   "source": [
    "s = \"내가 그린 기린 그림은 목 긴 기린 그림이고, 네가 그린 기린 그림은 목 짧은 기린 그림이다.\""
   ]
  },
  {
   "cell_type": "code",
   "execution_count": 13,
   "id": "c8c2810b",
   "metadata": {},
   "outputs": [
    {
     "data": {
      "text/plain": [
       "4"
      ]
     },
     "execution_count": 13,
     "metadata": {},
     "output_type": "execute_result"
    }
   ],
   "source": [
    "s.count(\"기린\")"
   ]
  },
  {
   "cell_type": "code",
   "execution_count": 17,
   "id": "01f35931",
   "metadata": {},
   "outputs": [
    {
     "data": {
      "text/plain": [
       "1"
      ]
     },
     "execution_count": 17,
     "metadata": {},
     "output_type": "execute_result"
    }
   ],
   "source": [
    "s = \"best of best\"\n",
    "s.count(\"best\", 5) #검색을 시작할 인덱스를 입력할 수 있음"
   ]
  },
  {
   "cell_type": "code",
   "execution_count": 19,
   "id": "2a9907cd",
   "metadata": {},
   "outputs": [
    {
     "data": {
      "text/plain": [
       "1"
      ]
     },
     "execution_count": 19,
     "metadata": {},
     "output_type": "execute_result"
    }
   ],
   "source": [
    "s.count(\"best\", -7) # -인덱스도 사용 가능"
   ]
  },
  {
   "cell_type": "markdown",
   "id": "25a931d1",
   "metadata": {},
   "source": [
    "### 2. find()\n",
    "\n",
    "- 문자열 내부에 포함된 특정 문자열을 찾을 때 사용\n",
    "- 찾는 문자열이 있으면 그 문자열이 처음으로 나온 인덱스를 반환\n",
    "- 찾는 문자열이 없을 경우에는 -1을 반환"
   ]
  },
  {
   "cell_type": "code",
   "execution_count": 20,
   "id": "27c6dd72",
   "metadata": {},
   "outputs": [
    {
     "data": {
      "text/plain": [
       "1"
      ]
     },
     "execution_count": 20,
     "metadata": {},
     "output_type": "execute_result"
    }
   ],
   "source": [
    "s = \"apple\"\n",
    "s.find(\"p\")"
   ]
  },
  {
   "cell_type": "code",
   "execution_count": 23,
   "id": "e5912b7e",
   "metadata": {},
   "outputs": [
    {
     "data": {
      "text/plain": [
       "-1"
      ]
     },
     "execution_count": 23,
     "metadata": {},
     "output_type": "execute_result"
    }
   ],
   "source": [
    "s.find(\"z\") # 포함되지 않은 문자열 탐색"
   ]
  },
  {
   "cell_type": "code",
   "execution_count": 24,
   "id": "f8ae4a28",
   "metadata": {},
   "outputs": [
    {
     "data": {
      "text/plain": [
       "0"
      ]
     },
     "execution_count": 24,
     "metadata": {},
     "output_type": "execute_result"
    }
   ],
   "source": [
    "s = \"best of best\"\n",
    "s.find(\"best\")"
   ]
  },
  {
   "cell_type": "code",
   "execution_count": 26,
   "id": "80f49e36",
   "metadata": {},
   "outputs": [
    {
     "data": {
      "text/plain": [
       "8"
      ]
     },
     "execution_count": 26,
     "metadata": {},
     "output_type": "execute_result"
    }
   ],
   "source": [
    "s.find(\"best\", 5) #검색을 시작할 인덱스를 입력할 수 있음"
   ]
  },
  {
   "cell_type": "code",
   "execution_count": 27,
   "id": "e0506018",
   "metadata": {},
   "outputs": [
    {
     "data": {
      "text/plain": [
       "8"
      ]
     },
     "execution_count": 27,
     "metadata": {},
     "output_type": "execute_result"
    }
   ],
   "source": [
    "s.rfind(\"best\")"
   ]
  },
  {
   "cell_type": "markdown",
   "id": "c79f0066",
   "metadata": {},
   "source": [
    "### 3. index()\n",
    "\n",
    "- find() 메소드와 같은 역할을 수행\n",
    "    - 차이점 : 찾는 문자열이 없는 경우 오류가 발생"
   ]
  },
  {
   "cell_type": "code",
   "execution_count": 30,
   "id": "2b9380e0",
   "metadata": {},
   "outputs": [
    {
     "data": {
      "text/plain": [
       "1"
      ]
     },
     "execution_count": 30,
     "metadata": {},
     "output_type": "execute_result"
    }
   ],
   "source": [
    "s = \"apple\"\n",
    "s.index(\"p\")"
   ]
  },
  {
   "cell_type": "code",
   "execution_count": 32,
   "id": "4ac89b6b",
   "metadata": {},
   "outputs": [
    {
     "ename": "ValueError",
     "evalue": "substring not found",
     "output_type": "error",
     "traceback": [
      "\u001b[1;31m---------------------------------------------------------------------------\u001b[0m",
      "\u001b[1;31mValueError\u001b[0m                                Traceback (most recent call last)",
      "Cell \u001b[1;32mIn[32], line 1\u001b[0m\n\u001b[1;32m----> 1\u001b[0m s\u001b[38;5;241m.\u001b[39mindex(\u001b[38;5;124m\"\u001b[39m\u001b[38;5;124mz\u001b[39m\u001b[38;5;124m\"\u001b[39m)\n",
      "\u001b[1;31mValueError\u001b[0m: substring not found"
     ]
    }
   ],
   "source": [
    "s.index(\"z\")"
   ]
  },
  {
   "cell_type": "markdown",
   "id": "0e54a67d",
   "metadata": {},
   "source": [
    "### 4. 대소문자 변환\n",
    "\n",
    "- upper() : 모두 대문자로 변환\n",
    "- lower() : 모두 소문자로 변환\n",
    "- capitalize() : 첫 글자는 대문자로 변환, 이후 글자는 소문자로 변환"
   ]
  },
  {
   "cell_type": "code",
   "execution_count": 39,
   "id": "1d3fba10",
   "metadata": {},
   "outputs": [],
   "source": [
    "s = \"BEST of best\""
   ]
  },
  {
   "cell_type": "code",
   "execution_count": 40,
   "id": "ae17abc3",
   "metadata": {},
   "outputs": [
    {
     "data": {
      "text/plain": [
       "'BEST OF BEST'"
      ]
     },
     "execution_count": 40,
     "metadata": {},
     "output_type": "execute_result"
    }
   ],
   "source": [
    "s.upper()"
   ]
  },
  {
   "cell_type": "code",
   "execution_count": 41,
   "id": "e9fc31fb",
   "metadata": {},
   "outputs": [
    {
     "data": {
      "text/plain": [
       "'best of best'"
      ]
     },
     "execution_count": 41,
     "metadata": {},
     "output_type": "execute_result"
    }
   ],
   "source": [
    "s.lower()"
   ]
  },
  {
   "cell_type": "code",
   "execution_count": 42,
   "id": "c7051d89",
   "metadata": {},
   "outputs": [
    {
     "data": {
      "text/plain": [
       "'Best of best'"
      ]
     },
     "execution_count": 42,
     "metadata": {},
     "output_type": "execute_result"
    }
   ],
   "source": [
    "s.capitalize()"
   ]
  },
  {
   "cell_type": "markdown",
   "id": "17603c87",
   "metadata": {},
   "source": [
    "### 5. join()\n",
    "\n",
    "- 반복가능객체의 각 요소 사이에 특정 문자열을 포함시킴"
   ]
  },
  {
   "cell_type": "code",
   "execution_count": 43,
   "id": "8b5c91df",
   "metadata": {},
   "outputs": [
    {
     "data": {
      "text/plain": [
       "'p-y-t-h-o-n'"
      ]
     },
     "execution_count": 43,
     "metadata": {},
     "output_type": "execute_result"
    }
   ],
   "source": [
    "\"-\".join(\"python\")"
   ]
  },
  {
   "cell_type": "code",
   "execution_count": 44,
   "id": "806f9478",
   "metadata": {},
   "outputs": [
    {
     "data": {
      "text/plain": [
       "'a+b+c+d+e'"
      ]
     },
     "execution_count": 44,
     "metadata": {},
     "output_type": "execute_result"
    }
   ],
   "source": [
    "\"+\".join([\"a\", \"b\", \"c\", \"d\", \"e\"])"
   ]
  },
  {
   "cell_type": "code",
   "execution_count": 46,
   "id": "f0abe441",
   "metadata": {},
   "outputs": [
    {
     "data": {
      "text/plain": [
       "'xyz'"
      ]
     },
     "execution_count": 46,
     "metadata": {},
     "output_type": "execute_result"
    }
   ],
   "source": [
    "\"\".join([\"x\", \"y\", \"z\"])"
   ]
  },
  {
   "cell_type": "code",
   "execution_count": 49,
   "id": "fe38626f",
   "metadata": {},
   "outputs": [
    {
     "data": {
      "text/plain": [
       "'ab'"
      ]
     },
     "execution_count": 49,
     "metadata": {},
     "output_type": "execute_result"
    }
   ],
   "source": [
    "\"\".join({\"a\" : \"apple\", \"b\" : \"banana\"})\n",
    "# 딕셔너리에 해당 메소드를 사용할 경우 키에만 적용된다."
   ]
  },
  {
   "cell_type": "markdown",
   "id": "61265eac",
   "metadata": {},
   "source": [
    "### 6. split()\n",
    "\n",
    "- 하나의 문자열을 여러 개의 문자열로 분리해서 리스트로 반환\n",
    "- 기본은 공백 문자를 기준으로 분리"
   ]
  },
  {
   "cell_type": "code",
   "execution_count": 51,
   "id": "129e5053",
   "metadata": {},
   "outputs": [
    {
     "data": {
      "text/plain": [
       "['Life', 'is', 'too', 'short']"
      ]
     },
     "execution_count": 51,
     "metadata": {},
     "output_type": "execute_result"
    }
   ],
   "source": [
    "s = \"Life is too short\"\n",
    "s.split()"
   ]
  },
  {
   "cell_type": "code",
   "execution_count": 52,
   "id": "6cbf7b13",
   "metadata": {},
   "outputs": [
    {
     "data": {
      "text/plain": [
       "['010', '1234', '5678']"
      ]
     },
     "execution_count": 52,
     "metadata": {},
     "output_type": "execute_result"
    }
   ],
   "source": [
    "s = \"010-1234-5678\"\n",
    "s.split(\"-\")"
   ]
  },
  {
   "cell_type": "code",
   "execution_count": null,
   "id": "90d3c719",
   "metadata": {},
   "outputs": [],
   "source": []
  },
  {
   "cell_type": "code",
   "execution_count": null,
   "id": "de4782b4",
   "metadata": {},
   "outputs": [],
   "source": []
  },
  {
   "cell_type": "code",
   "execution_count": null,
   "id": "22385ba8",
   "metadata": {},
   "outputs": [],
   "source": []
  },
  {
   "cell_type": "code",
   "execution_count": null,
   "id": "fcd6872b",
   "metadata": {},
   "outputs": [],
   "source": []
  },
  {
   "cell_type": "code",
   "execution_count": null,
   "id": "11fbd3cd",
   "metadata": {},
   "outputs": [],
   "source": []
  }
 ],
 "metadata": {
  "kernelspec": {
   "display_name": "Python 3 (ipykernel)",
   "language": "python",
   "name": "python3"
  },
  "language_info": {
   "codemirror_mode": {
    "name": "ipython",
    "version": 3
   },
   "file_extension": ".py",
   "mimetype": "text/x-python",
   "name": "python",
   "nbconvert_exporter": "python",
   "pygments_lexer": "ipython3",
   "version": "3.11.5"
  }
 },
 "nbformat": 4,
 "nbformat_minor": 5
}
